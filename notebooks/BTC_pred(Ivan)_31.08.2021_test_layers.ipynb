{
 "cells": [
  {
   "cell_type": "markdown",
   "metadata": {
    "id": "7Ah1snjrTOaO"
   },
   "source": [
    "# Recurrent Neural Networks\n",
    "---\n",
    "# Predicting Stock Prices through an LSTM model"
   ]
  },
  {
   "cell_type": "code",
   "execution_count": 1,
   "metadata": {
    "executionInfo": {
     "elapsed": 450,
     "status": "ok",
     "timestamp": 1629966198358,
     "user": {
      "displayName": "Ivan Fernandes",
      "photoUrl": "https://lh3.googleusercontent.com/a-/AOh14GgHdj66drQjCguTVvVzCd5yy8cdMluPJPZlz_BQLg=s64",
      "userId": "12100132160237129013"
     },
     "user_tz": -120
    },
    "id": "qnAL4n0hTOaX"
   },
   "outputs": [
    {
     "name": "stderr",
     "output_type": "stream",
     "text": [
      "2021-09-02 13:21:22.031428: W tensorflow/stream_executor/platform/default/dso_loader.cc:64] Could not load dynamic library 'libcudart.so.11.0'; dlerror: libcudart.so.11.0: cannot open shared object file: No such file or directory\n",
      "2021-09-02 13:21:22.031471: I tensorflow/stream_executor/cuda/cudart_stub.cc:29] Ignore above cudart dlerror if you do not have a GPU set up on your machine.\n"
     ]
    }
   ],
   "source": [
    "import tensorflow as tf\n",
    "\n",
    "''' Linear Algebra '''\n",
    "import pandas as pd\n",
    "import numpy as np\n",
    "pd.set_option(\"max_columns\",None)\n",
    "\n",
    "'''Data visualization'''\n",
    "import matplotlib.pyplot as plt\n",
    "import seaborn as sns\n",
    "sns.set_style('whitegrid')\n",
    "plt.style.use(\"fivethirtyeight\")\n",
    "''' Hnadling timestamps'''\n",
    "import datetime\n",
    "from datetime import datetime"
   ]
  },
  {
   "cell_type": "code",
   "execution_count": 2,
   "metadata": {
    "executionInfo": {
     "elapsed": 788,
     "status": "ok",
     "timestamp": 1629966215382,
     "user": {
      "displayName": "Ivan Fernandes",
      "photoUrl": "https://lh3.googleusercontent.com/a-/AOh14GgHdj66drQjCguTVvVzCd5yy8cdMluPJPZlz_BQLg=s64",
      "userId": "12100132160237129013"
     },
     "user_tz": -120
    },
    "id": "LrKv6T1kTOaa"
   },
   "outputs": [],
   "source": [
    "# tech stocks\n",
    "coin = ['BTC']"
   ]
  },
  {
   "cell_type": "code",
   "execution_count": 3,
   "metadata": {
    "executionInfo": {
     "elapsed": 3,
     "status": "ok",
     "timestamp": 1629966215702,
     "user": {
      "displayName": "Ivan Fernandes",
      "photoUrl": "https://lh3.googleusercontent.com/a-/AOh14GgHdj66drQjCguTVvVzCd5yy8cdMluPJPZlz_BQLg=s64",
      "userId": "12100132160237129013"
     },
     "user_tz": -120
    },
    "id": "C0S7d3wITOaa"
   },
   "outputs": [],
   "source": [
    "end = datetime.now()\n",
    "start = datetime(2012, 1, 1)"
   ]
  },
  {
   "cell_type": "code",
   "execution_count": 4,
   "metadata": {
    "colab": {
     "base_uri": "https://localhost:8080/"
    },
    "executionInfo": {
     "elapsed": 351,
     "status": "ok",
     "timestamp": 1629966293996,
     "user": {
      "displayName": "Ivan Fernandes",
      "photoUrl": "https://lh3.googleusercontent.com/a-/AOh14GgHdj66drQjCguTVvVzCd5yy8cdMluPJPZlz_BQLg=s64",
      "userId": "12100132160237129013"
     },
     "user_tz": -120
    },
    "id": "yycPaAz_a6Sy",
    "outputId": "bc68dbc7-c65e-453c-f4a0-991e24e1ee68",
    "scrolled": true
   },
   "outputs": [
    {
     "data": {
      "text/html": [
       "<div>\n",
       "<style scoped>\n",
       "    .dataframe tbody tr th:only-of-type {\n",
       "        vertical-align: middle;\n",
       "    }\n",
       "\n",
       "    .dataframe tbody tr th {\n",
       "        vertical-align: top;\n",
       "    }\n",
       "\n",
       "    .dataframe thead th {\n",
       "        text-align: right;\n",
       "    }\n",
       "</style>\n",
       "<table border=\"1\" class=\"dataframe\">\n",
       "  <thead>\n",
       "    <tr style=\"text-align: right;\">\n",
       "      <th></th>\n",
       "      <th>date</th>\n",
       "      <th>open</th>\n",
       "      <th>high</th>\n",
       "      <th>low</th>\n",
       "      <th>close</th>\n",
       "      <th>volume</th>\n",
       "      <th>log_open</th>\n",
       "      <th>log_high</th>\n",
       "      <th>log_low</th>\n",
       "      <th>log_close</th>\n",
       "    </tr>\n",
       "  </thead>\n",
       "  <tbody>\n",
       "    <tr>\n",
       "      <th>0</th>\n",
       "      <td>2015-10-08 16:00:00</td>\n",
       "      <td>244.92</td>\n",
       "      <td>244.99</td>\n",
       "      <td>244.00</td>\n",
       "      <td>244.00</td>\n",
       "      <td>3.259453</td>\n",
       "      <td>5.500932</td>\n",
       "      <td>5.501217</td>\n",
       "      <td>5.497168</td>\n",
       "      <td>5.497168</td>\n",
       "    </tr>\n",
       "    <tr>\n",
       "      <th>1</th>\n",
       "      <td>2015-10-08 20:00:00</td>\n",
       "      <td>244.00</td>\n",
       "      <td>244.00</td>\n",
       "      <td>243.60</td>\n",
       "      <td>243.95</td>\n",
       "      <td>2.659915</td>\n",
       "      <td>5.497168</td>\n",
       "      <td>5.497168</td>\n",
       "      <td>5.495528</td>\n",
       "      <td>5.496963</td>\n",
       "    </tr>\n",
       "    <tr>\n",
       "      <th>2</th>\n",
       "      <td>2015-10-09 00:00:00</td>\n",
       "      <td>243.95</td>\n",
       "      <td>243.95</td>\n",
       "      <td>243.60</td>\n",
       "      <td>243.60</td>\n",
       "      <td>0.750000</td>\n",
       "      <td>5.496963</td>\n",
       "      <td>5.496963</td>\n",
       "      <td>5.495528</td>\n",
       "      <td>5.495528</td>\n",
       "    </tr>\n",
       "    <tr>\n",
       "      <th>3</th>\n",
       "      <td>2015-10-09 04:00:00</td>\n",
       "      <td>243.60</td>\n",
       "      <td>243.60</td>\n",
       "      <td>243.60</td>\n",
       "      <td>243.60</td>\n",
       "      <td>0.000000</td>\n",
       "      <td>5.495528</td>\n",
       "      <td>5.495528</td>\n",
       "      <td>5.495528</td>\n",
       "      <td>5.495528</td>\n",
       "    </tr>\n",
       "    <tr>\n",
       "      <th>4</th>\n",
       "      <td>2015-10-09 08:00:00</td>\n",
       "      <td>243.60</td>\n",
       "      <td>243.75</td>\n",
       "      <td>243.60</td>\n",
       "      <td>243.63</td>\n",
       "      <td>0.250000</td>\n",
       "      <td>5.495528</td>\n",
       "      <td>5.496143</td>\n",
       "      <td>5.495528</td>\n",
       "      <td>5.495651</td>\n",
       "    </tr>\n",
       "    <tr>\n",
       "      <th>...</th>\n",
       "      <td>...</td>\n",
       "      <td>...</td>\n",
       "      <td>...</td>\n",
       "      <td>...</td>\n",
       "      <td>...</td>\n",
       "      <td>...</td>\n",
       "      <td>...</td>\n",
       "      <td>...</td>\n",
       "      <td>...</td>\n",
       "      <td>...</td>\n",
       "    </tr>\n",
       "    <tr>\n",
       "      <th>12807</th>\n",
       "      <td>2021-08-12 04:00:00</td>\n",
       "      <td>45948.06</td>\n",
       "      <td>46023.08</td>\n",
       "      <td>44859.80</td>\n",
       "      <td>45289.65</td>\n",
       "      <td>89.766358</td>\n",
       "      <td>10.735267</td>\n",
       "      <td>10.736898</td>\n",
       "      <td>10.711297</td>\n",
       "      <td>10.720834</td>\n",
       "    </tr>\n",
       "    <tr>\n",
       "      <th>12808</th>\n",
       "      <td>2021-08-12 08:00:00</td>\n",
       "      <td>45289.65</td>\n",
       "      <td>45663.34</td>\n",
       "      <td>44670.18</td>\n",
       "      <td>44758.93</td>\n",
       "      <td>69.830994</td>\n",
       "      <td>10.720834</td>\n",
       "      <td>10.729051</td>\n",
       "      <td>10.707061</td>\n",
       "      <td>10.709046</td>\n",
       "    </tr>\n",
       "    <tr>\n",
       "      <th>12809</th>\n",
       "      <td>2021-08-12 12:00:00</td>\n",
       "      <td>44758.93</td>\n",
       "      <td>44956.97</td>\n",
       "      <td>43923.00</td>\n",
       "      <td>44204.11</td>\n",
       "      <td>114.602881</td>\n",
       "      <td>10.709046</td>\n",
       "      <td>10.713461</td>\n",
       "      <td>10.690193</td>\n",
       "      <td>10.696573</td>\n",
       "    </tr>\n",
       "    <tr>\n",
       "      <th>12810</th>\n",
       "      <td>2021-08-12 16:00:00</td>\n",
       "      <td>44204.11</td>\n",
       "      <td>44528.82</td>\n",
       "      <td>43800.00</td>\n",
       "      <td>44407.09</td>\n",
       "      <td>84.168365</td>\n",
       "      <td>10.696573</td>\n",
       "      <td>10.703892</td>\n",
       "      <td>10.687389</td>\n",
       "      <td>10.701154</td>\n",
       "    </tr>\n",
       "    <tr>\n",
       "      <th>12811</th>\n",
       "      <td>2021-08-12 20:00:00</td>\n",
       "      <td>44407.09</td>\n",
       "      <td>44578.23</td>\n",
       "      <td>43895.31</td>\n",
       "      <td>44430.99</td>\n",
       "      <td>61.694263</td>\n",
       "      <td>10.701154</td>\n",
       "      <td>10.705001</td>\n",
       "      <td>10.689563</td>\n",
       "      <td>10.701692</td>\n",
       "    </tr>\n",
       "  </tbody>\n",
       "</table>\n",
       "<p>12812 rows × 10 columns</p>\n",
       "</div>"
      ],
      "text/plain": [
       "                      date      open      high       low     close  \\\n",
       "0      2015-10-08 16:00:00    244.92    244.99    244.00    244.00   \n",
       "1      2015-10-08 20:00:00    244.00    244.00    243.60    243.95   \n",
       "2      2015-10-09 00:00:00    243.95    243.95    243.60    243.60   \n",
       "3      2015-10-09 04:00:00    243.60    243.60    243.60    243.60   \n",
       "4      2015-10-09 08:00:00    243.60    243.75    243.60    243.63   \n",
       "...                    ...       ...       ...       ...       ...   \n",
       "12807  2021-08-12 04:00:00  45948.06  46023.08  44859.80  45289.65   \n",
       "12808  2021-08-12 08:00:00  45289.65  45663.34  44670.18  44758.93   \n",
       "12809  2021-08-12 12:00:00  44758.93  44956.97  43923.00  44204.11   \n",
       "12810  2021-08-12 16:00:00  44204.11  44528.82  43800.00  44407.09   \n",
       "12811  2021-08-12 20:00:00  44407.09  44578.23  43895.31  44430.99   \n",
       "\n",
       "           volume   log_open   log_high    log_low  log_close  \n",
       "0        3.259453   5.500932   5.501217   5.497168   5.497168  \n",
       "1        2.659915   5.497168   5.497168   5.495528   5.496963  \n",
       "2        0.750000   5.496963   5.496963   5.495528   5.495528  \n",
       "3        0.000000   5.495528   5.495528   5.495528   5.495528  \n",
       "4        0.250000   5.495528   5.496143   5.495528   5.495651  \n",
       "...           ...        ...        ...        ...        ...  \n",
       "12807   89.766358  10.735267  10.736898  10.711297  10.720834  \n",
       "12808   69.830994  10.720834  10.729051  10.707061  10.709046  \n",
       "12809  114.602881  10.709046  10.713461  10.690193  10.696573  \n",
       "12810   84.168365  10.696573  10.703892  10.687389  10.701154  \n",
       "12811   61.694263  10.701154  10.705001  10.689563  10.701692  \n",
       "\n",
       "[12812 rows x 10 columns]"
      ]
     },
     "execution_count": 4,
     "metadata": {},
     "output_type": "execute_result"
    }
   ],
   "source": [
    "url = 'https://raw.githubusercontent.com/timjab92/cryptotradingindicator/master/data/BTC4h.csv'\n",
    "\n",
    "data = pd.read_csv(url)\n",
    "# Dataset is now stored in a Pandas Dataframe\n",
    "data"
   ]
  },
  {
   "cell_type": "code",
   "execution_count": 5,
   "metadata": {
    "colab": {
     "base_uri": "https://localhost:8080/",
     "height": 447
    },
    "executionInfo": {
     "elapsed": 350,
     "status": "ok",
     "timestamp": 1629966972802,
     "user": {
      "displayName": "Ivan Fernandes",
      "photoUrl": "https://lh3.googleusercontent.com/a-/AOh14GgHdj66drQjCguTVvVzCd5yy8cdMluPJPZlz_BQLg=s64",
      "userId": "12100132160237129013"
     },
     "user_tz": -120
    },
    "id": "TmBE1gv3TOaj",
    "outputId": "6b81eb77-bc56-4173-bdd2-e48dfc399de6"
   },
   "outputs": [
    {
     "data": {
      "text/html": [
       "<div>\n",
       "<style scoped>\n",
       "    .dataframe tbody tr th:only-of-type {\n",
       "        vertical-align: middle;\n",
       "    }\n",
       "\n",
       "    .dataframe tbody tr th {\n",
       "        vertical-align: top;\n",
       "    }\n",
       "\n",
       "    .dataframe thead th {\n",
       "        text-align: right;\n",
       "    }\n",
       "</style>\n",
       "<table border=\"1\" class=\"dataframe\">\n",
       "  <thead>\n",
       "    <tr style=\"text-align: right;\">\n",
       "      <th></th>\n",
       "      <th>open</th>\n",
       "      <th>high</th>\n",
       "      <th>low</th>\n",
       "      <th>close</th>\n",
       "      <th>volume</th>\n",
       "      <th>log_open</th>\n",
       "      <th>log_high</th>\n",
       "      <th>log_low</th>\n",
       "      <th>log_close</th>\n",
       "    </tr>\n",
       "    <tr>\n",
       "      <th>date</th>\n",
       "      <th></th>\n",
       "      <th></th>\n",
       "      <th></th>\n",
       "      <th></th>\n",
       "      <th></th>\n",
       "      <th></th>\n",
       "      <th></th>\n",
       "      <th></th>\n",
       "      <th></th>\n",
       "    </tr>\n",
       "  </thead>\n",
       "  <tbody>\n",
       "    <tr>\n",
       "      <th>2015-10-08 16:00:00</th>\n",
       "      <td>244.92</td>\n",
       "      <td>244.99</td>\n",
       "      <td>244.00</td>\n",
       "      <td>244.00</td>\n",
       "      <td>3.259453</td>\n",
       "      <td>5.500932</td>\n",
       "      <td>5.501217</td>\n",
       "      <td>5.497168</td>\n",
       "      <td>5.497168</td>\n",
       "    </tr>\n",
       "    <tr>\n",
       "      <th>2015-10-08 20:00:00</th>\n",
       "      <td>244.00</td>\n",
       "      <td>244.00</td>\n",
       "      <td>243.60</td>\n",
       "      <td>243.95</td>\n",
       "      <td>2.659915</td>\n",
       "      <td>5.497168</td>\n",
       "      <td>5.497168</td>\n",
       "      <td>5.495528</td>\n",
       "      <td>5.496963</td>\n",
       "    </tr>\n",
       "    <tr>\n",
       "      <th>2015-10-09 00:00:00</th>\n",
       "      <td>243.95</td>\n",
       "      <td>243.95</td>\n",
       "      <td>243.60</td>\n",
       "      <td>243.60</td>\n",
       "      <td>0.750000</td>\n",
       "      <td>5.496963</td>\n",
       "      <td>5.496963</td>\n",
       "      <td>5.495528</td>\n",
       "      <td>5.495528</td>\n",
       "    </tr>\n",
       "    <tr>\n",
       "      <th>2015-10-09 04:00:00</th>\n",
       "      <td>243.60</td>\n",
       "      <td>243.60</td>\n",
       "      <td>243.60</td>\n",
       "      <td>243.60</td>\n",
       "      <td>0.000000</td>\n",
       "      <td>5.495528</td>\n",
       "      <td>5.495528</td>\n",
       "      <td>5.495528</td>\n",
       "      <td>5.495528</td>\n",
       "    </tr>\n",
       "    <tr>\n",
       "      <th>2015-10-09 08:00:00</th>\n",
       "      <td>243.60</td>\n",
       "      <td>243.75</td>\n",
       "      <td>243.60</td>\n",
       "      <td>243.63</td>\n",
       "      <td>0.250000</td>\n",
       "      <td>5.495528</td>\n",
       "      <td>5.496143</td>\n",
       "      <td>5.495528</td>\n",
       "      <td>5.495651</td>\n",
       "    </tr>\n",
       "    <tr>\n",
       "      <th>...</th>\n",
       "      <td>...</td>\n",
       "      <td>...</td>\n",
       "      <td>...</td>\n",
       "      <td>...</td>\n",
       "      <td>...</td>\n",
       "      <td>...</td>\n",
       "      <td>...</td>\n",
       "      <td>...</td>\n",
       "      <td>...</td>\n",
       "    </tr>\n",
       "    <tr>\n",
       "      <th>2021-08-12 04:00:00</th>\n",
       "      <td>45948.06</td>\n",
       "      <td>46023.08</td>\n",
       "      <td>44859.80</td>\n",
       "      <td>45289.65</td>\n",
       "      <td>89.766358</td>\n",
       "      <td>10.735267</td>\n",
       "      <td>10.736898</td>\n",
       "      <td>10.711297</td>\n",
       "      <td>10.720834</td>\n",
       "    </tr>\n",
       "    <tr>\n",
       "      <th>2021-08-12 08:00:00</th>\n",
       "      <td>45289.65</td>\n",
       "      <td>45663.34</td>\n",
       "      <td>44670.18</td>\n",
       "      <td>44758.93</td>\n",
       "      <td>69.830994</td>\n",
       "      <td>10.720834</td>\n",
       "      <td>10.729051</td>\n",
       "      <td>10.707061</td>\n",
       "      <td>10.709046</td>\n",
       "    </tr>\n",
       "    <tr>\n",
       "      <th>2021-08-12 12:00:00</th>\n",
       "      <td>44758.93</td>\n",
       "      <td>44956.97</td>\n",
       "      <td>43923.00</td>\n",
       "      <td>44204.11</td>\n",
       "      <td>114.602881</td>\n",
       "      <td>10.709046</td>\n",
       "      <td>10.713461</td>\n",
       "      <td>10.690193</td>\n",
       "      <td>10.696573</td>\n",
       "    </tr>\n",
       "    <tr>\n",
       "      <th>2021-08-12 16:00:00</th>\n",
       "      <td>44204.11</td>\n",
       "      <td>44528.82</td>\n",
       "      <td>43800.00</td>\n",
       "      <td>44407.09</td>\n",
       "      <td>84.168365</td>\n",
       "      <td>10.696573</td>\n",
       "      <td>10.703892</td>\n",
       "      <td>10.687389</td>\n",
       "      <td>10.701154</td>\n",
       "    </tr>\n",
       "    <tr>\n",
       "      <th>2021-08-12 20:00:00</th>\n",
       "      <td>44407.09</td>\n",
       "      <td>44578.23</td>\n",
       "      <td>43895.31</td>\n",
       "      <td>44430.99</td>\n",
       "      <td>61.694263</td>\n",
       "      <td>10.701154</td>\n",
       "      <td>10.705001</td>\n",
       "      <td>10.689563</td>\n",
       "      <td>10.701692</td>\n",
       "    </tr>\n",
       "  </tbody>\n",
       "</table>\n",
       "<p>12812 rows × 9 columns</p>\n",
       "</div>"
      ],
      "text/plain": [
       "                         open      high       low     close      volume  \\\n",
       "date                                                                      \n",
       "2015-10-08 16:00:00    244.92    244.99    244.00    244.00    3.259453   \n",
       "2015-10-08 20:00:00    244.00    244.00    243.60    243.95    2.659915   \n",
       "2015-10-09 00:00:00    243.95    243.95    243.60    243.60    0.750000   \n",
       "2015-10-09 04:00:00    243.60    243.60    243.60    243.60    0.000000   \n",
       "2015-10-09 08:00:00    243.60    243.75    243.60    243.63    0.250000   \n",
       "...                       ...       ...       ...       ...         ...   \n",
       "2021-08-12 04:00:00  45948.06  46023.08  44859.80  45289.65   89.766358   \n",
       "2021-08-12 08:00:00  45289.65  45663.34  44670.18  44758.93   69.830994   \n",
       "2021-08-12 12:00:00  44758.93  44956.97  43923.00  44204.11  114.602881   \n",
       "2021-08-12 16:00:00  44204.11  44528.82  43800.00  44407.09   84.168365   \n",
       "2021-08-12 20:00:00  44407.09  44578.23  43895.31  44430.99   61.694263   \n",
       "\n",
       "                      log_open   log_high    log_low  log_close  \n",
       "date                                                             \n",
       "2015-10-08 16:00:00   5.500932   5.501217   5.497168   5.497168  \n",
       "2015-10-08 20:00:00   5.497168   5.497168   5.495528   5.496963  \n",
       "2015-10-09 00:00:00   5.496963   5.496963   5.495528   5.495528  \n",
       "2015-10-09 04:00:00   5.495528   5.495528   5.495528   5.495528  \n",
       "2015-10-09 08:00:00   5.495528   5.496143   5.495528   5.495651  \n",
       "...                        ...        ...        ...        ...  \n",
       "2021-08-12 04:00:00  10.735267  10.736898  10.711297  10.720834  \n",
       "2021-08-12 08:00:00  10.720834  10.729051  10.707061  10.709046  \n",
       "2021-08-12 12:00:00  10.709046  10.713461  10.690193  10.696573  \n",
       "2021-08-12 16:00:00  10.696573  10.703892  10.687389  10.701154  \n",
       "2021-08-12 20:00:00  10.701154  10.705001  10.689563  10.701692  \n",
       "\n",
       "[12812 rows x 9 columns]"
      ]
     },
     "execution_count": 5,
     "metadata": {},
     "output_type": "execute_result"
    }
   ],
   "source": [
    "coin_selection = \"BTC\"\n",
    "data = data.set_index(\"date\")\n",
    "data = data\n",
    "data"
   ]
  },
  {
   "cell_type": "code",
   "execution_count": 6,
   "metadata": {
    "colab": {
     "base_uri": "https://localhost:8080/",
     "height": 293
    },
    "executionInfo": {
     "elapsed": 535,
     "status": "ok",
     "timestamp": 1629966974930,
     "user": {
      "displayName": "Ivan Fernandes",
      "photoUrl": "https://lh3.googleusercontent.com/a-/AOh14GgHdj66drQjCguTVvVzCd5yy8cdMluPJPZlz_BQLg=s64",
      "userId": "12100132160237129013"
     },
     "user_tz": -120
    },
    "id": "RIJL_ZcKTOaj",
    "outputId": "b6065065-d451-4581-df07-0531602adf36",
    "scrolled": true
   },
   "outputs": [
    {
     "data": {
      "text/html": [
       "<div>\n",
       "<style scoped>\n",
       "    .dataframe tbody tr th:only-of-type {\n",
       "        vertical-align: middle;\n",
       "    }\n",
       "\n",
       "    .dataframe tbody tr th {\n",
       "        vertical-align: top;\n",
       "    }\n",
       "\n",
       "    .dataframe thead th {\n",
       "        text-align: right;\n",
       "    }\n",
       "</style>\n",
       "<table border=\"1\" class=\"dataframe\">\n",
       "  <thead>\n",
       "    <tr style=\"text-align: right;\">\n",
       "      <th></th>\n",
       "      <th>open</th>\n",
       "      <th>high</th>\n",
       "      <th>low</th>\n",
       "      <th>close</th>\n",
       "      <th>volume</th>\n",
       "      <th>log_open</th>\n",
       "      <th>log_high</th>\n",
       "      <th>log_low</th>\n",
       "      <th>log_close</th>\n",
       "      <th>ema12</th>\n",
       "      <th>ema21</th>\n",
       "      <th>ema26</th>\n",
       "      <th>ema50</th>\n",
       "      <th>ema34</th>\n",
       "      <th>ema55</th>\n",
       "      <th>rsi</th>\n",
       "      <th>K</th>\n",
       "      <th>D</th>\n",
       "      <th>sma</th>\n",
       "      <th>bollinger_up</th>\n",
       "      <th>bollinger_down</th>\n",
       "      <th>vol_roc</th>\n",
       "    </tr>\n",
       "    <tr>\n",
       "      <th>date</th>\n",
       "      <th></th>\n",
       "      <th></th>\n",
       "      <th></th>\n",
       "      <th></th>\n",
       "      <th></th>\n",
       "      <th></th>\n",
       "      <th></th>\n",
       "      <th></th>\n",
       "      <th></th>\n",
       "      <th></th>\n",
       "      <th></th>\n",
       "      <th></th>\n",
       "      <th></th>\n",
       "      <th></th>\n",
       "      <th></th>\n",
       "      <th></th>\n",
       "      <th></th>\n",
       "      <th></th>\n",
       "      <th></th>\n",
       "      <th></th>\n",
       "      <th></th>\n",
       "      <th></th>\n",
       "    </tr>\n",
       "  </thead>\n",
       "  <tbody>\n",
       "    <tr>\n",
       "      <th>2015-10-08 16:00:00</th>\n",
       "      <td>244.92</td>\n",
       "      <td>244.99</td>\n",
       "      <td>244.00</td>\n",
       "      <td>244.00</td>\n",
       "      <td>3.259453</td>\n",
       "      <td>5.500932</td>\n",
       "      <td>5.501217</td>\n",
       "      <td>5.497168</td>\n",
       "      <td>5.497168</td>\n",
       "      <td>244.000000</td>\n",
       "      <td>244.000000</td>\n",
       "      <td>244.000000</td>\n",
       "      <td>244.000000</td>\n",
       "      <td>244.000000</td>\n",
       "      <td>244.000000</td>\n",
       "      <td>NaN</td>\n",
       "      <td>NaN</td>\n",
       "      <td>NaN</td>\n",
       "      <td>NaN</td>\n",
       "      <td>NaN</td>\n",
       "      <td>NaN</td>\n",
       "      <td>NaN</td>\n",
       "    </tr>\n",
       "    <tr>\n",
       "      <th>2015-10-08 20:00:00</th>\n",
       "      <td>244.00</td>\n",
       "      <td>244.00</td>\n",
       "      <td>243.60</td>\n",
       "      <td>243.95</td>\n",
       "      <td>2.659915</td>\n",
       "      <td>5.497168</td>\n",
       "      <td>5.497168</td>\n",
       "      <td>5.495528</td>\n",
       "      <td>5.496963</td>\n",
       "      <td>243.972917</td>\n",
       "      <td>243.973810</td>\n",
       "      <td>243.974038</td>\n",
       "      <td>243.974500</td>\n",
       "      <td>243.974265</td>\n",
       "      <td>243.974545</td>\n",
       "      <td>NaN</td>\n",
       "      <td>NaN</td>\n",
       "      <td>NaN</td>\n",
       "      <td>NaN</td>\n",
       "      <td>NaN</td>\n",
       "      <td>NaN</td>\n",
       "      <td>-0.183938</td>\n",
       "    </tr>\n",
       "    <tr>\n",
       "      <th>2015-10-09 00:00:00</th>\n",
       "      <td>243.95</td>\n",
       "      <td>243.95</td>\n",
       "      <td>243.60</td>\n",
       "      <td>243.60</td>\n",
       "      <td>0.750000</td>\n",
       "      <td>5.496963</td>\n",
       "      <td>5.496963</td>\n",
       "      <td>5.495528</td>\n",
       "      <td>5.495528</td>\n",
       "      <td>243.827367</td>\n",
       "      <td>243.837160</td>\n",
       "      <td>243.839650</td>\n",
       "      <td>243.844641</td>\n",
       "      <td>243.842101</td>\n",
       "      <td>243.845130</td>\n",
       "      <td>NaN</td>\n",
       "      <td>NaN</td>\n",
       "      <td>NaN</td>\n",
       "      <td>NaN</td>\n",
       "      <td>NaN</td>\n",
       "      <td>NaN</td>\n",
       "      <td>-0.718036</td>\n",
       "    </tr>\n",
       "    <tr>\n",
       "      <th>2015-10-09 04:00:00</th>\n",
       "      <td>243.60</td>\n",
       "      <td>243.60</td>\n",
       "      <td>243.60</td>\n",
       "      <td>243.60</td>\n",
       "      <td>0.000000</td>\n",
       "      <td>5.495528</td>\n",
       "      <td>5.495528</td>\n",
       "      <td>5.495528</td>\n",
       "      <td>5.495528</td>\n",
       "      <td>243.755596</td>\n",
       "      <td>243.769145</td>\n",
       "      <td>243.772654</td>\n",
       "      <td>243.779763</td>\n",
       "      <td>243.776134</td>\n",
       "      <td>243.780465</td>\n",
       "      <td>NaN</td>\n",
       "      <td>NaN</td>\n",
       "      <td>NaN</td>\n",
       "      <td>NaN</td>\n",
       "      <td>NaN</td>\n",
       "      <td>NaN</td>\n",
       "      <td>-1.000000</td>\n",
       "    </tr>\n",
       "    <tr>\n",
       "      <th>2015-10-09 08:00:00</th>\n",
       "      <td>243.60</td>\n",
       "      <td>243.75</td>\n",
       "      <td>243.60</td>\n",
       "      <td>243.63</td>\n",
       "      <td>0.250000</td>\n",
       "      <td>5.495528</td>\n",
       "      <td>5.496143</td>\n",
       "      <td>5.495528</td>\n",
       "      <td>5.495651</td>\n",
       "      <td>243.721472</td>\n",
       "      <td>243.735775</td>\n",
       "      <td>243.739572</td>\n",
       "      <td>243.747367</td>\n",
       "      <td>243.743371</td>\n",
       "      <td>243.748144</td>\n",
       "      <td>NaN</td>\n",
       "      <td>NaN</td>\n",
       "      <td>NaN</td>\n",
       "      <td>NaN</td>\n",
       "      <td>NaN</td>\n",
       "      <td>NaN</td>\n",
       "      <td>inf</td>\n",
       "    </tr>\n",
       "    <tr>\n",
       "      <th>...</th>\n",
       "      <td>...</td>\n",
       "      <td>...</td>\n",
       "      <td>...</td>\n",
       "      <td>...</td>\n",
       "      <td>...</td>\n",
       "      <td>...</td>\n",
       "      <td>...</td>\n",
       "      <td>...</td>\n",
       "      <td>...</td>\n",
       "      <td>...</td>\n",
       "      <td>...</td>\n",
       "      <td>...</td>\n",
       "      <td>...</td>\n",
       "      <td>...</td>\n",
       "      <td>...</td>\n",
       "      <td>...</td>\n",
       "      <td>...</td>\n",
       "      <td>...</td>\n",
       "      <td>...</td>\n",
       "      <td>...</td>\n",
       "      <td>...</td>\n",
       "      <td>...</td>\n",
       "    </tr>\n",
       "    <tr>\n",
       "      <th>2021-08-12 04:00:00</th>\n",
       "      <td>45948.06</td>\n",
       "      <td>46023.08</td>\n",
       "      <td>44859.80</td>\n",
       "      <td>45289.65</td>\n",
       "      <td>89.766358</td>\n",
       "      <td>10.735267</td>\n",
       "      <td>10.736898</td>\n",
       "      <td>10.711297</td>\n",
       "      <td>10.720834</td>\n",
       "      <td>45724.558435</td>\n",
       "      <td>45334.610373</td>\n",
       "      <td>45054.798801</td>\n",
       "      <td>43717.075185</td>\n",
       "      <td>44593.205995</td>\n",
       "      <td>43460.156732</td>\n",
       "      <td>52.486887</td>\n",
       "      <td>6.135417</td>\n",
       "      <td>21.365438</td>\n",
       "      <td>45629.8145</td>\n",
       "      <td>47153.082172</td>\n",
       "      <td>44106.546828</td>\n",
       "      <td>0.800303</td>\n",
       "    </tr>\n",
       "    <tr>\n",
       "      <th>2021-08-12 08:00:00</th>\n",
       "      <td>45289.65</td>\n",
       "      <td>45663.34</td>\n",
       "      <td>44670.18</td>\n",
       "      <td>44758.93</td>\n",
       "      <td>69.830994</td>\n",
       "      <td>10.720834</td>\n",
       "      <td>10.729051</td>\n",
       "      <td>10.707061</td>\n",
       "      <td>10.709046</td>\n",
       "      <td>45576.000214</td>\n",
       "      <td>45282.275793</td>\n",
       "      <td>45032.882594</td>\n",
       "      <td>43757.932237</td>\n",
       "      <td>44602.675938</td>\n",
       "      <td>43506.541492</td>\n",
       "      <td>48.141461</td>\n",
       "      <td>6.135417</td>\n",
       "      <td>11.886482</td>\n",
       "      <td>45691.2940</td>\n",
       "      <td>46930.350348</td>\n",
       "      <td>44452.237652</td>\n",
       "      <td>-0.222081</td>\n",
       "    </tr>\n",
       "    <tr>\n",
       "      <th>2021-08-12 12:00:00</th>\n",
       "      <td>44758.93</td>\n",
       "      <td>44956.97</td>\n",
       "      <td>43923.00</td>\n",
       "      <td>44204.11</td>\n",
       "      <td>114.602881</td>\n",
       "      <td>10.709046</td>\n",
       "      <td>10.713461</td>\n",
       "      <td>10.690193</td>\n",
       "      <td>10.696573</td>\n",
       "      <td>45364.940181</td>\n",
       "      <td>45184.260721</td>\n",
       "      <td>44971.492031</td>\n",
       "      <td>43775.429404</td>\n",
       "      <td>44579.900742</td>\n",
       "      <td>43531.454653</td>\n",
       "      <td>44.036875</td>\n",
       "      <td>0.000000</td>\n",
       "      <td>4.090278</td>\n",
       "      <td>45708.6670</td>\n",
       "      <td>46844.888738</td>\n",
       "      <td>44572.445262</td>\n",
       "      <td>0.641146</td>\n",
       "    </tr>\n",
       "    <tr>\n",
       "      <th>2021-08-12 16:00:00</th>\n",
       "      <td>44204.11</td>\n",
       "      <td>44528.82</td>\n",
       "      <td>43800.00</td>\n",
       "      <td>44407.09</td>\n",
       "      <td>84.168365</td>\n",
       "      <td>10.696573</td>\n",
       "      <td>10.703892</td>\n",
       "      <td>10.687389</td>\n",
       "      <td>10.701154</td>\n",
       "      <td>45217.578615</td>\n",
       "      <td>45113.608837</td>\n",
       "      <td>44929.684473</td>\n",
       "      <td>43800.200408</td>\n",
       "      <td>44570.025842</td>\n",
       "      <td>43562.727344</td>\n",
       "      <td>45.855691</td>\n",
       "      <td>2.686161</td>\n",
       "      <td>2.940526</td>\n",
       "      <td>45629.4410</td>\n",
       "      <td>46896.078488</td>\n",
       "      <td>44362.803512</td>\n",
       "      <td>-0.265565</td>\n",
       "    </tr>\n",
       "    <tr>\n",
       "      <th>2021-08-12 20:00:00</th>\n",
       "      <td>44407.09</td>\n",
       "      <td>44578.23</td>\n",
       "      <td>43895.31</td>\n",
       "      <td>44430.99</td>\n",
       "      <td>61.694263</td>\n",
       "      <td>10.701154</td>\n",
       "      <td>10.705001</td>\n",
       "      <td>10.689563</td>\n",
       "      <td>10.701692</td>\n",
       "      <td>45096.564982</td>\n",
       "      <td>45051.552580</td>\n",
       "      <td>44892.744142</td>\n",
       "      <td>43824.937254</td>\n",
       "      <td>44562.080937</td>\n",
       "      <td>43593.736724</td>\n",
       "      <td>46.077911</td>\n",
       "      <td>5.700512</td>\n",
       "      <td>2.795558</td>\n",
       "      <td>45555.4450</td>\n",
       "      <td>46921.831848</td>\n",
       "      <td>44189.058152</td>\n",
       "      <td>-0.267014</td>\n",
       "    </tr>\n",
       "  </tbody>\n",
       "</table>\n",
       "<p>12812 rows × 22 columns</p>\n",
       "</div>"
      ],
      "text/plain": [
       "                         open      high       low     close      volume  \\\n",
       "date                                                                      \n",
       "2015-10-08 16:00:00    244.92    244.99    244.00    244.00    3.259453   \n",
       "2015-10-08 20:00:00    244.00    244.00    243.60    243.95    2.659915   \n",
       "2015-10-09 00:00:00    243.95    243.95    243.60    243.60    0.750000   \n",
       "2015-10-09 04:00:00    243.60    243.60    243.60    243.60    0.000000   \n",
       "2015-10-09 08:00:00    243.60    243.75    243.60    243.63    0.250000   \n",
       "...                       ...       ...       ...       ...         ...   \n",
       "2021-08-12 04:00:00  45948.06  46023.08  44859.80  45289.65   89.766358   \n",
       "2021-08-12 08:00:00  45289.65  45663.34  44670.18  44758.93   69.830994   \n",
       "2021-08-12 12:00:00  44758.93  44956.97  43923.00  44204.11  114.602881   \n",
       "2021-08-12 16:00:00  44204.11  44528.82  43800.00  44407.09   84.168365   \n",
       "2021-08-12 20:00:00  44407.09  44578.23  43895.31  44430.99   61.694263   \n",
       "\n",
       "                      log_open   log_high    log_low  log_close         ema12  \\\n",
       "date                                                                            \n",
       "2015-10-08 16:00:00   5.500932   5.501217   5.497168   5.497168    244.000000   \n",
       "2015-10-08 20:00:00   5.497168   5.497168   5.495528   5.496963    243.972917   \n",
       "2015-10-09 00:00:00   5.496963   5.496963   5.495528   5.495528    243.827367   \n",
       "2015-10-09 04:00:00   5.495528   5.495528   5.495528   5.495528    243.755596   \n",
       "2015-10-09 08:00:00   5.495528   5.496143   5.495528   5.495651    243.721472   \n",
       "...                        ...        ...        ...        ...           ...   \n",
       "2021-08-12 04:00:00  10.735267  10.736898  10.711297  10.720834  45724.558435   \n",
       "2021-08-12 08:00:00  10.720834  10.729051  10.707061  10.709046  45576.000214   \n",
       "2021-08-12 12:00:00  10.709046  10.713461  10.690193  10.696573  45364.940181   \n",
       "2021-08-12 16:00:00  10.696573  10.703892  10.687389  10.701154  45217.578615   \n",
       "2021-08-12 20:00:00  10.701154  10.705001  10.689563  10.701692  45096.564982   \n",
       "\n",
       "                            ema21         ema26         ema50         ema34  \\\n",
       "date                                                                          \n",
       "2015-10-08 16:00:00    244.000000    244.000000    244.000000    244.000000   \n",
       "2015-10-08 20:00:00    243.973810    243.974038    243.974500    243.974265   \n",
       "2015-10-09 00:00:00    243.837160    243.839650    243.844641    243.842101   \n",
       "2015-10-09 04:00:00    243.769145    243.772654    243.779763    243.776134   \n",
       "2015-10-09 08:00:00    243.735775    243.739572    243.747367    243.743371   \n",
       "...                           ...           ...           ...           ...   \n",
       "2021-08-12 04:00:00  45334.610373  45054.798801  43717.075185  44593.205995   \n",
       "2021-08-12 08:00:00  45282.275793  45032.882594  43757.932237  44602.675938   \n",
       "2021-08-12 12:00:00  45184.260721  44971.492031  43775.429404  44579.900742   \n",
       "2021-08-12 16:00:00  45113.608837  44929.684473  43800.200408  44570.025842   \n",
       "2021-08-12 20:00:00  45051.552580  44892.744142  43824.937254  44562.080937   \n",
       "\n",
       "                            ema55        rsi         K          D         sma  \\\n",
       "date                                                                            \n",
       "2015-10-08 16:00:00    244.000000        NaN       NaN        NaN         NaN   \n",
       "2015-10-08 20:00:00    243.974545        NaN       NaN        NaN         NaN   \n",
       "2015-10-09 00:00:00    243.845130        NaN       NaN        NaN         NaN   \n",
       "2015-10-09 04:00:00    243.780465        NaN       NaN        NaN         NaN   \n",
       "2015-10-09 08:00:00    243.748144        NaN       NaN        NaN         NaN   \n",
       "...                           ...        ...       ...        ...         ...   \n",
       "2021-08-12 04:00:00  43460.156732  52.486887  6.135417  21.365438  45629.8145   \n",
       "2021-08-12 08:00:00  43506.541492  48.141461  6.135417  11.886482  45691.2940   \n",
       "2021-08-12 12:00:00  43531.454653  44.036875  0.000000   4.090278  45708.6670   \n",
       "2021-08-12 16:00:00  43562.727344  45.855691  2.686161   2.940526  45629.4410   \n",
       "2021-08-12 20:00:00  43593.736724  46.077911  5.700512   2.795558  45555.4450   \n",
       "\n",
       "                     bollinger_up  bollinger_down   vol_roc  \n",
       "date                                                         \n",
       "2015-10-08 16:00:00           NaN             NaN       NaN  \n",
       "2015-10-08 20:00:00           NaN             NaN -0.183938  \n",
       "2015-10-09 00:00:00           NaN             NaN -0.718036  \n",
       "2015-10-09 04:00:00           NaN             NaN -1.000000  \n",
       "2015-10-09 08:00:00           NaN             NaN       inf  \n",
       "...                           ...             ...       ...  \n",
       "2021-08-12 04:00:00  47153.082172    44106.546828  0.800303  \n",
       "2021-08-12 08:00:00  46930.350348    44452.237652 -0.222081  \n",
       "2021-08-12 12:00:00  46844.888738    44572.445262  0.641146  \n",
       "2021-08-12 16:00:00  46896.078488    44362.803512 -0.265565  \n",
       "2021-08-12 20:00:00  46921.831848    44189.058152 -0.267014  \n",
       "\n",
       "[12812 rows x 22 columns]"
      ]
     },
     "execution_count": 6,
     "metadata": {},
     "output_type": "execute_result"
    }
   ],
   "source": [
    "## add other features\n",
    "\n",
    "def add_ema(data, tspan=[12,21,26,50,34,55]):\n",
    "    \"\"\"\n",
    "    Adds Exponential Moving Averages (EMA) to the dataframe. The default timeframes are 12,26,20,50,34 and 55.\n",
    "    \"\"\"\n",
    "    for t in tspan:\n",
    "        data[f'ema{t}'] = data.close.ewm(span=t).mean()\n",
    "    return data\n",
    "\n",
    "add_ema(data)\n",
    "\n",
    "def computeRSI(data, window=14):\n",
    "    \"\"\"\n",
    "    Computes the Relative Stregth Index for a given dataset and the window can be defined. Its default value is 14.\n",
    "    \"\"\"\n",
    "    diff = data.diff(1).dropna()        # diff in one field(one day)\n",
    "\n",
    "    #this preservers dimensions off diff values\n",
    "    up_chg = 0 * diff\n",
    "    down_chg = 0 * diff\n",
    "    \n",
    "    # up change is equal to the positive difference, otherwise equal to zero\n",
    "    up_chg[diff > 0] = diff[ diff>0 ]\n",
    "    # down change is equal to negative deifference, otherwise equal to zero\n",
    "    down_chg[diff < 0] = diff[ diff < 0 ]\n",
    "    \n",
    "    # check pandas documentation for ewm\n",
    "    # https://pandas.pydata.org/pandas-docs/stable/reference/api/pandas.DataFrame.ewm.html\n",
    "    # values are related to exponential decay\n",
    "    # we set com=window-1 so we get decay alpha=1/window\n",
    "    up_chg_avg   = up_chg.ewm(com=window-1 , min_periods=window).mean()\n",
    "    down_chg_avg = down_chg.ewm(com=window-1 , min_periods=window).mean()\n",
    "    \n",
    "    rs = abs(up_chg_avg/down_chg_avg)\n",
    "    rsi = 100 - 100/(1+rs)\n",
    "    return rsi\n",
    "\n",
    "\n",
    "\n",
    "rsi = computeRSI(data)\n",
    "\n",
    "def stoch_rsi(rsi, d_window=3, k_window=3, window=14):\n",
    "    \"\"\"\n",
    "    Computes the stochastic RSI. Default values are d=3, k=3, window=14.\n",
    "    \"\"\"\n",
    "    minrsi = rsi.rolling(window=window, center=False).min()\n",
    "    maxrsi = rsi.rolling(window=window, center=False).max()\n",
    "    stoch = ((rsi - minrsi) / (maxrsi - minrsi)) * 100\n",
    "    K = stoch.rolling(window=k_window, center=False).mean()\n",
    "    D = K.rolling(window=d_window, center=False).mean() \n",
    "    return K, D  \n",
    "\n",
    "stoch_rsi(rsi)\n",
    "\n",
    "def add_stoch_rsi(data, d_window=3, k_window=3, window=14):\n",
    "    data['rsi'] = computeRSI(data['close'], window)\n",
    "    data['K'], data['D'] = stoch_rsi(data['rsi'], d_window, k_window, window)\n",
    "    return data\n",
    "\n",
    "add_stoch_rsi(data)\n",
    "\n",
    "def get_bollinger_bands(prices, rate=20):\n",
    "    sma = prices.rolling(rate).mean() # <-- Get SMA for 20 days\n",
    "    std = prices.rolling(rate).std() # <-- Get rolling standard deviation for 20 days\n",
    "    bollinger_up = sma + std * 2 # Calculate top band\n",
    "    bollinger_down = sma - std * 2 # Calculate bottom band\n",
    "    return sma, bollinger_up, bollinger_down\n",
    "\n",
    "prices = data[\"close\"]\n",
    "\n",
    "get_bollinger_bands(prices, rate=20)\n",
    "\n",
    "def add_bollinger(data, prices, rate=20):\n",
    "    data['sma'], data['bollinger_up'], data['bollinger_down'] = get_bollinger_bands(prices)\n",
    "    return data\n",
    "\n",
    "add_bollinger(data,prices)\n",
    "\n",
    "def add_vol_roc(data):\n",
    "    data['vol_roc'] = data.volume.pct_change()\n",
    "    return data\n",
    "\n",
    "add_vol_roc(data)\n",
    "data"
   ]
  },
  {
   "cell_type": "markdown",
   "metadata": {
    "id": "hnO1Kw4mTOam"
   },
   "source": [
    "### Daily return\n",
    "\n",
    "$ return = \\frac{new - old}{old} $"
   ]
  },
  {
   "cell_type": "code",
   "execution_count": 7,
   "metadata": {
    "executionInfo": {
     "elapsed": 3,
     "status": "ok",
     "timestamp": 1629966976844,
     "user": {
      "displayName": "Ivan Fernandes",
      "photoUrl": "https://lh3.googleusercontent.com/a-/AOh14GgHdj66drQjCguTVvVzCd5yy8cdMluPJPZlz_BQLg=s64",
      "userId": "12100132160237129013"
     },
     "user_tz": -120
    },
    "id": "OkM8CpqykqFz"
   },
   "outputs": [],
   "source": [
    "data['4h Return'] = data['close'].pct_change()\n",
    "data['4h Gradient'] = data['close'].diff()\n",
    "data['boll_width'] = data['bollinger_up'] - data['bollinger_down']\n",
    "data['stoch_rsi'] = (data['K'] + data['D']) / 2"
   ]
  },
  {
   "cell_type": "code",
   "execution_count": 8,
   "metadata": {
    "executionInfo": {
     "elapsed": 3,
     "status": "ok",
     "timestamp": 1629966978166,
     "user": {
      "displayName": "Ivan Fernandes",
      "photoUrl": "https://lh3.googleusercontent.com/a-/AOh14GgHdj66drQjCguTVvVzCd5yy8cdMluPJPZlz_BQLg=s64",
      "userId": "12100132160237129013"
     },
     "user_tz": -120
    },
    "id": "pjzEF_95arJY"
   },
   "outputs": [],
   "source": [
    "data = data.dropna()"
   ]
  },
  {
   "cell_type": "markdown",
   "metadata": {
    "id": "omE_GM43TOaj"
   },
   "source": [
    "## Time-Series Visualisation"
   ]
  },
  {
   "cell_type": "markdown",
   "metadata": {
    "id": "9He6r2IBTOak"
   },
   "source": [
    "### Historical Stock Prices"
   ]
  },
  {
   "cell_type": "code",
   "execution_count": 9,
   "metadata": {
    "colab": {
     "base_uri": "https://localhost:8080/",
     "height": 433
    },
    "executionInfo": {
     "elapsed": 1080,
     "status": "ok",
     "timestamp": 1629966982994,
     "user": {
      "displayName": "Ivan Fernandes",
      "photoUrl": "https://lh3.googleusercontent.com/a-/AOh14GgHdj66drQjCguTVvVzCd5yy8cdMluPJPZlz_BQLg=s64",
      "userId": "12100132160237129013"
     },
     "user_tz": -120
    },
    "id": "Sn68mhkBTOak",
    "outputId": "2b9e59ce-9d71-4b4b-f8f2-ecaeeab6cc33"
   },
   "outputs": [
    {
     "data": {
      "image/png": "[encoded data removed]",
      "text/plain": [
       "<Figure size 1080x432 with 1 Axes>"
      ]
     },
     "metadata": {},
     "output_type": "display_data"
    }
   ],
   "source": [
    "# Let's see a historical view of the closing price\n",
    "plt.figure(figsize=(15, 6))\n",
    "plt.subplots_adjust(top=1.25, bottom=1.2)\n",
    "\n",
    "data['close'].plot()\n",
    "plt.ylabel('close')\n",
    "plt.xlabel(None)\n",
    "plt.title(f\"Closing Price of {coin_selection}\")\n",
    "    \n",
    "plt.tight_layout()"
   ]
  },
  {
   "cell_type": "markdown",
   "metadata": {
    "id": "LOkzKw4OTOal"
   },
   "source": [
    "### Volumes traded"
   ]
  },
  {
   "cell_type": "code",
   "execution_count": 10,
   "metadata": {
    "colab": {
     "base_uri": "https://localhost:8080/",
     "height": 430
    },
    "executionInfo": {
     "elapsed": 709,
     "status": "ok",
     "timestamp": 1629966985093,
     "user": {
      "displayName": "Ivan Fernandes",
      "photoUrl": "https://lh3.googleusercontent.com/a-/AOh14GgHdj66drQjCguTVvVzCd5yy8cdMluPJPZlz_BQLg=s64",
      "userId": "12100132160237129013"
     },
     "user_tz": -120
    },
    "id": "icuzmUSpTOal",
    "outputId": "e9132fc3-f382-4188-ca4f-d214ebc4acc2"
   },
   "outputs": [
    {
     "data": {
      "image/png": "[encoded data removed]",
      "text/plain": [
       "<Figure size 1080x432 with 1 Axes>"
      ]
     },
     "metadata": {},
     "output_type": "display_data"
    }
   ],
   "source": [
    "# Let's see a historical view of the closing price\n",
    "plt.figure(figsize=(15, 6))\n",
    "plt.subplots_adjust(top=1.25, bottom=1.2)\n",
    "\n",
    "data['volume'].plot()\n",
    "plt.ylabel('Volume')\n",
    "plt.xlabel(None)\n",
    "plt.title(f\"Sales Volume of BTC\")\n",
    "    \n",
    "plt.tight_layout()"
   ]
  },
  {
   "cell_type": "code",
   "execution_count": 11,
   "metadata": {
    "colab": {
     "base_uri": "https://localhost:8080/",
     "height": 438
    },
    "executionInfo": {
     "elapsed": 356,
     "status": "ok",
     "timestamp": 1629967115184,
     "user": {
      "displayName": "Ivan Fernandes",
      "photoUrl": "https://lh3.googleusercontent.com/a-/AOh14GgHdj66drQjCguTVvVzCd5yy8cdMluPJPZlz_BQLg=s64",
      "userId": "12100132160237129013"
     },
     "user_tz": -120
    },
    "id": "xr6neOtXnESl",
    "outputId": "40f7378e-e11c-4e48-9156-2adc1e087421"
   },
   "outputs": [
    {
     "data": {
      "text/html": [
       "<div>\n",
       "<style scoped>\n",
       "    .dataframe tbody tr th:only-of-type {\n",
       "        vertical-align: middle;\n",
       "    }\n",
       "\n",
       "    .dataframe tbody tr th {\n",
       "        vertical-align: top;\n",
       "    }\n",
       "\n",
       "    .dataframe thead th {\n",
       "        text-align: right;\n",
       "    }\n",
       "</style>\n",
       "<table border=\"1\" class=\"dataframe\">\n",
       "  <thead>\n",
       "    <tr style=\"text-align: right;\">\n",
       "      <th></th>\n",
       "      <th>open</th>\n",
       "      <th>high</th>\n",
       "      <th>low</th>\n",
       "      <th>close</th>\n",
       "      <th>volume</th>\n",
       "      <th>log_open</th>\n",
       "      <th>log_high</th>\n",
       "      <th>log_low</th>\n",
       "      <th>log_close</th>\n",
       "      <th>ema12</th>\n",
       "      <th>ema21</th>\n",
       "      <th>ema26</th>\n",
       "      <th>ema50</th>\n",
       "      <th>ema34</th>\n",
       "      <th>ema55</th>\n",
       "      <th>rsi</th>\n",
       "      <th>K</th>\n",
       "      <th>D</th>\n",
       "      <th>sma</th>\n",
       "      <th>bollinger_up</th>\n",
       "      <th>bollinger_down</th>\n",
       "      <th>vol_roc</th>\n",
       "      <th>4h Return</th>\n",
       "      <th>4h Gradient</th>\n",
       "      <th>boll_width</th>\n",
       "      <th>stoch_rsi</th>\n",
       "    </tr>\n",
       "    <tr>\n",
       "      <th>date</th>\n",
       "      <th></th>\n",
       "      <th></th>\n",
       "      <th></th>\n",
       "      <th></th>\n",
       "      <th></th>\n",
       "      <th></th>\n",
       "      <th></th>\n",
       "      <th></th>\n",
       "      <th></th>\n",
       "      <th></th>\n",
       "      <th></th>\n",
       "      <th></th>\n",
       "      <th></th>\n",
       "      <th></th>\n",
       "      <th></th>\n",
       "      <th></th>\n",
       "      <th></th>\n",
       "      <th></th>\n",
       "      <th></th>\n",
       "      <th></th>\n",
       "      <th></th>\n",
       "      <th></th>\n",
       "      <th></th>\n",
       "      <th></th>\n",
       "      <th></th>\n",
       "      <th></th>\n",
       "    </tr>\n",
       "  </thead>\n",
       "  <tbody>\n",
       "    <tr>\n",
       "      <th>2015-10-13 20:00:00</th>\n",
       "      <td>250.35</td>\n",
       "      <td>250.42</td>\n",
       "      <td>250.00</td>\n",
       "      <td>250.42</td>\n",
       "      <td>4.212360</td>\n",
       "      <td>5.522860</td>\n",
       "      <td>5.523140</td>\n",
       "      <td>5.521461</td>\n",
       "      <td>5.523140</td>\n",
       "      <td>249.099717</td>\n",
       "      <td>248.335037</td>\n",
       "      <td>248.070267</td>\n",
       "      <td>247.450021</td>\n",
       "      <td>247.779579</td>\n",
       "      <td>247.383678</td>\n",
       "      <td>62.138793</td>\n",
       "      <td>40.155130</td>\n",
       "      <td>46.356355</td>\n",
       "      <td>248.0515</td>\n",
       "      <td>251.988559</td>\n",
       "      <td>244.114441</td>\n",
       "      <td>1.008111</td>\n",
       "      <td>0.000280</td>\n",
       "      <td>0.07</td>\n",
       "      <td>7.874118</td>\n",
       "      <td>43.255743</td>\n",
       "    </tr>\n",
       "    <tr>\n",
       "      <th>2015-10-14 00:00:00</th>\n",
       "      <td>250.42</td>\n",
       "      <td>251.08</td>\n",
       "      <td>250.42</td>\n",
       "      <td>251.00</td>\n",
       "      <td>13.965352</td>\n",
       "      <td>5.523140</td>\n",
       "      <td>5.525772</td>\n",
       "      <td>5.523140</td>\n",
       "      <td>5.525453</td>\n",
       "      <td>249.393253</td>\n",
       "      <td>248.588207</td>\n",
       "      <td>248.305871</td>\n",
       "      <td>247.639969</td>\n",
       "      <td>247.994423</td>\n",
       "      <td>247.568489</td>\n",
       "      <td>63.970662</td>\n",
       "      <td>40.046929</td>\n",
       "      <td>43.466354</td>\n",
       "      <td>248.3330</td>\n",
       "      <td>252.267876</td>\n",
       "      <td>244.398124</td>\n",
       "      <td>2.315327</td>\n",
       "      <td>0.002316</td>\n",
       "      <td>0.58</td>\n",
       "      <td>7.869751</td>\n",
       "      <td>41.756642</td>\n",
       "    </tr>\n",
       "    <tr>\n",
       "      <th>2015-10-14 04:00:00</th>\n",
       "      <td>251.00</td>\n",
       "      <td>251.00</td>\n",
       "      <td>250.70</td>\n",
       "      <td>251.00</td>\n",
       "      <td>12.449493</td>\n",
       "      <td>5.525453</td>\n",
       "      <td>5.525453</td>\n",
       "      <td>5.524257</td>\n",
       "      <td>5.525453</td>\n",
       "      <td>249.641291</td>\n",
       "      <td>248.816393</td>\n",
       "      <td>248.521162</td>\n",
       "      <td>247.817220</td>\n",
       "      <td>248.193034</td>\n",
       "      <td>247.741197</td>\n",
       "      <td>63.970662</td>\n",
       "      <td>44.894745</td>\n",
       "      <td>41.698935</td>\n",
       "      <td>248.5680</td>\n",
       "      <td>252.552727</td>\n",
       "      <td>244.583273</td>\n",
       "      <td>-0.108544</td>\n",
       "      <td>0.000000</td>\n",
       "      <td>0.00</td>\n",
       "      <td>7.969453</td>\n",
       "      <td>43.296840</td>\n",
       "    </tr>\n",
       "    <tr>\n",
       "      <th>2015-10-14 08:00:00</th>\n",
       "      <td>251.00</td>\n",
       "      <td>251.86</td>\n",
       "      <td>251.00</td>\n",
       "      <td>251.15</td>\n",
       "      <td>8.686492</td>\n",
       "      <td>5.525453</td>\n",
       "      <td>5.528873</td>\n",
       "      <td>5.525453</td>\n",
       "      <td>5.526050</td>\n",
       "      <td>249.874073</td>\n",
       "      <td>249.036367</td>\n",
       "      <td>248.730016</td>\n",
       "      <td>247.990685</td>\n",
       "      <td>248.386702</td>\n",
       "      <td>247.910291</td>\n",
       "      <td>64.486046</td>\n",
       "      <td>52.326475</td>\n",
       "      <td>45.756050</td>\n",
       "      <td>248.8105</td>\n",
       "      <td>252.804377</td>\n",
       "      <td>244.816623</td>\n",
       "      <td>-0.302261</td>\n",
       "      <td>0.000598</td>\n",
       "      <td>0.15</td>\n",
       "      <td>7.987754</td>\n",
       "      <td>49.041263</td>\n",
       "    </tr>\n",
       "    <tr>\n",
       "      <th>2015-10-14 12:00:00</th>\n",
       "      <td>251.15</td>\n",
       "      <td>253.00</td>\n",
       "      <td>251.15</td>\n",
       "      <td>253.00</td>\n",
       "      <td>2.049007</td>\n",
       "      <td>5.526050</td>\n",
       "      <td>5.533389</td>\n",
       "      <td>5.526050</td>\n",
       "      <td>5.533389</td>\n",
       "      <td>250.356163</td>\n",
       "      <td>249.408743</td>\n",
       "      <td>249.067443</td>\n",
       "      <td>248.248108</td>\n",
       "      <td>248.686349</td>\n",
       "      <td>248.159307</td>\n",
       "      <td>70.156196</td>\n",
       "      <td>65.489000</td>\n",
       "      <td>54.236740</td>\n",
       "      <td>249.1455</td>\n",
       "      <td>253.370047</td>\n",
       "      <td>244.920953</td>\n",
       "      <td>-0.764116</td>\n",
       "      <td>0.007366</td>\n",
       "      <td>1.85</td>\n",
       "      <td>8.449094</td>\n",
       "      <td>59.862870</td>\n",
       "    </tr>\n",
       "    <tr>\n",
       "      <th>...</th>\n",
       "      <td>...</td>\n",
       "      <td>...</td>\n",
       "      <td>...</td>\n",
       "      <td>...</td>\n",
       "      <td>...</td>\n",
       "      <td>...</td>\n",
       "      <td>...</td>\n",
       "      <td>...</td>\n",
       "      <td>...</td>\n",
       "      <td>...</td>\n",
       "      <td>...</td>\n",
       "      <td>...</td>\n",
       "      <td>...</td>\n",
       "      <td>...</td>\n",
       "      <td>...</td>\n",
       "      <td>...</td>\n",
       "      <td>...</td>\n",
       "      <td>...</td>\n",
       "      <td>...</td>\n",
       "      <td>...</td>\n",
       "      <td>...</td>\n",
       "      <td>...</td>\n",
       "      <td>...</td>\n",
       "      <td>...</td>\n",
       "      <td>...</td>\n",
       "      <td>...</td>\n",
       "    </tr>\n",
       "    <tr>\n",
       "      <th>2021-08-12 04:00:00</th>\n",
       "      <td>45948.06</td>\n",
       "      <td>46023.08</td>\n",
       "      <td>44859.80</td>\n",
       "      <td>45289.65</td>\n",
       "      <td>89.766358</td>\n",
       "      <td>10.735267</td>\n",
       "      <td>10.736898</td>\n",
       "      <td>10.711297</td>\n",
       "      <td>10.720834</td>\n",
       "      <td>45724.558435</td>\n",
       "      <td>45334.610373</td>\n",
       "      <td>45054.798801</td>\n",
       "      <td>43717.075185</td>\n",
       "      <td>44593.205995</td>\n",
       "      <td>43460.156732</td>\n",
       "      <td>52.486887</td>\n",
       "      <td>6.135417</td>\n",
       "      <td>21.365438</td>\n",
       "      <td>45629.8145</td>\n",
       "      <td>47153.082172</td>\n",
       "      <td>44106.546828</td>\n",
       "      <td>0.800303</td>\n",
       "      <td>-0.014329</td>\n",
       "      <td>-658.41</td>\n",
       "      <td>3046.535344</td>\n",
       "      <td>13.750427</td>\n",
       "    </tr>\n",
       "    <tr>\n",
       "      <th>2021-08-12 08:00:00</th>\n",
       "      <td>45289.65</td>\n",
       "      <td>45663.34</td>\n",
       "      <td>44670.18</td>\n",
       "      <td>44758.93</td>\n",
       "      <td>69.830994</td>\n",
       "      <td>10.720834</td>\n",
       "      <td>10.729051</td>\n",
       "      <td>10.707061</td>\n",
       "      <td>10.709046</td>\n",
       "      <td>45576.000214</td>\n",
       "      <td>45282.275793</td>\n",
       "      <td>45032.882594</td>\n",
       "      <td>43757.932237</td>\n",
       "      <td>44602.675938</td>\n",
       "      <td>43506.541492</td>\n",
       "      <td>48.141461</td>\n",
       "      <td>6.135417</td>\n",
       "      <td>11.886482</td>\n",
       "      <td>45691.2940</td>\n",
       "      <td>46930.350348</td>\n",
       "      <td>44452.237652</td>\n",
       "      <td>-0.222081</td>\n",
       "      <td>-0.011718</td>\n",
       "      <td>-530.72</td>\n",
       "      <td>2478.112696</td>\n",
       "      <td>9.010949</td>\n",
       "    </tr>\n",
       "    <tr>\n",
       "      <th>2021-08-12 12:00:00</th>\n",
       "      <td>44758.93</td>\n",
       "      <td>44956.97</td>\n",
       "      <td>43923.00</td>\n",
       "      <td>44204.11</td>\n",
       "      <td>114.602881</td>\n",
       "      <td>10.709046</td>\n",
       "      <td>10.713461</td>\n",
       "      <td>10.690193</td>\n",
       "      <td>10.696573</td>\n",
       "      <td>45364.940181</td>\n",
       "      <td>45184.260721</td>\n",
       "      <td>44971.492031</td>\n",
       "      <td>43775.429404</td>\n",
       "      <td>44579.900742</td>\n",
       "      <td>43531.454653</td>\n",
       "      <td>44.036875</td>\n",
       "      <td>0.000000</td>\n",
       "      <td>4.090278</td>\n",
       "      <td>45708.6670</td>\n",
       "      <td>46844.888738</td>\n",
       "      <td>44572.445262</td>\n",
       "      <td>0.641146</td>\n",
       "      <td>-0.012396</td>\n",
       "      <td>-554.82</td>\n",
       "      <td>2272.443476</td>\n",
       "      <td>2.045139</td>\n",
       "    </tr>\n",
       "    <tr>\n",
       "      <th>2021-08-12 16:00:00</th>\n",
       "      <td>44204.11</td>\n",
       "      <td>44528.82</td>\n",
       "      <td>43800.00</td>\n",
       "      <td>44407.09</td>\n",
       "      <td>84.168365</td>\n",
       "      <td>10.696573</td>\n",
       "      <td>10.703892</td>\n",
       "      <td>10.687389</td>\n",
       "      <td>10.701154</td>\n",
       "      <td>45217.578615</td>\n",
       "      <td>45113.608837</td>\n",
       "      <td>44929.684473</td>\n",
       "      <td>43800.200408</td>\n",
       "      <td>44570.025842</td>\n",
       "      <td>43562.727344</td>\n",
       "      <td>45.855691</td>\n",
       "      <td>2.686161</td>\n",
       "      <td>2.940526</td>\n",
       "      <td>45629.4410</td>\n",
       "      <td>46896.078488</td>\n",
       "      <td>44362.803512</td>\n",
       "      <td>-0.265565</td>\n",
       "      <td>0.004592</td>\n",
       "      <td>202.98</td>\n",
       "      <td>2533.274975</td>\n",
       "      <td>2.813343</td>\n",
       "    </tr>\n",
       "    <tr>\n",
       "      <th>2021-08-12 20:00:00</th>\n",
       "      <td>44407.09</td>\n",
       "      <td>44578.23</td>\n",
       "      <td>43895.31</td>\n",
       "      <td>44430.99</td>\n",
       "      <td>61.694263</td>\n",
       "      <td>10.701154</td>\n",
       "      <td>10.705001</td>\n",
       "      <td>10.689563</td>\n",
       "      <td>10.701692</td>\n",
       "      <td>45096.564982</td>\n",
       "      <td>45051.552580</td>\n",
       "      <td>44892.744142</td>\n",
       "      <td>43824.937254</td>\n",
       "      <td>44562.080937</td>\n",
       "      <td>43593.736724</td>\n",
       "      <td>46.077911</td>\n",
       "      <td>5.700512</td>\n",
       "      <td>2.795558</td>\n",
       "      <td>45555.4450</td>\n",
       "      <td>46921.831848</td>\n",
       "      <td>44189.058152</td>\n",
       "      <td>-0.267014</td>\n",
       "      <td>0.000538</td>\n",
       "      <td>23.90</td>\n",
       "      <td>2732.773696</td>\n",
       "      <td>4.248035</td>\n",
       "    </tr>\n",
       "  </tbody>\n",
       "</table>\n",
       "<p>12775 rows × 26 columns</p>\n",
       "</div>"
      ],
      "text/plain": [
       "                         open      high       low     close      volume  \\\n",
       "date                                                                      \n",
       "2015-10-13 20:00:00    250.35    250.42    250.00    250.42    4.212360   \n",
       "2015-10-14 00:00:00    250.42    251.08    250.42    251.00   13.965352   \n",
       "2015-10-14 04:00:00    251.00    251.00    250.70    251.00   12.449493   \n",
       "2015-10-14 08:00:00    251.00    251.86    251.00    251.15    8.686492   \n",
       "2015-10-14 12:00:00    251.15    253.00    251.15    253.00    2.049007   \n",
       "...                       ...       ...       ...       ...         ...   \n",
       "2021-08-12 04:00:00  45948.06  46023.08  44859.80  45289.65   89.766358   \n",
       "2021-08-12 08:00:00  45289.65  45663.34  44670.18  44758.93   69.830994   \n",
       "2021-08-12 12:00:00  44758.93  44956.97  43923.00  44204.11  114.602881   \n",
       "2021-08-12 16:00:00  44204.11  44528.82  43800.00  44407.09   84.168365   \n",
       "2021-08-12 20:00:00  44407.09  44578.23  43895.31  44430.99   61.694263   \n",
       "\n",
       "                      log_open   log_high    log_low  log_close         ema12  \\\n",
       "date                                                                            \n",
       "2015-10-13 20:00:00   5.522860   5.523140   5.521461   5.523140    249.099717   \n",
       "2015-10-14 00:00:00   5.523140   5.525772   5.523140   5.525453    249.393253   \n",
       "2015-10-14 04:00:00   5.525453   5.525453   5.524257   5.525453    249.641291   \n",
       "2015-10-14 08:00:00   5.525453   5.528873   5.525453   5.526050    249.874073   \n",
       "2015-10-14 12:00:00   5.526050   5.533389   5.526050   5.533389    250.356163   \n",
       "...                        ...        ...        ...        ...           ...   \n",
       "2021-08-12 04:00:00  10.735267  10.736898  10.711297  10.720834  45724.558435   \n",
       "2021-08-12 08:00:00  10.720834  10.729051  10.707061  10.709046  45576.000214   \n",
       "2021-08-12 12:00:00  10.709046  10.713461  10.690193  10.696573  45364.940181   \n",
       "2021-08-12 16:00:00  10.696573  10.703892  10.687389  10.701154  45217.578615   \n",
       "2021-08-12 20:00:00  10.701154  10.705001  10.689563  10.701692  45096.564982   \n",
       "\n",
       "                            ema21         ema26         ema50         ema34  \\\n",
       "date                                                                          \n",
       "2015-10-13 20:00:00    248.335037    248.070267    247.450021    247.779579   \n",
       "2015-10-14 00:00:00    248.588207    248.305871    247.639969    247.994423   \n",
       "2015-10-14 04:00:00    248.816393    248.521162    247.817220    248.193034   \n",
       "2015-10-14 08:00:00    249.036367    248.730016    247.990685    248.386702   \n",
       "2015-10-14 12:00:00    249.408743    249.067443    248.248108    248.686349   \n",
       "...                           ...           ...           ...           ...   \n",
       "2021-08-12 04:00:00  45334.610373  45054.798801  43717.075185  44593.205995   \n",
       "2021-08-12 08:00:00  45282.275793  45032.882594  43757.932237  44602.675938   \n",
       "2021-08-12 12:00:00  45184.260721  44971.492031  43775.429404  44579.900742   \n",
       "2021-08-12 16:00:00  45113.608837  44929.684473  43800.200408  44570.025842   \n",
       "2021-08-12 20:00:00  45051.552580  44892.744142  43824.937254  44562.080937   \n",
       "\n",
       "                            ema55        rsi          K          D  \\\n",
       "date                                                                 \n",
       "2015-10-13 20:00:00    247.383678  62.138793  40.155130  46.356355   \n",
       "2015-10-14 00:00:00    247.568489  63.970662  40.046929  43.466354   \n",
       "2015-10-14 04:00:00    247.741197  63.970662  44.894745  41.698935   \n",
       "2015-10-14 08:00:00    247.910291  64.486046  52.326475  45.756050   \n",
       "2015-10-14 12:00:00    248.159307  70.156196  65.489000  54.236740   \n",
       "...                           ...        ...        ...        ...   \n",
       "2021-08-12 04:00:00  43460.156732  52.486887   6.135417  21.365438   \n",
       "2021-08-12 08:00:00  43506.541492  48.141461   6.135417  11.886482   \n",
       "2021-08-12 12:00:00  43531.454653  44.036875   0.000000   4.090278   \n",
       "2021-08-12 16:00:00  43562.727344  45.855691   2.686161   2.940526   \n",
       "2021-08-12 20:00:00  43593.736724  46.077911   5.700512   2.795558   \n",
       "\n",
       "                            sma  bollinger_up  bollinger_down   vol_roc  \\\n",
       "date                                                                      \n",
       "2015-10-13 20:00:00    248.0515    251.988559      244.114441  1.008111   \n",
       "2015-10-14 00:00:00    248.3330    252.267876      244.398124  2.315327   \n",
       "2015-10-14 04:00:00    248.5680    252.552727      244.583273 -0.108544   \n",
       "2015-10-14 08:00:00    248.8105    252.804377      244.816623 -0.302261   \n",
       "2015-10-14 12:00:00    249.1455    253.370047      244.920953 -0.764116   \n",
       "...                         ...           ...             ...       ...   \n",
       "2021-08-12 04:00:00  45629.8145  47153.082172    44106.546828  0.800303   \n",
       "2021-08-12 08:00:00  45691.2940  46930.350348    44452.237652 -0.222081   \n",
       "2021-08-12 12:00:00  45708.6670  46844.888738    44572.445262  0.641146   \n",
       "2021-08-12 16:00:00  45629.4410  46896.078488    44362.803512 -0.265565   \n",
       "2021-08-12 20:00:00  45555.4450  46921.831848    44189.058152 -0.267014   \n",
       "\n",
       "                     4h Return  4h Gradient   boll_width  stoch_rsi  \n",
       "date                                                                 \n",
       "2015-10-13 20:00:00   0.000280         0.07     7.874118  43.255743  \n",
       "2015-10-14 00:00:00   0.002316         0.58     7.869751  41.756642  \n",
       "2015-10-14 04:00:00   0.000000         0.00     7.969453  43.296840  \n",
       "2015-10-14 08:00:00   0.000598         0.15     7.987754  49.041263  \n",
       "2015-10-14 12:00:00   0.007366         1.85     8.449094  59.862870  \n",
       "...                        ...          ...          ...        ...  \n",
       "2021-08-12 04:00:00  -0.014329      -658.41  3046.535344  13.750427  \n",
       "2021-08-12 08:00:00  -0.011718      -530.72  2478.112696   9.010949  \n",
       "2021-08-12 12:00:00  -0.012396      -554.82  2272.443476   2.045139  \n",
       "2021-08-12 16:00:00   0.004592       202.98  2533.274975   2.813343  \n",
       "2021-08-12 20:00:00   0.000538        23.90  2732.773696   4.248035  \n",
       "\n",
       "[12775 rows x 26 columns]"
      ]
     },
     "execution_count": 11,
     "metadata": {},
     "output_type": "execute_result"
    }
   ],
   "source": [
    "data"
   ]
  },
  {
   "cell_type": "code",
   "execution_count": 12,
   "metadata": {
    "colab": {
     "base_uri": "https://localhost:8080/",
     "height": 396
    },
    "executionInfo": {
     "elapsed": 22347,
     "status": "ok",
     "timestamp": 1629967374725,
     "user": {
      "displayName": "Ivan Fernandes",
      "photoUrl": "https://lh3.googleusercontent.com/a-/AOh14GgHdj66drQjCguTVvVzCd5yy8cdMluPJPZlz_BQLg=s64",
      "userId": "12100132160237129013"
     },
     "user_tz": -120
    },
    "id": "gZqR9QqWl3T7",
    "outputId": "08c3ec7e-0b4b-4a45-b1d3-05a758a62e18"
   },
   "outputs": [
    {
     "data": {
      "image/png": "[encoded data removed]",
      "text/plain": [
       "<Figure size 360x360 with 1 Axes>"
      ]
     },
     "metadata": {},
     "output_type": "display_data"
    }
   ],
   "source": [
    "sns.displot(data = data, x= '4h Gradient')\n",
    "plt.ylabel('4h Return')\n",
    "plt.xlim([-500,500])\n",
    "plt.ylim([0,500])\n",
    "plt.title(f\"4h Return  for {coin_selection}\");"
   ]
  },
  {
   "cell_type": "code",
   "execution_count": 13,
   "metadata": {},
   "outputs": [
    {
     "data": {
      "text/plain": [
       "Index(['open', 'high', 'low', 'close', 'volume', 'log_open', 'log_high',\n",
       "       'log_low', 'log_close', 'ema12', 'ema21', 'ema26', 'ema50', 'ema34',\n",
       "       'ema55', 'rsi', 'K', 'D', 'sma', 'bollinger_up', 'bollinger_down',\n",
       "       'vol_roc', '4h Return', '4h Gradient', 'boll_width', 'stoch_rsi'],\n",
       "      dtype='object')"
      ]
     },
     "execution_count": 13,
     "metadata": {},
     "output_type": "execute_result"
    }
   ],
   "source": [
    "data.columns"
   ]
  },
  {
   "cell_type": "code",
   "execution_count": 14,
   "metadata": {
    "colab": {
     "base_uri": "https://localhost:8080/",
     "height": 388
    },
    "executionInfo": {
     "elapsed": 435,
     "status": "ok",
     "timestamp": 1629967485048,
     "user": {
      "displayName": "Ivan Fernandes",
      "photoUrl": "https://lh3.googleusercontent.com/a-/AOh14GgHdj66drQjCguTVvVzCd5yy8cdMluPJPZlz_BQLg=s64",
      "userId": "12100132160237129013"
     },
     "user_tz": -120
    },
    "id": "k_7EthwKldWf",
    "outputId": "0f91c60d-f72a-4a51-d588-bda4a1b380db"
   },
   "outputs": [],
   "source": [
    "#selected_features = ['close','rsi','ema20','4h Return']  # best for me\n",
    "#selected_features = ['close','rsi','bollinger_up','ema21']  # best for frieda\n",
    "selected_features = ['close','high','bollinger_up','rsi','ema12']#,'high'\n",
    "selected_data = data[selected_features]"
   ]
  },
  {
   "cell_type": "markdown",
   "metadata": {
    "id": "yB-e6gSuarJp"
   },
   "source": [
    "##  BTC Stock Price"
   ]
  },
  {
   "cell_type": "markdown",
   "metadata": {
    "id": "-xCE9uVbTOat"
   },
   "source": [
    "### Temporal Train-Test Split"
   ]
  },
  {
   "cell_type": "code",
   "execution_count": 15,
   "metadata": {
    "executionInfo": {
     "elapsed": 338,
     "status": "ok",
     "timestamp": 1629967515425,
     "user": {
      "displayName": "Ivan Fernandes",
      "photoUrl": "https://lh3.googleusercontent.com/a-/AOh14GgHdj66drQjCguTVvVzCd5yy8cdMluPJPZlz_BQLg=s64",
      "userId": "12100132160237129013"
     },
     "user_tz": -120
    },
    "id": "ywO60BptTOat"
   },
   "outputs": [],
   "source": [
    "train_percentage = 95"
   ]
  },
  {
   "cell_type": "code",
   "execution_count": 16,
   "metadata": {
    "colab": {
     "base_uri": "https://localhost:8080/"
    },
    "executionInfo": {
     "elapsed": 6,
     "status": "ok",
     "timestamp": 1629967587167,
     "user": {
      "displayName": "Ivan Fernandes",
      "photoUrl": "https://lh3.googleusercontent.com/a-/AOh14GgHdj66drQjCguTVvVzCd5yy8cdMluPJPZlz_BQLg=s64",
      "userId": "12100132160237129013"
     },
     "user_tz": -120
    },
    "id": "7WYQ6ez0TOat",
    "outputId": "37e64416-2715-4b67-fb97-87579856daf4"
   },
   "outputs": [
    {
     "data": {
      "text/plain": [
       "12136"
      ]
     },
     "execution_count": 16,
     "metadata": {},
     "output_type": "execute_result"
    }
   ],
   "source": [
    "train_len = int(len(selected_data) * train_percentage/100)\n",
    "train_len"
   ]
  },
  {
   "cell_type": "code",
   "execution_count": 17,
   "metadata": {
    "executionInfo": {
     "elapsed": 381,
     "status": "ok",
     "timestamp": 1629967641312,
     "user": {
      "displayName": "Ivan Fernandes",
      "photoUrl": "https://lh3.googleusercontent.com/a-/AOh14GgHdj66drQjCguTVvVzCd5yy8cdMluPJPZlz_BQLg=s64",
      "userId": "12100132160237129013"
     },
     "user_tz": -120
    },
    "id": "du_UX6DFTOau"
   },
   "outputs": [],
   "source": [
    "data_train = selected_data[:train_len]\n",
    "data_test = selected_data[train_len:]"
   ]
  },
  {
   "cell_type": "markdown",
   "metadata": {
    "id": "PO0NJSeTTOau"
   },
   "source": [
    "## LSTM"
   ]
  },
  {
   "cell_type": "code",
   "execution_count": 18,
   "metadata": {
    "executionInfo": {
     "elapsed": 391,
     "status": "ok",
     "timestamp": 1629967656804,
     "user": {
      "displayName": "Ivan Fernandes",
      "photoUrl": "https://lh3.googleusercontent.com/a-/AOh14GgHdj66drQjCguTVvVzCd5yy8cdMluPJPZlz_BQLg=s64",
      "userId": "12100132160237129013"
     },
     "user_tz": -120
    },
    "id": "LsSFTVehTOau"
   },
   "outputs": [],
   "source": [
    "from sklearn.preprocessing import MinMaxScaler\n",
    "\n",
    "minmax_scaler = MinMaxScaler(feature_range = (0,1))\n",
    "\n",
    "minmax_scaler.fit(data_train)\n",
    "\n",
    "data_train_scaled = minmax_scaler.transform(data_train)\n",
    "data_test_scaled = minmax_scaler.transform(data_test)"
   ]
  },
  {
   "cell_type": "code",
   "execution_count": 19,
   "metadata": {
    "colab": {
     "base_uri": "https://localhost:8080/"
    },
    "executionInfo": {
     "elapsed": 3,
     "status": "ok",
     "timestamp": 1629967657307,
     "user": {
      "displayName": "Ivan Fernandes",
      "photoUrl": "https://lh3.googleusercontent.com/a-/AOh14GgHdj66drQjCguTVvVzCd5yy8cdMluPJPZlz_BQLg=s64",
      "userId": "12100132160237129013"
     },
     "user_tz": -120
    },
    "id": "vCCSU71kTOau",
    "outputId": "55400905-ef27-434f-fcf3-cebc738f1d51"
   },
   "outputs": [
    {
     "data": {
      "text/plain": [
       "array([64567.25      , 64900.        , 66272.64103673,    94.1024183 ,\n",
       "       62913.8504784 ])"
      ]
     },
     "execution_count": 19,
     "metadata": {},
     "output_type": "execute_result"
    }
   ],
   "source": [
    "minmax_scaler.data_max_"
   ]
  },
  {
   "cell_type": "code",
   "execution_count": 20,
   "metadata": {
    "colab": {
     "base_uri": "https://localhost:8080/"
    },
    "executionInfo": {
     "elapsed": 4,
     "status": "ok",
     "timestamp": 1629967659501,
     "user": {
      "displayName": "Ivan Fernandes",
      "photoUrl": "https://lh3.googleusercontent.com/a-/AOh14GgHdj66drQjCguTVvVzCd5yy8cdMluPJPZlz_BQLg=s64",
      "userId": "12100132160237129013"
     },
     "user_tz": -120
    },
    "id": "7u5vQbfPTOav",
    "outputId": "4eea426d-b00e-4953-e15f-c41f79618ee7"
   },
   "outputs": [
    {
     "data": {
      "text/plain": [
       "array([250.42      , 250.42      , 251.98855888,   6.00372889,\n",
       "       249.09971715])"
      ]
     },
     "execution_count": 20,
     "metadata": {},
     "output_type": "execute_result"
    }
   ],
   "source": [
    "minmax_scaler.data_min_"
   ]
  },
  {
   "cell_type": "code",
   "execution_count": 21,
   "metadata": {},
   "outputs": [
    {
     "data": {
      "text/plain": [
       "250.42"
      ]
     },
     "execution_count": 21,
     "metadata": {},
     "output_type": "execute_result"
    }
   ],
   "source": [
    "min1 = minmax_scaler.data_min_[0]\n",
    "min1"
   ]
  },
  {
   "cell_type": "code",
   "execution_count": 22,
   "metadata": {},
   "outputs": [
    {
     "data": {
      "text/plain": [
       "64316.83"
      ]
     },
     "execution_count": 22,
     "metadata": {},
     "output_type": "execute_result"
    }
   ],
   "source": [
    "range1 = minmax_scaler.data_range_[0]\n",
    "range1"
   ]
  },
  {
   "cell_type": "markdown",
   "metadata": {
    "id": "gMim3w6qTOaw"
   },
   "source": [
    "### Creating subsequences..."
   ]
  },
  {
   "cell_type": "code",
   "execution_count": 23,
   "metadata": {
    "executionInfo": {
     "elapsed": 4,
     "status": "ok",
     "timestamp": 1629967702188,
     "user": {
      "displayName": "Ivan Fernandes",
      "photoUrl": "https://lh3.googleusercontent.com/a-/AOh14GgHdj66drQjCguTVvVzCd5yy8cdMluPJPZlz_BQLg=s64",
      "userId": "12100132160237129013"
     },
     "user_tz": -120
    },
    "id": "uLSYeXScTOaz"
   },
   "outputs": [],
   "source": [
    "window_size = 18 # test with small window size\n",
    "horizon = 1 #number of predictions into the future :) \n",
    "data_train_subsequences = []\n",
    "fake_y_train = []\n",
    "for k in range(len(data_train_scaled)-(window_size-1)-horizon):\n",
    "    data_train_subsequences.append(data_train_scaled[k:k+window_size])\n",
    "    fake_y_train.append(data_train_scaled[k+window_size])"
   ]
  },
  {
   "cell_type": "code",
   "execution_count": 24,
   "metadata": {},
   "outputs": [],
   "source": [
    "X_train = np.array(data_train_subsequences)\n",
    "y_train = np.array(fake_y_train)[:,0].reshape(-1,1)"
   ]
  },
  {
   "cell_type": "code",
   "execution_count": 25,
   "metadata": {},
   "outputs": [
    {
     "data": {
      "text/plain": [
       "(12118, 18, 5)"
      ]
     },
     "execution_count": 25,
     "metadata": {},
     "output_type": "execute_result"
    }
   ],
   "source": [
    "X_train.shape"
   ]
  },
  {
   "cell_type": "code",
   "execution_count": 26,
   "metadata": {},
   "outputs": [
    {
     "data": {
      "text/plain": [
       "(12118, 1)"
      ]
     },
     "execution_count": 26,
     "metadata": {},
     "output_type": "execute_result"
    }
   ],
   "source": [
    "y_train.shape"
   ]
  },
  {
   "cell_type": "code",
   "execution_count": 27,
   "metadata": {},
   "outputs": [],
   "source": [
    "#with the same window_size & horizon as the train data\n",
    "window_size = 18\n",
    "horizon = 1\n",
    "data_test_subsequences = []\n",
    "fake_y_test = []\n",
    "for k in range(len(data_test_scaled)-(window_size-1)-horizon):\n",
    "    data_test_subsequences.append(data_test_scaled[k:k+window_size])\n",
    "    fake_y_test.append(data_test_scaled[k+window_size])"
   ]
  },
  {
   "cell_type": "code",
   "execution_count": 28,
   "metadata": {},
   "outputs": [
    {
     "data": {
      "text/plain": [
       "(621, 1)"
      ]
     },
     "execution_count": 28,
     "metadata": {},
     "output_type": "execute_result"
    }
   ],
   "source": [
    "X_test = np.array(data_test_subsequences)\n",
    "y_test = np.array(fake_y_test)[:,0].reshape(-1,1)\n",
    "y_test.shape"
   ]
  },
  {
   "cell_type": "markdown",
   "metadata": {},
   "source": [
    "### Baseline"
   ]
  },
  {
   "cell_type": "code",
   "execution_count": 29,
   "metadata": {},
   "outputs": [],
   "source": [
    "# baseline predictions\n",
    "X_test_last_seen_value = [_[-1][0] for _ in X_test]"
   ]
  },
  {
   "cell_type": "code",
   "execution_count": 30,
   "metadata": {},
   "outputs": [],
   "source": [
    "X_test_last_seen_value_uns = np.array(X_test_last_seen_value) * range1 + min1"
   ]
  },
  {
   "cell_type": "code",
   "execution_count": 31,
   "metadata": {},
   "outputs": [],
   "source": [
    "X_test_last_seen_value_uns = X_test_last_seen_value_uns.reshape(-1,1)"
   ]
  },
  {
   "cell_type": "code",
   "execution_count": 32,
   "metadata": {},
   "outputs": [],
   "source": [
    "y_test_unscaled = y_test * range1 + min1"
   ]
  },
  {
   "cell_type": "code",
   "execution_count": 33,
   "metadata": {},
   "outputs": [
    {
     "data": {
      "text/plain": [
       "577.1352979066024"
      ]
     },
     "execution_count": 33,
     "metadata": {},
     "output_type": "execute_result"
    }
   ],
   "source": [
    "np.mean(np.abs(y_test_unscaled - X_test_last_seen_value_uns))"
   ]
  },
  {
   "cell_type": "markdown",
   "metadata": {},
   "source": [
    "### Baseline mape"
   ]
  },
  {
   "cell_type": "code",
   "execution_count": 34,
   "metadata": {},
   "outputs": [],
   "source": [
    "baseline_mape = np.mean(np.abs((y_test_unscaled - X_test_last_seen_value_uns) / y_test_unscaled)) *100"
   ]
  },
  {
   "cell_type": "code",
   "execution_count": 35,
   "metadata": {},
   "outputs": [
    {
     "data": {
      "text/plain": [
       "1.4716527822480265"
      ]
     },
     "execution_count": 35,
     "metadata": {},
     "output_type": "execute_result"
    }
   ],
   "source": [
    "baseline_mape "
   ]
  },
  {
   "cell_type": "markdown",
   "metadata": {
    "id": "KU7fCgwYTOa2"
   },
   "source": [
    "### LSTM"
   ]
  },
  {
   "cell_type": "markdown",
   "metadata": {
    "id": "4VXmMApdTOa3"
   },
   "source": [
    "#### RNN Architecture"
   ]
  },
  {
   "cell_type": "code",
   "execution_count": 36,
   "metadata": {
    "colab": {
     "base_uri": "https://localhost:8080/"
    },
    "executionInfo": {
     "elapsed": 2,
     "status": "ok",
     "timestamp": 1629968945439,
     "user": {
      "displayName": "Ivan Fernandes",
      "photoUrl": "https://lh3.googleusercontent.com/a-/AOh14GgHdj66drQjCguTVvVzCd5yy8cdMluPJPZlz_BQLg=s64",
      "userId": "12100132160237129013"
     },
     "user_tz": -120
    },
    "id": "cPGw4CxharJx",
    "outputId": "eff5edb9-92ef-4a1c-d0f7-34e50a8596ce"
   },
   "outputs": [],
   "source": [
    "# def create_model():\n",
    "    \n",
    "#     # Define architecture without input shape yet, as we don't know the shape post preprocessing\n",
    "#     model = Sequential()\n",
    "\n",
    "#     model.add(layers.LSTM(units=128,\n",
    "#                      return_sequences = True,\n",
    "#                      activation = \"tanh\"\n",
    "#                     #activation = \"relu\"\n",
    "#                      #input_shape = X_train[0].shape)\n",
    "#                      ))\n",
    "\n",
    "#     model.add(layers.LSTM(units=64,\n",
    "#                       return_sequences = False,\n",
    "#                       activation = \"relu\"  \n",
    "#                     #activation = \"relu\"\n",
    "#                      ))\n",
    "\n",
    "#     model.add(layers.Dense(32,\n",
    "#                         activation = \"tanh\" \n",
    "#                        #activation=\"relu\"\n",
    "#                       ))\n",
    "#     model.add(layers.Dense(8,\n",
    "#                        activation = \"relu\"\n",
    "#                        #activation=\"relu\"\n",
    "#                       ))\n",
    "#     model.add(layers.Dense(1,\n",
    "#                       activation = \"relu\" \n",
    "#                       #activation=\"relu\"\n",
    "#                       ))\n",
    "#     # Compile model\n",
    "#     model.compile(loss='mse', \n",
    "#                   optimizer='adam', \n",
    "#                   metrics='mae')\n",
    "#     return model\n",
    "    \n",
    "\n"
   ]
  },
  {
   "cell_type": "code",
   "execution_count": 37,
   "metadata": {},
   "outputs": [],
   "source": [
    "# from keras.wrappers.scikit_learn import KerasRegressor\n",
    "# from sklearn.model_selection import cross_val_score"
   ]
  },
  {
   "cell_type": "code",
   "execution_count": 38,
   "metadata": {},
   "outputs": [],
   "source": [
    "# '''\n",
    "# Then, let's apply a \"mask\" to disguise this model as a Scikit Learn estimator\n",
    "# '''\n",
    "# from tensorflow.keras.wrappers.scikit_learn import KerasRegressor\n",
    "\n",
    "# model_cv = KerasRegressor(build_fn=create_model, \n",
    "#                         epochs=10, \n",
    "#                         batch_size=32, \n",
    "#                         verbose=0)\n",
    "\n",
    "\n",
    "\n"
   ]
  },
  {
   "cell_type": "code",
   "execution_count": 39,
   "metadata": {},
   "outputs": [],
   "source": [
    "# %%time\n",
    "# '''\n",
    "# Now, your deep learning model is seen as SKLearn estimator\n",
    "# You can **cross_validate** it and even **cross_val_score** it.\n",
    "# '''\n",
    "# from sklearn.model_selection import cross_validate\n",
    "\n",
    "\n",
    "# cv_results = cross_validate(model_cv, X_train, y_train, cv=10, n_jobs=-1, scoring=\"neg_mean_absolute_error\")"
   ]
  },
  {
   "cell_type": "code",
   "execution_count": 40,
   "metadata": {},
   "outputs": [],
   "source": [
    "# -cv_results[\"test_score\"]"
   ]
  },
  {
   "cell_type": "code",
   "execution_count": 41,
   "metadata": {},
   "outputs": [],
   "source": [
    "# np.mean(-cv_results[\"test_score\"])"
   ]
  },
  {
   "cell_type": "code",
   "execution_count": 42,
   "metadata": {},
   "outputs": [],
   "source": [
    "# plt.plot(-cv_results[\"test_score\"])"
   ]
  },
  {
   "cell_type": "code",
   "execution_count": 43,
   "metadata": {},
   "outputs": [],
   "source": [
    "# np.std(-cv_results[\"test_score\"])"
   ]
  },
  {
   "cell_type": "code",
   "execution_count": 44,
   "metadata": {
    "executionInfo": {
     "elapsed": 1,
     "status": "ok",
     "timestamp": 1629968945884,
     "user": {
      "displayName": "Ivan Fernandes",
      "photoUrl": "https://lh3.googleusercontent.com/a-/AOh14GgHdj66drQjCguTVvVzCd5yy8cdMluPJPZlz_BQLg=s64",
      "userId": "12100132160237129013"
     },
     "user_tz": -120
    },
    "id": "ZPwe_lkATOa3"
   },
   "outputs": [],
   "source": [
    "#from tensorflow.keras import metrics\n",
    "\n",
    "#my_mae = metrics.MeanAbsoluteError(\n",
    "    #name='mean_absolute_error', dtype=None)\n"
   ]
  },
  {
   "cell_type": "markdown",
   "metadata": {},
   "source": [
    "##### Standar RNN Model"
   ]
  },
  {
   "cell_type": "code",
   "execution_count": 45,
   "metadata": {
    "colab": {
     "base_uri": "https://localhost:8080/"
    },
    "executionInfo": {
     "elapsed": 1953,
     "status": "ok",
     "timestamp": 1629968948177,
     "user": {
      "displayName": "Ivan Fernandes",
      "photoUrl": "https://lh3.googleusercontent.com/a-/AOh14GgHdj66drQjCguTVvVzCd5yy8cdMluPJPZlz_BQLg=s64",
      "userId": "12100132160237129013"
     },
     "user_tz": -120
    },
    "id": "GkEjh2ngTOa4",
    "outputId": "934eff05-c3ac-4046-984c-0401bd0b2484"
   },
   "outputs": [],
   "source": [
    "# from tensorflow.keras import Sequential, layers\n",
    "\n",
    "# # Build the LSTM model\n",
    "# model = Sequential()\n",
    "\n",
    "# model.add(layers.LSTM(units=128,\n",
    "#                      return_sequences = True,\n",
    "#                      activation = \"tanh\"\n",
    "#                     #activation = \"relu\"\n",
    "#                      #input_shape = X_train[0].shape)\n",
    "#                      ))\n",
    "\n",
    "# model.add(layers.LSTM(units=64,\n",
    "#                       return_sequences = False,\n",
    "#                       activation = \"relu\"  \n",
    "#                     #activation = \"relu\"\n",
    "#                      ))\n",
    "\n",
    "# # model.add(layers.Dense(25,\n",
    "# #                          activation=\"relu\"))\n",
    "# model.add(layers.Dense(32,\n",
    "#                         activation = \"tanh\" \n",
    "#                        #activation=\"relu\"\n",
    "#                       ))\n",
    "# #model.add(layers.Dense(16,activation=\"relu\"))\n",
    "# model.add(layers.Dense(8,\n",
    "#                        activation = \"relu\"\n",
    "#                        #activation=\"relu\"\n",
    "#                       ))\n",
    "# model.add(layers.Dense(1,\n",
    "#                       activation = \"relu\" \n",
    "#                       #activation=\"relu\"\n",
    "#                       ))\n",
    "\n",
    "# #model.summary()\n",
    "\n"
   ]
  },
  {
   "cell_type": "markdown",
   "metadata": {},
   "source": [
    "##### Best Model till now 1.5% Accuracy"
   ]
  },
  {
   "cell_type": "code",
   "execution_count": 46,
   "metadata": {},
   "outputs": [],
   "source": [
    "# from tensorflow.keras import Sequential, layers\n",
    "# from tensorflow.keras.layers import Dropout\n",
    "\n",
    "# # Build the LSTM model\n",
    "# model = Sequential()\n",
    "\n",
    "# model.add(layers.LSTM(units=21,return_sequences = True,activation = \"tanh\"))\n",
    "\n",
    "# model.add(layers.LSTM(units=64,return_sequences = False,activation = \"relu\"))\n",
    "\n",
    "# model.add(layers.Dense(32,activation = \"tanh\" ))\n",
    "\n",
    "# model.add(layers.Dense(1,activation = \"relu\"))"
   ]
  },
  {
   "cell_type": "markdown",
   "metadata": {},
   "source": [
    "##### Test with other layers configuration"
   ]
  },
  {
   "cell_type": "code",
   "execution_count": 47,
   "metadata": {},
   "outputs": [
    {
     "name": "stderr",
     "output_type": "stream",
     "text": [
      "2021-09-02 13:21:28.383501: W tensorflow/stream_executor/platform/default/dso_loader.cc:64] Could not load dynamic library 'libcuda.so.1'; dlerror: libcuda.so.1: cannot open shared object file: No such file or directory\n",
      "2021-09-02 13:21:28.383554: W tensorflow/stream_executor/cuda/cuda_driver.cc:269] failed call to cuInit: UNKNOWN ERROR (303)\n",
      "2021-09-02 13:21:28.383568: I tensorflow/stream_executor/cuda/cuda_diagnostics.cc:156] kernel driver does not appear to be running on this host (LAPTOP-QQH7A32G): /proc/driver/nvidia/version does not exist\n",
      "2021-09-02 13:21:28.383815: I tensorflow/core/platform/cpu_feature_guard.cc:142] This TensorFlow binary is optimized with oneAPI Deep Neural Network Library (oneDNN) to use the following CPU instructions in performance-critical operations:  AVX2 AVX512F FMA\n",
      "To enable them in other operations, rebuild TensorFlow with the appropriate compiler flags.\n"
     ]
    }
   ],
   "source": [
    "from tensorflow.keras import Sequential, layers\n",
    "from tensorflow.keras.layers import Dropout\n",
    "\n",
    "# Build the LSTM model\n",
    "model = Sequential()\n",
    "\n",
    "model.add(layers.LSTM(units=160,\n",
    "                     return_sequences = True,\n",
    "                    activation = \"tanh\"\n",
    "                    #activation = \"relu\"\n",
    "                     #,input_shape = X_train[0].shape)\n",
    "                     ))\n",
    "#model.add(Dropout(0.1))\n",
    "\n",
    "model.add(layers.LSTM(units=256,\n",
    "                      return_sequences = True,\n",
    "                      #activation = \"tanh\"  \n",
    "                    activation = \"relu\"\n",
    "                     ))\n",
    "\n",
    "model.add(layers.LSTM(units=288,\n",
    "                      return_sequences = False,\n",
    "                      #activation = \"tanh\"  \n",
    "                    activation = \"relu\"\n",
    "                     ))\n",
    "#model.add(Dropout(0.5))\n",
    "# model.add(layers.Dense(25,\n",
    "#                          activation=\"relu\"))\n",
    "model.add(layers.Dense(256,\n",
    "                       activation = \"tanh\" \n",
    "                       #activation=\"relu\"\n",
    "                      ))\n",
    "#model.add(layers.Dense(16,activation=\"relu\"))\n",
    "# model.add(layers.Dense(8,\n",
    "#                        activation = \"relu\"\n",
    "#                        #activation=\"relu\"\n",
    "#                       ))\n",
    "model.add(layers.Dense(160,\n",
    "                       #activation = \"tanh\" \n",
    "                       activation=\"relu\"\n",
    "                      ))\n",
    "model.add(layers.Dense(1,\n",
    "                      activation = \"relu\" \n",
    "                      #activation=\"relu\"\n",
    "                      ))\n",
    "\n",
    "#model.summary()"
   ]
  },
  {
   "cell_type": "code",
   "execution_count": 48,
   "metadata": {
    "executionInfo": {
     "elapsed": 340,
     "status": "ok",
     "timestamp": 1629968954711,
     "user": {
      "displayName": "Ivan Fernandes",
      "photoUrl": "https://lh3.googleusercontent.com/a-/AOh14GgHdj66drQjCguTVvVzCd5yy8cdMluPJPZlz_BQLg=s64",
      "userId": "12100132160237129013"
     },
     "user_tz": -120
    },
    "id": "igW2CAISTOa5"
   },
   "outputs": [],
   "source": [
    "model.compile(loss=\"mse\",\n",
    "             optimizer = \"adam\",#rmsprop\n",
    "             metrics = \"mae\"#[my_mae]\n",
    "             )"
   ]
  },
  {
   "cell_type": "markdown",
   "metadata": {
    "id": "0JoMEFYdTOa5"
   },
   "source": [
    "#### Training"
   ]
  },
  {
   "cell_type": "code",
   "execution_count": 49,
   "metadata": {
    "colab": {
     "base_uri": "https://localhost:8080/"
    },
    "executionInfo": {
     "elapsed": 89008,
     "status": "ok",
     "timestamp": 1629969056811,
     "user": {
      "displayName": "Ivan Fernandes",
      "photoUrl": "https://lh3.googleusercontent.com/a-/AOh14GgHdj66drQjCguTVvVzCd5yy8cdMluPJPZlz_BQLg=s64",
      "userId": "12100132160237129013"
     },
     "user_tz": -120
    },
    "id": "x8WmFMDoTOa6",
    "outputId": "c4129e5e-d680-4199-e200-ed02360e4cc6"
   },
   "outputs": [
    {
     "name": "stderr",
     "output_type": "stream",
     "text": [
      "2021-09-02 13:21:28.460017: I tensorflow/compiler/mlir/mlir_graph_optimization_pass.cc:185] None of the MLIR Optimization Passes are enabled (registered 2)\n"
     ]
    },
    {
     "name": "stdout",
     "output_type": "stream",
     "text": [
      "Epoch 1/30\n",
      "606/606 [==============================] - 35s 53ms/step - loss: 8.7100e-05 - mae: 0.0056 - val_loss: 0.0044 - val_mae: 0.0365\n",
      "Epoch 2/30\n",
      "606/606 [==============================] - 38s 62ms/step - loss: 4.4159e-05 - mae: 0.0046 - val_loss: 0.0019 - val_mae: 0.0238\n",
      "Epoch 3/30\n",
      "606/606 [==============================] - 39s 65ms/step - loss: 2.7762e-05 - mae: 0.0036 - val_loss: 0.0028 - val_mae: 0.0276\n",
      "Epoch 4/30\n",
      "606/606 [==============================] - 40s 67ms/step - loss: 3.6349e-05 - mae: 0.0041 - val_loss: 0.0094 - val_mae: 0.0588\n",
      "Epoch 5/30\n",
      "606/606 [==============================] - 40s 66ms/step - loss: 1.9496e-05 - mae: 0.0030 - val_loss: 0.0050 - val_mae: 0.0388\n",
      "Epoch 6/30\n",
      "606/606 [==============================] - 41s 68ms/step - loss: 2.2700e-05 - mae: 0.0033 - val_loss: 0.0017 - val_mae: 0.0233\n",
      "Epoch 7/30\n",
      "606/606 [==============================] - 41s 68ms/step - loss: 1.5490e-05 - mae: 0.0027 - val_loss: 0.0017 - val_mae: 0.0228\n",
      "Epoch 8/30\n",
      "606/606 [==============================] - 40s 65ms/step - loss: 1.8538e-05 - mae: 0.0030 - val_loss: 9.1549e-04 - val_mae: 0.0175\n",
      "Epoch 9/30\n",
      "606/606 [==============================] - 40s 67ms/step - loss: 1.5698e-05 - mae: 0.0027 - val_loss: 5.7554e-04 - val_mae: 0.0152\n",
      "Epoch 10/30\n",
      "606/606 [==============================] - 42s 69ms/step - loss: 1.3722e-05 - mae: 0.0025 - val_loss: 0.0013 - val_mae: 0.0193\n",
      "Epoch 11/30\n",
      "606/606 [==============================] - 43s 70ms/step - loss: 1.2146e-05 - mae: 0.0024 - val_loss: 2.8300e-04 - val_mae: 0.0092\n",
      "Epoch 12/30\n",
      "606/606 [==============================] - 40s 67ms/step - loss: 1.3567e-05 - mae: 0.0025 - val_loss: 5.9701e-04 - val_mae: 0.0129\n",
      "Epoch 13/30\n",
      "606/606 [==============================] - 41s 67ms/step - loss: 1.4314e-05 - mae: 0.0025 - val_loss: 2.1905e-04 - val_mae: 0.0092\n",
      "Epoch 14/30\n",
      "606/606 [==============================] - 49s 81ms/step - loss: 1.1276e-05 - mae: 0.0023 - val_loss: 7.4185e-04 - val_mae: 0.0150\n",
      "Epoch 15/30\n",
      "606/606 [==============================] - 52s 86ms/step - loss: 1.1020e-05 - mae: 0.0023 - val_loss: 0.0015 - val_mae: 0.0201\n",
      "Epoch 16/30\n",
      "606/606 [==============================] - 49s 80ms/step - loss: 1.3610e-05 - mae: 0.0025 - val_loss: 0.0027 - val_mae: 0.0286\n",
      "Epoch 17/30\n",
      "606/606 [==============================] - 45s 74ms/step - loss: 1.2830e-05 - mae: 0.0025 - val_loss: 9.0113e-04 - val_mae: 0.0153\n",
      "Epoch 18/30\n",
      "606/606 [==============================] - 49s 81ms/step - loss: 9.7437e-06 - mae: 0.0021 - val_loss: 0.0034 - val_mae: 0.0322\n",
      "Epoch 19/30\n",
      "606/606 [==============================] - 48s 79ms/step - loss: 1.2137e-05 - mae: 0.0024 - val_loss: 0.0013 - val_mae: 0.0185\n",
      "Epoch 20/30\n",
      "606/606 [==============================] - 45s 74ms/step - loss: 9.0213e-06 - mae: 0.0020 - val_loss: 0.0017 - val_mae: 0.0223\n",
      "Epoch 21/30\n",
      "606/606 [==============================] - 44s 73ms/step - loss: 8.6311e-06 - mae: 0.0019 - val_loss: 9.4991e-04 - val_mae: 0.0165\n",
      "Epoch 22/30\n",
      "606/606 [==============================] - 43s 71ms/step - loss: 9.6886e-06 - mae: 0.0021 - val_loss: 0.0012 - val_mae: 0.0187\n",
      "Epoch 23/30\n",
      "606/606 [==============================] - 41s 67ms/step - loss: 8.4744e-06 - mae: 0.0019 - val_loss: 0.0020 - val_mae: 0.0241\n",
      "Epoch 24/30\n",
      "606/606 [==============================] - 45s 74ms/step - loss: 8.3823e-06 - mae: 0.0020 - val_loss: 0.0033 - val_mae: 0.0344\n",
      "Epoch 25/30\n",
      "606/606 [==============================] - 42s 70ms/step - loss: 1.1850e-05 - mae: 0.0024 - val_loss: 0.0049 - val_mae: 0.0365\n",
      "Epoch 26/30\n",
      "606/606 [==============================] - 43s 71ms/step - loss: 9.3825e-06 - mae: 0.0021 - val_loss: 0.0033 - val_mae: 0.0278\n",
      "Epoch 27/30\n",
      "606/606 [==============================] - 45s 73ms/step - loss: 7.8350e-06 - mae: 0.0019 - val_loss: 0.0038 - val_mae: 0.0302\n",
      "Epoch 28/30\n",
      "606/606 [==============================] - 41s 67ms/step - loss: 8.7362e-06 - mae: 0.0020 - val_loss: 0.0037 - val_mae: 0.0322\n",
      "Epoch 29/30\n",
      "606/606 [==============================] - 39s 65ms/step - loss: 7.7647e-06 - mae: 0.0019 - val_loss: 0.0040 - val_mae: 0.0318\n",
      "Epoch 30/30\n",
      "606/606 [==============================] - 38s 63ms/step - loss: 8.6737e-06 - mae: 0.0020 - val_loss: 0.0041 - val_mae: 0.0318\n"
     ]
    }
   ],
   "source": [
    "from tensorflow.keras.callbacks import EarlyStopping \n",
    "\n",
    "es = EarlyStopping(patience = 5, restore_best_weights=True, monitor = \"mae\")\n",
    "#monitor = \"val_mean_absolute_error\"\n",
    "\n",
    "history = model.fit(X_train, y_train,\n",
    "                    validation_split = 0.2,\n",
    "                    batch_size=16,\n",
    "                    epochs=30,\n",
    "                    verbose = 1,\n",
    "                    callbacks = [es])"
   ]
  },
  {
   "cell_type": "code",
   "execution_count": 50,
   "metadata": {
    "executionInfo": {
     "elapsed": 618,
     "status": "ok",
     "timestamp": 1629971280020,
     "user": {
      "displayName": "Ivan Fernandes",
      "photoUrl": "https://lh3.googleusercontent.com/a-/AOh14GgHdj66drQjCguTVvVzCd5yy8cdMluPJPZlz_BQLg=s64",
      "userId": "12100132160237129013"
     },
     "user_tz": -120
    },
    "id": "6BnpySGUL453"
   },
   "outputs": [],
   "source": [
    "#def plot_loss_mae(history):\n",
    "    \n",
    "    #fig, ax =plt.subplots(1,2,figsize=(20,5))\n",
    "    \n",
    "    # --- LOSS\n",
    "    \n",
    "    #ax[0].plot(history.history['loss'])\n",
    "    #ax[0].plot(history.history['val_loss'])\n",
    "    #ax[0].set_title('Model loss')\n",
    "    #ax[0].set_xlabel('Epoch')\n",
    "    #ax[0].set_ylabel('Loss')\n",
    "    #ax[0].legend(['Train', 'Val'], loc='upper right')\n",
    "    #ax[0].grid(axis=\"x\",linewidth=0.5)\n",
    "    #ax[0].grid(axis=\"y\",linewidth=0.5)\n",
    "    \n",
    "#     # --- MAE\n",
    "\n",
    "    #ax[1].plot(history.history['mean_absolute_error'])\n",
    "    #ax[1].plot(history.history['val_mean_absolute_error'])\n",
    "    #ax[1].set_title('Model MAE', fontsize = 18)\n",
    "    #ax[1].set_xlabel('Epoch', fontsize = 14)\n",
    "    #ax[1].set_ylabel('Recall', fontsize = 14)\n",
    "    #ax[1].legend(['Train', 'Val'], loc='lower right') \n",
    "    #ax[1].grid(axis=\"x\",linewidth=0.5)\n",
    "    #ax[1].grid(axis=\"y\",linewidth=0.5)   \n",
    "    \n",
    "    #plt.show()\n",
    "    "
   ]
  },
  {
   "cell_type": "code",
   "execution_count": 51,
   "metadata": {
    "colab": {
     "base_uri": "https://localhost:8080/",
     "height": 330
    },
    "executionInfo": {
     "elapsed": 775,
     "status": "ok",
     "timestamp": 1629971280790,
     "user": {
      "displayName": "Ivan Fernandes",
      "photoUrl": "https://lh3.googleusercontent.com/a-/AOh14GgHdj66drQjCguTVvVzCd5yy8cdMluPJPZlz_BQLg=s64",
      "userId": "12100132160237129013"
     },
     "user_tz": -120
    },
    "id": "CYBdZyrzL454",
    "outputId": "be857210-3dbb-4216-8037-6adedfac0875"
   },
   "outputs": [],
   "source": [
    "#plot_loss_mae(history)"
   ]
  },
  {
   "cell_type": "markdown",
   "metadata": {
    "id": "dPlbdR24TOa7"
   },
   "source": [
    "#### Evaluating"
   ]
  },
  {
   "cell_type": "code",
   "execution_count": 52,
   "metadata": {
    "colab": {
     "base_uri": "https://localhost:8080/",
     "height": 370
    },
    "executionInfo": {
     "elapsed": 346,
     "status": "error",
     "timestamp": 1629971289974,
     "user": {
      "displayName": "Ivan Fernandes",
      "photoUrl": "https://lh3.googleusercontent.com/a-/AOh14GgHdj66drQjCguTVvVzCd5yy8cdMluPJPZlz_BQLg=s64",
      "userId": "12100132160237129013"
     },
     "user_tz": -120
    },
    "id": "fGR98XHrTOa7",
    "outputId": "eae3ab01-8077-4116-c16d-93c6c971a35d"
   },
   "outputs": [],
   "source": [
    "# res = model.evaluate(X_test, y_test, verbose = 1)\n",
    "# res\n"
   ]
  },
  {
   "cell_type": "markdown",
   "metadata": {
    "id": "o3S6CvgCTOa8"
   },
   "source": [
    "#### Predictions"
   ]
  },
  {
   "cell_type": "code",
   "execution_count": 53,
   "metadata": {
    "executionInfo": {
     "elapsed": 3825,
     "status": "ok",
     "timestamp": 1629969068317,
     "user": {
      "displayName": "Ivan Fernandes",
      "photoUrl": "https://lh3.googleusercontent.com/a-/AOh14GgHdj66drQjCguTVvVzCd5yy8cdMluPJPZlz_BQLg=s64",
      "userId": "12100132160237129013"
     },
     "user_tz": -120
    },
    "id": "_a1LDha2TOa9"
   },
   "outputs": [],
   "source": [
    "predictions = model.predict(X_test)\n",
    "#len(predictions), len(y_test)"
   ]
  },
  {
   "cell_type": "code",
   "execution_count": 54,
   "metadata": {
    "colab": {
     "base_uri": "https://localhost:8080/"
    },
    "executionInfo": {
     "elapsed": 11,
     "status": "ok",
     "timestamp": 1629969068318,
     "user": {
      "displayName": "Ivan Fernandes",
      "photoUrl": "https://lh3.googleusercontent.com/a-/AOh14GgHdj66drQjCguTVvVzCd5yy8cdMluPJPZlz_BQLg=s64",
      "userId": "12100132160237129013"
     },
     "user_tz": -120
    },
    "id": "WbG_o9xrTOa-",
    "outputId": "586ea1e0-d0c1-400e-88fd-b45f46966093"
   },
   "outputs": [
    {
     "data": {
      "text/plain": [
       "array([[0.734291  ],\n",
       "       [0.72352844],\n",
       "       [0.74158114]], dtype=float32)"
      ]
     },
     "execution_count": 54,
     "metadata": {},
     "output_type": "execute_result"
    }
   ],
   "source": [
    "predictions[0:3]"
   ]
  },
  {
   "cell_type": "code",
   "execution_count": 55,
   "metadata": {},
   "outputs": [],
   "source": [
    "y_test_unscaled = y_test * range1 + min1"
   ]
  },
  {
   "cell_type": "code",
   "execution_count": 56,
   "metadata": {},
   "outputs": [],
   "source": [
    "predictions_unscaled = predictions * range1 + min1"
   ]
  },
  {
   "cell_type": "code",
   "execution_count": 57,
   "metadata": {},
   "outputs": [],
   "source": [
    "# print(pd.DataFrame(y_test_unscaled).tail(5))\n",
    "# print(pd.DataFrame(predictions_unscaled).tail(5))"
   ]
  },
  {
   "cell_type": "markdown",
   "metadata": {
    "id": "bN_vtDyWTOa-"
   },
   "source": [
    "The operation computed during a `MinMaxScaler` Operation is:\n",
    "\n",
    "$$x_{scaled} = \\frac{x - x_{min}}{x_{max}- x_{min}}$$\n",
    "\n",
    "To descale it:\n",
    "\n",
    "$$x = x_{scaled} * (x_{max}- x_{min}) + x_{min}$$\n",
    "\n",
    "Or use the `inverse_transform` directly provided..."
   ]
  },
  {
   "cell_type": "code",
   "execution_count": 58,
   "metadata": {},
   "outputs": [
    {
     "data": {
      "text/plain": [
       "3558.3444997987135"
      ]
     },
     "execution_count": 58,
     "metadata": {},
     "output_type": "execute_result"
    }
   ],
   "source": [
    "np.mean(np.abs(y_test_unscaled - predictions_unscaled))"
   ]
  },
  {
   "cell_type": "code",
   "execution_count": 59,
   "metadata": {},
   "outputs": [
    {
     "data": {
      "text/plain": [
       "8.310278347665975"
      ]
     },
     "execution_count": 59,
     "metadata": {},
     "output_type": "execute_result"
    }
   ],
   "source": [
    "np.mean(np.abs((y_test_unscaled - predictions_unscaled) / y_test_unscaled)) *100"
   ]
  },
  {
   "cell_type": "code",
   "execution_count": 60,
   "metadata": {},
   "outputs": [
    {
     "data": {
      "text/plain": [
       "(621, 1)"
      ]
     },
     "execution_count": 60,
     "metadata": {},
     "output_type": "execute_result"
    }
   ],
   "source": [
    "y_test_unscaled.shape"
   ]
  },
  {
   "cell_type": "code",
   "execution_count": 61,
   "metadata": {},
   "outputs": [
    {
     "data": {
      "text/plain": [
       "(621, 1)"
      ]
     },
     "execution_count": 61,
     "metadata": {},
     "output_type": "execute_result"
    }
   ],
   "source": [
    "predictions_unscaled.shape"
   ]
  },
  {
   "cell_type": "code",
   "execution_count": 62,
   "metadata": {},
   "outputs": [],
   "source": [
    "# loss = np.mean(tf.keras.losses.mean_absolute_percentage_error(y_test_unscaled, predictions_unscaled))\n"
   ]
  },
  {
   "cell_type": "code",
   "execution_count": 63,
   "metadata": {},
   "outputs": [],
   "source": [
    "import matplotlib.pyplot as plt\n"
   ]
  },
  {
   "cell_type": "code",
   "execution_count": 64,
   "metadata": {},
   "outputs": [
    {
     "data": {
      "image/png": "[encoded data removed]",
      "text/plain": [
       "<Figure size 1080x576 with 1 Axes>"
      ]
     },
     "metadata": {},
     "output_type": "display_data"
    }
   ],
   "source": [
    "fig = plt.figure(figsize=(15, 8))\n",
    "\n",
    "plt.plot(predictions_unscaled, label = \"y_pred\")\n",
    "plt.plot(y_test_unscaled, label = \"y_test\")\n",
    "plt.legend()\n",
    "plt.show()"
   ]
  },
  {
   "cell_type": "markdown",
   "metadata": {},
   "source": [
    "#### Saving Model"
   ]
  },
  {
   "cell_type": "code",
   "execution_count": 65,
   "metadata": {},
   "outputs": [],
   "source": [
    "#import joblib\n",
    "#from tensorflow.keras.models import load_model, save_model\n",
    "\n",
    "#save_model(model, \"1_09___pro_accuracy_model\")"
   ]
  },
  {
   "cell_type": "code",
   "execution_count": 66,
   "metadata": {
    "scrolled": true
   },
   "outputs": [],
   "source": [
    "#save_model(model, \"1_09___pro_accuracy_model_2\", save_format=\"h5\")"
   ]
  },
  {
   "cell_type": "code",
   "execution_count": 67,
   "metadata": {},
   "outputs": [],
   "source": [
    "#model.save(\"1_2___pro_accuracy_model\", save_format=\"h5\")"
   ]
  },
  {
   "cell_type": "code",
   "execution_count": 68,
   "metadata": {},
   "outputs": [
    {
     "ename": "SyntaxError",
     "evalue": "invalid syntax (958000207.py, line 1)",
     "output_type": "error",
     "traceback": [
      "\u001b[0;36m  File \u001b[0;32m\"/tmp/ipykernel_8874/958000207.py\"\u001b[0;36m, line \u001b[0;32m1\u001b[0m\n\u001b[0;31m    stop stop\u001b[0m\n\u001b[0m         ^\u001b[0m\n\u001b[0;31mSyntaxError\u001b[0m\u001b[0;31m:\u001b[0m invalid syntax\n"
     ]
    }
   ],
   "source": [
    "stop stop "
   ]
  },
  {
   "cell_type": "markdown",
   "metadata": {},
   "source": [
    "### Test Model on Coingecko"
   ]
  },
  {
   "cell_type": "code",
   "execution_count": null,
   "metadata": {},
   "outputs": [],
   "source": [
    "import requests"
   ]
  },
  {
   "cell_type": "code",
   "execution_count": null,
   "metadata": {},
   "outputs": [],
   "source": [
    "def get_coingecko():\n",
    "    #ohlc\n",
    "    url = \"https://api.coingecko.com/api/v3/coins/bitcoin/ohlc?vs_currency=usd&days=30\"\n",
    "    response = requests.get(url).json()\n",
    "    #cleaning\n",
    "    data_api = pd.DataFrame(response, columns = ['unix_time','open', 'high', 'low', 'close'])\n",
    "    data_api[\"Date\"] = pd.to_datetime(data_api[\"unix_time\"], unit='ms')\n",
    "    data_api = data_api.drop(columns='unix_time').set_index('Date')\n",
    "\n",
    "    #volume\n",
    "    url = \"https://api.coingecko.com/api/v3/coins/bitcoin/market_chart?vs_currency=usd&days=30\"\n",
    "    response = requests.get(url).json()\n",
    "\n",
    "    volume = pd.DataFrame(response['total_volumes'], columns=[\"unix_time\",\"volume\"])\n",
    "    volume['date'] = pd.to_datetime(pd.to_datetime(volume['unix_time'],unit='ms').dt.strftime(\"%Y/%m/%d, %H:00:00\"))\n",
    "    volume = volume.drop(columns='unix_time').set_index('date')\n",
    "\n",
    "    #resample hourly into 4h\n",
    "    volume = volume.resample(\"4H\").mean()\n",
    "\n",
    "    #concatinate\n",
    "    volume = volume[-180:]\n",
    "    data_api = data_api[-181:-1]\n",
    "    full = pd.concat([data_api, volume], axis=1)\n",
    "    full.columns=['open', 'high', 'low', 'close', 'volume']\n",
    "\n",
    "    for x in ['open', 'high', 'low', 'close']:\n",
    "        full[f'log_{x}'] = full[x].apply(lambda x: np.log(x))\n",
    "\n",
    "    data_api = full.copy()\n",
    "\n",
    "    return data_api"
   ]
  },
  {
   "cell_type": "code",
   "execution_count": null,
   "metadata": {},
   "outputs": [],
   "source": [
    "coingecko = get_coingecko()\n"
   ]
  },
  {
   "cell_type": "code",
   "execution_count": null,
   "metadata": {},
   "outputs": [],
   "source": [
    "coingecko.head()"
   ]
  },
  {
   "cell_type": "code",
   "execution_count": null,
   "metadata": {
    "scrolled": true
   },
   "outputs": [],
   "source": [
    "add_ema(coingecko)\n",
    "\n",
    "rsi = computeRSI(coingecko)\n",
    "\n",
    "stoch_rsi(rsi)\n",
    "\n",
    "add_stoch_rsi(coingecko)\n",
    "\n",
    "prices = coingecko[\"close\"]\n",
    "\n",
    "get_bollinger_bands(prices, rate=20)\n",
    "\n",
    "add_bollinger(coingecko,prices)\n",
    "\n",
    "add_vol_roc(coingecko)\n"
   ]
  },
  {
   "cell_type": "code",
   "execution_count": null,
   "metadata": {},
   "outputs": [],
   "source": [
    "coingecko['4h Return'] = coingecko['close'].pct_change()\n",
    "coingecko['4h Gradient'] = coingecko['close'].diff()"
   ]
  },
  {
   "cell_type": "code",
   "execution_count": null,
   "metadata": {
    "scrolled": true
   },
   "outputs": [],
   "source": [
    "selected_features = ['close','rsi','bollinger_up','4h Return']\n",
    "coingecko = coingecko[selected_features]\n",
    "coingecko.tail(18)"
   ]
  },
  {
   "cell_type": "markdown",
   "metadata": {},
   "source": [
    "### Test based on 1 window_size and 1 prediction (4 hours in de future) with Coingecko Data"
   ]
  },
  {
   "cell_type": "code",
   "execution_count": null,
   "metadata": {},
   "outputs": [],
   "source": [
    "X_gecko = coingecko.dropna()[-18:]"
   ]
  },
  {
   "cell_type": "code",
   "execution_count": null,
   "metadata": {},
   "outputs": [],
   "source": [
    "X_gecko.shape"
   ]
  },
  {
   "cell_type": "code",
   "execution_count": null,
   "metadata": {},
   "outputs": [],
   "source": [
    "x_gecko_scaled = minmax_scaler.transform(X_gecko)"
   ]
  },
  {
   "cell_type": "code",
   "execution_count": null,
   "metadata": {},
   "outputs": [],
   "source": [
    "x_gecko_scaled_reshaped = x_gecko_scaled.reshape(1,18,4) #18 is the window size, 9 is number of features. "
   ]
  },
  {
   "cell_type": "code",
   "execution_count": null,
   "metadata": {},
   "outputs": [],
   "source": [
    "predictions_api = model.predict(x_gecko_scaled_reshaped)"
   ]
  },
  {
   "cell_type": "code",
   "execution_count": null,
   "metadata": {},
   "outputs": [],
   "source": [
    "predictions_api"
   ]
  },
  {
   "cell_type": "code",
   "execution_count": null,
   "metadata": {},
   "outputs": [],
   "source": [
    "predictions_api_unscaled = predictions_api * range1 + min1 "
   ]
  },
  {
   "cell_type": "code",
   "execution_count": null,
   "metadata": {},
   "outputs": [],
   "source": [
    "predictions_api_unscaled\n"
   ]
  },
  {
   "cell_type": "code",
   "execution_count": null,
   "metadata": {},
   "outputs": [],
   "source": []
  },
  {
   "cell_type": "markdown",
   "metadata": {},
   "source": [
    "### Creating X_test_gecko and y_test_gecko"
   ]
  },
  {
   "cell_type": "code",
   "execution_count": null,
   "metadata": {},
   "outputs": [],
   "source": [
    "X_test_gecko = coingecko.dropna()[-144:]"
   ]
  },
  {
   "cell_type": "code",
   "execution_count": null,
   "metadata": {},
   "outputs": [],
   "source": [
    "print(X_test_gecko.head(1))\n",
    "print(X_test_gecko.tail(1))"
   ]
  },
  {
   "cell_type": "code",
   "execution_count": null,
   "metadata": {},
   "outputs": [],
   "source": [
    "X_test_gecko_scaled = minmax_scaler.transform(X_test_gecko)"
   ]
  },
  {
   "cell_type": "code",
   "execution_count": null,
   "metadata": {},
   "outputs": [],
   "source": [
    "X_test_gecko.shape"
   ]
  },
  {
   "cell_type": "code",
   "execution_count": null,
   "metadata": {},
   "outputs": [],
   "source": [
    "#with the same window_size & horizon as the train data\n",
    "window_size = 18\n",
    "horizon = 1\n",
    "X_test_gecko_sub = []\n",
    "fake_y_test_gecko_sub = []\n",
    "for k in range(len(X_test_gecko_scaled)-(window_size-1)-horizon):\n",
    "    X_test_gecko_sub.append(X_test_gecko_scaled[k:k+window_size])\n",
    "    fake_y_test_gecko_sub.append(X_test_gecko_scaled[k+window_size])"
   ]
  },
  {
   "cell_type": "code",
   "execution_count": null,
   "metadata": {},
   "outputs": [],
   "source": [
    "X_test_gecko_np = np.array(X_test_gecko_sub)\n",
    "y_test_gecko_np = np.array(fake_y_test_gecko_sub)[:,0].reshape(-1,1)"
   ]
  },
  {
   "cell_type": "code",
   "execution_count": null,
   "metadata": {},
   "outputs": [],
   "source": [
    "print(X_test_gecko_np.shape)\n",
    "print(y_test_gecko_np.shape)"
   ]
  },
  {
   "cell_type": "code",
   "execution_count": null,
   "metadata": {},
   "outputs": [],
   "source": [
    "predictions_gecko = model.predict(X_test_gecko_np)"
   ]
  },
  {
   "cell_type": "code",
   "execution_count": null,
   "metadata": {},
   "outputs": [],
   "source": [
    "predictions_gecko_unscaled = predictions_gecko * range1 + min1"
   ]
  },
  {
   "cell_type": "code",
   "execution_count": null,
   "metadata": {},
   "outputs": [],
   "source": [
    "predictions_gecko_unscaled"
   ]
  },
  {
   "cell_type": "code",
   "execution_count": null,
   "metadata": {},
   "outputs": [],
   "source": [
    "y_test_gecko_unscaled = y_test_gecko_np * range1 + min1"
   ]
  },
  {
   "cell_type": "code",
   "execution_count": null,
   "metadata": {},
   "outputs": [],
   "source": [
    "np.mean(np.abs(y_test_gecko_unscaled - predictions_gecko_unscaled))"
   ]
  },
  {
   "cell_type": "code",
   "execution_count": null,
   "metadata": {},
   "outputs": [],
   "source": []
  },
  {
   "cell_type": "code",
   "execution_count": null,
   "metadata": {},
   "outputs": [],
   "source": [
    "fig = plt.figure(figsize=(15, 8))\n",
    "plt.plot(predictions_gecko_unscaled, label = \"y_pred_gecko\")\n",
    "plt.plot(y_test_gecko_unscaled, label = \"y_real_gecko\")\n",
    "plt.legend()\n",
    "plt.show()"
   ]
  },
  {
   "cell_type": "code",
   "execution_count": null,
   "metadata": {},
   "outputs": [],
   "source": []
  },
  {
   "cell_type": "code",
   "execution_count": null,
   "metadata": {},
   "outputs": [],
   "source": []
  },
  {
   "cell_type": "code",
   "execution_count": null,
   "metadata": {},
   "outputs": [],
   "source": []
  },
  {
   "cell_type": "code",
   "execution_count": null,
   "metadata": {},
   "outputs": [],
   "source": []
  },
  {
   "cell_type": "markdown",
   "metadata": {
    "id": "0MqA8NYOTObA"
   },
   "source": [
    "## Second round"
   ]
  },
  {
   "cell_type": "code",
   "execution_count": null,
   "metadata": {},
   "outputs": [],
   "source": [
    "stop stop stop "
   ]
  },
  {
   "cell_type": "code",
   "execution_count": null,
   "metadata": {
    "colab": {
     "base_uri": "https://localhost:8080/"
    },
    "executionInfo": {
     "elapsed": 331,
     "status": "ok",
     "timestamp": 1629972855030,
     "user": {
      "displayName": "Ivan Fernandes",
      "photoUrl": "https://lh3.googleusercontent.com/a-/AOh14GgHdj66drQjCguTVvVzCd5yy8cdMluPJPZlz_BQLg=s64",
      "userId": "12100132160237129013"
     },
     "user_tz": -120
    },
    "id": "4ZAlnOTwTObB",
    "outputId": "65d37bf2-66eb-451f-a089-da27ba0ecf69"
   },
   "outputs": [],
   "source": [
    "dataset = data[[\"close\"]].values\n",
    "dataset"
   ]
  },
  {
   "cell_type": "code",
   "execution_count": null,
   "metadata": {
    "colab": {
     "base_uri": "https://localhost:8080/"
    },
    "executionInfo": {
     "elapsed": 358,
     "status": "ok",
     "timestamp": 1629972861459,
     "user": {
      "displayName": "Ivan Fernandes",
      "photoUrl": "https://lh3.googleusercontent.com/a-/AOh14GgHdj66drQjCguTVvVzCd5yy8cdMluPJPZlz_BQLg=s64",
      "userId": "12100132160237129013"
     },
     "user_tz": -120
    },
    "id": "Ky6aM8SBdNRJ",
    "outputId": "4230c46f-9302-4ae4-c65c-2dfaca764428"
   },
   "outputs": [],
   "source": [
    "# Scale the data\n",
    "from sklearn.preprocessing import MinMaxScaler\n",
    "\n",
    "scaler = MinMaxScaler(feature_range=(0,1))\n",
    "scaled_data = scaler.fit_transform(dataset)\n",
    "\n",
    "scaled_data"
   ]
  },
  {
   "cell_type": "code",
   "execution_count": null,
   "metadata": {
    "colab": {
     "base_uri": "https://localhost:8080/"
    },
    "executionInfo": {
     "elapsed": 4,
     "status": "ok",
     "timestamp": 1629972866229,
     "user": {
      "displayName": "Ivan Fernandes",
      "photoUrl": "https://lh3.googleusercontent.com/a-/AOh14GgHdj66drQjCguTVvVzCd5yy8cdMluPJPZlz_BQLg=s64",
      "userId": "12100132160237129013"
     },
     "user_tz": -120
    },
    "id": "zAgMZ7U2vEm7",
    "outputId": "0ae70070-5e33-460f-edca-c78ebe156b53"
   },
   "outputs": [],
   "source": [
    "length = 60\n",
    "horizon  = 1\n",
    "\n",
    "training_split = 0.85\n",
    "training_data_length = int(np.ceil(len(dataset) * training_split))\n",
    "training_data_length"
   ]
  },
  {
   "cell_type": "code",
   "execution_count": null,
   "metadata": {
    "executionInfo": {
     "elapsed": 330,
     "status": "ok",
     "timestamp": 1629972868143,
     "user": {
      "displayName": "Ivan Fernandes",
      "photoUrl": "https://lh3.googleusercontent.com/a-/AOh14GgHdj66drQjCguTVvVzCd5yy8cdMluPJPZlz_BQLg=s64",
      "userId": "12100132160237129013"
     },
     "user_tz": -120
    },
    "id": "1UKkQE7pdQyF"
   },
   "outputs": [],
   "source": [
    "# Create the training data set \n",
    "# Create the scaled training data set\n",
    "\n",
    "train_data = scaled_data[0:int(training_data_length), :]\n",
    "# Split the data into x_train and y_train data sets\n",
    "y_train = []\n",
    "\n",
    "x_train = [train_data[i-length:i, 0] for i in range(length, len(train_data))]\n",
    "y_train = [train_data[i, 0] for i in range(length, len(train_data))]\n",
    "        \n",
    "# Convert the x_train and y_train to numpy arrays \n",
    "x_train, y_train = np.array(x_train), np.array(y_train)\n",
    "\n",
    "# Reshape the data\n",
    "x_train = np.reshape(x_train, (x_train.shape[0], x_train.shape[1], 1))\n",
    "# x_train.shape"
   ]
  },
  {
   "cell_type": "code",
   "execution_count": null,
   "metadata": {
    "executionInfo": {
     "elapsed": 343,
     "status": "ok",
     "timestamp": 1629972870035,
     "user": {
      "displayName": "Ivan Fernandes",
      "photoUrl": "https://lh3.googleusercontent.com/a-/AOh14GgHdj66drQjCguTVvVzCd5yy8cdMluPJPZlz_BQLg=s64",
      "userId": "12100132160237129013"
     },
     "user_tz": -120
    },
    "id": "53aODOBCwgkq"
   },
   "outputs": [],
   "source": [
    "# Create the testing data set\n",
    "# Create a new array containing scaled values from index 543 to 2002 \n",
    "test_data = scaled_data[training_data_length - length: , :]\n",
    "# Create the data sets x_test and y_test\n",
    "\n",
    "y_test = dataset[training_data_length:, :]\n",
    "x_test = [test_data[i-length:i, 0] for i in range(length, len(test_data))]\n",
    "    \n",
    "# Convert the data to a numpy array\n",
    "x_test = np.array(x_test)\n",
    "\n",
    "# Reshape the data\n",
    "x_test = np.reshape(x_test, (x_test.shape[0], x_test.shape[1], 1 ))"
   ]
  },
  {
   "cell_type": "code",
   "execution_count": null,
   "metadata": {
    "colab": {
     "base_uri": "https://localhost:8080/"
    },
    "executionInfo": {
     "elapsed": 336,
     "status": "ok",
     "timestamp": 1629972873580,
     "user": {
      "displayName": "Ivan Fernandes",
      "photoUrl": "https://lh3.googleusercontent.com/a-/AOh14GgHdj66drQjCguTVvVzCd5yy8cdMluPJPZlz_BQLg=s64",
      "userId": "12100132160237129013"
     },
     "user_tz": -120
    },
    "id": "yaenuJTZv6co",
    "outputId": "67b35f97-d9dc-4da7-f7fd-5c8e187a8ac9"
   },
   "outputs": [],
   "source": [
    "print(x_train.shape, y_train.shape)\n",
    "print(x_test.shape, y_test.shape)"
   ]
  },
  {
   "cell_type": "code",
   "execution_count": null,
   "metadata": {
    "colab": {
     "base_uri": "https://localhost:8080/"
    },
    "executionInfo": {
     "elapsed": 445330,
     "status": "ok",
     "timestamp": 1629973325521,
     "user": {
      "displayName": "Ivan Fernandes",
      "photoUrl": "https://lh3.googleusercontent.com/a-/AOh14GgHdj66drQjCguTVvVzCd5yy8cdMluPJPZlz_BQLg=s64",
      "userId": "12100132160237129013"
     },
     "user_tz": -120
    },
    "id": "r1kJ7oDCdZgd",
    "outputId": "ee96a936-e2d1-4de0-b658-6d1df677227f"
   },
   "outputs": [],
   "source": [
    "from keras.models import Sequential\n",
    "from keras.layers import Dense, LSTM\n",
    "\n",
    "# Build the LSTM model\n",
    "model = Sequential()\n",
    "model.add(LSTM(128, return_sequences=True, input_shape= (x_train.shape[1], 1)))\n",
    "model.add(LSTM(64, return_sequences=False))\n",
    "model.add(Dense(25))\n",
    "model.add(Dense(1))\n",
    "\n",
    "# Compile the model\n",
    "model.compile(optimizer='adam', loss='mean_squared_error', metrics = my_mae)\n",
    "\n",
    "# Train the model\n",
    "history = model.fit(x_train, y_train, batch_size=8, epochs=5, validation_split = 0.4)"
   ]
  },
  {
   "cell_type": "code",
   "execution_count": null,
   "metadata": {
    "colab": {
     "base_uri": "https://localhost:8080/",
     "height": 330
    },
    "executionInfo": {
     "elapsed": 1169,
     "status": "ok",
     "timestamp": 1629973328789,
     "user": {
      "displayName": "Ivan Fernandes",
      "photoUrl": "https://lh3.googleusercontent.com/a-/AOh14GgHdj66drQjCguTVvVzCd5yy8cdMluPJPZlz_BQLg=s64",
      "userId": "12100132160237129013"
     },
     "user_tz": -120
    },
    "id": "Q_zo4Kbm-xfx",
    "outputId": "41bfd88f-1816-4d3e-df07-3e015857209d"
   },
   "outputs": [],
   "source": [
    "plot_loss_mae(history)"
   ]
  },
  {
   "cell_type": "code",
   "execution_count": null,
   "metadata": {
    "colab": {
     "base_uri": "https://localhost:8080/"
    },
    "executionInfo": {
     "elapsed": 2984,
     "status": "ok",
     "timestamp": 1629973363329,
     "user": {
      "displayName": "Ivan Fernandes",
      "photoUrl": "https://lh3.googleusercontent.com/a-/AOh14GgHdj66drQjCguTVvVzCd5yy8cdMluPJPZlz_BQLg=s64",
      "userId": "12100132160237129013"
     },
     "user_tz": -120
    },
    "id": "mDLxHpjofPRL",
    "outputId": "a11b4d99-1534-4dfe-9ec2-25f37fac539b"
   },
   "outputs": [],
   "source": [
    "# Get the models predicted price values \n",
    "predictions = model.predict(x_test)\n",
    "predictions = scaler.inverse_transform(predictions)\n",
    "predictions[:3]"
   ]
  },
  {
   "cell_type": "code",
   "execution_count": null,
   "metadata": {
    "colab": {
     "base_uri": "https://localhost:8080/"
    },
    "executionInfo": {
     "elapsed": 393,
     "status": "ok",
     "timestamp": 1629973398497,
     "user": {
      "displayName": "Ivan Fernandes",
      "photoUrl": "https://lh3.googleusercontent.com/a-/AOh14GgHdj66drQjCguTVvVzCd5yy8cdMluPJPZlz_BQLg=s64",
      "userId": "12100132160237129013"
     },
     "user_tz": -120
    },
    "id": "Jvw0e9a5_B3Q",
    "outputId": "491632c8-7cf1-4d07-9990-42575fa60b54"
   },
   "outputs": [],
   "source": [
    "y_test.shape, predictions.shape"
   ]
  },
  {
   "cell_type": "code",
   "execution_count": null,
   "metadata": {
    "colab": {
     "base_uri": "https://localhost:8080/"
    },
    "executionInfo": {
     "elapsed": 337,
     "status": "ok",
     "timestamp": 1629973370818,
     "user": {
      "displayName": "Ivan Fernandes",
      "photoUrl": "https://lh3.googleusercontent.com/a-/AOh14GgHdj66drQjCguTVvVzCd5yy8cdMluPJPZlz_BQLg=s64",
      "userId": "12100132160237129013"
     },
     "user_tz": -120
    },
    "id": "6E2H4WZm-pf0",
    "outputId": "bdb62256-47c2-4e22-ce5e-cdb6113408ac"
   },
   "outputs": [],
   "source": [
    "# Get the root mean squared error (RMSE)\n",
    "rmse = np.sqrt(np.mean(((predictions - y_test) ** 2)))\n",
    "rmse"
   ]
  },
  {
   "cell_type": "code",
   "execution_count": null,
   "metadata": {
    "colab": {
     "base_uri": "https://localhost:8080/"
    },
    "executionInfo": {
     "elapsed": 4437,
     "status": "ok",
     "timestamp": 1629973427758,
     "user": {
      "displayName": "Ivan Fernandes",
      "photoUrl": "https://lh3.googleusercontent.com/a-/AOh14GgHdj66drQjCguTVvVzCd5yy8cdMluPJPZlz_BQLg=s64",
      "userId": "12100132160237129013"
     },
     "user_tz": -120
    },
    "id": "fdyr7K5marJ3",
    "outputId": "4a7ff078-2039-4d92-cf93-7383265d47a2"
   },
   "outputs": [],
   "source": [
    "model.evaluate(x_test, y_test)"
   ]
  },
  {
   "cell_type": "code",
   "execution_count": null,
   "metadata": {
    "executionInfo": {
     "elapsed": 439,
     "status": "ok",
     "timestamp": 1629973433584,
     "user": {
      "displayName": "Ivan Fernandes",
      "photoUrl": "https://lh3.googleusercontent.com/a-/AOh14GgHdj66drQjCguTVvVzCd5yy8cdMluPJPZlz_BQLg=s64",
      "userId": "12100132160237129013"
     },
     "user_tz": -120
    },
    "id": "DczPn6a-hCH5"
   },
   "outputs": [],
   "source": [
    "# Plot the data\n",
    "train = selected_data[:training_data_length]\n",
    "valid = selected_data[training_data_length:].copy()"
   ]
  },
  {
   "cell_type": "code",
   "execution_count": null,
   "metadata": {
    "colab": {
     "base_uri": "https://localhost:8080/",
     "height": 447
    },
    "executionInfo": {
     "elapsed": 343,
     "status": "ok",
     "timestamp": 1629973437703,
     "user": {
      "displayName": "Ivan Fernandes",
      "photoUrl": "https://lh3.googleusercontent.com/a-/AOh14GgHdj66drQjCguTVvVzCd5yy8cdMluPJPZlz_BQLg=s64",
      "userId": "12100132160237129013"
     },
     "user_tz": -120
    },
    "id": "WjQSBQ5JarJ4",
    "outputId": "c8141000-c535-4f92-faf9-406986f792da"
   },
   "outputs": [],
   "source": [
    "train"
   ]
  },
  {
   "cell_type": "code",
   "execution_count": null,
   "metadata": {
    "colab": {
     "base_uri": "https://localhost:8080/",
     "height": 447
    },
    "executionInfo": {
     "elapsed": 465,
     "status": "ok",
     "timestamp": 1629973446397,
     "user": {
      "displayName": "Ivan Fernandes",
      "photoUrl": "https://lh3.googleusercontent.com/a-/AOh14GgHdj66drQjCguTVvVzCd5yy8cdMluPJPZlz_BQLg=s64",
      "userId": "12100132160237129013"
     },
     "user_tz": -120
    },
    "id": "dc1WTWynhDPL",
    "outputId": "56806c30-f59a-454c-e979-e42f656b9ea5"
   },
   "outputs": [],
   "source": [
    "valid"
   ]
  },
  {
   "cell_type": "code",
   "execution_count": null,
   "metadata": {
    "colab": {
     "base_uri": "https://localhost:8080/",
     "height": 447
    },
    "executionInfo": {
     "elapsed": 341,
     "status": "ok",
     "timestamp": 1629973462863,
     "user": {
      "displayName": "Ivan Fernandes",
      "photoUrl": "https://lh3.googleusercontent.com/a-/AOh14GgHdj66drQjCguTVvVzCd5yy8cdMluPJPZlz_BQLg=s64",
      "userId": "12100132160237129013"
     },
     "user_tz": -120
    },
    "id": "p6hMJqrMarJ4",
    "outputId": "8a102830-2a5a-44bc-d17c-1db157056ce5"
   },
   "outputs": [],
   "source": [
    "valid[\"Predictions\"] = predictions\n",
    "valid"
   ]
  },
  {
   "cell_type": "code",
   "execution_count": null,
   "metadata": {
    "executionInfo": {
     "elapsed": 345,
     "status": "ok",
     "timestamp": 1629973472674,
     "user": {
      "displayName": "Ivan Fernandes",
      "photoUrl": "https://lh3.googleusercontent.com/a-/AOh14GgHdj66drQjCguTVvVzCd5yy8cdMluPJPZlz_BQLg=s64",
      "userId": "12100132160237129013"
     },
     "user_tz": -120
    },
    "id": "giTQW4HoarJ5"
   },
   "outputs": [],
   "source": [
    "valid.index = pd.to_datetime(valid.index, format = \"%Y-%m-%d %H:%M:%S\")\n",
    "train.index = pd.to_datetime(train.index, format = \"%Y-%m-%d %H:%M:%S\")"
   ]
  },
  {
   "cell_type": "code",
   "execution_count": null,
   "metadata": {
    "colab": {
     "base_uri": "https://localhost:8080/",
     "height": 441
    },
    "executionInfo": {
     "elapsed": 813,
     "status": "ok",
     "timestamp": 1629973507361,
     "user": {
      "displayName": "Ivan Fernandes",
      "photoUrl": "https://lh3.googleusercontent.com/a-/AOh14GgHdj66drQjCguTVvVzCd5yy8cdMluPJPZlz_BQLg=s64",
      "userId": "12100132160237129013"
     },
     "user_tz": -120
    },
    "id": "wj0t09QbfYLr",
    "outputId": "936c384d-7186-4124-df4d-b9ad0ec1895b"
   },
   "outputs": [],
   "source": [
    "# Visualize the data\n",
    "plt.figure(figsize=(16,6))\n",
    "plt.title('Model')\n",
    "plt.plot(train['close'])\n",
    "plt.plot(valid[['close', 'Predictions']])\n",
    "plt.xlabel('Date', fontsize=18)\n",
    "plt.ylabel('Close Price USD ($)', fontsize=18)\n",
    "plt.legend(['Train', 'Val', 'Predictions'], loc='lower right')\n",
    "plt.xlim([datetime.date(2020, 1, 1), datetime.datetime.now()])\n",
    "plt.show()"
   ]
  },
  {
   "cell_type": "code",
   "execution_count": null,
   "metadata": {
    "id": "VGkbLiUzg5gu"
   },
   "outputs": [],
   "source": []
  }
 ],
 "metadata": {
  "colab": {
   "collapsed_sections": [],
   "name": "BTC pred.ipynb",
   "provenance": [],
   "toc_visible": true
  },
  "kernelspec": {
   "display_name": "Python 3 (ipykernel)",
   "language": "python",
   "name": "python3"
  },
  "language_info": {
   "codemirror_mode": {
    "name": "ipython",
    "version": 3
   },
   "file_extension": ".py",
   "mimetype": "text/x-python",
   "name": "python",
   "nbconvert_exporter": "python",
   "pygments_lexer": "ipython3",
   "version": "3.8.6"
  },
  "toc": {
   "base_numbering": 1,
   "nav_menu": {},
   "number_sections": true,
   "sideBar": true,
   "skip_h1_title": true,
   "title_cell": "Table of Contents",
   "title_sidebar": "Contents",
   "toc_cell": false,
   "toc_position": {
    "height": "calc(100% - 180px)",
    "left": "10px",
    "top": "150px",
    "width": "241.797px"
   },
   "toc_section_display": true,
   "toc_window_display": true
  },
  "varInspector": {
   "cols": {
    "lenName": 16,
    "lenType": 16,
    "lenVar": 40
   },
   "kernels_config": {
    "python": {
     "delete_cmd_postfix": "",
     "delete_cmd_prefix": "del ",
     "library": "var_list.py",
     "varRefreshCmd": "print(var_dic_list())"
    },
    "r": {
     "delete_cmd_postfix": ") ",
     "delete_cmd_prefix": "rm(",
     "library": "var_list.r",
     "varRefreshCmd": "cat(var_dic_list()) "
    }
   },
   "types_to_exclude": [
    "module",
    "function",
    "builtin_function_or_method",
    "instance",
    "_Feature"
   ],
   "window_display": false
  }
 },
 "nbformat": 4,
 "nbformat_minor": 1
}
