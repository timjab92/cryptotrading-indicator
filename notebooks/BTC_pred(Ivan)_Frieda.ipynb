{
 "cells": [
  {
   "cell_type": "markdown",
   "metadata": {
    "id": "7Ah1snjrTOaO"
   },
   "source": [
    "# Recurrent Neural Networks\n",
    "---\n",
    "# Predicting Stock Prices through an LSTM model"
   ]
  },
  {
   "cell_type": "code",
   "execution_count": 1,
   "metadata": {
    "executionInfo": {
     "elapsed": 450,
     "status": "ok",
     "timestamp": 1629966198358,
     "user": {
      "displayName": "Ivan Fernandes",
      "photoUrl": "https://lh3.googleusercontent.com/a-/AOh14GgHdj66drQjCguTVvVzCd5yy8cdMluPJPZlz_BQLg=s64",
      "userId": "12100132160237129013"
     },
     "user_tz": -120
    },
    "id": "qnAL4n0hTOaX"
   },
   "outputs": [],
   "source": [
    "''' Linear Algebra '''\n",
    "import pandas as pd\n",
    "import numpy as np\n",
    "pd.set_option(\"max_columns\",None)\n",
    "\n",
    "'''Data visualization'''\n",
    "import matplotlib.pyplot as plt\n",
    "import seaborn as sns\n",
    "sns.set_style('whitegrid')\n",
    "plt.style.use(\"fivethirtyeight\")"
   ]
  },
  {
   "cell_type": "code",
   "execution_count": 2,
   "metadata": {
    "executionInfo": {
     "elapsed": 2,
     "status": "ok",
     "timestamp": 1629966199072,
     "user": {
      "displayName": "Ivan Fernandes",
      "photoUrl": "https://lh3.googleusercontent.com/a-/AOh14GgHdj66drQjCguTVvVzCd5yy8cdMluPJPZlz_BQLg=s64",
      "userId": "12100132160237129013"
     },
     "user_tz": -120
    },
    "id": "5xjbJ62hTOaa"
   },
   "outputs": [],
   "source": [
    "''' Hnadling timestamps'''\n",
    "import datetime\n",
    "from datetime import datetime"
   ]
  },
  {
   "cell_type": "code",
   "execution_count": 3,
   "metadata": {
    "executionInfo": {
     "elapsed": 788,
     "status": "ok",
     "timestamp": 1629966215382,
     "user": {
      "displayName": "Ivan Fernandes",
      "photoUrl": "https://lh3.googleusercontent.com/a-/AOh14GgHdj66drQjCguTVvVzCd5yy8cdMluPJPZlz_BQLg=s64",
      "userId": "12100132160237129013"
     },
     "user_tz": -120
    },
    "id": "LrKv6T1kTOaa"
   },
   "outputs": [],
   "source": [
    "# tech stocks\n",
    "coin = ['BTC', 'ETH']"
   ]
  },
  {
   "cell_type": "code",
   "execution_count": 4,
   "metadata": {
    "executionInfo": {
     "elapsed": 3,
     "status": "ok",
     "timestamp": 1629966215702,
     "user": {
      "displayName": "Ivan Fernandes",
      "photoUrl": "https://lh3.googleusercontent.com/a-/AOh14GgHdj66drQjCguTVvVzCd5yy8cdMluPJPZlz_BQLg=s64",
      "userId": "12100132160237129013"
     },
     "user_tz": -120
    },
    "id": "C0S7d3wITOaa"
   },
   "outputs": [],
   "source": [
    "# today\n",
    "end = datetime.now()"
   ]
  },
  {
   "cell_type": "code",
   "execution_count": 5,
   "metadata": {
    "colab": {
     "base_uri": "https://localhost:8080/"
    },
    "executionInfo": {
     "elapsed": 5,
     "status": "ok",
     "timestamp": 1629966216784,
     "user": {
      "displayName": "Ivan Fernandes",
      "photoUrl": "https://lh3.googleusercontent.com/a-/AOh14GgHdj66drQjCguTVvVzCd5yy8cdMluPJPZlz_BQLg=s64",
      "userId": "12100132160237129013"
     },
     "user_tz": -120
    },
    "id": "COF0GdNCTOac",
    "outputId": "f25d2660-5149-4e65-bff0-959944504d1e"
   },
   "outputs": [
    {
     "data": {
      "text/plain": [
       "datetime.datetime(2012, 1, 1, 0, 0)"
      ]
     },
     "execution_count": 5,
     "metadata": {},
     "output_type": "execute_result"
    }
   ],
   "source": [
    "start = datetime(2012, 1, 1)\n",
    "start"
   ]
  },
  {
   "cell_type": "code",
   "execution_count": 6,
   "metadata": {
    "colab": {
     "base_uri": "https://localhost:8080/"
    },
    "executionInfo": {
     "elapsed": 351,
     "status": "ok",
     "timestamp": 1629966293996,
     "user": {
      "displayName": "Ivan Fernandes",
      "photoUrl": "https://lh3.googleusercontent.com/a-/AOh14GgHdj66drQjCguTVvVzCd5yy8cdMluPJPZlz_BQLg=s64",
      "userId": "12100132160237129013"
     },
     "user_tz": -120
    },
    "id": "yycPaAz_a6Sy",
    "outputId": "bc68dbc7-c65e-453c-f4a0-991e24e1ee68",
    "scrolled": true
   },
   "outputs": [],
   "source": [
    "url = 'https://raw.githubusercontent.com/timjab92/cryptotradingindicator/master/data/BTCUSD_4hours.csv'\n",
    "\n",
    "data = pd.read_csv(url)\n",
    "# Dataset is now stored in a Pandas Dataframe"
   ]
  },
  {
   "cell_type": "code",
   "execution_count": 7,
   "metadata": {
    "colab": {
     "base_uri": "https://localhost:8080/",
     "height": 447
    },
    "executionInfo": {
     "elapsed": 350,
     "status": "ok",
     "timestamp": 1629966972802,
     "user": {
      "displayName": "Ivan Fernandes",
      "photoUrl": "https://lh3.googleusercontent.com/a-/AOh14GgHdj66drQjCguTVvVzCd5yy8cdMluPJPZlz_BQLg=s64",
      "userId": "12100132160237129013"
     },
     "user_tz": -120
    },
    "id": "TmBE1gv3TOaj",
    "outputId": "6b81eb77-bc56-4173-bdd2-e48dfc399de6"
   },
   "outputs": [
    {
     "data": {
      "text/html": [
       "<div>\n",
       "<style scoped>\n",
       "    .dataframe tbody tr th:only-of-type {\n",
       "        vertical-align: middle;\n",
       "    }\n",
       "\n",
       "    .dataframe tbody tr th {\n",
       "        vertical-align: top;\n",
       "    }\n",
       "\n",
       "    .dataframe thead th {\n",
       "        text-align: right;\n",
       "    }\n",
       "</style>\n",
       "<table border=\"1\" class=\"dataframe\">\n",
       "  <thead>\n",
       "    <tr style=\"text-align: right;\">\n",
       "      <th></th>\n",
       "      <th>open</th>\n",
       "      <th>high</th>\n",
       "      <th>low</th>\n",
       "      <th>close</th>\n",
       "      <th>volume</th>\n",
       "      <th>log_open</th>\n",
       "      <th>log_high</th>\n",
       "      <th>log_low</th>\n",
       "      <th>log_close</th>\n",
       "    </tr>\n",
       "    <tr>\n",
       "      <th>date</th>\n",
       "      <th></th>\n",
       "      <th></th>\n",
       "      <th></th>\n",
       "      <th></th>\n",
       "      <th></th>\n",
       "      <th></th>\n",
       "      <th></th>\n",
       "      <th></th>\n",
       "      <th></th>\n",
       "    </tr>\n",
       "  </thead>\n",
       "  <tbody>\n",
       "    <tr>\n",
       "      <th>2016-09-11 16:00:00</th>\n",
       "      <td>622.530173</td>\n",
       "      <td>622.773815</td>\n",
       "      <td>622.393815</td>\n",
       "      <td>622.601965</td>\n",
       "      <td>0.645503</td>\n",
       "      <td>6.433792</td>\n",
       "      <td>6.434183</td>\n",
       "      <td>6.433573</td>\n",
       "      <td>6.433907</td>\n",
       "    </tr>\n",
       "    <tr>\n",
       "      <th>2016-09-11 20:00:00</th>\n",
       "      <td>608.858585</td>\n",
       "      <td>609.295377</td>\n",
       "      <td>608.338821</td>\n",
       "      <td>608.752830</td>\n",
       "      <td>21.064810</td>\n",
       "      <td>6.411376</td>\n",
       "      <td>6.412097</td>\n",
       "      <td>6.410514</td>\n",
       "      <td>6.411200</td>\n",
       "    </tr>\n",
       "    <tr>\n",
       "      <th>2016-09-12 00:00:00</th>\n",
       "      <td>604.478168</td>\n",
       "      <td>604.792618</td>\n",
       "      <td>604.236335</td>\n",
       "      <td>604.450576</td>\n",
       "      <td>3.045742</td>\n",
       "      <td>6.404364</td>\n",
       "      <td>6.404884</td>\n",
       "      <td>6.403964</td>\n",
       "      <td>6.404318</td>\n",
       "    </tr>\n",
       "    <tr>\n",
       "      <th>2016-09-12 04:00:00</th>\n",
       "      <td>605.892222</td>\n",
       "      <td>606.177516</td>\n",
       "      <td>605.676405</td>\n",
       "      <td>605.881569</td>\n",
       "      <td>2.487445</td>\n",
       "      <td>6.406701</td>\n",
       "      <td>6.407171</td>\n",
       "      <td>6.406345</td>\n",
       "      <td>6.406684</td>\n",
       "    </tr>\n",
       "    <tr>\n",
       "      <th>2016-09-12 08:00:00</th>\n",
       "      <td>605.702602</td>\n",
       "      <td>606.161735</td>\n",
       "      <td>605.157959</td>\n",
       "      <td>605.682296</td>\n",
       "      <td>5.324050</td>\n",
       "      <td>6.406387</td>\n",
       "      <td>6.407145</td>\n",
       "      <td>6.405488</td>\n",
       "      <td>6.406353</td>\n",
       "    </tr>\n",
       "    <tr>\n",
       "      <th>...</th>\n",
       "      <td>...</td>\n",
       "      <td>...</td>\n",
       "      <td>...</td>\n",
       "      <td>...</td>\n",
       "      <td>...</td>\n",
       "      <td>...</td>\n",
       "      <td>...</td>\n",
       "      <td>...</td>\n",
       "      <td>...</td>\n",
       "    </tr>\n",
       "    <tr>\n",
       "      <th>2021-08-22 12:00:00</th>\n",
       "      <td>48769.308417</td>\n",
       "      <td>48787.711375</td>\n",
       "      <td>48749.417500</td>\n",
       "      <td>48769.737750</td>\n",
       "      <td>1.697971</td>\n",
       "      <td>10.794844</td>\n",
       "      <td>10.795222</td>\n",
       "      <td>10.794435</td>\n",
       "      <td>10.794853</td>\n",
       "    </tr>\n",
       "    <tr>\n",
       "      <th>2021-08-22 16:00:00</th>\n",
       "      <td>48591.665708</td>\n",
       "      <td>48605.941333</td>\n",
       "      <td>48574.903375</td>\n",
       "      <td>48591.580833</td>\n",
       "      <td>0.463362</td>\n",
       "      <td>10.791204</td>\n",
       "      <td>10.791498</td>\n",
       "      <td>10.790859</td>\n",
       "      <td>10.791202</td>\n",
       "    </tr>\n",
       "    <tr>\n",
       "      <th>2021-08-22 20:00:00</th>\n",
       "      <td>48807.713542</td>\n",
       "      <td>48825.874417</td>\n",
       "      <td>48791.558000</td>\n",
       "      <td>48810.168750</td>\n",
       "      <td>0.605696</td>\n",
       "      <td>10.795610</td>\n",
       "      <td>10.795982</td>\n",
       "      <td>10.795279</td>\n",
       "      <td>10.795660</td>\n",
       "    </tr>\n",
       "    <tr>\n",
       "      <th>2021-08-23 00:00:00</th>\n",
       "      <td>49779.332208</td>\n",
       "      <td>49803.461792</td>\n",
       "      <td>49759.784208</td>\n",
       "      <td>49783.003708</td>\n",
       "      <td>1.941360</td>\n",
       "      <td>10.815334</td>\n",
       "      <td>10.815818</td>\n",
       "      <td>10.814942</td>\n",
       "      <td>10.815408</td>\n",
       "    </tr>\n",
       "    <tr>\n",
       "      <th>2021-08-23 04:00:00</th>\n",
       "      <td>50278.596788</td>\n",
       "      <td>50292.908182</td>\n",
       "      <td>50261.680727</td>\n",
       "      <td>50277.475152</td>\n",
       "      <td>1.908007</td>\n",
       "      <td>10.825333</td>\n",
       "      <td>10.825618</td>\n",
       "      <td>10.824997</td>\n",
       "      <td>10.825311</td>\n",
       "    </tr>\n",
       "  </tbody>\n",
       "</table>\n",
       "<p>10840 rows × 9 columns</p>\n",
       "</div>"
      ],
      "text/plain": [
       "                             open          high           low         close  \\\n",
       "date                                                                          \n",
       "2016-09-11 16:00:00    622.530173    622.773815    622.393815    622.601965   \n",
       "2016-09-11 20:00:00    608.858585    609.295377    608.338821    608.752830   \n",
       "2016-09-12 00:00:00    604.478168    604.792618    604.236335    604.450576   \n",
       "2016-09-12 04:00:00    605.892222    606.177516    605.676405    605.881569   \n",
       "2016-09-12 08:00:00    605.702602    606.161735    605.157959    605.682296   \n",
       "...                           ...           ...           ...           ...   \n",
       "2021-08-22 12:00:00  48769.308417  48787.711375  48749.417500  48769.737750   \n",
       "2021-08-22 16:00:00  48591.665708  48605.941333  48574.903375  48591.580833   \n",
       "2021-08-22 20:00:00  48807.713542  48825.874417  48791.558000  48810.168750   \n",
       "2021-08-23 00:00:00  49779.332208  49803.461792  49759.784208  49783.003708   \n",
       "2021-08-23 04:00:00  50278.596788  50292.908182  50261.680727  50277.475152   \n",
       "\n",
       "                        volume   log_open   log_high    log_low  log_close  \n",
       "date                                                                        \n",
       "2016-09-11 16:00:00   0.645503   6.433792   6.434183   6.433573   6.433907  \n",
       "2016-09-11 20:00:00  21.064810   6.411376   6.412097   6.410514   6.411200  \n",
       "2016-09-12 00:00:00   3.045742   6.404364   6.404884   6.403964   6.404318  \n",
       "2016-09-12 04:00:00   2.487445   6.406701   6.407171   6.406345   6.406684  \n",
       "2016-09-12 08:00:00   5.324050   6.406387   6.407145   6.405488   6.406353  \n",
       "...                        ...        ...        ...        ...        ...  \n",
       "2021-08-22 12:00:00   1.697971  10.794844  10.795222  10.794435  10.794853  \n",
       "2021-08-22 16:00:00   0.463362  10.791204  10.791498  10.790859  10.791202  \n",
       "2021-08-22 20:00:00   0.605696  10.795610  10.795982  10.795279  10.795660  \n",
       "2021-08-23 00:00:00   1.941360  10.815334  10.815818  10.814942  10.815408  \n",
       "2021-08-23 04:00:00   1.908007  10.825333  10.825618  10.824997  10.825311  \n",
       "\n",
       "[10840 rows x 9 columns]"
      ]
     },
     "execution_count": 7,
     "metadata": {},
     "output_type": "execute_result"
    }
   ],
   "source": [
    "coin_selection = \"BTC\"\n",
    "# coin_data = {\"BTC\":\"BTCUSD_4hours.csv\"}\n",
    "\n",
    "# data = pd.read_csv(data_path + coin_data[coin_selection])\n",
    "\n",
    "data = data.drop(columns=\"Unnamed: 0\").set_index(\"date\")\n",
    "data = data[10000:]\n",
    "data"
   ]
  },
  {
   "cell_type": "code",
   "execution_count": null,
   "metadata": {},
   "outputs": [],
   "source": []
  },
  {
   "cell_type": "code",
   "execution_count": 8,
   "metadata": {
    "colab": {
     "base_uri": "https://localhost:8080/",
     "height": 293
    },
    "executionInfo": {
     "elapsed": 535,
     "status": "ok",
     "timestamp": 1629966974930,
     "user": {
      "displayName": "Ivan Fernandes",
      "photoUrl": "https://lh3.googleusercontent.com/a-/AOh14GgHdj66drQjCguTVvVzCd5yy8cdMluPJPZlz_BQLg=s64",
      "userId": "12100132160237129013"
     },
     "user_tz": -120
    },
    "id": "RIJL_ZcKTOaj",
    "outputId": "b6065065-d451-4581-df07-0531602adf36"
   },
   "outputs": [
    {
     "data": {
      "text/html": [
       "<div>\n",
       "<style scoped>\n",
       "    .dataframe tbody tr th:only-of-type {\n",
       "        vertical-align: middle;\n",
       "    }\n",
       "\n",
       "    .dataframe tbody tr th {\n",
       "        vertical-align: top;\n",
       "    }\n",
       "\n",
       "    .dataframe thead th {\n",
       "        text-align: right;\n",
       "    }\n",
       "</style>\n",
       "<table border=\"1\" class=\"dataframe\">\n",
       "  <thead>\n",
       "    <tr style=\"text-align: right;\">\n",
       "      <th></th>\n",
       "      <th>open</th>\n",
       "      <th>high</th>\n",
       "      <th>low</th>\n",
       "      <th>close</th>\n",
       "      <th>volume</th>\n",
       "      <th>log_open</th>\n",
       "      <th>log_high</th>\n",
       "      <th>log_low</th>\n",
       "      <th>log_close</th>\n",
       "      <th>ema12</th>\n",
       "      <th>ema26</th>\n",
       "      <th>ema20</th>\n",
       "      <th>ema50</th>\n",
       "      <th>ema34</th>\n",
       "      <th>ema55</th>\n",
       "      <th>rsi</th>\n",
       "      <th>K</th>\n",
       "      <th>D</th>\n",
       "      <th>sma</th>\n",
       "      <th>bollinger_up</th>\n",
       "      <th>bollinger_down</th>\n",
       "      <th>vol_roc</th>\n",
       "    </tr>\n",
       "    <tr>\n",
       "      <th>date</th>\n",
       "      <th></th>\n",
       "      <th></th>\n",
       "      <th></th>\n",
       "      <th></th>\n",
       "      <th></th>\n",
       "      <th></th>\n",
       "      <th></th>\n",
       "      <th></th>\n",
       "      <th></th>\n",
       "      <th></th>\n",
       "      <th></th>\n",
       "      <th></th>\n",
       "      <th></th>\n",
       "      <th></th>\n",
       "      <th></th>\n",
       "      <th></th>\n",
       "      <th></th>\n",
       "      <th></th>\n",
       "      <th></th>\n",
       "      <th></th>\n",
       "      <th></th>\n",
       "      <th></th>\n",
       "    </tr>\n",
       "  </thead>\n",
       "  <tbody>\n",
       "    <tr>\n",
       "      <th>2016-09-11 16:00:00</th>\n",
       "      <td>622.530173</td>\n",
       "      <td>622.773815</td>\n",
       "      <td>622.393815</td>\n",
       "      <td>622.601965</td>\n",
       "      <td>0.645503</td>\n",
       "      <td>6.433792</td>\n",
       "      <td>6.434183</td>\n",
       "      <td>6.433573</td>\n",
       "      <td>6.433907</td>\n",
       "      <td>6.433907</td>\n",
       "      <td>6.433907</td>\n",
       "      <td>6.433907</td>\n",
       "      <td>6.433907</td>\n",
       "      <td>6.433907</td>\n",
       "      <td>6.433907</td>\n",
       "      <td>NaN</td>\n",
       "      <td>NaN</td>\n",
       "      <td>NaN</td>\n",
       "      <td>NaN</td>\n",
       "      <td>NaN</td>\n",
       "      <td>NaN</td>\n",
       "      <td>NaN</td>\n",
       "    </tr>\n",
       "    <tr>\n",
       "      <th>2016-09-11 20:00:00</th>\n",
       "      <td>608.858585</td>\n",
       "      <td>609.295377</td>\n",
       "      <td>608.338821</td>\n",
       "      <td>608.752830</td>\n",
       "      <td>21.064810</td>\n",
       "      <td>6.411376</td>\n",
       "      <td>6.412097</td>\n",
       "      <td>6.410514</td>\n",
       "      <td>6.411200</td>\n",
       "      <td>6.421607</td>\n",
       "      <td>6.422117</td>\n",
       "      <td>6.421986</td>\n",
       "      <td>6.422326</td>\n",
       "      <td>6.422220</td>\n",
       "      <td>6.422347</td>\n",
       "      <td>NaN</td>\n",
       "      <td>NaN</td>\n",
       "      <td>NaN</td>\n",
       "      <td>NaN</td>\n",
       "      <td>NaN</td>\n",
       "      <td>NaN</td>\n",
       "      <td>31.633193</td>\n",
       "    </tr>\n",
       "    <tr>\n",
       "      <th>2016-09-12 00:00:00</th>\n",
       "      <td>604.478168</td>\n",
       "      <td>604.792618</td>\n",
       "      <td>604.236335</td>\n",
       "      <td>604.450576</td>\n",
       "      <td>3.045742</td>\n",
       "      <td>6.404364</td>\n",
       "      <td>6.404884</td>\n",
       "      <td>6.403964</td>\n",
       "      <td>6.404318</td>\n",
       "      <td>6.414859</td>\n",
       "      <td>6.415722</td>\n",
       "      <td>6.415498</td>\n",
       "      <td>6.416082</td>\n",
       "      <td>6.415898</td>\n",
       "      <td>6.416118</td>\n",
       "      <td>NaN</td>\n",
       "      <td>NaN</td>\n",
       "      <td>NaN</td>\n",
       "      <td>NaN</td>\n",
       "      <td>NaN</td>\n",
       "      <td>NaN</td>\n",
       "      <td>-0.855411</td>\n",
       "    </tr>\n",
       "  </tbody>\n",
       "</table>\n",
       "</div>"
      ],
      "text/plain": [
       "                           open        high         low       close  \\\n",
       "date                                                                  \n",
       "2016-09-11 16:00:00  622.530173  622.773815  622.393815  622.601965   \n",
       "2016-09-11 20:00:00  608.858585  609.295377  608.338821  608.752830   \n",
       "2016-09-12 00:00:00  604.478168  604.792618  604.236335  604.450576   \n",
       "\n",
       "                        volume  log_open  log_high   log_low  log_close  \\\n",
       "date                                                                      \n",
       "2016-09-11 16:00:00   0.645503  6.433792  6.434183  6.433573   6.433907   \n",
       "2016-09-11 20:00:00  21.064810  6.411376  6.412097  6.410514   6.411200   \n",
       "2016-09-12 00:00:00   3.045742  6.404364  6.404884  6.403964   6.404318   \n",
       "\n",
       "                        ema12     ema26     ema20     ema50     ema34  \\\n",
       "date                                                                    \n",
       "2016-09-11 16:00:00  6.433907  6.433907  6.433907  6.433907  6.433907   \n",
       "2016-09-11 20:00:00  6.421607  6.422117  6.421986  6.422326  6.422220   \n",
       "2016-09-12 00:00:00  6.414859  6.415722  6.415498  6.416082  6.415898   \n",
       "\n",
       "                        ema55  rsi   K   D  sma  bollinger_up  bollinger_down  \\\n",
       "date                                                                            \n",
       "2016-09-11 16:00:00  6.433907  NaN NaN NaN  NaN           NaN             NaN   \n",
       "2016-09-11 20:00:00  6.422347  NaN NaN NaN  NaN           NaN             NaN   \n",
       "2016-09-12 00:00:00  6.416118  NaN NaN NaN  NaN           NaN             NaN   \n",
       "\n",
       "                       vol_roc  \n",
       "date                            \n",
       "2016-09-11 16:00:00        NaN  \n",
       "2016-09-11 20:00:00  31.633193  \n",
       "2016-09-12 00:00:00  -0.855411  "
      ]
     },
     "execution_count": 8,
     "metadata": {},
     "output_type": "execute_result"
    }
   ],
   "source": [
    "## add other features\n",
    "\n",
    "def add_ema(data, tspan=[12,26,20,50,34,55]):\n",
    "    \"\"\"\n",
    "    Adds Exponential Moving Averages (EMA) to the dataframe. The default timeframes are 12,26,20,50,34 and 55.\n",
    "    \"\"\"\n",
    "    for t in tspan:\n",
    "        data[f'ema{t}'] = data.log_close.ewm(span=t).mean()\n",
    "    return data\n",
    "\n",
    "add_ema(data)\n",
    "\n",
    "def computeRSI(data, window=14):\n",
    "    \"\"\"\n",
    "    Computes the Relative Stregth Index for a given dataset and the window can be defined. Its default value is 14.\n",
    "    \"\"\"\n",
    "    diff = data.diff(1).dropna()        # diff in one field(one day)\n",
    "\n",
    "    #this preservers dimensions off diff values\n",
    "    up_chg = 0 * diff\n",
    "    down_chg = 0 * diff\n",
    "    \n",
    "    # up change is equal to the positive difference, otherwise equal to zero\n",
    "    up_chg[diff > 0] = diff[ diff>0 ]\n",
    "    # down change is equal to negative deifference, otherwise equal to zero\n",
    "    down_chg[diff < 0] = diff[ diff < 0 ]\n",
    "    \n",
    "    # check pandas documentation for ewm\n",
    "    # https://pandas.pydata.org/pandas-docs/stable/reference/api/pandas.DataFrame.ewm.html\n",
    "    # values are related to exponential decay\n",
    "    # we set com=window-1 so we get decay alpha=1/window\n",
    "    up_chg_avg   = up_chg.ewm(com=window-1 , min_periods=window).mean()\n",
    "    down_chg_avg = down_chg.ewm(com=window-1 , min_periods=window).mean()\n",
    "    \n",
    "    rs = abs(up_chg_avg/down_chg_avg)\n",
    "    rsi = 100 - 100/(1+rs)\n",
    "    return rsi\n",
    "\n",
    "\n",
    "\n",
    "rsi = computeRSI(data)\n",
    "\n",
    "def stoch_rsi(rsi, d_window=3, k_window=3, window=14):\n",
    "    \"\"\"\n",
    "    Computes the stochastic RSI. Default values are d=3, k=3, window=14.\n",
    "    \"\"\"\n",
    "    minrsi = rsi.rolling(window=window, center=False).min()\n",
    "    maxrsi = rsi.rolling(window=window, center=False).max()\n",
    "    stoch = ((rsi - minrsi) / (maxrsi - minrsi)) * 100\n",
    "    K = stoch.rolling(window=k_window, center=False).mean()\n",
    "    D = K.rolling(window=d_window, center=False).mean() \n",
    "    return K, D  \n",
    "\n",
    "stoch_rsi(rsi)\n",
    "\n",
    "def add_stoch_rsi(data, d_window=3, k_window=3, window=14):\n",
    "    data['rsi'] = computeRSI(data['log_close'], window)\n",
    "    data['K'], data['D'] = stoch_rsi(data['rsi'], d_window, k_window, window)\n",
    "    return data\n",
    "\n",
    "add_stoch_rsi(data)\n",
    "\n",
    "def get_bollinger_bands(prices, rate=20):\n",
    "    sma = prices.rolling(rate).mean() # <-- Get SMA for 20 days\n",
    "    std = prices.rolling(rate).std() # <-- Get rolling standard deviation for 20 days\n",
    "    bollinger_up = sma + std * 2 # Calculate top band\n",
    "    bollinger_down = sma - std * 2 # Calculate bottom band\n",
    "    return sma, bollinger_up, bollinger_down\n",
    "\n",
    "prices = data[\"log_close\"]\n",
    "\n",
    "get_bollinger_bands(prices, rate=20)\n",
    "\n",
    "def add_bollinger(data, prices, rate=20):\n",
    "    data['sma'], data['bollinger_up'], data['bollinger_down'] = get_bollinger_bands(prices)\n",
    "    return data\n",
    "\n",
    "add_bollinger(data,prices)\n",
    "\n",
    "def add_vol_roc(data):\n",
    "    data['vol_roc'] = data.volume.pct_change()\n",
    "    return data\n",
    "\n",
    "add_vol_roc(data)\n",
    "data.head(3)"
   ]
  },
  {
   "cell_type": "markdown",
   "metadata": {
    "id": "hnO1Kw4mTOam"
   },
   "source": [
    "### Daily return\n",
    "\n",
    "$ return = \\frac{new - old}{old} $"
   ]
  },
  {
   "cell_type": "code",
   "execution_count": 9,
   "metadata": {
    "executionInfo": {
     "elapsed": 3,
     "status": "ok",
     "timestamp": 1629966976844,
     "user": {
      "displayName": "Ivan Fernandes",
      "photoUrl": "https://lh3.googleusercontent.com/a-/AOh14GgHdj66drQjCguTVvVzCd5yy8cdMluPJPZlz_BQLg=s64",
      "userId": "12100132160237129013"
     },
     "user_tz": -120
    },
    "id": "OkM8CpqykqFz"
   },
   "outputs": [],
   "source": [
    "data['4h Return'] = data['close'].pct_change()\n",
    "data['4h Gradient'] = data['close'].diff()"
   ]
  },
  {
   "cell_type": "code",
   "execution_count": 10,
   "metadata": {
    "executionInfo": {
     "elapsed": 3,
     "status": "ok",
     "timestamp": 1629966978166,
     "user": {
      "displayName": "Ivan Fernandes",
      "photoUrl": "https://lh3.googleusercontent.com/a-/AOh14GgHdj66drQjCguTVvVzCd5yy8cdMluPJPZlz_BQLg=s64",
      "userId": "12100132160237129013"
     },
     "user_tz": -120
    },
    "id": "pjzEF_95arJY"
   },
   "outputs": [],
   "source": [
    "data = data.dropna()"
   ]
  },
  {
   "cell_type": "markdown",
   "metadata": {
    "id": "omE_GM43TOaj"
   },
   "source": [
    "## Time-Series Visualisation"
   ]
  },
  {
   "cell_type": "markdown",
   "metadata": {
    "id": "9He6r2IBTOak"
   },
   "source": [
    "### Historical Stock Prices"
   ]
  },
  {
   "cell_type": "code",
   "execution_count": 11,
   "metadata": {
    "colab": {
     "base_uri": "https://localhost:8080/",
     "height": 433
    },
    "executionInfo": {
     "elapsed": 1080,
     "status": "ok",
     "timestamp": 1629966982994,
     "user": {
      "displayName": "Ivan Fernandes",
      "photoUrl": "https://lh3.googleusercontent.com/a-/AOh14GgHdj66drQjCguTVvVzCd5yy8cdMluPJPZlz_BQLg=s64",
      "userId": "12100132160237129013"
     },
     "user_tz": -120
    },
    "id": "Sn68mhkBTOak",
    "outputId": "2b9e59ce-9d71-4b4b-f8f2-ecaeeab6cc33"
   },
   "outputs": [
    {
     "data": {
      "image/png": "[encoded data removed]",
      "text/plain": [
       "<Figure size 1080x432 with 1 Axes>"
      ]
     },
     "metadata": {},
     "output_type": "display_data"
    }
   ],
   "source": [
    "# Let's see a historical view of the closing price\n",
    "\n",
    "plt.figure(figsize=(15, 6))\n",
    "plt.subplots_adjust(top=1.25, bottom=1.2)\n",
    "\n",
    "data['close'].plot()\n",
    "plt.ylabel('close')\n",
    "plt.xlabel(None)\n",
    "plt.title(f\"Closing Price of {coin_selection}\")\n",
    "    \n",
    "plt.tight_layout()"
   ]
  },
  {
   "cell_type": "markdown",
   "metadata": {
    "id": "LOkzKw4OTOal"
   },
   "source": [
    "### Volumes traded"
   ]
  },
  {
   "cell_type": "code",
   "execution_count": 12,
   "metadata": {
    "colab": {
     "base_uri": "https://localhost:8080/",
     "height": 430
    },
    "executionInfo": {
     "elapsed": 709,
     "status": "ok",
     "timestamp": 1629966985093,
     "user": {
      "displayName": "Ivan Fernandes",
      "photoUrl": "https://lh3.googleusercontent.com/a-/AOh14GgHdj66drQjCguTVvVzCd5yy8cdMluPJPZlz_BQLg=s64",
      "userId": "12100132160237129013"
     },
     "user_tz": -120
    },
    "id": "icuzmUSpTOal",
    "outputId": "e9132fc3-f382-4188-ca4f-d214ebc4acc2"
   },
   "outputs": [
    {
     "data": {
      "image/png": "[encoded data removed]",
      "text/plain": [
       "<Figure size 1080x432 with 1 Axes>"
      ]
     },
     "metadata": {},
     "output_type": "display_data"
    }
   ],
   "source": [
    "# Let's see a historical view of the closing price\n",
    "\n",
    "plt.figure(figsize=(15, 6))\n",
    "plt.subplots_adjust(top=1.25, bottom=1.2)\n",
    "\n",
    "data['volume'].plot()\n",
    "plt.ylabel('Volume')\n",
    "plt.xlabel(None)\n",
    "plt.title(f\"Sales Volume of BTC\")\n",
    "    \n",
    "plt.tight_layout()"
   ]
  },
  {
   "cell_type": "code",
   "execution_count": 13,
   "metadata": {
    "colab": {
     "base_uri": "https://localhost:8080/",
     "height": 438
    },
    "executionInfo": {
     "elapsed": 356,
     "status": "ok",
     "timestamp": 1629967115184,
     "user": {
      "displayName": "Ivan Fernandes",
      "photoUrl": "https://lh3.googleusercontent.com/a-/AOh14GgHdj66drQjCguTVvVzCd5yy8cdMluPJPZlz_BQLg=s64",
      "userId": "12100132160237129013"
     },
     "user_tz": -120
    },
    "id": "xr6neOtXnESl",
    "outputId": "40f7378e-e11c-4e48-9156-2adc1e087421"
   },
   "outputs": [
    {
     "data": {
      "text/html": [
       "<div>\n",
       "<style scoped>\n",
       "    .dataframe tbody tr th:only-of-type {\n",
       "        vertical-align: middle;\n",
       "    }\n",
       "\n",
       "    .dataframe tbody tr th {\n",
       "        vertical-align: top;\n",
       "    }\n",
       "\n",
       "    .dataframe thead th {\n",
       "        text-align: right;\n",
       "    }\n",
       "</style>\n",
       "<table border=\"1\" class=\"dataframe\">\n",
       "  <thead>\n",
       "    <tr style=\"text-align: right;\">\n",
       "      <th></th>\n",
       "      <th>open</th>\n",
       "      <th>high</th>\n",
       "      <th>low</th>\n",
       "      <th>close</th>\n",
       "      <th>volume</th>\n",
       "      <th>log_open</th>\n",
       "      <th>log_high</th>\n",
       "      <th>log_low</th>\n",
       "      <th>log_close</th>\n",
       "      <th>ema12</th>\n",
       "      <th>ema26</th>\n",
       "      <th>ema20</th>\n",
       "      <th>ema50</th>\n",
       "      <th>ema34</th>\n",
       "      <th>ema55</th>\n",
       "      <th>rsi</th>\n",
       "      <th>K</th>\n",
       "      <th>D</th>\n",
       "      <th>sma</th>\n",
       "      <th>bollinger_up</th>\n",
       "      <th>bollinger_down</th>\n",
       "      <th>vol_roc</th>\n",
       "      <th>4h Return</th>\n",
       "      <th>4h Gradient</th>\n",
       "    </tr>\n",
       "    <tr>\n",
       "      <th>date</th>\n",
       "      <th></th>\n",
       "      <th></th>\n",
       "      <th></th>\n",
       "      <th></th>\n",
       "      <th></th>\n",
       "      <th></th>\n",
       "      <th></th>\n",
       "      <th></th>\n",
       "      <th></th>\n",
       "      <th></th>\n",
       "      <th></th>\n",
       "      <th></th>\n",
       "      <th></th>\n",
       "      <th></th>\n",
       "      <th></th>\n",
       "      <th></th>\n",
       "      <th></th>\n",
       "      <th></th>\n",
       "      <th></th>\n",
       "      <th></th>\n",
       "      <th></th>\n",
       "      <th></th>\n",
       "      <th></th>\n",
       "      <th></th>\n",
       "    </tr>\n",
       "  </thead>\n",
       "  <tbody>\n",
       "    <tr>\n",
       "      <th>2016-09-16 20:00:00</th>\n",
       "      <td>606.420076</td>\n",
       "      <td>606.511450</td>\n",
       "      <td>606.326031</td>\n",
       "      <td>606.412748</td>\n",
       "      <td>2.307185</td>\n",
       "      <td>6.407572</td>\n",
       "      <td>6.407723</td>\n",
       "      <td>6.407417</td>\n",
       "      <td>6.407560</td>\n",
       "      <td>6.408324</td>\n",
       "      <td>6.408770</td>\n",
       "      <td>6.408638</td>\n",
       "      <td>6.409010</td>\n",
       "      <td>6.408882</td>\n",
       "      <td>6.409036</td>\n",
       "      <td>40.074263</td>\n",
       "      <td>66.832576</td>\n",
       "      <td>68.633211</td>\n",
       "      <td>6.409163</td>\n",
       "      <td>6.412655</td>\n",
       "      <td>6.405670</td>\n",
       "      <td>-0.592995</td>\n",
       "      <td>0.001020</td>\n",
       "      <td>0.618162</td>\n",
       "    </tr>\n",
       "    <tr>\n",
       "      <th>2016-09-17 00:00:00</th>\n",
       "      <td>606.393333</td>\n",
       "      <td>606.546449</td>\n",
       "      <td>606.200652</td>\n",
       "      <td>606.373841</td>\n",
       "      <td>0.914466</td>\n",
       "      <td>6.407528</td>\n",
       "      <td>6.407780</td>\n",
       "      <td>6.407210</td>\n",
       "      <td>6.407496</td>\n",
       "      <td>6.408196</td>\n",
       "      <td>6.408667</td>\n",
       "      <td>6.408525</td>\n",
       "      <td>6.408929</td>\n",
       "      <td>6.408790</td>\n",
       "      <td>6.408957</td>\n",
       "      <td>39.930892</td>\n",
       "      <td>54.323486</td>\n",
       "      <td>64.618565</td>\n",
       "      <td>6.409170</td>\n",
       "      <td>6.412646</td>\n",
       "      <td>6.405694</td>\n",
       "      <td>-0.603644</td>\n",
       "      <td>-0.000064</td>\n",
       "      <td>-0.038908</td>\n",
       "    </tr>\n",
       "    <tr>\n",
       "      <th>2016-09-17 04:00:00</th>\n",
       "      <td>605.275088</td>\n",
       "      <td>605.384737</td>\n",
       "      <td>605.165702</td>\n",
       "      <td>605.290175</td>\n",
       "      <td>0.945083</td>\n",
       "      <td>6.405683</td>\n",
       "      <td>6.405864</td>\n",
       "      <td>6.405502</td>\n",
       "      <td>6.405707</td>\n",
       "      <td>6.407812</td>\n",
       "      <td>6.408431</td>\n",
       "      <td>6.408248</td>\n",
       "      <td>6.408759</td>\n",
       "      <td>6.408586</td>\n",
       "      <td>6.408794</td>\n",
       "      <td>36.082672</td>\n",
       "      <td>52.566827</td>\n",
       "      <td>57.907630</td>\n",
       "      <td>6.408919</td>\n",
       "      <td>6.412637</td>\n",
       "      <td>6.405200</td>\n",
       "      <td>0.033480</td>\n",
       "      <td>-0.001787</td>\n",
       "      <td>-1.083665</td>\n",
       "    </tr>\n",
       "    <tr>\n",
       "      <th>2016-09-17 08:00:00</th>\n",
       "      <td>605.660526</td>\n",
       "      <td>605.763263</td>\n",
       "      <td>605.491368</td>\n",
       "      <td>605.612421</td>\n",
       "      <td>1.887662</td>\n",
       "      <td>6.406319</td>\n",
       "      <td>6.406488</td>\n",
       "      <td>6.406039</td>\n",
       "      <td>6.406239</td>\n",
       "      <td>6.407569</td>\n",
       "      <td>6.408257</td>\n",
       "      <td>6.408050</td>\n",
       "      <td>6.408628</td>\n",
       "      <td>6.408432</td>\n",
       "      <td>6.408667</td>\n",
       "      <td>37.996168</td>\n",
       "      <td>47.010486</td>\n",
       "      <td>51.300266</td>\n",
       "      <td>6.408753</td>\n",
       "      <td>6.412644</td>\n",
       "      <td>6.404862</td>\n",
       "      <td>0.997351</td>\n",
       "      <td>0.000532</td>\n",
       "      <td>0.322246</td>\n",
       "    </tr>\n",
       "    <tr>\n",
       "      <th>2016-09-17 12:00:00</th>\n",
       "      <td>605.679435</td>\n",
       "      <td>605.831129</td>\n",
       "      <td>605.474355</td>\n",
       "      <td>605.635484</td>\n",
       "      <td>1.246336</td>\n",
       "      <td>6.406350</td>\n",
       "      <td>6.406601</td>\n",
       "      <td>6.406012</td>\n",
       "      <td>6.406278</td>\n",
       "      <td>6.407370</td>\n",
       "      <td>6.408100</td>\n",
       "      <td>6.407877</td>\n",
       "      <td>6.408507</td>\n",
       "      <td>6.408293</td>\n",
       "      <td>6.408550</td>\n",
       "      <td>38.140984</td>\n",
       "      <td>42.224688</td>\n",
       "      <td>47.267334</td>\n",
       "      <td>6.408580</td>\n",
       "      <td>6.412591</td>\n",
       "      <td>6.404568</td>\n",
       "      <td>-0.339746</td>\n",
       "      <td>0.000038</td>\n",
       "      <td>0.023063</td>\n",
       "    </tr>\n",
       "  </tbody>\n",
       "</table>\n",
       "</div>"
      ],
      "text/plain": [
       "                           open        high         low       close    volume  \\\n",
       "date                                                                            \n",
       "2016-09-16 20:00:00  606.420076  606.511450  606.326031  606.412748  2.307185   \n",
       "2016-09-17 00:00:00  606.393333  606.546449  606.200652  606.373841  0.914466   \n",
       "2016-09-17 04:00:00  605.275088  605.384737  605.165702  605.290175  0.945083   \n",
       "2016-09-17 08:00:00  605.660526  605.763263  605.491368  605.612421  1.887662   \n",
       "2016-09-17 12:00:00  605.679435  605.831129  605.474355  605.635484  1.246336   \n",
       "\n",
       "                     log_open  log_high   log_low  log_close     ema12  \\\n",
       "date                                                                     \n",
       "2016-09-16 20:00:00  6.407572  6.407723  6.407417   6.407560  6.408324   \n",
       "2016-09-17 00:00:00  6.407528  6.407780  6.407210   6.407496  6.408196   \n",
       "2016-09-17 04:00:00  6.405683  6.405864  6.405502   6.405707  6.407812   \n",
       "2016-09-17 08:00:00  6.406319  6.406488  6.406039   6.406239  6.407569   \n",
       "2016-09-17 12:00:00  6.406350  6.406601  6.406012   6.406278  6.407370   \n",
       "\n",
       "                        ema26     ema20     ema50     ema34     ema55  \\\n",
       "date                                                                    \n",
       "2016-09-16 20:00:00  6.408770  6.408638  6.409010  6.408882  6.409036   \n",
       "2016-09-17 00:00:00  6.408667  6.408525  6.408929  6.408790  6.408957   \n",
       "2016-09-17 04:00:00  6.408431  6.408248  6.408759  6.408586  6.408794   \n",
       "2016-09-17 08:00:00  6.408257  6.408050  6.408628  6.408432  6.408667   \n",
       "2016-09-17 12:00:00  6.408100  6.407877  6.408507  6.408293  6.408550   \n",
       "\n",
       "                           rsi          K          D       sma  bollinger_up  \\\n",
       "date                                                                           \n",
       "2016-09-16 20:00:00  40.074263  66.832576  68.633211  6.409163      6.412655   \n",
       "2016-09-17 00:00:00  39.930892  54.323486  64.618565  6.409170      6.412646   \n",
       "2016-09-17 04:00:00  36.082672  52.566827  57.907630  6.408919      6.412637   \n",
       "2016-09-17 08:00:00  37.996168  47.010486  51.300266  6.408753      6.412644   \n",
       "2016-09-17 12:00:00  38.140984  42.224688  47.267334  6.408580      6.412591   \n",
       "\n",
       "                     bollinger_down   vol_roc  4h Return  4h Gradient  \n",
       "date                                                                   \n",
       "2016-09-16 20:00:00        6.405670 -0.592995   0.001020     0.618162  \n",
       "2016-09-17 00:00:00        6.405694 -0.603644  -0.000064    -0.038908  \n",
       "2016-09-17 04:00:00        6.405200  0.033480  -0.001787    -1.083665  \n",
       "2016-09-17 08:00:00        6.404862  0.997351   0.000532     0.322246  \n",
       "2016-09-17 12:00:00        6.404568 -0.339746   0.000038     0.023063  "
      ]
     },
     "execution_count": 13,
     "metadata": {},
     "output_type": "execute_result"
    }
   ],
   "source": [
    "data.head()"
   ]
  },
  {
   "cell_type": "code",
   "execution_count": 14,
   "metadata": {
    "colab": {
     "base_uri": "https://localhost:8080/",
     "height": 396
    },
    "executionInfo": {
     "elapsed": 22347,
     "status": "ok",
     "timestamp": 1629967374725,
     "user": {
      "displayName": "Ivan Fernandes",
      "photoUrl": "https://lh3.googleusercontent.com/a-/AOh14GgHdj66drQjCguTVvVzCd5yy8cdMluPJPZlz_BQLg=s64",
      "userId": "12100132160237129013"
     },
     "user_tz": -120
    },
    "id": "gZqR9QqWl3T7",
    "outputId": "08c3ec7e-0b4b-4a45-b1d3-05a758a62e18"
   },
   "outputs": [
    {
     "data": {
      "image/png": "[encoded data removed]",
      "text/plain": [
       "<Figure size 360x360 with 1 Axes>"
      ]
     },
     "metadata": {},
     "output_type": "display_data"
    }
   ],
   "source": [
    "sns.displot(data = data, x= '4h Gradient')\n",
    "plt.ylabel('4h Return')\n",
    "plt.xlim([-500,500])\n",
    "plt.ylim([0,500])\n",
    "plt.title(f\"4h Return  for {coin_selection}\");"
   ]
  },
  {
   "cell_type": "code",
   "execution_count": 15,
   "metadata": {},
   "outputs": [
    {
     "data": {
      "text/plain": [
       "Index(['open', 'high', 'low', 'close', 'volume', 'log_open', 'log_high',\n",
       "       'log_low', 'log_close', 'ema12', 'ema26', 'ema20', 'ema50', 'ema34',\n",
       "       'ema55', 'rsi', 'K', 'D', 'sma', 'bollinger_up', 'bollinger_down',\n",
       "       'vol_roc', '4h Return', '4h Gradient'],\n",
       "      dtype='object')"
      ]
     },
     "execution_count": 15,
     "metadata": {},
     "output_type": "execute_result"
    }
   ],
   "source": [
    "data.columns"
   ]
  },
  {
   "cell_type": "code",
   "execution_count": 80,
   "metadata": {
    "colab": {
     "base_uri": "https://localhost:8080/",
     "height": 388
    },
    "executionInfo": {
     "elapsed": 435,
     "status": "ok",
     "timestamp": 1629967485048,
     "user": {
      "displayName": "Ivan Fernandes",
      "photoUrl": "https://lh3.googleusercontent.com/a-/AOh14GgHdj66drQjCguTVvVzCd5yy8cdMluPJPZlz_BQLg=s64",
      "userId": "12100132160237129013"
     },
     "user_tz": -120
    },
    "id": "k_7EthwKldWf",
    "outputId": "0f91c60d-f72a-4a51-d588-bda4a1b380db"
   },
   "outputs": [
    {
     "data": {
      "text/html": [
       "<div>\n",
       "<style scoped>\n",
       "    .dataframe tbody tr th:only-of-type {\n",
       "        vertical-align: middle;\n",
       "    }\n",
       "\n",
       "    .dataframe tbody tr th {\n",
       "        vertical-align: top;\n",
       "    }\n",
       "\n",
       "    .dataframe thead th {\n",
       "        text-align: right;\n",
       "    }\n",
       "</style>\n",
       "<table border=\"1\" class=\"dataframe\">\n",
       "  <thead>\n",
       "    <tr style=\"text-align: right;\">\n",
       "      <th></th>\n",
       "      <th>close</th>\n",
       "      <th>rsi</th>\n",
       "      <th>bollinger_up</th>\n",
       "      <th>4h Return</th>\n",
       "    </tr>\n",
       "    <tr>\n",
       "      <th>date</th>\n",
       "      <th></th>\n",
       "      <th></th>\n",
       "      <th></th>\n",
       "      <th></th>\n",
       "    </tr>\n",
       "  </thead>\n",
       "  <tbody>\n",
       "    <tr>\n",
       "      <th>2016-10-07 20:00:00</th>\n",
       "      <td>613.128947</td>\n",
       "      <td>62.454881</td>\n",
       "      <td>6.419896</td>\n",
       "      <td>-0.000829</td>\n",
       "    </tr>\n",
       "    <tr>\n",
       "      <th>2020-08-16 20:00:00</th>\n",
       "      <td>11842.193556</td>\n",
       "      <td>56.401320</td>\n",
       "      <td>9.393221</td>\n",
       "      <td>0.000160</td>\n",
       "    </tr>\n",
       "    <tr>\n",
       "      <th>2020-03-02 00:00:00</th>\n",
       "      <td>8551.088667</td>\n",
       "      <td>33.082539</td>\n",
       "      <td>9.089062</td>\n",
       "      <td>0.005507</td>\n",
       "    </tr>\n",
       "    <tr>\n",
       "      <th>2018-04-03 12:00:00</th>\n",
       "      <td>7342.671125</td>\n",
       "      <td>58.932836</td>\n",
       "      <td>8.903788</td>\n",
       "      <td>-0.002053</td>\n",
       "    </tr>\n",
       "    <tr>\n",
       "      <th>2020-02-23 00:00:00</th>\n",
       "      <td>9683.822152</td>\n",
       "      <td>45.581293</td>\n",
       "      <td>9.194374</td>\n",
       "      <td>-0.000885</td>\n",
       "    </tr>\n",
       "    <tr>\n",
       "      <th>2020-10-19 12:00:00</th>\n",
       "      <td>11530.302750</td>\n",
       "      <td>66.959309</td>\n",
       "      <td>9.351555</td>\n",
       "      <td>0.006130</td>\n",
       "    </tr>\n",
       "    <tr>\n",
       "      <th>2016-12-13 00:00:00</th>\n",
       "      <td>780.082606</td>\n",
       "      <td>73.231122</td>\n",
       "      <td>6.658485</td>\n",
       "      <td>0.003285</td>\n",
       "    </tr>\n",
       "    <tr>\n",
       "      <th>2018-06-10 00:00:00</th>\n",
       "      <td>7472.632383</td>\n",
       "      <td>34.601824</td>\n",
       "      <td>8.955991</td>\n",
       "      <td>-0.018552</td>\n",
       "    </tr>\n",
       "    <tr>\n",
       "      <th>2019-05-14 12:00:00</th>\n",
       "      <td>8096.272875</td>\n",
       "      <td>81.276303</td>\n",
       "      <td>9.020613</td>\n",
       "      <td>-0.002964</td>\n",
       "    </tr>\n",
       "    <tr>\n",
       "      <th>2018-12-24 04:00:00</th>\n",
       "      <td>4181.330809</td>\n",
       "      <td>71.713451</td>\n",
       "      <td>8.331779</td>\n",
       "      <td>0.023320</td>\n",
       "    </tr>\n",
       "  </tbody>\n",
       "</table>\n",
       "</div>"
      ],
      "text/plain": [
       "                            close        rsi  bollinger_up  4h Return\n",
       "date                                                                 \n",
       "2016-10-07 20:00:00    613.128947  62.454881      6.419896  -0.000829\n",
       "2020-08-16 20:00:00  11842.193556  56.401320      9.393221   0.000160\n",
       "2020-03-02 00:00:00   8551.088667  33.082539      9.089062   0.005507\n",
       "2018-04-03 12:00:00   7342.671125  58.932836      8.903788  -0.002053\n",
       "2020-02-23 00:00:00   9683.822152  45.581293      9.194374  -0.000885\n",
       "2020-10-19 12:00:00  11530.302750  66.959309      9.351555   0.006130\n",
       "2016-12-13 00:00:00    780.082606  73.231122      6.658485   0.003285\n",
       "2018-06-10 00:00:00   7472.632383  34.601824      8.955991  -0.018552\n",
       "2019-05-14 12:00:00   8096.272875  81.276303      9.020613  -0.002964\n",
       "2018-12-24 04:00:00   4181.330809  71.713451      8.331779   0.023320"
      ]
     },
     "execution_count": 80,
     "metadata": {},
     "output_type": "execute_result"
    }
   ],
   "source": [
    "selected_features = ['close','rsi','bollinger_up','4h Return']\n",
    "#selected_features=['close','rsi','ema34','bollinger_up','4h Return']\n",
    "#selected_features=['close','rsi','ema20','ema50','bollinger_up','4h Return']\n",
    "selected_data = data[selected_features]\n",
    "selected_data.sample(10)"
   ]
  },
  {
   "cell_type": "markdown",
   "metadata": {
    "id": "yB-e6gSuarJp"
   },
   "source": [
    "##  BTC Stock Price"
   ]
  },
  {
   "cell_type": "markdown",
   "metadata": {
    "id": "-xCE9uVbTOat"
   },
   "source": [
    "### Temporal Train-Test Split"
   ]
  },
  {
   "cell_type": "code",
   "execution_count": 81,
   "metadata": {
    "executionInfo": {
     "elapsed": 338,
     "status": "ok",
     "timestamp": 1629967515425,
     "user": {
      "displayName": "Ivan Fernandes",
      "photoUrl": "https://lh3.googleusercontent.com/a-/AOh14GgHdj66drQjCguTVvVzCd5yy8cdMluPJPZlz_BQLg=s64",
      "userId": "12100132160237129013"
     },
     "user_tz": -120
    },
    "id": "ywO60BptTOat"
   },
   "outputs": [],
   "source": [
    "train_percentage = 95"
   ]
  },
  {
   "cell_type": "code",
   "execution_count": 82,
   "metadata": {
    "colab": {
     "base_uri": "https://localhost:8080/"
    },
    "executionInfo": {
     "elapsed": 6,
     "status": "ok",
     "timestamp": 1629967587167,
     "user": {
      "displayName": "Ivan Fernandes",
      "photoUrl": "https://lh3.googleusercontent.com/a-/AOh14GgHdj66drQjCguTVvVzCd5yy8cdMluPJPZlz_BQLg=s64",
      "userId": "12100132160237129013"
     },
     "user_tz": -120
    },
    "id": "7WYQ6ez0TOat",
    "outputId": "37e64416-2715-4b67-fb97-87579856daf4"
   },
   "outputs": [
    {
     "data": {
      "text/plain": [
       "10268"
      ]
     },
     "execution_count": 82,
     "metadata": {},
     "output_type": "execute_result"
    }
   ],
   "source": [
    "train_len = int(len(selected_data) * train_percentage/100)\n",
    "train_len"
   ]
  },
  {
   "cell_type": "code",
   "execution_count": 83,
   "metadata": {
    "executionInfo": {
     "elapsed": 381,
     "status": "ok",
     "timestamp": 1629967641312,
     "user": {
      "displayName": "Ivan Fernandes",
      "photoUrl": "https://lh3.googleusercontent.com/a-/AOh14GgHdj66drQjCguTVvVzCd5yy8cdMluPJPZlz_BQLg=s64",
      "userId": "12100132160237129013"
     },
     "user_tz": -120
    },
    "id": "du_UX6DFTOau"
   },
   "outputs": [],
   "source": [
    "data_train = selected_data[:train_len]\n",
    "data_test = selected_data[train_len:]\n"
   ]
  },
  {
   "cell_type": "code",
   "execution_count": 84,
   "metadata": {},
   "outputs": [
    {
     "name": "stdout",
     "output_type": "stream",
     "text": [
      "                          close        rsi  bollinger_up  4h Return\n",
      "date                                                               \n",
      "2016-09-16 20:00:00  606.412748  40.074263      6.412655    0.00102\n",
      "                            close       rsi  bollinger_up  4h Return\n",
      "date                                                                \n",
      "2021-05-25 00:00:00  38797.501625  54.55266     10.602687  -0.001147\n"
     ]
    }
   ],
   "source": [
    "print(data_train.head(1))\n",
    "print(data_train.tail(1))"
   ]
  },
  {
   "cell_type": "markdown",
   "metadata": {
    "id": "PO0NJSeTTOau"
   },
   "source": [
    "## LSTM"
   ]
  },
  {
   "cell_type": "code",
   "execution_count": 85,
   "metadata": {
    "executionInfo": {
     "elapsed": 391,
     "status": "ok",
     "timestamp": 1629967656804,
     "user": {
      "displayName": "Ivan Fernandes",
      "photoUrl": "https://lh3.googleusercontent.com/a-/AOh14GgHdj66drQjCguTVvVzCd5yy8cdMluPJPZlz_BQLg=s64",
      "userId": "12100132160237129013"
     },
     "user_tz": -120
    },
    "id": "LsSFTVehTOau"
   },
   "outputs": [],
   "source": [
    "from sklearn.preprocessing import MinMaxScaler\n",
    "\n",
    "minmax_scaler = MinMaxScaler(feature_range = (0,1))\n",
    "\n",
    "minmax_scaler.fit(data_train)\n",
    "\n",
    "data_train_scaled = minmax_scaler.transform(data_train)\n",
    "data_test_scaled = minmax_scaler.transform(data_test)"
   ]
  },
  {
   "cell_type": "code",
   "execution_count": 86,
   "metadata": {
    "colab": {
     "base_uri": "https://localhost:8080/"
    },
    "executionInfo": {
     "elapsed": 3,
     "status": "ok",
     "timestamp": 1629967657307,
     "user": {
      "displayName": "Ivan Fernandes",
      "photoUrl": "https://lh3.googleusercontent.com/a-/AOh14GgHdj66drQjCguTVvVzCd5yy8cdMluPJPZlz_BQLg=s64",
      "userId": "12100132160237129013"
     },
     "user_tz": -120
    },
    "id": "vCCSU71kTOau",
    "outputId": "55400905-ef27-434f-fcf3-cebc738f1d51"
   },
   "outputs": [
    {
     "data": {
      "text/plain": [
       "array([6.43385212e+04, 9.62292080e+01, 1.11019466e+01, 1.35906830e-01])"
      ]
     },
     "execution_count": 86,
     "metadata": {},
     "output_type": "execute_result"
    }
   ],
   "source": [
    "minmax_scaler.data_max_"
   ]
  },
  {
   "cell_type": "code",
   "execution_count": 87,
   "metadata": {
    "colab": {
     "base_uri": "https://localhost:8080/"
    },
    "executionInfo": {
     "elapsed": 4,
     "status": "ok",
     "timestamp": 1629967659501,
     "user": {
      "displayName": "Ivan Fernandes",
      "photoUrl": "https://lh3.googleusercontent.com/a-/AOh14GgHdj66drQjCguTVvVzCd5yy8cdMluPJPZlz_BQLg=s64",
      "userId": "12100132160237129013"
     },
     "user_tz": -120
    },
    "id": "7u5vQbfPTOav",
    "outputId": "4eea426d-b00e-4953-e15f-c41f79618ee7"
   },
   "outputs": [
    {
     "data": {
      "text/plain": [
       "array([ 5.94187857e+02,  4.35903634e+00,  6.39923547e+00, -1.84592994e-01])"
      ]
     },
     "execution_count": 87,
     "metadata": {},
     "output_type": "execute_result"
    }
   ],
   "source": [
    "minmax_scaler.data_min_"
   ]
  },
  {
   "cell_type": "code",
   "execution_count": 88,
   "metadata": {},
   "outputs": [
    {
     "data": {
      "text/plain": [
       "594.1878571428572"
      ]
     },
     "execution_count": 88,
     "metadata": {},
     "output_type": "execute_result"
    }
   ],
   "source": [
    "min1 = minmax_scaler.data_min_[0]\n",
    "min1"
   ]
  },
  {
   "cell_type": "code",
   "execution_count": 89,
   "metadata": {},
   "outputs": [
    {
     "data": {
      "text/plain": [
       "63744.333309523805"
      ]
     },
     "execution_count": 89,
     "metadata": {},
     "output_type": "execute_result"
    }
   ],
   "source": [
    "range1 = minmax_scaler.data_range_[0]\n",
    "range1"
   ]
  },
  {
   "cell_type": "markdown",
   "metadata": {
    "id": "gMim3w6qTOaw"
   },
   "source": [
    "### Creating subsequences..."
   ]
  },
  {
   "cell_type": "code",
   "execution_count": 90,
   "metadata": {
    "executionInfo": {
     "elapsed": 4,
     "status": "ok",
     "timestamp": 1629967702188,
     "user": {
      "displayName": "Ivan Fernandes",
      "photoUrl": "https://lh3.googleusercontent.com/a-/AOh14GgHdj66drQjCguTVvVzCd5yy8cdMluPJPZlz_BQLg=s64",
      "userId": "12100132160237129013"
     },
     "user_tz": -120
    },
    "id": "uLSYeXScTOaz"
   },
   "outputs": [],
   "source": [
    "window_size = 18 # test with small window size\n",
    "horizon = 1 #number of predictions into the future :) \n",
    "data_train_subsequences = []\n",
    "fake_y_train = []\n",
    "for k in range(len(data_train_scaled)-(window_size-1)-horizon):\n",
    "    data_train_subsequences.append(data_train_scaled[k:k+window_size])\n",
    "    fake_y_train.append(data_train_scaled[k+window_size])"
   ]
  },
  {
   "cell_type": "code",
   "execution_count": 91,
   "metadata": {},
   "outputs": [],
   "source": [
    "X_train = np.array(data_train_subsequences)\n",
    "y_train = np.array(fake_y_train)[:,0].reshape(-1,1)"
   ]
  },
  {
   "cell_type": "code",
   "execution_count": 92,
   "metadata": {},
   "outputs": [
    {
     "data": {
      "text/plain": [
       "(10250, 18, 4)"
      ]
     },
     "execution_count": 92,
     "metadata": {},
     "output_type": "execute_result"
    }
   ],
   "source": [
    "X_train.shape"
   ]
  },
  {
   "cell_type": "code",
   "execution_count": 93,
   "metadata": {},
   "outputs": [
    {
     "data": {
      "text/plain": [
       "(10250, 1)"
      ]
     },
     "execution_count": 93,
     "metadata": {},
     "output_type": "execute_result"
    }
   ],
   "source": [
    "y_train.shape"
   ]
  },
  {
   "cell_type": "code",
   "execution_count": null,
   "metadata": {},
   "outputs": [],
   "source": []
  },
  {
   "cell_type": "code",
   "execution_count": 94,
   "metadata": {},
   "outputs": [],
   "source": [
    "#with the same window_size & horizon as the train data\n",
    "window_size = 18\n",
    "horizon = 1\n",
    "data_test_subsequences = []\n",
    "fake_y_test = []\n",
    "for k in range(len(data_test_scaled)-(window_size-1)-horizon):\n",
    "    data_test_subsequences.append(data_test_scaled[k:k+window_size])\n",
    "    fake_y_test.append(data_test_scaled[k+window_size])"
   ]
  },
  {
   "cell_type": "code",
   "execution_count": 95,
   "metadata": {},
   "outputs": [],
   "source": [
    "X_test = np.array(data_test_subsequences)\n",
    "y_test = np.array(fake_y_test)[:,0].reshape(-1,1)"
   ]
  },
  {
   "cell_type": "markdown",
   "metadata": {},
   "source": [
    "### Baseline"
   ]
  },
  {
   "cell_type": "code",
   "execution_count": 140,
   "metadata": {},
   "outputs": [],
   "source": [
    "# baseline predictions\n",
    "\n",
    "X_test_last_seen_value = [_[-1][0] for _ in X_test]"
   ]
  },
  {
   "cell_type": "code",
   "execution_count": 152,
   "metadata": {},
   "outputs": [],
   "source": [
    "X_test_last_seen_value_uns = np.array(X_test_last_seen_value) * range1 + min1"
   ]
  },
  {
   "cell_type": "code",
   "execution_count": 155,
   "metadata": {},
   "outputs": [],
   "source": [
    "X_test_last_seen_value_uns = X_test_last_seen_value_uns.reshape(-1,1)"
   ]
  },
  {
   "cell_type": "code",
   "execution_count": null,
   "metadata": {},
   "outputs": [],
   "source": [
    "y_test_unscaled = y_test * range1 + min1"
   ]
  },
  {
   "cell_type": "code",
   "execution_count": 157,
   "metadata": {},
   "outputs": [
    {
     "data": {
      "text/plain": [
       "368.74288851468793"
      ]
     },
     "execution_count": 157,
     "metadata": {},
     "output_type": "execute_result"
    }
   ],
   "source": [
    "np.mean(np.abs(y_test_unscaled - X_test_last_seen_value_uns))"
   ]
  },
  {
   "cell_type": "markdown",
   "metadata": {
    "id": "KU7fCgwYTOa2"
   },
   "source": [
    "### LSTM"
   ]
  },
  {
   "cell_type": "markdown",
   "metadata": {
    "id": "4VXmMApdTOa3"
   },
   "source": [
    "#### RNN Architecture"
   ]
  },
  {
   "cell_type": "code",
   "execution_count": 97,
   "metadata": {
    "colab": {
     "base_uri": "https://localhost:8080/"
    },
    "executionInfo": {
     "elapsed": 2,
     "status": "ok",
     "timestamp": 1629968945439,
     "user": {
      "displayName": "Ivan Fernandes",
      "photoUrl": "https://lh3.googleusercontent.com/a-/AOh14GgHdj66drQjCguTVvVzCd5yy8cdMluPJPZlz_BQLg=s64",
      "userId": "12100132160237129013"
     },
     "user_tz": -120
    },
    "id": "cPGw4CxharJx",
    "outputId": "eff5edb9-92ef-4a1c-d0f7-34e50a8596ce"
   },
   "outputs": [
    {
     "data": {
      "text/plain": [
       "(523, 1)"
      ]
     },
     "execution_count": 97,
     "metadata": {},
     "output_type": "execute_result"
    }
   ],
   "source": [
    "pd.DataFrame(y_test).shape"
   ]
  },
  {
   "cell_type": "code",
   "execution_count": 98,
   "metadata": {
    "executionInfo": {
     "elapsed": 1,
     "status": "ok",
     "timestamp": 1629968945884,
     "user": {
      "displayName": "Ivan Fernandes",
      "photoUrl": "https://lh3.googleusercontent.com/a-/AOh14GgHdj66drQjCguTVvVzCd5yy8cdMluPJPZlz_BQLg=s64",
      "userId": "12100132160237129013"
     },
     "user_tz": -120
    },
    "id": "ZPwe_lkATOa3"
   },
   "outputs": [],
   "source": [
    "#from tensorflow.keras import metrics\n",
    "\n",
    "#my_mae = metrics.MeanAbsoluteError(\n",
    "    #name='mean_absolute_error', dtype=None)\n"
   ]
  },
  {
   "cell_type": "code",
   "execution_count": 99,
   "metadata": {
    "colab": {
     "base_uri": "https://localhost:8080/"
    },
    "executionInfo": {
     "elapsed": 1953,
     "status": "ok",
     "timestamp": 1629968948177,
     "user": {
      "displayName": "Ivan Fernandes",
      "photoUrl": "https://lh3.googleusercontent.com/a-/AOh14GgHdj66drQjCguTVvVzCd5yy8cdMluPJPZlz_BQLg=s64",
      "userId": "12100132160237129013"
     },
     "user_tz": -120
    },
    "id": "GkEjh2ngTOa4",
    "outputId": "934eff05-c3ac-4046-984c-0401bd0b2484"
   },
   "outputs": [],
   "source": [
    "from tensorflow.keras import Sequential, layers\n",
    "\n",
    "# Build the LSTM model\n",
    "model = Sequential()\n",
    "\n",
    "model.add(layers.LSTM(units=128,\n",
    "                     return_sequences = True,\n",
    "                     activation = \"tanh\"\n",
    "                    #activation = \"relu\"\n",
    "                     #input_shape = X_train[0].shape)\n",
    "                     ))\n",
    "\n",
    "model.add(layers.LSTM(units=64,\n",
    "                      return_sequences = False,\n",
    "                      activation = \"relu\"  \n",
    "                    #activation = \"relu\"\n",
    "                     ))\n",
    "\n",
    "# model.add(layers.Dense(25,\n",
    "#                          activation=\"relu\"))\n",
    "model.add(layers.Dense(32,\n",
    "                        activation = \"tanh\" \n",
    "                       #activation=\"relu\"\n",
    "                      ))\n",
    "#model.add(layers.Dense(16,activation=\"relu\"))\n",
    "model.add(layers.Dense(8,\n",
    "                       activation = \"relu\"\n",
    "                       #activation=\"relu\"\n",
    "                      ))\n",
    "model.add(layers.Dense(1,\n",
    "                      activation = \"relu\" \n",
    "                      #activation=\"relu\"\n",
    "                      ))\n",
    "\n",
    "#model.summary()\n",
    "\n"
   ]
  },
  {
   "cell_type": "code",
   "execution_count": 100,
   "metadata": {
    "executionInfo": {
     "elapsed": 340,
     "status": "ok",
     "timestamp": 1629968954711,
     "user": {
      "displayName": "Ivan Fernandes",
      "photoUrl": "https://lh3.googleusercontent.com/a-/AOh14GgHdj66drQjCguTVvVzCd5yy8cdMluPJPZlz_BQLg=s64",
      "userId": "12100132160237129013"
     },
     "user_tz": -120
    },
    "id": "igW2CAISTOa5"
   },
   "outputs": [],
   "source": [
    "model.compile(loss=\"mse\",\n",
    "             optimizer = \"adam\",#rmsprop\n",
    "             metrics = \"mae\"#[my_mae]\n",
    "             )"
   ]
  },
  {
   "cell_type": "markdown",
   "metadata": {
    "id": "0JoMEFYdTOa5"
   },
   "source": [
    "#### Training"
   ]
  },
  {
   "cell_type": "code",
   "execution_count": 101,
   "metadata": {
    "executionInfo": {
     "elapsed": 357,
     "status": "ok",
     "timestamp": 1629968962645,
     "user": {
      "displayName": "Ivan Fernandes",
      "photoUrl": "https://lh3.googleusercontent.com/a-/AOh14GgHdj66drQjCguTVvVzCd5yy8cdMluPJPZlz_BQLg=s64",
      "userId": "12100132160237129013"
     },
     "user_tz": -120
    },
    "id": "u8mqJaUWarJy"
   },
   "outputs": [],
   "source": [
    "#### perhaps create a validation and train sets by hand"
   ]
  },
  {
   "cell_type": "code",
   "execution_count": 102,
   "metadata": {
    "colab": {
     "base_uri": "https://localhost:8080/"
    },
    "executionInfo": {
     "elapsed": 89008,
     "status": "ok",
     "timestamp": 1629969056811,
     "user": {
      "displayName": "Ivan Fernandes",
      "photoUrl": "https://lh3.googleusercontent.com/a-/AOh14GgHdj66drQjCguTVvVzCd5yy8cdMluPJPZlz_BQLg=s64",
      "userId": "12100132160237129013"
     },
     "user_tz": -120
    },
    "id": "x8WmFMDoTOa6",
    "outputId": "c4129e5e-d680-4199-e200-ed02360e4cc6"
   },
   "outputs": [
    {
     "name": "stdout",
     "output_type": "stream",
     "text": [
      "Epoch 1/15\n",
      "257/257 [==============================] - 6s 15ms/step - loss: 1.7872e-04 - mae: 0.0072 - val_loss: 0.0145 - val_mae: 0.0805\n",
      "Epoch 2/15\n",
      "257/257 [==============================] - 4s 14ms/step - loss: 3.7417e-05 - mae: 0.0042 - val_loss: 0.0062 - val_mae: 0.0525\n",
      "Epoch 3/15\n",
      "257/257 [==============================] - 4s 14ms/step - loss: 2.7337e-05 - mae: 0.0037 - val_loss: 0.0039 - val_mae: 0.0434\n",
      "Epoch 4/15\n",
      "257/257 [==============================] - 4s 14ms/step - loss: 2.2113e-05 - mae: 0.0033 - val_loss: 2.7798e-04 - val_mae: 0.0106\n",
      "Epoch 5/15\n",
      "257/257 [==============================] - 4s 15ms/step - loss: 1.6894e-05 - mae: 0.0028 - val_loss: 2.3769e-04 - val_mae: 0.0095\n",
      "Epoch 6/15\n",
      "257/257 [==============================] - 4s 14ms/step - loss: 2.8937e-05 - mae: 0.0037 - val_loss: 5.9350e-04 - val_mae: 0.0192\n",
      "Epoch 7/15\n",
      "257/257 [==============================] - 4s 14ms/step - loss: 1.6994e-05 - mae: 0.0029 - val_loss: 7.0941e-04 - val_mae: 0.0171\n",
      "Epoch 8/15\n",
      "257/257 [==============================] - 4s 14ms/step - loss: 1.3516e-05 - mae: 0.0026 - val_loss: 5.4835e-04 - val_mae: 0.0140\n",
      "Epoch 9/15\n",
      "257/257 [==============================] - 4s 14ms/step - loss: 1.1575e-05 - mae: 0.0024 - val_loss: 8.5444e-04 - val_mae: 0.0184\n",
      "Epoch 10/15\n",
      "257/257 [==============================] - 4s 14ms/step - loss: 1.1380e-05 - mae: 0.0024 - val_loss: 8.1913e-04 - val_mae: 0.0174\n"
     ]
    }
   ],
   "source": [
    "from tensorflow.keras.callbacks import EarlyStopping \n",
    "\n",
    "es = EarlyStopping(patience = 5, restore_best_weights=True)\n",
    "#monitor = \"val_mean_absolute_error\"\n",
    "\n",
    "history = model.fit(X_train, y_train,\n",
    "                    validation_split = 0.2,\n",
    "                    batch_size=32,\n",
    "                    epochs=15,\n",
    "                    verbose = 1,\n",
    "                    callbacks = [es])"
   ]
  },
  {
   "cell_type": "code",
   "execution_count": 39,
   "metadata": {
    "executionInfo": {
     "elapsed": 618,
     "status": "ok",
     "timestamp": 1629971280020,
     "user": {
      "displayName": "Ivan Fernandes",
      "photoUrl": "https://lh3.googleusercontent.com/a-/AOh14GgHdj66drQjCguTVvVzCd5yy8cdMluPJPZlz_BQLg=s64",
      "userId": "12100132160237129013"
     },
     "user_tz": -120
    },
    "id": "6BnpySGUL453"
   },
   "outputs": [],
   "source": [
    "#def plot_loss_mae(history):\n",
    "    \n",
    "    #fig, ax =plt.subplots(1,2,figsize=(20,5))\n",
    "    \n",
    "    # --- LOSS\n",
    "    \n",
    "    #ax[0].plot(history.history['loss'])\n",
    "    #ax[0].plot(history.history['val_loss'])\n",
    "    #ax[0].set_title('Model loss')\n",
    "    #ax[0].set_xlabel('Epoch')\n",
    "    #ax[0].set_ylabel('Loss')\n",
    "    #ax[0].legend(['Train', 'Val'], loc='upper right')\n",
    "    #ax[0].grid(axis=\"x\",linewidth=0.5)\n",
    "    #ax[0].grid(axis=\"y\",linewidth=0.5)\n",
    "    \n",
    "#     # --- MAE\n",
    "\n",
    "    #ax[1].plot(history.history['mean_absolute_error'])\n",
    "    #ax[1].plot(history.history['val_mean_absolute_error'])\n",
    "    #ax[1].set_title('Model MAE', fontsize = 18)\n",
    "    #ax[1].set_xlabel('Epoch', fontsize = 14)\n",
    "    #ax[1].set_ylabel('Recall', fontsize = 14)\n",
    "    #ax[1].legend(['Train', 'Val'], loc='lower right') \n",
    "    #ax[1].grid(axis=\"x\",linewidth=0.5)\n",
    "    #ax[1].grid(axis=\"y\",linewidth=0.5)   \n",
    "    \n",
    "    #plt.show()\n",
    "    "
   ]
  },
  {
   "cell_type": "code",
   "execution_count": 40,
   "metadata": {
    "colab": {
     "base_uri": "https://localhost:8080/",
     "height": 330
    },
    "executionInfo": {
     "elapsed": 775,
     "status": "ok",
     "timestamp": 1629971280790,
     "user": {
      "displayName": "Ivan Fernandes",
      "photoUrl": "https://lh3.googleusercontent.com/a-/AOh14GgHdj66drQjCguTVvVzCd5yy8cdMluPJPZlz_BQLg=s64",
      "userId": "12100132160237129013"
     },
     "user_tz": -120
    },
    "id": "CYBdZyrzL454",
    "outputId": "be857210-3dbb-4216-8037-6adedfac0875"
   },
   "outputs": [],
   "source": [
    "#plot_loss_mae(history)"
   ]
  },
  {
   "cell_type": "markdown",
   "metadata": {
    "id": "dPlbdR24TOa7"
   },
   "source": [
    "#### Evaluating"
   ]
  },
  {
   "cell_type": "code",
   "execution_count": 103,
   "metadata": {
    "colab": {
     "base_uri": "https://localhost:8080/",
     "height": 370
    },
    "executionInfo": {
     "elapsed": 346,
     "status": "error",
     "timestamp": 1629971289974,
     "user": {
      "displayName": "Ivan Fernandes",
      "photoUrl": "https://lh3.googleusercontent.com/a-/AOh14GgHdj66drQjCguTVvVzCd5yy8cdMluPJPZlz_BQLg=s64",
      "userId": "12100132160237129013"
     },
     "user_tz": -120
    },
    "id": "fGR98XHrTOa7",
    "outputId": "eae3ab01-8077-4116-c16d-93c6c971a35d"
   },
   "outputs": [
    {
     "name": "stdout",
     "output_type": "stream",
     "text": [
      "17/17 [==============================] - 0s 9ms/step - loss: 3.2509e-04 - mae: 0.0148\n"
     ]
    },
    {
     "data": {
      "text/plain": [
       "[0.0003250866138841957, 0.014787393622100353]"
      ]
     },
     "execution_count": 103,
     "metadata": {},
     "output_type": "execute_result"
    }
   ],
   "source": [
    "res = model.evaluate(X_test, y_test, verbose = 1)\n",
    "res\n"
   ]
  },
  {
   "cell_type": "markdown",
   "metadata": {
    "id": "o3S6CvgCTOa8"
   },
   "source": [
    "#### Predictions"
   ]
  },
  {
   "cell_type": "code",
   "execution_count": 104,
   "metadata": {
    "executionInfo": {
     "elapsed": 3825,
     "status": "ok",
     "timestamp": 1629969068317,
     "user": {
      "displayName": "Ivan Fernandes",
      "photoUrl": "https://lh3.googleusercontent.com/a-/AOh14GgHdj66drQjCguTVvVzCd5yy8cdMluPJPZlz_BQLg=s64",
      "userId": "12100132160237129013"
     },
     "user_tz": -120
    },
    "id": "_a1LDha2TOa9"
   },
   "outputs": [],
   "source": [
    "predictions = model.predict(X_test)\n"
   ]
  },
  {
   "cell_type": "code",
   "execution_count": 105,
   "metadata": {
    "colab": {
     "base_uri": "https://localhost:8080/"
    },
    "executionInfo": {
     "elapsed": 14,
     "status": "ok",
     "timestamp": 1629969068318,
     "user": {
      "displayName": "Ivan Fernandes",
      "photoUrl": "https://lh3.googleusercontent.com/a-/AOh14GgHdj66drQjCguTVvVzCd5yy8cdMluPJPZlz_BQLg=s64",
      "userId": "12100132160237129013"
     },
     "user_tz": -120
    },
    "id": "abi96XmrTOa-",
    "outputId": "d96a92dc-04ec-4680-b3a2-ed4c39f13817"
   },
   "outputs": [
    {
     "data": {
      "text/plain": [
       "(523, 523)"
      ]
     },
     "execution_count": 105,
     "metadata": {},
     "output_type": "execute_result"
    }
   ],
   "source": [
    "len(predictions), len(y_test)"
   ]
  },
  {
   "cell_type": "code",
   "execution_count": 106,
   "metadata": {
    "colab": {
     "base_uri": "https://localhost:8080/"
    },
    "executionInfo": {
     "elapsed": 11,
     "status": "ok",
     "timestamp": 1629969068318,
     "user": {
      "displayName": "Ivan Fernandes",
      "photoUrl": "https://lh3.googleusercontent.com/a-/AOh14GgHdj66drQjCguTVvVzCd5yy8cdMluPJPZlz_BQLg=s64",
      "userId": "12100132160237129013"
     },
     "user_tz": -120
    },
    "id": "WbG_o9xrTOa-",
    "outputId": "586ea1e0-d0c1-400e-88fd-b45f46966093"
   },
   "outputs": [
    {
     "data": {
      "text/plain": [
       "array([[0.59026706],\n",
       "       [0.5844791 ],\n",
       "       [0.57640636]], dtype=float32)"
      ]
     },
     "execution_count": 106,
     "metadata": {},
     "output_type": "execute_result"
    }
   ],
   "source": [
    "predictions[0:3]"
   ]
  },
  {
   "cell_type": "code",
   "execution_count": 107,
   "metadata": {},
   "outputs": [],
   "source": [
    "y_test_unscaled = y_test * range1 + min1"
   ]
  },
  {
   "cell_type": "code",
   "execution_count": 108,
   "metadata": {},
   "outputs": [],
   "source": [
    "predictions_unscaled = predictions * range1 + min1"
   ]
  },
  {
   "cell_type": "code",
   "execution_count": 109,
   "metadata": {},
   "outputs": [
    {
     "name": "stdout",
     "output_type": "stream",
     "text": [
      "                0\n",
      "518  48769.737750\n",
      "519  48591.580833\n",
      "520  48810.168750\n",
      "521  49783.003708\n",
      "522  50277.475152\n",
      "                0\n",
      "518  49833.007812\n",
      "519  49753.097656\n",
      "520  49611.261719\n",
      "521  49555.800781\n",
      "522  49792.765625\n"
     ]
    }
   ],
   "source": [
    "print(pd.DataFrame(y_test_unscaled).tail(5))\n",
    "print(pd.DataFrame(predictions_unscaled).tail(5))"
   ]
  },
  {
   "cell_type": "markdown",
   "metadata": {
    "id": "bN_vtDyWTOa-"
   },
   "source": [
    "The operation computed during a `MinMaxScaler` Operation is:\n",
    "\n",
    "$$x_{scaled} = \\frac{x - x_{min}}{x_{max}- x_{min}}$$\n",
    "\n",
    "To descale it:\n",
    "\n",
    "$$x = x_{scaled} * (x_{max}- x_{min}) + x_{min}$$\n",
    "\n",
    "Or use the `inverse_transform` directly provided..."
   ]
  },
  {
   "cell_type": "code",
   "execution_count": 110,
   "metadata": {},
   "outputs": [
    {
     "data": {
      "text/plain": [
       "942.6128646141137"
      ]
     },
     "execution_count": 110,
     "metadata": {},
     "output_type": "execute_result"
    }
   ],
   "source": [
    "np.mean(np.abs(y_test_unscaled - predictions_unscaled))"
   ]
  },
  {
   "cell_type": "code",
   "execution_count": 111,
   "metadata": {},
   "outputs": [],
   "source": [
    "import matplotlib.pyplot as plt\n"
   ]
  },
  {
   "cell_type": "code",
   "execution_count": 112,
   "metadata": {},
   "outputs": [
    {
     "data": {
      "image/png": "[encoded data removed]",
      "text/plain": [
       "<Figure size 1080x576 with 1 Axes>"
      ]
     },
     "metadata": {},
     "output_type": "display_data"
    }
   ],
   "source": [
    "fig = plt.figure(figsize=(15, 8))\n",
    "\n",
    "plt.plot(predictions_unscaled, label = \"y_pred\")\n",
    "plt.plot(y_test_unscaled, label = \"y_test\")\n",
    "plt.legend()\n",
    "plt.show()"
   ]
  },
  {
   "cell_type": "markdown",
   "metadata": {},
   "source": [
    "### Test Model on Coingecko"
   ]
  },
  {
   "cell_type": "code",
   "execution_count": 51,
   "metadata": {},
   "outputs": [],
   "source": [
    "import requests"
   ]
  },
  {
   "cell_type": "code",
   "execution_count": 113,
   "metadata": {},
   "outputs": [],
   "source": [
    "def get_coingecko():\n",
    "    #ohlc\n",
    "    url = \"https://api.coingecko.com/api/v3/coins/bitcoin/ohlc?vs_currency=usd&days=30\"\n",
    "    response = requests.get(url).json()\n",
    "    #cleaning\n",
    "    data_api = pd.DataFrame(response, columns = ['unix_time','open', 'high', 'low', 'close'])\n",
    "    data_api[\"Date\"] = pd.to_datetime(data_api[\"unix_time\"], unit='ms')\n",
    "    data_api = data_api.drop(columns='unix_time').set_index('Date')\n",
    "\n",
    "    #volume\n",
    "    url = \"https://api.coingecko.com/api/v3/coins/bitcoin/market_chart?vs_currency=usd&days=30\"\n",
    "    response = requests.get(url).json()\n",
    "\n",
    "    volume = pd.DataFrame(response['total_volumes'], columns=[\"unix_time\",\"volume\"])\n",
    "    volume['date'] = pd.to_datetime(pd.to_datetime(volume['unix_time'],unit='ms').dt.strftime(\"%Y/%m/%d, %H:00:00\"))\n",
    "    volume = volume.drop(columns='unix_time').set_index('date')\n",
    "\n",
    "    #resample hourly into 4h\n",
    "    volume = volume.resample(\"4H\").mean()\n",
    "\n",
    "    #concatinate\n",
    "    volume = volume[-180:]\n",
    "    data_api = data_api[-181:-1]\n",
    "    full = pd.concat([data_api, volume], axis=1)\n",
    "    full.columns=['open', 'high', 'low', 'close', 'volume']\n",
    "\n",
    "    for x in ['open', 'high', 'low', 'close']:\n",
    "        full[f'log_{x}'] = full[x].apply(lambda x: np.log(x))\n",
    "\n",
    "    data_api = full.copy()\n",
    "\n",
    "    return data_api"
   ]
  },
  {
   "cell_type": "code",
   "execution_count": 114,
   "metadata": {},
   "outputs": [],
   "source": [
    "coingecko = get_coingecko()\n"
   ]
  },
  {
   "cell_type": "code",
   "execution_count": 115,
   "metadata": {},
   "outputs": [
    {
     "data": {
      "text/html": [
       "<div>\n",
       "<style scoped>\n",
       "    .dataframe tbody tr th:only-of-type {\n",
       "        vertical-align: middle;\n",
       "    }\n",
       "\n",
       "    .dataframe tbody tr th {\n",
       "        vertical-align: top;\n",
       "    }\n",
       "\n",
       "    .dataframe thead th {\n",
       "        text-align: right;\n",
       "    }\n",
       "</style>\n",
       "<table border=\"1\" class=\"dataframe\">\n",
       "  <thead>\n",
       "    <tr style=\"text-align: right;\">\n",
       "      <th></th>\n",
       "      <th>open</th>\n",
       "      <th>high</th>\n",
       "      <th>low</th>\n",
       "      <th>close</th>\n",
       "      <th>volume</th>\n",
       "      <th>log_open</th>\n",
       "      <th>log_high</th>\n",
       "      <th>log_low</th>\n",
       "      <th>log_close</th>\n",
       "    </tr>\n",
       "  </thead>\n",
       "  <tbody>\n",
       "    <tr>\n",
       "      <th>2021-07-30 16:00:00</th>\n",
       "      <td>38805.90</td>\n",
       "      <td>39035.31</td>\n",
       "      <td>38805.90</td>\n",
       "      <td>39035.31</td>\n",
       "      <td>2.808614e+10</td>\n",
       "      <td>10.566328</td>\n",
       "      <td>10.572222</td>\n",
       "      <td>10.566328</td>\n",
       "      <td>10.572222</td>\n",
       "    </tr>\n",
       "    <tr>\n",
       "      <th>2021-07-30 20:00:00</th>\n",
       "      <td>39095.21</td>\n",
       "      <td>39109.09</td>\n",
       "      <td>39006.51</td>\n",
       "      <td>39109.09</td>\n",
       "      <td>3.171428e+10</td>\n",
       "      <td>10.573755</td>\n",
       "      <td>10.574110</td>\n",
       "      <td>10.571484</td>\n",
       "      <td>10.574110</td>\n",
       "    </tr>\n",
       "    <tr>\n",
       "      <th>2021-07-31 00:00:00</th>\n",
       "      <td>39563.84</td>\n",
       "      <td>41780.30</td>\n",
       "      <td>39563.84</td>\n",
       "      <td>41314.59</td>\n",
       "      <td>3.704354e+10</td>\n",
       "      <td>10.585671</td>\n",
       "      <td>10.640180</td>\n",
       "      <td>10.585671</td>\n",
       "      <td>10.628971</td>\n",
       "    </tr>\n",
       "    <tr>\n",
       "      <th>2021-07-31 04:00:00</th>\n",
       "      <td>41936.26</td>\n",
       "      <td>41964.84</td>\n",
       "      <td>41936.26</td>\n",
       "      <td>41945.63</td>\n",
       "      <td>3.809934e+10</td>\n",
       "      <td>10.643906</td>\n",
       "      <td>10.644587</td>\n",
       "      <td>10.643906</td>\n",
       "      <td>10.644130</td>\n",
       "    </tr>\n",
       "    <tr>\n",
       "      <th>2021-07-31 08:00:00</th>\n",
       "      <td>41863.93</td>\n",
       "      <td>41863.93</td>\n",
       "      <td>41504.13</td>\n",
       "      <td>41520.50</td>\n",
       "      <td>3.681812e+10</td>\n",
       "      <td>10.642180</td>\n",
       "      <td>10.642180</td>\n",
       "      <td>10.633548</td>\n",
       "      <td>10.633943</td>\n",
       "    </tr>\n",
       "  </tbody>\n",
       "</table>\n",
       "</div>"
      ],
      "text/plain": [
       "                         open      high       low     close        volume  \\\n",
       "2021-07-30 16:00:00  38805.90  39035.31  38805.90  39035.31  2.808614e+10   \n",
       "2021-07-30 20:00:00  39095.21  39109.09  39006.51  39109.09  3.171428e+10   \n",
       "2021-07-31 00:00:00  39563.84  41780.30  39563.84  41314.59  3.704354e+10   \n",
       "2021-07-31 04:00:00  41936.26  41964.84  41936.26  41945.63  3.809934e+10   \n",
       "2021-07-31 08:00:00  41863.93  41863.93  41504.13  41520.50  3.681812e+10   \n",
       "\n",
       "                      log_open   log_high    log_low  log_close  \n",
       "2021-07-30 16:00:00  10.566328  10.572222  10.566328  10.572222  \n",
       "2021-07-30 20:00:00  10.573755  10.574110  10.571484  10.574110  \n",
       "2021-07-31 00:00:00  10.585671  10.640180  10.585671  10.628971  \n",
       "2021-07-31 04:00:00  10.643906  10.644587  10.643906  10.644130  \n",
       "2021-07-31 08:00:00  10.642180  10.642180  10.633548  10.633943  "
      ]
     },
     "execution_count": 115,
     "metadata": {},
     "output_type": "execute_result"
    }
   ],
   "source": [
    "coingecko.head()"
   ]
  },
  {
   "cell_type": "code",
   "execution_count": 116,
   "metadata": {
    "scrolled": true
   },
   "outputs": [
    {
     "data": {
      "text/html": [
       "<div>\n",
       "<style scoped>\n",
       "    .dataframe tbody tr th:only-of-type {\n",
       "        vertical-align: middle;\n",
       "    }\n",
       "\n",
       "    .dataframe tbody tr th {\n",
       "        vertical-align: top;\n",
       "    }\n",
       "\n",
       "    .dataframe thead th {\n",
       "        text-align: right;\n",
       "    }\n",
       "</style>\n",
       "<table border=\"1\" class=\"dataframe\">\n",
       "  <thead>\n",
       "    <tr style=\"text-align: right;\">\n",
       "      <th></th>\n",
       "      <th>open</th>\n",
       "      <th>high</th>\n",
       "      <th>low</th>\n",
       "      <th>close</th>\n",
       "      <th>volume</th>\n",
       "      <th>log_open</th>\n",
       "      <th>log_high</th>\n",
       "      <th>log_low</th>\n",
       "      <th>log_close</th>\n",
       "      <th>ema12</th>\n",
       "      <th>ema26</th>\n",
       "      <th>ema20</th>\n",
       "      <th>ema50</th>\n",
       "      <th>ema34</th>\n",
       "      <th>ema55</th>\n",
       "      <th>rsi</th>\n",
       "      <th>K</th>\n",
       "      <th>D</th>\n",
       "      <th>sma</th>\n",
       "      <th>bollinger_up</th>\n",
       "      <th>bollinger_down</th>\n",
       "      <th>vol_roc</th>\n",
       "    </tr>\n",
       "  </thead>\n",
       "  <tbody>\n",
       "    <tr>\n",
       "      <th>2021-07-30 16:00:00</th>\n",
       "      <td>38805.90</td>\n",
       "      <td>39035.31</td>\n",
       "      <td>38805.90</td>\n",
       "      <td>39035.31</td>\n",
       "      <td>2.808614e+10</td>\n",
       "      <td>10.566328</td>\n",
       "      <td>10.572222</td>\n",
       "      <td>10.566328</td>\n",
       "      <td>10.572222</td>\n",
       "      <td>10.572222</td>\n",
       "      <td>10.572222</td>\n",
       "      <td>10.572222</td>\n",
       "      <td>10.572222</td>\n",
       "      <td>10.572222</td>\n",
       "      <td>10.572222</td>\n",
       "      <td>NaN</td>\n",
       "      <td>NaN</td>\n",
       "      <td>NaN</td>\n",
       "      <td>NaN</td>\n",
       "      <td>NaN</td>\n",
       "      <td>NaN</td>\n",
       "      <td>NaN</td>\n",
       "    </tr>\n",
       "    <tr>\n",
       "      <th>2021-07-30 20:00:00</th>\n",
       "      <td>39095.21</td>\n",
       "      <td>39109.09</td>\n",
       "      <td>39006.51</td>\n",
       "      <td>39109.09</td>\n",
       "      <td>3.171428e+10</td>\n",
       "      <td>10.573755</td>\n",
       "      <td>10.574110</td>\n",
       "      <td>10.571484</td>\n",
       "      <td>10.574110</td>\n",
       "      <td>10.573245</td>\n",
       "      <td>10.573202</td>\n",
       "      <td>10.573213</td>\n",
       "      <td>10.573185</td>\n",
       "      <td>10.573194</td>\n",
       "      <td>10.573183</td>\n",
       "      <td>NaN</td>\n",
       "      <td>NaN</td>\n",
       "      <td>NaN</td>\n",
       "      <td>NaN</td>\n",
       "      <td>NaN</td>\n",
       "      <td>NaN</td>\n",
       "      <td>0.129179</td>\n",
       "    </tr>\n",
       "    <tr>\n",
       "      <th>2021-07-31 00:00:00</th>\n",
       "      <td>39563.84</td>\n",
       "      <td>41780.30</td>\n",
       "      <td>39563.84</td>\n",
       "      <td>41314.59</td>\n",
       "      <td>3.704354e+10</td>\n",
       "      <td>10.585671</td>\n",
       "      <td>10.640180</td>\n",
       "      <td>10.585671</td>\n",
       "      <td>10.628971</td>\n",
       "      <td>10.594995</td>\n",
       "      <td>10.593239</td>\n",
       "      <td>10.593687</td>\n",
       "      <td>10.592529</td>\n",
       "      <td>10.592890</td>\n",
       "      <td>10.592459</td>\n",
       "      <td>NaN</td>\n",
       "      <td>NaN</td>\n",
       "      <td>NaN</td>\n",
       "      <td>NaN</td>\n",
       "      <td>NaN</td>\n",
       "      <td>NaN</td>\n",
       "      <td>0.168040</td>\n",
       "    </tr>\n",
       "    <tr>\n",
       "      <th>2021-07-31 04:00:00</th>\n",
       "      <td>41936.26</td>\n",
       "      <td>41964.84</td>\n",
       "      <td>41936.26</td>\n",
       "      <td>41945.63</td>\n",
       "      <td>3.809934e+10</td>\n",
       "      <td>10.643906</td>\n",
       "      <td>10.644587</td>\n",
       "      <td>10.643906</td>\n",
       "      <td>10.644130</td>\n",
       "      <td>10.610505</td>\n",
       "      <td>10.607466</td>\n",
       "      <td>10.608249</td>\n",
       "      <td>10.606213</td>\n",
       "      <td>10.606852</td>\n",
       "      <td>10.606090</td>\n",
       "      <td>NaN</td>\n",
       "      <td>NaN</td>\n",
       "      <td>NaN</td>\n",
       "      <td>NaN</td>\n",
       "      <td>NaN</td>\n",
       "      <td>NaN</td>\n",
       "      <td>0.028502</td>\n",
       "    </tr>\n",
       "    <tr>\n",
       "      <th>2021-07-31 08:00:00</th>\n",
       "      <td>41863.93</td>\n",
       "      <td>41863.93</td>\n",
       "      <td>41504.13</td>\n",
       "      <td>41520.50</td>\n",
       "      <td>3.681812e+10</td>\n",
       "      <td>10.642180</td>\n",
       "      <td>10.642180</td>\n",
       "      <td>10.633548</td>\n",
       "      <td>10.633943</td>\n",
       "      <td>10.616873</td>\n",
       "      <td>10.613606</td>\n",
       "      <td>10.614464</td>\n",
       "      <td>10.612211</td>\n",
       "      <td>10.612926</td>\n",
       "      <td>10.612073</td>\n",
       "      <td>NaN</td>\n",
       "      <td>NaN</td>\n",
       "      <td>NaN</td>\n",
       "      <td>NaN</td>\n",
       "      <td>NaN</td>\n",
       "      <td>NaN</td>\n",
       "      <td>-0.033629</td>\n",
       "    </tr>\n",
       "    <tr>\n",
       "      <th>...</th>\n",
       "      <td>...</td>\n",
       "      <td>...</td>\n",
       "      <td>...</td>\n",
       "      <td>...</td>\n",
       "      <td>...</td>\n",
       "      <td>...</td>\n",
       "      <td>...</td>\n",
       "      <td>...</td>\n",
       "      <td>...</td>\n",
       "      <td>...</td>\n",
       "      <td>...</td>\n",
       "      <td>...</td>\n",
       "      <td>...</td>\n",
       "      <td>...</td>\n",
       "      <td>...</td>\n",
       "      <td>...</td>\n",
       "      <td>...</td>\n",
       "      <td>...</td>\n",
       "      <td>...</td>\n",
       "      <td>...</td>\n",
       "      <td>...</td>\n",
       "      <td>...</td>\n",
       "    </tr>\n",
       "    <tr>\n",
       "      <th>2021-08-28 20:00:00</th>\n",
       "      <td>48804.79</td>\n",
       "      <td>49055.93</td>\n",
       "      <td>48804.79</td>\n",
       "      <td>48926.73</td>\n",
       "      <td>2.898285e+10</td>\n",
       "      <td>10.795584</td>\n",
       "      <td>10.800716</td>\n",
       "      <td>10.795584</td>\n",
       "      <td>10.798079</td>\n",
       "      <td>10.789151</td>\n",
       "      <td>10.786069</td>\n",
       "      <td>10.786819</td>\n",
       "      <td>10.780920</td>\n",
       "      <td>10.784870</td>\n",
       "      <td>10.779363</td>\n",
       "      <td>56.829149</td>\n",
       "      <td>83.140513</td>\n",
       "      <td>88.392706</td>\n",
       "      <td>10.781475</td>\n",
       "      <td>10.816470</td>\n",
       "      <td>10.746480</td>\n",
       "      <td>-0.014295</td>\n",
       "    </tr>\n",
       "    <tr>\n",
       "      <th>2021-08-29 00:00:00</th>\n",
       "      <td>48683.96</td>\n",
       "      <td>48996.13</td>\n",
       "      <td>48683.96</td>\n",
       "      <td>48783.28</td>\n",
       "      <td>2.816959e+10</td>\n",
       "      <td>10.793105</td>\n",
       "      <td>10.799497</td>\n",
       "      <td>10.793105</td>\n",
       "      <td>10.795143</td>\n",
       "      <td>10.790073</td>\n",
       "      <td>10.786741</td>\n",
       "      <td>10.787612</td>\n",
       "      <td>10.781478</td>\n",
       "      <td>10.785457</td>\n",
       "      <td>10.779928</td>\n",
       "      <td>55.011231</td>\n",
       "      <td>78.440945</td>\n",
       "      <td>82.760949</td>\n",
       "      <td>10.781772</td>\n",
       "      <td>10.817142</td>\n",
       "      <td>10.746402</td>\n",
       "      <td>-0.028060</td>\n",
       "    </tr>\n",
       "    <tr>\n",
       "      <th>2021-08-29 04:00:00</th>\n",
       "      <td>48936.54</td>\n",
       "      <td>49639.71</td>\n",
       "      <td>48803.46</td>\n",
       "      <td>48803.46</td>\n",
       "      <td>2.927247e+10</td>\n",
       "      <td>10.798280</td>\n",
       "      <td>10.812546</td>\n",
       "      <td>10.795556</td>\n",
       "      <td>10.795556</td>\n",
       "      <td>10.790917</td>\n",
       "      <td>10.787394</td>\n",
       "      <td>10.788369</td>\n",
       "      <td>10.782030</td>\n",
       "      <td>10.786035</td>\n",
       "      <td>10.780487</td>\n",
       "      <td>55.228480</td>\n",
       "      <td>80.693800</td>\n",
       "      <td>80.758420</td>\n",
       "      <td>10.781650</td>\n",
       "      <td>10.816800</td>\n",
       "      <td>10.746499</td>\n",
       "      <td>0.039152</td>\n",
       "    </tr>\n",
       "    <tr>\n",
       "      <th>2021-08-29 08:00:00</th>\n",
       "      <td>48346.04</td>\n",
       "      <td>48508.22</td>\n",
       "      <td>48259.33</td>\n",
       "      <td>48508.22</td>\n",
       "      <td>2.914709e+10</td>\n",
       "      <td>10.786140</td>\n",
       "      <td>10.789489</td>\n",
       "      <td>10.784344</td>\n",
       "      <td>10.789489</td>\n",
       "      <td>10.790697</td>\n",
       "      <td>10.787550</td>\n",
       "      <td>10.788475</td>\n",
       "      <td>10.782323</td>\n",
       "      <td>10.786232</td>\n",
       "      <td>10.780809</td>\n",
       "      <td>51.313314</td>\n",
       "      <td>70.315679</td>\n",
       "      <td>76.483475</td>\n",
       "      <td>10.781271</td>\n",
       "      <td>10.815882</td>\n",
       "      <td>10.746660</td>\n",
       "      <td>-0.004283</td>\n",
       "    </tr>\n",
       "    <tr>\n",
       "      <th>2021-08-29 12:00:00</th>\n",
       "      <td>48563.96</td>\n",
       "      <td>48689.59</td>\n",
       "      <td>48545.06</td>\n",
       "      <td>48689.59</td>\n",
       "      <td>2.919462e+10</td>\n",
       "      <td>10.790637</td>\n",
       "      <td>10.793221</td>\n",
       "      <td>10.790248</td>\n",
       "      <td>10.793221</td>\n",
       "      <td>10.791085</td>\n",
       "      <td>10.787970</td>\n",
       "      <td>10.788927</td>\n",
       "      <td>10.782751</td>\n",
       "      <td>10.786631</td>\n",
       "      <td>10.781253</td>\n",
       "      <td>53.496810</td>\n",
       "      <td>66.984066</td>\n",
       "      <td>72.664515</td>\n",
       "      <td>10.781239</td>\n",
       "      <td>10.815802</td>\n",
       "      <td>10.746676</td>\n",
       "      <td>0.001631</td>\n",
       "    </tr>\n",
       "  </tbody>\n",
       "</table>\n",
       "<p>180 rows × 22 columns</p>\n",
       "</div>"
      ],
      "text/plain": [
       "                         open      high       low     close        volume  \\\n",
       "2021-07-30 16:00:00  38805.90  39035.31  38805.90  39035.31  2.808614e+10   \n",
       "2021-07-30 20:00:00  39095.21  39109.09  39006.51  39109.09  3.171428e+10   \n",
       "2021-07-31 00:00:00  39563.84  41780.30  39563.84  41314.59  3.704354e+10   \n",
       "2021-07-31 04:00:00  41936.26  41964.84  41936.26  41945.63  3.809934e+10   \n",
       "2021-07-31 08:00:00  41863.93  41863.93  41504.13  41520.50  3.681812e+10   \n",
       "...                       ...       ...       ...       ...           ...   \n",
       "2021-08-28 20:00:00  48804.79  49055.93  48804.79  48926.73  2.898285e+10   \n",
       "2021-08-29 00:00:00  48683.96  48996.13  48683.96  48783.28  2.816959e+10   \n",
       "2021-08-29 04:00:00  48936.54  49639.71  48803.46  48803.46  2.927247e+10   \n",
       "2021-08-29 08:00:00  48346.04  48508.22  48259.33  48508.22  2.914709e+10   \n",
       "2021-08-29 12:00:00  48563.96  48689.59  48545.06  48689.59  2.919462e+10   \n",
       "\n",
       "                      log_open   log_high    log_low  log_close      ema12  \\\n",
       "2021-07-30 16:00:00  10.566328  10.572222  10.566328  10.572222  10.572222   \n",
       "2021-07-30 20:00:00  10.573755  10.574110  10.571484  10.574110  10.573245   \n",
       "2021-07-31 00:00:00  10.585671  10.640180  10.585671  10.628971  10.594995   \n",
       "2021-07-31 04:00:00  10.643906  10.644587  10.643906  10.644130  10.610505   \n",
       "2021-07-31 08:00:00  10.642180  10.642180  10.633548  10.633943  10.616873   \n",
       "...                        ...        ...        ...        ...        ...   \n",
       "2021-08-28 20:00:00  10.795584  10.800716  10.795584  10.798079  10.789151   \n",
       "2021-08-29 00:00:00  10.793105  10.799497  10.793105  10.795143  10.790073   \n",
       "2021-08-29 04:00:00  10.798280  10.812546  10.795556  10.795556  10.790917   \n",
       "2021-08-29 08:00:00  10.786140  10.789489  10.784344  10.789489  10.790697   \n",
       "2021-08-29 12:00:00  10.790637  10.793221  10.790248  10.793221  10.791085   \n",
       "\n",
       "                         ema26      ema20      ema50      ema34      ema55  \\\n",
       "2021-07-30 16:00:00  10.572222  10.572222  10.572222  10.572222  10.572222   \n",
       "2021-07-30 20:00:00  10.573202  10.573213  10.573185  10.573194  10.573183   \n",
       "2021-07-31 00:00:00  10.593239  10.593687  10.592529  10.592890  10.592459   \n",
       "2021-07-31 04:00:00  10.607466  10.608249  10.606213  10.606852  10.606090   \n",
       "2021-07-31 08:00:00  10.613606  10.614464  10.612211  10.612926  10.612073   \n",
       "...                        ...        ...        ...        ...        ...   \n",
       "2021-08-28 20:00:00  10.786069  10.786819  10.780920  10.784870  10.779363   \n",
       "2021-08-29 00:00:00  10.786741  10.787612  10.781478  10.785457  10.779928   \n",
       "2021-08-29 04:00:00  10.787394  10.788369  10.782030  10.786035  10.780487   \n",
       "2021-08-29 08:00:00  10.787550  10.788475  10.782323  10.786232  10.780809   \n",
       "2021-08-29 12:00:00  10.787970  10.788927  10.782751  10.786631  10.781253   \n",
       "\n",
       "                           rsi          K          D        sma  bollinger_up  \\\n",
       "2021-07-30 16:00:00        NaN        NaN        NaN        NaN           NaN   \n",
       "2021-07-30 20:00:00        NaN        NaN        NaN        NaN           NaN   \n",
       "2021-07-31 00:00:00        NaN        NaN        NaN        NaN           NaN   \n",
       "2021-07-31 04:00:00        NaN        NaN        NaN        NaN           NaN   \n",
       "2021-07-31 08:00:00        NaN        NaN        NaN        NaN           NaN   \n",
       "...                        ...        ...        ...        ...           ...   \n",
       "2021-08-28 20:00:00  56.829149  83.140513  88.392706  10.781475     10.816470   \n",
       "2021-08-29 00:00:00  55.011231  78.440945  82.760949  10.781772     10.817142   \n",
       "2021-08-29 04:00:00  55.228480  80.693800  80.758420  10.781650     10.816800   \n",
       "2021-08-29 08:00:00  51.313314  70.315679  76.483475  10.781271     10.815882   \n",
       "2021-08-29 12:00:00  53.496810  66.984066  72.664515  10.781239     10.815802   \n",
       "\n",
       "                     bollinger_down   vol_roc  \n",
       "2021-07-30 16:00:00             NaN       NaN  \n",
       "2021-07-30 20:00:00             NaN  0.129179  \n",
       "2021-07-31 00:00:00             NaN  0.168040  \n",
       "2021-07-31 04:00:00             NaN  0.028502  \n",
       "2021-07-31 08:00:00             NaN -0.033629  \n",
       "...                             ...       ...  \n",
       "2021-08-28 20:00:00       10.746480 -0.014295  \n",
       "2021-08-29 00:00:00       10.746402 -0.028060  \n",
       "2021-08-29 04:00:00       10.746499  0.039152  \n",
       "2021-08-29 08:00:00       10.746660 -0.004283  \n",
       "2021-08-29 12:00:00       10.746676  0.001631  \n",
       "\n",
       "[180 rows x 22 columns]"
      ]
     },
     "execution_count": 116,
     "metadata": {},
     "output_type": "execute_result"
    }
   ],
   "source": [
    "add_ema(coingecko)\n",
    "\n",
    "rsi = computeRSI(coingecko)\n",
    "\n",
    "stoch_rsi(rsi)\n",
    "\n",
    "add_stoch_rsi(coingecko)\n",
    "\n",
    "prices = coingecko[\"log_close\"]\n",
    "\n",
    "get_bollinger_bands(prices, rate=20)\n",
    "\n",
    "add_bollinger(coingecko,prices)\n",
    "\n",
    "add_vol_roc(coingecko)\n"
   ]
  },
  {
   "cell_type": "code",
   "execution_count": 117,
   "metadata": {},
   "outputs": [],
   "source": [
    "coingecko['4h Return'] = coingecko['close'].pct_change()\n",
    "coingecko['4h Gradient'] = coingecko['close'].diff()"
   ]
  },
  {
   "cell_type": "code",
   "execution_count": 118,
   "metadata": {
    "scrolled": true
   },
   "outputs": [
    {
     "data": {
      "text/html": [
       "<div>\n",
       "<style scoped>\n",
       "    .dataframe tbody tr th:only-of-type {\n",
       "        vertical-align: middle;\n",
       "    }\n",
       "\n",
       "    .dataframe tbody tr th {\n",
       "        vertical-align: top;\n",
       "    }\n",
       "\n",
       "    .dataframe thead th {\n",
       "        text-align: right;\n",
       "    }\n",
       "</style>\n",
       "<table border=\"1\" class=\"dataframe\">\n",
       "  <thead>\n",
       "    <tr style=\"text-align: right;\">\n",
       "      <th></th>\n",
       "      <th>close</th>\n",
       "      <th>rsi</th>\n",
       "      <th>bollinger_up</th>\n",
       "      <th>4h Return</th>\n",
       "    </tr>\n",
       "  </thead>\n",
       "  <tbody>\n",
       "    <tr>\n",
       "      <th>2021-08-26 16:00:00</th>\n",
       "      <td>46940.88</td>\n",
       "      <td>37.689017</td>\n",
       "      <td>10.829586</td>\n",
       "      <td>-0.003655</td>\n",
       "    </tr>\n",
       "    <tr>\n",
       "      <th>2021-08-26 20:00:00</th>\n",
       "      <td>47054.29</td>\n",
       "      <td>38.973037</td>\n",
       "      <td>10.826383</td>\n",
       "      <td>0.002416</td>\n",
       "    </tr>\n",
       "    <tr>\n",
       "      <th>2021-08-27 00:00:00</th>\n",
       "      <td>47254.51</td>\n",
       "      <td>41.266478</td>\n",
       "      <td>10.824264</td>\n",
       "      <td>0.004255</td>\n",
       "    </tr>\n",
       "    <tr>\n",
       "      <th>2021-08-27 04:00:00</th>\n",
       "      <td>47322.01</td>\n",
       "      <td>42.054852</td>\n",
       "      <td>10.821319</td>\n",
       "      <td>0.001428</td>\n",
       "    </tr>\n",
       "    <tr>\n",
       "      <th>2021-08-27 08:00:00</th>\n",
       "      <td>47163.12</td>\n",
       "      <td>40.669646</td>\n",
       "      <td>10.817549</td>\n",
       "      <td>-0.003358</td>\n",
       "    </tr>\n",
       "    <tr>\n",
       "      <th>2021-08-27 12:00:00</th>\n",
       "      <td>47444.05</td>\n",
       "      <td>44.166819</td>\n",
       "      <td>10.814712</td>\n",
       "      <td>0.005957</td>\n",
       "    </tr>\n",
       "    <tr>\n",
       "      <th>2021-08-27 16:00:00</th>\n",
       "      <td>48365.08</td>\n",
       "      <td>53.684954</td>\n",
       "      <td>10.809823</td>\n",
       "      <td>0.019413</td>\n",
       "    </tr>\n",
       "    <tr>\n",
       "      <th>2021-08-27 20:00:00</th>\n",
       "      <td>48402.89</td>\n",
       "      <td>54.027984</td>\n",
       "      <td>10.806721</td>\n",
       "      <td>0.000782</td>\n",
       "    </tr>\n",
       "    <tr>\n",
       "      <th>2021-08-28 00:00:00</th>\n",
       "      <td>49060.62</td>\n",
       "      <td>59.594379</td>\n",
       "      <td>10.808082</td>\n",
       "      <td>0.013589</td>\n",
       "    </tr>\n",
       "    <tr>\n",
       "      <th>2021-08-28 04:00:00</th>\n",
       "      <td>48986.02</td>\n",
       "      <td>58.730951</td>\n",
       "      <td>10.810448</td>\n",
       "      <td>-0.001521</td>\n",
       "    </tr>\n",
       "    <tr>\n",
       "      <th>2021-08-28 08:00:00</th>\n",
       "      <td>49037.10</td>\n",
       "      <td>59.167296</td>\n",
       "      <td>10.812551</td>\n",
       "      <td>0.001043</td>\n",
       "    </tr>\n",
       "    <tr>\n",
       "      <th>2021-08-28 12:00:00</th>\n",
       "      <td>48931.53</td>\n",
       "      <td>57.806178</td>\n",
       "      <td>10.814200</td>\n",
       "      <td>-0.002153</td>\n",
       "    </tr>\n",
       "    <tr>\n",
       "      <th>2021-08-28 16:00:00</th>\n",
       "      <td>48552.28</td>\n",
       "      <td>53.060367</td>\n",
       "      <td>10.814512</td>\n",
       "      <td>-0.007751</td>\n",
       "    </tr>\n",
       "    <tr>\n",
       "      <th>2021-08-28 20:00:00</th>\n",
       "      <td>48926.73</td>\n",
       "      <td>56.829149</td>\n",
       "      <td>10.816470</td>\n",
       "      <td>0.007712</td>\n",
       "    </tr>\n",
       "    <tr>\n",
       "      <th>2021-08-29 00:00:00</th>\n",
       "      <td>48783.28</td>\n",
       "      <td>55.011231</td>\n",
       "      <td>10.817142</td>\n",
       "      <td>-0.002932</td>\n",
       "    </tr>\n",
       "    <tr>\n",
       "      <th>2021-08-29 04:00:00</th>\n",
       "      <td>48803.46</td>\n",
       "      <td>55.228480</td>\n",
       "      <td>10.816800</td>\n",
       "      <td>0.000414</td>\n",
       "    </tr>\n",
       "    <tr>\n",
       "      <th>2021-08-29 08:00:00</th>\n",
       "      <td>48508.22</td>\n",
       "      <td>51.313314</td>\n",
       "      <td>10.815882</td>\n",
       "      <td>-0.006050</td>\n",
       "    </tr>\n",
       "    <tr>\n",
       "      <th>2021-08-29 12:00:00</th>\n",
       "      <td>48689.59</td>\n",
       "      <td>53.496810</td>\n",
       "      <td>10.815802</td>\n",
       "      <td>0.003739</td>\n",
       "    </tr>\n",
       "  </tbody>\n",
       "</table>\n",
       "</div>"
      ],
      "text/plain": [
       "                        close        rsi  bollinger_up  4h Return\n",
       "2021-08-26 16:00:00  46940.88  37.689017     10.829586  -0.003655\n",
       "2021-08-26 20:00:00  47054.29  38.973037     10.826383   0.002416\n",
       "2021-08-27 00:00:00  47254.51  41.266478     10.824264   0.004255\n",
       "2021-08-27 04:00:00  47322.01  42.054852     10.821319   0.001428\n",
       "2021-08-27 08:00:00  47163.12  40.669646     10.817549  -0.003358\n",
       "2021-08-27 12:00:00  47444.05  44.166819     10.814712   0.005957\n",
       "2021-08-27 16:00:00  48365.08  53.684954     10.809823   0.019413\n",
       "2021-08-27 20:00:00  48402.89  54.027984     10.806721   0.000782\n",
       "2021-08-28 00:00:00  49060.62  59.594379     10.808082   0.013589\n",
       "2021-08-28 04:00:00  48986.02  58.730951     10.810448  -0.001521\n",
       "2021-08-28 08:00:00  49037.10  59.167296     10.812551   0.001043\n",
       "2021-08-28 12:00:00  48931.53  57.806178     10.814200  -0.002153\n",
       "2021-08-28 16:00:00  48552.28  53.060367     10.814512  -0.007751\n",
       "2021-08-28 20:00:00  48926.73  56.829149     10.816470   0.007712\n",
       "2021-08-29 00:00:00  48783.28  55.011231     10.817142  -0.002932\n",
       "2021-08-29 04:00:00  48803.46  55.228480     10.816800   0.000414\n",
       "2021-08-29 08:00:00  48508.22  51.313314     10.815882  -0.006050\n",
       "2021-08-29 12:00:00  48689.59  53.496810     10.815802   0.003739"
      ]
     },
     "execution_count": 118,
     "metadata": {},
     "output_type": "execute_result"
    }
   ],
   "source": [
    "selected_features = ['close','rsi','bollinger_up','4h Return']\n",
    "coingecko = coingecko[selected_features]\n",
    "coingecko.tail(18)"
   ]
  },
  {
   "cell_type": "markdown",
   "metadata": {},
   "source": [
    "### Test based on 1 window_size and 1 prediction (4 hours in de future) with Coingecko Data"
   ]
  },
  {
   "cell_type": "code",
   "execution_count": 119,
   "metadata": {},
   "outputs": [],
   "source": [
    "X_gecko = coingecko.dropna()[-18:]"
   ]
  },
  {
   "cell_type": "code",
   "execution_count": 120,
   "metadata": {},
   "outputs": [
    {
     "data": {
      "text/plain": [
       "(18, 4)"
      ]
     },
     "execution_count": 120,
     "metadata": {},
     "output_type": "execute_result"
    }
   ],
   "source": [
    "X_gecko.shape"
   ]
  },
  {
   "cell_type": "code",
   "execution_count": 121,
   "metadata": {},
   "outputs": [],
   "source": [
    "x_gecko_scaled = minmax_scaler.transform(X_gecko)"
   ]
  },
  {
   "cell_type": "code",
   "execution_count": 122,
   "metadata": {},
   "outputs": [],
   "source": [
    "x_gecko_scaled_reshaped = x_gecko_scaled.reshape(1,18,4) #18 is the window size, 9 is number of features. "
   ]
  },
  {
   "cell_type": "code",
   "execution_count": 123,
   "metadata": {},
   "outputs": [],
   "source": [
    "predictions_api = model.predict(x_gecko_scaled_reshaped)"
   ]
  },
  {
   "cell_type": "code",
   "execution_count": 124,
   "metadata": {},
   "outputs": [
    {
     "data": {
      "text/plain": [
       "array([[0.7517108]], dtype=float32)"
      ]
     },
     "execution_count": 124,
     "metadata": {},
     "output_type": "execute_result"
    }
   ],
   "source": [
    "predictions_api"
   ]
  },
  {
   "cell_type": "code",
   "execution_count": 125,
   "metadata": {},
   "outputs": [],
   "source": [
    "predictions_api_unscaled = predictions_api * range1 + min1 "
   ]
  },
  {
   "cell_type": "code",
   "execution_count": 126,
   "metadata": {},
   "outputs": [
    {
     "data": {
      "text/plain": [
       "array([[48511.49]], dtype=float32)"
      ]
     },
     "execution_count": 126,
     "metadata": {},
     "output_type": "execute_result"
    }
   ],
   "source": [
    "predictions_api_unscaled\n"
   ]
  },
  {
   "cell_type": "code",
   "execution_count": null,
   "metadata": {},
   "outputs": [],
   "source": []
  },
  {
   "cell_type": "markdown",
   "metadata": {},
   "source": [
    "### Creating X_test_gecko and y_test_gecko"
   ]
  },
  {
   "cell_type": "code",
   "execution_count": 127,
   "metadata": {},
   "outputs": [],
   "source": [
    "X_test_gecko = coingecko.dropna()[-144:]"
   ]
  },
  {
   "cell_type": "code",
   "execution_count": 128,
   "metadata": {},
   "outputs": [
    {
     "name": "stdout",
     "output_type": "stream",
     "text": [
      "                        close        rsi  bollinger_up  4h Return\n",
      "2021-08-05 16:00:00  39028.84  48.190818     10.601704   0.025673\n",
      "                        close       rsi  bollinger_up  4h Return\n",
      "2021-08-29 12:00:00  48689.59  53.49681     10.815802   0.003739\n"
     ]
    }
   ],
   "source": [
    "print(X_test_gecko.head(1))\n",
    "print(X_test_gecko.tail(1))"
   ]
  },
  {
   "cell_type": "code",
   "execution_count": 129,
   "metadata": {},
   "outputs": [],
   "source": [
    "X_test_gecko_scaled = minmax_scaler.transform(X_test_gecko)"
   ]
  },
  {
   "cell_type": "code",
   "execution_count": 130,
   "metadata": {},
   "outputs": [
    {
     "data": {
      "text/plain": [
       "(144, 4)"
      ]
     },
     "execution_count": 130,
     "metadata": {},
     "output_type": "execute_result"
    }
   ],
   "source": [
    "X_test_gecko.shape"
   ]
  },
  {
   "cell_type": "code",
   "execution_count": 131,
   "metadata": {},
   "outputs": [],
   "source": [
    "#with the same window_size & horizon as the train data\n",
    "window_size = 18\n",
    "horizon = 1\n",
    "X_test_gecko_sub = []\n",
    "fake_y_test_gecko_sub = []\n",
    "for k in range(len(X_test_gecko_scaled)-(window_size-1)-horizon):\n",
    "    X_test_gecko_sub.append(X_test_gecko_scaled[k:k+window_size])\n",
    "    fake_y_test_gecko_sub.append(X_test_gecko_scaled[k+window_size])"
   ]
  },
  {
   "cell_type": "code",
   "execution_count": 132,
   "metadata": {},
   "outputs": [],
   "source": [
    "X_test_gecko_np = np.array(X_test_gecko_sub)\n",
    "y_test_gecko_np = np.array(fake_y_test_gecko_sub)[:,0].reshape(-1,1)"
   ]
  },
  {
   "cell_type": "code",
   "execution_count": 133,
   "metadata": {},
   "outputs": [
    {
     "name": "stdout",
     "output_type": "stream",
     "text": [
      "(126, 18, 4)\n",
      "(126, 1)\n"
     ]
    }
   ],
   "source": [
    "print(X_test_gecko_np.shape)\n",
    "print(y_test_gecko_np.shape)"
   ]
  },
  {
   "cell_type": "code",
   "execution_count": 134,
   "metadata": {},
   "outputs": [],
   "source": [
    "predictions_gecko = model.predict(X_test_gecko_np)"
   ]
  },
  {
   "cell_type": "code",
   "execution_count": 135,
   "metadata": {},
   "outputs": [],
   "source": [
    "predictions_gecko_unscaled = predictions_gecko * range1 + min1"
   ]
  },
  {
   "cell_type": "code",
   "execution_count": 136,
   "metadata": {},
   "outputs": [
    {
     "data": {
      "text/plain": [
       "array([[44333.664],\n",
       "       [44369.83 ],\n",
       "       [44321.492],\n",
       "       [44445.363],\n",
       "       [44249.594],\n",
       "       [44164.39 ],\n",
       "       [44568.434],\n",
       "       [44827.26 ],\n",
       "       [45249.7  ],\n",
       "       [45510.93 ],\n",
       "       [45715.84 ],\n",
       "       [45757.89 ],\n",
       "       [45765.17 ],\n",
       "       [45718.773],\n",
       "       [45691.49 ],\n",
       "       [45728.727],\n",
       "       [45689.867],\n",
       "       [45870.57 ],\n",
       "       [46006.08 ],\n",
       "       [46270.406],\n",
       "       [46388.1  ],\n",
       "       [46291.3  ],\n",
       "       [46337.55 ],\n",
       "       [46051.62 ],\n",
       "       [45889.844],\n",
       "       [45374.094],\n",
       "       [45084.33 ],\n",
       "       [44681.465],\n",
       "       [44774.82 ],\n",
       "       [44920.543],\n",
       "       [45176.75 ],\n",
       "       [45433.355],\n",
       "       [45655.477],\n",
       "       [46096.01 ],\n",
       "       [46424.156],\n",
       "       [46706.902],\n",
       "       [46544.95 ],\n",
       "       [46601.273],\n",
       "       [46589.023],\n",
       "       [46637.34 ],\n",
       "       [46776.2  ],\n",
       "       [46672.18 ],\n",
       "       [46452.566],\n",
       "       [46291.426],\n",
       "       [46250.41 ],\n",
       "       [46474.05 ],\n",
       "       [46810.316],\n",
       "       [46932.9  ],\n",
       "       [47035.72 ],\n",
       "       [46769.043],\n",
       "       [46638.895],\n",
       "       [46455.605],\n",
       "       [46356.2  ],\n",
       "       [46106.902],\n",
       "       [46195.27 ],\n",
       "       [46036.52 ],\n",
       "       [45847.93 ],\n",
       "       [45491.688],\n",
       "       [45214.258],\n",
       "       [45133.156],\n",
       "       [45042.797],\n",
       "       [44958.285],\n",
       "       [44945.133],\n",
       "       [44716.227],\n",
       "       [44498.227],\n",
       "       [44237.74 ],\n",
       "       [44027.465],\n",
       "       [44175.523],\n",
       "       [44650.465],\n",
       "       [45002.68 ],\n",
       "       [45464.242],\n",
       "       [45791.25 ],\n",
       "       [46086.855],\n",
       "       [46664.56 ],\n",
       "       [47080.203],\n",
       "       [47605.06 ],\n",
       "       [47946.355],\n",
       "       [48180.65 ],\n",
       "       [48482.285],\n",
       "       [48709.33 ],\n",
       "       [49044.652],\n",
       "       [49263.13 ],\n",
       "       [49281.16 ],\n",
       "       [49416.047],\n",
       "       [49534.25 ],\n",
       "       [49362.777],\n",
       "       [49237.613],\n",
       "       [49304.188],\n",
       "       [49592.758],\n",
       "       [49838.664],\n",
       "       [50055.27 ],\n",
       "       [50022.258],\n",
       "       [50005.68 ],\n",
       "       [50008.418],\n",
       "       [49844.23 ],\n",
       "       [49870.758],\n",
       "       [49735.293],\n",
       "       [49450.957],\n",
       "       [49039.02 ],\n",
       "       [48770.215],\n",
       "       [48544.938],\n",
       "       [48411.89 ],\n",
       "       [48041.777],\n",
       "       [48073.094],\n",
       "       [48217.07 ],\n",
       "       [48320.906],\n",
       "       [48353.92 ],\n",
       "       [47877.266],\n",
       "       [47552.97 ],\n",
       "       [47219.94 ],\n",
       "       [46985.42 ],\n",
       "       [46858.508],\n",
       "       [46776.53 ],\n",
       "       [46662.145],\n",
       "       [46671.297],\n",
       "       [46981.203],\n",
       "       [47239.22 ],\n",
       "       [47656.2  ],\n",
       "       [47959.97 ],\n",
       "       [48225.777],\n",
       "       [48399.55 ],\n",
       "       [48395.445],\n",
       "       [48506.816],\n",
       "       [48531.895],\n",
       "       [48568.594],\n",
       "       [48493.945]], dtype=float32)"
      ]
     },
     "execution_count": 136,
     "metadata": {},
     "output_type": "execute_result"
    }
   ],
   "source": [
    "predictions_gecko_unscaled"
   ]
  },
  {
   "cell_type": "code",
   "execution_count": 137,
   "metadata": {},
   "outputs": [],
   "source": [
    "y_test_gecko_unscaled = y_test_gecko_np * range1 + min1"
   ]
  },
  {
   "cell_type": "code",
   "execution_count": 138,
   "metadata": {},
   "outputs": [
    {
     "data": {
      "text/plain": [
       "722.6749627976193"
      ]
     },
     "execution_count": 138,
     "metadata": {},
     "output_type": "execute_result"
    }
   ],
   "source": [
    "np.mean(np.abs(y_test_gecko_unscaled - predictions_gecko_unscaled))"
   ]
  },
  {
   "cell_type": "code",
   "execution_count": null,
   "metadata": {},
   "outputs": [],
   "source": []
  },
  {
   "cell_type": "code",
   "execution_count": 139,
   "metadata": {},
   "outputs": [
    {
     "data": {
      "image/png": "[encoded data removed]",
      "text/plain": [
       "<Figure size 1080x576 with 1 Axes>"
      ]
     },
     "metadata": {},
     "output_type": "display_data"
    }
   ],
   "source": [
    "fig = plt.figure(figsize=(15, 8))\n",
    "plt.plot(predictions_gecko_unscaled, label = \"y_pred_gecko\")\n",
    "plt.plot(y_test_gecko_unscaled, label = \"y_real_gecko\")\n",
    "plt.legend()\n",
    "plt.show()"
   ]
  },
  {
   "cell_type": "code",
   "execution_count": null,
   "metadata": {},
   "outputs": [],
   "source": []
  },
  {
   "cell_type": "code",
   "execution_count": null,
   "metadata": {},
   "outputs": [],
   "source": []
  },
  {
   "cell_type": "code",
   "execution_count": null,
   "metadata": {},
   "outputs": [],
   "source": []
  },
  {
   "cell_type": "code",
   "execution_count": null,
   "metadata": {},
   "outputs": [],
   "source": []
  },
  {
   "cell_type": "markdown",
   "metadata": {
    "id": "0MqA8NYOTObA"
   },
   "source": [
    "## Second round"
   ]
  },
  {
   "cell_type": "code",
   "execution_count": 79,
   "metadata": {},
   "outputs": [
    {
     "ename": "SyntaxError",
     "evalue": "invalid syntax (3305230722.py, line 1)",
     "output_type": "error",
     "traceback": [
      "\u001b[0;36m  File \u001b[0;32m\"/var/folders/pr/4hn2kf9s0rj4ly5p93cm53v00000gq/T/ipykernel_14610/3305230722.py\"\u001b[0;36m, line \u001b[0;32m1\u001b[0m\n\u001b[0;31m    stop stop stop\u001b[0m\n\u001b[0m         ^\u001b[0m\n\u001b[0;31mSyntaxError\u001b[0m\u001b[0;31m:\u001b[0m invalid syntax\n"
     ]
    }
   ],
   "source": [
    "stop stop stop "
   ]
  },
  {
   "cell_type": "code",
   "execution_count": null,
   "metadata": {
    "colab": {
     "base_uri": "https://localhost:8080/"
    },
    "executionInfo": {
     "elapsed": 331,
     "status": "ok",
     "timestamp": 1629972855030,
     "user": {
      "displayName": "Ivan Fernandes",
      "photoUrl": "https://lh3.googleusercontent.com/a-/AOh14GgHdj66drQjCguTVvVzCd5yy8cdMluPJPZlz_BQLg=s64",
      "userId": "12100132160237129013"
     },
     "user_tz": -120
    },
    "id": "4ZAlnOTwTObB",
    "outputId": "65d37bf2-66eb-451f-a089-da27ba0ecf69"
   },
   "outputs": [],
   "source": [
    "dataset = data[[\"close\"]].values\n",
    "dataset"
   ]
  },
  {
   "cell_type": "code",
   "execution_count": null,
   "metadata": {
    "colab": {
     "base_uri": "https://localhost:8080/"
    },
    "executionInfo": {
     "elapsed": 358,
     "status": "ok",
     "timestamp": 1629972861459,
     "user": {
      "displayName": "Ivan Fernandes",
      "photoUrl": "https://lh3.googleusercontent.com/a-/AOh14GgHdj66drQjCguTVvVzCd5yy8cdMluPJPZlz_BQLg=s64",
      "userId": "12100132160237129013"
     },
     "user_tz": -120
    },
    "id": "Ky6aM8SBdNRJ",
    "outputId": "4230c46f-9302-4ae4-c65c-2dfaca764428"
   },
   "outputs": [],
   "source": [
    "# Scale the data\n",
    "from sklearn.preprocessing import MinMaxScaler\n",
    "\n",
    "scaler = MinMaxScaler(feature_range=(0,1))\n",
    "scaled_data = scaler.fit_transform(dataset)\n",
    "\n",
    "scaled_data"
   ]
  },
  {
   "cell_type": "code",
   "execution_count": null,
   "metadata": {
    "colab": {
     "base_uri": "https://localhost:8080/"
    },
    "executionInfo": {
     "elapsed": 4,
     "status": "ok",
     "timestamp": 1629972866229,
     "user": {
      "displayName": "Ivan Fernandes",
      "photoUrl": "https://lh3.googleusercontent.com/a-/AOh14GgHdj66drQjCguTVvVzCd5yy8cdMluPJPZlz_BQLg=s64",
      "userId": "12100132160237129013"
     },
     "user_tz": -120
    },
    "id": "zAgMZ7U2vEm7",
    "outputId": "0ae70070-5e33-460f-edca-c78ebe156b53"
   },
   "outputs": [],
   "source": [
    "length = 60\n",
    "horizon  = 1\n",
    "\n",
    "training_split = 0.85\n",
    "training_data_length = int(np.ceil(len(dataset) * training_split))\n",
    "training_data_length"
   ]
  },
  {
   "cell_type": "code",
   "execution_count": null,
   "metadata": {
    "executionInfo": {
     "elapsed": 330,
     "status": "ok",
     "timestamp": 1629972868143,
     "user": {
      "displayName": "Ivan Fernandes",
      "photoUrl": "https://lh3.googleusercontent.com/a-/AOh14GgHdj66drQjCguTVvVzCd5yy8cdMluPJPZlz_BQLg=s64",
      "userId": "12100132160237129013"
     },
     "user_tz": -120
    },
    "id": "1UKkQE7pdQyF"
   },
   "outputs": [],
   "source": [
    "# Create the training data set \n",
    "# Create the scaled training data set\n",
    "\n",
    "train_data = scaled_data[0:int(training_data_length), :]\n",
    "# Split the data into x_train and y_train data sets\n",
    "y_train = []\n",
    "\n",
    "x_train = [train_data[i-length:i, 0] for i in range(length, len(train_data))]\n",
    "y_train = [train_data[i, 0] for i in range(length, len(train_data))]\n",
    "        \n",
    "# Convert the x_train and y_train to numpy arrays \n",
    "x_train, y_train = np.array(x_train), np.array(y_train)\n",
    "\n",
    "# Reshape the data\n",
    "x_train = np.reshape(x_train, (x_train.shape[0], x_train.shape[1], 1))\n",
    "# x_train.shape"
   ]
  },
  {
   "cell_type": "code",
   "execution_count": null,
   "metadata": {
    "executionInfo": {
     "elapsed": 343,
     "status": "ok",
     "timestamp": 1629972870035,
     "user": {
      "displayName": "Ivan Fernandes",
      "photoUrl": "https://lh3.googleusercontent.com/a-/AOh14GgHdj66drQjCguTVvVzCd5yy8cdMluPJPZlz_BQLg=s64",
      "userId": "12100132160237129013"
     },
     "user_tz": -120
    },
    "id": "53aODOBCwgkq"
   },
   "outputs": [],
   "source": [
    "# Create the testing data set\n",
    "# Create a new array containing scaled values from index 543 to 2002 \n",
    "test_data = scaled_data[training_data_length - length: , :]\n",
    "# Create the data sets x_test and y_test\n",
    "\n",
    "y_test = dataset[training_data_length:, :]\n",
    "x_test = [test_data[i-length:i, 0] for i in range(length, len(test_data))]\n",
    "    \n",
    "# Convert the data to a numpy array\n",
    "x_test = np.array(x_test)\n",
    "\n",
    "# Reshape the data\n",
    "x_test = np.reshape(x_test, (x_test.shape[0], x_test.shape[1], 1 ))"
   ]
  },
  {
   "cell_type": "code",
   "execution_count": null,
   "metadata": {
    "colab": {
     "base_uri": "https://localhost:8080/"
    },
    "executionInfo": {
     "elapsed": 336,
     "status": "ok",
     "timestamp": 1629972873580,
     "user": {
      "displayName": "Ivan Fernandes",
      "photoUrl": "https://lh3.googleusercontent.com/a-/AOh14GgHdj66drQjCguTVvVzCd5yy8cdMluPJPZlz_BQLg=s64",
      "userId": "12100132160237129013"
     },
     "user_tz": -120
    },
    "id": "yaenuJTZv6co",
    "outputId": "67b35f97-d9dc-4da7-f7fd-5c8e187a8ac9"
   },
   "outputs": [],
   "source": [
    "print(x_train.shape, y_train.shape)\n",
    "print(x_test.shape, y_test.shape)"
   ]
  },
  {
   "cell_type": "code",
   "execution_count": null,
   "metadata": {
    "colab": {
     "base_uri": "https://localhost:8080/"
    },
    "executionInfo": {
     "elapsed": 445330,
     "status": "ok",
     "timestamp": 1629973325521,
     "user": {
      "displayName": "Ivan Fernandes",
      "photoUrl": "https://lh3.googleusercontent.com/a-/AOh14GgHdj66drQjCguTVvVzCd5yy8cdMluPJPZlz_BQLg=s64",
      "userId": "12100132160237129013"
     },
     "user_tz": -120
    },
    "id": "r1kJ7oDCdZgd",
    "outputId": "ee96a936-e2d1-4de0-b658-6d1df677227f"
   },
   "outputs": [],
   "source": [
    "from keras.models import Sequential\n",
    "from keras.layers import Dense, LSTM\n",
    "\n",
    "# Build the LSTM model\n",
    "model = Sequential()\n",
    "model.add(LSTM(128, return_sequences=True, input_shape= (x_train.shape[1], 1)))\n",
    "model.add(LSTM(64, return_sequences=False))\n",
    "model.add(Dense(25))\n",
    "model.add(Dense(1))\n",
    "\n",
    "# Compile the model\n",
    "model.compile(optimizer='adam', loss='mean_squared_error', metrics = my_mae)\n",
    "\n",
    "# Train the model\n",
    "history = model.fit(x_train, y_train, batch_size=8, epochs=5, validation_split = 0.4)"
   ]
  },
  {
   "cell_type": "code",
   "execution_count": null,
   "metadata": {
    "colab": {
     "base_uri": "https://localhost:8080/",
     "height": 330
    },
    "executionInfo": {
     "elapsed": 1169,
     "status": "ok",
     "timestamp": 1629973328789,
     "user": {
      "displayName": "Ivan Fernandes",
      "photoUrl": "https://lh3.googleusercontent.com/a-/AOh14GgHdj66drQjCguTVvVzCd5yy8cdMluPJPZlz_BQLg=s64",
      "userId": "12100132160237129013"
     },
     "user_tz": -120
    },
    "id": "Q_zo4Kbm-xfx",
    "outputId": "41bfd88f-1816-4d3e-df07-3e015857209d"
   },
   "outputs": [],
   "source": [
    "plot_loss_mae(history)"
   ]
  },
  {
   "cell_type": "code",
   "execution_count": null,
   "metadata": {
    "colab": {
     "base_uri": "https://localhost:8080/"
    },
    "executionInfo": {
     "elapsed": 2984,
     "status": "ok",
     "timestamp": 1629973363329,
     "user": {
      "displayName": "Ivan Fernandes",
      "photoUrl": "https://lh3.googleusercontent.com/a-/AOh14GgHdj66drQjCguTVvVzCd5yy8cdMluPJPZlz_BQLg=s64",
      "userId": "12100132160237129013"
     },
     "user_tz": -120
    },
    "id": "mDLxHpjofPRL",
    "outputId": "a11b4d99-1534-4dfe-9ec2-25f37fac539b"
   },
   "outputs": [],
   "source": [
    "# Get the models predicted price values \n",
    "predictions = model.predict(x_test)\n",
    "predictions = scaler.inverse_transform(predictions)\n",
    "predictions[:3]"
   ]
  },
  {
   "cell_type": "code",
   "execution_count": null,
   "metadata": {
    "colab": {
     "base_uri": "https://localhost:8080/"
    },
    "executionInfo": {
     "elapsed": 393,
     "status": "ok",
     "timestamp": 1629973398497,
     "user": {
      "displayName": "Ivan Fernandes",
      "photoUrl": "https://lh3.googleusercontent.com/a-/AOh14GgHdj66drQjCguTVvVzCd5yy8cdMluPJPZlz_BQLg=s64",
      "userId": "12100132160237129013"
     },
     "user_tz": -120
    },
    "id": "Jvw0e9a5_B3Q",
    "outputId": "491632c8-7cf1-4d07-9990-42575fa60b54"
   },
   "outputs": [],
   "source": [
    "y_test.shape, predictions.shape"
   ]
  },
  {
   "cell_type": "code",
   "execution_count": null,
   "metadata": {
    "colab": {
     "base_uri": "https://localhost:8080/"
    },
    "executionInfo": {
     "elapsed": 337,
     "status": "ok",
     "timestamp": 1629973370818,
     "user": {
      "displayName": "Ivan Fernandes",
      "photoUrl": "https://lh3.googleusercontent.com/a-/AOh14GgHdj66drQjCguTVvVzCd5yy8cdMluPJPZlz_BQLg=s64",
      "userId": "12100132160237129013"
     },
     "user_tz": -120
    },
    "id": "6E2H4WZm-pf0",
    "outputId": "bdb62256-47c2-4e22-ce5e-cdb6113408ac"
   },
   "outputs": [],
   "source": [
    "# Get the root mean squared error (RMSE)\n",
    "rmse = np.sqrt(np.mean(((predictions - y_test) ** 2)))\n",
    "rmse"
   ]
  },
  {
   "cell_type": "code",
   "execution_count": null,
   "metadata": {
    "colab": {
     "base_uri": "https://localhost:8080/"
    },
    "executionInfo": {
     "elapsed": 4437,
     "status": "ok",
     "timestamp": 1629973427758,
     "user": {
      "displayName": "Ivan Fernandes",
      "photoUrl": "https://lh3.googleusercontent.com/a-/AOh14GgHdj66drQjCguTVvVzCd5yy8cdMluPJPZlz_BQLg=s64",
      "userId": "12100132160237129013"
     },
     "user_tz": -120
    },
    "id": "fdyr7K5marJ3",
    "outputId": "4a7ff078-2039-4d92-cf93-7383265d47a2"
   },
   "outputs": [],
   "source": [
    "model.evaluate(x_test, y_test)"
   ]
  },
  {
   "cell_type": "code",
   "execution_count": null,
   "metadata": {
    "executionInfo": {
     "elapsed": 439,
     "status": "ok",
     "timestamp": 1629973433584,
     "user": {
      "displayName": "Ivan Fernandes",
      "photoUrl": "https://lh3.googleusercontent.com/a-/AOh14GgHdj66drQjCguTVvVzCd5yy8cdMluPJPZlz_BQLg=s64",
      "userId": "12100132160237129013"
     },
     "user_tz": -120
    },
    "id": "DczPn6a-hCH5"
   },
   "outputs": [],
   "source": [
    "# Plot the data\n",
    "train = selected_data[:training_data_length]\n",
    "valid = selected_data[training_data_length:].copy()"
   ]
  },
  {
   "cell_type": "code",
   "execution_count": null,
   "metadata": {
    "colab": {
     "base_uri": "https://localhost:8080/",
     "height": 447
    },
    "executionInfo": {
     "elapsed": 343,
     "status": "ok",
     "timestamp": 1629973437703,
     "user": {
      "displayName": "Ivan Fernandes",
      "photoUrl": "https://lh3.googleusercontent.com/a-/AOh14GgHdj66drQjCguTVvVzCd5yy8cdMluPJPZlz_BQLg=s64",
      "userId": "12100132160237129013"
     },
     "user_tz": -120
    },
    "id": "WjQSBQ5JarJ4",
    "outputId": "c8141000-c535-4f92-faf9-406986f792da"
   },
   "outputs": [],
   "source": [
    "train"
   ]
  },
  {
   "cell_type": "code",
   "execution_count": null,
   "metadata": {
    "colab": {
     "base_uri": "https://localhost:8080/",
     "height": 447
    },
    "executionInfo": {
     "elapsed": 465,
     "status": "ok",
     "timestamp": 1629973446397,
     "user": {
      "displayName": "Ivan Fernandes",
      "photoUrl": "https://lh3.googleusercontent.com/a-/AOh14GgHdj66drQjCguTVvVzCd5yy8cdMluPJPZlz_BQLg=s64",
      "userId": "12100132160237129013"
     },
     "user_tz": -120
    },
    "id": "dc1WTWynhDPL",
    "outputId": "56806c30-f59a-454c-e979-e42f656b9ea5"
   },
   "outputs": [],
   "source": [
    "valid"
   ]
  },
  {
   "cell_type": "code",
   "execution_count": null,
   "metadata": {
    "colab": {
     "base_uri": "https://localhost:8080/",
     "height": 447
    },
    "executionInfo": {
     "elapsed": 341,
     "status": "ok",
     "timestamp": 1629973462863,
     "user": {
      "displayName": "Ivan Fernandes",
      "photoUrl": "https://lh3.googleusercontent.com/a-/AOh14GgHdj66drQjCguTVvVzCd5yy8cdMluPJPZlz_BQLg=s64",
      "userId": "12100132160237129013"
     },
     "user_tz": -120
    },
    "id": "p6hMJqrMarJ4",
    "outputId": "8a102830-2a5a-44bc-d17c-1db157056ce5"
   },
   "outputs": [],
   "source": [
    "valid[\"Predictions\"] = predictions\n",
    "valid"
   ]
  },
  {
   "cell_type": "code",
   "execution_count": null,
   "metadata": {
    "executionInfo": {
     "elapsed": 345,
     "status": "ok",
     "timestamp": 1629973472674,
     "user": {
      "displayName": "Ivan Fernandes",
      "photoUrl": "https://lh3.googleusercontent.com/a-/AOh14GgHdj66drQjCguTVvVzCd5yy8cdMluPJPZlz_BQLg=s64",
      "userId": "12100132160237129013"
     },
     "user_tz": -120
    },
    "id": "giTQW4HoarJ5"
   },
   "outputs": [],
   "source": [
    "valid.index = pd.to_datetime(valid.index, format = \"%Y-%m-%d %H:%M:%S\")\n",
    "train.index = pd.to_datetime(train.index, format = \"%Y-%m-%d %H:%M:%S\")"
   ]
  },
  {
   "cell_type": "code",
   "execution_count": null,
   "metadata": {
    "colab": {
     "base_uri": "https://localhost:8080/",
     "height": 441
    },
    "executionInfo": {
     "elapsed": 813,
     "status": "ok",
     "timestamp": 1629973507361,
     "user": {
      "displayName": "Ivan Fernandes",
      "photoUrl": "https://lh3.googleusercontent.com/a-/AOh14GgHdj66drQjCguTVvVzCd5yy8cdMluPJPZlz_BQLg=s64",
      "userId": "12100132160237129013"
     },
     "user_tz": -120
    },
    "id": "wj0t09QbfYLr",
    "outputId": "936c384d-7186-4124-df4d-b9ad0ec1895b"
   },
   "outputs": [],
   "source": [
    "# Visualize the data\n",
    "plt.figure(figsize=(16,6))\n",
    "plt.title('Model')\n",
    "plt.plot(train['close'])\n",
    "plt.plot(valid[['close', 'Predictions']])\n",
    "plt.xlabel('Date', fontsize=18)\n",
    "plt.ylabel('Close Price USD ($)', fontsize=18)\n",
    "plt.legend(['Train', 'Val', 'Predictions'], loc='lower right')\n",
    "plt.xlim([datetime.date(2020, 1, 1), datetime.datetime.now()])\n",
    "plt.show()"
   ]
  },
  {
   "cell_type": "code",
   "execution_count": null,
   "metadata": {
    "id": "VGkbLiUzg5gu"
   },
   "outputs": [],
   "source": []
  }
 ],
 "metadata": {
  "colab": {
   "collapsed_sections": [],
   "name": "BTC pred.ipynb",
   "provenance": [],
   "toc_visible": true
  },
  "kernelspec": {
   "display_name": "Python 3 (ipykernel)",
   "language": "python",
   "name": "python3"
  },
  "language_info": {
   "codemirror_mode": {
    "name": "ipython",
    "version": 3
   },
   "file_extension": ".py",
   "mimetype": "text/x-python",
   "name": "python",
   "nbconvert_exporter": "python",
   "pygments_lexer": "ipython3",
   "version": "3.8.6"
  },
  "toc": {
   "base_numbering": 1,
   "nav_menu": {},
   "number_sections": true,
   "sideBar": true,
   "skip_h1_title": true,
   "title_cell": "Table of Contents",
   "title_sidebar": "Contents",
   "toc_cell": false,
   "toc_position": {
    "height": "calc(100% - 180px)",
    "left": "10px",
    "top": "150px",
    "width": "241.797px"
   },
   "toc_section_display": true,
   "toc_window_display": true
  },
  "varInspector": {
   "cols": {
    "lenName": 16,
    "lenType": 16,
    "lenVar": 40
   },
   "kernels_config": {
    "python": {
     "delete_cmd_postfix": "",
     "delete_cmd_prefix": "del ",
     "library": "var_list.py",
     "varRefreshCmd": "print(var_dic_list())"
    },
    "r": {
     "delete_cmd_postfix": ") ",
     "delete_cmd_prefix": "rm(",
     "library": "var_list.r",
     "varRefreshCmd": "cat(var_dic_list()) "
    }
   },
   "types_to_exclude": [
    "module",
    "function",
    "builtin_function_or_method",
    "instance",
    "_Feature"
   ],
   "window_display": false
  }
 },
 "nbformat": 4,
 "nbformat_minor": 1
}
