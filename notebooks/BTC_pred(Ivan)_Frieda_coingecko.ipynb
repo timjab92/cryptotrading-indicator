{
 "cells": [
  {
   "cell_type": "markdown",
   "metadata": {
    "id": "7Ah1snjrTOaO"
   },
   "source": [
    "# Recurrent Neural Networks\n",
    "---\n",
    "# Predicting Stock Prices through an LSTM model"
   ]
  },
  {
   "cell_type": "code",
   "execution_count": 1,
   "metadata": {
    "executionInfo": {
     "elapsed": 450,
     "status": "ok",
     "timestamp": 1629966198358,
     "user": {
      "displayName": "Ivan Fernandes",
      "photoUrl": "https://lh3.googleusercontent.com/a-/AOh14GgHdj66drQjCguTVvVzCd5yy8cdMluPJPZlz_BQLg=s64",
      "userId": "12100132160237129013"
     },
     "user_tz": -120
    },
    "id": "qnAL4n0hTOaX"
   },
   "outputs": [],
   "source": [
    "import tensorflow as tf\n",
    "import requests\n",
    "\n",
    "''' Linear Algebra '''\n",
    "import pandas as pd\n",
    "import numpy as np\n",
    "pd.set_option(\"max_columns\",None)\n",
    "\n",
    "'''Data visualization'''\n",
    "import matplotlib.pyplot as plt\n",
    "import seaborn as sns\n",
    "sns.set_style('whitegrid')\n",
    "plt.style.use(\"fivethirtyeight\")"
   ]
  },
  {
   "cell_type": "code",
   "execution_count": 2,
   "metadata": {
    "executionInfo": {
     "elapsed": 2,
     "status": "ok",
     "timestamp": 1629966199072,
     "user": {
      "displayName": "Ivan Fernandes",
      "photoUrl": "https://lh3.googleusercontent.com/a-/AOh14GgHdj66drQjCguTVvVzCd5yy8cdMluPJPZlz_BQLg=s64",
      "userId": "12100132160237129013"
     },
     "user_tz": -120
    },
    "id": "5xjbJ62hTOaa"
   },
   "outputs": [],
   "source": [
    "''' Hnadling timestamps'''\n",
    "import datetime\n",
    "from datetime import datetime"
   ]
  },
  {
   "cell_type": "code",
   "execution_count": 3,
   "metadata": {
    "executionInfo": {
     "elapsed": 788,
     "status": "ok",
     "timestamp": 1629966215382,
     "user": {
      "displayName": "Ivan Fernandes",
      "photoUrl": "https://lh3.googleusercontent.com/a-/AOh14GgHdj66drQjCguTVvVzCd5yy8cdMluPJPZlz_BQLg=s64",
      "userId": "12100132160237129013"
     },
     "user_tz": -120
    },
    "id": "LrKv6T1kTOaa"
   },
   "outputs": [],
   "source": [
    "CLOSE = 'close'\n",
    "WINDOW_SIZE = 18\n",
    "#HORIZON = 6\n",
    "SELECTED_FEATURES = ['close']"
   ]
  },
  {
   "cell_type": "code",
   "execution_count": 4,
   "metadata": {
    "colab": {
     "base_uri": "https://localhost:8080/"
    },
    "executionInfo": {
     "elapsed": 351,
     "status": "ok",
     "timestamp": 1629966293996,
     "user": {
      "displayName": "Ivan Fernandes",
      "photoUrl": "https://lh3.googleusercontent.com/a-/AOh14GgHdj66drQjCguTVvVzCd5yy8cdMluPJPZlz_BQLg=s64",
      "userId": "12100132160237129013"
     },
     "user_tz": -120
    },
    "id": "yycPaAz_a6Sy",
    "outputId": "bc68dbc7-c65e-453c-f4a0-991e24e1ee68",
    "scrolled": true
   },
   "outputs": [],
   "source": [
    "# url = 'https://raw.githubusercontent.com/timjab92/cryptotradingindicator/master/data/BTC4h.csv'\n",
    "\n",
    "# data = pd.read_csv(url)\n",
    "# Dataset is now stored in a Pandas Dataframe"
   ]
  },
  {
   "cell_type": "code",
   "execution_count": 5,
   "metadata": {},
   "outputs": [],
   "source": [
    "def feature_engineer(data):\n",
    "    \"\"\"\n",
    "    Adds the EMAs, StochRSI, BollingerBands and Volume Rate of Change to the dataframe\n",
    "    \"\"\"\n",
    "    add_ema(data)\n",
    "    add_stoch_rsi(data)\n",
    "    add_bollinger(data,data[CLOSE])\n",
    "    add_vol_roc(data)\n",
    "    data['4h Return'] = data[CLOSE].pct_change() * 100 \n",
    "    data['4h Gradient'] = data[CLOSE].diff()\n",
    "    data['boll_width'] = data['bollinger_up'] - data['bollinger_down']\n",
    "    data['high_low_avg'] =  data[['high','low']].mean(axis=1)\n",
    "    data['stoch_rsi'] = (data['K'] + data['D']) / 2\n",
    "    data['perc_bb'] = (data.close - data.bollinger_down) / (data.bollinger_up - data.bollinger_down)\n",
    "    return data\n",
    "\n",
    "## add other features\n",
    "\n",
    "def add_ema(data, tspan=[12,26,21,50,34,55,99,200]):\n",
    "    \"\"\"\n",
    "    Adds Exponential Moving Averages (EMA) to the dataframe. The default timeframes are 12,26,20,50,34 and 55.\n",
    "    \"\"\"\n",
    "    for t in tspan:\n",
    "        data[f'ema{t}'] = data[CLOSE].ewm(span=t).mean()\n",
    "        data[f'dist_ema{t}'] = data[CLOSE] - data[f'ema{t}']\n",
    "    return data\n",
    "\n",
    "\n",
    "def computeRSI(data, window=14):\n",
    "    \"\"\"\n",
    "    Computes the Relative Stregth Index for a given dataset and the window can be defined. Its default value is 14.\n",
    "    \"\"\"\n",
    "    diff = data.diff(1).dropna()        # diff in one field(one day)\n",
    "\n",
    "    #this preservers dimensions off diff values\n",
    "    up_chg = 0 * diff\n",
    "    down_chg = 0 * diff\n",
    "    \n",
    "    # up change is equal to the positive difference, otherwise equal to zero\n",
    "    up_chg[diff > 0] = diff[ diff>0 ]\n",
    "    # down change is equal to negative deifference, otherwise equal to zero\n",
    "    down_chg[diff < 0] = diff[ diff < 0 ]\n",
    "    \n",
    "    # check pandas documentation for ewm\n",
    "    # https://pandas.pydata.org/pandas-docs/stable/reference/api/pandas.DataFrame.ewm.html\n",
    "    # values are related to exponential decay\n",
    "    # we set com=window-1 so we get decay alpha=1/window\n",
    "    up_chg_avg   = up_chg.ewm(com=window-1 , min_periods=window).mean()\n",
    "    down_chg_avg = down_chg.ewm(com=window-1 , min_periods=window).mean()\n",
    "    \n",
    "    rs = abs(up_chg_avg/down_chg_avg)\n",
    "    rsi = 100 - 100/(1+rs)\n",
    "    return rsi\n",
    "\n",
    "\n",
    "def stoch_rsi(rsi, d_window=3, k_window=3, window=14):\n",
    "    \"\"\"\n",
    "    Computes the stochastic RSI. Default values are d=3, k=3, window=14.\n",
    "    \"\"\"\n",
    "    minrsi = rsi.rolling(window=window, center=False).min()\n",
    "    maxrsi = rsi.rolling(window=window, center=False).max()\n",
    "    stoch = ((rsi - minrsi) / (maxrsi - minrsi)) * 100\n",
    "    K = stoch.rolling(window=k_window, center=False).mean()\n",
    "    D = K.rolling(window=d_window, center=False).mean() \n",
    "    return K, D  \n",
    "\n",
    "\n",
    "def add_stoch_rsi(data, d_window=3, k_window=3, window=14):\n",
    "    data['rsi'] = computeRSI(data[CLOSE], window)\n",
    "    data['K'], data['D'] = stoch_rsi(data['rsi'], d_window, k_window, window)\n",
    "    return data\n",
    "\n",
    "\n",
    "def get_bollinger_bands(prices, rate=20):\n",
    "    sma = prices.rolling(rate).mean() # <-- Get SMA for 20 days\n",
    "    std = prices.rolling(rate).std() # <-- Get rolling standard deviation for 20 days\n",
    "    bollinger_up = sma + std * 2 # Calculate top band\n",
    "    bollinger_down = sma - std * 2 # Calculate bottom band\n",
    "    return sma, bollinger_up, bollinger_down\n",
    "\n",
    "\n",
    "def add_bollinger(data, prices, rate=20):\n",
    "    data['sma'], data['bollinger_up'], data['bollinger_down'] = get_bollinger_bands(prices)\n",
    "    for i in ['bollinger_up', 'bollinger_down']:\n",
    "        data[f'dist_{i}'] = data[CLOSE] - data[i]\n",
    "    return data\n",
    "\n",
    "\n",
    "def add_vol_roc(data):\n",
    "    data['vol_roc'] = data.volume.pct_change()\n",
    "    return data\n",
    "\n",
    "def get_train_data():\n",
    "    \"\"\"\n",
    "    Returns the raw training dataset for the price of bitcoin since 31.12.2011.\n",
    "    The index is set to the date.\n",
    "    \"\"\"\n",
    "    url = 'https://raw.githubusercontent.com/timjab92/cryptotradingindicator/master/data/BTC4h.csv'\n",
    "    data = pd.read_csv(url)\n",
    "    \n",
    "    data['date'] = pd.to_datetime(data.date)\n",
    "    data_train = data.set_index(\"date\")\n",
    "    return data_train\n",
    "\n",
    "\n",
    "def get_coingecko():\n",
    "    #ohlc\n",
    "    url = \"https://api.coingecko.com/api/v3/coins/bitcoin/ohlc?vs_currency=usd&days=30\"\n",
    "    response = requests.get(url).json()\n",
    "    #cleaning\n",
    "    data_api = pd.DataFrame(response, columns = ['unix_time','open', 'high', 'low', 'close'])\n",
    "    data_api[\"Date\"] = pd.to_datetime(data_api[\"unix_time\"], unit='ms')\n",
    "    data_api = data_api.drop(columns='unix_time').set_index('Date')\n",
    "\n",
    "    #volume\n",
    "    url = \"https://api.coingecko.com/api/v3/coins/bitcoin/market_chart?vs_currency=usd&days=30\"\n",
    "    response = requests.get(url).json()\n",
    "\n",
    "    volume = pd.DataFrame(response['total_volumes'], columns=[\"unix_time\",\"volume\"])\n",
    "    volume['date'] = pd.to_datetime(pd.to_datetime(volume['unix_time'],unit='ms').dt.strftime(\"%Y/%m/%d, %H:00:00\"))\n",
    "    volume = volume.drop(columns='unix_time').set_index('date')\n",
    "\n",
    "    #resample hourly into 4h\n",
    "    volume = volume.resample(\"4H\").mean()\n",
    "\n",
    "    #concatinate\n",
    "    volume = volume[-180:]\n",
    "    data_api = data_api[-181:-1]\n",
    "    full = pd.concat([data_api, volume], axis=1)\n",
    "    full.columns=['open', 'high', 'low', 'close', 'volume']\n",
    "\n",
    "    for x in ['open', 'high', 'low', 'close']:\n",
    "        full[f'log_{x}'] = full[x].apply(lambda x: np.log(x))\n",
    "\n",
    "    data_api = full.copy()\n",
    "\n",
    "    return data_api\n",
    "\n",
    "\n",
    "def minmaxscaling(data_train):\n",
    "    \"\"\"\n",
    "    applies the minmaxscaler to the training set. Attention! Output needs to be\n",
    "    defined for data_train_scaled, min1 and range1!!\n",
    "    \"\"\"\n",
    "    minmax_scaler = MinMaxScaler(feature_range=(0, 1))\n",
    "    minmax_scaler.fit(data_train)\n",
    "    data_train_scaled = minmax_scaler.transform(data_train)\n",
    "    #    min1 = minmax_scaler.data_min_  # [5:9] for log_prices\n",
    "    #    range1 = minmax_scaler.data_range_  #[5:9]\n",
    "    return data_train_scaled, minmax_scaler\n",
    "\n",
    "\n",
    "def get_xgecko(length=60, horizon=1):\n",
    "    \"\"\"\n",
    "    Calls the coingecko API and returns the data used for prediction.\n",
    "    x_gecko.shape == (no_sequ , length, no_features)\n",
    "    \"\"\"\n",
    "    x_gecko = feature_engineer(get_coingecko())[[CLOSE]][-length:]\n",
    "    #get scaler the long way\n",
    "    data_train = feature_engineer(get_train_data())[[CLOSE]]\n",
    "    data_train_scaled, scaler = minmaxscaling(data_train)\n",
    "\n",
    "    x_gecko_scaled = scaler.transform(x_gecko)\n",
    "    x_gecko = np.array(x_gecko_scaled)\n",
    "    x_gecko = np.reshape(x_gecko, (horizon, length, 1))\n",
    "    return x_gecko"
   ]
  },
  {
   "cell_type": "code",
   "execution_count": 6,
   "metadata": {},
   "outputs": [],
   "source": [
    "data = feature_engineer(get_train_data())"
   ]
  },
  {
   "cell_type": "code",
   "execution_count": 7,
   "metadata": {},
   "outputs": [],
   "source": [
    "data.dropna(inplace=True)\n",
    "data = data"
   ]
  },
  {
   "cell_type": "code",
   "execution_count": 8,
   "metadata": {},
   "outputs": [
    {
     "data": {
      "text/html": [
       "<div>\n",
       "<style scoped>\n",
       "    .dataframe tbody tr th:only-of-type {\n",
       "        vertical-align: middle;\n",
       "    }\n",
       "\n",
       "    .dataframe tbody tr th {\n",
       "        vertical-align: top;\n",
       "    }\n",
       "\n",
       "    .dataframe thead th {\n",
       "        text-align: right;\n",
       "    }\n",
       "</style>\n",
       "<table border=\"1\" class=\"dataframe\">\n",
       "  <thead>\n",
       "    <tr style=\"text-align: right;\">\n",
       "      <th></th>\n",
       "      <th>open</th>\n",
       "      <th>high</th>\n",
       "      <th>low</th>\n",
       "      <th>close</th>\n",
       "      <th>volume</th>\n",
       "      <th>log_open</th>\n",
       "      <th>log_high</th>\n",
       "      <th>log_low</th>\n",
       "      <th>log_close</th>\n",
       "      <th>ema12</th>\n",
       "      <th>dist_ema12</th>\n",
       "      <th>ema26</th>\n",
       "      <th>dist_ema26</th>\n",
       "      <th>ema21</th>\n",
       "      <th>dist_ema21</th>\n",
       "      <th>ema50</th>\n",
       "      <th>dist_ema50</th>\n",
       "      <th>ema34</th>\n",
       "      <th>dist_ema34</th>\n",
       "      <th>ema55</th>\n",
       "      <th>dist_ema55</th>\n",
       "      <th>ema99</th>\n",
       "      <th>dist_ema99</th>\n",
       "      <th>ema200</th>\n",
       "      <th>dist_ema200</th>\n",
       "      <th>rsi</th>\n",
       "      <th>K</th>\n",
       "      <th>D</th>\n",
       "      <th>sma</th>\n",
       "      <th>bollinger_up</th>\n",
       "      <th>bollinger_down</th>\n",
       "      <th>dist_bollinger_up</th>\n",
       "      <th>dist_bollinger_down</th>\n",
       "      <th>vol_roc</th>\n",
       "      <th>4h Return</th>\n",
       "      <th>4h Gradient</th>\n",
       "      <th>boll_width</th>\n",
       "      <th>high_low_avg</th>\n",
       "      <th>stoch_rsi</th>\n",
       "      <th>perc_bb</th>\n",
       "    </tr>\n",
       "    <tr>\n",
       "      <th>date</th>\n",
       "      <th></th>\n",
       "      <th></th>\n",
       "      <th></th>\n",
       "      <th></th>\n",
       "      <th></th>\n",
       "      <th></th>\n",
       "      <th></th>\n",
       "      <th></th>\n",
       "      <th></th>\n",
       "      <th></th>\n",
       "      <th></th>\n",
       "      <th></th>\n",
       "      <th></th>\n",
       "      <th></th>\n",
       "      <th></th>\n",
       "      <th></th>\n",
       "      <th></th>\n",
       "      <th></th>\n",
       "      <th></th>\n",
       "      <th></th>\n",
       "      <th></th>\n",
       "      <th></th>\n",
       "      <th></th>\n",
       "      <th></th>\n",
       "      <th></th>\n",
       "      <th></th>\n",
       "      <th></th>\n",
       "      <th></th>\n",
       "      <th></th>\n",
       "      <th></th>\n",
       "      <th></th>\n",
       "      <th></th>\n",
       "      <th></th>\n",
       "      <th></th>\n",
       "      <th></th>\n",
       "      <th></th>\n",
       "      <th></th>\n",
       "      <th></th>\n",
       "      <th></th>\n",
       "      <th></th>\n",
       "    </tr>\n",
       "  </thead>\n",
       "  <tbody>\n",
       "    <tr>\n",
       "      <th>2015-10-13 20:00:00</th>\n",
       "      <td>250.35</td>\n",
       "      <td>250.42</td>\n",
       "      <td>250.00</td>\n",
       "      <td>250.42</td>\n",
       "      <td>4.212360</td>\n",
       "      <td>5.522860</td>\n",
       "      <td>5.523140</td>\n",
       "      <td>5.521461</td>\n",
       "      <td>5.523140</td>\n",
       "      <td>249.099717</td>\n",
       "      <td>1.320283</td>\n",
       "      <td>248.070267</td>\n",
       "      <td>2.349733</td>\n",
       "      <td>248.335037</td>\n",
       "      <td>2.084963</td>\n",
       "      <td>247.450021</td>\n",
       "      <td>2.969979</td>\n",
       "      <td>247.779579</td>\n",
       "      <td>2.640421</td>\n",
       "      <td>247.383678</td>\n",
       "      <td>3.036322</td>\n",
       "      <td>247.081105</td>\n",
       "      <td>3.338895</td>\n",
       "      <td>246.885832</td>\n",
       "      <td>3.534168</td>\n",
       "      <td>62.138793</td>\n",
       "      <td>40.155130</td>\n",
       "      <td>46.356355</td>\n",
       "      <td>248.0515</td>\n",
       "      <td>251.988559</td>\n",
       "      <td>244.114441</td>\n",
       "      <td>-1.568559</td>\n",
       "      <td>6.305559</td>\n",
       "      <td>1.008111</td>\n",
       "      <td>0.027961</td>\n",
       "      <td>0.07</td>\n",
       "      <td>7.874118</td>\n",
       "      <td>250.210</td>\n",
       "      <td>43.255743</td>\n",
       "      <td>0.800796</td>\n",
       "    </tr>\n",
       "    <tr>\n",
       "      <th>2015-10-14 00:00:00</th>\n",
       "      <td>250.42</td>\n",
       "      <td>251.08</td>\n",
       "      <td>250.42</td>\n",
       "      <td>251.00</td>\n",
       "      <td>13.965352</td>\n",
       "      <td>5.523140</td>\n",
       "      <td>5.525772</td>\n",
       "      <td>5.523140</td>\n",
       "      <td>5.525453</td>\n",
       "      <td>249.393253</td>\n",
       "      <td>1.606747</td>\n",
       "      <td>248.305871</td>\n",
       "      <td>2.694129</td>\n",
       "      <td>248.588207</td>\n",
       "      <td>2.411793</td>\n",
       "      <td>247.639969</td>\n",
       "      <td>3.360031</td>\n",
       "      <td>247.994423</td>\n",
       "      <td>3.005577</td>\n",
       "      <td>247.568489</td>\n",
       "      <td>3.431511</td>\n",
       "      <td>247.242179</td>\n",
       "      <td>3.757821</td>\n",
       "      <td>247.031474</td>\n",
       "      <td>3.968526</td>\n",
       "      <td>63.970662</td>\n",
       "      <td>40.046929</td>\n",
       "      <td>43.466354</td>\n",
       "      <td>248.3330</td>\n",
       "      <td>252.267876</td>\n",
       "      <td>244.398124</td>\n",
       "      <td>-1.267876</td>\n",
       "      <td>6.601876</td>\n",
       "      <td>2.315327</td>\n",
       "      <td>0.231611</td>\n",
       "      <td>0.58</td>\n",
       "      <td>7.869751</td>\n",
       "      <td>250.750</td>\n",
       "      <td>41.756642</td>\n",
       "      <td>0.838893</td>\n",
       "    </tr>\n",
       "    <tr>\n",
       "      <th>2015-10-14 04:00:00</th>\n",
       "      <td>251.00</td>\n",
       "      <td>251.00</td>\n",
       "      <td>250.70</td>\n",
       "      <td>251.00</td>\n",
       "      <td>12.449493</td>\n",
       "      <td>5.525453</td>\n",
       "      <td>5.525453</td>\n",
       "      <td>5.524257</td>\n",
       "      <td>5.525453</td>\n",
       "      <td>249.641291</td>\n",
       "      <td>1.358709</td>\n",
       "      <td>248.521162</td>\n",
       "      <td>2.478838</td>\n",
       "      <td>248.816393</td>\n",
       "      <td>2.183607</td>\n",
       "      <td>247.817220</td>\n",
       "      <td>3.182780</td>\n",
       "      <td>248.193034</td>\n",
       "      <td>2.806966</td>\n",
       "      <td>247.741197</td>\n",
       "      <td>3.258803</td>\n",
       "      <td>247.393441</td>\n",
       "      <td>3.606559</td>\n",
       "      <td>247.168475</td>\n",
       "      <td>3.831525</td>\n",
       "      <td>63.970662</td>\n",
       "      <td>44.894745</td>\n",
       "      <td>41.698935</td>\n",
       "      <td>248.5680</td>\n",
       "      <td>252.552727</td>\n",
       "      <td>244.583273</td>\n",
       "      <td>-1.552727</td>\n",
       "      <td>6.416727</td>\n",
       "      <td>-0.108544</td>\n",
       "      <td>0.000000</td>\n",
       "      <td>0.00</td>\n",
       "      <td>7.969453</td>\n",
       "      <td>250.850</td>\n",
       "      <td>43.296840</td>\n",
       "      <td>0.805165</td>\n",
       "    </tr>\n",
       "    <tr>\n",
       "      <th>2015-10-14 08:00:00</th>\n",
       "      <td>251.00</td>\n",
       "      <td>251.86</td>\n",
       "      <td>251.00</td>\n",
       "      <td>251.15</td>\n",
       "      <td>8.686492</td>\n",
       "      <td>5.525453</td>\n",
       "      <td>5.528873</td>\n",
       "      <td>5.525453</td>\n",
       "      <td>5.526050</td>\n",
       "      <td>249.874073</td>\n",
       "      <td>1.275927</td>\n",
       "      <td>248.730016</td>\n",
       "      <td>2.419984</td>\n",
       "      <td>249.036367</td>\n",
       "      <td>2.113633</td>\n",
       "      <td>247.990685</td>\n",
       "      <td>3.159315</td>\n",
       "      <td>248.386702</td>\n",
       "      <td>2.763298</td>\n",
       "      <td>247.910291</td>\n",
       "      <td>3.239709</td>\n",
       "      <td>247.541651</td>\n",
       "      <td>3.608349</td>\n",
       "      <td>247.302627</td>\n",
       "      <td>3.847373</td>\n",
       "      <td>64.486046</td>\n",
       "      <td>52.326475</td>\n",
       "      <td>45.756050</td>\n",
       "      <td>248.8105</td>\n",
       "      <td>252.804377</td>\n",
       "      <td>244.816623</td>\n",
       "      <td>-1.654377</td>\n",
       "      <td>6.333377</td>\n",
       "      <td>-0.302261</td>\n",
       "      <td>0.059761</td>\n",
       "      <td>0.15</td>\n",
       "      <td>7.987754</td>\n",
       "      <td>251.430</td>\n",
       "      <td>49.041263</td>\n",
       "      <td>0.792886</td>\n",
       "    </tr>\n",
       "    <tr>\n",
       "      <th>2015-10-14 12:00:00</th>\n",
       "      <td>251.15</td>\n",
       "      <td>253.00</td>\n",
       "      <td>251.15</td>\n",
       "      <td>253.00</td>\n",
       "      <td>2.049007</td>\n",
       "      <td>5.526050</td>\n",
       "      <td>5.533389</td>\n",
       "      <td>5.526050</td>\n",
       "      <td>5.533389</td>\n",
       "      <td>250.356163</td>\n",
       "      <td>2.643837</td>\n",
       "      <td>249.067443</td>\n",
       "      <td>3.932557</td>\n",
       "      <td>249.408743</td>\n",
       "      <td>3.591257</td>\n",
       "      <td>248.248108</td>\n",
       "      <td>4.751892</td>\n",
       "      <td>248.686349</td>\n",
       "      <td>4.313651</td>\n",
       "      <td>248.159307</td>\n",
       "      <td>4.840693</td>\n",
       "      <td>247.752892</td>\n",
       "      <td>5.247108</td>\n",
       "      <td>247.490141</td>\n",
       "      <td>5.509859</td>\n",
       "      <td>70.156196</td>\n",
       "      <td>65.489000</td>\n",
       "      <td>54.236740</td>\n",
       "      <td>249.1455</td>\n",
       "      <td>253.370047</td>\n",
       "      <td>244.920953</td>\n",
       "      <td>-0.370047</td>\n",
       "      <td>8.079047</td>\n",
       "      <td>-0.764116</td>\n",
       "      <td>0.736612</td>\n",
       "      <td>1.85</td>\n",
       "      <td>8.449094</td>\n",
       "      <td>252.075</td>\n",
       "      <td>59.862870</td>\n",
       "      <td>0.956203</td>\n",
       "    </tr>\n",
       "    <tr>\n",
       "      <th>...</th>\n",
       "      <td>...</td>\n",
       "      <td>...</td>\n",
       "      <td>...</td>\n",
       "      <td>...</td>\n",
       "      <td>...</td>\n",
       "      <td>...</td>\n",
       "      <td>...</td>\n",
       "      <td>...</td>\n",
       "      <td>...</td>\n",
       "      <td>...</td>\n",
       "      <td>...</td>\n",
       "      <td>...</td>\n",
       "      <td>...</td>\n",
       "      <td>...</td>\n",
       "      <td>...</td>\n",
       "      <td>...</td>\n",
       "      <td>...</td>\n",
       "      <td>...</td>\n",
       "      <td>...</td>\n",
       "      <td>...</td>\n",
       "      <td>...</td>\n",
       "      <td>...</td>\n",
       "      <td>...</td>\n",
       "      <td>...</td>\n",
       "      <td>...</td>\n",
       "      <td>...</td>\n",
       "      <td>...</td>\n",
       "      <td>...</td>\n",
       "      <td>...</td>\n",
       "      <td>...</td>\n",
       "      <td>...</td>\n",
       "      <td>...</td>\n",
       "      <td>...</td>\n",
       "      <td>...</td>\n",
       "      <td>...</td>\n",
       "      <td>...</td>\n",
       "      <td>...</td>\n",
       "      <td>...</td>\n",
       "      <td>...</td>\n",
       "      <td>...</td>\n",
       "    </tr>\n",
       "    <tr>\n",
       "      <th>2021-08-12 04:00:00</th>\n",
       "      <td>45948.06</td>\n",
       "      <td>46023.08</td>\n",
       "      <td>44859.80</td>\n",
       "      <td>45289.65</td>\n",
       "      <td>89.766358</td>\n",
       "      <td>10.735267</td>\n",
       "      <td>10.736898</td>\n",
       "      <td>10.711297</td>\n",
       "      <td>10.720834</td>\n",
       "      <td>45724.558435</td>\n",
       "      <td>-434.908435</td>\n",
       "      <td>45054.798801</td>\n",
       "      <td>234.851199</td>\n",
       "      <td>45334.610373</td>\n",
       "      <td>-44.960373</td>\n",
       "      <td>43717.075185</td>\n",
       "      <td>1572.574815</td>\n",
       "      <td>44593.205995</td>\n",
       "      <td>696.444005</td>\n",
       "      <td>43460.156732</td>\n",
       "      <td>1829.493268</td>\n",
       "      <td>41527.258770</td>\n",
       "      <td>3762.391230</td>\n",
       "      <td>39078.597057</td>\n",
       "      <td>6211.052943</td>\n",
       "      <td>52.486887</td>\n",
       "      <td>6.135417</td>\n",
       "      <td>21.365438</td>\n",
       "      <td>45629.8145</td>\n",
       "      <td>47153.082172</td>\n",
       "      <td>44106.546828</td>\n",
       "      <td>-1863.432172</td>\n",
       "      <td>1183.103172</td>\n",
       "      <td>0.800303</td>\n",
       "      <td>-1.432944</td>\n",
       "      <td>-658.41</td>\n",
       "      <td>3046.535344</td>\n",
       "      <td>45441.440</td>\n",
       "      <td>13.750427</td>\n",
       "      <td>0.388344</td>\n",
       "    </tr>\n",
       "    <tr>\n",
       "      <th>2021-08-12 08:00:00</th>\n",
       "      <td>45289.65</td>\n",
       "      <td>45663.34</td>\n",
       "      <td>44670.18</td>\n",
       "      <td>44758.93</td>\n",
       "      <td>69.830994</td>\n",
       "      <td>10.720834</td>\n",
       "      <td>10.729051</td>\n",
       "      <td>10.707061</td>\n",
       "      <td>10.709046</td>\n",
       "      <td>45576.000214</td>\n",
       "      <td>-817.070214</td>\n",
       "      <td>45032.882594</td>\n",
       "      <td>-273.952594</td>\n",
       "      <td>45282.275793</td>\n",
       "      <td>-523.345793</td>\n",
       "      <td>43757.932237</td>\n",
       "      <td>1000.997763</td>\n",
       "      <td>44602.675938</td>\n",
       "      <td>156.254062</td>\n",
       "      <td>43506.541492</td>\n",
       "      <td>1252.388508</td>\n",
       "      <td>41591.892194</td>\n",
       "      <td>3167.037806</td>\n",
       "      <td>39135.117782</td>\n",
       "      <td>5623.812218</td>\n",
       "      <td>48.141461</td>\n",
       "      <td>6.135417</td>\n",
       "      <td>11.886482</td>\n",
       "      <td>45691.2940</td>\n",
       "      <td>46930.350348</td>\n",
       "      <td>44452.237652</td>\n",
       "      <td>-2171.420348</td>\n",
       "      <td>306.692348</td>\n",
       "      <td>-0.222081</td>\n",
       "      <td>-1.171835</td>\n",
       "      <td>-530.72</td>\n",
       "      <td>2478.112696</td>\n",
       "      <td>45166.760</td>\n",
       "      <td>9.010949</td>\n",
       "      <td>0.123760</td>\n",
       "    </tr>\n",
       "    <tr>\n",
       "      <th>2021-08-12 12:00:00</th>\n",
       "      <td>44758.93</td>\n",
       "      <td>44956.97</td>\n",
       "      <td>43923.00</td>\n",
       "      <td>44204.11</td>\n",
       "      <td>114.602881</td>\n",
       "      <td>10.709046</td>\n",
       "      <td>10.713461</td>\n",
       "      <td>10.690193</td>\n",
       "      <td>10.696573</td>\n",
       "      <td>45364.940181</td>\n",
       "      <td>-1160.830181</td>\n",
       "      <td>44971.492031</td>\n",
       "      <td>-767.382031</td>\n",
       "      <td>45184.260721</td>\n",
       "      <td>-980.150721</td>\n",
       "      <td>43775.429404</td>\n",
       "      <td>428.680596</td>\n",
       "      <td>44579.900742</td>\n",
       "      <td>-375.790742</td>\n",
       "      <td>43531.454653</td>\n",
       "      <td>672.655347</td>\n",
       "      <td>41644.136550</td>\n",
       "      <td>2559.973450</td>\n",
       "      <td>39185.555516</td>\n",
       "      <td>5018.554484</td>\n",
       "      <td>44.036875</td>\n",
       "      <td>0.000000</td>\n",
       "      <td>4.090278</td>\n",
       "      <td>45708.6670</td>\n",
       "      <td>46844.888738</td>\n",
       "      <td>44572.445262</td>\n",
       "      <td>-2640.778738</td>\n",
       "      <td>-368.335262</td>\n",
       "      <td>0.641146</td>\n",
       "      <td>-1.239574</td>\n",
       "      <td>-554.82</td>\n",
       "      <td>2272.443476</td>\n",
       "      <td>44439.985</td>\n",
       "      <td>2.045139</td>\n",
       "      <td>-0.162088</td>\n",
       "    </tr>\n",
       "    <tr>\n",
       "      <th>2021-08-12 16:00:00</th>\n",
       "      <td>44204.11</td>\n",
       "      <td>44528.82</td>\n",
       "      <td>43800.00</td>\n",
       "      <td>44407.09</td>\n",
       "      <td>84.168365</td>\n",
       "      <td>10.696573</td>\n",
       "      <td>10.703892</td>\n",
       "      <td>10.687389</td>\n",
       "      <td>10.701154</td>\n",
       "      <td>45217.578615</td>\n",
       "      <td>-810.488615</td>\n",
       "      <td>44929.684473</td>\n",
       "      <td>-522.594473</td>\n",
       "      <td>45113.608837</td>\n",
       "      <td>-706.518837</td>\n",
       "      <td>43800.200408</td>\n",
       "      <td>606.889592</td>\n",
       "      <td>44570.025842</td>\n",
       "      <td>-162.935842</td>\n",
       "      <td>43562.727344</td>\n",
       "      <td>844.362656</td>\n",
       "      <td>41699.395619</td>\n",
       "      <td>2707.694381</td>\n",
       "      <td>39237.511083</td>\n",
       "      <td>5169.578917</td>\n",
       "      <td>45.855691</td>\n",
       "      <td>2.686161</td>\n",
       "      <td>2.940526</td>\n",
       "      <td>45629.4410</td>\n",
       "      <td>46896.078488</td>\n",
       "      <td>44362.803512</td>\n",
       "      <td>-2488.988488</td>\n",
       "      <td>44.286488</td>\n",
       "      <td>-0.265565</td>\n",
       "      <td>0.459188</td>\n",
       "      <td>202.98</td>\n",
       "      <td>2533.274975</td>\n",
       "      <td>44164.410</td>\n",
       "      <td>2.813343</td>\n",
       "      <td>0.017482</td>\n",
       "    </tr>\n",
       "    <tr>\n",
       "      <th>2021-08-12 20:00:00</th>\n",
       "      <td>44407.09</td>\n",
       "      <td>44578.23</td>\n",
       "      <td>43895.31</td>\n",
       "      <td>44430.99</td>\n",
       "      <td>61.694263</td>\n",
       "      <td>10.701154</td>\n",
       "      <td>10.705001</td>\n",
       "      <td>10.689563</td>\n",
       "      <td>10.701692</td>\n",
       "      <td>45096.564982</td>\n",
       "      <td>-665.574982</td>\n",
       "      <td>44892.744142</td>\n",
       "      <td>-461.754142</td>\n",
       "      <td>45051.552580</td>\n",
       "      <td>-620.562580</td>\n",
       "      <td>43824.937254</td>\n",
       "      <td>606.052746</td>\n",
       "      <td>44562.080937</td>\n",
       "      <td>-131.090937</td>\n",
       "      <td>43593.736724</td>\n",
       "      <td>837.253276</td>\n",
       "      <td>41754.027507</td>\n",
       "      <td>2676.962493</td>\n",
       "      <td>39289.187490</td>\n",
       "      <td>5141.802510</td>\n",
       "      <td>46.077911</td>\n",
       "      <td>5.700512</td>\n",
       "      <td>2.795558</td>\n",
       "      <td>45555.4450</td>\n",
       "      <td>46921.831848</td>\n",
       "      <td>44189.058152</td>\n",
       "      <td>-2490.841848</td>\n",
       "      <td>241.931848</td>\n",
       "      <td>-0.267014</td>\n",
       "      <td>0.053820</td>\n",
       "      <td>23.90</td>\n",
       "      <td>2732.773696</td>\n",
       "      <td>44236.770</td>\n",
       "      <td>4.248035</td>\n",
       "      <td>0.088530</td>\n",
       "    </tr>\n",
       "  </tbody>\n",
       "</table>\n",
       "<p>12775 rows × 40 columns</p>\n",
       "</div>"
      ],
      "text/plain": [
       "                         open      high       low     close      volume  \\\n",
       "date                                                                      \n",
       "2015-10-13 20:00:00    250.35    250.42    250.00    250.42    4.212360   \n",
       "2015-10-14 00:00:00    250.42    251.08    250.42    251.00   13.965352   \n",
       "2015-10-14 04:00:00    251.00    251.00    250.70    251.00   12.449493   \n",
       "2015-10-14 08:00:00    251.00    251.86    251.00    251.15    8.686492   \n",
       "2015-10-14 12:00:00    251.15    253.00    251.15    253.00    2.049007   \n",
       "...                       ...       ...       ...       ...         ...   \n",
       "2021-08-12 04:00:00  45948.06  46023.08  44859.80  45289.65   89.766358   \n",
       "2021-08-12 08:00:00  45289.65  45663.34  44670.18  44758.93   69.830994   \n",
       "2021-08-12 12:00:00  44758.93  44956.97  43923.00  44204.11  114.602881   \n",
       "2021-08-12 16:00:00  44204.11  44528.82  43800.00  44407.09   84.168365   \n",
       "2021-08-12 20:00:00  44407.09  44578.23  43895.31  44430.99   61.694263   \n",
       "\n",
       "                      log_open   log_high    log_low  log_close         ema12  \\\n",
       "date                                                                            \n",
       "2015-10-13 20:00:00   5.522860   5.523140   5.521461   5.523140    249.099717   \n",
       "2015-10-14 00:00:00   5.523140   5.525772   5.523140   5.525453    249.393253   \n",
       "2015-10-14 04:00:00   5.525453   5.525453   5.524257   5.525453    249.641291   \n",
       "2015-10-14 08:00:00   5.525453   5.528873   5.525453   5.526050    249.874073   \n",
       "2015-10-14 12:00:00   5.526050   5.533389   5.526050   5.533389    250.356163   \n",
       "...                        ...        ...        ...        ...           ...   \n",
       "2021-08-12 04:00:00  10.735267  10.736898  10.711297  10.720834  45724.558435   \n",
       "2021-08-12 08:00:00  10.720834  10.729051  10.707061  10.709046  45576.000214   \n",
       "2021-08-12 12:00:00  10.709046  10.713461  10.690193  10.696573  45364.940181   \n",
       "2021-08-12 16:00:00  10.696573  10.703892  10.687389  10.701154  45217.578615   \n",
       "2021-08-12 20:00:00  10.701154  10.705001  10.689563  10.701692  45096.564982   \n",
       "\n",
       "                      dist_ema12         ema26  dist_ema26         ema21  \\\n",
       "date                                                                       \n",
       "2015-10-13 20:00:00     1.320283    248.070267    2.349733    248.335037   \n",
       "2015-10-14 00:00:00     1.606747    248.305871    2.694129    248.588207   \n",
       "2015-10-14 04:00:00     1.358709    248.521162    2.478838    248.816393   \n",
       "2015-10-14 08:00:00     1.275927    248.730016    2.419984    249.036367   \n",
       "2015-10-14 12:00:00     2.643837    249.067443    3.932557    249.408743   \n",
       "...                          ...           ...         ...           ...   \n",
       "2021-08-12 04:00:00  -434.908435  45054.798801  234.851199  45334.610373   \n",
       "2021-08-12 08:00:00  -817.070214  45032.882594 -273.952594  45282.275793   \n",
       "2021-08-12 12:00:00 -1160.830181  44971.492031 -767.382031  45184.260721   \n",
       "2021-08-12 16:00:00  -810.488615  44929.684473 -522.594473  45113.608837   \n",
       "2021-08-12 20:00:00  -665.574982  44892.744142 -461.754142  45051.552580   \n",
       "\n",
       "                     dist_ema21         ema50   dist_ema50         ema34  \\\n",
       "date                                                                       \n",
       "2015-10-13 20:00:00    2.084963    247.450021     2.969979    247.779579   \n",
       "2015-10-14 00:00:00    2.411793    247.639969     3.360031    247.994423   \n",
       "2015-10-14 04:00:00    2.183607    247.817220     3.182780    248.193034   \n",
       "2015-10-14 08:00:00    2.113633    247.990685     3.159315    248.386702   \n",
       "2015-10-14 12:00:00    3.591257    248.248108     4.751892    248.686349   \n",
       "...                         ...           ...          ...           ...   \n",
       "2021-08-12 04:00:00  -44.960373  43717.075185  1572.574815  44593.205995   \n",
       "2021-08-12 08:00:00 -523.345793  43757.932237  1000.997763  44602.675938   \n",
       "2021-08-12 12:00:00 -980.150721  43775.429404   428.680596  44579.900742   \n",
       "2021-08-12 16:00:00 -706.518837  43800.200408   606.889592  44570.025842   \n",
       "2021-08-12 20:00:00 -620.562580  43824.937254   606.052746  44562.080937   \n",
       "\n",
       "                     dist_ema34         ema55   dist_ema55         ema99  \\\n",
       "date                                                                       \n",
       "2015-10-13 20:00:00    2.640421    247.383678     3.036322    247.081105   \n",
       "2015-10-14 00:00:00    3.005577    247.568489     3.431511    247.242179   \n",
       "2015-10-14 04:00:00    2.806966    247.741197     3.258803    247.393441   \n",
       "2015-10-14 08:00:00    2.763298    247.910291     3.239709    247.541651   \n",
       "2015-10-14 12:00:00    4.313651    248.159307     4.840693    247.752892   \n",
       "...                         ...           ...          ...           ...   \n",
       "2021-08-12 04:00:00  696.444005  43460.156732  1829.493268  41527.258770   \n",
       "2021-08-12 08:00:00  156.254062  43506.541492  1252.388508  41591.892194   \n",
       "2021-08-12 12:00:00 -375.790742  43531.454653   672.655347  41644.136550   \n",
       "2021-08-12 16:00:00 -162.935842  43562.727344   844.362656  41699.395619   \n",
       "2021-08-12 20:00:00 -131.090937  43593.736724   837.253276  41754.027507   \n",
       "\n",
       "                      dist_ema99        ema200  dist_ema200        rsi  \\\n",
       "date                                                                     \n",
       "2015-10-13 20:00:00     3.338895    246.885832     3.534168  62.138793   \n",
       "2015-10-14 00:00:00     3.757821    247.031474     3.968526  63.970662   \n",
       "2015-10-14 04:00:00     3.606559    247.168475     3.831525  63.970662   \n",
       "2015-10-14 08:00:00     3.608349    247.302627     3.847373  64.486046   \n",
       "2015-10-14 12:00:00     5.247108    247.490141     5.509859  70.156196   \n",
       "...                          ...           ...          ...        ...   \n",
       "2021-08-12 04:00:00  3762.391230  39078.597057  6211.052943  52.486887   \n",
       "2021-08-12 08:00:00  3167.037806  39135.117782  5623.812218  48.141461   \n",
       "2021-08-12 12:00:00  2559.973450  39185.555516  5018.554484  44.036875   \n",
       "2021-08-12 16:00:00  2707.694381  39237.511083  5169.578917  45.855691   \n",
       "2021-08-12 20:00:00  2676.962493  39289.187490  5141.802510  46.077911   \n",
       "\n",
       "                             K          D         sma  bollinger_up  \\\n",
       "date                                                                  \n",
       "2015-10-13 20:00:00  40.155130  46.356355    248.0515    251.988559   \n",
       "2015-10-14 00:00:00  40.046929  43.466354    248.3330    252.267876   \n",
       "2015-10-14 04:00:00  44.894745  41.698935    248.5680    252.552727   \n",
       "2015-10-14 08:00:00  52.326475  45.756050    248.8105    252.804377   \n",
       "2015-10-14 12:00:00  65.489000  54.236740    249.1455    253.370047   \n",
       "...                        ...        ...         ...           ...   \n",
       "2021-08-12 04:00:00   6.135417  21.365438  45629.8145  47153.082172   \n",
       "2021-08-12 08:00:00   6.135417  11.886482  45691.2940  46930.350348   \n",
       "2021-08-12 12:00:00   0.000000   4.090278  45708.6670  46844.888738   \n",
       "2021-08-12 16:00:00   2.686161   2.940526  45629.4410  46896.078488   \n",
       "2021-08-12 20:00:00   5.700512   2.795558  45555.4450  46921.831848   \n",
       "\n",
       "                     bollinger_down  dist_bollinger_up  dist_bollinger_down  \\\n",
       "date                                                                          \n",
       "2015-10-13 20:00:00      244.114441          -1.568559             6.305559   \n",
       "2015-10-14 00:00:00      244.398124          -1.267876             6.601876   \n",
       "2015-10-14 04:00:00      244.583273          -1.552727             6.416727   \n",
       "2015-10-14 08:00:00      244.816623          -1.654377             6.333377   \n",
       "2015-10-14 12:00:00      244.920953          -0.370047             8.079047   \n",
       "...                             ...                ...                  ...   \n",
       "2021-08-12 04:00:00    44106.546828       -1863.432172          1183.103172   \n",
       "2021-08-12 08:00:00    44452.237652       -2171.420348           306.692348   \n",
       "2021-08-12 12:00:00    44572.445262       -2640.778738          -368.335262   \n",
       "2021-08-12 16:00:00    44362.803512       -2488.988488            44.286488   \n",
       "2021-08-12 20:00:00    44189.058152       -2490.841848           241.931848   \n",
       "\n",
       "                      vol_roc  4h Return  4h Gradient   boll_width  \\\n",
       "date                                                                 \n",
       "2015-10-13 20:00:00  1.008111   0.027961         0.07     7.874118   \n",
       "2015-10-14 00:00:00  2.315327   0.231611         0.58     7.869751   \n",
       "2015-10-14 04:00:00 -0.108544   0.000000         0.00     7.969453   \n",
       "2015-10-14 08:00:00 -0.302261   0.059761         0.15     7.987754   \n",
       "2015-10-14 12:00:00 -0.764116   0.736612         1.85     8.449094   \n",
       "...                       ...        ...          ...          ...   \n",
       "2021-08-12 04:00:00  0.800303  -1.432944      -658.41  3046.535344   \n",
       "2021-08-12 08:00:00 -0.222081  -1.171835      -530.72  2478.112696   \n",
       "2021-08-12 12:00:00  0.641146  -1.239574      -554.82  2272.443476   \n",
       "2021-08-12 16:00:00 -0.265565   0.459188       202.98  2533.274975   \n",
       "2021-08-12 20:00:00 -0.267014   0.053820        23.90  2732.773696   \n",
       "\n",
       "                     high_low_avg  stoch_rsi   perc_bb  \n",
       "date                                                    \n",
       "2015-10-13 20:00:00       250.210  43.255743  0.800796  \n",
       "2015-10-14 00:00:00       250.750  41.756642  0.838893  \n",
       "2015-10-14 04:00:00       250.850  43.296840  0.805165  \n",
       "2015-10-14 08:00:00       251.430  49.041263  0.792886  \n",
       "2015-10-14 12:00:00       252.075  59.862870  0.956203  \n",
       "...                           ...        ...       ...  \n",
       "2021-08-12 04:00:00     45441.440  13.750427  0.388344  \n",
       "2021-08-12 08:00:00     45166.760   9.010949  0.123760  \n",
       "2021-08-12 12:00:00     44439.985   2.045139 -0.162088  \n",
       "2021-08-12 16:00:00     44164.410   2.813343  0.017482  \n",
       "2021-08-12 20:00:00     44236.770   4.248035  0.088530  \n",
       "\n",
       "[12775 rows x 40 columns]"
      ]
     },
     "execution_count": 8,
     "metadata": {},
     "output_type": "execute_result"
    }
   ],
   "source": [
    "data"
   ]
  },
  {
   "cell_type": "code",
   "execution_count": 9,
   "metadata": {},
   "outputs": [],
   "source": [
    "data['high_low_avg'] =  data[['high','low']].mean(axis=1)\n",
    "\n"
   ]
  },
  {
   "cell_type": "code",
   "execution_count": 10,
   "metadata": {},
   "outputs": [
    {
     "data": {
      "text/html": [
       "<div>\n",
       "<style scoped>\n",
       "    .dataframe tbody tr th:only-of-type {\n",
       "        vertical-align: middle;\n",
       "    }\n",
       "\n",
       "    .dataframe tbody tr th {\n",
       "        vertical-align: top;\n",
       "    }\n",
       "\n",
       "    .dataframe thead th {\n",
       "        text-align: right;\n",
       "    }\n",
       "</style>\n",
       "<table border=\"1\" class=\"dataframe\">\n",
       "  <thead>\n",
       "    <tr style=\"text-align: right;\">\n",
       "      <th></th>\n",
       "      <th>open</th>\n",
       "      <th>high</th>\n",
       "      <th>low</th>\n",
       "      <th>close</th>\n",
       "      <th>volume</th>\n",
       "      <th>log_open</th>\n",
       "      <th>log_high</th>\n",
       "      <th>log_low</th>\n",
       "      <th>log_close</th>\n",
       "      <th>ema12</th>\n",
       "      <th>dist_ema12</th>\n",
       "      <th>ema26</th>\n",
       "      <th>dist_ema26</th>\n",
       "      <th>ema21</th>\n",
       "      <th>dist_ema21</th>\n",
       "      <th>ema50</th>\n",
       "      <th>dist_ema50</th>\n",
       "      <th>ema34</th>\n",
       "      <th>dist_ema34</th>\n",
       "      <th>ema55</th>\n",
       "      <th>dist_ema55</th>\n",
       "      <th>ema99</th>\n",
       "      <th>dist_ema99</th>\n",
       "      <th>ema200</th>\n",
       "      <th>dist_ema200</th>\n",
       "      <th>rsi</th>\n",
       "      <th>K</th>\n",
       "      <th>D</th>\n",
       "      <th>sma</th>\n",
       "      <th>bollinger_up</th>\n",
       "      <th>bollinger_down</th>\n",
       "      <th>dist_bollinger_up</th>\n",
       "      <th>dist_bollinger_down</th>\n",
       "      <th>vol_roc</th>\n",
       "      <th>4h Return</th>\n",
       "      <th>4h Gradient</th>\n",
       "      <th>boll_width</th>\n",
       "      <th>high_low_avg</th>\n",
       "      <th>stoch_rsi</th>\n",
       "      <th>perc_bb</th>\n",
       "    </tr>\n",
       "    <tr>\n",
       "      <th>date</th>\n",
       "      <th></th>\n",
       "      <th></th>\n",
       "      <th></th>\n",
       "      <th></th>\n",
       "      <th></th>\n",
       "      <th></th>\n",
       "      <th></th>\n",
       "      <th></th>\n",
       "      <th></th>\n",
       "      <th></th>\n",
       "      <th></th>\n",
       "      <th></th>\n",
       "      <th></th>\n",
       "      <th></th>\n",
       "      <th></th>\n",
       "      <th></th>\n",
       "      <th></th>\n",
       "      <th></th>\n",
       "      <th></th>\n",
       "      <th></th>\n",
       "      <th></th>\n",
       "      <th></th>\n",
       "      <th></th>\n",
       "      <th></th>\n",
       "      <th></th>\n",
       "      <th></th>\n",
       "      <th></th>\n",
       "      <th></th>\n",
       "      <th></th>\n",
       "      <th></th>\n",
       "      <th></th>\n",
       "      <th></th>\n",
       "      <th></th>\n",
       "      <th></th>\n",
       "      <th></th>\n",
       "      <th></th>\n",
       "      <th></th>\n",
       "      <th></th>\n",
       "      <th></th>\n",
       "      <th></th>\n",
       "    </tr>\n",
       "  </thead>\n",
       "  <tbody>\n",
       "    <tr>\n",
       "      <th>2015-10-13 20:00:00</th>\n",
       "      <td>250.35</td>\n",
       "      <td>250.42</td>\n",
       "      <td>250.00</td>\n",
       "      <td>250.42</td>\n",
       "      <td>4.212360</td>\n",
       "      <td>5.522860</td>\n",
       "      <td>5.523140</td>\n",
       "      <td>5.521461</td>\n",
       "      <td>5.523140</td>\n",
       "      <td>249.099717</td>\n",
       "      <td>1.320283</td>\n",
       "      <td>248.070267</td>\n",
       "      <td>2.349733</td>\n",
       "      <td>248.335037</td>\n",
       "      <td>2.084963</td>\n",
       "      <td>247.450021</td>\n",
       "      <td>2.969979</td>\n",
       "      <td>247.779579</td>\n",
       "      <td>2.640421</td>\n",
       "      <td>247.383678</td>\n",
       "      <td>3.036322</td>\n",
       "      <td>247.081105</td>\n",
       "      <td>3.338895</td>\n",
       "      <td>246.885832</td>\n",
       "      <td>3.534168</td>\n",
       "      <td>62.138793</td>\n",
       "      <td>40.155130</td>\n",
       "      <td>46.356355</td>\n",
       "      <td>248.0515</td>\n",
       "      <td>251.988559</td>\n",
       "      <td>244.114441</td>\n",
       "      <td>-1.568559</td>\n",
       "      <td>6.305559</td>\n",
       "      <td>1.008111</td>\n",
       "      <td>0.027961</td>\n",
       "      <td>0.07</td>\n",
       "      <td>7.874118</td>\n",
       "      <td>250.210</td>\n",
       "      <td>43.255743</td>\n",
       "      <td>0.800796</td>\n",
       "    </tr>\n",
       "    <tr>\n",
       "      <th>2015-10-14 00:00:00</th>\n",
       "      <td>250.42</td>\n",
       "      <td>251.08</td>\n",
       "      <td>250.42</td>\n",
       "      <td>251.00</td>\n",
       "      <td>13.965352</td>\n",
       "      <td>5.523140</td>\n",
       "      <td>5.525772</td>\n",
       "      <td>5.523140</td>\n",
       "      <td>5.525453</td>\n",
       "      <td>249.393253</td>\n",
       "      <td>1.606747</td>\n",
       "      <td>248.305871</td>\n",
       "      <td>2.694129</td>\n",
       "      <td>248.588207</td>\n",
       "      <td>2.411793</td>\n",
       "      <td>247.639969</td>\n",
       "      <td>3.360031</td>\n",
       "      <td>247.994423</td>\n",
       "      <td>3.005577</td>\n",
       "      <td>247.568489</td>\n",
       "      <td>3.431511</td>\n",
       "      <td>247.242179</td>\n",
       "      <td>3.757821</td>\n",
       "      <td>247.031474</td>\n",
       "      <td>3.968526</td>\n",
       "      <td>63.970662</td>\n",
       "      <td>40.046929</td>\n",
       "      <td>43.466354</td>\n",
       "      <td>248.3330</td>\n",
       "      <td>252.267876</td>\n",
       "      <td>244.398124</td>\n",
       "      <td>-1.267876</td>\n",
       "      <td>6.601876</td>\n",
       "      <td>2.315327</td>\n",
       "      <td>0.231611</td>\n",
       "      <td>0.58</td>\n",
       "      <td>7.869751</td>\n",
       "      <td>250.750</td>\n",
       "      <td>41.756642</td>\n",
       "      <td>0.838893</td>\n",
       "    </tr>\n",
       "    <tr>\n",
       "      <th>2015-10-14 04:00:00</th>\n",
       "      <td>251.00</td>\n",
       "      <td>251.00</td>\n",
       "      <td>250.70</td>\n",
       "      <td>251.00</td>\n",
       "      <td>12.449493</td>\n",
       "      <td>5.525453</td>\n",
       "      <td>5.525453</td>\n",
       "      <td>5.524257</td>\n",
       "      <td>5.525453</td>\n",
       "      <td>249.641291</td>\n",
       "      <td>1.358709</td>\n",
       "      <td>248.521162</td>\n",
       "      <td>2.478838</td>\n",
       "      <td>248.816393</td>\n",
       "      <td>2.183607</td>\n",
       "      <td>247.817220</td>\n",
       "      <td>3.182780</td>\n",
       "      <td>248.193034</td>\n",
       "      <td>2.806966</td>\n",
       "      <td>247.741197</td>\n",
       "      <td>3.258803</td>\n",
       "      <td>247.393441</td>\n",
       "      <td>3.606559</td>\n",
       "      <td>247.168475</td>\n",
       "      <td>3.831525</td>\n",
       "      <td>63.970662</td>\n",
       "      <td>44.894745</td>\n",
       "      <td>41.698935</td>\n",
       "      <td>248.5680</td>\n",
       "      <td>252.552727</td>\n",
       "      <td>244.583273</td>\n",
       "      <td>-1.552727</td>\n",
       "      <td>6.416727</td>\n",
       "      <td>-0.108544</td>\n",
       "      <td>0.000000</td>\n",
       "      <td>0.00</td>\n",
       "      <td>7.969453</td>\n",
       "      <td>250.850</td>\n",
       "      <td>43.296840</td>\n",
       "      <td>0.805165</td>\n",
       "    </tr>\n",
       "    <tr>\n",
       "      <th>2015-10-14 08:00:00</th>\n",
       "      <td>251.00</td>\n",
       "      <td>251.86</td>\n",
       "      <td>251.00</td>\n",
       "      <td>251.15</td>\n",
       "      <td>8.686492</td>\n",
       "      <td>5.525453</td>\n",
       "      <td>5.528873</td>\n",
       "      <td>5.525453</td>\n",
       "      <td>5.526050</td>\n",
       "      <td>249.874073</td>\n",
       "      <td>1.275927</td>\n",
       "      <td>248.730016</td>\n",
       "      <td>2.419984</td>\n",
       "      <td>249.036367</td>\n",
       "      <td>2.113633</td>\n",
       "      <td>247.990685</td>\n",
       "      <td>3.159315</td>\n",
       "      <td>248.386702</td>\n",
       "      <td>2.763298</td>\n",
       "      <td>247.910291</td>\n",
       "      <td>3.239709</td>\n",
       "      <td>247.541651</td>\n",
       "      <td>3.608349</td>\n",
       "      <td>247.302627</td>\n",
       "      <td>3.847373</td>\n",
       "      <td>64.486046</td>\n",
       "      <td>52.326475</td>\n",
       "      <td>45.756050</td>\n",
       "      <td>248.8105</td>\n",
       "      <td>252.804377</td>\n",
       "      <td>244.816623</td>\n",
       "      <td>-1.654377</td>\n",
       "      <td>6.333377</td>\n",
       "      <td>-0.302261</td>\n",
       "      <td>0.059761</td>\n",
       "      <td>0.15</td>\n",
       "      <td>7.987754</td>\n",
       "      <td>251.430</td>\n",
       "      <td>49.041263</td>\n",
       "      <td>0.792886</td>\n",
       "    </tr>\n",
       "    <tr>\n",
       "      <th>2015-10-14 12:00:00</th>\n",
       "      <td>251.15</td>\n",
       "      <td>253.00</td>\n",
       "      <td>251.15</td>\n",
       "      <td>253.00</td>\n",
       "      <td>2.049007</td>\n",
       "      <td>5.526050</td>\n",
       "      <td>5.533389</td>\n",
       "      <td>5.526050</td>\n",
       "      <td>5.533389</td>\n",
       "      <td>250.356163</td>\n",
       "      <td>2.643837</td>\n",
       "      <td>249.067443</td>\n",
       "      <td>3.932557</td>\n",
       "      <td>249.408743</td>\n",
       "      <td>3.591257</td>\n",
       "      <td>248.248108</td>\n",
       "      <td>4.751892</td>\n",
       "      <td>248.686349</td>\n",
       "      <td>4.313651</td>\n",
       "      <td>248.159307</td>\n",
       "      <td>4.840693</td>\n",
       "      <td>247.752892</td>\n",
       "      <td>5.247108</td>\n",
       "      <td>247.490141</td>\n",
       "      <td>5.509859</td>\n",
       "      <td>70.156196</td>\n",
       "      <td>65.489000</td>\n",
       "      <td>54.236740</td>\n",
       "      <td>249.1455</td>\n",
       "      <td>253.370047</td>\n",
       "      <td>244.920953</td>\n",
       "      <td>-0.370047</td>\n",
       "      <td>8.079047</td>\n",
       "      <td>-0.764116</td>\n",
       "      <td>0.736612</td>\n",
       "      <td>1.85</td>\n",
       "      <td>8.449094</td>\n",
       "      <td>252.075</td>\n",
       "      <td>59.862870</td>\n",
       "      <td>0.956203</td>\n",
       "    </tr>\n",
       "  </tbody>\n",
       "</table>\n",
       "</div>"
      ],
      "text/plain": [
       "                       open    high     low   close     volume  log_open  \\\n",
       "date                                                                       \n",
       "2015-10-13 20:00:00  250.35  250.42  250.00  250.42   4.212360  5.522860   \n",
       "2015-10-14 00:00:00  250.42  251.08  250.42  251.00  13.965352  5.523140   \n",
       "2015-10-14 04:00:00  251.00  251.00  250.70  251.00  12.449493  5.525453   \n",
       "2015-10-14 08:00:00  251.00  251.86  251.00  251.15   8.686492  5.525453   \n",
       "2015-10-14 12:00:00  251.15  253.00  251.15  253.00   2.049007  5.526050   \n",
       "\n",
       "                     log_high   log_low  log_close       ema12  dist_ema12  \\\n",
       "date                                                                         \n",
       "2015-10-13 20:00:00  5.523140  5.521461   5.523140  249.099717    1.320283   \n",
       "2015-10-14 00:00:00  5.525772  5.523140   5.525453  249.393253    1.606747   \n",
       "2015-10-14 04:00:00  5.525453  5.524257   5.525453  249.641291    1.358709   \n",
       "2015-10-14 08:00:00  5.528873  5.525453   5.526050  249.874073    1.275927   \n",
       "2015-10-14 12:00:00  5.533389  5.526050   5.533389  250.356163    2.643837   \n",
       "\n",
       "                          ema26  dist_ema26       ema21  dist_ema21  \\\n",
       "date                                                                  \n",
       "2015-10-13 20:00:00  248.070267    2.349733  248.335037    2.084963   \n",
       "2015-10-14 00:00:00  248.305871    2.694129  248.588207    2.411793   \n",
       "2015-10-14 04:00:00  248.521162    2.478838  248.816393    2.183607   \n",
       "2015-10-14 08:00:00  248.730016    2.419984  249.036367    2.113633   \n",
       "2015-10-14 12:00:00  249.067443    3.932557  249.408743    3.591257   \n",
       "\n",
       "                          ema50  dist_ema50       ema34  dist_ema34  \\\n",
       "date                                                                  \n",
       "2015-10-13 20:00:00  247.450021    2.969979  247.779579    2.640421   \n",
       "2015-10-14 00:00:00  247.639969    3.360031  247.994423    3.005577   \n",
       "2015-10-14 04:00:00  247.817220    3.182780  248.193034    2.806966   \n",
       "2015-10-14 08:00:00  247.990685    3.159315  248.386702    2.763298   \n",
       "2015-10-14 12:00:00  248.248108    4.751892  248.686349    4.313651   \n",
       "\n",
       "                          ema55  dist_ema55       ema99  dist_ema99  \\\n",
       "date                                                                  \n",
       "2015-10-13 20:00:00  247.383678    3.036322  247.081105    3.338895   \n",
       "2015-10-14 00:00:00  247.568489    3.431511  247.242179    3.757821   \n",
       "2015-10-14 04:00:00  247.741197    3.258803  247.393441    3.606559   \n",
       "2015-10-14 08:00:00  247.910291    3.239709  247.541651    3.608349   \n",
       "2015-10-14 12:00:00  248.159307    4.840693  247.752892    5.247108   \n",
       "\n",
       "                         ema200  dist_ema200        rsi          K          D  \\\n",
       "date                                                                            \n",
       "2015-10-13 20:00:00  246.885832     3.534168  62.138793  40.155130  46.356355   \n",
       "2015-10-14 00:00:00  247.031474     3.968526  63.970662  40.046929  43.466354   \n",
       "2015-10-14 04:00:00  247.168475     3.831525  63.970662  44.894745  41.698935   \n",
       "2015-10-14 08:00:00  247.302627     3.847373  64.486046  52.326475  45.756050   \n",
       "2015-10-14 12:00:00  247.490141     5.509859  70.156196  65.489000  54.236740   \n",
       "\n",
       "                          sma  bollinger_up  bollinger_down  \\\n",
       "date                                                          \n",
       "2015-10-13 20:00:00  248.0515    251.988559      244.114441   \n",
       "2015-10-14 00:00:00  248.3330    252.267876      244.398124   \n",
       "2015-10-14 04:00:00  248.5680    252.552727      244.583273   \n",
       "2015-10-14 08:00:00  248.8105    252.804377      244.816623   \n",
       "2015-10-14 12:00:00  249.1455    253.370047      244.920953   \n",
       "\n",
       "                     dist_bollinger_up  dist_bollinger_down   vol_roc  \\\n",
       "date                                                                    \n",
       "2015-10-13 20:00:00          -1.568559             6.305559  1.008111   \n",
       "2015-10-14 00:00:00          -1.267876             6.601876  2.315327   \n",
       "2015-10-14 04:00:00          -1.552727             6.416727 -0.108544   \n",
       "2015-10-14 08:00:00          -1.654377             6.333377 -0.302261   \n",
       "2015-10-14 12:00:00          -0.370047             8.079047 -0.764116   \n",
       "\n",
       "                     4h Return  4h Gradient  boll_width  high_low_avg  \\\n",
       "date                                                                    \n",
       "2015-10-13 20:00:00   0.027961         0.07    7.874118       250.210   \n",
       "2015-10-14 00:00:00   0.231611         0.58    7.869751       250.750   \n",
       "2015-10-14 04:00:00   0.000000         0.00    7.969453       250.850   \n",
       "2015-10-14 08:00:00   0.059761         0.15    7.987754       251.430   \n",
       "2015-10-14 12:00:00   0.736612         1.85    8.449094       252.075   \n",
       "\n",
       "                     stoch_rsi   perc_bb  \n",
       "date                                      \n",
       "2015-10-13 20:00:00  43.255743  0.800796  \n",
       "2015-10-14 00:00:00  41.756642  0.838893  \n",
       "2015-10-14 04:00:00  43.296840  0.805165  \n",
       "2015-10-14 08:00:00  49.041263  0.792886  \n",
       "2015-10-14 12:00:00  59.862870  0.956203  "
      ]
     },
     "execution_count": 10,
     "metadata": {},
     "output_type": "execute_result"
    }
   ],
   "source": [
    "data.head()"
   ]
  },
  {
   "cell_type": "code",
   "execution_count": 11,
   "metadata": {},
   "outputs": [
    {
     "data": {
      "text/plain": [
       "(12775, 40)"
      ]
     },
     "execution_count": 11,
     "metadata": {},
     "output_type": "execute_result"
    }
   ],
   "source": [
    "data.shape"
   ]
  },
  {
   "cell_type": "code",
   "execution_count": null,
   "metadata": {},
   "outputs": [],
   "source": []
  },
  {
   "cell_type": "markdown",
   "metadata": {
    "id": "omE_GM43TOaj"
   },
   "source": [
    "## Time-Series Visualisation"
   ]
  },
  {
   "cell_type": "markdown",
   "metadata": {
    "id": "9He6r2IBTOak"
   },
   "source": [
    "### Historical Stock Prices"
   ]
  },
  {
   "cell_type": "code",
   "execution_count": 12,
   "metadata": {
    "colab": {
     "base_uri": "https://localhost:8080/",
     "height": 433
    },
    "executionInfo": {
     "elapsed": 1080,
     "status": "ok",
     "timestamp": 1629966982994,
     "user": {
      "displayName": "Ivan Fernandes",
      "photoUrl": "https://lh3.googleusercontent.com/a-/AOh14GgHdj66drQjCguTVvVzCd5yy8cdMluPJPZlz_BQLg=s64",
      "userId": "12100132160237129013"
     },
     "user_tz": -120
    },
    "id": "Sn68mhkBTOak",
    "outputId": "2b9e59ce-9d71-4b4b-f8f2-ecaeeab6cc33"
   },
   "outputs": [
    {
     "data": {
      "image/png": "[encoded data removed]",
      "text/plain": [
       "<Figure size 1080x432 with 1 Axes>"
      ]
     },
     "metadata": {},
     "output_type": "display_data"
    }
   ],
   "source": [
    "# Let's see a historical view of the closing price\n",
    "\n",
    "plt.figure(figsize=(15, 6))\n",
    "plt.subplots_adjust(top=1.25, bottom=1.2)\n",
    "\n",
    "data['close'].plot()\n",
    "plt.ylabel('close')\n",
    "plt.xlabel(None)\n",
    "plt.title(f\"Closing Price of Bitcoin\")\n",
    "    \n",
    "plt.tight_layout()"
   ]
  },
  {
   "cell_type": "markdown",
   "metadata": {
    "id": "LOkzKw4OTOal"
   },
   "source": [
    "### Volumes traded"
   ]
  },
  {
   "cell_type": "code",
   "execution_count": 13,
   "metadata": {
    "colab": {
     "base_uri": "https://localhost:8080/",
     "height": 430
    },
    "executionInfo": {
     "elapsed": 709,
     "status": "ok",
     "timestamp": 1629966985093,
     "user": {
      "displayName": "Ivan Fernandes",
      "photoUrl": "https://lh3.googleusercontent.com/a-/AOh14GgHdj66drQjCguTVvVzCd5yy8cdMluPJPZlz_BQLg=s64",
      "userId": "12100132160237129013"
     },
     "user_tz": -120
    },
    "id": "icuzmUSpTOal",
    "outputId": "e9132fc3-f382-4188-ca4f-d214ebc4acc2"
   },
   "outputs": [
    {
     "data": {
      "image/png": "[encoded data removed]",
      "text/plain": [
       "<Figure size 1080x432 with 1 Axes>"
      ]
     },
     "metadata": {},
     "output_type": "display_data"
    }
   ],
   "source": [
    "# Let's see a historical view of the closing price\n",
    "\n",
    "plt.figure(figsize=(15, 6))\n",
    "plt.subplots_adjust(top=1.25, bottom=1.2)\n",
    "\n",
    "data['volume'].plot()\n",
    "plt.ylabel('Volume')\n",
    "plt.xlabel(None)\n",
    "plt.title(f\"Sales Volume of BTC\")\n",
    "    \n",
    "plt.tight_layout()"
   ]
  },
  {
   "cell_type": "code",
   "execution_count": 14,
   "metadata": {
    "colab": {
     "base_uri": "https://localhost:8080/",
     "height": 438
    },
    "executionInfo": {
     "elapsed": 356,
     "status": "ok",
     "timestamp": 1629967115184,
     "user": {
      "displayName": "Ivan Fernandes",
      "photoUrl": "https://lh3.googleusercontent.com/a-/AOh14GgHdj66drQjCguTVvVzCd5yy8cdMluPJPZlz_BQLg=s64",
      "userId": "12100132160237129013"
     },
     "user_tz": -120
    },
    "id": "xr6neOtXnESl",
    "outputId": "40f7378e-e11c-4e48-9156-2adc1e087421",
    "scrolled": true
   },
   "outputs": [
    {
     "data": {
      "text/html": [
       "<div>\n",
       "<style scoped>\n",
       "    .dataframe tbody tr th:only-of-type {\n",
       "        vertical-align: middle;\n",
       "    }\n",
       "\n",
       "    .dataframe tbody tr th {\n",
       "        vertical-align: top;\n",
       "    }\n",
       "\n",
       "    .dataframe thead th {\n",
       "        text-align: right;\n",
       "    }\n",
       "</style>\n",
       "<table border=\"1\" class=\"dataframe\">\n",
       "  <thead>\n",
       "    <tr style=\"text-align: right;\">\n",
       "      <th></th>\n",
       "      <th>open</th>\n",
       "      <th>high</th>\n",
       "      <th>low</th>\n",
       "      <th>close</th>\n",
       "      <th>volume</th>\n",
       "      <th>log_open</th>\n",
       "      <th>log_high</th>\n",
       "      <th>log_low</th>\n",
       "      <th>log_close</th>\n",
       "      <th>ema12</th>\n",
       "      <th>dist_ema12</th>\n",
       "      <th>ema26</th>\n",
       "      <th>dist_ema26</th>\n",
       "      <th>ema21</th>\n",
       "      <th>dist_ema21</th>\n",
       "      <th>ema50</th>\n",
       "      <th>dist_ema50</th>\n",
       "      <th>ema34</th>\n",
       "      <th>dist_ema34</th>\n",
       "      <th>ema55</th>\n",
       "      <th>dist_ema55</th>\n",
       "      <th>ema99</th>\n",
       "      <th>dist_ema99</th>\n",
       "      <th>ema200</th>\n",
       "      <th>dist_ema200</th>\n",
       "      <th>rsi</th>\n",
       "      <th>K</th>\n",
       "      <th>D</th>\n",
       "      <th>sma</th>\n",
       "      <th>bollinger_up</th>\n",
       "      <th>bollinger_down</th>\n",
       "      <th>dist_bollinger_up</th>\n",
       "      <th>dist_bollinger_down</th>\n",
       "      <th>vol_roc</th>\n",
       "      <th>4h Return</th>\n",
       "      <th>4h Gradient</th>\n",
       "      <th>boll_width</th>\n",
       "      <th>high_low_avg</th>\n",
       "      <th>stoch_rsi</th>\n",
       "      <th>perc_bb</th>\n",
       "    </tr>\n",
       "    <tr>\n",
       "      <th>date</th>\n",
       "      <th></th>\n",
       "      <th></th>\n",
       "      <th></th>\n",
       "      <th></th>\n",
       "      <th></th>\n",
       "      <th></th>\n",
       "      <th></th>\n",
       "      <th></th>\n",
       "      <th></th>\n",
       "      <th></th>\n",
       "      <th></th>\n",
       "      <th></th>\n",
       "      <th></th>\n",
       "      <th></th>\n",
       "      <th></th>\n",
       "      <th></th>\n",
       "      <th></th>\n",
       "      <th></th>\n",
       "      <th></th>\n",
       "      <th></th>\n",
       "      <th></th>\n",
       "      <th></th>\n",
       "      <th></th>\n",
       "      <th></th>\n",
       "      <th></th>\n",
       "      <th></th>\n",
       "      <th></th>\n",
       "      <th></th>\n",
       "      <th></th>\n",
       "      <th></th>\n",
       "      <th></th>\n",
       "      <th></th>\n",
       "      <th></th>\n",
       "      <th></th>\n",
       "      <th></th>\n",
       "      <th></th>\n",
       "      <th></th>\n",
       "      <th></th>\n",
       "      <th></th>\n",
       "      <th></th>\n",
       "    </tr>\n",
       "  </thead>\n",
       "  <tbody>\n",
       "    <tr>\n",
       "      <th>2021-08-09 16:00:00</th>\n",
       "      <td>45910.91</td>\n",
       "      <td>46500.00</td>\n",
       "      <td>45727.30</td>\n",
       "      <td>45993.04</td>\n",
       "      <td>137.089807</td>\n",
       "      <td>10.734458</td>\n",
       "      <td>10.747208</td>\n",
       "      <td>10.730451</td>\n",
       "      <td>10.736245</td>\n",
       "      <td>44571.496469</td>\n",
       "      <td>1421.543531</td>\n",
       "      <td>43371.937718</td>\n",
       "      <td>2621.102282</td>\n",
       "      <td>43759.338359</td>\n",
       "      <td>2233.701641</td>\n",
       "      <td>41982.854165</td>\n",
       "      <td>4010.185835</td>\n",
       "      <td>42843.101178</td>\n",
       "      <td>3149.938822</td>\n",
       "      <td>41743.942419</td>\n",
       "      <td>4249.097581</td>\n",
       "      <td>40006.446742</td>\n",
       "      <td>5986.593258</td>\n",
       "      <td>37987.217196</td>\n",
       "      <td>8005.822804</td>\n",
       "      <td>70.148150</td>\n",
       "      <td>94.771586</td>\n",
       "      <td>67.045807</td>\n",
       "      <td>44070.2500</td>\n",
       "      <td>46130.448656</td>\n",
       "      <td>42010.051344</td>\n",
       "      <td>-137.408656</td>\n",
       "      <td>3982.988656</td>\n",
       "      <td>-0.305097</td>\n",
       "      <td>0.178890</td>\n",
       "      <td>82.13</td>\n",
       "      <td>4120.397313</td>\n",
       "      <td>46113.650</td>\n",
       "      <td>80.908697</td>\n",
       "      <td>0.966652</td>\n",
       "    </tr>\n",
       "    <tr>\n",
       "      <th>2021-08-09 20:00:00</th>\n",
       "      <td>45993.04</td>\n",
       "      <td>46449.06</td>\n",
       "      <td>44870.00</td>\n",
       "      <td>46279.23</td>\n",
       "      <td>158.590229</td>\n",
       "      <td>10.736245</td>\n",
       "      <td>10.746112</td>\n",
       "      <td>10.711525</td>\n",
       "      <td>10.742449</td>\n",
       "      <td>44834.224705</td>\n",
       "      <td>1445.005295</td>\n",
       "      <td>43587.292702</td>\n",
       "      <td>2691.937298</td>\n",
       "      <td>43988.419417</td>\n",
       "      <td>2290.810583</td>\n",
       "      <td>42151.339492</td>\n",
       "      <td>4127.890508</td>\n",
       "      <td>43039.451396</td>\n",
       "      <td>3239.778604</td>\n",
       "      <td>41905.916975</td>\n",
       "      <td>4373.313025</td>\n",
       "      <td>40131.902407</td>\n",
       "      <td>6147.327593</td>\n",
       "      <td>38069.724786</td>\n",
       "      <td>8209.505214</td>\n",
       "      <td>71.374109</td>\n",
       "      <td>95.526394</td>\n",
       "      <td>86.268487</td>\n",
       "      <td>44273.8005</td>\n",
       "      <td>46363.613823</td>\n",
       "      <td>42183.987177</td>\n",
       "      <td>-84.383823</td>\n",
       "      <td>4095.242823</td>\n",
       "      <td>0.156835</td>\n",
       "      <td>0.622246</td>\n",
       "      <td>286.19</td>\n",
       "      <td>4179.626646</td>\n",
       "      <td>45659.530</td>\n",
       "      <td>90.897441</td>\n",
       "      <td>0.979811</td>\n",
       "    </tr>\n",
       "    <tr>\n",
       "      <th>2021-08-10 00:00:00</th>\n",
       "      <td>46279.23</td>\n",
       "      <td>46729.86</td>\n",
       "      <td>45665.85</td>\n",
       "      <td>45727.39</td>\n",
       "      <td>46.187369</td>\n",
       "      <td>10.742449</td>\n",
       "      <td>10.752139</td>\n",
       "      <td>10.729106</td>\n",
       "      <td>10.730453</td>\n",
       "      <td>44971.634750</td>\n",
       "      <td>755.755250</td>\n",
       "      <td>43745.818428</td>\n",
       "      <td>1981.571572</td>\n",
       "      <td>44146.507652</td>\n",
       "      <td>1580.882348</td>\n",
       "      <td>42291.576766</td>\n",
       "      <td>3435.813234</td>\n",
       "      <td>43193.047888</td>\n",
       "      <td>2534.342112</td>\n",
       "      <td>42042.398155</td>\n",
       "      <td>3684.991845</td>\n",
       "      <td>40243.812159</td>\n",
       "      <td>5483.577841</td>\n",
       "      <td>38145.920460</td>\n",
       "      <td>7581.469540</td>\n",
       "      <td>65.765606</td>\n",
       "      <td>84.232420</td>\n",
       "      <td>91.510133</td>\n",
       "      <td>44413.3700</td>\n",
       "      <td>46499.837074</td>\n",
       "      <td>42326.902926</td>\n",
       "      <td>-772.447074</td>\n",
       "      <td>3400.487074</td>\n",
       "      <td>-0.708763</td>\n",
       "      <td>-1.192414</td>\n",
       "      <td>-551.84</td>\n",
       "      <td>4172.934148</td>\n",
       "      <td>46197.855</td>\n",
       "      <td>87.871277</td>\n",
       "      <td>0.814891</td>\n",
       "    </tr>\n",
       "    <tr>\n",
       "      <th>2021-08-10 04:00:00</th>\n",
       "      <td>45727.39</td>\n",
       "      <td>46031.73</td>\n",
       "      <td>45334.77</td>\n",
       "      <td>45999.32</td>\n",
       "      <td>39.576304</td>\n",
       "      <td>10.730453</td>\n",
       "      <td>10.737086</td>\n",
       "      <td>10.721830</td>\n",
       "      <td>10.736382</td>\n",
       "      <td>45129.740173</td>\n",
       "      <td>869.579827</td>\n",
       "      <td>43912.744470</td>\n",
       "      <td>2086.575530</td>\n",
       "      <td>44314.945138</td>\n",
       "      <td>1684.374862</td>\n",
       "      <td>42436.978462</td>\n",
       "      <td>3562.341538</td>\n",
       "      <td>43353.406294</td>\n",
       "      <td>2645.913706</td>\n",
       "      <td>42183.716792</td>\n",
       "      <td>3815.603208</td>\n",
       "      <td>40358.922316</td>\n",
       "      <td>5640.397684</td>\n",
       "      <td>38224.063739</td>\n",
       "      <td>7775.256261</td>\n",
       "      <td>67.136030</td>\n",
       "      <td>75.459170</td>\n",
       "      <td>85.072661</td>\n",
       "      <td>44572.8960</td>\n",
       "      <td>46630.488342</td>\n",
       "      <td>42515.303658</td>\n",
       "      <td>-631.168342</td>\n",
       "      <td>3484.016342</td>\n",
       "      <td>-0.143136</td>\n",
       "      <td>0.594676</td>\n",
       "      <td>271.93</td>\n",
       "      <td>4115.184684</td>\n",
       "      <td>45683.250</td>\n",
       "      <td>80.265916</td>\n",
       "      <td>0.846625</td>\n",
       "    </tr>\n",
       "    <tr>\n",
       "      <th>2021-08-10 08:00:00</th>\n",
       "      <td>45999.32</td>\n",
       "      <td>46183.47</td>\n",
       "      <td>45219.00</td>\n",
       "      <td>45380.64</td>\n",
       "      <td>52.556038</td>\n",
       "      <td>10.736382</td>\n",
       "      <td>10.740377</td>\n",
       "      <td>10.719273</td>\n",
       "      <td>10.722841</td>\n",
       "      <td>45168.340147</td>\n",
       "      <td>212.299853</td>\n",
       "      <td>44021.477473</td>\n",
       "      <td>1359.162527</td>\n",
       "      <td>44411.826489</td>\n",
       "      <td>968.813511</td>\n",
       "      <td>42552.416169</td>\n",
       "      <td>2828.223831</td>\n",
       "      <td>43469.248220</td>\n",
       "      <td>1911.391780</td>\n",
       "      <td>42297.892621</td>\n",
       "      <td>3082.747379</td>\n",
       "      <td>40459.356670</td>\n",
       "      <td>4921.283330</td>\n",
       "      <td>38295.273453</td>\n",
       "      <td>7085.366547</td>\n",
       "      <td>61.139402</td>\n",
       "      <td>49.951010</td>\n",
       "      <td>69.880866</td>\n",
       "      <td>44655.9280</td>\n",
       "      <td>46702.601408</td>\n",
       "      <td>42609.254592</td>\n",
       "      <td>-1321.961408</td>\n",
       "      <td>2771.385408</td>\n",
       "      <td>0.327967</td>\n",
       "      <td>-1.344976</td>\n",
       "      <td>-618.68</td>\n",
       "      <td>4093.346816</td>\n",
       "      <td>45701.235</td>\n",
       "      <td>59.915938</td>\n",
       "      <td>0.677046</td>\n",
       "    </tr>\n",
       "    <tr>\n",
       "      <th>2021-08-10 12:00:00</th>\n",
       "      <td>45380.64</td>\n",
       "      <td>46121.45</td>\n",
       "      <td>44899.99</td>\n",
       "      <td>45174.80</td>\n",
       "      <td>107.057966</td>\n",
       "      <td>10.722841</td>\n",
       "      <td>10.739033</td>\n",
       "      <td>10.712193</td>\n",
       "      <td>10.718295</td>\n",
       "      <td>45169.333970</td>\n",
       "      <td>5.466030</td>\n",
       "      <td>44106.908771</td>\n",
       "      <td>1067.891229</td>\n",
       "      <td>44481.187717</td>\n",
       "      <td>693.612283</td>\n",
       "      <td>42655.254751</td>\n",
       "      <td>2519.545249</td>\n",
       "      <td>43566.708322</td>\n",
       "      <td>1608.091678</td>\n",
       "      <td>42400.639313</td>\n",
       "      <td>2774.160687</td>\n",
       "      <td>40553.665536</td>\n",
       "      <td>4621.134464</td>\n",
       "      <td>38363.726453</td>\n",
       "      <td>6811.073547</td>\n",
       "      <td>59.243396</td>\n",
       "      <td>33.695577</td>\n",
       "      <td>53.035252</td>\n",
       "      <td>44752.1330</td>\n",
       "      <td>46699.146722</td>\n",
       "      <td>42805.119278</td>\n",
       "      <td>-1524.346722</td>\n",
       "      <td>2369.680722</td>\n",
       "      <td>1.037025</td>\n",
       "      <td>-0.453585</td>\n",
       "      <td>-205.84</td>\n",
       "      <td>3894.027445</td>\n",
       "      <td>45510.720</td>\n",
       "      <td>43.365415</td>\n",
       "      <td>0.608542</td>\n",
       "    </tr>\n",
       "    <tr>\n",
       "      <th>2021-08-10 16:00:00</th>\n",
       "      <td>45174.80</td>\n",
       "      <td>45590.79</td>\n",
       "      <td>44642.21</td>\n",
       "      <td>45517.17</td>\n",
       "      <td>127.821454</td>\n",
       "      <td>10.718295</td>\n",
       "      <td>10.727461</td>\n",
       "      <td>10.706435</td>\n",
       "      <td>10.725845</td>\n",
       "      <td>45222.847206</td>\n",
       "      <td>294.322794</td>\n",
       "      <td>44211.372566</td>\n",
       "      <td>1305.797434</td>\n",
       "      <td>44575.367925</td>\n",
       "      <td>941.802075</td>\n",
       "      <td>42767.486721</td>\n",
       "      <td>2749.683279</td>\n",
       "      <td>43678.163275</td>\n",
       "      <td>1839.006725</td>\n",
       "      <td>42511.943980</td>\n",
       "      <td>3005.226020</td>\n",
       "      <td>40652.935626</td>\n",
       "      <td>4864.234374</td>\n",
       "      <td>38434.904996</td>\n",
       "      <td>7082.265004</td>\n",
       "      <td>61.388207</td>\n",
       "      <td>19.370167</td>\n",
       "      <td>34.338918</td>\n",
       "      <td>44835.3880</td>\n",
       "      <td>46762.651502</td>\n",
       "      <td>42908.124498</td>\n",
       "      <td>-1245.481502</td>\n",
       "      <td>2609.045502</td>\n",
       "      <td>0.193946</td>\n",
       "      <td>0.757878</td>\n",
       "      <td>342.37</td>\n",
       "      <td>3854.527003</td>\n",
       "      <td>45116.500</td>\n",
       "      <td>26.854542</td>\n",
       "      <td>0.676878</td>\n",
       "    </tr>\n",
       "    <tr>\n",
       "      <th>2021-08-10 20:00:00</th>\n",
       "      <td>45517.17</td>\n",
       "      <td>45935.10</td>\n",
       "      <td>45250.00</td>\n",
       "      <td>45596.74</td>\n",
       "      <td>69.026396</td>\n",
       "      <td>10.725845</td>\n",
       "      <td>10.734985</td>\n",
       "      <td>10.719958</td>\n",
       "      <td>10.727592</td>\n",
       "      <td>45280.369174</td>\n",
       "      <td>316.370826</td>\n",
       "      <td>44313.992376</td>\n",
       "      <td>1282.747624</td>\n",
       "      <td>44668.219932</td>\n",
       "      <td>928.520068</td>\n",
       "      <td>42878.437830</td>\n",
       "      <td>2718.302170</td>\n",
       "      <td>43787.796231</td>\n",
       "      <td>1808.943769</td>\n",
       "      <td>42622.115267</td>\n",
       "      <td>2974.624733</td>\n",
       "      <td>40751.811713</td>\n",
       "      <td>4844.928287</td>\n",
       "      <td>38506.167036</td>\n",
       "      <td>7090.572964</td>\n",
       "      <td>61.890164</td>\n",
       "      <td>21.241307</td>\n",
       "      <td>24.769017</td>\n",
       "      <td>44944.5275</td>\n",
       "      <td>46777.792011</td>\n",
       "      <td>43111.262989</td>\n",
       "      <td>-1181.052011</td>\n",
       "      <td>2485.477011</td>\n",
       "      <td>-0.459978</td>\n",
       "      <td>0.174813</td>\n",
       "      <td>79.57</td>\n",
       "      <td>3666.529022</td>\n",
       "      <td>45592.550</td>\n",
       "      <td>23.005162</td>\n",
       "      <td>0.677883</td>\n",
       "    </tr>\n",
       "    <tr>\n",
       "      <th>2021-08-11 00:00:00</th>\n",
       "      <td>45596.74</td>\n",
       "      <td>45983.55</td>\n",
       "      <td>45367.68</td>\n",
       "      <td>45594.16</td>\n",
       "      <td>46.209824</td>\n",
       "      <td>10.727592</td>\n",
       "      <td>10.736039</td>\n",
       "      <td>10.722555</td>\n",
       "      <td>10.727535</td>\n",
       "      <td>45328.644686</td>\n",
       "      <td>265.515314</td>\n",
       "      <td>44408.819607</td>\n",
       "      <td>1185.340393</td>\n",
       "      <td>44752.396302</td>\n",
       "      <td>841.763698</td>\n",
       "      <td>42984.936739</td>\n",
       "      <td>2609.223261</td>\n",
       "      <td>43891.017018</td>\n",
       "      <td>1703.142982</td>\n",
       "      <td>42728.259722</td>\n",
       "      <td>2865.900278</td>\n",
       "      <td>40848.658679</td>\n",
       "      <td>4745.501321</td>\n",
       "      <td>38576.694329</td>\n",
       "      <td>7017.465671</td>\n",
       "      <td>61.862082</td>\n",
       "      <td>27.767911</td>\n",
       "      <td>22.793128</td>\n",
       "      <td>45024.5055</td>\n",
       "      <td>46822.504953</td>\n",
       "      <td>43226.506047</td>\n",
       "      <td>-1228.344953</td>\n",
       "      <td>2367.653953</td>\n",
       "      <td>-0.330549</td>\n",
       "      <td>-0.005658</td>\n",
       "      <td>-2.58</td>\n",
       "      <td>3595.998907</td>\n",
       "      <td>45675.615</td>\n",
       "      <td>25.280520</td>\n",
       "      <td>0.658413</td>\n",
       "    </tr>\n",
       "    <tr>\n",
       "      <th>2021-08-11 04:00:00</th>\n",
       "      <td>45594.16</td>\n",
       "      <td>46453.72</td>\n",
       "      <td>45467.33</td>\n",
       "      <td>46344.42</td>\n",
       "      <td>45.710037</td>\n",
       "      <td>10.727535</td>\n",
       "      <td>10.746212</td>\n",
       "      <td>10.724749</td>\n",
       "      <td>10.743856</td>\n",
       "      <td>45484.917811</td>\n",
       "      <td>859.502189</td>\n",
       "      <td>44552.197414</td>\n",
       "      <td>1792.222586</td>\n",
       "      <td>44897.125729</td>\n",
       "      <td>1447.294271</td>\n",
       "      <td>43116.681181</td>\n",
       "      <td>3227.738819</td>\n",
       "      <td>44031.211474</td>\n",
       "      <td>2313.208526</td>\n",
       "      <td>42857.408303</td>\n",
       "      <td>3487.011697</td>\n",
       "      <td>40958.573905</td>\n",
       "      <td>5385.846095</td>\n",
       "      <td>38653.985132</td>\n",
       "      <td>7690.434868</td>\n",
       "      <td>66.607077</td>\n",
       "      <td>40.775003</td>\n",
       "      <td>29.928074</td>\n",
       "      <td>45109.9355</td>\n",
       "      <td>46990.637599</td>\n",
       "      <td>43229.233401</td>\n",
       "      <td>-646.217599</td>\n",
       "      <td>3115.186599</td>\n",
       "      <td>-0.010816</td>\n",
       "      <td>1.645518</td>\n",
       "      <td>750.26</td>\n",
       "      <td>3761.404199</td>\n",
       "      <td>45960.525</td>\n",
       "      <td>35.351539</td>\n",
       "      <td>0.828198</td>\n",
       "    </tr>\n",
       "    <tr>\n",
       "      <th>2021-08-11 08:00:00</th>\n",
       "      <td>46344.42</td>\n",
       "      <td>46595.78</td>\n",
       "      <td>45889.25</td>\n",
       "      <td>45965.21</td>\n",
       "      <td>58.736101</td>\n",
       "      <td>10.743856</td>\n",
       "      <td>10.749265</td>\n",
       "      <td>10.733986</td>\n",
       "      <td>10.735640</td>\n",
       "      <td>45558.808917</td>\n",
       "      <td>406.401083</td>\n",
       "      <td>44656.865013</td>\n",
       "      <td>1308.344987</td>\n",
       "      <td>44994.224299</td>\n",
       "      <td>970.985701</td>\n",
       "      <td>43228.388193</td>\n",
       "      <td>2736.821807</td>\n",
       "      <td>44141.725675</td>\n",
       "      <td>1823.484325</td>\n",
       "      <td>42968.401221</td>\n",
       "      <td>2996.808779</td>\n",
       "      <td>41058.706627</td>\n",
       "      <td>4906.503373</td>\n",
       "      <td>38726.733638</td>\n",
       "      <td>7238.476362</td>\n",
       "      <td>62.382400</td>\n",
       "      <td>39.704192</td>\n",
       "      <td>36.082369</td>\n",
       "      <td>45188.6290</td>\n",
       "      <td>47074.432108</td>\n",
       "      <td>43302.825892</td>\n",
       "      <td>-1109.222108</td>\n",
       "      <td>2662.384108</td>\n",
       "      <td>0.284972</td>\n",
       "      <td>-0.818243</td>\n",
       "      <td>-379.21</td>\n",
       "      <td>3771.606216</td>\n",
       "      <td>46242.515</td>\n",
       "      <td>37.893281</td>\n",
       "      <td>0.705902</td>\n",
       "    </tr>\n",
       "    <tr>\n",
       "      <th>2021-08-11 12:00:00</th>\n",
       "      <td>45965.21</td>\n",
       "      <td>46775.00</td>\n",
       "      <td>45854.67</td>\n",
       "      <td>46475.00</td>\n",
       "      <td>84.886040</td>\n",
       "      <td>10.735640</td>\n",
       "      <td>10.753104</td>\n",
       "      <td>10.733232</td>\n",
       "      <td>10.746670</td>\n",
       "      <td>45699.761391</td>\n",
       "      <td>775.238609</td>\n",
       "      <td>44791.541679</td>\n",
       "      <td>1683.458321</td>\n",
       "      <td>45128.840272</td>\n",
       "      <td>1346.159728</td>\n",
       "      <td>43355.706303</td>\n",
       "      <td>3119.293697</td>\n",
       "      <td>44275.055637</td>\n",
       "      <td>2199.944363</td>\n",
       "      <td>43093.636891</td>\n",
       "      <td>3381.363109</td>\n",
       "      <td>41167.032495</td>\n",
       "      <td>5307.967505</td>\n",
       "      <td>38803.830816</td>\n",
       "      <td>7671.169184</td>\n",
       "      <td>65.546183</td>\n",
       "      <td>47.396960</td>\n",
       "      <td>42.625385</td>\n",
       "      <td>45269.3570</td>\n",
       "      <td>47232.646699</td>\n",
       "      <td>43306.067301</td>\n",
       "      <td>-757.646699</td>\n",
       "      <td>3168.932699</td>\n",
       "      <td>0.445211</td>\n",
       "      <td>1.109078</td>\n",
       "      <td>509.79</td>\n",
       "      <td>3926.579398</td>\n",
       "      <td>46314.835</td>\n",
       "      <td>45.011172</td>\n",
       "      <td>0.807047</td>\n",
       "    </tr>\n",
       "    <tr>\n",
       "      <th>2021-08-11 16:00:00</th>\n",
       "      <td>46475.00</td>\n",
       "      <td>46608.31</td>\n",
       "      <td>46239.76</td>\n",
       "      <td>46472.94</td>\n",
       "      <td>60.330519</td>\n",
       "      <td>10.746670</td>\n",
       "      <td>10.749534</td>\n",
       "      <td>10.741595</td>\n",
       "      <td>10.746625</td>\n",
       "      <td>45818.711946</td>\n",
       "      <td>654.228054</td>\n",
       "      <td>44916.089702</td>\n",
       "      <td>1556.850298</td>\n",
       "      <td>45251.031156</td>\n",
       "      <td>1221.908844</td>\n",
       "      <td>43477.950762</td>\n",
       "      <td>2994.989238</td>\n",
       "      <td>44400.649029</td>\n",
       "      <td>2072.290971</td>\n",
       "      <td>43214.326288</td>\n",
       "      <td>3258.613712</td>\n",
       "      <td>41273.150645</td>\n",
       "      <td>5199.789355</td>\n",
       "      <td>38880.140360</td>\n",
       "      <td>7592.799640</td>\n",
       "      <td>65.522202</td>\n",
       "      <td>43.197787</td>\n",
       "      <td>43.432980</td>\n",
       "      <td>45368.0040</td>\n",
       "      <td>47366.476197</td>\n",
       "      <td>43369.531803</td>\n",
       "      <td>-893.536197</td>\n",
       "      <td>3103.408197</td>\n",
       "      <td>-0.289276</td>\n",
       "      <td>-0.004432</td>\n",
       "      <td>-2.06</td>\n",
       "      <td>3996.944395</td>\n",
       "      <td>46424.035</td>\n",
       "      <td>43.315384</td>\n",
       "      <td>0.776445</td>\n",
       "    </tr>\n",
       "    <tr>\n",
       "      <th>2021-08-11 20:00:00</th>\n",
       "      <td>46472.94</td>\n",
       "      <td>46694.94</td>\n",
       "      <td>45548.96</td>\n",
       "      <td>45550.01</td>\n",
       "      <td>91.545412</td>\n",
       "      <td>10.746625</td>\n",
       "      <td>10.751391</td>\n",
       "      <td>10.726543</td>\n",
       "      <td>10.726566</td>\n",
       "      <td>45777.373185</td>\n",
       "      <td>-227.363185</td>\n",
       "      <td>44963.046761</td>\n",
       "      <td>586.963239</td>\n",
       "      <td>45278.211051</td>\n",
       "      <td>271.798949</td>\n",
       "      <td>43559.207987</td>\n",
       "      <td>1990.802013</td>\n",
       "      <td>44466.326799</td>\n",
       "      <td>1083.683201</td>\n",
       "      <td>43297.743564</td>\n",
       "      <td>2252.266436</td>\n",
       "      <td>41358.687832</td>\n",
       "      <td>4191.322168</td>\n",
       "      <td>38946.507222</td>\n",
       "      <td>6603.502778</td>\n",
       "      <td>55.691349</td>\n",
       "      <td>34.572286</td>\n",
       "      <td>41.722344</td>\n",
       "      <td>45445.1080</td>\n",
       "      <td>47338.887690</td>\n",
       "      <td>43551.328310</td>\n",
       "      <td>-1788.877690</td>\n",
       "      <td>1998.681690</td>\n",
       "      <td>0.517398</td>\n",
       "      <td>-1.985951</td>\n",
       "      <td>-922.93</td>\n",
       "      <td>3787.559381</td>\n",
       "      <td>46121.950</td>\n",
       "      <td>38.147315</td>\n",
       "      <td>0.527696</td>\n",
       "    </tr>\n",
       "    <tr>\n",
       "      <th>2021-08-12 00:00:00</th>\n",
       "      <td>45550.01</td>\n",
       "      <td>46220.75</td>\n",
       "      <td>45426.58</td>\n",
       "      <td>45948.06</td>\n",
       "      <td>49.861807</td>\n",
       "      <td>10.726566</td>\n",
       "      <td>10.741184</td>\n",
       "      <td>10.723853</td>\n",
       "      <td>10.735267</td>\n",
       "      <td>45803.632695</td>\n",
       "      <td>144.427305</td>\n",
       "      <td>45036.010705</td>\n",
       "      <td>912.049295</td>\n",
       "      <td>45339.106410</td>\n",
       "      <td>608.953590</td>\n",
       "      <td>43652.888458</td>\n",
       "      <td>2295.171542</td>\n",
       "      <td>44550.997267</td>\n",
       "      <td>1397.062733</td>\n",
       "      <td>43392.397722</td>\n",
       "      <td>2555.662278</td>\n",
       "      <td>41450.475275</td>\n",
       "      <td>4497.584725</td>\n",
       "      <td>39016.174414</td>\n",
       "      <td>6931.885586</td>\n",
       "      <td>58.577957</td>\n",
       "      <td>23.388612</td>\n",
       "      <td>33.719562</td>\n",
       "      <td>45557.1970</td>\n",
       "      <td>47274.818747</td>\n",
       "      <td>43839.575253</td>\n",
       "      <td>-1326.758747</td>\n",
       "      <td>2108.484747</td>\n",
       "      <td>-0.455333</td>\n",
       "      <td>0.873875</td>\n",
       "      <td>398.05</td>\n",
       "      <td>3435.243495</td>\n",
       "      <td>45823.665</td>\n",
       "      <td>28.554087</td>\n",
       "      <td>0.613780</td>\n",
       "    </tr>\n",
       "    <tr>\n",
       "      <th>2021-08-12 04:00:00</th>\n",
       "      <td>45948.06</td>\n",
       "      <td>46023.08</td>\n",
       "      <td>44859.80</td>\n",
       "      <td>45289.65</td>\n",
       "      <td>89.766358</td>\n",
       "      <td>10.735267</td>\n",
       "      <td>10.736898</td>\n",
       "      <td>10.711297</td>\n",
       "      <td>10.720834</td>\n",
       "      <td>45724.558435</td>\n",
       "      <td>-434.908435</td>\n",
       "      <td>45054.798801</td>\n",
       "      <td>234.851199</td>\n",
       "      <td>45334.610373</td>\n",
       "      <td>-44.960373</td>\n",
       "      <td>43717.075185</td>\n",
       "      <td>1572.574815</td>\n",
       "      <td>44593.205995</td>\n",
       "      <td>696.444005</td>\n",
       "      <td>43460.156732</td>\n",
       "      <td>1829.493268</td>\n",
       "      <td>41527.258770</td>\n",
       "      <td>3762.391230</td>\n",
       "      <td>39078.597057</td>\n",
       "      <td>6211.052943</td>\n",
       "      <td>52.486887</td>\n",
       "      <td>6.135417</td>\n",
       "      <td>21.365438</td>\n",
       "      <td>45629.8145</td>\n",
       "      <td>47153.082172</td>\n",
       "      <td>44106.546828</td>\n",
       "      <td>-1863.432172</td>\n",
       "      <td>1183.103172</td>\n",
       "      <td>0.800303</td>\n",
       "      <td>-1.432944</td>\n",
       "      <td>-658.41</td>\n",
       "      <td>3046.535344</td>\n",
       "      <td>45441.440</td>\n",
       "      <td>13.750427</td>\n",
       "      <td>0.388344</td>\n",
       "    </tr>\n",
       "    <tr>\n",
       "      <th>2021-08-12 08:00:00</th>\n",
       "      <td>45289.65</td>\n",
       "      <td>45663.34</td>\n",
       "      <td>44670.18</td>\n",
       "      <td>44758.93</td>\n",
       "      <td>69.830994</td>\n",
       "      <td>10.720834</td>\n",
       "      <td>10.729051</td>\n",
       "      <td>10.707061</td>\n",
       "      <td>10.709046</td>\n",
       "      <td>45576.000214</td>\n",
       "      <td>-817.070214</td>\n",
       "      <td>45032.882594</td>\n",
       "      <td>-273.952594</td>\n",
       "      <td>45282.275793</td>\n",
       "      <td>-523.345793</td>\n",
       "      <td>43757.932237</td>\n",
       "      <td>1000.997763</td>\n",
       "      <td>44602.675938</td>\n",
       "      <td>156.254062</td>\n",
       "      <td>43506.541492</td>\n",
       "      <td>1252.388508</td>\n",
       "      <td>41591.892194</td>\n",
       "      <td>3167.037806</td>\n",
       "      <td>39135.117782</td>\n",
       "      <td>5623.812218</td>\n",
       "      <td>48.141461</td>\n",
       "      <td>6.135417</td>\n",
       "      <td>11.886482</td>\n",
       "      <td>45691.2940</td>\n",
       "      <td>46930.350348</td>\n",
       "      <td>44452.237652</td>\n",
       "      <td>-2171.420348</td>\n",
       "      <td>306.692348</td>\n",
       "      <td>-0.222081</td>\n",
       "      <td>-1.171835</td>\n",
       "      <td>-530.72</td>\n",
       "      <td>2478.112696</td>\n",
       "      <td>45166.760</td>\n",
       "      <td>9.010949</td>\n",
       "      <td>0.123760</td>\n",
       "    </tr>\n",
       "    <tr>\n",
       "      <th>2021-08-12 12:00:00</th>\n",
       "      <td>44758.93</td>\n",
       "      <td>44956.97</td>\n",
       "      <td>43923.00</td>\n",
       "      <td>44204.11</td>\n",
       "      <td>114.602881</td>\n",
       "      <td>10.709046</td>\n",
       "      <td>10.713461</td>\n",
       "      <td>10.690193</td>\n",
       "      <td>10.696573</td>\n",
       "      <td>45364.940181</td>\n",
       "      <td>-1160.830181</td>\n",
       "      <td>44971.492031</td>\n",
       "      <td>-767.382031</td>\n",
       "      <td>45184.260721</td>\n",
       "      <td>-980.150721</td>\n",
       "      <td>43775.429404</td>\n",
       "      <td>428.680596</td>\n",
       "      <td>44579.900742</td>\n",
       "      <td>-375.790742</td>\n",
       "      <td>43531.454653</td>\n",
       "      <td>672.655347</td>\n",
       "      <td>41644.136550</td>\n",
       "      <td>2559.973450</td>\n",
       "      <td>39185.555516</td>\n",
       "      <td>5018.554484</td>\n",
       "      <td>44.036875</td>\n",
       "      <td>0.000000</td>\n",
       "      <td>4.090278</td>\n",
       "      <td>45708.6670</td>\n",
       "      <td>46844.888738</td>\n",
       "      <td>44572.445262</td>\n",
       "      <td>-2640.778738</td>\n",
       "      <td>-368.335262</td>\n",
       "      <td>0.641146</td>\n",
       "      <td>-1.239574</td>\n",
       "      <td>-554.82</td>\n",
       "      <td>2272.443476</td>\n",
       "      <td>44439.985</td>\n",
       "      <td>2.045139</td>\n",
       "      <td>-0.162088</td>\n",
       "    </tr>\n",
       "    <tr>\n",
       "      <th>2021-08-12 16:00:00</th>\n",
       "      <td>44204.11</td>\n",
       "      <td>44528.82</td>\n",
       "      <td>43800.00</td>\n",
       "      <td>44407.09</td>\n",
       "      <td>84.168365</td>\n",
       "      <td>10.696573</td>\n",
       "      <td>10.703892</td>\n",
       "      <td>10.687389</td>\n",
       "      <td>10.701154</td>\n",
       "      <td>45217.578615</td>\n",
       "      <td>-810.488615</td>\n",
       "      <td>44929.684473</td>\n",
       "      <td>-522.594473</td>\n",
       "      <td>45113.608837</td>\n",
       "      <td>-706.518837</td>\n",
       "      <td>43800.200408</td>\n",
       "      <td>606.889592</td>\n",
       "      <td>44570.025842</td>\n",
       "      <td>-162.935842</td>\n",
       "      <td>43562.727344</td>\n",
       "      <td>844.362656</td>\n",
       "      <td>41699.395619</td>\n",
       "      <td>2707.694381</td>\n",
       "      <td>39237.511083</td>\n",
       "      <td>5169.578917</td>\n",
       "      <td>45.855691</td>\n",
       "      <td>2.686161</td>\n",
       "      <td>2.940526</td>\n",
       "      <td>45629.4410</td>\n",
       "      <td>46896.078488</td>\n",
       "      <td>44362.803512</td>\n",
       "      <td>-2488.988488</td>\n",
       "      <td>44.286488</td>\n",
       "      <td>-0.265565</td>\n",
       "      <td>0.459188</td>\n",
       "      <td>202.98</td>\n",
       "      <td>2533.274975</td>\n",
       "      <td>44164.410</td>\n",
       "      <td>2.813343</td>\n",
       "      <td>0.017482</td>\n",
       "    </tr>\n",
       "    <tr>\n",
       "      <th>2021-08-12 20:00:00</th>\n",
       "      <td>44407.09</td>\n",
       "      <td>44578.23</td>\n",
       "      <td>43895.31</td>\n",
       "      <td>44430.99</td>\n",
       "      <td>61.694263</td>\n",
       "      <td>10.701154</td>\n",
       "      <td>10.705001</td>\n",
       "      <td>10.689563</td>\n",
       "      <td>10.701692</td>\n",
       "      <td>45096.564982</td>\n",
       "      <td>-665.574982</td>\n",
       "      <td>44892.744142</td>\n",
       "      <td>-461.754142</td>\n",
       "      <td>45051.552580</td>\n",
       "      <td>-620.562580</td>\n",
       "      <td>43824.937254</td>\n",
       "      <td>606.052746</td>\n",
       "      <td>44562.080937</td>\n",
       "      <td>-131.090937</td>\n",
       "      <td>43593.736724</td>\n",
       "      <td>837.253276</td>\n",
       "      <td>41754.027507</td>\n",
       "      <td>2676.962493</td>\n",
       "      <td>39289.187490</td>\n",
       "      <td>5141.802510</td>\n",
       "      <td>46.077911</td>\n",
       "      <td>5.700512</td>\n",
       "      <td>2.795558</td>\n",
       "      <td>45555.4450</td>\n",
       "      <td>46921.831848</td>\n",
       "      <td>44189.058152</td>\n",
       "      <td>-2490.841848</td>\n",
       "      <td>241.931848</td>\n",
       "      <td>-0.267014</td>\n",
       "      <td>0.053820</td>\n",
       "      <td>23.90</td>\n",
       "      <td>2732.773696</td>\n",
       "      <td>44236.770</td>\n",
       "      <td>4.248035</td>\n",
       "      <td>0.088530</td>\n",
       "    </tr>\n",
       "  </tbody>\n",
       "</table>\n",
       "</div>"
      ],
      "text/plain": [
       "                         open      high       low     close      volume  \\\n",
       "date                                                                      \n",
       "2021-08-09 16:00:00  45910.91  46500.00  45727.30  45993.04  137.089807   \n",
       "2021-08-09 20:00:00  45993.04  46449.06  44870.00  46279.23  158.590229   \n",
       "2021-08-10 00:00:00  46279.23  46729.86  45665.85  45727.39   46.187369   \n",
       "2021-08-10 04:00:00  45727.39  46031.73  45334.77  45999.32   39.576304   \n",
       "2021-08-10 08:00:00  45999.32  46183.47  45219.00  45380.64   52.556038   \n",
       "2021-08-10 12:00:00  45380.64  46121.45  44899.99  45174.80  107.057966   \n",
       "2021-08-10 16:00:00  45174.80  45590.79  44642.21  45517.17  127.821454   \n",
       "2021-08-10 20:00:00  45517.17  45935.10  45250.00  45596.74   69.026396   \n",
       "2021-08-11 00:00:00  45596.74  45983.55  45367.68  45594.16   46.209824   \n",
       "2021-08-11 04:00:00  45594.16  46453.72  45467.33  46344.42   45.710037   \n",
       "2021-08-11 08:00:00  46344.42  46595.78  45889.25  45965.21   58.736101   \n",
       "2021-08-11 12:00:00  45965.21  46775.00  45854.67  46475.00   84.886040   \n",
       "2021-08-11 16:00:00  46475.00  46608.31  46239.76  46472.94   60.330519   \n",
       "2021-08-11 20:00:00  46472.94  46694.94  45548.96  45550.01   91.545412   \n",
       "2021-08-12 00:00:00  45550.01  46220.75  45426.58  45948.06   49.861807   \n",
       "2021-08-12 04:00:00  45948.06  46023.08  44859.80  45289.65   89.766358   \n",
       "2021-08-12 08:00:00  45289.65  45663.34  44670.18  44758.93   69.830994   \n",
       "2021-08-12 12:00:00  44758.93  44956.97  43923.00  44204.11  114.602881   \n",
       "2021-08-12 16:00:00  44204.11  44528.82  43800.00  44407.09   84.168365   \n",
       "2021-08-12 20:00:00  44407.09  44578.23  43895.31  44430.99   61.694263   \n",
       "\n",
       "                      log_open   log_high    log_low  log_close         ema12  \\\n",
       "date                                                                            \n",
       "2021-08-09 16:00:00  10.734458  10.747208  10.730451  10.736245  44571.496469   \n",
       "2021-08-09 20:00:00  10.736245  10.746112  10.711525  10.742449  44834.224705   \n",
       "2021-08-10 00:00:00  10.742449  10.752139  10.729106  10.730453  44971.634750   \n",
       "2021-08-10 04:00:00  10.730453  10.737086  10.721830  10.736382  45129.740173   \n",
       "2021-08-10 08:00:00  10.736382  10.740377  10.719273  10.722841  45168.340147   \n",
       "2021-08-10 12:00:00  10.722841  10.739033  10.712193  10.718295  45169.333970   \n",
       "2021-08-10 16:00:00  10.718295  10.727461  10.706435  10.725845  45222.847206   \n",
       "2021-08-10 20:00:00  10.725845  10.734985  10.719958  10.727592  45280.369174   \n",
       "2021-08-11 00:00:00  10.727592  10.736039  10.722555  10.727535  45328.644686   \n",
       "2021-08-11 04:00:00  10.727535  10.746212  10.724749  10.743856  45484.917811   \n",
       "2021-08-11 08:00:00  10.743856  10.749265  10.733986  10.735640  45558.808917   \n",
       "2021-08-11 12:00:00  10.735640  10.753104  10.733232  10.746670  45699.761391   \n",
       "2021-08-11 16:00:00  10.746670  10.749534  10.741595  10.746625  45818.711946   \n",
       "2021-08-11 20:00:00  10.746625  10.751391  10.726543  10.726566  45777.373185   \n",
       "2021-08-12 00:00:00  10.726566  10.741184  10.723853  10.735267  45803.632695   \n",
       "2021-08-12 04:00:00  10.735267  10.736898  10.711297  10.720834  45724.558435   \n",
       "2021-08-12 08:00:00  10.720834  10.729051  10.707061  10.709046  45576.000214   \n",
       "2021-08-12 12:00:00  10.709046  10.713461  10.690193  10.696573  45364.940181   \n",
       "2021-08-12 16:00:00  10.696573  10.703892  10.687389  10.701154  45217.578615   \n",
       "2021-08-12 20:00:00  10.701154  10.705001  10.689563  10.701692  45096.564982   \n",
       "\n",
       "                      dist_ema12         ema26   dist_ema26         ema21  \\\n",
       "date                                                                        \n",
       "2021-08-09 16:00:00  1421.543531  43371.937718  2621.102282  43759.338359   \n",
       "2021-08-09 20:00:00  1445.005295  43587.292702  2691.937298  43988.419417   \n",
       "2021-08-10 00:00:00   755.755250  43745.818428  1981.571572  44146.507652   \n",
       "2021-08-10 04:00:00   869.579827  43912.744470  2086.575530  44314.945138   \n",
       "2021-08-10 08:00:00   212.299853  44021.477473  1359.162527  44411.826489   \n",
       "2021-08-10 12:00:00     5.466030  44106.908771  1067.891229  44481.187717   \n",
       "2021-08-10 16:00:00   294.322794  44211.372566  1305.797434  44575.367925   \n",
       "2021-08-10 20:00:00   316.370826  44313.992376  1282.747624  44668.219932   \n",
       "2021-08-11 00:00:00   265.515314  44408.819607  1185.340393  44752.396302   \n",
       "2021-08-11 04:00:00   859.502189  44552.197414  1792.222586  44897.125729   \n",
       "2021-08-11 08:00:00   406.401083  44656.865013  1308.344987  44994.224299   \n",
       "2021-08-11 12:00:00   775.238609  44791.541679  1683.458321  45128.840272   \n",
       "2021-08-11 16:00:00   654.228054  44916.089702  1556.850298  45251.031156   \n",
       "2021-08-11 20:00:00  -227.363185  44963.046761   586.963239  45278.211051   \n",
       "2021-08-12 00:00:00   144.427305  45036.010705   912.049295  45339.106410   \n",
       "2021-08-12 04:00:00  -434.908435  45054.798801   234.851199  45334.610373   \n",
       "2021-08-12 08:00:00  -817.070214  45032.882594  -273.952594  45282.275793   \n",
       "2021-08-12 12:00:00 -1160.830181  44971.492031  -767.382031  45184.260721   \n",
       "2021-08-12 16:00:00  -810.488615  44929.684473  -522.594473  45113.608837   \n",
       "2021-08-12 20:00:00  -665.574982  44892.744142  -461.754142  45051.552580   \n",
       "\n",
       "                      dist_ema21         ema50   dist_ema50         ema34  \\\n",
       "date                                                                        \n",
       "2021-08-09 16:00:00  2233.701641  41982.854165  4010.185835  42843.101178   \n",
       "2021-08-09 20:00:00  2290.810583  42151.339492  4127.890508  43039.451396   \n",
       "2021-08-10 00:00:00  1580.882348  42291.576766  3435.813234  43193.047888   \n",
       "2021-08-10 04:00:00  1684.374862  42436.978462  3562.341538  43353.406294   \n",
       "2021-08-10 08:00:00   968.813511  42552.416169  2828.223831  43469.248220   \n",
       "2021-08-10 12:00:00   693.612283  42655.254751  2519.545249  43566.708322   \n",
       "2021-08-10 16:00:00   941.802075  42767.486721  2749.683279  43678.163275   \n",
       "2021-08-10 20:00:00   928.520068  42878.437830  2718.302170  43787.796231   \n",
       "2021-08-11 00:00:00   841.763698  42984.936739  2609.223261  43891.017018   \n",
       "2021-08-11 04:00:00  1447.294271  43116.681181  3227.738819  44031.211474   \n",
       "2021-08-11 08:00:00   970.985701  43228.388193  2736.821807  44141.725675   \n",
       "2021-08-11 12:00:00  1346.159728  43355.706303  3119.293697  44275.055637   \n",
       "2021-08-11 16:00:00  1221.908844  43477.950762  2994.989238  44400.649029   \n",
       "2021-08-11 20:00:00   271.798949  43559.207987  1990.802013  44466.326799   \n",
       "2021-08-12 00:00:00   608.953590  43652.888458  2295.171542  44550.997267   \n",
       "2021-08-12 04:00:00   -44.960373  43717.075185  1572.574815  44593.205995   \n",
       "2021-08-12 08:00:00  -523.345793  43757.932237  1000.997763  44602.675938   \n",
       "2021-08-12 12:00:00  -980.150721  43775.429404   428.680596  44579.900742   \n",
       "2021-08-12 16:00:00  -706.518837  43800.200408   606.889592  44570.025842   \n",
       "2021-08-12 20:00:00  -620.562580  43824.937254   606.052746  44562.080937   \n",
       "\n",
       "                      dist_ema34         ema55   dist_ema55         ema99  \\\n",
       "date                                                                        \n",
       "2021-08-09 16:00:00  3149.938822  41743.942419  4249.097581  40006.446742   \n",
       "2021-08-09 20:00:00  3239.778604  41905.916975  4373.313025  40131.902407   \n",
       "2021-08-10 00:00:00  2534.342112  42042.398155  3684.991845  40243.812159   \n",
       "2021-08-10 04:00:00  2645.913706  42183.716792  3815.603208  40358.922316   \n",
       "2021-08-10 08:00:00  1911.391780  42297.892621  3082.747379  40459.356670   \n",
       "2021-08-10 12:00:00  1608.091678  42400.639313  2774.160687  40553.665536   \n",
       "2021-08-10 16:00:00  1839.006725  42511.943980  3005.226020  40652.935626   \n",
       "2021-08-10 20:00:00  1808.943769  42622.115267  2974.624733  40751.811713   \n",
       "2021-08-11 00:00:00  1703.142982  42728.259722  2865.900278  40848.658679   \n",
       "2021-08-11 04:00:00  2313.208526  42857.408303  3487.011697  40958.573905   \n",
       "2021-08-11 08:00:00  1823.484325  42968.401221  2996.808779  41058.706627   \n",
       "2021-08-11 12:00:00  2199.944363  43093.636891  3381.363109  41167.032495   \n",
       "2021-08-11 16:00:00  2072.290971  43214.326288  3258.613712  41273.150645   \n",
       "2021-08-11 20:00:00  1083.683201  43297.743564  2252.266436  41358.687832   \n",
       "2021-08-12 00:00:00  1397.062733  43392.397722  2555.662278  41450.475275   \n",
       "2021-08-12 04:00:00   696.444005  43460.156732  1829.493268  41527.258770   \n",
       "2021-08-12 08:00:00   156.254062  43506.541492  1252.388508  41591.892194   \n",
       "2021-08-12 12:00:00  -375.790742  43531.454653   672.655347  41644.136550   \n",
       "2021-08-12 16:00:00  -162.935842  43562.727344   844.362656  41699.395619   \n",
       "2021-08-12 20:00:00  -131.090937  43593.736724   837.253276  41754.027507   \n",
       "\n",
       "                      dist_ema99        ema200  dist_ema200        rsi  \\\n",
       "date                                                                     \n",
       "2021-08-09 16:00:00  5986.593258  37987.217196  8005.822804  70.148150   \n",
       "2021-08-09 20:00:00  6147.327593  38069.724786  8209.505214  71.374109   \n",
       "2021-08-10 00:00:00  5483.577841  38145.920460  7581.469540  65.765606   \n",
       "2021-08-10 04:00:00  5640.397684  38224.063739  7775.256261  67.136030   \n",
       "2021-08-10 08:00:00  4921.283330  38295.273453  7085.366547  61.139402   \n",
       "2021-08-10 12:00:00  4621.134464  38363.726453  6811.073547  59.243396   \n",
       "2021-08-10 16:00:00  4864.234374  38434.904996  7082.265004  61.388207   \n",
       "2021-08-10 20:00:00  4844.928287  38506.167036  7090.572964  61.890164   \n",
       "2021-08-11 00:00:00  4745.501321  38576.694329  7017.465671  61.862082   \n",
       "2021-08-11 04:00:00  5385.846095  38653.985132  7690.434868  66.607077   \n",
       "2021-08-11 08:00:00  4906.503373  38726.733638  7238.476362  62.382400   \n",
       "2021-08-11 12:00:00  5307.967505  38803.830816  7671.169184  65.546183   \n",
       "2021-08-11 16:00:00  5199.789355  38880.140360  7592.799640  65.522202   \n",
       "2021-08-11 20:00:00  4191.322168  38946.507222  6603.502778  55.691349   \n",
       "2021-08-12 00:00:00  4497.584725  39016.174414  6931.885586  58.577957   \n",
       "2021-08-12 04:00:00  3762.391230  39078.597057  6211.052943  52.486887   \n",
       "2021-08-12 08:00:00  3167.037806  39135.117782  5623.812218  48.141461   \n",
       "2021-08-12 12:00:00  2559.973450  39185.555516  5018.554484  44.036875   \n",
       "2021-08-12 16:00:00  2707.694381  39237.511083  5169.578917  45.855691   \n",
       "2021-08-12 20:00:00  2676.962493  39289.187490  5141.802510  46.077911   \n",
       "\n",
       "                             K          D         sma  bollinger_up  \\\n",
       "date                                                                  \n",
       "2021-08-09 16:00:00  94.771586  67.045807  44070.2500  46130.448656   \n",
       "2021-08-09 20:00:00  95.526394  86.268487  44273.8005  46363.613823   \n",
       "2021-08-10 00:00:00  84.232420  91.510133  44413.3700  46499.837074   \n",
       "2021-08-10 04:00:00  75.459170  85.072661  44572.8960  46630.488342   \n",
       "2021-08-10 08:00:00  49.951010  69.880866  44655.9280  46702.601408   \n",
       "2021-08-10 12:00:00  33.695577  53.035252  44752.1330  46699.146722   \n",
       "2021-08-10 16:00:00  19.370167  34.338918  44835.3880  46762.651502   \n",
       "2021-08-10 20:00:00  21.241307  24.769017  44944.5275  46777.792011   \n",
       "2021-08-11 00:00:00  27.767911  22.793128  45024.5055  46822.504953   \n",
       "2021-08-11 04:00:00  40.775003  29.928074  45109.9355  46990.637599   \n",
       "2021-08-11 08:00:00  39.704192  36.082369  45188.6290  47074.432108   \n",
       "2021-08-11 12:00:00  47.396960  42.625385  45269.3570  47232.646699   \n",
       "2021-08-11 16:00:00  43.197787  43.432980  45368.0040  47366.476197   \n",
       "2021-08-11 20:00:00  34.572286  41.722344  45445.1080  47338.887690   \n",
       "2021-08-12 00:00:00  23.388612  33.719562  45557.1970  47274.818747   \n",
       "2021-08-12 04:00:00   6.135417  21.365438  45629.8145  47153.082172   \n",
       "2021-08-12 08:00:00   6.135417  11.886482  45691.2940  46930.350348   \n",
       "2021-08-12 12:00:00   0.000000   4.090278  45708.6670  46844.888738   \n",
       "2021-08-12 16:00:00   2.686161   2.940526  45629.4410  46896.078488   \n",
       "2021-08-12 20:00:00   5.700512   2.795558  45555.4450  46921.831848   \n",
       "\n",
       "                     bollinger_down  dist_bollinger_up  dist_bollinger_down  \\\n",
       "date                                                                          \n",
       "2021-08-09 16:00:00    42010.051344        -137.408656          3982.988656   \n",
       "2021-08-09 20:00:00    42183.987177         -84.383823          4095.242823   \n",
       "2021-08-10 00:00:00    42326.902926        -772.447074          3400.487074   \n",
       "2021-08-10 04:00:00    42515.303658        -631.168342          3484.016342   \n",
       "2021-08-10 08:00:00    42609.254592       -1321.961408          2771.385408   \n",
       "2021-08-10 12:00:00    42805.119278       -1524.346722          2369.680722   \n",
       "2021-08-10 16:00:00    42908.124498       -1245.481502          2609.045502   \n",
       "2021-08-10 20:00:00    43111.262989       -1181.052011          2485.477011   \n",
       "2021-08-11 00:00:00    43226.506047       -1228.344953          2367.653953   \n",
       "2021-08-11 04:00:00    43229.233401        -646.217599          3115.186599   \n",
       "2021-08-11 08:00:00    43302.825892       -1109.222108          2662.384108   \n",
       "2021-08-11 12:00:00    43306.067301        -757.646699          3168.932699   \n",
       "2021-08-11 16:00:00    43369.531803        -893.536197          3103.408197   \n",
       "2021-08-11 20:00:00    43551.328310       -1788.877690          1998.681690   \n",
       "2021-08-12 00:00:00    43839.575253       -1326.758747          2108.484747   \n",
       "2021-08-12 04:00:00    44106.546828       -1863.432172          1183.103172   \n",
       "2021-08-12 08:00:00    44452.237652       -2171.420348           306.692348   \n",
       "2021-08-12 12:00:00    44572.445262       -2640.778738          -368.335262   \n",
       "2021-08-12 16:00:00    44362.803512       -2488.988488            44.286488   \n",
       "2021-08-12 20:00:00    44189.058152       -2490.841848           241.931848   \n",
       "\n",
       "                      vol_roc  4h Return  4h Gradient   boll_width  \\\n",
       "date                                                                 \n",
       "2021-08-09 16:00:00 -0.305097   0.178890        82.13  4120.397313   \n",
       "2021-08-09 20:00:00  0.156835   0.622246       286.19  4179.626646   \n",
       "2021-08-10 00:00:00 -0.708763  -1.192414      -551.84  4172.934148   \n",
       "2021-08-10 04:00:00 -0.143136   0.594676       271.93  4115.184684   \n",
       "2021-08-10 08:00:00  0.327967  -1.344976      -618.68  4093.346816   \n",
       "2021-08-10 12:00:00  1.037025  -0.453585      -205.84  3894.027445   \n",
       "2021-08-10 16:00:00  0.193946   0.757878       342.37  3854.527003   \n",
       "2021-08-10 20:00:00 -0.459978   0.174813        79.57  3666.529022   \n",
       "2021-08-11 00:00:00 -0.330549  -0.005658        -2.58  3595.998907   \n",
       "2021-08-11 04:00:00 -0.010816   1.645518       750.26  3761.404199   \n",
       "2021-08-11 08:00:00  0.284972  -0.818243      -379.21  3771.606216   \n",
       "2021-08-11 12:00:00  0.445211   1.109078       509.79  3926.579398   \n",
       "2021-08-11 16:00:00 -0.289276  -0.004432        -2.06  3996.944395   \n",
       "2021-08-11 20:00:00  0.517398  -1.985951      -922.93  3787.559381   \n",
       "2021-08-12 00:00:00 -0.455333   0.873875       398.05  3435.243495   \n",
       "2021-08-12 04:00:00  0.800303  -1.432944      -658.41  3046.535344   \n",
       "2021-08-12 08:00:00 -0.222081  -1.171835      -530.72  2478.112696   \n",
       "2021-08-12 12:00:00  0.641146  -1.239574      -554.82  2272.443476   \n",
       "2021-08-12 16:00:00 -0.265565   0.459188       202.98  2533.274975   \n",
       "2021-08-12 20:00:00 -0.267014   0.053820        23.90  2732.773696   \n",
       "\n",
       "                     high_low_avg  stoch_rsi   perc_bb  \n",
       "date                                                    \n",
       "2021-08-09 16:00:00     46113.650  80.908697  0.966652  \n",
       "2021-08-09 20:00:00     45659.530  90.897441  0.979811  \n",
       "2021-08-10 00:00:00     46197.855  87.871277  0.814891  \n",
       "2021-08-10 04:00:00     45683.250  80.265916  0.846625  \n",
       "2021-08-10 08:00:00     45701.235  59.915938  0.677046  \n",
       "2021-08-10 12:00:00     45510.720  43.365415  0.608542  \n",
       "2021-08-10 16:00:00     45116.500  26.854542  0.676878  \n",
       "2021-08-10 20:00:00     45592.550  23.005162  0.677883  \n",
       "2021-08-11 00:00:00     45675.615  25.280520  0.658413  \n",
       "2021-08-11 04:00:00     45960.525  35.351539  0.828198  \n",
       "2021-08-11 08:00:00     46242.515  37.893281  0.705902  \n",
       "2021-08-11 12:00:00     46314.835  45.011172  0.807047  \n",
       "2021-08-11 16:00:00     46424.035  43.315384  0.776445  \n",
       "2021-08-11 20:00:00     46121.950  38.147315  0.527696  \n",
       "2021-08-12 00:00:00     45823.665  28.554087  0.613780  \n",
       "2021-08-12 04:00:00     45441.440  13.750427  0.388344  \n",
       "2021-08-12 08:00:00     45166.760   9.010949  0.123760  \n",
       "2021-08-12 12:00:00     44439.985   2.045139 -0.162088  \n",
       "2021-08-12 16:00:00     44164.410   2.813343  0.017482  \n",
       "2021-08-12 20:00:00     44236.770   4.248035  0.088530  "
      ]
     },
     "execution_count": 14,
     "metadata": {},
     "output_type": "execute_result"
    }
   ],
   "source": [
    "data.tail(20)"
   ]
  },
  {
   "cell_type": "code",
   "execution_count": 15,
   "metadata": {
    "colab": {
     "base_uri": "https://localhost:8080/",
     "height": 396
    },
    "executionInfo": {
     "elapsed": 22347,
     "status": "ok",
     "timestamp": 1629967374725,
     "user": {
      "displayName": "Ivan Fernandes",
      "photoUrl": "https://lh3.googleusercontent.com/a-/AOh14GgHdj66drQjCguTVvVzCd5yy8cdMluPJPZlz_BQLg=s64",
      "userId": "12100132160237129013"
     },
     "user_tz": -120
    },
    "id": "gZqR9QqWl3T7",
    "outputId": "08c3ec7e-0b4b-4a45-b1d3-05a758a62e18"
   },
   "outputs": [
    {
     "data": {
      "image/png": "[encoded data removed]",
      "text/plain": [
       "<Figure size 360x360 with 1 Axes>"
      ]
     },
     "metadata": {},
     "output_type": "display_data"
    }
   ],
   "source": [
    "sns.displot(data = data, x= '4h Gradient')\n",
    "plt.ylabel('4h Return')\n",
    "plt.xlim([-500,500])\n",
    "plt.ylim([0,500])\n",
    "plt.title(f\"4h Return  for Bitcoin\");"
   ]
  },
  {
   "cell_type": "code",
   "execution_count": 16,
   "metadata": {},
   "outputs": [
    {
     "data": {
      "text/plain": [
       "Index(['open', 'high', 'low', 'close', 'volume', 'log_open', 'log_high',\n",
       "       'log_low', 'log_close', 'ema12', 'dist_ema12', 'ema26', 'dist_ema26',\n",
       "       'ema21', 'dist_ema21', 'ema50', 'dist_ema50', 'ema34', 'dist_ema34',\n",
       "       'ema55', 'dist_ema55', 'ema99', 'dist_ema99', 'ema200', 'dist_ema200',\n",
       "       'rsi', 'K', 'D', 'sma', 'bollinger_up', 'bollinger_down',\n",
       "       'dist_bollinger_up', 'dist_bollinger_down', 'vol_roc', '4h Return',\n",
       "       '4h Gradient', 'boll_width', 'high_low_avg', 'stoch_rsi', 'perc_bb'],\n",
       "      dtype='object')"
      ]
     },
     "execution_count": 16,
     "metadata": {},
     "output_type": "execute_result"
    }
   ],
   "source": [
    "data.columns"
   ]
  },
  {
   "cell_type": "code",
   "execution_count": 17,
   "metadata": {
    "colab": {
     "base_uri": "https://localhost:8080/",
     "height": 388
    },
    "executionInfo": {
     "elapsed": 435,
     "status": "ok",
     "timestamp": 1629967485048,
     "user": {
      "displayName": "Ivan Fernandes",
      "photoUrl": "https://lh3.googleusercontent.com/a-/AOh14GgHdj66drQjCguTVvVzCd5yy8cdMluPJPZlz_BQLg=s64",
      "userId": "12100132160237129013"
     },
     "user_tz": -120
    },
    "id": "k_7EthwKldWf",
    "outputId": "0f91c60d-f72a-4a51-d588-bda4a1b380db"
   },
   "outputs": [
    {
     "data": {
      "text/html": [
       "<div>\n",
       "<style scoped>\n",
       "    .dataframe tbody tr th:only-of-type {\n",
       "        vertical-align: middle;\n",
       "    }\n",
       "\n",
       "    .dataframe tbody tr th {\n",
       "        vertical-align: top;\n",
       "    }\n",
       "\n",
       "    .dataframe thead th {\n",
       "        text-align: right;\n",
       "    }\n",
       "</style>\n",
       "<table border=\"1\" class=\"dataframe\">\n",
       "  <thead>\n",
       "    <tr style=\"text-align: right;\">\n",
       "      <th></th>\n",
       "      <th>close</th>\n",
       "      <th>high</th>\n",
       "      <th>bollinger_up</th>\n",
       "      <th>rsi</th>\n",
       "    </tr>\n",
       "    <tr>\n",
       "      <th>date</th>\n",
       "      <th></th>\n",
       "      <th></th>\n",
       "      <th></th>\n",
       "      <th></th>\n",
       "    </tr>\n",
       "  </thead>\n",
       "  <tbody>\n",
       "    <tr>\n",
       "      <th>2021-08-11 08:00:00</th>\n",
       "      <td>45965.21</td>\n",
       "      <td>46595.78</td>\n",
       "      <td>47074.432108</td>\n",
       "      <td>62.382400</td>\n",
       "    </tr>\n",
       "    <tr>\n",
       "      <th>2021-08-11 12:00:00</th>\n",
       "      <td>46475.00</td>\n",
       "      <td>46775.00</td>\n",
       "      <td>47232.646699</td>\n",
       "      <td>65.546183</td>\n",
       "    </tr>\n",
       "    <tr>\n",
       "      <th>2021-08-11 16:00:00</th>\n",
       "      <td>46472.94</td>\n",
       "      <td>46608.31</td>\n",
       "      <td>47366.476197</td>\n",
       "      <td>65.522202</td>\n",
       "    </tr>\n",
       "    <tr>\n",
       "      <th>2021-08-11 20:00:00</th>\n",
       "      <td>45550.01</td>\n",
       "      <td>46694.94</td>\n",
       "      <td>47338.887690</td>\n",
       "      <td>55.691349</td>\n",
       "    </tr>\n",
       "    <tr>\n",
       "      <th>2021-08-12 00:00:00</th>\n",
       "      <td>45948.06</td>\n",
       "      <td>46220.75</td>\n",
       "      <td>47274.818747</td>\n",
       "      <td>58.577957</td>\n",
       "    </tr>\n",
       "    <tr>\n",
       "      <th>2021-08-12 04:00:00</th>\n",
       "      <td>45289.65</td>\n",
       "      <td>46023.08</td>\n",
       "      <td>47153.082172</td>\n",
       "      <td>52.486887</td>\n",
       "    </tr>\n",
       "    <tr>\n",
       "      <th>2021-08-12 08:00:00</th>\n",
       "      <td>44758.93</td>\n",
       "      <td>45663.34</td>\n",
       "      <td>46930.350348</td>\n",
       "      <td>48.141461</td>\n",
       "    </tr>\n",
       "    <tr>\n",
       "      <th>2021-08-12 12:00:00</th>\n",
       "      <td>44204.11</td>\n",
       "      <td>44956.97</td>\n",
       "      <td>46844.888738</td>\n",
       "      <td>44.036875</td>\n",
       "    </tr>\n",
       "    <tr>\n",
       "      <th>2021-08-12 16:00:00</th>\n",
       "      <td>44407.09</td>\n",
       "      <td>44528.82</td>\n",
       "      <td>46896.078488</td>\n",
       "      <td>45.855691</td>\n",
       "    </tr>\n",
       "    <tr>\n",
       "      <th>2021-08-12 20:00:00</th>\n",
       "      <td>44430.99</td>\n",
       "      <td>44578.23</td>\n",
       "      <td>46921.831848</td>\n",
       "      <td>46.077911</td>\n",
       "    </tr>\n",
       "  </tbody>\n",
       "</table>\n",
       "</div>"
      ],
      "text/plain": [
       "                        close      high  bollinger_up        rsi\n",
       "date                                                            \n",
       "2021-08-11 08:00:00  45965.21  46595.78  47074.432108  62.382400\n",
       "2021-08-11 12:00:00  46475.00  46775.00  47232.646699  65.546183\n",
       "2021-08-11 16:00:00  46472.94  46608.31  47366.476197  65.522202\n",
       "2021-08-11 20:00:00  45550.01  46694.94  47338.887690  55.691349\n",
       "2021-08-12 00:00:00  45948.06  46220.75  47274.818747  58.577957\n",
       "2021-08-12 04:00:00  45289.65  46023.08  47153.082172  52.486887\n",
       "2021-08-12 08:00:00  44758.93  45663.34  46930.350348  48.141461\n",
       "2021-08-12 12:00:00  44204.11  44956.97  46844.888738  44.036875\n",
       "2021-08-12 16:00:00  44407.09  44528.82  46896.078488  45.855691\n",
       "2021-08-12 20:00:00  44430.99  44578.23  46921.831848  46.077911"
      ]
     },
     "execution_count": 17,
     "metadata": {},
     "output_type": "execute_result"
    }
   ],
   "source": [
    "selected_features = ['close','high','bollinger_up','rsi']\n",
    "#selected_features= ['close','rsi','ema34','bollinger_up','4h Return']\n",
    "#selected_features=['close','rsi','ema20','ema50','bollinger_up','4h Return']\n",
    "selected_data = data[selected_features]\n",
    "selected_data.tail(10)"
   ]
  },
  {
   "cell_type": "code",
   "execution_count": null,
   "metadata": {},
   "outputs": [],
   "source": []
  },
  {
   "cell_type": "markdown",
   "metadata": {
    "id": "yB-e6gSuarJp"
   },
   "source": [
    "##  BTC Stock Price"
   ]
  },
  {
   "cell_type": "markdown",
   "metadata": {
    "id": "-xCE9uVbTOat"
   },
   "source": [
    "### Temporal Train-Test Split"
   ]
  },
  {
   "cell_type": "code",
   "execution_count": 18,
   "metadata": {
    "executionInfo": {
     "elapsed": 338,
     "status": "ok",
     "timestamp": 1629967515425,
     "user": {
      "displayName": "Ivan Fernandes",
      "photoUrl": "https://lh3.googleusercontent.com/a-/AOh14GgHdj66drQjCguTVvVzCd5yy8cdMluPJPZlz_BQLg=s64",
      "userId": "12100132160237129013"
     },
     "user_tz": -120
    },
    "id": "ywO60BptTOat"
   },
   "outputs": [],
   "source": [
    "train_percentage = 99"
   ]
  },
  {
   "cell_type": "code",
   "execution_count": 19,
   "metadata": {
    "colab": {
     "base_uri": "https://localhost:8080/"
    },
    "executionInfo": {
     "elapsed": 6,
     "status": "ok",
     "timestamp": 1629967587167,
     "user": {
      "displayName": "Ivan Fernandes",
      "photoUrl": "https://lh3.googleusercontent.com/a-/AOh14GgHdj66drQjCguTVvVzCd5yy8cdMluPJPZlz_BQLg=s64",
      "userId": "12100132160237129013"
     },
     "user_tz": -120
    },
    "id": "7WYQ6ez0TOat",
    "outputId": "37e64416-2715-4b67-fb97-87579856daf4"
   },
   "outputs": [
    {
     "data": {
      "text/plain": [
       "12647"
      ]
     },
     "execution_count": 19,
     "metadata": {},
     "output_type": "execute_result"
    }
   ],
   "source": [
    "train_len = int(len(selected_data) * train_percentage/100)\n",
    "train_len"
   ]
  },
  {
   "cell_type": "code",
   "execution_count": 20,
   "metadata": {
    "executionInfo": {
     "elapsed": 381,
     "status": "ok",
     "timestamp": 1629967641312,
     "user": {
      "displayName": "Ivan Fernandes",
      "photoUrl": "https://lh3.googleusercontent.com/a-/AOh14GgHdj66drQjCguTVvVzCd5yy8cdMluPJPZlz_BQLg=s64",
      "userId": "12100132160237129013"
     },
     "user_tz": -120
    },
    "id": "du_UX6DFTOau"
   },
   "outputs": [],
   "source": [
    "data_train = selected_data[:train_len]\n",
    "data_test = selected_data[train_len:]\n"
   ]
  },
  {
   "cell_type": "code",
   "execution_count": 21,
   "metadata": {},
   "outputs": [
    {
     "data": {
      "text/html": [
       "<div>\n",
       "<style scoped>\n",
       "    .dataframe tbody tr th:only-of-type {\n",
       "        vertical-align: middle;\n",
       "    }\n",
       "\n",
       "    .dataframe tbody tr th {\n",
       "        vertical-align: top;\n",
       "    }\n",
       "\n",
       "    .dataframe thead th {\n",
       "        text-align: right;\n",
       "    }\n",
       "</style>\n",
       "<table border=\"1\" class=\"dataframe\">\n",
       "  <thead>\n",
       "    <tr style=\"text-align: right;\">\n",
       "      <th></th>\n",
       "      <th>close</th>\n",
       "      <th>high</th>\n",
       "      <th>bollinger_up</th>\n",
       "      <th>rsi</th>\n",
       "    </tr>\n",
       "    <tr>\n",
       "      <th>date</th>\n",
       "      <th></th>\n",
       "      <th></th>\n",
       "      <th></th>\n",
       "      <th></th>\n",
       "    </tr>\n",
       "  </thead>\n",
       "  <tbody>\n",
       "    <tr>\n",
       "      <th>2021-07-22 08:00:00</th>\n",
       "      <td>31926.69</td>\n",
       "      <td>32261.22</td>\n",
       "      <td>32769.838505</td>\n",
       "      <td>57.393607</td>\n",
       "    </tr>\n",
       "    <tr>\n",
       "      <th>2021-07-22 12:00:00</th>\n",
       "      <td>32525.52</td>\n",
       "      <td>32590.75</td>\n",
       "      <td>32930.817460</td>\n",
       "      <td>62.680761</td>\n",
       "    </tr>\n",
       "  </tbody>\n",
       "</table>\n",
       "</div>"
      ],
      "text/plain": [
       "                        close      high  bollinger_up        rsi\n",
       "date                                                            \n",
       "2021-07-22 08:00:00  31926.69  32261.22  32769.838505  57.393607\n",
       "2021-07-22 12:00:00  32525.52  32590.75  32930.817460  62.680761"
      ]
     },
     "execution_count": 21,
     "metadata": {},
     "output_type": "execute_result"
    }
   ],
   "source": [
    "data_train.tail(2)"
   ]
  },
  {
   "cell_type": "code",
   "execution_count": 22,
   "metadata": {},
   "outputs": [
    {
     "name": "stdout",
     "output_type": "stream",
     "text": [
      "                      close    high  bollinger_up        rsi\n",
      "date                                                        \n",
      "2015-10-13 20:00:00  250.42  250.42    251.988559  62.138793\n",
      "                        close      high  bollinger_up        rsi\n",
      "date                                                            \n",
      "2021-07-22 12:00:00  32525.52  32590.75   32930.81746  62.680761\n"
     ]
    }
   ],
   "source": [
    "print(data_train.head(1))\n",
    "print(data_train.tail(1))"
   ]
  },
  {
   "cell_type": "code",
   "execution_count": 23,
   "metadata": {},
   "outputs": [
    {
     "name": "stdout",
     "output_type": "stream",
     "text": [
      "                        close      high  bollinger_up        rsi\n",
      "date                                                            \n",
      "2021-07-22 16:00:00  32391.79  32605.00  33087.015003  60.864325\n",
      "2021-07-22 20:00:00  32294.63  32507.38  33240.837082  59.514882\n",
      "2021-07-23 00:00:00  32598.43  32806.46  33431.156702  62.327442\n",
      "2021-07-23 04:00:00  32480.48  32942.50  33581.653696  60.568120\n",
      "2021-07-23 08:00:00  32313.52  32549.97  33628.779538  58.069427\n",
      "                        close      high  bollinger_up        rsi\n",
      "date                                                            \n",
      "2021-08-12 04:00:00  45289.65  46023.08  47153.082172  52.486887\n",
      "2021-08-12 08:00:00  44758.93  45663.34  46930.350348  48.141461\n",
      "2021-08-12 12:00:00  44204.11  44956.97  46844.888738  44.036875\n",
      "2021-08-12 16:00:00  44407.09  44528.82  46896.078488  45.855691\n",
      "2021-08-12 20:00:00  44430.99  44578.23  46921.831848  46.077911\n"
     ]
    }
   ],
   "source": [
    "print(data_test.head(5))\n",
    "print(data_test.tail(5))"
   ]
  },
  {
   "cell_type": "markdown",
   "metadata": {
    "id": "PO0NJSeTTOau"
   },
   "source": [
    "## LSTM"
   ]
  },
  {
   "cell_type": "code",
   "execution_count": 24,
   "metadata": {
    "executionInfo": {
     "elapsed": 391,
     "status": "ok",
     "timestamp": 1629967656804,
     "user": {
      "displayName": "Ivan Fernandes",
      "photoUrl": "https://lh3.googleusercontent.com/a-/AOh14GgHdj66drQjCguTVvVzCd5yy8cdMluPJPZlz_BQLg=s64",
      "userId": "12100132160237129013"
     },
     "user_tz": -120
    },
    "id": "LsSFTVehTOau"
   },
   "outputs": [],
   "source": [
    "from sklearn.preprocessing import MinMaxScaler\n",
    "\n",
    "minmax_scaler = MinMaxScaler(feature_range = (0,1))\n",
    "\n",
    "minmax_scaler.fit(data_train)\n",
    "\n",
    "data_train_scaled = minmax_scaler.transform(data_train)\n",
    "data_test_scaled = minmax_scaler.transform(data_test)"
   ]
  },
  {
   "cell_type": "code",
   "execution_count": 25,
   "metadata": {
    "colab": {
     "base_uri": "https://localhost:8080/"
    },
    "executionInfo": {
     "elapsed": 3,
     "status": "ok",
     "timestamp": 1629967657307,
     "user": {
      "displayName": "Ivan Fernandes",
      "photoUrl": "https://lh3.googleusercontent.com/a-/AOh14GgHdj66drQjCguTVvVzCd5yy8cdMluPJPZlz_BQLg=s64",
      "userId": "12100132160237129013"
     },
     "user_tz": -120
    },
    "id": "vCCSU71kTOau",
    "outputId": "55400905-ef27-434f-fcf3-cebc738f1d51"
   },
   "outputs": [
    {
     "data": {
      "text/plain": [
       "array([64567.25      , 64900.        , 66272.64103673,    94.1024183 ])"
      ]
     },
     "execution_count": 25,
     "metadata": {},
     "output_type": "execute_result"
    }
   ],
   "source": [
    "minmax_scaler.data_max_"
   ]
  },
  {
   "cell_type": "code",
   "execution_count": 26,
   "metadata": {
    "colab": {
     "base_uri": "https://localhost:8080/"
    },
    "executionInfo": {
     "elapsed": 4,
     "status": "ok",
     "timestamp": 1629967659501,
     "user": {
      "displayName": "Ivan Fernandes",
      "photoUrl": "https://lh3.googleusercontent.com/a-/AOh14GgHdj66drQjCguTVvVzCd5yy8cdMluPJPZlz_BQLg=s64",
      "userId": "12100132160237129013"
     },
     "user_tz": -120
    },
    "id": "7u5vQbfPTOav",
    "outputId": "4eea426d-b00e-4953-e15f-c41f79618ee7"
   },
   "outputs": [
    {
     "data": {
      "text/plain": [
       "array([250.42      , 250.42      , 251.98855888,   6.00372889])"
      ]
     },
     "execution_count": 26,
     "metadata": {},
     "output_type": "execute_result"
    }
   ],
   "source": [
    "minmax_scaler.data_min_"
   ]
  },
  {
   "cell_type": "code",
   "execution_count": 27,
   "metadata": {},
   "outputs": [
    {
     "data": {
      "text/plain": [
       "250.42"
      ]
     },
     "execution_count": 27,
     "metadata": {},
     "output_type": "execute_result"
    }
   ],
   "source": [
    "min1 = minmax_scaler.data_min_[0]\n",
    "min1"
   ]
  },
  {
   "cell_type": "code",
   "execution_count": 28,
   "metadata": {},
   "outputs": [
    {
     "data": {
      "text/plain": [
       "64316.83"
      ]
     },
     "execution_count": 28,
     "metadata": {},
     "output_type": "execute_result"
    }
   ],
   "source": [
    "range1 = minmax_scaler.data_range_[0]\n",
    "range1"
   ]
  },
  {
   "cell_type": "markdown",
   "metadata": {
    "id": "gMim3w6qTOaw"
   },
   "source": [
    "### Creating subsequences..."
   ]
  },
  {
   "cell_type": "code",
   "execution_count": 29,
   "metadata": {
    "executionInfo": {
     "elapsed": 4,
     "status": "ok",
     "timestamp": 1629967702188,
     "user": {
      "displayName": "Ivan Fernandes",
      "photoUrl": "https://lh3.googleusercontent.com/a-/AOh14GgHdj66drQjCguTVvVzCd5yy8cdMluPJPZlz_BQLg=s64",
      "userId": "12100132160237129013"
     },
     "user_tz": -120
    },
    "id": "uLSYeXScTOaz"
   },
   "outputs": [],
   "source": [
    "window_size = 18 # test with small window size\n",
    "horizon = 1 #number of predictions into the future :) \n",
    "data_train_subsequences = []\n",
    "fake_y_train = []\n",
    "for k in range(len(data_train_scaled)-(window_size-1)-horizon):\n",
    "    data_train_subsequences.append(data_train_scaled[k:k+window_size])\n",
    "    fake_y_train.append(data_train_scaled[k+window_size])"
   ]
  },
  {
   "cell_type": "code",
   "execution_count": 30,
   "metadata": {},
   "outputs": [],
   "source": [
    "X_train = np.array(data_train_subsequences)\n",
    "y_train = np.array(fake_y_train)[:,0].reshape(-1,1)"
   ]
  },
  {
   "cell_type": "code",
   "execution_count": 31,
   "metadata": {},
   "outputs": [
    {
     "data": {
      "text/plain": [
       "(12629, 18, 4)"
      ]
     },
     "execution_count": 31,
     "metadata": {},
     "output_type": "execute_result"
    }
   ],
   "source": [
    "X_train.shape"
   ]
  },
  {
   "cell_type": "code",
   "execution_count": 32,
   "metadata": {},
   "outputs": [
    {
     "data": {
      "text/plain": [
       "(12629, 1)"
      ]
     },
     "execution_count": 32,
     "metadata": {},
     "output_type": "execute_result"
    }
   ],
   "source": [
    "y_train.shape"
   ]
  },
  {
   "cell_type": "code",
   "execution_count": 33,
   "metadata": {},
   "outputs": [],
   "source": [
    "#with the same window_size & horizon as the train data\n",
    "window_size = 18\n",
    "horizon = 1\n",
    "data_test_subsequences = []\n",
    "fake_y_test = []\n",
    "for k in range(len(data_test_scaled)-(window_size-1)-horizon):\n",
    "    data_test_subsequences.append(data_test_scaled[k:k+window_size])\n",
    "    fake_y_test.append(data_test_scaled[k+window_size])"
   ]
  },
  {
   "cell_type": "code",
   "execution_count": 34,
   "metadata": {},
   "outputs": [],
   "source": [
    "X_test = np.array(data_test_subsequences)\n",
    "y_test = np.array(fake_y_test)[:,0].reshape(-1,1)"
   ]
  },
  {
   "cell_type": "code",
   "execution_count": 35,
   "metadata": {},
   "outputs": [
    {
     "data": {
      "text/plain": [
       "(110, 18, 4)"
      ]
     },
     "execution_count": 35,
     "metadata": {},
     "output_type": "execute_result"
    }
   ],
   "source": [
    "X_test.shape"
   ]
  },
  {
   "cell_type": "markdown",
   "metadata": {},
   "source": [
    "### Baseline"
   ]
  },
  {
   "cell_type": "code",
   "execution_count": 36,
   "metadata": {},
   "outputs": [],
   "source": [
    "# baseline predictions\n",
    "\n",
    "X_test_last_seen_value = [_[-1][0] for _ in X_test]"
   ]
  },
  {
   "cell_type": "code",
   "execution_count": 37,
   "metadata": {},
   "outputs": [],
   "source": [
    "X_test_last_seen_value_uns = np.array(X_test_last_seen_value) * range1 + min1"
   ]
  },
  {
   "cell_type": "code",
   "execution_count": 38,
   "metadata": {},
   "outputs": [],
   "source": [
    "X_test_last_seen_value_uns = X_test_last_seen_value_uns.reshape(-1,1)"
   ]
  },
  {
   "cell_type": "code",
   "execution_count": 39,
   "metadata": {},
   "outputs": [],
   "source": [
    "y_test_unscaled = y_test * range1 + min1"
   ]
  },
  {
   "cell_type": "code",
   "execution_count": 40,
   "metadata": {},
   "outputs": [
    {
     "data": {
      "text/plain": [
       "507.46327272727257"
      ]
     },
     "execution_count": 40,
     "metadata": {},
     "output_type": "execute_result"
    }
   ],
   "source": [
    "np.mean(np.abs(y_test_unscaled - X_test_last_seen_value_uns))"
   ]
  },
  {
   "cell_type": "markdown",
   "metadata": {},
   "source": [
    "### Baseline mape"
   ]
  },
  {
   "cell_type": "code",
   "execution_count": 41,
   "metadata": {},
   "outputs": [],
   "source": [
    "baseline_mape = np.mean(np.abs((y_test_unscaled - X_test_last_seen_value_uns) / y_test_unscaled)) *100"
   ]
  },
  {
   "cell_type": "code",
   "execution_count": 42,
   "metadata": {},
   "outputs": [
    {
     "data": {
      "text/plain": [
       "1.2389725020070528"
      ]
     },
     "execution_count": 42,
     "metadata": {},
     "output_type": "execute_result"
    }
   ],
   "source": [
    "baseline_mape "
   ]
  },
  {
   "cell_type": "markdown",
   "metadata": {
    "id": "KU7fCgwYTOa2"
   },
   "source": [
    "### LSTM"
   ]
  },
  {
   "cell_type": "markdown",
   "metadata": {
    "id": "4VXmMApdTOa3"
   },
   "source": [
    "#### RNN Architecture"
   ]
  },
  {
   "cell_type": "code",
   "execution_count": 43,
   "metadata": {
    "colab": {
     "base_uri": "https://localhost:8080/"
    },
    "executionInfo": {
     "elapsed": 1953,
     "status": "ok",
     "timestamp": 1629968948177,
     "user": {
      "displayName": "Ivan Fernandes",
      "photoUrl": "https://lh3.googleusercontent.com/a-/AOh14GgHdj66drQjCguTVvVzCd5yy8cdMluPJPZlz_BQLg=s64",
      "userId": "12100132160237129013"
     },
     "user_tz": -120
    },
    "id": "GkEjh2ngTOa4",
    "outputId": "934eff05-c3ac-4046-984c-0401bd0b2484"
   },
   "outputs": [
    {
     "name": "stderr",
     "output_type": "stream",
     "text": [
      "2021-09-02 16:44:06.950261: I tensorflow/core/platform/cpu_feature_guard.cc:142] This TensorFlow binary is optimized with oneAPI Deep Neural Network Library (oneDNN) to use the following CPU instructions in performance-critical operations:  AVX2 FMA\n",
      "To enable them in other operations, rebuild TensorFlow with the appropriate compiler flags.\n"
     ]
    }
   ],
   "source": [
    "from tensorflow.keras import Sequential, layers\n",
    "\n",
    "# Build the LSTM model\n",
    "model = Sequential()\n",
    "\n",
    "model.add(layers.LSTM(units=128,\n",
    "                     return_sequences = True,\n",
    "                     activation = \"tanh\"))\n",
    "                    #activation = \"relu\"\n",
    "                    #input_shape = X_train[0].shape))\n",
    "model.add(layers.Dropout(rate=0.2)) \n",
    "\n",
    "model.add(layers.LSTM(units=256,\n",
    "                      return_sequences = False,\n",
    "                      activation = \"relu\"))\n",
    "\n",
    "# model.add(layers.Dense(25,\n",
    "#                          activation=\"relu\"))\n",
    "model.add(layers.Dense(32,activation = \"tanh\"))\n",
    "\n",
    "#model.add(layers.Dense(16,activation=\"relu\"))\n",
    "\n",
    "#model.add(layers.Dense(8,activation = \"relu\"))\n",
    "\n",
    "model.add(layers.Dense(1,activation = \"relu\"))\n",
    "\n",
    "#model.summary()\n",
    "\n",
    "\n",
    "\n"
   ]
  },
  {
   "cell_type": "code",
   "execution_count": 44,
   "metadata": {
    "executionInfo": {
     "elapsed": 340,
     "status": "ok",
     "timestamp": 1629968954711,
     "user": {
      "displayName": "Ivan Fernandes",
      "photoUrl": "https://lh3.googleusercontent.com/a-/AOh14GgHdj66drQjCguTVvVzCd5yy8cdMluPJPZlz_BQLg=s64",
      "userId": "12100132160237129013"
     },
     "user_tz": -120
    },
    "id": "igW2CAISTOa5"
   },
   "outputs": [],
   "source": [
    "model.compile(loss=\"mse\",\n",
    "             optimizer = \"adam\",#rmsprop\n",
    "             metrics = \"mae\"#[my_mae]\n",
    "             )"
   ]
  },
  {
   "cell_type": "markdown",
   "metadata": {
    "id": "0JoMEFYdTOa5"
   },
   "source": [
    "#### Training"
   ]
  },
  {
   "cell_type": "code",
   "execution_count": 45,
   "metadata": {
    "colab": {
     "base_uri": "https://localhost:8080/"
    },
    "executionInfo": {
     "elapsed": 89008,
     "status": "ok",
     "timestamp": 1629969056811,
     "user": {
      "displayName": "Ivan Fernandes",
      "photoUrl": "https://lh3.googleusercontent.com/a-/AOh14GgHdj66drQjCguTVvVzCd5yy8cdMluPJPZlz_BQLg=s64",
      "userId": "12100132160237129013"
     },
     "user_tz": -120
    },
    "id": "x8WmFMDoTOa6",
    "outputId": "c4129e5e-d680-4199-e200-ed02360e4cc6"
   },
   "outputs": [
    {
     "name": "stderr",
     "output_type": "stream",
     "text": [
      "2021-09-02 16:44:07.030524: I tensorflow/compiler/mlir/mlir_graph_optimization_pass.cc:185] None of the MLIR Optimization Passes are enabled (registered 2)\n"
     ]
    },
    {
     "name": "stdout",
     "output_type": "stream",
     "text": [
      "Epoch 1/30\n",
      "632/632 [==============================] - 17s 23ms/step - loss: 8.4636e-05 - mae: 0.0054 - val_loss: 0.0051 - val_mae: 0.0470\n",
      "Epoch 2/30\n",
      "632/632 [==============================] - 14s 22ms/step - loss: 2.5240e-05 - mae: 0.0036 - val_loss: 0.0076 - val_mae: 0.0650\n",
      "Epoch 3/30\n",
      "632/632 [==============================] - 14s 22ms/step - loss: 2.5236e-05 - mae: 0.0036 - val_loss: 0.0042 - val_mae: 0.0439\n",
      "Epoch 4/30\n",
      "632/632 [==============================] - 14s 22ms/step - loss: 2.2177e-05 - mae: 0.0033 - val_loss: 0.0016 - val_mae: 0.0260\n",
      "Epoch 5/30\n",
      "632/632 [==============================] - 13s 21ms/step - loss: 1.9204e-05 - mae: 0.0031 - val_loss: 0.0027 - val_mae: 0.0348\n",
      "Epoch 6/30\n",
      "632/632 [==============================] - 14s 21ms/step - loss: 1.9112e-05 - mae: 0.0032 - val_loss: 7.1595e-04 - val_mae: 0.0173\n",
      "Epoch 7/30\n",
      "632/632 [==============================] - 14s 23ms/step - loss: 1.8763e-05 - mae: 0.0031 - val_loss: 0.0012 - val_mae: 0.0228\n",
      "Epoch 8/30\n",
      "632/632 [==============================] - 14s 22ms/step - loss: 1.6880e-05 - mae: 0.0029 - val_loss: 2.1972e-04 - val_mae: 0.0093\n",
      "Epoch 9/30\n",
      "632/632 [==============================] - 13s 21ms/step - loss: 1.7881e-05 - mae: 0.0030 - val_loss: 4.3988e-04 - val_mae: 0.0135\n",
      "Epoch 10/30\n",
      "632/632 [==============================] - 14s 22ms/step - loss: 1.6071e-05 - mae: 0.0029 - val_loss: 0.0043 - val_mae: 0.0496\n",
      "Epoch 11/30\n",
      "632/632 [==============================] - 14s 22ms/step - loss: 1.7891e-05 - mae: 0.0030 - val_loss: 2.8468e-04 - val_mae: 0.0122\n",
      "Epoch 12/30\n",
      "632/632 [==============================] - 14s 22ms/step - loss: 1.2665e-05 - mae: 0.0025 - val_loss: 9.9354e-04 - val_mae: 0.0206\n",
      "Epoch 13/30\n",
      "632/632 [==============================] - 13s 21ms/step - loss: 1.2946e-05 - mae: 0.0026 - val_loss: 0.0032 - val_mae: 0.0401\n",
      "Epoch 14/30\n",
      "632/632 [==============================] - 13s 21ms/step - loss: 1.3014e-05 - mae: 0.0026 - val_loss: 0.0018 - val_mae: 0.0275\n",
      "Epoch 15/30\n",
      "632/632 [==============================] - 13s 21ms/step - loss: 1.2745e-05 - mae: 0.0025 - val_loss: 0.0017 - val_mae: 0.0266\n",
      "Epoch 16/30\n",
      "632/632 [==============================] - 15s 24ms/step - loss: 1.2166e-05 - mae: 0.0025 - val_loss: 7.6642e-04 - val_mae: 0.0174\n",
      "Epoch 17/30\n",
      "632/632 [==============================] - 13s 21ms/step - loss: 1.2877e-05 - mae: 0.0026 - val_loss: 4.1538e-04 - val_mae: 0.0129\n",
      "Epoch 18/30\n",
      "632/632 [==============================] - 14s 22ms/step - loss: 1.0797e-05 - mae: 0.0023 - val_loss: 0.0018 - val_mae: 0.0276\n",
      "Epoch 19/30\n",
      "632/632 [==============================] - 14s 21ms/step - loss: 1.1655e-05 - mae: 0.0024 - val_loss: 8.2738e-04 - val_mae: 0.0223\n",
      "Epoch 20/30\n",
      "632/632 [==============================] - 14s 21ms/step - loss: 1.1912e-05 - mae: 0.0024 - val_loss: 0.0013 - val_mae: 0.0236\n",
      "Epoch 21/30\n",
      "632/632 [==============================] - 13s 21ms/step - loss: 1.0974e-05 - mae: 0.0023 - val_loss: 0.0017 - val_mae: 0.0276\n",
      "Epoch 22/30\n",
      "632/632 [==============================] - 14s 22ms/step - loss: 1.2106e-05 - mae: 0.0025 - val_loss: 6.4662e-04 - val_mae: 0.0181\n",
      "Epoch 23/30\n",
      "632/632 [==============================] - 15s 24ms/step - loss: 1.0928e-05 - mae: 0.0023 - val_loss: 4.5573e-04 - val_mae: 0.0140\n"
     ]
    }
   ],
   "source": [
    "from tensorflow.keras.callbacks import EarlyStopping \n",
    "\n",
    "es = EarlyStopping(patience = 5, restore_best_weights=True, monitor = \"mae\")\n",
    "#monitor = \"val_mean_absolute_error\"\n",
    "\n",
    "history = model.fit(X_train, y_train,\n",
    "                    validation_split = 0.2,\n",
    "                    batch_size=16,\n",
    "                    epochs=30,\n",
    "                    verbose = 1,\n",
    "                    callbacks = [es])"
   ]
  },
  {
   "cell_type": "code",
   "execution_count": 46,
   "metadata": {
    "executionInfo": {
     "elapsed": 618,
     "status": "ok",
     "timestamp": 1629971280020,
     "user": {
      "displayName": "Ivan Fernandes",
      "photoUrl": "https://lh3.googleusercontent.com/a-/AOh14GgHdj66drQjCguTVvVzCd5yy8cdMluPJPZlz_BQLg=s64",
      "userId": "12100132160237129013"
     },
     "user_tz": -120
    },
    "id": "6BnpySGUL453"
   },
   "outputs": [],
   "source": [
    "def plot_loss_mae(history):\n",
    "    \n",
    "    fig, ax =plt.subplots(1,2,figsize=(20,5))\n",
    "    \n",
    "    \n",
    "    ax[0].plot(history.history['loss'])\n",
    "    ax[0].plot(history.history['val_loss'])\n",
    "    ax[0].set_title('Model loss')\n",
    "    ax[0].set_xlabel('Epoch')\n",
    "    ax[0].set_ylabel('Loss')\n",
    "    ax[0].legend(['Train', 'Val'], loc='upper right')\n",
    "    ax[0].grid(axis=\"x\",linewidth=0.5)\n",
    "    ax[0].grid(axis=\"y\",linewidth=0.5)\n",
    "    \n",
    "#     # --- MAE\n",
    "\n",
    "    #ax[1].plot(history.history['mean_absolute_error'])\n",
    "    #ax[1].plot(history.history['val_mean_absolute_error'])\n",
    "    #ax[1].set_title('Model MAE', fontsize = 18)\n",
    "    #ax[1].set_xlabel('Epoch', fontsize = 14)\n",
    "    #ax[1].set_ylabel('Recall', fontsize = 14)\n",
    "    #ax[1].legend(['Train', 'Val'], loc='lower right') \n",
    "    #ax[1].grid(axis=\"x\",linewidth=0.5)\n",
    "    #ax[1].grid(axis=\"y\",linewidth=0.5)   \n",
    "    \n",
    "    #plt.show()\n",
    "    "
   ]
  },
  {
   "cell_type": "code",
   "execution_count": 47,
   "metadata": {
    "colab": {
     "base_uri": "https://localhost:8080/",
     "height": 330
    },
    "executionInfo": {
     "elapsed": 775,
     "status": "ok",
     "timestamp": 1629971280790,
     "user": {
      "displayName": "Ivan Fernandes",
      "photoUrl": "https://lh3.googleusercontent.com/a-/AOh14GgHdj66drQjCguTVvVzCd5yy8cdMluPJPZlz_BQLg=s64",
      "userId": "12100132160237129013"
     },
     "user_tz": -120
    },
    "id": "CYBdZyrzL454",
    "outputId": "be857210-3dbb-4216-8037-6adedfac0875"
   },
   "outputs": [
    {
     "data": {
      "image/png": "[encoded data removed]",
      "text/plain": [
       "<Figure size 1440x360 with 2 Axes>"
      ]
     },
     "metadata": {},
     "output_type": "display_data"
    }
   ],
   "source": [
    "plot_loss_mae(history)"
   ]
  },
  {
   "cell_type": "markdown",
   "metadata": {
    "id": "dPlbdR24TOa7"
   },
   "source": [
    "#### Evaluating"
   ]
  },
  {
   "cell_type": "code",
   "execution_count": 48,
   "metadata": {
    "colab": {
     "base_uri": "https://localhost:8080/",
     "height": 370
    },
    "executionInfo": {
     "elapsed": 346,
     "status": "error",
     "timestamp": 1629971289974,
     "user": {
      "displayName": "Ivan Fernandes",
      "photoUrl": "https://lh3.googleusercontent.com/a-/AOh14GgHdj66drQjCguTVvVzCd5yy8cdMluPJPZlz_BQLg=s64",
      "userId": "12100132160237129013"
     },
     "user_tz": -120
    },
    "id": "fGR98XHrTOa7",
    "outputId": "eae3ab01-8077-4116-c16d-93c6c971a35d"
   },
   "outputs": [],
   "source": [
    "# res = model.evaluate(X_test, y_test, verbose = 1)\n",
    "# res\n"
   ]
  },
  {
   "cell_type": "markdown",
   "metadata": {
    "id": "o3S6CvgCTOa8"
   },
   "source": [
    "#### Predictions"
   ]
  },
  {
   "cell_type": "code",
   "execution_count": 49,
   "metadata": {
    "executionInfo": {
     "elapsed": 3825,
     "status": "ok",
     "timestamp": 1629969068317,
     "user": {
      "displayName": "Ivan Fernandes",
      "photoUrl": "https://lh3.googleusercontent.com/a-/AOh14GgHdj66drQjCguTVvVzCd5yy8cdMluPJPZlz_BQLg=s64",
      "userId": "12100132160237129013"
     },
     "user_tz": -120
    },
    "id": "_a1LDha2TOa9"
   },
   "outputs": [],
   "source": [
    "predictions = model.predict(X_test)\n"
   ]
  },
  {
   "cell_type": "code",
   "execution_count": 50,
   "metadata": {
    "colab": {
     "base_uri": "https://localhost:8080/"
    },
    "executionInfo": {
     "elapsed": 14,
     "status": "ok",
     "timestamp": 1629969068318,
     "user": {
      "displayName": "Ivan Fernandes",
      "photoUrl": "https://lh3.googleusercontent.com/a-/AOh14GgHdj66drQjCguTVvVzCd5yy8cdMluPJPZlz_BQLg=s64",
      "userId": "12100132160237129013"
     },
     "user_tz": -120
    },
    "id": "abi96XmrTOa-",
    "outputId": "d96a92dc-04ec-4680-b3a2-ed4c39f13817"
   },
   "outputs": [
    {
     "data": {
      "text/plain": [
       "(110, 110)"
      ]
     },
     "execution_count": 50,
     "metadata": {},
     "output_type": "execute_result"
    }
   ],
   "source": [
    "len(predictions), len(y_test)"
   ]
  },
  {
   "cell_type": "code",
   "execution_count": 51,
   "metadata": {
    "colab": {
     "base_uri": "https://localhost:8080/"
    },
    "executionInfo": {
     "elapsed": 11,
     "status": "ok",
     "timestamp": 1629969068318,
     "user": {
      "displayName": "Ivan Fernandes",
      "photoUrl": "https://lh3.googleusercontent.com/a-/AOh14GgHdj66drQjCguTVvVzCd5yy8cdMluPJPZlz_BQLg=s64",
      "userId": "12100132160237129013"
     },
     "user_tz": -120
    },
    "id": "WbG_o9xrTOa-",
    "outputId": "586ea1e0-d0c1-400e-88fd-b45f46966093"
   },
   "outputs": [
    {
     "data": {
      "text/plain": [
       "array([[0.50253665],\n",
       "       [0.5043036 ],\n",
       "       [0.51844674]], dtype=float32)"
      ]
     },
     "execution_count": 51,
     "metadata": {},
     "output_type": "execute_result"
    }
   ],
   "source": [
    "predictions[0:3]"
   ]
  },
  {
   "cell_type": "code",
   "execution_count": 52,
   "metadata": {},
   "outputs": [],
   "source": [
    "y_test_unscaled = y_test * range1 + min1"
   ]
  },
  {
   "cell_type": "code",
   "execution_count": 53,
   "metadata": {},
   "outputs": [],
   "source": [
    "predictions_unscaled = predictions * range1 + min1"
   ]
  },
  {
   "cell_type": "code",
   "execution_count": 54,
   "metadata": {},
   "outputs": [
    {
     "name": "stdout",
     "output_type": "stream",
     "text": [
      "            0\n",
      "105  45289.65\n",
      "106  44758.93\n",
      "107  44204.11\n",
      "108  44407.09\n",
      "109  44430.99\n",
      "                0\n",
      "105  42333.792969\n",
      "106  41852.804688\n",
      "107  41302.742188\n",
      "108  40713.390625\n",
      "109  40691.855469\n"
     ]
    }
   ],
   "source": [
    "print(pd.DataFrame(y_test_unscaled).tail(5))\n",
    "print(pd.DataFrame(predictions_unscaled).tail(5))"
   ]
  },
  {
   "cell_type": "markdown",
   "metadata": {
    "id": "bN_vtDyWTOa-"
   },
   "source": [
    "The operation computed during a `MinMaxScaler` Operation is:\n",
    "\n",
    "$$x_{scaled} = \\frac{x - x_{min}}{x_{max}- x_{min}}$$\n",
    "\n",
    "To descale it:\n",
    "\n",
    "$$x = x_{scaled} * (x_{max}- x_{min}) + x_{min}$$\n",
    "\n",
    "Or use the `inverse_transform` directly provided..."
   ]
  },
  {
   "cell_type": "code",
   "execution_count": 55,
   "metadata": {},
   "outputs": [
    {
     "data": {
      "text/plain": [
       "2800.901137073865"
      ]
     },
     "execution_count": 55,
     "metadata": {},
     "output_type": "execute_result"
    }
   ],
   "source": [
    "np.mean(np.abs(y_test_unscaled - predictions_unscaled))"
   ]
  },
  {
   "cell_type": "code",
   "execution_count": 56,
   "metadata": {},
   "outputs": [
    {
     "data": {
      "text/plain": [
       "6.740715660756477"
      ]
     },
     "execution_count": 56,
     "metadata": {},
     "output_type": "execute_result"
    }
   ],
   "source": [
    "np.mean(np.abs((y_test_unscaled - predictions_unscaled) / y_test_unscaled)) *100"
   ]
  },
  {
   "cell_type": "code",
   "execution_count": 57,
   "metadata": {},
   "outputs": [
    {
     "data": {
      "text/plain": [
       "(110, 1)"
      ]
     },
     "execution_count": 57,
     "metadata": {},
     "output_type": "execute_result"
    }
   ],
   "source": [
    "y_test_unscaled.shape"
   ]
  },
  {
   "cell_type": "code",
   "execution_count": 58,
   "metadata": {},
   "outputs": [
    {
     "data": {
      "text/plain": [
       "(110, 1)"
      ]
     },
     "execution_count": 58,
     "metadata": {},
     "output_type": "execute_result"
    }
   ],
   "source": [
    "predictions_unscaled.shape"
   ]
  },
  {
   "cell_type": "code",
   "execution_count": 59,
   "metadata": {},
   "outputs": [],
   "source": [
    "from tensorflow.keras.models import load_model, save_model"
   ]
  },
  {
   "cell_type": "code",
   "execution_count": 60,
   "metadata": {},
   "outputs": [
    {
     "name": "stdout",
     "output_type": "stream",
     "text": [
      "INFO:tensorflow:Assets written to: new_data_high_bollinger_up_rsi_1_71_upgrade_trace/assets\n"
     ]
    }
   ],
   "source": [
    "# save_model(model, \"new_data_high_bollinger_up_rsi_1_71_upgrade_trace\",save_traces=False)"
   ]
  },
  {
   "cell_type": "code",
   "execution_count": 61,
   "metadata": {},
   "outputs": [
    {
     "data": {
      "image/png": "[encoded data removed]",
      "text/plain": [
       "<Figure size 1080x576 with 1 Axes>"
      ]
     },
     "metadata": {},
     "output_type": "display_data"
    }
   ],
   "source": [
    "dates =data_test[window_size:window_size+len(y_test_unscaled)]\n",
    "\n",
    "fig = plt.figure(figsize=(15, 8))\n",
    "\n",
    "plt.plot(dates.index,y_test_unscaled, label = \"Actual Prices\",color=\"orange\")\n",
    "plt.plot(dates.index,predictions_unscaled, label = \"Predictions\",linewidth=1.25,color=\"blue\")\n",
    "plt.title(\"LSTM-Model Predictions vs. Actual Prices | Test Data\",fontdict = {'fontsize' : 30})\n",
    "plt.ylabel(\"$\")\n",
    "plt.yticks(fontsize=20)\n",
    "plt.xticks(fontsize=20)\n",
    "plt.legend(prop={'size':20})\n",
    "plt.show()"
   ]
  },
  {
   "cell_type": "code",
   "execution_count": 62,
   "metadata": {},
   "outputs": [
    {
     "ename": "SyntaxError",
     "evalue": "invalid syntax (958000207.py, line 1)",
     "output_type": "error",
     "traceback": [
      "\u001b[0;36m  File \u001b[0;32m\"/var/folders/pr/4hn2kf9s0rj4ly5p93cm53v00000gq/T/ipykernel_49744/958000207.py\"\u001b[0;36m, line \u001b[0;32m1\u001b[0m\n\u001b[0;31m    stop stop\u001b[0m\n\u001b[0m         ^\u001b[0m\n\u001b[0;31mSyntaxError\u001b[0m\u001b[0;31m:\u001b[0m invalid syntax\n"
     ]
    }
   ],
   "source": [
    "stop stop "
   ]
  },
  {
   "cell_type": "code",
   "execution_count": null,
   "metadata": {},
   "outputs": [],
   "source": [
    "#import joblib\n",
    "# from tensorflow.keras.models import load_model, save_model\n",
    "# save_model(model, \"rsi_boll_up_down_4h_return\")"
   ]
  },
  {
   "cell_type": "markdown",
   "metadata": {},
   "source": [
    "### Test Model on Coingecko"
   ]
  },
  {
   "cell_type": "code",
   "execution_count": null,
   "metadata": {},
   "outputs": [],
   "source": []
  },
  {
   "cell_type": "markdown",
   "metadata": {
    "heading_collapsed": true
   },
   "source": [
    "### Test based on 1 window_size and 1 prediction (4 hours in de future) with Coingecko Data"
   ]
  },
  {
   "cell_type": "code",
   "execution_count": null,
   "metadata": {
    "hidden": true
   },
   "outputs": [],
   "source": [
    "# X_gecko = coingecko.dropna()[-18:]"
   ]
  },
  {
   "cell_type": "code",
   "execution_count": null,
   "metadata": {
    "hidden": true
   },
   "outputs": [],
   "source": [
    "# X_gecko.shape"
   ]
  },
  {
   "cell_type": "code",
   "execution_count": null,
   "metadata": {
    "hidden": true
   },
   "outputs": [],
   "source": [
    "# x_gecko_scaled = minmax_scaler.transform(X_gecko)"
   ]
  },
  {
   "cell_type": "code",
   "execution_count": null,
   "metadata": {
    "hidden": true
   },
   "outputs": [],
   "source": [
    "# x_gecko_scaled_reshaped = x_gecko_scaled.reshape(1,18,4) #18 is the window size, 9 is number of features. "
   ]
  },
  {
   "cell_type": "code",
   "execution_count": null,
   "metadata": {
    "hidden": true
   },
   "outputs": [],
   "source": [
    "# predictions_api = model.predict(x_gecko_scaled_reshaped)"
   ]
  },
  {
   "cell_type": "code",
   "execution_count": null,
   "metadata": {
    "hidden": true
   },
   "outputs": [],
   "source": [
    "# predictions_api"
   ]
  },
  {
   "cell_type": "code",
   "execution_count": null,
   "metadata": {
    "hidden": true
   },
   "outputs": [],
   "source": [
    "# predictions_api_unscaled = predictions_api * range1 + min1 "
   ]
  },
  {
   "cell_type": "code",
   "execution_count": null,
   "metadata": {
    "hidden": true
   },
   "outputs": [],
   "source": [
    "# predictions_api_unscaled\n"
   ]
  },
  {
   "cell_type": "code",
   "execution_count": null,
   "metadata": {
    "hidden": true
   },
   "outputs": [],
   "source": []
  },
  {
   "cell_type": "markdown",
   "metadata": {},
   "source": [
    "### Creating X_test_gecko and y_test_gecko"
   ]
  },
  {
   "cell_type": "code",
   "execution_count": 63,
   "metadata": {},
   "outputs": [],
   "source": [
    "coingecko = get_coingecko()"
   ]
  },
  {
   "cell_type": "code",
   "execution_count": 64,
   "metadata": {},
   "outputs": [],
   "source": [
    "coingecko = feature_engineer(coingecko)"
   ]
  },
  {
   "cell_type": "code",
   "execution_count": 65,
   "metadata": {},
   "outputs": [],
   "source": [
    "X_test_gecko = coingecko.dropna()[-144:]"
   ]
  },
  {
   "cell_type": "code",
   "execution_count": 66,
   "metadata": {},
   "outputs": [],
   "source": [
    "# print(X_test_gecko.head(1))\n",
    "# print(X_test_gecko.tail(1))"
   ]
  },
  {
   "cell_type": "code",
   "execution_count": 67,
   "metadata": {},
   "outputs": [],
   "source": [
    "#selected_features = ['close','high','bollinger_up','rsi']"
   ]
  },
  {
   "cell_type": "code",
   "execution_count": 68,
   "metadata": {},
   "outputs": [],
   "source": [
    "X_test_gecko = X_test_gecko[selected_features]"
   ]
  },
  {
   "cell_type": "code",
   "execution_count": 69,
   "metadata": {},
   "outputs": [
    {
     "data": {
      "text/html": [
       "<div>\n",
       "<style scoped>\n",
       "    .dataframe tbody tr th:only-of-type {\n",
       "        vertical-align: middle;\n",
       "    }\n",
       "\n",
       "    .dataframe tbody tr th {\n",
       "        vertical-align: top;\n",
       "    }\n",
       "\n",
       "    .dataframe thead th {\n",
       "        text-align: right;\n",
       "    }\n",
       "</style>\n",
       "<table border=\"1\" class=\"dataframe\">\n",
       "  <thead>\n",
       "    <tr style=\"text-align: right;\">\n",
       "      <th></th>\n",
       "      <th>close</th>\n",
       "      <th>high</th>\n",
       "      <th>bollinger_up</th>\n",
       "      <th>rsi</th>\n",
       "    </tr>\n",
       "  </thead>\n",
       "  <tbody>\n",
       "    <tr>\n",
       "      <th>2021-09-02 04:00:00</th>\n",
       "      <td>49638.76</td>\n",
       "      <td>49734.07</td>\n",
       "      <td>49374.882485</td>\n",
       "      <td>64.069714</td>\n",
       "    </tr>\n",
       "    <tr>\n",
       "      <th>2021-09-02 08:00:00</th>\n",
       "      <td>49847.11</td>\n",
       "      <td>49847.11</td>\n",
       "      <td>49574.652945</td>\n",
       "      <td>65.349958</td>\n",
       "    </tr>\n",
       "    <tr>\n",
       "      <th>2021-09-02 12:00:00</th>\n",
       "      <td>50050.14</td>\n",
       "      <td>50056.55</td>\n",
       "      <td>49890.630233</td>\n",
       "      <td>66.598904</td>\n",
       "    </tr>\n",
       "  </tbody>\n",
       "</table>\n",
       "</div>"
      ],
      "text/plain": [
       "                        close      high  bollinger_up        rsi\n",
       "2021-09-02 04:00:00  49638.76  49734.07  49374.882485  64.069714\n",
       "2021-09-02 08:00:00  49847.11  49847.11  49574.652945  65.349958\n",
       "2021-09-02 12:00:00  50050.14  50056.55  49890.630233  66.598904"
      ]
     },
     "execution_count": 69,
     "metadata": {},
     "output_type": "execute_result"
    }
   ],
   "source": [
    "X_test_gecko.tail(3)"
   ]
  },
  {
   "cell_type": "code",
   "execution_count": 70,
   "metadata": {},
   "outputs": [
    {
     "data": {
      "text/html": [
       "<div>\n",
       "<style scoped>\n",
       "    .dataframe tbody tr th:only-of-type {\n",
       "        vertical-align: middle;\n",
       "    }\n",
       "\n",
       "    .dataframe tbody tr th {\n",
       "        vertical-align: top;\n",
       "    }\n",
       "\n",
       "    .dataframe thead th {\n",
       "        text-align: right;\n",
       "    }\n",
       "</style>\n",
       "<table border=\"1\" class=\"dataframe\">\n",
       "  <thead>\n",
       "    <tr style=\"text-align: right;\">\n",
       "      <th></th>\n",
       "      <th>close</th>\n",
       "      <th>high</th>\n",
       "      <th>bollinger_up</th>\n",
       "      <th>rsi</th>\n",
       "    </tr>\n",
       "  </thead>\n",
       "  <tbody>\n",
       "    <tr>\n",
       "      <th>2021-08-09 16:00:00</th>\n",
       "      <td>45553.30</td>\n",
       "      <td>45779.42</td>\n",
       "      <td>46107.632533</td>\n",
       "      <td>69.001025</td>\n",
       "    </tr>\n",
       "    <tr>\n",
       "      <th>2021-08-09 20:00:00</th>\n",
       "      <td>46433.43</td>\n",
       "      <td>46433.43</td>\n",
       "      <td>46318.263291</td>\n",
       "      <td>72.466926</td>\n",
       "    </tr>\n",
       "    <tr>\n",
       "      <th>2021-08-10 00:00:00</th>\n",
       "      <td>46207.83</td>\n",
       "      <td>46207.83</td>\n",
       "      <td>46343.031593</td>\n",
       "      <td>70.297302</td>\n",
       "    </tr>\n",
       "    <tr>\n",
       "      <th>2021-08-10 04:00:00</th>\n",
       "      <td>46090.72</td>\n",
       "      <td>46311.00</td>\n",
       "      <td>46569.418976</td>\n",
       "      <td>69.140087</td>\n",
       "    </tr>\n",
       "    <tr>\n",
       "      <th>2021-08-10 08:00:00</th>\n",
       "      <td>45639.42</td>\n",
       "      <td>45753.42</td>\n",
       "      <td>46648.623307</td>\n",
       "      <td>64.718674</td>\n",
       "    </tr>\n",
       "    <tr>\n",
       "      <th>...</th>\n",
       "      <td>...</td>\n",
       "      <td>...</td>\n",
       "      <td>...</td>\n",
       "      <td>...</td>\n",
       "    </tr>\n",
       "    <tr>\n",
       "      <th>2021-09-01 20:00:00</th>\n",
       "      <td>48751.95</td>\n",
       "      <td>48849.86</td>\n",
       "      <td>49164.052238</td>\n",
       "      <td>58.758793</td>\n",
       "    </tr>\n",
       "    <tr>\n",
       "      <th>2021-09-02 00:00:00</th>\n",
       "      <td>48427.57</td>\n",
       "      <td>48427.57</td>\n",
       "      <td>49159.931056</td>\n",
       "      <td>55.118289</td>\n",
       "    </tr>\n",
       "    <tr>\n",
       "      <th>2021-09-02 04:00:00</th>\n",
       "      <td>49638.76</td>\n",
       "      <td>49734.07</td>\n",
       "      <td>49374.882485</td>\n",
       "      <td>64.069714</td>\n",
       "    </tr>\n",
       "    <tr>\n",
       "      <th>2021-09-02 08:00:00</th>\n",
       "      <td>49847.11</td>\n",
       "      <td>49847.11</td>\n",
       "      <td>49574.652945</td>\n",
       "      <td>65.349958</td>\n",
       "    </tr>\n",
       "    <tr>\n",
       "      <th>2021-09-02 12:00:00</th>\n",
       "      <td>50050.14</td>\n",
       "      <td>50056.55</td>\n",
       "      <td>49890.630233</td>\n",
       "      <td>66.598904</td>\n",
       "    </tr>\n",
       "  </tbody>\n",
       "</table>\n",
       "<p>144 rows × 4 columns</p>\n",
       "</div>"
      ],
      "text/plain": [
       "                        close      high  bollinger_up        rsi\n",
       "2021-08-09 16:00:00  45553.30  45779.42  46107.632533  69.001025\n",
       "2021-08-09 20:00:00  46433.43  46433.43  46318.263291  72.466926\n",
       "2021-08-10 00:00:00  46207.83  46207.83  46343.031593  70.297302\n",
       "2021-08-10 04:00:00  46090.72  46311.00  46569.418976  69.140087\n",
       "2021-08-10 08:00:00  45639.42  45753.42  46648.623307  64.718674\n",
       "...                       ...       ...           ...        ...\n",
       "2021-09-01 20:00:00  48751.95  48849.86  49164.052238  58.758793\n",
       "2021-09-02 00:00:00  48427.57  48427.57  49159.931056  55.118289\n",
       "2021-09-02 04:00:00  49638.76  49734.07  49374.882485  64.069714\n",
       "2021-09-02 08:00:00  49847.11  49847.11  49574.652945  65.349958\n",
       "2021-09-02 12:00:00  50050.14  50056.55  49890.630233  66.598904\n",
       "\n",
       "[144 rows x 4 columns]"
      ]
     },
     "execution_count": 70,
     "metadata": {},
     "output_type": "execute_result"
    }
   ],
   "source": [
    "X_test_gecko"
   ]
  },
  {
   "cell_type": "code",
   "execution_count": 71,
   "metadata": {},
   "outputs": [],
   "source": [
    "X_test_gecko_scaled = minmax_scaler.transform(X_test_gecko)"
   ]
  },
  {
   "cell_type": "code",
   "execution_count": 72,
   "metadata": {},
   "outputs": [
    {
     "data": {
      "text/plain": [
       "(144, 4)"
      ]
     },
     "execution_count": 72,
     "metadata": {},
     "output_type": "execute_result"
    }
   ],
   "source": [
    "X_test_gecko.shape"
   ]
  },
  {
   "cell_type": "code",
   "execution_count": 73,
   "metadata": {},
   "outputs": [],
   "source": [
    "#with the same window_size & horizon as the train data\n",
    "window_size = 18\n",
    "horizon = 1\n",
    "X_test_gecko_sub = []\n",
    "fake_y_test_gecko_sub = []\n",
    "for k in range(len(X_test_gecko_scaled)-(window_size-1)-horizon):\n",
    "    X_test_gecko_sub.append(X_test_gecko_scaled[k:k+window_size])\n",
    "    fake_y_test_gecko_sub.append(X_test_gecko_scaled[k+window_size])"
   ]
  },
  {
   "cell_type": "code",
   "execution_count": 74,
   "metadata": {},
   "outputs": [],
   "source": [
    "X_test_gecko_np = np.array(X_test_gecko_sub)\n",
    "y_test_gecko_np = np.array(fake_y_test_gecko_sub)[:,0].reshape(-1,1)"
   ]
  },
  {
   "cell_type": "code",
   "execution_count": 75,
   "metadata": {},
   "outputs": [
    {
     "name": "stdout",
     "output_type": "stream",
     "text": [
      "(126, 18, 4)\n",
      "(126, 1)\n"
     ]
    }
   ],
   "source": [
    "print(X_test_gecko_np.shape)\n",
    "print(y_test_gecko_np.shape)"
   ]
  },
  {
   "cell_type": "code",
   "execution_count": 76,
   "metadata": {},
   "outputs": [],
   "source": [
    "predictions_gecko = model.predict(X_test_gecko_np)"
   ]
  },
  {
   "cell_type": "code",
   "execution_count": 77,
   "metadata": {},
   "outputs": [],
   "source": [
    "predictions_gecko_unscaled = predictions_gecko * range1 + min1"
   ]
  },
  {
   "cell_type": "code",
   "execution_count": 78,
   "metadata": {},
   "outputs": [
    {
     "data": {
      "text/plain": [
       "array([[41690.062],\n",
       "       [40691.086],\n",
       "       [40672.32 ],\n",
       "       [40393.684],\n",
       "       [41552.293],\n",
       "       [42263.598],\n",
       "       [42744.383],\n",
       "       [42954.656],\n",
       "       [42962.715],\n",
       "       [43781.758],\n",
       "       [44058.734],\n",
       "       [44002.297],\n",
       "       [42828.97 ],\n",
       "       [42911.496],\n",
       "       [42978.24 ],\n",
       "       [43173.117],\n",
       "       [43498.777],\n",
       "       [42895.79 ],\n",
       "       [42138.645],\n",
       "       [41978.62 ],\n",
       "       [42312.273],\n",
       "       [43317.84 ],\n",
       "       [44152.273],\n",
       "       [43797.223],\n",
       "       [43525.9  ],\n",
       "       [42572.184],\n",
       "       [42422.8  ],\n",
       "       [42282.516],\n",
       "       [42435.723],\n",
       "       [42075.207],\n",
       "       [42789.535],\n",
       "       [42497.957],\n",
       "       [41965.367],\n",
       "       [41186.273],\n",
       "       [40935.938],\n",
       "       [41417.863],\n",
       "       [41556.094],\n",
       "       [41473.03 ],\n",
       "       [41670.92 ],\n",
       "       [41040.562],\n",
       "       [40776.992],\n",
       "       [40473.3  ],\n",
       "       [40464.63 ],\n",
       "       [41492.414],\n",
       "       [42961.074],\n",
       "       [43186.64 ],\n",
       "       [43555.445],\n",
       "       [43440.996],\n",
       "       [43424.176],\n",
       "       [44598.26 ],\n",
       "       [44914.043],\n",
       "       [45383.254],\n",
       "       [45213.793],\n",
       "       [44881.418],\n",
       "       [45121.297],\n",
       "       [45207.758],\n",
       "       [45680.305],\n",
       "       [45575.59 ],\n",
       "       [44922.816],\n",
       "       [45113.99 ],\n",
       "       [45288.758],\n",
       "       [44506.715],\n",
       "       [44324.09 ],\n",
       "       [44965.95 ],\n",
       "       [46039.562],\n",
       "       [46347.047],\n",
       "       [46261.03 ],\n",
       "       [45575.55 ],\n",
       "       [45366.887],\n",
       "       [45456.387],\n",
       "       [45035.285],\n",
       "       [45431.793],\n",
       "       [45174.4  ],\n",
       "       [44553.727],\n",
       "       [43783.734],\n",
       "       [43845.12 ],\n",
       "       [43913.082],\n",
       "       [44103.387],\n",
       "       [43378.703],\n",
       "       [44112.68 ],\n",
       "       [44788.53 ],\n",
       "       [44809.02 ],\n",
       "       [44628.453],\n",
       "       [43026.965],\n",
       "       [42544.844],\n",
       "       [42461.55 ],\n",
       "       [42619.945],\n",
       "       [42900.88 ],\n",
       "       [43058.945],\n",
       "       [42880.87 ],\n",
       "       [43138.836],\n",
       "       [44236.68 ],\n",
       "       [44495.223],\n",
       "       [45062.99 ],\n",
       "       [45114.38 ],\n",
       "       [45041.594],\n",
       "       [44836.453],\n",
       "       [44382.86 ],\n",
       "       [44720.195],\n",
       "       [44696.605],\n",
       "       [44827.652],\n",
       "       [44363.99 ],\n",
       "       [44423.49 ],\n",
       "       [44182.746],\n",
       "       [44566.207],\n",
       "       [45027.848],\n",
       "       [44422.855],\n",
       "       [43711.016],\n",
       "       [43712.086],\n",
       "       [43444.703],\n",
       "       [44299.375],\n",
       "       [43719.01 ],\n",
       "       [42793.676],\n",
       "       [42569.594],\n",
       "       [43221.5  ],\n",
       "       [43340.812],\n",
       "       [43170.246],\n",
       "       [42901.414],\n",
       "       [42620.113],\n",
       "       [43137.348],\n",
       "       [43488.418],\n",
       "       [43328.465],\n",
       "       [44728.883],\n",
       "       [44631.77 ],\n",
       "       [45574.016],\n",
       "       [45991.105]], dtype=float32)"
      ]
     },
     "execution_count": 78,
     "metadata": {},
     "output_type": "execute_result"
    }
   ],
   "source": [
    "predictions_gecko_unscaled"
   ]
  },
  {
   "cell_type": "code",
   "execution_count": 79,
   "metadata": {},
   "outputs": [],
   "source": [
    "y_test_gecko_unscaled = y_test_gecko_np * range1 + min1"
   ]
  },
  {
   "cell_type": "code",
   "execution_count": 80,
   "metadata": {},
   "outputs": [
    {
     "data": {
      "text/plain": [
       "4011.292228422622"
      ]
     },
     "execution_count": 80,
     "metadata": {},
     "output_type": "execute_result"
    }
   ],
   "source": [
    "np.mean(np.abs(y_test_gecko_unscaled - predictions_gecko_unscaled))"
   ]
  },
  {
   "cell_type": "code",
   "execution_count": 81,
   "metadata": {},
   "outputs": [
    {
     "data": {
      "text/plain": [
       "8.424021535205263"
      ]
     },
     "execution_count": 81,
     "metadata": {},
     "output_type": "execute_result"
    }
   ],
   "source": [
    "np.mean(np.abs((y_test_gecko_unscaled - predictions_gecko_unscaled) / y_test_gecko_unscaled)) *100"
   ]
  },
  {
   "cell_type": "code",
   "execution_count": null,
   "metadata": {},
   "outputs": [],
   "source": [
    "dates =data_test[window_size:window_size+len(y_test_unscaled)]\n",
    "\n",
    "fig = plt.figure(figsize=(15, 8))\n",
    "\n",
    "plt.plot(dates.index,predictions_unscaled, label = \"Prediction\")\n",
    "plt.plot(dates.index,y_test_unscaled, label = \"Actual Prices\")\n",
    "plt.title(\"LSTM-Model Predictions vs. Actual Prices | Test Data\")\n",
    "plt.ylabel(\"$\")\n",
    "plt.xlabel(\"Time\")\n",
    "plt.legend()\n",
    "plt.show()"
   ]
  },
  {
   "cell_type": "code",
   "execution_count": null,
   "metadata": {},
   "outputs": [],
   "source": []
  },
  {
   "cell_type": "code",
   "execution_count": null,
   "metadata": {},
   "outputs": [],
   "source": [
    "dates =data_test[window_size:window_size+len(y_test_unscaled)]\n",
    "\n",
    "fig = plt.figure(figsize=(15, 8))\n",
    "\n",
    "plt.plot(predictions_gecko_unscaled, label = \"Prediction\", color=\"orange\")\n",
    "plt.plot(y_test_gecko_unscaled, label = \"Actual Prices\",color=\"blue\")\n",
    "plt.title(\"LSTM-Model Predictions vs. Actual Prices | Coingecko API Data\")\n",
    "plt.ylabel(\"$\")\n",
    "#plt.xlabel(\"Time\")\n",
    "plt.legend()\n",
    "plt.show()\n",
    "\n",
    "\n"
   ]
  },
  {
   "cell_type": "code",
   "execution_count": null,
   "metadata": {},
   "outputs": [],
   "source": []
  },
  {
   "cell_type": "code",
   "execution_count": null,
   "metadata": {},
   "outputs": [],
   "source": []
  },
  {
   "cell_type": "code",
   "execution_count": null,
   "metadata": {},
   "outputs": [],
   "source": []
  },
  {
   "cell_type": "code",
   "execution_count": null,
   "metadata": {},
   "outputs": [],
   "source": []
  },
  {
   "cell_type": "code",
   "execution_count": null,
   "metadata": {
    "id": "VGkbLiUzg5gu"
   },
   "outputs": [],
   "source": []
  }
 ],
 "metadata": {
  "colab": {
   "collapsed_sections": [],
   "name": "BTC pred.ipynb",
   "provenance": [],
   "toc_visible": true
  },
  "kernelspec": {
   "display_name": "Python 3 (ipykernel)",
   "language": "python",
   "name": "python3"
  },
  "language_info": {
   "codemirror_mode": {
    "name": "ipython",
    "version": 3
   },
   "file_extension": ".py",
   "mimetype": "text/x-python",
   "name": "python",
   "nbconvert_exporter": "python",
   "pygments_lexer": "ipython3",
   "version": "3.8.6"
  },
  "toc": {
   "base_numbering": 1,
   "nav_menu": {},
   "number_sections": true,
   "sideBar": true,
   "skip_h1_title": true,
   "title_cell": "Table of Contents",
   "title_sidebar": "Contents",
   "toc_cell": false,
   "toc_position": {
    "height": "calc(100% - 180px)",
    "left": "10px",
    "top": "150px",
    "width": "241.797px"
   },
   "toc_section_display": true,
   "toc_window_display": true
  },
  "varInspector": {
   "cols": {
    "lenName": 16,
    "lenType": 16,
    "lenVar": 40
   },
   "kernels_config": {
    "python": {
     "delete_cmd_postfix": "",
     "delete_cmd_prefix": "del ",
     "library": "var_list.py",
     "varRefreshCmd": "print(var_dic_list())"
    },
    "r": {
     "delete_cmd_postfix": ") ",
     "delete_cmd_prefix": "rm(",
     "library": "var_list.r",
     "varRefreshCmd": "cat(var_dic_list()) "
    }
   },
   "types_to_exclude": [
    "module",
    "function",
    "builtin_function_or_method",
    "instance",
    "_Feature"
   ],
   "window_display": false
  }
 },
 "nbformat": 4,
 "nbformat_minor": 1
}
