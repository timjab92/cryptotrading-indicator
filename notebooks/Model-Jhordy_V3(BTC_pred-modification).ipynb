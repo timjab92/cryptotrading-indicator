{
 "cells": [
  {
   "cell_type": "markdown",
   "metadata": {
    "id": "7Ah1snjrTOaO"
   },
   "source": [
    "# Recurrent Neural Networks\n",
    "---\n",
    "# Predicting Stock Prices through an LSTM model"
   ]
  },
  {
   "cell_type": "code",
   "execution_count": 2,
   "metadata": {
    "executionInfo": {
     "elapsed": 450,
     "status": "ok",
     "timestamp": 1629966198358,
     "user": {
      "displayName": "Ivan Fernandes",
      "photoUrl": "https://lh3.googleusercontent.com/a-/AOh14GgHdj66drQjCguTVvVzCd5yy8cdMluPJPZlz_BQLg=s64",
      "userId": "12100132160237129013"
     },
     "user_tz": -120
    },
    "id": "qnAL4n0hTOaX"
   },
   "outputs": [],
   "source": [
    "''' Linear Algebra '''\n",
    "import pandas as pd\n",
    "import numpy as np\n",
    "\n",
    "'''Data visualization'''\n",
    "import matplotlib.pyplot as plt\n",
    "import seaborn as sns\n",
    "sns.set_style('whitegrid')\n",
    "plt.style.use(\"fivethirtyeight\")"
   ]
  },
  {
   "cell_type": "code",
   "execution_count": 3,
   "metadata": {
    "executionInfo": {
     "elapsed": 2,
     "status": "ok",
     "timestamp": 1629966199072,
     "user": {
      "displayName": "Ivan Fernandes",
      "photoUrl": "https://lh3.googleusercontent.com/a-/AOh14GgHdj66drQjCguTVvVzCd5yy8cdMluPJPZlz_BQLg=s64",
      "userId": "12100132160237129013"
     },
     "user_tz": -120
    },
    "id": "5xjbJ62hTOaa"
   },
   "outputs": [],
   "source": [
    "''' Hnadling timestamps'''\n",
    "import datetime\n",
    "from datetime import datetime"
   ]
  },
  {
   "cell_type": "code",
   "execution_count": 5,
   "metadata": {
    "colab": {
     "base_uri": "https://localhost:8080/",
     "height": 447
    },
    "executionInfo": {
     "elapsed": 350,
     "status": "ok",
     "timestamp": 1629966972802,
     "user": {
      "displayName": "Ivan Fernandes",
      "photoUrl": "https://lh3.googleusercontent.com/a-/AOh14GgHdj66drQjCguTVvVzCd5yy8cdMluPJPZlz_BQLg=s64",
      "userId": "12100132160237129013"
     },
     "user_tz": -120
    },
    "id": "TmBE1gv3TOaj",
    "outputId": "6b81eb77-bc56-4173-bdd2-e48dfc399de6"
   },
   "outputs": [
    {
     "data": {
      "text/html": [
       "<div>\n",
       "<style scoped>\n",
       "    .dataframe tbody tr th:only-of-type {\n",
       "        vertical-align: middle;\n",
       "    }\n",
       "\n",
       "    .dataframe tbody tr th {\n",
       "        vertical-align: top;\n",
       "    }\n",
       "\n",
       "    .dataframe thead th {\n",
       "        text-align: right;\n",
       "    }\n",
       "</style>\n",
       "<table border=\"1\" class=\"dataframe\">\n",
       "  <thead>\n",
       "    <tr style=\"text-align: right;\">\n",
       "      <th></th>\n",
       "      <th>open</th>\n",
       "      <th>high</th>\n",
       "      <th>low</th>\n",
       "      <th>close</th>\n",
       "      <th>volume</th>\n",
       "      <th>log_open</th>\n",
       "      <th>log_high</th>\n",
       "      <th>log_low</th>\n",
       "      <th>log_close</th>\n",
       "    </tr>\n",
       "    <tr>\n",
       "      <th>date</th>\n",
       "      <th></th>\n",
       "      <th></th>\n",
       "      <th></th>\n",
       "      <th></th>\n",
       "      <th></th>\n",
       "      <th></th>\n",
       "      <th></th>\n",
       "      <th></th>\n",
       "      <th></th>\n",
       "    </tr>\n",
       "  </thead>\n",
       "  <tbody>\n",
       "    <tr>\n",
       "      <th>2011-12-31 08:00:00</th>\n",
       "      <td>4.390000</td>\n",
       "      <td>4.390000</td>\n",
       "      <td>4.390000</td>\n",
       "      <td>4.390000</td>\n",
       "      <td>0.455581</td>\n",
       "      <td>1.479329</td>\n",
       "      <td>1.479329</td>\n",
       "      <td>1.479329</td>\n",
       "      <td>1.479329</td>\n",
       "    </tr>\n",
       "    <tr>\n",
       "      <th>2011-12-31 16:00:00</th>\n",
       "      <td>4.490000</td>\n",
       "      <td>4.513333</td>\n",
       "      <td>4.490000</td>\n",
       "      <td>4.513333</td>\n",
       "      <td>31.620766</td>\n",
       "      <td>1.501702</td>\n",
       "      <td>1.506847</td>\n",
       "      <td>1.501702</td>\n",
       "      <td>1.506847</td>\n",
       "    </tr>\n",
       "    <tr>\n",
       "      <th>2012-01-01 04:00:00</th>\n",
       "      <td>4.580000</td>\n",
       "      <td>4.580000</td>\n",
       "      <td>4.580000</td>\n",
       "      <td>4.580000</td>\n",
       "      <td>1.502000</td>\n",
       "      <td>1.521699</td>\n",
       "      <td>1.521699</td>\n",
       "      <td>1.521699</td>\n",
       "      <td>1.521699</td>\n",
       "    </tr>\n",
       "    <tr>\n",
       "      <th>2012-01-01 16:00:00</th>\n",
       "      <td>4.840000</td>\n",
       "      <td>4.840000</td>\n",
       "      <td>4.840000</td>\n",
       "      <td>4.840000</td>\n",
       "      <td>10.000000</td>\n",
       "      <td>1.576915</td>\n",
       "      <td>1.576915</td>\n",
       "      <td>1.576915</td>\n",
       "      <td>1.576915</td>\n",
       "    </tr>\n",
       "    <tr>\n",
       "      <th>2012-01-01 20:00:00</th>\n",
       "      <td>5.000000</td>\n",
       "      <td>5.000000</td>\n",
       "      <td>5.000000</td>\n",
       "      <td>5.000000</td>\n",
       "      <td>10.100000</td>\n",
       "      <td>1.609438</td>\n",
       "      <td>1.609438</td>\n",
       "      <td>1.609438</td>\n",
       "      <td>1.609438</td>\n",
       "    </tr>\n",
       "    <tr>\n",
       "      <th>...</th>\n",
       "      <td>...</td>\n",
       "      <td>...</td>\n",
       "      <td>...</td>\n",
       "      <td>...</td>\n",
       "      <td>...</td>\n",
       "      <td>...</td>\n",
       "      <td>...</td>\n",
       "      <td>...</td>\n",
       "      <td>...</td>\n",
       "    </tr>\n",
       "    <tr>\n",
       "      <th>2021-08-22 12:00:00</th>\n",
       "      <td>48769.308417</td>\n",
       "      <td>48787.711375</td>\n",
       "      <td>48749.417500</td>\n",
       "      <td>48769.737750</td>\n",
       "      <td>1.697971</td>\n",
       "      <td>10.794844</td>\n",
       "      <td>10.795222</td>\n",
       "      <td>10.794435</td>\n",
       "      <td>10.794853</td>\n",
       "    </tr>\n",
       "    <tr>\n",
       "      <th>2021-08-22 16:00:00</th>\n",
       "      <td>48591.665708</td>\n",
       "      <td>48605.941333</td>\n",
       "      <td>48574.903375</td>\n",
       "      <td>48591.580833</td>\n",
       "      <td>0.463362</td>\n",
       "      <td>10.791204</td>\n",
       "      <td>10.791498</td>\n",
       "      <td>10.790859</td>\n",
       "      <td>10.791202</td>\n",
       "    </tr>\n",
       "    <tr>\n",
       "      <th>2021-08-22 20:00:00</th>\n",
       "      <td>48807.713542</td>\n",
       "      <td>48825.874417</td>\n",
       "      <td>48791.558000</td>\n",
       "      <td>48810.168750</td>\n",
       "      <td>0.605696</td>\n",
       "      <td>10.795610</td>\n",
       "      <td>10.795982</td>\n",
       "      <td>10.795279</td>\n",
       "      <td>10.795660</td>\n",
       "    </tr>\n",
       "    <tr>\n",
       "      <th>2021-08-23 00:00:00</th>\n",
       "      <td>49779.332208</td>\n",
       "      <td>49803.461792</td>\n",
       "      <td>49759.784208</td>\n",
       "      <td>49783.003708</td>\n",
       "      <td>1.941360</td>\n",
       "      <td>10.815334</td>\n",
       "      <td>10.815818</td>\n",
       "      <td>10.814942</td>\n",
       "      <td>10.815408</td>\n",
       "    </tr>\n",
       "    <tr>\n",
       "      <th>2021-08-23 04:00:00</th>\n",
       "      <td>50278.596788</td>\n",
       "      <td>50292.908182</td>\n",
       "      <td>50261.680727</td>\n",
       "      <td>50277.475152</td>\n",
       "      <td>1.908007</td>\n",
       "      <td>10.825333</td>\n",
       "      <td>10.825618</td>\n",
       "      <td>10.824997</td>\n",
       "      <td>10.825311</td>\n",
       "    </tr>\n",
       "  </tbody>\n",
       "</table>\n",
       "<p>20840 rows × 9 columns</p>\n",
       "</div>"
      ],
      "text/plain": [
       "                             open          high           low         close  \\\n",
       "date                                                                          \n",
       "2011-12-31 08:00:00      4.390000      4.390000      4.390000      4.390000   \n",
       "2011-12-31 16:00:00      4.490000      4.513333      4.490000      4.513333   \n",
       "2012-01-01 04:00:00      4.580000      4.580000      4.580000      4.580000   \n",
       "2012-01-01 16:00:00      4.840000      4.840000      4.840000      4.840000   \n",
       "2012-01-01 20:00:00      5.000000      5.000000      5.000000      5.000000   \n",
       "...                           ...           ...           ...           ...   \n",
       "2021-08-22 12:00:00  48769.308417  48787.711375  48749.417500  48769.737750   \n",
       "2021-08-22 16:00:00  48591.665708  48605.941333  48574.903375  48591.580833   \n",
       "2021-08-22 20:00:00  48807.713542  48825.874417  48791.558000  48810.168750   \n",
       "2021-08-23 00:00:00  49779.332208  49803.461792  49759.784208  49783.003708   \n",
       "2021-08-23 04:00:00  50278.596788  50292.908182  50261.680727  50277.475152   \n",
       "\n",
       "                        volume   log_open   log_high    log_low  log_close  \n",
       "date                                                                        \n",
       "2011-12-31 08:00:00   0.455581   1.479329   1.479329   1.479329   1.479329  \n",
       "2011-12-31 16:00:00  31.620766   1.501702   1.506847   1.501702   1.506847  \n",
       "2012-01-01 04:00:00   1.502000   1.521699   1.521699   1.521699   1.521699  \n",
       "2012-01-01 16:00:00  10.000000   1.576915   1.576915   1.576915   1.576915  \n",
       "2012-01-01 20:00:00  10.100000   1.609438   1.609438   1.609438   1.609438  \n",
       "...                        ...        ...        ...        ...        ...  \n",
       "2021-08-22 12:00:00   1.697971  10.794844  10.795222  10.794435  10.794853  \n",
       "2021-08-22 16:00:00   0.463362  10.791204  10.791498  10.790859  10.791202  \n",
       "2021-08-22 20:00:00   0.605696  10.795610  10.795982  10.795279  10.795660  \n",
       "2021-08-23 00:00:00   1.941360  10.815334  10.815818  10.814942  10.815408  \n",
       "2021-08-23 04:00:00   1.908007  10.825333  10.825618  10.824997  10.825311  \n",
       "\n",
       "[20840 rows x 9 columns]"
      ]
     },
     "execution_count": 5,
     "metadata": {},
     "output_type": "execute_result"
    }
   ],
   "source": [
    "data = pd.read_csv(\"../data/BTCUSD_4hours.csv\")\n",
    "\n",
    "data = data.drop(columns=\"Unnamed: 0\").set_index(\"date\")\n",
    "data"
   ]
  },
  {
   "cell_type": "code",
   "execution_count": 6,
   "metadata": {
    "colab": {
     "base_uri": "https://localhost:8080/",
     "height": 293
    },
    "executionInfo": {
     "elapsed": 535,
     "status": "ok",
     "timestamp": 1629966974930,
     "user": {
      "displayName": "Ivan Fernandes",
      "photoUrl": "https://lh3.googleusercontent.com/a-/AOh14GgHdj66drQjCguTVvVzCd5yy8cdMluPJPZlz_BQLg=s64",
      "userId": "12100132160237129013"
     },
     "user_tz": -120
    },
    "id": "RIJL_ZcKTOaj",
    "outputId": "b6065065-d451-4581-df07-0531602adf36"
   },
   "outputs": [
    {
     "data": {
      "text/html": [
       "<div>\n",
       "<style scoped>\n",
       "    .dataframe tbody tr th:only-of-type {\n",
       "        vertical-align: middle;\n",
       "    }\n",
       "\n",
       "    .dataframe tbody tr th {\n",
       "        vertical-align: top;\n",
       "    }\n",
       "\n",
       "    .dataframe thead th {\n",
       "        text-align: right;\n",
       "    }\n",
       "</style>\n",
       "<table border=\"1\" class=\"dataframe\">\n",
       "  <thead>\n",
       "    <tr style=\"text-align: right;\">\n",
       "      <th></th>\n",
       "      <th>open</th>\n",
       "      <th>high</th>\n",
       "      <th>low</th>\n",
       "      <th>close</th>\n",
       "      <th>volume</th>\n",
       "      <th>log_open</th>\n",
       "      <th>log_high</th>\n",
       "      <th>log_low</th>\n",
       "      <th>log_close</th>\n",
       "      <th>ema12</th>\n",
       "      <th>...</th>\n",
       "      <th>ema50</th>\n",
       "      <th>ema34</th>\n",
       "      <th>ema55</th>\n",
       "      <th>rsi</th>\n",
       "      <th>K</th>\n",
       "      <th>D</th>\n",
       "      <th>sma</th>\n",
       "      <th>bollinger_up</th>\n",
       "      <th>bollinger_down</th>\n",
       "      <th>vol_roc</th>\n",
       "    </tr>\n",
       "    <tr>\n",
       "      <th>date</th>\n",
       "      <th></th>\n",
       "      <th></th>\n",
       "      <th></th>\n",
       "      <th></th>\n",
       "      <th></th>\n",
       "      <th></th>\n",
       "      <th></th>\n",
       "      <th></th>\n",
       "      <th></th>\n",
       "      <th></th>\n",
       "      <th></th>\n",
       "      <th></th>\n",
       "      <th></th>\n",
       "      <th></th>\n",
       "      <th></th>\n",
       "      <th></th>\n",
       "      <th></th>\n",
       "      <th></th>\n",
       "      <th></th>\n",
       "      <th></th>\n",
       "      <th></th>\n",
       "    </tr>\n",
       "  </thead>\n",
       "  <tbody>\n",
       "    <tr>\n",
       "      <th>2011-12-31 08:00:00</th>\n",
       "      <td>4.39</td>\n",
       "      <td>4.390000</td>\n",
       "      <td>4.39</td>\n",
       "      <td>4.390000</td>\n",
       "      <td>0.455581</td>\n",
       "      <td>1.479329</td>\n",
       "      <td>1.479329</td>\n",
       "      <td>1.479329</td>\n",
       "      <td>1.479329</td>\n",
       "      <td>1.479329</td>\n",
       "      <td>...</td>\n",
       "      <td>1.479329</td>\n",
       "      <td>1.479329</td>\n",
       "      <td>1.479329</td>\n",
       "      <td>NaN</td>\n",
       "      <td>NaN</td>\n",
       "      <td>NaN</td>\n",
       "      <td>NaN</td>\n",
       "      <td>NaN</td>\n",
       "      <td>NaN</td>\n",
       "      <td>NaN</td>\n",
       "    </tr>\n",
       "    <tr>\n",
       "      <th>2011-12-31 16:00:00</th>\n",
       "      <td>4.49</td>\n",
       "      <td>4.513333</td>\n",
       "      <td>4.49</td>\n",
       "      <td>4.513333</td>\n",
       "      <td>31.620766</td>\n",
       "      <td>1.501702</td>\n",
       "      <td>1.506847</td>\n",
       "      <td>1.501702</td>\n",
       "      <td>1.506847</td>\n",
       "      <td>1.494235</td>\n",
       "      <td>...</td>\n",
       "      <td>1.493363</td>\n",
       "      <td>1.493493</td>\n",
       "      <td>1.493338</td>\n",
       "      <td>NaN</td>\n",
       "      <td>NaN</td>\n",
       "      <td>NaN</td>\n",
       "      <td>NaN</td>\n",
       "      <td>NaN</td>\n",
       "      <td>NaN</td>\n",
       "      <td>68.40758</td>\n",
       "    </tr>\n",
       "    <tr>\n",
       "      <th>2012-01-01 04:00:00</th>\n",
       "      <td>4.58</td>\n",
       "      <td>4.580000</td>\n",
       "      <td>4.58</td>\n",
       "      <td>4.580000</td>\n",
       "      <td>1.502000</td>\n",
       "      <td>1.521699</td>\n",
       "      <td>1.521699</td>\n",
       "      <td>1.521699</td>\n",
       "      <td>1.521699</td>\n",
       "      <td>1.504954</td>\n",
       "      <td>...</td>\n",
       "      <td>1.503189</td>\n",
       "      <td>1.503453</td>\n",
       "      <td>1.503138</td>\n",
       "      <td>NaN</td>\n",
       "      <td>NaN</td>\n",
       "      <td>NaN</td>\n",
       "      <td>NaN</td>\n",
       "      <td>NaN</td>\n",
       "      <td>NaN</td>\n",
       "      <td>-0.95250</td>\n",
       "    </tr>\n",
       "  </tbody>\n",
       "</table>\n",
       "<p>3 rows × 22 columns</p>\n",
       "</div>"
      ],
      "text/plain": [
       "                     open      high   low     close     volume  log_open  \\\n",
       "date                                                                       \n",
       "2011-12-31 08:00:00  4.39  4.390000  4.39  4.390000   0.455581  1.479329   \n",
       "2011-12-31 16:00:00  4.49  4.513333  4.49  4.513333  31.620766  1.501702   \n",
       "2012-01-01 04:00:00  4.58  4.580000  4.58  4.580000   1.502000  1.521699   \n",
       "\n",
       "                     log_high   log_low  log_close     ema12  ...     ema50  \\\n",
       "date                                                          ...             \n",
       "2011-12-31 08:00:00  1.479329  1.479329   1.479329  1.479329  ...  1.479329   \n",
       "2011-12-31 16:00:00  1.506847  1.501702   1.506847  1.494235  ...  1.493363   \n",
       "2012-01-01 04:00:00  1.521699  1.521699   1.521699  1.504954  ...  1.503189   \n",
       "\n",
       "                        ema34     ema55  rsi   K   D  sma  bollinger_up  \\\n",
       "date                                                                      \n",
       "2011-12-31 08:00:00  1.479329  1.479329  NaN NaN NaN  NaN           NaN   \n",
       "2011-12-31 16:00:00  1.493493  1.493338  NaN NaN NaN  NaN           NaN   \n",
       "2012-01-01 04:00:00  1.503453  1.503138  NaN NaN NaN  NaN           NaN   \n",
       "\n",
       "                     bollinger_down   vol_roc  \n",
       "date                                           \n",
       "2011-12-31 08:00:00             NaN       NaN  \n",
       "2011-12-31 16:00:00             NaN  68.40758  \n",
       "2012-01-01 04:00:00             NaN  -0.95250  \n",
       "\n",
       "[3 rows x 22 columns]"
      ]
     },
     "execution_count": 6,
     "metadata": {},
     "output_type": "execute_result"
    }
   ],
   "source": [
    "## add other features\n",
    "\n",
    "def add_ema(data, tspan=[12,26,20,50,34,55]):\n",
    "    \"\"\"\n",
    "    Adds Exponential Moving Averages (EMA) to the dataframe. The default timeframes are 12,26,20,50,34 and 55.\n",
    "    \"\"\"\n",
    "    for t in tspan:\n",
    "        data[f'ema{t}'] = data.log_close.ewm(span=t).mean()\n",
    "    return data\n",
    "\n",
    "add_ema(data)\n",
    "\n",
    "def computeRSI(data, window=14):\n",
    "    \"\"\"\n",
    "    Computes the Relative Stregth Index for a given dataset and the window can be defined. Its default value is 14.\n",
    "    \"\"\"\n",
    "    diff = data.diff(1).dropna()        # diff in one field(one day)\n",
    "\n",
    "    #this preservers dimensions off diff values\n",
    "    up_chg = 0 * diff\n",
    "    down_chg = 0 * diff\n",
    "    \n",
    "    # up change is equal to the positive difference, otherwise equal to zero\n",
    "    up_chg[diff > 0] = diff[ diff>0 ]\n",
    "    # down change is equal to negative deifference, otherwise equal to zero\n",
    "    down_chg[diff < 0] = diff[ diff < 0 ]\n",
    "    \n",
    "    # check pandas documentation for ewm\n",
    "    # https://pandas.pydata.org/pandas-docs/stable/reference/api/pandas.DataFrame.ewm.html\n",
    "    # values are related to exponential decay\n",
    "    # we set com=window-1 so we get decay alpha=1/window\n",
    "    up_chg_avg   = up_chg.ewm(com=window-1 , min_periods=window).mean()\n",
    "    down_chg_avg = down_chg.ewm(com=window-1 , min_periods=window).mean()\n",
    "    \n",
    "    rs = abs(up_chg_avg/down_chg_avg)\n",
    "    rsi = 100 - 100/(1+rs)\n",
    "    return rsi\n",
    "\n",
    "\n",
    "\n",
    "rsi = computeRSI(data)\n",
    "\n",
    "def stoch_rsi(rsi, d_window=3, k_window=3, window=14):\n",
    "    \"\"\"\n",
    "    Computes the stochastic RSI. Default values are d=3, k=3, window=14.\n",
    "    \"\"\"\n",
    "    minrsi = rsi.rolling(window=window, center=False).min()\n",
    "    maxrsi = rsi.rolling(window=window, center=False).max()\n",
    "    stoch = ((rsi - minrsi) / (maxrsi - minrsi)) * 100\n",
    "    K = stoch.rolling(window=k_window, center=False).mean()\n",
    "    D = K.rolling(window=d_window, center=False).mean() \n",
    "    return K, D  \n",
    "\n",
    "stoch_rsi(rsi)\n",
    "\n",
    "def add_stoch_rsi(data, d_window=3, k_window=3, window=14):\n",
    "    data['rsi'] = computeRSI(data['log_close'], window)\n",
    "    data['K'], data['D'] = stoch_rsi(data['rsi'], d_window, k_window, window)\n",
    "    return data\n",
    "\n",
    "add_stoch_rsi(data)\n",
    "\n",
    "def get_bollinger_bands(prices, rate=20):\n",
    "    sma = prices.rolling(rate).mean() # <-- Get SMA for 20 days\n",
    "    std = prices.rolling(rate).std() # <-- Get rolling standard deviation for 20 days\n",
    "    bollinger_up = sma + std * 2 # Calculate top band\n",
    "    bollinger_down = sma - std * 2 # Calculate bottom band\n",
    "    return sma, bollinger_up, bollinger_down\n",
    "\n",
    "prices = data[\"log_close\"]\n",
    "\n",
    "get_bollinger_bands(prices, rate=20)\n",
    "\n",
    "def add_bollinger(data, prices, rate=20):\n",
    "    data['sma'], data['bollinger_up'], data['bollinger_down'] = get_bollinger_bands(prices)\n",
    "    return data\n",
    "\n",
    "add_bollinger(data,prices)\n",
    "\n",
    "def add_vol_roc(data):\n",
    "    data['vol_roc'] = data.volume.pct_change()\n",
    "    return data\n",
    "\n",
    "add_vol_roc(data)\n",
    "data.head(3)"
   ]
  },
  {
   "cell_type": "markdown",
   "metadata": {
    "id": "hnO1Kw4mTOam"
   },
   "source": [
    "### Daily return\n",
    "\n",
    "$ return = \\frac{new - old}{old} $"
   ]
  },
  {
   "cell_type": "code",
   "execution_count": 7,
   "metadata": {
    "executionInfo": {
     "elapsed": 3,
     "status": "ok",
     "timestamp": 1629966976844,
     "user": {
      "displayName": "Ivan Fernandes",
      "photoUrl": "https://lh3.googleusercontent.com/a-/AOh14GgHdj66drQjCguTVvVzCd5yy8cdMluPJPZlz_BQLg=s64",
      "userId": "12100132160237129013"
     },
     "user_tz": -120
    },
    "id": "OkM8CpqykqFz"
   },
   "outputs": [],
   "source": [
    "data['4h Return'] = data['close'].pct_change()\n",
    "data['4h Gradient'] = data['close'].diff()"
   ]
  },
  {
   "cell_type": "code",
   "execution_count": 8,
   "metadata": {
    "executionInfo": {
     "elapsed": 3,
     "status": "ok",
     "timestamp": 1629966978166,
     "user": {
      "displayName": "Ivan Fernandes",
      "photoUrl": "https://lh3.googleusercontent.com/a-/AOh14GgHdj66drQjCguTVvVzCd5yy8cdMluPJPZlz_BQLg=s64",
      "userId": "12100132160237129013"
     },
     "user_tz": -120
    },
    "id": "pjzEF_95arJY"
   },
   "outputs": [],
   "source": [
    "data = data.dropna()"
   ]
  },
  {
   "cell_type": "markdown",
   "metadata": {
    "id": "omE_GM43TOaj"
   },
   "source": [
    "## Time-Series Visualisation"
   ]
  },
  {
   "cell_type": "markdown",
   "metadata": {
    "id": "9He6r2IBTOak"
   },
   "source": [
    "### Historical Stock Prices"
   ]
  },
  {
   "cell_type": "code",
   "execution_count": 7,
   "metadata": {
    "colab": {
     "base_uri": "https://localhost:8080/",
     "height": 433
    },
    "executionInfo": {
     "elapsed": 1080,
     "status": "ok",
     "timestamp": 1629966982994,
     "user": {
      "displayName": "Ivan Fernandes",
      "photoUrl": "https://lh3.googleusercontent.com/a-/AOh14GgHdj66drQjCguTVvVzCd5yy8cdMluPJPZlz_BQLg=s64",
      "userId": "12100132160237129013"
     },
     "user_tz": -120
    },
    "id": "Sn68mhkBTOak",
    "outputId": "2b9e59ce-9d71-4b4b-f8f2-ecaeeab6cc33"
   },
   "outputs": [
    {
     "data": {
      "image/png": "[encoded data removed]",
      "text/plain": [
       "<Figure size 1080x432 with 1 Axes>"
      ]
     },
     "metadata": {},
     "output_type": "display_data"
    }
   ],
   "source": [
    "# Let's see a historical view of the closing price\n",
    "\n",
    "plt.figure(figsize=(15, 6))\n",
    "plt.subplots_adjust(top=1.25, bottom=1.2)\n",
    "\n",
    "data['close'].plot()\n",
    "plt.ylabel('close')\n",
    "plt.xlabel(None)\n",
    "plt.title(f\"Closing Price of {coin_selection}\")\n",
    "    \n",
    "plt.tight_layout()"
   ]
  },
  {
   "cell_type": "markdown",
   "metadata": {
    "id": "LOkzKw4OTOal"
   },
   "source": [
    "### Volumes traded"
   ]
  },
  {
   "cell_type": "code",
   "execution_count": 8,
   "metadata": {
    "colab": {
     "base_uri": "https://localhost:8080/",
     "height": 430
    },
    "executionInfo": {
     "elapsed": 709,
     "status": "ok",
     "timestamp": 1629966985093,
     "user": {
      "displayName": "Ivan Fernandes",
      "photoUrl": "https://lh3.googleusercontent.com/a-/AOh14GgHdj66drQjCguTVvVzCd5yy8cdMluPJPZlz_BQLg=s64",
      "userId": "12100132160237129013"
     },
     "user_tz": -120
    },
    "id": "icuzmUSpTOal",
    "outputId": "e9132fc3-f382-4188-ca4f-d214ebc4acc2"
   },
   "outputs": [
    {
     "data": {
      "image/png": "[encoded data removed]",
      "text/plain": [
       "<Figure size 1080x432 with 1 Axes>"
      ]
     },
     "metadata": {},
     "output_type": "display_data"
    }
   ],
   "source": [
    "# Let's see a historical view of the closing price\n",
    "\n",
    "plt.figure(figsize=(15, 6))\n",
    "plt.subplots_adjust(top=1.25, bottom=1.2)\n",
    "\n",
    "data['volume'].plot()\n",
    "plt.ylabel('Volume')\n",
    "plt.xlabel(None)\n",
    "plt.title(f\"Sales Volume of BTC\")\n",
    "    \n",
    "plt.tight_layout()"
   ]
  },
  {
   "cell_type": "code",
   "execution_count": 10,
   "metadata": {
    "colab": {
     "base_uri": "https://localhost:8080/",
     "height": 396
    },
    "executionInfo": {
     "elapsed": 22347,
     "status": "ok",
     "timestamp": 1629967374725,
     "user": {
      "displayName": "Ivan Fernandes",
      "photoUrl": "https://lh3.googleusercontent.com/a-/AOh14GgHdj66drQjCguTVvVzCd5yy8cdMluPJPZlz_BQLg=s64",
      "userId": "12100132160237129013"
     },
     "user_tz": -120
    },
    "id": "gZqR9QqWl3T7",
    "outputId": "08c3ec7e-0b4b-4a45-b1d3-05a758a62e18"
   },
   "outputs": [
    {
     "data": {
      "image/png": "[encoded data removed]",
      "text/plain": [
       "<Figure size 360x360 with 1 Axes>"
      ]
     },
     "metadata": {},
     "output_type": "display_data"
    }
   ],
   "source": [
    "sns.displot(data = data, x= '4h Gradient')\n",
    "plt.ylabel('4h Return')\n",
    "plt.xlim([-500,500])\n",
    "plt.ylim([0,500])\n",
    "plt.title(f\"4h Return  for {coin_selection}\");"
   ]
  },
  {
   "cell_type": "markdown",
   "metadata": {},
   "source": [
    "# SELECT FEATURES"
   ]
  },
  {
   "cell_type": "code",
   "execution_count": 9,
   "metadata": {
    "colab": {
     "base_uri": "https://localhost:8080/",
     "height": 388
    },
    "executionInfo": {
     "elapsed": 435,
     "status": "ok",
     "timestamp": 1629967485048,
     "user": {
      "displayName": "Ivan Fernandes",
      "photoUrl": "https://lh3.googleusercontent.com/a-/AOh14GgHdj66drQjCguTVvVzCd5yy8cdMluPJPZlz_BQLg=s64",
      "userId": "12100132160237129013"
     },
     "user_tz": -120
    },
    "id": "k_7EthwKldWf",
    "outputId": "0f91c60d-f72a-4a51-d588-bda4a1b380db"
   },
   "outputs": [
    {
     "data": {
      "text/html": [
       "<div>\n",
       "<style scoped>\n",
       "    .dataframe tbody tr th:only-of-type {\n",
       "        vertical-align: middle;\n",
       "    }\n",
       "\n",
       "    .dataframe tbody tr th {\n",
       "        vertical-align: top;\n",
       "    }\n",
       "\n",
       "    .dataframe thead th {\n",
       "        text-align: right;\n",
       "    }\n",
       "</style>\n",
       "<table border=\"1\" class=\"dataframe\">\n",
       "  <thead>\n",
       "    <tr style=\"text-align: right;\">\n",
       "      <th></th>\n",
       "      <th>log_close</th>\n",
       "    </tr>\n",
       "    <tr>\n",
       "      <th>date</th>\n",
       "      <th></th>\n",
       "    </tr>\n",
       "  </thead>\n",
       "  <tbody>\n",
       "    <tr>\n",
       "      <th>2016-07-04 12:00:00</th>\n",
       "      <td>6.507999</td>\n",
       "    </tr>\n",
       "    <tr>\n",
       "      <th>2021-05-14 04:00:00</th>\n",
       "      <td>10.809108</td>\n",
       "    </tr>\n",
       "    <tr>\n",
       "      <th>2016-05-01 20:00:00</th>\n",
       "      <td>6.113058</td>\n",
       "    </tr>\n",
       "    <tr>\n",
       "      <th>2018-05-16 20:00:00</th>\n",
       "      <td>9.023210</td>\n",
       "    </tr>\n",
       "    <tr>\n",
       "      <th>2020-11-29 04:00:00</th>\n",
       "      <td>9.786527</td>\n",
       "    </tr>\n",
       "    <tr>\n",
       "      <th>2013-02-13 12:00:00</th>\n",
       "      <td>3.243261</td>\n",
       "    </tr>\n",
       "    <tr>\n",
       "      <th>2021-06-05 08:00:00</th>\n",
       "      <td>10.517200</td>\n",
       "    </tr>\n",
       "    <tr>\n",
       "      <th>2020-03-28 16:00:00</th>\n",
       "      <td>8.734049</td>\n",
       "    </tr>\n",
       "    <tr>\n",
       "      <th>2016-02-05 00:00:00</th>\n",
       "      <td>5.961217</td>\n",
       "    </tr>\n",
       "    <tr>\n",
       "      <th>2013-10-16 16:00:00</th>\n",
       "      <td>4.966074</td>\n",
       "    </tr>\n",
       "  </tbody>\n",
       "</table>\n",
       "</div>"
      ],
      "text/plain": [
       "                     log_close\n",
       "date                          \n",
       "2016-07-04 12:00:00   6.507999\n",
       "2021-05-14 04:00:00  10.809108\n",
       "2016-05-01 20:00:00   6.113058\n",
       "2018-05-16 20:00:00   9.023210\n",
       "2020-11-29 04:00:00   9.786527\n",
       "2013-02-13 12:00:00   3.243261\n",
       "2021-06-05 08:00:00  10.517200\n",
       "2020-03-28 16:00:00   8.734049\n",
       "2016-02-05 00:00:00   5.961217\n",
       "2013-10-16 16:00:00   4.966074"
      ]
     },
     "execution_count": 9,
     "metadata": {},
     "output_type": "execute_result"
    }
   ],
   "source": [
    "## get only the close data\n",
    "selected_features=[\"log_close\"]\n",
    "selected_data = data[selected_features]\n",
    "selected_data.sample(10)"
   ]
  },
  {
   "cell_type": "markdown",
   "metadata": {
    "id": "yB-e6gSuarJp"
   },
   "source": [
    "## BITCOIN Price"
   ]
  },
  {
   "cell_type": "markdown",
   "metadata": {
    "id": "-xCE9uVbTOat"
   },
   "source": [
    "### Temporal Train-Test Split"
   ]
  },
  {
   "cell_type": "code",
   "execution_count": 12,
   "metadata": {
    "executionInfo": {
     "elapsed": 338,
     "status": "ok",
     "timestamp": 1629967515425,
     "user": {
      "displayName": "Ivan Fernandes",
      "photoUrl": "https://lh3.googleusercontent.com/a-/AOh14GgHdj66drQjCguTVvVzCd5yy8cdMluPJPZlz_BQLg=s64",
      "userId": "12100132160237129013"
     },
     "user_tz": -120
    },
    "id": "ywO60BptTOat"
   },
   "outputs": [],
   "source": [
    "#train_percentage = 95"
   ]
  },
  {
   "cell_type": "code",
   "execution_count": 13,
   "metadata": {
    "colab": {
     "base_uri": "https://localhost:8080/"
    },
    "executionInfo": {
     "elapsed": 6,
     "status": "ok",
     "timestamp": 1629967587167,
     "user": {
      "displayName": "Ivan Fernandes",
      "photoUrl": "https://lh3.googleusercontent.com/a-/AOh14GgHdj66drQjCguTVvVzCd5yy8cdMluPJPZlz_BQLg=s64",
      "userId": "12100132160237129013"
     },
     "user_tz": -120
    },
    "id": "7WYQ6ez0TOat",
    "outputId": "37e64416-2715-4b67-fb97-87579856daf4"
   },
   "outputs": [
    {
     "data": {
      "text/plain": [
       "19768"
      ]
     },
     "execution_count": 13,
     "metadata": {},
     "output_type": "execute_result"
    }
   ],
   "source": [
    "#train_len = int(len(selected_data) * train_percentage/100)\n",
    "#train_len"
   ]
  },
  {
   "cell_type": "code",
   "execution_count": 14,
   "metadata": {
    "executionInfo": {
     "elapsed": 381,
     "status": "ok",
     "timestamp": 1629967641312,
     "user": {
      "displayName": "Ivan Fernandes",
      "photoUrl": "https://lh3.googleusercontent.com/a-/AOh14GgHdj66drQjCguTVvVzCd5yy8cdMluPJPZlz_BQLg=s64",
      "userId": "12100132160237129013"
     },
     "user_tz": -120
    },
    "id": "du_UX6DFTOau"
   },
   "outputs": [],
   "source": [
    "#data_train = selected_data[:train_len]\n",
    "#data_test = selected_data[train_len:]"
   ]
  },
  {
   "cell_type": "markdown",
   "metadata": {
    "id": "PO0NJSeTTOau"
   },
   "source": [
    "## LSTM"
   ]
  },
  {
   "cell_type": "code",
   "execution_count": 15,
   "metadata": {
    "executionInfo": {
     "elapsed": 391,
     "status": "ok",
     "timestamp": 1629967656804,
     "user": {
      "displayName": "Ivan Fernandes",
      "photoUrl": "https://lh3.googleusercontent.com/a-/AOh14GgHdj66drQjCguTVvVzCd5yy8cdMluPJPZlz_BQLg=s64",
      "userId": "12100132160237129013"
     },
     "user_tz": -120
    },
    "id": "LsSFTVehTOau"
   },
   "outputs": [],
   "source": [
    "# from sklearn.preprocessing import MinMaxScaler\n",
    "\n",
    "# minmax_scaler = MinMaxScaler(feature_range = (0,1))\n",
    "\n",
    "# minmax_scaler.fit(data_train)\n",
    "\n",
    "# data_train_scaled = pd.DataFrame(minmax_scaler.transform(data_train))\n",
    "# data_train_scaled.columns = data_train.columns\n",
    "# data_test_scaled = pd.DataFrame(minmax_scaler.transform(data_test))\n",
    "# data_test_scaled.columns = data_test.columns"
   ]
  },
  {
   "cell_type": "code",
   "execution_count": 16,
   "metadata": {
    "colab": {
     "base_uri": "https://localhost:8080/"
    },
    "executionInfo": {
     "elapsed": 3,
     "status": "ok",
     "timestamp": 1629967657307,
     "user": {
      "displayName": "Ivan Fernandes",
      "photoUrl": "https://lh3.googleusercontent.com/a-/AOh14GgHdj66drQjCguTVvVzCd5yy8cdMluPJPZlz_BQLg=s64",
      "userId": "12100132160237129013"
     },
     "user_tz": -120
    },
    "id": "vCCSU71kTOau",
    "outputId": "55400905-ef27-434f-fcf3-cebc738f1d51"
   },
   "outputs": [
    {
     "data": {
      "text/plain": [
       "array([10.96497341])"
      ]
     },
     "execution_count": 16,
     "metadata": {},
     "output_type": "execute_result"
    }
   ],
   "source": [
    "# minmax_scaler.data_max_"
   ]
  },
  {
   "cell_type": "code",
   "execution_count": 17,
   "metadata": {
    "colab": {
     "base_uri": "https://localhost:8080/"
    },
    "executionInfo": {
     "elapsed": 4,
     "status": "ok",
     "timestamp": 1629967659501,
     "user": {
      "displayName": "Ivan Fernandes",
      "photoUrl": "https://lh3.googleusercontent.com/a-/AOh14GgHdj66drQjCguTVvVzCd5yy8cdMluPJPZlz_BQLg=s64",
      "userId": "12100132160237129013"
     },
     "user_tz": -120
    },
    "id": "7u5vQbfPTOav",
    "outputId": "4eea426d-b00e-4953-e15f-c41f79618ee7"
   },
   "outputs": [
    {
     "data": {
      "text/plain": [
       "array([1.44133982])"
      ]
     },
     "execution_count": 17,
     "metadata": {},
     "output_type": "execute_result"
    }
   ],
   "source": [
    "# minmax_scaler.data_min_"
   ]
  },
  {
   "cell_type": "code",
   "execution_count": 18,
   "metadata": {
    "colab": {
     "base_uri": "https://localhost:8080/",
     "height": 203
    },
    "executionInfo": {
     "elapsed": 1448,
     "status": "ok",
     "timestamp": 1629967673531,
     "user": {
      "displayName": "Ivan Fernandes",
      "photoUrl": "https://lh3.googleusercontent.com/a-/AOh14GgHdj66drQjCguTVvVzCd5yy8cdMluPJPZlz_BQLg=s64",
      "userId": "12100132160237129013"
     },
     "user_tz": -120
    },
    "id": "cNFmve6jNShL",
    "outputId": "73713732-cc5c-4d71-dd99-609b3edbda95"
   },
   "outputs": [
    {
     "data": {
      "text/html": [
       "<div>\n",
       "<style scoped>\n",
       "    .dataframe tbody tr th:only-of-type {\n",
       "        vertical-align: middle;\n",
       "    }\n",
       "\n",
       "    .dataframe tbody tr th {\n",
       "        vertical-align: top;\n",
       "    }\n",
       "\n",
       "    .dataframe thead th {\n",
       "        text-align: right;\n",
       "    }\n",
       "</style>\n",
       "<table border=\"1\" class=\"dataframe\">\n",
       "  <thead>\n",
       "    <tr style=\"text-align: right;\">\n",
       "      <th></th>\n",
       "      <th>log_close</th>\n",
       "    </tr>\n",
       "  </thead>\n",
       "  <tbody>\n",
       "    <tr>\n",
       "      <th>19170</th>\n",
       "      <td>0.879889</td>\n",
       "    </tr>\n",
       "    <tr>\n",
       "      <th>13162</th>\n",
       "      <td>0.811019</td>\n",
       "    </tr>\n",
       "    <tr>\n",
       "      <th>17301</th>\n",
       "      <td>0.800697</td>\n",
       "    </tr>\n",
       "    <tr>\n",
       "      <th>8001</th>\n",
       "      <td>0.434256</td>\n",
       "    </tr>\n",
       "    <tr>\n",
       "      <th>5218</th>\n",
       "      <td>0.523869</td>\n",
       "    </tr>\n",
       "  </tbody>\n",
       "</table>\n",
       "</div>"
      ],
      "text/plain": [
       "       log_close\n",
       "19170   0.879889\n",
       "13162   0.811019\n",
       "17301   0.800697\n",
       "8001    0.434256\n",
       "5218    0.523869"
      ]
     },
     "execution_count": 18,
     "metadata": {},
     "output_type": "execute_result"
    }
   ],
   "source": [
    "# data_train_scaled.sample(5)"
   ]
  },
  {
   "cell_type": "code",
   "execution_count": 19,
   "metadata": {
    "colab": {
     "base_uri": "https://localhost:8080/",
     "height": 203
    },
    "executionInfo": {
     "elapsed": 379,
     "status": "ok",
     "timestamp": 1629967682486,
     "user": {
      "displayName": "Ivan Fernandes",
      "photoUrl": "https://lh3.googleusercontent.com/a-/AOh14GgHdj66drQjCguTVvVzCd5yy8cdMluPJPZlz_BQLg=s64",
      "userId": "12100132160237129013"
     },
     "user_tz": -120
    },
    "id": "Pb70eb4NNWT6",
    "outputId": "c5b195d2-7568-4355-d9f9-6e928bdf2c72"
   },
   "outputs": [
    {
     "data": {
      "text/html": [
       "<div>\n",
       "<style scoped>\n",
       "    .dataframe tbody tr th:only-of-type {\n",
       "        vertical-align: middle;\n",
       "    }\n",
       "\n",
       "    .dataframe tbody tr th {\n",
       "        vertical-align: top;\n",
       "    }\n",
       "\n",
       "    .dataframe thead th {\n",
       "        text-align: right;\n",
       "    }\n",
       "</style>\n",
       "<table border=\"1\" class=\"dataframe\">\n",
       "  <thead>\n",
       "    <tr style=\"text-align: right;\">\n",
       "      <th></th>\n",
       "      <th>log_close</th>\n",
       "    </tr>\n",
       "  </thead>\n",
       "  <tbody>\n",
       "    <tr>\n",
       "      <th>346</th>\n",
       "      <td>0.992779</td>\n",
       "    </tr>\n",
       "    <tr>\n",
       "      <th>712</th>\n",
       "      <td>0.950595</td>\n",
       "    </tr>\n",
       "    <tr>\n",
       "      <th>789</th>\n",
       "      <td>0.944294</td>\n",
       "    </tr>\n",
       "    <tr>\n",
       "      <th>944</th>\n",
       "      <td>0.969925</td>\n",
       "    </tr>\n",
       "    <tr>\n",
       "      <th>227</th>\n",
       "      <td>1.000808</td>\n",
       "    </tr>\n",
       "  </tbody>\n",
       "</table>\n",
       "</div>"
      ],
      "text/plain": [
       "     log_close\n",
       "346   0.992779\n",
       "712   0.950595\n",
       "789   0.944294\n",
       "944   0.969925\n",
       "227   1.000808"
      ]
     },
     "execution_count": 19,
     "metadata": {},
     "output_type": "execute_result"
    }
   ],
   "source": [
    "# data_test_scaled.sample(5)"
   ]
  },
  {
   "cell_type": "markdown",
   "metadata": {
    "id": "gMim3w6qTOaw"
   },
   "source": [
    "### Creating subsequences..."
   ]
  },
  {
   "cell_type": "code",
   "execution_count": 20,
   "metadata": {
    "executionInfo": {
     "elapsed": 4,
     "status": "ok",
     "timestamp": 1629967702188,
     "user": {
      "displayName": "Ivan Fernandes",
      "photoUrl": "https://lh3.googleusercontent.com/a-/AOh14GgHdj66drQjCguTVvVzCd5yy8cdMluPJPZlz_BQLg=s64",
      "userId": "12100132160237129013"
     },
     "user_tz": -120
    },
    "id": "uLSYeXScTOaz"
   },
   "outputs": [],
   "source": [
    "# def subsequence(df, length, horizon):\n",
    "#     last_possible_start = len(df) - length - horizon\n",
    "#     random_start = np.random.randint(0, last_possible_start)\n",
    "#     X = df[random_start:random_start + length]\n",
    "#     y = df.iloc[random_start + length + horizon]['log_close']\n",
    "    \n",
    "#     return X, y"
   ]
  },
  {
   "cell_type": "code",
   "execution_count": 21,
   "metadata": {
    "colab": {
     "base_uri": "https://localhost:8080/"
    },
    "executionInfo": {
     "elapsed": 4,
     "status": "ok",
     "timestamp": 1629967709363,
     "user": {
      "displayName": "Ivan Fernandes",
      "photoUrl": "https://lh3.googleusercontent.com/a-/AOh14GgHdj66drQjCguTVvVzCd5yy8cdMluPJPZlz_BQLg=s64",
      "userId": "12100132160237129013"
     },
     "user_tz": -120
    },
    "id": "aTdC-_xhTOa0",
    "outputId": "0b6de8eb-38df-4058-f4de-c20d7a93f7d6"
   },
   "outputs": [
    {
     "data": {
      "text/plain": [
       "10.982395850308958"
      ]
     },
     "execution_count": 21,
     "metadata": {},
     "output_type": "execute_result"
    }
   ],
   "source": [
    "# length = 60\n",
    "# horizon  = 1\n",
    "\n",
    "# X_train, y_train = subsequence(data_train, length, horizon)\n",
    "# y_train\n",
    "\n",
    "# X_test, y_test = subsequence(data_test, length, horizon)\n",
    "# y_test"
   ]
  },
  {
   "cell_type": "markdown",
   "metadata": {
    "id": "h5FZPKi2TOa0"
   },
   "source": [
    "**`multiple_subsequences`**"
   ]
  },
  {
   "cell_type": "code",
   "execution_count": 22,
   "metadata": {
    "executionInfo": {
     "elapsed": 393,
     "status": "ok",
     "timestamp": 1629968941572,
     "user": {
      "displayName": "Ivan Fernandes",
      "photoUrl": "https://lh3.googleusercontent.com/a-/AOh14GgHdj66drQjCguTVvVzCd5yy8cdMluPJPZlz_BQLg=s64",
      "userId": "12100132160237129013"
     },
     "user_tz": -120
    },
    "id": "Cxcc3IHrTOa0"
   },
   "outputs": [],
   "source": [
    "# def multiple_subsequences(df, number_of_subsequences, length ,horizon = 1):\n",
    "#     list_of_lengths = np.random.randint(66, 72, number_of_subsequences)\n",
    "#     if not length:\n",
    "#       list_of_X = [subsequence(df, list_of_lengths[_], horizon)[0] for _ in range(number_of_subsequences)]\n",
    "#       list_of_y = [subsequence(df, list_of_lengths[_], horizon)[1] for _ in range(number_of_subsequences)] # \n",
    "#     else:\n",
    "#       list_of_X = [subsequence(df, length, horizon)[0] for _ in range(number_of_subsequences)]\n",
    "#       list_of_y = [subsequence(df, length, horizon)[1] for _ in range(number_of_subsequences)] #       \n",
    "    \n",
    "#     return list_of_X, list_of_y"
   ]
  },
  {
   "cell_type": "code",
   "execution_count": 23,
   "metadata": {
    "executionInfo": {
     "elapsed": 1149,
     "status": "ok",
     "timestamp": 1629968943161,
     "user": {
      "displayName": "Ivan Fernandes",
      "photoUrl": "https://lh3.googleusercontent.com/a-/AOh14GgHdj66drQjCguTVvVzCd5yy8cdMluPJPZlz_BQLg=s64",
      "userId": "12100132160237129013"
     },
     "user_tz": -120
    },
    "id": "WuVLTavjTOa1"
   },
   "outputs": [],
   "source": [
    "# X_train, y_train = multiple_subsequences(data_train_scaled, 2000, length=None, horizon = 1)\n",
    "# X_test, y_test = multiple_subsequences(data_test_scaled, 1000, length=None,horizon = 1)"
   ]
  },
  {
   "cell_type": "markdown",
   "metadata": {
    "id": "KU7fCgwYTOa2"
   },
   "source": [
    "### LSTM"
   ]
  },
  {
   "cell_type": "markdown",
   "metadata": {
    "id": "Ob9ef9BNTOa2"
   },
   "source": [
    "#### Padding..."
   ]
  },
  {
   "cell_type": "code",
   "execution_count": 24,
   "metadata": {
    "colab": {
     "base_uri": "https://localhost:8080/",
     "height": 333
    },
    "executionInfo": {
     "elapsed": 519,
     "status": "ok",
     "timestamp": 1629968943663,
     "user": {
      "displayName": "Ivan Fernandes",
      "photoUrl": "https://lh3.googleusercontent.com/a-/AOh14GgHdj66drQjCguTVvVzCd5yy8cdMluPJPZlz_BQLg=s64",
      "userId": "12100132160237129013"
     },
     "user_tz": -120
    },
    "id": "iWnExbV2TOa2",
    "outputId": "2f0cb385-fdac-4899-9c7b-91fa646773ac"
   },
   "outputs": [
    {
     "data": {
      "text/plain": [
       "(array([166.,   0., 178.,   0., 186.,   0., 165.,   0., 160., 145.]),\n",
       " array([66. , 66.5, 67. , 67.5, 68. , 68.5, 69. , 69.5, 70. , 70.5, 71. ]),\n",
       " <BarContainer object of 10 artists>)"
      ]
     },
     "execution_count": 24,
     "metadata": {},
     "output_type": "execute_result"
    },
    {
     "data": {
      "image/png": "[encoded data removed]",
      "text/plain": [
       "<Figure size 432x288 with 2 Axes>"
      ]
     },
     "metadata": {},
     "output_type": "display_data"
    }
   ],
   "source": [
    "# plt.subplot(1,2,1)\n",
    "# plt.hist([len(_) for _ in X_train])\n",
    "# plt.subplot(1,2,2)\n",
    "# plt.hist([len(_) for _ in X_test])"
   ]
  },
  {
   "cell_type": "code",
   "execution_count": 25,
   "metadata": {
    "executionInfo": {
     "elapsed": 7,
     "status": "ok",
     "timestamp": 1629968943664,
     "user": {
      "displayName": "Ivan Fernandes",
      "photoUrl": "https://lh3.googleusercontent.com/a-/AOh14GgHdj66drQjCguTVvVzCd5yy8cdMluPJPZlz_BQLg=s64",
      "userId": "12100132160237129013"
     },
     "user_tz": -120
    },
    "id": "mZa7wPQaTOa3"
   },
   "outputs": [],
   "source": [
    "# from tensorflow.keras.preprocessing.sequence import pad_sequences\n",
    "\n",
    "# X_train_pad = pad_sequences(X_train, value = -999, padding = \"post\", dtype=\"float64\")\n",
    "# X_test_pad = pad_sequences(X_test, value = -999, padding = \"post\", dtype=\"float64\")"
   ]
  },
  {
   "cell_type": "code",
   "execution_count": 26,
   "metadata": {
    "colab": {
     "base_uri": "https://localhost:8080/"
    },
    "executionInfo": {
     "elapsed": 2,
     "status": "ok",
     "timestamp": 1629968944030,
     "user": {
      "displayName": "Ivan Fernandes",
      "photoUrl": "https://lh3.googleusercontent.com/a-/AOh14GgHdj66drQjCguTVvVzCd5yy8cdMluPJPZlz_BQLg=s64",
      "userId": "12100132160237129013"
     },
     "user_tz": -120
    },
    "id": "IZRdss3fL450",
    "outputId": "380dff5e-8c95-42e2-ab78-63f15b09d27b"
   },
   "outputs": [
    {
     "data": {
      "text/plain": [
       "((2000, 71, 1), (1000, 71, 1))"
      ]
     },
     "execution_count": 26,
     "metadata": {},
     "output_type": "execute_result"
    }
   ],
   "source": [
    "# X_train_pad.shape, X_test_pad.shape"
   ]
  },
  {
   "cell_type": "markdown",
   "metadata": {
    "id": "4VXmMApdTOa3"
   },
   "source": [
    "#### RNN Architecture"
   ]
  },
  {
   "cell_type": "code",
   "execution_count": 27,
   "metadata": {
    "colab": {
     "base_uri": "https://localhost:8080/"
    },
    "executionInfo": {
     "elapsed": 2,
     "status": "ok",
     "timestamp": 1629968945439,
     "user": {
      "displayName": "Ivan Fernandes",
      "photoUrl": "https://lh3.googleusercontent.com/a-/AOh14GgHdj66drQjCguTVvVzCd5yy8cdMluPJPZlz_BQLg=s64",
      "userId": "12100132160237129013"
     },
     "user_tz": -120
    },
    "id": "cPGw4CxharJx",
    "outputId": "eff5edb9-92ef-4a1c-d0f7-34e50a8596ce"
   },
   "outputs": [
    {
     "data": {
      "text/plain": [
       "(1000, 1)"
      ]
     },
     "execution_count": 27,
     "metadata": {},
     "output_type": "execute_result"
    }
   ],
   "source": [
    "# pd.DataFrame(y_test).shape"
   ]
  },
  {
   "cell_type": "code",
   "execution_count": 16,
   "metadata": {
    "executionInfo": {
     "elapsed": 1,
     "status": "ok",
     "timestamp": 1629968945884,
     "user": {
      "displayName": "Ivan Fernandes",
      "photoUrl": "https://lh3.googleusercontent.com/a-/AOh14GgHdj66drQjCguTVvVzCd5yy8cdMluPJPZlz_BQLg=s64",
      "userId": "12100132160237129013"
     },
     "user_tz": -120
    },
    "id": "ZPwe_lkATOa3"
   },
   "outputs": [
    {
     "name": "stderr",
     "output_type": "stream",
     "text": [
      "2021-08-26 16:37:09.645985: W tensorflow/stream_executor/platform/default/dso_loader.cc:64] Could not load dynamic library 'libcudart.so.11.0'; dlerror: libcudart.so.11.0: cannot open shared object file: No such file or directory\n",
      "2021-08-26 16:37:09.646044: I tensorflow/stream_executor/cuda/cudart_stub.cc:29] Ignore above cudart dlerror if you do not have a GPU set up on your machine.\n",
      "2021-08-26 16:37:12.074637: W tensorflow/stream_executor/platform/default/dso_loader.cc:64] Could not load dynamic library 'libcuda.so.1'; dlerror: libcuda.so.1: cannot open shared object file: No such file or directory\n",
      "2021-08-26 16:37:12.074843: W tensorflow/stream_executor/cuda/cuda_driver.cc:269] failed call to cuInit: UNKNOWN ERROR (303)\n",
      "2021-08-26 16:37:12.074882: I tensorflow/stream_executor/cuda/cuda_diagnostics.cc:156] kernel driver does not appear to be running on this host (LAPTOP-33CGF2OU): /proc/driver/nvidia/version does not exist\n",
      "2021-08-26 16:37:12.077182: I tensorflow/core/platform/cpu_feature_guard.cc:142] This TensorFlow binary is optimized with oneAPI Deep Neural Network Library (oneDNN) to use the following CPU instructions in performance-critical operations:  AVX2 AVX512F FMA\n",
      "To enable them in other operations, rebuild TensorFlow with the appropriate compiler flags.\n"
     ]
    }
   ],
   "source": [
    "from tensorflow.keras import metrics\n",
    "\n",
    "my_mae = metrics.MeanAbsoluteError(\n",
    "    name='mean_absolute_error', dtype=None\n",
    ")\n"
   ]
  },
  {
   "cell_type": "code",
   "execution_count": null,
   "metadata": {
    "colab": {
     "base_uri": "https://localhost:8080/"
    },
    "executionInfo": {
     "elapsed": 1953,
     "status": "ok",
     "timestamp": 1629968948177,
     "user": {
      "displayName": "Ivan Fernandes",
      "photoUrl": "https://lh3.googleusercontent.com/a-/AOh14GgHdj66drQjCguTVvVzCd5yy8cdMluPJPZlz_BQLg=s64",
      "userId": "12100132160237129013"
     },
     "user_tz": -120
    },
    "id": "GkEjh2ngTOa4",
    "outputId": "934eff05-c3ac-4046-984c-0401bd0b2484"
   },
   "outputs": [],
   "source": [
    "# from tensorflow.keras import Sequential, layers\n",
    "\n",
    "# # Build the LSTM model\n",
    "# model = Sequential()\n",
    "# model.add(layers.Masking(mask_value=-999., input_shape=X_train_pad.shape[1:]))\n",
    "# model.add(layers.LSTM(units=128,\n",
    "#                      return_sequences = True,\n",
    "#                      activation = \"tanh\",\n",
    "#                      input_shape = X_train_pad[0].shape))\n",
    "\n",
    "# model.add(layers.LSTM(units=64,\n",
    "#                       return_sequences = False,\n",
    "#                       activation = \"tanh\"))\n",
    "\n",
    "# model.add(layers.Dense(25,\n",
    "#                          activation=\"relu\"))\n",
    "\n",
    "# model.add(layers.Dense(1,\n",
    "#                       activation=\"relu\"))\n",
    "\n",
    "# model.summary()\n",
    "\n"
   ]
  },
  {
   "cell_type": "code",
   "execution_count": null,
   "metadata": {
    "executionInfo": {
     "elapsed": 340,
     "status": "ok",
     "timestamp": 1629968954711,
     "user": {
      "displayName": "Ivan Fernandes",
      "photoUrl": "https://lh3.googleusercontent.com/a-/AOh14GgHdj66drQjCguTVvVzCd5yy8cdMluPJPZlz_BQLg=s64",
      "userId": "12100132160237129013"
     },
     "user_tz": -120
    },
    "id": "igW2CAISTOa5"
   },
   "outputs": [],
   "source": [
    "# model.compile(loss=\"mse\",\n",
    "#              optimizer = \"rmsprop\",\n",
    "#              metrics = [my_mae])"
   ]
  },
  {
   "cell_type": "markdown",
   "metadata": {
    "id": "0JoMEFYdTOa5"
   },
   "source": [
    "#### Training"
   ]
  },
  {
   "cell_type": "code",
   "execution_count": null,
   "metadata": {
    "executionInfo": {
     "elapsed": 357,
     "status": "ok",
     "timestamp": 1629968962645,
     "user": {
      "displayName": "Ivan Fernandes",
      "photoUrl": "https://lh3.googleusercontent.com/a-/AOh14GgHdj66drQjCguTVvVzCd5yy8cdMluPJPZlz_BQLg=s64",
      "userId": "12100132160237129013"
     },
     "user_tz": -120
    },
    "id": "u8mqJaUWarJy"
   },
   "outputs": [],
   "source": [
    "#### perhaps create a validation and train sets by hand"
   ]
  },
  {
   "cell_type": "code",
   "execution_count": null,
   "metadata": {
    "colab": {
     "base_uri": "https://localhost:8080/"
    },
    "executionInfo": {
     "elapsed": 89008,
     "status": "ok",
     "timestamp": 1629969056811,
     "user": {
      "displayName": "Ivan Fernandes",
      "photoUrl": "https://lh3.googleusercontent.com/a-/AOh14GgHdj66drQjCguTVvVzCd5yy8cdMluPJPZlz_BQLg=s64",
      "userId": "12100132160237129013"
     },
     "user_tz": -120
    },
    "id": "x8WmFMDoTOa6",
    "outputId": "c4129e5e-d680-4199-e200-ed02360e4cc6"
   },
   "outputs": [],
   "source": [
    "# from tensorflow.keras.callbacks import EarlyStopping \n",
    "\n",
    "# es = EarlyStopping(patience = 5, monitor = \"val_mean_absolute_error\")\n",
    "\n",
    "# history = model.fit(X_train_pad, np.array(y_train),\n",
    "#           validation_split = 0.3,\n",
    "#          batch_size=16,\n",
    "#          epochs=5,\n",
    "#          verbose = 1,\n",
    "#          callbacks = [es])"
   ]
  },
  {
   "cell_type": "code",
   "execution_count": 17,
   "metadata": {
    "executionInfo": {
     "elapsed": 618,
     "status": "ok",
     "timestamp": 1629971280020,
     "user": {
      "displayName": "Ivan Fernandes",
      "photoUrl": "https://lh3.googleusercontent.com/a-/AOh14GgHdj66drQjCguTVvVzCd5yy8cdMluPJPZlz_BQLg=s64",
      "userId": "12100132160237129013"
     },
     "user_tz": -120
    },
    "id": "6BnpySGUL453"
   },
   "outputs": [],
   "source": [
    "def plot_loss_mae(history):\n",
    "    \n",
    "    fig, ax =plt.subplots(1,2,figsize=(20,5))\n",
    "    \n",
    "    # --- LOSS\n",
    "    \n",
    "    ax[0].plot(history.history['loss'])\n",
    "    ax[0].plot(history.history['val_loss'])\n",
    "    ax[0].set_title('Model loss')\n",
    "    ax[0].set_xlabel('Epoch')\n",
    "    ax[0].set_ylabel('Loss')\n",
    "    ax[0].legend(['Train', 'Val'], loc='upper right')\n",
    "    ax[0].grid(axis=\"x\",linewidth=0.5)\n",
    "    ax[0].grid(axis=\"y\",linewidth=0.5)\n",
    "    \n",
    "    # --- MAE\n",
    "\n",
    "    ax[1].plot(history.history['mean_absolute_error'])\n",
    "    ax[1].plot(history.history['val_mean_absolute_error'])\n",
    "    ax[1].set_title('Model MAE', fontsize = 18)\n",
    "    ax[1].set_xlabel('Epoch', fontsize = 14)\n",
    "    ax[1].set_ylabel('Recall', fontsize = 14)\n",
    "    ax[1].legend(['Train', 'Val'], loc='lower right') \n",
    "    ax[1].grid(axis=\"x\",linewidth=0.5)\n",
    "    ax[1].grid(axis=\"y\",linewidth=0.5)   \n",
    "    \n",
    "    plt.show()\n",
    "    "
   ]
  },
  {
   "cell_type": "code",
   "execution_count": null,
   "metadata": {
    "colab": {
     "base_uri": "https://localhost:8080/",
     "height": 330
    },
    "executionInfo": {
     "elapsed": 775,
     "status": "ok",
     "timestamp": 1629971280790,
     "user": {
      "displayName": "Ivan Fernandes",
      "photoUrl": "https://lh3.googleusercontent.com/a-/AOh14GgHdj66drQjCguTVvVzCd5yy8cdMluPJPZlz_BQLg=s64",
      "userId": "12100132160237129013"
     },
     "user_tz": -120
    },
    "id": "CYBdZyrzL454",
    "outputId": "be857210-3dbb-4216-8037-6adedfac0875"
   },
   "outputs": [],
   "source": [
    "# plot_loss_mae(history)"
   ]
  },
  {
   "cell_type": "markdown",
   "metadata": {
    "id": "dPlbdR24TOa7"
   },
   "source": [
    "#### Evaluating"
   ]
  },
  {
   "cell_type": "code",
   "execution_count": null,
   "metadata": {
    "colab": {
     "base_uri": "https://localhost:8080/",
     "height": 370
    },
    "executionInfo": {
     "elapsed": 346,
     "status": "error",
     "timestamp": 1629971289974,
     "user": {
      "displayName": "Ivan Fernandes",
      "photoUrl": "https://lh3.googleusercontent.com/a-/AOh14GgHdj66drQjCguTVvVzCd5yy8cdMluPJPZlz_BQLg=s64",
      "userId": "12100132160237129013"
     },
     "user_tz": -120
    },
    "id": "fGR98XHrTOa7",
    "outputId": "eae3ab01-8077-4116-c16d-93c6c971a35d"
   },
   "outputs": [],
   "source": [
    "# res = model.evaluate(X_test_pad, np.array(y_test), verbose = 1)\n",
    "# res\n"
   ]
  },
  {
   "cell_type": "markdown",
   "metadata": {
    "id": "o3S6CvgCTOa8"
   },
   "source": [
    "#### Predictions"
   ]
  },
  {
   "cell_type": "code",
   "execution_count": null,
   "metadata": {
    "executionInfo": {
     "elapsed": 3825,
     "status": "ok",
     "timestamp": 1629969068317,
     "user": {
      "displayName": "Ivan Fernandes",
      "photoUrl": "https://lh3.googleusercontent.com/a-/AOh14GgHdj66drQjCguTVvVzCd5yy8cdMluPJPZlz_BQLg=s64",
      "userId": "12100132160237129013"
     },
     "user_tz": -120
    },
    "id": "_a1LDha2TOa9"
   },
   "outputs": [],
   "source": [
    "# predictions = model.predict(X_test_pad)\n"
   ]
  },
  {
   "cell_type": "code",
   "execution_count": null,
   "metadata": {
    "colab": {
     "base_uri": "https://localhost:8080/"
    },
    "executionInfo": {
     "elapsed": 14,
     "status": "ok",
     "timestamp": 1629969068318,
     "user": {
      "displayName": "Ivan Fernandes",
      "photoUrl": "https://lh3.googleusercontent.com/a-/AOh14GgHdj66drQjCguTVvVzCd5yy8cdMluPJPZlz_BQLg=s64",
      "userId": "12100132160237129013"
     },
     "user_tz": -120
    },
    "id": "abi96XmrTOa-",
    "outputId": "d96a92dc-04ec-4680-b3a2-ed4c39f13817"
   },
   "outputs": [],
   "source": [
    "# len(predictions), len(y_test)"
   ]
  },
  {
   "cell_type": "code",
   "execution_count": null,
   "metadata": {
    "colab": {
     "base_uri": "https://localhost:8080/"
    },
    "executionInfo": {
     "elapsed": 11,
     "status": "ok",
     "timestamp": 1629969068318,
     "user": {
      "displayName": "Ivan Fernandes",
      "photoUrl": "https://lh3.googleusercontent.com/a-/AOh14GgHdj66drQjCguTVvVzCd5yy8cdMluPJPZlz_BQLg=s64",
      "userId": "12100132160237129013"
     },
     "user_tz": -120
    },
    "id": "WbG_o9xrTOa-",
    "outputId": "586ea1e0-d0c1-400e-88fd-b45f46966093"
   },
   "outputs": [],
   "source": [
    "# predictions[0:3]"
   ]
  },
  {
   "cell_type": "markdown",
   "metadata": {
    "id": "bN_vtDyWTOa-"
   },
   "source": [
    "The operation computed during a `MinMaxScaler` Operation is:\n",
    "\n",
    "$$x_{scaled} = \\frac{x - x_{min}}{x_{max}- x_{min}}$$\n",
    "\n",
    "To descale it:\n",
    "\n",
    "$$x = x_{scaled} * (x_{max}- x_{min}) + x_{min}$$\n",
    "\n",
    "Or use the `inverse_transform` directly provided..."
   ]
  },
  {
   "cell_type": "code",
   "execution_count": null,
   "metadata": {
    "executionInfo": {
     "elapsed": 332,
     "status": "ok",
     "timestamp": 1629969075509,
     "user": {
      "displayName": "Ivan Fernandes",
      "photoUrl": "https://lh3.googleusercontent.com/a-/AOh14GgHdj66drQjCguTVvVzCd5yy8cdMluPJPZlz_BQLg=s64",
      "userId": "12100132160237129013"
     },
     "user_tz": -120
    },
    "id": "i_zFadtCTOa-"
   },
   "outputs": [],
   "source": [
    "# a = minmax_scaler.data_min_\n",
    "# b = minmax_scaler.data_max_"
   ]
  },
  {
   "cell_type": "code",
   "execution_count": null,
   "metadata": {
    "colab": {
     "base_uri": "https://localhost:8080/"
    },
    "executionInfo": {
     "elapsed": 6,
     "status": "ok",
     "timestamp": 1629969076040,
     "user": {
      "displayName": "Ivan Fernandes",
      "photoUrl": "https://lh3.googleusercontent.com/a-/AOh14GgHdj66drQjCguTVvVzCd5yy8cdMluPJPZlz_BQLg=s64",
      "userId": "12100132160237129013"
     },
     "user_tz": -120
    },
    "id": "F8e0828gTOa-",
    "outputId": "d3c0f3fb-568f-4233-e74f-163aad3ee4ea"
   },
   "outputs": [],
   "source": [
    "# unscaled_predictions = predictions * (b - a) + a\n",
    "# unscaled_predictions[:3]\n",
    "# # len is 1000"
   ]
  },
  {
   "cell_type": "code",
   "execution_count": null,
   "metadata": {
    "colab": {
     "base_uri": "https://localhost:8080/"
    },
    "executionInfo": {
     "elapsed": 4,
     "status": "ok",
     "timestamp": 1629969076794,
     "user": {
      "displayName": "Ivan Fernandes",
      "photoUrl": "https://lh3.googleusercontent.com/a-/AOh14GgHdj66drQjCguTVvVzCd5yy8cdMluPJPZlz_BQLg=s64",
      "userId": "12100132160237129013"
     },
     "user_tz": -120
    },
    "id": "-aaFVliCTOa_",
    "outputId": "9cb4ed8c-8cc1-405c-e838-6a80b7ff104b"
   },
   "outputs": [],
   "source": [
    "# unscaled_predictions = minmax_scaler.inverse_transform(predictions)\n",
    "# unscaled_predictions[:3]"
   ]
  },
  {
   "cell_type": "code",
   "execution_count": null,
   "metadata": {
    "colab": {
     "base_uri": "https://localhost:8080/"
    },
    "executionInfo": {
     "elapsed": 2,
     "status": "ok",
     "timestamp": 1629969077337,
     "user": {
      "displayName": "Ivan Fernandes",
      "photoUrl": "https://lh3.googleusercontent.com/a-/AOh14GgHdj66drQjCguTVvVzCd5yy8cdMluPJPZlz_BQLg=s64",
      "userId": "12100132160237129013"
     },
     "user_tz": -120
    },
    "id": "C3XQZBBCTOa_",
    "outputId": "02055ae0-0fa3-484e-abd1-dfae9bc80f05"
   },
   "outputs": [],
   "source": [
    "# unscaled_y_test = minmax_scaler.inverse_transform(np.array([y_test])).T\n",
    "# unscaled_y_test[:3]"
   ]
  },
  {
   "cell_type": "code",
   "execution_count": null,
   "metadata": {
    "colab": {
     "base_uri": "https://localhost:8080/"
    },
    "executionInfo": {
     "elapsed": 4,
     "status": "ok",
     "timestamp": 1629969078217,
     "user": {
      "displayName": "Ivan Fernandes",
      "photoUrl": "https://lh3.googleusercontent.com/a-/AOh14GgHdj66drQjCguTVvVzCd5yy8cdMluPJPZlz_BQLg=s64",
      "userId": "12100132160237129013"
     },
     "user_tz": -120
    },
    "id": "yTqWicNDarJ1",
    "outputId": "9e9ef7df-e7e3-452b-b260-3200fca9faff"
   },
   "outputs": [],
   "source": [
    "# unscaled_y_test  = np.array(y_test)*(b - a) + a\n",
    "# unscaled_y_test[:3]"
   ]
  },
  {
   "cell_type": "code",
   "execution_count": null,
   "metadata": {
    "colab": {
     "base_uri": "https://localhost:8080/"
    },
    "executionInfo": {
     "elapsed": 2,
     "status": "ok",
     "timestamp": 1629969078818,
     "user": {
      "displayName": "Ivan Fernandes",
      "photoUrl": "https://lh3.googleusercontent.com/a-/AOh14GgHdj66drQjCguTVvVzCd5yy8cdMluPJPZlz_BQLg=s64",
      "userId": "12100132160237129013"
     },
     "user_tz": -120
    },
    "id": "siGpcU3NTOa_",
    "outputId": "201b764a-36d7-436a-eb30-9584078655c7"
   },
   "outputs": [],
   "source": [
    "# unscaled_predictions.shape"
   ]
  },
  {
   "cell_type": "code",
   "execution_count": null,
   "metadata": {
    "colab": {
     "base_uri": "https://localhost:8080/"
    },
    "executionInfo": {
     "elapsed": 7,
     "status": "ok",
     "timestamp": 1629969079696,
     "user": {
      "displayName": "Ivan Fernandes",
      "photoUrl": "https://lh3.googleusercontent.com/a-/AOh14GgHdj66drQjCguTVvVzCd5yy8cdMluPJPZlz_BQLg=s64",
      "userId": "12100132160237129013"
     },
     "user_tz": -120
    },
    "id": "yMJr8wOETObA",
    "outputId": "e50b67e3-a660-47b6-937a-91400c1b4602"
   },
   "outputs": [],
   "source": [
    "# unscaled_y_test.shape"
   ]
  },
  {
   "cell_type": "code",
   "execution_count": null,
   "metadata": {
    "colab": {
     "base_uri": "https://localhost:8080/"
    },
    "executionInfo": {
     "elapsed": 3,
     "status": "ok",
     "timestamp": 1629969080150,
     "user": {
      "displayName": "Ivan Fernandes",
      "photoUrl": "https://lh3.googleusercontent.com/a-/AOh14GgHdj66drQjCguTVvVzCd5yy8cdMluPJPZlz_BQLg=s64",
      "userId": "12100132160237129013"
     },
     "user_tz": -120
    },
    "id": "hsfdHb8hTObA",
    "outputId": "9226cac2-5d3a-4393-b9d0-b2bc3742a8d5"
   },
   "outputs": [],
   "source": [
    "# #MAE\n",
    "# np.mean(np.abs(unscaled_y_test - unscaled_predictions))"
   ]
  },
  {
   "cell_type": "code",
   "execution_count": null,
   "metadata": {},
   "outputs": [],
   "source": [
    "# np.exp(np.mean(np.abs(unscaled_y_test - unscaled_predictions)))"
   ]
  },
  {
   "cell_type": "code",
   "execution_count": null,
   "metadata": {
    "colab": {
     "base_uri": "https://localhost:8080/"
    },
    "executionInfo": {
     "elapsed": 4,
     "status": "ok",
     "timestamp": 1629969081186,
     "user": {
      "displayName": "Ivan Fernandes",
      "photoUrl": "https://lh3.googleusercontent.com/a-/AOh14GgHdj66drQjCguTVvVzCd5yy8cdMluPJPZlz_BQLg=s64",
      "userId": "12100132160237129013"
     },
     "user_tz": -120
    },
    "id": "XPF3KcIncxe1",
    "outputId": "9072603d-0a4a-4907-a836-1427e14199a2"
   },
   "outputs": [],
   "source": [
    "# #MSE\n",
    "# np.sqrt(np.mean((unscaled_y_test - unscaled_predictions)**2))"
   ]
  },
  {
   "cell_type": "code",
   "execution_count": null,
   "metadata": {},
   "outputs": [],
   "source": [
    "# X_train_pad.shape"
   ]
  },
  {
   "cell_type": "code",
   "execution_count": null,
   "metadata": {
    "colab": {
     "base_uri": "https://localhost:8080/"
    },
    "executionInfo": {
     "elapsed": 2697,
     "status": "ok",
     "timestamp": 1629969090265,
     "user": {
      "displayName": "Ivan Fernandes",
      "photoUrl": "https://lh3.googleusercontent.com/a-/AOh14GgHdj66drQjCguTVvVzCd5yy8cdMluPJPZlz_BQLg=s64",
      "userId": "12100132160237129013"
     },
     "user_tz": -120
    },
    "id": "NCWV4MQHD_0K",
    "outputId": "8b19589d-d572-4c36-a83b-1c3fd8e5c744"
   },
   "outputs": [],
   "source": [
    "# predictions_train = model.predict(X_train_pad)\n",
    "# unscaled_predictions_train = minmax_scaler.inverse_transform(predictions_train)\n",
    "# unscaled_y_train = minmax_scaler.inverse_transform(np.array([y_train])).T\n",
    "# np.mean(np.abs(unscaled_y_train - unscaled_predictions_train))"
   ]
  },
  {
   "cell_type": "markdown",
   "metadata": {
    "id": "0MqA8NYOTObA"
   },
   "source": [
    "## Second round"
   ]
  },
  {
   "cell_type": "code",
   "execution_count": 18,
   "metadata": {
    "colab": {
     "base_uri": "https://localhost:8080/"
    },
    "executionInfo": {
     "elapsed": 331,
     "status": "ok",
     "timestamp": 1629972855030,
     "user": {
      "displayName": "Ivan Fernandes",
      "photoUrl": "https://lh3.googleusercontent.com/a-/AOh14GgHdj66drQjCguTVvVzCd5yy8cdMluPJPZlz_BQLg=s64",
      "userId": "12100132160237129013"
     },
     "user_tz": -120
    },
    "id": "4ZAlnOTwTObB",
    "outputId": "65d37bf2-66eb-451f-a089-da27ba0ecf69"
   },
   "outputs": [
    {
     "data": {
      "text/plain": [
       "array([[ 1.96571278],\n",
       "       [ 1.94982026],\n",
       "       [ 1.97487604],\n",
       "       ...,\n",
       "       [10.79566039],\n",
       "       [10.81540794],\n",
       "       [10.82531108]])"
      ]
     },
     "execution_count": 18,
     "metadata": {},
     "output_type": "execute_result"
    }
   ],
   "source": [
    "dataset = data[[\"log_close\"]].values\n",
    "dataset"
   ]
  },
  {
   "cell_type": "code",
   "execution_count": 19,
   "metadata": {
    "colab": {
     "base_uri": "https://localhost:8080/"
    },
    "executionInfo": {
     "elapsed": 358,
     "status": "ok",
     "timestamp": 1629972861459,
     "user": {
      "displayName": "Ivan Fernandes",
      "photoUrl": "https://lh3.googleusercontent.com/a-/AOh14GgHdj66drQjCguTVvVzCd5yy8cdMluPJPZlz_BQLg=s64",
      "userId": "12100132160237129013"
     },
     "user_tz": -120
    },
    "id": "Ky6aM8SBdNRJ",
    "outputId": "4230c46f-9302-4ae4-c65c-2dfaca764428"
   },
   "outputs": [
    {
     "data": {
      "text/plain": [
       "array([[0.05444881],\n",
       "       [0.0527986 ],\n",
       "       [0.05540029],\n",
       "       ...,\n",
       "       [0.9713156 ],\n",
       "       [0.97336611],\n",
       "       [0.97439441]])"
      ]
     },
     "execution_count": 19,
     "metadata": {},
     "output_type": "execute_result"
    }
   ],
   "source": [
    "# Scale the data\n",
    "from sklearn.preprocessing import MinMaxScaler\n",
    "\n",
    "scaler = MinMaxScaler(feature_range=(0,1))\n",
    "scaled_data = scaler.fit_transform(dataset)\n",
    "\n",
    "scaled_data"
   ]
  },
  {
   "cell_type": "code",
   "execution_count": 20,
   "metadata": {
    "colab": {
     "base_uri": "https://localhost:8080/"
    },
    "executionInfo": {
     "elapsed": 4,
     "status": "ok",
     "timestamp": 1629972866229,
     "user": {
      "displayName": "Ivan Fernandes",
      "photoUrl": "https://lh3.googleusercontent.com/a-/AOh14GgHdj66drQjCguTVvVzCd5yy8cdMluPJPZlz_BQLg=s64",
      "userId": "12100132160237129013"
     },
     "user_tz": -120
    },
    "id": "zAgMZ7U2vEm7",
    "outputId": "0ae70070-5e33-460f-edca-c78ebe156b53"
   },
   "outputs": [
    {
     "data": {
      "text/plain": [
       "17688"
      ]
     },
     "execution_count": 20,
     "metadata": {},
     "output_type": "execute_result"
    }
   ],
   "source": [
    "length = 60\n",
    "horizon  = 1\n",
    "\n",
    "training_split = 0.85\n",
    "training_data_length = int(np.ceil(len(dataset) * training_split))\n",
    "training_data_length"
   ]
  },
  {
   "cell_type": "code",
   "execution_count": 21,
   "metadata": {
    "executionInfo": {
     "elapsed": 330,
     "status": "ok",
     "timestamp": 1629972868143,
     "user": {
      "displayName": "Ivan Fernandes",
      "photoUrl": "https://lh3.googleusercontent.com/a-/AOh14GgHdj66drQjCguTVvVzCd5yy8cdMluPJPZlz_BQLg=s64",
      "userId": "12100132160237129013"
     },
     "user_tz": -120
    },
    "id": "1UKkQE7pdQyF"
   },
   "outputs": [],
   "source": [
    "# Create the training data set \n",
    "# Create the scaled training data set\n",
    "\n",
    "train_data = scaled_data[0:int(training_data_length), :]\n",
    "# Split the data into x_train and y_train data sets\n",
    "y_train = []\n",
    "\n",
    "x_train = [train_data[i-length:i, 0] for i in range(length, len(train_data))]\n",
    "y_train = [train_data[i, 0] for i in range(length, len(train_data))]\n",
    "        \n",
    "# Convert the x_train and y_train to numpy arrays \n",
    "x_train, y_train = np.array(x_train), np.array(y_train)\n",
    "\n",
    "# Reshape the data\n",
    "x_train = np.reshape(x_train, (x_train.shape[0], x_train.shape[1], 1))\n",
    "# x_train.shape"
   ]
  },
  {
   "cell_type": "code",
   "execution_count": 22,
   "metadata": {
    "executionInfo": {
     "elapsed": 343,
     "status": "ok",
     "timestamp": 1629972870035,
     "user": {
      "displayName": "Ivan Fernandes",
      "photoUrl": "https://lh3.googleusercontent.com/a-/AOh14GgHdj66drQjCguTVvVzCd5yy8cdMluPJPZlz_BQLg=s64",
      "userId": "12100132160237129013"
     },
     "user_tz": -120
    },
    "id": "53aODOBCwgkq"
   },
   "outputs": [],
   "source": [
    "# Create the testing data set\n",
    "# Create a new array containing scaled values from index 543 to 2002 \n",
    "test_data = scaled_data[training_data_length - length: , :]\n",
    "# Create the data sets x_test and y_test\n",
    "\n",
    "y_test = dataset[training_data_length:, :]\n",
    "x_test = [test_data[i-length:i, 0] for i in range(length, len(test_data))]\n",
    "    \n",
    "# Convert the data to a numpy array\n",
    "x_test = np.array(x_test)\n",
    "\n",
    "# Reshape the data\n",
    "x_test = np.reshape(x_test, (x_test.shape[0], x_test.shape[1], 1 ))"
   ]
  },
  {
   "cell_type": "code",
   "execution_count": 23,
   "metadata": {
    "colab": {
     "base_uri": "https://localhost:8080/"
    },
    "executionInfo": {
     "elapsed": 336,
     "status": "ok",
     "timestamp": 1629972873580,
     "user": {
      "displayName": "Ivan Fernandes",
      "photoUrl": "https://lh3.googleusercontent.com/a-/AOh14GgHdj66drQjCguTVvVzCd5yy8cdMluPJPZlz_BQLg=s64",
      "userId": "12100132160237129013"
     },
     "user_tz": -120
    },
    "id": "yaenuJTZv6co",
    "outputId": "67b35f97-d9dc-4da7-f7fd-5c8e187a8ac9"
   },
   "outputs": [
    {
     "name": "stdout",
     "output_type": "stream",
     "text": [
      "(17628, 60, 1) (17628,)\n",
      "(3121, 60, 1) (3121, 1)\n"
     ]
    }
   ],
   "source": [
    "print(x_train.shape, y_train.shape)\n",
    "print(x_test.shape, y_test.shape)"
   ]
  },
  {
   "cell_type": "code",
   "execution_count": 24,
   "metadata": {
    "colab": {
     "base_uri": "https://localhost:8080/"
    },
    "executionInfo": {
     "elapsed": 445330,
     "status": "ok",
     "timestamp": 1629973325521,
     "user": {
      "displayName": "Ivan Fernandes",
      "photoUrl": "https://lh3.googleusercontent.com/a-/AOh14GgHdj66drQjCguTVvVzCd5yy8cdMluPJPZlz_BQLg=s64",
      "userId": "12100132160237129013"
     },
     "user_tz": -120
    },
    "id": "r1kJ7oDCdZgd",
    "outputId": "ee96a936-e2d1-4de0-b658-6d1df677227f"
   },
   "outputs": [
    {
     "name": "stderr",
     "output_type": "stream",
     "text": [
      "2021-08-26 16:38:35.207925: I tensorflow/compiler/mlir/mlir_graph_optimization_pass.cc:185] None of the MLIR Optimization Passes are enabled (registered 2)\n"
     ]
    },
    {
     "name": "stdout",
     "output_type": "stream",
     "text": [
      "1322/1322 [==============================] - 87s 64ms/step - loss: 4.1118e-04 - mean_absolute_error: 0.0064 - val_loss: 1.1202e-04 - val_mean_absolute_error: 0.0095\n"
     ]
    }
   ],
   "source": [
    "from keras.models import Sequential\n",
    "from keras.layers import Dense, LSTM\n",
    "\n",
    "# Build the LSTM model\n",
    "model = Sequential()\n",
    "model.add(LSTM(128, return_sequences=True, input_shape= (x_train.shape[1], 1)))\n",
    "model.add(LSTM(64, return_sequences=False))\n",
    "model.add(Dense(25))\n",
    "model.add(Dense(1))\n",
    "\n",
    "# Compile the model\n",
    "model.compile(optimizer='adam', loss='mean_squared_error', metrics = my_mae)\n",
    "\n",
    "# Train the model\n",
    "history = model.fit(x_train, y_train, batch_size=8, epochs=1, validation_split = 0.4)"
   ]
  },
  {
   "cell_type": "code",
   "execution_count": 25,
   "metadata": {
    "colab": {
     "base_uri": "https://localhost:8080/",
     "height": 330
    },
    "executionInfo": {
     "elapsed": 1169,
     "status": "ok",
     "timestamp": 1629973328789,
     "user": {
      "displayName": "Ivan Fernandes",
      "photoUrl": "https://lh3.googleusercontent.com/a-/AOh14GgHdj66drQjCguTVvVzCd5yy8cdMluPJPZlz_BQLg=s64",
      "userId": "12100132160237129013"
     },
     "user_tz": -120
    },
    "id": "Q_zo4Kbm-xfx",
    "outputId": "41bfd88f-1816-4d3e-df07-3e015857209d"
   },
   "outputs": [
    {
     "data": {
      "image/png": "[encoded data removed]",
      "text/plain": [
       "<Figure size 1440x360 with 2 Axes>"
      ]
     },
     "metadata": {},
     "output_type": "display_data"
    }
   ],
   "source": [
    "plot_loss_mae(history)"
   ]
  },
  {
   "cell_type": "code",
   "execution_count": 26,
   "metadata": {
    "colab": {
     "base_uri": "https://localhost:8080/"
    },
    "executionInfo": {
     "elapsed": 2984,
     "status": "ok",
     "timestamp": 1629973363329,
     "user": {
      "displayName": "Ivan Fernandes",
      "photoUrl": "https://lh3.googleusercontent.com/a-/AOh14GgHdj66drQjCguTVvVzCd5yy8cdMluPJPZlz_BQLg=s64",
      "userId": "12100132160237129013"
     },
     "user_tz": -120
    },
    "id": "mDLxHpjofPRL",
    "outputId": "a11b4d99-1534-4dfe-9ec2-25f37fac539b"
   },
   "outputs": [
    {
     "data": {
      "text/plain": [
       "array([[8.627505],\n",
       "       [8.634287],\n",
       "       [8.638061]], dtype=float32)"
      ]
     },
     "execution_count": 26,
     "metadata": {},
     "output_type": "execute_result"
    }
   ],
   "source": [
    "# Get the models predicted price values \n",
    "predictions = model.predict(x_test)\n",
    "predictions = scaler.inverse_transform(predictions)\n",
    "predictions[:3]"
   ]
  },
  {
   "cell_type": "code",
   "execution_count": 27,
   "metadata": {
    "colab": {
     "base_uri": "https://localhost:8080/"
    },
    "executionInfo": {
     "elapsed": 393,
     "status": "ok",
     "timestamp": 1629973398497,
     "user": {
      "displayName": "Ivan Fernandes",
      "photoUrl": "https://lh3.googleusercontent.com/a-/AOh14GgHdj66drQjCguTVvVzCd5yy8cdMluPJPZlz_BQLg=s64",
      "userId": "12100132160237129013"
     },
     "user_tz": -120
    },
    "id": "Jvw0e9a5_B3Q",
    "outputId": "491632c8-7cf1-4d07-9990-42575fa60b54"
   },
   "outputs": [
    {
     "data": {
      "text/plain": [
       "((3121, 1), (3121, 1))"
      ]
     },
     "execution_count": 27,
     "metadata": {},
     "output_type": "execute_result"
    }
   ],
   "source": [
    "y_test.shape, predictions.shape"
   ]
  },
  {
   "cell_type": "code",
   "execution_count": 28,
   "metadata": {
    "colab": {
     "base_uri": "https://localhost:8080/"
    },
    "executionInfo": {
     "elapsed": 337,
     "status": "ok",
     "timestamp": 1629973370818,
     "user": {
      "displayName": "Ivan Fernandes",
      "photoUrl": "https://lh3.googleusercontent.com/a-/AOh14GgHdj66drQjCguTVvVzCd5yy8cdMluPJPZlz_BQLg=s64",
      "userId": "12100132160237129013"
     },
     "user_tz": -120
    },
    "id": "6E2H4WZm-pf0",
    "outputId": "bdb62256-47c2-4e22-ce5e-cdb6113408ac"
   },
   "outputs": [
    {
     "data": {
      "text/plain": [
       "0.19682405195591807"
      ]
     },
     "execution_count": 28,
     "metadata": {},
     "output_type": "execute_result"
    }
   ],
   "source": [
    "# Get the root mean squared error (RMSE)\n",
    "rmse = np.sqrt(np.mean(((predictions - y_test) ** 2)))\n",
    "rmse"
   ]
  },
  {
   "cell_type": "code",
   "execution_count": 29,
   "metadata": {
    "colab": {
     "base_uri": "https://localhost:8080/"
    },
    "executionInfo": {
     "elapsed": 4437,
     "status": "ok",
     "timestamp": 1629973427758,
     "user": {
      "displayName": "Ivan Fernandes",
      "photoUrl": "https://lh3.googleusercontent.com/a-/AOh14GgHdj66drQjCguTVvVzCd5yy8cdMluPJPZlz_BQLg=s64",
      "userId": "12100132160237129013"
     },
     "user_tz": -120
    },
    "id": "fdyr7K5marJ3",
    "outputId": "4a7ff078-2039-4d92-cf93-7383265d47a2"
   },
   "outputs": [
    {
     "name": "stdout",
     "output_type": "stream",
     "text": [
      "98/98 [==============================] - 2s 20ms/step - loss: 82.5991 - mean_absolute_error: 9.0641\n"
     ]
    },
    {
     "data": {
      "text/plain": [
       "[82.59908294677734, 9.064098358154297]"
      ]
     },
     "execution_count": 29,
     "metadata": {},
     "output_type": "execute_result"
    }
   ],
   "source": [
    "model.evaluate(x_test, y_test)"
   ]
  },
  {
   "cell_type": "code",
   "execution_count": 30,
   "metadata": {
    "executionInfo": {
     "elapsed": 439,
     "status": "ok",
     "timestamp": 1629973433584,
     "user": {
      "displayName": "Ivan Fernandes",
      "photoUrl": "https://lh3.googleusercontent.com/a-/AOh14GgHdj66drQjCguTVvVzCd5yy8cdMluPJPZlz_BQLg=s64",
      "userId": "12100132160237129013"
     },
     "user_tz": -120
    },
    "id": "DczPn6a-hCH5"
   },
   "outputs": [],
   "source": [
    "# Plot the data\n",
    "train = selected_data[:training_data_length]\n",
    "valid = selected_data[training_data_length:].copy()"
   ]
  },
  {
   "cell_type": "code",
   "execution_count": 31,
   "metadata": {
    "colab": {
     "base_uri": "https://localhost:8080/",
     "height": 447
    },
    "executionInfo": {
     "elapsed": 343,
     "status": "ok",
     "timestamp": 1629973437703,
     "user": {
      "displayName": "Ivan Fernandes",
      "photoUrl": "https://lh3.googleusercontent.com/a-/AOh14GgHdj66drQjCguTVvVzCd5yy8cdMluPJPZlz_BQLg=s64",
      "userId": "12100132160237129013"
     },
     "user_tz": -120
    },
    "id": "WjQSBQ5JarJ4",
    "outputId": "c8141000-c535-4f92-faf9-406986f792da"
   },
   "outputs": [
    {
     "data": {
      "text/html": [
       "<div>\n",
       "<style scoped>\n",
       "    .dataframe tbody tr th:only-of-type {\n",
       "        vertical-align: middle;\n",
       "    }\n",
       "\n",
       "    .dataframe tbody tr th {\n",
       "        vertical-align: top;\n",
       "    }\n",
       "\n",
       "    .dataframe thead th {\n",
       "        text-align: right;\n",
       "    }\n",
       "</style>\n",
       "<table border=\"1\" class=\"dataframe\">\n",
       "  <thead>\n",
       "    <tr style=\"text-align: right;\">\n",
       "      <th></th>\n",
       "      <th>log_close</th>\n",
       "    </tr>\n",
       "    <tr>\n",
       "      <th>date</th>\n",
       "      <th></th>\n",
       "    </tr>\n",
       "  </thead>\n",
       "  <tbody>\n",
       "    <tr>\n",
       "      <th>2012-01-10 20:00:00</th>\n",
       "      <td>1.965713</td>\n",
       "    </tr>\n",
       "    <tr>\n",
       "      <th>2012-01-11 08:00:00</th>\n",
       "      <td>1.949820</td>\n",
       "    </tr>\n",
       "    <tr>\n",
       "      <th>2012-01-11 12:00:00</th>\n",
       "      <td>1.974876</td>\n",
       "    </tr>\n",
       "    <tr>\n",
       "      <th>2012-01-11 16:00:00</th>\n",
       "      <td>1.938716</td>\n",
       "    </tr>\n",
       "    <tr>\n",
       "      <th>2012-01-11 20:00:00</th>\n",
       "      <td>1.945910</td>\n",
       "    </tr>\n",
       "    <tr>\n",
       "      <th>...</th>\n",
       "      <td>...</td>\n",
       "    </tr>\n",
       "    <tr>\n",
       "      <th>2020-03-20 08:00:00</th>\n",
       "      <td>8.790315</td>\n",
       "    </tr>\n",
       "    <tr>\n",
       "      <th>2020-03-20 12:00:00</th>\n",
       "      <td>8.800320</td>\n",
       "    </tr>\n",
       "    <tr>\n",
       "      <th>2020-03-20 16:00:00</th>\n",
       "      <td>8.771752</td>\n",
       "    </tr>\n",
       "    <tr>\n",
       "      <th>2020-03-20 20:00:00</th>\n",
       "      <td>8.718687</td>\n",
       "    </tr>\n",
       "    <tr>\n",
       "      <th>2020-03-21 00:00:00</th>\n",
       "      <td>8.733474</td>\n",
       "    </tr>\n",
       "  </tbody>\n",
       "</table>\n",
       "<p>17688 rows × 1 columns</p>\n",
       "</div>"
      ],
      "text/plain": [
       "                     log_close\n",
       "date                          \n",
       "2012-01-10 20:00:00   1.965713\n",
       "2012-01-11 08:00:00   1.949820\n",
       "2012-01-11 12:00:00   1.974876\n",
       "2012-01-11 16:00:00   1.938716\n",
       "2012-01-11 20:00:00   1.945910\n",
       "...                        ...\n",
       "2020-03-20 08:00:00   8.790315\n",
       "2020-03-20 12:00:00   8.800320\n",
       "2020-03-20 16:00:00   8.771752\n",
       "2020-03-20 20:00:00   8.718687\n",
       "2020-03-21 00:00:00   8.733474\n",
       "\n",
       "[17688 rows x 1 columns]"
      ]
     },
     "execution_count": 31,
     "metadata": {},
     "output_type": "execute_result"
    }
   ],
   "source": [
    "train"
   ]
  },
  {
   "cell_type": "code",
   "execution_count": 32,
   "metadata": {
    "colab": {
     "base_uri": "https://localhost:8080/",
     "height": 447
    },
    "executionInfo": {
     "elapsed": 465,
     "status": "ok",
     "timestamp": 1629973446397,
     "user": {
      "displayName": "Ivan Fernandes",
      "photoUrl": "https://lh3.googleusercontent.com/a-/AOh14GgHdj66drQjCguTVvVzCd5yy8cdMluPJPZlz_BQLg=s64",
      "userId": "12100132160237129013"
     },
     "user_tz": -120
    },
    "id": "dc1WTWynhDPL",
    "outputId": "56806c30-f59a-454c-e979-e42f656b9ea5"
   },
   "outputs": [
    {
     "data": {
      "text/html": [
       "<div>\n",
       "<style scoped>\n",
       "    .dataframe tbody tr th:only-of-type {\n",
       "        vertical-align: middle;\n",
       "    }\n",
       "\n",
       "    .dataframe tbody tr th {\n",
       "        vertical-align: top;\n",
       "    }\n",
       "\n",
       "    .dataframe thead th {\n",
       "        text-align: right;\n",
       "    }\n",
       "</style>\n",
       "<table border=\"1\" class=\"dataframe\">\n",
       "  <thead>\n",
       "    <tr style=\"text-align: right;\">\n",
       "      <th></th>\n",
       "      <th>log_close</th>\n",
       "    </tr>\n",
       "    <tr>\n",
       "      <th>date</th>\n",
       "      <th></th>\n",
       "    </tr>\n",
       "  </thead>\n",
       "  <tbody>\n",
       "    <tr>\n",
       "      <th>2020-03-21 04:00:00</th>\n",
       "      <td>8.729720</td>\n",
       "    </tr>\n",
       "    <tr>\n",
       "      <th>2020-03-21 08:00:00</th>\n",
       "      <td>8.711371</td>\n",
       "    </tr>\n",
       "    <tr>\n",
       "      <th>2020-03-21 12:00:00</th>\n",
       "      <td>8.720647</td>\n",
       "    </tr>\n",
       "    <tr>\n",
       "      <th>2020-03-21 16:00:00</th>\n",
       "      <td>8.726979</td>\n",
       "    </tr>\n",
       "    <tr>\n",
       "      <th>2020-03-21 20:00:00</th>\n",
       "      <td>8.740591</td>\n",
       "    </tr>\n",
       "    <tr>\n",
       "      <th>...</th>\n",
       "      <td>...</td>\n",
       "    </tr>\n",
       "    <tr>\n",
       "      <th>2021-08-22 12:00:00</th>\n",
       "      <td>10.794853</td>\n",
       "    </tr>\n",
       "    <tr>\n",
       "      <th>2021-08-22 16:00:00</th>\n",
       "      <td>10.791202</td>\n",
       "    </tr>\n",
       "    <tr>\n",
       "      <th>2021-08-22 20:00:00</th>\n",
       "      <td>10.795660</td>\n",
       "    </tr>\n",
       "    <tr>\n",
       "      <th>2021-08-23 00:00:00</th>\n",
       "      <td>10.815408</td>\n",
       "    </tr>\n",
       "    <tr>\n",
       "      <th>2021-08-23 04:00:00</th>\n",
       "      <td>10.825311</td>\n",
       "    </tr>\n",
       "  </tbody>\n",
       "</table>\n",
       "<p>3121 rows × 1 columns</p>\n",
       "</div>"
      ],
      "text/plain": [
       "                     log_close\n",
       "date                          \n",
       "2020-03-21 04:00:00   8.729720\n",
       "2020-03-21 08:00:00   8.711371\n",
       "2020-03-21 12:00:00   8.720647\n",
       "2020-03-21 16:00:00   8.726979\n",
       "2020-03-21 20:00:00   8.740591\n",
       "...                        ...\n",
       "2021-08-22 12:00:00  10.794853\n",
       "2021-08-22 16:00:00  10.791202\n",
       "2021-08-22 20:00:00  10.795660\n",
       "2021-08-23 00:00:00  10.815408\n",
       "2021-08-23 04:00:00  10.825311\n",
       "\n",
       "[3121 rows x 1 columns]"
      ]
     },
     "execution_count": 32,
     "metadata": {},
     "output_type": "execute_result"
    }
   ],
   "source": [
    "valid"
   ]
  },
  {
   "cell_type": "code",
   "execution_count": 33,
   "metadata": {
    "colab": {
     "base_uri": "https://localhost:8080/",
     "height": 447
    },
    "executionInfo": {
     "elapsed": 341,
     "status": "ok",
     "timestamp": 1629973462863,
     "user": {
      "displayName": "Ivan Fernandes",
      "photoUrl": "https://lh3.googleusercontent.com/a-/AOh14GgHdj66drQjCguTVvVzCd5yy8cdMluPJPZlz_BQLg=s64",
      "userId": "12100132160237129013"
     },
     "user_tz": -120
    },
    "id": "p6hMJqrMarJ4",
    "outputId": "8a102830-2a5a-44bc-d17c-1db157056ce5"
   },
   "outputs": [
    {
     "data": {
      "text/html": [
       "<div>\n",
       "<style scoped>\n",
       "    .dataframe tbody tr th:only-of-type {\n",
       "        vertical-align: middle;\n",
       "    }\n",
       "\n",
       "    .dataframe tbody tr th {\n",
       "        vertical-align: top;\n",
       "    }\n",
       "\n",
       "    .dataframe thead th {\n",
       "        text-align: right;\n",
       "    }\n",
       "</style>\n",
       "<table border=\"1\" class=\"dataframe\">\n",
       "  <thead>\n",
       "    <tr style=\"text-align: right;\">\n",
       "      <th></th>\n",
       "      <th>log_close</th>\n",
       "      <th>Predictions</th>\n",
       "    </tr>\n",
       "    <tr>\n",
       "      <th>date</th>\n",
       "      <th></th>\n",
       "      <th></th>\n",
       "    </tr>\n",
       "  </thead>\n",
       "  <tbody>\n",
       "    <tr>\n",
       "      <th>2020-03-21 04:00:00</th>\n",
       "      <td>8.729720</td>\n",
       "      <td>8.627505</td>\n",
       "    </tr>\n",
       "    <tr>\n",
       "      <th>2020-03-21 08:00:00</th>\n",
       "      <td>8.711371</td>\n",
       "      <td>8.634287</td>\n",
       "    </tr>\n",
       "    <tr>\n",
       "      <th>2020-03-21 12:00:00</th>\n",
       "      <td>8.720647</td>\n",
       "      <td>8.638061</td>\n",
       "    </tr>\n",
       "    <tr>\n",
       "      <th>2020-03-21 16:00:00</th>\n",
       "      <td>8.726979</td>\n",
       "      <td>8.639996</td>\n",
       "    </tr>\n",
       "    <tr>\n",
       "      <th>2020-03-21 20:00:00</th>\n",
       "      <td>8.740591</td>\n",
       "      <td>8.640892</td>\n",
       "    </tr>\n",
       "    <tr>\n",
       "      <th>...</th>\n",
       "      <td>...</td>\n",
       "      <td>...</td>\n",
       "    </tr>\n",
       "    <tr>\n",
       "      <th>2021-08-22 12:00:00</th>\n",
       "      <td>10.794853</td>\n",
       "      <td>10.539631</td>\n",
       "    </tr>\n",
       "    <tr>\n",
       "      <th>2021-08-22 16:00:00</th>\n",
       "      <td>10.791202</td>\n",
       "      <td>10.541185</td>\n",
       "    </tr>\n",
       "    <tr>\n",
       "      <th>2021-08-22 20:00:00</th>\n",
       "      <td>10.795660</td>\n",
       "      <td>10.541955</td>\n",
       "    </tr>\n",
       "    <tr>\n",
       "      <th>2021-08-23 00:00:00</th>\n",
       "      <td>10.815408</td>\n",
       "      <td>10.542341</td>\n",
       "    </tr>\n",
       "    <tr>\n",
       "      <th>2021-08-23 04:00:00</th>\n",
       "      <td>10.825311</td>\n",
       "      <td>10.543302</td>\n",
       "    </tr>\n",
       "  </tbody>\n",
       "</table>\n",
       "<p>3121 rows × 2 columns</p>\n",
       "</div>"
      ],
      "text/plain": [
       "                     log_close  Predictions\n",
       "date                                       \n",
       "2020-03-21 04:00:00   8.729720     8.627505\n",
       "2020-03-21 08:00:00   8.711371     8.634287\n",
       "2020-03-21 12:00:00   8.720647     8.638061\n",
       "2020-03-21 16:00:00   8.726979     8.639996\n",
       "2020-03-21 20:00:00   8.740591     8.640892\n",
       "...                        ...          ...\n",
       "2021-08-22 12:00:00  10.794853    10.539631\n",
       "2021-08-22 16:00:00  10.791202    10.541185\n",
       "2021-08-22 20:00:00  10.795660    10.541955\n",
       "2021-08-23 00:00:00  10.815408    10.542341\n",
       "2021-08-23 04:00:00  10.825311    10.543302\n",
       "\n",
       "[3121 rows x 2 columns]"
      ]
     },
     "execution_count": 33,
     "metadata": {},
     "output_type": "execute_result"
    }
   ],
   "source": [
    "valid[\"Predictions\"] = predictions\n",
    "valid"
   ]
  },
  {
   "cell_type": "code",
   "execution_count": 34,
   "metadata": {},
   "outputs": [],
   "source": [
    "valid['close'] = valid.log_close.apply(lambda x: np.exp(x))\n",
    "valid['pred'] = valid.Predictions.apply(lambda x: np.exp(x))"
   ]
  },
  {
   "cell_type": "code",
   "execution_count": 35,
   "metadata": {},
   "outputs": [],
   "source": [
    "valid['diff'] = valid.log_close - valid.Predictions"
   ]
  },
  {
   "cell_type": "code",
   "execution_count": 36,
   "metadata": {},
   "outputs": [
    {
     "data": {
      "text/html": [
       "<div>\n",
       "<style scoped>\n",
       "    .dataframe tbody tr th:only-of-type {\n",
       "        vertical-align: middle;\n",
       "    }\n",
       "\n",
       "    .dataframe tbody tr th {\n",
       "        vertical-align: top;\n",
       "    }\n",
       "\n",
       "    .dataframe thead th {\n",
       "        text-align: right;\n",
       "    }\n",
       "</style>\n",
       "<table border=\"1\" class=\"dataframe\">\n",
       "  <thead>\n",
       "    <tr style=\"text-align: right;\">\n",
       "      <th></th>\n",
       "      <th>log_close</th>\n",
       "      <th>Predictions</th>\n",
       "      <th>close</th>\n",
       "      <th>pred</th>\n",
       "      <th>diff</th>\n",
       "    </tr>\n",
       "    <tr>\n",
       "      <th>date</th>\n",
       "      <th></th>\n",
       "      <th></th>\n",
       "      <th></th>\n",
       "      <th></th>\n",
       "      <th></th>\n",
       "    </tr>\n",
       "  </thead>\n",
       "  <tbody>\n",
       "    <tr>\n",
       "      <th>2020-03-21 04:00:00</th>\n",
       "      <td>8.729720</td>\n",
       "      <td>8.627505</td>\n",
       "      <td>6183.993348</td>\n",
       "      <td>5583.132638</td>\n",
       "      <td>0.102214</td>\n",
       "    </tr>\n",
       "    <tr>\n",
       "      <th>2020-03-21 08:00:00</th>\n",
       "      <td>8.711371</td>\n",
       "      <td>8.634287</td>\n",
       "      <td>6071.563509</td>\n",
       "      <td>5621.123762</td>\n",
       "      <td>0.077085</td>\n",
       "    </tr>\n",
       "    <tr>\n",
       "      <th>2020-03-21 12:00:00</th>\n",
       "      <td>8.720647</td>\n",
       "      <td>8.638061</td>\n",
       "      <td>6128.139695</td>\n",
       "      <td>5642.376211</td>\n",
       "      <td>0.082586</td>\n",
       "    </tr>\n",
       "    <tr>\n",
       "      <th>2020-03-21 16:00:00</th>\n",
       "      <td>8.726979</td>\n",
       "      <td>8.639996</td>\n",
       "      <td>6167.069381</td>\n",
       "      <td>5653.304808</td>\n",
       "      <td>0.086983</td>\n",
       "    </tr>\n",
       "    <tr>\n",
       "      <th>2020-03-21 20:00:00</th>\n",
       "      <td>8.740591</td>\n",
       "      <td>8.640892</td>\n",
       "      <td>6251.586634</td>\n",
       "      <td>5658.375007</td>\n",
       "      <td>0.099699</td>\n",
       "    </tr>\n",
       "    <tr>\n",
       "      <th>...</th>\n",
       "      <td>...</td>\n",
       "      <td>...</td>\n",
       "      <td>...</td>\n",
       "      <td>...</td>\n",
       "      <td>...</td>\n",
       "    </tr>\n",
       "    <tr>\n",
       "      <th>2021-08-22 12:00:00</th>\n",
       "      <td>10.794853</td>\n",
       "      <td>10.539631</td>\n",
       "      <td>48769.127815</td>\n",
       "      <td>37783.617564</td>\n",
       "      <td>0.255222</td>\n",
       "    </tr>\n",
       "    <tr>\n",
       "      <th>2021-08-22 16:00:00</th>\n",
       "      <td>10.791202</td>\n",
       "      <td>10.541185</td>\n",
       "      <td>48591.428238</td>\n",
       "      <td>37842.397462</td>\n",
       "      <td>0.250017</td>\n",
       "    </tr>\n",
       "    <tr>\n",
       "      <th>2021-08-22 20:00:00</th>\n",
       "      <td>10.795660</td>\n",
       "      <td>10.541955</td>\n",
       "      <td>48808.530953</td>\n",
       "      <td>37871.532755</td>\n",
       "      <td>0.253705</td>\n",
       "    </tr>\n",
       "    <tr>\n",
       "      <th>2021-08-23 00:00:00</th>\n",
       "      <td>10.815408</td>\n",
       "      <td>10.542341</td>\n",
       "      <td>49781.959707</td>\n",
       "      <td>37886.163009</td>\n",
       "      <td>0.273067</td>\n",
       "    </tr>\n",
       "    <tr>\n",
       "      <th>2021-08-23 04:00:00</th>\n",
       "      <td>10.825311</td>\n",
       "      <td>10.543302</td>\n",
       "      <td>50277.406412</td>\n",
       "      <td>37922.564463</td>\n",
       "      <td>0.282009</td>\n",
       "    </tr>\n",
       "  </tbody>\n",
       "</table>\n",
       "<p>3121 rows × 5 columns</p>\n",
       "</div>"
      ],
      "text/plain": [
       "                     log_close  Predictions         close          pred  \\\n",
       "date                                                                      \n",
       "2020-03-21 04:00:00   8.729720     8.627505   6183.993348   5583.132638   \n",
       "2020-03-21 08:00:00   8.711371     8.634287   6071.563509   5621.123762   \n",
       "2020-03-21 12:00:00   8.720647     8.638061   6128.139695   5642.376211   \n",
       "2020-03-21 16:00:00   8.726979     8.639996   6167.069381   5653.304808   \n",
       "2020-03-21 20:00:00   8.740591     8.640892   6251.586634   5658.375007   \n",
       "...                        ...          ...           ...           ...   \n",
       "2021-08-22 12:00:00  10.794853    10.539631  48769.127815  37783.617564   \n",
       "2021-08-22 16:00:00  10.791202    10.541185  48591.428238  37842.397462   \n",
       "2021-08-22 20:00:00  10.795660    10.541955  48808.530953  37871.532755   \n",
       "2021-08-23 00:00:00  10.815408    10.542341  49781.959707  37886.163009   \n",
       "2021-08-23 04:00:00  10.825311    10.543302  50277.406412  37922.564463   \n",
       "\n",
       "                         diff  \n",
       "date                           \n",
       "2020-03-21 04:00:00  0.102214  \n",
       "2020-03-21 08:00:00  0.077085  \n",
       "2020-03-21 12:00:00  0.082586  \n",
       "2020-03-21 16:00:00  0.086983  \n",
       "2020-03-21 20:00:00  0.099699  \n",
       "...                       ...  \n",
       "2021-08-22 12:00:00  0.255222  \n",
       "2021-08-22 16:00:00  0.250017  \n",
       "2021-08-22 20:00:00  0.253705  \n",
       "2021-08-23 00:00:00  0.273067  \n",
       "2021-08-23 04:00:00  0.282009  \n",
       "\n",
       "[3121 rows x 5 columns]"
      ]
     },
     "execution_count": 36,
     "metadata": {},
     "output_type": "execute_result"
    }
   ],
   "source": [
    "valid"
   ]
  },
  {
   "cell_type": "code",
   "execution_count": 37,
   "metadata": {},
   "outputs": [],
   "source": [
    "weight = valid['diff'].mean()"
   ]
  },
  {
   "cell_type": "code",
   "execution_count": 38,
   "metadata": {
    "executionInfo": {
     "elapsed": 345,
     "status": "ok",
     "timestamp": 1629973472674,
     "user": {
      "displayName": "Ivan Fernandes",
      "photoUrl": "https://lh3.googleusercontent.com/a-/AOh14GgHdj66drQjCguTVvVzCd5yy8cdMluPJPZlz_BQLg=s64",
      "userId": "12100132160237129013"
     },
     "user_tz": -120
    },
    "id": "giTQW4HoarJ5"
   },
   "outputs": [],
   "source": [
    "valid.index = pd.to_datetime(valid.index, format = \"%Y-%m-%d %H:%M:%S\")\n",
    "train.index = pd.to_datetime(train.index, format = \"%Y-%m-%d %H:%M:%S\")"
   ]
  },
  {
   "cell_type": "code",
   "execution_count": 39,
   "metadata": {},
   "outputs": [],
   "source": [
    "import datetime"
   ]
  },
  {
   "cell_type": "code",
   "execution_count": 40,
   "metadata": {
    "colab": {
     "base_uri": "https://localhost:8080/",
     "height": 441
    },
    "executionInfo": {
     "elapsed": 813,
     "status": "ok",
     "timestamp": 1629973507361,
     "user": {
      "displayName": "Ivan Fernandes",
      "photoUrl": "https://lh3.googleusercontent.com/a-/AOh14GgHdj66drQjCguTVvVzCd5yy8cdMluPJPZlz_BQLg=s64",
      "userId": "12100132160237129013"
     },
     "user_tz": -120
    },
    "id": "wj0t09QbfYLr",
    "outputId": "936c384d-7186-4124-df4d-b9ad0ec1895b"
   },
   "outputs": [
    {
     "data": {
      "image/png": "[encoded data removed]",
      "text/plain": [
       "<Figure size 1152x432 with 1 Axes>"
      ]
     },
     "metadata": {},
     "output_type": "display_data"
    }
   ],
   "source": [
    "# Visualize the data\n",
    "plt.figure(figsize=(16,6))\n",
    "plt.title('Model')\n",
    "plt.plot(train['log_close'].apply(lambda x: np.exp(x)))\n",
    "plt.plot(valid[['close', 'pred']])\n",
    "plt.xlabel('Date', fontsize=18)\n",
    "plt.ylabel('Close Price USD ($)', fontsize=18)\n",
    "plt.legend(['Train', 'Val', 'Predictions'], loc='lower right')\n",
    "plt.xlim([datetime.date(2020, 1, 1), datetime.datetime.now()])\n",
    "plt.show()"
   ]
  },
  {
   "cell_type": "code",
   "execution_count": 41,
   "metadata": {
    "id": "VGkbLiUzg5gu"
   },
   "outputs": [],
   "source": [
    "import requests"
   ]
  },
  {
   "cell_type": "code",
   "execution_count": 42,
   "metadata": {},
   "outputs": [],
   "source": [
    "def get_coingecko():\n",
    "    #ohlc\n",
    "    url = \"https://api.coingecko.com/api/v3/coins/bitcoin/ohlc?vs_currency=usd&days=30\"\n",
    "    response = requests.get(url).json()\n",
    "    #cleaning\n",
    "    data_api = pd.DataFrame(response, columns = ['unix_time','open', 'high', 'low', 'close'])\n",
    "    data_api[\"Date\"] = pd.to_datetime(data_api[\"unix_time\"], unit='ms')\n",
    "    data_api = data_api.drop(columns='unix_time').set_index('Date')\n",
    "\n",
    "    #volume\n",
    "    url = \"https://api.coingecko.com/api/v3/coins/bitcoin/market_chart?vs_currency=usd&days=30\"\n",
    "    response = requests.get(url).json()\n",
    "\n",
    "    volume = pd.DataFrame(response['total_volumes'], columns=[\"unix_time\",\"volume\"])\n",
    "    volume['date'] = pd.to_datetime(pd.to_datetime(volume['unix_time'],unit='ms').dt.strftime(\"%Y/%m/%d, %H:00:00\"))\n",
    "    volume = volume.drop(columns='unix_time').set_index('date')\n",
    "\n",
    "    #resample hourly into 4h\n",
    "    volume = volume.resample(\"4H\").mean()\n",
    "\n",
    "    #concatinate\n",
    "    volume = volume[-180:]\n",
    "    data_api = data_api[-181:-1]\n",
    "    full = pd.concat([data_api, volume], axis=1)\n",
    "    full.columns=['open', 'high', 'low', 'close', 'volume']\n",
    "\n",
    "    for x in ['open', 'high', 'low', 'close']:\n",
    "        full[f'log_{x}'] = full[x].apply(lambda x: np.log(x))\n",
    "\n",
    "    data_api = full.copy()\n",
    "\n",
    "    return data_api"
   ]
  },
  {
   "cell_type": "code",
   "execution_count": 43,
   "metadata": {},
   "outputs": [],
   "source": [
    "def feature_engineer(data):\n",
    "    \"\"\"\n",
    "    Adds the EMAs, StochRSI, BollingerBands and Volume Rate of Change to the dataframe\n",
    "    \"\"\"\n",
    "    add_ema(data)\n",
    "    add_stoch_rsi(data)\n",
    "    add_bollinger(data,data.log_close)\n",
    "    add_vol_roc(data)\n",
    "    return data"
   ]
  },
  {
   "cell_type": "code",
   "execution_count": 44,
   "metadata": {},
   "outputs": [],
   "source": [
    "coingecko = feature_engineer(get_coingecko())"
   ]
  },
  {
   "cell_type": "code",
   "execution_count": 45,
   "metadata": {},
   "outputs": [
    {
     "data": {
      "text/html": [
       "<div>\n",
       "<style scoped>\n",
       "    .dataframe tbody tr th:only-of-type {\n",
       "        vertical-align: middle;\n",
       "    }\n",
       "\n",
       "    .dataframe tbody tr th {\n",
       "        vertical-align: top;\n",
       "    }\n",
       "\n",
       "    .dataframe thead th {\n",
       "        text-align: right;\n",
       "    }\n",
       "</style>\n",
       "<table border=\"1\" class=\"dataframe\">\n",
       "  <thead>\n",
       "    <tr style=\"text-align: right;\">\n",
       "      <th></th>\n",
       "      <th>open</th>\n",
       "      <th>high</th>\n",
       "      <th>low</th>\n",
       "      <th>close</th>\n",
       "      <th>volume</th>\n",
       "      <th>log_open</th>\n",
       "      <th>log_high</th>\n",
       "      <th>log_low</th>\n",
       "      <th>log_close</th>\n",
       "      <th>ema12</th>\n",
       "      <th>...</th>\n",
       "      <th>ema50</th>\n",
       "      <th>ema34</th>\n",
       "      <th>ema55</th>\n",
       "      <th>rsi</th>\n",
       "      <th>K</th>\n",
       "      <th>D</th>\n",
       "      <th>sma</th>\n",
       "      <th>bollinger_up</th>\n",
       "      <th>bollinger_down</th>\n",
       "      <th>vol_roc</th>\n",
       "    </tr>\n",
       "  </thead>\n",
       "  <tbody>\n",
       "    <tr>\n",
       "      <th>2021-07-27 16:00:00</th>\n",
       "      <td>38147.61</td>\n",
       "      <td>38147.61</td>\n",
       "      <td>38147.61</td>\n",
       "      <td>38147.61</td>\n",
       "      <td>4.367997e+10</td>\n",
       "      <td>10.549218</td>\n",
       "      <td>10.549218</td>\n",
       "      <td>10.549218</td>\n",
       "      <td>10.549218</td>\n",
       "      <td>10.549218</td>\n",
       "      <td>...</td>\n",
       "      <td>10.549218</td>\n",
       "      <td>10.549218</td>\n",
       "      <td>10.549218</td>\n",
       "      <td>NaN</td>\n",
       "      <td>NaN</td>\n",
       "      <td>NaN</td>\n",
       "      <td>NaN</td>\n",
       "      <td>NaN</td>\n",
       "      <td>NaN</td>\n",
       "      <td>NaN</td>\n",
       "    </tr>\n",
       "    <tr>\n",
       "      <th>2021-07-27 20:00:00</th>\n",
       "      <td>38195.58</td>\n",
       "      <td>38195.58</td>\n",
       "      <td>37691.22</td>\n",
       "      <td>38001.27</td>\n",
       "      <td>3.785827e+10</td>\n",
       "      <td>10.550475</td>\n",
       "      <td>10.550475</td>\n",
       "      <td>10.537182</td>\n",
       "      <td>10.545375</td>\n",
       "      <td>10.547136</td>\n",
       "      <td>...</td>\n",
       "      <td>10.547258</td>\n",
       "      <td>10.547240</td>\n",
       "      <td>10.547262</td>\n",
       "      <td>NaN</td>\n",
       "      <td>NaN</td>\n",
       "      <td>NaN</td>\n",
       "      <td>NaN</td>\n",
       "      <td>NaN</td>\n",
       "      <td>NaN</td>\n",
       "      <td>-0.133281</td>\n",
       "    </tr>\n",
       "    <tr>\n",
       "      <th>2021-07-28 00:00:00</th>\n",
       "      <td>38056.91</td>\n",
       "      <td>39265.54</td>\n",
       "      <td>38056.91</td>\n",
       "      <td>39265.54</td>\n",
       "      <td>3.711797e+10</td>\n",
       "      <td>10.546838</td>\n",
       "      <td>10.578103</td>\n",
       "      <td>10.546838</td>\n",
       "      <td>10.578103</td>\n",
       "      <td>10.559223</td>\n",
       "      <td>...</td>\n",
       "      <td>10.557954</td>\n",
       "      <td>10.558138</td>\n",
       "      <td>10.557918</td>\n",
       "      <td>NaN</td>\n",
       "      <td>NaN</td>\n",
       "      <td>NaN</td>\n",
       "      <td>NaN</td>\n",
       "      <td>NaN</td>\n",
       "      <td>NaN</td>\n",
       "      <td>-0.019554</td>\n",
       "    </tr>\n",
       "    <tr>\n",
       "      <th>2021-07-28 04:00:00</th>\n",
       "      <td>39076.59</td>\n",
       "      <td>39891.52</td>\n",
       "      <td>39076.59</td>\n",
       "      <td>39891.52</td>\n",
       "      <td>3.908520e+10</td>\n",
       "      <td>10.573279</td>\n",
       "      <td>10.593919</td>\n",
       "      <td>10.573279</td>\n",
       "      <td>10.593919</td>\n",
       "      <td>10.570175</td>\n",
       "      <td>...</td>\n",
       "      <td>10.567491</td>\n",
       "      <td>10.567888</td>\n",
       "      <td>10.567415</td>\n",
       "      <td>NaN</td>\n",
       "      <td>NaN</td>\n",
       "      <td>NaN</td>\n",
       "      <td>NaN</td>\n",
       "      <td>NaN</td>\n",
       "      <td>NaN</td>\n",
       "      <td>0.052999</td>\n",
       "    </tr>\n",
       "    <tr>\n",
       "      <th>2021-07-28 08:00:00</th>\n",
       "      <td>39731.45</td>\n",
       "      <td>40065.84</td>\n",
       "      <td>39377.93</td>\n",
       "      <td>39377.93</td>\n",
       "      <td>4.038366e+10</td>\n",
       "      <td>10.589898</td>\n",
       "      <td>10.598279</td>\n",
       "      <td>10.580961</td>\n",
       "      <td>10.580961</td>\n",
       "      <td>10.573105</td>\n",
       "      <td>...</td>\n",
       "      <td>10.570405</td>\n",
       "      <td>10.570819</td>\n",
       "      <td>10.570325</td>\n",
       "      <td>NaN</td>\n",
       "      <td>NaN</td>\n",
       "      <td>NaN</td>\n",
       "      <td>NaN</td>\n",
       "      <td>NaN</td>\n",
       "      <td>NaN</td>\n",
       "      <td>0.033221</td>\n",
       "    </tr>\n",
       "    <tr>\n",
       "      <th>...</th>\n",
       "      <td>...</td>\n",
       "      <td>...</td>\n",
       "      <td>...</td>\n",
       "      <td>...</td>\n",
       "      <td>...</td>\n",
       "      <td>...</td>\n",
       "      <td>...</td>\n",
       "      <td>...</td>\n",
       "      <td>...</td>\n",
       "      <td>...</td>\n",
       "      <td>...</td>\n",
       "      <td>...</td>\n",
       "      <td>...</td>\n",
       "      <td>...</td>\n",
       "      <td>...</td>\n",
       "      <td>...</td>\n",
       "      <td>...</td>\n",
       "      <td>...</td>\n",
       "      <td>...</td>\n",
       "      <td>...</td>\n",
       "      <td>...</td>\n",
       "    </tr>\n",
       "    <tr>\n",
       "      <th>2021-08-25 20:00:00</th>\n",
       "      <td>48742.86</td>\n",
       "      <td>48995.85</td>\n",
       "      <td>48714.42</td>\n",
       "      <td>48922.71</td>\n",
       "      <td>3.333321e+10</td>\n",
       "      <td>10.794314</td>\n",
       "      <td>10.799491</td>\n",
       "      <td>10.793730</td>\n",
       "      <td>10.797997</td>\n",
       "      <td>10.792144</td>\n",
       "      <td>...</td>\n",
       "      <td>10.779335</td>\n",
       "      <td>10.787805</td>\n",
       "      <td>10.776580</td>\n",
       "      <td>53.173343</td>\n",
       "      <td>32.994443</td>\n",
       "      <td>18.860284</td>\n",
       "      <td>10.799351</td>\n",
       "      <td>10.829016</td>\n",
       "      <td>10.769685</td>\n",
       "      <td>-0.025343</td>\n",
       "    </tr>\n",
       "    <tr>\n",
       "      <th>2021-08-26 00:00:00</th>\n",
       "      <td>48753.77</td>\n",
       "      <td>48942.77</td>\n",
       "      <td>48701.72</td>\n",
       "      <td>48876.83</td>\n",
       "      <td>3.341253e+10</td>\n",
       "      <td>10.794538</td>\n",
       "      <td>10.798407</td>\n",
       "      <td>10.793470</td>\n",
       "      <td>10.797059</td>\n",
       "      <td>10.792900</td>\n",
       "      <td>...</td>\n",
       "      <td>10.780030</td>\n",
       "      <td>10.788333</td>\n",
       "      <td>10.777313</td>\n",
       "      <td>52.730341</td>\n",
       "      <td>53.336844</td>\n",
       "      <td>34.277539</td>\n",
       "      <td>10.799782</td>\n",
       "      <td>10.829026</td>\n",
       "      <td>10.770538</td>\n",
       "      <td>0.002380</td>\n",
       "    </tr>\n",
       "    <tr>\n",
       "      <th>2021-08-26 04:00:00</th>\n",
       "      <td>48989.51</td>\n",
       "      <td>49320.14</td>\n",
       "      <td>48720.92</td>\n",
       "      <td>48720.92</td>\n",
       "      <td>3.413287e+10</td>\n",
       "      <td>10.799361</td>\n",
       "      <td>10.806088</td>\n",
       "      <td>10.793864</td>\n",
       "      <td>10.793864</td>\n",
       "      <td>10.793048</td>\n",
       "      <td>...</td>\n",
       "      <td>10.780573</td>\n",
       "      <td>10.788649</td>\n",
       "      <td>10.777905</td>\n",
       "      <td>51.167069</td>\n",
       "      <td>59.268942</td>\n",
       "      <td>48.533410</td>\n",
       "      <td>10.800016</td>\n",
       "      <td>10.828977</td>\n",
       "      <td>10.771056</td>\n",
       "      <td>0.021559</td>\n",
       "    </tr>\n",
       "    <tr>\n",
       "      <th>2021-08-26 08:00:00</th>\n",
       "      <td>47962.35</td>\n",
       "      <td>47962.35</td>\n",
       "      <td>46991.39</td>\n",
       "      <td>46991.39</td>\n",
       "      <td>3.632926e+10</td>\n",
       "      <td>10.778172</td>\n",
       "      <td>10.778172</td>\n",
       "      <td>10.757720</td>\n",
       "      <td>10.757720</td>\n",
       "      <td>10.787613</td>\n",
       "      <td>...</td>\n",
       "      <td>10.779676</td>\n",
       "      <td>10.786882</td>\n",
       "      <td>10.777183</td>\n",
       "      <td>37.590047</td>\n",
       "      <td>38.231251</td>\n",
       "      <td>50.279012</td>\n",
       "      <td>10.797803</td>\n",
       "      <td>10.832357</td>\n",
       "      <td>10.763250</td>\n",
       "      <td>0.064348</td>\n",
       "    </tr>\n",
       "    <tr>\n",
       "      <th>2021-08-26 12:00:00</th>\n",
       "      <td>47055.69</td>\n",
       "      <td>47113.07</td>\n",
       "      <td>46913.04</td>\n",
       "      <td>47113.07</td>\n",
       "      <td>3.642505e+10</td>\n",
       "      <td>10.759087</td>\n",
       "      <td>10.760306</td>\n",
       "      <td>10.756051</td>\n",
       "      <td>10.760306</td>\n",
       "      <td>10.783412</td>\n",
       "      <td>...</td>\n",
       "      <td>10.778916</td>\n",
       "      <td>10.785363</td>\n",
       "      <td>10.776579</td>\n",
       "      <td>38.840491</td>\n",
       "      <td>19.755263</td>\n",
       "      <td>39.085152</td>\n",
       "      <td>10.794780</td>\n",
       "      <td>10.831389</td>\n",
       "      <td>10.758170</td>\n",
       "      <td>0.002637</td>\n",
       "    </tr>\n",
       "  </tbody>\n",
       "</table>\n",
       "<p>180 rows × 22 columns</p>\n",
       "</div>"
      ],
      "text/plain": [
       "                         open      high       low     close        volume  \\\n",
       "2021-07-27 16:00:00  38147.61  38147.61  38147.61  38147.61  4.367997e+10   \n",
       "2021-07-27 20:00:00  38195.58  38195.58  37691.22  38001.27  3.785827e+10   \n",
       "2021-07-28 00:00:00  38056.91  39265.54  38056.91  39265.54  3.711797e+10   \n",
       "2021-07-28 04:00:00  39076.59  39891.52  39076.59  39891.52  3.908520e+10   \n",
       "2021-07-28 08:00:00  39731.45  40065.84  39377.93  39377.93  4.038366e+10   \n",
       "...                       ...       ...       ...       ...           ...   \n",
       "2021-08-25 20:00:00  48742.86  48995.85  48714.42  48922.71  3.333321e+10   \n",
       "2021-08-26 00:00:00  48753.77  48942.77  48701.72  48876.83  3.341253e+10   \n",
       "2021-08-26 04:00:00  48989.51  49320.14  48720.92  48720.92  3.413287e+10   \n",
       "2021-08-26 08:00:00  47962.35  47962.35  46991.39  46991.39  3.632926e+10   \n",
       "2021-08-26 12:00:00  47055.69  47113.07  46913.04  47113.07  3.642505e+10   \n",
       "\n",
       "                      log_open   log_high    log_low  log_close      ema12  \\\n",
       "2021-07-27 16:00:00  10.549218  10.549218  10.549218  10.549218  10.549218   \n",
       "2021-07-27 20:00:00  10.550475  10.550475  10.537182  10.545375  10.547136   \n",
       "2021-07-28 00:00:00  10.546838  10.578103  10.546838  10.578103  10.559223   \n",
       "2021-07-28 04:00:00  10.573279  10.593919  10.573279  10.593919  10.570175   \n",
       "2021-07-28 08:00:00  10.589898  10.598279  10.580961  10.580961  10.573105   \n",
       "...                        ...        ...        ...        ...        ...   \n",
       "2021-08-25 20:00:00  10.794314  10.799491  10.793730  10.797997  10.792144   \n",
       "2021-08-26 00:00:00  10.794538  10.798407  10.793470  10.797059  10.792900   \n",
       "2021-08-26 04:00:00  10.799361  10.806088  10.793864  10.793864  10.793048   \n",
       "2021-08-26 08:00:00  10.778172  10.778172  10.757720  10.757720  10.787613   \n",
       "2021-08-26 12:00:00  10.759087  10.760306  10.756051  10.760306  10.783412   \n",
       "\n",
       "                     ...      ema50      ema34      ema55        rsi  \\\n",
       "2021-07-27 16:00:00  ...  10.549218  10.549218  10.549218        NaN   \n",
       "2021-07-27 20:00:00  ...  10.547258  10.547240  10.547262        NaN   \n",
       "2021-07-28 00:00:00  ...  10.557954  10.558138  10.557918        NaN   \n",
       "2021-07-28 04:00:00  ...  10.567491  10.567888  10.567415        NaN   \n",
       "2021-07-28 08:00:00  ...  10.570405  10.570819  10.570325        NaN   \n",
       "...                  ...        ...        ...        ...        ...   \n",
       "2021-08-25 20:00:00  ...  10.779335  10.787805  10.776580  53.173343   \n",
       "2021-08-26 00:00:00  ...  10.780030  10.788333  10.777313  52.730341   \n",
       "2021-08-26 04:00:00  ...  10.780573  10.788649  10.777905  51.167069   \n",
       "2021-08-26 08:00:00  ...  10.779676  10.786882  10.777183  37.590047   \n",
       "2021-08-26 12:00:00  ...  10.778916  10.785363  10.776579  38.840491   \n",
       "\n",
       "                             K          D        sma  bollinger_up  \\\n",
       "2021-07-27 16:00:00        NaN        NaN        NaN           NaN   \n",
       "2021-07-27 20:00:00        NaN        NaN        NaN           NaN   \n",
       "2021-07-28 00:00:00        NaN        NaN        NaN           NaN   \n",
       "2021-07-28 04:00:00        NaN        NaN        NaN           NaN   \n",
       "2021-07-28 08:00:00        NaN        NaN        NaN           NaN   \n",
       "...                        ...        ...        ...           ...   \n",
       "2021-08-25 20:00:00  32.994443  18.860284  10.799351     10.829016   \n",
       "2021-08-26 00:00:00  53.336844  34.277539  10.799782     10.829026   \n",
       "2021-08-26 04:00:00  59.268942  48.533410  10.800016     10.828977   \n",
       "2021-08-26 08:00:00  38.231251  50.279012  10.797803     10.832357   \n",
       "2021-08-26 12:00:00  19.755263  39.085152  10.794780     10.831389   \n",
       "\n",
       "                     bollinger_down   vol_roc  \n",
       "2021-07-27 16:00:00             NaN       NaN  \n",
       "2021-07-27 20:00:00             NaN -0.133281  \n",
       "2021-07-28 00:00:00             NaN -0.019554  \n",
       "2021-07-28 04:00:00             NaN  0.052999  \n",
       "2021-07-28 08:00:00             NaN  0.033221  \n",
       "...                             ...       ...  \n",
       "2021-08-25 20:00:00       10.769685 -0.025343  \n",
       "2021-08-26 00:00:00       10.770538  0.002380  \n",
       "2021-08-26 04:00:00       10.771056  0.021559  \n",
       "2021-08-26 08:00:00       10.763250  0.064348  \n",
       "2021-08-26 12:00:00       10.758170  0.002637  \n",
       "\n",
       "[180 rows x 22 columns]"
      ]
     },
     "execution_count": 45,
     "metadata": {},
     "output_type": "execute_result"
    }
   ],
   "source": [
    "coingecko"
   ]
  },
  {
   "cell_type": "code",
   "execution_count": 46,
   "metadata": {},
   "outputs": [],
   "source": [
    "x_gecko = coingecko[['log_close']][-60:]"
   ]
  },
  {
   "cell_type": "code",
   "execution_count": 47,
   "metadata": {},
   "outputs": [
    {
     "data": {
      "text/html": [
       "<div>\n",
       "<style scoped>\n",
       "    .dataframe tbody tr th:only-of-type {\n",
       "        vertical-align: middle;\n",
       "    }\n",
       "\n",
       "    .dataframe tbody tr th {\n",
       "        vertical-align: top;\n",
       "    }\n",
       "\n",
       "    .dataframe thead th {\n",
       "        text-align: right;\n",
       "    }\n",
       "</style>\n",
       "<table border=\"1\" class=\"dataframe\">\n",
       "  <thead>\n",
       "    <tr style=\"text-align: right;\">\n",
       "      <th></th>\n",
       "      <th>log_close</th>\n",
       "    </tr>\n",
       "  </thead>\n",
       "  <tbody>\n",
       "    <tr>\n",
       "      <th>2021-08-16 16:00:00</th>\n",
       "      <td>10.740039</td>\n",
       "    </tr>\n",
       "    <tr>\n",
       "      <th>2021-08-16 20:00:00</th>\n",
       "      <td>10.745549</td>\n",
       "    </tr>\n",
       "    <tr>\n",
       "      <th>2021-08-17 00:00:00</th>\n",
       "      <td>10.741696</td>\n",
       "    </tr>\n",
       "    <tr>\n",
       "      <th>2021-08-17 04:00:00</th>\n",
       "      <td>10.745477</td>\n",
       "    </tr>\n",
       "    <tr>\n",
       "      <th>2021-08-17 08:00:00</th>\n",
       "      <td>10.732901</td>\n",
       "    </tr>\n",
       "    <tr>\n",
       "      <th>2021-08-17 12:00:00</th>\n",
       "      <td>10.753188</td>\n",
       "    </tr>\n",
       "    <tr>\n",
       "      <th>2021-08-17 16:00:00</th>\n",
       "      <td>10.736574</td>\n",
       "    </tr>\n",
       "    <tr>\n",
       "      <th>2021-08-17 20:00:00</th>\n",
       "      <td>10.730079</td>\n",
       "    </tr>\n",
       "    <tr>\n",
       "      <th>2021-08-18 00:00:00</th>\n",
       "      <td>10.713024</td>\n",
       "    </tr>\n",
       "    <tr>\n",
       "      <th>2021-08-18 04:00:00</th>\n",
       "      <td>10.713388</td>\n",
       "    </tr>\n",
       "    <tr>\n",
       "      <th>2021-08-18 08:00:00</th>\n",
       "      <td>10.724520</td>\n",
       "    </tr>\n",
       "    <tr>\n",
       "      <th>2021-08-18 12:00:00</th>\n",
       "      <td>10.723145</td>\n",
       "    </tr>\n",
       "    <tr>\n",
       "      <th>2021-08-18 16:00:00</th>\n",
       "      <td>10.721929</td>\n",
       "    </tr>\n",
       "    <tr>\n",
       "      <th>2021-08-18 20:00:00</th>\n",
       "      <td>10.725848</td>\n",
       "    </tr>\n",
       "    <tr>\n",
       "      <th>2021-08-19 00:00:00</th>\n",
       "      <td>10.709891</td>\n",
       "    </tr>\n",
       "    <tr>\n",
       "      <th>2021-08-19 04:00:00</th>\n",
       "      <td>10.707248</td>\n",
       "    </tr>\n",
       "    <tr>\n",
       "      <th>2021-08-19 08:00:00</th>\n",
       "      <td>10.701610</td>\n",
       "    </tr>\n",
       "    <tr>\n",
       "      <th>2021-08-19 12:00:00</th>\n",
       "      <td>10.701703</td>\n",
       "    </tr>\n",
       "    <tr>\n",
       "      <th>2021-08-19 16:00:00</th>\n",
       "      <td>10.722458</td>\n",
       "    </tr>\n",
       "    <tr>\n",
       "      <th>2021-08-19 20:00:00</th>\n",
       "      <td>10.750199</td>\n",
       "    </tr>\n",
       "    <tr>\n",
       "      <th>2021-08-20 00:00:00</th>\n",
       "      <td>10.748509</td>\n",
       "    </tr>\n",
       "    <tr>\n",
       "      <th>2021-08-20 04:00:00</th>\n",
       "      <td>10.761408</td>\n",
       "    </tr>\n",
       "    <tr>\n",
       "      <th>2021-08-20 08:00:00</th>\n",
       "      <td>10.758654</td>\n",
       "    </tr>\n",
       "    <tr>\n",
       "      <th>2021-08-20 12:00:00</th>\n",
       "      <td>10.760791</td>\n",
       "    </tr>\n",
       "    <tr>\n",
       "      <th>2021-08-20 16:00:00</th>\n",
       "      <td>10.789928</td>\n",
       "    </tr>\n",
       "    <tr>\n",
       "      <th>2021-08-20 20:00:00</th>\n",
       "      <td>10.787636</td>\n",
       "    </tr>\n",
       "    <tr>\n",
       "      <th>2021-08-21 00:00:00</th>\n",
       "      <td>10.802110</td>\n",
       "    </tr>\n",
       "    <tr>\n",
       "      <th>2021-08-21 04:00:00</th>\n",
       "      <td>10.796552</td>\n",
       "    </tr>\n",
       "    <tr>\n",
       "      <th>2021-08-21 08:00:00</th>\n",
       "      <td>10.792623</td>\n",
       "    </tr>\n",
       "    <tr>\n",
       "      <th>2021-08-21 12:00:00</th>\n",
       "      <td>10.801054</td>\n",
       "    </tr>\n",
       "    <tr>\n",
       "      <th>2021-08-21 16:00:00</th>\n",
       "      <td>10.799655</td>\n",
       "    </tr>\n",
       "    <tr>\n",
       "      <th>2021-08-21 20:00:00</th>\n",
       "      <td>10.810589</td>\n",
       "    </tr>\n",
       "    <tr>\n",
       "      <th>2021-08-22 00:00:00</th>\n",
       "      <td>10.806994</td>\n",
       "    </tr>\n",
       "    <tr>\n",
       "      <th>2021-08-22 04:00:00</th>\n",
       "      <td>10.796532</td>\n",
       "    </tr>\n",
       "    <tr>\n",
       "      <th>2021-08-22 08:00:00</th>\n",
       "      <td>10.804414</td>\n",
       "    </tr>\n",
       "    <tr>\n",
       "      <th>2021-08-22 12:00:00</th>\n",
       "      <td>10.804729</td>\n",
       "    </tr>\n",
       "    <tr>\n",
       "      <th>2021-08-22 16:00:00</th>\n",
       "      <td>10.788428</td>\n",
       "    </tr>\n",
       "    <tr>\n",
       "      <th>2021-08-22 20:00:00</th>\n",
       "      <td>10.789182</td>\n",
       "    </tr>\n",
       "    <tr>\n",
       "      <th>2021-08-23 00:00:00</th>\n",
       "      <td>10.801974</td>\n",
       "    </tr>\n",
       "    <tr>\n",
       "      <th>2021-08-23 04:00:00</th>\n",
       "      <td>10.820785</td>\n",
       "    </tr>\n",
       "    <tr>\n",
       "      <th>2021-08-23 08:00:00</th>\n",
       "      <td>10.821747</td>\n",
       "    </tr>\n",
       "    <tr>\n",
       "      <th>2021-08-23 12:00:00</th>\n",
       "      <td>10.821379</td>\n",
       "    </tr>\n",
       "    <tr>\n",
       "      <th>2021-08-23 16:00:00</th>\n",
       "      <td>10.809650</td>\n",
       "    </tr>\n",
       "    <tr>\n",
       "      <th>2021-08-23 20:00:00</th>\n",
       "      <td>10.810383</td>\n",
       "    </tr>\n",
       "    <tr>\n",
       "      <th>2021-08-24 00:00:00</th>\n",
       "      <td>10.812188</td>\n",
       "    </tr>\n",
       "    <tr>\n",
       "      <th>2021-08-24 04:00:00</th>\n",
       "      <td>10.803252</td>\n",
       "    </tr>\n",
       "    <tr>\n",
       "      <th>2021-08-24 08:00:00</th>\n",
       "      <td>10.813285</td>\n",
       "    </tr>\n",
       "    <tr>\n",
       "      <th>2021-08-24 12:00:00</th>\n",
       "      <td>10.804871</td>\n",
       "    </tr>\n",
       "    <tr>\n",
       "      <th>2021-08-24 16:00:00</th>\n",
       "      <td>10.793606</td>\n",
       "    </tr>\n",
       "    <tr>\n",
       "      <th>2021-08-24 20:00:00</th>\n",
       "      <td>10.781553</td>\n",
       "    </tr>\n",
       "    <tr>\n",
       "      <th>2021-08-25 00:00:00</th>\n",
       "      <td>10.785317</td>\n",
       "    </tr>\n",
       "    <tr>\n",
       "      <th>2021-08-25 04:00:00</th>\n",
       "      <td>10.784940</td>\n",
       "    </tr>\n",
       "    <tr>\n",
       "      <th>2021-08-25 08:00:00</th>\n",
       "      <td>10.787418</td>\n",
       "    </tr>\n",
       "    <tr>\n",
       "      <th>2021-08-25 12:00:00</th>\n",
       "      <td>10.769849</td>\n",
       "    </tr>\n",
       "    <tr>\n",
       "      <th>2021-08-25 16:00:00</th>\n",
       "      <td>10.789208</td>\n",
       "    </tr>\n",
       "    <tr>\n",
       "      <th>2021-08-25 20:00:00</th>\n",
       "      <td>10.797997</td>\n",
       "    </tr>\n",
       "    <tr>\n",
       "      <th>2021-08-26 00:00:00</th>\n",
       "      <td>10.797059</td>\n",
       "    </tr>\n",
       "    <tr>\n",
       "      <th>2021-08-26 04:00:00</th>\n",
       "      <td>10.793864</td>\n",
       "    </tr>\n",
       "    <tr>\n",
       "      <th>2021-08-26 08:00:00</th>\n",
       "      <td>10.757720</td>\n",
       "    </tr>\n",
       "    <tr>\n",
       "      <th>2021-08-26 12:00:00</th>\n",
       "      <td>10.760306</td>\n",
       "    </tr>\n",
       "  </tbody>\n",
       "</table>\n",
       "</div>"
      ],
      "text/plain": [
       "                     log_close\n",
       "2021-08-16 16:00:00  10.740039\n",
       "2021-08-16 20:00:00  10.745549\n",
       "2021-08-17 00:00:00  10.741696\n",
       "2021-08-17 04:00:00  10.745477\n",
       "2021-08-17 08:00:00  10.732901\n",
       "2021-08-17 12:00:00  10.753188\n",
       "2021-08-17 16:00:00  10.736574\n",
       "2021-08-17 20:00:00  10.730079\n",
       "2021-08-18 00:00:00  10.713024\n",
       "2021-08-18 04:00:00  10.713388\n",
       "2021-08-18 08:00:00  10.724520\n",
       "2021-08-18 12:00:00  10.723145\n",
       "2021-08-18 16:00:00  10.721929\n",
       "2021-08-18 20:00:00  10.725848\n",
       "2021-08-19 00:00:00  10.709891\n",
       "2021-08-19 04:00:00  10.707248\n",
       "2021-08-19 08:00:00  10.701610\n",
       "2021-08-19 12:00:00  10.701703\n",
       "2021-08-19 16:00:00  10.722458\n",
       "2021-08-19 20:00:00  10.750199\n",
       "2021-08-20 00:00:00  10.748509\n",
       "2021-08-20 04:00:00  10.761408\n",
       "2021-08-20 08:00:00  10.758654\n",
       "2021-08-20 12:00:00  10.760791\n",
       "2021-08-20 16:00:00  10.789928\n",
       "2021-08-20 20:00:00  10.787636\n",
       "2021-08-21 00:00:00  10.802110\n",
       "2021-08-21 04:00:00  10.796552\n",
       "2021-08-21 08:00:00  10.792623\n",
       "2021-08-21 12:00:00  10.801054\n",
       "2021-08-21 16:00:00  10.799655\n",
       "2021-08-21 20:00:00  10.810589\n",
       "2021-08-22 00:00:00  10.806994\n",
       "2021-08-22 04:00:00  10.796532\n",
       "2021-08-22 08:00:00  10.804414\n",
       "2021-08-22 12:00:00  10.804729\n",
       "2021-08-22 16:00:00  10.788428\n",
       "2021-08-22 20:00:00  10.789182\n",
       "2021-08-23 00:00:00  10.801974\n",
       "2021-08-23 04:00:00  10.820785\n",
       "2021-08-23 08:00:00  10.821747\n",
       "2021-08-23 12:00:00  10.821379\n",
       "2021-08-23 16:00:00  10.809650\n",
       "2021-08-23 20:00:00  10.810383\n",
       "2021-08-24 00:00:00  10.812188\n",
       "2021-08-24 04:00:00  10.803252\n",
       "2021-08-24 08:00:00  10.813285\n",
       "2021-08-24 12:00:00  10.804871\n",
       "2021-08-24 16:00:00  10.793606\n",
       "2021-08-24 20:00:00  10.781553\n",
       "2021-08-25 00:00:00  10.785317\n",
       "2021-08-25 04:00:00  10.784940\n",
       "2021-08-25 08:00:00  10.787418\n",
       "2021-08-25 12:00:00  10.769849\n",
       "2021-08-25 16:00:00  10.789208\n",
       "2021-08-25 20:00:00  10.797997\n",
       "2021-08-26 00:00:00  10.797059\n",
       "2021-08-26 04:00:00  10.793864\n",
       "2021-08-26 08:00:00  10.757720\n",
       "2021-08-26 12:00:00  10.760306"
      ]
     },
     "execution_count": 47,
     "metadata": {},
     "output_type": "execute_result"
    }
   ],
   "source": [
    "x_gecko"
   ]
  },
  {
   "cell_type": "code",
   "execution_count": 48,
   "metadata": {},
   "outputs": [],
   "source": [
    "#pd.DataFrame(x_gecko).iloc[61]"
   ]
  },
  {
   "cell_type": "code",
   "execution_count": 49,
   "metadata": {},
   "outputs": [],
   "source": [
    "x_gecko_scaled = scaler.transform(x_gecko)"
   ]
  },
  {
   "cell_type": "code",
   "execution_count": 50,
   "metadata": {},
   "outputs": [
    {
     "data": {
      "text/plain": [
       "(60, 1)"
      ]
     },
     "execution_count": 50,
     "metadata": {},
     "output_type": "execute_result"
    }
   ],
   "source": [
    "x_gecko.shape"
   ]
  },
  {
   "cell_type": "code",
   "execution_count": 51,
   "metadata": {},
   "outputs": [],
   "source": [
    "x_gecko = np.array(x_gecko_scaled)\n",
    "x_gecko = np.reshape(x_gecko, (1,60,1))"
   ]
  },
  {
   "cell_type": "code",
   "execution_count": 52,
   "metadata": {},
   "outputs": [
    {
     "data": {
      "text/plain": [
       "(1, 60, 1)"
      ]
     },
     "execution_count": 52,
     "metadata": {},
     "output_type": "execute_result"
    }
   ],
   "source": [
    "x_gecko.shape"
   ]
  },
  {
   "cell_type": "code",
   "execution_count": 53,
   "metadata": {},
   "outputs": [
    {
     "data": {
      "text/plain": [
       "array([[[0.96554004],\n",
       "        [0.96611225],\n",
       "        [0.96571211],\n",
       "        [0.96610476],\n",
       "        [0.96479891],\n",
       "        [0.96690545],\n",
       "        [0.96518035],\n",
       "        [0.96450593],\n",
       "        [0.96273493],\n",
       "        [0.96277273],\n",
       "        [0.96392867],\n",
       "        [0.96378592],\n",
       "        [0.96365967],\n",
       "        [0.96406653],\n",
       "        [0.96240961],\n",
       "        [0.96213524],\n",
       "        [0.96154981],\n",
       "        [0.96155939],\n",
       "        [0.96371455],\n",
       "        [0.96659505],\n",
       "        [0.9664196 ],\n",
       "        [0.96775899],\n",
       "        [0.96747299],\n",
       "        [0.96769493],\n",
       "        [0.97072034],\n",
       "        [0.97048238],\n",
       "        [0.97198533],\n",
       "        [0.9714082 ],\n",
       "        [0.97100018],\n",
       "        [0.9718757 ],\n",
       "        [0.97173036],\n",
       "        [0.97286577],\n",
       "        [0.97249243],\n",
       "        [0.9714061 ],\n",
       "        [0.97222452],\n",
       "        [0.97225723],\n",
       "        [0.97056463],\n",
       "        [0.97064286],\n",
       "        [0.97197117],\n",
       "        [0.97392439],\n",
       "        [0.97402428],\n",
       "        [0.97398608],\n",
       "        [0.9727682 ],\n",
       "        [0.97284432],\n",
       "        [0.9730318 ],\n",
       "        [0.97210393],\n",
       "        [0.97314567],\n",
       "        [0.97227203],\n",
       "        [0.97110232],\n",
       "        [0.96985071],\n",
       "        [0.97024157],\n",
       "        [0.97020244],\n",
       "        [0.97045975],\n",
       "        [0.96863541],\n",
       "        [0.97064556],\n",
       "        [0.97155822],\n",
       "        [0.9714608 ],\n",
       "        [0.97112905],\n",
       "        [0.96737598],\n",
       "        [0.96764451]]])"
      ]
     },
     "execution_count": 53,
     "metadata": {},
     "output_type": "execute_result"
    }
   ],
   "source": [
    "x_gecko"
   ]
  },
  {
   "cell_type": "code",
   "execution_count": 54,
   "metadata": {},
   "outputs": [],
   "source": [
    "predictions = model.predict(x_gecko)\n",
    "predictions = scaler.inverse_transform(predictions)"
   ]
  },
  {
   "cell_type": "code",
   "execution_count": 55,
   "metadata": {},
   "outputs": [
    {
     "data": {
      "text/plain": [
       "array([[10.532594]], dtype=float32)"
      ]
     },
     "execution_count": 55,
     "metadata": {},
     "output_type": "execute_result"
    }
   ],
   "source": [
    "predictions"
   ]
  },
  {
   "cell_type": "code",
   "execution_count": 56,
   "metadata": {},
   "outputs": [
    {
     "data": {
      "text/plain": [
       "0.18461147529322264"
      ]
     },
     "execution_count": 56,
     "metadata": {},
     "output_type": "execute_result"
    }
   ],
   "source": [
    "weight"
   ]
  },
  {
   "cell_type": "code",
   "execution_count": 57,
   "metadata": {},
   "outputs": [
    {
     "data": {
      "text/plain": [
       "array([[45125.6]], dtype=float32)"
      ]
     },
     "execution_count": 57,
     "metadata": {},
     "output_type": "execute_result"
    }
   ],
   "source": [
    "np.exp(weight + predictions)"
   ]
  },
  {
   "cell_type": "code",
   "execution_count": null,
   "metadata": {},
   "outputs": [],
   "source": []
  }
 ],
 "metadata": {
  "colab": {
   "collapsed_sections": [],
   "name": "BTC pred.ipynb",
   "provenance": [],
   "toc_visible": true
  },
  "kernelspec": {
   "display_name": "Python 3 (ipykernel)",
   "language": "python",
   "name": "python3"
  },
  "language_info": {
   "codemirror_mode": {
    "name": "ipython",
    "version": 3
   },
   "file_extension": ".py",
   "mimetype": "text/x-python",
   "name": "python",
   "nbconvert_exporter": "python",
   "pygments_lexer": "ipython3",
   "version": "3.8.6"
  },
  "toc": {
   "base_numbering": 1,
   "nav_menu": {},
   "number_sections": true,
   "sideBar": true,
   "skip_h1_title": true,
   "title_cell": "Table of Contents",
   "title_sidebar": "Contents",
   "toc_cell": false,
   "toc_position": {
    "height": "calc(100% - 180px)",
    "left": "10px",
    "top": "150px",
    "width": "316.8px"
   },
   "toc_section_display": true,
   "toc_window_display": false
  },
  "varInspector": {
   "cols": {
    "lenName": 16,
    "lenType": 16,
    "lenVar": 40
   },
   "kernels_config": {
    "python": {
     "delete_cmd_postfix": "",
     "delete_cmd_prefix": "del ",
     "library": "var_list.py",
     "varRefreshCmd": "print(var_dic_list())"
    },
    "r": {
     "delete_cmd_postfix": ") ",
     "delete_cmd_prefix": "rm(",
     "library": "var_list.r",
     "varRefreshCmd": "cat(var_dic_list()) "
    }
   },
   "types_to_exclude": [
    "module",
    "function",
    "builtin_function_or_method",
    "instance",
    "_Feature"
   ],
   "window_display": false
  }
 },
 "nbformat": 4,
 "nbformat_minor": 1
}
