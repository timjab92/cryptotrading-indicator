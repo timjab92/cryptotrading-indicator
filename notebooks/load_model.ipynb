{
 "cells": [
  {
   "cell_type": "code",
   "execution_count": 1,
   "id": "7660db80",
   "metadata": {},
   "outputs": [
    {
     "name": "stderr",
     "output_type": "stream",
     "text": [
      "2021-09-02 15:50:22.060291: W tensorflow/stream_executor/platform/default/dso_loader.cc:64] Could not load dynamic library 'libcudart.so.11.0'; dlerror: libcudart.so.11.0: cannot open shared object file: No such file or directory\n",
      "2021-09-02 15:50:22.060325: I tensorflow/stream_executor/cuda/cudart_stub.cc:29] Ignore above cudart dlerror if you do not have a GPU set up on your machine.\n"
     ]
    }
   ],
   "source": [
    "from tensorflow.keras.models import load_model\n",
    "import pandas as pd\n",
    "import numpy as np\n",
    "import os\n",
    "import matplotlib.pyplot as plt\n",
    "from sklearn.preprocessing import MinMaxScaler"
   ]
  },
  {
   "cell_type": "code",
   "execution_count": 2,
   "id": "01703233",
   "metadata": {},
   "outputs": [
    {
     "name": "stdout",
     "output_type": "stream",
     "text": [
      "/home/timjab92/code/timjab92/cryptotrading-indicator/notebooks\r\n"
     ]
    }
   ],
   "source": [
    "!pwd"
   ]
  },
  {
   "cell_type": "code",
   "execution_count": 3,
   "id": "46e0bd6d",
   "metadata": {},
   "outputs": [
    {
     "name": "stdout",
     "output_type": "stream",
     "text": [
      "/home/timjab92/code/timjab92/cryptotrading-indicator/notebooks\r\n"
     ]
    }
   ],
   "source": [
    "!pwd"
   ]
  },
  {
   "cell_type": "code",
   "execution_count": 4,
   "id": "3982b63c",
   "metadata": {},
   "outputs": [
    {
     "name": "stderr",
     "output_type": "stream",
     "text": [
      "2021-09-02 15:50:24.472659: W tensorflow/stream_executor/platform/default/dso_loader.cc:64] Could not load dynamic library 'libcuda.so.1'; dlerror: libcuda.so.1: cannot open shared object file: No such file or directory\n",
      "2021-09-02 15:50:24.472697: W tensorflow/stream_executor/cuda/cuda_driver.cc:269] failed call to cuInit: UNKNOWN ERROR (303)\n",
      "2021-09-02 15:50:24.472709: I tensorflow/stream_executor/cuda/cuda_diagnostics.cc:156] kernel driver does not appear to be running on this host (LAPTOP-33CGF2OU): /proc/driver/nvidia/version does not exist\n",
      "2021-09-02 15:50:24.472904: I tensorflow/core/platform/cpu_feature_guard.cc:142] This TensorFlow binary is optimized with oneAPI Deep Neural Network Library (oneDNN) to use the following CPU instructions in performance-critical operations:  AVX2 AVX512F FMA\n",
      "To enable them in other operations, rebuild TensorFlow with the appropriate compiler flags.\n"
     ]
    }
   ],
   "source": [
    "from tensorflow.keras.models import load_model\n",
    "model = load_model(\"../../models/new_data_high_bollinger_up_rsi_1_71\")"
   ]
  },
  {
   "cell_type": "code",
   "execution_count": 5,
   "id": "d47a8577",
   "metadata": {},
   "outputs": [],
   "source": [
    "CLOSE = 'close'\n",
    "SELECTED_FEATURES = [CLOSE,'high','bollinger_up','rsi']\n",
    "WINDOW_SIZE = 18\n",
    "HORIZON = 1"
   ]
  },
  {
   "cell_type": "code",
   "execution_count": 6,
   "id": "6a67cc03",
   "metadata": {},
   "outputs": [],
   "source": [
    "import requests\n",
    "def get_coingecko():\n",
    "    #ohlc\n",
    "    url = \"https://api.coingecko.com/api/v3/coins/bitcoin/ohlc?vs_currency=usd&days=30\"\n",
    "    response = requests.get(url).json()\n",
    "    #cleaning\n",
    "    data_api = pd.DataFrame(response, columns = ['unix_time','open', 'high', 'low', 'close'])\n",
    "    data_api[\"Date\"] = pd.to_datetime(data_api[\"unix_time\"], unit='ms')\n",
    "    data_api = data_api.drop(columns='unix_time').set_index('Date')\n",
    "\n",
    "    #volume\n",
    "    url = \"https://api.coingecko.com/api/v3/coins/bitcoin/market_chart?vs_currency=usd&days=30\"\n",
    "    response = requests.get(url).json()\n",
    "\n",
    "    volume = pd.DataFrame(response['total_volumes'], columns=[\"unix_time\",\"volume\"])\n",
    "    volume['date'] = pd.to_datetime(pd.to_datetime(volume['unix_time'],unit='ms').dt.strftime(\"%Y/%m/%d, %H:00:00\"))\n",
    "    volume = volume.drop(columns='unix_time').set_index('date')\n",
    "\n",
    "    #resample hourly into 4h\n",
    "    volume = volume.resample(\"4H\").mean()\n",
    "\n",
    "    #concatinate\n",
    "    volume = volume[-180:]\n",
    "    data_api = data_api[-181:-1]\n",
    "    full = pd.concat([data_api, volume], axis=1)\n",
    "    full.columns=['open', 'high', 'low', 'close', 'volume']\n",
    "\n",
    "    for x in ['open', 'high', 'low', 'close']:\n",
    "        full[f'log_{x}'] = full[x].apply(lambda x: np.log(x))\n",
    "\n",
    "    data_api = full.copy()\n",
    "\n",
    "    return data_api\n",
    "\n",
    "\n",
    "def feature_engineer(data):\n",
    "    \"\"\"\n",
    "    Adds the EMAs, StochRSI, BollingerBands and Volume Rate of Change to the dataframe\n",
    "    \"\"\"\n",
    "    add_ema(data)\n",
    "    add_stoch_rsi(data)\n",
    "    add_bollinger(data,data[CLOSE])\n",
    "    add_vol_roc(data)\n",
    "    return data\n",
    "\n",
    "## add other features\n",
    "\n",
    "def add_ema(data, tspan=[12,26,20,50,34,55,21,99,200]):\n",
    "    \"\"\"\n",
    "    Adds Exponential Moving Averages (EMA) to the dataframe. The default timeframes are 12,26,20,50,34 and 55.\n",
    "    \"\"\"\n",
    "    for t in tspan:\n",
    "        data[f'ema{t}'] = data[CLOSE].ewm(span=t).mean()\n",
    "        data[f'dist_ema{t}'] = data[CLOSE] - data[f'ema{t}']\n",
    "    return data\n",
    "\n",
    "\n",
    "def computeRSI(data, window=14):\n",
    "    \"\"\"\n",
    "    Computes the Relative Stregth Index for a given dataset and the window can be defined. Its default value is 14.\n",
    "    \"\"\"\n",
    "    diff = data.diff(1).dropna()        # diff in one field(one day)\n",
    "\n",
    "    #this preservers dimensions off diff values\n",
    "    up_chg = 0 * diff\n",
    "    down_chg = 0 * diff\n",
    "    \n",
    "    # up change is equal to the positive difference, otherwise equal to zero\n",
    "    up_chg[diff > 0] = diff[ diff>0 ]\n",
    "    # down change is equal to negative deifference, otherwise equal to zero\n",
    "    down_chg[diff < 0] = diff[ diff < 0 ]\n",
    "    \n",
    "    # check pandas documentation for ewm\n",
    "    # https://pandas.pydata.org/pandas-docs/stable/reference/api/pandas.DataFrame.ewm.html\n",
    "    # values are related to exponential decay\n",
    "    # we set com=window-1 so we get decay alpha=1/window\n",
    "    up_chg_avg   = up_chg.ewm(com=window-1 , min_periods=window).mean()\n",
    "    down_chg_avg = down_chg.ewm(com=window-1 , min_periods=window).mean()\n",
    "    \n",
    "    rs = abs(up_chg_avg/down_chg_avg)\n",
    "    rsi = 100 - 100/(1+rs)\n",
    "    return rsi\n",
    "\n",
    "\n",
    "def stoch_rsi(rsi, d_window=3, k_window=3, window=14):\n",
    "    \"\"\"\n",
    "    Computes the stochastic RSI. Default values are d=3, k=3, window=14.\n",
    "    \"\"\"\n",
    "    minrsi = rsi.rolling(window=window, center=False).min()\n",
    "    maxrsi = rsi.rolling(window=window, center=False).max()\n",
    "    stoch = ((rsi - minrsi) / (maxrsi - minrsi)) * 100\n",
    "    K = stoch.rolling(window=k_window, center=False).mean()\n",
    "    D = K.rolling(window=d_window, center=False).mean() \n",
    "    return K, D  \n",
    "\n",
    "\n",
    "def add_stoch_rsi(data, d_window=3, k_window=3, window=14):\n",
    "    data['rsi'] = computeRSI(data[CLOSE], window)\n",
    "    data['K'], data['D'] = stoch_rsi(data['rsi'], d_window, k_window, window)\n",
    "    return data\n",
    "\n",
    "\n",
    "def get_bollinger_bands(prices, rate=20):\n",
    "    sma = prices.rolling(rate).mean() # <-- Get SMA for 20 days\n",
    "    std = prices.rolling(rate).std() # <-- Get rolling standard deviation for 20 days\n",
    "    bollinger_up = sma + std * 2 # Calculate top band\n",
    "    bollinger_down = sma - std * 2 # Calculate bottom band\n",
    "    return sma, bollinger_up, bollinger_down\n",
    "\n",
    "\n",
    "def add_bollinger(data, prices, rate=20):\n",
    "    data['sma'], data['bollinger_up'], data['bollinger_down'] = get_bollinger_bands(prices)\n",
    "    for i in ['bollinger_up', 'bollinger_down']:\n",
    "        data[f'dist_{i}'] = data[CLOSE] - data[i]\n",
    "    return data\n",
    "\n",
    "\n",
    "def add_vol_roc(data):\n",
    "    data['vol_roc'] = data.volume.pct_change()\n",
    "    return data\n"
   ]
  },
  {
   "cell_type": "code",
   "execution_count": 47,
   "id": "a038deb9",
   "metadata": {},
   "outputs": [],
   "source": [
    "def get_train_data():\n",
    "    \"\"\"\n",
    "    Returns the raw training dataset for the price of bitcoin since 31.12.2011.\n",
    "    The index is set to the date.\n",
    "    \"\"\"\n",
    "    data = pd.read_csv(\"../data/BTC4h.csv\")\n",
    "    data['date'] = pd.to_datetime(data.date)\n",
    "    #data_train = data.drop(columns=\"Unnamed: 0\").set_index(\"date\")\n",
    "    return data_train.set_index(\"date\")\n",
    "\n",
    "\n",
    "def minmaxscaling(data_train):\n",
    "    \"\"\"\n",
    "    applies the minmaxscaler to the training set. Attention! Output needs to be\n",
    "    defined for data_train_scaled, min1 and range1!!\n",
    "    \"\"\"\n",
    "    minmax_scaler = MinMaxScaler(feature_range=(0, 1))\n",
    "    minmax_scaler.fit(data_train)\n",
    "    data_train_scaled = minmax_scaler.transform(data_train)\n",
    "    min1 = minmax_scaler.data_min_[0]  # [5:9] for log_prices\n",
    "    range1 = minmax_scaler.data_range_[0]  #[5:9]\n",
    "    return data_train_scaled, minmax_scaler, min1, range1\n",
    "\n",
    "\n",
    "def get_xgecko(winsize=18, horizon=1):\n",
    "    \"\"\"\n",
    "    Calls the coingecko API and returns the data used for prediction.\n",
    "    x_gecko.shape == (no_sequ , winsize, no_features)\n",
    "    \"\"\"\n",
    "    x_gecko = feature_engineer(get_coingecko())[SELECTED_FEATURES][-winsize:]\n",
    "    #get scaler the long way\n",
    "    data_train = feature_engineer(get_new_data())[SELECTED_FEATURES]\n",
    "    data_train_scaled, scaler,min1,range1 = minmaxscaling(data_train)\n",
    "\n",
    "    x_gecko_scaled = scaler.transform(x_gecko)\n",
    "    x_gecko = np.array(x_gecko_scaled[-winsize:])\n",
    "    x_gecko = np.reshape(x_gecko, (-1, winsize, len(SELECTED_FEATURES)))\n",
    "    return x_gecko\n",
    "\n",
    "\n",
    "def get_xy(data_train_scaled, window_size=WINDOW_SIZE, horizon=HORIZON):\n",
    "    data_train_subsequences = []\n",
    "    fake_y_train = []\n",
    "    for k in range(len(data_train_scaled)-(window_size-1)-horizon):\n",
    "        data_train_subsequences.append(data_train_scaled[k:k+window_size])\n",
    "        fake_y_train.append(data_train_scaled[k+window_size:k+window_size+horizon])\n",
    "\n",
    "    # Convert the x_train and y_train to numpy arrays\n",
    "    x_train, y_train = np.array(data_train_subsequences), np.array(\n",
    "        fake_y_train)[:, :, 0]\n",
    "\n",
    "    return x_train, y_train"
   ]
  },
  {
   "cell_type": "code",
   "execution_count": 48,
   "id": "f5acce2c",
   "metadata": {},
   "outputs": [],
   "source": [
    "def get_new_data():\n",
    "    data = pd.read_csv(\"../data/BTC4h.csv\")\n",
    "    data['date'] = pd.to_datetime(data.date)\n",
    "    data = data.set_index('date')\n",
    "    return data\n",
    "\n",
    "data = get_new_data()"
   ]
  },
  {
   "cell_type": "code",
   "execution_count": 49,
   "id": "2d3b3d12",
   "metadata": {},
   "outputs": [],
   "source": [
    "data = feature_engineer(get_new_data()).dropna()"
   ]
  },
  {
   "cell_type": "code",
   "execution_count": 50,
   "id": "b4b44fa1",
   "metadata": {},
   "outputs": [],
   "source": [
    "selected_data = data[SELECTED_FEATURES]"
   ]
  },
  {
   "cell_type": "code",
   "execution_count": 51,
   "id": "77159d1b",
   "metadata": {},
   "outputs": [
    {
     "data": {
      "text/plain": [
       "(12775, 36)"
      ]
     },
     "execution_count": 51,
     "metadata": {},
     "output_type": "execute_result"
    }
   ],
   "source": [
    "data.shape"
   ]
  },
  {
   "cell_type": "code",
   "execution_count": 52,
   "id": "d122f525",
   "metadata": {},
   "outputs": [],
   "source": [
    "train_percentage = 95\n",
    "train_len = int(len(selected_data) * train_percentage/100)\n",
    "data_train = selected_data[:train_len]\n",
    "data_test = selected_data[train_len:]"
   ]
  },
  {
   "cell_type": "code",
   "execution_count": 53,
   "id": "3e35c7ef",
   "metadata": {},
   "outputs": [
    {
     "data": {
      "text/plain": [
       "(12136, 4)"
      ]
     },
     "execution_count": 53,
     "metadata": {},
     "output_type": "execute_result"
    }
   ],
   "source": [
    "data_train.shape"
   ]
  },
  {
   "cell_type": "code",
   "execution_count": 54,
   "id": "20c16822",
   "metadata": {},
   "outputs": [],
   "source": [
    "data_train_scaled, scaler, min1, range1 = minmaxscaling(data_train)"
   ]
  },
  {
   "cell_type": "code",
   "execution_count": 55,
   "id": "c7e5b48e",
   "metadata": {},
   "outputs": [],
   "source": [
    "data_test_scaled = scaler.transform(data_test)"
   ]
  },
  {
   "cell_type": "code",
   "execution_count": 56,
   "id": "6fc47ace",
   "metadata": {},
   "outputs": [],
   "source": [
    "x_test, y_test = get_xy(data_test_scaled)"
   ]
  },
  {
   "cell_type": "code",
   "execution_count": 57,
   "id": "61ba0f57",
   "metadata": {},
   "outputs": [
    {
     "data": {
      "text/plain": [
       "(12136, 4)"
      ]
     },
     "execution_count": 57,
     "metadata": {},
     "output_type": "execute_result"
    }
   ],
   "source": [
    "data_train.shape"
   ]
  },
  {
   "cell_type": "code",
   "execution_count": 58,
   "id": "d221a840",
   "metadata": {},
   "outputs": [],
   "source": [
    "pred = model.predict(x_test)\n",
    "predictions_unscaled = pred * range1 + min1\n",
    "y_test_unscaled = y_test * range1 + min1"
   ]
  },
  {
   "cell_type": "code",
   "execution_count": 59,
   "id": "1ea42ac7",
   "metadata": {},
   "outputs": [],
   "source": [
    "pred = pd.DataFrame(predictions_unscaled, columns = ['pred_1']) #,'pred_2','pred_3''pred_4','pred_5','pred_6'\n",
    "test = pd.DataFrame(y_test_unscaled, columns = ['test_1']) # ,'test_2','test_3'#, 'test_4','test_5','test_6'\n",
    "result = pd.concat([pred, test], axis=1)"
   ]
  },
  {
   "cell_type": "code",
   "execution_count": 60,
   "id": "238f463f",
   "metadata": {},
   "outputs": [],
   "source": [
    "for i in range(1,2):\n",
    "    result[f'weight_{i}'] = np.mean(result[f'test_{i}'] - result[f'pred_{i}'])\n",
    "    result[f'pred_weight_{i}'] = result[f'pred_{i}'] + result[f'weight_{i}']"
   ]
  },
  {
   "cell_type": "code",
   "execution_count": 61,
   "id": "e2fc1169",
   "metadata": {},
   "outputs": [
    {
     "data": {
      "text/html": [
       "<div>\n",
       "<style scoped>\n",
       "    .dataframe tbody tr th:only-of-type {\n",
       "        vertical-align: middle;\n",
       "    }\n",
       "\n",
       "    .dataframe tbody tr th {\n",
       "        vertical-align: top;\n",
       "    }\n",
       "\n",
       "    .dataframe thead th {\n",
       "        text-align: right;\n",
       "    }\n",
       "</style>\n",
       "<table border=\"1\" class=\"dataframe\">\n",
       "  <thead>\n",
       "    <tr style=\"text-align: right;\">\n",
       "      <th></th>\n",
       "      <th>pred_1</th>\n",
       "      <th>test_1</th>\n",
       "      <th>weight_1</th>\n",
       "      <th>pred_weight_1</th>\n",
       "    </tr>\n",
       "  </thead>\n",
       "  <tbody>\n",
       "    <tr>\n",
       "      <th>0</th>\n",
       "      <td>57717.355469</td>\n",
       "      <td>57427.04</td>\n",
       "      <td>-83.862511</td>\n",
       "      <td>57633.492958</td>\n",
       "    </tr>\n",
       "    <tr>\n",
       "      <th>1</th>\n",
       "      <td>57220.078125</td>\n",
       "      <td>57849.03</td>\n",
       "      <td>-83.862511</td>\n",
       "      <td>57136.215614</td>\n",
       "    </tr>\n",
       "    <tr>\n",
       "      <th>2</th>\n",
       "      <td>57415.027344</td>\n",
       "      <td>57869.40</td>\n",
       "      <td>-83.862511</td>\n",
       "      <td>57331.164833</td>\n",
       "    </tr>\n",
       "    <tr>\n",
       "      <th>3</th>\n",
       "      <td>57590.484375</td>\n",
       "      <td>56547.40</td>\n",
       "      <td>-83.862511</td>\n",
       "      <td>57506.621864</td>\n",
       "    </tr>\n",
       "    <tr>\n",
       "      <th>4</th>\n",
       "      <td>56393.906250</td>\n",
       "      <td>56692.50</td>\n",
       "      <td>-83.862511</td>\n",
       "      <td>56310.043739</td>\n",
       "    </tr>\n",
       "    <tr>\n",
       "      <th>...</th>\n",
       "      <td>...</td>\n",
       "      <td>...</td>\n",
       "      <td>...</td>\n",
       "      <td>...</td>\n",
       "    </tr>\n",
       "    <tr>\n",
       "      <th>616</th>\n",
       "      <td>45847.011719</td>\n",
       "      <td>45289.65</td>\n",
       "      <td>-83.862511</td>\n",
       "      <td>45763.149208</td>\n",
       "    </tr>\n",
       "    <tr>\n",
       "      <th>617</th>\n",
       "      <td>45309.761719</td>\n",
       "      <td>44758.93</td>\n",
       "      <td>-83.862511</td>\n",
       "      <td>45225.899208</td>\n",
       "    </tr>\n",
       "    <tr>\n",
       "      <th>618</th>\n",
       "      <td>44671.066406</td>\n",
       "      <td>44204.11</td>\n",
       "      <td>-83.862511</td>\n",
       "      <td>44587.203895</td>\n",
       "    </tr>\n",
       "    <tr>\n",
       "      <th>619</th>\n",
       "      <td>43983.058594</td>\n",
       "      <td>44407.09</td>\n",
       "      <td>-83.862511</td>\n",
       "      <td>43899.196083</td>\n",
       "    </tr>\n",
       "    <tr>\n",
       "      <th>620</th>\n",
       "      <td>43895.718750</td>\n",
       "      <td>44430.99</td>\n",
       "      <td>-83.862511</td>\n",
       "      <td>43811.856239</td>\n",
       "    </tr>\n",
       "  </tbody>\n",
       "</table>\n",
       "<p>621 rows × 4 columns</p>\n",
       "</div>"
      ],
      "text/plain": [
       "           pred_1    test_1   weight_1  pred_weight_1\n",
       "0    57717.355469  57427.04 -83.862511   57633.492958\n",
       "1    57220.078125  57849.03 -83.862511   57136.215614\n",
       "2    57415.027344  57869.40 -83.862511   57331.164833\n",
       "3    57590.484375  56547.40 -83.862511   57506.621864\n",
       "4    56393.906250  56692.50 -83.862511   56310.043739\n",
       "..            ...       ...        ...            ...\n",
       "616  45847.011719  45289.65 -83.862511   45763.149208\n",
       "617  45309.761719  44758.93 -83.862511   45225.899208\n",
       "618  44671.066406  44204.11 -83.862511   44587.203895\n",
       "619  43983.058594  44407.09 -83.862511   43899.196083\n",
       "620  43895.718750  44430.99 -83.862511   43811.856239\n",
       "\n",
       "[621 rows x 4 columns]"
      ]
     },
     "execution_count": 61,
     "metadata": {},
     "output_type": "execute_result"
    }
   ],
   "source": [
    "result"
   ]
  },
  {
   "cell_type": "code",
   "execution_count": 62,
   "id": "c344321f",
   "metadata": {},
   "outputs": [
    {
     "data": {
      "text/plain": [
       "669.971510542472"
      ]
     },
     "execution_count": 62,
     "metadata": {},
     "output_type": "execute_result"
    }
   ],
   "source": [
    "mae = np.mean(np.abs(y_test_unscaled[:,0] - predictions_unscaled[:,0]))\n",
    "mae"
   ]
  },
  {
   "cell_type": "code",
   "execution_count": 63,
   "id": "446cc776",
   "metadata": {},
   "outputs": [
    {
     "data": {
      "text/plain": [
       "1.708367968757586"
      ]
     },
     "execution_count": 63,
     "metadata": {},
     "output_type": "execute_result"
    }
   ],
   "source": [
    "mape = np.mean(np.abs((y_test_unscaled - predictions_unscaled) / y_test_unscaled)) *100\n",
    "mape"
   ]
  },
  {
   "cell_type": "code",
   "execution_count": 64,
   "id": "8b526bae",
   "metadata": {},
   "outputs": [
    {
     "data": {
      "text/html": [
       "<div>\n",
       "<style scoped>\n",
       "    .dataframe tbody tr th:only-of-type {\n",
       "        vertical-align: middle;\n",
       "    }\n",
       "\n",
       "    .dataframe tbody tr th {\n",
       "        vertical-align: top;\n",
       "    }\n",
       "\n",
       "    .dataframe thead th {\n",
       "        text-align: right;\n",
       "    }\n",
       "</style>\n",
       "<table border=\"1\" class=\"dataframe\">\n",
       "  <thead>\n",
       "    <tr style=\"text-align: right;\">\n",
       "      <th></th>\n",
       "      <th>pred_1</th>\n",
       "      <th>test_1</th>\n",
       "      <th>weight_1</th>\n",
       "      <th>pred_weight_1</th>\n",
       "    </tr>\n",
       "  </thead>\n",
       "  <tbody>\n",
       "    <tr>\n",
       "      <th>0</th>\n",
       "      <td>57717.355469</td>\n",
       "      <td>57427.04</td>\n",
       "      <td>-83.862511</td>\n",
       "      <td>57633.492958</td>\n",
       "    </tr>\n",
       "    <tr>\n",
       "      <th>1</th>\n",
       "      <td>57220.078125</td>\n",
       "      <td>57849.03</td>\n",
       "      <td>-83.862511</td>\n",
       "      <td>57136.215614</td>\n",
       "    </tr>\n",
       "    <tr>\n",
       "      <th>2</th>\n",
       "      <td>57415.027344</td>\n",
       "      <td>57869.40</td>\n",
       "      <td>-83.862511</td>\n",
       "      <td>57331.164833</td>\n",
       "    </tr>\n",
       "    <tr>\n",
       "      <th>3</th>\n",
       "      <td>57590.484375</td>\n",
       "      <td>56547.40</td>\n",
       "      <td>-83.862511</td>\n",
       "      <td>57506.621864</td>\n",
       "    </tr>\n",
       "    <tr>\n",
       "      <th>4</th>\n",
       "      <td>56393.906250</td>\n",
       "      <td>56692.50</td>\n",
       "      <td>-83.862511</td>\n",
       "      <td>56310.043739</td>\n",
       "    </tr>\n",
       "    <tr>\n",
       "      <th>...</th>\n",
       "      <td>...</td>\n",
       "      <td>...</td>\n",
       "      <td>...</td>\n",
       "      <td>...</td>\n",
       "    </tr>\n",
       "    <tr>\n",
       "      <th>616</th>\n",
       "      <td>45847.011719</td>\n",
       "      <td>45289.65</td>\n",
       "      <td>-83.862511</td>\n",
       "      <td>45763.149208</td>\n",
       "    </tr>\n",
       "    <tr>\n",
       "      <th>617</th>\n",
       "      <td>45309.761719</td>\n",
       "      <td>44758.93</td>\n",
       "      <td>-83.862511</td>\n",
       "      <td>45225.899208</td>\n",
       "    </tr>\n",
       "    <tr>\n",
       "      <th>618</th>\n",
       "      <td>44671.066406</td>\n",
       "      <td>44204.11</td>\n",
       "      <td>-83.862511</td>\n",
       "      <td>44587.203895</td>\n",
       "    </tr>\n",
       "    <tr>\n",
       "      <th>619</th>\n",
       "      <td>43983.058594</td>\n",
       "      <td>44407.09</td>\n",
       "      <td>-83.862511</td>\n",
       "      <td>43899.196083</td>\n",
       "    </tr>\n",
       "    <tr>\n",
       "      <th>620</th>\n",
       "      <td>43895.718750</td>\n",
       "      <td>44430.99</td>\n",
       "      <td>-83.862511</td>\n",
       "      <td>43811.856239</td>\n",
       "    </tr>\n",
       "  </tbody>\n",
       "</table>\n",
       "<p>621 rows × 4 columns</p>\n",
       "</div>"
      ],
      "text/plain": [
       "           pred_1    test_1   weight_1  pred_weight_1\n",
       "0    57717.355469  57427.04 -83.862511   57633.492958\n",
       "1    57220.078125  57849.03 -83.862511   57136.215614\n",
       "2    57415.027344  57869.40 -83.862511   57331.164833\n",
       "3    57590.484375  56547.40 -83.862511   57506.621864\n",
       "4    56393.906250  56692.50 -83.862511   56310.043739\n",
       "..            ...       ...        ...            ...\n",
       "616  45847.011719  45289.65 -83.862511   45763.149208\n",
       "617  45309.761719  44758.93 -83.862511   45225.899208\n",
       "618  44671.066406  44204.11 -83.862511   44587.203895\n",
       "619  43983.058594  44407.09 -83.862511   43899.196083\n",
       "620  43895.718750  44430.99 -83.862511   43811.856239\n",
       "\n",
       "[621 rows x 4 columns]"
      ]
     },
     "execution_count": 64,
     "metadata": {},
     "output_type": "execute_result"
    }
   ],
   "source": [
    "result"
   ]
  },
  {
   "cell_type": "code",
   "execution_count": 78,
   "id": "ac01913d",
   "metadata": {},
   "outputs": [
    {
     "data": {
      "image/png": "[encoded data removed]",
      "text/plain": [
       "<Figure size 1080x648 with 1 Axes>"
      ]
     },
     "metadata": {
      "needs_background": "light"
     },
     "output_type": "display_data"
    }
   ],
   "source": [
    "plt.figure(figsize=(15,9))\n",
    "plt.plot(result[['test_1', 'pred_1', 'pred_weight_1']][-40:-20], label=[\"test\", \"pred\", \"pred_weight\"])\n",
    "plt.legend()                                      #timehorizon here\n",
    "plt.show()"
   ]
  },
  {
   "cell_type": "markdown",
   "id": "40af7d9e",
   "metadata": {},
   "source": [
    "# coingecko prediction"
   ]
  },
  {
   "cell_type": "code",
   "execution_count": 66,
   "id": "cf403cea",
   "metadata": {},
   "outputs": [],
   "source": [
    "coingecko = get_coingecko()"
   ]
  },
  {
   "cell_type": "code",
   "execution_count": 67,
   "id": "bad29b00",
   "metadata": {},
   "outputs": [
    {
     "data": {
      "text/html": [
       "<div>\n",
       "<style scoped>\n",
       "    .dataframe tbody tr th:only-of-type {\n",
       "        vertical-align: middle;\n",
       "    }\n",
       "\n",
       "    .dataframe tbody tr th {\n",
       "        vertical-align: top;\n",
       "    }\n",
       "\n",
       "    .dataframe thead th {\n",
       "        text-align: right;\n",
       "    }\n",
       "</style>\n",
       "<table border=\"1\" class=\"dataframe\">\n",
       "  <thead>\n",
       "    <tr style=\"text-align: right;\">\n",
       "      <th></th>\n",
       "      <th>open</th>\n",
       "      <th>high</th>\n",
       "      <th>low</th>\n",
       "      <th>close</th>\n",
       "      <th>volume</th>\n",
       "      <th>log_open</th>\n",
       "      <th>log_high</th>\n",
       "      <th>log_low</th>\n",
       "      <th>log_close</th>\n",
       "      <th>ema12</th>\n",
       "      <th>...</th>\n",
       "      <th>dist_ema200</th>\n",
       "      <th>rsi</th>\n",
       "      <th>K</th>\n",
       "      <th>D</th>\n",
       "      <th>sma</th>\n",
       "      <th>bollinger_up</th>\n",
       "      <th>bollinger_down</th>\n",
       "      <th>dist_bollinger_up</th>\n",
       "      <th>dist_bollinger_down</th>\n",
       "      <th>vol_roc</th>\n",
       "    </tr>\n",
       "  </thead>\n",
       "  <tbody>\n",
       "    <tr>\n",
       "      <th>2021-08-03 16:00:00</th>\n",
       "      <td>38638.23</td>\n",
       "      <td>38638.23</td>\n",
       "      <td>38402.57</td>\n",
       "      <td>38402.57</td>\n",
       "      <td>2.882061e+10</td>\n",
       "      <td>10.561997</td>\n",
       "      <td>10.561997</td>\n",
       "      <td>10.555880</td>\n",
       "      <td>10.555880</td>\n",
       "      <td>38402.570000</td>\n",
       "      <td>...</td>\n",
       "      <td>0.000000</td>\n",
       "      <td>NaN</td>\n",
       "      <td>NaN</td>\n",
       "      <td>NaN</td>\n",
       "      <td>NaN</td>\n",
       "      <td>NaN</td>\n",
       "      <td>NaN</td>\n",
       "      <td>NaN</td>\n",
       "      <td>NaN</td>\n",
       "      <td>NaN</td>\n",
       "    </tr>\n",
       "    <tr>\n",
       "      <th>2021-08-03 20:00:00</th>\n",
       "      <td>38205.20</td>\n",
       "      <td>38554.67</td>\n",
       "      <td>38154.24</td>\n",
       "      <td>38165.01</td>\n",
       "      <td>2.851683e+10</td>\n",
       "      <td>10.550727</td>\n",
       "      <td>10.559833</td>\n",
       "      <td>10.549392</td>\n",
       "      <td>10.549674</td>\n",
       "      <td>38273.891667</td>\n",
       "      <td>...</td>\n",
       "      <td>-118.186100</td>\n",
       "      <td>NaN</td>\n",
       "      <td>NaN</td>\n",
       "      <td>NaN</td>\n",
       "      <td>NaN</td>\n",
       "      <td>NaN</td>\n",
       "      <td>NaN</td>\n",
       "      <td>NaN</td>\n",
       "      <td>NaN</td>\n",
       "      <td>-0.010540</td>\n",
       "    </tr>\n",
       "    <tr>\n",
       "      <th>2021-08-04 00:00:00</th>\n",
       "      <td>38128.75</td>\n",
       "      <td>38419.85</td>\n",
       "      <td>38082.36</td>\n",
       "      <td>38406.36</td>\n",
       "      <td>2.797357e+10</td>\n",
       "      <td>10.548724</td>\n",
       "      <td>10.556330</td>\n",
       "      <td>10.547506</td>\n",
       "      <td>10.555978</td>\n",
       "      <td>38325.594088</td>\n",
       "      <td>...</td>\n",
       "      <td>81.698040</td>\n",
       "      <td>NaN</td>\n",
       "      <td>NaN</td>\n",
       "      <td>NaN</td>\n",
       "      <td>NaN</td>\n",
       "      <td>NaN</td>\n",
       "      <td>NaN</td>\n",
       "      <td>NaN</td>\n",
       "      <td>NaN</td>\n",
       "      <td>-0.019050</td>\n",
       "    </tr>\n",
       "    <tr>\n",
       "      <th>2021-08-04 04:00:00</th>\n",
       "      <td>38175.78</td>\n",
       "      <td>38496.08</td>\n",
       "      <td>38175.78</td>\n",
       "      <td>38187.73</td>\n",
       "      <td>2.657571e+10</td>\n",
       "      <td>10.549957</td>\n",
       "      <td>10.558312</td>\n",
       "      <td>10.549957</td>\n",
       "      <td>10.550270</td>\n",
       "      <td>38282.075783</td>\n",
       "      <td>...</td>\n",
       "      <td>-102.183772</td>\n",
       "      <td>NaN</td>\n",
       "      <td>NaN</td>\n",
       "      <td>NaN</td>\n",
       "      <td>NaN</td>\n",
       "      <td>NaN</td>\n",
       "      <td>NaN</td>\n",
       "      <td>NaN</td>\n",
       "      <td>NaN</td>\n",
       "      <td>-0.049971</td>\n",
       "    </tr>\n",
       "    <tr>\n",
       "      <th>2021-08-04 08:00:00</th>\n",
       "      <td>38021.40</td>\n",
       "      <td>38175.25</td>\n",
       "      <td>38021.40</td>\n",
       "      <td>38162.26</td>\n",
       "      <td>2.585648e+10</td>\n",
       "      <td>10.545904</td>\n",
       "      <td>10.549943</td>\n",
       "      <td>10.545904</td>\n",
       "      <td>10.549602</td>\n",
       "      <td>38249.522263</td>\n",
       "      <td>...</td>\n",
       "      <td>-101.609863</td>\n",
       "      <td>NaN</td>\n",
       "      <td>NaN</td>\n",
       "      <td>NaN</td>\n",
       "      <td>NaN</td>\n",
       "      <td>NaN</td>\n",
       "      <td>NaN</td>\n",
       "      <td>NaN</td>\n",
       "      <td>NaN</td>\n",
       "      <td>-0.027064</td>\n",
       "    </tr>\n",
       "    <tr>\n",
       "      <th>...</th>\n",
       "      <td>...</td>\n",
       "      <td>...</td>\n",
       "      <td>...</td>\n",
       "      <td>...</td>\n",
       "      <td>...</td>\n",
       "      <td>...</td>\n",
       "      <td>...</td>\n",
       "      <td>...</td>\n",
       "      <td>...</td>\n",
       "      <td>...</td>\n",
       "      <td>...</td>\n",
       "      <td>...</td>\n",
       "      <td>...</td>\n",
       "      <td>...</td>\n",
       "      <td>...</td>\n",
       "      <td>...</td>\n",
       "      <td>...</td>\n",
       "      <td>...</td>\n",
       "      <td>...</td>\n",
       "      <td>...</td>\n",
       "      <td>...</td>\n",
       "    </tr>\n",
       "    <tr>\n",
       "      <th>2021-09-01 20:00:00</th>\n",
       "      <td>47534.39</td>\n",
       "      <td>48849.86</td>\n",
       "      <td>47534.39</td>\n",
       "      <td>48751.95</td>\n",
       "      <td>3.950387e+10</td>\n",
       "      <td>10.769209</td>\n",
       "      <td>10.796507</td>\n",
       "      <td>10.769209</td>\n",
       "      <td>10.794500</td>\n",
       "      <td>47715.958108</td>\n",
       "      <td>...</td>\n",
       "      <td>1645.854409</td>\n",
       "      <td>58.758793</td>\n",
       "      <td>70.111459</td>\n",
       "      <td>52.969139</td>\n",
       "      <td>47857.7120</td>\n",
       "      <td>49164.052238</td>\n",
       "      <td>46551.371762</td>\n",
       "      <td>-412.102238</td>\n",
       "      <td>2200.578238</td>\n",
       "      <td>0.013708</td>\n",
       "    </tr>\n",
       "    <tr>\n",
       "      <th>2021-09-02 00:00:00</th>\n",
       "      <td>48233.38</td>\n",
       "      <td>48427.57</td>\n",
       "      <td>48233.38</td>\n",
       "      <td>48427.57</td>\n",
       "      <td>3.922771e+10</td>\n",
       "      <td>10.783807</td>\n",
       "      <td>10.787825</td>\n",
       "      <td>10.783807</td>\n",
       "      <td>10.787825</td>\n",
       "      <td>47825.436860</td>\n",
       "      <td>...</td>\n",
       "      <td>1305.625931</td>\n",
       "      <td>55.118289</td>\n",
       "      <td>76.721354</td>\n",
       "      <td>66.333470</td>\n",
       "      <td>47856.2845</td>\n",
       "      <td>49159.931056</td>\n",
       "      <td>46552.637944</td>\n",
       "      <td>-732.361056</td>\n",
       "      <td>1874.932056</td>\n",
       "      <td>-0.006991</td>\n",
       "    </tr>\n",
       "    <tr>\n",
       "      <th>2021-09-02 04:00:00</th>\n",
       "      <td>48823.06</td>\n",
       "      <td>49734.07</td>\n",
       "      <td>48741.84</td>\n",
       "      <td>49638.76</td>\n",
       "      <td>3.949302e+10</td>\n",
       "      <td>10.795958</td>\n",
       "      <td>10.814445</td>\n",
       "      <td>10.794293</td>\n",
       "      <td>10.812527</td>\n",
       "      <td>48104.409651</td>\n",
       "      <td>...</td>\n",
       "      <td>2486.693224</td>\n",
       "      <td>64.069714</td>\n",
       "      <td>94.139972</td>\n",
       "      <td>80.324262</td>\n",
       "      <td>47898.8940</td>\n",
       "      <td>49374.882485</td>\n",
       "      <td>46422.905515</td>\n",
       "      <td>263.877515</td>\n",
       "      <td>3215.854485</td>\n",
       "      <td>0.006763</td>\n",
       "    </tr>\n",
       "    <tr>\n",
       "      <th>2021-09-02 08:00:00</th>\n",
       "      <td>49573.82</td>\n",
       "      <td>49847.11</td>\n",
       "      <td>49392.44</td>\n",
       "      <td>49847.11</td>\n",
       "      <td>4.030017e+10</td>\n",
       "      <td>10.811218</td>\n",
       "      <td>10.816716</td>\n",
       "      <td>10.807553</td>\n",
       "      <td>10.816716</td>\n",
       "      <td>48372.517397</td>\n",
       "      <td>...</td>\n",
       "      <td>2662.852362</td>\n",
       "      <td>65.349958</td>\n",
       "      <td>94.139972</td>\n",
       "      <td>88.333766</td>\n",
       "      <td>47937.5110</td>\n",
       "      <td>49574.652945</td>\n",
       "      <td>46300.369055</td>\n",
       "      <td>272.457055</td>\n",
       "      <td>3546.740945</td>\n",
       "      <td>0.020438</td>\n",
       "    </tr>\n",
       "    <tr>\n",
       "      <th>2021-09-02 12:00:00</th>\n",
       "      <td>49759.21</td>\n",
       "      <td>50056.55</td>\n",
       "      <td>49759.21</td>\n",
       "      <td>50050.14</td>\n",
       "      <td>3.938408e+10</td>\n",
       "      <td>10.814951</td>\n",
       "      <td>10.820909</td>\n",
       "      <td>10.814951</td>\n",
       "      <td>10.820781</td>\n",
       "      <td>48630.613182</td>\n",
       "      <td>...</td>\n",
       "      <td>2831.719047</td>\n",
       "      <td>66.598904</td>\n",
       "      <td>100.000000</td>\n",
       "      <td>96.093315</td>\n",
       "      <td>48013.7560</td>\n",
       "      <td>49890.630233</td>\n",
       "      <td>46136.881767</td>\n",
       "      <td>159.509767</td>\n",
       "      <td>3913.258233</td>\n",
       "      <td>-0.022732</td>\n",
       "    </tr>\n",
       "  </tbody>\n",
       "</table>\n",
       "<p>180 rows × 36 columns</p>\n",
       "</div>"
      ],
      "text/plain": [
       "                         open      high       low     close        volume  \\\n",
       "2021-08-03 16:00:00  38638.23  38638.23  38402.57  38402.57  2.882061e+10   \n",
       "2021-08-03 20:00:00  38205.20  38554.67  38154.24  38165.01  2.851683e+10   \n",
       "2021-08-04 00:00:00  38128.75  38419.85  38082.36  38406.36  2.797357e+10   \n",
       "2021-08-04 04:00:00  38175.78  38496.08  38175.78  38187.73  2.657571e+10   \n",
       "2021-08-04 08:00:00  38021.40  38175.25  38021.40  38162.26  2.585648e+10   \n",
       "...                       ...       ...       ...       ...           ...   \n",
       "2021-09-01 20:00:00  47534.39  48849.86  47534.39  48751.95  3.950387e+10   \n",
       "2021-09-02 00:00:00  48233.38  48427.57  48233.38  48427.57  3.922771e+10   \n",
       "2021-09-02 04:00:00  48823.06  49734.07  48741.84  49638.76  3.949302e+10   \n",
       "2021-09-02 08:00:00  49573.82  49847.11  49392.44  49847.11  4.030017e+10   \n",
       "2021-09-02 12:00:00  49759.21  50056.55  49759.21  50050.14  3.938408e+10   \n",
       "\n",
       "                      log_open   log_high    log_low  log_close         ema12  \\\n",
       "2021-08-03 16:00:00  10.561997  10.561997  10.555880  10.555880  38402.570000   \n",
       "2021-08-03 20:00:00  10.550727  10.559833  10.549392  10.549674  38273.891667   \n",
       "2021-08-04 00:00:00  10.548724  10.556330  10.547506  10.555978  38325.594088   \n",
       "2021-08-04 04:00:00  10.549957  10.558312  10.549957  10.550270  38282.075783   \n",
       "2021-08-04 08:00:00  10.545904  10.549943  10.545904  10.549602  38249.522263   \n",
       "...                        ...        ...        ...        ...           ...   \n",
       "2021-09-01 20:00:00  10.769209  10.796507  10.769209  10.794500  47715.958108   \n",
       "2021-09-02 00:00:00  10.783807  10.787825  10.783807  10.787825  47825.436860   \n",
       "2021-09-02 04:00:00  10.795958  10.814445  10.794293  10.812527  48104.409651   \n",
       "2021-09-02 08:00:00  10.811218  10.816716  10.807553  10.816716  48372.517397   \n",
       "2021-09-02 12:00:00  10.814951  10.820909  10.814951  10.820781  48630.613182   \n",
       "\n",
       "                     ...  dist_ema200        rsi           K          D  \\\n",
       "2021-08-03 16:00:00  ...     0.000000        NaN         NaN        NaN   \n",
       "2021-08-03 20:00:00  ...  -118.186100        NaN         NaN        NaN   \n",
       "2021-08-04 00:00:00  ...    81.698040        NaN         NaN        NaN   \n",
       "2021-08-04 04:00:00  ...  -102.183772        NaN         NaN        NaN   \n",
       "2021-08-04 08:00:00  ...  -101.609863        NaN         NaN        NaN   \n",
       "...                  ...          ...        ...         ...        ...   \n",
       "2021-09-01 20:00:00  ...  1645.854409  58.758793   70.111459  52.969139   \n",
       "2021-09-02 00:00:00  ...  1305.625931  55.118289   76.721354  66.333470   \n",
       "2021-09-02 04:00:00  ...  2486.693224  64.069714   94.139972  80.324262   \n",
       "2021-09-02 08:00:00  ...  2662.852362  65.349958   94.139972  88.333766   \n",
       "2021-09-02 12:00:00  ...  2831.719047  66.598904  100.000000  96.093315   \n",
       "\n",
       "                            sma  bollinger_up  bollinger_down  \\\n",
       "2021-08-03 16:00:00         NaN           NaN             NaN   \n",
       "2021-08-03 20:00:00         NaN           NaN             NaN   \n",
       "2021-08-04 00:00:00         NaN           NaN             NaN   \n",
       "2021-08-04 04:00:00         NaN           NaN             NaN   \n",
       "2021-08-04 08:00:00         NaN           NaN             NaN   \n",
       "...                         ...           ...             ...   \n",
       "2021-09-01 20:00:00  47857.7120  49164.052238    46551.371762   \n",
       "2021-09-02 00:00:00  47856.2845  49159.931056    46552.637944   \n",
       "2021-09-02 04:00:00  47898.8940  49374.882485    46422.905515   \n",
       "2021-09-02 08:00:00  47937.5110  49574.652945    46300.369055   \n",
       "2021-09-02 12:00:00  48013.7560  49890.630233    46136.881767   \n",
       "\n",
       "                     dist_bollinger_up  dist_bollinger_down   vol_roc  \n",
       "2021-08-03 16:00:00                NaN                  NaN       NaN  \n",
       "2021-08-03 20:00:00                NaN                  NaN -0.010540  \n",
       "2021-08-04 00:00:00                NaN                  NaN -0.019050  \n",
       "2021-08-04 04:00:00                NaN                  NaN -0.049971  \n",
       "2021-08-04 08:00:00                NaN                  NaN -0.027064  \n",
       "...                                ...                  ...       ...  \n",
       "2021-09-01 20:00:00        -412.102238          2200.578238  0.013708  \n",
       "2021-09-02 00:00:00        -732.361056          1874.932056 -0.006991  \n",
       "2021-09-02 04:00:00         263.877515          3215.854485  0.006763  \n",
       "2021-09-02 08:00:00         272.457055          3546.740945  0.020438  \n",
       "2021-09-02 12:00:00         159.509767          3913.258233 -0.022732  \n",
       "\n",
       "[180 rows x 36 columns]"
      ]
     },
     "execution_count": 67,
     "metadata": {},
     "output_type": "execute_result"
    }
   ],
   "source": [
    "feature_engineer(coingecko.copy())"
   ]
  },
  {
   "cell_type": "code",
   "execution_count": 68,
   "id": "41dc60d0",
   "metadata": {},
   "outputs": [],
   "source": [
    "x_gecko = get_xgecko()"
   ]
  },
  {
   "cell_type": "code",
   "execution_count": 70,
   "id": "67493bd3",
   "metadata": {},
   "outputs": [
    {
     "data": {
      "text/plain": [
       "(1, 18, 4)"
      ]
     },
     "execution_count": 70,
     "metadata": {},
     "output_type": "execute_result"
    }
   ],
   "source": [
    "x_gecko.shape"
   ]
  },
  {
   "cell_type": "code",
   "execution_count": 71,
   "id": "04aad641",
   "metadata": {},
   "outputs": [],
   "source": [
    "# data_train_scaled, scaler, min1, range1 = minmaxscaling(feature_engineer(get_train_data())[[CLOSE]])"
   ]
  },
  {
   "cell_type": "code",
   "execution_count": 72,
   "id": "c12f46c6",
   "metadata": {},
   "outputs": [
    {
     "data": {
      "text/plain": [
       "array([[[0.74042285, 0.73803862, 0.74494777, 0.4196897 ],\n",
       "        [0.7515469 , 0.74767912, 0.74299756, 0.52020007],\n",
       "        [0.73736612, 0.74901139, 0.74427708, 0.41681323],\n",
       "        [0.72816188, 0.72507362, 0.74707074, 0.36376192],\n",
       "        [0.72837378, 0.72765589, 0.74786376, 0.36566389],\n",
       "        [0.73559694, 0.73636871, 0.74725964, 0.42900694],\n",
       "        [0.73338267, 0.738038  , 0.74643352, 0.41461143],\n",
       "        [0.73262587, 0.73046071, 0.74561901, 0.40952052],\n",
       "        [0.73022706, 0.72869012, 0.74554676, 0.39292339],\n",
       "        [0.72629352, 0.72833965, 0.74472488, 0.36626795],\n",
       "        [0.73327478, 0.73106003, 0.7433914 , 0.43598694],\n",
       "        [0.73604001, 0.73391776, 0.74172934, 0.46167692],\n",
       "        [0.73314885, 0.73525854, 0.74069433, 0.43845198],\n",
       "        [0.75412931, 0.75176255, 0.7408736 , 0.5988178 ],\n",
       "        [0.74908638, 0.74523125, 0.74081118, 0.55749478],\n",
       "        [0.767916  , 0.76543807, 0.74406684, 0.65910158],\n",
       "        [0.77115509, 0.76718639, 0.74709256, 0.6736335 ],\n",
       "        [0.77431147, 0.77042567, 0.75187834, 0.68781018]]])"
      ]
     },
     "execution_count": 72,
     "metadata": {},
     "output_type": "execute_result"
    }
   ],
   "source": [
    "x_gecko"
   ]
  },
  {
   "cell_type": "code",
   "execution_count": 73,
   "id": "6f074d96",
   "metadata": {},
   "outputs": [],
   "source": [
    "x_gecko_pred = model.predict(x_gecko)"
   ]
  },
  {
   "cell_type": "code",
   "execution_count": 41,
   "id": "e1e5d553",
   "metadata": {},
   "outputs": [],
   "source": [
    "#pred = np.exp(scaler.inverse_transform(pred))"
   ]
  },
  {
   "cell_type": "code",
   "execution_count": 74,
   "id": "e2ab8b8b",
   "metadata": {},
   "outputs": [
    {
     "data": {
      "text/plain": [
       "array([[50290.555]], dtype=float32)"
      ]
     },
     "execution_count": 74,
     "metadata": {},
     "output_type": "execute_result"
    }
   ],
   "source": [
    "x_gecko_unscaled = x_gecko_pred * range1 + min1\n",
    "x_gecko_unscaled"
   ]
  },
  {
   "cell_type": "code",
   "execution_count": 43,
   "id": "8661e373",
   "metadata": {},
   "outputs": [],
   "source": [
    "#pred = scaler.inverse_transform(pred)"
   ]
  },
  {
   "cell_type": "code",
   "execution_count": null,
   "id": "e9bf5198",
   "metadata": {},
   "outputs": [],
   "source": [
    "#pred[0][0]"
   ]
  },
  {
   "cell_type": "code",
   "execution_count": null,
   "id": "88a01b1f",
   "metadata": {},
   "outputs": [],
   "source": [
    "#df = coingecko[[CLOSE]].reset_index(drop=True) #.apply(lambda x: np.exp(x))"
   ]
  },
  {
   "cell_type": "code",
   "execution_count": null,
   "id": "2d24d5e7",
   "metadata": {},
   "outputs": [],
   "source": [
    "#df1 = pd.DataFrame(pred_gecko_unscaled.reshape(4,1),columns=[CLOSE]).apply(lambda x: np.exp(x))"
   ]
  },
  {
   "cell_type": "code",
   "execution_count": null,
   "id": "876ec502",
   "metadata": {},
   "outputs": [],
   "source": [
    "# df2 = pd.concat([df,df1],axis=0).reset_index(drop=True)\n",
    "# df2"
   ]
  },
  {
   "cell_type": "code",
   "execution_count": null,
   "id": "341e5612",
   "metadata": {},
   "outputs": [],
   "source": []
  },
  {
   "cell_type": "code",
   "execution_count": null,
   "id": "ae9dd2d1",
   "metadata": {},
   "outputs": [],
   "source": []
  },
  {
   "cell_type": "code",
   "execution_count": null,
   "id": "479afc69",
   "metadata": {},
   "outputs": [],
   "source": [
    "coingecko = feature_engineer(get_coingecko())"
   ]
  },
  {
   "cell_type": "code",
   "execution_count": null,
   "id": "43909737",
   "metadata": {},
   "outputs": [],
   "source": [
    "coingecko[-20:]"
   ]
  },
  {
   "cell_type": "code",
   "execution_count": null,
   "id": "fcba72de",
   "metadata": {},
   "outputs": [],
   "source": [
    "go.Candlestick(\n",
    "            x=df.index,  #x=filtered_data.index,\n",
    "            open=df['open'],  #open=filtered_data['open'],\n",
    "            high=df['high'],  #high=filtered_data['high'],\n",
    "            low=df['low'],  #low=filtered_data['low'],\n",
    "            close=df['close'],  #close=filtered_data['close']\n",
    "            name=''\n",
    "        )"
   ]
  },
  {
   "cell_type": "code",
   "execution_count": null,
   "id": "955ccb1f",
   "metadata": {},
   "outputs": [],
   "source": [
    "last_date = coingecko.index[-1]"
   ]
  },
  {
   "cell_type": "code",
   "execution_count": null,
   "id": "29290758",
   "metadata": {},
   "outputs": [],
   "source": [
    "last_date + pd.Timedelta()"
   ]
  },
  {
   "cell_type": "code",
   "execution_count": null,
   "id": "34a3805d",
   "metadata": {},
   "outputs": [],
   "source": [
    "random_val = [80000]"
   ]
  },
  {
   "cell_type": "code",
   "execution_count": null,
   "id": "733974a6",
   "metadata": {},
   "outputs": [],
   "source": [
    "df_pred = pd.DataFrame(random_val, columns=['close'])"
   ]
  },
  {
   "cell_type": "code",
   "execution_count": null,
   "id": "c8047b02",
   "metadata": {},
   "outputs": [],
   "source": [
    "df_pred"
   ]
  },
  {
   "cell_type": "code",
   "execution_count": null,
   "id": "8fcff6e5",
   "metadata": {},
   "outputs": [],
   "source": [
    "coingecko.append(pd.Series(random_val))"
   ]
  },
  {
   "cell_type": "markdown",
   "id": "abe478d3",
   "metadata": {},
   "source": [
    "# Whats going on?!?"
   ]
  },
  {
   "cell_type": "code",
   "execution_count": null,
   "id": "5fe0afb3",
   "metadata": {},
   "outputs": [],
   "source": [
    "data = feature_engineer(get_train_data())\n",
    "data.dropna(inplace=True)\n",
    "data = data.iloc[1: , :]"
   ]
  },
  {
   "cell_type": "code",
   "execution_count": null,
   "id": "425ba732",
   "metadata": {},
   "outputs": [],
   "source": [
    "data.drop(columns=['open','high','low','close'], inplace = True)"
   ]
  },
  {
   "cell_type": "code",
   "execution_count": null,
   "id": "04a313e7",
   "metadata": {},
   "outputs": [],
   "source": [
    "data"
   ]
  },
  {
   "cell_type": "code",
   "execution_count": null,
   "id": "6ad626ae",
   "metadata": {},
   "outputs": [],
   "source": [
    "data['boll_width'] = data['bollinger_up'] - data['bollinger_down']"
   ]
  },
  {
   "cell_type": "code",
   "execution_count": null,
   "id": "b7dc6856",
   "metadata": {},
   "outputs": [],
   "source": [
    "data"
   ]
  },
  {
   "cell_type": "code",
   "execution_count": null,
   "id": "e28d6514",
   "metadata": {},
   "outputs": [],
   "source": [
    "import seaborn as sns"
   ]
  },
  {
   "cell_type": "code",
   "execution_count": null,
   "id": "3e586dea",
   "metadata": {},
   "outputs": [],
   "source": [
    "df1 = data[['log_close', 'vol_roc', 'ema12','ema26','ema20','ema50','ema34','ema55', 'bollinger_up','bollinger_down']].corr()"
   ]
  },
  {
   "cell_type": "code",
   "execution_count": null,
   "id": "6cc5e158",
   "metadata": {},
   "outputs": [],
   "source": [
    "sns.heatmap(df1.corr())"
   ]
  },
  {
   "cell_type": "code",
   "execution_count": null,
   "id": "79d9549d",
   "metadata": {},
   "outputs": [],
   "source": [
    "data.keys()"
   ]
  },
  {
   "cell_type": "code",
   "execution_count": null,
   "id": "9ba17a02",
   "metadata": {},
   "outputs": [],
   "source": [
    "df2 = data[['log_close','vol_roc',\n",
    "       'dist_ema12', 'dist_ema26', 'dist_ema20',\n",
    "       'dist_ema50', 'dist_ema34', 'dist_ema55', 'dist_bollinger_up',\n",
    "       'dist_bollinger_down']]"
   ]
  },
  {
   "cell_type": "code",
   "execution_count": null,
   "id": "0525ae9e",
   "metadata": {},
   "outputs": [],
   "source": [
    "sns.heatmap(df2.corr())"
   ]
  },
  {
   "cell_type": "code",
   "execution_count": null,
   "id": "6a5fe3b0",
   "metadata": {},
   "outputs": [],
   "source": [
    "data.keys()"
   ]
  },
  {
   "cell_type": "code",
   "execution_count": null,
   "id": "8e611008",
   "metadata": {},
   "outputs": [],
   "source": [
    "sns.heatmap(data[['log_close', 'ema21', 'dist_ema21', 'ema99', 'dist_ema99']].corr())"
   ]
  },
  {
   "cell_type": "code",
   "execution_count": null,
   "id": "aeb5eb69",
   "metadata": {},
   "outputs": [],
   "source": []
  },
  {
   "cell_type": "code",
   "execution_count": null,
   "id": "7b97b37e",
   "metadata": {},
   "outputs": [],
   "source": [
    "df = pd.DataFrame(data[['log_close','vol_roc']])"
   ]
  },
  {
   "cell_type": "code",
   "execution_count": null,
   "id": "6c513b1b",
   "metadata": {},
   "outputs": [],
   "source": [
    "# for i in [12, 26, 20, 50, 34, 55]:\n",
    "#     df[f'dist_ema{i}'] = data['log_close'] - data[f'ema{i}']"
   ]
  },
  {
   "cell_type": "code",
   "execution_count": null,
   "id": "19c2a029",
   "metadata": {},
   "outputs": [],
   "source": [
    "# for i in ['bollinger_up', 'bollinger_down']:\n",
    "#     df[f'dist_{i}'] = data['log_close'] - data[i]"
   ]
  },
  {
   "cell_type": "code",
   "execution_count": null,
   "id": "3adcb420",
   "metadata": {},
   "outputs": [],
   "source": []
  },
  {
   "cell_type": "code",
   "execution_count": null,
   "id": "422091f6",
   "metadata": {},
   "outputs": [],
   "source": [
    "df.corr()"
   ]
  },
  {
   "cell_type": "code",
   "execution_count": null,
   "id": "5a9a80da",
   "metadata": {},
   "outputs": [],
   "source": [
    "def feature_engineer(data):\n",
    "    \"\"\"\n",
    "    Adds the EMAs, StochRSI, BollingerBands and Volume Rate of Change to the dataframe\n",
    "    \"\"\"\n",
    "    add_ema(data)\n",
    "    add_stoch_rsi(data)\n",
    "    add_bollinger(data,data.log_close)\n",
    "    add_vol_roc(data)\n",
    "    return data"
   ]
  },
  {
   "cell_type": "code",
   "execution_count": null,
   "id": "29a7ab78",
   "metadata": {},
   "outputs": [],
   "source": [
    "df.keys()"
   ]
  },
  {
   "cell_type": "code",
   "execution_count": null,
   "id": "d04e31e2",
   "metadata": {},
   "outputs": [],
   "source": [
    "data[['log_close', 'vol_roc', 'ema12','ema26','ema20','ema50','ema34','ema55', 'bollinger_up','bollinger_down']].corr()"
   ]
  },
  {
   "cell_type": "markdown",
   "id": "6fbe6340",
   "metadata": {},
   "source": [
    "# redefining get_xy"
   ]
  },
  {
   "cell_type": "code",
   "execution_count": null,
   "id": "d41fccd5",
   "metadata": {},
   "outputs": [],
   "source": [
    "LENGTH = 60\n",
    "HORIZON = 1\n",
    "SELECTED_FEATURES=['log_price']"
   ]
  },
  {
   "cell_type": "code",
   "execution_count": null,
   "id": "76d392be",
   "metadata": {},
   "outputs": [],
   "source": [
    "def get_xy(data_train_scaled, length=LENGTH, horizon=HORIZON):\n",
    "    y_train = []\n",
    "    x_train = [\n",
    "        data_train_scaled[i - length:i, 0] for i in range(length, len(data_train_scaled))\n",
    "        ]\n",
    "    y_train = [\n",
    "        data_train_scaled[i, 0] for i in range(length, len(data_train_scaled))\n",
    "    ]\n",
    "\n",
    "    # Convert the x_train and y_train to numpy arrays\n",
    "    x_train, y_train = np.array(x_train), np.array(y_train)\n",
    "\n",
    "    # Reshape the data\n",
    "    x_train = np.reshape(x_train, (x_train.shape[0], x_train.shape[1], len(SELECTED_FEATURES)))\n",
    "    return x_train, y_train"
   ]
  },
  {
   "cell_type": "code",
   "execution_count": null,
   "id": "3bcdabf7",
   "metadata": {},
   "outputs": [],
   "source": [
    "data_train_scaled, scaler = minmaxscaling(feature_engineer(get_train_data())[['log_close']])"
   ]
  },
  {
   "cell_type": "code",
   "execution_count": null,
   "id": "6b20c6a6",
   "metadata": {},
   "outputs": [],
   "source": [
    "x1,y1= get_xy(data_train_scaled, 60,1)"
   ]
  },
  {
   "cell_type": "code",
   "execution_count": null,
   "id": "750075a2",
   "metadata": {},
   "outputs": [],
   "source": [
    "x.shape"
   ]
  },
  {
   "cell_type": "code",
   "execution_count": null,
   "id": "d5839f27",
   "metadata": {},
   "outputs": [],
   "source": [
    "y.shape"
   ]
  },
  {
   "cell_type": "code",
   "execution_count": null,
   "id": "23c59095",
   "metadata": {},
   "outputs": [],
   "source": [
    "y"
   ]
  },
  {
   "cell_type": "code",
   "execution_count": null,
   "id": "7c4c3e5d",
   "metadata": {},
   "outputs": [],
   "source": [
    "def get_xy_alt(data_train_scaled, window_size=60, horizon=1):\n",
    "    data_train_subsequences = []\n",
    "    fake_y_train = []\n",
    "    for k in range(len(data_train_scaled)-(window_size-1)-horizon):\n",
    "        data_train_subsequences.append(data_train_scaled[k:k+window_size])\n",
    "        fake_y_train.append(data_train_scaled[k+window_size]) #add [0] for log_price to be predicted\n",
    "    \n",
    "    X_train = np.array(data_train_subsequences)\n",
    "    y_train = np.array(fake_y_train)[:,0].reshape(-1,1)\n",
    "    return X_train, y_train"
   ]
  },
  {
   "cell_type": "code",
   "execution_count": null,
   "id": "e17999d8",
   "metadata": {},
   "outputs": [],
   "source": [
    "x2,y2 = get_xy_alt(data_train_scaled,60,1)"
   ]
  },
  {
   "cell_type": "code",
   "execution_count": null,
   "id": "c9d96833",
   "metadata": {},
   "outputs": [],
   "source": [
    "y2.shape"
   ]
  },
  {
   "cell_type": "code",
   "execution_count": null,
   "id": "3346ba3e",
   "metadata": {},
   "outputs": [],
   "source": [
    "y1"
   ]
  },
  {
   "cell_type": "code",
   "execution_count": null,
   "id": "b7e42bf1",
   "metadata": {},
   "outputs": [],
   "source": [
    "y2"
   ]
  },
  {
   "cell_type": "code",
   "execution_count": null,
   "id": "912fefee",
   "metadata": {},
   "outputs": [],
   "source": [
    "coingecko = feature_engineer(get_coingecko())\n",
    "coingecko['gradient'] = coingecko['close'].diff()"
   ]
  },
  {
   "cell_type": "code",
   "execution_count": null,
   "id": "43e4b500",
   "metadata": {},
   "outputs": [],
   "source": [
    "coingecko.keys()"
   ]
  },
  {
   "cell_type": "code",
   "execution_count": null,
   "id": "ad44a80d",
   "metadata": {},
   "outputs": [],
   "source": [
    "plt.plot(coingecko['gradient'])"
   ]
  },
  {
   "cell_type": "code",
   "execution_count": null,
   "id": "ff4693cf",
   "metadata": {},
   "outputs": [],
   "source": [
    "coingecko.corr()"
   ]
  },
  {
   "cell_type": "code",
   "execution_count": null,
   "id": "69733818",
   "metadata": {},
   "outputs": [],
   "source": [
    "import matplotlib.pyplot as plt"
   ]
  },
  {
   "cell_type": "code",
   "execution_count": null,
   "id": "7ba36e7b",
   "metadata": {},
   "outputs": [],
   "source": []
  },
  {
   "cell_type": "code",
   "execution_count": null,
   "id": "89ed9da6",
   "metadata": {},
   "outputs": [],
   "source": [
    "plt.scatter(coingecko['log_close'], coingecko['ema99'])"
   ]
  },
  {
   "cell_type": "code",
   "execution_count": null,
   "id": "e786b13a",
   "metadata": {},
   "outputs": [],
   "source": []
  }
 ],
 "metadata": {
  "kernelspec": {
   "display_name": "Python 3 (ipykernel)",
   "language": "python",
   "name": "python3"
  },
  "language_info": {
   "codemirror_mode": {
    "name": "ipython",
    "version": 3
   },
   "file_extension": ".py",
   "mimetype": "text/x-python",
   "name": "python",
   "nbconvert_exporter": "python",
   "pygments_lexer": "ipython3",
   "version": "3.8.6"
  },
  "toc": {
   "base_numbering": 1,
   "nav_menu": {},
   "number_sections": true,
   "sideBar": true,
   "skip_h1_title": false,
   "title_cell": "Table of Contents",
   "title_sidebar": "Contents",
   "toc_cell": false,
   "toc_position": {},
   "toc_section_display": true,
   "toc_window_display": false
  }
 },
 "nbformat": 4,
 "nbformat_minor": 5
}
