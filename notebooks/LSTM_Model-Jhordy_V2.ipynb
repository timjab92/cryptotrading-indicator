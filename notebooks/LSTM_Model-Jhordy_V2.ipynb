{
 "cells": [
  {
   "cell_type": "markdown",
   "id": "1570fedc",
   "metadata": {},
   "source": [
    "https://www.analyticsvidhya.com/blog/2021/05/bitcoin-price-prediction-using-recurrent-neural-networks-and-lstm/\n",
    "\n",
    "I am gonna design the model exactly like the one of this post without our features into the RNN and LSTM model.\n",
    "\n",
    "Characteristic of the model:\n",
    "1. Based in normal price\n",
    "2. not Scaled y_test and y_train"
   ]
  },
  {
   "cell_type": "markdown",
   "id": "ddbdf8e4",
   "metadata": {},
   "source": [
    "# Importing"
   ]
  },
  {
   "cell_type": "code",
   "execution_count": 1,
   "id": "b7e618c2",
   "metadata": {},
   "outputs": [
    {
     "name": "stderr",
     "output_type": "stream",
     "text": [
      "2021-08-26 08:23:29.993549: W tensorflow/stream_executor/platform/default/dso_loader.cc:64] Could not load dynamic library 'libcudart.so.11.0'; dlerror: libcudart.so.11.0: cannot open shared object file: No such file or directory\n",
      "2021-08-26 08:23:29.993597: I tensorflow/stream_executor/cuda/cudart_stub.cc:29] Ignore above cudart dlerror if you do not have a GPU set up on your machine.\n"
     ]
    }
   ],
   "source": [
    "import numpy as np\n",
    "import matplotlib.pyplot as plt\n",
    "import pandas as pd\n",
    "from sklearn.preprocessing import MinMaxScaler\n",
    "from sklearn.model_selection import train_test_split\n",
    "from tensorflow.keras import Sequential\n",
    "from tensorflow.keras.layers import Dense, LSTM, Dropout\n",
    "from tensorflow.keras.callbacks import EarlyStopping"
   ]
  },
  {
   "cell_type": "markdown",
   "id": "13c4b7d6",
   "metadata": {},
   "source": [
    "# Data importing and preprocessing"
   ]
  },
  {
   "cell_type": "code",
   "execution_count": 2,
   "id": "d0985cbc",
   "metadata": {},
   "outputs": [
    {
     "data": {
      "text/html": [
       "<div>\n",
       "<style scoped>\n",
       "    .dataframe tbody tr th:only-of-type {\n",
       "        vertical-align: middle;\n",
       "    }\n",
       "\n",
       "    .dataframe tbody tr th {\n",
       "        vertical-align: top;\n",
       "    }\n",
       "\n",
       "    .dataframe thead th {\n",
       "        text-align: right;\n",
       "    }\n",
       "</style>\n",
       "<table border=\"1\" class=\"dataframe\">\n",
       "  <thead>\n",
       "    <tr style=\"text-align: right;\">\n",
       "      <th></th>\n",
       "      <th>open</th>\n",
       "      <th>high</th>\n",
       "      <th>low</th>\n",
       "      <th>close</th>\n",
       "      <th>volume</th>\n",
       "    </tr>\n",
       "    <tr>\n",
       "      <th>date</th>\n",
       "      <th></th>\n",
       "      <th></th>\n",
       "      <th></th>\n",
       "      <th></th>\n",
       "      <th></th>\n",
       "    </tr>\n",
       "  </thead>\n",
       "  <tbody>\n",
       "    <tr>\n",
       "      <th>2011-12-31 08:00:00</th>\n",
       "      <td>4.390000</td>\n",
       "      <td>4.390000</td>\n",
       "      <td>4.390000</td>\n",
       "      <td>4.390000</td>\n",
       "      <td>0.455581</td>\n",
       "    </tr>\n",
       "    <tr>\n",
       "      <th>2011-12-31 16:00:00</th>\n",
       "      <td>4.490000</td>\n",
       "      <td>4.513333</td>\n",
       "      <td>4.490000</td>\n",
       "      <td>4.513333</td>\n",
       "      <td>31.620766</td>\n",
       "    </tr>\n",
       "    <tr>\n",
       "      <th>2012-01-01 04:00:00</th>\n",
       "      <td>4.580000</td>\n",
       "      <td>4.580000</td>\n",
       "      <td>4.580000</td>\n",
       "      <td>4.580000</td>\n",
       "      <td>1.502000</td>\n",
       "    </tr>\n",
       "    <tr>\n",
       "      <th>2012-01-01 16:00:00</th>\n",
       "      <td>4.840000</td>\n",
       "      <td>4.840000</td>\n",
       "      <td>4.840000</td>\n",
       "      <td>4.840000</td>\n",
       "      <td>10.000000</td>\n",
       "    </tr>\n",
       "    <tr>\n",
       "      <th>2012-01-01 20:00:00</th>\n",
       "      <td>5.000000</td>\n",
       "      <td>5.000000</td>\n",
       "      <td>5.000000</td>\n",
       "      <td>5.000000</td>\n",
       "      <td>10.100000</td>\n",
       "    </tr>\n",
       "    <tr>\n",
       "      <th>...</th>\n",
       "      <td>...</td>\n",
       "      <td>...</td>\n",
       "      <td>...</td>\n",
       "      <td>...</td>\n",
       "      <td>...</td>\n",
       "    </tr>\n",
       "    <tr>\n",
       "      <th>2021-08-22 12:00:00</th>\n",
       "      <td>48769.308417</td>\n",
       "      <td>48787.711375</td>\n",
       "      <td>48749.417500</td>\n",
       "      <td>48769.737750</td>\n",
       "      <td>1.697971</td>\n",
       "    </tr>\n",
       "    <tr>\n",
       "      <th>2021-08-22 16:00:00</th>\n",
       "      <td>48591.665708</td>\n",
       "      <td>48605.941333</td>\n",
       "      <td>48574.903375</td>\n",
       "      <td>48591.580833</td>\n",
       "      <td>0.463362</td>\n",
       "    </tr>\n",
       "    <tr>\n",
       "      <th>2021-08-22 20:00:00</th>\n",
       "      <td>48807.713542</td>\n",
       "      <td>48825.874417</td>\n",
       "      <td>48791.558000</td>\n",
       "      <td>48810.168750</td>\n",
       "      <td>0.605696</td>\n",
       "    </tr>\n",
       "    <tr>\n",
       "      <th>2021-08-23 00:00:00</th>\n",
       "      <td>49779.332208</td>\n",
       "      <td>49803.461792</td>\n",
       "      <td>49759.784208</td>\n",
       "      <td>49783.003708</td>\n",
       "      <td>1.941360</td>\n",
       "    </tr>\n",
       "    <tr>\n",
       "      <th>2021-08-23 04:00:00</th>\n",
       "      <td>50278.596788</td>\n",
       "      <td>50292.908182</td>\n",
       "      <td>50261.680727</td>\n",
       "      <td>50277.475152</td>\n",
       "      <td>1.908007</td>\n",
       "    </tr>\n",
       "  </tbody>\n",
       "</table>\n",
       "<p>20840 rows × 5 columns</p>\n",
       "</div>"
      ],
      "text/plain": [
       "                             open          high           low         close  \\\n",
       "date                                                                          \n",
       "2011-12-31 08:00:00      4.390000      4.390000      4.390000      4.390000   \n",
       "2011-12-31 16:00:00      4.490000      4.513333      4.490000      4.513333   \n",
       "2012-01-01 04:00:00      4.580000      4.580000      4.580000      4.580000   \n",
       "2012-01-01 16:00:00      4.840000      4.840000      4.840000      4.840000   \n",
       "2012-01-01 20:00:00      5.000000      5.000000      5.000000      5.000000   \n",
       "...                           ...           ...           ...           ...   \n",
       "2021-08-22 12:00:00  48769.308417  48787.711375  48749.417500  48769.737750   \n",
       "2021-08-22 16:00:00  48591.665708  48605.941333  48574.903375  48591.580833   \n",
       "2021-08-22 20:00:00  48807.713542  48825.874417  48791.558000  48810.168750   \n",
       "2021-08-23 00:00:00  49779.332208  49803.461792  49759.784208  49783.003708   \n",
       "2021-08-23 04:00:00  50278.596788  50292.908182  50261.680727  50277.475152   \n",
       "\n",
       "                        volume  \n",
       "date                            \n",
       "2011-12-31 08:00:00   0.455581  \n",
       "2011-12-31 16:00:00  31.620766  \n",
       "2012-01-01 04:00:00   1.502000  \n",
       "2012-01-01 16:00:00  10.000000  \n",
       "2012-01-01 20:00:00  10.100000  \n",
       "...                        ...  \n",
       "2021-08-22 12:00:00   1.697971  \n",
       "2021-08-22 16:00:00   0.463362  \n",
       "2021-08-22 20:00:00   0.605696  \n",
       "2021-08-23 00:00:00   1.941360  \n",
       "2021-08-23 04:00:00   1.908007  \n",
       "\n",
       "[20840 rows x 5 columns]"
      ]
     },
     "execution_count": 2,
     "metadata": {},
     "output_type": "execute_result"
    }
   ],
   "source": [
    "data = pd.read_csv(\"../data/BTCUSD_4hours.csv\").drop(columns=[\"Unnamed: 0\", \"log_open\", \"log_high\", \"log_low\", \"log_close\"]).set_index(\"date\")\n",
    "data"
   ]
  },
  {
   "cell_type": "markdown",
   "id": "6d7da687",
   "metadata": {},
   "source": [
    "## Data Splitting"
   ]
  },
  {
   "cell_type": "markdown",
   "id": "41b57ac7",
   "metadata": {},
   "source": [
    "Splitting data into trainning and test data in a ratio of 80:20"
   ]
  },
  {
   "cell_type": "code",
   "execution_count": 3,
   "id": "efb68ed8",
   "metadata": {},
   "outputs": [],
   "source": [
    "train_len = int(len(data) * 0.8)\n",
    "training_data  = data[:train_len]\n",
    "data_test = data[train_len:]"
   ]
  },
  {
   "cell_type": "markdown",
   "id": "c18b1ad0",
   "metadata": {},
   "source": [
    "## Scaling Data"
   ]
  },
  {
   "cell_type": "markdown",
   "id": "9793fab3",
   "metadata": {},
   "source": [
    "Scaling X data with minmax"
   ]
  },
  {
   "cell_type": "code",
   "execution_count": 4,
   "id": "39c7358c",
   "metadata": {},
   "outputs": [
    {
     "data": {
      "text/plain": [
       "array([[8.33515701e-06, 8.33079600e-06, 8.34486926e-06, 8.33537742e-06,\n",
       "        6.16897150e-04],\n",
       "       [1.34644844e-05, 1.46536566e-05, 1.34801734e-05, 1.46617152e-05,\n",
       "        4.37644267e-02],\n",
       "       [1.80808790e-05, 1.80714190e-05, 1.81019472e-05, 1.80813572e-05,\n",
       "        2.06564198e-03],\n",
       "       ...,\n",
       "       [4.19168736e-01, 4.19129794e-01, 4.19404175e-01, 4.19028329e-01,\n",
       "        4.69773021e-03],\n",
       "       [4.20168032e-01, 4.20207430e-01, 4.20423019e-01, 4.20117718e-01,\n",
       "        3.80389704e-03],\n",
       "       [4.17432337e-01, 4.17424480e-01, 4.17557607e-01, 4.17249946e-01,\n",
       "        9.23247959e-03]])"
      ]
     },
     "execution_count": 4,
     "metadata": {},
     "output_type": "execute_result"
    }
   ],
   "source": [
    "scaler = MinMaxScaler()\n",
    "\n",
    "training_data = scaler.fit_transform(training_data)\n",
    "training_data"
   ]
  },
  {
   "cell_type": "markdown",
   "id": "8f5a2beb",
   "metadata": {},
   "source": [
    "## Data Subsequences"
   ]
  },
  {
   "cell_type": "code",
   "execution_count": 5,
   "id": "e02d8188",
   "metadata": {},
   "outputs": [],
   "source": [
    "X_train = [] \n",
    "Y_train = []\n",
    "for i in range(60, training_data.shape[0]):\n",
    "    X_train.append(training_data[i-60:i])\n",
    "    Y_train.append(training_data[i,3])"
   ]
  },
  {
   "cell_type": "code",
   "execution_count": 6,
   "id": "53f7f9cf",
   "metadata": {},
   "outputs": [
    {
     "data": {
      "text/plain": [
       "array([9.45103563e-05, 1.04256336e-04, 1.37084899e-04, ...,\n",
       "       4.19028329e-01, 4.20117718e-01, 4.17249946e-01])"
      ]
     },
     "execution_count": 6,
     "metadata": {},
     "output_type": "execute_result"
    }
   ],
   "source": [
    "X_train, Y_train = np.array(X_train), np.array(Y_train)\n",
    "Y_train"
   ]
  },
  {
   "cell_type": "markdown",
   "id": "69cb3aea",
   "metadata": {},
   "source": [
    "# Model"
   ]
  },
  {
   "cell_type": "code",
   "execution_count": 7,
   "id": "8e4e7aa4",
   "metadata": {},
   "outputs": [
    {
     "name": "stderr",
     "output_type": "stream",
     "text": [
      "2021-08-26 08:23:30.942579: W tensorflow/stream_executor/platform/default/dso_loader.cc:64] Could not load dynamic library 'libcuda.so.1'; dlerror: libcuda.so.1: cannot open shared object file: No such file or directory\n",
      "2021-08-26 08:23:30.942617: W tensorflow/stream_executor/cuda/cuda_driver.cc:269] failed call to cuInit: UNKNOWN ERROR (303)\n",
      "2021-08-26 08:23:30.942645: I tensorflow/stream_executor/cuda/cuda_diagnostics.cc:156] kernel driver does not appear to be running on this host (LAPTOP-QQH7A32G): /proc/driver/nvidia/version does not exist\n",
      "2021-08-26 08:23:30.942826: I tensorflow/core/platform/cpu_feature_guard.cc:142] This TensorFlow binary is optimized with oneAPI Deep Neural Network Library (oneDNN) to use the following CPU instructions in performance-critical operations:  AVX2 AVX512F FMA\n",
      "To enable them in other operations, rebuild TensorFlow with the appropriate compiler flags.\n"
     ]
    },
    {
     "name": "stdout",
     "output_type": "stream",
     "text": [
      "Model: \"sequential\"\n",
      "_________________________________________________________________\n",
      "Layer (type)                 Output Shape              Param #   \n",
      "=================================================================\n",
      "lstm (LSTM)                  (None, 60, 50)            11200     \n",
      "_________________________________________________________________\n",
      "dropout (Dropout)            (None, 60, 50)            0         \n",
      "_________________________________________________________________\n",
      "lstm_1 (LSTM)                (None, 60, 60)            26640     \n",
      "_________________________________________________________________\n",
      "dropout_1 (Dropout)          (None, 60, 60)            0         \n",
      "_________________________________________________________________\n",
      "lstm_2 (LSTM)                (None, 60, 80)            45120     \n",
      "_________________________________________________________________\n",
      "dropout_2 (Dropout)          (None, 60, 80)            0         \n",
      "_________________________________________________________________\n",
      "lstm_3 (LSTM)                (None, 120)               96480     \n",
      "_________________________________________________________________\n",
      "dropout_3 (Dropout)          (None, 120)               0         \n",
      "_________________________________________________________________\n",
      "dense (Dense)                (None, 1)                 121       \n",
      "=================================================================\n",
      "Total params: 179,561\n",
      "Trainable params: 179,561\n",
      "Non-trainable params: 0\n",
      "_________________________________________________________________\n"
     ]
    }
   ],
   "source": [
    "model = Sequential() \n",
    "model.add(LSTM(units = 50, activation = 'relu', return_sequences = True, input_shape = (X_train.shape[1], 5)))\n",
    "model.add(Dropout(0.2)) \n",
    "model.add(LSTM(units = 60, activation = 'relu', return_sequences = True))\n",
    "model.add(Dropout(0.3)) \n",
    "model.add(LSTM(units = 80, activation = 'relu', return_sequences = True))\n",
    "model.add(Dropout(0.4)) \n",
    "model.add(LSTM(units = 120, activation = 'relu'))\n",
    "model.add(Dropout(0.5)) \n",
    "model.add(Dense(units =1))\n",
    "model.summary()"
   ]
  },
  {
   "cell_type": "code",
   "execution_count": 8,
   "id": "e10d6f9c",
   "metadata": {},
   "outputs": [],
   "source": [
    "model.compile(optimizer = 'adam', loss = 'mean_squared_error', metrics=\"mae\")"
   ]
  },
  {
   "cell_type": "code",
   "execution_count": 9,
   "id": "b25865c1",
   "metadata": {},
   "outputs": [],
   "source": [
    "es = EarlyStopping(patience=3, restore_best_weights=True)"
   ]
  },
  {
   "cell_type": "code",
   "execution_count": 10,
   "id": "ea90bd79",
   "metadata": {},
   "outputs": [
    {
     "name": "stdout",
     "output_type": "stream",
     "text": [
      "Epoch 1/20\n"
     ]
    },
    {
     "name": "stderr",
     "output_type": "stream",
     "text": [
      "2021-08-26 08:23:31.301903: I tensorflow/compiler/mlir/mlir_graph_optimization_pass.cc:185] None of the MLIR Optimization Passes are enabled (registered 2)\n"
     ]
    },
    {
     "name": "stdout",
     "output_type": "stream",
     "text": [
      "299/299 [==============================] - 32s 101ms/step - loss: 0.0026 - mae: 0.0244 - val_loss: 0.0014 - val_mae: 0.0266\n",
      "Epoch 2/20\n",
      "299/299 [==============================] - 37s 123ms/step - loss: 0.0012 - mae: 0.0162 - val_loss: 0.0015 - val_mae: 0.0321\n",
      "Epoch 3/20\n",
      "299/299 [==============================] - 38s 127ms/step - loss: 0.0011 - mae: 0.0167 - val_loss: 0.0016 - val_mae: 0.0301\n",
      "Epoch 4/20\n",
      "299/299 [==============================] - 39s 129ms/step - loss: 9.2626e-04 - mae: 0.0165 - val_loss: 0.0041 - val_mae: 0.0558\n"
     ]
    }
   ],
   "source": [
    "history= model.fit(X_train, Y_train, \n",
    "                   epochs = 20, \n",
    "                   batch_size = 50, \n",
    "                   validation_split=0.1, \n",
    "                   callbacks=[es]\n",
    "                  )"
   ]
  },
  {
   "cell_type": "code",
   "execution_count": 11,
   "id": "12cf0b44",
   "metadata": {},
   "outputs": [
    {
     "data": {
      "image/png": "[encoded data removed]",
      "text/plain": [
       "<Figure size 432x288 with 1 Axes>"
      ]
     },
     "metadata": {
      "needs_background": "light"
     },
     "output_type": "display_data"
    }
   ],
   "source": [
    "loss = history.history['loss']\n",
    "val_loss = history.history['val_loss']\n",
    "epochs = range(len(loss))\n",
    "plt.figure()\n",
    "plt.plot(epochs, loss, 'b', label='Training loss')\n",
    "plt.plot(epochs, val_loss, 'r', label='Validation loss')\n",
    "plt.title(\"Training and Validation Loss\")\n",
    "plt.legend()\n",
    "plt.show()"
   ]
  },
  {
   "cell_type": "markdown",
   "id": "2a874dd5",
   "metadata": {},
   "source": [
    "# Predicting"
   ]
  },
  {
   "cell_type": "code",
   "execution_count": 12,
   "id": "ff4cd38c",
   "metadata": {},
   "outputs": [
    {
     "data": {
      "text/html": [
       "<div>\n",
       "<style scoped>\n",
       "    .dataframe tbody tr th:only-of-type {\n",
       "        vertical-align: middle;\n",
       "    }\n",
       "\n",
       "    .dataframe tbody tr th {\n",
       "        vertical-align: top;\n",
       "    }\n",
       "\n",
       "    .dataframe thead th {\n",
       "        text-align: right;\n",
       "    }\n",
       "</style>\n",
       "<table border=\"1\" class=\"dataframe\">\n",
       "  <thead>\n",
       "    <tr style=\"text-align: right;\">\n",
       "      <th></th>\n",
       "      <th>open</th>\n",
       "      <th>high</th>\n",
       "      <th>low</th>\n",
       "      <th>close</th>\n",
       "      <th>volume</th>\n",
       "    </tr>\n",
       "    <tr>\n",
       "      <th>date</th>\n",
       "      <th></th>\n",
       "      <th></th>\n",
       "      <th></th>\n",
       "      <th></th>\n",
       "      <th></th>\n",
       "    </tr>\n",
       "  </thead>\n",
       "  <tbody>\n",
       "    <tr>\n",
       "      <th>2021-08-13 08:00:00</th>\n",
       "      <td>46323.764042</td>\n",
       "      <td>46344.453167</td>\n",
       "      <td>46302.557250</td>\n",
       "      <td>46324.655542</td>\n",
       "      <td>2.315832</td>\n",
       "    </tr>\n",
       "    <tr>\n",
       "      <th>2021-08-13 12:00:00</th>\n",
       "      <td>46448.522375</td>\n",
       "      <td>46470.757750</td>\n",
       "      <td>46427.801042</td>\n",
       "      <td>46450.762083</td>\n",
       "      <td>2.002964</td>\n",
       "    </tr>\n",
       "    <tr>\n",
       "      <th>2021-08-13 16:00:00</th>\n",
       "      <td>46470.304375</td>\n",
       "      <td>46485.275083</td>\n",
       "      <td>46455.076333</td>\n",
       "      <td>46471.016375</td>\n",
       "      <td>0.786690</td>\n",
       "    </tr>\n",
       "    <tr>\n",
       "      <th>2021-08-13 20:00:00</th>\n",
       "      <td>47596.672292</td>\n",
       "      <td>47629.672333</td>\n",
       "      <td>47577.008875</td>\n",
       "      <td>47606.697917</td>\n",
       "      <td>4.069320</td>\n",
       "    </tr>\n",
       "    <tr>\n",
       "      <th>2021-08-14 00:00:00</th>\n",
       "      <td>47634.651500</td>\n",
       "      <td>47643.631875</td>\n",
       "      <td>47622.239208</td>\n",
       "      <td>47632.714792</td>\n",
       "      <td>0.518105</td>\n",
       "    </tr>\n",
       "  </tbody>\n",
       "</table>\n",
       "</div>"
      ],
      "text/plain": [
       "                             open          high           low         close  \\\n",
       "date                                                                          \n",
       "2021-08-13 08:00:00  46323.764042  46344.453167  46302.557250  46324.655542   \n",
       "2021-08-13 12:00:00  46448.522375  46470.757750  46427.801042  46450.762083   \n",
       "2021-08-13 16:00:00  46470.304375  46485.275083  46455.076333  46471.016375   \n",
       "2021-08-13 20:00:00  47596.672292  47629.672333  47577.008875  47606.697917   \n",
       "2021-08-14 00:00:00  47634.651500  47643.631875  47622.239208  47632.714792   \n",
       "\n",
       "                       volume  \n",
       "date                           \n",
       "2021-08-13 08:00:00  2.315832  \n",
       "2021-08-13 12:00:00  2.002964  \n",
       "2021-08-13 16:00:00  0.786690  \n",
       "2021-08-13 20:00:00  4.069320  \n",
       "2021-08-14 00:00:00  0.518105  "
      ]
     },
     "execution_count": 12,
     "metadata": {},
     "output_type": "execute_result"
    }
   ],
   "source": [
    "part_60_days = data.tail(60)\n",
    "df= part_60_days.append(data_test)\n",
    "df.head()"
   ]
  },
  {
   "cell_type": "code",
   "execution_count": 13,
   "id": "5c568788",
   "metadata": {},
   "outputs": [],
   "source": [
    "inputs = scaler.transform(df)"
   ]
  },
  {
   "cell_type": "code",
   "execution_count": 14,
   "id": "f3c7fca5",
   "metadata": {},
   "outputs": [
    {
     "data": {
      "text/plain": [
       "(array([[1.9554967],\n",
       "        [1.9571517],\n",
       "        [1.9499577],\n",
       "        ...,\n",
       "        [1.9369528],\n",
       "        [1.9436928],\n",
       "        [1.9498174]], dtype=float32),\n",
       " array([0.41534744, 0.41801651, 0.41943976, ..., 2.50329058, 2.55312808,\n",
       "        2.57873699]))"
      ]
     },
     "execution_count": 14,
     "metadata": {},
     "output_type": "execute_result"
    }
   ],
   "source": [
    "X_test = []\n",
    "Y_test = []\n",
    "for i in range (60, inputs.shape[0]):\n",
    "    X_test.append(inputs[i-60:i]) \n",
    "    Y_test.append(inputs[i, 0])\n",
    "X_test, Y_test = np.array(X_test), np.array(Y_test) \n",
    "X_test.shape, Y_test.shape\n",
    "Y_pred = model.predict(X_test) \n",
    "Y_pred, Y_test"
   ]
  },
  {
   "cell_type": "code",
   "execution_count": 15,
   "id": "17ba26f7",
   "metadata": {},
   "outputs": [
    {
     "data": {
      "text/plain": [
       "array([5.12932739e-05, 5.12664369e-05, 5.13530416e-05, 5.12946303e-05,\n",
       "       1.38447854e-03])"
      ]
     },
     "execution_count": 15,
     "metadata": {},
     "output_type": "execute_result"
    }
   ],
   "source": [
    "scaler.scale_"
   ]
  },
  {
   "cell_type": "code",
   "execution_count": 16,
   "id": "498479bf",
   "metadata": {},
   "outputs": [],
   "source": [
    "scale = 1/scaler.scale_[0]"
   ]
  },
  {
   "cell_type": "code",
   "execution_count": 17,
   "id": "f64c82ac",
   "metadata": {},
   "outputs": [],
   "source": [
    "Y_test = Y_test*scale \n",
    "Y_pred = Y_pred*scale"
   ]
  },
  {
   "cell_type": "code",
   "execution_count": 18,
   "id": "2545a122",
   "metadata": {},
   "outputs": [
    {
     "data": {
      "image/png": "[encoded data removed]",
      "text/plain": [
       "<Figure size 1008x360 with 1 Axes>"
      ]
     },
     "metadata": {
      "needs_background": "light"
     },
     "output_type": "display_data"
    }
   ],
   "source": [
    "plt.figure(figsize=(14,5))\n",
    "plt.plot(Y_test, color = 'red', label = 'Real Bitcoin Price')\n",
    "plt.plot(Y_pred, color = 'green', label = 'Predicted Bitcoin Price')\n",
    "plt.title('Bitcoin Price Prediction using RNN-LSTM')\n",
    "plt.xlabel('Time')\n",
    "plt.ylabel('Price')\n",
    "plt.legend()\n",
    "plt.show()"
   ]
  },
  {
   "cell_type": "code",
   "execution_count": null,
   "id": "4386ef4c",
   "metadata": {},
   "outputs": [],
   "source": []
  }
 ],
 "metadata": {
  "kernelspec": {
   "display_name": "Python 3 (ipykernel)",
   "language": "python",
   "name": "python3"
  },
  "language_info": {
   "codemirror_mode": {
    "name": "ipython",
    "version": 3
   },
   "file_extension": ".py",
   "mimetype": "text/x-python",
   "name": "python",
   "nbconvert_exporter": "python",
   "pygments_lexer": "ipython3",
   "version": "3.8.6"
  },
  "toc": {
   "base_numbering": 1,
   "nav_menu": {},
   "number_sections": true,
   "sideBar": true,
   "skip_h1_title": false,
   "title_cell": "Table of Contents",
   "title_sidebar": "Contents",
   "toc_cell": false,
   "toc_position": {},
   "toc_section_display": true,
   "toc_window_display": false
  }
 },
 "nbformat": 4,
 "nbformat_minor": 5
}
