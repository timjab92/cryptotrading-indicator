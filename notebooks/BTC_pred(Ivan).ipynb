{
 "cells": [
  {
   "cell_type": "markdown",
   "metadata": {
    "id": "7Ah1snjrTOaO"
   },
   "source": [
    "# Recurrent Neural Networks\n",
    "---\n",
    "# Predicting Stock Prices through an LSTM model"
   ]
  },
  {
   "cell_type": "code",
   "execution_count": 1,
   "metadata": {
    "executionInfo": {
     "elapsed": 450,
     "status": "ok",
     "timestamp": 1629966198358,
     "user": {
      "displayName": "Ivan Fernandes",
      "photoUrl": "https://lh3.googleusercontent.com/a-/AOh14GgHdj66drQjCguTVvVzCd5yy8cdMluPJPZlz_BQLg=s64",
      "userId": "12100132160237129013"
     },
     "user_tz": -120
    },
    "id": "qnAL4n0hTOaX"
   },
   "outputs": [],
   "source": [
    "''' Linear Algebra '''\n",
    "import pandas as pd\n",
    "import numpy as np\n",
    "\n",
    "'''Data visualization'''\n",
    "import matplotlib.pyplot as plt\n",
    "import seaborn as sns\n",
    "sns.set_style('whitegrid')\n",
    "plt.style.use(\"fivethirtyeight\")"
   ]
  },
  {
   "cell_type": "code",
   "execution_count": 2,
   "metadata": {
    "executionInfo": {
     "elapsed": 2,
     "status": "ok",
     "timestamp": 1629966199072,
     "user": {
      "displayName": "Ivan Fernandes",
      "photoUrl": "https://lh3.googleusercontent.com/a-/AOh14GgHdj66drQjCguTVvVzCd5yy8cdMluPJPZlz_BQLg=s64",
      "userId": "12100132160237129013"
     },
     "user_tz": -120
    },
    "id": "5xjbJ62hTOaa"
   },
   "outputs": [],
   "source": [
    "''' Hnadling timestamps'''\n",
    "import datetime\n",
    "from datetime import datetime"
   ]
  },
  {
   "cell_type": "code",
   "execution_count": 3,
   "metadata": {
    "executionInfo": {
     "elapsed": 788,
     "status": "ok",
     "timestamp": 1629966215382,
     "user": {
      "displayName": "Ivan Fernandes",
      "photoUrl": "https://lh3.googleusercontent.com/a-/AOh14GgHdj66drQjCguTVvVzCd5yy8cdMluPJPZlz_BQLg=s64",
      "userId": "12100132160237129013"
     },
     "user_tz": -120
    },
    "id": "LrKv6T1kTOaa"
   },
   "outputs": [],
   "source": [
    "# tech stocks\n",
    "coin = ['BTC', 'ETH']"
   ]
  },
  {
   "cell_type": "code",
   "execution_count": 4,
   "metadata": {
    "executionInfo": {
     "elapsed": 3,
     "status": "ok",
     "timestamp": 1629966215702,
     "user": {
      "displayName": "Ivan Fernandes",
      "photoUrl": "https://lh3.googleusercontent.com/a-/AOh14GgHdj66drQjCguTVvVzCd5yy8cdMluPJPZlz_BQLg=s64",
      "userId": "12100132160237129013"
     },
     "user_tz": -120
    },
    "id": "C0S7d3wITOaa"
   },
   "outputs": [],
   "source": [
    "# today\n",
    "end = datetime.now()"
   ]
  },
  {
   "cell_type": "code",
   "execution_count": 5,
   "metadata": {
    "colab": {
     "base_uri": "https://localhost:8080/"
    },
    "executionInfo": {
     "elapsed": 5,
     "status": "ok",
     "timestamp": 1629966216784,
     "user": {
      "displayName": "Ivan Fernandes",
      "photoUrl": "https://lh3.googleusercontent.com/a-/AOh14GgHdj66drQjCguTVvVzCd5yy8cdMluPJPZlz_BQLg=s64",
      "userId": "12100132160237129013"
     },
     "user_tz": -120
    },
    "id": "COF0GdNCTOac",
    "outputId": "f25d2660-5149-4e65-bff0-959944504d1e"
   },
   "outputs": [
    {
     "data": {
      "text/plain": [
       "datetime.datetime(2012, 1, 1, 0, 0)"
      ]
     },
     "execution_count": 5,
     "metadata": {},
     "output_type": "execute_result"
    }
   ],
   "source": [
    "start = datetime(2012, 1, 1)\n",
    "start"
   ]
  },
  {
   "cell_type": "code",
   "execution_count": 6,
   "metadata": {
    "colab": {
     "base_uri": "https://localhost:8080/"
    },
    "executionInfo": {
     "elapsed": 351,
     "status": "ok",
     "timestamp": 1629966293996,
     "user": {
      "displayName": "Ivan Fernandes",
      "photoUrl": "https://lh3.googleusercontent.com/a-/AOh14GgHdj66drQjCguTVvVzCd5yy8cdMluPJPZlz_BQLg=s64",
      "userId": "12100132160237129013"
     },
     "user_tz": -120
    },
    "id": "yycPaAz_a6Sy",
    "outputId": "bc68dbc7-c65e-453c-f4a0-991e24e1ee68",
    "scrolled": true
   },
   "outputs": [],
   "source": [
    "url = 'https://raw.githubusercontent.com/timjab92/cryptotradingindicator/master/data/BTCUSD_4hours.csv'\n",
    "\n",
    "data = pd.read_csv(url)\n",
    "# Dataset is now stored in a Pandas Dataframe"
   ]
  },
  {
   "cell_type": "code",
   "execution_count": 7,
   "metadata": {
    "colab": {
     "base_uri": "https://localhost:8080/",
     "height": 447
    },
    "executionInfo": {
     "elapsed": 350,
     "status": "ok",
     "timestamp": 1629966972802,
     "user": {
      "displayName": "Ivan Fernandes",
      "photoUrl": "https://lh3.googleusercontent.com/a-/AOh14GgHdj66drQjCguTVvVzCd5yy8cdMluPJPZlz_BQLg=s64",
      "userId": "12100132160237129013"
     },
     "user_tz": -120
    },
    "id": "TmBE1gv3TOaj",
    "outputId": "6b81eb77-bc56-4173-bdd2-e48dfc399de6"
   },
   "outputs": [
    {
     "data": {
      "text/html": [
       "<div>\n",
       "<style scoped>\n",
       "    .dataframe tbody tr th:only-of-type {\n",
       "        vertical-align: middle;\n",
       "    }\n",
       "\n",
       "    .dataframe tbody tr th {\n",
       "        vertical-align: top;\n",
       "    }\n",
       "\n",
       "    .dataframe thead th {\n",
       "        text-align: right;\n",
       "    }\n",
       "</style>\n",
       "<table border=\"1\" class=\"dataframe\">\n",
       "  <thead>\n",
       "    <tr style=\"text-align: right;\">\n",
       "      <th></th>\n",
       "      <th>open</th>\n",
       "      <th>high</th>\n",
       "      <th>low</th>\n",
       "      <th>close</th>\n",
       "      <th>volume</th>\n",
       "      <th>log_open</th>\n",
       "      <th>log_high</th>\n",
       "      <th>log_low</th>\n",
       "      <th>log_close</th>\n",
       "    </tr>\n",
       "    <tr>\n",
       "      <th>date</th>\n",
       "      <th></th>\n",
       "      <th></th>\n",
       "      <th></th>\n",
       "      <th></th>\n",
       "      <th></th>\n",
       "      <th></th>\n",
       "      <th></th>\n",
       "      <th></th>\n",
       "      <th></th>\n",
       "    </tr>\n",
       "  </thead>\n",
       "  <tbody>\n",
       "    <tr>\n",
       "      <th>2016-09-11 16:00:00</th>\n",
       "      <td>622.530173</td>\n",
       "      <td>622.773815</td>\n",
       "      <td>622.393815</td>\n",
       "      <td>622.601965</td>\n",
       "      <td>0.645503</td>\n",
       "      <td>6.433792</td>\n",
       "      <td>6.434183</td>\n",
       "      <td>6.433573</td>\n",
       "      <td>6.433907</td>\n",
       "    </tr>\n",
       "    <tr>\n",
       "      <th>2016-09-11 20:00:00</th>\n",
       "      <td>608.858585</td>\n",
       "      <td>609.295377</td>\n",
       "      <td>608.338821</td>\n",
       "      <td>608.752830</td>\n",
       "      <td>21.064810</td>\n",
       "      <td>6.411376</td>\n",
       "      <td>6.412097</td>\n",
       "      <td>6.410514</td>\n",
       "      <td>6.411200</td>\n",
       "    </tr>\n",
       "    <tr>\n",
       "      <th>2016-09-12 00:00:00</th>\n",
       "      <td>604.478168</td>\n",
       "      <td>604.792618</td>\n",
       "      <td>604.236335</td>\n",
       "      <td>604.450576</td>\n",
       "      <td>3.045742</td>\n",
       "      <td>6.404364</td>\n",
       "      <td>6.404884</td>\n",
       "      <td>6.403964</td>\n",
       "      <td>6.404318</td>\n",
       "    </tr>\n",
       "    <tr>\n",
       "      <th>2016-09-12 04:00:00</th>\n",
       "      <td>605.892222</td>\n",
       "      <td>606.177516</td>\n",
       "      <td>605.676405</td>\n",
       "      <td>605.881569</td>\n",
       "      <td>2.487445</td>\n",
       "      <td>6.406701</td>\n",
       "      <td>6.407171</td>\n",
       "      <td>6.406345</td>\n",
       "      <td>6.406684</td>\n",
       "    </tr>\n",
       "    <tr>\n",
       "      <th>2016-09-12 08:00:00</th>\n",
       "      <td>605.702602</td>\n",
       "      <td>606.161735</td>\n",
       "      <td>605.157959</td>\n",
       "      <td>605.682296</td>\n",
       "      <td>5.324050</td>\n",
       "      <td>6.406387</td>\n",
       "      <td>6.407145</td>\n",
       "      <td>6.405488</td>\n",
       "      <td>6.406353</td>\n",
       "    </tr>\n",
       "    <tr>\n",
       "      <th>...</th>\n",
       "      <td>...</td>\n",
       "      <td>...</td>\n",
       "      <td>...</td>\n",
       "      <td>...</td>\n",
       "      <td>...</td>\n",
       "      <td>...</td>\n",
       "      <td>...</td>\n",
       "      <td>...</td>\n",
       "      <td>...</td>\n",
       "    </tr>\n",
       "    <tr>\n",
       "      <th>2021-08-22 12:00:00</th>\n",
       "      <td>48769.308417</td>\n",
       "      <td>48787.711375</td>\n",
       "      <td>48749.417500</td>\n",
       "      <td>48769.737750</td>\n",
       "      <td>1.697971</td>\n",
       "      <td>10.794844</td>\n",
       "      <td>10.795222</td>\n",
       "      <td>10.794435</td>\n",
       "      <td>10.794853</td>\n",
       "    </tr>\n",
       "    <tr>\n",
       "      <th>2021-08-22 16:00:00</th>\n",
       "      <td>48591.665708</td>\n",
       "      <td>48605.941333</td>\n",
       "      <td>48574.903375</td>\n",
       "      <td>48591.580833</td>\n",
       "      <td>0.463362</td>\n",
       "      <td>10.791204</td>\n",
       "      <td>10.791498</td>\n",
       "      <td>10.790859</td>\n",
       "      <td>10.791202</td>\n",
       "    </tr>\n",
       "    <tr>\n",
       "      <th>2021-08-22 20:00:00</th>\n",
       "      <td>48807.713542</td>\n",
       "      <td>48825.874417</td>\n",
       "      <td>48791.558000</td>\n",
       "      <td>48810.168750</td>\n",
       "      <td>0.605696</td>\n",
       "      <td>10.795610</td>\n",
       "      <td>10.795982</td>\n",
       "      <td>10.795279</td>\n",
       "      <td>10.795660</td>\n",
       "    </tr>\n",
       "    <tr>\n",
       "      <th>2021-08-23 00:00:00</th>\n",
       "      <td>49779.332208</td>\n",
       "      <td>49803.461792</td>\n",
       "      <td>49759.784208</td>\n",
       "      <td>49783.003708</td>\n",
       "      <td>1.941360</td>\n",
       "      <td>10.815334</td>\n",
       "      <td>10.815818</td>\n",
       "      <td>10.814942</td>\n",
       "      <td>10.815408</td>\n",
       "    </tr>\n",
       "    <tr>\n",
       "      <th>2021-08-23 04:00:00</th>\n",
       "      <td>50278.596788</td>\n",
       "      <td>50292.908182</td>\n",
       "      <td>50261.680727</td>\n",
       "      <td>50277.475152</td>\n",
       "      <td>1.908007</td>\n",
       "      <td>10.825333</td>\n",
       "      <td>10.825618</td>\n",
       "      <td>10.824997</td>\n",
       "      <td>10.825311</td>\n",
       "    </tr>\n",
       "  </tbody>\n",
       "</table>\n",
       "<p>10840 rows × 9 columns</p>\n",
       "</div>"
      ],
      "text/plain": [
       "                             open          high           low         close  \\\n",
       "date                                                                          \n",
       "2016-09-11 16:00:00    622.530173    622.773815    622.393815    622.601965   \n",
       "2016-09-11 20:00:00    608.858585    609.295377    608.338821    608.752830   \n",
       "2016-09-12 00:00:00    604.478168    604.792618    604.236335    604.450576   \n",
       "2016-09-12 04:00:00    605.892222    606.177516    605.676405    605.881569   \n",
       "2016-09-12 08:00:00    605.702602    606.161735    605.157959    605.682296   \n",
       "...                           ...           ...           ...           ...   \n",
       "2021-08-22 12:00:00  48769.308417  48787.711375  48749.417500  48769.737750   \n",
       "2021-08-22 16:00:00  48591.665708  48605.941333  48574.903375  48591.580833   \n",
       "2021-08-22 20:00:00  48807.713542  48825.874417  48791.558000  48810.168750   \n",
       "2021-08-23 00:00:00  49779.332208  49803.461792  49759.784208  49783.003708   \n",
       "2021-08-23 04:00:00  50278.596788  50292.908182  50261.680727  50277.475152   \n",
       "\n",
       "                        volume   log_open   log_high    log_low  log_close  \n",
       "date                                                                        \n",
       "2016-09-11 16:00:00   0.645503   6.433792   6.434183   6.433573   6.433907  \n",
       "2016-09-11 20:00:00  21.064810   6.411376   6.412097   6.410514   6.411200  \n",
       "2016-09-12 00:00:00   3.045742   6.404364   6.404884   6.403964   6.404318  \n",
       "2016-09-12 04:00:00   2.487445   6.406701   6.407171   6.406345   6.406684  \n",
       "2016-09-12 08:00:00   5.324050   6.406387   6.407145   6.405488   6.406353  \n",
       "...                        ...        ...        ...        ...        ...  \n",
       "2021-08-22 12:00:00   1.697971  10.794844  10.795222  10.794435  10.794853  \n",
       "2021-08-22 16:00:00   0.463362  10.791204  10.791498  10.790859  10.791202  \n",
       "2021-08-22 20:00:00   0.605696  10.795610  10.795982  10.795279  10.795660  \n",
       "2021-08-23 00:00:00   1.941360  10.815334  10.815818  10.814942  10.815408  \n",
       "2021-08-23 04:00:00   1.908007  10.825333  10.825618  10.824997  10.825311  \n",
       "\n",
       "[10840 rows x 9 columns]"
      ]
     },
     "execution_count": 7,
     "metadata": {},
     "output_type": "execute_result"
    }
   ],
   "source": [
    "coin_selection = \"BTC\"\n",
    "# coin_data = {\"BTC\":\"BTCUSD_4hours.csv\"}\n",
    "\n",
    "# data = pd.read_csv(data_path + coin_data[coin_selection])\n",
    "\n",
    "data = data.drop(columns=\"Unnamed: 0\").set_index(\"date\")\n",
    "data = data[10000:]\n",
    "data"
   ]
  },
  {
   "cell_type": "code",
   "execution_count": 8,
   "metadata": {
    "colab": {
     "base_uri": "https://localhost:8080/",
     "height": 293
    },
    "executionInfo": {
     "elapsed": 535,
     "status": "ok",
     "timestamp": 1629966974930,
     "user": {
      "displayName": "Ivan Fernandes",
      "photoUrl": "https://lh3.googleusercontent.com/a-/AOh14GgHdj66drQjCguTVvVzCd5yy8cdMluPJPZlz_BQLg=s64",
      "userId": "12100132160237129013"
     },
     "user_tz": -120
    },
    "id": "RIJL_ZcKTOaj",
    "outputId": "b6065065-d451-4581-df07-0531602adf36"
   },
   "outputs": [
    {
     "data": {
      "text/html": [
       "<div>\n",
       "<style scoped>\n",
       "    .dataframe tbody tr th:only-of-type {\n",
       "        vertical-align: middle;\n",
       "    }\n",
       "\n",
       "    .dataframe tbody tr th {\n",
       "        vertical-align: top;\n",
       "    }\n",
       "\n",
       "    .dataframe thead th {\n",
       "        text-align: right;\n",
       "    }\n",
       "</style>\n",
       "<table border=\"1\" class=\"dataframe\">\n",
       "  <thead>\n",
       "    <tr style=\"text-align: right;\">\n",
       "      <th></th>\n",
       "      <th>open</th>\n",
       "      <th>high</th>\n",
       "      <th>low</th>\n",
       "      <th>close</th>\n",
       "      <th>volume</th>\n",
       "      <th>log_open</th>\n",
       "      <th>log_high</th>\n",
       "      <th>log_low</th>\n",
       "      <th>log_close</th>\n",
       "      <th>ema12</th>\n",
       "      <th>...</th>\n",
       "      <th>ema50</th>\n",
       "      <th>ema34</th>\n",
       "      <th>ema55</th>\n",
       "      <th>rsi</th>\n",
       "      <th>K</th>\n",
       "      <th>D</th>\n",
       "      <th>sma</th>\n",
       "      <th>bollinger_up</th>\n",
       "      <th>bollinger_down</th>\n",
       "      <th>vol_roc</th>\n",
       "    </tr>\n",
       "    <tr>\n",
       "      <th>date</th>\n",
       "      <th></th>\n",
       "      <th></th>\n",
       "      <th></th>\n",
       "      <th></th>\n",
       "      <th></th>\n",
       "      <th></th>\n",
       "      <th></th>\n",
       "      <th></th>\n",
       "      <th></th>\n",
       "      <th></th>\n",
       "      <th></th>\n",
       "      <th></th>\n",
       "      <th></th>\n",
       "      <th></th>\n",
       "      <th></th>\n",
       "      <th></th>\n",
       "      <th></th>\n",
       "      <th></th>\n",
       "      <th></th>\n",
       "      <th></th>\n",
       "      <th></th>\n",
       "    </tr>\n",
       "  </thead>\n",
       "  <tbody>\n",
       "    <tr>\n",
       "      <th>2016-09-11 16:00:00</th>\n",
       "      <td>622.530173</td>\n",
       "      <td>622.773815</td>\n",
       "      <td>622.393815</td>\n",
       "      <td>622.601965</td>\n",
       "      <td>0.645503</td>\n",
       "      <td>6.433792</td>\n",
       "      <td>6.434183</td>\n",
       "      <td>6.433573</td>\n",
       "      <td>6.433907</td>\n",
       "      <td>6.433907</td>\n",
       "      <td>...</td>\n",
       "      <td>6.433907</td>\n",
       "      <td>6.433907</td>\n",
       "      <td>6.433907</td>\n",
       "      <td>NaN</td>\n",
       "      <td>NaN</td>\n",
       "      <td>NaN</td>\n",
       "      <td>NaN</td>\n",
       "      <td>NaN</td>\n",
       "      <td>NaN</td>\n",
       "      <td>NaN</td>\n",
       "    </tr>\n",
       "    <tr>\n",
       "      <th>2016-09-11 20:00:00</th>\n",
       "      <td>608.858585</td>\n",
       "      <td>609.295377</td>\n",
       "      <td>608.338821</td>\n",
       "      <td>608.752830</td>\n",
       "      <td>21.064810</td>\n",
       "      <td>6.411376</td>\n",
       "      <td>6.412097</td>\n",
       "      <td>6.410514</td>\n",
       "      <td>6.411200</td>\n",
       "      <td>6.421607</td>\n",
       "      <td>...</td>\n",
       "      <td>6.422326</td>\n",
       "      <td>6.422220</td>\n",
       "      <td>6.422347</td>\n",
       "      <td>NaN</td>\n",
       "      <td>NaN</td>\n",
       "      <td>NaN</td>\n",
       "      <td>NaN</td>\n",
       "      <td>NaN</td>\n",
       "      <td>NaN</td>\n",
       "      <td>31.633193</td>\n",
       "    </tr>\n",
       "    <tr>\n",
       "      <th>2016-09-12 00:00:00</th>\n",
       "      <td>604.478168</td>\n",
       "      <td>604.792618</td>\n",
       "      <td>604.236335</td>\n",
       "      <td>604.450576</td>\n",
       "      <td>3.045742</td>\n",
       "      <td>6.404364</td>\n",
       "      <td>6.404884</td>\n",
       "      <td>6.403964</td>\n",
       "      <td>6.404318</td>\n",
       "      <td>6.414859</td>\n",
       "      <td>...</td>\n",
       "      <td>6.416082</td>\n",
       "      <td>6.415898</td>\n",
       "      <td>6.416118</td>\n",
       "      <td>NaN</td>\n",
       "      <td>NaN</td>\n",
       "      <td>NaN</td>\n",
       "      <td>NaN</td>\n",
       "      <td>NaN</td>\n",
       "      <td>NaN</td>\n",
       "      <td>-0.855411</td>\n",
       "    </tr>\n",
       "  </tbody>\n",
       "</table>\n",
       "<p>3 rows × 22 columns</p>\n",
       "</div>"
      ],
      "text/plain": [
       "                           open        high         low       close  \\\n",
       "date                                                                  \n",
       "2016-09-11 16:00:00  622.530173  622.773815  622.393815  622.601965   \n",
       "2016-09-11 20:00:00  608.858585  609.295377  608.338821  608.752830   \n",
       "2016-09-12 00:00:00  604.478168  604.792618  604.236335  604.450576   \n",
       "\n",
       "                        volume  log_open  log_high   log_low  log_close  \\\n",
       "date                                                                      \n",
       "2016-09-11 16:00:00   0.645503  6.433792  6.434183  6.433573   6.433907   \n",
       "2016-09-11 20:00:00  21.064810  6.411376  6.412097  6.410514   6.411200   \n",
       "2016-09-12 00:00:00   3.045742  6.404364  6.404884  6.403964   6.404318   \n",
       "\n",
       "                        ema12  ...     ema50     ema34     ema55  rsi   K   D  \\\n",
       "date                           ...                                              \n",
       "2016-09-11 16:00:00  6.433907  ...  6.433907  6.433907  6.433907  NaN NaN NaN   \n",
       "2016-09-11 20:00:00  6.421607  ...  6.422326  6.422220  6.422347  NaN NaN NaN   \n",
       "2016-09-12 00:00:00  6.414859  ...  6.416082  6.415898  6.416118  NaN NaN NaN   \n",
       "\n",
       "                     sma  bollinger_up  bollinger_down    vol_roc  \n",
       "date                                                               \n",
       "2016-09-11 16:00:00  NaN           NaN             NaN        NaN  \n",
       "2016-09-11 20:00:00  NaN           NaN             NaN  31.633193  \n",
       "2016-09-12 00:00:00  NaN           NaN             NaN  -0.855411  \n",
       "\n",
       "[3 rows x 22 columns]"
      ]
     },
     "execution_count": 8,
     "metadata": {},
     "output_type": "execute_result"
    }
   ],
   "source": [
    "## add other features\n",
    "\n",
    "def add_ema(data, tspan=[12,26,20,50,34,55]):\n",
    "    \"\"\"\n",
    "    Adds Exponential Moving Averages (EMA) to the dataframe. The default timeframes are 12,26,20,50,34 and 55.\n",
    "    \"\"\"\n",
    "    for t in tspan:\n",
    "        data[f'ema{t}'] = data.log_close.ewm(span=t).mean()\n",
    "    return data\n",
    "\n",
    "add_ema(data)\n",
    "\n",
    "def computeRSI(data, window=14):\n",
    "    \"\"\"\n",
    "    Computes the Relative Stregth Index for a given dataset and the window can be defined. Its default value is 14.\n",
    "    \"\"\"\n",
    "    diff = data.diff(1).dropna()        # diff in one field(one day)\n",
    "\n",
    "    #this preservers dimensions off diff values\n",
    "    up_chg = 0 * diff\n",
    "    down_chg = 0 * diff\n",
    "    \n",
    "    # up change is equal to the positive difference, otherwise equal to zero\n",
    "    up_chg[diff > 0] = diff[ diff>0 ]\n",
    "    # down change is equal to negative deifference, otherwise equal to zero\n",
    "    down_chg[diff < 0] = diff[ diff < 0 ]\n",
    "    \n",
    "    # check pandas documentation for ewm\n",
    "    # https://pandas.pydata.org/pandas-docs/stable/reference/api/pandas.DataFrame.ewm.html\n",
    "    # values are related to exponential decay\n",
    "    # we set com=window-1 so we get decay alpha=1/window\n",
    "    up_chg_avg   = up_chg.ewm(com=window-1 , min_periods=window).mean()\n",
    "    down_chg_avg = down_chg.ewm(com=window-1 , min_periods=window).mean()\n",
    "    \n",
    "    rs = abs(up_chg_avg/down_chg_avg)\n",
    "    rsi = 100 - 100/(1+rs)\n",
    "    return rsi\n",
    "\n",
    "\n",
    "\n",
    "rsi = computeRSI(data)\n",
    "\n",
    "def stoch_rsi(rsi, d_window=3, k_window=3, window=14):\n",
    "    \"\"\"\n",
    "    Computes the stochastic RSI. Default values are d=3, k=3, window=14.\n",
    "    \"\"\"\n",
    "    minrsi = rsi.rolling(window=window, center=False).min()\n",
    "    maxrsi = rsi.rolling(window=window, center=False).max()\n",
    "    stoch = ((rsi - minrsi) / (maxrsi - minrsi)) * 100\n",
    "    K = stoch.rolling(window=k_window, center=False).mean()\n",
    "    D = K.rolling(window=d_window, center=False).mean() \n",
    "    return K, D  \n",
    "\n",
    "stoch_rsi(rsi)\n",
    "\n",
    "def add_stoch_rsi(data, d_window=3, k_window=3, window=14):\n",
    "    data['rsi'] = computeRSI(data['log_close'], window)\n",
    "    data['K'], data['D'] = stoch_rsi(data['rsi'], d_window, k_window, window)\n",
    "    return data\n",
    "\n",
    "add_stoch_rsi(data)\n",
    "\n",
    "def get_bollinger_bands(prices, rate=20):\n",
    "    sma = prices.rolling(rate).mean() # <-- Get SMA for 20 days\n",
    "    std = prices.rolling(rate).std() # <-- Get rolling standard deviation for 20 days\n",
    "    bollinger_up = sma + std * 2 # Calculate top band\n",
    "    bollinger_down = sma - std * 2 # Calculate bottom band\n",
    "    return sma, bollinger_up, bollinger_down\n",
    "\n",
    "prices = data[\"log_close\"]\n",
    "\n",
    "get_bollinger_bands(prices, rate=20)\n",
    "\n",
    "def add_bollinger(data, prices, rate=20):\n",
    "    data['sma'], data['bollinger_up'], data['bollinger_down'] = get_bollinger_bands(prices)\n",
    "    return data\n",
    "\n",
    "add_bollinger(data,prices)\n",
    "\n",
    "def add_vol_roc(data):\n",
    "    data['vol_roc'] = data.volume.pct_change()\n",
    "    return data\n",
    "\n",
    "add_vol_roc(data)\n",
    "data.head(3)"
   ]
  },
  {
   "cell_type": "markdown",
   "metadata": {
    "id": "hnO1Kw4mTOam"
   },
   "source": [
    "### Daily return\n",
    "\n",
    "$ return = \\frac{new - old}{old} $"
   ]
  },
  {
   "cell_type": "code",
   "execution_count": 9,
   "metadata": {
    "executionInfo": {
     "elapsed": 3,
     "status": "ok",
     "timestamp": 1629966976844,
     "user": {
      "displayName": "Ivan Fernandes",
      "photoUrl": "https://lh3.googleusercontent.com/a-/AOh14GgHdj66drQjCguTVvVzCd5yy8cdMluPJPZlz_BQLg=s64",
      "userId": "12100132160237129013"
     },
     "user_tz": -120
    },
    "id": "OkM8CpqykqFz"
   },
   "outputs": [],
   "source": [
    "data['4h Return'] = data['close'].pct_change()\n",
    "data['4h Gradient'] = data['close'].diff()"
   ]
  },
  {
   "cell_type": "code",
   "execution_count": 10,
   "metadata": {
    "executionInfo": {
     "elapsed": 3,
     "status": "ok",
     "timestamp": 1629966978166,
     "user": {
      "displayName": "Ivan Fernandes",
      "photoUrl": "https://lh3.googleusercontent.com/a-/AOh14GgHdj66drQjCguTVvVzCd5yy8cdMluPJPZlz_BQLg=s64",
      "userId": "12100132160237129013"
     },
     "user_tz": -120
    },
    "id": "pjzEF_95arJY"
   },
   "outputs": [],
   "source": [
    "data = data.dropna()"
   ]
  },
  {
   "cell_type": "markdown",
   "metadata": {
    "id": "omE_GM43TOaj"
   },
   "source": [
    "## Time-Series Visualisation"
   ]
  },
  {
   "cell_type": "markdown",
   "metadata": {
    "id": "9He6r2IBTOak"
   },
   "source": [
    "### Historical Stock Prices"
   ]
  },
  {
   "cell_type": "code",
   "execution_count": 11,
   "metadata": {
    "colab": {
     "base_uri": "https://localhost:8080/",
     "height": 433
    },
    "executionInfo": {
     "elapsed": 1080,
     "status": "ok",
     "timestamp": 1629966982994,
     "user": {
      "displayName": "Ivan Fernandes",
      "photoUrl": "https://lh3.googleusercontent.com/a-/AOh14GgHdj66drQjCguTVvVzCd5yy8cdMluPJPZlz_BQLg=s64",
      "userId": "12100132160237129013"
     },
     "user_tz": -120
    },
    "id": "Sn68mhkBTOak",
    "outputId": "2b9e59ce-9d71-4b4b-f8f2-ecaeeab6cc33"
   },
   "outputs": [
    {
     "data": {
      "image/png": "[encoded data removed]",
      "text/plain": [
       "<Figure size 1080x432 with 1 Axes>"
      ]
     },
     "metadata": {},
     "output_type": "display_data"
    }
   ],
   "source": [
    "# Let's see a historical view of the closing price\n",
    "\n",
    "plt.figure(figsize=(15, 6))\n",
    "plt.subplots_adjust(top=1.25, bottom=1.2)\n",
    "\n",
    "data['close'].plot()\n",
    "plt.ylabel('close')\n",
    "plt.xlabel(None)\n",
    "plt.title(f\"Closing Price of {coin_selection}\")\n",
    "    \n",
    "plt.tight_layout()"
   ]
  },
  {
   "cell_type": "markdown",
   "metadata": {
    "id": "LOkzKw4OTOal"
   },
   "source": [
    "### Volumes traded"
   ]
  },
  {
   "cell_type": "code",
   "execution_count": 12,
   "metadata": {
    "colab": {
     "base_uri": "https://localhost:8080/",
     "height": 430
    },
    "executionInfo": {
     "elapsed": 709,
     "status": "ok",
     "timestamp": 1629966985093,
     "user": {
      "displayName": "Ivan Fernandes",
      "photoUrl": "https://lh3.googleusercontent.com/a-/AOh14GgHdj66drQjCguTVvVzCd5yy8cdMluPJPZlz_BQLg=s64",
      "userId": "12100132160237129013"
     },
     "user_tz": -120
    },
    "id": "icuzmUSpTOal",
    "outputId": "e9132fc3-f382-4188-ca4f-d214ebc4acc2"
   },
   "outputs": [
    {
     "data": {
      "image/png": "[encoded data removed]",
      "text/plain": [
       "<Figure size 1080x432 with 1 Axes>"
      ]
     },
     "metadata": {},
     "output_type": "display_data"
    }
   ],
   "source": [
    "# Let's see a historical view of the closing price\n",
    "\n",
    "plt.figure(figsize=(15, 6))\n",
    "plt.subplots_adjust(top=1.25, bottom=1.2)\n",
    "\n",
    "data['volume'].plot()\n",
    "plt.ylabel('Volume')\n",
    "plt.xlabel(None)\n",
    "plt.title(f\"Sales Volume of BTC\")\n",
    "    \n",
    "plt.tight_layout()"
   ]
  },
  {
   "cell_type": "code",
   "execution_count": 13,
   "metadata": {
    "colab": {
     "base_uri": "https://localhost:8080/",
     "height": 438
    },
    "executionInfo": {
     "elapsed": 356,
     "status": "ok",
     "timestamp": 1629967115184,
     "user": {
      "displayName": "Ivan Fernandes",
      "photoUrl": "https://lh3.googleusercontent.com/a-/AOh14GgHdj66drQjCguTVvVzCd5yy8cdMluPJPZlz_BQLg=s64",
      "userId": "12100132160237129013"
     },
     "user_tz": -120
    },
    "id": "xr6neOtXnESl",
    "outputId": "40f7378e-e11c-4e48-9156-2adc1e087421"
   },
   "outputs": [
    {
     "data": {
      "text/html": [
       "<div>\n",
       "<style scoped>\n",
       "    .dataframe tbody tr th:only-of-type {\n",
       "        vertical-align: middle;\n",
       "    }\n",
       "\n",
       "    .dataframe tbody tr th {\n",
       "        vertical-align: top;\n",
       "    }\n",
       "\n",
       "    .dataframe thead th {\n",
       "        text-align: right;\n",
       "    }\n",
       "</style>\n",
       "<table border=\"1\" class=\"dataframe\">\n",
       "  <thead>\n",
       "    <tr style=\"text-align: right;\">\n",
       "      <th></th>\n",
       "      <th>open</th>\n",
       "      <th>high</th>\n",
       "      <th>low</th>\n",
       "      <th>close</th>\n",
       "      <th>volume</th>\n",
       "      <th>log_open</th>\n",
       "      <th>log_high</th>\n",
       "      <th>log_low</th>\n",
       "      <th>log_close</th>\n",
       "      <th>ema12</th>\n",
       "      <th>...</th>\n",
       "      <th>ema55</th>\n",
       "      <th>rsi</th>\n",
       "      <th>K</th>\n",
       "      <th>D</th>\n",
       "      <th>sma</th>\n",
       "      <th>bollinger_up</th>\n",
       "      <th>bollinger_down</th>\n",
       "      <th>vol_roc</th>\n",
       "      <th>4h Return</th>\n",
       "      <th>4h Gradient</th>\n",
       "    </tr>\n",
       "    <tr>\n",
       "      <th>date</th>\n",
       "      <th></th>\n",
       "      <th></th>\n",
       "      <th></th>\n",
       "      <th></th>\n",
       "      <th></th>\n",
       "      <th></th>\n",
       "      <th></th>\n",
       "      <th></th>\n",
       "      <th></th>\n",
       "      <th></th>\n",
       "      <th></th>\n",
       "      <th></th>\n",
       "      <th></th>\n",
       "      <th></th>\n",
       "      <th></th>\n",
       "      <th></th>\n",
       "      <th></th>\n",
       "      <th></th>\n",
       "      <th></th>\n",
       "      <th></th>\n",
       "      <th></th>\n",
       "    </tr>\n",
       "  </thead>\n",
       "  <tbody>\n",
       "    <tr>\n",
       "      <th>2016-09-16 20:00:00</th>\n",
       "      <td>606.420076</td>\n",
       "      <td>606.511450</td>\n",
       "      <td>606.326031</td>\n",
       "      <td>606.412748</td>\n",
       "      <td>2.307185</td>\n",
       "      <td>6.407572</td>\n",
       "      <td>6.407723</td>\n",
       "      <td>6.407417</td>\n",
       "      <td>6.407560</td>\n",
       "      <td>6.408324</td>\n",
       "      <td>...</td>\n",
       "      <td>6.409036</td>\n",
       "      <td>40.074263</td>\n",
       "      <td>66.832576</td>\n",
       "      <td>68.633211</td>\n",
       "      <td>6.409163</td>\n",
       "      <td>6.412655</td>\n",
       "      <td>6.405670</td>\n",
       "      <td>-0.592995</td>\n",
       "      <td>0.001020</td>\n",
       "      <td>0.618162</td>\n",
       "    </tr>\n",
       "    <tr>\n",
       "      <th>2016-09-17 00:00:00</th>\n",
       "      <td>606.393333</td>\n",
       "      <td>606.546449</td>\n",
       "      <td>606.200652</td>\n",
       "      <td>606.373841</td>\n",
       "      <td>0.914466</td>\n",
       "      <td>6.407528</td>\n",
       "      <td>6.407780</td>\n",
       "      <td>6.407210</td>\n",
       "      <td>6.407496</td>\n",
       "      <td>6.408196</td>\n",
       "      <td>...</td>\n",
       "      <td>6.408957</td>\n",
       "      <td>39.930892</td>\n",
       "      <td>54.323486</td>\n",
       "      <td>64.618565</td>\n",
       "      <td>6.409170</td>\n",
       "      <td>6.412646</td>\n",
       "      <td>6.405694</td>\n",
       "      <td>-0.603644</td>\n",
       "      <td>-0.000064</td>\n",
       "      <td>-0.038908</td>\n",
       "    </tr>\n",
       "    <tr>\n",
       "      <th>2016-09-17 04:00:00</th>\n",
       "      <td>605.275088</td>\n",
       "      <td>605.384737</td>\n",
       "      <td>605.165702</td>\n",
       "      <td>605.290175</td>\n",
       "      <td>0.945083</td>\n",
       "      <td>6.405683</td>\n",
       "      <td>6.405864</td>\n",
       "      <td>6.405502</td>\n",
       "      <td>6.405707</td>\n",
       "      <td>6.407812</td>\n",
       "      <td>...</td>\n",
       "      <td>6.408794</td>\n",
       "      <td>36.082672</td>\n",
       "      <td>52.566827</td>\n",
       "      <td>57.907630</td>\n",
       "      <td>6.408919</td>\n",
       "      <td>6.412637</td>\n",
       "      <td>6.405200</td>\n",
       "      <td>0.033480</td>\n",
       "      <td>-0.001787</td>\n",
       "      <td>-1.083665</td>\n",
       "    </tr>\n",
       "    <tr>\n",
       "      <th>2016-09-17 08:00:00</th>\n",
       "      <td>605.660526</td>\n",
       "      <td>605.763263</td>\n",
       "      <td>605.491368</td>\n",
       "      <td>605.612421</td>\n",
       "      <td>1.887662</td>\n",
       "      <td>6.406319</td>\n",
       "      <td>6.406488</td>\n",
       "      <td>6.406039</td>\n",
       "      <td>6.406239</td>\n",
       "      <td>6.407569</td>\n",
       "      <td>...</td>\n",
       "      <td>6.408667</td>\n",
       "      <td>37.996168</td>\n",
       "      <td>47.010486</td>\n",
       "      <td>51.300266</td>\n",
       "      <td>6.408753</td>\n",
       "      <td>6.412644</td>\n",
       "      <td>6.404862</td>\n",
       "      <td>0.997351</td>\n",
       "      <td>0.000532</td>\n",
       "      <td>0.322246</td>\n",
       "    </tr>\n",
       "    <tr>\n",
       "      <th>2016-09-17 12:00:00</th>\n",
       "      <td>605.679435</td>\n",
       "      <td>605.831129</td>\n",
       "      <td>605.474355</td>\n",
       "      <td>605.635484</td>\n",
       "      <td>1.246336</td>\n",
       "      <td>6.406350</td>\n",
       "      <td>6.406601</td>\n",
       "      <td>6.406012</td>\n",
       "      <td>6.406278</td>\n",
       "      <td>6.407370</td>\n",
       "      <td>...</td>\n",
       "      <td>6.408550</td>\n",
       "      <td>38.140984</td>\n",
       "      <td>42.224688</td>\n",
       "      <td>47.267334</td>\n",
       "      <td>6.408580</td>\n",
       "      <td>6.412591</td>\n",
       "      <td>6.404568</td>\n",
       "      <td>-0.339746</td>\n",
       "      <td>0.000038</td>\n",
       "      <td>0.023063</td>\n",
       "    </tr>\n",
       "  </tbody>\n",
       "</table>\n",
       "<p>5 rows × 24 columns</p>\n",
       "</div>"
      ],
      "text/plain": [
       "                           open        high         low       close    volume  \\\n",
       "date                                                                            \n",
       "2016-09-16 20:00:00  606.420076  606.511450  606.326031  606.412748  2.307185   \n",
       "2016-09-17 00:00:00  606.393333  606.546449  606.200652  606.373841  0.914466   \n",
       "2016-09-17 04:00:00  605.275088  605.384737  605.165702  605.290175  0.945083   \n",
       "2016-09-17 08:00:00  605.660526  605.763263  605.491368  605.612421  1.887662   \n",
       "2016-09-17 12:00:00  605.679435  605.831129  605.474355  605.635484  1.246336   \n",
       "\n",
       "                     log_open  log_high   log_low  log_close     ema12  ...  \\\n",
       "date                                                                    ...   \n",
       "2016-09-16 20:00:00  6.407572  6.407723  6.407417   6.407560  6.408324  ...   \n",
       "2016-09-17 00:00:00  6.407528  6.407780  6.407210   6.407496  6.408196  ...   \n",
       "2016-09-17 04:00:00  6.405683  6.405864  6.405502   6.405707  6.407812  ...   \n",
       "2016-09-17 08:00:00  6.406319  6.406488  6.406039   6.406239  6.407569  ...   \n",
       "2016-09-17 12:00:00  6.406350  6.406601  6.406012   6.406278  6.407370  ...   \n",
       "\n",
       "                        ema55        rsi          K          D       sma  \\\n",
       "date                                                                       \n",
       "2016-09-16 20:00:00  6.409036  40.074263  66.832576  68.633211  6.409163   \n",
       "2016-09-17 00:00:00  6.408957  39.930892  54.323486  64.618565  6.409170   \n",
       "2016-09-17 04:00:00  6.408794  36.082672  52.566827  57.907630  6.408919   \n",
       "2016-09-17 08:00:00  6.408667  37.996168  47.010486  51.300266  6.408753   \n",
       "2016-09-17 12:00:00  6.408550  38.140984  42.224688  47.267334  6.408580   \n",
       "\n",
       "                     bollinger_up  bollinger_down   vol_roc  4h Return  \\\n",
       "date                                                                     \n",
       "2016-09-16 20:00:00      6.412655        6.405670 -0.592995   0.001020   \n",
       "2016-09-17 00:00:00      6.412646        6.405694 -0.603644  -0.000064   \n",
       "2016-09-17 04:00:00      6.412637        6.405200  0.033480  -0.001787   \n",
       "2016-09-17 08:00:00      6.412644        6.404862  0.997351   0.000532   \n",
       "2016-09-17 12:00:00      6.412591        6.404568 -0.339746   0.000038   \n",
       "\n",
       "                     4h Gradient  \n",
       "date                              \n",
       "2016-09-16 20:00:00     0.618162  \n",
       "2016-09-17 00:00:00    -0.038908  \n",
       "2016-09-17 04:00:00    -1.083665  \n",
       "2016-09-17 08:00:00     0.322246  \n",
       "2016-09-17 12:00:00     0.023063  \n",
       "\n",
       "[5 rows x 24 columns]"
      ]
     },
     "execution_count": 13,
     "metadata": {},
     "output_type": "execute_result"
    }
   ],
   "source": [
    "data.head()"
   ]
  },
  {
   "cell_type": "code",
   "execution_count": 14,
   "metadata": {
    "colab": {
     "base_uri": "https://localhost:8080/",
     "height": 396
    },
    "executionInfo": {
     "elapsed": 22347,
     "status": "ok",
     "timestamp": 1629967374725,
     "user": {
      "displayName": "Ivan Fernandes",
      "photoUrl": "https://lh3.googleusercontent.com/a-/AOh14GgHdj66drQjCguTVvVzCd5yy8cdMluPJPZlz_BQLg=s64",
      "userId": "12100132160237129013"
     },
     "user_tz": -120
    },
    "id": "gZqR9QqWl3T7",
    "outputId": "08c3ec7e-0b4b-4a45-b1d3-05a758a62e18"
   },
   "outputs": [
    {
     "data": {
      "image/png": "[encoded data removed]",
      "text/plain": [
       "<Figure size 360x360 with 1 Axes>"
      ]
     },
     "metadata": {},
     "output_type": "display_data"
    }
   ],
   "source": [
    "sns.displot(data = data, x= '4h Gradient')\n",
    "plt.ylabel('4h Return')\n",
    "plt.xlim([-500,500])\n",
    "plt.ylim([0,500])\n",
    "plt.title(f\"4h Return  for {coin_selection}\");"
   ]
  },
  {
   "cell_type": "code",
   "execution_count": 16,
   "metadata": {
    "colab": {
     "base_uri": "https://localhost:8080/",
     "height": 388
    },
    "executionInfo": {
     "elapsed": 435,
     "status": "ok",
     "timestamp": 1629967485048,
     "user": {
      "displayName": "Ivan Fernandes",
      "photoUrl": "https://lh3.googleusercontent.com/a-/AOh14GgHdj66drQjCguTVvVzCd5yy8cdMluPJPZlz_BQLg=s64",
      "userId": "12100132160237129013"
     },
     "user_tz": -120
    },
    "id": "k_7EthwKldWf",
    "outputId": "0f91c60d-f72a-4a51-d588-bda4a1b380db"
   },
   "outputs": [
    {
     "data": {
      "text/html": [
       "<div>\n",
       "<style scoped>\n",
       "    .dataframe tbody tr th:only-of-type {\n",
       "        vertical-align: middle;\n",
       "    }\n",
       "\n",
       "    .dataframe tbody tr th {\n",
       "        vertical-align: top;\n",
       "    }\n",
       "\n",
       "    .dataframe thead th {\n",
       "        text-align: right;\n",
       "    }\n",
       "</style>\n",
       "<table border=\"1\" class=\"dataframe\">\n",
       "  <thead>\n",
       "    <tr style=\"text-align: right;\">\n",
       "      <th></th>\n",
       "      <th>log_close</th>\n",
       "      <th>ema12</th>\n",
       "      <th>ema26</th>\n",
       "      <th>ema20</th>\n",
       "      <th>ema50</th>\n",
       "      <th>ema34</th>\n",
       "      <th>ema55</th>\n",
       "      <th>rsi</th>\n",
       "      <th>K</th>\n",
       "      <th>D</th>\n",
       "      <th>bollinger_up</th>\n",
       "      <th>bollinger_down</th>\n",
       "      <th>vol_roc</th>\n",
       "    </tr>\n",
       "    <tr>\n",
       "      <th>date</th>\n",
       "      <th></th>\n",
       "      <th></th>\n",
       "      <th></th>\n",
       "      <th></th>\n",
       "      <th></th>\n",
       "      <th></th>\n",
       "      <th></th>\n",
       "      <th></th>\n",
       "      <th></th>\n",
       "      <th></th>\n",
       "      <th></th>\n",
       "      <th></th>\n",
       "      <th></th>\n",
       "    </tr>\n",
       "  </thead>\n",
       "  <tbody>\n",
       "    <tr>\n",
       "      <th>2018-04-23 16:00:00</th>\n",
       "      <td>9.094809</td>\n",
       "      <td>9.088010</td>\n",
       "      <td>9.068985</td>\n",
       "      <td>9.077401</td>\n",
       "      <td>9.037236</td>\n",
       "      <td>9.057928</td>\n",
       "      <td>9.031383</td>\n",
       "      <td>70.378295</td>\n",
       "      <td>22.979578</td>\n",
       "      <td>16.638580</td>\n",
       "      <td>9.115075</td>\n",
       "      <td>9.049816</td>\n",
       "      <td>-0.261508</td>\n",
       "    </tr>\n",
       "    <tr>\n",
       "      <th>2016-09-17 00:00:00</th>\n",
       "      <td>6.407496</td>\n",
       "      <td>6.408196</td>\n",
       "      <td>6.408667</td>\n",
       "      <td>6.408525</td>\n",
       "      <td>6.408929</td>\n",
       "      <td>6.408790</td>\n",
       "      <td>6.408957</td>\n",
       "      <td>39.930892</td>\n",
       "      <td>54.323486</td>\n",
       "      <td>64.618565</td>\n",
       "      <td>6.412646</td>\n",
       "      <td>6.405694</td>\n",
       "      <td>-0.603644</td>\n",
       "    </tr>\n",
       "    <tr>\n",
       "      <th>2017-08-12 20:00:00</th>\n",
       "      <td>8.251182</td>\n",
       "      <td>8.200991</td>\n",
       "      <td>8.163578</td>\n",
       "      <td>8.177827</td>\n",
       "      <td>8.114441</td>\n",
       "      <td>8.146086</td>\n",
       "      <td>8.105395</td>\n",
       "      <td>85.461453</td>\n",
       "      <td>98.709486</td>\n",
       "      <td>98.709486</td>\n",
       "      <td>8.259637</td>\n",
       "      <td>8.067355</td>\n",
       "      <td>-0.216079</td>\n",
       "    </tr>\n",
       "    <tr>\n",
       "      <th>2016-11-06 20:00:00</th>\n",
       "      <td>6.559667</td>\n",
       "      <td>6.558615</td>\n",
       "      <td>6.559975</td>\n",
       "      <td>6.559651</td>\n",
       "      <td>6.554323</td>\n",
       "      <td>6.559156</td>\n",
       "      <td>6.552308</td>\n",
       "      <td>49.802115</td>\n",
       "      <td>68.930627</td>\n",
       "      <td>78.918340</td>\n",
       "      <td>6.569065</td>\n",
       "      <td>6.537946</td>\n",
       "      <td>-0.353062</td>\n",
       "    </tr>\n",
       "    <tr>\n",
       "      <th>2021-07-17 16:00:00</th>\n",
       "      <td>10.365560</td>\n",
       "      <td>10.364932</td>\n",
       "      <td>10.375899</td>\n",
       "      <td>10.371213</td>\n",
       "      <td>10.390602</td>\n",
       "      <td>10.381528</td>\n",
       "      <td>10.392955</td>\n",
       "      <td>43.623780</td>\n",
       "      <td>78.477636</td>\n",
       "      <td>64.988367</td>\n",
       "      <td>10.404146</td>\n",
       "      <td>10.339935</td>\n",
       "      <td>-0.040408</td>\n",
       "    </tr>\n",
       "    <tr>\n",
       "      <th>2019-06-15 04:00:00</th>\n",
       "      <td>9.066868</td>\n",
       "      <td>9.032151</td>\n",
       "      <td>9.012563</td>\n",
       "      <td>9.019116</td>\n",
       "      <td>9.001382</td>\n",
       "      <td>9.006804</td>\n",
       "      <td>9.000550</td>\n",
       "      <td>82.194987</td>\n",
       "      <td>100.000000</td>\n",
       "      <td>100.000000</td>\n",
       "      <td>9.063960</td>\n",
       "      <td>8.963040</td>\n",
       "      <td>-0.362987</td>\n",
       "    </tr>\n",
       "    <tr>\n",
       "      <th>2016-12-03 12:00:00</th>\n",
       "      <td>6.636180</td>\n",
       "      <td>6.633877</td>\n",
       "      <td>6.623569</td>\n",
       "      <td>6.627545</td>\n",
       "      <td>6.613959</td>\n",
       "      <td>6.619491</td>\n",
       "      <td>6.612620</td>\n",
       "      <td>63.483210</td>\n",
       "      <td>12.148357</td>\n",
       "      <td>34.292735</td>\n",
       "      <td>6.656969</td>\n",
       "      <td>6.596060</td>\n",
       "      <td>1.017430</td>\n",
       "    </tr>\n",
       "    <tr>\n",
       "      <th>2018-07-30 12:00:00</th>\n",
       "      <td>9.004336</td>\n",
       "      <td>9.008307</td>\n",
       "      <td>9.003270</td>\n",
       "      <td>9.006323</td>\n",
       "      <td>8.982248</td>\n",
       "      <td>8.997435</td>\n",
       "      <td>8.977108</td>\n",
       "      <td>51.449379</td>\n",
       "      <td>5.104738</td>\n",
       "      <td>9.255110</td>\n",
       "      <td>9.028090</td>\n",
       "      <td>8.984838</td>\n",
       "      <td>-0.675386</td>\n",
       "    </tr>\n",
       "    <tr>\n",
       "      <th>2018-05-08 00:00:00</th>\n",
       "      <td>9.144499</td>\n",
       "      <td>9.153399</td>\n",
       "      <td>9.157115</td>\n",
       "      <td>9.157184</td>\n",
       "      <td>9.148872</td>\n",
       "      <td>9.155293</td>\n",
       "      <td>9.146374</td>\n",
       "      <td>41.906614</td>\n",
       "      <td>14.259374</td>\n",
       "      <td>9.232663</td>\n",
       "      <td>9.213518</td>\n",
       "      <td>9.124423</td>\n",
       "      <td>0.918972</td>\n",
       "    </tr>\n",
       "    <tr>\n",
       "      <th>2020-06-07 20:00:00</th>\n",
       "      <td>9.174040</td>\n",
       "      <td>9.172323</td>\n",
       "      <td>9.173741</td>\n",
       "      <td>9.173745</td>\n",
       "      <td>9.169273</td>\n",
       "      <td>9.172754</td>\n",
       "      <td>9.168067</td>\n",
       "      <td>50.249335</td>\n",
       "      <td>26.516509</td>\n",
       "      <td>19.552003</td>\n",
       "      <td>9.195604</td>\n",
       "      <td>9.159901</td>\n",
       "      <td>0.370523</td>\n",
       "    </tr>\n",
       "  </tbody>\n",
       "</table>\n",
       "</div>"
      ],
      "text/plain": [
       "                     log_close      ema12      ema26      ema20      ema50  \\\n",
       "date                                                                         \n",
       "2018-04-23 16:00:00   9.094809   9.088010   9.068985   9.077401   9.037236   \n",
       "2016-09-17 00:00:00   6.407496   6.408196   6.408667   6.408525   6.408929   \n",
       "2017-08-12 20:00:00   8.251182   8.200991   8.163578   8.177827   8.114441   \n",
       "2016-11-06 20:00:00   6.559667   6.558615   6.559975   6.559651   6.554323   \n",
       "2021-07-17 16:00:00  10.365560  10.364932  10.375899  10.371213  10.390602   \n",
       "2019-06-15 04:00:00   9.066868   9.032151   9.012563   9.019116   9.001382   \n",
       "2016-12-03 12:00:00   6.636180   6.633877   6.623569   6.627545   6.613959   \n",
       "2018-07-30 12:00:00   9.004336   9.008307   9.003270   9.006323   8.982248   \n",
       "2018-05-08 00:00:00   9.144499   9.153399   9.157115   9.157184   9.148872   \n",
       "2020-06-07 20:00:00   9.174040   9.172323   9.173741   9.173745   9.169273   \n",
       "\n",
       "                         ema34      ema55        rsi           K           D  \\\n",
       "date                                                                           \n",
       "2018-04-23 16:00:00   9.057928   9.031383  70.378295   22.979578   16.638580   \n",
       "2016-09-17 00:00:00   6.408790   6.408957  39.930892   54.323486   64.618565   \n",
       "2017-08-12 20:00:00   8.146086   8.105395  85.461453   98.709486   98.709486   \n",
       "2016-11-06 20:00:00   6.559156   6.552308  49.802115   68.930627   78.918340   \n",
       "2021-07-17 16:00:00  10.381528  10.392955  43.623780   78.477636   64.988367   \n",
       "2019-06-15 04:00:00   9.006804   9.000550  82.194987  100.000000  100.000000   \n",
       "2016-12-03 12:00:00   6.619491   6.612620  63.483210   12.148357   34.292735   \n",
       "2018-07-30 12:00:00   8.997435   8.977108  51.449379    5.104738    9.255110   \n",
       "2018-05-08 00:00:00   9.155293   9.146374  41.906614   14.259374    9.232663   \n",
       "2020-06-07 20:00:00   9.172754   9.168067  50.249335   26.516509   19.552003   \n",
       "\n",
       "                     bollinger_up  bollinger_down   vol_roc  \n",
       "date                                                         \n",
       "2018-04-23 16:00:00      9.115075        9.049816 -0.261508  \n",
       "2016-09-17 00:00:00      6.412646        6.405694 -0.603644  \n",
       "2017-08-12 20:00:00      8.259637        8.067355 -0.216079  \n",
       "2016-11-06 20:00:00      6.569065        6.537946 -0.353062  \n",
       "2021-07-17 16:00:00     10.404146       10.339935 -0.040408  \n",
       "2019-06-15 04:00:00      9.063960        8.963040 -0.362987  \n",
       "2016-12-03 12:00:00      6.656969        6.596060  1.017430  \n",
       "2018-07-30 12:00:00      9.028090        8.984838 -0.675386  \n",
       "2018-05-08 00:00:00      9.213518        9.124423  0.918972  \n",
       "2020-06-07 20:00:00      9.195604        9.159901  0.370523  "
      ]
     },
     "execution_count": 16,
     "metadata": {},
     "output_type": "execute_result"
    }
   ],
   "source": [
    "## get only the close data\n",
    "selected_features=['log_close', 'ema12', 'ema26', 'ema20', 'ema50', 'ema34',\n",
    "       'ema55', 'rsi', 'K', 'D', 'bollinger_up', 'bollinger_down',\n",
    "       'vol_roc']\n",
    "selected_data = data[selected_features]\n",
    "selected_data.sample(10)"
   ]
  },
  {
   "cell_type": "markdown",
   "metadata": {
    "id": "yB-e6gSuarJp"
   },
   "source": [
    "## Apple Stock Price"
   ]
  },
  {
   "cell_type": "markdown",
   "metadata": {
    "id": "-xCE9uVbTOat"
   },
   "source": [
    "### Temporal Train-Test Split"
   ]
  },
  {
   "cell_type": "code",
   "execution_count": 17,
   "metadata": {
    "executionInfo": {
     "elapsed": 338,
     "status": "ok",
     "timestamp": 1629967515425,
     "user": {
      "displayName": "Ivan Fernandes",
      "photoUrl": "https://lh3.googleusercontent.com/a-/AOh14GgHdj66drQjCguTVvVzCd5yy8cdMluPJPZlz_BQLg=s64",
      "userId": "12100132160237129013"
     },
     "user_tz": -120
    },
    "id": "ywO60BptTOat"
   },
   "outputs": [],
   "source": [
    "train_percentage = 95"
   ]
  },
  {
   "cell_type": "code",
   "execution_count": 18,
   "metadata": {
    "colab": {
     "base_uri": "https://localhost:8080/"
    },
    "executionInfo": {
     "elapsed": 6,
     "status": "ok",
     "timestamp": 1629967587167,
     "user": {
      "displayName": "Ivan Fernandes",
      "photoUrl": "https://lh3.googleusercontent.com/a-/AOh14GgHdj66drQjCguTVvVzCd5yy8cdMluPJPZlz_BQLg=s64",
      "userId": "12100132160237129013"
     },
     "user_tz": -120
    },
    "id": "7WYQ6ez0TOat",
    "outputId": "37e64416-2715-4b67-fb97-87579856daf4"
   },
   "outputs": [
    {
     "data": {
      "text/plain": [
       "10268"
      ]
     },
     "execution_count": 18,
     "metadata": {},
     "output_type": "execute_result"
    }
   ],
   "source": [
    "train_len = int(len(selected_data) * train_percentage/100)\n",
    "train_len"
   ]
  },
  {
   "cell_type": "code",
   "execution_count": 19,
   "metadata": {
    "executionInfo": {
     "elapsed": 381,
     "status": "ok",
     "timestamp": 1629967641312,
     "user": {
      "displayName": "Ivan Fernandes",
      "photoUrl": "https://lh3.googleusercontent.com/a-/AOh14GgHdj66drQjCguTVvVzCd5yy8cdMluPJPZlz_BQLg=s64",
      "userId": "12100132160237129013"
     },
     "user_tz": -120
    },
    "id": "du_UX6DFTOau"
   },
   "outputs": [],
   "source": [
    "data_train = selected_data[:train_len]\n",
    "data_test = selected_data[train_len:]\n"
   ]
  },
  {
   "cell_type": "markdown",
   "metadata": {
    "id": "PO0NJSeTTOau"
   },
   "source": [
    "## LSTM"
   ]
  },
  {
   "cell_type": "code",
   "execution_count": 20,
   "metadata": {
    "executionInfo": {
     "elapsed": 391,
     "status": "ok",
     "timestamp": 1629967656804,
     "user": {
      "displayName": "Ivan Fernandes",
      "photoUrl": "https://lh3.googleusercontent.com/a-/AOh14GgHdj66drQjCguTVvVzCd5yy8cdMluPJPZlz_BQLg=s64",
      "userId": "12100132160237129013"
     },
     "user_tz": -120
    },
    "id": "LsSFTVehTOau"
   },
   "outputs": [],
   "source": [
    "from sklearn.preprocessing import MinMaxScaler\n",
    "\n",
    "minmax_scaler = MinMaxScaler(feature_range = (0,1))\n",
    "\n",
    "minmax_scaler.fit(data_train)\n",
    "\n",
    "data_train_scaled = minmax_scaler.transform(data_train)\n",
    "data_test_scaled = minmax_scaler.transform(data_test)"
   ]
  },
  {
   "cell_type": "code",
   "execution_count": 21,
   "metadata": {
    "colab": {
     "base_uri": "https://localhost:8080/"
    },
    "executionInfo": {
     "elapsed": 3,
     "status": "ok",
     "timestamp": 1629967657307,
     "user": {
      "displayName": "Ivan Fernandes",
      "photoUrl": "https://lh3.googleusercontent.com/a-/AOh14GgHdj66drQjCguTVvVzCd5yy8cdMluPJPZlz_BQLg=s64",
      "userId": "12100132160237129013"
     },
     "user_tz": -120
    },
    "id": "vCCSU71kTOau",
    "outputId": "55400905-ef27-434f-fcf3-cebc738f1d51"
   },
   "outputs": [
    {
     "data": {
      "text/plain": [
       "array([ 11.07190746,  11.04918197,  11.0369933 ,  11.04254271,\n",
       "        11.02171487,  11.03017891,  11.01920724,  96.22920799,\n",
       "       100.        , 100.        ,  11.10194656,  11.0213134 ,\n",
       "        20.81970308])"
      ]
     },
     "execution_count": 21,
     "metadata": {},
     "output_type": "execute_result"
    }
   ],
   "source": [
    "minmax_scaler.data_max_"
   ]
  },
  {
   "cell_type": "code",
   "execution_count": 22,
   "metadata": {
    "colab": {
     "base_uri": "https://localhost:8080/"
    },
    "executionInfo": {
     "elapsed": 4,
     "status": "ok",
     "timestamp": 1629967659501,
     "user": {
      "displayName": "Ivan Fernandes",
      "photoUrl": "https://lh3.googleusercontent.com/a-/AOh14GgHdj66drQjCguTVvVzCd5yy8cdMluPJPZlz_BQLg=s64",
      "userId": "12100132160237129013"
     },
     "user_tz": -120
    },
    "id": "7u5vQbfPTOav",
    "outputId": "4eea426d-b00e-4953-e15f-c41f79618ee7"
   },
   "outputs": [
    {
     "data": {
      "text/plain": [
       "array([ 6.38719526,  6.39041998,  6.3947412 ,  6.39310696,  6.39767259,\n",
       "        6.39639054,  6.39800528,  4.35903634,  0.        ,  0.        ,\n",
       "        6.39923547,  6.3762964 , -0.9157509 ])"
      ]
     },
     "execution_count": 22,
     "metadata": {},
     "output_type": "execute_result"
    }
   ],
   "source": [
    "minmax_scaler.data_min_"
   ]
  },
  {
   "cell_type": "code",
   "execution_count": 23,
   "metadata": {},
   "outputs": [
    {
     "data": {
      "text/plain": [
       "6.387195256273513"
      ]
     },
     "execution_count": 23,
     "metadata": {},
     "output_type": "execute_result"
    }
   ],
   "source": [
    "min1 = minmax_scaler.data_min_[0]\n",
    "min1"
   ]
  },
  {
   "cell_type": "code",
   "execution_count": 24,
   "metadata": {},
   "outputs": [
    {
     "data": {
      "text/plain": [
       "4.684712203487527"
      ]
     },
     "execution_count": 24,
     "metadata": {},
     "output_type": "execute_result"
    }
   ],
   "source": [
    "range1 = minmax_scaler.data_range_[0]\n",
    "range1"
   ]
  },
  {
   "cell_type": "markdown",
   "metadata": {
    "id": "gMim3w6qTOaw"
   },
   "source": [
    "### Creating subsequences..."
   ]
  },
  {
   "cell_type": "code",
   "execution_count": 25,
   "metadata": {
    "executionInfo": {
     "elapsed": 4,
     "status": "ok",
     "timestamp": 1629967702188,
     "user": {
      "displayName": "Ivan Fernandes",
      "photoUrl": "https://lh3.googleusercontent.com/a-/AOh14GgHdj66drQjCguTVvVzCd5yy8cdMluPJPZlz_BQLg=s64",
      "userId": "12100132160237129013"
     },
     "user_tz": -120
    },
    "id": "uLSYeXScTOaz"
   },
   "outputs": [],
   "source": [
    "window_size = 18 # test with small window size\n",
    "horizon = 1 #number of predictions into the future :) \n",
    "data_train_subsequences = []\n",
    "fake_y_train = []\n",
    "for k in range(len(data_train_scaled)-(window_size-1)-horizon):\n",
    "    data_train_subsequences.append(data_train_scaled[k:k+window_size])\n",
    "    fake_y_train.append(data_train_scaled[k+window_size])"
   ]
  },
  {
   "cell_type": "code",
   "execution_count": 26,
   "metadata": {},
   "outputs": [],
   "source": [
    "X_train = np.array(data_train_subsequences)\n",
    "y_train = np.array(fake_y_train)[:,0].reshape(-1,1)"
   ]
  },
  {
   "cell_type": "code",
   "execution_count": 27,
   "metadata": {},
   "outputs": [
    {
     "data": {
      "text/plain": [
       "(10250, 18, 13)"
      ]
     },
     "execution_count": 27,
     "metadata": {},
     "output_type": "execute_result"
    }
   ],
   "source": [
    "X_train.shape"
   ]
  },
  {
   "cell_type": "code",
   "execution_count": 28,
   "metadata": {},
   "outputs": [
    {
     "data": {
      "text/plain": [
       "(10250, 1)"
      ]
     },
     "execution_count": 28,
     "metadata": {},
     "output_type": "execute_result"
    }
   ],
   "source": [
    "y_train.shape"
   ]
  },
  {
   "cell_type": "code",
   "execution_count": 29,
   "metadata": {},
   "outputs": [],
   "source": [
    "#with the same window_size & horizon as the train data\n",
    "window_size = 18\n",
    "horizon = 1\n",
    "data_test_subsequences = []\n",
    "fake_y_test = []\n",
    "for k in range(len(data_test_scaled)-(window_size-1)-horizon):\n",
    "    data_test_subsequences.append(data_test_scaled[k:k+window_size])\n",
    "    fake_y_test.append(data_test_scaled[k+window_size])"
   ]
  },
  {
   "cell_type": "code",
   "execution_count": 30,
   "metadata": {},
   "outputs": [],
   "source": [
    "X_test = np.array(data_test_subsequences)\n",
    "y_test = np.array(fake_y_test)[:,0].reshape(-1,1)"
   ]
  },
  {
   "cell_type": "code",
   "execution_count": 31,
   "metadata": {},
   "outputs": [
    {
     "data": {
      "text/plain": [
       "(523, 18, 13)"
      ]
     },
     "execution_count": 31,
     "metadata": {},
     "output_type": "execute_result"
    }
   ],
   "source": [
    "X_test.shape"
   ]
  },
  {
   "cell_type": "code",
   "execution_count": 32,
   "metadata": {},
   "outputs": [
    {
     "data": {
      "text/plain": [
       "(523, 1)"
      ]
     },
     "execution_count": 32,
     "metadata": {},
     "output_type": "execute_result"
    }
   ],
   "source": [
    "y_test.shape"
   ]
  },
  {
   "cell_type": "markdown",
   "metadata": {
    "id": "KU7fCgwYTOa2"
   },
   "source": [
    "### LSTM"
   ]
  },
  {
   "cell_type": "markdown",
   "metadata": {
    "id": "4VXmMApdTOa3"
   },
   "source": [
    "#### RNN Architecture"
   ]
  },
  {
   "cell_type": "code",
   "execution_count": 33,
   "metadata": {
    "colab": {
     "base_uri": "https://localhost:8080/"
    },
    "executionInfo": {
     "elapsed": 2,
     "status": "ok",
     "timestamp": 1629968945439,
     "user": {
      "displayName": "Ivan Fernandes",
      "photoUrl": "https://lh3.googleusercontent.com/a-/AOh14GgHdj66drQjCguTVvVzCd5yy8cdMluPJPZlz_BQLg=s64",
      "userId": "12100132160237129013"
     },
     "user_tz": -120
    },
    "id": "cPGw4CxharJx",
    "outputId": "eff5edb9-92ef-4a1c-d0f7-34e50a8596ce"
   },
   "outputs": [
    {
     "data": {
      "text/plain": [
       "(523, 1)"
      ]
     },
     "execution_count": 33,
     "metadata": {},
     "output_type": "execute_result"
    }
   ],
   "source": [
    "pd.DataFrame(y_test).shape"
   ]
  },
  {
   "cell_type": "code",
   "execution_count": 34,
   "metadata": {
    "executionInfo": {
     "elapsed": 1,
     "status": "ok",
     "timestamp": 1629968945884,
     "user": {
      "displayName": "Ivan Fernandes",
      "photoUrl": "https://lh3.googleusercontent.com/a-/AOh14GgHdj66drQjCguTVvVzCd5yy8cdMluPJPZlz_BQLg=s64",
      "userId": "12100132160237129013"
     },
     "user_tz": -120
    },
    "id": "ZPwe_lkATOa3"
   },
   "outputs": [
    {
     "name": "stderr",
     "output_type": "stream",
     "text": [
      "2021-08-27 16:42:05.421741: W tensorflow/stream_executor/platform/default/dso_loader.cc:64] Could not load dynamic library 'libcudart.so.11.0'; dlerror: libcudart.so.11.0: cannot open shared object file: No such file or directory\n",
      "2021-08-27 16:42:05.421784: I tensorflow/stream_executor/cuda/cudart_stub.cc:29] Ignore above cudart dlerror if you do not have a GPU set up on your machine.\n",
      "2021-08-27 16:42:06.355929: W tensorflow/stream_executor/platform/default/dso_loader.cc:64] Could not load dynamic library 'libcuda.so.1'; dlerror: libcuda.so.1: cannot open shared object file: No such file or directory\n",
      "2021-08-27 16:42:06.355965: W tensorflow/stream_executor/cuda/cuda_driver.cc:269] failed call to cuInit: UNKNOWN ERROR (303)\n",
      "2021-08-27 16:42:06.355993: I tensorflow/stream_executor/cuda/cuda_diagnostics.cc:156] kernel driver does not appear to be running on this host (LAPTOP-33CGF2OU): /proc/driver/nvidia/version does not exist\n",
      "2021-08-27 16:42:06.356169: I tensorflow/core/platform/cpu_feature_guard.cc:142] This TensorFlow binary is optimized with oneAPI Deep Neural Network Library (oneDNN) to use the following CPU instructions in performance-critical operations:  AVX2 AVX512F FMA\n",
      "To enable them in other operations, rebuild TensorFlow with the appropriate compiler flags.\n"
     ]
    }
   ],
   "source": [
    "from tensorflow.keras import metrics\n",
    "\n",
    "my_mae = metrics.MeanAbsoluteError(\n",
    "    name='mean_absolute_error', dtype=None\n",
    ")\n"
   ]
  },
  {
   "cell_type": "code",
   "execution_count": 36,
   "metadata": {
    "colab": {
     "base_uri": "https://localhost:8080/"
    },
    "executionInfo": {
     "elapsed": 1953,
     "status": "ok",
     "timestamp": 1629968948177,
     "user": {
      "displayName": "Ivan Fernandes",
      "photoUrl": "https://lh3.googleusercontent.com/a-/AOh14GgHdj66drQjCguTVvVzCd5yy8cdMluPJPZlz_BQLg=s64",
      "userId": "12100132160237129013"
     },
     "user_tz": -120
    },
    "id": "GkEjh2ngTOa4",
    "outputId": "934eff05-c3ac-4046-984c-0401bd0b2484"
   },
   "outputs": [],
   "source": [
    "from tensorflow.keras import Sequential, layers\n",
    "\n",
    "# Build the LSTM model\n",
    "model = Sequential()\n",
    "\n",
    "model.add(layers.LSTM(units=128,\n",
    "                     return_sequences = True,\n",
    "                     activation = \"tanh\"\n",
    "                    #activation = \"relu\"\n",
    "                     #input_shape = X_train[0].shape)\n",
    "                     ))\n",
    "\n",
    "model.add(layers.LSTM(units=64,\n",
    "                      return_sequences = False,\n",
    "                      activation = \"relu\"  \n",
    "                    #activation = \"relu\"\n",
    "                     ))\n",
    "\n",
    "# model.add(layers.Dense(25,\n",
    "#                          activation=\"relu\"))\n",
    "model.add(layers.Dense(32,\n",
    "                        activation = \"tanh\" \n",
    "                       #activation=\"relu\"\n",
    "                      ))\n",
    "#model.add(layers.Dense(16,activation=\"relu\"))\n",
    "model.add(layers.Dense(8,\n",
    "                       activation = \"relu\"\n",
    "                       #activation=\"relu\"\n",
    "                      ))\n",
    "model.add(layers.Dense(1,\n",
    "                      activation = \"relu\" \n",
    "                      #activation=\"relu\"\n",
    "                      ))\n",
    "\n",
    "#model.summary()\n",
    "\n"
   ]
  },
  {
   "cell_type": "code",
   "execution_count": 37,
   "metadata": {
    "executionInfo": {
     "elapsed": 340,
     "status": "ok",
     "timestamp": 1629968954711,
     "user": {
      "displayName": "Ivan Fernandes",
      "photoUrl": "https://lh3.googleusercontent.com/a-/AOh14GgHdj66drQjCguTVvVzCd5yy8cdMluPJPZlz_BQLg=s64",
      "userId": "12100132160237129013"
     },
     "user_tz": -120
    },
    "id": "igW2CAISTOa5"
   },
   "outputs": [],
   "source": [
    "model.compile(loss=\"mse\",\n",
    "             optimizer = \"adam\",#rmsprop\n",
    "             metrics = \"mae\"#[my_mae]\n",
    "             )"
   ]
  },
  {
   "cell_type": "markdown",
   "metadata": {
    "id": "0JoMEFYdTOa5"
   },
   "source": [
    "#### Training"
   ]
  },
  {
   "cell_type": "code",
   "execution_count": 38,
   "metadata": {
    "executionInfo": {
     "elapsed": 357,
     "status": "ok",
     "timestamp": 1629968962645,
     "user": {
      "displayName": "Ivan Fernandes",
      "photoUrl": "https://lh3.googleusercontent.com/a-/AOh14GgHdj66drQjCguTVvVzCd5yy8cdMluPJPZlz_BQLg=s64",
      "userId": "12100132160237129013"
     },
     "user_tz": -120
    },
    "id": "u8mqJaUWarJy"
   },
   "outputs": [],
   "source": [
    "#### perhaps create a validation and train sets by hand"
   ]
  },
  {
   "cell_type": "code",
   "execution_count": 39,
   "metadata": {
    "colab": {
     "base_uri": "https://localhost:8080/"
    },
    "executionInfo": {
     "elapsed": 89008,
     "status": "ok",
     "timestamp": 1629969056811,
     "user": {
      "displayName": "Ivan Fernandes",
      "photoUrl": "https://lh3.googleusercontent.com/a-/AOh14GgHdj66drQjCguTVvVzCd5yy8cdMluPJPZlz_BQLg=s64",
      "userId": "12100132160237129013"
     },
     "user_tz": -120
    },
    "id": "x8WmFMDoTOa6",
    "outputId": "c4129e5e-d680-4199-e200-ed02360e4cc6"
   },
   "outputs": [
    {
     "name": "stderr",
     "output_type": "stream",
     "text": [
      "2021-08-27 16:43:24.696568: I tensorflow/compiler/mlir/mlir_graph_optimization_pass.cc:185] None of the MLIR Optimization Passes are enabled (registered 2)\n"
     ]
    },
    {
     "name": "stdout",
     "output_type": "stream",
     "text": [
      "Epoch 1/5\n",
      "449/449 [==============================] - 9s 16ms/step - loss: 9.9349e-04 - mae: 0.0115 - val_loss: 3.4944e-04 - val_mae: 0.0130\n",
      "Epoch 2/5\n",
      "449/449 [==============================] - 6s 14ms/step - loss: 6.6613e-05 - mae: 0.0061 - val_loss: 8.8755e-04 - val_mae: 0.0239\n",
      "Epoch 3/5\n",
      "449/449 [==============================] - 6s 14ms/step - loss: 5.7270e-05 - mae: 0.0057 - val_loss: 1.9251e-04 - val_mae: 0.0103\n",
      "Epoch 4/5\n",
      "449/449 [==============================] - 7s 15ms/step - loss: 6.3796e-05 - mae: 0.0060 - val_loss: 2.3745e-04 - val_mae: 0.0104\n",
      "Epoch 5/5\n",
      "449/449 [==============================] - 7s 15ms/step - loss: 6.8861e-05 - mae: 0.0064 - val_loss: 4.5495e-04 - val_mae: 0.0158\n"
     ]
    }
   ],
   "source": [
    "# from tensorflow.keras.callbacks import EarlyStopping \n",
    "\n",
    "# es = EarlyStopping(#patience = 5, \n",
    "#                    restore_best_weights=\n",
    "#                    #monitor = \"val_mean_absolute_error\"\n",
    "#                   )\n",
    "\n",
    "history = model.fit(X_train, y_train,\n",
    "          validation_split = 0.3,\n",
    "         batch_size=16,\n",
    "         epochs=5,\n",
    "         verbose = 1,\n",
    "         #callbacks = [es]\n",
    "                   )"
   ]
  },
  {
   "cell_type": "code",
   "execution_count": 40,
   "metadata": {
    "executionInfo": {
     "elapsed": 618,
     "status": "ok",
     "timestamp": 1629971280020,
     "user": {
      "displayName": "Ivan Fernandes",
      "photoUrl": "https://lh3.googleusercontent.com/a-/AOh14GgHdj66drQjCguTVvVzCd5yy8cdMluPJPZlz_BQLg=s64",
      "userId": "12100132160237129013"
     },
     "user_tz": -120
    },
    "id": "6BnpySGUL453"
   },
   "outputs": [],
   "source": [
    "def plot_loss_mae(history):\n",
    "    \n",
    "    fig, ax =plt.subplots(1,2,figsize=(20,5))\n",
    "    \n",
    "    # --- LOSS\n",
    "    \n",
    "    ax[0].plot(history.history['loss'])\n",
    "    ax[0].plot(history.history['val_loss'])\n",
    "    ax[0].set_title('Model loss')\n",
    "    ax[0].set_xlabel('Epoch')\n",
    "    ax[0].set_ylabel('Loss')\n",
    "    ax[0].legend(['Train', 'Val'], loc='upper right')\n",
    "    ax[0].grid(axis=\"x\",linewidth=0.5)\n",
    "    ax[0].grid(axis=\"y\",linewidth=0.5)\n",
    "    \n",
    "#     # --- MAE\n",
    "\n",
    "#     ax[1].plot(history.history['mean_absolute_error'])\n",
    "#     ax[1].plot(history.history['val_mean_absolute_error'])\n",
    "#     ax[1].set_title('Model MAE', fontsize = 18)\n",
    "#     ax[1].set_xlabel('Epoch', fontsize = 14)\n",
    "#     ax[1].set_ylabel('Recall', fontsize = 14)\n",
    "#     ax[1].legend(['Train', 'Val'], loc='lower right') \n",
    "#     ax[1].grid(axis=\"x\",linewidth=0.5)\n",
    "#     ax[1].grid(axis=\"y\",linewidth=0.5)   \n",
    "    \n",
    "    plt.show()\n",
    "    "
   ]
  },
  {
   "cell_type": "code",
   "execution_count": 41,
   "metadata": {
    "colab": {
     "base_uri": "https://localhost:8080/",
     "height": 330
    },
    "executionInfo": {
     "elapsed": 775,
     "status": "ok",
     "timestamp": 1629971280790,
     "user": {
      "displayName": "Ivan Fernandes",
      "photoUrl": "https://lh3.googleusercontent.com/a-/AOh14GgHdj66drQjCguTVvVzCd5yy8cdMluPJPZlz_BQLg=s64",
      "userId": "12100132160237129013"
     },
     "user_tz": -120
    },
    "id": "CYBdZyrzL454",
    "outputId": "be857210-3dbb-4216-8037-6adedfac0875"
   },
   "outputs": [
    {
     "data": {
      "image/png": "[encoded data removed]",
      "text/plain": [
       "<Figure size 1440x360 with 2 Axes>"
      ]
     },
     "metadata": {},
     "output_type": "display_data"
    }
   ],
   "source": [
    "plot_loss_mae(history)"
   ]
  },
  {
   "cell_type": "markdown",
   "metadata": {
    "id": "dPlbdR24TOa7"
   },
   "source": [
    "#### Evaluating"
   ]
  },
  {
   "cell_type": "code",
   "execution_count": 42,
   "metadata": {
    "colab": {
     "base_uri": "https://localhost:8080/",
     "height": 370
    },
    "executionInfo": {
     "elapsed": 346,
     "status": "error",
     "timestamp": 1629971289974,
     "user": {
      "displayName": "Ivan Fernandes",
      "photoUrl": "https://lh3.googleusercontent.com/a-/AOh14GgHdj66drQjCguTVvVzCd5yy8cdMluPJPZlz_BQLg=s64",
      "userId": "12100132160237129013"
     },
     "user_tz": -120
    },
    "id": "fGR98XHrTOa7",
    "outputId": "eae3ab01-8077-4116-c16d-93c6c971a35d"
   },
   "outputs": [
    {
     "name": "stdout",
     "output_type": "stream",
     "text": [
      "17/17 [==============================] - 0s 6ms/step - loss: 8.8291e-04 - mae: 0.0288\n"
     ]
    },
    {
     "data": {
      "text/plain": [
       "[0.0008829053258523345, 0.02877512387931347]"
      ]
     },
     "execution_count": 42,
     "metadata": {},
     "output_type": "execute_result"
    }
   ],
   "source": [
    "res = model.evaluate(X_test, np.array(y_test), verbose = 1)\n",
    "res\n"
   ]
  },
  {
   "cell_type": "markdown",
   "metadata": {
    "id": "o3S6CvgCTOa8"
   },
   "source": [
    "#### Predictions"
   ]
  },
  {
   "cell_type": "code",
   "execution_count": 43,
   "metadata": {
    "executionInfo": {
     "elapsed": 3825,
     "status": "ok",
     "timestamp": 1629969068317,
     "user": {
      "displayName": "Ivan Fernandes",
      "photoUrl": "https://lh3.googleusercontent.com/a-/AOh14GgHdj66drQjCguTVvVzCd5yy8cdMluPJPZlz_BQLg=s64",
      "userId": "12100132160237129013"
     },
     "user_tz": -120
    },
    "id": "_a1LDha2TOa9"
   },
   "outputs": [],
   "source": [
    "predictions = model.predict(X_test)\n"
   ]
  },
  {
   "cell_type": "code",
   "execution_count": 44,
   "metadata": {
    "colab": {
     "base_uri": "https://localhost:8080/"
    },
    "executionInfo": {
     "elapsed": 14,
     "status": "ok",
     "timestamp": 1629969068318,
     "user": {
      "displayName": "Ivan Fernandes",
      "photoUrl": "https://lh3.googleusercontent.com/a-/AOh14GgHdj66drQjCguTVvVzCd5yy8cdMluPJPZlz_BQLg=s64",
      "userId": "12100132160237129013"
     },
     "user_tz": -120
    },
    "id": "abi96XmrTOa-",
    "outputId": "d96a92dc-04ec-4680-b3a2-ed4c39f13817"
   },
   "outputs": [
    {
     "data": {
      "text/plain": [
       "(523, 523)"
      ]
     },
     "execution_count": 44,
     "metadata": {},
     "output_type": "execute_result"
    }
   ],
   "source": [
    "len(predictions), len(y_test)"
   ]
  },
  {
   "cell_type": "code",
   "execution_count": 45,
   "metadata": {
    "colab": {
     "base_uri": "https://localhost:8080/"
    },
    "executionInfo": {
     "elapsed": 11,
     "status": "ok",
     "timestamp": 1629969068318,
     "user": {
      "displayName": "Ivan Fernandes",
      "photoUrl": "https://lh3.googleusercontent.com/a-/AOh14GgHdj66drQjCguTVvVzCd5yy8cdMluPJPZlz_BQLg=s64",
      "userId": "12100132160237129013"
     },
     "user_tz": -120
    },
    "id": "WbG_o9xrTOa-",
    "outputId": "586ea1e0-d0c1-400e-88fd-b45f46966093"
   },
   "outputs": [
    {
     "data": {
      "text/plain": [
       "array([[0.86476594],\n",
       "       [0.8595936 ],\n",
       "       [0.8547139 ]], dtype=float32)"
      ]
     },
     "execution_count": 45,
     "metadata": {},
     "output_type": "execute_result"
    }
   ],
   "source": [
    "predictions[0:3]"
   ]
  },
  {
   "cell_type": "code",
   "execution_count": 46,
   "metadata": {},
   "outputs": [],
   "source": [
    "y_test_unscaled = y_test * range1 + min1"
   ]
  },
  {
   "cell_type": "code",
   "execution_count": 47,
   "metadata": {},
   "outputs": [],
   "source": [
    "predictions_unscaled = predictions * range1 + min1"
   ]
  },
  {
   "cell_type": "code",
   "execution_count": 50,
   "metadata": {},
   "outputs": [
    {
     "data": {
      "text/plain": [
       "array([[10.438375],\n",
       "       [10.414144],\n",
       "       [10.391284]], dtype=float32)"
      ]
     },
     "execution_count": 50,
     "metadata": {},
     "output_type": "execute_result"
    }
   ],
   "source": [
    "predictions_unscaled[0:3]"
   ]
  },
  {
   "cell_type": "markdown",
   "metadata": {
    "id": "bN_vtDyWTOa-"
   },
   "source": [
    "The operation computed during a `MinMaxScaler` Operation is:\n",
    "\n",
    "$$x_{scaled} = \\frac{x - x_{min}}{x_{max}- x_{min}}$$\n",
    "\n",
    "To descale it:\n",
    "\n",
    "$$x = x_{scaled} * (x_{max}- x_{min}) + x_{min}$$\n",
    "\n",
    "Or use the `inverse_transform` directly provided..."
   ]
  },
  {
   "cell_type": "code",
   "execution_count": 51,
   "metadata": {},
   "outputs": [
    {
     "data": {
      "text/plain": [
       "0.13480317091876343"
      ]
     },
     "execution_count": 51,
     "metadata": {},
     "output_type": "execute_result"
    }
   ],
   "source": [
    "np.mean(np.abs(y_test_unscaled - predictions_unscaled))"
   ]
  },
  {
   "cell_type": "markdown",
   "metadata": {},
   "source": [
    "# PREDICTION WITH COINGECKO!!!"
   ]
  },
  {
   "cell_type": "code",
   "execution_count": 55,
   "metadata": {},
   "outputs": [],
   "source": [
    "import requests\n",
    "\n",
    "def get_coingecko():\n",
    "    #ohlc\n",
    "    url = \"https://api.coingecko.com/api/v3/coins/bitcoin/ohlc?vs_currency=usd&days=30\"\n",
    "    response = requests.get(url).json()\n",
    "    #cleaning\n",
    "    data_api = pd.DataFrame(response, columns = ['unix_time','open', 'high', 'low', 'close'])\n",
    "    data_api[\"Date\"] = pd.to_datetime(data_api[\"unix_time\"], unit='ms')\n",
    "    data_api = data_api.drop(columns='unix_time').set_index('Date')\n",
    "\n",
    "    #volume\n",
    "    url = \"https://api.coingecko.com/api/v3/coins/bitcoin/market_chart?vs_currency=usd&days=30\"\n",
    "    response = requests.get(url).json()\n",
    "\n",
    "    volume = pd.DataFrame(response['total_volumes'], columns=[\"unix_time\",\"volume\"])\n",
    "    volume['date'] = pd.to_datetime(pd.to_datetime(volume['unix_time'],unit='ms').dt.strftime(\"%Y/%m/%d, %H:00:00\"))\n",
    "    volume = volume.drop(columns='unix_time').set_index('date')\n",
    "\n",
    "    #resample hourly into 4h\n",
    "    volume = volume.resample(\"4H\").mean()\n",
    "\n",
    "    #concatinate\n",
    "    volume = volume[-180:]\n",
    "    data_api = data_api[-181:-1]\n",
    "    full = pd.concat([data_api, volume], axis=1)\n",
    "    full.columns=['open', 'high', 'low', 'close', 'volume']\n",
    "\n",
    "    for x in ['open', 'high', 'low', 'close']:\n",
    "        full[f'log_{x}'] = full[x].apply(lambda x: np.log(x))\n",
    "\n",
    "    data_api = full.copy()\n",
    "\n",
    "    return data_api\n",
    "\n",
    "def feature_engineer(data):\n",
    "    \"\"\"\n",
    "    Adds the EMAs, StochRSI, BollingerBands and Volume Rate of Change to the dataframe\n",
    "    \"\"\"\n",
    "    add_ema(data)\n",
    "    add_stoch_rsi(data)\n",
    "    add_bollinger(data,data.log_close)\n",
    "    add_vol_roc(data)\n",
    "    return data"
   ]
  },
  {
   "cell_type": "code",
   "execution_count": 60,
   "metadata": {},
   "outputs": [],
   "source": [
    "coingecko = feature_engineer(get_coingecko())[-60:]\n",
    "x_gecko = coingecko[selected_features]\n",
    "x_gecko_scaled = minmax_scaler.transform(x_gecko)"
   ]
  },
  {
   "cell_type": "code",
   "execution_count": 61,
   "metadata": {},
   "outputs": [
    {
     "data": {
      "text/plain": [
       "(60, 13)"
      ]
     },
     "execution_count": 61,
     "metadata": {},
     "output_type": "execute_result"
    }
   ],
   "source": [
    "x_gecko.shape"
   ]
  },
  {
   "cell_type": "code",
   "execution_count": 63,
   "metadata": {},
   "outputs": [
    {
     "data": {
      "text/plain": [
       "(1, 60, 13)"
      ]
     },
     "execution_count": 63,
     "metadata": {},
     "output_type": "execute_result"
    }
   ],
   "source": [
    "x_gecko = np.array(x_gecko_scaled)\n",
    "x_gecko = np.reshape(x_gecko, (1,60,13))\n",
    "\n",
    "x_gecko.shape"
   ]
  },
  {
   "cell_type": "code",
   "execution_count": 64,
   "metadata": {},
   "outputs": [
    {
     "data": {
      "text/plain": [
       "array([0.8975706], dtype=float32)"
      ]
     },
     "execution_count": 64,
     "metadata": {},
     "output_type": "execute_result"
    }
   ],
   "source": [
    "predictions = model.predict(x_gecko)\n",
    "\n",
    "predictions[0]"
   ]
  },
  {
   "cell_type": "code",
   "execution_count": 66,
   "metadata": {},
   "outputs": [],
   "source": [
    "predictions_unscaled = predictions * range1 + min1"
   ]
  },
  {
   "cell_type": "code",
   "execution_count": null,
   "metadata": {},
   "outputs": [],
   "source": [
    "\n",
    "predictions\n",
    "\n",
    "weight\n",
    "\n",
    "np.exp(predictions)\n"
   ]
  },
  {
   "cell_type": "markdown",
   "metadata": {
    "id": "0MqA8NYOTObA"
   },
   "source": [
    "## Second round"
   ]
  },
  {
   "cell_type": "code",
   "execution_count": 48,
   "metadata": {},
   "outputs": [
    {
     "ename": "SyntaxError",
     "evalue": "invalid syntax (864225811.py, line 1)",
     "output_type": "error",
     "traceback": [
      "\u001b[0;36m  File \u001b[0;32m\"/tmp/ipykernel_4131/864225811.py\"\u001b[0;36m, line \u001b[0;32m1\u001b[0m\n\u001b[0;31m    weg ergwrwr g\u001b[0m\n\u001b[0m        ^\u001b[0m\n\u001b[0;31mSyntaxError\u001b[0m\u001b[0;31m:\u001b[0m invalid syntax\n"
     ]
    }
   ],
   "source": [
    "weg ergwrwr g"
   ]
  },
  {
   "cell_type": "code",
   "execution_count": null,
   "metadata": {
    "colab": {
     "base_uri": "https://localhost:8080/"
    },
    "executionInfo": {
     "elapsed": 331,
     "status": "ok",
     "timestamp": 1629972855030,
     "user": {
      "displayName": "Ivan Fernandes",
      "photoUrl": "https://lh3.googleusercontent.com/a-/AOh14GgHdj66drQjCguTVvVzCd5yy8cdMluPJPZlz_BQLg=s64",
      "userId": "12100132160237129013"
     },
     "user_tz": -120
    },
    "id": "4ZAlnOTwTObB",
    "outputId": "65d37bf2-66eb-451f-a089-da27ba0ecf69"
   },
   "outputs": [],
   "source": [
    "dataset = data[[\"close\"]].values\n",
    "dataset"
   ]
  },
  {
   "cell_type": "code",
   "execution_count": null,
   "metadata": {
    "colab": {
     "base_uri": "https://localhost:8080/"
    },
    "executionInfo": {
     "elapsed": 358,
     "status": "ok",
     "timestamp": 1629972861459,
     "user": {
      "displayName": "Ivan Fernandes",
      "photoUrl": "https://lh3.googleusercontent.com/a-/AOh14GgHdj66drQjCguTVvVzCd5yy8cdMluPJPZlz_BQLg=s64",
      "userId": "12100132160237129013"
     },
     "user_tz": -120
    },
    "id": "Ky6aM8SBdNRJ",
    "outputId": "4230c46f-9302-4ae4-c65c-2dfaca764428"
   },
   "outputs": [],
   "source": [
    "# Scale the data\n",
    "from sklearn.preprocessing import MinMaxScaler\n",
    "\n",
    "scaler = MinMaxScaler(feature_range=(0,1))\n",
    "scaled_data = scaler.fit_transform(dataset)\n",
    "\n",
    "scaled_data"
   ]
  },
  {
   "cell_type": "code",
   "execution_count": null,
   "metadata": {
    "colab": {
     "base_uri": "https://localhost:8080/"
    },
    "executionInfo": {
     "elapsed": 4,
     "status": "ok",
     "timestamp": 1629972866229,
     "user": {
      "displayName": "Ivan Fernandes",
      "photoUrl": "https://lh3.googleusercontent.com/a-/AOh14GgHdj66drQjCguTVvVzCd5yy8cdMluPJPZlz_BQLg=s64",
      "userId": "12100132160237129013"
     },
     "user_tz": -120
    },
    "id": "zAgMZ7U2vEm7",
    "outputId": "0ae70070-5e33-460f-edca-c78ebe156b53"
   },
   "outputs": [],
   "source": [
    "length = 60\n",
    "horizon  = 1\n",
    "\n",
    "training_split = 0.85\n",
    "training_data_length = int(np.ceil(len(dataset) * training_split))\n",
    "training_data_length"
   ]
  },
  {
   "cell_type": "code",
   "execution_count": null,
   "metadata": {
    "executionInfo": {
     "elapsed": 330,
     "status": "ok",
     "timestamp": 1629972868143,
     "user": {
      "displayName": "Ivan Fernandes",
      "photoUrl": "https://lh3.googleusercontent.com/a-/AOh14GgHdj66drQjCguTVvVzCd5yy8cdMluPJPZlz_BQLg=s64",
      "userId": "12100132160237129013"
     },
     "user_tz": -120
    },
    "id": "1UKkQE7pdQyF"
   },
   "outputs": [],
   "source": [
    "# Create the training data set \n",
    "# Create the scaled training data set\n",
    "\n",
    "train_data = scaled_data[0:int(training_data_length), :]\n",
    "# Split the data into x_train and y_train data sets\n",
    "y_train = []\n",
    "\n",
    "x_train = [train_data[i-length:i, 0] for i in range(length, len(train_data))]\n",
    "y_train = [train_data[i, 0] for i in range(length, len(train_data))]\n",
    "        \n",
    "# Convert the x_train and y_train to numpy arrays \n",
    "x_train, y_train = np.array(x_train), np.array(y_train)\n",
    "\n",
    "# Reshape the data\n",
    "x_train = np.reshape(x_train, (x_train.shape[0], x_train.shape[1], 1))\n",
    "# x_train.shape"
   ]
  },
  {
   "cell_type": "code",
   "execution_count": null,
   "metadata": {
    "executionInfo": {
     "elapsed": 343,
     "status": "ok",
     "timestamp": 1629972870035,
     "user": {
      "displayName": "Ivan Fernandes",
      "photoUrl": "https://lh3.googleusercontent.com/a-/AOh14GgHdj66drQjCguTVvVzCd5yy8cdMluPJPZlz_BQLg=s64",
      "userId": "12100132160237129013"
     },
     "user_tz": -120
    },
    "id": "53aODOBCwgkq"
   },
   "outputs": [],
   "source": [
    "# Create the testing data set\n",
    "# Create a new array containing scaled values from index 543 to 2002 \n",
    "test_data = scaled_data[training_data_length - length: , :]\n",
    "# Create the data sets x_test and y_test\n",
    "\n",
    "y_test = dataset[training_data_length:, :]\n",
    "x_test = [test_data[i-length:i, 0] for i in range(length, len(test_data))]\n",
    "    \n",
    "# Convert the data to a numpy array\n",
    "x_test = np.array(x_test)\n",
    "\n",
    "# Reshape the data\n",
    "x_test = np.reshape(x_test, (x_test.shape[0], x_test.shape[1], 1 ))"
   ]
  },
  {
   "cell_type": "code",
   "execution_count": null,
   "metadata": {
    "colab": {
     "base_uri": "https://localhost:8080/"
    },
    "executionInfo": {
     "elapsed": 336,
     "status": "ok",
     "timestamp": 1629972873580,
     "user": {
      "displayName": "Ivan Fernandes",
      "photoUrl": "https://lh3.googleusercontent.com/a-/AOh14GgHdj66drQjCguTVvVzCd5yy8cdMluPJPZlz_BQLg=s64",
      "userId": "12100132160237129013"
     },
     "user_tz": -120
    },
    "id": "yaenuJTZv6co",
    "outputId": "67b35f97-d9dc-4da7-f7fd-5c8e187a8ac9"
   },
   "outputs": [],
   "source": [
    "print(x_train.shape, y_train.shape)\n",
    "print(x_test.shape, y_test.shape)"
   ]
  },
  {
   "cell_type": "code",
   "execution_count": null,
   "metadata": {
    "colab": {
     "base_uri": "https://localhost:8080/"
    },
    "executionInfo": {
     "elapsed": 445330,
     "status": "ok",
     "timestamp": 1629973325521,
     "user": {
      "displayName": "Ivan Fernandes",
      "photoUrl": "https://lh3.googleusercontent.com/a-/AOh14GgHdj66drQjCguTVvVzCd5yy8cdMluPJPZlz_BQLg=s64",
      "userId": "12100132160237129013"
     },
     "user_tz": -120
    },
    "id": "r1kJ7oDCdZgd",
    "outputId": "ee96a936-e2d1-4de0-b658-6d1df677227f"
   },
   "outputs": [],
   "source": [
    "from keras.models import Sequential\n",
    "from keras.layers import Dense, LSTM\n",
    "\n",
    "# Build the LSTM model\n",
    "model = Sequential()\n",
    "model.add(LSTM(128, return_sequences=True, input_shape= (x_train.shape[1], 1)))\n",
    "model.add(LSTM(64, return_sequences=False))\n",
    "model.add(Dense(25))\n",
    "model.add(Dense(1))\n",
    "\n",
    "# Compile the model\n",
    "model.compile(optimizer='adam', loss='mean_squared_error', metrics = my_mae)\n",
    "\n",
    "# Train the model\n",
    "history = model.fit(x_train, y_train, batch_size=8, epochs=5, validation_split = 0.4)"
   ]
  },
  {
   "cell_type": "code",
   "execution_count": null,
   "metadata": {
    "colab": {
     "base_uri": "https://localhost:8080/",
     "height": 330
    },
    "executionInfo": {
     "elapsed": 1169,
     "status": "ok",
     "timestamp": 1629973328789,
     "user": {
      "displayName": "Ivan Fernandes",
      "photoUrl": "https://lh3.googleusercontent.com/a-/AOh14GgHdj66drQjCguTVvVzCd5yy8cdMluPJPZlz_BQLg=s64",
      "userId": "12100132160237129013"
     },
     "user_tz": -120
    },
    "id": "Q_zo4Kbm-xfx",
    "outputId": "41bfd88f-1816-4d3e-df07-3e015857209d"
   },
   "outputs": [],
   "source": [
    "plot_loss_mae(history)"
   ]
  },
  {
   "cell_type": "code",
   "execution_count": null,
   "metadata": {
    "colab": {
     "base_uri": "https://localhost:8080/"
    },
    "executionInfo": {
     "elapsed": 2984,
     "status": "ok",
     "timestamp": 1629973363329,
     "user": {
      "displayName": "Ivan Fernandes",
      "photoUrl": "https://lh3.googleusercontent.com/a-/AOh14GgHdj66drQjCguTVvVzCd5yy8cdMluPJPZlz_BQLg=s64",
      "userId": "12100132160237129013"
     },
     "user_tz": -120
    },
    "id": "mDLxHpjofPRL",
    "outputId": "a11b4d99-1534-4dfe-9ec2-25f37fac539b"
   },
   "outputs": [],
   "source": [
    "# Get the models predicted price values \n",
    "predictions = model.predict(x_test)\n",
    "predictions = scaler.inverse_transform(predictions)\n",
    "predictions[:3]"
   ]
  },
  {
   "cell_type": "code",
   "execution_count": null,
   "metadata": {
    "colab": {
     "base_uri": "https://localhost:8080/"
    },
    "executionInfo": {
     "elapsed": 393,
     "status": "ok",
     "timestamp": 1629973398497,
     "user": {
      "displayName": "Ivan Fernandes",
      "photoUrl": "https://lh3.googleusercontent.com/a-/AOh14GgHdj66drQjCguTVvVzCd5yy8cdMluPJPZlz_BQLg=s64",
      "userId": "12100132160237129013"
     },
     "user_tz": -120
    },
    "id": "Jvw0e9a5_B3Q",
    "outputId": "491632c8-7cf1-4d07-9990-42575fa60b54"
   },
   "outputs": [],
   "source": [
    "y_test.shape, predictions.shape"
   ]
  },
  {
   "cell_type": "code",
   "execution_count": null,
   "metadata": {
    "colab": {
     "base_uri": "https://localhost:8080/"
    },
    "executionInfo": {
     "elapsed": 337,
     "status": "ok",
     "timestamp": 1629973370818,
     "user": {
      "displayName": "Ivan Fernandes",
      "photoUrl": "https://lh3.googleusercontent.com/a-/AOh14GgHdj66drQjCguTVvVzCd5yy8cdMluPJPZlz_BQLg=s64",
      "userId": "12100132160237129013"
     },
     "user_tz": -120
    },
    "id": "6E2H4WZm-pf0",
    "outputId": "bdb62256-47c2-4e22-ce5e-cdb6113408ac"
   },
   "outputs": [],
   "source": [
    "# Get the root mean squared error (RMSE)\n",
    "rmse = np.sqrt(np.mean(((predictions - y_test) ** 2)))\n",
    "rmse"
   ]
  },
  {
   "cell_type": "code",
   "execution_count": null,
   "metadata": {
    "colab": {
     "base_uri": "https://localhost:8080/"
    },
    "executionInfo": {
     "elapsed": 4437,
     "status": "ok",
     "timestamp": 1629973427758,
     "user": {
      "displayName": "Ivan Fernandes",
      "photoUrl": "https://lh3.googleusercontent.com/a-/AOh14GgHdj66drQjCguTVvVzCd5yy8cdMluPJPZlz_BQLg=s64",
      "userId": "12100132160237129013"
     },
     "user_tz": -120
    },
    "id": "fdyr7K5marJ3",
    "outputId": "4a7ff078-2039-4d92-cf93-7383265d47a2"
   },
   "outputs": [],
   "source": [
    "model.evaluate(x_test, y_test)"
   ]
  },
  {
   "cell_type": "code",
   "execution_count": null,
   "metadata": {
    "executionInfo": {
     "elapsed": 439,
     "status": "ok",
     "timestamp": 1629973433584,
     "user": {
      "displayName": "Ivan Fernandes",
      "photoUrl": "https://lh3.googleusercontent.com/a-/AOh14GgHdj66drQjCguTVvVzCd5yy8cdMluPJPZlz_BQLg=s64",
      "userId": "12100132160237129013"
     },
     "user_tz": -120
    },
    "id": "DczPn6a-hCH5"
   },
   "outputs": [],
   "source": [
    "# Plot the data\n",
    "train = selected_data[:training_data_length]\n",
    "valid = selected_data[training_data_length:].copy()"
   ]
  },
  {
   "cell_type": "code",
   "execution_count": null,
   "metadata": {
    "colab": {
     "base_uri": "https://localhost:8080/",
     "height": 447
    },
    "executionInfo": {
     "elapsed": 343,
     "status": "ok",
     "timestamp": 1629973437703,
     "user": {
      "displayName": "Ivan Fernandes",
      "photoUrl": "https://lh3.googleusercontent.com/a-/AOh14GgHdj66drQjCguTVvVzCd5yy8cdMluPJPZlz_BQLg=s64",
      "userId": "12100132160237129013"
     },
     "user_tz": -120
    },
    "id": "WjQSBQ5JarJ4",
    "outputId": "c8141000-c535-4f92-faf9-406986f792da"
   },
   "outputs": [],
   "source": [
    "train"
   ]
  },
  {
   "cell_type": "code",
   "execution_count": null,
   "metadata": {
    "colab": {
     "base_uri": "https://localhost:8080/",
     "height": 447
    },
    "executionInfo": {
     "elapsed": 465,
     "status": "ok",
     "timestamp": 1629973446397,
     "user": {
      "displayName": "Ivan Fernandes",
      "photoUrl": "https://lh3.googleusercontent.com/a-/AOh14GgHdj66drQjCguTVvVzCd5yy8cdMluPJPZlz_BQLg=s64",
      "userId": "12100132160237129013"
     },
     "user_tz": -120
    },
    "id": "dc1WTWynhDPL",
    "outputId": "56806c30-f59a-454c-e979-e42f656b9ea5"
   },
   "outputs": [],
   "source": [
    "valid"
   ]
  },
  {
   "cell_type": "code",
   "execution_count": null,
   "metadata": {
    "colab": {
     "base_uri": "https://localhost:8080/",
     "height": 447
    },
    "executionInfo": {
     "elapsed": 341,
     "status": "ok",
     "timestamp": 1629973462863,
     "user": {
      "displayName": "Ivan Fernandes",
      "photoUrl": "https://lh3.googleusercontent.com/a-/AOh14GgHdj66drQjCguTVvVzCd5yy8cdMluPJPZlz_BQLg=s64",
      "userId": "12100132160237129013"
     },
     "user_tz": -120
    },
    "id": "p6hMJqrMarJ4",
    "outputId": "8a102830-2a5a-44bc-d17c-1db157056ce5"
   },
   "outputs": [],
   "source": [
    "valid[\"Predictions\"] = predictions\n",
    "valid"
   ]
  },
  {
   "cell_type": "code",
   "execution_count": null,
   "metadata": {
    "executionInfo": {
     "elapsed": 345,
     "status": "ok",
     "timestamp": 1629973472674,
     "user": {
      "displayName": "Ivan Fernandes",
      "photoUrl": "https://lh3.googleusercontent.com/a-/AOh14GgHdj66drQjCguTVvVzCd5yy8cdMluPJPZlz_BQLg=s64",
      "userId": "12100132160237129013"
     },
     "user_tz": -120
    },
    "id": "giTQW4HoarJ5"
   },
   "outputs": [],
   "source": [
    "valid.index = pd.to_datetime(valid.index, format = \"%Y-%m-%d %H:%M:%S\")\n",
    "train.index = pd.to_datetime(train.index, format = \"%Y-%m-%d %H:%M:%S\")"
   ]
  },
  {
   "cell_type": "code",
   "execution_count": null,
   "metadata": {
    "colab": {
     "base_uri": "https://localhost:8080/",
     "height": 441
    },
    "executionInfo": {
     "elapsed": 813,
     "status": "ok",
     "timestamp": 1629973507361,
     "user": {
      "displayName": "Ivan Fernandes",
      "photoUrl": "https://lh3.googleusercontent.com/a-/AOh14GgHdj66drQjCguTVvVzCd5yy8cdMluPJPZlz_BQLg=s64",
      "userId": "12100132160237129013"
     },
     "user_tz": -120
    },
    "id": "wj0t09QbfYLr",
    "outputId": "936c384d-7186-4124-df4d-b9ad0ec1895b"
   },
   "outputs": [],
   "source": [
    "# Visualize the data\n",
    "plt.figure(figsize=(16,6))\n",
    "plt.title('Model')\n",
    "plt.plot(train['close'])\n",
    "plt.plot(valid[['close', 'Predictions']])\n",
    "plt.xlabel('Date', fontsize=18)\n",
    "plt.ylabel('Close Price USD ($)', fontsize=18)\n",
    "plt.legend(['Train', 'Val', 'Predictions'], loc='lower right')\n",
    "plt.xlim([datetime.date(2020, 1, 1), datetime.datetime.now()])\n",
    "plt.show()"
   ]
  },
  {
   "cell_type": "code",
   "execution_count": null,
   "metadata": {
    "id": "VGkbLiUzg5gu"
   },
   "outputs": [],
   "source": []
  }
 ],
 "metadata": {
  "colab": {
   "collapsed_sections": [],
   "name": "BTC pred.ipynb",
   "provenance": [],
   "toc_visible": true
  },
  "kernelspec": {
   "display_name": "Python 3 (ipykernel)",
   "language": "python",
   "name": "python3"
  },
  "language_info": {
   "codemirror_mode": {
    "name": "ipython",
    "version": 3
   },
   "file_extension": ".py",
   "mimetype": "text/x-python",
   "name": "python",
   "nbconvert_exporter": "python",
   "pygments_lexer": "ipython3",
   "version": "3.8.6"
  },
  "toc": {
   "base_numbering": 1,
   "nav_menu": {},
   "number_sections": true,
   "sideBar": true,
   "skip_h1_title": true,
   "title_cell": "Table of Contents",
   "title_sidebar": "Contents",
   "toc_cell": false,
   "toc_position": {
    "height": "calc(100% - 180px)",
    "left": "10px",
    "top": "150px",
    "width": "316.8px"
   },
   "toc_section_display": true,
   "toc_window_display": true
  },
  "varInspector": {
   "cols": {
    "lenName": 16,
    "lenType": 16,
    "lenVar": 40
   },
   "kernels_config": {
    "python": {
     "delete_cmd_postfix": "",
     "delete_cmd_prefix": "del ",
     "library": "var_list.py",
     "varRefreshCmd": "print(var_dic_list())"
    },
    "r": {
     "delete_cmd_postfix": ") ",
     "delete_cmd_prefix": "rm(",
     "library": "var_list.r",
     "varRefreshCmd": "cat(var_dic_list()) "
    }
   },
   "types_to_exclude": [
    "module",
    "function",
    "builtin_function_or_method",
    "instance",
    "_Feature"
   ],
   "window_display": false
  }
 },
 "nbformat": 4,
 "nbformat_minor": 1
}
