{
 "cells": [
  {
   "cell_type": "markdown",
   "metadata": {
    "id": "7Ah1snjrTOaO"
   },
   "source": [
    "# Recurrent Neural Networks\n",
    "---\n",
    "# Predicting Stock Prices through an LSTM model"
   ]
  },
  {
   "cell_type": "code",
   "execution_count": 131,
   "metadata": {
    "executionInfo": {
     "elapsed": 450,
     "status": "ok",
     "timestamp": 1629966198358,
     "user": {
      "displayName": "Ivan Fernandes",
      "photoUrl": "https://lh3.googleusercontent.com/a-/AOh14GgHdj66drQjCguTVvVzCd5yy8cdMluPJPZlz_BQLg=s64",
      "userId": "12100132160237129013"
     },
     "user_tz": -120
    },
    "id": "qnAL4n0hTOaX"
   },
   "outputs": [],
   "source": [
    "''' Linear Algebra '''\n",
    "import pandas as pd\n",
    "import numpy as np\n",
    "\n",
    "'''Data visualization'''\n",
    "import matplotlib.pyplot as plt\n",
    "import seaborn as sns\n",
    "sns.set_style('whitegrid')\n",
    "plt.style.use(\"fivethirtyeight\")"
   ]
  },
  {
   "cell_type": "code",
   "execution_count": 132,
   "metadata": {
    "executionInfo": {
     "elapsed": 2,
     "status": "ok",
     "timestamp": 1629966199072,
     "user": {
      "displayName": "Ivan Fernandes",
      "photoUrl": "https://lh3.googleusercontent.com/a-/AOh14GgHdj66drQjCguTVvVzCd5yy8cdMluPJPZlz_BQLg=s64",
      "userId": "12100132160237129013"
     },
     "user_tz": -120
    },
    "id": "5xjbJ62hTOaa"
   },
   "outputs": [],
   "source": [
    "''' Hnadling timestamps'''\n",
    "import datetime\n",
    "from datetime import datetime"
   ]
  },
  {
   "cell_type": "code",
   "execution_count": 133,
   "metadata": {
    "executionInfo": {
     "elapsed": 788,
     "status": "ok",
     "timestamp": 1629966215382,
     "user": {
      "displayName": "Ivan Fernandes",
      "photoUrl": "https://lh3.googleusercontent.com/a-/AOh14GgHdj66drQjCguTVvVzCd5yy8cdMluPJPZlz_BQLg=s64",
      "userId": "12100132160237129013"
     },
     "user_tz": -120
    },
    "id": "LrKv6T1kTOaa"
   },
   "outputs": [],
   "source": [
    "# tech stocks\n",
    "coin = ['BTC', 'ETH']"
   ]
  },
  {
   "cell_type": "code",
   "execution_count": 134,
   "metadata": {
    "executionInfo": {
     "elapsed": 3,
     "status": "ok",
     "timestamp": 1629966215702,
     "user": {
      "displayName": "Ivan Fernandes",
      "photoUrl": "https://lh3.googleusercontent.com/a-/AOh14GgHdj66drQjCguTVvVzCd5yy8cdMluPJPZlz_BQLg=s64",
      "userId": "12100132160237129013"
     },
     "user_tz": -120
    },
    "id": "C0S7d3wITOaa"
   },
   "outputs": [],
   "source": [
    "# today\n",
    "end = datetime.now()"
   ]
  },
  {
   "cell_type": "code",
   "execution_count": 135,
   "metadata": {
    "colab": {
     "base_uri": "https://localhost:8080/"
    },
    "executionInfo": {
     "elapsed": 5,
     "status": "ok",
     "timestamp": 1629966216784,
     "user": {
      "displayName": "Ivan Fernandes",
      "photoUrl": "https://lh3.googleusercontent.com/a-/AOh14GgHdj66drQjCguTVvVzCd5yy8cdMluPJPZlz_BQLg=s64",
      "userId": "12100132160237129013"
     },
     "user_tz": -120
    },
    "id": "COF0GdNCTOac",
    "outputId": "f25d2660-5149-4e65-bff0-959944504d1e"
   },
   "outputs": [
    {
     "data": {
      "text/plain": [
       "datetime.datetime(2012, 1, 1, 0, 0)"
      ]
     },
     "execution_count": 135,
     "metadata": {},
     "output_type": "execute_result"
    }
   ],
   "source": [
    "start = datetime(2012, 1, 1)\n",
    "start"
   ]
  },
  {
   "cell_type": "code",
   "execution_count": 136,
   "metadata": {
    "colab": {
     "base_uri": "https://localhost:8080/"
    },
    "executionInfo": {
     "elapsed": 351,
     "status": "ok",
     "timestamp": 1629966293996,
     "user": {
      "displayName": "Ivan Fernandes",
      "photoUrl": "https://lh3.googleusercontent.com/a-/AOh14GgHdj66drQjCguTVvVzCd5yy8cdMluPJPZlz_BQLg=s64",
      "userId": "12100132160237129013"
     },
     "user_tz": -120
    },
    "id": "yycPaAz_a6Sy",
    "outputId": "bc68dbc7-c65e-453c-f4a0-991e24e1ee68",
    "scrolled": true
   },
   "outputs": [],
   "source": [
    "url = 'https://raw.githubusercontent.com/timjab92/cryptotradingindicator/master/data/BTCUSD_4hours.csv'\n",
    "\n",
    "data = pd.read_csv(url)\n",
    "# Dataset is now stored in a Pandas Dataframe"
   ]
  },
  {
   "cell_type": "code",
   "execution_count": 137,
   "metadata": {
    "colab": {
     "base_uri": "https://localhost:8080/",
     "height": 447
    },
    "executionInfo": {
     "elapsed": 350,
     "status": "ok",
     "timestamp": 1629966972802,
     "user": {
      "displayName": "Ivan Fernandes",
      "photoUrl": "https://lh3.googleusercontent.com/a-/AOh14GgHdj66drQjCguTVvVzCd5yy8cdMluPJPZlz_BQLg=s64",
      "userId": "12100132160237129013"
     },
     "user_tz": -120
    },
    "id": "TmBE1gv3TOaj",
    "outputId": "6b81eb77-bc56-4173-bdd2-e48dfc399de6"
   },
   "outputs": [
    {
     "data": {
      "text/html": [
       "<div>\n",
       "<style scoped>\n",
       "    .dataframe tbody tr th:only-of-type {\n",
       "        vertical-align: middle;\n",
       "    }\n",
       "\n",
       "    .dataframe tbody tr th {\n",
       "        vertical-align: top;\n",
       "    }\n",
       "\n",
       "    .dataframe thead th {\n",
       "        text-align: right;\n",
       "    }\n",
       "</style>\n",
       "<table border=\"1\" class=\"dataframe\">\n",
       "  <thead>\n",
       "    <tr style=\"text-align: right;\">\n",
       "      <th></th>\n",
       "      <th>open</th>\n",
       "      <th>high</th>\n",
       "      <th>low</th>\n",
       "      <th>close</th>\n",
       "      <th>volume</th>\n",
       "      <th>log_open</th>\n",
       "      <th>log_high</th>\n",
       "      <th>log_low</th>\n",
       "      <th>log_close</th>\n",
       "    </tr>\n",
       "    <tr>\n",
       "      <th>date</th>\n",
       "      <th></th>\n",
       "      <th></th>\n",
       "      <th></th>\n",
       "      <th></th>\n",
       "      <th></th>\n",
       "      <th></th>\n",
       "      <th></th>\n",
       "      <th></th>\n",
       "      <th></th>\n",
       "    </tr>\n",
       "  </thead>\n",
       "  <tbody>\n",
       "    <tr>\n",
       "      <th>2016-09-11 16:00:00</th>\n",
       "      <td>622.530173</td>\n",
       "      <td>622.773815</td>\n",
       "      <td>622.393815</td>\n",
       "      <td>622.601965</td>\n",
       "      <td>0.645503</td>\n",
       "      <td>6.433792</td>\n",
       "      <td>6.434183</td>\n",
       "      <td>6.433573</td>\n",
       "      <td>6.433907</td>\n",
       "    </tr>\n",
       "    <tr>\n",
       "      <th>2016-09-11 20:00:00</th>\n",
       "      <td>608.858585</td>\n",
       "      <td>609.295377</td>\n",
       "      <td>608.338821</td>\n",
       "      <td>608.752830</td>\n",
       "      <td>21.064810</td>\n",
       "      <td>6.411376</td>\n",
       "      <td>6.412097</td>\n",
       "      <td>6.410514</td>\n",
       "      <td>6.411200</td>\n",
       "    </tr>\n",
       "    <tr>\n",
       "      <th>2016-09-12 00:00:00</th>\n",
       "      <td>604.478168</td>\n",
       "      <td>604.792618</td>\n",
       "      <td>604.236335</td>\n",
       "      <td>604.450576</td>\n",
       "      <td>3.045742</td>\n",
       "      <td>6.404364</td>\n",
       "      <td>6.404884</td>\n",
       "      <td>6.403964</td>\n",
       "      <td>6.404318</td>\n",
       "    </tr>\n",
       "    <tr>\n",
       "      <th>2016-09-12 04:00:00</th>\n",
       "      <td>605.892222</td>\n",
       "      <td>606.177516</td>\n",
       "      <td>605.676405</td>\n",
       "      <td>605.881569</td>\n",
       "      <td>2.487445</td>\n",
       "      <td>6.406701</td>\n",
       "      <td>6.407171</td>\n",
       "      <td>6.406345</td>\n",
       "      <td>6.406684</td>\n",
       "    </tr>\n",
       "    <tr>\n",
       "      <th>2016-09-12 08:00:00</th>\n",
       "      <td>605.702602</td>\n",
       "      <td>606.161735</td>\n",
       "      <td>605.157959</td>\n",
       "      <td>605.682296</td>\n",
       "      <td>5.324050</td>\n",
       "      <td>6.406387</td>\n",
       "      <td>6.407145</td>\n",
       "      <td>6.405488</td>\n",
       "      <td>6.406353</td>\n",
       "    </tr>\n",
       "    <tr>\n",
       "      <th>...</th>\n",
       "      <td>...</td>\n",
       "      <td>...</td>\n",
       "      <td>...</td>\n",
       "      <td>...</td>\n",
       "      <td>...</td>\n",
       "      <td>...</td>\n",
       "      <td>...</td>\n",
       "      <td>...</td>\n",
       "      <td>...</td>\n",
       "    </tr>\n",
       "    <tr>\n",
       "      <th>2021-08-22 12:00:00</th>\n",
       "      <td>48769.308417</td>\n",
       "      <td>48787.711375</td>\n",
       "      <td>48749.417500</td>\n",
       "      <td>48769.737750</td>\n",
       "      <td>1.697971</td>\n",
       "      <td>10.794844</td>\n",
       "      <td>10.795222</td>\n",
       "      <td>10.794435</td>\n",
       "      <td>10.794853</td>\n",
       "    </tr>\n",
       "    <tr>\n",
       "      <th>2021-08-22 16:00:00</th>\n",
       "      <td>48591.665708</td>\n",
       "      <td>48605.941333</td>\n",
       "      <td>48574.903375</td>\n",
       "      <td>48591.580833</td>\n",
       "      <td>0.463362</td>\n",
       "      <td>10.791204</td>\n",
       "      <td>10.791498</td>\n",
       "      <td>10.790859</td>\n",
       "      <td>10.791202</td>\n",
       "    </tr>\n",
       "    <tr>\n",
       "      <th>2021-08-22 20:00:00</th>\n",
       "      <td>48807.713542</td>\n",
       "      <td>48825.874417</td>\n",
       "      <td>48791.558000</td>\n",
       "      <td>48810.168750</td>\n",
       "      <td>0.605696</td>\n",
       "      <td>10.795610</td>\n",
       "      <td>10.795982</td>\n",
       "      <td>10.795279</td>\n",
       "      <td>10.795660</td>\n",
       "    </tr>\n",
       "    <tr>\n",
       "      <th>2021-08-23 00:00:00</th>\n",
       "      <td>49779.332208</td>\n",
       "      <td>49803.461792</td>\n",
       "      <td>49759.784208</td>\n",
       "      <td>49783.003708</td>\n",
       "      <td>1.941360</td>\n",
       "      <td>10.815334</td>\n",
       "      <td>10.815818</td>\n",
       "      <td>10.814942</td>\n",
       "      <td>10.815408</td>\n",
       "    </tr>\n",
       "    <tr>\n",
       "      <th>2021-08-23 04:00:00</th>\n",
       "      <td>50278.596788</td>\n",
       "      <td>50292.908182</td>\n",
       "      <td>50261.680727</td>\n",
       "      <td>50277.475152</td>\n",
       "      <td>1.908007</td>\n",
       "      <td>10.825333</td>\n",
       "      <td>10.825618</td>\n",
       "      <td>10.824997</td>\n",
       "      <td>10.825311</td>\n",
       "    </tr>\n",
       "  </tbody>\n",
       "</table>\n",
       "<p>10840 rows × 9 columns</p>\n",
       "</div>"
      ],
      "text/plain": [
       "                             open          high           low         close  \\\n",
       "date                                                                          \n",
       "2016-09-11 16:00:00    622.530173    622.773815    622.393815    622.601965   \n",
       "2016-09-11 20:00:00    608.858585    609.295377    608.338821    608.752830   \n",
       "2016-09-12 00:00:00    604.478168    604.792618    604.236335    604.450576   \n",
       "2016-09-12 04:00:00    605.892222    606.177516    605.676405    605.881569   \n",
       "2016-09-12 08:00:00    605.702602    606.161735    605.157959    605.682296   \n",
       "...                           ...           ...           ...           ...   \n",
       "2021-08-22 12:00:00  48769.308417  48787.711375  48749.417500  48769.737750   \n",
       "2021-08-22 16:00:00  48591.665708  48605.941333  48574.903375  48591.580833   \n",
       "2021-08-22 20:00:00  48807.713542  48825.874417  48791.558000  48810.168750   \n",
       "2021-08-23 00:00:00  49779.332208  49803.461792  49759.784208  49783.003708   \n",
       "2021-08-23 04:00:00  50278.596788  50292.908182  50261.680727  50277.475152   \n",
       "\n",
       "                        volume   log_open   log_high    log_low  log_close  \n",
       "date                                                                        \n",
       "2016-09-11 16:00:00   0.645503   6.433792   6.434183   6.433573   6.433907  \n",
       "2016-09-11 20:00:00  21.064810   6.411376   6.412097   6.410514   6.411200  \n",
       "2016-09-12 00:00:00   3.045742   6.404364   6.404884   6.403964   6.404318  \n",
       "2016-09-12 04:00:00   2.487445   6.406701   6.407171   6.406345   6.406684  \n",
       "2016-09-12 08:00:00   5.324050   6.406387   6.407145   6.405488   6.406353  \n",
       "...                        ...        ...        ...        ...        ...  \n",
       "2021-08-22 12:00:00   1.697971  10.794844  10.795222  10.794435  10.794853  \n",
       "2021-08-22 16:00:00   0.463362  10.791204  10.791498  10.790859  10.791202  \n",
       "2021-08-22 20:00:00   0.605696  10.795610  10.795982  10.795279  10.795660  \n",
       "2021-08-23 00:00:00   1.941360  10.815334  10.815818  10.814942  10.815408  \n",
       "2021-08-23 04:00:00   1.908007  10.825333  10.825618  10.824997  10.825311  \n",
       "\n",
       "[10840 rows x 9 columns]"
      ]
     },
     "execution_count": 137,
     "metadata": {},
     "output_type": "execute_result"
    }
   ],
   "source": [
    "coin_selection = \"BTC\"\n",
    "# coin_data = {\"BTC\":\"BTCUSD_4hours.csv\"}\n",
    "\n",
    "# data = pd.read_csv(data_path + coin_data[coin_selection])\n",
    "\n",
    "data = data.drop(columns=\"Unnamed: 0\").set_index(\"date\")\n",
    "data = data[10000:]\n",
    "data"
   ]
  },
  {
   "cell_type": "code",
   "execution_count": 138,
   "metadata": {
    "colab": {
     "base_uri": "https://localhost:8080/",
     "height": 293
    },
    "executionInfo": {
     "elapsed": 535,
     "status": "ok",
     "timestamp": 1629966974930,
     "user": {
      "displayName": "Ivan Fernandes",
      "photoUrl": "https://lh3.googleusercontent.com/a-/AOh14GgHdj66drQjCguTVvVzCd5yy8cdMluPJPZlz_BQLg=s64",
      "userId": "12100132160237129013"
     },
     "user_tz": -120
    },
    "id": "RIJL_ZcKTOaj",
    "outputId": "b6065065-d451-4581-df07-0531602adf36"
   },
   "outputs": [
    {
     "data": {
      "text/html": [
       "<div>\n",
       "<style scoped>\n",
       "    .dataframe tbody tr th:only-of-type {\n",
       "        vertical-align: middle;\n",
       "    }\n",
       "\n",
       "    .dataframe tbody tr th {\n",
       "        vertical-align: top;\n",
       "    }\n",
       "\n",
       "    .dataframe thead th {\n",
       "        text-align: right;\n",
       "    }\n",
       "</style>\n",
       "<table border=\"1\" class=\"dataframe\">\n",
       "  <thead>\n",
       "    <tr style=\"text-align: right;\">\n",
       "      <th></th>\n",
       "      <th>open</th>\n",
       "      <th>high</th>\n",
       "      <th>low</th>\n",
       "      <th>close</th>\n",
       "      <th>volume</th>\n",
       "      <th>log_open</th>\n",
       "      <th>log_high</th>\n",
       "      <th>log_low</th>\n",
       "      <th>log_close</th>\n",
       "      <th>ema12</th>\n",
       "      <th>...</th>\n",
       "      <th>ema50</th>\n",
       "      <th>ema34</th>\n",
       "      <th>ema55</th>\n",
       "      <th>rsi</th>\n",
       "      <th>K</th>\n",
       "      <th>D</th>\n",
       "      <th>sma</th>\n",
       "      <th>bollinger_up</th>\n",
       "      <th>bollinger_down</th>\n",
       "      <th>vol_roc</th>\n",
       "    </tr>\n",
       "    <tr>\n",
       "      <th>date</th>\n",
       "      <th></th>\n",
       "      <th></th>\n",
       "      <th></th>\n",
       "      <th></th>\n",
       "      <th></th>\n",
       "      <th></th>\n",
       "      <th></th>\n",
       "      <th></th>\n",
       "      <th></th>\n",
       "      <th></th>\n",
       "      <th></th>\n",
       "      <th></th>\n",
       "      <th></th>\n",
       "      <th></th>\n",
       "      <th></th>\n",
       "      <th></th>\n",
       "      <th></th>\n",
       "      <th></th>\n",
       "      <th></th>\n",
       "      <th></th>\n",
       "      <th></th>\n",
       "    </tr>\n",
       "  </thead>\n",
       "  <tbody>\n",
       "    <tr>\n",
       "      <th>2016-09-11 16:00:00</th>\n",
       "      <td>622.530173</td>\n",
       "      <td>622.773815</td>\n",
       "      <td>622.393815</td>\n",
       "      <td>622.601965</td>\n",
       "      <td>0.645503</td>\n",
       "      <td>6.433792</td>\n",
       "      <td>6.434183</td>\n",
       "      <td>6.433573</td>\n",
       "      <td>6.433907</td>\n",
       "      <td>6.433907</td>\n",
       "      <td>...</td>\n",
       "      <td>6.433907</td>\n",
       "      <td>6.433907</td>\n",
       "      <td>6.433907</td>\n",
       "      <td>NaN</td>\n",
       "      <td>NaN</td>\n",
       "      <td>NaN</td>\n",
       "      <td>NaN</td>\n",
       "      <td>NaN</td>\n",
       "      <td>NaN</td>\n",
       "      <td>NaN</td>\n",
       "    </tr>\n",
       "    <tr>\n",
       "      <th>2016-09-11 20:00:00</th>\n",
       "      <td>608.858585</td>\n",
       "      <td>609.295377</td>\n",
       "      <td>608.338821</td>\n",
       "      <td>608.752830</td>\n",
       "      <td>21.064810</td>\n",
       "      <td>6.411376</td>\n",
       "      <td>6.412097</td>\n",
       "      <td>6.410514</td>\n",
       "      <td>6.411200</td>\n",
       "      <td>6.421607</td>\n",
       "      <td>...</td>\n",
       "      <td>6.422326</td>\n",
       "      <td>6.422220</td>\n",
       "      <td>6.422347</td>\n",
       "      <td>NaN</td>\n",
       "      <td>NaN</td>\n",
       "      <td>NaN</td>\n",
       "      <td>NaN</td>\n",
       "      <td>NaN</td>\n",
       "      <td>NaN</td>\n",
       "      <td>31.633193</td>\n",
       "    </tr>\n",
       "    <tr>\n",
       "      <th>2016-09-12 00:00:00</th>\n",
       "      <td>604.478168</td>\n",
       "      <td>604.792618</td>\n",
       "      <td>604.236335</td>\n",
       "      <td>604.450576</td>\n",
       "      <td>3.045742</td>\n",
       "      <td>6.404364</td>\n",
       "      <td>6.404884</td>\n",
       "      <td>6.403964</td>\n",
       "      <td>6.404318</td>\n",
       "      <td>6.414859</td>\n",
       "      <td>...</td>\n",
       "      <td>6.416082</td>\n",
       "      <td>6.415898</td>\n",
       "      <td>6.416118</td>\n",
       "      <td>NaN</td>\n",
       "      <td>NaN</td>\n",
       "      <td>NaN</td>\n",
       "      <td>NaN</td>\n",
       "      <td>NaN</td>\n",
       "      <td>NaN</td>\n",
       "      <td>-0.855411</td>\n",
       "    </tr>\n",
       "  </tbody>\n",
       "</table>\n",
       "<p>3 rows × 22 columns</p>\n",
       "</div>"
      ],
      "text/plain": [
       "                           open        high         low       close  \\\n",
       "date                                                                  \n",
       "2016-09-11 16:00:00  622.530173  622.773815  622.393815  622.601965   \n",
       "2016-09-11 20:00:00  608.858585  609.295377  608.338821  608.752830   \n",
       "2016-09-12 00:00:00  604.478168  604.792618  604.236335  604.450576   \n",
       "\n",
       "                        volume  log_open  log_high   log_low  log_close  \\\n",
       "date                                                                      \n",
       "2016-09-11 16:00:00   0.645503  6.433792  6.434183  6.433573   6.433907   \n",
       "2016-09-11 20:00:00  21.064810  6.411376  6.412097  6.410514   6.411200   \n",
       "2016-09-12 00:00:00   3.045742  6.404364  6.404884  6.403964   6.404318   \n",
       "\n",
       "                        ema12  ...     ema50     ema34     ema55  rsi   K   D  \\\n",
       "date                           ...                                              \n",
       "2016-09-11 16:00:00  6.433907  ...  6.433907  6.433907  6.433907  NaN NaN NaN   \n",
       "2016-09-11 20:00:00  6.421607  ...  6.422326  6.422220  6.422347  NaN NaN NaN   \n",
       "2016-09-12 00:00:00  6.414859  ...  6.416082  6.415898  6.416118  NaN NaN NaN   \n",
       "\n",
       "                     sma  bollinger_up  bollinger_down    vol_roc  \n",
       "date                                                               \n",
       "2016-09-11 16:00:00  NaN           NaN             NaN        NaN  \n",
       "2016-09-11 20:00:00  NaN           NaN             NaN  31.633193  \n",
       "2016-09-12 00:00:00  NaN           NaN             NaN  -0.855411  \n",
       "\n",
       "[3 rows x 22 columns]"
      ]
     },
     "execution_count": 138,
     "metadata": {},
     "output_type": "execute_result"
    }
   ],
   "source": [
    "## add other features\n",
    "\n",
    "def add_ema(data, tspan=[12,26,20,50,34,55]):\n",
    "    \"\"\"\n",
    "    Adds Exponential Moving Averages (EMA) to the dataframe. The default timeframes are 12,26,20,50,34 and 55.\n",
    "    \"\"\"\n",
    "    for t in tspan:\n",
    "        data[f'ema{t}'] = data.log_close.ewm(span=t).mean()\n",
    "    return data\n",
    "\n",
    "add_ema(data)\n",
    "\n",
    "def computeRSI(data, window=14):\n",
    "    \"\"\"\n",
    "    Computes the Relative Stregth Index for a given dataset and the window can be defined. Its default value is 14.\n",
    "    \"\"\"\n",
    "    diff = data.diff(1).dropna()        # diff in one field(one day)\n",
    "\n",
    "    #this preservers dimensions off diff values\n",
    "    up_chg = 0 * diff\n",
    "    down_chg = 0 * diff\n",
    "    \n",
    "    # up change is equal to the positive difference, otherwise equal to zero\n",
    "    up_chg[diff > 0] = diff[ diff>0 ]\n",
    "    # down change is equal to negative deifference, otherwise equal to zero\n",
    "    down_chg[diff < 0] = diff[ diff < 0 ]\n",
    "    \n",
    "    # check pandas documentation for ewm\n",
    "    # https://pandas.pydata.org/pandas-docs/stable/reference/api/pandas.DataFrame.ewm.html\n",
    "    # values are related to exponential decay\n",
    "    # we set com=window-1 so we get decay alpha=1/window\n",
    "    up_chg_avg   = up_chg.ewm(com=window-1 , min_periods=window).mean()\n",
    "    down_chg_avg = down_chg.ewm(com=window-1 , min_periods=window).mean()\n",
    "    \n",
    "    rs = abs(up_chg_avg/down_chg_avg)\n",
    "    rsi = 100 - 100/(1+rs)\n",
    "    return rsi\n",
    "\n",
    "\n",
    "\n",
    "rsi = computeRSI(data)\n",
    "\n",
    "def stoch_rsi(rsi, d_window=3, k_window=3, window=14):\n",
    "    \"\"\"\n",
    "    Computes the stochastic RSI. Default values are d=3, k=3, window=14.\n",
    "    \"\"\"\n",
    "    minrsi = rsi.rolling(window=window, center=False).min()\n",
    "    maxrsi = rsi.rolling(window=window, center=False).max()\n",
    "    stoch = ((rsi - minrsi) / (maxrsi - minrsi)) * 100\n",
    "    K = stoch.rolling(window=k_window, center=False).mean()\n",
    "    D = K.rolling(window=d_window, center=False).mean() \n",
    "    return K, D  \n",
    "\n",
    "stoch_rsi(rsi)\n",
    "\n",
    "def add_stoch_rsi(data, d_window=3, k_window=3, window=14):\n",
    "    data['rsi'] = computeRSI(data['log_close'], window)\n",
    "    data['K'], data['D'] = stoch_rsi(data['rsi'], d_window, k_window, window)\n",
    "    return data\n",
    "\n",
    "add_stoch_rsi(data)\n",
    "\n",
    "def get_bollinger_bands(prices, rate=20):\n",
    "    sma = prices.rolling(rate).mean() # <-- Get SMA for 20 days\n",
    "    std = prices.rolling(rate).std() # <-- Get rolling standard deviation for 20 days\n",
    "    bollinger_up = sma + std * 2 # Calculate top band\n",
    "    bollinger_down = sma - std * 2 # Calculate bottom band\n",
    "    return sma, bollinger_up, bollinger_down\n",
    "\n",
    "prices = data[\"log_close\"]\n",
    "\n",
    "get_bollinger_bands(prices, rate=20)\n",
    "\n",
    "def add_bollinger(data, prices, rate=20):\n",
    "    data['sma'], data['bollinger_up'], data['bollinger_down'] = get_bollinger_bands(prices)\n",
    "    return data\n",
    "\n",
    "add_bollinger(data,prices)\n",
    "\n",
    "def add_vol_roc(data):\n",
    "    data['vol_roc'] = data.volume.pct_change()\n",
    "    return data\n",
    "\n",
    "add_vol_roc(data)\n",
    "data.head(3)"
   ]
  },
  {
   "cell_type": "markdown",
   "metadata": {
    "id": "hnO1Kw4mTOam"
   },
   "source": [
    "### Daily return\n",
    "\n",
    "$ return = \\frac{new - old}{old} $"
   ]
  },
  {
   "cell_type": "code",
   "execution_count": 139,
   "metadata": {
    "executionInfo": {
     "elapsed": 3,
     "status": "ok",
     "timestamp": 1629966976844,
     "user": {
      "displayName": "Ivan Fernandes",
      "photoUrl": "https://lh3.googleusercontent.com/a-/AOh14GgHdj66drQjCguTVvVzCd5yy8cdMluPJPZlz_BQLg=s64",
      "userId": "12100132160237129013"
     },
     "user_tz": -120
    },
    "id": "OkM8CpqykqFz"
   },
   "outputs": [],
   "source": [
    "data['4h Return'] = data['close'].pct_change()\n",
    "data['4h Gradient'] = data['close'].diff()"
   ]
  },
  {
   "cell_type": "code",
   "execution_count": 140,
   "metadata": {
    "executionInfo": {
     "elapsed": 3,
     "status": "ok",
     "timestamp": 1629966978166,
     "user": {
      "displayName": "Ivan Fernandes",
      "photoUrl": "https://lh3.googleusercontent.com/a-/AOh14GgHdj66drQjCguTVvVzCd5yy8cdMluPJPZlz_BQLg=s64",
      "userId": "12100132160237129013"
     },
     "user_tz": -120
    },
    "id": "pjzEF_95arJY"
   },
   "outputs": [],
   "source": [
    "data = data.dropna()"
   ]
  },
  {
   "cell_type": "markdown",
   "metadata": {
    "id": "omE_GM43TOaj"
   },
   "source": [
    "## Time-Series Visualisation"
   ]
  },
  {
   "cell_type": "markdown",
   "metadata": {
    "id": "9He6r2IBTOak"
   },
   "source": [
    "### Historical Stock Prices"
   ]
  },
  {
   "cell_type": "code",
   "execution_count": 141,
   "metadata": {
    "colab": {
     "base_uri": "https://localhost:8080/",
     "height": 433
    },
    "executionInfo": {
     "elapsed": 1080,
     "status": "ok",
     "timestamp": 1629966982994,
     "user": {
      "displayName": "Ivan Fernandes",
      "photoUrl": "https://lh3.googleusercontent.com/a-/AOh14GgHdj66drQjCguTVvVzCd5yy8cdMluPJPZlz_BQLg=s64",
      "userId": "12100132160237129013"
     },
     "user_tz": -120
    },
    "id": "Sn68mhkBTOak",
    "outputId": "2b9e59ce-9d71-4b4b-f8f2-ecaeeab6cc33"
   },
   "outputs": [
    {
     "data": {
      "image/png": "[encoded data removed]",
      "text/plain": [
       "<Figure size 1080x432 with 1 Axes>"
      ]
     },
     "metadata": {},
     "output_type": "display_data"
    }
   ],
   "source": [
    "# Let's see a historical view of the closing price\n",
    "\n",
    "plt.figure(figsize=(15, 6))\n",
    "plt.subplots_adjust(top=1.25, bottom=1.2)\n",
    "\n",
    "data['close'].plot()\n",
    "plt.ylabel('close')\n",
    "plt.xlabel(None)\n",
    "plt.title(f\"Closing Price of {coin_selection}\")\n",
    "    \n",
    "plt.tight_layout()"
   ]
  },
  {
   "cell_type": "markdown",
   "metadata": {
    "id": "LOkzKw4OTOal"
   },
   "source": [
    "### Volumes traded"
   ]
  },
  {
   "cell_type": "code",
   "execution_count": 142,
   "metadata": {
    "colab": {
     "base_uri": "https://localhost:8080/",
     "height": 430
    },
    "executionInfo": {
     "elapsed": 709,
     "status": "ok",
     "timestamp": 1629966985093,
     "user": {
      "displayName": "Ivan Fernandes",
      "photoUrl": "https://lh3.googleusercontent.com/a-/AOh14GgHdj66drQjCguTVvVzCd5yy8cdMluPJPZlz_BQLg=s64",
      "userId": "12100132160237129013"
     },
     "user_tz": -120
    },
    "id": "icuzmUSpTOal",
    "outputId": "e9132fc3-f382-4188-ca4f-d214ebc4acc2"
   },
   "outputs": [
    {
     "data": {
      "image/png": "[encoded data removed]",
      "text/plain": [
       "<Figure size 1080x432 with 1 Axes>"
      ]
     },
     "metadata": {},
     "output_type": "display_data"
    }
   ],
   "source": [
    "# Let's see a historical view of the closing price\n",
    "\n",
    "plt.figure(figsize=(15, 6))\n",
    "plt.subplots_adjust(top=1.25, bottom=1.2)\n",
    "\n",
    "data['volume'].plot()\n",
    "plt.ylabel('Volume')\n",
    "plt.xlabel(None)\n",
    "plt.title(f\"Sales Volume of BTC\")\n",
    "    \n",
    "plt.tight_layout()"
   ]
  },
  {
   "cell_type": "code",
   "execution_count": 143,
   "metadata": {
    "colab": {
     "base_uri": "https://localhost:8080/",
     "height": 438
    },
    "executionInfo": {
     "elapsed": 356,
     "status": "ok",
     "timestamp": 1629967115184,
     "user": {
      "displayName": "Ivan Fernandes",
      "photoUrl": "https://lh3.googleusercontent.com/a-/AOh14GgHdj66drQjCguTVvVzCd5yy8cdMluPJPZlz_BQLg=s64",
      "userId": "12100132160237129013"
     },
     "user_tz": -120
    },
    "id": "xr6neOtXnESl",
    "outputId": "40f7378e-e11c-4e48-9156-2adc1e087421"
   },
   "outputs": [
    {
     "data": {
      "text/html": [
       "<div>\n",
       "<style scoped>\n",
       "    .dataframe tbody tr th:only-of-type {\n",
       "        vertical-align: middle;\n",
       "    }\n",
       "\n",
       "    .dataframe tbody tr th {\n",
       "        vertical-align: top;\n",
       "    }\n",
       "\n",
       "    .dataframe thead th {\n",
       "        text-align: right;\n",
       "    }\n",
       "</style>\n",
       "<table border=\"1\" class=\"dataframe\">\n",
       "  <thead>\n",
       "    <tr style=\"text-align: right;\">\n",
       "      <th></th>\n",
       "      <th>open</th>\n",
       "      <th>high</th>\n",
       "      <th>low</th>\n",
       "      <th>close</th>\n",
       "      <th>volume</th>\n",
       "      <th>log_open</th>\n",
       "      <th>log_high</th>\n",
       "      <th>log_low</th>\n",
       "      <th>log_close</th>\n",
       "      <th>ema12</th>\n",
       "      <th>...</th>\n",
       "      <th>ema55</th>\n",
       "      <th>rsi</th>\n",
       "      <th>K</th>\n",
       "      <th>D</th>\n",
       "      <th>sma</th>\n",
       "      <th>bollinger_up</th>\n",
       "      <th>bollinger_down</th>\n",
       "      <th>vol_roc</th>\n",
       "      <th>4h Return</th>\n",
       "      <th>4h Gradient</th>\n",
       "    </tr>\n",
       "    <tr>\n",
       "      <th>date</th>\n",
       "      <th></th>\n",
       "      <th></th>\n",
       "      <th></th>\n",
       "      <th></th>\n",
       "      <th></th>\n",
       "      <th></th>\n",
       "      <th></th>\n",
       "      <th></th>\n",
       "      <th></th>\n",
       "      <th></th>\n",
       "      <th></th>\n",
       "      <th></th>\n",
       "      <th></th>\n",
       "      <th></th>\n",
       "      <th></th>\n",
       "      <th></th>\n",
       "      <th></th>\n",
       "      <th></th>\n",
       "      <th></th>\n",
       "      <th></th>\n",
       "      <th></th>\n",
       "    </tr>\n",
       "  </thead>\n",
       "  <tbody>\n",
       "    <tr>\n",
       "      <th>2016-09-16 20:00:00</th>\n",
       "      <td>606.420076</td>\n",
       "      <td>606.511450</td>\n",
       "      <td>606.326031</td>\n",
       "      <td>606.412748</td>\n",
       "      <td>2.307185</td>\n",
       "      <td>6.407572</td>\n",
       "      <td>6.407723</td>\n",
       "      <td>6.407417</td>\n",
       "      <td>6.407560</td>\n",
       "      <td>6.408324</td>\n",
       "      <td>...</td>\n",
       "      <td>6.409036</td>\n",
       "      <td>40.074263</td>\n",
       "      <td>66.832576</td>\n",
       "      <td>68.633211</td>\n",
       "      <td>6.409163</td>\n",
       "      <td>6.412655</td>\n",
       "      <td>6.405670</td>\n",
       "      <td>-0.592995</td>\n",
       "      <td>0.001020</td>\n",
       "      <td>0.618162</td>\n",
       "    </tr>\n",
       "    <tr>\n",
       "      <th>2016-09-17 00:00:00</th>\n",
       "      <td>606.393333</td>\n",
       "      <td>606.546449</td>\n",
       "      <td>606.200652</td>\n",
       "      <td>606.373841</td>\n",
       "      <td>0.914466</td>\n",
       "      <td>6.407528</td>\n",
       "      <td>6.407780</td>\n",
       "      <td>6.407210</td>\n",
       "      <td>6.407496</td>\n",
       "      <td>6.408196</td>\n",
       "      <td>...</td>\n",
       "      <td>6.408957</td>\n",
       "      <td>39.930892</td>\n",
       "      <td>54.323486</td>\n",
       "      <td>64.618565</td>\n",
       "      <td>6.409170</td>\n",
       "      <td>6.412646</td>\n",
       "      <td>6.405694</td>\n",
       "      <td>-0.603644</td>\n",
       "      <td>-0.000064</td>\n",
       "      <td>-0.038908</td>\n",
       "    </tr>\n",
       "    <tr>\n",
       "      <th>2016-09-17 04:00:00</th>\n",
       "      <td>605.275088</td>\n",
       "      <td>605.384737</td>\n",
       "      <td>605.165702</td>\n",
       "      <td>605.290175</td>\n",
       "      <td>0.945083</td>\n",
       "      <td>6.405683</td>\n",
       "      <td>6.405864</td>\n",
       "      <td>6.405502</td>\n",
       "      <td>6.405707</td>\n",
       "      <td>6.407812</td>\n",
       "      <td>...</td>\n",
       "      <td>6.408794</td>\n",
       "      <td>36.082672</td>\n",
       "      <td>52.566827</td>\n",
       "      <td>57.907630</td>\n",
       "      <td>6.408919</td>\n",
       "      <td>6.412637</td>\n",
       "      <td>6.405200</td>\n",
       "      <td>0.033480</td>\n",
       "      <td>-0.001787</td>\n",
       "      <td>-1.083665</td>\n",
       "    </tr>\n",
       "    <tr>\n",
       "      <th>2016-09-17 08:00:00</th>\n",
       "      <td>605.660526</td>\n",
       "      <td>605.763263</td>\n",
       "      <td>605.491368</td>\n",
       "      <td>605.612421</td>\n",
       "      <td>1.887662</td>\n",
       "      <td>6.406319</td>\n",
       "      <td>6.406488</td>\n",
       "      <td>6.406039</td>\n",
       "      <td>6.406239</td>\n",
       "      <td>6.407569</td>\n",
       "      <td>...</td>\n",
       "      <td>6.408667</td>\n",
       "      <td>37.996168</td>\n",
       "      <td>47.010486</td>\n",
       "      <td>51.300266</td>\n",
       "      <td>6.408753</td>\n",
       "      <td>6.412644</td>\n",
       "      <td>6.404862</td>\n",
       "      <td>0.997351</td>\n",
       "      <td>0.000532</td>\n",
       "      <td>0.322246</td>\n",
       "    </tr>\n",
       "    <tr>\n",
       "      <th>2016-09-17 12:00:00</th>\n",
       "      <td>605.679435</td>\n",
       "      <td>605.831129</td>\n",
       "      <td>605.474355</td>\n",
       "      <td>605.635484</td>\n",
       "      <td>1.246336</td>\n",
       "      <td>6.406350</td>\n",
       "      <td>6.406601</td>\n",
       "      <td>6.406012</td>\n",
       "      <td>6.406278</td>\n",
       "      <td>6.407370</td>\n",
       "      <td>...</td>\n",
       "      <td>6.408550</td>\n",
       "      <td>38.140984</td>\n",
       "      <td>42.224688</td>\n",
       "      <td>47.267334</td>\n",
       "      <td>6.408580</td>\n",
       "      <td>6.412591</td>\n",
       "      <td>6.404568</td>\n",
       "      <td>-0.339746</td>\n",
       "      <td>0.000038</td>\n",
       "      <td>0.023063</td>\n",
       "    </tr>\n",
       "  </tbody>\n",
       "</table>\n",
       "<p>5 rows × 24 columns</p>\n",
       "</div>"
      ],
      "text/plain": [
       "                           open        high         low       close    volume  \\\n",
       "date                                                                            \n",
       "2016-09-16 20:00:00  606.420076  606.511450  606.326031  606.412748  2.307185   \n",
       "2016-09-17 00:00:00  606.393333  606.546449  606.200652  606.373841  0.914466   \n",
       "2016-09-17 04:00:00  605.275088  605.384737  605.165702  605.290175  0.945083   \n",
       "2016-09-17 08:00:00  605.660526  605.763263  605.491368  605.612421  1.887662   \n",
       "2016-09-17 12:00:00  605.679435  605.831129  605.474355  605.635484  1.246336   \n",
       "\n",
       "                     log_open  log_high   log_low  log_close     ema12  ...  \\\n",
       "date                                                                    ...   \n",
       "2016-09-16 20:00:00  6.407572  6.407723  6.407417   6.407560  6.408324  ...   \n",
       "2016-09-17 00:00:00  6.407528  6.407780  6.407210   6.407496  6.408196  ...   \n",
       "2016-09-17 04:00:00  6.405683  6.405864  6.405502   6.405707  6.407812  ...   \n",
       "2016-09-17 08:00:00  6.406319  6.406488  6.406039   6.406239  6.407569  ...   \n",
       "2016-09-17 12:00:00  6.406350  6.406601  6.406012   6.406278  6.407370  ...   \n",
       "\n",
       "                        ema55        rsi          K          D       sma  \\\n",
       "date                                                                       \n",
       "2016-09-16 20:00:00  6.409036  40.074263  66.832576  68.633211  6.409163   \n",
       "2016-09-17 00:00:00  6.408957  39.930892  54.323486  64.618565  6.409170   \n",
       "2016-09-17 04:00:00  6.408794  36.082672  52.566827  57.907630  6.408919   \n",
       "2016-09-17 08:00:00  6.408667  37.996168  47.010486  51.300266  6.408753   \n",
       "2016-09-17 12:00:00  6.408550  38.140984  42.224688  47.267334  6.408580   \n",
       "\n",
       "                     bollinger_up  bollinger_down   vol_roc  4h Return  \\\n",
       "date                                                                     \n",
       "2016-09-16 20:00:00      6.412655        6.405670 -0.592995   0.001020   \n",
       "2016-09-17 00:00:00      6.412646        6.405694 -0.603644  -0.000064   \n",
       "2016-09-17 04:00:00      6.412637        6.405200  0.033480  -0.001787   \n",
       "2016-09-17 08:00:00      6.412644        6.404862  0.997351   0.000532   \n",
       "2016-09-17 12:00:00      6.412591        6.404568 -0.339746   0.000038   \n",
       "\n",
       "                     4h Gradient  \n",
       "date                              \n",
       "2016-09-16 20:00:00     0.618162  \n",
       "2016-09-17 00:00:00    -0.038908  \n",
       "2016-09-17 04:00:00    -1.083665  \n",
       "2016-09-17 08:00:00     0.322246  \n",
       "2016-09-17 12:00:00     0.023063  \n",
       "\n",
       "[5 rows x 24 columns]"
      ]
     },
     "execution_count": 143,
     "metadata": {},
     "output_type": "execute_result"
    }
   ],
   "source": [
    "data.head()"
   ]
  },
  {
   "cell_type": "code",
   "execution_count": 144,
   "metadata": {
    "colab": {
     "base_uri": "https://localhost:8080/",
     "height": 396
    },
    "executionInfo": {
     "elapsed": 22347,
     "status": "ok",
     "timestamp": 1629967374725,
     "user": {
      "displayName": "Ivan Fernandes",
      "photoUrl": "https://lh3.googleusercontent.com/a-/AOh14GgHdj66drQjCguTVvVzCd5yy8cdMluPJPZlz_BQLg=s64",
      "userId": "12100132160237129013"
     },
     "user_tz": -120
    },
    "id": "gZqR9QqWl3T7",
    "outputId": "08c3ec7e-0b4b-4a45-b1d3-05a758a62e18"
   },
   "outputs": [
    {
     "data": {
      "image/png": "[encoded data removed]",
      "text/plain": [
       "<Figure size 360x360 with 1 Axes>"
      ]
     },
     "metadata": {},
     "output_type": "display_data"
    }
   ],
   "source": [
    "sns.displot(data = data, x= '4h Gradient')\n",
    "plt.ylabel('4h Return')\n",
    "plt.xlim([-500,500])\n",
    "plt.ylim([0,500])\n",
    "plt.title(f\"4h Return  for {coin_selection}\");"
   ]
  },
  {
   "cell_type": "code",
   "execution_count": 145,
   "metadata": {
    "colab": {
     "base_uri": "https://localhost:8080/",
     "height": 388
    },
    "executionInfo": {
     "elapsed": 435,
     "status": "ok",
     "timestamp": 1629967485048,
     "user": {
      "displayName": "Ivan Fernandes",
      "photoUrl": "https://lh3.googleusercontent.com/a-/AOh14GgHdj66drQjCguTVvVzCd5yy8cdMluPJPZlz_BQLg=s64",
      "userId": "12100132160237129013"
     },
     "user_tz": -120
    },
    "id": "k_7EthwKldWf",
    "outputId": "0f91c60d-f72a-4a51-d588-bda4a1b380db"
   },
   "outputs": [
    {
     "data": {
      "text/html": [
       "<div>\n",
       "<style scoped>\n",
       "    .dataframe tbody tr th:only-of-type {\n",
       "        vertical-align: middle;\n",
       "    }\n",
       "\n",
       "    .dataframe tbody tr th {\n",
       "        vertical-align: top;\n",
       "    }\n",
       "\n",
       "    .dataframe thead th {\n",
       "        text-align: right;\n",
       "    }\n",
       "</style>\n",
       "<table border=\"1\" class=\"dataframe\">\n",
       "  <thead>\n",
       "    <tr style=\"text-align: right;\">\n",
       "      <th></th>\n",
       "      <th>close</th>\n",
       "      <th>volume</th>\n",
       "      <th>rsi</th>\n",
       "      <th>4h Return</th>\n",
       "    </tr>\n",
       "    <tr>\n",
       "      <th>date</th>\n",
       "      <th></th>\n",
       "      <th></th>\n",
       "      <th></th>\n",
       "      <th></th>\n",
       "    </tr>\n",
       "  </thead>\n",
       "  <tbody>\n",
       "    <tr>\n",
       "      <th>2018-01-17 04:00:00</th>\n",
       "      <td>11065.859417</td>\n",
       "      <td>15.150922</td>\n",
       "      <td>21.466013</td>\n",
       "      <td>-0.021893</td>\n",
       "    </tr>\n",
       "    <tr>\n",
       "      <th>2019-05-04 20:00:00</th>\n",
       "      <td>5652.356891</td>\n",
       "      <td>8.059058</td>\n",
       "      <td>65.043324</td>\n",
       "      <td>0.013735</td>\n",
       "    </tr>\n",
       "    <tr>\n",
       "      <th>2021-01-09 20:00:00</th>\n",
       "      <td>40676.193792</td>\n",
       "      <td>4.777721</td>\n",
       "      <td>68.949925</td>\n",
       "      <td>0.002318</td>\n",
       "    </tr>\n",
       "    <tr>\n",
       "      <th>2017-12-15 16:00:00</th>\n",
       "      <td>17565.111417</td>\n",
       "      <td>13.544072</td>\n",
       "      <td>66.260850</td>\n",
       "      <td>-0.009998</td>\n",
       "    </tr>\n",
       "    <tr>\n",
       "      <th>2020-09-16 12:00:00</th>\n",
       "      <td>10896.737958</td>\n",
       "      <td>4.294170</td>\n",
       "      <td>70.112622</td>\n",
       "      <td>0.003645</td>\n",
       "    </tr>\n",
       "    <tr>\n",
       "      <th>2017-05-14 00:00:00</th>\n",
       "      <td>1777.722978</td>\n",
       "      <td>4.961849</td>\n",
       "      <td>57.770259</td>\n",
       "      <td>0.024079</td>\n",
       "    </tr>\n",
       "    <tr>\n",
       "      <th>2021-04-05 16:00:00</th>\n",
       "      <td>58931.297333</td>\n",
       "      <td>2.500241</td>\n",
       "      <td>57.639235</td>\n",
       "      <td>0.009244</td>\n",
       "    </tr>\n",
       "    <tr>\n",
       "      <th>2021-01-26 04:00:00</th>\n",
       "      <td>31907.988375</td>\n",
       "      <td>5.719342</td>\n",
       "      <td>42.039615</td>\n",
       "      <td>-0.017362</td>\n",
       "    </tr>\n",
       "    <tr>\n",
       "      <th>2018-09-13 00:00:00</th>\n",
       "      <td>6358.700354</td>\n",
       "      <td>3.740702</td>\n",
       "      <td>53.051012</td>\n",
       "      <td>0.009026</td>\n",
       "    </tr>\n",
       "    <tr>\n",
       "      <th>2019-08-11 04:00:00</th>\n",
       "      <td>11358.735708</td>\n",
       "      <td>3.324617</td>\n",
       "      <td>40.637621</td>\n",
       "      <td>0.003573</td>\n",
       "    </tr>\n",
       "  </tbody>\n",
       "</table>\n",
       "</div>"
      ],
      "text/plain": [
       "                            close     volume        rsi  4h Return\n",
       "date                                                              \n",
       "2018-01-17 04:00:00  11065.859417  15.150922  21.466013  -0.021893\n",
       "2019-05-04 20:00:00   5652.356891   8.059058  65.043324   0.013735\n",
       "2021-01-09 20:00:00  40676.193792   4.777721  68.949925   0.002318\n",
       "2017-12-15 16:00:00  17565.111417  13.544072  66.260850  -0.009998\n",
       "2020-09-16 12:00:00  10896.737958   4.294170  70.112622   0.003645\n",
       "2017-05-14 00:00:00   1777.722978   4.961849  57.770259   0.024079\n",
       "2021-04-05 16:00:00  58931.297333   2.500241  57.639235   0.009244\n",
       "2021-01-26 04:00:00  31907.988375   5.719342  42.039615  -0.017362\n",
       "2018-09-13 00:00:00   6358.700354   3.740702  53.051012   0.009026\n",
       "2019-08-11 04:00:00  11358.735708   3.324617  40.637621   0.003573"
      ]
     },
     "execution_count": 145,
     "metadata": {},
     "output_type": "execute_result"
    }
   ],
   "source": [
    "## get only the close data\n",
    "selected_features=[\"close\",\"volume\",\"rsi\",\"4h Return\"]\n",
    "selected_data = data[selected_features]\n",
    "selected_data.sample(10)"
   ]
  },
  {
   "cell_type": "markdown",
   "metadata": {
    "id": "yB-e6gSuarJp"
   },
   "source": [
    "## Apple Stock Price"
   ]
  },
  {
   "cell_type": "markdown",
   "metadata": {
    "id": "-xCE9uVbTOat"
   },
   "source": [
    "### Temporal Train-Test Split"
   ]
  },
  {
   "cell_type": "code",
   "execution_count": 146,
   "metadata": {
    "executionInfo": {
     "elapsed": 338,
     "status": "ok",
     "timestamp": 1629967515425,
     "user": {
      "displayName": "Ivan Fernandes",
      "photoUrl": "https://lh3.googleusercontent.com/a-/AOh14GgHdj66drQjCguTVvVzCd5yy8cdMluPJPZlz_BQLg=s64",
      "userId": "12100132160237129013"
     },
     "user_tz": -120
    },
    "id": "ywO60BptTOat"
   },
   "outputs": [],
   "source": [
    "train_percentage = 95"
   ]
  },
  {
   "cell_type": "code",
   "execution_count": 147,
   "metadata": {
    "colab": {
     "base_uri": "https://localhost:8080/"
    },
    "executionInfo": {
     "elapsed": 6,
     "status": "ok",
     "timestamp": 1629967587167,
     "user": {
      "displayName": "Ivan Fernandes",
      "photoUrl": "https://lh3.googleusercontent.com/a-/AOh14GgHdj66drQjCguTVvVzCd5yy8cdMluPJPZlz_BQLg=s64",
      "userId": "12100132160237129013"
     },
     "user_tz": -120
    },
    "id": "7WYQ6ez0TOat",
    "outputId": "37e64416-2715-4b67-fb97-87579856daf4"
   },
   "outputs": [
    {
     "data": {
      "text/plain": [
       "10268"
      ]
     },
     "execution_count": 147,
     "metadata": {},
     "output_type": "execute_result"
    }
   ],
   "source": [
    "train_len = int(len(selected_data) * train_percentage/100)\n",
    "train_len"
   ]
  },
  {
   "cell_type": "code",
   "execution_count": 148,
   "metadata": {
    "executionInfo": {
     "elapsed": 381,
     "status": "ok",
     "timestamp": 1629967641312,
     "user": {
      "displayName": "Ivan Fernandes",
      "photoUrl": "https://lh3.googleusercontent.com/a-/AOh14GgHdj66drQjCguTVvVzCd5yy8cdMluPJPZlz_BQLg=s64",
      "userId": "12100132160237129013"
     },
     "user_tz": -120
    },
    "id": "du_UX6DFTOau"
   },
   "outputs": [],
   "source": [
    "data_train = selected_data[:train_len]\n",
    "data_test = selected_data[train_len:]\n"
   ]
  },
  {
   "cell_type": "markdown",
   "metadata": {
    "id": "PO0NJSeTTOau"
   },
   "source": [
    "## LSTM"
   ]
  },
  {
   "cell_type": "code",
   "execution_count": 149,
   "metadata": {
    "executionInfo": {
     "elapsed": 391,
     "status": "ok",
     "timestamp": 1629967656804,
     "user": {
      "displayName": "Ivan Fernandes",
      "photoUrl": "https://lh3.googleusercontent.com/a-/AOh14GgHdj66drQjCguTVvVzCd5yy8cdMluPJPZlz_BQLg=s64",
      "userId": "12100132160237129013"
     },
     "user_tz": -120
    },
    "id": "LsSFTVehTOau"
   },
   "outputs": [],
   "source": [
    "from sklearn.preprocessing import MinMaxScaler\n",
    "\n",
    "minmax_scaler = MinMaxScaler(feature_range = (0,1))\n",
    "\n",
    "minmax_scaler.fit(data_train)\n",
    "\n",
    "data_train_scaled = minmax_scaler.transform(data_train)\n",
    "data_test_scaled = minmax_scaler.transform(data_test)"
   ]
  },
  {
   "cell_type": "code",
   "execution_count": 150,
   "metadata": {
    "colab": {
     "base_uri": "https://localhost:8080/"
    },
    "executionInfo": {
     "elapsed": 3,
     "status": "ok",
     "timestamp": 1629967657307,
     "user": {
      "displayName": "Ivan Fernandes",
      "photoUrl": "https://lh3.googleusercontent.com/a-/AOh14GgHdj66drQjCguTVvVzCd5yy8cdMluPJPZlz_BQLg=s64",
      "userId": "12100132160237129013"
     },
     "user_tz": -120
    },
    "id": "vCCSU71kTOau",
    "outputId": "55400905-ef27-434f-fcf3-cebc738f1d51"
   },
   "outputs": [
    {
     "data": {
      "text/plain": [
       "array([6.43385212e+04, 9.65352924e+01, 9.62292080e+01, 1.35906830e-01])"
      ]
     },
     "execution_count": 150,
     "metadata": {},
     "output_type": "execute_result"
    }
   ],
   "source": [
    "minmax_scaler.data_max_"
   ]
  },
  {
   "cell_type": "code",
   "execution_count": 151,
   "metadata": {
    "colab": {
     "base_uri": "https://localhost:8080/"
    },
    "executionInfo": {
     "elapsed": 4,
     "status": "ok",
     "timestamp": 1629967659501,
     "user": {
      "displayName": "Ivan Fernandes",
      "photoUrl": "https://lh3.googleusercontent.com/a-/AOh14GgHdj66drQjCguTVvVzCd5yy8cdMluPJPZlz_BQLg=s64",
      "userId": "12100132160237129013"
     },
     "user_tz": -120
    },
    "id": "7u5vQbfPTOav",
    "outputId": "4eea426d-b00e-4953-e15f-c41f79618ee7"
   },
   "outputs": [
    {
     "data": {
      "text/plain": [
       "array([ 5.94187857e+02,  2.37415149e-01,  4.35903634e+00, -1.84592994e-01])"
      ]
     },
     "execution_count": 151,
     "metadata": {},
     "output_type": "execute_result"
    }
   ],
   "source": [
    "minmax_scaler.data_min_"
   ]
  },
  {
   "cell_type": "code",
   "execution_count": 152,
   "metadata": {},
   "outputs": [
    {
     "data": {
      "text/plain": [
       "594.1878571428572"
      ]
     },
     "execution_count": 152,
     "metadata": {},
     "output_type": "execute_result"
    }
   ],
   "source": [
    "min1 = minmax_scaler.data_min_[0]\n",
    "min1"
   ]
  },
  {
   "cell_type": "code",
   "execution_count": 153,
   "metadata": {},
   "outputs": [
    {
     "data": {
      "text/plain": [
       "63744.333309523805"
      ]
     },
     "execution_count": 153,
     "metadata": {},
     "output_type": "execute_result"
    }
   ],
   "source": [
    "range1 = minmax_scaler.data_range_[0]\n",
    "range1"
   ]
  },
  {
   "cell_type": "markdown",
   "metadata": {
    "id": "gMim3w6qTOaw"
   },
   "source": [
    "### Creating subsequences..."
   ]
  },
  {
   "cell_type": "code",
   "execution_count": 154,
   "metadata": {
    "executionInfo": {
     "elapsed": 4,
     "status": "ok",
     "timestamp": 1629967702188,
     "user": {
      "displayName": "Ivan Fernandes",
      "photoUrl": "https://lh3.googleusercontent.com/a-/AOh14GgHdj66drQjCguTVvVzCd5yy8cdMluPJPZlz_BQLg=s64",
      "userId": "12100132160237129013"
     },
     "user_tz": -120
    },
    "id": "uLSYeXScTOaz"
   },
   "outputs": [],
   "source": [
    "window_size = 18 # test with small window size\n",
    "horizon = 1 #number of predictions into the future :) \n",
    "data_train_subsequences = []\n",
    "fake_y_train = []\n",
    "for k in range(len(data_train_scaled)-(window_size-1)-horizon):\n",
    "    data_train_subsequences.append(data_train_scaled[k:k+window_size])\n",
    "    fake_y_train.append(data_train_scaled[k+window_size])"
   ]
  },
  {
   "cell_type": "code",
   "execution_count": 155,
   "metadata": {},
   "outputs": [],
   "source": [
    "X_train = np.array(data_train_subsequences)\n",
    "y_train = np.array(fake_y_train)[:,0].reshape(-1,1)"
   ]
  },
  {
   "cell_type": "code",
   "execution_count": 156,
   "metadata": {},
   "outputs": [
    {
     "data": {
      "text/plain": [
       "(10250, 18, 4)"
      ]
     },
     "execution_count": 156,
     "metadata": {},
     "output_type": "execute_result"
    }
   ],
   "source": [
    "X_train.shape"
   ]
  },
  {
   "cell_type": "code",
   "execution_count": 157,
   "metadata": {},
   "outputs": [
    {
     "data": {
      "text/plain": [
       "(10250, 1)"
      ]
     },
     "execution_count": 157,
     "metadata": {},
     "output_type": "execute_result"
    }
   ],
   "source": [
    "y_train.shape"
   ]
  },
  {
   "cell_type": "code",
   "execution_count": 158,
   "metadata": {},
   "outputs": [],
   "source": [
    "#with the same window_size & horizon as the train data\n",
    "window_size = 18\n",
    "horizon = 1\n",
    "data_test_subsequences = []\n",
    "fake_y_test = []\n",
    "for k in range(len(data_test_scaled)-(window_size-1)-horizon):\n",
    "    data_test_subsequences.append(data_test_scaled[k:k+window_size])\n",
    "    fake_y_test.append(data_test_scaled[k+window_size])"
   ]
  },
  {
   "cell_type": "code",
   "execution_count": 159,
   "metadata": {},
   "outputs": [],
   "source": [
    "X_test = np.array(data_test_subsequences)\n",
    "y_test = np.array(fake_y_test)[:,0].reshape(-1,1)"
   ]
  },
  {
   "cell_type": "code",
   "execution_count": 160,
   "metadata": {},
   "outputs": [
    {
     "data": {
      "text/plain": [
       "(523, 18, 4)"
      ]
     },
     "execution_count": 160,
     "metadata": {},
     "output_type": "execute_result"
    }
   ],
   "source": [
    "X_test.shape"
   ]
  },
  {
   "cell_type": "code",
   "execution_count": 161,
   "metadata": {},
   "outputs": [
    {
     "data": {
      "text/plain": [
       "(523, 1)"
      ]
     },
     "execution_count": 161,
     "metadata": {},
     "output_type": "execute_result"
    }
   ],
   "source": [
    "y_test.shape"
   ]
  },
  {
   "cell_type": "markdown",
   "metadata": {
    "id": "KU7fCgwYTOa2"
   },
   "source": [
    "### LSTM"
   ]
  },
  {
   "cell_type": "markdown",
   "metadata": {
    "id": "4VXmMApdTOa3"
   },
   "source": [
    "#### RNN Architecture"
   ]
  },
  {
   "cell_type": "code",
   "execution_count": 162,
   "metadata": {
    "colab": {
     "base_uri": "https://localhost:8080/"
    },
    "executionInfo": {
     "elapsed": 2,
     "status": "ok",
     "timestamp": 1629968945439,
     "user": {
      "displayName": "Ivan Fernandes",
      "photoUrl": "https://lh3.googleusercontent.com/a-/AOh14GgHdj66drQjCguTVvVzCd5yy8cdMluPJPZlz_BQLg=s64",
      "userId": "12100132160237129013"
     },
     "user_tz": -120
    },
    "id": "cPGw4CxharJx",
    "outputId": "eff5edb9-92ef-4a1c-d0f7-34e50a8596ce"
   },
   "outputs": [
    {
     "data": {
      "text/plain": [
       "(523, 1)"
      ]
     },
     "execution_count": 162,
     "metadata": {},
     "output_type": "execute_result"
    }
   ],
   "source": [
    "pd.DataFrame(y_test).shape"
   ]
  },
  {
   "cell_type": "code",
   "execution_count": 163,
   "metadata": {
    "executionInfo": {
     "elapsed": 1,
     "status": "ok",
     "timestamp": 1629968945884,
     "user": {
      "displayName": "Ivan Fernandes",
      "photoUrl": "https://lh3.googleusercontent.com/a-/AOh14GgHdj66drQjCguTVvVzCd5yy8cdMluPJPZlz_BQLg=s64",
      "userId": "12100132160237129013"
     },
     "user_tz": -120
    },
    "id": "ZPwe_lkATOa3"
   },
   "outputs": [],
   "source": [
    "from tensorflow.keras import metrics\n",
    "\n",
    "my_mae = metrics.MeanAbsoluteError(\n",
    "    name='mean_absolute_error', dtype=None\n",
    ")\n"
   ]
  },
  {
   "cell_type": "markdown",
   "metadata": {},
   "source": [
    "#### Model"
   ]
  },
  {
   "cell_type": "code",
   "execution_count": 164,
   "metadata": {
    "colab": {
     "base_uri": "https://localhost:8080/"
    },
    "executionInfo": {
     "elapsed": 1953,
     "status": "ok",
     "timestamp": 1629968948177,
     "user": {
      "displayName": "Ivan Fernandes",
      "photoUrl": "https://lh3.googleusercontent.com/a-/AOh14GgHdj66drQjCguTVvVzCd5yy8cdMluPJPZlz_BQLg=s64",
      "userId": "12100132160237129013"
     },
     "user_tz": -120
    },
    "id": "GkEjh2ngTOa4",
    "outputId": "934eff05-c3ac-4046-984c-0401bd0b2484"
   },
   "outputs": [],
   "source": [
    "from tensorflow.keras import Sequential, layers\n",
    "\n",
    "# Build the LSTM model\n",
    "model = Sequential()\n",
    "\n",
    "model.add(layers.LSTM(units=128,\n",
    "                     return_sequences = True,\n",
    "                    activation = \"tanh\"\n",
    "                    #activation = \"relu\"\n",
    "                     #input_shape = X_train[0].shape)\n",
    "                     ))\n",
    "\n",
    "model.add(layers.LSTM(units=64,\n",
    "                      return_sequences = False,\n",
    "                     #activation = \"tanh\"  \n",
    "                     activation = \"relu\"\n",
    "                     ))\n",
    "\n",
    "# model.add(layers.Dense(25,\n",
    "#                          activation=\"relu\"))\n",
    "model.add(layers.Dense(32,\n",
    "                     activation = \"tanh\" \n",
    "                     #activation=\"relu\"\n",
    "                      ))\n",
    "#model.add(layers.Dense(16,activation=\"relu\"))\n",
    "model.add(layers.Dense(8,\n",
    "                      #activation = \"tanh\"\n",
    "                      activation=\"relu\"\n",
    "                      ))\n",
    "model.add(layers.Dense(1,\n",
    "                      #activation = \"tanh\" \n",
    "                      activation=\"relu\"\n",
    "                      ))\n",
    "\n",
    "#model.summary()\n",
    "\n"
   ]
  },
  {
   "cell_type": "code",
   "execution_count": 165,
   "metadata": {
    "executionInfo": {
     "elapsed": 340,
     "status": "ok",
     "timestamp": 1629968954711,
     "user": {
      "displayName": "Ivan Fernandes",
      "photoUrl": "https://lh3.googleusercontent.com/a-/AOh14GgHdj66drQjCguTVvVzCd5yy8cdMluPJPZlz_BQLg=s64",
      "userId": "12100132160237129013"
     },
     "user_tz": -120
    },
    "id": "igW2CAISTOa5"
   },
   "outputs": [],
   "source": [
    "model.compile(loss=\"mse\",\n",
    "             optimizer = \"adam\",#rmsprop\n",
    "             metrics = \"mae\"#[my_mae]\n",
    "             )"
   ]
  },
  {
   "cell_type": "markdown",
   "metadata": {
    "id": "0JoMEFYdTOa5"
   },
   "source": [
    "#### Training"
   ]
  },
  {
   "cell_type": "code",
   "execution_count": 166,
   "metadata": {
    "executionInfo": {
     "elapsed": 357,
     "status": "ok",
     "timestamp": 1629968962645,
     "user": {
      "displayName": "Ivan Fernandes",
      "photoUrl": "https://lh3.googleusercontent.com/a-/AOh14GgHdj66drQjCguTVvVzCd5yy8cdMluPJPZlz_BQLg=s64",
      "userId": "12100132160237129013"
     },
     "user_tz": -120
    },
    "id": "u8mqJaUWarJy"
   },
   "outputs": [],
   "source": [
    "#### perhaps create a validation and train sets by hand"
   ]
  },
  {
   "cell_type": "code",
   "execution_count": 167,
   "metadata": {
    "colab": {
     "base_uri": "https://localhost:8080/"
    },
    "executionInfo": {
     "elapsed": 89008,
     "status": "ok",
     "timestamp": 1629969056811,
     "user": {
      "displayName": "Ivan Fernandes",
      "photoUrl": "https://lh3.googleusercontent.com/a-/AOh14GgHdj66drQjCguTVvVzCd5yy8cdMluPJPZlz_BQLg=s64",
      "userId": "12100132160237129013"
     },
     "user_tz": -120
    },
    "id": "x8WmFMDoTOa6",
    "outputId": "c4129e5e-d680-4199-e200-ed02360e4cc6"
   },
   "outputs": [
    {
     "name": "stdout",
     "output_type": "stream",
     "text": [
      "Epoch 1/5\n",
      "449/449 [==============================] - 9s 16ms/step - loss: 0.0100 - mae: 0.0816 - val_loss: 0.1868 - val_mae: 0.3285\n",
      "Epoch 2/5\n",
      "449/449 [==============================] - 7s 15ms/step - loss: 0.0100 - mae: 0.0816 - val_loss: 0.1868 - val_mae: 0.3285\n",
      "Epoch 3/5\n",
      "449/449 [==============================] - 7s 15ms/step - loss: 0.0100 - mae: 0.0816 - val_loss: 0.1868 - val_mae: 0.3285\n",
      "Epoch 4/5\n",
      "449/449 [==============================] - 7s 15ms/step - loss: 0.0100 - mae: 0.0816 - val_loss: 0.1868 - val_mae: 0.3285\n",
      "Epoch 5/5\n",
      "449/449 [==============================] - 7s 16ms/step - loss: 0.0100 - mae: 0.0816 - val_loss: 0.1868 - val_mae: 0.3285\n"
     ]
    }
   ],
   "source": [
    "# from tensorflow.keras.callbacks import EarlyStopping \n",
    "\n",
    "# es = EarlyStopping(#patience = 5, \n",
    "#                    restore_best_weights=\n",
    "#                    #monitor = \"val_mean_absolute_error\"\n",
    "#                   )\n",
    "\n",
    "history = model.fit(X_train, y_train,\n",
    "          validation_split = 0.3,\n",
    "         batch_size=16,\n",
    "         epochs=5,\n",
    "         verbose = 1,\n",
    "         #callbacks = [es]\n",
    "                   )"
   ]
  },
  {
   "cell_type": "code",
   "execution_count": 168,
   "metadata": {
    "executionInfo": {
     "elapsed": 618,
     "status": "ok",
     "timestamp": 1629971280020,
     "user": {
      "displayName": "Ivan Fernandes",
      "photoUrl": "https://lh3.googleusercontent.com/a-/AOh14GgHdj66drQjCguTVvVzCd5yy8cdMluPJPZlz_BQLg=s64",
      "userId": "12100132160237129013"
     },
     "user_tz": -120
    },
    "id": "6BnpySGUL453"
   },
   "outputs": [],
   "source": [
    "def plot_loss_mae(history):\n",
    "    \n",
    "    fig, ax =plt.subplots(1,2,figsize=(20,5))\n",
    "    \n",
    "    # --- LOSS\n",
    "    \n",
    "    ax[0].plot(history.history['loss'])\n",
    "    ax[0].plot(history.history['val_loss'])\n",
    "    ax[0].set_title('Model loss')\n",
    "    ax[0].set_xlabel('Epoch')\n",
    "    ax[0].set_ylabel('Loss')\n",
    "    ax[0].legend(['Train', 'Val'], loc='upper right')\n",
    "    ax[0].grid(axis=\"x\",linewidth=0.5)\n",
    "    ax[0].grid(axis=\"y\",linewidth=0.5)\n",
    "    \n",
    "#     # --- MAE\n",
    "\n",
    "#     ax[1].plot(history.history['mean_absolute_error'])\n",
    "#     ax[1].plot(history.history['val_mean_absolute_error'])\n",
    "#     ax[1].set_title('Model MAE', fontsize = 18)\n",
    "#     ax[1].set_xlabel('Epoch', fontsize = 14)\n",
    "#     ax[1].set_ylabel('Recall', fontsize = 14)\n",
    "#     ax[1].legend(['Train', 'Val'], loc='lower right') \n",
    "#     ax[1].grid(axis=\"x\",linewidth=0.5)\n",
    "#     ax[1].grid(axis=\"y\",linewidth=0.5)   \n",
    "    \n",
    "    plt.show()\n",
    "    "
   ]
  },
  {
   "cell_type": "code",
   "execution_count": 169,
   "metadata": {
    "colab": {
     "base_uri": "https://localhost:8080/",
     "height": 330
    },
    "executionInfo": {
     "elapsed": 775,
     "status": "ok",
     "timestamp": 1629971280790,
     "user": {
      "displayName": "Ivan Fernandes",
      "photoUrl": "https://lh3.googleusercontent.com/a-/AOh14GgHdj66drQjCguTVvVzCd5yy8cdMluPJPZlz_BQLg=s64",
      "userId": "12100132160237129013"
     },
     "user_tz": -120
    },
    "id": "CYBdZyrzL454",
    "outputId": "be857210-3dbb-4216-8037-6adedfac0875"
   },
   "outputs": [
    {
     "data": {
      "image/png": "[encoded data removed]",
      "text/plain": [
       "<Figure size 1440x360 with 2 Axes>"
      ]
     },
     "metadata": {},
     "output_type": "display_data"
    }
   ],
   "source": [
    "plot_loss_mae(history)"
   ]
  },
  {
   "cell_type": "markdown",
   "metadata": {
    "id": "dPlbdR24TOa7"
   },
   "source": [
    "#### Evaluating"
   ]
  },
  {
   "cell_type": "code",
   "execution_count": 170,
   "metadata": {
    "colab": {
     "base_uri": "https://localhost:8080/",
     "height": 370
    },
    "executionInfo": {
     "elapsed": 346,
     "status": "error",
     "timestamp": 1629971289974,
     "user": {
      "displayName": "Ivan Fernandes",
      "photoUrl": "https://lh3.googleusercontent.com/a-/AOh14GgHdj66drQjCguTVvVzCd5yy8cdMluPJPZlz_BQLg=s64",
      "userId": "12100132160237129013"
     },
     "user_tz": -120
    },
    "id": "fGR98XHrTOa7",
    "outputId": "eae3ab01-8077-4116-c16d-93c6c971a35d"
   },
   "outputs": [
    {
     "name": "stdout",
     "output_type": "stream",
     "text": [
      "17/17 [==============================] - 0s 8ms/step - loss: 0.3407 - mae: 0.5784\n"
     ]
    },
    {
     "data": {
      "text/plain": [
       "[0.34073781967163086, 0.5784142017364502]"
      ]
     },
     "execution_count": 170,
     "metadata": {},
     "output_type": "execute_result"
    }
   ],
   "source": [
    "res = model.evaluate(X_test, np.array(y_test), verbose = 1)\n",
    "res\n"
   ]
  },
  {
   "cell_type": "markdown",
   "metadata": {
    "id": "o3S6CvgCTOa8"
   },
   "source": [
    "#### Predictions"
   ]
  },
  {
   "cell_type": "code",
   "execution_count": 171,
   "metadata": {
    "executionInfo": {
     "elapsed": 3825,
     "status": "ok",
     "timestamp": 1629969068317,
     "user": {
      "displayName": "Ivan Fernandes",
      "photoUrl": "https://lh3.googleusercontent.com/a-/AOh14GgHdj66drQjCguTVvVzCd5yy8cdMluPJPZlz_BQLg=s64",
      "userId": "12100132160237129013"
     },
     "user_tz": -120
    },
    "id": "_a1LDha2TOa9"
   },
   "outputs": [],
   "source": [
    "predictions = model.predict(X_test)\n"
   ]
  },
  {
   "cell_type": "code",
   "execution_count": 172,
   "metadata": {
    "colab": {
     "base_uri": "https://localhost:8080/"
    },
    "executionInfo": {
     "elapsed": 14,
     "status": "ok",
     "timestamp": 1629969068318,
     "user": {
      "displayName": "Ivan Fernandes",
      "photoUrl": "https://lh3.googleusercontent.com/a-/AOh14GgHdj66drQjCguTVvVzCd5yy8cdMluPJPZlz_BQLg=s64",
      "userId": "12100132160237129013"
     },
     "user_tz": -120
    },
    "id": "abi96XmrTOa-",
    "outputId": "d96a92dc-04ec-4680-b3a2-ed4c39f13817"
   },
   "outputs": [
    {
     "data": {
      "text/plain": [
       "(523, 523)"
      ]
     },
     "execution_count": 172,
     "metadata": {},
     "output_type": "execute_result"
    }
   ],
   "source": [
    "len(predictions), len(y_test)"
   ]
  },
  {
   "cell_type": "code",
   "execution_count": 173,
   "metadata": {
    "colab": {
     "base_uri": "https://localhost:8080/"
    },
    "executionInfo": {
     "elapsed": 11,
     "status": "ok",
     "timestamp": 1629969068318,
     "user": {
      "displayName": "Ivan Fernandes",
      "photoUrl": "https://lh3.googleusercontent.com/a-/AOh14GgHdj66drQjCguTVvVzCd5yy8cdMluPJPZlz_BQLg=s64",
      "userId": "12100132160237129013"
     },
     "user_tz": -120
    },
    "id": "WbG_o9xrTOa-",
    "outputId": "586ea1e0-d0c1-400e-88fd-b45f46966093"
   },
   "outputs": [
    {
     "data": {
      "text/plain": [
       "array([[0.],\n",
       "       [0.],\n",
       "       [0.]], dtype=float32)"
      ]
     },
     "execution_count": 173,
     "metadata": {},
     "output_type": "execute_result"
    }
   ],
   "source": [
    "predictions[0:3]"
   ]
  },
  {
   "cell_type": "code",
   "execution_count": 174,
   "metadata": {},
   "outputs": [],
   "source": [
    "y_test_unscaled = y_test * range1 + min1"
   ]
  },
  {
   "cell_type": "code",
   "execution_count": 175,
   "metadata": {},
   "outputs": [],
   "source": [
    "predictions_unscaled = predictions * range1 + min1"
   ]
  },
  {
   "cell_type": "code",
   "execution_count": 176,
   "metadata": {},
   "outputs": [
    {
     "data": {
      "text/plain": [
       "array([[594.18787],\n",
       "       [594.18787],\n",
       "       [594.18787]], dtype=float32)"
      ]
     },
     "execution_count": 176,
     "metadata": {},
     "output_type": "execute_result"
    }
   ],
   "source": [
    "predictions_unscaled[0:3]"
   ]
  },
  {
   "cell_type": "markdown",
   "metadata": {
    "id": "bN_vtDyWTOa-"
   },
   "source": [
    "The operation computed during a `MinMaxScaler` Operation is:\n",
    "\n",
    "$$x_{scaled} = \\frac{x - x_{min}}{x_{max}- x_{min}}$$\n",
    "\n",
    "To descale it:\n",
    "\n",
    "$$x = x_{scaled} * (x_{max}- x_{min}) + x_{min}$$\n",
    "\n",
    "Or use the `inverse_transform` directly provided..."
   ]
  },
  {
   "cell_type": "code",
   "execution_count": 177,
   "metadata": {},
   "outputs": [
    {
     "data": {
      "text/plain": [
       "36870.62801569624"
      ]
     },
     "execution_count": 177,
     "metadata": {},
     "output_type": "execute_result"
    }
   ],
   "source": [
    "np.mean(np.abs(y_test_unscaled - predictions_unscaled))"
   ]
  },
  {
   "cell_type": "markdown",
   "metadata": {},
   "source": [
    "## PACF - ACF"
   ]
  },
  {
   "cell_type": "code",
   "execution_count": 178,
   "metadata": {},
   "outputs": [],
   "source": [
    "data_close =data[[\"close\"]].reset_index()"
   ]
  },
  {
   "cell_type": "code",
   "execution_count": 179,
   "metadata": {},
   "outputs": [],
   "source": [
    "two_months = (24/4)*120"
   ]
  },
  {
   "cell_type": "code",
   "execution_count": 180,
   "metadata": {},
   "outputs": [],
   "source": [
    "index = data_close[\"close\"].shape[0]-two_months"
   ]
  },
  {
   "cell_type": "code",
   "execution_count": 181,
   "metadata": {
    "scrolled": false
   },
   "outputs": [],
   "source": [
    "data_two_months = data_close[\"close\"][int(index):int(data_close[\"close\"].shape[0]-1)]"
   ]
  },
  {
   "cell_type": "code",
   "execution_count": 182,
   "metadata": {},
   "outputs": [
    {
     "data": {
      "text/plain": [
       "array([49636.51558333, 50039.39133333, 49914.501875  , 48539.33116667,\n",
       "       51405.32720833, 52577.68620833, 53110.47804167, 53682.81633333,\n",
       "       53904.53920833, 53552.97908333, 53789.82408333, 54190.67908333,\n",
       "       54733.08      , 54954.47245833, 54874.85495833, 55079.592375  ,\n",
       "       55410.22308333, 54576.14866667, 54453.943125  , 54782.38358333,\n",
       "       54817.82570833, 54755.10991667, 54635.32245833, 54152.610875  ,\n",
       "       54362.79491667, 53971.66020833, 53041.18016667, 53183.98066667,\n",
       "       53521.11395833, 54250.87129167, 54437.93225   , 55595.23404167,\n",
       "       56868.33533333, 57140.01941667, 58129.16245833, 58081.59991667,\n",
       "       57642.0995    , 57669.02970833, 57620.18070833, 57726.39466667,\n",
       "       57482.19679167, 56841.676125  , 56590.69108333, 56824.78283333,\n",
       "       56750.23858333, 56724.73933333, 57810.45729167, 58070.392     ,\n",
       "       58653.70175   , 58177.22116667, 57769.03954167, 57098.70241667,\n",
       "       55896.26108333, 56008.56604167, 56145.9685    , 55301.20983333,\n",
       "       54204.56691667, 54226.74154167, 54775.15929167, 54624.78225   ,\n",
       "       55307.59604167, 56224.05383333, 57442.24625   , 57080.03170833,\n",
       "       57006.21016667, 57006.29783333, 57546.592875  , 57426.892     ,\n",
       "       56603.8595    , 56285.43591667, 56195.21504167, 55913.33354167,\n",
       "       56307.28091667, 57157.05879167, 57967.78183333, 57457.71054167,\n",
       "       57826.48829167, 58049.41016667, 58861.258125  , 58818.630125  ,\n",
       "       58854.28095833, 58911.45283333, 58865.95458333, 58318.22604167,\n",
       "       58007.652     , 57212.636125  , 57507.73170833, 58063.84145833,\n",
       "       58847.14695833, 59052.05075   , 58129.59083333, 57674.742125  ,\n",
       "       57224.05275   , 55640.59145833, 55458.99345833, 55365.00091667,\n",
       "       55743.24345833, 55606.055625  , 56425.016875  , 56665.45      ,\n",
       "       57212.15420833, 57375.88929167, 56654.58004167, 56304.47420833,\n",
       "       54648.39829167, 53368.98358333, 49970.14820833, 50966.21579167,\n",
       "       49811.57775   , 50228.37070833, 48766.66766667, 49322.36495833,\n",
       "       49828.1565    , 49470.44466667, 50533.75266667, 50787.926375  ,\n",
       "       50712.34383333, 49848.72166667, 50069.17866667, 49306.18691667,\n",
       "       48587.0655    , 49154.62954167, 47896.72170833, 48110.493875  ,\n",
       "       47823.689     , 48650.01054167, 49214.79370833, 48589.13070833,\n",
       "       46679.41920833, 45345.66054167, 44933.27120833, 43927.33916667,\n",
       "       45188.37      , 44606.04670833, 43288.45666667, 43876.236125  ,\n",
       "       44731.44791667, 45266.78575   , 45188.75545833, 43743.54816667,\n",
       "       43177.529875  , 43046.68175   , 41563.28854167, 39597.89991667,\n",
       "       39680.31966667, 36142.85275   , 38816.01229167, 38683.34075   ,\n",
       "       37409.87091667, 39804.62279167, 39911.09891667, 41754.86483333,\n",
       "       39750.221375  , 40536.76516667, 41333.906375  , 39998.30625   ,\n",
       "       40506.26241667, 39654.727     , 36890.15895833, 36271.56633333,\n",
       "       37450.87183333, 36217.30433333, 37382.79879167, 38174.27195833,\n",
       "       37961.94754167, 37849.61529167, 37731.50425   , 36802.931     ,\n",
       "       35031.01566667, 33866.97195833, 32672.45804167, 34170.07333333,\n",
       "       35341.35991667, 35576.37725   , 36688.69629167, 37858.70679167,\n",
       "       37829.88425   , 38842.05841667, 38797.501625  , 38533.76395833,\n",
       "       37743.49516667, 37546.90758333, 37889.19      , 37979.07854167,\n",
       "       38814.478875  , 39821.14379167, 40021.11395833, 39388.149625  ,\n",
       "       38638.55529167, 38900.76933333, 38112.16125   , 37959.39166667,\n",
       "       39180.26529167, 39878.92716667, 39052.70908333, 38689.7045    ,\n",
       "       38199.696625  , 37195.57      , 36106.58145833, 36731.966625  ,\n",
       "       36100.01316667, 35327.85075   , 36252.035625  , 36592.60566667,\n",
       "       35485.419375  , 34660.38095833, 34157.66283333, 34397.42658333,\n",
       "       34194.695     , 35377.00670833, 35867.393625  , 35599.62791667,\n",
       "       35950.02675   , 35943.12425   , 34984.39054167, 34858.03941667,\n",
       "       36459.32129167, 36825.64770833, 36886.171875  , 36971.18720833,\n",
       "       37214.61808333, 36946.10208333, 36349.81204167, 36496.031     ,\n",
       "       36104.65433333, 36371.10895833, 36377.154125  , 36819.05291667,\n",
       "       37220.40895833, 37641.73070833, 37932.53308333, 37709.47620833,\n",
       "       37438.08966667, 38451.48554167, 39032.49341667, 38691.97179167,\n",
       "       38726.2485    , 38871.1415    , 38102.584     , 37054.99454167,\n",
       "       36687.93991667, 36623.88866667, 37040.34645833, 37065.810375  ,\n",
       "       37529.58920833, 37667.22504167, 36951.71358333, 35877.60108333,\n",
       "       36096.50029167, 35433.75216667, 35927.99883333, 36065.947625  ,\n",
       "       36109.33741667, 35923.71970833, 36014.10608333, 35753.83670833,\n",
       "       36436.41754167, 36233.80683333, 36332.17154167, 36287.40254167,\n",
       "       35680.47079167, 34364.973375  , 33390.21495833, 32848.13554167,\n",
       "       32974.600625  , 32300.10633333, 32357.790125  , 33451.07733333,\n",
       "       32901.50025   , 33575.19708333, 34326.74579167, 35343.02866667,\n",
       "       36341.24625   , 36774.753625  , 37125.00966667, 36829.00616667,\n",
       "       37378.02433333, 37443.248625  , 36686.21683333, 36589.49      ,\n",
       "       36482.905875  , 36899.19058333, 37276.75841667, 37242.30841667,\n",
       "       36934.38475   , 37199.86970833, 36362.13041667, 35336.25083333,\n",
       "       35357.02125   , 35758.13125   , 35699.66233333, 35840.1995    ,\n",
       "       35502.81620833, 35120.434125  , 35713.7635    , 35925.410875  ,\n",
       "       37206.71166667, 38887.3965    , 39062.811125  , 39364.17941667,\n",
       "       39205.41425   , 40282.0595    , 40015.62170833, 40143.25266667,\n",
       "       40348.34966667, 40370.38      , 40000.94291667, 40092.263125  ,\n",
       "       40441.49395833, 40067.37133333, 39994.04304167, 40256.10645833,\n",
       "       39819.17891667, 39043.66595833, 38831.40908333, 38574.34075   ,\n",
       "       38708.13695833, 39015.189375  , 39297.63875   , 38814.21741667,\n",
       "       38022.46720833, 37789.08729167, 37785.004     , 37773.85845833,\n",
       "       37738.49070833, 37033.568625  , 36059.68616667, 35574.10320833,\n",
       "       35745.273     , 35473.82241667, 35786.732875  , 35988.37241667,\n",
       "       35752.22533333, 35798.92058333, 35511.210875  , 35643.60716667,\n",
       "       34725.88041667, 34065.8595    , 34778.01541667, 35661.60841667,\n",
       "       35218.00045833, 33696.92566667, 32757.65033333, 32657.82508333,\n",
       "       32484.93570833, 32004.21341667, 32399.49095833, 32740.83204167,\n",
       "       31669.12016667, 30154.84841667, 32529.65241667, 32539.56158333,\n",
       "       33617.80358333, 34011.677625  , 34036.24516667, 34048.97304167,\n",
       "       33483.41829167, 33333.99991667, 32925.20979167, 32805.58483333,\n",
       "       33287.627125  , 34047.21695833, 34691.018375  , 34751.44775   ,\n",
       "       34882.36691667, 34496.48770833, 33891.63120833, 32999.01679167,\n",
       "       32115.84545833, 31845.57929167, 31891.72079167, 31929.17679167,\n",
       "       30926.59166667, 31275.95616667, 31418.76670833, 31480.41895833,\n",
       "       32739.04975   , 33111.93575   , 32933.81470833, 33175.96929167,\n",
       "       32900.33966667, 33474.05429167, 34506.56545833, 34562.41191667,\n",
       "       34482.12075   , 34399.87175   , 34431.517875  , 34470.86279167,\n",
       "       34632.52816667, 34889.38466667, 35283.76845833, 36115.48133333,\n",
       "       36312.14429167, 36137.77533333, 35729.36541667, 35001.30233333,\n",
       "       34816.02695833, 34594.72566667, 34540.51770833, 34898.41808333,\n",
       "       34630.32366667, 34048.43641667, 33384.93995833, 33520.35595833,\n",
       "       33321.82608333, 33461.26366667, 33368.50008333, 33029.49725   ,\n",
       "       33110.35566667, 33366.97658333, 33426.70525   , 33461.22683333,\n",
       "       33587.00408333, 33773.54654167, 34571.76270833, 34634.644125  ,\n",
       "       34655.04070833, 34640.11220833, 34592.574125  , 35090.599     ,\n",
       "       35516.89079167, 35427.56420833, 35527.38695833, 35553.73825   ,\n",
       "       34645.35233333, 34249.0355    , 34227.05870833, 33631.4165    ,\n",
       "       33830.44116667, 34030.17670833, 33925.58920833, 34704.711125  ,\n",
       "       34288.63483333, 34146.7785    , 33920.45666667, 33983.122875  ,\n",
       "       34219.72925   , 34736.81758333, 34764.797875  , 34751.37220833,\n",
       "       34631.86933333, 34271.7355    , 33378.86191667, 33163.08775   ,\n",
       "       32529.35670833, 32676.80479167, 32860.38775   , 32795.78504167,\n",
       "       32738.54308333, 32979.327875  , 32848.02558333, 33280.43645833,\n",
       "       33470.23679167, 33751.37695833, 33888.53208333, 33718.243125  ,\n",
       "       33766.370375  , 33811.40925   , 33618.305625  , 33462.63504167,\n",
       "       33613.88829167, 33501.958875  , 33707.53929167, 33835.94333333,\n",
       "       33937.50929167, 34219.69754167, 34245.345125  , 34348.082     ,\n",
       "       34012.59895833, 33483.49379167, 33125.28395833, 32967.48754167,\n",
       "       33105.959875  , 33035.61016667, 33173.988625  , 32616.57308333,\n",
       "       32643.86620833, 32537.02270833, 32379.55020833, 31906.14854167,\n",
       "       32290.518125  , 32690.254875  , 32816.12291667, 32855.32883333,\n",
       "       32832.128     , 32546.36670833, 32253.82433333, 31782.22270833,\n",
       "       31456.77004167, 31726.71229167, 31842.59716667, 31785.645875  ,\n",
       "       31378.385875  , 31759.99391667, 32021.20316667, 31737.44445833,\n",
       "       31389.84408333, 31457.83883333, 31497.177125  , 31579.55354167,\n",
       "       31747.29783333, 31700.68133333, 32065.43554167, 32001.959     ,\n",
       "       31725.996125  , 31610.794125  , 31568.35995833, 31664.30895833,\n",
       "       31606.33304167, 31724.631875  , 31413.64408333, 30798.56904167,\n",
       "       30707.14070833, 30819.96220833, 30435.20583333, 29709.06108333,\n",
       "       29671.379625  , 29687.43004167, 29757.08454167, 29748.20725   ,\n",
       "       29752.743375  , 30681.30804167, 31142.442375  , 31665.29733333,\n",
       "       32037.91779167, 31892.15016667, 32019.18016667, 32063.8075    ,\n",
       "       31975.9       , 32140.02683333, 32358.60716667, 32269.15079167,\n",
       "       32515.01358333, 32611.64966667, 32397.3575    , 32436.08283333,\n",
       "       32184.86808333, 32810.90904167, 33609.007     , 33766.64216667,\n",
       "       33792.748625  , 33868.442875  , 34249.478375  , 33991.43295833,\n",
       "       34161.28466667, 34470.38354167, 34528.90858333, 34190.95025   ,\n",
       "       34375.93891667, 34632.186875  , 37620.29770833, 38544.90141667,\n",
       "       38304.84625   , 38439.54595833, 39439.51520833, 37585.99216667,\n",
       "       37013.7435    , 37078.82529167, 37470.56179167, 38262.27858333,\n",
       "       37859.76925   , 38496.17816667, 39609.10295833, 39843.19320833,\n",
       "       40024.25575   , 39871.588125  , 39923.9865    , 39984.79275   ,\n",
       "       39748.77254167, 40005.28120833, 40117.18441667, 39843.32866667,\n",
       "       39690.65116667, 39798.7245    , 40037.91716667, 39805.69116667,\n",
       "       38911.28591667, 38916.69875   , 39110.608125  , 41058.843125  ,\n",
       "       41948.2525    , 41621.41783333, 41705.92029167, 41506.68754167,\n",
       "       41357.46304167, 41733.76908333, 41825.0525    , 41946.402125  ,\n",
       "       41731.64104167, 41506.6735    , 41110.358125  , 40785.4505    ,\n",
       "       39735.60675   , 39882.36875   , 39634.03345833, 39513.76504167,\n",
       "       39679.50016667, 39172.48658333, 39022.80345833, 38431.85604167,\n",
       "       38572.64083333, 38327.47266667, 38151.35783333, 38232.5245    ,\n",
       "       38199.17466667, 37919.83395833, 37870.69095833, 38948.64825   ,\n",
       "       39525.44691667, 39795.23      , 39454.61295833, 39218.34920833,\n",
       "       38296.37241667, 38334.37279167, 40343.136125  , 40947.86629167,\n",
       "       40426.89145833, 40545.53445833, 40719.38925   , 40999.37070833,\n",
       "       42799.19216667, 42711.56945833, 43156.763625  , 43414.845875  ,\n",
       "       43621.894875  , 43640.05795833, 43475.12029167, 44135.024125  ,\n",
       "       44257.179375  , 44784.566875  , 44651.27470833, 44553.57429167,\n",
       "       43796.68104167, 44107.53108333, 43336.94858333, 43538.48654167,\n",
       "       44796.63208333, 45805.34329167, 46035.17858333, 45939.42895833,\n",
       "       45957.890125  , 45593.52766667, 45767.795375  , 45548.19683333,\n",
       "       45149.38041667, 45604.24716667, 45649.98275   , 45925.94541667,\n",
       "       46172.10316667, 46326.59475   , 46390.166375  , 46099.33429167,\n",
       "       45963.19958333, 45345.943625  , 45297.18741667, 44453.75933333,\n",
       "       44240.85108333, 44301.75454167, 44891.874875  , 45554.46258333,\n",
       "       46324.65554167, 46450.76208333, 46471.016375  , 47606.69791667,\n",
       "       47632.71479167, 47605.87604167, 47132.09958333, 46607.25945833,\n",
       "       46861.75845833, 46909.66545833, 47204.731     , 46546.574625  ,\n",
       "       45930.9155    , 46007.18908333, 46083.29145833, 46907.18458333,\n",
       "       47643.44916667, 47461.15129167, 47323.93829167, 46711.95029167,\n",
       "       46393.75508333, 46030.24195833, 46147.99491667, 46118.5725    ,\n",
       "       46614.89408333, 46350.06879167, 45745.07783333, 44841.54983333,\n",
       "       44826.827     , 45227.273875  , 45204.17379167, 45222.88270833,\n",
       "       45608.62345833, 44797.612625  , 44714.88570833, 44322.95220833,\n",
       "       44612.901     , 45007.28225   , 46076.43066667, 46583.91004167,\n",
       "       47131.10158333, 47074.913875  , 47068.91458333, 47743.887625  ,\n",
       "       48674.33133333, 48991.26058333, 48980.85645833, 48804.427875  ,\n",
       "       48848.85116667, 49079.09375   , 49432.22366667, 49173.21770833,\n",
       "       48942.42845833, 49134.101875  , 49202.16604167, 48769.73775   ,\n",
       "       48591.58083333, 48810.16875   , 49783.00370833])"
      ]
     },
     "execution_count": 182,
     "metadata": {},
     "output_type": "execute_result"
    }
   ],
   "source": [
    "data_two_months.values"
   ]
  },
  {
   "cell_type": "code",
   "execution_count": 190,
   "metadata": {},
   "outputs": [
    {
     "data": {
      "image/png": "[encoded data removed]",
      "text/plain": [
       "<Figure size 1152x720 with 2 Axes>"
      ]
     },
     "metadata": {},
     "output_type": "display_data"
    }
   ],
   "source": [
    "from statsmodels.graphics.tsaplots import plot_pacf\n",
    "fig, axes = plt.subplots(2,1, figsize=(16,10))\n",
    "plot_acf(data_two_months.values,\n",
    "         #lags=50, \n",
    "         ax=axes[0]);\n",
    "plot_pacf(data_two_months.values, \n",
    "          #lags=50, \n",
    "          ax=axes[1], \n",
    "          color='r');"
   ]
  },
  {
   "cell_type": "code",
   "execution_count": 184,
   "metadata": {},
   "outputs": [
    {
     "data": {
      "image/png": "[encoded data removed]",
      "text/plain": [
       "<Figure size 936x360 with 2 Axes>"
      ]
     },
     "metadata": {},
     "output_type": "display_data"
    }
   ],
   "source": [
    "from statsmodels.graphics.tsaplots import plot_acf, plot_pacf\n",
    "y_diff = data.close.diff()\n",
    "fig,axes = plt.subplots(1,2,figsize=(13,5))\n",
    "plot_acf(y_diff.dropna(),ax=axes[0])\n",
    "plot_pacf(y_diff.dropna(), c='r', ax=axes[1]);"
   ]
  },
  {
   "cell_type": "markdown",
   "metadata": {
    "id": "0MqA8NYOTObA"
   },
   "source": [
    "## Second round"
   ]
  },
  {
   "cell_type": "code",
   "execution_count": 185,
   "metadata": {},
   "outputs": [
    {
     "ename": "SyntaxError",
     "evalue": "invalid syntax (2055943067.py, line 1)",
     "output_type": "error",
     "traceback": [
      "\u001b[0;36m  File \u001b[0;32m\"/tmp/ipykernel_9478/2055943067.py\"\u001b[0;36m, line \u001b[0;32m1\u001b[0m\n\u001b[0;31m    stop stop stop by Frieda\u001b[0m\n\u001b[0m         ^\u001b[0m\n\u001b[0;31mSyntaxError\u001b[0m\u001b[0;31m:\u001b[0m invalid syntax\n"
     ]
    }
   ],
   "source": [
    "stop stop stop by Frieda"
   ]
  },
  {
   "cell_type": "code",
   "execution_count": null,
   "metadata": {
    "colab": {
     "base_uri": "https://localhost:8080/"
    },
    "executionInfo": {
     "elapsed": 331,
     "status": "ok",
     "timestamp": 1629972855030,
     "user": {
      "displayName": "Ivan Fernandes",
      "photoUrl": "https://lh3.googleusercontent.com/a-/AOh14GgHdj66drQjCguTVvVzCd5yy8cdMluPJPZlz_BQLg=s64",
      "userId": "12100132160237129013"
     },
     "user_tz": -120
    },
    "id": "4ZAlnOTwTObB",
    "outputId": "65d37bf2-66eb-451f-a089-da27ba0ecf69"
   },
   "outputs": [],
   "source": [
    "dataset = data[[\"close\"]].values\n",
    "dataset"
   ]
  },
  {
   "cell_type": "code",
   "execution_count": null,
   "metadata": {
    "colab": {
     "base_uri": "https://localhost:8080/"
    },
    "executionInfo": {
     "elapsed": 358,
     "status": "ok",
     "timestamp": 1629972861459,
     "user": {
      "displayName": "Ivan Fernandes",
      "photoUrl": "https://lh3.googleusercontent.com/a-/AOh14GgHdj66drQjCguTVvVzCd5yy8cdMluPJPZlz_BQLg=s64",
      "userId": "12100132160237129013"
     },
     "user_tz": -120
    },
    "id": "Ky6aM8SBdNRJ",
    "outputId": "4230c46f-9302-4ae4-c65c-2dfaca764428"
   },
   "outputs": [],
   "source": [
    "# Scale the data\n",
    "from sklearn.preprocessing import MinMaxScaler\n",
    "\n",
    "scaler = MinMaxScaler(feature_range=(0,1))\n",
    "scaled_data = scaler.fit_transform(dataset)\n",
    "\n",
    "scaled_data"
   ]
  },
  {
   "cell_type": "code",
   "execution_count": null,
   "metadata": {
    "colab": {
     "base_uri": "https://localhost:8080/"
    },
    "executionInfo": {
     "elapsed": 4,
     "status": "ok",
     "timestamp": 1629972866229,
     "user": {
      "displayName": "Ivan Fernandes",
      "photoUrl": "https://lh3.googleusercontent.com/a-/AOh14GgHdj66drQjCguTVvVzCd5yy8cdMluPJPZlz_BQLg=s64",
      "userId": "12100132160237129013"
     },
     "user_tz": -120
    },
    "id": "zAgMZ7U2vEm7",
    "outputId": "0ae70070-5e33-460f-edca-c78ebe156b53"
   },
   "outputs": [],
   "source": [
    "length = 60\n",
    "horizon  = 1\n",
    "\n",
    "training_split = 0.85\n",
    "training_data_length = int(np.ceil(len(dataset) * training_split))\n",
    "training_data_length"
   ]
  },
  {
   "cell_type": "code",
   "execution_count": null,
   "metadata": {
    "executionInfo": {
     "elapsed": 330,
     "status": "ok",
     "timestamp": 1629972868143,
     "user": {
      "displayName": "Ivan Fernandes",
      "photoUrl": "https://lh3.googleusercontent.com/a-/AOh14GgHdj66drQjCguTVvVzCd5yy8cdMluPJPZlz_BQLg=s64",
      "userId": "12100132160237129013"
     },
     "user_tz": -120
    },
    "id": "1UKkQE7pdQyF"
   },
   "outputs": [],
   "source": [
    "# Create the training data set \n",
    "# Create the scaled training data set\n",
    "\n",
    "train_data = scaled_data[0:int(training_data_length), :]\n",
    "# Split the data into x_train and y_train data sets\n",
    "y_train = []\n",
    "\n",
    "x_train = [train_data[i-length:i, 0] for i in range(length, len(train_data))]\n",
    "y_train = [train_data[i, 0] for i in range(length, len(train_data))]\n",
    "        \n",
    "# Convert the x_train and y_train to numpy arrays \n",
    "x_train, y_train = np.array(x_train), np.array(y_train)\n",
    "\n",
    "# Reshape the data\n",
    "x_train = np.reshape(x_train, (x_train.shape[0], x_train.shape[1], 1))\n",
    "# x_train.shape"
   ]
  },
  {
   "cell_type": "code",
   "execution_count": null,
   "metadata": {
    "executionInfo": {
     "elapsed": 343,
     "status": "ok",
     "timestamp": 1629972870035,
     "user": {
      "displayName": "Ivan Fernandes",
      "photoUrl": "https://lh3.googleusercontent.com/a-/AOh14GgHdj66drQjCguTVvVzCd5yy8cdMluPJPZlz_BQLg=s64",
      "userId": "12100132160237129013"
     },
     "user_tz": -120
    },
    "id": "53aODOBCwgkq"
   },
   "outputs": [],
   "source": [
    "# Create the testing data set\n",
    "# Create a new array containing scaled values from index 543 to 2002 \n",
    "test_data = scaled_data[training_data_length - length: , :]\n",
    "# Create the data sets x_test and y_test\n",
    "\n",
    "y_test = dataset[training_data_length:, :]\n",
    "x_test = [test_data[i-length:i, 0] for i in range(length, len(test_data))]\n",
    "    \n",
    "# Convert the data to a numpy array\n",
    "x_test = np.array(x_test)\n",
    "\n",
    "# Reshape the data\n",
    "x_test = np.reshape(x_test, (x_test.shape[0], x_test.shape[1], 1 ))"
   ]
  },
  {
   "cell_type": "code",
   "execution_count": null,
   "metadata": {
    "colab": {
     "base_uri": "https://localhost:8080/"
    },
    "executionInfo": {
     "elapsed": 336,
     "status": "ok",
     "timestamp": 1629972873580,
     "user": {
      "displayName": "Ivan Fernandes",
      "photoUrl": "https://lh3.googleusercontent.com/a-/AOh14GgHdj66drQjCguTVvVzCd5yy8cdMluPJPZlz_BQLg=s64",
      "userId": "12100132160237129013"
     },
     "user_tz": -120
    },
    "id": "yaenuJTZv6co",
    "outputId": "67b35f97-d9dc-4da7-f7fd-5c8e187a8ac9"
   },
   "outputs": [],
   "source": [
    "print(x_train.shape, y_train.shape)\n",
    "print(x_test.shape, y_test.shape)"
   ]
  },
  {
   "cell_type": "code",
   "execution_count": null,
   "metadata": {
    "colab": {
     "base_uri": "https://localhost:8080/"
    },
    "executionInfo": {
     "elapsed": 445330,
     "status": "ok",
     "timestamp": 1629973325521,
     "user": {
      "displayName": "Ivan Fernandes",
      "photoUrl": "https://lh3.googleusercontent.com/a-/AOh14GgHdj66drQjCguTVvVzCd5yy8cdMluPJPZlz_BQLg=s64",
      "userId": "12100132160237129013"
     },
     "user_tz": -120
    },
    "id": "r1kJ7oDCdZgd",
    "outputId": "ee96a936-e2d1-4de0-b658-6d1df677227f"
   },
   "outputs": [],
   "source": [
    "from keras.models import Sequential\n",
    "from keras.layers import Dense, LSTM\n",
    "\n",
    "# Build the LSTM model\n",
    "model = Sequential()\n",
    "model.add(LSTM(128, return_sequences=True, input_shape= (x_train.shape[1], 1)))\n",
    "model.add(LSTM(64, return_sequences=False))\n",
    "model.add(Dense(25))\n",
    "model.add(Dense(1))\n",
    "\n",
    "# Compile the model\n",
    "model.compile(optimizer='adam', loss='mean_squared_error', metrics = my_mae)\n",
    "\n",
    "# Train the model\n",
    "history = model.fit(x_train, y_train, batch_size=8, epochs=5, validation_split = 0.4)"
   ]
  },
  {
   "cell_type": "code",
   "execution_count": null,
   "metadata": {
    "colab": {
     "base_uri": "https://localhost:8080/",
     "height": 330
    },
    "executionInfo": {
     "elapsed": 1169,
     "status": "ok",
     "timestamp": 1629973328789,
     "user": {
      "displayName": "Ivan Fernandes",
      "photoUrl": "https://lh3.googleusercontent.com/a-/AOh14GgHdj66drQjCguTVvVzCd5yy8cdMluPJPZlz_BQLg=s64",
      "userId": "12100132160237129013"
     },
     "user_tz": -120
    },
    "id": "Q_zo4Kbm-xfx",
    "outputId": "41bfd88f-1816-4d3e-df07-3e015857209d"
   },
   "outputs": [],
   "source": [
    "plot_loss_mae(history)"
   ]
  },
  {
   "cell_type": "code",
   "execution_count": null,
   "metadata": {
    "colab": {
     "base_uri": "https://localhost:8080/"
    },
    "executionInfo": {
     "elapsed": 2984,
     "status": "ok",
     "timestamp": 1629973363329,
     "user": {
      "displayName": "Ivan Fernandes",
      "photoUrl": "https://lh3.googleusercontent.com/a-/AOh14GgHdj66drQjCguTVvVzCd5yy8cdMluPJPZlz_BQLg=s64",
      "userId": "12100132160237129013"
     },
     "user_tz": -120
    },
    "id": "mDLxHpjofPRL",
    "outputId": "a11b4d99-1534-4dfe-9ec2-25f37fac539b"
   },
   "outputs": [],
   "source": [
    "# Get the models predicted price values \n",
    "predictions = model.predict(x_test)\n",
    "predictions = scaler.inverse_transform(predictions)\n",
    "predictions[:3]"
   ]
  },
  {
   "cell_type": "code",
   "execution_count": null,
   "metadata": {
    "colab": {
     "base_uri": "https://localhost:8080/"
    },
    "executionInfo": {
     "elapsed": 393,
     "status": "ok",
     "timestamp": 1629973398497,
     "user": {
      "displayName": "Ivan Fernandes",
      "photoUrl": "https://lh3.googleusercontent.com/a-/AOh14GgHdj66drQjCguTVvVzCd5yy8cdMluPJPZlz_BQLg=s64",
      "userId": "12100132160237129013"
     },
     "user_tz": -120
    },
    "id": "Jvw0e9a5_B3Q",
    "outputId": "491632c8-7cf1-4d07-9990-42575fa60b54"
   },
   "outputs": [],
   "source": [
    "y_test.shape, predictions.shape"
   ]
  },
  {
   "cell_type": "code",
   "execution_count": null,
   "metadata": {
    "colab": {
     "base_uri": "https://localhost:8080/"
    },
    "executionInfo": {
     "elapsed": 337,
     "status": "ok",
     "timestamp": 1629973370818,
     "user": {
      "displayName": "Ivan Fernandes",
      "photoUrl": "https://lh3.googleusercontent.com/a-/AOh14GgHdj66drQjCguTVvVzCd5yy8cdMluPJPZlz_BQLg=s64",
      "userId": "12100132160237129013"
     },
     "user_tz": -120
    },
    "id": "6E2H4WZm-pf0",
    "outputId": "bdb62256-47c2-4e22-ce5e-cdb6113408ac"
   },
   "outputs": [],
   "source": [
    "# Get the root mean squared error (RMSE)\n",
    "rmse = np.sqrt(np.mean(((predictions - y_test) ** 2)))\n",
    "rmse"
   ]
  },
  {
   "cell_type": "code",
   "execution_count": null,
   "metadata": {
    "colab": {
     "base_uri": "https://localhost:8080/"
    },
    "executionInfo": {
     "elapsed": 4437,
     "status": "ok",
     "timestamp": 1629973427758,
     "user": {
      "displayName": "Ivan Fernandes",
      "photoUrl": "https://lh3.googleusercontent.com/a-/AOh14GgHdj66drQjCguTVvVzCd5yy8cdMluPJPZlz_BQLg=s64",
      "userId": "12100132160237129013"
     },
     "user_tz": -120
    },
    "id": "fdyr7K5marJ3",
    "outputId": "4a7ff078-2039-4d92-cf93-7383265d47a2"
   },
   "outputs": [],
   "source": [
    "model.evaluate(x_test, y_test)"
   ]
  },
  {
   "cell_type": "code",
   "execution_count": null,
   "metadata": {
    "executionInfo": {
     "elapsed": 439,
     "status": "ok",
     "timestamp": 1629973433584,
     "user": {
      "displayName": "Ivan Fernandes",
      "photoUrl": "https://lh3.googleusercontent.com/a-/AOh14GgHdj66drQjCguTVvVzCd5yy8cdMluPJPZlz_BQLg=s64",
      "userId": "12100132160237129013"
     },
     "user_tz": -120
    },
    "id": "DczPn6a-hCH5"
   },
   "outputs": [],
   "source": [
    "# Plot the data\n",
    "train = selected_data[:training_data_length]\n",
    "valid = selected_data[training_data_length:].copy()"
   ]
  },
  {
   "cell_type": "code",
   "execution_count": null,
   "metadata": {
    "colab": {
     "base_uri": "https://localhost:8080/",
     "height": 447
    },
    "executionInfo": {
     "elapsed": 343,
     "status": "ok",
     "timestamp": 1629973437703,
     "user": {
      "displayName": "Ivan Fernandes",
      "photoUrl": "https://lh3.googleusercontent.com/a-/AOh14GgHdj66drQjCguTVvVzCd5yy8cdMluPJPZlz_BQLg=s64",
      "userId": "12100132160237129013"
     },
     "user_tz": -120
    },
    "id": "WjQSBQ5JarJ4",
    "outputId": "c8141000-c535-4f92-faf9-406986f792da"
   },
   "outputs": [],
   "source": [
    "train"
   ]
  },
  {
   "cell_type": "code",
   "execution_count": null,
   "metadata": {
    "colab": {
     "base_uri": "https://localhost:8080/",
     "height": 447
    },
    "executionInfo": {
     "elapsed": 465,
     "status": "ok",
     "timestamp": 1629973446397,
     "user": {
      "displayName": "Ivan Fernandes",
      "photoUrl": "https://lh3.googleusercontent.com/a-/AOh14GgHdj66drQjCguTVvVzCd5yy8cdMluPJPZlz_BQLg=s64",
      "userId": "12100132160237129013"
     },
     "user_tz": -120
    },
    "id": "dc1WTWynhDPL",
    "outputId": "56806c30-f59a-454c-e979-e42f656b9ea5"
   },
   "outputs": [],
   "source": [
    "valid"
   ]
  },
  {
   "cell_type": "code",
   "execution_count": null,
   "metadata": {
    "colab": {
     "base_uri": "https://localhost:8080/",
     "height": 447
    },
    "executionInfo": {
     "elapsed": 341,
     "status": "ok",
     "timestamp": 1629973462863,
     "user": {
      "displayName": "Ivan Fernandes",
      "photoUrl": "https://lh3.googleusercontent.com/a-/AOh14GgHdj66drQjCguTVvVzCd5yy8cdMluPJPZlz_BQLg=s64",
      "userId": "12100132160237129013"
     },
     "user_tz": -120
    },
    "id": "p6hMJqrMarJ4",
    "outputId": "8a102830-2a5a-44bc-d17c-1db157056ce5"
   },
   "outputs": [],
   "source": [
    "valid[\"Predictions\"] = predictions\n",
    "valid"
   ]
  },
  {
   "cell_type": "code",
   "execution_count": null,
   "metadata": {
    "executionInfo": {
     "elapsed": 345,
     "status": "ok",
     "timestamp": 1629973472674,
     "user": {
      "displayName": "Ivan Fernandes",
      "photoUrl": "https://lh3.googleusercontent.com/a-/AOh14GgHdj66drQjCguTVvVzCd5yy8cdMluPJPZlz_BQLg=s64",
      "userId": "12100132160237129013"
     },
     "user_tz": -120
    },
    "id": "giTQW4HoarJ5"
   },
   "outputs": [],
   "source": [
    "valid.index = pd.to_datetime(valid.index, format = \"%Y-%m-%d %H:%M:%S\")\n",
    "train.index = pd.to_datetime(train.index, format = \"%Y-%m-%d %H:%M:%S\")"
   ]
  },
  {
   "cell_type": "code",
   "execution_count": null,
   "metadata": {
    "colab": {
     "base_uri": "https://localhost:8080/",
     "height": 441
    },
    "executionInfo": {
     "elapsed": 813,
     "status": "ok",
     "timestamp": 1629973507361,
     "user": {
      "displayName": "Ivan Fernandes",
      "photoUrl": "https://lh3.googleusercontent.com/a-/AOh14GgHdj66drQjCguTVvVzCd5yy8cdMluPJPZlz_BQLg=s64",
      "userId": "12100132160237129013"
     },
     "user_tz": -120
    },
    "id": "wj0t09QbfYLr",
    "outputId": "936c384d-7186-4124-df4d-b9ad0ec1895b"
   },
   "outputs": [],
   "source": [
    "# Visualize the data\n",
    "plt.figure(figsize=(16,6))\n",
    "plt.title('Model')\n",
    "plt.plot(train['close'])\n",
    "plt.plot(valid[['close', 'Predictions']])\n",
    "plt.xlabel('Date', fontsize=18)\n",
    "plt.ylabel('Close Price USD ($)', fontsize=18)\n",
    "plt.legend(['Train', 'Val', 'Predictions'], loc='lower right')\n",
    "plt.xlim([datetime.date(2020, 1, 1), datetime.datetime.now()])\n",
    "plt.show()"
   ]
  },
  {
   "cell_type": "code",
   "execution_count": null,
   "metadata": {
    "id": "VGkbLiUzg5gu"
   },
   "outputs": [],
   "source": []
  }
 ],
 "metadata": {
  "colab": {
   "collapsed_sections": [],
   "name": "BTC pred.ipynb",
   "provenance": [],
   "toc_visible": true
  },
  "kernelspec": {
   "display_name": "Python 3 (ipykernel)",
   "language": "python",
   "name": "python3"
  },
  "language_info": {
   "codemirror_mode": {
    "name": "ipython",
    "version": 3
   },
   "file_extension": ".py",
   "mimetype": "text/x-python",
   "name": "python",
   "nbconvert_exporter": "python",
   "pygments_lexer": "ipython3",
   "version": "3.8.6"
  },
  "toc": {
   "base_numbering": 1,
   "nav_menu": {},
   "number_sections": true,
   "sideBar": true,
   "skip_h1_title": true,
   "title_cell": "Table of Contents",
   "title_sidebar": "Contents",
   "toc_cell": false,
   "toc_position": {
    "height": "calc(100% - 180px)",
    "left": "10px",
    "top": "150px",
    "width": "316.797px"
   },
   "toc_section_display": true,
   "toc_window_display": true
  },
  "varInspector": {
   "cols": {
    "lenName": 16,
    "lenType": 16,
    "lenVar": 40
   },
   "kernels_config": {
    "python": {
     "delete_cmd_postfix": "",
     "delete_cmd_prefix": "del ",
     "library": "var_list.py",
     "varRefreshCmd": "print(var_dic_list())"
    },
    "r": {
     "delete_cmd_postfix": ") ",
     "delete_cmd_prefix": "rm(",
     "library": "var_list.r",
     "varRefreshCmd": "cat(var_dic_list()) "
    }
   },
   "types_to_exclude": [
    "module",
    "function",
    "builtin_function_or_method",
    "instance",
    "_Feature"
   ],
   "window_display": false
  }
 },
 "nbformat": 4,
 "nbformat_minor": 1
}
