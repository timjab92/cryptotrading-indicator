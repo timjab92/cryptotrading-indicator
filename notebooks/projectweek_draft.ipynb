{
 "cells": [
  {
   "cell_type": "markdown",
   "id": "a3e0a8c7",
   "metadata": {
    "slideshow": {
     "slide_type": "slide"
    }
   },
   "source": [
    "# LeWagon - Projectweek"
   ]
  },
  {
   "cell_type": "markdown",
   "id": "857c0c61",
   "metadata": {
    "slideshow": {
     "slide_type": "skip"
    }
   },
   "source": [
    ">About: \\\n",
    "This notebook is a basic introduction to our final project at LeWagon. Lets work together and make this thing work. Bitcoin to the moon :D\n",
    "My idea is to design a chart-pattern based indicator for cryptocurrency trading. The model should predict price movements in the next four hours and return a possibility of being correct -> Should we optimize for Precision? The intuition of the model lies in the idea that fundamental trading behaviour can be observed in financial data and that traders and investors alike act according to specific trading signs - to such an extend, so that predictions can fulfill itself. The model is meant to be used in accordance with other indicators and only help to create a clearer picture of the market situation."
   ]
  },
  {
   "cell_type": "markdown",
   "id": "0958d8db",
   "metadata": {
    "slideshow": {
     "slide_type": "fragment"
    }
   },
   "source": [
    "## 🔮 Cryptotrading indicator 🔮"
   ]
  },
  {
   "cell_type": "markdown",
   "id": "16d31ae1",
   "metadata": {
    "slideshow": {
     "slide_type": "subslide"
    }
   },
   "source": [
    "- Build a tool that can **predict price movements** in Bitcoin in the next **four hours** using **LSTM**. \n",
    "    - 💡 Remember:"
   ]
  },
  {
   "cell_type": "markdown",
   "id": "9920b2a3",
   "metadata": {
    "slideshow": {
     "slide_type": "fragment"
    }
   },
   "source": [
    "![quote](https://www.lacan.upc.edu/admoreWeb/wp-content/uploads/2018/04/test2.jpg)"
   ]
  },
  {
   "cell_type": "markdown",
   "id": "558edd7e",
   "metadata": {
    "slideshow": {
     "slide_type": "slide"
    }
   },
   "source": [
    "## Data & Strategy 👨‍💻"
   ]
  },
  {
   "cell_type": "markdown",
   "id": "8cdd31ef",
   "metadata": {
    "slideshow": {
     "slide_type": "fragment"
    }
   },
   "source": [
    "- Financial Data on Bitcoin is widely available. Sources may include: \n",
    "    - Yahoo Finance (historic data)\n",
    "    - https://www.cryptodatadownload.com/ (historic data)\n",
    "    - https://www.theblockcrypto.com/ (on-chain analysis)\n",
    "    - https://whale-alert.io/ (on-chain analysis)\n",
    "    - https://www.coingecko.com/en/api (live data)\n",
    "    \n",
    "    \n",
    "- Lets only use **free** data for now.\n",
    "<br/><br/>\n",
    "- **GOAL:** Prediction of the price, based on both price and a list of features."
   ]
  },
  {
   "cell_type": "code",
   "execution_count": null,
   "id": "b832ed58",
   "metadata": {},
   "outputs": [],
   "source": []
  },
  {
   "cell_type": "code",
   "execution_count": 47,
   "id": "bcadfece",
   "metadata": {
    "slideshow": {
     "slide_type": "skip"
    },
    "tags": [
     "remove_input"
    ]
   },
   "outputs": [
    {
     "data": {
      "text/html": [
       "<div>\n",
       "<style scoped>\n",
       "    .dataframe tbody tr th:only-of-type {\n",
       "        vertical-align: middle;\n",
       "    }\n",
       "\n",
       "    .dataframe tbody tr th {\n",
       "        vertical-align: top;\n",
       "    }\n",
       "\n",
       "    .dataframe thead th {\n",
       "        text-align: right;\n",
       "    }\n",
       "</style>\n",
       "<table border=\"1\" class=\"dataframe\">\n",
       "  <thead>\n",
       "    <tr style=\"text-align: right;\">\n",
       "      <th></th>\n",
       "      <th>Date</th>\n",
       "      <th>Open</th>\n",
       "      <th>High</th>\n",
       "      <th>Low</th>\n",
       "      <th>Close</th>\n",
       "      <th>Adj Close</th>\n",
       "      <th>Volume</th>\n",
       "    </tr>\n",
       "  </thead>\n",
       "  <tbody>\n",
       "    <tr>\n",
       "      <th>0</th>\n",
       "      <td>2014-09-17</td>\n",
       "      <td>465.864014</td>\n",
       "      <td>468.174011</td>\n",
       "      <td>452.421997</td>\n",
       "      <td>457.334015</td>\n",
       "      <td>457.334015</td>\n",
       "      <td>21056800.0</td>\n",
       "    </tr>\n",
       "    <tr>\n",
       "      <th>1</th>\n",
       "      <td>2014-09-18</td>\n",
       "      <td>456.859985</td>\n",
       "      <td>456.859985</td>\n",
       "      <td>413.104004</td>\n",
       "      <td>424.440002</td>\n",
       "      <td>424.440002</td>\n",
       "      <td>34483200.0</td>\n",
       "    </tr>\n",
       "    <tr>\n",
       "      <th>2</th>\n",
       "      <td>2014-09-19</td>\n",
       "      <td>424.102997</td>\n",
       "      <td>427.834991</td>\n",
       "      <td>384.532013</td>\n",
       "      <td>394.795990</td>\n",
       "      <td>394.795990</td>\n",
       "      <td>37919700.0</td>\n",
       "    </tr>\n",
       "    <tr>\n",
       "      <th>3</th>\n",
       "      <td>2014-09-20</td>\n",
       "      <td>394.673004</td>\n",
       "      <td>423.295990</td>\n",
       "      <td>389.882996</td>\n",
       "      <td>408.903992</td>\n",
       "      <td>408.903992</td>\n",
       "      <td>36863600.0</td>\n",
       "    </tr>\n",
       "    <tr>\n",
       "      <th>4</th>\n",
       "      <td>2014-09-21</td>\n",
       "      <td>408.084991</td>\n",
       "      <td>412.425995</td>\n",
       "      <td>393.181000</td>\n",
       "      <td>398.821014</td>\n",
       "      <td>398.821014</td>\n",
       "      <td>26580100.0</td>\n",
       "    </tr>\n",
       "  </tbody>\n",
       "</table>\n",
       "</div>"
      ],
      "text/plain": [
       "         Date        Open        High         Low       Close   Adj Close  \\\n",
       "0  2014-09-17  465.864014  468.174011  452.421997  457.334015  457.334015   \n",
       "1  2014-09-18  456.859985  456.859985  413.104004  424.440002  424.440002   \n",
       "2  2014-09-19  424.102997  427.834991  384.532013  394.795990  394.795990   \n",
       "3  2014-09-20  394.673004  423.295990  389.882996  408.903992  408.903992   \n",
       "4  2014-09-21  408.084991  412.425995  393.181000  398.821014  398.821014   \n",
       "\n",
       "       Volume  \n",
       "0  21056800.0  \n",
       "1  34483200.0  \n",
       "2  37919700.0  \n",
       "3  36863600.0  \n",
       "4  26580100.0  "
      ]
     },
     "execution_count": 47,
     "metadata": {},
     "output_type": "execute_result"
    }
   ],
   "source": [
    "import pandas as pd\n",
    "import matplotlib.pyplot as plt\n",
    "#Yahoo Finance Data\n",
    "data = pd.read_csv(\"../raw_data/BTC-USD.csv\")\n",
    "data.head()"
   ]
  },
  {
   "cell_type": "code",
   "execution_count": 48,
   "id": "2471e9ee",
   "metadata": {
    "slideshow": {
     "slide_type": "skip"
    }
   },
   "outputs": [],
   "source": [
    "data[\"Date\"] = pd.to_datetime(data[\"Date\"], format='%Y-%m-%d')"
   ]
  },
  {
   "cell_type": "code",
   "execution_count": 49,
   "id": "43133541",
   "metadata": {
    "slideshow": {
     "slide_type": "skip"
    }
   },
   "outputs": [
    {
     "data": {
      "text/plain": [
       "[<matplotlib.lines.Line2D at 0x7f2f1cd23fa0>]"
      ]
     },
     "execution_count": 49,
     "metadata": {},
     "output_type": "execute_result"
    },
    {
     "data": {
      "image/png": "[encoded data removed]",
      "text/plain": [
       "<Figure size 432x288 with 1 Axes>"
      ]
     },
     "metadata": {},
     "output_type": "display_data"
    }
   ],
   "source": [
    "plt.plot(data[\"Date\"], data[\"Close\"])"
   ]
  },
  {
   "cell_type": "markdown",
   "id": "efe59e22",
   "metadata": {
    "slideshow": {
     "slide_type": "skip"
    }
   },
   "source": [
    "### interactive plot\n",
    "> We can later create something like this if we feel like it."
   ]
  },
  {
   "cell_type": "code",
   "execution_count": 50,
   "id": "0ce776a4",
   "metadata": {},
   "outputs": [
    {
     "name": "stdout",
     "output_type": "stream",
     "text": [
      "Requirement already satisfied: plotly in /home/timjab92/.pyenv/versions/3.8.6/envs/crypto/lib/python3.8/site-packages (5.2.1)\r\n",
      "Requirement already satisfied: tenacity>=6.2.0 in /home/timjab92/.pyenv/versions/3.8.6/envs/crypto/lib/python3.8/site-packages (from plotly) (8.0.1)\r\n",
      "Requirement already satisfied: six in /home/timjab92/.pyenv/versions/3.8.6/envs/crypto/lib/python3.8/site-packages (from plotly) (1.15.0)\r\n"
     ]
    }
   ],
   "source": [
    "!pip install plotly"
   ]
  },
  {
   "cell_type": "code",
   "execution_count": null,
   "id": "3cf3af8d",
   "metadata": {},
   "outputs": [],
   "source": []
  },
  {
   "cell_type": "code",
   "execution_count": 51,
   "id": "d40aca90",
   "metadata": {},
   "outputs": [
    {
     "data": {
      "text/html": [
       "<div>\n",
       "<style scoped>\n",
       "    .dataframe tbody tr th:only-of-type {\n",
       "        vertical-align: middle;\n",
       "    }\n",
       "\n",
       "    .dataframe tbody tr th {\n",
       "        vertical-align: top;\n",
       "    }\n",
       "\n",
       "    .dataframe thead th {\n",
       "        text-align: right;\n",
       "    }\n",
       "</style>\n",
       "<table border=\"1\" class=\"dataframe\">\n",
       "  <thead>\n",
       "    <tr style=\"text-align: right;\">\n",
       "      <th></th>\n",
       "      <th>Date</th>\n",
       "      <th>Open</th>\n",
       "      <th>High</th>\n",
       "      <th>Low</th>\n",
       "      <th>Close</th>\n",
       "      <th>Adj Close</th>\n",
       "      <th>Volume</th>\n",
       "    </tr>\n",
       "  </thead>\n",
       "  <tbody>\n",
       "    <tr>\n",
       "      <th>0</th>\n",
       "      <td>2014-09-17</td>\n",
       "      <td>465.864014</td>\n",
       "      <td>468.174011</td>\n",
       "      <td>452.421997</td>\n",
       "      <td>457.334015</td>\n",
       "      <td>457.334015</td>\n",
       "      <td>2.105680e+07</td>\n",
       "    </tr>\n",
       "    <tr>\n",
       "      <th>1</th>\n",
       "      <td>2014-09-18</td>\n",
       "      <td>456.859985</td>\n",
       "      <td>456.859985</td>\n",
       "      <td>413.104004</td>\n",
       "      <td>424.440002</td>\n",
       "      <td>424.440002</td>\n",
       "      <td>3.448320e+07</td>\n",
       "    </tr>\n",
       "    <tr>\n",
       "      <th>2</th>\n",
       "      <td>2014-09-19</td>\n",
       "      <td>424.102997</td>\n",
       "      <td>427.834991</td>\n",
       "      <td>384.532013</td>\n",
       "      <td>394.795990</td>\n",
       "      <td>394.795990</td>\n",
       "      <td>3.791970e+07</td>\n",
       "    </tr>\n",
       "    <tr>\n",
       "      <th>3</th>\n",
       "      <td>2014-09-20</td>\n",
       "      <td>394.673004</td>\n",
       "      <td>423.295990</td>\n",
       "      <td>389.882996</td>\n",
       "      <td>408.903992</td>\n",
       "      <td>408.903992</td>\n",
       "      <td>3.686360e+07</td>\n",
       "    </tr>\n",
       "    <tr>\n",
       "      <th>4</th>\n",
       "      <td>2014-09-21</td>\n",
       "      <td>408.084991</td>\n",
       "      <td>412.425995</td>\n",
       "      <td>393.181000</td>\n",
       "      <td>398.821014</td>\n",
       "      <td>398.821014</td>\n",
       "      <td>2.658010e+07</td>\n",
       "    </tr>\n",
       "    <tr>\n",
       "      <th>...</th>\n",
       "      <td>...</td>\n",
       "      <td>...</td>\n",
       "      <td>...</td>\n",
       "      <td>...</td>\n",
       "      <td>...</td>\n",
       "      <td>...</td>\n",
       "      <td>...</td>\n",
       "    </tr>\n",
       "    <tr>\n",
       "      <th>2526</th>\n",
       "      <td>2021-08-17</td>\n",
       "      <td>45936.457031</td>\n",
       "      <td>47139.570313</td>\n",
       "      <td>44512.417969</td>\n",
       "      <td>44695.359375</td>\n",
       "      <td>44695.359375</td>\n",
       "      <td>3.345136e+10</td>\n",
       "    </tr>\n",
       "    <tr>\n",
       "      <th>2527</th>\n",
       "      <td>2021-08-18</td>\n",
       "      <td>44686.750000</td>\n",
       "      <td>45952.062500</td>\n",
       "      <td>44364.027344</td>\n",
       "      <td>44801.187500</td>\n",
       "      <td>44801.187500</td>\n",
       "      <td>3.219412e+10</td>\n",
       "    </tr>\n",
       "    <tr>\n",
       "      <th>2528</th>\n",
       "      <td>2021-08-19</td>\n",
       "      <td>44741.882813</td>\n",
       "      <td>46970.761719</td>\n",
       "      <td>43998.316406</td>\n",
       "      <td>46717.578125</td>\n",
       "      <td>46717.578125</td>\n",
       "      <td>3.720431e+10</td>\n",
       "    </tr>\n",
       "    <tr>\n",
       "      <th>2529</th>\n",
       "      <td>2021-08-20</td>\n",
       "      <td>46723.121094</td>\n",
       "      <td>49342.152344</td>\n",
       "      <td>46650.707031</td>\n",
       "      <td>49339.175781</td>\n",
       "      <td>49339.175781</td>\n",
       "      <td>3.470687e+10</td>\n",
       "    </tr>\n",
       "    <tr>\n",
       "      <th>2530</th>\n",
       "      <td>2021-08-21</td>\n",
       "      <td>49330.175781</td>\n",
       "      <td>49330.175781</td>\n",
       "      <td>48632.523438</td>\n",
       "      <td>48866.062500</td>\n",
       "      <td>48866.062500</td>\n",
       "      <td>3.923234e+10</td>\n",
       "    </tr>\n",
       "  </tbody>\n",
       "</table>\n",
       "<p>2531 rows × 7 columns</p>\n",
       "</div>"
      ],
      "text/plain": [
       "           Date          Open          High           Low         Close  \\\n",
       "0    2014-09-17    465.864014    468.174011    452.421997    457.334015   \n",
       "1    2014-09-18    456.859985    456.859985    413.104004    424.440002   \n",
       "2    2014-09-19    424.102997    427.834991    384.532013    394.795990   \n",
       "3    2014-09-20    394.673004    423.295990    389.882996    408.903992   \n",
       "4    2014-09-21    408.084991    412.425995    393.181000    398.821014   \n",
       "...         ...           ...           ...           ...           ...   \n",
       "2526 2021-08-17  45936.457031  47139.570313  44512.417969  44695.359375   \n",
       "2527 2021-08-18  44686.750000  45952.062500  44364.027344  44801.187500   \n",
       "2528 2021-08-19  44741.882813  46970.761719  43998.316406  46717.578125   \n",
       "2529 2021-08-20  46723.121094  49342.152344  46650.707031  49339.175781   \n",
       "2530 2021-08-21  49330.175781  49330.175781  48632.523438  48866.062500   \n",
       "\n",
       "         Adj Close        Volume  \n",
       "0       457.334015  2.105680e+07  \n",
       "1       424.440002  3.448320e+07  \n",
       "2       394.795990  3.791970e+07  \n",
       "3       408.903992  3.686360e+07  \n",
       "4       398.821014  2.658010e+07  \n",
       "...            ...           ...  \n",
       "2526  44695.359375  3.345136e+10  \n",
       "2527  44801.187500  3.219412e+10  \n",
       "2528  46717.578125  3.720431e+10  \n",
       "2529  49339.175781  3.470687e+10  \n",
       "2530  48866.062500  3.923234e+10  \n",
       "\n",
       "[2531 rows x 7 columns]"
      ]
     },
     "execution_count": 51,
     "metadata": {},
     "output_type": "execute_result"
    }
   ],
   "source": [
    "data"
   ]
  },
  {
   "cell_type": "code",
   "execution_count": 52,
   "id": "ea2c43c9",
   "metadata": {},
   "outputs": [
    {
     "name": "stdout",
     "output_type": "stream",
     "text": [
      "Requirement already satisfied: mpl_finance in /home/timjab92/.pyenv/versions/3.8.6/envs/crypto/lib/python3.8/site-packages (0.10.1)\n",
      "Requirement already satisfied: matplotlib in /home/timjab92/.pyenv/versions/3.8.6/envs/crypto/lib/python3.8/site-packages (from mpl_finance) (3.4.3)\n",
      "Requirement already satisfied: pillow>=6.2.0 in /home/timjab92/.pyenv/versions/3.8.6/envs/crypto/lib/python3.8/site-packages (from matplotlib->mpl_finance) (8.3.1)\n",
      "Requirement already satisfied: cycler>=0.10 in /home/timjab92/.pyenv/versions/3.8.6/envs/crypto/lib/python3.8/site-packages (from matplotlib->mpl_finance) (0.10.0)\n",
      "Requirement already satisfied: kiwisolver>=1.0.1 in /home/timjab92/.pyenv/versions/3.8.6/envs/crypto/lib/python3.8/site-packages (from matplotlib->mpl_finance) (1.3.1)\n",
      "Requirement already satisfied: numpy>=1.16 in /home/timjab92/.pyenv/versions/3.8.6/envs/crypto/lib/python3.8/site-packages (from matplotlib->mpl_finance) (1.19.5)\n",
      "Requirement already satisfied: pyparsing>=2.2.1 in /home/timjab92/.pyenv/versions/3.8.6/envs/crypto/lib/python3.8/site-packages (from matplotlib->mpl_finance) (2.4.7)\n",
      "Requirement already satisfied: python-dateutil>=2.7 in /home/timjab92/.pyenv/versions/3.8.6/envs/crypto/lib/python3.8/site-packages (from matplotlib->mpl_finance) (2.8.2)\n",
      "Requirement already satisfied: six in /home/timjab92/.pyenv/versions/3.8.6/envs/crypto/lib/python3.8/site-packages (from cycler>=0.10->matplotlib->mpl_finance) (1.15.0)\n"
     ]
    }
   ],
   "source": [
    "!pip install mpl_finance"
   ]
  },
  {
   "cell_type": "code",
   "execution_count": 53,
   "id": "be9efdb5",
   "metadata": {},
   "outputs": [],
   "source": [
    "data = data[-60:]"
   ]
  },
  {
   "cell_type": "code",
   "execution_count": 54,
   "id": "a68f93e6",
   "metadata": {},
   "outputs": [
    {
     "data": {
      "image/png": "[encoded data removed]",
      "text/plain": [
       "<Figure size 1080x720 with 1 Axes>"
      ]
     },
     "metadata": {},
     "output_type": "display_data"
    }
   ],
   "source": [
    "# python_candlestick_chart.py\n",
    "\n",
    "import matplotlib.pyplot as plt\n",
    "from mpl_finance import candlestick_ohlc\n",
    "import pandas as pd\n",
    "import matplotlib.dates as mpl_dates\n",
    "\n",
    "plt.style.use('ggplot')\n",
    "\n",
    "# Extracting Data for plotting\n",
    "#data = pd.read_csv('candlestick_python_data.csv')\n",
    "ohlc = data.loc[:, ['Date', 'Open', 'High', 'Low', 'Close']]\n",
    "ohlc['Date'] = pd.to_datetime(ohlc['Date'])\n",
    "ohlc['Date'] = ohlc['Date'].apply(mpl_dates.date2num)\n",
    "ohlc = ohlc.astype(float)\n",
    "\n",
    "# Creating Subplots\n",
    "fig, ax = plt.subplots(figsize=(15,10))\n",
    "\n",
    "candlestick_ohlc(ax, ohlc.values, width=0.6, colorup='green', colordown='red', alpha=0.8)\n",
    "\n",
    "# Setting labels & titles\n",
    "ax.set_xlabel('Date')\n",
    "ax.set_ylabel('Price')\n",
    "fig.suptitle('Daily Candlestick Chart of NIFTY50')\n",
    "\n",
    "# Formatting Date\n",
    "date_format = mpl_dates.DateFormatter('%d-%m-%Y')\n",
    "ax.xaxis.set_major_formatter(date_format)\n",
    "fig.autofmt_xdate()\n",
    "\n",
    "fig.tight_layout()\n",
    "\n",
    "plt.show()"
   ]
  },
  {
   "cell_type": "code",
   "execution_count": 55,
   "id": "85c8287a",
   "metadata": {
    "slideshow": {
     "slide_type": "skip"
    }
   },
   "outputs": [
    {
     "data": {
      "application/vnd.plotly.v1+json": {
       "config": {
        "plotlyServerURL": "https://plot.ly"
       },
       "data": [
        {
         "close": [
          33723.027344,
          34662.4375,
          31637.779297,
          32186.277344,
          34649.644531,
          34434.335938,
          35867.777344,
          35040.835938,
          33572.117188,
          33897.046875,
          34668.546875,
          35287.78125,
          33746.003906,
          34235.195313,
          33855.328125,
          32877.371094,
          33798.011719,
          33520.519531,
          34240.1875,
          33155.847656,
          32702.025391,
          32822.347656,
          31780.730469,
          31421.539063,
          31533.068359,
          31796.810547,
          30817.832031,
          29807.347656,
          32110.693359,
          32313.105469,
          33581.550781,
          34292.445313,
          35350.1875,
          37337.535156,
          39406.941406,
          39995.90625,
          40008.421875,
          42235.546875,
          41626.195313,
          39974.894531,
          39201.945313,
          38152.980469,
          39747.503906,
          40869.554688,
          42816.5,
          44555.800781,
          43798.117188,
          46365.402344,
          45585.03125,
          45593.636719,
          44428.289063,
          47793.320313,
          47096.945313,
          47047.003906,
          46004.484375,
          44695.359375,
          44801.1875,
          46717.578125,
          49339.175781,
          48866.0625
         ],
         "high": [
          34753.410156,
          35228.851563,
          35487.246094,
          32637.587891,
          34656.128906,
          35219.890625,
          36542.109375,
          36074.757813,
          35035.984375,
          33939.589844,
          34909.261719,
          35937.566406,
          35284.34375,
          35038.535156,
          34997.664063,
          33907.90625,
          34042.292969,
          34209.070313,
          34584.703125,
          34592.15625,
          33327.101563,
          33061.398438,
          33159.640625,
          32218.40625,
          31935.945313,
          32398.996094,
          31885.859375,
          31006.1875,
          32752.326172,
          32576.400391,
          33581.550781,
          34490.390625,
          35364.925781,
          40499.675781,
          39406.941406,
          40816.070313,
          40593.070313,
          42235.546875,
          42231.449219,
          42541.679688,
          40419.179688,
          39750.03125,
          39952.296875,
          41341.933594,
          43271.660156,
          44689.859375,
          45282.351563,
          46456.832031,
          46637.988281,
          46735.632813,
          46228.910156,
          47831.976563,
          48098.683594,
          47357.105469,
          47998.097656,
          47139.570313,
          45952.0625,
          46970.761719,
          49342.152344,
          49330.175781
         ],
         "low": [
          31772.632813,
          32385.214844,
          31350.884766,
          30184.501953,
          32071.757813,
          33902.074219,
          34252.484375,
          34086.152344,
          32883.78125,
          32770.679688,
          33402.695313,
          34396.476563,
          33213.660156,
          33599.917969,
          33839.289063,
          32133.183594,
          32318.880859,
          33116.011719,
          33346.738281,
          32697.308594,
          32261.419922,
          31639.125,
          31175.708984,
          31100.673828,
          31223.990234,
          31215.492188,
          30563.734375,
          29360.955078,
          29526.183594,
          31745.298828,
          32057.892578,
          33424.859375,
          33881.835938,
          35287.3125,
          36441.726563,
          38862.4375,
          39352.058594,
          38397.355469,
          41110.832031,
          39540.941406,
          38746.347656,
          37782.050781,
          37589.164063,
          37458.003906,
          39932.179688,
          42618.566406,
          43331.910156,
          42848.6875,
          44705.554688,
          45351.710938,
          43861.445313,
          44282.417969,
          46177.632813,
          45579.589844,
          45700.320313,
          44512.417969,
          44364.027344,
          43998.316406,
          46650.707031,
          48632.523438
         ],
         "open": [
          32515.714844,
          33682.800781,
          34659.105469,
          31594.664063,
          32287.523438,
          34679.121094,
          34475.558594,
          35908.386719,
          35035.984375,
          33549.601563,
          33854.421875,
          34665.566406,
          35284.34375,
          33723.507813,
          34225.679688,
          33889.605469,
          32861.671875,
          33811.242188,
          33509.078125,
          34254.015625,
          33125.46875,
          32723.845703,
          32827.875,
          31841.550781,
          31397.308594,
          31533.884766,
          31800.011719,
          30838.285156,
          29796.285156,
          32138.873047,
          32305.958984,
          33593.730469,
          34290.292969,
          35384.03125,
          37276.035156,
          39503.1875,
          39995.453125,
          40027.484375,
          42196.304688,
          41460.84375,
          39907.261719,
          39178.402344,
          38213.332031,
          39744.515625,
          40865.867188,
          42832.796875,
          44574.4375,
          43791.925781,
          46280.847656,
          45599.703125,
          45576.878906,
          44439.691406,
          47810.6875,
          47096.667969,
          47019.960938,
          45936.457031,
          44686.75,
          44741.882813,
          46723.121094,
          49330.175781
         ],
         "type": "candlestick",
         "x": [
          "2021-06-23T00:00:00",
          "2021-06-24T00:00:00",
          "2021-06-25T00:00:00",
          "2021-06-26T00:00:00",
          "2021-06-27T00:00:00",
          "2021-06-28T00:00:00",
          "2021-06-29T00:00:00",
          "2021-06-30T00:00:00",
          "2021-07-01T00:00:00",
          "2021-07-02T00:00:00",
          "2021-07-03T00:00:00",
          "2021-07-04T00:00:00",
          "2021-07-05T00:00:00",
          "2021-07-06T00:00:00",
          "2021-07-07T00:00:00",
          "2021-07-08T00:00:00",
          "2021-07-09T00:00:00",
          "2021-07-10T00:00:00",
          "2021-07-11T00:00:00",
          "2021-07-12T00:00:00",
          "2021-07-13T00:00:00",
          "2021-07-14T00:00:00",
          "2021-07-15T00:00:00",
          "2021-07-16T00:00:00",
          "2021-07-17T00:00:00",
          "2021-07-18T00:00:00",
          "2021-07-19T00:00:00",
          "2021-07-20T00:00:00",
          "2021-07-21T00:00:00",
          "2021-07-22T00:00:00",
          "2021-07-23T00:00:00",
          "2021-07-24T00:00:00",
          "2021-07-25T00:00:00",
          "2021-07-26T00:00:00",
          "2021-07-27T00:00:00",
          "2021-07-28T00:00:00",
          "2021-07-29T00:00:00",
          "2021-07-30T00:00:00",
          "2021-07-31T00:00:00",
          "2021-08-01T00:00:00",
          "2021-08-02T00:00:00",
          "2021-08-03T00:00:00",
          "2021-08-04T00:00:00",
          "2021-08-05T00:00:00",
          "2021-08-06T00:00:00",
          "2021-08-07T00:00:00",
          "2021-08-08T00:00:00",
          "2021-08-09T00:00:00",
          "2021-08-10T00:00:00",
          "2021-08-11T00:00:00",
          "2021-08-12T00:00:00",
          "2021-08-13T00:00:00",
          "2021-08-14T00:00:00",
          "2021-08-15T00:00:00",
          "2021-08-16T00:00:00",
          "2021-08-17T00:00:00",
          "2021-08-18T00:00:00",
          "2021-08-19T00:00:00",
          "2021-08-20T00:00:00",
          "2021-08-21T00:00:00"
         ]
        }
       ],
       "layout": {
        "template": {
         "data": {
          "bar": [
           {
            "error_x": {
             "color": "#2a3f5f"
            },
            "error_y": {
             "color": "#2a3f5f"
            },
            "marker": {
             "line": {
              "color": "#E5ECF6",
              "width": 0.5
             },
             "pattern": {
              "fillmode": "overlay",
              "size": 10,
              "solidity": 0.2
             }
            },
            "type": "bar"
           }
          ],
          "barpolar": [
           {
            "marker": {
             "line": {
              "color": "#E5ECF6",
              "width": 0.5
             },
             "pattern": {
              "fillmode": "overlay",
              "size": 10,
              "solidity": 0.2
             }
            },
            "type": "barpolar"
           }
          ],
          "carpet": [
           {
            "aaxis": {
             "endlinecolor": "#2a3f5f",
             "gridcolor": "white",
             "linecolor": "white",
             "minorgridcolor": "white",
             "startlinecolor": "#2a3f5f"
            },
            "baxis": {
             "endlinecolor": "#2a3f5f",
             "gridcolor": "white",
             "linecolor": "white",
             "minorgridcolor": "white",
             "startlinecolor": "#2a3f5f"
            },
            "type": "carpet"
           }
          ],
          "choropleth": [
           {
            "colorbar": {
             "outlinewidth": 0,
             "ticks": ""
            },
            "type": "choropleth"
           }
          ],
          "contour": [
           {
            "colorbar": {
             "outlinewidth": 0,
             "ticks": ""
            },
            "colorscale": [
             [
              0,
              "#0d0887"
             ],
             [
              0.1111111111111111,
              "#46039f"
             ],
             [
              0.2222222222222222,
              "#7201a8"
             ],
             [
              0.3333333333333333,
              "#9c179e"
             ],
             [
              0.4444444444444444,
              "#bd3786"
             ],
             [
              0.5555555555555556,
              "#d8576b"
             ],
             [
              0.6666666666666666,
              "#ed7953"
             ],
             [
              0.7777777777777778,
              "#fb9f3a"
             ],
             [
              0.8888888888888888,
              "#fdca26"
             ],
             [
              1,
              "#f0f921"
             ]
            ],
            "type": "contour"
           }
          ],
          "contourcarpet": [
           {
            "colorbar": {
             "outlinewidth": 0,
             "ticks": ""
            },
            "type": "contourcarpet"
           }
          ],
          "heatmap": [
           {
            "colorbar": {
             "outlinewidth": 0,
             "ticks": ""
            },
            "colorscale": [
             [
              0,
              "#0d0887"
             ],
             [
              0.1111111111111111,
              "#46039f"
             ],
             [
              0.2222222222222222,
              "#7201a8"
             ],
             [
              0.3333333333333333,
              "#9c179e"
             ],
             [
              0.4444444444444444,
              "#bd3786"
             ],
             [
              0.5555555555555556,
              "#d8576b"
             ],
             [
              0.6666666666666666,
              "#ed7953"
             ],
             [
              0.7777777777777778,
              "#fb9f3a"
             ],
             [
              0.8888888888888888,
              "#fdca26"
             ],
             [
              1,
              "#f0f921"
             ]
            ],
            "type": "heatmap"
           }
          ],
          "heatmapgl": [
           {
            "colorbar": {
             "outlinewidth": 0,
             "ticks": ""
            },
            "colorscale": [
             [
              0,
              "#0d0887"
             ],
             [
              0.1111111111111111,
              "#46039f"
             ],
             [
              0.2222222222222222,
              "#7201a8"
             ],
             [
              0.3333333333333333,
              "#9c179e"
             ],
             [
              0.4444444444444444,
              "#bd3786"
             ],
             [
              0.5555555555555556,
              "#d8576b"
             ],
             [
              0.6666666666666666,
              "#ed7953"
             ],
             [
              0.7777777777777778,
              "#fb9f3a"
             ],
             [
              0.8888888888888888,
              "#fdca26"
             ],
             [
              1,
              "#f0f921"
             ]
            ],
            "type": "heatmapgl"
           }
          ],
          "histogram": [
           {
            "marker": {
             "pattern": {
              "fillmode": "overlay",
              "size": 10,
              "solidity": 0.2
             }
            },
            "type": "histogram"
           }
          ],
          "histogram2d": [
           {
            "colorbar": {
             "outlinewidth": 0,
             "ticks": ""
            },
            "colorscale": [
             [
              0,
              "#0d0887"
             ],
             [
              0.1111111111111111,
              "#46039f"
             ],
             [
              0.2222222222222222,
              "#7201a8"
             ],
             [
              0.3333333333333333,
              "#9c179e"
             ],
             [
              0.4444444444444444,
              "#bd3786"
             ],
             [
              0.5555555555555556,
              "#d8576b"
             ],
             [
              0.6666666666666666,
              "#ed7953"
             ],
             [
              0.7777777777777778,
              "#fb9f3a"
             ],
             [
              0.8888888888888888,
              "#fdca26"
             ],
             [
              1,
              "#f0f921"
             ]
            ],
            "type": "histogram2d"
           }
          ],
          "histogram2dcontour": [
           {
            "colorbar": {
             "outlinewidth": 0,
             "ticks": ""
            },
            "colorscale": [
             [
              0,
              "#0d0887"
             ],
             [
              0.1111111111111111,
              "#46039f"
             ],
             [
              0.2222222222222222,
              "#7201a8"
             ],
             [
              0.3333333333333333,
              "#9c179e"
             ],
             [
              0.4444444444444444,
              "#bd3786"
             ],
             [
              0.5555555555555556,
              "#d8576b"
             ],
             [
              0.6666666666666666,
              "#ed7953"
             ],
             [
              0.7777777777777778,
              "#fb9f3a"
             ],
             [
              0.8888888888888888,
              "#fdca26"
             ],
             [
              1,
              "#f0f921"
             ]
            ],
            "type": "histogram2dcontour"
           }
          ],
          "mesh3d": [
           {
            "colorbar": {
             "outlinewidth": 0,
             "ticks": ""
            },
            "type": "mesh3d"
           }
          ],
          "parcoords": [
           {
            "line": {
             "colorbar": {
              "outlinewidth": 0,
              "ticks": ""
             }
            },
            "type": "parcoords"
           }
          ],
          "pie": [
           {
            "automargin": true,
            "type": "pie"
           }
          ],
          "scatter": [
           {
            "marker": {
             "colorbar": {
              "outlinewidth": 0,
              "ticks": ""
             }
            },
            "type": "scatter"
           }
          ],
          "scatter3d": [
           {
            "line": {
             "colorbar": {
              "outlinewidth": 0,
              "ticks": ""
             }
            },
            "marker": {
             "colorbar": {
              "outlinewidth": 0,
              "ticks": ""
             }
            },
            "type": "scatter3d"
           }
          ],
          "scattercarpet": [
           {
            "marker": {
             "colorbar": {
              "outlinewidth": 0,
              "ticks": ""
             }
            },
            "type": "scattercarpet"
           }
          ],
          "scattergeo": [
           {
            "marker": {
             "colorbar": {
              "outlinewidth": 0,
              "ticks": ""
             }
            },
            "type": "scattergeo"
           }
          ],
          "scattergl": [
           {
            "marker": {
             "colorbar": {
              "outlinewidth": 0,
              "ticks": ""
             }
            },
            "type": "scattergl"
           }
          ],
          "scattermapbox": [
           {
            "marker": {
             "colorbar": {
              "outlinewidth": 0,
              "ticks": ""
             }
            },
            "type": "scattermapbox"
           }
          ],
          "scatterpolar": [
           {
            "marker": {
             "colorbar": {
              "outlinewidth": 0,
              "ticks": ""
             }
            },
            "type": "scatterpolar"
           }
          ],
          "scatterpolargl": [
           {
            "marker": {
             "colorbar": {
              "outlinewidth": 0,
              "ticks": ""
             }
            },
            "type": "scatterpolargl"
           }
          ],
          "scatterternary": [
           {
            "marker": {
             "colorbar": {
              "outlinewidth": 0,
              "ticks": ""
             }
            },
            "type": "scatterternary"
           }
          ],
          "surface": [
           {
            "colorbar": {
             "outlinewidth": 0,
             "ticks": ""
            },
            "colorscale": [
             [
              0,
              "#0d0887"
             ],
             [
              0.1111111111111111,
              "#46039f"
             ],
             [
              0.2222222222222222,
              "#7201a8"
             ],
             [
              0.3333333333333333,
              "#9c179e"
             ],
             [
              0.4444444444444444,
              "#bd3786"
             ],
             [
              0.5555555555555556,
              "#d8576b"
             ],
             [
              0.6666666666666666,
              "#ed7953"
             ],
             [
              0.7777777777777778,
              "#fb9f3a"
             ],
             [
              0.8888888888888888,
              "#fdca26"
             ],
             [
              1,
              "#f0f921"
             ]
            ],
            "type": "surface"
           }
          ],
          "table": [
           {
            "cells": {
             "fill": {
              "color": "#EBF0F8"
             },
             "line": {
              "color": "white"
             }
            },
            "header": {
             "fill": {
              "color": "#C8D4E3"
             },
             "line": {
              "color": "white"
             }
            },
            "type": "table"
           }
          ]
         },
         "layout": {
          "annotationdefaults": {
           "arrowcolor": "#2a3f5f",
           "arrowhead": 0,
           "arrowwidth": 1
          },
          "autotypenumbers": "strict",
          "coloraxis": {
           "colorbar": {
            "outlinewidth": 0,
            "ticks": ""
           }
          },
          "colorscale": {
           "diverging": [
            [
             0,
             "#8e0152"
            ],
            [
             0.1,
             "#c51b7d"
            ],
            [
             0.2,
             "#de77ae"
            ],
            [
             0.3,
             "#f1b6da"
            ],
            [
             0.4,
             "#fde0ef"
            ],
            [
             0.5,
             "#f7f7f7"
            ],
            [
             0.6,
             "#e6f5d0"
            ],
            [
             0.7,
             "#b8e186"
            ],
            [
             0.8,
             "#7fbc41"
            ],
            [
             0.9,
             "#4d9221"
            ],
            [
             1,
             "#276419"
            ]
           ],
           "sequential": [
            [
             0,
             "#0d0887"
            ],
            [
             0.1111111111111111,
             "#46039f"
            ],
            [
             0.2222222222222222,
             "#7201a8"
            ],
            [
             0.3333333333333333,
             "#9c179e"
            ],
            [
             0.4444444444444444,
             "#bd3786"
            ],
            [
             0.5555555555555556,
             "#d8576b"
            ],
            [
             0.6666666666666666,
             "#ed7953"
            ],
            [
             0.7777777777777778,
             "#fb9f3a"
            ],
            [
             0.8888888888888888,
             "#fdca26"
            ],
            [
             1,
             "#f0f921"
            ]
           ],
           "sequentialminus": [
            [
             0,
             "#0d0887"
            ],
            [
             0.1111111111111111,
             "#46039f"
            ],
            [
             0.2222222222222222,
             "#7201a8"
            ],
            [
             0.3333333333333333,
             "#9c179e"
            ],
            [
             0.4444444444444444,
             "#bd3786"
            ],
            [
             0.5555555555555556,
             "#d8576b"
            ],
            [
             0.6666666666666666,
             "#ed7953"
            ],
            [
             0.7777777777777778,
             "#fb9f3a"
            ],
            [
             0.8888888888888888,
             "#fdca26"
            ],
            [
             1,
             "#f0f921"
            ]
           ]
          },
          "colorway": [
           "#636efa",
           "#EF553B",
           "#00cc96",
           "#ab63fa",
           "#FFA15A",
           "#19d3f3",
           "#FF6692",
           "#B6E880",
           "#FF97FF",
           "#FECB52"
          ],
          "font": {
           "color": "#2a3f5f"
          },
          "geo": {
           "bgcolor": "white",
           "lakecolor": "white",
           "landcolor": "#E5ECF6",
           "showlakes": true,
           "showland": true,
           "subunitcolor": "white"
          },
          "hoverlabel": {
           "align": "left"
          },
          "hovermode": "closest",
          "mapbox": {
           "style": "light"
          },
          "paper_bgcolor": "white",
          "plot_bgcolor": "#E5ECF6",
          "polar": {
           "angularaxis": {
            "gridcolor": "white",
            "linecolor": "white",
            "ticks": ""
           },
           "bgcolor": "#E5ECF6",
           "radialaxis": {
            "gridcolor": "white",
            "linecolor": "white",
            "ticks": ""
           }
          },
          "scene": {
           "xaxis": {
            "backgroundcolor": "#E5ECF6",
            "gridcolor": "white",
            "gridwidth": 2,
            "linecolor": "white",
            "showbackground": true,
            "ticks": "",
            "zerolinecolor": "white"
           },
           "yaxis": {
            "backgroundcolor": "#E5ECF6",
            "gridcolor": "white",
            "gridwidth": 2,
            "linecolor": "white",
            "showbackground": true,
            "ticks": "",
            "zerolinecolor": "white"
           },
           "zaxis": {
            "backgroundcolor": "#E5ECF6",
            "gridcolor": "white",
            "gridwidth": 2,
            "linecolor": "white",
            "showbackground": true,
            "ticks": "",
            "zerolinecolor": "white"
           }
          },
          "shapedefaults": {
           "line": {
            "color": "#2a3f5f"
           }
          },
          "ternary": {
           "aaxis": {
            "gridcolor": "white",
            "linecolor": "white",
            "ticks": ""
           },
           "baxis": {
            "gridcolor": "white",
            "linecolor": "white",
            "ticks": ""
           },
           "bgcolor": "#E5ECF6",
           "caxis": {
            "gridcolor": "white",
            "linecolor": "white",
            "ticks": ""
           }
          },
          "title": {
           "x": 0.05
          },
          "xaxis": {
           "automargin": true,
           "gridcolor": "white",
           "linecolor": "white",
           "ticks": "",
           "title": {
            "standoff": 15
           },
           "zerolinecolor": "white",
           "zerolinewidth": 2
          },
          "yaxis": {
           "automargin": true,
           "gridcolor": "white",
           "linecolor": "white",
           "ticks": "",
           "title": {
            "standoff": 15
           },
           "zerolinecolor": "white",
           "zerolinewidth": 2
          }
         }
        },
        "yaxis": {
         "autorange": true,
         "fixedrange": false
        }
       }
      },
      "text/html": [
       "<div>                            <div id=\"b35f28d0-fdf6-4769-825d-db42a83907b0\" class=\"plotly-graph-div\" style=\"height:525px; width:100%;\"></div>            <script type=\"text/javascript\">                require([\"plotly\"], function(Plotly) {                    window.PLOTLYENV=window.PLOTLYENV || {};                                    if (document.getElementById(\"b35f28d0-fdf6-4769-825d-db42a83907b0\")) {                    Plotly.newPlot(                        \"b35f28d0-fdf6-4769-825d-db42a83907b0\",                        [{\"close\":[33723.027344,34662.4375,31637.779297,32186.277344,34649.644531,34434.335938,35867.777344,35040.835938,33572.117188,33897.046875,34668.546875,35287.78125,33746.003906,34235.195313,33855.328125,32877.371094,33798.011719,33520.519531,34240.1875,33155.847656,32702.025391,32822.347656,31780.730469,31421.539063,31533.068359,31796.810547,30817.832031,29807.347656,32110.693359,32313.105469,33581.550781,34292.445313,35350.1875,37337.535156,39406.941406,39995.90625,40008.421875,42235.546875,41626.195313,39974.894531,39201.945313,38152.980469,39747.503906,40869.554688,42816.5,44555.800781,43798.117188,46365.402344,45585.03125,45593.636719,44428.289063,47793.320313,47096.945313,47047.003906,46004.484375,44695.359375,44801.1875,46717.578125,49339.175781,48866.0625],\"high\":[34753.410156,35228.851563,35487.246094,32637.587891,34656.128906,35219.890625,36542.109375,36074.757813,35035.984375,33939.589844,34909.261719,35937.566406,35284.34375,35038.535156,34997.664063,33907.90625,34042.292969,34209.070313,34584.703125,34592.15625,33327.101563,33061.398438,33159.640625,32218.40625,31935.945313,32398.996094,31885.859375,31006.1875,32752.326172,32576.400391,33581.550781,34490.390625,35364.925781,40499.675781,39406.941406,40816.070313,40593.070313,42235.546875,42231.449219,42541.679688,40419.179688,39750.03125,39952.296875,41341.933594,43271.660156,44689.859375,45282.351563,46456.832031,46637.988281,46735.632813,46228.910156,47831.976563,48098.683594,47357.105469,47998.097656,47139.570313,45952.0625,46970.761719,49342.152344,49330.175781],\"low\":[31772.632813,32385.214844,31350.884766,30184.501953,32071.757813,33902.074219,34252.484375,34086.152344,32883.78125,32770.679688,33402.695313,34396.476563,33213.660156,33599.917969,33839.289063,32133.183594,32318.880859,33116.011719,33346.738281,32697.308594,32261.419922,31639.125,31175.708984,31100.673828,31223.990234,31215.492188,30563.734375,29360.955078,29526.183594,31745.298828,32057.892578,33424.859375,33881.835938,35287.3125,36441.726563,38862.4375,39352.058594,38397.355469,41110.832031,39540.941406,38746.347656,37782.050781,37589.164063,37458.003906,39932.179688,42618.566406,43331.910156,42848.6875,44705.554688,45351.710938,43861.445313,44282.417969,46177.632813,45579.589844,45700.320313,44512.417969,44364.027344,43998.316406,46650.707031,48632.523438],\"open\":[32515.714844,33682.800781,34659.105469,31594.664063,32287.523438,34679.121094,34475.558594,35908.386719,35035.984375,33549.601563,33854.421875,34665.566406,35284.34375,33723.507813,34225.679688,33889.605469,32861.671875,33811.242188,33509.078125,34254.015625,33125.46875,32723.845703,32827.875,31841.550781,31397.308594,31533.884766,31800.011719,30838.285156,29796.285156,32138.873047,32305.958984,33593.730469,34290.292969,35384.03125,37276.035156,39503.1875,39995.453125,40027.484375,42196.304688,41460.84375,39907.261719,39178.402344,38213.332031,39744.515625,40865.867188,42832.796875,44574.4375,43791.925781,46280.847656,45599.703125,45576.878906,44439.691406,47810.6875,47096.667969,47019.960938,45936.457031,44686.75,44741.882813,46723.121094,49330.175781],\"type\":\"candlestick\",\"x\":[\"2021-06-23T00:00:00\",\"2021-06-24T00:00:00\",\"2021-06-25T00:00:00\",\"2021-06-26T00:00:00\",\"2021-06-27T00:00:00\",\"2021-06-28T00:00:00\",\"2021-06-29T00:00:00\",\"2021-06-30T00:00:00\",\"2021-07-01T00:00:00\",\"2021-07-02T00:00:00\",\"2021-07-03T00:00:00\",\"2021-07-04T00:00:00\",\"2021-07-05T00:00:00\",\"2021-07-06T00:00:00\",\"2021-07-07T00:00:00\",\"2021-07-08T00:00:00\",\"2021-07-09T00:00:00\",\"2021-07-10T00:00:00\",\"2021-07-11T00:00:00\",\"2021-07-12T00:00:00\",\"2021-07-13T00:00:00\",\"2021-07-14T00:00:00\",\"2021-07-15T00:00:00\",\"2021-07-16T00:00:00\",\"2021-07-17T00:00:00\",\"2021-07-18T00:00:00\",\"2021-07-19T00:00:00\",\"2021-07-20T00:00:00\",\"2021-07-21T00:00:00\",\"2021-07-22T00:00:00\",\"2021-07-23T00:00:00\",\"2021-07-24T00:00:00\",\"2021-07-25T00:00:00\",\"2021-07-26T00:00:00\",\"2021-07-27T00:00:00\",\"2021-07-28T00:00:00\",\"2021-07-29T00:00:00\",\"2021-07-30T00:00:00\",\"2021-07-31T00:00:00\",\"2021-08-01T00:00:00\",\"2021-08-02T00:00:00\",\"2021-08-03T00:00:00\",\"2021-08-04T00:00:00\",\"2021-08-05T00:00:00\",\"2021-08-06T00:00:00\",\"2021-08-07T00:00:00\",\"2021-08-08T00:00:00\",\"2021-08-09T00:00:00\",\"2021-08-10T00:00:00\",\"2021-08-11T00:00:00\",\"2021-08-12T00:00:00\",\"2021-08-13T00:00:00\",\"2021-08-14T00:00:00\",\"2021-08-15T00:00:00\",\"2021-08-16T00:00:00\",\"2021-08-17T00:00:00\",\"2021-08-18T00:00:00\",\"2021-08-19T00:00:00\",\"2021-08-20T00:00:00\",\"2021-08-21T00:00:00\"]}],                        {\"template\":{\"data\":{\"bar\":[{\"error_x\":{\"color\":\"#2a3f5f\"},\"error_y\":{\"color\":\"#2a3f5f\"},\"marker\":{\"line\":{\"color\":\"#E5ECF6\",\"width\":0.5},\"pattern\":{\"fillmode\":\"overlay\",\"size\":10,\"solidity\":0.2}},\"type\":\"bar\"}],\"barpolar\":[{\"marker\":{\"line\":{\"color\":\"#E5ECF6\",\"width\":0.5},\"pattern\":{\"fillmode\":\"overlay\",\"size\":10,\"solidity\":0.2}},\"type\":\"barpolar\"}],\"carpet\":[{\"aaxis\":{\"endlinecolor\":\"#2a3f5f\",\"gridcolor\":\"white\",\"linecolor\":\"white\",\"minorgridcolor\":\"white\",\"startlinecolor\":\"#2a3f5f\"},\"baxis\":{\"endlinecolor\":\"#2a3f5f\",\"gridcolor\":\"white\",\"linecolor\":\"white\",\"minorgridcolor\":\"white\",\"startlinecolor\":\"#2a3f5f\"},\"type\":\"carpet\"}],\"choropleth\":[{\"colorbar\":{\"outlinewidth\":0,\"ticks\":\"\"},\"type\":\"choropleth\"}],\"contour\":[{\"colorbar\":{\"outlinewidth\":0,\"ticks\":\"\"},\"colorscale\":[[0.0,\"#0d0887\"],[0.1111111111111111,\"#46039f\"],[0.2222222222222222,\"#7201a8\"],[0.3333333333333333,\"#9c179e\"],[0.4444444444444444,\"#bd3786\"],[0.5555555555555556,\"#d8576b\"],[0.6666666666666666,\"#ed7953\"],[0.7777777777777778,\"#fb9f3a\"],[0.8888888888888888,\"#fdca26\"],[1.0,\"#f0f921\"]],\"type\":\"contour\"}],\"contourcarpet\":[{\"colorbar\":{\"outlinewidth\":0,\"ticks\":\"\"},\"type\":\"contourcarpet\"}],\"heatmap\":[{\"colorbar\":{\"outlinewidth\":0,\"ticks\":\"\"},\"colorscale\":[[0.0,\"#0d0887\"],[0.1111111111111111,\"#46039f\"],[0.2222222222222222,\"#7201a8\"],[0.3333333333333333,\"#9c179e\"],[0.4444444444444444,\"#bd3786\"],[0.5555555555555556,\"#d8576b\"],[0.6666666666666666,\"#ed7953\"],[0.7777777777777778,\"#fb9f3a\"],[0.8888888888888888,\"#fdca26\"],[1.0,\"#f0f921\"]],\"type\":\"heatmap\"}],\"heatmapgl\":[{\"colorbar\":{\"outlinewidth\":0,\"ticks\":\"\"},\"colorscale\":[[0.0,\"#0d0887\"],[0.1111111111111111,\"#46039f\"],[0.2222222222222222,\"#7201a8\"],[0.3333333333333333,\"#9c179e\"],[0.4444444444444444,\"#bd3786\"],[0.5555555555555556,\"#d8576b\"],[0.6666666666666666,\"#ed7953\"],[0.7777777777777778,\"#fb9f3a\"],[0.8888888888888888,\"#fdca26\"],[1.0,\"#f0f921\"]],\"type\":\"heatmapgl\"}],\"histogram\":[{\"marker\":{\"pattern\":{\"fillmode\":\"overlay\",\"size\":10,\"solidity\":0.2}},\"type\":\"histogram\"}],\"histogram2d\":[{\"colorbar\":{\"outlinewidth\":0,\"ticks\":\"\"},\"colorscale\":[[0.0,\"#0d0887\"],[0.1111111111111111,\"#46039f\"],[0.2222222222222222,\"#7201a8\"],[0.3333333333333333,\"#9c179e\"],[0.4444444444444444,\"#bd3786\"],[0.5555555555555556,\"#d8576b\"],[0.6666666666666666,\"#ed7953\"],[0.7777777777777778,\"#fb9f3a\"],[0.8888888888888888,\"#fdca26\"],[1.0,\"#f0f921\"]],\"type\":\"histogram2d\"}],\"histogram2dcontour\":[{\"colorbar\":{\"outlinewidth\":0,\"ticks\":\"\"},\"colorscale\":[[0.0,\"#0d0887\"],[0.1111111111111111,\"#46039f\"],[0.2222222222222222,\"#7201a8\"],[0.3333333333333333,\"#9c179e\"],[0.4444444444444444,\"#bd3786\"],[0.5555555555555556,\"#d8576b\"],[0.6666666666666666,\"#ed7953\"],[0.7777777777777778,\"#fb9f3a\"],[0.8888888888888888,\"#fdca26\"],[1.0,\"#f0f921\"]],\"type\":\"histogram2dcontour\"}],\"mesh3d\":[{\"colorbar\":{\"outlinewidth\":0,\"ticks\":\"\"},\"type\":\"mesh3d\"}],\"parcoords\":[{\"line\":{\"colorbar\":{\"outlinewidth\":0,\"ticks\":\"\"}},\"type\":\"parcoords\"}],\"pie\":[{\"automargin\":true,\"type\":\"pie\"}],\"scatter\":[{\"marker\":{\"colorbar\":{\"outlinewidth\":0,\"ticks\":\"\"}},\"type\":\"scatter\"}],\"scatter3d\":[{\"line\":{\"colorbar\":{\"outlinewidth\":0,\"ticks\":\"\"}},\"marker\":{\"colorbar\":{\"outlinewidth\":0,\"ticks\":\"\"}},\"type\":\"scatter3d\"}],\"scattercarpet\":[{\"marker\":{\"colorbar\":{\"outlinewidth\":0,\"ticks\":\"\"}},\"type\":\"scattercarpet\"}],\"scattergeo\":[{\"marker\":{\"colorbar\":{\"outlinewidth\":0,\"ticks\":\"\"}},\"type\":\"scattergeo\"}],\"scattergl\":[{\"marker\":{\"colorbar\":{\"outlinewidth\":0,\"ticks\":\"\"}},\"type\":\"scattergl\"}],\"scattermapbox\":[{\"marker\":{\"colorbar\":{\"outlinewidth\":0,\"ticks\":\"\"}},\"type\":\"scattermapbox\"}],\"scatterpolar\":[{\"marker\":{\"colorbar\":{\"outlinewidth\":0,\"ticks\":\"\"}},\"type\":\"scatterpolar\"}],\"scatterpolargl\":[{\"marker\":{\"colorbar\":{\"outlinewidth\":0,\"ticks\":\"\"}},\"type\":\"scatterpolargl\"}],\"scatterternary\":[{\"marker\":{\"colorbar\":{\"outlinewidth\":0,\"ticks\":\"\"}},\"type\":\"scatterternary\"}],\"surface\":[{\"colorbar\":{\"outlinewidth\":0,\"ticks\":\"\"},\"colorscale\":[[0.0,\"#0d0887\"],[0.1111111111111111,\"#46039f\"],[0.2222222222222222,\"#7201a8\"],[0.3333333333333333,\"#9c179e\"],[0.4444444444444444,\"#bd3786\"],[0.5555555555555556,\"#d8576b\"],[0.6666666666666666,\"#ed7953\"],[0.7777777777777778,\"#fb9f3a\"],[0.8888888888888888,\"#fdca26\"],[1.0,\"#f0f921\"]],\"type\":\"surface\"}],\"table\":[{\"cells\":{\"fill\":{\"color\":\"#EBF0F8\"},\"line\":{\"color\":\"white\"}},\"header\":{\"fill\":{\"color\":\"#C8D4E3\"},\"line\":{\"color\":\"white\"}},\"type\":\"table\"}]},\"layout\":{\"annotationdefaults\":{\"arrowcolor\":\"#2a3f5f\",\"arrowhead\":0,\"arrowwidth\":1},\"autotypenumbers\":\"strict\",\"coloraxis\":{\"colorbar\":{\"outlinewidth\":0,\"ticks\":\"\"}},\"colorscale\":{\"diverging\":[[0,\"#8e0152\"],[0.1,\"#c51b7d\"],[0.2,\"#de77ae\"],[0.3,\"#f1b6da\"],[0.4,\"#fde0ef\"],[0.5,\"#f7f7f7\"],[0.6,\"#e6f5d0\"],[0.7,\"#b8e186\"],[0.8,\"#7fbc41\"],[0.9,\"#4d9221\"],[1,\"#276419\"]],\"sequential\":[[0.0,\"#0d0887\"],[0.1111111111111111,\"#46039f\"],[0.2222222222222222,\"#7201a8\"],[0.3333333333333333,\"#9c179e\"],[0.4444444444444444,\"#bd3786\"],[0.5555555555555556,\"#d8576b\"],[0.6666666666666666,\"#ed7953\"],[0.7777777777777778,\"#fb9f3a\"],[0.8888888888888888,\"#fdca26\"],[1.0,\"#f0f921\"]],\"sequentialminus\":[[0.0,\"#0d0887\"],[0.1111111111111111,\"#46039f\"],[0.2222222222222222,\"#7201a8\"],[0.3333333333333333,\"#9c179e\"],[0.4444444444444444,\"#bd3786\"],[0.5555555555555556,\"#d8576b\"],[0.6666666666666666,\"#ed7953\"],[0.7777777777777778,\"#fb9f3a\"],[0.8888888888888888,\"#fdca26\"],[1.0,\"#f0f921\"]]},\"colorway\":[\"#636efa\",\"#EF553B\",\"#00cc96\",\"#ab63fa\",\"#FFA15A\",\"#19d3f3\",\"#FF6692\",\"#B6E880\",\"#FF97FF\",\"#FECB52\"],\"font\":{\"color\":\"#2a3f5f\"},\"geo\":{\"bgcolor\":\"white\",\"lakecolor\":\"white\",\"landcolor\":\"#E5ECF6\",\"showlakes\":true,\"showland\":true,\"subunitcolor\":\"white\"},\"hoverlabel\":{\"align\":\"left\"},\"hovermode\":\"closest\",\"mapbox\":{\"style\":\"light\"},\"paper_bgcolor\":\"white\",\"plot_bgcolor\":\"#E5ECF6\",\"polar\":{\"angularaxis\":{\"gridcolor\":\"white\",\"linecolor\":\"white\",\"ticks\":\"\"},\"bgcolor\":\"#E5ECF6\",\"radialaxis\":{\"gridcolor\":\"white\",\"linecolor\":\"white\",\"ticks\":\"\"}},\"scene\":{\"xaxis\":{\"backgroundcolor\":\"#E5ECF6\",\"gridcolor\":\"white\",\"gridwidth\":2,\"linecolor\":\"white\",\"showbackground\":true,\"ticks\":\"\",\"zerolinecolor\":\"white\"},\"yaxis\":{\"backgroundcolor\":\"#E5ECF6\",\"gridcolor\":\"white\",\"gridwidth\":2,\"linecolor\":\"white\",\"showbackground\":true,\"ticks\":\"\",\"zerolinecolor\":\"white\"},\"zaxis\":{\"backgroundcolor\":\"#E5ECF6\",\"gridcolor\":\"white\",\"gridwidth\":2,\"linecolor\":\"white\",\"showbackground\":true,\"ticks\":\"\",\"zerolinecolor\":\"white\"}},\"shapedefaults\":{\"line\":{\"color\":\"#2a3f5f\"}},\"ternary\":{\"aaxis\":{\"gridcolor\":\"white\",\"linecolor\":\"white\",\"ticks\":\"\"},\"baxis\":{\"gridcolor\":\"white\",\"linecolor\":\"white\",\"ticks\":\"\"},\"bgcolor\":\"#E5ECF6\",\"caxis\":{\"gridcolor\":\"white\",\"linecolor\":\"white\",\"ticks\":\"\"}},\"title\":{\"x\":0.05},\"xaxis\":{\"automargin\":true,\"gridcolor\":\"white\",\"linecolor\":\"white\",\"ticks\":\"\",\"title\":{\"standoff\":15},\"zerolinecolor\":\"white\",\"zerolinewidth\":2},\"yaxis\":{\"automargin\":true,\"gridcolor\":\"white\",\"linecolor\":\"white\",\"ticks\":\"\",\"title\":{\"standoff\":15},\"zerolinecolor\":\"white\",\"zerolinewidth\":2}}},\"yaxis\":{\"autorange\":true,\"fixedrange\":false}},                        {\"responsive\": true}                    ).then(function(){\n",
       "                            \n",
       "var gd = document.getElementById('b35f28d0-fdf6-4769-825d-db42a83907b0');\n",
       "var x = new MutationObserver(function (mutations, observer) {{\n",
       "        var display = window.getComputedStyle(gd).display;\n",
       "        if (!display || display === 'none') {{\n",
       "            console.log([gd, 'removed!']);\n",
       "            Plotly.purge(gd);\n",
       "            observer.disconnect();\n",
       "        }}\n",
       "}});\n",
       "\n",
       "// Listen for the removal of the full notebook cells\n",
       "var notebookContainer = gd.closest('#notebook-container');\n",
       "if (notebookContainer) {{\n",
       "    x.observe(notebookContainer, {childList: true});\n",
       "}}\n",
       "\n",
       "// Listen for the clearing of the current output cell\n",
       "var outputEl = gd.closest('.output');\n",
       "if (outputEl) {{\n",
       "    x.observe(outputEl, {childList: true});\n",
       "}}\n",
       "\n",
       "                        })                };                });            </script>        </div>"
      ]
     },
     "metadata": {},
     "output_type": "display_data"
    }
   ],
   "source": [
    "import plotly.graph_objects as go\n",
    "fig = go.Figure(data=[go.Candlestick(x=data['Date'],\n",
    "                open=data['Open'],\n",
    "                high=data['High'],\n",
    "                low=data['Low'],\n",
    "                close=data['Close'])])\n",
    "fig.update_layout(yaxis=dict(\n",
    "       autorange = True,\n",
    "       fixedrange= False\n",
    "   ))\n",
    "\n",
    "fig.show()"
   ]
  },
  {
   "cell_type": "markdown",
   "id": "167411e2",
   "metadata": {
    "slideshow": {
     "slide_type": "slide"
    }
   },
   "source": [
    "## Coingecko API\n",
    "<img src=\"https://landing.coingecko.com/wp-content/uploads/2020/03/CoinGecko-1536x480.png\" width=\"900\" height=\"300\"/>"
   ]
  },
  {
   "cell_type": "code",
   "execution_count": 56,
   "id": "0b94e96c",
   "metadata": {
    "slideshow": {
     "slide_type": "skip"
    }
   },
   "outputs": [],
   "source": [
    "import pandas as pd\n",
    "import numpy as np\n",
    "import requests\n",
    "import matplotlib.pyplot as plt"
   ]
  },
  {
   "cell_type": "markdown",
   "id": "591a555c",
   "metadata": {
    "slideshow": {
     "slide_type": "subslide"
    }
   },
   "source": [
    "### Daily Data 🕛"
   ]
  },
  {
   "cell_type": "markdown",
   "id": "f5907d4a",
   "metadata": {
    "slideshow": {
     "slide_type": "fragment"
    }
   },
   "source": [
    "- We have access to price data, market_caps and volumes on the daily and hourly time frame\n",
    "- Open, High, Low, Close (OHLC) for 4h charts\n",
    "<br/><br/>\n",
    "- **Live data is important to keep the indicator updated all the time**"
   ]
  },
  {
   "cell_type": "code",
   "execution_count": 57,
   "id": "f4184271",
   "metadata": {
    "slideshow": {
     "slide_type": "fragment"
    }
   },
   "outputs": [
    {
     "data": {
      "text/plain": [
       "dict_keys(['prices', 'market_caps', 'total_volumes'])"
      ]
     },
     "execution_count": 57,
     "metadata": {},
     "output_type": "execute_result"
    }
   ],
   "source": [
    "url = \"https://api.coingecko.com/api/v3/coins/bitcoin/market_chart?vs_currency=usd&days=max\"\n",
    "response = requests.get(url).json()\n",
    "\n",
    "response.keys()\n",
    "#response"
   ]
  },
  {
   "cell_type": "code",
   "execution_count": 58,
   "id": "089c2fac",
   "metadata": {
    "slideshow": {
     "slide_type": "skip"
    }
   },
   "outputs": [],
   "source": [
    "prices = response['prices']\n",
    "market_caps = response['market_caps']\n",
    "total_volumes = response['total_volumes']"
   ]
  },
  {
   "cell_type": "code",
   "execution_count": 59,
   "id": "5c0af73c",
   "metadata": {
    "slideshow": {
     "slide_type": "skip"
    }
   },
   "outputs": [
    {
     "data": {
      "text/plain": [
       "3040"
      ]
     },
     "execution_count": 59,
     "metadata": {},
     "output_type": "execute_result"
    }
   ],
   "source": [
    "#Number of datapoints\n",
    "len(market_caps)"
   ]
  },
  {
   "cell_type": "code",
   "execution_count": 60,
   "id": "f46f2670",
   "metadata": {
    "slideshow": {
     "slide_type": "skip"
    }
   },
   "outputs": [],
   "source": [
    "#timestamp = unix timestamp\n",
    "unix_time = [x[0] for x in prices]\n",
    "prices = [round(x[1],1) for x in prices]\n",
    "#market_caps = [round(x[1] / 1000000,1) for x in market_caps] #divide by 1mill\n",
    "#total_volumes = [round(x[1] / 1000000,1) for x in total_volumes] #divide by 1mill\n",
    "market_caps = [x[1] for x in market_caps]\n",
    "total_volumes = [x[1] for x in total_volumes]"
   ]
  },
  {
   "cell_type": "code",
   "execution_count": 61,
   "id": "c16db930",
   "metadata": {
    "slideshow": {
     "slide_type": "skip"
    }
   },
   "outputs": [],
   "source": [
    "daily = pd.DataFrame(unix_time,columns=['unix_time'])\n",
    "daily['prices'] = pd.DataFrame(prices)\n",
    "daily['market_caps'] = pd.DataFrame(market_caps)\n",
    "daily['total_volumes'] = pd.DataFrame(total_volumes)\n",
    "daily[\"Date\"] = pd.to_datetime(daily[\"unix_time\"], unit='ms').dt.date #convert unix date to datetime while removing the hour-timestamp\n",
    "daily[\"Date\"] = pd.to_datetime(daily[\"Date\"])\n",
    "daily_clean = daily.drop(columns='unix_time').set_index('Date')\n",
    "daily_clean['log_price'] = daily_clean.prices.apply(lambda x: np.log(x))"
   ]
  },
  {
   "cell_type": "code",
   "execution_count": 62,
   "id": "5734df6b",
   "metadata": {
    "slideshow": {
     "slide_type": "fragment"
    },
    "tags": [
     "remove_input"
    ]
   },
   "outputs": [
    {
     "name": "stdout",
     "output_type": "stream",
     "text": [
      "after some processing...\n"
     ]
    },
    {
     "data": {
      "text/html": [
       "<div>\n",
       "<style scoped>\n",
       "    .dataframe tbody tr th:only-of-type {\n",
       "        vertical-align: middle;\n",
       "    }\n",
       "\n",
       "    .dataframe tbody tr th {\n",
       "        vertical-align: top;\n",
       "    }\n",
       "\n",
       "    .dataframe thead th {\n",
       "        text-align: right;\n",
       "    }\n",
       "</style>\n",
       "<table border=\"1\" class=\"dataframe\">\n",
       "  <thead>\n",
       "    <tr style=\"text-align: right;\">\n",
       "      <th></th>\n",
       "      <th>prices</th>\n",
       "      <th>market_caps</th>\n",
       "      <th>total_volumes</th>\n",
       "      <th>log_price</th>\n",
       "    </tr>\n",
       "    <tr>\n",
       "      <th>Date</th>\n",
       "      <th></th>\n",
       "      <th></th>\n",
       "      <th></th>\n",
       "      <th></th>\n",
       "    </tr>\n",
       "  </thead>\n",
       "  <tbody>\n",
       "    <tr>\n",
       "      <th>2021-08-21</th>\n",
       "      <td>49195.9</td>\n",
       "      <td>9.230134e+11</td>\n",
       "      <td>3.649709e+10</td>\n",
       "      <td>10.803566</td>\n",
       "    </tr>\n",
       "    <tr>\n",
       "      <th>2021-08-22</th>\n",
       "      <td>48933.7</td>\n",
       "      <td>9.207502e+11</td>\n",
       "      <td>4.214773e+10</td>\n",
       "      <td>10.798222</td>\n",
       "    </tr>\n",
       "    <tr>\n",
       "      <th>2021-08-23</th>\n",
       "      <td>49250.5</td>\n",
       "      <td>9.256301e+11</td>\n",
       "      <td>2.711018e+10</td>\n",
       "      <td>10.804675</td>\n",
       "    </tr>\n",
       "    <tr>\n",
       "      <th>2021-08-24</th>\n",
       "      <td>49518.6</td>\n",
       "      <td>9.307292e+11</td>\n",
       "      <td>3.580026e+10</td>\n",
       "      <td>10.810104</td>\n",
       "    </tr>\n",
       "    <tr>\n",
       "      <th>2021-08-25</th>\n",
       "      <td>48113.8</td>\n",
       "      <td>9.030765e+11</td>\n",
       "      <td>3.403169e+10</td>\n",
       "      <td>10.781324</td>\n",
       "    </tr>\n",
       "  </tbody>\n",
       "</table>\n",
       "</div>"
      ],
      "text/plain": [
       "             prices   market_caps  total_volumes  log_price\n",
       "Date                                                       \n",
       "2021-08-21  49195.9  9.230134e+11   3.649709e+10  10.803566\n",
       "2021-08-22  48933.7  9.207502e+11   4.214773e+10  10.798222\n",
       "2021-08-23  49250.5  9.256301e+11   2.711018e+10  10.804675\n",
       "2021-08-24  49518.6  9.307292e+11   3.580026e+10  10.810104\n",
       "2021-08-25  48113.8  9.030765e+11   3.403169e+10  10.781324"
      ]
     },
     "execution_count": 62,
     "metadata": {},
     "output_type": "execute_result"
    }
   ],
   "source": [
    "print(\"after some processing...\")\n",
    "daily_clean.tail(5)"
   ]
  },
  {
   "cell_type": "markdown",
   "id": "9ab072a6",
   "metadata": {
    "slideshow": {
     "slide_type": "subslide"
    }
   },
   "source": [
    "💡 **Conversion into logs will play a major role** 💡"
   ]
  },
  {
   "cell_type": "markdown",
   "id": "32435bbc",
   "metadata": {
    "slideshow": {
     "slide_type": "fragment"
    }
   },
   "source": [
    "**\"**```For forecasting and economic analysis many variables are used in logarithms (logs). In time series analysis this transformation is often considered to **stabilize the variance of a series**.``` **\"**\n",
    "\n",
    "- [The Role of log Transformation in Forecasting Economic Variables](https://cadmus.eui.eu/handle/1814/11150)"
   ]
  },
  {
   "cell_type": "code",
   "execution_count": 63,
   "id": "e2e3f649",
   "metadata": {
    "slideshow": {
     "slide_type": "subslide"
    },
    "tags": [
     "remove_input"
    ]
   },
   "outputs": [
    {
     "data": {
      "image/png": "[encoded data removed]",
      "text/plain": [
       "<Figure size 1080x720 with 2 Axes>"
      ]
     },
     "metadata": {},
     "output_type": "display_data"
    }
   ],
   "source": [
    "fig, axs = plt.subplots(2,1, figsize=(15,10))\n",
    "fig.suptitle(\"Daily Bitcoin price: 2013 - 2021 | USD and log(USD)\", size=16)\n",
    "axs[0].plot(daily_clean.prices)\n",
    "axs[0].set_ylabel(\"USD\")\n",
    "axs[1].plot(daily_clean.log_price, color = \"orange\")\n",
    "axs[1].set_ylabel(\"Log(USD)\")\n",
    "plt.show()"
   ]
  },
  {
   "cell_type": "markdown",
   "id": "6e01e5ce",
   "metadata": {
    "slideshow": {
     "slide_type": "subslide"
    }
   },
   "source": [
    "### TARGET: 4-Hourly Data 🕓"
   ]
  },
  {
   "cell_type": "code",
   "execution_count": 64,
   "id": "34d09fc7",
   "metadata": {
    "slideshow": {
     "slide_type": "skip"
    }
   },
   "outputs": [
    {
     "data": {
      "text/plain": [
       "[[1627329600000, 38641.07, 39841.37, 38641.07, 39841.37],\n",
       " [1627344000000, 39580.48, 39580.48, 37230.72, 37413.74],\n",
       " [1627358400000, 37226.65, 37385.81, 36547.98, 36547.98],\n",
       " [1627372800000, 36890.36, 37179.9, 36890.36, 36982.81],\n",
       " [1627387200000, 36973.09, 37806.6, 36973.09, 37806.6],\n",
       " [1627401600000, 38146.78, 38693.71, 38146.78, 38147.61],\n",
       " [1627416000000, 38195.58, 38195.58, 37691.22, 38001.27],\n",
       " [1627430400000, 38056.91, 39265.54, 38056.91, 39265.54],\n",
       " [1627444800000, 39076.59, 39891.52, 39076.59, 39891.52],\n",
       " [1627459200000, 39731.45, 40065.84, 39377.93, 39377.93],\n",
       " [1627473600000, 39927.01, 40192.36, 39512.86, 40192.36],\n",
       " [1627488000000, 40780.78, 40780.78, 39493.7, 39493.7],\n",
       " [1627502400000, 39756.46, 40840.14, 38457.4, 40840.14],\n",
       " [1627516800000, 40410.51, 40410.51, 39752.0, 39752.0],\n",
       " [1627531200000, 40031.2, 40031.2, 39692.15, 39901.78],\n",
       " [1627545600000, 39680.28, 40173.84, 39680.28, 40031.83],\n",
       " [1627560000000, 40000.82, 40616.61, 40000.82, 40116.35],\n",
       " [1627574400000, 39659.52, 39921.8, 39659.52, 39921.8],\n",
       " [1627588800000, 39945.98, 39945.98, 39476.95, 39476.95],\n",
       " [1627603200000, 39725.48, 39838.62, 39564.84, 39838.62],\n",
       " [1627617600000, 39977.76, 40101.46, 39945.39, 40023.81],\n",
       " [1627632000000, 39967.38, 39967.38, 39704.35, 39826.27],\n",
       " [1627646400000, 39781.78, 39781.78, 38681.76, 38950.03],\n",
       " [1627660800000, 38789.83, 39035.31, 38789.83, 39035.31],\n",
       " [1627675200000, 39095.21, 39109.09, 39006.51, 39109.09],\n",
       " [1627689600000, 39563.84, 41780.3, 39563.84, 41314.59],\n",
       " [1627704000000, 41936.26, 41964.84, 41936.26, 41945.63],\n",
       " [1627718400000, 41863.93, 41863.93, 41504.13, 41520.5],\n",
       " [1627732800000, 41565.92, 41833.5, 41565.92, 41833.5],\n",
       " [1627747200000, 41616.38, 41620.64, 41343.37, 41343.37],\n",
       " [1627761600000, 41581.64, 41581.64, 41192.33, 41423.15],\n",
       " [1627776000000, 41319.56, 41906.23, 41319.56, 41874.18],\n",
       " [1627790400000, 41699.54, 41809.25, 41699.54, 41809.25],\n",
       " [1627804800000, 42628.5, 42628.5, 41746.57, 41746.57],\n",
       " [1627819200000, 41750.84, 41898.94, 41621.05, 41621.05],\n",
       " [1627833600000, 41596.85, 41666.57, 41344.54, 41344.54],\n",
       " [1627848000000, 41301.03, 41301.03, 40998.71, 41241.87],\n",
       " [1627862400000, 41363.4, 41363.4, 40302.13, 40302.13],\n",
       " [1627876800000, 39985.18, 39985.18, 39572.22, 39881.39],\n",
       " [1627891200000, 39828.23, 40570.46, 39744.31, 40570.46],\n",
       " [1627905600000, 40101.18, 40101.18, 39567.64, 39852.18],\n",
       " [1627920000000, 39568.84, 39642.89, 39367.96, 39642.89],\n",
       " [1627934400000, 39776.6, 39801.67, 39690.89, 39690.89],\n",
       " [1627948800000, 39194.01, 39483.9, 38874.34, 39459.97],\n",
       " [1627963200000, 39278.77, 39759.77, 38940.09, 39092.66],\n",
       " [1627977600000, 38551.87, 38551.87, 38376.2, 38474.68],\n",
       " [1627992000000, 38637.95, 38833.63, 38615.58, 38833.63],\n",
       " [1628006400000, 38567.08, 38638.23, 38402.57, 38402.57],\n",
       " [1628020800000, 38205.2, 38554.67, 38154.24, 38165.01],\n",
       " [1628035200000, 38128.75, 38419.85, 38082.36, 38406.36],\n",
       " [1628049600000, 38175.78, 38496.08, 38175.78, 38187.73],\n",
       " [1628064000000, 38021.4, 38175.25, 38021.4, 38162.26],\n",
       " [1628078400000, 37781.15, 37995.33, 37729.03, 37995.33],\n",
       " [1628092800000, 38202.42, 39135.59, 38202.42, 39135.59],\n",
       " [1628107200000, 39318.44, 39627.6, 39318.44, 39627.6],\n",
       " [1628121600000, 39726.56, 39877.21, 39653.34, 39653.34],\n",
       " [1628136000000, 39756.28, 39756.28, 39362.19, 39362.19],\n",
       " [1628150400000, 39480.86, 39480.86, 39106.31, 39106.31],\n",
       " [1628164800000, 38857.43, 38857.43, 37954.53, 38051.92],\n",
       " [1628179200000, 38097.24, 39028.84, 37595.75, 39028.84],\n",
       " [1628193600000, 38824.02, 40923.47, 38824.02, 40923.47],\n",
       " [1628208000000, 40663.25, 40952.35, 40663.25, 40927.23],\n",
       " [1628222400000, 40825.38, 40825.38, 39871.57, 40339.04],\n",
       " [1628236800000, 40126.3, 40959.43, 40090.91, 40959.43],\n",
       " [1628251200000, 40926.65, 41135.48, 40665.77, 40763.04],\n",
       " [1628265600000, 40506.13, 40915.41, 40506.13, 40846.92],\n",
       " [1628280000000, 41914.17, 43133.33, 41914.17, 42777.67],\n",
       " [1628294400000, 42859.35, 42859.35, 42468.24, 42667.09],\n",
       " [1628308800000, 42813.25, 43274.29, 42813.25, 43167.28],\n",
       " [1628323200000, 43739.81, 43739.81, 43234.98, 43234.98],\n",
       " [1628337600000, 43348.69, 43759.13, 43348.69, 43670.24],\n",
       " [1628352000000, 43774.68, 43774.68, 43346.93, 43530.75],\n",
       " [1628366400000, 43470.73, 44114.34, 43454.84, 43620.78],\n",
       " [1628380800000, 43566.32, 43989.47, 43566.32, 43979.14],\n",
       " [1628395200000, 44514.61, 44514.61, 44022.77, 44022.77],\n",
       " [1628409600000, 44314.01, 45157.58, 44236.22, 45157.58],\n",
       " [1628424000000, 44863.98, 44863.98, 44351.78, 44351.78],\n",
       " [1628438400000, 44508.76, 44985.65, 43939.07, 43939.07],\n",
       " [1628452800000, 44099.92, 44099.92, 43688.8, 43704.07],\n",
       " [1628467200000, 43572.95, 44396.81, 43572.95, 44396.81],\n",
       " [1628481600000, 43753.22, 43753.22, 43054.69, 43461.96],\n",
       " [1628496000000, 43567.53, 43622.12, 43520.99, 43622.12],\n",
       " [1628510400000, 43717.72, 45671.39, 43717.72, 45671.39],\n",
       " [1628524800000, 45779.42, 45779.42, 45553.3, 45553.3],\n",
       " [1628539200000, 45960.4, 46433.43, 45801.14, 46433.43],\n",
       " [1628553600000, 46059.53, 46207.83, 45698.79, 46207.83],\n",
       " [1628568000000, 46311.0, 46311.0, 45777.11, 46090.72],\n",
       " [1628582400000, 45753.42, 45753.42, 45563.44, 45639.42],\n",
       " [1628596800000, 45911.32, 46090.47, 45498.01, 45498.01],\n",
       " [1628611200000, 45387.09, 45809.14, 45314.76, 45314.76],\n",
       " [1628625600000, 45174.67, 45311.54, 44815.46, 45311.54],\n",
       " [1628640000000, 45519.08, 45747.82, 45507.3, 45507.3],\n",
       " [1628654400000, 45628.14, 45752.26, 45297.28, 45297.28],\n",
       " [1628668800000, 45612.0, 46070.67, 45612.0, 46070.67],\n",
       " [1628683200000, 46262.76, 46262.76, 46075.57, 46075.57],\n",
       " [1628697600000, 45889.31, 46585.94, 45889.31, 46585.94],\n",
       " [1628712000000, 46423.35, 46449.17, 46273.48, 46302.05],\n",
       " [1628726400000, 46361.91, 46368.34, 45715.18, 45715.18],\n",
       " [1628740800000, 45656.03, 46165.29, 45656.03, 46165.29],\n",
       " [1628755200000, 46021.2, 46021.2, 45154.77, 45180.99],\n",
       " [1628769600000, 45272.49, 45411.13, 45272.49, 45411.13],\n",
       " [1628784000000, 44763.18, 44763.18, 44154.28, 44154.28],\n",
       " [1628798400000, 44276.91, 44513.77, 44103.35, 44513.77],\n",
       " [1628812800000, 44438.03, 44438.03, 43965.55, 43965.55],\n",
       " [1628827200000, 44495.21, 45405.42, 44495.21, 45405.42],\n",
       " [1628841600000, 45315.3, 45784.36, 45315.3, 45784.36],\n",
       " [1628856000000, 46125.25, 46281.8, 46125.25, 46281.8],\n",
       " [1628870400000, 46239.36, 46552.94, 46239.36, 46471.02],\n",
       " [1628884800000, 46359.06, 46560.95, 46359.06, 46502.01],\n",
       " [1628899200000, 46329.66, 47582.84, 46329.66, 47582.84],\n",
       " [1628913600000, 47760.11, 47760.11, 47542.18, 47542.18],\n",
       " [1628928000000, 47532.32, 47548.08, 47520.62, 47542.64],\n",
       " [1628942400000, 47623.16, 47623.16, 46216.67, 46216.67],\n",
       " [1628956800000, 46572.49, 46875.89, 46314.43, 46875.89],\n",
       " [1628971200000, 46978.36, 46978.36, 46754.67, 46754.67],\n",
       " [1628985600000, 47156.96, 47156.96, 46688.73, 46912.55],\n",
       " [1629000000000, 47088.85, 47258.27, 47088.85, 47258.27],\n",
       " [1629014400000, 46923.97, 46923.97, 46515.57, 46515.57],\n",
       " [1629028800000, 45756.97, 46111.4, 45756.97, 45945.98],\n",
       " [1629043200000, 46060.59, 46060.59, 45873.19, 45960.88],\n",
       " [1629057600000, 46172.8, 46260.06, 45988.46, 46260.06],\n",
       " [1629072000000, 46358.52, 47207.16, 46358.52, 47207.16],\n",
       " [1629086400000, 47025.0, 47862.15, 47025.0, 47862.15],\n",
       " [1629100800000, 47385.26, 47508.81, 47384.12, 47384.12],\n",
       " [1629115200000, 47304.28, 47355.57, 47077.18, 47355.57],\n",
       " [1629129600000, 47414.47, 47414.47, 46167.83, 46167.83],\n",
       " [1629144000000, 46360.22, 46422.95, 46360.22, 46422.95],\n",
       " [1629158400000, 46262.22, 46262.22, 46009.18, 46244.4],\n",
       " [1629172800000, 45999.28, 46419.6, 45806.66, 46419.6],\n",
       " [1629187200000, 46387.71, 46407.91, 45839.48, 45839.48],\n",
       " [1629201600000, 45927.68, 46830.42, 45927.68, 46778.93],\n",
       " [1629216000000, 46970.34, 46970.34, 46008.18, 46008.18],\n",
       " [1629230400000, 45727.59, 45890.78, 45710.32, 45710.32],\n",
       " [1629244800000, 45427.44, 45427.44, 44894.87, 44937.31],\n",
       " [1629259200000, 44534.45, 45033.48, 44534.45, 44953.67],\n",
       " [1629273600000, 45030.1, 45456.91, 45011.99, 45456.91],\n",
       " [1629288000000, 45046.34, 45477.62, 45046.34, 45394.46],\n",
       " [1629302400000, 44809.22, 45339.3, 44809.22, 45339.3],\n",
       " [1629316800000, 45753.34, 45894.98, 45517.3, 45517.3],\n",
       " [1629331200000, 44894.63, 44894.63, 44631.41, 44796.74],\n",
       " [1629345600000, 44790.95, 45240.42, 44678.53, 44678.53],\n",
       " [1629360000000, 44217.62, 44444.23, 44213.37, 44427.34],\n",
       " [1629374400000, 44496.36, 44848.3, 44431.44, 44431.44],\n",
       " [1629388800000, 44352.29, 45363.27, 44352.29, 45363.27],\n",
       " [1629403200000, 45786.22, 46639.3, 45720.61, 46639.3],\n",
       " [1629417600000, 46741.31, 46741.31, 46560.56, 46560.56],\n",
       " [1629432000000, 46745.03, 47277.13, 46745.03, 47165.04],\n",
       " [1629446400000, 47050.81, 47078.34, 47031.99, 47035.31],\n",
       " [1629460800000, 46826.44, 47164.46, 46804.09, 47135.95],\n",
       " [1629475200000, 46898.14, 48529.53, 46898.14, 48529.53],\n",
       " [1629489600000, 48478.94, 48682.83, 48418.44, 48418.44],\n",
       " [1629504000000, 48691.87, 49124.36, 48640.06, 49124.36],\n",
       " [1629518400000, 49195.88, 49195.88, 48852.08, 48852.08],\n",
       " [1629532800000, 48844.53, 48844.53, 48660.49, 48660.49],\n",
       " [1629547200000, 48922.93, 49072.52, 48806.16, 49072.52],\n",
       " [1629561600000, 48572.97, 49191.07, 48572.97, 49003.88],\n",
       " [1629576000000, 49236.3, 49658.89, 49236.3, 49542.66],\n",
       " [1629590400000, 49021.21, 49364.85, 48981.36, 49364.85],\n",
       " [1629604800000, 48867.88, 49150.16, 48851.09, 48851.09],\n",
       " [1629619200000, 48789.26, 49237.65, 48789.26, 49237.65],\n",
       " [1629633600000, 49197.53, 49253.16, 49062.02, 49253.16],\n",
       " [1629648000000, 49061.08, 49061.08, 48456.81, 48456.81],\n",
       " [1629662400000, 48511.7, 48634.55, 48493.33, 48493.33],\n",
       " [1629676800000, 48544.36, 49117.66, 48377.82, 49117.66],\n",
       " [1629691200000, 49237.27, 50050.34, 49237.27, 50050.34],\n",
       " [1629705600000, 50169.54, 50205.87, 50098.51, 50098.51],\n",
       " [1629720000000, 50065.26, 50214.99, 50065.26, 50080.08],\n",
       " [1629734400000, 50311.82, 50311.82, 49496.13, 49496.13],\n",
       " [1629748800000, 49533.17, 49533.17, 49488.21, 49532.43],\n",
       " [1629763200000, 49256.7, 49621.94, 49256.7, 49621.94],\n",
       " [1629777600000, 49518.58, 49518.58, 49029.38, 49180.5],\n",
       " [1629792000000, 49375.99, 49676.39, 49375.99, 49676.39],\n",
       " [1629806400000, 49710.77, 49710.77, 49260.18, 49260.18],\n",
       " [1629820800000, 49389.98, 49389.98, 48551.15, 48708.38],\n",
       " [1629835200000, 48365.32, 48365.32, 48103.04, 48124.79],\n",
       " [1629849600000, 48525.15, 48525.15, 48194.11, 48306.28],\n",
       " [1629864000000, 47804.62, 48288.08, 47804.62, 48288.08],\n",
       " [1629878400000, 48140.33, 48569.68, 48118.13, 48407.89],\n",
       " [1629892800000, 48220.1, 48220.1, 47250.11, 47564.82],\n",
       " [1629907200000, 47595.64, 48494.59, 47595.64, 48494.59]]"
      ]
     },
     "execution_count": 64,
     "metadata": {},
     "output_type": "execute_result"
    }
   ],
   "source": [
    "url = \"https://api.coingecko.com/api/v3/coins/bitcoin/ohlc?vs_currency=usd&days=30\"\n",
    "\n",
    "response = requests.get(url).json()\n",
    "response"
   ]
  },
  {
   "cell_type": "code",
   "execution_count": 65,
   "id": "4d443f49",
   "metadata": {
    "slideshow": {
     "slide_type": "skip"
    }
   },
   "outputs": [],
   "source": [
    "df_4h = pd.DataFrame(response, columns = ['unix_time','open', 'high', 'low', 'close'])\n",
    "df_4h[\"Date\"] = pd.to_datetime(df_4h[\"unix_time\"], unit='ms')\n",
    "df_4h = df_4h.drop(columns='unix_time').set_index('Date')\n",
    "\n",
    "\n",
    "for x in ['open', 'high', 'low', 'close']:\n",
    "    df_4h[f'log_{x}'] = df_4h[x].apply(lambda x: np.log(x))"
   ]
  },
  {
   "cell_type": "code",
   "execution_count": 66,
   "id": "44c6c014",
   "metadata": {
    "slideshow": {
     "slide_type": "fragment"
    },
    "tags": [
     "remove_input"
    ]
   },
   "outputs": [
    {
     "name": "stdout",
     "output_type": "stream",
     "text": [
      "after some preprocessing Coingecko API gives us:\n"
     ]
    },
    {
     "data": {
      "text/html": [
       "<div>\n",
       "<style scoped>\n",
       "    .dataframe tbody tr th:only-of-type {\n",
       "        vertical-align: middle;\n",
       "    }\n",
       "\n",
       "    .dataframe tbody tr th {\n",
       "        vertical-align: top;\n",
       "    }\n",
       "\n",
       "    .dataframe thead th {\n",
       "        text-align: right;\n",
       "    }\n",
       "</style>\n",
       "<table border=\"1\" class=\"dataframe\">\n",
       "  <thead>\n",
       "    <tr style=\"text-align: right;\">\n",
       "      <th></th>\n",
       "      <th>open</th>\n",
       "      <th>high</th>\n",
       "      <th>low</th>\n",
       "      <th>close</th>\n",
       "      <th>log_open</th>\n",
       "      <th>log_high</th>\n",
       "      <th>log_low</th>\n",
       "      <th>log_close</th>\n",
       "    </tr>\n",
       "    <tr>\n",
       "      <th>Date</th>\n",
       "      <th></th>\n",
       "      <th></th>\n",
       "      <th></th>\n",
       "      <th></th>\n",
       "      <th></th>\n",
       "      <th></th>\n",
       "      <th></th>\n",
       "      <th></th>\n",
       "    </tr>\n",
       "  </thead>\n",
       "  <tbody>\n",
       "    <tr>\n",
       "      <th>2021-07-26 20:00:00</th>\n",
       "      <td>38641.07</td>\n",
       "      <td>39841.37</td>\n",
       "      <td>38641.07</td>\n",
       "      <td>39841.37</td>\n",
       "      <td>10.562071</td>\n",
       "      <td>10.592661</td>\n",
       "      <td>10.562071</td>\n",
       "      <td>10.592661</td>\n",
       "    </tr>\n",
       "    <tr>\n",
       "      <th>2021-07-27 00:00:00</th>\n",
       "      <td>39580.48</td>\n",
       "      <td>39580.48</td>\n",
       "      <td>37230.72</td>\n",
       "      <td>37413.74</td>\n",
       "      <td>10.586091</td>\n",
       "      <td>10.586091</td>\n",
       "      <td>10.524890</td>\n",
       "      <td>10.529793</td>\n",
       "    </tr>\n",
       "    <tr>\n",
       "      <th>2021-07-27 04:00:00</th>\n",
       "      <td>37226.65</td>\n",
       "      <td>37385.81</td>\n",
       "      <td>36547.98</td>\n",
       "      <td>36547.98</td>\n",
       "      <td>10.524780</td>\n",
       "      <td>10.529046</td>\n",
       "      <td>10.506381</td>\n",
       "      <td>10.506381</td>\n",
       "    </tr>\n",
       "    <tr>\n",
       "      <th>2021-07-27 08:00:00</th>\n",
       "      <td>36890.36</td>\n",
       "      <td>37179.90</td>\n",
       "      <td>36890.36</td>\n",
       "      <td>36982.81</td>\n",
       "      <td>10.515706</td>\n",
       "      <td>10.523524</td>\n",
       "      <td>10.515706</td>\n",
       "      <td>10.518208</td>\n",
       "    </tr>\n",
       "    <tr>\n",
       "      <th>2021-07-27 12:00:00</th>\n",
       "      <td>36973.09</td>\n",
       "      <td>37806.60</td>\n",
       "      <td>36973.09</td>\n",
       "      <td>37806.60</td>\n",
       "      <td>10.517946</td>\n",
       "      <td>10.540239</td>\n",
       "      <td>10.517946</td>\n",
       "      <td>10.540239</td>\n",
       "    </tr>\n",
       "    <tr>\n",
       "      <th>...</th>\n",
       "      <td>...</td>\n",
       "      <td>...</td>\n",
       "      <td>...</td>\n",
       "      <td>...</td>\n",
       "      <td>...</td>\n",
       "      <td>...</td>\n",
       "      <td>...</td>\n",
       "      <td>...</td>\n",
       "    </tr>\n",
       "    <tr>\n",
       "      <th>2021-08-25 00:00:00</th>\n",
       "      <td>48525.15</td>\n",
       "      <td>48525.15</td>\n",
       "      <td>48194.11</td>\n",
       "      <td>48306.28</td>\n",
       "      <td>10.789837</td>\n",
       "      <td>10.789837</td>\n",
       "      <td>10.782992</td>\n",
       "      <td>10.785317</td>\n",
       "    </tr>\n",
       "    <tr>\n",
       "      <th>2021-08-25 04:00:00</th>\n",
       "      <td>47804.62</td>\n",
       "      <td>48288.08</td>\n",
       "      <td>47804.62</td>\n",
       "      <td>48288.08</td>\n",
       "      <td>10.774878</td>\n",
       "      <td>10.784940</td>\n",
       "      <td>10.774878</td>\n",
       "      <td>10.784940</td>\n",
       "    </tr>\n",
       "    <tr>\n",
       "      <th>2021-08-25 08:00:00</th>\n",
       "      <td>48140.33</td>\n",
       "      <td>48569.68</td>\n",
       "      <td>48118.13</td>\n",
       "      <td>48407.89</td>\n",
       "      <td>10.781876</td>\n",
       "      <td>10.790755</td>\n",
       "      <td>10.781414</td>\n",
       "      <td>10.787418</td>\n",
       "    </tr>\n",
       "    <tr>\n",
       "      <th>2021-08-25 12:00:00</th>\n",
       "      <td>48220.10</td>\n",
       "      <td>48220.10</td>\n",
       "      <td>47250.11</td>\n",
       "      <td>47564.82</td>\n",
       "      <td>10.783531</td>\n",
       "      <td>10.783531</td>\n",
       "      <td>10.763210</td>\n",
       "      <td>10.769849</td>\n",
       "    </tr>\n",
       "    <tr>\n",
       "      <th>2021-08-25 16:00:00</th>\n",
       "      <td>47595.64</td>\n",
       "      <td>48494.59</td>\n",
       "      <td>47595.64</td>\n",
       "      <td>48494.59</td>\n",
       "      <td>10.770496</td>\n",
       "      <td>10.789208</td>\n",
       "      <td>10.770496</td>\n",
       "      <td>10.789208</td>\n",
       "    </tr>\n",
       "  </tbody>\n",
       "</table>\n",
       "<p>180 rows × 8 columns</p>\n",
       "</div>"
      ],
      "text/plain": [
       "                         open      high       low     close   log_open  \\\n",
       "Date                                                                     \n",
       "2021-07-26 20:00:00  38641.07  39841.37  38641.07  39841.37  10.562071   \n",
       "2021-07-27 00:00:00  39580.48  39580.48  37230.72  37413.74  10.586091   \n",
       "2021-07-27 04:00:00  37226.65  37385.81  36547.98  36547.98  10.524780   \n",
       "2021-07-27 08:00:00  36890.36  37179.90  36890.36  36982.81  10.515706   \n",
       "2021-07-27 12:00:00  36973.09  37806.60  36973.09  37806.60  10.517946   \n",
       "...                       ...       ...       ...       ...        ...   \n",
       "2021-08-25 00:00:00  48525.15  48525.15  48194.11  48306.28  10.789837   \n",
       "2021-08-25 04:00:00  47804.62  48288.08  47804.62  48288.08  10.774878   \n",
       "2021-08-25 08:00:00  48140.33  48569.68  48118.13  48407.89  10.781876   \n",
       "2021-08-25 12:00:00  48220.10  48220.10  47250.11  47564.82  10.783531   \n",
       "2021-08-25 16:00:00  47595.64  48494.59  47595.64  48494.59  10.770496   \n",
       "\n",
       "                      log_high    log_low  log_close  \n",
       "Date                                                  \n",
       "2021-07-26 20:00:00  10.592661  10.562071  10.592661  \n",
       "2021-07-27 00:00:00  10.586091  10.524890  10.529793  \n",
       "2021-07-27 04:00:00  10.529046  10.506381  10.506381  \n",
       "2021-07-27 08:00:00  10.523524  10.515706  10.518208  \n",
       "2021-07-27 12:00:00  10.540239  10.517946  10.540239  \n",
       "...                        ...        ...        ...  \n",
       "2021-08-25 00:00:00  10.789837  10.782992  10.785317  \n",
       "2021-08-25 04:00:00  10.784940  10.774878  10.784940  \n",
       "2021-08-25 08:00:00  10.790755  10.781414  10.787418  \n",
       "2021-08-25 12:00:00  10.783531  10.763210  10.769849  \n",
       "2021-08-25 16:00:00  10.789208  10.770496  10.789208  \n",
       "\n",
       "[180 rows x 8 columns]"
      ]
     },
     "execution_count": 66,
     "metadata": {},
     "output_type": "execute_result"
    }
   ],
   "source": [
    "print(\"after some preprocessing Coingecko API gives us:\")\n",
    "df_4h"
   ]
  },
  {
   "cell_type": "code",
   "execution_count": 81,
   "id": "1c55b86f",
   "metadata": {},
   "outputs": [
    {
     "data": {
      "text/html": [
       "<div>\n",
       "<style scoped>\n",
       "    .dataframe tbody tr th:only-of-type {\n",
       "        vertical-align: middle;\n",
       "    }\n",
       "\n",
       "    .dataframe tbody tr th {\n",
       "        vertical-align: top;\n",
       "    }\n",
       "\n",
       "    .dataframe thead th {\n",
       "        text-align: right;\n",
       "    }\n",
       "</style>\n",
       "<table border=\"1\" class=\"dataframe\">\n",
       "  <thead>\n",
       "    <tr style=\"text-align: right;\">\n",
       "      <th></th>\n",
       "      <th>Date</th>\n",
       "      <th>open</th>\n",
       "      <th>high</th>\n",
       "      <th>low</th>\n",
       "      <th>close</th>\n",
       "      <th>log_open</th>\n",
       "      <th>log_high</th>\n",
       "      <th>log_low</th>\n",
       "      <th>log_close</th>\n",
       "    </tr>\n",
       "  </thead>\n",
       "  <tbody>\n",
       "    <tr>\n",
       "      <th>0</th>\n",
       "      <td>2021-07-26 20:00:00</td>\n",
       "      <td>38641.07</td>\n",
       "      <td>39841.37</td>\n",
       "      <td>38641.07</td>\n",
       "      <td>39841.37</td>\n",
       "      <td>10.562071</td>\n",
       "      <td>10.592661</td>\n",
       "      <td>10.562071</td>\n",
       "      <td>10.592661</td>\n",
       "    </tr>\n",
       "    <tr>\n",
       "      <th>1</th>\n",
       "      <td>2021-07-27 00:00:00</td>\n",
       "      <td>39580.48</td>\n",
       "      <td>39580.48</td>\n",
       "      <td>37230.72</td>\n",
       "      <td>37413.74</td>\n",
       "      <td>10.586091</td>\n",
       "      <td>10.586091</td>\n",
       "      <td>10.524890</td>\n",
       "      <td>10.529793</td>\n",
       "    </tr>\n",
       "    <tr>\n",
       "      <th>2</th>\n",
       "      <td>2021-07-27 04:00:00</td>\n",
       "      <td>37226.65</td>\n",
       "      <td>37385.81</td>\n",
       "      <td>36547.98</td>\n",
       "      <td>36547.98</td>\n",
       "      <td>10.524780</td>\n",
       "      <td>10.529046</td>\n",
       "      <td>10.506381</td>\n",
       "      <td>10.506381</td>\n",
       "    </tr>\n",
       "    <tr>\n",
       "      <th>3</th>\n",
       "      <td>2021-07-27 08:00:00</td>\n",
       "      <td>36890.36</td>\n",
       "      <td>37179.90</td>\n",
       "      <td>36890.36</td>\n",
       "      <td>36982.81</td>\n",
       "      <td>10.515706</td>\n",
       "      <td>10.523524</td>\n",
       "      <td>10.515706</td>\n",
       "      <td>10.518208</td>\n",
       "    </tr>\n",
       "    <tr>\n",
       "      <th>4</th>\n",
       "      <td>2021-07-27 12:00:00</td>\n",
       "      <td>36973.09</td>\n",
       "      <td>37806.60</td>\n",
       "      <td>36973.09</td>\n",
       "      <td>37806.60</td>\n",
       "      <td>10.517946</td>\n",
       "      <td>10.540239</td>\n",
       "      <td>10.517946</td>\n",
       "      <td>10.540239</td>\n",
       "    </tr>\n",
       "    <tr>\n",
       "      <th>...</th>\n",
       "      <td>...</td>\n",
       "      <td>...</td>\n",
       "      <td>...</td>\n",
       "      <td>...</td>\n",
       "      <td>...</td>\n",
       "      <td>...</td>\n",
       "      <td>...</td>\n",
       "      <td>...</td>\n",
       "      <td>...</td>\n",
       "    </tr>\n",
       "    <tr>\n",
       "      <th>175</th>\n",
       "      <td>2021-08-25 00:00:00</td>\n",
       "      <td>48525.15</td>\n",
       "      <td>48525.15</td>\n",
       "      <td>48194.11</td>\n",
       "      <td>48306.28</td>\n",
       "      <td>10.789837</td>\n",
       "      <td>10.789837</td>\n",
       "      <td>10.782992</td>\n",
       "      <td>10.785317</td>\n",
       "    </tr>\n",
       "    <tr>\n",
       "      <th>176</th>\n",
       "      <td>2021-08-25 04:00:00</td>\n",
       "      <td>47804.62</td>\n",
       "      <td>48288.08</td>\n",
       "      <td>47804.62</td>\n",
       "      <td>48288.08</td>\n",
       "      <td>10.774878</td>\n",
       "      <td>10.784940</td>\n",
       "      <td>10.774878</td>\n",
       "      <td>10.784940</td>\n",
       "    </tr>\n",
       "    <tr>\n",
       "      <th>177</th>\n",
       "      <td>2021-08-25 08:00:00</td>\n",
       "      <td>48140.33</td>\n",
       "      <td>48569.68</td>\n",
       "      <td>48118.13</td>\n",
       "      <td>48407.89</td>\n",
       "      <td>10.781876</td>\n",
       "      <td>10.790755</td>\n",
       "      <td>10.781414</td>\n",
       "      <td>10.787418</td>\n",
       "    </tr>\n",
       "    <tr>\n",
       "      <th>178</th>\n",
       "      <td>2021-08-25 12:00:00</td>\n",
       "      <td>48220.10</td>\n",
       "      <td>48220.10</td>\n",
       "      <td>47250.11</td>\n",
       "      <td>47564.82</td>\n",
       "      <td>10.783531</td>\n",
       "      <td>10.783531</td>\n",
       "      <td>10.763210</td>\n",
       "      <td>10.769849</td>\n",
       "    </tr>\n",
       "    <tr>\n",
       "      <th>179</th>\n",
       "      <td>2021-08-25 16:00:00</td>\n",
       "      <td>47595.64</td>\n",
       "      <td>48494.59</td>\n",
       "      <td>47595.64</td>\n",
       "      <td>48494.59</td>\n",
       "      <td>10.770496</td>\n",
       "      <td>10.789208</td>\n",
       "      <td>10.770496</td>\n",
       "      <td>10.789208</td>\n",
       "    </tr>\n",
       "  </tbody>\n",
       "</table>\n",
       "<p>180 rows × 9 columns</p>\n",
       "</div>"
      ],
      "text/plain": [
       "                   Date      open      high       low     close   log_open  \\\n",
       "0   2021-07-26 20:00:00  38641.07  39841.37  38641.07  39841.37  10.562071   \n",
       "1   2021-07-27 00:00:00  39580.48  39580.48  37230.72  37413.74  10.586091   \n",
       "2   2021-07-27 04:00:00  37226.65  37385.81  36547.98  36547.98  10.524780   \n",
       "3   2021-07-27 08:00:00  36890.36  37179.90  36890.36  36982.81  10.515706   \n",
       "4   2021-07-27 12:00:00  36973.09  37806.60  36973.09  37806.60  10.517946   \n",
       "..                  ...       ...       ...       ...       ...        ...   \n",
       "175 2021-08-25 00:00:00  48525.15  48525.15  48194.11  48306.28  10.789837   \n",
       "176 2021-08-25 04:00:00  47804.62  48288.08  47804.62  48288.08  10.774878   \n",
       "177 2021-08-25 08:00:00  48140.33  48569.68  48118.13  48407.89  10.781876   \n",
       "178 2021-08-25 12:00:00  48220.10  48220.10  47250.11  47564.82  10.783531   \n",
       "179 2021-08-25 16:00:00  47595.64  48494.59  47595.64  48494.59  10.770496   \n",
       "\n",
       "      log_high    log_low  log_close  \n",
       "0    10.592661  10.562071  10.592661  \n",
       "1    10.586091  10.524890  10.529793  \n",
       "2    10.529046  10.506381  10.506381  \n",
       "3    10.523524  10.515706  10.518208  \n",
       "4    10.540239  10.517946  10.540239  \n",
       "..         ...        ...        ...  \n",
       "175  10.789837  10.782992  10.785317  \n",
       "176  10.784940  10.774878  10.784940  \n",
       "177  10.790755  10.781414  10.787418  \n",
       "178  10.783531  10.763210  10.769849  \n",
       "179  10.789208  10.770496  10.789208  \n",
       "\n",
       "[180 rows x 9 columns]"
      ]
     },
     "execution_count": 81,
     "metadata": {},
     "output_type": "execute_result"
    }
   ],
   "source": [
    "df_4h.reset_index()"
   ]
  },
  {
   "cell_type": "code",
   "execution_count": 86,
   "id": "3742a4ef",
   "metadata": {},
   "outputs": [],
   "source": [
    "data=df_4h.reset_index()[-5:]"
   ]
  },
  {
   "cell_type": "code",
   "execution_count": 87,
   "id": "19f85ab4",
   "metadata": {},
   "outputs": [
    {
     "data": {
      "image/png": "[encoded data removed]",
      "text/plain": [
       "<Figure size 1080x720 with 1 Axes>"
      ]
     },
     "metadata": {},
     "output_type": "display_data"
    }
   ],
   "source": [
    "import matplotlib.pyplot as plt\n",
    "from mpl_finance import candlestick_ohlc\n",
    "import pandas as pd\n",
    "import matplotlib.dates as mpl_dates\n",
    "\n",
    "plt.style.use('ggplot')\n",
    "\n",
    "# Extracting Data for plotting\n",
    "#data = pd.read_csv('candlestick_python_data.csv')\n",
    "ohlc = data.loc[:, ['Date', 'open', 'high', 'low', 'close']]\n",
    "ohlc['Date'] = pd.to_datetime(ohlc['Date'])\n",
    "ohlc['Date'] = ohlc['Date'].apply(mpl_dates.date2num)\n",
    "ohlc = ohlc.astype(float)\n",
    "\n",
    "# Creating Subplots\n",
    "fig, ax = plt.subplots(figsize=(15,10))\n",
    "\n",
    "candlestick_ohlc(ax, ohlc.values, width=0.6, colorup='green', colordown='red', alpha=0.8)\n",
    "\n",
    "# Setting labels & titles\n",
    "ax.set_xlabel('Date')\n",
    "ax.set_ylabel('Price')\n",
    "fig.suptitle('Daily Candlestick Chart of NIFTY50')\n",
    "\n",
    "# Formatting Date\n",
    "date_format = mpl_dates.DateFormatter('%d-%m-%Y, %H:%M:%S')\n",
    "ax.xaxis.set_major_formatter(date_format)\n",
    "fig.autofmt_xdate()\n",
    "\n",
    "fig.tight_layout()\n",
    "\n",
    "plt.show()"
   ]
  },
  {
   "cell_type": "code",
   "execution_count": 32,
   "id": "6ab1f2a8",
   "metadata": {
    "slideshow": {
     "slide_type": "skip"
    }
   },
   "outputs": [
    {
     "data": {
      "text/plain": [
       "[<matplotlib.lines.Line2D at 0x7f8cb4579f10>]"
      ]
     },
     "execution_count": 32,
     "metadata": {},
     "output_type": "execute_result"
    },
    {
     "data": {
      "image/png": "[encoded data removed]",
      "text/plain": [
       "<Figure size 432x288 with 1 Axes>"
      ]
     },
     "metadata": {
      "needs_background": "light"
     },
     "output_type": "display_data"
    }
   ],
   "source": [
    "plt.plot(df_4h['log_close'])"
   ]
  },
  {
   "cell_type": "code",
   "execution_count": 33,
   "id": "7159703e",
   "metadata": {},
   "outputs": [
    {
     "data": {
      "text/plain": [
       "[<matplotlib.lines.Line2D at 0x7f8cb449dfd0>]"
      ]
     },
     "execution_count": 33,
     "metadata": {},
     "output_type": "execute_result"
    },
    {
     "data": {
      "image/png": "[encoded data removed]",
      "text/plain": [
       "<Figure size 432x288 with 1 Axes>"
      ]
     },
     "metadata": {
      "needs_background": "light"
     },
     "output_type": "display_data"
    }
   ],
   "source": [
    "plt.plot(df_4h['close'])"
   ]
  },
  {
   "cell_type": "markdown",
   "id": "c1bdf5dc",
   "metadata": {
    "slideshow": {
     "slide_type": "subslide"
    }
   },
   "source": [
    "## Gemini 1h data 🕐\n",
    "... but we need **MORE** DATA ..."
   ]
  },
  {
   "cell_type": "markdown",
   "id": "d131869f",
   "metadata": {
    "slideshow": {
     "slide_type": "skip"
    }
   },
   "source": [
    "https://www.cryptodatadownload.com/data/gemini/"
   ]
  },
  {
   "cell_type": "code",
   "execution_count": 71,
   "id": "d22f12db",
   "metadata": {},
   "outputs": [],
   "source": [
    "data_gemini = pd.read_csv(\"../raw_data/gemini_BTCUSD_1hr.csv\")"
   ]
  },
  {
   "cell_type": "code",
   "execution_count": 72,
   "id": "534fa06c",
   "metadata": {},
   "outputs": [
    {
     "data": {
      "text/html": [
       "<div>\n",
       "<style scoped>\n",
       "    .dataframe tbody tr th:only-of-type {\n",
       "        vertical-align: middle;\n",
       "    }\n",
       "\n",
       "    .dataframe tbody tr th {\n",
       "        vertical-align: top;\n",
       "    }\n",
       "\n",
       "    .dataframe thead th {\n",
       "        text-align: right;\n",
       "    }\n",
       "</style>\n",
       "<table border=\"1\" class=\"dataframe\">\n",
       "  <thead>\n",
       "    <tr style=\"text-align: right;\">\n",
       "      <th></th>\n",
       "      <th></th>\n",
       "      <th></th>\n",
       "      <th></th>\n",
       "      <th></th>\n",
       "      <th></th>\n",
       "      <th>Created on 08-13-2021</th>\n",
       "      <th>https://www.CryptoDataDownload.com</th>\n",
       "    </tr>\n",
       "  </thead>\n",
       "  <tbody>\n",
       "    <tr>\n",
       "      <th>Unix Timestamp</th>\n",
       "      <th>Date</th>\n",
       "      <th>Symbol</th>\n",
       "      <th>Open</th>\n",
       "      <th>High</th>\n",
       "      <th>Low</th>\n",
       "      <td>Close</td>\n",
       "      <td>Volume</td>\n",
       "    </tr>\n",
       "    <tr>\n",
       "      <th>1628812800000</th>\n",
       "      <th>2021-08-13 00:00:00</th>\n",
       "      <th>BTCUSD</th>\n",
       "      <th>44430.99</th>\n",
       "      <th>44598.83</th>\n",
       "      <th>44419.58</th>\n",
       "      <td>44598.83</td>\n",
       "      <td>2.1087433717</td>\n",
       "    </tr>\n",
       "    <tr>\n",
       "      <th>1628809200000</th>\n",
       "      <th>2021-08-12 23:00:00</th>\n",
       "      <th>BTCUSD</th>\n",
       "      <th>43979.65</th>\n",
       "      <th>44541.87</th>\n",
       "      <th>43979.65</th>\n",
       "      <td>44430.99</td>\n",
       "      <td>36.2844087</td>\n",
       "    </tr>\n",
       "    <tr>\n",
       "      <th>1628805600000</th>\n",
       "      <th>2021-08-12 22:00:00</th>\n",
       "      <th>BTCUSD</th>\n",
       "      <th>44265.95</th>\n",
       "      <th>44323.16</th>\n",
       "      <th>43895.31</th>\n",
       "      <td>43979.65</td>\n",
       "      <td>104.1080794826</td>\n",
       "    </tr>\n",
       "    <tr>\n",
       "      <th>1628802000000</th>\n",
       "      <th>2021-08-12 21:00:00</th>\n",
       "      <th>BTCUSD</th>\n",
       "      <th>44468.7</th>\n",
       "      <th>44549.0</th>\n",
       "      <th>44187.4</th>\n",
       "      <td>44265.95</td>\n",
       "      <td>42.8839793875</td>\n",
       "    </tr>\n",
       "    <tr>\n",
       "      <th>...</th>\n",
       "      <th>...</th>\n",
       "      <th>...</th>\n",
       "      <th>...</th>\n",
       "      <th>...</th>\n",
       "      <th>...</th>\n",
       "      <td>...</td>\n",
       "      <td>...</td>\n",
       "    </tr>\n",
       "    <tr>\n",
       "      <th>1444323600</th>\n",
       "      <th>2015-10-08 17:00:00</th>\n",
       "      <th>BTCUSD</th>\n",
       "      <th>244.25</th>\n",
       "      <th>244.99</th>\n",
       "      <th>244.02</th>\n",
       "      <td>244.99</td>\n",
       "      <td>3.920632003</td>\n",
       "    </tr>\n",
       "    <tr>\n",
       "      <th>1444320000</th>\n",
       "      <th>2015-10-08 16:00:00</th>\n",
       "      <th>BTCUSD</th>\n",
       "      <th>244.92</th>\n",
       "      <th>244.92</th>\n",
       "      <th>244.25</th>\n",
       "      <td>244.25</td>\n",
       "      <td>3.89525246</td>\n",
       "    </tr>\n",
       "    <tr>\n",
       "      <th>1444316400</th>\n",
       "      <th>2015-10-08 15:00:00</th>\n",
       "      <th>BTCUSD</th>\n",
       "      <th>245.0</th>\n",
       "      <th>245.0</th>\n",
       "      <th>244.92</th>\n",
       "      <td>244.92</td>\n",
       "      <td>3.016925828</td>\n",
       "    </tr>\n",
       "    <tr>\n",
       "      <th>1444312800</th>\n",
       "      <th>2015-10-08 14:00:00</th>\n",
       "      <th>BTCUSD</th>\n",
       "      <th>245.0</th>\n",
       "      <th>245.0</th>\n",
       "      <th>244.5</th>\n",
       "      <td>245.0</td>\n",
       "      <td>4.453648931</td>\n",
       "    </tr>\n",
       "    <tr>\n",
       "      <th>1444309200</th>\n",
       "      <th>2015-10-08 13:00:00</th>\n",
       "      <th>BTCUSD</th>\n",
       "      <th>0.0</th>\n",
       "      <th>245.0</th>\n",
       "      <th>0.0</th>\n",
       "      <td>245.0</td>\n",
       "      <td>0.60665438</td>\n",
       "    </tr>\n",
       "  </tbody>\n",
       "</table>\n",
       "<p>51250 rows × 2 columns</p>\n",
       "</div>"
      ],
      "text/plain": [
       "                                                                     Created on 08-13-2021  \\\n",
       "Unix Timestamp Date                Symbol Open     High     Low                      Close   \n",
       "1628812800000  2021-08-13 00:00:00 BTCUSD 44430.99 44598.83 44419.58              44598.83   \n",
       "1628809200000  2021-08-12 23:00:00 BTCUSD 43979.65 44541.87 43979.65              44430.99   \n",
       "1628805600000  2021-08-12 22:00:00 BTCUSD 44265.95 44323.16 43895.31              43979.65   \n",
       "1628802000000  2021-08-12 21:00:00 BTCUSD 44468.7  44549.0  44187.4               44265.95   \n",
       "...                                                                                    ...   \n",
       "1444323600     2015-10-08 17:00:00 BTCUSD 244.25   244.99   244.02                  244.99   \n",
       "1444320000     2015-10-08 16:00:00 BTCUSD 244.92   244.92   244.25                  244.25   \n",
       "1444316400     2015-10-08 15:00:00 BTCUSD 245.0    245.0    244.92                  244.92   \n",
       "1444312800     2015-10-08 14:00:00 BTCUSD 245.0    245.0    244.5                    245.0   \n",
       "1444309200     2015-10-08 13:00:00 BTCUSD 0.0      245.0    0.0                      245.0   \n",
       "\n",
       "                                                                     https://www.CryptoDataDownload.com  \n",
       "Unix Timestamp Date                Symbol Open     High     Low                                  Volume  \n",
       "1628812800000  2021-08-13 00:00:00 BTCUSD 44430.99 44598.83 44419.58                       2.1087433717  \n",
       "1628809200000  2021-08-12 23:00:00 BTCUSD 43979.65 44541.87 43979.65                         36.2844087  \n",
       "1628805600000  2021-08-12 22:00:00 BTCUSD 44265.95 44323.16 43895.31                     104.1080794826  \n",
       "1628802000000  2021-08-12 21:00:00 BTCUSD 44468.7  44549.0  44187.4                       42.8839793875  \n",
       "...                                                                                                 ...  \n",
       "1444323600     2015-10-08 17:00:00 BTCUSD 244.25   244.99   244.02                          3.920632003  \n",
       "1444320000     2015-10-08 16:00:00 BTCUSD 244.92   244.92   244.25                           3.89525246  \n",
       "1444316400     2015-10-08 15:00:00 BTCUSD 245.0    245.0    244.92                          3.016925828  \n",
       "1444312800     2015-10-08 14:00:00 BTCUSD 245.0    245.0    244.5                           4.453648931  \n",
       "1444309200     2015-10-08 13:00:00 BTCUSD 0.0      245.0    0.0                              0.60665438  \n",
       "\n",
       "[51250 rows x 2 columns]"
      ]
     },
     "execution_count": 72,
     "metadata": {},
     "output_type": "execute_result"
    }
   ],
   "source": [
    "data_gemini"
   ]
  },
  {
   "cell_type": "code",
   "execution_count": 70,
   "id": "87898ba9",
   "metadata": {
    "slideshow": {
     "slide_type": "skip"
    }
   },
   "outputs": [],
   "source": [
    "\n",
    "data_gemini.index\n",
    "data_gemini.reset_index(inplace=True)\n",
    "column_names=['Unix Timestamp','Date','Symbol','Open','High','Low','Close','Volume']\n",
    "data_gemini.columns = column_names\n",
    "df_gemini = data_gemini.iloc[1:].copy()"
   ]
  },
  {
   "cell_type": "code",
   "execution_count": 65,
   "id": "4ca58f22",
   "metadata": {
    "slideshow": {
     "slide_type": "skip"
    }
   },
   "outputs": [],
   "source": [
    "#transform to datetime\n",
    "df_gemini['Date'] = pd.to_datetime(df_gemini['Date'])\n",
    "\n",
    "#transform numerics into floats\n",
    "numerics = ['Open','High','Low','Close','Volume']\n",
    "for k in numerics:\n",
    "    df_gemini[k] = pd.to_numeric(df_gemini[k])\n",
    "    \n",
    "#set date to index \n",
    "df_gemini = df_gemini.set_index('Date')"
   ]
  },
  {
   "cell_type": "code",
   "execution_count": 66,
   "id": "b20d8e8d",
   "metadata": {
    "slideshow": {
     "slide_type": "skip"
    }
   },
   "outputs": [],
   "source": [
    "df_gemini = df_gemini.drop(columns=['Unix Timestamp', 'Symbol'])"
   ]
  },
  {
   "cell_type": "code",
   "execution_count": 67,
   "id": "d892efa0",
   "metadata": {},
   "outputs": [
    {
     "data": {
      "text/html": [
       "<div>\n",
       "<style scoped>\n",
       "    .dataframe tbody tr th:only-of-type {\n",
       "        vertical-align: middle;\n",
       "    }\n",
       "\n",
       "    .dataframe tbody tr th {\n",
       "        vertical-align: top;\n",
       "    }\n",
       "\n",
       "    .dataframe thead th {\n",
       "        text-align: right;\n",
       "    }\n",
       "</style>\n",
       "<table border=\"1\" class=\"dataframe\">\n",
       "  <thead>\n",
       "    <tr style=\"text-align: right;\">\n",
       "      <th></th>\n",
       "      <th>Open</th>\n",
       "      <th>High</th>\n",
       "      <th>Low</th>\n",
       "      <th>Close</th>\n",
       "      <th>Volume</th>\n",
       "    </tr>\n",
       "    <tr>\n",
       "      <th>Date</th>\n",
       "      <th></th>\n",
       "      <th></th>\n",
       "      <th></th>\n",
       "      <th></th>\n",
       "      <th></th>\n",
       "    </tr>\n",
       "  </thead>\n",
       "  <tbody>\n",
       "    <tr>\n",
       "      <th>2021-08-13 00:00:00</th>\n",
       "      <td>44430.99</td>\n",
       "      <td>44598.83</td>\n",
       "      <td>44419.58</td>\n",
       "      <td>44598.83</td>\n",
       "      <td>2.108743</td>\n",
       "    </tr>\n",
       "    <tr>\n",
       "      <th>2021-08-12 23:00:00</th>\n",
       "      <td>43979.65</td>\n",
       "      <td>44541.87</td>\n",
       "      <td>43979.65</td>\n",
       "      <td>44430.99</td>\n",
       "      <td>36.284409</td>\n",
       "    </tr>\n",
       "    <tr>\n",
       "      <th>2021-08-12 22:00:00</th>\n",
       "      <td>44265.95</td>\n",
       "      <td>44323.16</td>\n",
       "      <td>43895.31</td>\n",
       "      <td>43979.65</td>\n",
       "      <td>104.108079</td>\n",
       "    </tr>\n",
       "    <tr>\n",
       "      <th>2021-08-12 21:00:00</th>\n",
       "      <td>44468.70</td>\n",
       "      <td>44549.00</td>\n",
       "      <td>44187.40</td>\n",
       "      <td>44265.95</td>\n",
       "      <td>42.883979</td>\n",
       "    </tr>\n",
       "    <tr>\n",
       "      <th>2021-08-12 20:00:00</th>\n",
       "      <td>44407.09</td>\n",
       "      <td>44578.23</td>\n",
       "      <td>44141.73</td>\n",
       "      <td>44468.70</td>\n",
       "      <td>63.500585</td>\n",
       "    </tr>\n",
       "    <tr>\n",
       "      <th>...</th>\n",
       "      <td>...</td>\n",
       "      <td>...</td>\n",
       "      <td>...</td>\n",
       "      <td>...</td>\n",
       "      <td>...</td>\n",
       "    </tr>\n",
       "    <tr>\n",
       "      <th>2015-10-08 17:00:00</th>\n",
       "      <td>244.25</td>\n",
       "      <td>244.99</td>\n",
       "      <td>244.02</td>\n",
       "      <td>244.99</td>\n",
       "      <td>3.920632</td>\n",
       "    </tr>\n",
       "    <tr>\n",
       "      <th>2015-10-08 16:00:00</th>\n",
       "      <td>244.92</td>\n",
       "      <td>244.92</td>\n",
       "      <td>244.25</td>\n",
       "      <td>244.25</td>\n",
       "      <td>3.895252</td>\n",
       "    </tr>\n",
       "    <tr>\n",
       "      <th>2015-10-08 15:00:00</th>\n",
       "      <td>245.00</td>\n",
       "      <td>245.00</td>\n",
       "      <td>244.92</td>\n",
       "      <td>244.92</td>\n",
       "      <td>3.016926</td>\n",
       "    </tr>\n",
       "    <tr>\n",
       "      <th>2015-10-08 14:00:00</th>\n",
       "      <td>245.00</td>\n",
       "      <td>245.00</td>\n",
       "      <td>244.50</td>\n",
       "      <td>245.00</td>\n",
       "      <td>4.453649</td>\n",
       "    </tr>\n",
       "    <tr>\n",
       "      <th>2015-10-08 13:00:00</th>\n",
       "      <td>0.00</td>\n",
       "      <td>245.00</td>\n",
       "      <td>0.00</td>\n",
       "      <td>245.00</td>\n",
       "      <td>0.606654</td>\n",
       "    </tr>\n",
       "  </tbody>\n",
       "</table>\n",
       "<p>51249 rows × 5 columns</p>\n",
       "</div>"
      ],
      "text/plain": [
       "                         Open      High       Low     Close      Volume\n",
       "Date                                                                   \n",
       "2021-08-13 00:00:00  44430.99  44598.83  44419.58  44598.83    2.108743\n",
       "2021-08-12 23:00:00  43979.65  44541.87  43979.65  44430.99   36.284409\n",
       "2021-08-12 22:00:00  44265.95  44323.16  43895.31  43979.65  104.108079\n",
       "2021-08-12 21:00:00  44468.70  44549.00  44187.40  44265.95   42.883979\n",
       "2021-08-12 20:00:00  44407.09  44578.23  44141.73  44468.70   63.500585\n",
       "...                       ...       ...       ...       ...         ...\n",
       "2015-10-08 17:00:00    244.25    244.99    244.02    244.99    3.920632\n",
       "2015-10-08 16:00:00    244.92    244.92    244.25    244.25    3.895252\n",
       "2015-10-08 15:00:00    245.00    245.00    244.92    244.92    3.016926\n",
       "2015-10-08 14:00:00    245.00    245.00    244.50    245.00    4.453649\n",
       "2015-10-08 13:00:00      0.00    245.00      0.00    245.00    0.606654\n",
       "\n",
       "[51249 rows x 5 columns]"
      ]
     },
     "execution_count": 67,
     "metadata": {},
     "output_type": "execute_result"
    }
   ],
   "source": [
    "df_gemini"
   ]
  },
  {
   "cell_type": "code",
   "execution_count": 68,
   "id": "adc332af",
   "metadata": {
    "slideshow": {
     "slide_type": "skip"
    }
   },
   "outputs": [],
   "source": [
    "df_g_4h = df_gemini.resample(\"4H\").mean()\n",
    "\n",
    "for x in ['Open', 'High', 'Low', 'Close']:\n",
    "    df_g_4h[f'log_{x}'] = df_g_4h[x].apply(lambda x: np.log(x))"
   ]
  },
  {
   "cell_type": "code",
   "execution_count": 69,
   "id": "d49a34d7",
   "metadata": {
    "slideshow": {
     "slide_type": "fragment"
    },
    "tags": [
     "remove_input"
    ]
   },
   "outputs": [
    {
     "name": "stdout",
     "output_type": "stream",
     "text": [
      "again after some preprocessing we can yield:\n"
     ]
    },
    {
     "data": {
      "text/html": [
       "<div>\n",
       "<style scoped>\n",
       "    .dataframe tbody tr th:only-of-type {\n",
       "        vertical-align: middle;\n",
       "    }\n",
       "\n",
       "    .dataframe tbody tr th {\n",
       "        vertical-align: top;\n",
       "    }\n",
       "\n",
       "    .dataframe thead th {\n",
       "        text-align: right;\n",
       "    }\n",
       "</style>\n",
       "<table border=\"1\" class=\"dataframe\">\n",
       "  <thead>\n",
       "    <tr style=\"text-align: right;\">\n",
       "      <th></th>\n",
       "      <th>Open</th>\n",
       "      <th>High</th>\n",
       "      <th>Low</th>\n",
       "      <th>Close</th>\n",
       "      <th>Volume</th>\n",
       "      <th>log_Open</th>\n",
       "      <th>log_High</th>\n",
       "      <th>log_Low</th>\n",
       "      <th>log_Close</th>\n",
       "    </tr>\n",
       "    <tr>\n",
       "      <th>Date</th>\n",
       "      <th></th>\n",
       "      <th></th>\n",
       "      <th></th>\n",
       "      <th></th>\n",
       "      <th></th>\n",
       "      <th></th>\n",
       "      <th></th>\n",
       "      <th></th>\n",
       "      <th></th>\n",
       "    </tr>\n",
       "  </thead>\n",
       "  <tbody>\n",
       "    <tr>\n",
       "      <th>2015-10-08 12:00:00</th>\n",
       "      <td>163.333333</td>\n",
       "      <td>245.0000</td>\n",
       "      <td>163.1400</td>\n",
       "      <td>244.973333</td>\n",
       "      <td>2.692410</td>\n",
       "      <td>5.095793</td>\n",
       "      <td>5.501258</td>\n",
       "      <td>5.094609</td>\n",
       "      <td>5.501149</td>\n",
       "    </tr>\n",
       "    <tr>\n",
       "      <th>2015-10-08 16:00:00</th>\n",
       "      <td>244.540000</td>\n",
       "      <td>244.7250</td>\n",
       "      <td>244.0675</td>\n",
       "      <td>244.310000</td>\n",
       "      <td>3.259453</td>\n",
       "      <td>5.499379</td>\n",
       "      <td>5.500135</td>\n",
       "      <td>5.497445</td>\n",
       "      <td>5.498438</td>\n",
       "    </tr>\n",
       "    <tr>\n",
       "      <th>2015-10-08 20:00:00</th>\n",
       "      <td>243.975000</td>\n",
       "      <td>243.9875</td>\n",
       "      <td>243.7675</td>\n",
       "      <td>243.962500</td>\n",
       "      <td>2.659915</td>\n",
       "      <td>5.497066</td>\n",
       "      <td>5.497117</td>\n",
       "      <td>5.496215</td>\n",
       "      <td>5.497015</td>\n",
       "    </tr>\n",
       "    <tr>\n",
       "      <th>2015-10-09 00:00:00</th>\n",
       "      <td>243.687500</td>\n",
       "      <td>243.6875</td>\n",
       "      <td>243.6000</td>\n",
       "      <td>243.600000</td>\n",
       "      <td>0.750000</td>\n",
       "      <td>5.495887</td>\n",
       "      <td>5.495887</td>\n",
       "      <td>5.495528</td>\n",
       "      <td>5.495528</td>\n",
       "    </tr>\n",
       "    <tr>\n",
       "      <th>2015-10-09 04:00:00</th>\n",
       "      <td>243.600000</td>\n",
       "      <td>243.6000</td>\n",
       "      <td>243.6000</td>\n",
       "      <td>243.600000</td>\n",
       "      <td>0.000000</td>\n",
       "      <td>5.495528</td>\n",
       "      <td>5.495528</td>\n",
       "      <td>5.495528</td>\n",
       "      <td>5.495528</td>\n",
       "    </tr>\n",
       "    <tr>\n",
       "      <th>...</th>\n",
       "      <td>...</td>\n",
       "      <td>...</td>\n",
       "      <td>...</td>\n",
       "      <td>...</td>\n",
       "      <td>...</td>\n",
       "      <td>...</td>\n",
       "      <td>...</td>\n",
       "      <td>...</td>\n",
       "      <td>...</td>\n",
       "    </tr>\n",
       "    <tr>\n",
       "      <th>2021-08-12 08:00:00</th>\n",
       "      <td>45323.657500</td>\n",
       "      <td>45529.0675</td>\n",
       "      <td>44998.1425</td>\n",
       "      <td>45190.977500</td>\n",
       "      <td>69.830994</td>\n",
       "      <td>10.721584</td>\n",
       "      <td>10.726106</td>\n",
       "      <td>10.714376</td>\n",
       "      <td>10.718653</td>\n",
       "    </tr>\n",
       "    <tr>\n",
       "      <th>2021-08-12 12:00:00</th>\n",
       "      <td>44491.795000</td>\n",
       "      <td>44643.4775</td>\n",
       "      <td>44186.6725</td>\n",
       "      <td>44353.090000</td>\n",
       "      <td>114.602881</td>\n",
       "      <td>10.703060</td>\n",
       "      <td>10.706463</td>\n",
       "      <td>10.696178</td>\n",
       "      <td>10.699938</td>\n",
       "    </tr>\n",
       "    <tr>\n",
       "      <th>2021-08-12 16:00:00</th>\n",
       "      <td>44198.082500</td>\n",
       "      <td>44414.5750</td>\n",
       "      <td>44034.7175</td>\n",
       "      <td>44248.827500</td>\n",
       "      <td>84.168365</td>\n",
       "      <td>10.696437</td>\n",
       "      <td>10.701323</td>\n",
       "      <td>10.692734</td>\n",
       "      <td>10.697584</td>\n",
       "    </tr>\n",
       "    <tr>\n",
       "      <th>2021-08-12 20:00:00</th>\n",
       "      <td>44280.347500</td>\n",
       "      <td>44498.0650</td>\n",
       "      <td>44051.0225</td>\n",
       "      <td>44286.322500</td>\n",
       "      <td>61.694263</td>\n",
       "      <td>10.698296</td>\n",
       "      <td>10.703201</td>\n",
       "      <td>10.693104</td>\n",
       "      <td>10.698431</td>\n",
       "    </tr>\n",
       "    <tr>\n",
       "      <th>2021-08-13 00:00:00</th>\n",
       "      <td>44430.990000</td>\n",
       "      <td>44598.8300</td>\n",
       "      <td>44419.5800</td>\n",
       "      <td>44598.830000</td>\n",
       "      <td>2.108743</td>\n",
       "      <td>10.701692</td>\n",
       "      <td>10.705463</td>\n",
       "      <td>10.701436</td>\n",
       "      <td>10.705463</td>\n",
       "    </tr>\n",
       "  </tbody>\n",
       "</table>\n",
       "<p>12814 rows × 9 columns</p>\n",
       "</div>"
      ],
      "text/plain": [
       "                             Open        High         Low         Close  \\\n",
       "Date                                                                      \n",
       "2015-10-08 12:00:00    163.333333    245.0000    163.1400    244.973333   \n",
       "2015-10-08 16:00:00    244.540000    244.7250    244.0675    244.310000   \n",
       "2015-10-08 20:00:00    243.975000    243.9875    243.7675    243.962500   \n",
       "2015-10-09 00:00:00    243.687500    243.6875    243.6000    243.600000   \n",
       "2015-10-09 04:00:00    243.600000    243.6000    243.6000    243.600000   \n",
       "...                           ...         ...         ...           ...   \n",
       "2021-08-12 08:00:00  45323.657500  45529.0675  44998.1425  45190.977500   \n",
       "2021-08-12 12:00:00  44491.795000  44643.4775  44186.6725  44353.090000   \n",
       "2021-08-12 16:00:00  44198.082500  44414.5750  44034.7175  44248.827500   \n",
       "2021-08-12 20:00:00  44280.347500  44498.0650  44051.0225  44286.322500   \n",
       "2021-08-13 00:00:00  44430.990000  44598.8300  44419.5800  44598.830000   \n",
       "\n",
       "                         Volume   log_Open   log_High    log_Low  log_Close  \n",
       "Date                                                                         \n",
       "2015-10-08 12:00:00    2.692410   5.095793   5.501258   5.094609   5.501149  \n",
       "2015-10-08 16:00:00    3.259453   5.499379   5.500135   5.497445   5.498438  \n",
       "2015-10-08 20:00:00    2.659915   5.497066   5.497117   5.496215   5.497015  \n",
       "2015-10-09 00:00:00    0.750000   5.495887   5.495887   5.495528   5.495528  \n",
       "2015-10-09 04:00:00    0.000000   5.495528   5.495528   5.495528   5.495528  \n",
       "...                         ...        ...        ...        ...        ...  \n",
       "2021-08-12 08:00:00   69.830994  10.721584  10.726106  10.714376  10.718653  \n",
       "2021-08-12 12:00:00  114.602881  10.703060  10.706463  10.696178  10.699938  \n",
       "2021-08-12 16:00:00   84.168365  10.696437  10.701323  10.692734  10.697584  \n",
       "2021-08-12 20:00:00   61.694263  10.698296  10.703201  10.693104  10.698431  \n",
       "2021-08-13 00:00:00    2.108743  10.701692  10.705463  10.701436  10.705463  \n",
       "\n",
       "[12814 rows x 9 columns]"
      ]
     },
     "execution_count": 69,
     "metadata": {},
     "output_type": "execute_result"
    }
   ],
   "source": [
    "print(\"again after some preprocessing we can yield:\")\n",
    "df_g_4h"
   ]
  },
  {
   "cell_type": "markdown",
   "id": "180fccf8",
   "metadata": {
    "slideshow": {
     "slide_type": "slide"
    }
   },
   "source": [
    "# Timeseries analysis - SARIMAX"
   ]
  },
  {
   "cell_type": "code",
   "execution_count": 40,
   "id": "60b39a24",
   "metadata": {
    "slideshow": {
     "slide_type": "skip"
    }
   },
   "outputs": [
    {
     "ename": "ModuleNotFoundError",
     "evalue": "No module named 'statsmodels'",
     "output_type": "error",
     "traceback": [
      "\u001b[0;31m---------------------------------------------------------------------------\u001b[0m",
      "\u001b[0;31mModuleNotFoundError\u001b[0m                       Traceback (most recent call last)",
      "\u001b[0;32m/tmp/ipykernel_10119/2442045895.py\u001b[0m in \u001b[0;36m<module>\u001b[0;34m\u001b[0m\n\u001b[0;32m----> 1\u001b[0;31m \u001b[0;32mfrom\u001b[0m \u001b[0mstatsmodels\u001b[0m\u001b[0;34m.\u001b[0m\u001b[0mtsa\u001b[0m\u001b[0;34m.\u001b[0m\u001b[0mseasonal\u001b[0m \u001b[0;32mimport\u001b[0m \u001b[0mseasonal_decompose\u001b[0m\u001b[0;34m\u001b[0m\u001b[0;34m\u001b[0m\u001b[0m\n\u001b[0m\u001b[1;32m      2\u001b[0m \u001b[0;32mfrom\u001b[0m \u001b[0mstatsmodels\u001b[0m\u001b[0;34m.\u001b[0m\u001b[0mtsa\u001b[0m\u001b[0;34m.\u001b[0m\u001b[0mstattools\u001b[0m \u001b[0;32mimport\u001b[0m \u001b[0madfuller\u001b[0m \u001b[0;32mas\u001b[0m \u001b[0mADF\u001b[0m\u001b[0;34m\u001b[0m\u001b[0;34m\u001b[0m\u001b[0m\n\u001b[1;32m      3\u001b[0m \u001b[0;32mfrom\u001b[0m \u001b[0mstatsmodels\u001b[0m\u001b[0;34m.\u001b[0m\u001b[0mgraphics\u001b[0m\u001b[0;34m.\u001b[0m\u001b[0mtsaplots\u001b[0m \u001b[0;32mimport\u001b[0m \u001b[0mplot_acf\u001b[0m\u001b[0;34m,\u001b[0m \u001b[0mplot_pacf\u001b[0m\u001b[0;34m\u001b[0m\u001b[0;34m\u001b[0m\u001b[0m\n\u001b[1;32m      4\u001b[0m \u001b[0;32mimport\u001b[0m \u001b[0mpmdarima\u001b[0m \u001b[0;32mas\u001b[0m \u001b[0mpma\u001b[0m\u001b[0;34m\u001b[0m\u001b[0;34m\u001b[0m\u001b[0m\n\u001b[1;32m      5\u001b[0m \u001b[0;32mfrom\u001b[0m \u001b[0mstatsmodels\u001b[0m\u001b[0;34m.\u001b[0m\u001b[0mtsa\u001b[0m\u001b[0;34m.\u001b[0m\u001b[0mstatespace\u001b[0m\u001b[0;34m.\u001b[0m\u001b[0msarimax\u001b[0m \u001b[0;32mimport\u001b[0m \u001b[0mSARIMAX\u001b[0m\u001b[0;34m\u001b[0m\u001b[0;34m\u001b[0m\u001b[0m\n",
      "\u001b[0;31mModuleNotFoundError\u001b[0m: No module named 'statsmodels'"
     ]
    }
   ],
   "source": [
    "from statsmodels.tsa.seasonal import seasonal_decompose\n",
    "from statsmodels.tsa.stattools import adfuller as ADF\n",
    "from statsmodels.graphics.tsaplots import plot_acf, plot_pacf\n",
    "import pmdarima as pma\n",
    "from statsmodels.tsa.statespace.sarimax import SARIMAX"
   ]
  },
  {
   "cell_type": "markdown",
   "id": "8d543cc4",
   "metadata": {
    "slideshow": {
     "slide_type": "skip"
    }
   },
   "source": [
    "### Remove missing values"
   ]
  },
  {
   "cell_type": "code",
   "execution_count": 41,
   "id": "4149459e",
   "metadata": {
    "slideshow": {
     "slide_type": "skip"
    }
   },
   "outputs": [
    {
     "data": {
      "text/plain": [
       "prices           0\n",
       "market_caps      1\n",
       "total_volumes    0\n",
       "log_price        0\n",
       "dtype: int64"
      ]
     },
     "execution_count": 41,
     "metadata": {},
     "output_type": "execute_result"
    }
   ],
   "source": [
    "daily_clean.isnull().sum()"
   ]
  },
  {
   "cell_type": "code",
   "execution_count": 24,
   "id": "40e28225",
   "metadata": {
    "slideshow": {
     "slide_type": "skip"
    }
   },
   "outputs": [
    {
     "data": {
      "text/html": [
       "<div>\n",
       "<style scoped>\n",
       "    .dataframe tbody tr th:only-of-type {\n",
       "        vertical-align: middle;\n",
       "    }\n",
       "\n",
       "    .dataframe tbody tr th {\n",
       "        vertical-align: top;\n",
       "    }\n",
       "\n",
       "    .dataframe thead th {\n",
       "        text-align: right;\n",
       "    }\n",
       "</style>\n",
       "<table border=\"1\" class=\"dataframe\">\n",
       "  <thead>\n",
       "    <tr style=\"text-align: right;\">\n",
       "      <th></th>\n",
       "      <th>prices</th>\n",
       "      <th>market_caps</th>\n",
       "      <th>total_volumes</th>\n",
       "      <th>log_price</th>\n",
       "    </tr>\n",
       "    <tr>\n",
       "      <th>Date</th>\n",
       "      <th></th>\n",
       "      <th></th>\n",
       "      <th></th>\n",
       "      <th></th>\n",
       "    </tr>\n",
       "  </thead>\n",
       "  <tbody>\n",
       "    <tr>\n",
       "      <th>2017-04-02</th>\n",
       "      <td>1098.1</td>\n",
       "      <td>NaN</td>\n",
       "      <td>8.023151e+07</td>\n",
       "      <td>7.001337</td>\n",
       "    </tr>\n",
       "  </tbody>\n",
       "</table>\n",
       "</div>"
      ],
      "text/plain": [
       "            prices  market_caps  total_volumes  log_price\n",
       "Date                                                     \n",
       "2017-04-02  1098.1          NaN   8.023151e+07   7.001337"
      ]
     },
     "execution_count": 24,
     "metadata": {},
     "output_type": "execute_result"
    }
   ],
   "source": [
    "daily_clean.loc[daily_clean.market_caps.isnull() == True]"
   ]
  },
  {
   "cell_type": "code",
   "execution_count": 25,
   "id": "e1ab75d3",
   "metadata": {
    "slideshow": {
     "slide_type": "skip"
    }
   },
   "outputs": [
    {
     "data": {
      "text/html": [
       "<div>\n",
       "<style scoped>\n",
       "    .dataframe tbody tr th:only-of-type {\n",
       "        vertical-align: middle;\n",
       "    }\n",
       "\n",
       "    .dataframe tbody tr th {\n",
       "        vertical-align: top;\n",
       "    }\n",
       "\n",
       "    .dataframe thead th {\n",
       "        text-align: right;\n",
       "    }\n",
       "</style>\n",
       "<table border=\"1\" class=\"dataframe\">\n",
       "  <thead>\n",
       "    <tr style=\"text-align: right;\">\n",
       "      <th></th>\n",
       "      <th>prices</th>\n",
       "      <th>market_caps</th>\n",
       "      <th>total_volumes</th>\n",
       "      <th>log_price</th>\n",
       "    </tr>\n",
       "    <tr>\n",
       "      <th>Date</th>\n",
       "      <th></th>\n",
       "      <th></th>\n",
       "      <th></th>\n",
       "      <th></th>\n",
       "    </tr>\n",
       "  </thead>\n",
       "  <tbody>\n",
       "    <tr>\n",
       "      <th>2013-04-28</th>\n",
       "      <td>135.3</td>\n",
       "      <td>1.500518e+09</td>\n",
       "      <td>0.000000e+00</td>\n",
       "      <td>4.907495</td>\n",
       "    </tr>\n",
       "    <tr>\n",
       "      <th>2013-04-29</th>\n",
       "      <td>142.0</td>\n",
       "      <td>1.575032e+09</td>\n",
       "      <td>0.000000e+00</td>\n",
       "      <td>4.955827</td>\n",
       "    </tr>\n",
       "    <tr>\n",
       "      <th>2013-04-30</th>\n",
       "      <td>135.3</td>\n",
       "      <td>1.501657e+09</td>\n",
       "      <td>0.000000e+00</td>\n",
       "      <td>4.907495</td>\n",
       "    </tr>\n",
       "    <tr>\n",
       "      <th>2013-05-01</th>\n",
       "      <td>117.0</td>\n",
       "      <td>1.298952e+09</td>\n",
       "      <td>0.000000e+00</td>\n",
       "      <td>4.762174</td>\n",
       "    </tr>\n",
       "    <tr>\n",
       "      <th>2013-05-02</th>\n",
       "      <td>103.4</td>\n",
       "      <td>1.148668e+09</td>\n",
       "      <td>0.000000e+00</td>\n",
       "      <td>4.638605</td>\n",
       "    </tr>\n",
       "    <tr>\n",
       "      <th>...</th>\n",
       "      <td>...</td>\n",
       "      <td>...</td>\n",
       "      <td>...</td>\n",
       "      <td>...</td>\n",
       "    </tr>\n",
       "    <tr>\n",
       "      <th>2021-08-16</th>\n",
       "      <td>47025.0</td>\n",
       "      <td>8.828882e+11</td>\n",
       "      <td>3.286385e+10</td>\n",
       "      <td>10.758435</td>\n",
       "    </tr>\n",
       "    <tr>\n",
       "      <th>2021-08-17</th>\n",
       "      <td>46031.8</td>\n",
       "      <td>8.663913e+11</td>\n",
       "      <td>3.422161e+10</td>\n",
       "      <td>10.737088</td>\n",
       "    </tr>\n",
       "    <tr>\n",
       "      <th>2021-08-18</th>\n",
       "      <td>44534.5</td>\n",
       "      <td>8.367771e+11</td>\n",
       "      <td>3.448812e+10</td>\n",
       "      <td>10.704019</td>\n",
       "    </tr>\n",
       "    <tr>\n",
       "      <th>2021-08-19</th>\n",
       "      <td>45015.5</td>\n",
       "      <td>8.471430e+11</td>\n",
       "      <td>3.466900e+10</td>\n",
       "      <td>10.714762</td>\n",
       "    </tr>\n",
       "    <tr>\n",
       "      <th>2021-08-20</th>\n",
       "      <td>46917.5</td>\n",
       "      <td>8.827830e+11</td>\n",
       "      <td>3.886264e+10</td>\n",
       "      <td>10.756146</td>\n",
       "    </tr>\n",
       "  </tbody>\n",
       "</table>\n",
       "<p>3034 rows × 4 columns</p>\n",
       "</div>"
      ],
      "text/plain": [
       "             prices   market_caps  total_volumes  log_price\n",
       "Date                                                       \n",
       "2013-04-28    135.3  1.500518e+09   0.000000e+00   4.907495\n",
       "2013-04-29    142.0  1.575032e+09   0.000000e+00   4.955827\n",
       "2013-04-30    135.3  1.501657e+09   0.000000e+00   4.907495\n",
       "2013-05-01    117.0  1.298952e+09   0.000000e+00   4.762174\n",
       "2013-05-02    103.4  1.148668e+09   0.000000e+00   4.638605\n",
       "...             ...           ...            ...        ...\n",
       "2021-08-16  47025.0  8.828882e+11   3.286385e+10  10.758435\n",
       "2021-08-17  46031.8  8.663913e+11   3.422161e+10  10.737088\n",
       "2021-08-18  44534.5  8.367771e+11   3.448812e+10  10.704019\n",
       "2021-08-19  45015.5  8.471430e+11   3.466900e+10  10.714762\n",
       "2021-08-20  46917.5  8.827830e+11   3.886264e+10  10.756146\n",
       "\n",
       "[3034 rows x 4 columns]"
      ]
     },
     "execution_count": 25,
     "metadata": {},
     "output_type": "execute_result"
    }
   ],
   "source": [
    "daily_clean.dropna()"
   ]
  },
  {
   "cell_type": "code",
   "execution_count": 26,
   "id": "0fbe16e7",
   "metadata": {
    "slideshow": {
     "slide_type": "subslide"
    },
    "tags": [
     "remove_input"
    ]
   },
   "outputs": [
    {
     "data": {
      "image/png": "[encoded data removed]",
      "text/plain": [
       "<Figure size 864x576 with 4 Axes>"
      ]
     },
     "metadata": {
      "needs_background": "light"
     },
     "output_type": "display_data"
    }
   ],
   "source": [
    "df_deco = seasonal_decompose(daily_clean.log_price, model = 'multiplicative',extrapolate_trend='freq', period=1460) # 1460=bitcoin halving\n",
    "plt.rcParams.update({'figure.figsize': (12,8)})\n",
    "df_deco.plot();"
   ]
  },
  {
   "cell_type": "code",
   "execution_count": 27,
   "id": "b80501eb",
   "metadata": {
    "slideshow": {
     "slide_type": "skip"
    }
   },
   "outputs": [],
   "source": [
    "#df_deco = seasonal_decompose(daily_clean.prices, model = 'additive',extrapolate_trend='freq', period=1460)\n",
    "#df_deco.plot();"
   ]
  },
  {
   "cell_type": "code",
   "execution_count": 42,
   "id": "37a87b93",
   "metadata": {
    "slideshow": {
     "slide_type": "skip"
    }
   },
   "outputs": [
    {
     "ename": "ModuleNotFoundError",
     "evalue": "No module named 'statsmodels'",
     "output_type": "error",
     "traceback": [
      "\u001b[0;31m---------------------------------------------------------------------------\u001b[0m",
      "\u001b[0;31mModuleNotFoundError\u001b[0m                       Traceback (most recent call last)",
      "\u001b[0;32m/tmp/ipykernel_10119/1157811298.py\u001b[0m in \u001b[0;36m<module>\u001b[0;34m\u001b[0m\n\u001b[0;32m----> 1\u001b[0;31m \u001b[0;32mfrom\u001b[0m \u001b[0mstatsmodels\u001b[0m\u001b[0;34m.\u001b[0m\u001b[0mtsa\u001b[0m\u001b[0;34m.\u001b[0m\u001b[0mstattools\u001b[0m \u001b[0;32mimport\u001b[0m \u001b[0madfuller\u001b[0m\u001b[0;34m\u001b[0m\u001b[0;34m\u001b[0m\u001b[0m\n\u001b[0m\u001b[1;32m      2\u001b[0m \u001b[0mprint\u001b[0m\u001b[0;34m(\u001b[0m\u001b[0;34m'p-value: '\u001b[0m\u001b[0;34m,\u001b[0m \u001b[0madfuller\u001b[0m\u001b[0;34m(\u001b[0m\u001b[0mdaily_clean\u001b[0m\u001b[0;34m.\u001b[0m\u001b[0mlog_price\u001b[0m\u001b[0;34m)\u001b[0m\u001b[0;34m[\u001b[0m\u001b[0;36m1\u001b[0m\u001b[0;34m]\u001b[0m\u001b[0;34m)\u001b[0m\u001b[0;34m\u001b[0m\u001b[0;34m\u001b[0m\u001b[0m\n",
      "\u001b[0;31mModuleNotFoundError\u001b[0m: No module named 'statsmodels'"
     ]
    }
   ],
   "source": [
    "from statsmodels.tsa.stattools import adfuller\n",
    "print('p-value: ', adfuller(daily_clean.log_price)[1])"
   ]
  },
  {
   "cell_type": "code",
   "execution_count": 43,
   "id": "80f1d215",
   "metadata": {
    "slideshow": {
     "slide_type": "skip"
    },
    "tags": [
     "remove_input"
    ]
   },
   "outputs": [
    {
     "ename": "NameError",
     "evalue": "name 'adfuller' is not defined",
     "output_type": "error",
     "traceback": [
      "\u001b[0;31m---------------------------------------------------------------------------\u001b[0m",
      "\u001b[0;31mNameError\u001b[0m                                 Traceback (most recent call last)",
      "\u001b[0;32m/tmp/ipykernel_10119/137960157.py\u001b[0m in \u001b[0;36m<module>\u001b[0;34m\u001b[0m\n\u001b[1;32m      1\u001b[0m \u001b[0;31m# First diff\u001b[0m\u001b[0;34m\u001b[0m\u001b[0;34m\u001b[0m\u001b[0;34m\u001b[0m\u001b[0m\n\u001b[0;32m----> 2\u001b[0;31m \u001b[0mprint\u001b[0m\u001b[0;34m(\u001b[0m\u001b[0;34m'first diff p-value: '\u001b[0m\u001b[0;34m,\u001b[0m \u001b[0madfuller\u001b[0m\u001b[0;34m(\u001b[0m\u001b[0mdaily_clean\u001b[0m\u001b[0;34m.\u001b[0m\u001b[0mlog_price\u001b[0m\u001b[0;34m.\u001b[0m\u001b[0mdiff\u001b[0m\u001b[0;34m(\u001b[0m\u001b[0;36m1\u001b[0m\u001b[0;34m)\u001b[0m\u001b[0;34m.\u001b[0m\u001b[0mfillna\u001b[0m\u001b[0;34m(\u001b[0m\u001b[0;36m0\u001b[0m\u001b[0;34m)\u001b[0m\u001b[0;34m)\u001b[0m\u001b[0;34m[\u001b[0m\u001b[0;36m1\u001b[0m\u001b[0;34m]\u001b[0m\u001b[0;34m)\u001b[0m\u001b[0;34m\u001b[0m\u001b[0;34m\u001b[0m\u001b[0m\n\u001b[0m\u001b[1;32m      3\u001b[0m \u001b[0;31m# Second order diff\u001b[0m\u001b[0;34m\u001b[0m\u001b[0;34m\u001b[0m\u001b[0;34m\u001b[0m\u001b[0m\n\u001b[1;32m      4\u001b[0m \u001b[0mprint\u001b[0m\u001b[0;34m(\u001b[0m\u001b[0;34m'secon diff p-value: '\u001b[0m\u001b[0;34m,\u001b[0m \u001b[0madfuller\u001b[0m\u001b[0;34m(\u001b[0m\u001b[0mdaily_clean\u001b[0m\u001b[0;34m.\u001b[0m\u001b[0mlog_price\u001b[0m\u001b[0;34m.\u001b[0m\u001b[0mdiff\u001b[0m\u001b[0;34m(\u001b[0m\u001b[0;36m1\u001b[0m\u001b[0;34m)\u001b[0m\u001b[0;34m.\u001b[0m\u001b[0mdiff\u001b[0m\u001b[0;34m(\u001b[0m\u001b[0;36m1\u001b[0m\u001b[0;34m)\u001b[0m\u001b[0;34m.\u001b[0m\u001b[0mfillna\u001b[0m\u001b[0;34m(\u001b[0m\u001b[0;36m0\u001b[0m\u001b[0;34m)\u001b[0m\u001b[0;34m)\u001b[0m\u001b[0;34m[\u001b[0m\u001b[0;36m1\u001b[0m\u001b[0;34m]\u001b[0m\u001b[0;34m)\u001b[0m\u001b[0;34m\u001b[0m\u001b[0;34m\u001b[0m\u001b[0m\n",
      "\u001b[0;31mNameError\u001b[0m: name 'adfuller' is not defined"
     ]
    }
   ],
   "source": [
    "# First diff\n",
    "print('first diff p-value: ', adfuller(daily_clean.log_price.diff(1).fillna(0))[1])\n",
    "# Second order diff\n",
    "print('secon diff p-value: ', adfuller(daily_clean.log_price.diff(1).diff(1).fillna(0))[1])"
   ]
  },
  {
   "cell_type": "markdown",
   "id": "8d9ca64b",
   "metadata": {
    "slideshow": {
     "slide_type": "skip"
    }
   },
   "source": [
    "> First diff is clearly enough"
   ]
  },
  {
   "cell_type": "code",
   "execution_count": 44,
   "id": "3b40ca1d",
   "metadata": {
    "slideshow": {
     "slide_type": "skip"
    },
    "tags": [
     "remove_input"
    ]
   },
   "outputs": [
    {
     "ename": "ModuleNotFoundError",
     "evalue": "No module named 'statsmodels'",
     "output_type": "error",
     "traceback": [
      "\u001b[0;31m---------------------------------------------------------------------------\u001b[0m",
      "\u001b[0;31mModuleNotFoundError\u001b[0m                       Traceback (most recent call last)",
      "\u001b[0;32m/tmp/ipykernel_10119/3216360686.py\u001b[0m in \u001b[0;36m<module>\u001b[0;34m\u001b[0m\n\u001b[0;32m----> 1\u001b[0;31m \u001b[0;32mfrom\u001b[0m \u001b[0mstatsmodels\u001b[0m\u001b[0;34m.\u001b[0m\u001b[0mgraphics\u001b[0m\u001b[0;34m.\u001b[0m\u001b[0mtsaplots\u001b[0m \u001b[0;32mimport\u001b[0m \u001b[0mplot_acf\u001b[0m\u001b[0;34m,\u001b[0m \u001b[0mplot_pacf\u001b[0m\u001b[0;34m\u001b[0m\u001b[0;34m\u001b[0m\u001b[0m\n\u001b[0m\u001b[1;32m      2\u001b[0m \u001b[0;34m\u001b[0m\u001b[0m\n\u001b[1;32m      3\u001b[0m \u001b[0;31m# Original Series\u001b[0m\u001b[0;34m\u001b[0m\u001b[0;34m\u001b[0m\u001b[0;34m\u001b[0m\u001b[0m\n\u001b[1;32m      4\u001b[0m \u001b[0mfig\u001b[0m\u001b[0;34m,\u001b[0m \u001b[0maxes\u001b[0m \u001b[0;34m=\u001b[0m \u001b[0mplt\u001b[0m\u001b[0;34m.\u001b[0m\u001b[0msubplots\u001b[0m\u001b[0;34m(\u001b[0m\u001b[0;36m3\u001b[0m\u001b[0;34m,\u001b[0m \u001b[0;36m2\u001b[0m\u001b[0;34m,\u001b[0m \u001b[0mfigsize\u001b[0m\u001b[0;34m=\u001b[0m\u001b[0;34m(\u001b[0m\u001b[0;36m13\u001b[0m\u001b[0;34m,\u001b[0m\u001b[0;36m10\u001b[0m\u001b[0;34m)\u001b[0m\u001b[0;34m)\u001b[0m\u001b[0;34m\u001b[0m\u001b[0;34m\u001b[0m\u001b[0m\n\u001b[1;32m      5\u001b[0m \u001b[0maxes\u001b[0m\u001b[0;34m[\u001b[0m\u001b[0;36m0\u001b[0m\u001b[0;34m,\u001b[0m \u001b[0;36m0\u001b[0m\u001b[0;34m]\u001b[0m\u001b[0;34m.\u001b[0m\u001b[0mplot\u001b[0m\u001b[0;34m(\u001b[0m\u001b[0mdaily_clean\u001b[0m\u001b[0;34m.\u001b[0m\u001b[0mlog_price\u001b[0m\u001b[0;34m)\u001b[0m\u001b[0;34m;\u001b[0m \u001b[0maxes\u001b[0m\u001b[0;34m[\u001b[0m\u001b[0;36m0\u001b[0m\u001b[0;34m,\u001b[0m \u001b[0;36m0\u001b[0m\u001b[0;34m]\u001b[0m\u001b[0;34m.\u001b[0m\u001b[0mset_title\u001b[0m\u001b[0;34m(\u001b[0m\u001b[0;34m'Original Series'\u001b[0m\u001b[0;34m)\u001b[0m\u001b[0;34m\u001b[0m\u001b[0;34m\u001b[0m\u001b[0m\n",
      "\u001b[0;31mModuleNotFoundError\u001b[0m: No module named 'statsmodels'"
     ]
    }
   ],
   "source": [
    "from statsmodels.graphics.tsaplots import plot_acf, plot_pacf\n",
    "\n",
    "# Original Series\n",
    "fig, axes = plt.subplots(3, 2, figsize=(13,10))\n",
    "axes[0, 0].plot(daily_clean.log_price); axes[0, 0].set_title('Original Series')\n",
    "plot_acf(daily_clean.log_price, ax=axes[0, 1])\n",
    "\n",
    "# 1st Differencing\n",
    "axes[1, 0].plot(daily_clean.log_price.diff()); axes[1, 0].set_title('1st Order Differencing')\n",
    "plot_acf(daily_clean.log_price.diff().dropna(), ax=axes[1, 1])\n",
    "\n",
    "\n",
    "# 2nd Differencing\n",
    "axes[2, 0].plot(daily_clean.log_price.diff().diff()); axes[2, 0].set_title('2nd Order Differencing')\n",
    "plot_acf(daily_clean.log_price.diff().diff().dropna(), ax=axes[2, 1])\n",
    "\n",
    "plt.show()\n"
   ]
  },
  {
   "cell_type": "code",
   "execution_count": 45,
   "id": "00a4a22b",
   "metadata": {
    "slideshow": {
     "slide_type": "skip"
    }
   },
   "outputs": [],
   "source": [
    "y_diff = daily_clean.log_price.diff()"
   ]
  },
  {
   "cell_type": "code",
   "execution_count": 46,
   "id": "793f0544",
   "metadata": {
    "slideshow": {
     "slide_type": "skip"
    },
    "tags": [
     "remove_input"
    ]
   },
   "outputs": [
    {
     "ename": "ModuleNotFoundError",
     "evalue": "No module named 'statsmodels'",
     "output_type": "error",
     "traceback": [
      "\u001b[0;31m---------------------------------------------------------------------------\u001b[0m",
      "\u001b[0;31mModuleNotFoundError\u001b[0m                       Traceback (most recent call last)",
      "\u001b[0;32m/tmp/ipykernel_10119/1109189460.py\u001b[0m in \u001b[0;36m<module>\u001b[0;34m\u001b[0m\n\u001b[0;32m----> 1\u001b[0;31m \u001b[0;32mfrom\u001b[0m \u001b[0mstatsmodels\u001b[0m\u001b[0;34m.\u001b[0m\u001b[0mgraphics\u001b[0m\u001b[0;34m.\u001b[0m\u001b[0mtsaplots\u001b[0m \u001b[0;32mimport\u001b[0m \u001b[0mplot_acf\u001b[0m\u001b[0;34m,\u001b[0m \u001b[0mplot_pacf\u001b[0m\u001b[0;34m\u001b[0m\u001b[0;34m\u001b[0m\u001b[0m\n\u001b[0m\u001b[1;32m      2\u001b[0m \u001b[0mfig\u001b[0m\u001b[0;34m,\u001b[0m\u001b[0maxes\u001b[0m \u001b[0;34m=\u001b[0m \u001b[0mplt\u001b[0m\u001b[0;34m.\u001b[0m\u001b[0msubplots\u001b[0m\u001b[0;34m(\u001b[0m\u001b[0;36m1\u001b[0m\u001b[0;34m,\u001b[0m\u001b[0;36m2\u001b[0m\u001b[0;34m,\u001b[0m\u001b[0mfigsize\u001b[0m\u001b[0;34m=\u001b[0m\u001b[0;34m(\u001b[0m\u001b[0;36m13\u001b[0m\u001b[0;34m,\u001b[0m\u001b[0;36m5\u001b[0m\u001b[0;34m)\u001b[0m\u001b[0;34m)\u001b[0m\u001b[0;34m\u001b[0m\u001b[0;34m\u001b[0m\u001b[0m\n\u001b[1;32m      3\u001b[0m \u001b[0mplot_acf\u001b[0m\u001b[0;34m(\u001b[0m\u001b[0my_diff\u001b[0m\u001b[0;34m.\u001b[0m\u001b[0mdropna\u001b[0m\u001b[0;34m(\u001b[0m\u001b[0;34m)\u001b[0m\u001b[0;34m,\u001b[0m\u001b[0max\u001b[0m\u001b[0;34m=\u001b[0m\u001b[0maxes\u001b[0m\u001b[0;34m[\u001b[0m\u001b[0;36m0\u001b[0m\u001b[0;34m]\u001b[0m\u001b[0;34m)\u001b[0m\u001b[0;34m\u001b[0m\u001b[0;34m\u001b[0m\u001b[0m\n\u001b[1;32m      4\u001b[0m \u001b[0mplot_pacf\u001b[0m\u001b[0;34m(\u001b[0m\u001b[0my_diff\u001b[0m\u001b[0;34m.\u001b[0m\u001b[0mdropna\u001b[0m\u001b[0;34m(\u001b[0m\u001b[0;34m)\u001b[0m\u001b[0;34m,\u001b[0m \u001b[0mc\u001b[0m\u001b[0;34m=\u001b[0m\u001b[0;34m'r'\u001b[0m\u001b[0;34m,\u001b[0m \u001b[0max\u001b[0m\u001b[0;34m=\u001b[0m\u001b[0maxes\u001b[0m\u001b[0;34m[\u001b[0m\u001b[0;36m1\u001b[0m\u001b[0;34m]\u001b[0m\u001b[0;34m)\u001b[0m\u001b[0;34m;\u001b[0m\u001b[0;34m\u001b[0m\u001b[0;34m\u001b[0m\u001b[0m\n",
      "\u001b[0;31mModuleNotFoundError\u001b[0m: No module named 'statsmodels'"
     ]
    }
   ],
   "source": [
    "from statsmodels.graphics.tsaplots import plot_acf, plot_pacf\n",
    "fig,axes = plt.subplots(1,2,figsize=(13,5))\n",
    "plot_acf(y_diff.dropna(),ax=axes[0])\n",
    "plot_pacf(y_diff.dropna(), c='r', ax=axes[1]);\n"
   ]
  },
  {
   "cell_type": "markdown",
   "id": "f426b174",
   "metadata": {
    "slideshow": {
     "slide_type": "skip"
    }
   },
   "source": [
    "## Dataframe"
   ]
  },
  {
   "cell_type": "markdown",
   "id": "6796299e",
   "metadata": {
    "slideshow": {
     "slide_type": "subslide"
    }
   },
   "source": [
    "**NEXT UP** \n",
    "- Concatenate dataframes and transform them into X and y\n",
    "- Add features i.e. Fear&Greed Index, WhaleAlerts, sentiment analysis\n",
    "<br/><br/>\n",
    "    - 🧗‍♂️ Trend Indicator: **EMA, MA**\n",
    "    - 🤸‍ Momentum Indicator: **STOCH RSI**\n",
    "    - 🎢 Volatility Indicator: **STANDARD DEVIATION, BOLLINGER BANDS**\n",
    "    - 🍺 Volume Indicator: **VOLUME RATE OF CHANGE**\n",
    "        - 🧠 We can calculate these ourselves from the datasets 🧠\n",
    "<br/><br/>\n",
    "- Additional cryptos?"
   ]
  },
  {
   "cell_type": "markdown",
   "id": "352886e0",
   "metadata": {
    "slideshow": {
     "slide_type": "skip"
    }
   },
   "source": [
    "### EMA\n",
    "> **Introduction:**\n",
    "Exponential Moving Averages are used a lot by market analysts to look at the average price of a commodity over a particular period. This Indicator is used to calculate the mean or average of a particular set of data. Whenever new data is added, the oldest data piece is removed from the list and the newest dada piece is added. A moving average can help an analyst filter noise and create a smooth curve from an otherwise noisy curve. It is important to note moving averages lag because they are based on historical data, not current price.\n",
    "\n",
    "  <br> The most commonly used Moving Averages (MAs) are the simple and exponential moving average. For exponential moving average, the simple moving average needs to be calculated. The concept of weight is introduced in exponential moving average. Newer data points are given greater importance or a greater weight and thus have more effect on the calculation of the moving average\n",
    "  "
   ]
  },
  {
   "cell_type": "markdown",
   "id": "ff8b0898",
   "metadata": {
    "slideshow": {
     "slide_type": "skip"
    }
   },
   "source": [
    "Formula: \n",
    "![Exponential Moving Average Equation Source: Investopedia](https://cdn-images-1.medium.com/max/800/1*IF5pSc_Zp_vlKI3paux4-Q.png)\n",
    "\n",
    "\n",
    "\n",
    "**EMA Resources**\n",
    "\n",
    "\n",
    "- [calculate with pandas](https://pandas.pydata.org/docs/reference/api/pandas.DataFrame.ewm.html)\n",
    "- [investopedia](https://www.investopedia.com/terms/g/guppy-multiple-moving-average.asp)\n",
    "- normally the 12&26 day ema are used for shortterm trading 50&200 for longterm\n",
    "\n"
   ]
  },
  {
   "cell_type": "markdown",
   "id": "6ee47b69",
   "metadata": {
    "slideshow": {
     "slide_type": "skip"
    }
   },
   "source": [
    "**RSI Resources:**\n",
    "\n",
    "- [calculate with python](https://handsoffinvesting.com/calculate-and-analyze-rsi-using-python/)\n",
    "\n",
    "- [calculate with python2](https://www.learnpythonwithrune.org/pandas-calculate-the-relative-strength-index-rsi-on-a-stock/)"
   ]
  },
  {
   "cell_type": "markdown",
   "id": "8c10441e",
   "metadata": {
    "slideshow": {
     "slide_type": "skip"
    }
   },
   "source": [
    "**Bollinger Bands**\n",
    "- [calculate with python](https://medium.com/codex/how-to-calculate-bollinger-bands-of-a-stock-with-python-f9f7d1184fc3)"
   ]
  },
  {
   "cell_type": "code",
   "execution_count": 33,
   "id": "d12c38c2",
   "metadata": {
    "slideshow": {
     "slide_type": "skip"
    }
   },
   "outputs": [],
   "source": [
    "df_g_4h['ema12'] = df_g_4h.Close.ewm(span=12).mean()\n",
    "df_g_4h['ema26'] = df_g_4h.Close.ewm(span=26).mean()"
   ]
  },
  {
   "cell_type": "code",
   "execution_count": 34,
   "id": "90cf4fea",
   "metadata": {
    "slideshow": {
     "slide_type": "skip"
    }
   },
   "outputs": [],
   "source": [
    "#df_g_4h['ma200'] = df_g_4h.Close.rolling(window=200).mean()\n",
    "#df_g_4h['ma50'] = df_g_4h.Close.rolling(window=50).mean()"
   ]
  },
  {
   "cell_type": "code",
   "execution_count": 35,
   "id": "29cf11d7",
   "metadata": {
    "slideshow": {
     "slide_type": "skip"
    }
   },
   "outputs": [
    {
     "data": {
      "text/html": [
       "<div>\n",
       "<style scoped>\n",
       "    .dataframe tbody tr th:only-of-type {\n",
       "        vertical-align: middle;\n",
       "    }\n",
       "\n",
       "    .dataframe tbody tr th {\n",
       "        vertical-align: top;\n",
       "    }\n",
       "\n",
       "    .dataframe thead th {\n",
       "        text-align: right;\n",
       "    }\n",
       "</style>\n",
       "<table border=\"1\" class=\"dataframe\">\n",
       "  <thead>\n",
       "    <tr style=\"text-align: right;\">\n",
       "      <th></th>\n",
       "      <th>Open</th>\n",
       "      <th>High</th>\n",
       "      <th>Low</th>\n",
       "      <th>Close</th>\n",
       "      <th>Volume</th>\n",
       "      <th>log_Open</th>\n",
       "      <th>log_High</th>\n",
       "      <th>log_Low</th>\n",
       "      <th>log_Close</th>\n",
       "      <th>ema12</th>\n",
       "      <th>ema26</th>\n",
       "    </tr>\n",
       "    <tr>\n",
       "      <th>Date</th>\n",
       "      <th></th>\n",
       "      <th></th>\n",
       "      <th></th>\n",
       "      <th></th>\n",
       "      <th></th>\n",
       "      <th></th>\n",
       "      <th></th>\n",
       "      <th></th>\n",
       "      <th></th>\n",
       "      <th></th>\n",
       "      <th></th>\n",
       "    </tr>\n",
       "  </thead>\n",
       "  <tbody>\n",
       "    <tr>\n",
       "      <th>2021-08-12 08:00:00</th>\n",
       "      <td>45323.6575</td>\n",
       "      <td>45529.0675</td>\n",
       "      <td>44998.1425</td>\n",
       "      <td>45190.9775</td>\n",
       "      <td>69.830994</td>\n",
       "      <td>10.721584</td>\n",
       "      <td>10.726106</td>\n",
       "      <td>10.714376</td>\n",
       "      <td>10.718653</td>\n",
       "      <td>45660.178241</td>\n",
       "      <td>45039.031860</td>\n",
       "    </tr>\n",
       "    <tr>\n",
       "      <th>2021-08-12 12:00:00</th>\n",
       "      <td>44491.7950</td>\n",
       "      <td>44643.4775</td>\n",
       "      <td>44186.6725</td>\n",
       "      <td>44353.0900</td>\n",
       "      <td>114.602881</td>\n",
       "      <td>10.703060</td>\n",
       "      <td>10.706463</td>\n",
       "      <td>10.696178</td>\n",
       "      <td>10.699938</td>\n",
       "      <td>45459.087743</td>\n",
       "      <td>44988.221352</td>\n",
       "    </tr>\n",
       "    <tr>\n",
       "      <th>2021-08-12 16:00:00</th>\n",
       "      <td>44198.0825</td>\n",
       "      <td>44414.5750</td>\n",
       "      <td>44034.7175</td>\n",
       "      <td>44248.8275</td>\n",
       "      <td>84.168365</td>\n",
       "      <td>10.696437</td>\n",
       "      <td>10.701323</td>\n",
       "      <td>10.692734</td>\n",
       "      <td>10.697584</td>\n",
       "      <td>45272.893859</td>\n",
       "      <td>44933.451437</td>\n",
       "    </tr>\n",
       "    <tr>\n",
       "      <th>2021-08-12 20:00:00</th>\n",
       "      <td>44280.3475</td>\n",
       "      <td>44498.0650</td>\n",
       "      <td>44051.0225</td>\n",
       "      <td>44286.3225</td>\n",
       "      <td>61.694263</td>\n",
       "      <td>10.698296</td>\n",
       "      <td>10.703201</td>\n",
       "      <td>10.693104</td>\n",
       "      <td>10.698431</td>\n",
       "      <td>45121.113650</td>\n",
       "      <td>44885.515960</td>\n",
       "    </tr>\n",
       "    <tr>\n",
       "      <th>2021-08-13 00:00:00</th>\n",
       "      <td>44430.9900</td>\n",
       "      <td>44598.8300</td>\n",
       "      <td>44419.5800</td>\n",
       "      <td>44598.8300</td>\n",
       "      <td>2.108743</td>\n",
       "      <td>10.701692</td>\n",
       "      <td>10.705463</td>\n",
       "      <td>10.701436</td>\n",
       "      <td>10.705463</td>\n",
       "      <td>45040.762319</td>\n",
       "      <td>44864.279963</td>\n",
       "    </tr>\n",
       "  </tbody>\n",
       "</table>\n",
       "</div>"
      ],
      "text/plain": [
       "                           Open        High         Low       Close  \\\n",
       "Date                                                                  \n",
       "2021-08-12 08:00:00  45323.6575  45529.0675  44998.1425  45190.9775   \n",
       "2021-08-12 12:00:00  44491.7950  44643.4775  44186.6725  44353.0900   \n",
       "2021-08-12 16:00:00  44198.0825  44414.5750  44034.7175  44248.8275   \n",
       "2021-08-12 20:00:00  44280.3475  44498.0650  44051.0225  44286.3225   \n",
       "2021-08-13 00:00:00  44430.9900  44598.8300  44419.5800  44598.8300   \n",
       "\n",
       "                         Volume   log_Open   log_High    log_Low  log_Close  \\\n",
       "Date                                                                          \n",
       "2021-08-12 08:00:00   69.830994  10.721584  10.726106  10.714376  10.718653   \n",
       "2021-08-12 12:00:00  114.602881  10.703060  10.706463  10.696178  10.699938   \n",
       "2021-08-12 16:00:00   84.168365  10.696437  10.701323  10.692734  10.697584   \n",
       "2021-08-12 20:00:00   61.694263  10.698296  10.703201  10.693104  10.698431   \n",
       "2021-08-13 00:00:00    2.108743  10.701692  10.705463  10.701436  10.705463   \n",
       "\n",
       "                            ema12         ema26  \n",
       "Date                                             \n",
       "2021-08-12 08:00:00  45660.178241  45039.031860  \n",
       "2021-08-12 12:00:00  45459.087743  44988.221352  \n",
       "2021-08-12 16:00:00  45272.893859  44933.451437  \n",
       "2021-08-12 20:00:00  45121.113650  44885.515960  \n",
       "2021-08-13 00:00:00  45040.762319  44864.279963  "
      ]
     },
     "execution_count": 35,
     "metadata": {},
     "output_type": "execute_result"
    }
   ],
   "source": [
    "df_g_4h.tail()"
   ]
  },
  {
   "cell_type": "code",
   "execution_count": 36,
   "id": "d2ba5ad9",
   "metadata": {
    "slideshow": {
     "slide_type": "skip"
    }
   },
   "outputs": [],
   "source": [
    "#plt.plot(df_g_4h[[\"Close\", \"ma200\"]].iloc[-1000:])\n",
    "#plt.plot(df_g_4h[[\"Close\", \"ma50\"]].iloc[-1000:])"
   ]
  },
  {
   "cell_type": "markdown",
   "id": "4ef01b91",
   "metadata": {
    "slideshow": {
     "slide_type": "subslide"
    }
   },
   "source": [
    "### Preview: EMAs"
   ]
  },
  {
   "cell_type": "code",
   "execution_count": 37,
   "id": "c3f948fa",
   "metadata": {
    "slideshow": {
     "slide_type": "fragment"
    },
    "tags": [
     "remove_input"
    ]
   },
   "outputs": [
    {
     "data": {
      "image/png": "[encoded data removed]",
      "text/plain": [
       "<Figure size 1080x720 with 1 Axes>"
      ]
     },
     "metadata": {
      "needs_background": "light"
     },
     "output_type": "display_data"
    }
   ],
   "source": [
    "fig = plt.figure(figsize=(15,10))\n",
    "plt.plot(df_g_4h[[\"Close\", \"ema12\", \"ema26\"]].iloc[-168:], label=[\"Close\", \"ema12\", \"ema26\"])\n",
    "#plt.xticks([])\n",
    "plt.title(\"Bitcoin 4h-Close with 12-period and 26-period EMA\")\n",
    "plt.legend(prop={'size': 20})\n",
    "plt.show()"
   ]
  },
  {
   "cell_type": "code",
   "execution_count": 38,
   "id": "bbbc4bf9",
   "metadata": {
    "slideshow": {
     "slide_type": "skip"
    }
   },
   "outputs": [
    {
     "data": {
      "text/plain": [
       "[<matplotlib.lines.Line2D at 0x7fb1b5dfeac0>]"
      ]
     },
     "execution_count": 38,
     "metadata": {},
     "output_type": "execute_result"
    },
    {
     "data": {
      "image/png": "[encoded data removed]",
      "text/plain": [
       "<Figure size 1080x360 with 1 Axes>"
      ]
     },
     "metadata": {
      "needs_background": "light"
     },
     "output_type": "display_data"
    }
   ],
   "source": [
    "plt.figure(figsize=(15,5))\n",
    "plt.plot(daily_clean.total_volumes[-60:])"
   ]
  },
  {
   "cell_type": "code",
   "execution_count": 39,
   "id": "de36baa0",
   "metadata": {
    "slideshow": {
     "slide_type": "skip"
    }
   },
   "outputs": [],
   "source": [
    "#df_g_4h['vol_roc'] = df_g_4h.Volume.pct_change()"
   ]
  },
  {
   "cell_type": "code",
   "execution_count": 40,
   "id": "b70559da",
   "metadata": {
    "slideshow": {
     "slide_type": "skip"
    }
   },
   "outputs": [],
   "source": [
    "# #plt.plot(df_g_4h.vol_roc[-50:])\n",
    "# #plt.plot(df_g_4h.vol_roc[-50:])\n",
    "\n",
    "# fig, ax1 = plt.subplots()\n",
    "\n",
    "# color = 'tab:red'\n",
    "# ax1.set_xlabel('time (4h)')\n",
    "# ax1.set_ylabel('rate of change', color=color)\n",
    "# ax1.plot(df_g_4h.vol_roc[-50:], color=color)\n",
    "# ax1.tick_params(axis='y', labelcolor=color)\n",
    "\n",
    "# ax2 = ax1.twinx()  # instantiate a second axes that shares the same x-axis\n",
    "\n",
    "# color = 'tab:blue'\n",
    "# ax2.set_ylabel('price', color=color)  # we already handled the x-label with ax1\n",
    "# ax2.plot(df_g_4h.Close[-50:], color=color)\n",
    "# ax2.tick_params(axis='y', labelcolor=color)\n",
    "\n",
    "# fig.tight_layout()  # otherwise the right y-label is slightly clipped\n",
    "# plt.show()"
   ]
  },
  {
   "cell_type": "markdown",
   "id": "2ac84c23",
   "metadata": {
    "slideshow": {
     "slide_type": "slide"
    }
   },
   "source": [
    "# Deep Learning - LSTM"
   ]
  },
  {
   "cell_type": "markdown",
   "id": "d783895d",
   "metadata": {
    "slideshow": {
     "slide_type": "skip"
    }
   },
   "source": [
    "### https://www.analyticsvidhya.com/blog/2021/05/bitcoin-price-prediction-using-recurrent-neural-networks-and-lstm/"
   ]
  },
  {
   "cell_type": "code",
   "execution_count": 41,
   "id": "1fa8b113",
   "metadata": {
    "slideshow": {
     "slide_type": "fragment"
    },
    "tags": [
     "remove_input"
    ]
   },
   "outputs": [
    {
     "data": {
      "text/html": [
       "<div>\n",
       "<style scoped>\n",
       "    .dataframe tbody tr th:only-of-type {\n",
       "        vertical-align: middle;\n",
       "    }\n",
       "\n",
       "    .dataframe tbody tr th {\n",
       "        vertical-align: top;\n",
       "    }\n",
       "\n",
       "    .dataframe thead th {\n",
       "        text-align: right;\n",
       "    }\n",
       "</style>\n",
       "<table border=\"1\" class=\"dataframe\">\n",
       "  <thead>\n",
       "    <tr style=\"text-align: right;\">\n",
       "      <th></th>\n",
       "      <th>Open</th>\n",
       "      <th>High</th>\n",
       "      <th>Low</th>\n",
       "      <th>Close</th>\n",
       "      <th>Volume</th>\n",
       "      <th>log_Open</th>\n",
       "      <th>log_High</th>\n",
       "      <th>log_Low</th>\n",
       "      <th>log_Close</th>\n",
       "      <th>ema12</th>\n",
       "      <th>ema26</th>\n",
       "    </tr>\n",
       "    <tr>\n",
       "      <th>Date</th>\n",
       "      <th></th>\n",
       "      <th></th>\n",
       "      <th></th>\n",
       "      <th></th>\n",
       "      <th></th>\n",
       "      <th></th>\n",
       "      <th></th>\n",
       "      <th></th>\n",
       "      <th></th>\n",
       "      <th></th>\n",
       "      <th></th>\n",
       "    </tr>\n",
       "  </thead>\n",
       "  <tbody>\n",
       "    <tr>\n",
       "      <th>2015-10-08 12:00:00</th>\n",
       "      <td>163.333333</td>\n",
       "      <td>245.0000</td>\n",
       "      <td>163.1400</td>\n",
       "      <td>244.973333</td>\n",
       "      <td>2.692410</td>\n",
       "      <td>5.095793</td>\n",
       "      <td>5.501258</td>\n",
       "      <td>5.094609</td>\n",
       "      <td>5.501149</td>\n",
       "      <td>244.973333</td>\n",
       "      <td>244.973333</td>\n",
       "    </tr>\n",
       "    <tr>\n",
       "      <th>2015-10-08 16:00:00</th>\n",
       "      <td>244.540000</td>\n",
       "      <td>244.7250</td>\n",
       "      <td>244.0675</td>\n",
       "      <td>244.310000</td>\n",
       "      <td>3.259453</td>\n",
       "      <td>5.499379</td>\n",
       "      <td>5.500135</td>\n",
       "      <td>5.497445</td>\n",
       "      <td>5.498438</td>\n",
       "      <td>244.614028</td>\n",
       "      <td>244.628910</td>\n",
       "    </tr>\n",
       "    <tr>\n",
       "      <th>2015-10-08 20:00:00</th>\n",
       "      <td>243.975000</td>\n",
       "      <td>243.9875</td>\n",
       "      <td>243.7675</td>\n",
       "      <td>243.962500</td>\n",
       "      <td>2.659915</td>\n",
       "      <td>5.497066</td>\n",
       "      <td>5.497117</td>\n",
       "      <td>5.496215</td>\n",
       "      <td>5.497015</td>\n",
       "      <td>244.359736</td>\n",
       "      <td>244.389476</td>\n",
       "    </tr>\n",
       "    <tr>\n",
       "      <th>2015-10-09 00:00:00</th>\n",
       "      <td>243.687500</td>\n",
       "      <td>243.6875</td>\n",
       "      <td>243.6000</td>\n",
       "      <td>243.600000</td>\n",
       "      <td>0.750000</td>\n",
       "      <td>5.495887</td>\n",
       "      <td>5.495887</td>\n",
       "      <td>5.495528</td>\n",
       "      <td>5.495528</td>\n",
       "      <td>244.119917</td>\n",
       "      <td>244.168773</td>\n",
       "    </tr>\n",
       "    <tr>\n",
       "      <th>2015-10-09 04:00:00</th>\n",
       "      <td>243.600000</td>\n",
       "      <td>243.6000</td>\n",
       "      <td>243.6000</td>\n",
       "      <td>243.600000</td>\n",
       "      <td>0.000000</td>\n",
       "      <td>5.495528</td>\n",
       "      <td>5.495528</td>\n",
       "      <td>5.495528</td>\n",
       "      <td>5.495528</td>\n",
       "      <td>243.978658</td>\n",
       "      <td>244.036872</td>\n",
       "    </tr>\n",
       "    <tr>\n",
       "      <th>...</th>\n",
       "      <td>...</td>\n",
       "      <td>...</td>\n",
       "      <td>...</td>\n",
       "      <td>...</td>\n",
       "      <td>...</td>\n",
       "      <td>...</td>\n",
       "      <td>...</td>\n",
       "      <td>...</td>\n",
       "      <td>...</td>\n",
       "      <td>...</td>\n",
       "      <td>...</td>\n",
       "    </tr>\n",
       "    <tr>\n",
       "      <th>2021-08-12 08:00:00</th>\n",
       "      <td>45323.657500</td>\n",
       "      <td>45529.0675</td>\n",
       "      <td>44998.1425</td>\n",
       "      <td>45190.977500</td>\n",
       "      <td>69.830994</td>\n",
       "      <td>10.721584</td>\n",
       "      <td>10.726106</td>\n",
       "      <td>10.714376</td>\n",
       "      <td>10.718653</td>\n",
       "      <td>45660.178241</td>\n",
       "      <td>45039.031860</td>\n",
       "    </tr>\n",
       "    <tr>\n",
       "      <th>2021-08-12 12:00:00</th>\n",
       "      <td>44491.795000</td>\n",
       "      <td>44643.4775</td>\n",
       "      <td>44186.6725</td>\n",
       "      <td>44353.090000</td>\n",
       "      <td>114.602881</td>\n",
       "      <td>10.703060</td>\n",
       "      <td>10.706463</td>\n",
       "      <td>10.696178</td>\n",
       "      <td>10.699938</td>\n",
       "      <td>45459.087743</td>\n",
       "      <td>44988.221352</td>\n",
       "    </tr>\n",
       "    <tr>\n",
       "      <th>2021-08-12 16:00:00</th>\n",
       "      <td>44198.082500</td>\n",
       "      <td>44414.5750</td>\n",
       "      <td>44034.7175</td>\n",
       "      <td>44248.827500</td>\n",
       "      <td>84.168365</td>\n",
       "      <td>10.696437</td>\n",
       "      <td>10.701323</td>\n",
       "      <td>10.692734</td>\n",
       "      <td>10.697584</td>\n",
       "      <td>45272.893859</td>\n",
       "      <td>44933.451437</td>\n",
       "    </tr>\n",
       "    <tr>\n",
       "      <th>2021-08-12 20:00:00</th>\n",
       "      <td>44280.347500</td>\n",
       "      <td>44498.0650</td>\n",
       "      <td>44051.0225</td>\n",
       "      <td>44286.322500</td>\n",
       "      <td>61.694263</td>\n",
       "      <td>10.698296</td>\n",
       "      <td>10.703201</td>\n",
       "      <td>10.693104</td>\n",
       "      <td>10.698431</td>\n",
       "      <td>45121.113650</td>\n",
       "      <td>44885.515960</td>\n",
       "    </tr>\n",
       "    <tr>\n",
       "      <th>2021-08-13 00:00:00</th>\n",
       "      <td>44430.990000</td>\n",
       "      <td>44598.8300</td>\n",
       "      <td>44419.5800</td>\n",
       "      <td>44598.830000</td>\n",
       "      <td>2.108743</td>\n",
       "      <td>10.701692</td>\n",
       "      <td>10.705463</td>\n",
       "      <td>10.701436</td>\n",
       "      <td>10.705463</td>\n",
       "      <td>45040.762319</td>\n",
       "      <td>44864.279963</td>\n",
       "    </tr>\n",
       "  </tbody>\n",
       "</table>\n",
       "<p>12814 rows × 11 columns</p>\n",
       "</div>"
      ],
      "text/plain": [
       "                             Open        High         Low         Close  \\\n",
       "Date                                                                      \n",
       "2015-10-08 12:00:00    163.333333    245.0000    163.1400    244.973333   \n",
       "2015-10-08 16:00:00    244.540000    244.7250    244.0675    244.310000   \n",
       "2015-10-08 20:00:00    243.975000    243.9875    243.7675    243.962500   \n",
       "2015-10-09 00:00:00    243.687500    243.6875    243.6000    243.600000   \n",
       "2015-10-09 04:00:00    243.600000    243.6000    243.6000    243.600000   \n",
       "...                           ...         ...         ...           ...   \n",
       "2021-08-12 08:00:00  45323.657500  45529.0675  44998.1425  45190.977500   \n",
       "2021-08-12 12:00:00  44491.795000  44643.4775  44186.6725  44353.090000   \n",
       "2021-08-12 16:00:00  44198.082500  44414.5750  44034.7175  44248.827500   \n",
       "2021-08-12 20:00:00  44280.347500  44498.0650  44051.0225  44286.322500   \n",
       "2021-08-13 00:00:00  44430.990000  44598.8300  44419.5800  44598.830000   \n",
       "\n",
       "                         Volume   log_Open   log_High    log_Low  log_Close  \\\n",
       "Date                                                                          \n",
       "2015-10-08 12:00:00    2.692410   5.095793   5.501258   5.094609   5.501149   \n",
       "2015-10-08 16:00:00    3.259453   5.499379   5.500135   5.497445   5.498438   \n",
       "2015-10-08 20:00:00    2.659915   5.497066   5.497117   5.496215   5.497015   \n",
       "2015-10-09 00:00:00    0.750000   5.495887   5.495887   5.495528   5.495528   \n",
       "2015-10-09 04:00:00    0.000000   5.495528   5.495528   5.495528   5.495528   \n",
       "...                         ...        ...        ...        ...        ...   \n",
       "2021-08-12 08:00:00   69.830994  10.721584  10.726106  10.714376  10.718653   \n",
       "2021-08-12 12:00:00  114.602881  10.703060  10.706463  10.696178  10.699938   \n",
       "2021-08-12 16:00:00   84.168365  10.696437  10.701323  10.692734  10.697584   \n",
       "2021-08-12 20:00:00   61.694263  10.698296  10.703201  10.693104  10.698431   \n",
       "2021-08-13 00:00:00    2.108743  10.701692  10.705463  10.701436  10.705463   \n",
       "\n",
       "                            ema12         ema26  \n",
       "Date                                             \n",
       "2015-10-08 12:00:00    244.973333    244.973333  \n",
       "2015-10-08 16:00:00    244.614028    244.628910  \n",
       "2015-10-08 20:00:00    244.359736    244.389476  \n",
       "2015-10-09 00:00:00    244.119917    244.168773  \n",
       "2015-10-09 04:00:00    243.978658    244.036872  \n",
       "...                           ...           ...  \n",
       "2021-08-12 08:00:00  45660.178241  45039.031860  \n",
       "2021-08-12 12:00:00  45459.087743  44988.221352  \n",
       "2021-08-12 16:00:00  45272.893859  44933.451437  \n",
       "2021-08-12 20:00:00  45121.113650  44885.515960  \n",
       "2021-08-13 00:00:00  45040.762319  44864.279963  \n",
       "\n",
       "[12814 rows x 11 columns]"
      ]
     },
     "execution_count": 41,
     "metadata": {},
     "output_type": "execute_result"
    }
   ],
   "source": [
    "df_g_4h"
   ]
  },
  {
   "cell_type": "code",
   "execution_count": 42,
   "id": "9c5dc33f",
   "metadata": {
    "slideshow": {
     "slide_type": "skip"
    }
   },
   "outputs": [],
   "source": [
    "df_g_4h = df_g_4h.iloc[:-1].drop(columns=[])"
   ]
  },
  {
   "cell_type": "code",
   "execution_count": 43,
   "id": "5e0fee2a",
   "metadata": {
    "slideshow": {
     "slide_type": "skip"
    }
   },
   "outputs": [
    {
     "data": {
      "text/plain": [
       "array([[0.00000000e+00, 2.17480120e-05, 0.00000000e+00, ...,\n",
       "        1.00813399e-03, 1.73470986e-05, 1.68464481e-05],\n",
       "       [1.26826414e-03, 1.74760811e-05, 1.26834399e-03, ...,\n",
       "        5.21903064e-04, 1.16099649e-05, 1.12821177e-05],\n",
       "       [1.25944012e-03, 6.01953904e-06, 1.26364221e-03, ...,\n",
       "        2.66654370e-04, 7.54962128e-06, 7.41392760e-06],\n",
       "       ...,\n",
       "       [6.92310136e-01, 6.89720763e-01, 6.89963027e-01, ...,\n",
       "        9.33281007e-01, 7.21963938e-01, 7.22866818e-01],\n",
       "       [6.87723012e-01, 6.86164924e-01, 6.87581497e-01, ...,\n",
       "        9.32858964e-01, 7.18990928e-01, 7.21981982e-01],\n",
       "       [6.89007805e-01, 6.87461883e-01, 6.87837039e-01, ...,\n",
       "        9.33010854e-01, 7.16567410e-01, 7.21207560e-01]])"
      ]
     },
     "execution_count": 43,
     "metadata": {},
     "output_type": "execute_result"
    }
   ],
   "source": [
    "from sklearn.preprocessing import MinMaxScaler\n",
    "scaler = MinMaxScaler()\n",
    "training_data = scaler.fit_transform(df_g_4h)\n",
    "training_data"
   ]
  },
  {
   "cell_type": "code",
   "execution_count": 44,
   "id": "c0a67955",
   "metadata": {
    "slideshow": {
     "slide_type": "skip"
    }
   },
   "outputs": [
    {
     "data": {
      "text/plain": [
       "12813"
      ]
     },
     "execution_count": 44,
     "metadata": {},
     "output_type": "execute_result"
    }
   ],
   "source": [
    "training_data.shape[0]"
   ]
  },
  {
   "cell_type": "code",
   "execution_count": 45,
   "id": "bbd1b759",
   "metadata": {
    "slideshow": {
     "slide_type": "skip"
    }
   },
   "outputs": [
    {
     "data": {
      "text/plain": [
       "(12753, 60, 11)"
      ]
     },
     "execution_count": 45,
     "metadata": {},
     "output_type": "execute_result"
    }
   ],
   "source": [
    "X_train = [] \n",
    "Y_train = []\n",
    "training_data.shape[0]\n",
    "for i in range(60, training_data.shape[0]):\n",
    "    X_train.append(training_data[i-60:i])\n",
    "    Y_train.append(training_data[i,0])\n",
    "    \n",
    "X_train, Y_train = np.array(X_train), np.array(Y_train)\n",
    "X_train.shape"
   ]
  },
  {
   "cell_type": "code",
   "execution_count": 46,
   "id": "ed70e99c",
   "metadata": {
    "slideshow": {
     "slide_type": "skip"
    }
   },
   "outputs": [
    {
     "data": {
      "text/plain": [
       "(12753,)"
      ]
     },
     "execution_count": 46,
     "metadata": {},
     "output_type": "execute_result"
    }
   ],
   "source": [
    "Y_train.shape"
   ]
  },
  {
   "cell_type": "code",
   "execution_count": 47,
   "id": "cdb1451e",
   "metadata": {
    "slideshow": {
     "slide_type": "skip"
    }
   },
   "outputs": [],
   "source": [
    "from tensorflow.keras import models, layers\n",
    "from tensorflow.keras.metrics import Precision\n",
    "\n",
    "model = models.Sequential()\n",
    "model.add(layers.LSTM(20, activation = 'tanh'))\n",
    "model.add(layers.Dense(1, activation = 'relu'))\n",
    "\n",
    "model.compile(loss='mse',\n",
    "             optimizer='rmsprop',\n",
    "             metrics=['mae'])"
   ]
  },
  {
   "cell_type": "code",
   "execution_count": 48,
   "id": "728174e0",
   "metadata": {
    "slideshow": {
     "slide_type": "subslide"
    }
   },
   "outputs": [
    {
     "name": "stdout",
     "output_type": "stream",
     "text": [
      "Epoch 1/15\n",
      "638/638 [==============================] - 18s 26ms/step - loss: 2.3940e-04 - mae: 0.0098 - val_loss: 0.0013 - val_mae: 0.0261\n",
      "Epoch 2/15\n",
      "638/638 [==============================] - 16s 25ms/step - loss: 5.2143e-05 - mae: 0.0054 - val_loss: 4.8205e-04 - val_mae: 0.0180\n",
      "Epoch 3/15\n",
      "638/638 [==============================] - 16s 24ms/step - loss: 3.1761e-05 - mae: 0.0042 - val_loss: 0.0015 - val_mae: 0.0263\n",
      "Epoch 4/15\n",
      "638/638 [==============================] - 16s 25ms/step - loss: 2.2631e-05 - mae: 0.0035 - val_loss: 0.0027 - val_mae: 0.0357\n",
      "Epoch 5/15\n",
      "638/638 [==============================] - 17s 26ms/step - loss: 1.7741e-05 - mae: 0.0031 - val_loss: 0.0023 - val_mae: 0.0301\n",
      "Epoch 6/15\n",
      "638/638 [==============================] - 16s 25ms/step - loss: 1.4644e-05 - mae: 0.0029 - val_loss: 0.0031 - val_mae: 0.0407\n",
      "Epoch 7/15\n",
      "638/638 [==============================] - 17s 26ms/step - loss: 1.2818e-05 - mae: 0.0027 - val_loss: 0.0019 - val_mae: 0.0308\n"
     ]
    }
   ],
   "source": [
    "from tensorflow.keras.callbacks import EarlyStopping\n",
    "es = EarlyStopping(patience=5, restore_best_weights = True)\n",
    "\n",
    "history = model.fit(X_train,Y_train, batch_size=16, epochs=15, verbose=1, validation_split=0.2, callbacks=[es])"
   ]
  },
  {
   "cell_type": "code",
   "execution_count": null,
   "id": "6287d9e6",
   "metadata": {},
   "outputs": [],
   "source": [
    "#another test with yahoo data"
   ]
  },
  {
   "cell_type": "code",
   "execution_count": 233,
   "id": "0caff426",
   "metadata": {},
   "outputs": [
    {
     "data": {
      "text/html": [
       "<div>\n",
       "<style scoped>\n",
       "    .dataframe tbody tr th:only-of-type {\n",
       "        vertical-align: middle;\n",
       "    }\n",
       "\n",
       "    .dataframe tbody tr th {\n",
       "        vertical-align: top;\n",
       "    }\n",
       "\n",
       "    .dataframe thead th {\n",
       "        text-align: right;\n",
       "    }\n",
       "</style>\n",
       "<table border=\"1\" class=\"dataframe\">\n",
       "  <thead>\n",
       "    <tr style=\"text-align: right;\">\n",
       "      <th></th>\n",
       "      <th>Open</th>\n",
       "      <th>High</th>\n",
       "      <th>Low</th>\n",
       "      <th>Close</th>\n",
       "      <th>Volume</th>\n",
       "    </tr>\n",
       "    <tr>\n",
       "      <th>Date</th>\n",
       "      <th></th>\n",
       "      <th></th>\n",
       "      <th></th>\n",
       "      <th></th>\n",
       "      <th></th>\n",
       "    </tr>\n",
       "  </thead>\n",
       "  <tbody>\n",
       "    <tr>\n",
       "      <th>2014-09-17</th>\n",
       "      <td>465.864014</td>\n",
       "      <td>468.174011</td>\n",
       "      <td>452.421997</td>\n",
       "      <td>457.334015</td>\n",
       "      <td>21056800.0</td>\n",
       "    </tr>\n",
       "    <tr>\n",
       "      <th>2014-09-18</th>\n",
       "      <td>456.859985</td>\n",
       "      <td>456.859985</td>\n",
       "      <td>413.104004</td>\n",
       "      <td>424.440002</td>\n",
       "      <td>34483200.0</td>\n",
       "    </tr>\n",
       "    <tr>\n",
       "      <th>2014-09-19</th>\n",
       "      <td>424.102997</td>\n",
       "      <td>427.834991</td>\n",
       "      <td>384.532013</td>\n",
       "      <td>394.795990</td>\n",
       "      <td>37919700.0</td>\n",
       "    </tr>\n",
       "    <tr>\n",
       "      <th>2014-09-20</th>\n",
       "      <td>394.673004</td>\n",
       "      <td>423.295990</td>\n",
       "      <td>389.882996</td>\n",
       "      <td>408.903992</td>\n",
       "      <td>36863600.0</td>\n",
       "    </tr>\n",
       "    <tr>\n",
       "      <th>2014-09-21</th>\n",
       "      <td>408.084991</td>\n",
       "      <td>412.425995</td>\n",
       "      <td>393.181000</td>\n",
       "      <td>398.821014</td>\n",
       "      <td>26580100.0</td>\n",
       "    </tr>\n",
       "  </tbody>\n",
       "</table>\n",
       "</div>"
      ],
      "text/plain": [
       "                  Open        High         Low       Close      Volume\n",
       "Date                                                                  \n",
       "2014-09-17  465.864014  468.174011  452.421997  457.334015  21056800.0\n",
       "2014-09-18  456.859985  456.859985  413.104004  424.440002  34483200.0\n",
       "2014-09-19  424.102997  427.834991  384.532013  394.795990  37919700.0\n",
       "2014-09-20  394.673004  423.295990  389.882996  408.903992  36863600.0\n",
       "2014-09-21  408.084991  412.425995  393.181000  398.821014  26580100.0"
      ]
     },
     "execution_count": 233,
     "metadata": {},
     "output_type": "execute_result"
    }
   ],
   "source": [
    "import pandas as pd\n",
    "import matplotlib.pyplot as plt\n",
    "#Yahoo Finance Data\n",
    "data = pd.read_csv(\"data/BTC-USD.csv\")\n",
    "data[\"Date\"] = pd.to_datetime(data[\"Date\"], format='%Y-%m-%d')\n",
    "data = data.set_index('Date').drop(columns='Adj Close')\n",
    "data.head()"
   ]
  },
  {
   "cell_type": "code",
   "execution_count": 234,
   "id": "3d91d36e",
   "metadata": {},
   "outputs": [
    {
     "data": {
      "text/plain": [
       "Open      4\n",
       "High      4\n",
       "Low       4\n",
       "Close     4\n",
       "Volume    4\n",
       "dtype: int64"
      ]
     },
     "execution_count": 234,
     "metadata": {},
     "output_type": "execute_result"
    }
   ],
   "source": [
    "data.isnull().sum()"
   ]
  },
  {
   "cell_type": "code",
   "execution_count": 236,
   "id": "103dfc9d",
   "metadata": {},
   "outputs": [],
   "source": [
    "data.dropna(inplace=True)"
   ]
  },
  {
   "cell_type": "code",
   "execution_count": 237,
   "id": "f201a556",
   "metadata": {},
   "outputs": [
    {
     "data": {
      "text/plain": [
       "Open      0\n",
       "High      0\n",
       "Low       0\n",
       "Close     0\n",
       "Volume    0\n",
       "dtype: int64"
      ]
     },
     "execution_count": 237,
     "metadata": {},
     "output_type": "execute_result"
    }
   ],
   "source": [
    "data.isnull().sum()"
   ]
  },
  {
   "cell_type": "code",
   "execution_count": 215,
   "id": "599d8ca0",
   "metadata": {},
   "outputs": [],
   "source": [
    "temp = ['Open', 'High', 'Low', 'Close']\n",
    "for x in temp:\n",
    "    data[f'log_{x}'] = data[x].apply(lambda x: np.log(x))"
   ]
  },
  {
   "cell_type": "code",
   "execution_count": 238,
   "id": "c22c2a1d",
   "metadata": {},
   "outputs": [],
   "source": [
    "prediction_days = 30\n",
    "df_train = data[:len(data)-prediction_days]\n",
    "df_test = data[len(data)-prediction_days:]"
   ]
  },
  {
   "cell_type": "code",
   "execution_count": 242,
   "id": "7250aaa5",
   "metadata": {},
   "outputs": [
    {
     "data": {
      "text/plain": [
       "array([[4.56166296e-03, 3.96655200e-03, 4.52810327e-03, 4.40946635e-03,\n",
       "        4.31449241e-05],\n",
       "       [4.41952444e-03, 3.79155143e-03, 3.89432496e-03, 3.89002176e-03,\n",
       "        8.14009147e-05],\n",
       "       [3.90241925e-03, 3.34260510e-03, 3.43376463e-03, 3.42189943e-03,\n",
       "        9.11925723e-05],\n",
       "       ...,\n",
       "       [4.84023828e-01, 4.76315631e-01, 4.70513259e-01, 4.67889128e-01,\n",
       "        6.59397624e-02],\n",
       "       [4.67574709e-01, 5.03324165e-01, 4.73176626e-01, 5.04262327e-01,\n",
       "        8.03423386e-02],\n",
       "       [5.04555042e-01, 5.00603020e-01, 5.08947198e-01, 5.07458710e-01,\n",
       "        5.57020830e-02]])"
      ]
     },
     "execution_count": 242,
     "metadata": {},
     "output_type": "execute_result"
    }
   ],
   "source": [
    "from sklearn.preprocessing import MinMaxScaler\n",
    "scaler = MinMaxScaler()\n",
    "df_scaled = scaler.fit_transform(df_train)\n",
    "df_scaled"
   ]
  },
  {
   "cell_type": "code",
   "execution_count": 244,
   "id": "4b2546df",
   "metadata": {},
   "outputs": [],
   "source": [
    "X_train = df_scaled[0:len(df_scaled)-1]\n",
    "y_train = df_scaled[1:len(df_scaled)]"
   ]
  },
  {
   "cell_type": "code",
   "execution_count": 246,
   "id": "78b7c75b",
   "metadata": {},
   "outputs": [],
   "source": [
    "X_train = np.reshape(X_train, (len(X_train), 5, 1))"
   ]
  },
  {
   "cell_type": "code",
   "execution_count": 247,
   "id": "a6fd32ab",
   "metadata": {},
   "outputs": [
    {
     "data": {
      "text/plain": [
       "(2496, 5, 1)"
      ]
     },
     "execution_count": 247,
     "metadata": {},
     "output_type": "execute_result"
    }
   ],
   "source": [
    "X_train.shape"
   ]
  },
  {
   "cell_type": "code",
   "execution_count": 248,
   "id": "30e582c5",
   "metadata": {},
   "outputs": [
    {
     "data": {
      "text/plain": [
       "(2496, 5)"
      ]
     },
     "execution_count": 248,
     "metadata": {},
     "output_type": "execute_result"
    }
   ],
   "source": [
    "y_train.shape"
   ]
  },
  {
   "cell_type": "code",
   "execution_count": 253,
   "id": "30d40877",
   "metadata": {},
   "outputs": [],
   "source": [
    "from tensorflow.keras import models,layers\n",
    "\n",
    "model = models.Sequential()\n",
    "model.add(layers.LSTM(20, activation = 'tanh'))\n",
    "model.add(layers.Dense(1, activation = 'relu'))\n",
    "\n",
    "model.compile(loss='mse',\n",
    "             optimizer='rmsprop',\n",
    "             metrics=['mae'])"
   ]
  },
  {
   "cell_type": "code",
   "execution_count": 254,
   "id": "b39d011c",
   "metadata": {},
   "outputs": [
    {
     "name": "stdout",
     "output_type": "stream",
     "text": [
      "Epoch 1/100\n",
      "141/141 [==============================] - 2s 9ms/step - loss: 0.0015 - mae: 0.0268 - val_loss: 0.0502 - val_mae: 0.1136\n",
      "Epoch 2/100\n",
      "141/141 [==============================] - 1s 6ms/step - loss: 7.4976e-04 - mae: 0.0157 - val_loss: 0.0473 - val_mae: 0.1183\n",
      "Epoch 3/100\n",
      "141/141 [==============================] - 1s 5ms/step - loss: 7.4779e-04 - mae: 0.0156 - val_loss: 0.0428 - val_mae: 0.1488\n",
      "Epoch 4/100\n",
      "141/141 [==============================] - 1s 5ms/step - loss: 7.4418e-04 - mae: 0.0155 - val_loss: 0.0428 - val_mae: 0.1503\n",
      "Epoch 5/100\n",
      "141/141 [==============================] - 1s 6ms/step - loss: 7.4228e-04 - mae: 0.0155 - val_loss: 0.0429 - val_mae: 0.1558\n",
      "Epoch 6/100\n",
      "141/141 [==============================] - 1s 5ms/step - loss: 7.4271e-04 - mae: 0.0155 - val_loss: 0.0437 - val_mae: 0.1669\n",
      "Epoch 7/100\n",
      "141/141 [==============================] - 1s 6ms/step - loss: 7.4324e-04 - mae: 0.0155 - val_loss: 0.0431 - val_mae: 0.1583\n",
      "Epoch 8/100\n",
      "141/141 [==============================] - 1s 6ms/step - loss: 7.4214e-04 - mae: 0.0154 - val_loss: 0.0432 - val_mae: 0.1583\n"
     ]
    }
   ],
   "source": [
    "from tensorflow.keras.callbacks import EarlyStopping\n",
    "es = EarlyStopping(patience=5, restore_best_weights = True)\n",
    "\n",
    "history = model.fit(X_train,y_train, batch_size=16, epochs=100, verbose=1, validation_split=0.1, callbacks=[es])"
   ]
  },
  {
   "cell_type": "code",
   "execution_count": 57,
   "id": "882bed06",
   "metadata": {},
   "outputs": [
    {
     "ename": "NameError",
     "evalue": "name 'history' is not defined",
     "output_type": "error",
     "traceback": [
      "\u001b[0;31m---------------------------------------------------------------------------\u001b[0m",
      "\u001b[0;31mNameError\u001b[0m                                 Traceback (most recent call last)",
      "\u001b[0;32m/tmp/ipykernel_10119/642781951.py\u001b[0m in \u001b[0;36m<module>\u001b[0;34m\u001b[0m\n\u001b[0;32m----> 1\u001b[0;31m \u001b[0mloss\u001b[0m \u001b[0;34m=\u001b[0m \u001b[0mhistory\u001b[0m\u001b[0;34m.\u001b[0m\u001b[0mhistory\u001b[0m\u001b[0;34m[\u001b[0m\u001b[0;34m'loss'\u001b[0m\u001b[0;34m]\u001b[0m\u001b[0;34m\u001b[0m\u001b[0;34m\u001b[0m\u001b[0m\n\u001b[0m\u001b[1;32m      2\u001b[0m \u001b[0mval_loss\u001b[0m \u001b[0;34m=\u001b[0m \u001b[0mhistory\u001b[0m\u001b[0;34m.\u001b[0m\u001b[0mhistory\u001b[0m\u001b[0;34m[\u001b[0m\u001b[0;34m'val_loss'\u001b[0m\u001b[0;34m]\u001b[0m\u001b[0;34m\u001b[0m\u001b[0;34m\u001b[0m\u001b[0m\n\u001b[1;32m      3\u001b[0m \u001b[0mepochs\u001b[0m \u001b[0;34m=\u001b[0m \u001b[0mrange\u001b[0m\u001b[0;34m(\u001b[0m\u001b[0mlen\u001b[0m\u001b[0;34m(\u001b[0m\u001b[0mloss\u001b[0m\u001b[0;34m)\u001b[0m\u001b[0;34m)\u001b[0m\u001b[0;34m\u001b[0m\u001b[0;34m\u001b[0m\u001b[0m\n\u001b[1;32m      4\u001b[0m \u001b[0mplt\u001b[0m\u001b[0;34m.\u001b[0m\u001b[0mfigure\u001b[0m\u001b[0;34m(\u001b[0m\u001b[0;34m)\u001b[0m\u001b[0;34m\u001b[0m\u001b[0;34m\u001b[0m\u001b[0m\n\u001b[1;32m      5\u001b[0m \u001b[0mplt\u001b[0m\u001b[0;34m.\u001b[0m\u001b[0mplot\u001b[0m\u001b[0;34m(\u001b[0m\u001b[0mepochs\u001b[0m\u001b[0;34m,\u001b[0m \u001b[0mloss\u001b[0m\u001b[0;34m,\u001b[0m \u001b[0;34m'b'\u001b[0m\u001b[0;34m,\u001b[0m \u001b[0mlabel\u001b[0m\u001b[0;34m=\u001b[0m\u001b[0;34m'Training loss'\u001b[0m\u001b[0;34m)\u001b[0m\u001b[0;34m\u001b[0m\u001b[0;34m\u001b[0m\u001b[0m\n",
      "\u001b[0;31mNameError\u001b[0m: name 'history' is not defined"
     ]
    }
   ],
   "source": [
    "loss = history.history['loss']\n",
    "val_loss = history.history['val_loss']\n",
    "epochs = range(len(loss))\n",
    "plt.figure()\n",
    "plt.plot(epochs, loss, 'b', label='Training loss')\n",
    "plt.plot(epochs, val_loss, 'r', label='Validation loss')\n",
    "plt.title(\"Training and Validation Loss\")\n",
    "plt.legend()\n",
    "plt.show()"
   ]
  },
  {
   "cell_type": "code",
   "execution_count": 58,
   "id": "6c8b835d",
   "metadata": {},
   "outputs": [
    {
     "ename": "NameError",
     "evalue": "name 'scaler' is not defined",
     "output_type": "error",
     "traceback": [
      "\u001b[0;31m---------------------------------------------------------------------------\u001b[0m",
      "\u001b[0;31mNameError\u001b[0m                                 Traceback (most recent call last)",
      "\u001b[0;32m/tmp/ipykernel_10119/1970347522.py\u001b[0m in \u001b[0;36m<module>\u001b[0;34m\u001b[0m\n\u001b[0;32m----> 1\u001b[0;31m \u001b[0minputs\u001b[0m \u001b[0;34m=\u001b[0m \u001b[0mscaler\u001b[0m\u001b[0;34m.\u001b[0m\u001b[0mtransform\u001b[0m\u001b[0;34m(\u001b[0m\u001b[0mdf_test\u001b[0m\u001b[0;34m)\u001b[0m\u001b[0;34m\u001b[0m\u001b[0;34m\u001b[0m\u001b[0m\n\u001b[0m",
      "\u001b[0;31mNameError\u001b[0m: name 'scaler' is not defined"
     ]
    }
   ],
   "source": [
    "inputs = scaler.transform(df_test)"
   ]
  },
  {
   "cell_type": "code",
   "execution_count": 59,
   "id": "51c7d6e9",
   "metadata": {},
   "outputs": [
    {
     "ename": "NameError",
     "evalue": "name 'inputs' is not defined",
     "output_type": "error",
     "traceback": [
      "\u001b[0;31m---------------------------------------------------------------------------\u001b[0m",
      "\u001b[0;31mNameError\u001b[0m                                 Traceback (most recent call last)",
      "\u001b[0;32m/tmp/ipykernel_10119/339822577.py\u001b[0m in \u001b[0;36m<module>\u001b[0;34m\u001b[0m\n\u001b[0;32m----> 1\u001b[0;31m \u001b[0mX_test\u001b[0m \u001b[0;34m=\u001b[0m \u001b[0minputs\u001b[0m\u001b[0;34m[\u001b[0m\u001b[0;36m0\u001b[0m\u001b[0;34m:\u001b[0m\u001b[0mlen\u001b[0m\u001b[0;34m(\u001b[0m\u001b[0minputs\u001b[0m\u001b[0;34m)\u001b[0m\u001b[0;34m-\u001b[0m\u001b[0;36m1\u001b[0m\u001b[0;34m]\u001b[0m\u001b[0;34m\u001b[0m\u001b[0;34m\u001b[0m\u001b[0m\n\u001b[0m\u001b[1;32m      2\u001b[0m \u001b[0my_test\u001b[0m \u001b[0;34m=\u001b[0m \u001b[0minputs\u001b[0m\u001b[0;34m[\u001b[0m\u001b[0;36m1\u001b[0m\u001b[0;34m:\u001b[0m\u001b[0mlen\u001b[0m\u001b[0;34m(\u001b[0m\u001b[0minputs\u001b[0m\u001b[0;34m)\u001b[0m\u001b[0;34m]\u001b[0m\u001b[0;34m\u001b[0m\u001b[0;34m\u001b[0m\u001b[0m\n",
      "\u001b[0;31mNameError\u001b[0m: name 'inputs' is not defined"
     ]
    }
   ],
   "source": [
    "X_test = inputs[0:len(inputs)-1]\n",
    "y_test = inputs[1:len(inputs)]"
   ]
  },
  {
   "cell_type": "code",
   "execution_count": 60,
   "id": "0bbe4312",
   "metadata": {},
   "outputs": [
    {
     "ename": "NameError",
     "evalue": "name 'X_test' is not defined",
     "output_type": "error",
     "traceback": [
      "\u001b[0;31m---------------------------------------------------------------------------\u001b[0m",
      "\u001b[0;31mNameError\u001b[0m                                 Traceback (most recent call last)",
      "\u001b[0;32m/tmp/ipykernel_10119/3212167517.py\u001b[0m in \u001b[0;36m<module>\u001b[0;34m\u001b[0m\n\u001b[0;32m----> 1\u001b[0;31m \u001b[0mX_test\u001b[0m \u001b[0;34m=\u001b[0m \u001b[0mnp\u001b[0m\u001b[0;34m.\u001b[0m\u001b[0mreshape\u001b[0m\u001b[0;34m(\u001b[0m\u001b[0mX_test\u001b[0m\u001b[0;34m,\u001b[0m \u001b[0;34m(\u001b[0m\u001b[0mlen\u001b[0m\u001b[0;34m(\u001b[0m\u001b[0mX_test\u001b[0m\u001b[0;34m)\u001b[0m\u001b[0;34m,\u001b[0m \u001b[0;36m5\u001b[0m\u001b[0;34m,\u001b[0m \u001b[0;36m1\u001b[0m\u001b[0;34m)\u001b[0m\u001b[0;34m)\u001b[0m\u001b[0;34m\u001b[0m\u001b[0;34m\u001b[0m\u001b[0m\n\u001b[0m",
      "\u001b[0;31mNameError\u001b[0m: name 'X_test' is not defined"
     ]
    }
   ],
   "source": [
    "X_test = np.reshape(X_test, (len(X_test), 5, 1))"
   ]
  },
  {
   "cell_type": "code",
   "execution_count": 61,
   "id": "8d18f40c",
   "metadata": {},
   "outputs": [
    {
     "ename": "NameError",
     "evalue": "name 'model' is not defined",
     "output_type": "error",
     "traceback": [
      "\u001b[0;31m---------------------------------------------------------------------------\u001b[0m",
      "\u001b[0;31mNameError\u001b[0m                                 Traceback (most recent call last)",
      "\u001b[0;32m/tmp/ipykernel_10119/2891402613.py\u001b[0m in \u001b[0;36m<module>\u001b[0;34m\u001b[0m\n\u001b[0;32m----> 1\u001b[0;31m \u001b[0my_pred\u001b[0m \u001b[0;34m=\u001b[0m \u001b[0mmodel\u001b[0m\u001b[0;34m.\u001b[0m\u001b[0mpredict\u001b[0m\u001b[0;34m(\u001b[0m\u001b[0mX_test\u001b[0m\u001b[0;34m)\u001b[0m\u001b[0;34m\u001b[0m\u001b[0;34m\u001b[0m\u001b[0m\n\u001b[0m",
      "\u001b[0;31mNameError\u001b[0m: name 'model' is not defined"
     ]
    }
   ],
   "source": [
    "y_pred = model.predict(X_test)"
   ]
  },
  {
   "cell_type": "code",
   "execution_count": 268,
   "id": "39d129a8",
   "metadata": {},
   "outputs": [],
   "source": [
    "scaler.scale_\n",
    "scale = 1/1.57861029e-05"
   ]
  },
  {
   "cell_type": "code",
   "execution_count": 269,
   "id": "9a9a611c",
   "metadata": {},
   "outputs": [],
   "source": [
    "y_test = y_test*scale\n",
    "y_pred = y_pred*scale"
   ]
  },
  {
   "cell_type": "code",
   "execution_count": null,
   "id": "b5121e25",
   "metadata": {},
   "outputs": [],
   "source": []
  },
  {
   "cell_type": "code",
   "execution_count": 272,
   "id": "691c1f92",
   "metadata": {},
   "outputs": [
    {
     "data": {
      "image/png": "[encoded data removed]",
      "text/plain": [
       "<Figure size 1008x360 with 1 Axes>"
      ]
     },
     "metadata": {
      "needs_background": "light"
     },
     "output_type": "display_data"
    }
   ],
   "source": [
    "plt.figure(figsize=(14,5))\n",
    "plt.plot(y_test, color = 'red', label = 'Real Bitcoin Price')\n",
    "plt.plot(y_pred, color = 'green', label = 'Predicted Bitcoin Price')\n",
    "plt.title('Bitcoin Price Prediction using RNN-LSTM')\n",
    "plt.xlabel('Time')\n",
    "plt.ylabel('Price')\n",
    "plt.legend()\n",
    "plt.show()"
   ]
  },
  {
   "cell_type": "markdown",
   "id": "56674ea4",
   "metadata": {
    "slideshow": {
     "slide_type": "subslide"
    }
   },
   "source": [
    "# Moon soon? 🚀🌛👩‍🚀"
   ]
  },
  {
   "cell_type": "markdown",
   "id": "feee001c",
   "metadata": {
    "slideshow": {
     "slide_type": "fragment"
    }
   },
   "source": [
    "![bitcoin_gif](https://i.redd.it/o4kiivegv9hy.gif)"
   ]
  },
  {
   "cell_type": "markdown",
   "id": "3cf325f3",
   "metadata": {
    "slideshow": {
     "slide_type": "skip"
    }
   },
   "source": [
    "# To Slides"
   ]
  },
  {
   "cell_type": "code",
   "execution_count": null,
   "id": "31886100",
   "metadata": {
    "slideshow": {
     "slide_type": "skip"
    }
   },
   "outputs": [
    {
     "name": "stdout",
     "output_type": "stream",
     "text": [
      "[NbConvertApp] Converting notebook projectweek_draft.ipynb to slides\n",
      "[NbConvertApp] Writing 811292 bytes to projectweek_draft.slides.html\n",
      "[NbConvertApp] Redirecting reveal.js requests to https://cdnjs.cloudflare.com/ajax/libs/reveal.js/3.5.0\n",
      "Serving your slides at http://127.0.0.1:8000/projectweek_draft.slides.html\n",
      "Use Control-C to stop this server\n"
     ]
    }
   ],
   "source": [
    "!jupyter nbconvert projectweek_draft.ipynb --to slides --post serve \\\n",
    "--no-prompt \\\n",
    "--TagRemovePreprocessor.remove_input_tags=remove_input \\\n",
    "--TagRemovePreprocessor.remove_all_outputs_tags=remove_output"
   ]
  },
  {
   "cell_type": "code",
   "execution_count": null,
   "id": "6c58d9c1",
   "metadata": {},
   "outputs": [],
   "source": []
  }
 ],
 "metadata": {
  "celltoolbar": "Slideshow",
  "kernelspec": {
   "display_name": "Python 3 (ipykernel)",
   "language": "python",
   "name": "python3"
  },
  "language_info": {
   "codemirror_mode": {
    "name": "ipython",
    "version": 3
   },
   "file_extension": ".py",
   "mimetype": "text/x-python",
   "name": "python",
   "nbconvert_exporter": "python",
   "pygments_lexer": "ipython3",
   "version": "3.8.6"
  },
  "toc": {
   "base_numbering": 1,
   "nav_menu": {},
   "number_sections": true,
   "sideBar": true,
   "skip_h1_title": false,
   "title_cell": "Table of Contents",
   "title_sidebar": "Contents",
   "toc_cell": false,
   "toc_position": {},
   "toc_section_display": true,
   "toc_window_display": false
  }
 },
 "nbformat": 4,
 "nbformat_minor": 5
}
