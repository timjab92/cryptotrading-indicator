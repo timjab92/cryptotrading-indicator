{
 "cells": [
  {
   "cell_type": "code",
   "execution_count": 1,
   "id": "27386769",
   "metadata": {},
   "outputs": [
    {
     "name": "stderr",
     "output_type": "stream",
     "text": [
      "2021-08-25 21:22:32.839032: W tensorflow/stream_executor/platform/default/dso_loader.cc:64] Could not load dynamic library 'libcudart.so.11.0'; dlerror: libcudart.so.11.0: cannot open shared object file: No such file or directory\n",
      "2021-08-25 21:22:32.839074: I tensorflow/stream_executor/cuda/cudart_stub.cc:29] Ignore above cudart dlerror if you do not have a GPU set up on your machine.\n"
     ]
    }
   ],
   "source": [
    "import pandas as pd\n",
    "import numpy as np\n",
    "import requests\n",
    "from tensorflow.keras.models import Sequential\n",
    "from tensorflow.keras.layers import SimpleRNN, LSTM\n",
    "from tensorflow.keras import layers\n",
    "from tensorflow.keras.preprocessing.sequence import pad_sequences\n",
    "from tensorflow.keras.layers import Masking\n",
    "from sklearn.preprocessing import MinMaxScaler\n",
    "from tensorflow.keras.optimizers import RMSprop\n",
    "from tensorflow.keras.metrics import MAPE, MeanAbsoluteError\n",
    "from keras.callbacks import EarlyStopping\n",
    "from tensorflow.keras.layers.experimental.preprocessing import Normalization\n",
    "import tensorflow as tf "
   ]
  },
  {
   "cell_type": "code",
   "execution_count": null,
   "id": "87dd7ad2",
   "metadata": {},
   "outputs": [],
   "source": [
    "#data_gemini = pd.read_csv(\"../data/BTCUSD_4hours.csv\")"
   ]
  },
  {
   "cell_type": "code",
   "execution_count": null,
   "id": "929366c7",
   "metadata": {},
   "outputs": [],
   "source": [
    "#data_gemini = data_gemini.drop(columns=\"Unnamed: 0\").set_index(\"date\")"
   ]
  },
  {
   "cell_type": "code",
   "execution_count": null,
   "id": "0c940529",
   "metadata": {},
   "outputs": [],
   "source": []
  },
  {
   "cell_type": "code",
   "execution_count": null,
   "id": "679297ef",
   "metadata": {},
   "outputs": [],
   "source": []
  },
  {
   "cell_type": "markdown",
   "id": "d57f2a43",
   "metadata": {},
   "source": [
    "# Functions and Pipeline"
   ]
  },
  {
   "cell_type": "code",
   "execution_count": null,
   "id": "296c8a2d",
   "metadata": {},
   "outputs": [],
   "source": [
    "def get_train_data():\n",
    "    \"\"\"\n",
    "    Returns the raw training dataset for the price of bitcoin since 31.12.2011. The index is set to the date.\n",
    "    \"\"\"\n",
    "    data = pd.read_csv(\"../data/BTCUSD_4hours.csv\")\n",
    "    data_train = data.drop(columns=\"Unnamed: 0\").set_index(\"date\")\n",
    "    return data_train\n",
    "\n",
    "def add_ema(data, tspan=[12,26,20,50,34,55]):\n",
    "    \"\"\"\n",
    "    Adds Exponential Moving Averages (EMA) to the dataframe. The default timeframes are 12,26,20,50,34 and 55.\n",
    "    \"\"\"\n",
    "    for t in tspan:\n",
    "        data[f'ema{t}'] = data.log_close.ewm(span=t).mean()\n",
    "    return data\n",
    "\n",
    "def computeRSI (data, window=14):\n",
    "    \"\"\"\n",
    "    Computes the Relative Stregth Index for a given dataset and the window can be defined. Its default value is 14.\n",
    "    \"\"\"\n",
    "    diff = data.diff(1).dropna()        # diff in one field(one day)\n",
    "\n",
    "    #this preservers dimensions off diff values\n",
    "    up_chg = 0 * diff\n",
    "    down_chg = 0 * diff\n",
    "    \n",
    "    # up change is equal to the positive difference, otherwise equal to zero\n",
    "    up_chg[diff > 0] = diff[ diff>0 ]\n",
    "    # down change is equal to negative deifference, otherwise equal to zero\n",
    "    down_chg[diff < 0] = diff[ diff < 0 ]\n",
    "    \n",
    "    # check pandas documentation for ewm\n",
    "    # https://pandas.pydata.org/pandas-docs/stable/reference/api/pandas.DataFrame.ewm.html\n",
    "    # values are related to exponential decay\n",
    "    # we set com=window-1 so we get decay alpha=1/window\n",
    "    up_chg_avg   = up_chg.ewm(com=window-1 , min_periods=window).mean()\n",
    "    down_chg_avg = down_chg.ewm(com=window-1 , min_periods=window).mean()\n",
    "    \n",
    "    rs = abs(up_chg_avg/down_chg_avg)\n",
    "    rsi = 100 - 100/(1+rs)\n",
    "    return rsi\n",
    "\n",
    "def stoch_rsi(rsi, d_window=3, k_window=3, window=14):\n",
    "    \"\"\"\n",
    "    Computes the stochastic RSI. Default values are d=3, k=3, window=14.\n",
    "    \"\"\"\n",
    "    minrsi = rsi.rolling(window=window, center=False).min()\n",
    "    maxrsi = rsi.rolling(window=window, center=False).max()\n",
    "    stoch = ((rsi - minrsi) / (maxrsi - minrsi)) * 100\n",
    "    K = stoch.rolling(window=k_window, center=False).mean()\n",
    "    D = K.rolling(window=d_window, center=False).mean() \n",
    "    return K, D  \n",
    "\n",
    "\n",
    "def add_stoch_rsi(data, d_window=3, k_window=3, window=14):\n",
    "    data['rsi'] = computeRSI(data['log_close'], window)\n",
    "    data['K'], data['D'] = stoch_rsi(data['rsi'], d_window, k_window, window)\n",
    "    return data\n",
    "\n",
    "def get_bollinger_bands(prices, rate=20):\n",
    "    sma = prices.rolling(rate).mean() # <-- Get SMA for 20 days\n",
    "    std = prices.rolling(rate).std() # <-- Get rolling standard deviation for 20 days\n",
    "    bollinger_up = sma + std * 2 # Calculate top band\n",
    "    bollinger_down = sma - std * 2 # Calculate bottom band\n",
    "    return sma, bollinger_up, bollinger_down\n",
    "\n",
    "def add_bollinger(data, prices, rate=20):\n",
    "    data['sma'], data['bollinger_up'], data['bollinger_down'] = get_bollinger_bands(prices)\n",
    "    return data\n",
    "\n",
    "def add_vol_roc(data):\n",
    "    data['vol_roc'] = data.volume.pct_change()\n",
    "    return data\n"
   ]
  },
  {
   "cell_type": "code",
   "execution_count": null,
   "id": "7cfcc8e9",
   "metadata": {},
   "outputs": [],
   "source": [
    "#Feature engineering Pipeline\n",
    "data = get_train_data()\n",
    "add_ema(data)\n",
    "add_stoch_rsi(data)\n",
    "add_bollinger(data,data.log_close)\n",
    "add_vol_roc(data)"
   ]
  },
  {
   "cell_type": "code",
   "execution_count": null,
   "id": "49b1edd4",
   "metadata": {},
   "outputs": [],
   "source": [
    "data_gemini = data.copy()"
   ]
  },
  {
   "cell_type": "code",
   "execution_count": null,
   "id": "20bfe538",
   "metadata": {},
   "outputs": [],
   "source": [
    "data_gemini = data_gemini.dropna()"
   ]
  },
  {
   "cell_type": "code",
   "execution_count": null,
   "id": "3bf57417",
   "metadata": {},
   "outputs": [],
   "source": [
    "data_gemini.head()"
   ]
  },
  {
   "cell_type": "code",
   "execution_count": null,
   "id": "a3a9e2e4",
   "metadata": {},
   "outputs": [],
   "source": [
    "data_gemini.drop(index=[\"2012-01-10 20:00:00\"], axis = 0,inplace=True)"
   ]
  },
  {
   "cell_type": "code",
   "execution_count": null,
   "id": "b4367944",
   "metadata": {},
   "outputs": [],
   "source": [
    "data_gemini.head()"
   ]
  },
  {
   "cell_type": "markdown",
   "id": "74cc44c6",
   "metadata": {},
   "source": [
    "# test"
   ]
  },
  {
   "cell_type": "code",
   "execution_count": 43,
   "id": "4ce71ae6",
   "metadata": {},
   "outputs": [],
   "source": [
    "data_gemini = pd.read_csv(\"../raw_data/gemini_BTCUSD_1hr.csv\")\n",
    "\n",
    "\n",
    "data_gemini.index\n",
    "data_gemini.reset_index(inplace=True)\n",
    "column_names=['Unix Timestamp','Date','Symbol','Open','High','Low','Close','Volume']\n",
    "data_gemini.columns = column_names\n",
    "df_gemini = data_gemini.iloc[1:].copy()\n",
    "\n",
    "#transform to datetime\n",
    "df_gemini['Date'] = pd.to_datetime(df_gemini['Date'])\n",
    "\n",
    "#transform numerics into floats\n",
    "numerics = ['Open','High','Low','Close','Volume']\n",
    "for k in numerics:\n",
    "    df_gemini[k] = pd.to_numeric(df_gemini[k])\n",
    "    \n",
    "#set date to index \n",
    "df_gemini = df_gemini.set_index('Date')\n",
    "\n",
    "df_gemini = df_gemini.drop(columns=['Unix Timestamp', 'Symbol'])"
   ]
  },
  {
   "cell_type": "code",
   "execution_count": 44,
   "id": "a8f81bc7",
   "metadata": {},
   "outputs": [],
   "source": [
    "data_gemini = df_gemini.resample(\"4H\").mean()\n",
    "\n",
    "for x in ['Open', 'High', 'Low', 'Close']:\n",
    "    data_gemini[f'log_{x}'] = data_gemini[x].apply(lambda x: np.log(x))"
   ]
  },
  {
   "cell_type": "code",
   "execution_count": 45,
   "id": "d3f5c528",
   "metadata": {},
   "outputs": [
    {
     "data": {
      "text/html": [
       "<div>\n",
       "<style scoped>\n",
       "    .dataframe tbody tr th:only-of-type {\n",
       "        vertical-align: middle;\n",
       "    }\n",
       "\n",
       "    .dataframe tbody tr th {\n",
       "        vertical-align: top;\n",
       "    }\n",
       "\n",
       "    .dataframe thead th {\n",
       "        text-align: right;\n",
       "    }\n",
       "</style>\n",
       "<table border=\"1\" class=\"dataframe\">\n",
       "  <thead>\n",
       "    <tr style=\"text-align: right;\">\n",
       "      <th></th>\n",
       "      <th>Open</th>\n",
       "      <th>High</th>\n",
       "      <th>Low</th>\n",
       "      <th>Close</th>\n",
       "      <th>Volume</th>\n",
       "      <th>log_Open</th>\n",
       "      <th>log_High</th>\n",
       "      <th>log_Low</th>\n",
       "      <th>log_Close</th>\n",
       "    </tr>\n",
       "    <tr>\n",
       "      <th>Date</th>\n",
       "      <th></th>\n",
       "      <th></th>\n",
       "      <th></th>\n",
       "      <th></th>\n",
       "      <th></th>\n",
       "      <th></th>\n",
       "      <th></th>\n",
       "      <th></th>\n",
       "      <th></th>\n",
       "    </tr>\n",
       "  </thead>\n",
       "  <tbody>\n",
       "    <tr>\n",
       "      <th>2015-10-08 12:00:00</th>\n",
       "      <td>163.333333</td>\n",
       "      <td>245.0000</td>\n",
       "      <td>163.1400</td>\n",
       "      <td>244.973333</td>\n",
       "      <td>2.692410</td>\n",
       "      <td>5.095793</td>\n",
       "      <td>5.501258</td>\n",
       "      <td>5.094609</td>\n",
       "      <td>5.501149</td>\n",
       "    </tr>\n",
       "    <tr>\n",
       "      <th>2015-10-08 16:00:00</th>\n",
       "      <td>244.540000</td>\n",
       "      <td>244.7250</td>\n",
       "      <td>244.0675</td>\n",
       "      <td>244.310000</td>\n",
       "      <td>3.259453</td>\n",
       "      <td>5.499379</td>\n",
       "      <td>5.500135</td>\n",
       "      <td>5.497445</td>\n",
       "      <td>5.498438</td>\n",
       "    </tr>\n",
       "    <tr>\n",
       "      <th>2015-10-08 20:00:00</th>\n",
       "      <td>243.975000</td>\n",
       "      <td>243.9875</td>\n",
       "      <td>243.7675</td>\n",
       "      <td>243.962500</td>\n",
       "      <td>2.659915</td>\n",
       "      <td>5.497066</td>\n",
       "      <td>5.497117</td>\n",
       "      <td>5.496215</td>\n",
       "      <td>5.497015</td>\n",
       "    </tr>\n",
       "    <tr>\n",
       "      <th>2015-10-09 00:00:00</th>\n",
       "      <td>243.687500</td>\n",
       "      <td>243.6875</td>\n",
       "      <td>243.6000</td>\n",
       "      <td>243.600000</td>\n",
       "      <td>0.750000</td>\n",
       "      <td>5.495887</td>\n",
       "      <td>5.495887</td>\n",
       "      <td>5.495528</td>\n",
       "      <td>5.495528</td>\n",
       "    </tr>\n",
       "    <tr>\n",
       "      <th>2015-10-09 04:00:00</th>\n",
       "      <td>243.600000</td>\n",
       "      <td>243.6000</td>\n",
       "      <td>243.6000</td>\n",
       "      <td>243.600000</td>\n",
       "      <td>0.000000</td>\n",
       "      <td>5.495528</td>\n",
       "      <td>5.495528</td>\n",
       "      <td>5.495528</td>\n",
       "      <td>5.495528</td>\n",
       "    </tr>\n",
       "    <tr>\n",
       "      <th>...</th>\n",
       "      <td>...</td>\n",
       "      <td>...</td>\n",
       "      <td>...</td>\n",
       "      <td>...</td>\n",
       "      <td>...</td>\n",
       "      <td>...</td>\n",
       "      <td>...</td>\n",
       "      <td>...</td>\n",
       "      <td>...</td>\n",
       "    </tr>\n",
       "    <tr>\n",
       "      <th>2021-08-12 08:00:00</th>\n",
       "      <td>45323.657500</td>\n",
       "      <td>45529.0675</td>\n",
       "      <td>44998.1425</td>\n",
       "      <td>45190.977500</td>\n",
       "      <td>69.830994</td>\n",
       "      <td>10.721584</td>\n",
       "      <td>10.726106</td>\n",
       "      <td>10.714376</td>\n",
       "      <td>10.718653</td>\n",
       "    </tr>\n",
       "    <tr>\n",
       "      <th>2021-08-12 12:00:00</th>\n",
       "      <td>44491.795000</td>\n",
       "      <td>44643.4775</td>\n",
       "      <td>44186.6725</td>\n",
       "      <td>44353.090000</td>\n",
       "      <td>114.602881</td>\n",
       "      <td>10.703060</td>\n",
       "      <td>10.706463</td>\n",
       "      <td>10.696178</td>\n",
       "      <td>10.699938</td>\n",
       "    </tr>\n",
       "    <tr>\n",
       "      <th>2021-08-12 16:00:00</th>\n",
       "      <td>44198.082500</td>\n",
       "      <td>44414.5750</td>\n",
       "      <td>44034.7175</td>\n",
       "      <td>44248.827500</td>\n",
       "      <td>84.168365</td>\n",
       "      <td>10.696437</td>\n",
       "      <td>10.701323</td>\n",
       "      <td>10.692734</td>\n",
       "      <td>10.697584</td>\n",
       "    </tr>\n",
       "    <tr>\n",
       "      <th>2021-08-12 20:00:00</th>\n",
       "      <td>44280.347500</td>\n",
       "      <td>44498.0650</td>\n",
       "      <td>44051.0225</td>\n",
       "      <td>44286.322500</td>\n",
       "      <td>61.694263</td>\n",
       "      <td>10.698296</td>\n",
       "      <td>10.703201</td>\n",
       "      <td>10.693104</td>\n",
       "      <td>10.698431</td>\n",
       "    </tr>\n",
       "    <tr>\n",
       "      <th>2021-08-13 00:00:00</th>\n",
       "      <td>44430.990000</td>\n",
       "      <td>44598.8300</td>\n",
       "      <td>44419.5800</td>\n",
       "      <td>44598.830000</td>\n",
       "      <td>2.108743</td>\n",
       "      <td>10.701692</td>\n",
       "      <td>10.705463</td>\n",
       "      <td>10.701436</td>\n",
       "      <td>10.705463</td>\n",
       "    </tr>\n",
       "  </tbody>\n",
       "</table>\n",
       "<p>12814 rows × 9 columns</p>\n",
       "</div>"
      ],
      "text/plain": [
       "                             Open        High         Low         Close  \\\n",
       "Date                                                                      \n",
       "2015-10-08 12:00:00    163.333333    245.0000    163.1400    244.973333   \n",
       "2015-10-08 16:00:00    244.540000    244.7250    244.0675    244.310000   \n",
       "2015-10-08 20:00:00    243.975000    243.9875    243.7675    243.962500   \n",
       "2015-10-09 00:00:00    243.687500    243.6875    243.6000    243.600000   \n",
       "2015-10-09 04:00:00    243.600000    243.6000    243.6000    243.600000   \n",
       "...                           ...         ...         ...           ...   \n",
       "2021-08-12 08:00:00  45323.657500  45529.0675  44998.1425  45190.977500   \n",
       "2021-08-12 12:00:00  44491.795000  44643.4775  44186.6725  44353.090000   \n",
       "2021-08-12 16:00:00  44198.082500  44414.5750  44034.7175  44248.827500   \n",
       "2021-08-12 20:00:00  44280.347500  44498.0650  44051.0225  44286.322500   \n",
       "2021-08-13 00:00:00  44430.990000  44598.8300  44419.5800  44598.830000   \n",
       "\n",
       "                         Volume   log_Open   log_High    log_Low  log_Close  \n",
       "Date                                                                         \n",
       "2015-10-08 12:00:00    2.692410   5.095793   5.501258   5.094609   5.501149  \n",
       "2015-10-08 16:00:00    3.259453   5.499379   5.500135   5.497445   5.498438  \n",
       "2015-10-08 20:00:00    2.659915   5.497066   5.497117   5.496215   5.497015  \n",
       "2015-10-09 00:00:00    0.750000   5.495887   5.495887   5.495528   5.495528  \n",
       "2015-10-09 04:00:00    0.000000   5.495528   5.495528   5.495528   5.495528  \n",
       "...                         ...        ...        ...        ...        ...  \n",
       "2021-08-12 08:00:00   69.830994  10.721584  10.726106  10.714376  10.718653  \n",
       "2021-08-12 12:00:00  114.602881  10.703060  10.706463  10.696178  10.699938  \n",
       "2021-08-12 16:00:00   84.168365  10.696437  10.701323  10.692734  10.697584  \n",
       "2021-08-12 20:00:00   61.694263  10.698296  10.703201  10.693104  10.698431  \n",
       "2021-08-13 00:00:00    2.108743  10.701692  10.705463  10.701436  10.705463  \n",
       "\n",
       "[12814 rows x 9 columns]"
      ]
     },
     "execution_count": 45,
     "metadata": {},
     "output_type": "execute_result"
    }
   ],
   "source": [
    "data_gemini"
   ]
  },
  {
   "cell_type": "markdown",
   "id": "3313545b",
   "metadata": {},
   "source": [
    "### Temporal Train-Test Split"
   ]
  },
  {
   "cell_type": "code",
   "execution_count": 46,
   "id": "aa1ba19f",
   "metadata": {},
   "outputs": [],
   "source": [
    "train_percentage = 80"
   ]
  },
  {
   "cell_type": "code",
   "execution_count": 47,
   "id": "5a161e45",
   "metadata": {},
   "outputs": [
    {
     "data": {
      "text/plain": [
       "10251"
      ]
     },
     "execution_count": 47,
     "metadata": {},
     "output_type": "execute_result"
    }
   ],
   "source": [
    "train_len = int(len(data_gemini) * train_percentage/100)\n",
    "train_len"
   ]
  },
  {
   "cell_type": "code",
   "execution_count": 48,
   "id": "7949028b",
   "metadata": {},
   "outputs": [],
   "source": [
    "data_train = data_gemini[:train_len]\n",
    "data_test = data_gemini[train_len:]"
   ]
  },
  {
   "cell_type": "code",
   "execution_count": 49,
   "id": "e039ab9b",
   "metadata": {},
   "outputs": [
    {
     "name": "stdout",
     "output_type": "stream",
     "text": [
      "(10251, 9)\n",
      "(2563, 9)\n"
     ]
    }
   ],
   "source": [
    "print(data_train.shape)\n",
    "print(data_test.shape)"
   ]
  },
  {
   "cell_type": "markdown",
   "id": "bbe96ceb",
   "metadata": {},
   "source": [
    "### scaling"
   ]
  },
  {
   "cell_type": "code",
   "execution_count": 50,
   "id": "3d03b72e",
   "metadata": {},
   "outputs": [],
   "source": [
    "from sklearn.preprocessing import MinMaxScaler\n",
    "\n",
    "minmax_scaler = MinMaxScaler(feature_range = (0,1))\n",
    "\n",
    "minmax_scaler.fit(data_train)\n",
    "\n",
    "data_train_scaled = minmax_scaler.transform(data_train)\n",
    "data_test_scaled = minmax_scaler.transform(data_test)"
   ]
  },
  {
   "cell_type": "code",
   "execution_count": 51,
   "id": "a4426cb4",
   "metadata": {},
   "outputs": [
    {
     "data": {
      "text/plain": [
       "array([5.0957931 , 5.49552754, 5.09460873, 5.49552754])"
      ]
     },
     "execution_count": 51,
     "metadata": {},
     "output_type": "execute_result"
    }
   ],
   "source": [
    "min1 = minmax_scaler.data_min_[5:9]\n",
    "min1"
   ]
  },
  {
   "cell_type": "code",
   "execution_count": 52,
   "id": "ad5445e7",
   "metadata": {},
   "outputs": [
    {
     "data": {
      "text/plain": [
       "array([4.79596708, 4.40131134, 4.78967689, 4.39424705])"
      ]
     },
     "execution_count": 52,
     "metadata": {},
     "output_type": "execute_result"
    }
   ],
   "source": [
    "range1 = minmax_scaler.data_range_[5:9]\n",
    "range1"
   ]
  },
  {
   "cell_type": "markdown",
   "id": "c312dc30",
   "metadata": {},
   "source": [
    "## Basic Model"
   ]
  },
  {
   "cell_type": "markdown",
   "id": "9f692d34",
   "metadata": {},
   "source": [
    "### create x and y array"
   ]
  },
  {
   "cell_type": "code",
   "execution_count": 53,
   "id": "8db82a1f",
   "metadata": {},
   "outputs": [],
   "source": [
    "window_size = 72 #because we want to base our prediction on 3 weeks (72*4 hours)\n",
    "horizon = 1 #number of predictions into the future :) \n",
    "data_train_subsequences = []\n",
    "fake_y_train = []\n",
    "for k in range(len(data_train_scaled)-(window_size-1)-horizon):\n",
    "    data_train_subsequences.append(data_train_scaled[k:k+window_size])\n",
    "    fake_y_train.append(data_train_scaled[k+window_size])"
   ]
  },
  {
   "cell_type": "code",
   "execution_count": 54,
   "id": "623dd43b",
   "metadata": {},
   "outputs": [
    {
     "data": {
      "text/plain": [
       "10179"
      ]
     },
     "execution_count": 54,
     "metadata": {},
     "output_type": "execute_result"
    }
   ],
   "source": [
    "len(data_train_subsequences)"
   ]
  },
  {
   "cell_type": "code",
   "execution_count": 55,
   "id": "cc2decb8",
   "metadata": {},
   "outputs": [
    {
     "data": {
      "text/plain": [
       "10179"
      ]
     },
     "execution_count": 55,
     "metadata": {},
     "output_type": "execute_result"
    }
   ],
   "source": [
    "len(fake_y_train)"
   ]
  },
  {
   "cell_type": "code",
   "execution_count": 56,
   "id": "979a5719",
   "metadata": {},
   "outputs": [],
   "source": [
    "X_train = np.array(data_train_subsequences)\n",
    "y_train = np.array(fake_y_train)[:,5:9]"
   ]
  },
  {
   "cell_type": "code",
   "execution_count": 57,
   "id": "29c432e5",
   "metadata": {},
   "outputs": [
    {
     "name": "stdout",
     "output_type": "stream",
     "text": [
      "(10179, 72, 9)\n",
      "(10179, 4)\n"
     ]
    }
   ],
   "source": [
    "print(X_train.shape)\n",
    "print(y_train.shape)"
   ]
  },
  {
   "cell_type": "code",
   "execution_count": 58,
   "id": "9e68ba0c",
   "metadata": {},
   "outputs": [
    {
     "data": {
      "text/plain": [
       "array([[[0.00000000e+00, 7.13416965e-05, 0.00000000e+00, ...,\n",
       "         1.30203802e-03, 0.00000000e+00, 1.27936031e-03],\n",
       "        [4.14245984e-03, 5.73281490e-05, 4.15941009e-03, ...,\n",
       "         1.04686875e-03, 8.41050675e-02, 6.62314803e-04],\n",
       "        [4.11363844e-03, 1.97463624e-05, 4.14399107e-03, ...,\n",
       "         3.61132970e-04, 8.38482811e-02, 3.38394520e-04],\n",
       "        ...,\n",
       "        [5.36239573e-03, 1.38071662e-03, 5.40796552e-03, ...,\n",
       "         2.39622199e-02, 1.03915284e-01, 2.37021017e-02],\n",
       "        [5.42386438e-03, 1.36466474e-03, 5.35952409e-03, ...,\n",
       "         2.36976740e-02, 1.03180734e-01, 2.16515433e-02],\n",
       "        [5.40958121e-03, 1.40262871e-03, 5.46039020e-03, ...,\n",
       "         2.43228495e-02, 1.04707333e-01, 2.43619515e-02]],\n",
       "\n",
       "       [[4.14245984e-03, 5.73281490e-05, 4.15941009e-03, ...,\n",
       "         1.04686875e-03, 8.41050675e-02, 6.62314803e-04],\n",
       "        [4.11363844e-03, 1.97463624e-05, 4.14399107e-03, ...,\n",
       "         3.61132970e-04, 8.38482811e-02, 3.38394520e-04],\n",
       "        [4.09897269e-03, 4.45885603e-06, 4.13538211e-03, ...,\n",
       "         8.15963424e-05, 8.37047711e-02, 0.00000000e+00],\n",
       "        ...,\n",
       "        [5.42386438e-03, 1.36466474e-03, 5.35952409e-03, ...,\n",
       "         2.36976740e-02, 1.03180734e-01, 2.16515433e-02],\n",
       "        [5.40958121e-03, 1.40262871e-03, 5.46039020e-03, ...,\n",
       "         2.43228495e-02, 1.04707333e-01, 2.43619515e-02],\n",
       "        [5.53838481e-03, 1.53448345e-03, 5.52450764e-03, ...,\n",
       "         2.64809146e-02, 1.05671973e-01, 2.54588594e-02]],\n",
       "\n",
       "       [[4.11363844e-03, 1.97463624e-05, 4.14399107e-03, ...,\n",
       "         3.61132970e-04, 8.38482811e-02, 3.38394520e-04],\n",
       "        [4.09897269e-03, 4.45885603e-06, 4.13538211e-03, ...,\n",
       "         8.15963424e-05, 8.37047711e-02, 0.00000000e+00],\n",
       "        [4.09450920e-03, 0.00000000e+00, 4.13538211e-03, ...,\n",
       "         0.00000000e+00, 8.37047711e-02, 0.00000000e+00],\n",
       "        ...,\n",
       "        [5.40958121e-03, 1.40262871e-03, 5.46039020e-03, ...,\n",
       "         2.43228495e-02, 1.04707333e-01, 2.43619515e-02],\n",
       "        [5.53838481e-03, 1.53448345e-03, 5.52450764e-03, ...,\n",
       "         2.64809146e-02, 1.05671973e-01, 2.54588594e-02],\n",
       "        [5.63632656e-03, 1.62276880e-03, 5.60622846e-03, ...,\n",
       "         2.79145069e-02, 1.06895029e-01, 2.62031636e-02]],\n",
       "\n",
       "       ...,\n",
       "\n",
       "       [[4.78974640e-01, 4.74902819e-01, 4.80928852e-01, ...,\n",
       "         8.33872472e-01, 8.49029200e-01, 8.34891182e-01],\n",
       "        [4.78240715e-01, 4.74245329e-01, 4.80899428e-01, ...,\n",
       "         8.33565719e-01, 8.49016644e-01, 8.34658715e-01],\n",
       "        [4.78835762e-01, 4.78434488e-01, 4.79342620e-01, ...,\n",
       "         8.35513130e-01, 8.48351280e-01, 8.35838201e-01],\n",
       "        ...,\n",
       "        [4.97351088e-01, 4.95105896e-01, 4.99357284e-01, ...,\n",
       "         8.43101879e-01, 8.56747863e-01, 8.43384699e-01],\n",
       "        [4.95482926e-01, 4.91441098e-01, 4.96465189e-01, ...,\n",
       "         8.41455279e-01, 8.55555241e-01, 8.42043825e-01],\n",
       "        [4.91761139e-01, 4.87727126e-01, 4.93315211e-01, ...,\n",
       "         8.39774321e-01, 8.54248477e-01, 8.40747033e-01]],\n",
       "\n",
       "       [[4.78240715e-01, 4.74245329e-01, 4.80899428e-01, ...,\n",
       "         8.33565719e-01, 8.49016644e-01, 8.34658715e-01],\n",
       "        [4.78835762e-01, 4.78434488e-01, 4.79342620e-01, ...,\n",
       "         8.35513130e-01, 8.48351280e-01, 8.35838201e-01],\n",
       "        [4.84787253e-01, 4.80629010e-01, 4.85798565e-01, ...,\n",
       "         8.36526672e-01, 8.51096757e-01, 8.36990179e-01],\n",
       "        ...,\n",
       "        [4.95482926e-01, 4.91441098e-01, 4.96465189e-01, ...,\n",
       "         8.41455279e-01, 8.55555241e-01, 8.42043825e-01],\n",
       "        [4.91761139e-01, 4.87727126e-01, 4.93315211e-01, ...,\n",
       "         8.39774321e-01, 8.54248477e-01, 8.40747033e-01],\n",
       "        [4.85484195e-01, 4.81793408e-01, 4.84345708e-01, ...,\n",
       "         8.37062620e-01, 8.50482051e-01, 8.36402905e-01]],\n",
       "\n",
       "       [[4.78835762e-01, 4.78434488e-01, 4.79342620e-01, ...,\n",
       "         8.35513130e-01, 8.48351280e-01, 8.35838201e-01],\n",
       "        [4.84787253e-01, 4.80629010e-01, 4.85798565e-01, ...,\n",
       "         8.36526672e-01, 8.51096757e-01, 8.36990179e-01],\n",
       "        [4.79532959e-01, 4.76538582e-01, 4.81799256e-01, ...,\n",
       "         8.34633849e-01, 8.49400257e-01, 8.35122400e-01],\n",
       "        ...,\n",
       "        [4.91761139e-01, 4.87727126e-01, 4.93315211e-01, ...,\n",
       "         8.39774321e-01, 8.54248477e-01, 8.40747033e-01],\n",
       "        [4.85484195e-01, 4.81793408e-01, 4.84345708e-01, ...,\n",
       "         8.37062620e-01, 8.50482051e-01, 8.36402905e-01],\n",
       "        [4.67002792e-01, 4.67293845e-01, 4.62409320e-01, ...,\n",
       "         8.30296897e-01, 8.40973790e-01, 8.27902087e-01]]])"
      ]
     },
     "execution_count": 58,
     "metadata": {},
     "output_type": "execute_result"
    }
   ],
   "source": [
    "X_train"
   ]
  },
  {
   "cell_type": "code",
   "execution_count": 59,
   "id": "a0b878dc",
   "metadata": {},
   "outputs": [
    {
     "data": {
      "text/plain": [
       "array([[0.10626838, 0.02648091, 0.10567197, 0.02545886],\n",
       "       [0.10773554, 0.02791451, 0.10689503, 0.02620316],\n",
       "       [0.10720565, 0.0269515 , 0.10711159, 0.02562169],\n",
       "       ...,\n",
       "       [0.85114795, 0.83706262, 0.85048205, 0.83640291],\n",
       "       [0.8431946 , 0.8302969 , 0.84097379, 0.82790209],\n",
       "       [0.84326882, 0.82861137, 0.843355  , 0.82929642]])"
      ]
     },
     "execution_count": 59,
     "metadata": {},
     "output_type": "execute_result"
    }
   ],
   "source": [
    "y_train"
   ]
  },
  {
   "cell_type": "markdown",
   "id": "7fad1510",
   "metadata": {},
   "source": [
    "### Initialize a model & set layers"
   ]
  },
  {
   "cell_type": "code",
   "execution_count": 60,
   "id": "e95e3a54",
   "metadata": {},
   "outputs": [
    {
     "name": "stdout",
     "output_type": "stream",
     "text": [
      "Model: \"sequential_1\"\n",
      "_________________________________________________________________\n",
      "Layer (type)                 Output Shape              Param #   \n",
      "=================================================================\n",
      "lstm_2 (LSTM)                (None, 72, 16)            1664      \n",
      "_________________________________________________________________\n",
      "lstm_3 (LSTM)                (None, 12)                1392      \n",
      "_________________________________________________________________\n",
      "dense_2 (Dense)              (None, 10)                130       \n",
      "_________________________________________________________________\n",
      "dense_3 (Dense)              (None, 4)                 44        \n",
      "=================================================================\n",
      "Total params: 3,230\n",
      "Trainable params: 3,230\n",
      "Non-trainable params: 0\n",
      "_________________________________________________________________\n"
     ]
    }
   ],
   "source": [
    "# Initialize a model, add a masking layer,LSTM,Dense Layers \n",
    "model = Sequential()\n",
    "#model.add(normalizer)\n",
    "#model.add(layers.Masking(mask_value=-1))\n",
    "model.add(layers.LSTM(units=16, activation='tanh',input_shape = X_train[0].shape, return_sequences = True)) # first run 64 units\n",
    "model.add(layers.LSTM(units=12,return_sequences = False, activation = \"tanh\"))\n",
    "model.add(layers.Dense(10, activation='relu'))\n",
    "model.add(layers.Dense(4, activation=\"relu\"))\n",
    "\n",
    "model.summary()\n"
   ]
  },
  {
   "cell_type": "markdown",
   "id": "4e50888a",
   "metadata": {},
   "source": [
    "### Compile Model \n"
   ]
  },
  {
   "cell_type": "code",
   "execution_count": 61,
   "id": "91d66251",
   "metadata": {},
   "outputs": [],
   "source": [
    "# later add: es = EarlyStopping(patience=3, restore_best_weights=True)\n",
    "\n",
    "model.compile(optimizer='rmsprop', loss=\"mse\", metrics=\"mae\")"
   ]
  },
  {
   "cell_type": "markdown",
   "id": "e3691b65",
   "metadata": {},
   "source": [
    "### Fit Model"
   ]
  },
  {
   "cell_type": "code",
   "execution_count": 62,
   "id": "6a9e51aa",
   "metadata": {},
   "outputs": [
    {
     "name": "stdout",
     "output_type": "stream",
     "text": [
      "Epoch 1/100\n",
      "112/112 [==============================] - 10s 73ms/step - loss: 0.0592 - mae: 0.1255 - val_loss: 3.0319e-04 - val_mae: 0.0142\n",
      "Epoch 2/100\n",
      "112/112 [==============================] - 8s 70ms/step - loss: 4.3195e-04 - mae: 0.0164 - val_loss: 0.0027 - val_mae: 0.0506\n",
      "Epoch 3/100\n",
      "112/112 [==============================] - 7s 66ms/step - loss: 3.4217e-04 - mae: 0.0151 - val_loss: 7.4904e-05 - val_mae: 0.0066\n",
      "Epoch 4/100\n",
      "112/112 [==============================] - 7s 66ms/step - loss: 2.8112e-04 - mae: 0.0137 - val_loss: 3.7056e-04 - val_mae: 0.0174\n",
      "Epoch 5/100\n",
      "112/112 [==============================] - 8s 67ms/step - loss: 2.3745e-04 - mae: 0.0124 - val_loss: 4.1350e-04 - val_mae: 0.0187\n",
      "Epoch 6/100\n",
      "112/112 [==============================] - 8s 68ms/step - loss: 2.1919e-04 - mae: 0.0117 - val_loss: 7.4375e-05 - val_mae: 0.0069\n",
      "Epoch 7/100\n",
      "112/112 [==============================] - 7s 67ms/step - loss: 1.9914e-04 - mae: 0.0113 - val_loss: 0.0013 - val_mae: 0.0335\n",
      "Epoch 8/100\n",
      "112/112 [==============================] - 7s 67ms/step - loss: 1.9117e-04 - mae: 0.0110 - val_loss: 3.1331e-04 - val_mae: 0.0158\n",
      "Epoch 9/100\n",
      "112/112 [==============================] - 8s 67ms/step - loss: 1.8373e-04 - mae: 0.0109 - val_loss: 2.6431e-04 - val_mae: 0.0152\n",
      "Epoch 10/100\n",
      "112/112 [==============================] - 7s 66ms/step - loss: 1.7105e-04 - mae: 0.0105 - val_loss: 1.0839e-04 - val_mae: 0.0087\n",
      "Epoch 11/100\n",
      "112/112 [==============================] - 7s 66ms/step - loss: 1.6568e-04 - mae: 0.0104 - val_loss: 7.1591e-05 - val_mae: 0.0068\n",
      "Epoch 12/100\n",
      "112/112 [==============================] - 8s 69ms/step - loss: 1.5558e-04 - mae: 0.0099 - val_loss: 5.1722e-04 - val_mae: 0.0220\n",
      "Epoch 13/100\n",
      "112/112 [==============================] - 8s 68ms/step - loss: 1.4592e-04 - mae: 0.0096 - val_loss: 2.8579e-04 - val_mae: 0.0160\n",
      "Epoch 14/100\n",
      "112/112 [==============================] - 8s 74ms/step - loss: 1.4888e-04 - mae: 0.0097 - val_loss: 5.8193e-05 - val_mae: 0.0061\n",
      "Epoch 15/100\n",
      "112/112 [==============================] - 8s 68ms/step - loss: 1.3766e-04 - mae: 0.0094 - val_loss: 1.8779e-04 - val_mae: 0.0128\n",
      "Epoch 16/100\n",
      "112/112 [==============================] - 8s 69ms/step - loss: 1.3804e-04 - mae: 0.0093 - val_loss: 2.5365e-04 - val_mae: 0.0151\n",
      "Epoch 17/100\n",
      "112/112 [==============================] - 8s 68ms/step - loss: 1.2888e-04 - mae: 0.0089 - val_loss: 1.6899e-04 - val_mae: 0.0120\n",
      "Epoch 18/100\n",
      "112/112 [==============================] - 8s 68ms/step - loss: 1.3171e-04 - mae: 0.0091 - val_loss: 8.2586e-05 - val_mae: 0.0079\n",
      "Epoch 19/100\n",
      "112/112 [==============================] - 8s 67ms/step - loss: 1.2327e-04 - mae: 0.0090 - val_loss: 1.5154e-04 - val_mae: 0.0108\n",
      "Epoch 20/100\n",
      "112/112 [==============================] - 8s 68ms/step - loss: 1.2186e-04 - mae: 0.0087 - val_loss: 1.1766e-04 - val_mae: 0.0098\n",
      "Epoch 21/100\n",
      "112/112 [==============================] - 8s 68ms/step - loss: 1.1825e-04 - mae: 0.0085 - val_loss: 5.7781e-05 - val_mae: 0.0061\n",
      "Epoch 22/100\n",
      "112/112 [==============================] - 8s 68ms/step - loss: 1.1440e-04 - mae: 0.0086 - val_loss: 6.0274e-05 - val_mae: 0.0063\n",
      "Epoch 23/100\n",
      "112/112 [==============================] - 8s 68ms/step - loss: 1.1227e-04 - mae: 0.0083 - val_loss: 1.6926e-04 - val_mae: 0.0103\n",
      "Epoch 24/100\n",
      "112/112 [==============================] - 8s 69ms/step - loss: 1.0747e-04 - mae: 0.0079 - val_loss: 7.2342e-05 - val_mae: 0.0066\n",
      "Epoch 25/100\n",
      "112/112 [==============================] - 8s 70ms/step - loss: 1.0700e-04 - mae: 0.0082 - val_loss: 7.5057e-05 - val_mae: 0.0075\n",
      "Epoch 26/100\n",
      "112/112 [==============================] - 8s 68ms/step - loss: 1.0580e-04 - mae: 0.0082 - val_loss: 1.4354e-04 - val_mae: 0.0111\n",
      "Epoch 27/100\n",
      "112/112 [==============================] - 8s 68ms/step - loss: 1.0213e-04 - mae: 0.0080 - val_loss: 1.5330e-04 - val_mae: 0.0099\n",
      "Epoch 28/100\n",
      "112/112 [==============================] - 8s 68ms/step - loss: 1.0085e-04 - mae: 0.0080 - val_loss: 1.4817e-04 - val_mae: 0.0111\n",
      "Epoch 29/100\n",
      "112/112 [==============================] - 8s 68ms/step - loss: 9.9935e-05 - mae: 0.0079 - val_loss: 8.2651e-05 - val_mae: 0.0080\n",
      "Epoch 30/100\n",
      "112/112 [==============================] - 8s 69ms/step - loss: 9.4746e-05 - mae: 0.0077 - val_loss: 3.4712e-05 - val_mae: 0.0045\n",
      "Epoch 31/100\n",
      "112/112 [==============================] - 7s 67ms/step - loss: 9.4157e-05 - mae: 0.0077 - val_loss: 1.3191e-04 - val_mae: 0.0091\n",
      "Epoch 32/100\n",
      "112/112 [==============================] - 8s 69ms/step - loss: 8.8838e-05 - mae: 0.0073 - val_loss: 4.2457e-05 - val_mae: 0.0053\n",
      "Epoch 33/100\n",
      "112/112 [==============================] - 8s 69ms/step - loss: 9.1019e-05 - mae: 0.0076 - val_loss: 6.9321e-05 - val_mae: 0.0066\n",
      "Epoch 34/100\n",
      "112/112 [==============================] - 8s 68ms/step - loss: 8.8300e-05 - mae: 0.0074 - val_loss: 2.7286e-05 - val_mae: 0.0037\n",
      "Epoch 35/100\n",
      "112/112 [==============================] - 8s 67ms/step - loss: 8.6613e-05 - mae: 0.0074 - val_loss: 2.3052e-04 - val_mae: 0.0123\n",
      "Epoch 36/100\n",
      "112/112 [==============================] - 8s 68ms/step - loss: 8.6209e-05 - mae: 0.0074 - val_loss: 2.6978e-05 - val_mae: 0.0038\n",
      "Epoch 37/100\n",
      "112/112 [==============================] - 8s 69ms/step - loss: 8.2304e-05 - mae: 0.0071 - val_loss: 4.2349e-04 - val_mae: 0.0172\n",
      "Epoch 38/100\n",
      "112/112 [==============================] - 8s 68ms/step - loss: 8.1449e-05 - mae: 0.0070 - val_loss: 1.8387e-05 - val_mae: 0.0030\n",
      "Epoch 39/100\n",
      "112/112 [==============================] - 7s 67ms/step - loss: 7.9813e-05 - mae: 0.0069 - val_loss: 3.3325e-04 - val_mae: 0.0172\n",
      "Epoch 40/100\n",
      "112/112 [==============================] - 8s 67ms/step - loss: 7.9390e-05 - mae: 0.0072 - val_loss: 1.4441e-04 - val_mae: 0.0098\n",
      "Epoch 41/100\n",
      "112/112 [==============================] - 8s 69ms/step - loss: 8.1182e-05 - mae: 0.0072 - val_loss: 1.2244e-04 - val_mae: 0.0097\n",
      "Epoch 42/100\n",
      "112/112 [==============================] - 8s 69ms/step - loss: 7.6672e-05 - mae: 0.0069 - val_loss: 1.3688e-04 - val_mae: 0.0110\n",
      "Epoch 43/100\n",
      "112/112 [==============================] - 8s 67ms/step - loss: 7.8054e-05 - mae: 0.0070 - val_loss: 2.9625e-05 - val_mae: 0.0042\n",
      "Epoch 44/100\n",
      "112/112 [==============================] - 8s 69ms/step - loss: 7.5407e-05 - mae: 0.0068 - val_loss: 1.6817e-05 - val_mae: 0.0028\n",
      "Epoch 45/100\n",
      "112/112 [==============================] - 8s 67ms/step - loss: 7.1259e-05 - mae: 0.0067 - val_loss: 5.0624e-05 - val_mae: 0.0063\n",
      "Epoch 46/100\n",
      "112/112 [==============================] - 8s 68ms/step - loss: 7.3721e-05 - mae: 0.0067 - val_loss: 1.0892e-04 - val_mae: 0.0098\n",
      "Epoch 47/100\n",
      "112/112 [==============================] - 8s 68ms/step - loss: 7.0435e-05 - mae: 0.0065 - val_loss: 7.3157e-05 - val_mae: 0.0076\n",
      "Epoch 48/100\n",
      "112/112 [==============================] - 8s 68ms/step - loss: 7.1098e-05 - mae: 0.0067 - val_loss: 3.1684e-05 - val_mae: 0.0044\n",
      "Epoch 49/100\n",
      "112/112 [==============================] - 7s 66ms/step - loss: 6.9404e-05 - mae: 0.0066 - val_loss: 7.9942e-05 - val_mae: 0.0071\n",
      "Epoch 50/100\n",
      "112/112 [==============================] - 8s 68ms/step - loss: 7.0141e-05 - mae: 0.0063 - val_loss: 5.5448e-05 - val_mae: 0.0067\n",
      "Epoch 51/100\n",
      "112/112 [==============================] - 7s 67ms/step - loss: 6.7265e-05 - mae: 0.0066 - val_loss: 6.3876e-05 - val_mae: 0.0065\n",
      "Epoch 52/100\n",
      "112/112 [==============================] - 8s 68ms/step - loss: 6.7747e-05 - mae: 0.0065 - val_loss: 1.5526e-04 - val_mae: 0.0109\n",
      "Epoch 53/100\n",
      "112/112 [==============================] - 8s 68ms/step - loss: 6.5308e-05 - mae: 0.0063 - val_loss: 3.2845e-04 - val_mae: 0.0178\n",
      "Epoch 54/100\n",
      "112/112 [==============================] - 8s 68ms/step - loss: 6.5332e-05 - mae: 0.0064 - val_loss: 1.5585e-04 - val_mae: 0.0112\n",
      "Epoch 55/100\n",
      "112/112 [==============================] - 8s 70ms/step - loss: 6.5180e-05 - mae: 0.0064 - val_loss: 4.2068e-05 - val_mae: 0.0053\n",
      "Epoch 56/100\n",
      "112/112 [==============================] - 8s 68ms/step - loss: 6.4563e-05 - mae: 0.0064 - val_loss: 5.1953e-05 - val_mae: 0.0060\n",
      "Epoch 57/100\n",
      "112/112 [==============================] - 11s 97ms/step - loss: 6.3005e-05 - mae: 0.0061 - val_loss: 2.7376e-05 - val_mae: 0.0044\n",
      "Epoch 58/100\n"
     ]
    },
    {
     "name": "stdout",
     "output_type": "stream",
     "text": [
      "112/112 [==============================] - 115s 1s/step - loss: 6.0984e-05 - mae: 0.0061 - val_loss: 5.1655e-05 - val_mae: 0.0065\n",
      "Epoch 59/100\n",
      "112/112 [==============================] - 10s 90ms/step - loss: 6.2931e-05 - mae: 0.0062 - val_loss: 5.9642e-05 - val_mae: 0.0072\n",
      "Epoch 60/100\n",
      "112/112 [==============================] - 7s 67ms/step - loss: 5.9245e-05 - mae: 0.0061 - val_loss: 4.5999e-05 - val_mae: 0.0053\n",
      "Epoch 61/100\n",
      "112/112 [==============================] - 8s 72ms/step - loss: 6.0341e-05 - mae: 0.0062 - val_loss: 4.9981e-05 - val_mae: 0.0065\n",
      "Epoch 62/100\n",
      "112/112 [==============================] - 8s 73ms/step - loss: 5.8748e-05 - mae: 0.0061 - val_loss: 7.0309e-05 - val_mae: 0.0073\n",
      "Epoch 63/100\n",
      "112/112 [==============================] - 8s 70ms/step - loss: 5.8960e-05 - mae: 0.0062 - val_loss: 3.0121e-05 - val_mae: 0.0043\n",
      "Epoch 64/100\n",
      "112/112 [==============================] - 8s 68ms/step - loss: 5.5058e-05 - mae: 0.0058 - val_loss: 2.3343e-05 - val_mae: 0.0038\n",
      "Epoch 65/100\n",
      "112/112 [==============================] - 8s 71ms/step - loss: 5.8841e-05 - mae: 0.0061 - val_loss: 8.1855e-05 - val_mae: 0.0085\n",
      "Epoch 66/100\n",
      "112/112 [==============================] - 8s 74ms/step - loss: 5.8321e-05 - mae: 0.0062 - val_loss: 6.8750e-05 - val_mae: 0.0075\n",
      "Epoch 67/100\n",
      "112/112 [==============================] - 8s 68ms/step - loss: 5.5633e-05 - mae: 0.0061 - val_loss: 5.1391e-05 - val_mae: 0.0059\n",
      "Epoch 68/100\n",
      "112/112 [==============================] - 8s 68ms/step - loss: 5.4846e-05 - mae: 0.0061 - val_loss: 1.2899e-04 - val_mae: 0.0110\n",
      "Epoch 69/100\n",
      "112/112 [==============================] - 8s 71ms/step - loss: 5.5558e-05 - mae: 0.0059 - val_loss: 2.2507e-05 - val_mae: 0.0036\n",
      "Epoch 70/100\n",
      "112/112 [==============================] - 8s 69ms/step - loss: 5.6293e-05 - mae: 0.0061 - val_loss: 5.7155e-05 - val_mae: 0.0066\n",
      "Epoch 71/100\n",
      "112/112 [==============================] - 8s 69ms/step - loss: 5.1830e-05 - mae: 0.0054 - val_loss: 9.1519e-05 - val_mae: 0.0091\n",
      "Epoch 72/100\n",
      "112/112 [==============================] - 8s 69ms/step - loss: 5.4263e-05 - mae: 0.0059 - val_loss: 1.2163e-05 - val_mae: 0.0025\n",
      "Epoch 73/100\n",
      "112/112 [==============================] - 8s 69ms/step - loss: 5.3248e-05 - mae: 0.0058 - val_loss: 8.5552e-05 - val_mae: 0.0087\n",
      "Epoch 74/100\n",
      "112/112 [==============================] - 8s 68ms/step - loss: 5.4077e-05 - mae: 0.0059 - val_loss: 4.8118e-05 - val_mae: 0.0062\n",
      "Epoch 75/100\n",
      "112/112 [==============================] - 8s 69ms/step - loss: 5.1714e-05 - mae: 0.0057 - val_loss: 4.5121e-05 - val_mae: 0.0061\n",
      "Epoch 76/100\n",
      "112/112 [==============================] - 8s 69ms/step - loss: 5.0994e-05 - mae: 0.0055 - val_loss: 1.1592e-05 - val_mae: 0.0023\n",
      "Epoch 77/100\n",
      "112/112 [==============================] - 8s 67ms/step - loss: 5.0884e-05 - mae: 0.0056 - val_loss: 1.4142e-05 - val_mae: 0.0028\n",
      "Epoch 78/100\n",
      "112/112 [==============================] - 8s 69ms/step - loss: 5.0069e-05 - mae: 0.0057 - val_loss: 3.1662e-05 - val_mae: 0.0049\n",
      "Epoch 79/100\n",
      "112/112 [==============================] - 8s 69ms/step - loss: 5.2286e-05 - mae: 0.0059 - val_loss: 7.2488e-05 - val_mae: 0.0076\n",
      "Epoch 80/100\n",
      "112/112 [==============================] - 8s 69ms/step - loss: 5.0864e-05 - mae: 0.0058 - val_loss: 4.0597e-05 - val_mae: 0.0057\n",
      "Epoch 81/100\n",
      "112/112 [==============================] - 8s 70ms/step - loss: 4.9877e-05 - mae: 0.0055 - val_loss: 4.0530e-05 - val_mae: 0.0057\n",
      "Epoch 82/100\n",
      "112/112 [==============================] - 8s 70ms/step - loss: 4.8222e-05 - mae: 0.0055 - val_loss: 6.7409e-05 - val_mae: 0.0071\n",
      "Epoch 83/100\n",
      "112/112 [==============================] - 8s 68ms/step - loss: 5.0130e-05 - mae: 0.0055 - val_loss: 2.8738e-05 - val_mae: 0.0044\n",
      "Epoch 84/100\n",
      "112/112 [==============================] - 8s 69ms/step - loss: 4.7576e-05 - mae: 0.0055 - val_loss: 4.2532e-05 - val_mae: 0.0055\n",
      "Epoch 85/100\n",
      "112/112 [==============================] - 8s 69ms/step - loss: 4.9346e-05 - mae: 0.0055 - val_loss: 1.8262e-04 - val_mae: 0.0132\n",
      "Epoch 86/100\n",
      "112/112 [==============================] - 8s 67ms/step - loss: 4.8362e-05 - mae: 0.0055 - val_loss: 1.3417e-05 - val_mae: 0.0027\n",
      "Epoch 87/100\n",
      "112/112 [==============================] - 8s 69ms/step - loss: 4.6022e-05 - mae: 0.0053 - val_loss: 8.1222e-05 - val_mae: 0.0077\n",
      "Epoch 88/100\n",
      "112/112 [==============================] - 8s 69ms/step - loss: 4.6889e-05 - mae: 0.0054 - val_loss: 1.4339e-04 - val_mae: 0.0115\n",
      "Epoch 89/100\n",
      "112/112 [==============================] - 8s 69ms/step - loss: 4.6511e-05 - mae: 0.0053 - val_loss: 1.0183e-05 - val_mae: 0.0021\n",
      "Epoch 90/100\n",
      "112/112 [==============================] - 8s 68ms/step - loss: 4.7806e-05 - mae: 0.0056 - val_loss: 1.4651e-05 - val_mae: 0.0029\n",
      "Epoch 91/100\n",
      "112/112 [==============================] - 8s 71ms/step - loss: 4.7097e-05 - mae: 0.0055 - val_loss: 4.3018e-05 - val_mae: 0.0059\n",
      "Epoch 92/100\n",
      "112/112 [==============================] - 8s 69ms/step - loss: 4.6594e-05 - mae: 0.0055 - val_loss: 2.8507e-05 - val_mae: 0.0047\n",
      "Epoch 93/100\n",
      "112/112 [==============================] - 8s 73ms/step - loss: 4.5023e-05 - mae: 0.0053 - val_loss: 3.7918e-05 - val_mae: 0.0048\n",
      "Epoch 94/100\n",
      "112/112 [==============================] - 977s 9s/step - loss: 4.4057e-05 - mae: 0.0053 - val_loss: 9.5448e-05 - val_mae: 0.0088\n",
      "Epoch 95/100\n",
      "112/112 [==============================] - 9s 83ms/step - loss: 4.6045e-05 - mae: 0.0054 - val_loss: 2.4669e-05 - val_mae: 0.0042\n",
      "Epoch 96/100\n",
      "112/112 [==============================] - 8s 72ms/step - loss: 4.2033e-05 - mae: 0.0051 - val_loss: 3.5875e-05 - val_mae: 0.0053\n",
      "Epoch 97/100\n",
      "112/112 [==============================] - 8s 71ms/step - loss: 4.6974e-05 - mae: 0.0052 - val_loss: 4.8736e-05 - val_mae: 0.0062\n",
      "Epoch 98/100\n",
      "112/112 [==============================] - 8s 74ms/step - loss: 4.4722e-05 - mae: 0.0053 - val_loss: 6.8395e-05 - val_mae: 0.0077\n",
      "Epoch 99/100\n",
      "112/112 [==============================] - 8s 74ms/step - loss: 4.4362e-05 - mae: 0.0054 - val_loss: 8.7696e-05 - val_mae: 0.0090\n",
      "Epoch 100/100\n",
      "112/112 [==============================] - 8s 74ms/step - loss: 4.3574e-05 - mae: 0.0053 - val_loss: 3.0098e-05 - val_mae: 0.0048\n"
     ]
    },
    {
     "data": {
      "text/plain": [
       "<keras.callbacks.History at 0x7fce4447da60>"
      ]
     },
     "execution_count": 62,
     "metadata": {},
     "output_type": "execute_result"
    }
   ],
   "source": [
    "model.fit(X_train,y_train,epochs=100, batch_size=64, validation_split=0.3)"
   ]
  },
  {
   "cell_type": "markdown",
   "id": "b9644f9d",
   "metadata": {},
   "source": [
    "## create X_test & y_test"
   ]
  },
  {
   "cell_type": "code",
   "execution_count": 63,
   "id": "ce8af687",
   "metadata": {},
   "outputs": [],
   "source": [
    "#with the same window_size & horizon as the train data\n",
    "window_size = 72\n",
    "horizon = 1\n",
    "data_test_subsequences = []\n",
    "fake_y_test = []\n",
    "for k in range(len(data_test_scaled)-(window_size-1)-horizon):\n",
    "    data_test_subsequences.append(data_test_scaled[k:k+window_size])\n",
    "    fake_y_test.append(data_test_scaled[k+window_size])"
   ]
  },
  {
   "cell_type": "code",
   "execution_count": 64,
   "id": "c8e10c91",
   "metadata": {},
   "outputs": [],
   "source": [
    "X_test = np.array(data_test_subsequences)\n",
    "y_test = np.array(fake_y_test)[:,5:9]"
   ]
  },
  {
   "cell_type": "code",
   "execution_count": 65,
   "id": "9f4ee460",
   "metadata": {},
   "outputs": [
    {
     "name": "stdout",
     "output_type": "stream",
     "text": [
      "(2491, 72, 9)\n",
      "(2491, 4)\n"
     ]
    }
   ],
   "source": [
    "print(X_test.shape)\n",
    "print(y_test.shape)"
   ]
  },
  {
   "cell_type": "code",
   "execution_count": 66,
   "id": "acfb261f",
   "metadata": {},
   "outputs": [
    {
     "data": {
      "text/plain": [
       "array([[0.85024086, 0.83616346, 0.85139652, 0.83715705],\n",
       "       [0.85047587, 0.83621155, 0.85087353, 0.83638586],\n",
       "       [0.84665098, 0.83227498, 0.84608975, 0.83194026],\n",
       "       ...,\n",
       "       [1.16778191, 1.18278282, 1.16878968, 1.18383344],\n",
       "       [1.16816964, 1.18320951, 1.16886697, 1.1840262 ],\n",
       "       [1.16887779, 1.18372343, 1.1706065 , 1.18562641]])"
      ]
     },
     "execution_count": 66,
     "metadata": {},
     "output_type": "execute_result"
    }
   ],
   "source": [
    "y_test"
   ]
  },
  {
   "cell_type": "markdown",
   "id": "8ae132a7",
   "metadata": {},
   "source": [
    "### Predict "
   ]
  },
  {
   "cell_type": "code",
   "execution_count": 67,
   "id": "62d03777",
   "metadata": {},
   "outputs": [],
   "source": [
    "predictions = model.predict(X_test)"
   ]
  },
  {
   "cell_type": "code",
   "execution_count": 68,
   "id": "ae7b5b96",
   "metadata": {},
   "outputs": [],
   "source": [
    "y_pred = np.exp((predictions * range1 + min1))"
   ]
  },
  {
   "cell_type": "code",
   "execution_count": 69,
   "id": "55452083",
   "metadata": {},
   "outputs": [
    {
     "data": {
      "text/plain": [
       "array([[ 9431.04614013,  9503.03258839,  9356.11279486,  9433.00429133],\n",
       "       [ 9466.42694201,  9533.79118457,  9391.26824174,  9463.69535098],\n",
       "       [ 9433.82340518,  9504.82523326,  9358.88842586,  9434.82535031],\n",
       "       ...,\n",
       "       [32801.15064374, 23811.47327622, 21288.80468276, 45044.43177642],\n",
       "       [32867.84848112, 23905.6213008 , 21383.54706156, 45043.11042804],\n",
       "       [32872.02042161, 23958.81141017, 21439.03762542, 44963.82975532]])"
      ]
     },
     "execution_count": 69,
     "metadata": {},
     "output_type": "execute_result"
    }
   ],
   "source": [
    "y_pred"
   ]
  },
  {
   "cell_type": "code",
   "execution_count": 70,
   "id": "ea1e1732",
   "metadata": {},
   "outputs": [],
   "source": [
    "y_preda = predictions*range1 + min1"
   ]
  },
  {
   "cell_type": "code",
   "execution_count": 71,
   "id": "b6f354e7",
   "metadata": {},
   "outputs": [
    {
     "data": {
      "text/plain": [
       "array([[ 9431.04614013,  9503.03258839,  9356.11279486,  9433.00429133],\n",
       "       [ 9466.42694201,  9533.79118457,  9391.26824174,  9463.69535098],\n",
       "       [ 9433.82340518,  9504.82523326,  9358.88842586,  9434.82535031],\n",
       "       ...,\n",
       "       [32801.15064374, 23811.47327622, 21288.80468276, 45044.43177642],\n",
       "       [32867.84848112, 23905.6213008 , 21383.54706156, 45043.11042804],\n",
       "       [32872.02042161, 23958.81141017, 21439.03762542, 44963.82975532]])"
      ]
     },
     "execution_count": 71,
     "metadata": {},
     "output_type": "execute_result"
    }
   ],
   "source": [
    "np.exp(y_preda)"
   ]
  },
  {
   "cell_type": "code",
   "execution_count": 72,
   "id": "bc1d7f2b",
   "metadata": {},
   "outputs": [],
   "source": [
    "y_test_unscaled = np.exp((y_test * range1 + min1))"
   ]
  },
  {
   "cell_type": "code",
   "execution_count": 80,
   "id": "62d036fe",
   "metadata": {},
   "outputs": [
    {
     "data": {
      "image/png": "[encoded data removed]",
      "text/plain": [
       "<Figure size 1080x576 with 2 Axes>"
      ]
     },
     "metadata": {
      "needs_background": "light"
     },
     "output_type": "display_data"
    }
   ],
   "source": [
    "import matplotlib.pyplot as plt\n",
    "fig, axs = plt.subplots(1,2,figsize=(15,8))\n",
    "axs[0].plot(y_pred)\n",
    "axs[0].set_title(\"y_pred\")\n",
    "axs[1].plot(y_test_unscaled)\n",
    "axs[1].set_title(\"y_test\")\n",
    "plt.show()"
   ]
  },
  {
   "cell_type": "code",
   "execution_count": 73,
   "id": "4388bdf3",
   "metadata": {},
   "outputs": [
    {
     "data": {
      "text/plain": [
       "2491"
      ]
     },
     "execution_count": 73,
     "metadata": {},
     "output_type": "execute_result"
    }
   ],
   "source": [
    "len(y_pred)"
   ]
  },
  {
   "cell_type": "code",
   "execution_count": 74,
   "id": "12c89d4f",
   "metadata": {},
   "outputs": [
    {
     "data": {
      "text/plain": [
       "2491"
      ]
     },
     "execution_count": 74,
     "metadata": {},
     "output_type": "execute_result"
    }
   ],
   "source": [
    "len(y_test_unscaled)"
   ]
  },
  {
   "cell_type": "code",
   "execution_count": 75,
   "id": "6b49be4c",
   "metadata": {},
   "outputs": [
    {
     "data": {
      "text/plain": [
       "array([[ 9638.495 ,  9659.945 ,  9628.8875,  9645.0725],\n",
       "       [ 9649.365 ,  9661.99  ,  9604.7975,  9612.4425],\n",
       "       [ 9473.97  ,  9496.0275,  9387.2275,  9426.485 ],\n",
       "       ...,\n",
       "       [44198.0825, 44414.575 , 44034.7175, 44248.8275],\n",
       "       [44280.3475, 44498.065 , 44051.0225, 44286.3225],\n",
       "       [44430.99  , 44598.83  , 44419.58  , 44598.83  ]])"
      ]
     },
     "execution_count": 75,
     "metadata": {},
     "output_type": "execute_result"
    }
   ],
   "source": [
    "y_test_unscaled"
   ]
  },
  {
   "cell_type": "code",
   "execution_count": null,
   "id": "daba0f07",
   "metadata": {},
   "outputs": [],
   "source": [
    "y_pred.shape"
   ]
  },
  {
   "cell_type": "code",
   "execution_count": null,
   "id": "23ad7146",
   "metadata": {},
   "outputs": [],
   "source": [
    "np.mean(np.abs(y_test_unscaled - y_pred))"
   ]
  },
  {
   "cell_type": "code",
   "execution_count": null,
   "id": "295fe50f",
   "metadata": {},
   "outputs": [],
   "source": []
  }
 ],
 "metadata": {
  "kernelspec": {
   "display_name": "Python 3 (ipykernel)",
   "language": "python",
   "name": "python3"
  },
  "language_info": {
   "codemirror_mode": {
    "name": "ipython",
    "version": 3
   },
   "file_extension": ".py",
   "mimetype": "text/x-python",
   "name": "python",
   "nbconvert_exporter": "python",
   "pygments_lexer": "ipython3",
   "version": "3.8.6"
  },
  "toc": {
   "base_numbering": 1,
   "nav_menu": {},
   "number_sections": true,
   "sideBar": true,
   "skip_h1_title": false,
   "title_cell": "Table of Contents",
   "title_sidebar": "Contents",
   "toc_cell": false,
   "toc_position": {},
   "toc_section_display": true,
   "toc_window_display": false
  }
 },
 "nbformat": 4,
 "nbformat_minor": 5
}
