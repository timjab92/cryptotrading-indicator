{
 "cells": [
  {
   "cell_type": "code",
   "execution_count": 1,
   "id": "27386769",
   "metadata": {},
   "outputs": [
    {
     "name": "stderr",
     "output_type": "stream",
     "text": [
      "2021-08-26 11:41:36.126766: W tensorflow/stream_executor/platform/default/dso_loader.cc:64] Could not load dynamic library 'libcudart.so.11.0'; dlerror: libcudart.so.11.0: cannot open shared object file: No such file or directory\n",
      "2021-08-26 11:41:36.126799: I tensorflow/stream_executor/cuda/cudart_stub.cc:29] Ignore above cudart dlerror if you do not have a GPU set up on your machine.\n"
     ]
    }
   ],
   "source": [
    "import pandas as pd\n",
    "import numpy as np\n",
    "import requests\n",
    "from tensorflow.keras.models import Sequential\n",
    "from tensorflow.keras.layers import SimpleRNN, LSTM\n",
    "from tensorflow.keras import layers\n",
    "from tensorflow.keras.preprocessing.sequence import pad_sequences\n",
    "from tensorflow.keras.layers import Masking\n",
    "from sklearn.preprocessing import MinMaxScaler\n",
    "from tensorflow.keras.optimizers import RMSprop\n",
    "from tensorflow.keras.metrics import MAPE, MeanAbsoluteError\n",
    "from keras.callbacks import EarlyStopping\n",
    "from tensorflow.keras.layers.experimental.preprocessing import Normalization\n",
    "import tensorflow as tf "
   ]
  },
  {
   "cell_type": "code",
   "execution_count": null,
   "id": "87dd7ad2",
   "metadata": {},
   "outputs": [],
   "source": [
    "#data_gemini = pd.read_csv(\"../data/BTCUSD_4hours.csv\")"
   ]
  },
  {
   "cell_type": "code",
   "execution_count": null,
   "id": "929366c7",
   "metadata": {},
   "outputs": [],
   "source": [
    "#data_gemini = data_gemini.drop(columns=\"Unnamed: 0\").set_index(\"date\")"
   ]
  },
  {
   "cell_type": "markdown",
   "id": "d57f2a43",
   "metadata": {},
   "source": [
    "# Functions and Pipeline"
   ]
  },
  {
   "cell_type": "code",
   "execution_count": 188,
   "id": "296c8a2d",
   "metadata": {},
   "outputs": [],
   "source": [
    "def get_train_data():\n",
    "    \"\"\"\n",
    "    Returns the raw training dataset for the price of bitcoin since 31.12.2011. The index is set to the date.\n",
    "    \"\"\"\n",
    "    data = pd.read_csv(\"../data/BTCUSD_4hours.csv\")\n",
    "    data_train = data.drop(columns=\"Unnamed: 0\").set_index(\"date\")\n",
    "    return data_train\n",
    "\n",
    "def add_ema(data, tspan=[12,26,20,50,34,55]):\n",
    "    \"\"\"\n",
    "    Adds Exponential Moving Averages (EMA) to the dataframe. The default timeframes are 12,26,20,50,34 and 55.\n",
    "    \"\"\"\n",
    "    for t in tspan:\n",
    "        data[f'ema{t}'] = data.log_close.ewm(span=t).mean()\n",
    "    return data\n",
    "\n",
    "def computeRSI (data, window=14):\n",
    "    \"\"\"\n",
    "    Computes the Relative Stregth Index for a given dataset and the window can be defined. Its default value is 14.\n",
    "    \"\"\"\n",
    "    diff = data.diff(1).dropna()        # diff in one field(one day)\n",
    "\n",
    "    #this preservers dimensions off diff values\n",
    "    up_chg = 0 * diff\n",
    "    down_chg = 0 * diff\n",
    "    \n",
    "    # up change is equal to the positive difference, otherwise equal to zero\n",
    "    up_chg[diff > 0] = diff[ diff>0 ]\n",
    "    # down change is equal to negative deifference, otherwise equal to zero\n",
    "    down_chg[diff < 0] = diff[ diff < 0 ]\n",
    "    \n",
    "    # check pandas documentation for ewm\n",
    "    # https://pandas.pydata.org/pandas-docs/stable/reference/api/pandas.DataFrame.ewm.html\n",
    "    # values are related to exponential decay\n",
    "    # we set com=window-1 so we get decay alpha=1/window\n",
    "    up_chg_avg   = up_chg.ewm(com=window-1 , min_periods=window).mean()\n",
    "    down_chg_avg = down_chg.ewm(com=window-1 , min_periods=window).mean()\n",
    "    \n",
    "    rs = abs(up_chg_avg/down_chg_avg)\n",
    "    rsi = 100 - 100/(1+rs)\n",
    "    return rsi\n",
    "\n",
    "def stoch_rsi(rsi, d_window=3, k_window=3, window=14):\n",
    "    \"\"\"\n",
    "    Computes the stochastic RSI. Default values are d=3, k=3, window=14.\n",
    "    \"\"\"\n",
    "    minrsi = rsi.rolling(window=window, center=False).min()\n",
    "    maxrsi = rsi.rolling(window=window, center=False).max()\n",
    "    stoch = ((rsi - minrsi) / (maxrsi - minrsi)) * 100\n",
    "    K = stoch.rolling(window=k_window, center=False).mean()\n",
    "    D = K.rolling(window=d_window, center=False).mean() \n",
    "    return K, D  \n",
    "\n",
    "\n",
    "def add_stoch_rsi(data, d_window=3, k_window=3, window=14):\n",
    "    data['rsi'] = computeRSI(data['log_close'], window)\n",
    "    data['K'], data['D'] = stoch_rsi(data['rsi'], d_window, k_window, window)\n",
    "    return data\n",
    "\n",
    "def get_bollinger_bands(prices, rate=20):\n",
    "    sma = prices.rolling(rate).mean() # <-- Get SMA for 20 days\n",
    "    std = prices.rolling(rate).std() # <-- Get rolling standard deviation for 20 days\n",
    "    bollinger_up = sma + std * 2 # Calculate top band\n",
    "    bollinger_down = sma - std * 2 # Calculate bottom band\n",
    "    return sma, bollinger_up, bollinger_down\n",
    "\n",
    "def add_bollinger(data, prices, rate=20):\n",
    "    data['sma'], data['bollinger_up'], data['bollinger_down'] = get_bollinger_bands(prices)\n",
    "    return data\n",
    "\n",
    "def add_vol_roc(data):\n",
    "    data['vol_roc'] = data.volume.pct_change()\n",
    "    return data\n"
   ]
  },
  {
   "cell_type": "code",
   "execution_count": 189,
   "id": "7cfcc8e9",
   "metadata": {},
   "outputs": [],
   "source": [
    "# #Feature engineering Pipeline\n",
    "# data = get_train_data()\n",
    "# add_ema(data)\n",
    "# add_stoch_rsi(data)\n",
    "# add_bollinger(data,data.log_close)\n",
    "# add_vol_roc(data)"
   ]
  },
  {
   "cell_type": "code",
   "execution_count": 196,
   "id": "121ad041",
   "metadata": {},
   "outputs": [],
   "source": [
    "def feature_engineer(data):\n",
    "    \"\"\"\n",
    "    Adds the EMAs, StochRSI, BollingerBands and Volume Rate of Change to the dataframe\n",
    "    \"\"\"\n",
    "    add_ema(data)\n",
    "    add_stoch_rsi(data)\n",
    "    add_bollinger(data,data.log_close)\n",
    "    add_vol_roc(data)\n",
    "    data = data.copy()\n",
    "    data = data.dropna()\n",
    "    data.drop(index=[\"2012-01-10 20:00:00\"], axis = 0,inplace=True)\n",
    "    return data\n",
    "\n",
    "def minmaxscaling(data_train):\n",
    "    minmax_scaler = MinMaxScaler(feature_range = (0,1))\n",
    "    minmax_scaler.fit(data_train)\n",
    "    data_train_scaled = minmax_scaler.transform(data_train)\n",
    "    min1 = minmax_scaler.data_min_ # [5:9] for log_prices\n",
    "    range1 = minmax_scaler.data_range_ #[5:9]\n",
    "    return data_train_scaled, min1, range1\n",
    "\n",
    "def create_xy(data_train_scaled,window_size=72, horizon=1):\n",
    "    data_train_subsequences = []\n",
    "    fake_y_train = []\n",
    "    for k in range(len(data_train_scaled)-(window_size-1)-horizon):\n",
    "        data_train_subsequences.append(data_train_scaled[k:k+window_size])\n",
    "        fake_y_train.append(data_train_scaled[k+window_size])\n",
    "    X_train = np.array(data_train_subsequences)\n",
    "    y_train = np.array(fake_y_train) #[:,5:9]\n",
    "    return X_train, y_train"
   ]
  },
  {
   "cell_type": "code",
   "execution_count": 197,
   "id": "a60b99e2",
   "metadata": {},
   "outputs": [],
   "source": [
    "data = get_train_data()\n",
    "feature_engineer(data)\n",
    "data, min1, range1 = minmaxscaling(data)\n",
    "X_train, y_train = create_xy(data)"
   ]
  },
  {
   "cell_type": "code",
   "execution_count": 202,
   "id": "09a01fe4",
   "metadata": {},
   "outputs": [
    {
     "name": "stdout",
     "output_type": "stream",
     "text": [
      "X_train (20768, 72, 22), y_train (20768, 22)\n"
     ]
    }
   ],
   "source": [
    "print(f\"X_train {X_train.shape}, y_train {y_train.shape}\")"
   ]
  },
  {
   "cell_type": "code",
   "execution_count": null,
   "id": "820571f0",
   "metadata": {},
   "outputs": [],
   "source": [
    "(16574, 72, 1)\n",
    "(16574, 1)"
   ]
  },
  {
   "cell_type": "code",
   "execution_count": 151,
   "id": "49b1edd4",
   "metadata": {},
   "outputs": [],
   "source": [
    "# data_gemini = data.copy()\n",
    "# data_gemini = data_gemini.dropna()\n",
    "# data_gemini.drop(index=[\"2012-01-10 20:00:00\"], axis = 0,inplace=True)"
   ]
  },
  {
   "cell_type": "markdown",
   "id": "74cc44c6",
   "metadata": {},
   "source": [
    "# test"
   ]
  },
  {
   "cell_type": "code",
   "execution_count": 117,
   "id": "4ce71ae6",
   "metadata": {},
   "outputs": [],
   "source": [
    "data_gemini = pd.read_csv(\"../raw_data/gemini_BTCUSD_1hr.csv\")\n",
    "\n",
    "\n",
    "data_gemini.index\n",
    "data_gemini.reset_index(inplace=True)\n",
    "column_names=['Unix Timestamp','Date','Symbol','Open','High','Low','Close','Volume']\n",
    "data_gemini.columns = column_names\n",
    "df_gemini = data_gemini.iloc[1:].copy()\n",
    "\n",
    "#transform to datetime\n",
    "df_gemini['Date'] = pd.to_datetime(df_gemini['Date'])\n",
    "\n",
    "#transform numerics into floats\n",
    "numerics = ['Open','High','Low','Close','Volume']\n",
    "for k in numerics:\n",
    "    df_gemini[k] = pd.to_numeric(df_gemini[k])\n",
    "    \n",
    "#set date to index \n",
    "df_gemini = df_gemini.set_index('Date')\n",
    "\n",
    "df_gemini = df_gemini.drop(columns=['Unix Timestamp', 'Symbol'])"
   ]
  },
  {
   "cell_type": "code",
   "execution_count": 118,
   "id": "a8f81bc7",
   "metadata": {},
   "outputs": [],
   "source": [
    "data_gemini = df_gemini.resample(\"4H\").mean()\n",
    "\n",
    "for x in ['Open', 'High', 'Low', 'Close']:\n",
    "    data_gemini[f'log_{x}'] = data_gemini[x].apply(lambda x: np.log(x))"
   ]
  },
  {
   "cell_type": "code",
   "execution_count": 119,
   "id": "d3f5c528",
   "metadata": {},
   "outputs": [
    {
     "data": {
      "text/html": [
       "<div>\n",
       "<style scoped>\n",
       "    .dataframe tbody tr th:only-of-type {\n",
       "        vertical-align: middle;\n",
       "    }\n",
       "\n",
       "    .dataframe tbody tr th {\n",
       "        vertical-align: top;\n",
       "    }\n",
       "\n",
       "    .dataframe thead th {\n",
       "        text-align: right;\n",
       "    }\n",
       "</style>\n",
       "<table border=\"1\" class=\"dataframe\">\n",
       "  <thead>\n",
       "    <tr style=\"text-align: right;\">\n",
       "      <th></th>\n",
       "      <th>Open</th>\n",
       "      <th>High</th>\n",
       "      <th>Low</th>\n",
       "      <th>Close</th>\n",
       "      <th>Volume</th>\n",
       "      <th>log_Open</th>\n",
       "      <th>log_High</th>\n",
       "      <th>log_Low</th>\n",
       "      <th>log_Close</th>\n",
       "    </tr>\n",
       "    <tr>\n",
       "      <th>Date</th>\n",
       "      <th></th>\n",
       "      <th></th>\n",
       "      <th></th>\n",
       "      <th></th>\n",
       "      <th></th>\n",
       "      <th></th>\n",
       "      <th></th>\n",
       "      <th></th>\n",
       "      <th></th>\n",
       "    </tr>\n",
       "  </thead>\n",
       "  <tbody>\n",
       "    <tr>\n",
       "      <th>2015-10-08 12:00:00</th>\n",
       "      <td>163.333333</td>\n",
       "      <td>245.0000</td>\n",
       "      <td>163.1400</td>\n",
       "      <td>244.973333</td>\n",
       "      <td>2.692410</td>\n",
       "      <td>5.095793</td>\n",
       "      <td>5.501258</td>\n",
       "      <td>5.094609</td>\n",
       "      <td>5.501149</td>\n",
       "    </tr>\n",
       "    <tr>\n",
       "      <th>2015-10-08 16:00:00</th>\n",
       "      <td>244.540000</td>\n",
       "      <td>244.7250</td>\n",
       "      <td>244.0675</td>\n",
       "      <td>244.310000</td>\n",
       "      <td>3.259453</td>\n",
       "      <td>5.499379</td>\n",
       "      <td>5.500135</td>\n",
       "      <td>5.497445</td>\n",
       "      <td>5.498438</td>\n",
       "    </tr>\n",
       "    <tr>\n",
       "      <th>2015-10-08 20:00:00</th>\n",
       "      <td>243.975000</td>\n",
       "      <td>243.9875</td>\n",
       "      <td>243.7675</td>\n",
       "      <td>243.962500</td>\n",
       "      <td>2.659915</td>\n",
       "      <td>5.497066</td>\n",
       "      <td>5.497117</td>\n",
       "      <td>5.496215</td>\n",
       "      <td>5.497015</td>\n",
       "    </tr>\n",
       "    <tr>\n",
       "      <th>2015-10-09 00:00:00</th>\n",
       "      <td>243.687500</td>\n",
       "      <td>243.6875</td>\n",
       "      <td>243.6000</td>\n",
       "      <td>243.600000</td>\n",
       "      <td>0.750000</td>\n",
       "      <td>5.495887</td>\n",
       "      <td>5.495887</td>\n",
       "      <td>5.495528</td>\n",
       "      <td>5.495528</td>\n",
       "    </tr>\n",
       "    <tr>\n",
       "      <th>2015-10-09 04:00:00</th>\n",
       "      <td>243.600000</td>\n",
       "      <td>243.6000</td>\n",
       "      <td>243.6000</td>\n",
       "      <td>243.600000</td>\n",
       "      <td>0.000000</td>\n",
       "      <td>5.495528</td>\n",
       "      <td>5.495528</td>\n",
       "      <td>5.495528</td>\n",
       "      <td>5.495528</td>\n",
       "    </tr>\n",
       "    <tr>\n",
       "      <th>...</th>\n",
       "      <td>...</td>\n",
       "      <td>...</td>\n",
       "      <td>...</td>\n",
       "      <td>...</td>\n",
       "      <td>...</td>\n",
       "      <td>...</td>\n",
       "      <td>...</td>\n",
       "      <td>...</td>\n",
       "      <td>...</td>\n",
       "    </tr>\n",
       "    <tr>\n",
       "      <th>2021-08-12 08:00:00</th>\n",
       "      <td>45323.657500</td>\n",
       "      <td>45529.0675</td>\n",
       "      <td>44998.1425</td>\n",
       "      <td>45190.977500</td>\n",
       "      <td>69.830994</td>\n",
       "      <td>10.721584</td>\n",
       "      <td>10.726106</td>\n",
       "      <td>10.714376</td>\n",
       "      <td>10.718653</td>\n",
       "    </tr>\n",
       "    <tr>\n",
       "      <th>2021-08-12 12:00:00</th>\n",
       "      <td>44491.795000</td>\n",
       "      <td>44643.4775</td>\n",
       "      <td>44186.6725</td>\n",
       "      <td>44353.090000</td>\n",
       "      <td>114.602881</td>\n",
       "      <td>10.703060</td>\n",
       "      <td>10.706463</td>\n",
       "      <td>10.696178</td>\n",
       "      <td>10.699938</td>\n",
       "    </tr>\n",
       "    <tr>\n",
       "      <th>2021-08-12 16:00:00</th>\n",
       "      <td>44198.082500</td>\n",
       "      <td>44414.5750</td>\n",
       "      <td>44034.7175</td>\n",
       "      <td>44248.827500</td>\n",
       "      <td>84.168365</td>\n",
       "      <td>10.696437</td>\n",
       "      <td>10.701323</td>\n",
       "      <td>10.692734</td>\n",
       "      <td>10.697584</td>\n",
       "    </tr>\n",
       "    <tr>\n",
       "      <th>2021-08-12 20:00:00</th>\n",
       "      <td>44280.347500</td>\n",
       "      <td>44498.0650</td>\n",
       "      <td>44051.0225</td>\n",
       "      <td>44286.322500</td>\n",
       "      <td>61.694263</td>\n",
       "      <td>10.698296</td>\n",
       "      <td>10.703201</td>\n",
       "      <td>10.693104</td>\n",
       "      <td>10.698431</td>\n",
       "    </tr>\n",
       "    <tr>\n",
       "      <th>2021-08-13 00:00:00</th>\n",
       "      <td>44430.990000</td>\n",
       "      <td>44598.8300</td>\n",
       "      <td>44419.5800</td>\n",
       "      <td>44598.830000</td>\n",
       "      <td>2.108743</td>\n",
       "      <td>10.701692</td>\n",
       "      <td>10.705463</td>\n",
       "      <td>10.701436</td>\n",
       "      <td>10.705463</td>\n",
       "    </tr>\n",
       "  </tbody>\n",
       "</table>\n",
       "<p>12814 rows × 9 columns</p>\n",
       "</div>"
      ],
      "text/plain": [
       "                             Open        High         Low         Close  \\\n",
       "Date                                                                      \n",
       "2015-10-08 12:00:00    163.333333    245.0000    163.1400    244.973333   \n",
       "2015-10-08 16:00:00    244.540000    244.7250    244.0675    244.310000   \n",
       "2015-10-08 20:00:00    243.975000    243.9875    243.7675    243.962500   \n",
       "2015-10-09 00:00:00    243.687500    243.6875    243.6000    243.600000   \n",
       "2015-10-09 04:00:00    243.600000    243.6000    243.6000    243.600000   \n",
       "...                           ...         ...         ...           ...   \n",
       "2021-08-12 08:00:00  45323.657500  45529.0675  44998.1425  45190.977500   \n",
       "2021-08-12 12:00:00  44491.795000  44643.4775  44186.6725  44353.090000   \n",
       "2021-08-12 16:00:00  44198.082500  44414.5750  44034.7175  44248.827500   \n",
       "2021-08-12 20:00:00  44280.347500  44498.0650  44051.0225  44286.322500   \n",
       "2021-08-13 00:00:00  44430.990000  44598.8300  44419.5800  44598.830000   \n",
       "\n",
       "                         Volume   log_Open   log_High    log_Low  log_Close  \n",
       "Date                                                                         \n",
       "2015-10-08 12:00:00    2.692410   5.095793   5.501258   5.094609   5.501149  \n",
       "2015-10-08 16:00:00    3.259453   5.499379   5.500135   5.497445   5.498438  \n",
       "2015-10-08 20:00:00    2.659915   5.497066   5.497117   5.496215   5.497015  \n",
       "2015-10-09 00:00:00    0.750000   5.495887   5.495887   5.495528   5.495528  \n",
       "2015-10-09 04:00:00    0.000000   5.495528   5.495528   5.495528   5.495528  \n",
       "...                         ...        ...        ...        ...        ...  \n",
       "2021-08-12 08:00:00   69.830994  10.721584  10.726106  10.714376  10.718653  \n",
       "2021-08-12 12:00:00  114.602881  10.703060  10.706463  10.696178  10.699938  \n",
       "2021-08-12 16:00:00   84.168365  10.696437  10.701323  10.692734  10.697584  \n",
       "2021-08-12 20:00:00   61.694263  10.698296  10.703201  10.693104  10.698431  \n",
       "2021-08-13 00:00:00    2.108743  10.701692  10.705463  10.701436  10.705463  \n",
       "\n",
       "[12814 rows x 9 columns]"
      ]
     },
     "execution_count": 119,
     "metadata": {},
     "output_type": "execute_result"
    }
   ],
   "source": [
    "data_gemini"
   ]
  },
  {
   "cell_type": "markdown",
   "id": "3313545b",
   "metadata": {},
   "source": [
    "### Temporal Train-Test Split"
   ]
  },
  {
   "cell_type": "code",
   "execution_count": 155,
   "id": "d4fcc535",
   "metadata": {},
   "outputs": [
    {
     "data": {
      "text/plain": [
       "Index(['open', 'high', 'low', 'close', 'volume', 'log_open', 'log_high',\n",
       "       'log_low', 'log_close', 'ema12', 'ema26', 'ema20', 'ema50', 'ema34',\n",
       "       'ema55', 'rsi', 'K', 'D', 'sma', 'bollinger_up', 'bollinger_down',\n",
       "       'vol_roc'],\n",
       "      dtype='object')"
      ]
     },
     "execution_count": 155,
     "metadata": {},
     "output_type": "execute_result"
    }
   ],
   "source": [
    "data_gemini.keys()"
   ]
  },
  {
   "cell_type": "code",
   "execution_count": 156,
   "id": "1dc50e06",
   "metadata": {},
   "outputs": [],
   "source": [
    "data_gemini.drop(columns=['open', 'high', 'low', 'close', 'volume', 'log_open', 'log_high',\n",
    "       'log_low', 'ema12', 'ema26', 'ema20', 'ema50', 'ema34',\n",
    "       'ema55', 'rsi', 'K', 'D', 'sma', 'bollinger_up', 'bollinger_down',\n",
    "       'vol_roc'], inplace=True)"
   ]
  },
  {
   "cell_type": "code",
   "execution_count": 157,
   "id": "aa1ba19f",
   "metadata": {},
   "outputs": [],
   "source": [
    "train_percentage = 80"
   ]
  },
  {
   "cell_type": "code",
   "execution_count": 158,
   "id": "5a161e45",
   "metadata": {},
   "outputs": [
    {
     "data": {
      "text/plain": [
       "16646"
      ]
     },
     "execution_count": 158,
     "metadata": {},
     "output_type": "execute_result"
    }
   ],
   "source": [
    "train_len = int(len(data_gemini) * train_percentage/100)\n",
    "train_len"
   ]
  },
  {
   "cell_type": "code",
   "execution_count": 159,
   "id": "7949028b",
   "metadata": {},
   "outputs": [],
   "source": [
    "data_train = data_gemini[:train_len]\n",
    "data_test = data_gemini[train_len:]"
   ]
  },
  {
   "cell_type": "code",
   "execution_count": 160,
   "id": "e039ab9b",
   "metadata": {},
   "outputs": [
    {
     "name": "stdout",
     "output_type": "stream",
     "text": [
      "(16646, 1)\n",
      "(4162, 1)\n"
     ]
    }
   ],
   "source": [
    "print(data_train.shape)\n",
    "print(data_test.shape)"
   ]
  },
  {
   "cell_type": "markdown",
   "id": "bbe96ceb",
   "metadata": {},
   "source": [
    "### scaling"
   ]
  },
  {
   "cell_type": "code",
   "execution_count": 161,
   "id": "3d03b72e",
   "metadata": {},
   "outputs": [],
   "source": [
    "from sklearn.preprocessing import MinMaxScaler\n",
    "\n",
    "minmax_scaler = MinMaxScaler(feature_range = (0,1))\n",
    "\n",
    "minmax_scaler.fit(data_train)\n",
    "\n",
    "data_train_scaled = minmax_scaler.transform(data_train)\n",
    "data_test_scaled = minmax_scaler.transform(data_test)"
   ]
  },
  {
   "cell_type": "code",
   "execution_count": 162,
   "id": "a4426cb4",
   "metadata": {},
   "outputs": [
    {
     "data": {
      "text/plain": [
       "array([1.44133982])"
      ]
     },
     "execution_count": 162,
     "metadata": {},
     "output_type": "execute_result"
    }
   ],
   "source": [
    "min1 = minmax_scaler.data_min_ #[5:9]\n",
    "min1"
   ]
  },
  {
   "cell_type": "code",
   "execution_count": 163,
   "id": "ad5445e7",
   "metadata": {},
   "outputs": [
    {
     "data": {
      "text/plain": [
       "array([8.43679108])"
      ]
     },
     "execution_count": 163,
     "metadata": {},
     "output_type": "execute_result"
    }
   ],
   "source": [
    "range1 = minmax_scaler.data_range_ #[5:9]\n",
    "range1"
   ]
  },
  {
   "cell_type": "markdown",
   "id": "c312dc30",
   "metadata": {},
   "source": [
    "## Basic Model"
   ]
  },
  {
   "cell_type": "markdown",
   "id": "9f692d34",
   "metadata": {},
   "source": [
    "### create x and y array"
   ]
  },
  {
   "cell_type": "code",
   "execution_count": 164,
   "id": "8db82a1f",
   "metadata": {},
   "outputs": [],
   "source": [
    "window_size = 72 #because we want to base our prediction on 3 weeks (72*4 hours)\n",
    "horizon = 1 #number of predictions into the future :) \n",
    "data_train_subsequences = []\n",
    "fake_y_train = []\n",
    "for k in range(len(data_train_scaled)-(window_size-1)-horizon):\n",
    "    data_train_subsequences.append(data_train_scaled[k:k+window_size])\n",
    "    fake_y_train.append(data_train_scaled[k+window_size])"
   ]
  },
  {
   "cell_type": "code",
   "execution_count": 165,
   "id": "623dd43b",
   "metadata": {},
   "outputs": [
    {
     "data": {
      "text/plain": [
       "16574"
      ]
     },
     "execution_count": 165,
     "metadata": {},
     "output_type": "execute_result"
    }
   ],
   "source": [
    "len(data_train_subsequences)"
   ]
  },
  {
   "cell_type": "code",
   "execution_count": 166,
   "id": "cc2decb8",
   "metadata": {},
   "outputs": [
    {
     "data": {
      "text/plain": [
       "16574"
      ]
     },
     "execution_count": 166,
     "metadata": {},
     "output_type": "execute_result"
    }
   ],
   "source": [
    "len(fake_y_train)"
   ]
  },
  {
   "cell_type": "code",
   "execution_count": 167,
   "id": "979a5719",
   "metadata": {},
   "outputs": [],
   "source": [
    "X_train = np.array(data_train_subsequences)\n",
    "y_train = np.array(fake_y_train) #[:,5:9]"
   ]
  },
  {
   "cell_type": "code",
   "execution_count": 168,
   "id": "29c432e5",
   "metadata": {},
   "outputs": [
    {
     "name": "stdout",
     "output_type": "stream",
     "text": [
      "(16574, 72, 1)\n",
      "(16574, 1)\n"
     ]
    }
   ],
   "source": [
    "print(X_train.shape)\n",
    "print(y_train.shape)"
   ]
  },
  {
   "cell_type": "code",
   "execution_count": 169,
   "id": "9e68ba0c",
   "metadata": {},
   "outputs": [
    {
     "data": {
      "text/plain": [
       "array([[[0.06026941],\n",
       "        [0.06323924],\n",
       "        [0.05895322],\n",
       "        ...,\n",
       "        [0.03934152],\n",
       "        [0.04465406],\n",
       "        [0.04498708]],\n",
       "\n",
       "       [[0.06323924],\n",
       "        [0.05895322],\n",
       "        [0.05980595],\n",
       "        ...,\n",
       "        [0.04465406],\n",
       "        [0.04498708],\n",
       "        [0.04561419]],\n",
       "\n",
       "       [[0.05895322],\n",
       "        [0.05980595],\n",
       "        [0.05895628],\n",
       "        ...,\n",
       "        [0.04498708],\n",
       "        [0.04561419],\n",
       "        [0.04541651]],\n",
       "\n",
       "       ...,\n",
       "\n",
       "       [[0.92350341],\n",
       "        [0.92307521],\n",
       "        [0.92303422],\n",
       "        ...,\n",
       "        [0.89585561],\n",
       "        [0.89660678],\n",
       "        [0.89700312]],\n",
       "\n",
       "       [[0.92307521],\n",
       "        [0.92303422],\n",
       "        [0.92345363],\n",
       "        ...,\n",
       "        [0.89660678],\n",
       "        [0.89700312],\n",
       "        [0.89659783]],\n",
       "\n",
       "       [[0.92303422],\n",
       "        [0.92345363],\n",
       "        [0.92366228],\n",
       "        ...,\n",
       "        [0.89700312],\n",
       "        [0.89659783],\n",
       "        [0.89599154]]])"
      ]
     },
     "execution_count": 169,
     "metadata": {},
     "output_type": "execute_result"
    }
   ],
   "source": [
    "X_train"
   ]
  },
  {
   "cell_type": "code",
   "execution_count": 170,
   "id": "a0b878dc",
   "metadata": {},
   "outputs": [
    {
     "data": {
      "text/plain": [
       "array([[0.04561419],\n",
       "       [0.04541651],\n",
       "       [0.04621532],\n",
       "       ...,\n",
       "       [0.89659783],\n",
       "       [0.89599154],\n",
       "       [0.89520348]])"
      ]
     },
     "execution_count": 170,
     "metadata": {},
     "output_type": "execute_result"
    }
   ],
   "source": [
    "y_train"
   ]
  },
  {
   "cell_type": "markdown",
   "id": "7fad1510",
   "metadata": {},
   "source": [
    "### Initialize a model & set layers"
   ]
  },
  {
   "cell_type": "code",
   "execution_count": 171,
   "id": "e95e3a54",
   "metadata": {},
   "outputs": [
    {
     "name": "stdout",
     "output_type": "stream",
     "text": [
      "Model: \"sequential_5\"\n",
      "_________________________________________________________________\n",
      "Layer (type)                 Output Shape              Param #   \n",
      "=================================================================\n",
      "lstm_10 (LSTM)               (None, 72, 16)            1152      \n",
      "_________________________________________________________________\n",
      "lstm_11 (LSTM)               (None, 12)                1392      \n",
      "_________________________________________________________________\n",
      "dense_10 (Dense)             (None, 10)                130       \n",
      "_________________________________________________________________\n",
      "dense_11 (Dense)             (None, 1)                 11        \n",
      "=================================================================\n",
      "Total params: 2,685\n",
      "Trainable params: 2,685\n",
      "Non-trainable params: 0\n",
      "_________________________________________________________________\n"
     ]
    }
   ],
   "source": [
    "# Initialize a model, add a masking layer,LSTM,Dense Layers \n",
    "model = Sequential()\n",
    "#model.add(normalizer)\n",
    "#model.add(layers.Masking(mask_value=-1))\n",
    "model.add(layers.LSTM(units=16, activation='tanh',input_shape = X_train[0].shape, return_sequences = True)) # first run 64 units\n",
    "model.add(layers.LSTM(units=12,return_sequences = False, activation = \"tanh\"))\n",
    "model.add(layers.Dense(10, activation='relu'))\n",
    "model.add(layers.Dense(1, activation=\"relu\"))  #output == number of features\n",
    "\n",
    "model.summary()\n"
   ]
  },
  {
   "cell_type": "markdown",
   "id": "4e50888a",
   "metadata": {},
   "source": [
    "### Compile Model \n"
   ]
  },
  {
   "cell_type": "code",
   "execution_count": 172,
   "id": "91d66251",
   "metadata": {},
   "outputs": [],
   "source": [
    "# later add: es = EarlyStopping(patience=3, restore_best_weights=True)\n",
    "\n",
    "model.compile(optimizer='rmsprop', loss=\"mse\", metrics=\"mae\")"
   ]
  },
  {
   "cell_type": "markdown",
   "id": "e3691b65",
   "metadata": {},
   "source": [
    "### Fit Model"
   ]
  },
  {
   "cell_type": "code",
   "execution_count": 173,
   "id": "0042c74f",
   "metadata": {},
   "outputs": [],
   "source": [
    "from tensorflow.keras.callbacks import EarlyStopping\n",
    "es = EarlyStopping(patience=8, restore_best_weights=True)"
   ]
  },
  {
   "cell_type": "code",
   "execution_count": 174,
   "id": "6a9e51aa",
   "metadata": {},
   "outputs": [
    {
     "name": "stdout",
     "output_type": "stream",
     "text": [
      "Epoch 1/100\n",
      "208/208 [==============================] - 11s 45ms/step - loss: 0.3070 - mae: 0.5049 - val_loss: 0.7562 - val_mae: 0.8685\n",
      "Epoch 2/100\n",
      "208/208 [==============================] - 9s 44ms/step - loss: 0.3070 - mae: 0.5049 - val_loss: 0.7562 - val_mae: 0.8685\n",
      "Epoch 3/100\n",
      "208/208 [==============================] - 9s 44ms/step - loss: 0.3070 - mae: 0.5049 - val_loss: 0.7562 - val_mae: 0.8685\n",
      "Epoch 4/100\n",
      "208/208 [==============================] - 10s 46ms/step - loss: 0.3070 - mae: 0.5049 - val_loss: 0.7562 - val_mae: 0.8685\n",
      "Epoch 5/100\n",
      "208/208 [==============================] - 11s 55ms/step - loss: 0.3070 - mae: 0.5049 - val_loss: 0.7562 - val_mae: 0.8685\n",
      "Epoch 6/100\n",
      "208/208 [==============================] - 10s 48ms/step - loss: 0.3070 - mae: 0.5049 - val_loss: 0.7562 - val_mae: 0.8685\n",
      "Epoch 7/100\n",
      "208/208 [==============================] - 11s 52ms/step - loss: 0.3070 - mae: 0.5049 - val_loss: 0.7562 - val_mae: 0.8685\n",
      "Epoch 8/100\n",
      "208/208 [==============================] - 10s 47ms/step - loss: 0.3070 - mae: 0.5049 - val_loss: 0.7562 - val_mae: 0.8685\n",
      "Epoch 9/100\n",
      "208/208 [==============================] - 10s 47ms/step - loss: 0.3070 - mae: 0.5049 - val_loss: 0.7562 - val_mae: 0.8685\n"
     ]
    },
    {
     "data": {
      "text/plain": [
       "<keras.callbacks.History at 0x7f9b94ff25b0>"
      ]
     },
     "execution_count": 174,
     "metadata": {},
     "output_type": "execute_result"
    }
   ],
   "source": [
    "model.fit(X_train,y_train,epochs=100, batch_size=64, validation_split=0.2, callbacks=[es])"
   ]
  },
  {
   "cell_type": "markdown",
   "id": "b9644f9d",
   "metadata": {},
   "source": [
    "## create X_test & y_test"
   ]
  },
  {
   "cell_type": "code",
   "execution_count": 175,
   "id": "ce8af687",
   "metadata": {},
   "outputs": [],
   "source": [
    "#with the same window_size & horizon as the train data\n",
    "window_size = 72\n",
    "horizon = 1\n",
    "data_test_subsequences = []\n",
    "fake_y_test = []\n",
    "for k in range(len(data_test_scaled)-(window_size-1)-horizon):\n",
    "    data_test_subsequences.append(data_test_scaled[k:k+window_size])\n",
    "    fake_y_test.append(data_test_scaled[k+window_size])"
   ]
  },
  {
   "cell_type": "code",
   "execution_count": 176,
   "id": "c8e10c91",
   "metadata": {},
   "outputs": [],
   "source": [
    "X_test = np.array(data_test_subsequences)\n",
    "y_test = np.array(fake_y_test) #[:,5:9]"
   ]
  },
  {
   "cell_type": "code",
   "execution_count": 177,
   "id": "9f4ee460",
   "metadata": {},
   "outputs": [
    {
     "name": "stdout",
     "output_type": "stream",
     "text": [
      "(4090, 72, 1)\n",
      "(4090, 1)\n"
     ]
    }
   ],
   "source": [
    "print(X_test.shape)\n",
    "print(y_test.shape)"
   ]
  },
  {
   "cell_type": "code",
   "execution_count": 178,
   "id": "acfb261f",
   "metadata": {},
   "outputs": [
    {
     "data": {
      "text/plain": [
       "array([[0.89919776],\n",
       "       [0.89921206],\n",
       "       [0.89885577],\n",
       "       ...,\n",
       "       [1.10875337],\n",
       "       [1.11109402],\n",
       "       [1.11226782]])"
      ]
     },
     "execution_count": 178,
     "metadata": {},
     "output_type": "execute_result"
    }
   ],
   "source": [
    "y_test"
   ]
  },
  {
   "cell_type": "markdown",
   "id": "8ae132a7",
   "metadata": {},
   "source": [
    "### Predict "
   ]
  },
  {
   "cell_type": "code",
   "execution_count": 179,
   "id": "62d03777",
   "metadata": {},
   "outputs": [],
   "source": [
    "predictions = model.predict(X_test)"
   ]
  },
  {
   "cell_type": "code",
   "execution_count": 180,
   "id": "029aaffb",
   "metadata": {},
   "outputs": [
    {
     "data": {
      "text/plain": [
       "array([[0.],\n",
       "       [0.],\n",
       "       [0.],\n",
       "       ...,\n",
       "       [0.],\n",
       "       [0.],\n",
       "       [0.]], dtype=float32)"
      ]
     },
     "execution_count": 180,
     "metadata": {},
     "output_type": "execute_result"
    }
   ],
   "source": [
    "predictions"
   ]
  },
  {
   "cell_type": "code",
   "execution_count": 181,
   "id": "ae7b5b96",
   "metadata": {},
   "outputs": [],
   "source": [
    "#y_pred = np.exp((predictions * range1 + min1))"
   ]
  },
  {
   "cell_type": "code",
   "execution_count": 182,
   "id": "55452083",
   "metadata": {},
   "outputs": [],
   "source": [
    "#y_pred"
   ]
  },
  {
   "cell_type": "code",
   "execution_count": 183,
   "id": "ea1e1732",
   "metadata": {},
   "outputs": [],
   "source": [
    "y_preda = predictions*range1 + min1"
   ]
  },
  {
   "cell_type": "code",
   "execution_count": 184,
   "id": "b6f354e7",
   "metadata": {},
   "outputs": [],
   "source": [
    "#np.exp(y_preda)"
   ]
  },
  {
   "cell_type": "code",
   "execution_count": 185,
   "id": "bc1d7f2b",
   "metadata": {},
   "outputs": [],
   "source": [
    "#y_test_unscaled = np.exp((y_test * range1 + min1))"
   ]
  },
  {
   "cell_type": "code",
   "execution_count": 186,
   "id": "a1354731",
   "metadata": {},
   "outputs": [],
   "source": [
    "y_test_unscaleda = y_test*range1 + min1"
   ]
  },
  {
   "cell_type": "code",
   "execution_count": 187,
   "id": "62d036fe",
   "metadata": {},
   "outputs": [
    {
     "data": {
      "image/png": "[encoded data removed]",
      "text/plain": [
       "<Figure size 1080x576 with 2 Axes>"
      ]
     },
     "metadata": {
      "needs_background": "light"
     },
     "output_type": "display_data"
    }
   ],
   "source": [
    "import matplotlib.pyplot as plt\n",
    "fig, axs = plt.subplots(1,2,figsize=(15,8))\n",
    "axs[0].plot(y_preda)\n",
    "axs[0].set_title(\"y_pred\")\n",
    "axs[1].plot(y_test_unscaleda)\n",
    "axs[1].set_title(\"y_test\")\n",
    "plt.show()"
   ]
  },
  {
   "cell_type": "code",
   "execution_count": 68,
   "id": "4388bdf3",
   "metadata": {},
   "outputs": [
    {
     "data": {
      "text/plain": [
       "4090"
      ]
     },
     "execution_count": 68,
     "metadata": {},
     "output_type": "execute_result"
    }
   ],
   "source": [
    "len(y_pred)"
   ]
  },
  {
   "cell_type": "code",
   "execution_count": 69,
   "id": "12c89d4f",
   "metadata": {},
   "outputs": [
    {
     "ename": "NameError",
     "evalue": "name 'y_test_unscaled' is not defined",
     "output_type": "error",
     "traceback": [
      "\u001b[0;31m---------------------------------------------------------------------------\u001b[0m",
      "\u001b[0;31mNameError\u001b[0m                                 Traceback (most recent call last)",
      "\u001b[0;32m/tmp/ipykernel_6623/2158822289.py\u001b[0m in \u001b[0;36m<module>\u001b[0;34m\u001b[0m\n\u001b[0;32m----> 1\u001b[0;31m \u001b[0mlen\u001b[0m\u001b[0;34m(\u001b[0m\u001b[0my_test_unscaled\u001b[0m\u001b[0;34m)\u001b[0m\u001b[0;34m\u001b[0m\u001b[0;34m\u001b[0m\u001b[0m\n\u001b[0m",
      "\u001b[0;31mNameError\u001b[0m: name 'y_test_unscaled' is not defined"
     ]
    }
   ],
   "source": [
    "len(y_test_unscaled)"
   ]
  },
  {
   "cell_type": "code",
   "execution_count": 75,
   "id": "6b49be4c",
   "metadata": {},
   "outputs": [
    {
     "data": {
      "text/plain": [
       "array([[ 9638.495 ,  9659.945 ,  9628.8875,  9645.0725],\n",
       "       [ 9649.365 ,  9661.99  ,  9604.7975,  9612.4425],\n",
       "       [ 9473.97  ,  9496.0275,  9387.2275,  9426.485 ],\n",
       "       ...,\n",
       "       [44198.0825, 44414.575 , 44034.7175, 44248.8275],\n",
       "       [44280.3475, 44498.065 , 44051.0225, 44286.3225],\n",
       "       [44430.99  , 44598.83  , 44419.58  , 44598.83  ]])"
      ]
     },
     "execution_count": 75,
     "metadata": {},
     "output_type": "execute_result"
    }
   ],
   "source": [
    "y_test_unscaled"
   ]
  },
  {
   "cell_type": "code",
   "execution_count": null,
   "id": "daba0f07",
   "metadata": {},
   "outputs": [],
   "source": [
    "y_pred.shape"
   ]
  },
  {
   "cell_type": "code",
   "execution_count": null,
   "id": "23ad7146",
   "metadata": {},
   "outputs": [],
   "source": [
    "np.mean(np.abs(y_test_unscaled - y_pred))"
   ]
  },
  {
   "cell_type": "code",
   "execution_count": null,
   "id": "295fe50f",
   "metadata": {},
   "outputs": [],
   "source": [
    "6.56406288],\n",
    "       [6.5522137 ],\n",
    "       [6.53968617"
   ]
  },
  {
   "cell_type": "code",
   "execution_count": 203,
   "id": "c39088f1",
   "metadata": {},
   "outputs": [
    {
     "data": {
      "text/plain": [
       "692.0693518275402"
      ]
     },
     "execution_count": 203,
     "metadata": {},
     "output_type": "execute_result"
    }
   ],
   "source": [
    "np.exp(6.53968617)"
   ]
  }
 ],
 "metadata": {
  "kernelspec": {
   "display_name": "Python 3 (ipykernel)",
   "language": "python",
   "name": "python3"
  },
  "language_info": {
   "codemirror_mode": {
    "name": "ipython",
    "version": 3
   },
   "file_extension": ".py",
   "mimetype": "text/x-python",
   "name": "python",
   "nbconvert_exporter": "python",
   "pygments_lexer": "ipython3",
   "version": "3.8.6"
  },
  "toc": {
   "base_numbering": 1,
   "nav_menu": {},
   "number_sections": true,
   "sideBar": true,
   "skip_h1_title": false,
   "title_cell": "Table of Contents",
   "title_sidebar": "Contents",
   "toc_cell": false,
   "toc_position": {},
   "toc_section_display": true,
   "toc_window_display": false
  }
 },
 "nbformat": 4,
 "nbformat_minor": 5
}
