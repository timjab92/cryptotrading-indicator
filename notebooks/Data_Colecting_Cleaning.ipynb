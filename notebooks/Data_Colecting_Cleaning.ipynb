{
 "cells": [
  {
   "cell_type": "markdown",
   "id": "bdc7f7f8",
   "metadata": {},
   "source": [
    "# Importing Data"
   ]
  },
  {
   "cell_type": "code",
   "execution_count": 1,
   "id": "1bfb2148",
   "metadata": {},
   "outputs": [],
   "source": [
    "import pandas as pd\n",
    "from datetime import datetime\n",
    "import numpy as np"
   ]
  },
  {
   "cell_type": "code",
   "execution_count": 2,
   "id": "e0233f5f",
   "metadata": {},
   "outputs": [],
   "source": [
    "df_1=pd.read_csv(\"./bitstampUSD_1-min_data_2012-01-01_to_2021-03-31.csv\")"
   ]
  },
  {
   "cell_type": "code",
   "execution_count": 3,
   "id": "8cd5a174",
   "metadata": {
    "scrolled": true
   },
   "outputs": [
    {
     "name": "stderr",
     "output_type": "stream",
     "text": [
      "/home/jhordymora/.pyenv/versions/lewagon/envs/crypto/lib/python3.8/site-packages/IPython/core/interactiveshell.py:3441: DtypeWarning: Columns (0,3,4,5,6,7,8) have mixed types.Specify dtype option on import or set low_memory=False.\n",
      "  exec(code_obj, self.user_global_ns, self.user_ns)\n"
     ]
    }
   ],
   "source": [
    "df_2 = pd.read_csv(\"./Bitstamp_BTCUSD_2021_minute_337366.csv\")"
   ]
  },
  {
   "cell_type": "markdown",
   "id": "0406ab6d",
   "metadata": {},
   "source": [
    "# Data Preprocessing - Standarizing dataframes with same columns"
   ]
  },
  {
   "cell_type": "markdown",
   "id": "c44389d9",
   "metadata": {},
   "source": [
    "## df_2 data Preparation"
   ]
  },
  {
   "cell_type": "code",
   "execution_count": 4,
   "id": "60804d01",
   "metadata": {},
   "outputs": [
    {
     "data": {
      "text/html": [
       "<div>\n",
       "<style scoped>\n",
       "    .dataframe tbody tr th:only-of-type {\n",
       "        vertical-align: middle;\n",
       "    }\n",
       "\n",
       "    .dataframe tbody tr th {\n",
       "        vertical-align: top;\n",
       "    }\n",
       "\n",
       "    .dataframe thead th {\n",
       "        text-align: right;\n",
       "    }\n",
       "</style>\n",
       "<table border=\"1\" class=\"dataframe\">\n",
       "  <thead>\n",
       "    <tr style=\"text-align: right;\">\n",
       "      <th></th>\n",
       "      <th></th>\n",
       "      <th></th>\n",
       "      <th></th>\n",
       "      <th></th>\n",
       "      <th></th>\n",
       "      <th></th>\n",
       "      <th></th>\n",
       "      <th>https://www.CryptoDataDownload.com</th>\n",
       "    </tr>\n",
       "  </thead>\n",
       "  <tbody>\n",
       "    <tr>\n",
       "      <th>unix</th>\n",
       "      <th>date</th>\n",
       "      <th>symbol</th>\n",
       "      <th>open</th>\n",
       "      <th>high</th>\n",
       "      <th>low</th>\n",
       "      <th>close</th>\n",
       "      <th>Volume BTC</th>\n",
       "      <td>Volume USD</td>\n",
       "    </tr>\n",
       "    <tr>\n",
       "      <th>1629701040</th>\n",
       "      <th>2021-08-23 06:44:00</th>\n",
       "      <th>BTC/USD</th>\n",
       "      <th>50139.68</th>\n",
       "      <th>50139.68</th>\n",
       "      <th>50139.68</th>\n",
       "      <th>50139.68</th>\n",
       "      <th>0.00000000</th>\n",
       "      <td>0.0</td>\n",
       "    </tr>\n",
       "    <tr>\n",
       "      <th>1629700980</th>\n",
       "      <th>2021-08-23 06:43:00</th>\n",
       "      <th>BTC/USD</th>\n",
       "      <th>50144.09</th>\n",
       "      <th>50144.09</th>\n",
       "      <th>50133.18</th>\n",
       "      <th>50139.68</th>\n",
       "      <th>1.87875000</th>\n",
       "      <td>94199.92379999999</td>\n",
       "    </tr>\n",
       "    <tr>\n",
       "      <th>1629700920</th>\n",
       "      <th>2021-08-23 06:42:00</th>\n",
       "      <th>BTC/USD</th>\n",
       "      <th>50140.78</th>\n",
       "      <th>50140.78</th>\n",
       "      <th>50120.62</th>\n",
       "      <th>50120.62</th>\n",
       "      <th>0.02177000</th>\n",
       "      <td>1091.1258974000002</td>\n",
       "    </tr>\n",
       "    <tr>\n",
       "      <th>1629700860</th>\n",
       "      <th>2021-08-23 06:41:00</th>\n",
       "      <th>BTC/USD</th>\n",
       "      <th>50131.78</th>\n",
       "      <th>50135.63</th>\n",
       "      <th>50131.78</th>\n",
       "      <th>50135.63</th>\n",
       "      <th>0.36106794</th>\n",
       "      <td>18102.368644702197</td>\n",
       "    </tr>\n",
       "    <tr>\n",
       "      <th>...</th>\n",
       "      <th>...</th>\n",
       "      <th>...</th>\n",
       "      <th>...</th>\n",
       "      <th>...</th>\n",
       "      <th>...</th>\n",
       "      <th>...</th>\n",
       "      <th>...</th>\n",
       "      <td>...</td>\n",
       "    </tr>\n",
       "    <tr>\n",
       "      <th>1609459500</th>\n",
       "      <th>2021-01-01 00:05:00</th>\n",
       "      <th>BTC/USD</th>\n",
       "      <th>29021.86</th>\n",
       "      <th>29023.38</th>\n",
       "      <th>28982.33</th>\n",
       "      <th>28999.5</th>\n",
       "      <th>1.06235967</th>\n",
       "      <td>30807.89925</td>\n",
       "    </tr>\n",
       "    <tr>\n",
       "      <th>1609459440</th>\n",
       "      <th>2021-01-01 00:04:00</th>\n",
       "      <th>BTC/USD</th>\n",
       "      <th>29048.13</th>\n",
       "      <th>29057.73</th>\n",
       "      <th>29035.61</th>\n",
       "      <th>29045.19</th>\n",
       "      <th>1.4465376</th>\n",
       "      <td>42014.959434</td>\n",
       "    </tr>\n",
       "    <tr>\n",
       "      <th>1609459380</th>\n",
       "      <th>2021-01-01 00:03:00</th>\n",
       "      <th>BTC/USD</th>\n",
       "      <th>29037.68</th>\n",
       "      <th>29069.39</th>\n",
       "      <th>29019.0</th>\n",
       "      <th>29048.13</th>\n",
       "      <th>2.18962055</th>\n",
       "      <td>63604.382387</td>\n",
       "    </tr>\n",
       "    <tr>\n",
       "      <th>1609459320</th>\n",
       "      <th>2021-01-01 00:02:00</th>\n",
       "      <th>BTC/USD</th>\n",
       "      <th>29069.8</th>\n",
       "      <th>29073.02</th>\n",
       "      <th>29028.14</th>\n",
       "      <th>29035.89</th>\n",
       "      <th>3.03030144</th>\n",
       "      <td>87987.499279</td>\n",
       "    </tr>\n",
       "    <tr>\n",
       "      <th>1609459260</th>\n",
       "      <th>2021-01-01 00:01:00</th>\n",
       "      <th>BTC/USD</th>\n",
       "      <th>29007.31</th>\n",
       "      <th>29086.9</th>\n",
       "      <th>29007.31</th>\n",
       "      <th>29083.47</th>\n",
       "      <th>14.56195084</th>\n",
       "      <td>423512.060397</td>\n",
       "    </tr>\n",
       "  </tbody>\n",
       "</table>\n",
       "<p>337365 rows × 1 columns</p>\n",
       "</div>"
      ],
      "text/plain": [
       "                                                                                       https://www.CryptoDataDownload.com\n",
       "unix       date                symbol  open     high     low      close    Volume BTC                          Volume USD\n",
       "1629701040 2021-08-23 06:44:00 BTC/USD 50139.68 50139.68 50139.68 50139.68 0.00000000                                 0.0\n",
       "1629700980 2021-08-23 06:43:00 BTC/USD 50144.09 50144.09 50133.18 50139.68 1.87875000                   94199.92379999999\n",
       "1629700920 2021-08-23 06:42:00 BTC/USD 50140.78 50140.78 50120.62 50120.62 0.02177000                  1091.1258974000002\n",
       "1629700860 2021-08-23 06:41:00 BTC/USD 50131.78 50135.63 50131.78 50135.63 0.36106794                  18102.368644702197\n",
       "...                                                                                                                   ...\n",
       "1609459500 2021-01-01 00:05:00 BTC/USD 29021.86 29023.38 28982.33 28999.5  1.06235967                         30807.89925\n",
       "1609459440 2021-01-01 00:04:00 BTC/USD 29048.13 29057.73 29035.61 29045.19 1.4465376                         42014.959434\n",
       "1609459380 2021-01-01 00:03:00 BTC/USD 29037.68 29069.39 29019.0  29048.13 2.18962055                        63604.382387\n",
       "1609459320 2021-01-01 00:02:00 BTC/USD 29069.8  29073.02 29028.14 29035.89 3.03030144                        87987.499279\n",
       "1609459260 2021-01-01 00:01:00 BTC/USD 29007.31 29086.9  29007.31 29083.47 14.56195084                      423512.060397\n",
       "\n",
       "[337365 rows x 1 columns]"
      ]
     },
     "execution_count": 4,
     "metadata": {},
     "output_type": "execute_result"
    }
   ],
   "source": [
    "df_2"
   ]
  },
  {
   "cell_type": "code",
   "execution_count": 5,
   "id": "22e94dde",
   "metadata": {
    "scrolled": true
   },
   "outputs": [],
   "source": [
    "df_2.drop(columns=[\"https://www.CryptoDataDownload.com\"], inplace=True)"
   ]
  },
  {
   "cell_type": "code",
   "execution_count": 6,
   "id": "eecfa3cb",
   "metadata": {},
   "outputs": [],
   "source": [
    "df_2.reset_index(inplace=True)"
   ]
  },
  {
   "cell_type": "code",
   "execution_count": 7,
   "id": "b6d1fc22",
   "metadata": {},
   "outputs": [],
   "source": [
    "df_2.columns = df_2.iloc[0]"
   ]
  },
  {
   "cell_type": "code",
   "execution_count": 8,
   "id": "18fbd0d6",
   "metadata": {
    "scrolled": true
   },
   "outputs": [],
   "source": [
    "df_2.drop([0], inplace=True)"
   ]
  },
  {
   "cell_type": "code",
   "execution_count": 9,
   "id": "7d0f8d90",
   "metadata": {},
   "outputs": [],
   "source": [
    "df_2.drop(columns=[\"unix\",\"symbol\"], inplace=True)"
   ]
  },
  {
   "cell_type": "code",
   "execution_count": 10,
   "id": "cb72eb2a",
   "metadata": {},
   "outputs": [],
   "source": [
    "df_2.rename(columns={\"Volume BTC\":\"volume\"}, inplace=True)"
   ]
  },
  {
   "cell_type": "code",
   "execution_count": 11,
   "id": "48c3effe",
   "metadata": {},
   "outputs": [
    {
     "data": {
      "text/html": [
       "<div>\n",
       "<style scoped>\n",
       "    .dataframe tbody tr th:only-of-type {\n",
       "        vertical-align: middle;\n",
       "    }\n",
       "\n",
       "    .dataframe tbody tr th {\n",
       "        vertical-align: top;\n",
       "    }\n",
       "\n",
       "    .dataframe thead th {\n",
       "        text-align: right;\n",
       "    }\n",
       "</style>\n",
       "<table border=\"1\" class=\"dataframe\">\n",
       "  <thead>\n",
       "    <tr style=\"text-align: right;\">\n",
       "      <th></th>\n",
       "      <th>date</th>\n",
       "      <th>open</th>\n",
       "      <th>high</th>\n",
       "      <th>low</th>\n",
       "      <th>close</th>\n",
       "      <th>volume</th>\n",
       "    </tr>\n",
       "  </thead>\n",
       "  <tbody>\n",
       "    <tr>\n",
       "      <th>1</th>\n",
       "      <td>2021-08-23 06:44:00</td>\n",
       "      <td>50139.68</td>\n",
       "      <td>50139.68</td>\n",
       "      <td>50139.68</td>\n",
       "      <td>50139.68</td>\n",
       "      <td>0.00000000</td>\n",
       "    </tr>\n",
       "    <tr>\n",
       "      <th>2</th>\n",
       "      <td>2021-08-23 06:43:00</td>\n",
       "      <td>50144.09</td>\n",
       "      <td>50144.09</td>\n",
       "      <td>50133.18</td>\n",
       "      <td>50139.68</td>\n",
       "      <td>1.87875000</td>\n",
       "    </tr>\n",
       "    <tr>\n",
       "      <th>3</th>\n",
       "      <td>2021-08-23 06:42:00</td>\n",
       "      <td>50140.78</td>\n",
       "      <td>50140.78</td>\n",
       "      <td>50120.62</td>\n",
       "      <td>50120.62</td>\n",
       "      <td>0.02177000</td>\n",
       "    </tr>\n",
       "    <tr>\n",
       "      <th>4</th>\n",
       "      <td>2021-08-23 06:41:00</td>\n",
       "      <td>50131.78</td>\n",
       "      <td>50135.63</td>\n",
       "      <td>50131.78</td>\n",
       "      <td>50135.63</td>\n",
       "      <td>0.36106794</td>\n",
       "    </tr>\n",
       "    <tr>\n",
       "      <th>5</th>\n",
       "      <td>2021-08-23 06:40:00</td>\n",
       "      <td>50072.44</td>\n",
       "      <td>50134.08</td>\n",
       "      <td>50072.44</td>\n",
       "      <td>50131.08</td>\n",
       "      <td>0.46310000</td>\n",
       "    </tr>\n",
       "    <tr>\n",
       "      <th>...</th>\n",
       "      <td>...</td>\n",
       "      <td>...</td>\n",
       "      <td>...</td>\n",
       "      <td>...</td>\n",
       "      <td>...</td>\n",
       "      <td>...</td>\n",
       "    </tr>\n",
       "    <tr>\n",
       "      <th>337360</th>\n",
       "      <td>2021-01-01 00:05:00</td>\n",
       "      <td>29021.86</td>\n",
       "      <td>29023.38</td>\n",
       "      <td>28982.33</td>\n",
       "      <td>28999.5</td>\n",
       "      <td>1.06236</td>\n",
       "    </tr>\n",
       "    <tr>\n",
       "      <th>337361</th>\n",
       "      <td>2021-01-01 00:04:00</td>\n",
       "      <td>29048.13</td>\n",
       "      <td>29057.73</td>\n",
       "      <td>29035.61</td>\n",
       "      <td>29045.19</td>\n",
       "      <td>1.446538</td>\n",
       "    </tr>\n",
       "    <tr>\n",
       "      <th>337362</th>\n",
       "      <td>2021-01-01 00:03:00</td>\n",
       "      <td>29037.68</td>\n",
       "      <td>29069.39</td>\n",
       "      <td>29019.0</td>\n",
       "      <td>29048.13</td>\n",
       "      <td>2.189621</td>\n",
       "    </tr>\n",
       "    <tr>\n",
       "      <th>337363</th>\n",
       "      <td>2021-01-01 00:02:00</td>\n",
       "      <td>29069.8</td>\n",
       "      <td>29073.02</td>\n",
       "      <td>29028.14</td>\n",
       "      <td>29035.89</td>\n",
       "      <td>3.030301</td>\n",
       "    </tr>\n",
       "    <tr>\n",
       "      <th>337364</th>\n",
       "      <td>2021-01-01 00:01:00</td>\n",
       "      <td>29007.31</td>\n",
       "      <td>29086.9</td>\n",
       "      <td>29007.31</td>\n",
       "      <td>29083.47</td>\n",
       "      <td>14.561951</td>\n",
       "    </tr>\n",
       "  </tbody>\n",
       "</table>\n",
       "<p>337364 rows × 6 columns</p>\n",
       "</div>"
      ],
      "text/plain": [
       "0                      date      open      high       low     close  \\\n",
       "1       2021-08-23 06:44:00  50139.68  50139.68  50139.68  50139.68   \n",
       "2       2021-08-23 06:43:00  50144.09  50144.09  50133.18  50139.68   \n",
       "3       2021-08-23 06:42:00  50140.78  50140.78  50120.62  50120.62   \n",
       "4       2021-08-23 06:41:00  50131.78  50135.63  50131.78  50135.63   \n",
       "5       2021-08-23 06:40:00  50072.44  50134.08  50072.44  50131.08   \n",
       "...                     ...       ...       ...       ...       ...   \n",
       "337360  2021-01-01 00:05:00  29021.86  29023.38  28982.33   28999.5   \n",
       "337361  2021-01-01 00:04:00  29048.13  29057.73  29035.61  29045.19   \n",
       "337362  2021-01-01 00:03:00  29037.68  29069.39   29019.0  29048.13   \n",
       "337363  2021-01-01 00:02:00   29069.8  29073.02  29028.14  29035.89   \n",
       "337364  2021-01-01 00:01:00  29007.31   29086.9  29007.31  29083.47   \n",
       "\n",
       "0           volume  \n",
       "1       0.00000000  \n",
       "2       1.87875000  \n",
       "3       0.02177000  \n",
       "4       0.36106794  \n",
       "5       0.46310000  \n",
       "...            ...  \n",
       "337360     1.06236  \n",
       "337361    1.446538  \n",
       "337362    2.189621  \n",
       "337363    3.030301  \n",
       "337364   14.561951  \n",
       "\n",
       "[337364 rows x 6 columns]"
      ]
     },
     "execution_count": 11,
     "metadata": {},
     "output_type": "execute_result"
    }
   ],
   "source": [
    "df_2"
   ]
  },
  {
   "cell_type": "code",
   "execution_count": 12,
   "id": "ffae5d29",
   "metadata": {
    "scrolled": true
   },
   "outputs": [],
   "source": [
    "df_2[\"open\"]=df_2.open.astype(float)\n",
    "df_2[\"high\"]=df_2.high.astype(float)\n",
    "df_2[\"low\"]=df_2.low.astype(float)\n",
    "df_2[\"close\"]=df_2.close.astype(float)\n",
    "df_2[\"volume\"]=df_2.volume.astype(float)\n",
    "df_2[\"date\"]= pd.to_datetime(df_2[\"date\"], format='%Y-%m-%d %H:%M:%S.%f')"
   ]
  },
  {
   "cell_type": "code",
   "execution_count": 13,
   "id": "6525853b",
   "metadata": {
    "scrolled": true
   },
   "outputs": [
    {
     "data": {
      "text/plain": [
       "0\n",
       "date      datetime64[ns]\n",
       "open             float64\n",
       "high             float64\n",
       "low              float64\n",
       "close            float64\n",
       "volume           float64\n",
       "dtype: object"
      ]
     },
     "execution_count": 13,
     "metadata": {},
     "output_type": "execute_result"
    }
   ],
   "source": [
    "df_2.dtypes"
   ]
  },
  {
   "cell_type": "code",
   "execution_count": 14,
   "id": "ca61c798",
   "metadata": {},
   "outputs": [],
   "source": [
    "df_2=df_2.iloc[::-1]"
   ]
  },
  {
   "cell_type": "code",
   "execution_count": 15,
   "id": "82cda3ca",
   "metadata": {},
   "outputs": [],
   "source": [
    "df_2.reset_index(inplace=True)\n",
    "df_2.drop(columns=[\"index\"], inplace=True)"
   ]
  },
  {
   "cell_type": "code",
   "execution_count": 16,
   "id": "595dca19",
   "metadata": {},
   "outputs": [
    {
     "data": {
      "text/html": [
       "<div>\n",
       "<style scoped>\n",
       "    .dataframe tbody tr th:only-of-type {\n",
       "        vertical-align: middle;\n",
       "    }\n",
       "\n",
       "    .dataframe tbody tr th {\n",
       "        vertical-align: top;\n",
       "    }\n",
       "\n",
       "    .dataframe thead th {\n",
       "        text-align: right;\n",
       "    }\n",
       "</style>\n",
       "<table border=\"1\" class=\"dataframe\">\n",
       "  <thead>\n",
       "    <tr style=\"text-align: right;\">\n",
       "      <th></th>\n",
       "      <th>date</th>\n",
       "      <th>open</th>\n",
       "      <th>high</th>\n",
       "      <th>low</th>\n",
       "      <th>close</th>\n",
       "      <th>volume</th>\n",
       "    </tr>\n",
       "  </thead>\n",
       "  <tbody>\n",
       "    <tr>\n",
       "      <th>0</th>\n",
       "      <td>2021-01-01 00:01:00</td>\n",
       "      <td>29007.31</td>\n",
       "      <td>29086.90</td>\n",
       "      <td>29007.31</td>\n",
       "      <td>29083.47</td>\n",
       "      <td>14.561951</td>\n",
       "    </tr>\n",
       "    <tr>\n",
       "      <th>1</th>\n",
       "      <td>2021-01-01 00:02:00</td>\n",
       "      <td>29069.80</td>\n",
       "      <td>29073.02</td>\n",
       "      <td>29028.14</td>\n",
       "      <td>29035.89</td>\n",
       "      <td>3.030301</td>\n",
       "    </tr>\n",
       "    <tr>\n",
       "      <th>2</th>\n",
       "      <td>2021-01-01 00:03:00</td>\n",
       "      <td>29037.68</td>\n",
       "      <td>29069.39</td>\n",
       "      <td>29019.00</td>\n",
       "      <td>29048.13</td>\n",
       "      <td>2.189621</td>\n",
       "    </tr>\n",
       "    <tr>\n",
       "      <th>3</th>\n",
       "      <td>2021-01-01 00:04:00</td>\n",
       "      <td>29048.13</td>\n",
       "      <td>29057.73</td>\n",
       "      <td>29035.61</td>\n",
       "      <td>29045.19</td>\n",
       "      <td>1.446538</td>\n",
       "    </tr>\n",
       "    <tr>\n",
       "      <th>4</th>\n",
       "      <td>2021-01-01 00:05:00</td>\n",
       "      <td>29021.86</td>\n",
       "      <td>29023.38</td>\n",
       "      <td>28982.33</td>\n",
       "      <td>28999.50</td>\n",
       "      <td>1.062360</td>\n",
       "    </tr>\n",
       "    <tr>\n",
       "      <th>...</th>\n",
       "      <td>...</td>\n",
       "      <td>...</td>\n",
       "      <td>...</td>\n",
       "      <td>...</td>\n",
       "      <td>...</td>\n",
       "      <td>...</td>\n",
       "    </tr>\n",
       "    <tr>\n",
       "      <th>337359</th>\n",
       "      <td>2021-08-23 06:40:00</td>\n",
       "      <td>50072.44</td>\n",
       "      <td>50134.08</td>\n",
       "      <td>50072.44</td>\n",
       "      <td>50131.08</td>\n",
       "      <td>0.463100</td>\n",
       "    </tr>\n",
       "    <tr>\n",
       "      <th>337360</th>\n",
       "      <td>2021-08-23 06:41:00</td>\n",
       "      <td>50131.78</td>\n",
       "      <td>50135.63</td>\n",
       "      <td>50131.78</td>\n",
       "      <td>50135.63</td>\n",
       "      <td>0.361068</td>\n",
       "    </tr>\n",
       "    <tr>\n",
       "      <th>337361</th>\n",
       "      <td>2021-08-23 06:42:00</td>\n",
       "      <td>50140.78</td>\n",
       "      <td>50140.78</td>\n",
       "      <td>50120.62</td>\n",
       "      <td>50120.62</td>\n",
       "      <td>0.021770</td>\n",
       "    </tr>\n",
       "    <tr>\n",
       "      <th>337362</th>\n",
       "      <td>2021-08-23 06:43:00</td>\n",
       "      <td>50144.09</td>\n",
       "      <td>50144.09</td>\n",
       "      <td>50133.18</td>\n",
       "      <td>50139.68</td>\n",
       "      <td>1.878750</td>\n",
       "    </tr>\n",
       "    <tr>\n",
       "      <th>337363</th>\n",
       "      <td>2021-08-23 06:44:00</td>\n",
       "      <td>50139.68</td>\n",
       "      <td>50139.68</td>\n",
       "      <td>50139.68</td>\n",
       "      <td>50139.68</td>\n",
       "      <td>0.000000</td>\n",
       "    </tr>\n",
       "  </tbody>\n",
       "</table>\n",
       "<p>337364 rows × 6 columns</p>\n",
       "</div>"
      ],
      "text/plain": [
       "0                     date      open      high       low     close     volume\n",
       "0      2021-01-01 00:01:00  29007.31  29086.90  29007.31  29083.47  14.561951\n",
       "1      2021-01-01 00:02:00  29069.80  29073.02  29028.14  29035.89   3.030301\n",
       "2      2021-01-01 00:03:00  29037.68  29069.39  29019.00  29048.13   2.189621\n",
       "3      2021-01-01 00:04:00  29048.13  29057.73  29035.61  29045.19   1.446538\n",
       "4      2021-01-01 00:05:00  29021.86  29023.38  28982.33  28999.50   1.062360\n",
       "...                    ...       ...       ...       ...       ...        ...\n",
       "337359 2021-08-23 06:40:00  50072.44  50134.08  50072.44  50131.08   0.463100\n",
       "337360 2021-08-23 06:41:00  50131.78  50135.63  50131.78  50135.63   0.361068\n",
       "337361 2021-08-23 06:42:00  50140.78  50140.78  50120.62  50120.62   0.021770\n",
       "337362 2021-08-23 06:43:00  50144.09  50144.09  50133.18  50139.68   1.878750\n",
       "337363 2021-08-23 06:44:00  50139.68  50139.68  50139.68  50139.68   0.000000\n",
       "\n",
       "[337364 rows x 6 columns]"
      ]
     },
     "execution_count": 16,
     "metadata": {},
     "output_type": "execute_result"
    }
   ],
   "source": [
    "df_2"
   ]
  },
  {
   "cell_type": "markdown",
   "id": "42e4b33d",
   "metadata": {},
   "source": [
    "## df_1 Data Preparation"
   ]
  },
  {
   "cell_type": "code",
   "execution_count": 17,
   "id": "1da85b88",
   "metadata": {},
   "outputs": [],
   "source": [
    "df_1.drop(columns=[\"Volume_(Currency)\",\"Weighted_Price\"], inplace=True)"
   ]
  },
  {
   "cell_type": "code",
   "execution_count": 18,
   "id": "b28f9208",
   "metadata": {},
   "outputs": [],
   "source": [
    "df_1.rename(columns={\"Timestamp\": \"date\",\n",
    "                     \"Open\": \"open\",\n",
    "                     \"High\":\"high\",\n",
    "                     \"Low\":\"low\",\n",
    "                     \"Close\":\"close\",\n",
    "                     \"Volume_(BTC)\":\"volume\"}, \n",
    "            inplace=True\n",
    "                     )"
   ]
  },
  {
   "cell_type": "code",
   "execution_count": null,
   "id": "820d3671",
   "metadata": {
    "scrolled": false
   },
   "outputs": [
    {
     "name": "stderr",
     "output_type": "stream",
     "text": [
      "/tmp/ipykernel_30702/1887864048.py:2: SettingWithCopyWarning: \n",
      "A value is trying to be set on a copy of a slice from a DataFrame\n",
      "\n",
      "See the caveats in the documentation: https://pandas.pydata.org/pandas-docs/stable/user_guide/indexing.html#returning-a-view-versus-a-copy\n",
      "  df_1[\"date\"][row]=datetime.fromtimestamp(df_1[\"date\"][row])\n"
     ]
    }
   ],
   "source": [
    "for row in range(len(df_1[\"date\"])):\n",
    "    df_1[\"date\"][row]=datetime.fromtimestamp(df_1[\"date\"][row])"
   ]
  },
  {
   "cell_type": "code",
   "execution_count": null,
   "id": "6b3b77c0",
   "metadata": {},
   "outputs": [],
   "source": [
    "df_1[\"date\"]= pd.to_datetime(df_1[\"date\"], format='%Y-%m-%d %H:%M:%S.%f')"
   ]
  },
  {
   "cell_type": "code",
   "execution_count": null,
   "id": "bff09a11",
   "metadata": {
    "scrolled": false
   },
   "outputs": [],
   "source": [
    "df_1.dtypes"
   ]
  },
  {
   "cell_type": "code",
   "execution_count": null,
   "id": "6f338d0c",
   "metadata": {
    "scrolled": false
   },
   "outputs": [],
   "source": [
    "df_1"
   ]
  },
  {
   "cell_type": "markdown",
   "id": "55dbe016",
   "metadata": {},
   "source": [
    "# Joining Tables"
   ]
  },
  {
   "cell_type": "markdown",
   "id": "c3795b30",
   "metadata": {},
   "source": [
    "## Comparing Data"
   ]
  },
  {
   "cell_type": "code",
   "execution_count": null,
   "id": "be8a3f29",
   "metadata": {},
   "outputs": [],
   "source": [
    "df_1.loc[[4857376]]"
   ]
  },
  {
   "cell_type": "code",
   "execution_count": null,
   "id": "ffe68420",
   "metadata": {},
   "outputs": [],
   "source": [
    "df_2[df_2[\"date\"]==\"2021-03-31 02:00:00\"]"
   ]
  },
  {
   "cell_type": "markdown",
   "id": "17abbef7",
   "metadata": {},
   "source": [
    "There are differences between the data, so for that reason is possible that the result can be affected.\n",
    "In this case we will preserve the data with more information and complement (adding) the data with the table which has less  information."
   ]
  },
  {
   "cell_type": "markdown",
   "id": "60e98f90",
   "metadata": {},
   "source": [
    "## Modifing df_2 with the data needed"
   ]
  },
  {
   "cell_type": "code",
   "execution_count": null,
   "id": "bc6b4f2a",
   "metadata": {},
   "outputs": [],
   "source": [
    "index = df_2[df_2[\"date\"]==\"2021-03-31 02:00:00\"].index"
   ]
  },
  {
   "cell_type": "code",
   "execution_count": null,
   "id": "4fe404c0",
   "metadata": {},
   "outputs": [],
   "source": [
    "list_index_for_deleting = [number_row for number_row in range(index[0]+1)]"
   ]
  },
  {
   "cell_type": "code",
   "execution_count": null,
   "id": "a007ccc9",
   "metadata": {},
   "outputs": [],
   "source": [
    "df_2.drop(index=list_index_for_deleting, axis=0,inplace=True)"
   ]
  },
  {
   "cell_type": "code",
   "execution_count": null,
   "id": "dad14c65",
   "metadata": {},
   "outputs": [],
   "source": [
    "df_2.reset_index()"
   ]
  },
  {
   "cell_type": "code",
   "execution_count": null,
   "id": "b85bfabb",
   "metadata": {},
   "outputs": [],
   "source": [
    "df_2"
   ]
  },
  {
   "cell_type": "markdown",
   "id": "1fb02052",
   "metadata": {},
   "source": [
    "## Joining table with concatenate"
   ]
  },
  {
   "cell_type": "code",
   "execution_count": null,
   "id": "384a7429",
   "metadata": {},
   "outputs": [],
   "source": [
    "final_df =df_1.append(df_2)"
   ]
  },
  {
   "cell_type": "code",
   "execution_count": null,
   "id": "5595e7bb",
   "metadata": {
    "scrolled": true
   },
   "outputs": [],
   "source": [
    "final_df"
   ]
  },
  {
   "cell_type": "markdown",
   "id": "f88235ff",
   "metadata": {},
   "source": [
    "## Exporting to csv"
   ]
  },
  {
   "cell_type": "code",
   "execution_count": null,
   "id": "54c11aa1",
   "metadata": {},
   "outputs": [],
   "source": [
    "final_df.to_csv(\"../data/BTCUSD_2011-12-31-08:52_to_2021-08-23-06:44_Not_Clean.csv\")"
   ]
  },
  {
   "cell_type": "markdown",
   "id": "2216e824",
   "metadata": {},
   "source": [
    "# Data Cleaning"
   ]
  },
  {
   "cell_type": "markdown",
   "id": "7f0543cf",
   "metadata": {},
   "source": [
    "## Counting null and NaN Values"
   ]
  },
  {
   "cell_type": "code",
   "execution_count": null,
   "id": "bcaea583",
   "metadata": {},
   "outputs": [],
   "source": [
    "final_df.isnull().sum()"
   ]
  },
  {
   "cell_type": "code",
   "execution_count": null,
   "id": "98cd7540",
   "metadata": {
    "scrolled": true
   },
   "outputs": [],
   "source": [
    "final_df.isna().sum()"
   ]
  },
  {
   "cell_type": "code",
   "execution_count": null,
   "id": "24e7b62b",
   "metadata": {
    "scrolled": false
   },
   "outputs": [],
   "source": [
    "final_df.dropna(inplace=True)"
   ]
  },
  {
   "cell_type": "code",
   "execution_count": null,
   "id": "2192430e",
   "metadata": {},
   "outputs": [],
   "source": [
    "final_df.isnull().sum()"
   ]
  },
  {
   "cell_type": "code",
   "execution_count": null,
   "id": "a4dce9fa",
   "metadata": {},
   "outputs": [],
   "source": [
    "final_df.isna().sum()"
   ]
  },
  {
   "cell_type": "code",
   "execution_count": null,
   "id": "1b36ae8e",
   "metadata": {
    "scrolled": true
   },
   "outputs": [],
   "source": [
    "final_df.describe()"
   ]
  },
  {
   "cell_type": "code",
   "execution_count": null,
   "id": "8a7e2e4e",
   "metadata": {
    "scrolled": false
   },
   "outputs": [],
   "source": [
    "final_df.info()"
   ]
  },
  {
   "cell_type": "markdown",
   "id": "1d20fc8f",
   "metadata": {},
   "source": [
    "After dropping NaN we have lost 1,243,608 (5,066,461 - 3,822,853) data points, so we have to decided if we want to replace it with another value like a mean or just work without this information.\n",
    "\n",
    "**My opinion:** we should work without this values because this have being changing along the time and if we replace the values with the mean or other strategy it can create outliers in that time frame."
   ]
  },
  {
   "cell_type": "markdown",
   "id": "4fe4b9a1",
   "metadata": {},
   "source": [
    "## Dropping Duplicates"
   ]
  },
  {
   "cell_type": "code",
   "execution_count": null,
   "id": "a2353c1a",
   "metadata": {},
   "outputs": [],
   "source": [
    "final_df.drop_duplicates(inplace=True)"
   ]
  },
  {
   "cell_type": "code",
   "execution_count": null,
   "id": "63034be6",
   "metadata": {},
   "outputs": [],
   "source": [
    "final_df.reset_index(inplace=True)\n",
    "final_df.drop(columns = [\"index\"], inplace=True)"
   ]
  },
  {
   "cell_type": "code",
   "execution_count": null,
   "id": "b769794b",
   "metadata": {
    "scrolled": true
   },
   "outputs": [],
   "source": [
    "final_df.info()"
   ]
  },
  {
   "cell_type": "markdown",
   "id": "d143ac1f",
   "metadata": {},
   "source": [
    "## Exporting to csv"
   ]
  },
  {
   "cell_type": "code",
   "execution_count": null,
   "id": "6117ab5c",
   "metadata": {},
   "outputs": [],
   "source": [
    "final_df.to_csv(\"../data/BTCUSD_2011-12-31-08:52_to_2021-08-23-06:44_Clean.csv\")"
   ]
  },
  {
   "cell_type": "markdown",
   "id": "e42539b7",
   "metadata": {},
   "source": [
    "## Outliers"
   ]
  },
  {
   "cell_type": "code",
   "execution_count": null,
   "id": "e406ca5f",
   "metadata": {},
   "outputs": [],
   "source": [
    "final_df[[\"open\", \"high\",\"low\",\"close\",\"volume\"]].boxplot()"
   ]
  },
  {
   "cell_type": "markdown",
   "id": "b4cb727a",
   "metadata": {},
   "source": [
    "Using Log we are gonna see the percentage change of the different features"
   ]
  },
  {
   "cell_type": "code",
   "execution_count": null,
   "id": "7e8a991b",
   "metadata": {},
   "outputs": [],
   "source": [
    "temp = [\"open\", \"high\",\"low\",\"close\"]\n",
    "for x in temp:\n",
    "    final_df[f'log_{x}'] = final_df[x].apply(lambda x: np.log(x))"
   ]
  },
  {
   "cell_type": "markdown",
   "id": "d34e240d",
   "metadata": {},
   "source": [
    "Volume is not being taking into account because it can has 0 values and when the log is apply, the result will be infinity"
   ]
  },
  {
   "cell_type": "code",
   "execution_count": null,
   "id": "916f9e87",
   "metadata": {},
   "outputs": [],
   "source": [
    "final_df_log = final_df[[\"date\",\"log_open\",\"log_high\",\"log_low\",\"log_close\",\"volume\"]]\n",
    "final_df_log"
   ]
  },
  {
   "cell_type": "code",
   "execution_count": null,
   "id": "7c8a9c1b",
   "metadata": {
    "scrolled": true
   },
   "outputs": [],
   "source": [
    "final_df_log[[\"log_open\",\"log_high\",\"log_low\",\"log_close\"]].boxplot()"
   ]
  },
  {
   "cell_type": "markdown",
   "id": "1690b6a4",
   "metadata": {},
   "source": [
    "⚠️**<font color=red>Warning:</font> It is necessary to think how to combine log prices values and the volume.**⚠️"
   ]
  },
  {
   "cell_type": "markdown",
   "id": "3a1a2dfe",
   "metadata": {},
   "source": [
    "# Function for time interval selection"
   ]
  },
  {
   "cell_type": "code",
   "execution_count": null,
   "id": "fefb2824",
   "metadata": {},
   "outputs": [],
   "source": [
    "final_df.tail()"
   ]
  },
  {
   "cell_type": "code",
   "execution_count": null,
   "id": "4932b6c9",
   "metadata": {},
   "outputs": [],
   "source": [
    "def time_selection(df, timeframe):\n",
    "    \"\"\"\n",
    "    This function filter the data points in the choosed dataframe.\n",
    "    The timeframe has to be choosen in this way. The first element is an interger and the second one is a letter, \n",
    "    which denotes the timeframe. M is for Months and m is for minutes.\n",
    "    The smallest timeframe is a minites and the highest is months.\n",
    "    For instance 5m (5 minutes), 5H (5 hours), 5D (5 days), 5M (5 months) and 5Y (5 years).\n",
    "    It will return the dataframe with the specified parameters.\n",
    "    \"\"\"\n",
    "    if \"m\" in timeframe:\n",
    "        timeframe_list = [char for char in timeframe]\n",
    "        minutes = int(timeframe_list[0])\n",
    "        return df[df['date'].dt.minute%minutes==0].dropna()\n",
    "    else:\n",
    "        return df.set_index(\"date\").resample(timeframe).mean().dropna().reset_index()"
   ]
  },
  {
   "cell_type": "code",
   "execution_count": null,
   "id": "bbb8fedb",
   "metadata": {},
   "outputs": [],
   "source": [
    "df = final_df\n",
    "df_4m =time_selection(df, \"4m\")\n",
    "df_4m"
   ]
  },
  {
   "cell_type": "code",
   "execution_count": null,
   "id": "fb98ced6",
   "metadata": {},
   "outputs": [],
   "source": [
    "df = final_df\n",
    "df_4H =time_selection(df, \"4H\")\n",
    "df_4H"
   ]
  },
  {
   "cell_type": "code",
   "execution_count": null,
   "id": "9b66b3b2",
   "metadata": {},
   "outputs": [],
   "source": [
    "df = final_df\n",
    "df_4D =time_selection(df, \"4D\")\n",
    "df_4D"
   ]
  },
  {
   "cell_type": "code",
   "execution_count": null,
   "id": "c72d5a99",
   "metadata": {},
   "outputs": [],
   "source": [
    "df = final_df\n",
    "df_4M =time_selection(df, \"4M\")\n",
    "df_4M"
   ]
  },
  {
   "cell_type": "code",
   "execution_count": null,
   "id": "eee3b6e2",
   "metadata": {},
   "outputs": [],
   "source": [
    "df = final_df\n",
    "df_4Y =time_selection(df, \"4Y\")\n",
    "df_4Y"
   ]
  }
 ],
 "metadata": {
  "kernelspec": {
   "display_name": "Python 3 (ipykernel)",
   "language": "python",
   "name": "python3"
  },
  "language_info": {
   "codemirror_mode": {
    "name": "ipython",
    "version": 3
   },
   "file_extension": ".py",
   "mimetype": "text/x-python",
   "name": "python",
   "nbconvert_exporter": "python",
   "pygments_lexer": "ipython3",
   "version": "3.8.6"
  },
  "toc": {
   "base_numbering": 1,
   "nav_menu": {},
   "number_sections": true,
   "sideBar": true,
   "skip_h1_title": false,
   "title_cell": "Table of Contents",
   "title_sidebar": "Contents",
   "toc_cell": false,
   "toc_position": {
    "height": "calc(100% - 180px)",
    "left": "10px",
    "top": "150px",
    "width": "320px"
   },
   "toc_section_display": true,
   "toc_window_display": true
  }
 },
 "nbformat": 4,
 "nbformat_minor": 5
}
