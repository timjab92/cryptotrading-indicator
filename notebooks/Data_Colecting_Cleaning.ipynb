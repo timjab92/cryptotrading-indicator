{
 "cells": [
  {
   "cell_type": "markdown",
   "id": "bdc7f7f8",
   "metadata": {},
   "source": [
    "# Importing Data"
   ]
  },
  {
   "cell_type": "code",
   "execution_count": 1,
   "id": "1bfb2148",
   "metadata": {},
   "outputs": [],
   "source": [
    "import pandas as pd\n",
    "from datetime import datetime"
   ]
  },
  {
   "cell_type": "code",
   "execution_count": 2,
   "id": "e0233f5f",
   "metadata": {},
   "outputs": [],
   "source": [
    "df_1=pd.read_csv(\"./bitstampUSD_1-min_data_2012-01-01_to_2021-03-31.csv\")"
   ]
  },
  {
   "cell_type": "code",
   "execution_count": 3,
   "id": "8cd5a174",
   "metadata": {
    "scrolled": true
   },
   "outputs": [
    {
     "name": "stderr",
     "output_type": "stream",
     "text": [
      "/home/jhordymora/.pyenv/versions/lewagon/envs/crypto/lib/python3.8/site-packages/IPython/core/interactiveshell.py:3441: DtypeWarning: Columns (0,3,4,5,6,7,8) have mixed types.Specify dtype option on import or set low_memory=False.\n",
      "  exec(code_obj, self.user_global_ns, self.user_ns)\n"
     ]
    }
   ],
   "source": [
    "df_2 = pd.read_csv(\"./Bitstamp_BTCUSD_2021_minute_337366.csv\")"
   ]
  },
  {
   "cell_type": "markdown",
   "id": "0406ab6d",
   "metadata": {},
   "source": [
    "# Data Preprocessing - Standarizing dataframes with same columns"
   ]
  },
  {
   "cell_type": "markdown",
   "id": "c44389d9",
   "metadata": {},
   "source": [
    "## df_2 data Preparetion"
   ]
  },
  {
   "cell_type": "code",
   "execution_count": 4,
   "id": "60804d01",
   "metadata": {},
   "outputs": [
    {
     "data": {
      "text/html": [
       "<div>\n",
       "<style scoped>\n",
       "    .dataframe tbody tr th:only-of-type {\n",
       "        vertical-align: middle;\n",
       "    }\n",
       "\n",
       "    .dataframe tbody tr th {\n",
       "        vertical-align: top;\n",
       "    }\n",
       "\n",
       "    .dataframe thead th {\n",
       "        text-align: right;\n",
       "    }\n",
       "</style>\n",
       "<table border=\"1\" class=\"dataframe\">\n",
       "  <thead>\n",
       "    <tr style=\"text-align: right;\">\n",
       "      <th></th>\n",
       "      <th></th>\n",
       "      <th></th>\n",
       "      <th></th>\n",
       "      <th></th>\n",
       "      <th></th>\n",
       "      <th></th>\n",
       "      <th></th>\n",
       "      <th>https://www.CryptoDataDownload.com</th>\n",
       "    </tr>\n",
       "  </thead>\n",
       "  <tbody>\n",
       "    <tr>\n",
       "      <th>unix</th>\n",
       "      <th>date</th>\n",
       "      <th>symbol</th>\n",
       "      <th>open</th>\n",
       "      <th>high</th>\n",
       "      <th>low</th>\n",
       "      <th>close</th>\n",
       "      <th>Volume BTC</th>\n",
       "      <td>Volume USD</td>\n",
       "    </tr>\n",
       "    <tr>\n",
       "      <th>1629701040</th>\n",
       "      <th>2021-08-23 06:44:00</th>\n",
       "      <th>BTC/USD</th>\n",
       "      <th>50139.68</th>\n",
       "      <th>50139.68</th>\n",
       "      <th>50139.68</th>\n",
       "      <th>50139.68</th>\n",
       "      <th>0.00000000</th>\n",
       "      <td>0.0</td>\n",
       "    </tr>\n",
       "    <tr>\n",
       "      <th>1629700980</th>\n",
       "      <th>2021-08-23 06:43:00</th>\n",
       "      <th>BTC/USD</th>\n",
       "      <th>50144.09</th>\n",
       "      <th>50144.09</th>\n",
       "      <th>50133.18</th>\n",
       "      <th>50139.68</th>\n",
       "      <th>1.87875000</th>\n",
       "      <td>94199.92379999999</td>\n",
       "    </tr>\n",
       "    <tr>\n",
       "      <th>1629700920</th>\n",
       "      <th>2021-08-23 06:42:00</th>\n",
       "      <th>BTC/USD</th>\n",
       "      <th>50140.78</th>\n",
       "      <th>50140.78</th>\n",
       "      <th>50120.62</th>\n",
       "      <th>50120.62</th>\n",
       "      <th>0.02177000</th>\n",
       "      <td>1091.1258974000002</td>\n",
       "    </tr>\n",
       "    <tr>\n",
       "      <th>1629700860</th>\n",
       "      <th>2021-08-23 06:41:00</th>\n",
       "      <th>BTC/USD</th>\n",
       "      <th>50131.78</th>\n",
       "      <th>50135.63</th>\n",
       "      <th>50131.78</th>\n",
       "      <th>50135.63</th>\n",
       "      <th>0.36106794</th>\n",
       "      <td>18102.368644702197</td>\n",
       "    </tr>\n",
       "    <tr>\n",
       "      <th>...</th>\n",
       "      <th>...</th>\n",
       "      <th>...</th>\n",
       "      <th>...</th>\n",
       "      <th>...</th>\n",
       "      <th>...</th>\n",
       "      <th>...</th>\n",
       "      <th>...</th>\n",
       "      <td>...</td>\n",
       "    </tr>\n",
       "    <tr>\n",
       "      <th>1609459500</th>\n",
       "      <th>2021-01-01 00:05:00</th>\n",
       "      <th>BTC/USD</th>\n",
       "      <th>29021.86</th>\n",
       "      <th>29023.38</th>\n",
       "      <th>28982.33</th>\n",
       "      <th>28999.5</th>\n",
       "      <th>1.06235967</th>\n",
       "      <td>30807.89925</td>\n",
       "    </tr>\n",
       "    <tr>\n",
       "      <th>1609459440</th>\n",
       "      <th>2021-01-01 00:04:00</th>\n",
       "      <th>BTC/USD</th>\n",
       "      <th>29048.13</th>\n",
       "      <th>29057.73</th>\n",
       "      <th>29035.61</th>\n",
       "      <th>29045.19</th>\n",
       "      <th>1.4465376</th>\n",
       "      <td>42014.959434</td>\n",
       "    </tr>\n",
       "    <tr>\n",
       "      <th>1609459380</th>\n",
       "      <th>2021-01-01 00:03:00</th>\n",
       "      <th>BTC/USD</th>\n",
       "      <th>29037.68</th>\n",
       "      <th>29069.39</th>\n",
       "      <th>29019.0</th>\n",
       "      <th>29048.13</th>\n",
       "      <th>2.18962055</th>\n",
       "      <td>63604.382387</td>\n",
       "    </tr>\n",
       "    <tr>\n",
       "      <th>1609459320</th>\n",
       "      <th>2021-01-01 00:02:00</th>\n",
       "      <th>BTC/USD</th>\n",
       "      <th>29069.8</th>\n",
       "      <th>29073.02</th>\n",
       "      <th>29028.14</th>\n",
       "      <th>29035.89</th>\n",
       "      <th>3.03030144</th>\n",
       "      <td>87987.499279</td>\n",
       "    </tr>\n",
       "    <tr>\n",
       "      <th>1609459260</th>\n",
       "      <th>2021-01-01 00:01:00</th>\n",
       "      <th>BTC/USD</th>\n",
       "      <th>29007.31</th>\n",
       "      <th>29086.9</th>\n",
       "      <th>29007.31</th>\n",
       "      <th>29083.47</th>\n",
       "      <th>14.56195084</th>\n",
       "      <td>423512.060397</td>\n",
       "    </tr>\n",
       "  </tbody>\n",
       "</table>\n",
       "<p>337365 rows × 1 columns</p>\n",
       "</div>"
      ],
      "text/plain": [
       "                                                                                       https://www.CryptoDataDownload.com\n",
       "unix       date                symbol  open     high     low      close    Volume BTC                          Volume USD\n",
       "1629701040 2021-08-23 06:44:00 BTC/USD 50139.68 50139.68 50139.68 50139.68 0.00000000                                 0.0\n",
       "1629700980 2021-08-23 06:43:00 BTC/USD 50144.09 50144.09 50133.18 50139.68 1.87875000                   94199.92379999999\n",
       "1629700920 2021-08-23 06:42:00 BTC/USD 50140.78 50140.78 50120.62 50120.62 0.02177000                  1091.1258974000002\n",
       "1629700860 2021-08-23 06:41:00 BTC/USD 50131.78 50135.63 50131.78 50135.63 0.36106794                  18102.368644702197\n",
       "...                                                                                                                   ...\n",
       "1609459500 2021-01-01 00:05:00 BTC/USD 29021.86 29023.38 28982.33 28999.5  1.06235967                         30807.89925\n",
       "1609459440 2021-01-01 00:04:00 BTC/USD 29048.13 29057.73 29035.61 29045.19 1.4465376                         42014.959434\n",
       "1609459380 2021-01-01 00:03:00 BTC/USD 29037.68 29069.39 29019.0  29048.13 2.18962055                        63604.382387\n",
       "1609459320 2021-01-01 00:02:00 BTC/USD 29069.8  29073.02 29028.14 29035.89 3.03030144                        87987.499279\n",
       "1609459260 2021-01-01 00:01:00 BTC/USD 29007.31 29086.9  29007.31 29083.47 14.56195084                      423512.060397\n",
       "\n",
       "[337365 rows x 1 columns]"
      ]
     },
     "execution_count": 4,
     "metadata": {},
     "output_type": "execute_result"
    }
   ],
   "source": [
    "df_2"
   ]
  },
  {
   "cell_type": "code",
   "execution_count": 5,
   "id": "22e94dde",
   "metadata": {
    "scrolled": true
   },
   "outputs": [],
   "source": [
    "df_2.drop(columns=[\"https://www.CryptoDataDownload.com\"], inplace=True)"
   ]
  },
  {
   "cell_type": "code",
   "execution_count": 6,
   "id": "eecfa3cb",
   "metadata": {},
   "outputs": [],
   "source": [
    "df_2.reset_index(inplace=True)"
   ]
  },
  {
   "cell_type": "code",
   "execution_count": 7,
   "id": "b6d1fc22",
   "metadata": {},
   "outputs": [],
   "source": [
    "df_2.columns = df_2.iloc[0]"
   ]
  },
  {
   "cell_type": "code",
   "execution_count": 8,
   "id": "18fbd0d6",
   "metadata": {
    "scrolled": true
   },
   "outputs": [],
   "source": [
    "df_2.drop([0], inplace=True)"
   ]
  },
  {
   "cell_type": "code",
   "execution_count": 9,
   "id": "7d0f8d90",
   "metadata": {},
   "outputs": [],
   "source": [
    "df_2.drop(columns=[\"unix\",\"symbol\"], inplace=True)"
   ]
  },
  {
   "cell_type": "code",
   "execution_count": 10,
   "id": "cb72eb2a",
   "metadata": {},
   "outputs": [],
   "source": [
    "df_2.rename(columns={\"Volume BTC\":\"Volume_BTC\"}, inplace=True)"
   ]
  },
  {
   "cell_type": "code",
   "execution_count": 11,
   "id": "48c3effe",
   "metadata": {},
   "outputs": [
    {
     "data": {
      "text/html": [
       "<div>\n",
       "<style scoped>\n",
       "    .dataframe tbody tr th:only-of-type {\n",
       "        vertical-align: middle;\n",
       "    }\n",
       "\n",
       "    .dataframe tbody tr th {\n",
       "        vertical-align: top;\n",
       "    }\n",
       "\n",
       "    .dataframe thead th {\n",
       "        text-align: right;\n",
       "    }\n",
       "</style>\n",
       "<table border=\"1\" class=\"dataframe\">\n",
       "  <thead>\n",
       "    <tr style=\"text-align: right;\">\n",
       "      <th></th>\n",
       "      <th>date</th>\n",
       "      <th>open</th>\n",
       "      <th>high</th>\n",
       "      <th>low</th>\n",
       "      <th>close</th>\n",
       "      <th>Volume_BTC</th>\n",
       "    </tr>\n",
       "  </thead>\n",
       "  <tbody>\n",
       "    <tr>\n",
       "      <th>1</th>\n",
       "      <td>2021-08-23 06:44:00</td>\n",
       "      <td>50139.68</td>\n",
       "      <td>50139.68</td>\n",
       "      <td>50139.68</td>\n",
       "      <td>50139.68</td>\n",
       "      <td>0.00000000</td>\n",
       "    </tr>\n",
       "    <tr>\n",
       "      <th>2</th>\n",
       "      <td>2021-08-23 06:43:00</td>\n",
       "      <td>50144.09</td>\n",
       "      <td>50144.09</td>\n",
       "      <td>50133.18</td>\n",
       "      <td>50139.68</td>\n",
       "      <td>1.87875000</td>\n",
       "    </tr>\n",
       "    <tr>\n",
       "      <th>3</th>\n",
       "      <td>2021-08-23 06:42:00</td>\n",
       "      <td>50140.78</td>\n",
       "      <td>50140.78</td>\n",
       "      <td>50120.62</td>\n",
       "      <td>50120.62</td>\n",
       "      <td>0.02177000</td>\n",
       "    </tr>\n",
       "    <tr>\n",
       "      <th>4</th>\n",
       "      <td>2021-08-23 06:41:00</td>\n",
       "      <td>50131.78</td>\n",
       "      <td>50135.63</td>\n",
       "      <td>50131.78</td>\n",
       "      <td>50135.63</td>\n",
       "      <td>0.36106794</td>\n",
       "    </tr>\n",
       "    <tr>\n",
       "      <th>5</th>\n",
       "      <td>2021-08-23 06:40:00</td>\n",
       "      <td>50072.44</td>\n",
       "      <td>50134.08</td>\n",
       "      <td>50072.44</td>\n",
       "      <td>50131.08</td>\n",
       "      <td>0.46310000</td>\n",
       "    </tr>\n",
       "    <tr>\n",
       "      <th>...</th>\n",
       "      <td>...</td>\n",
       "      <td>...</td>\n",
       "      <td>...</td>\n",
       "      <td>...</td>\n",
       "      <td>...</td>\n",
       "      <td>...</td>\n",
       "    </tr>\n",
       "    <tr>\n",
       "      <th>337360</th>\n",
       "      <td>2021-01-01 00:05:00</td>\n",
       "      <td>29021.86</td>\n",
       "      <td>29023.38</td>\n",
       "      <td>28982.33</td>\n",
       "      <td>28999.5</td>\n",
       "      <td>1.06236</td>\n",
       "    </tr>\n",
       "    <tr>\n",
       "      <th>337361</th>\n",
       "      <td>2021-01-01 00:04:00</td>\n",
       "      <td>29048.13</td>\n",
       "      <td>29057.73</td>\n",
       "      <td>29035.61</td>\n",
       "      <td>29045.19</td>\n",
       "      <td>1.446538</td>\n",
       "    </tr>\n",
       "    <tr>\n",
       "      <th>337362</th>\n",
       "      <td>2021-01-01 00:03:00</td>\n",
       "      <td>29037.68</td>\n",
       "      <td>29069.39</td>\n",
       "      <td>29019.0</td>\n",
       "      <td>29048.13</td>\n",
       "      <td>2.189621</td>\n",
       "    </tr>\n",
       "    <tr>\n",
       "      <th>337363</th>\n",
       "      <td>2021-01-01 00:02:00</td>\n",
       "      <td>29069.8</td>\n",
       "      <td>29073.02</td>\n",
       "      <td>29028.14</td>\n",
       "      <td>29035.89</td>\n",
       "      <td>3.030301</td>\n",
       "    </tr>\n",
       "    <tr>\n",
       "      <th>337364</th>\n",
       "      <td>2021-01-01 00:01:00</td>\n",
       "      <td>29007.31</td>\n",
       "      <td>29086.9</td>\n",
       "      <td>29007.31</td>\n",
       "      <td>29083.47</td>\n",
       "      <td>14.561951</td>\n",
       "    </tr>\n",
       "  </tbody>\n",
       "</table>\n",
       "<p>337364 rows × 6 columns</p>\n",
       "</div>"
      ],
      "text/plain": [
       "0                      date      open      high       low     close  \\\n",
       "1       2021-08-23 06:44:00  50139.68  50139.68  50139.68  50139.68   \n",
       "2       2021-08-23 06:43:00  50144.09  50144.09  50133.18  50139.68   \n",
       "3       2021-08-23 06:42:00  50140.78  50140.78  50120.62  50120.62   \n",
       "4       2021-08-23 06:41:00  50131.78  50135.63  50131.78  50135.63   \n",
       "5       2021-08-23 06:40:00  50072.44  50134.08  50072.44  50131.08   \n",
       "...                     ...       ...       ...       ...       ...   \n",
       "337360  2021-01-01 00:05:00  29021.86  29023.38  28982.33   28999.5   \n",
       "337361  2021-01-01 00:04:00  29048.13  29057.73  29035.61  29045.19   \n",
       "337362  2021-01-01 00:03:00  29037.68  29069.39   29019.0  29048.13   \n",
       "337363  2021-01-01 00:02:00   29069.8  29073.02  29028.14  29035.89   \n",
       "337364  2021-01-01 00:01:00  29007.31   29086.9  29007.31  29083.47   \n",
       "\n",
       "0       Volume_BTC  \n",
       "1       0.00000000  \n",
       "2       1.87875000  \n",
       "3       0.02177000  \n",
       "4       0.36106794  \n",
       "5       0.46310000  \n",
       "...            ...  \n",
       "337360     1.06236  \n",
       "337361    1.446538  \n",
       "337362    2.189621  \n",
       "337363    3.030301  \n",
       "337364   14.561951  \n",
       "\n",
       "[337364 rows x 6 columns]"
      ]
     },
     "execution_count": 11,
     "metadata": {},
     "output_type": "execute_result"
    }
   ],
   "source": [
    "df_2"
   ]
  },
  {
   "cell_type": "code",
   "execution_count": 12,
   "id": "ffae5d29",
   "metadata": {
    "scrolled": true
   },
   "outputs": [],
   "source": [
    "df_2[\"open\"]=df_2.open.astype(float)\n",
    "df_2[\"high\"]=df_2.high.astype(float)\n",
    "df_2[\"low\"]=df_2.low.astype(float)\n",
    "df_2[\"close\"]=df_2.close.astype(float)\n",
    "df_2[\"Volume_BTC\"]=df_2.Volume_BTC.astype(float)"
   ]
  },
  {
   "cell_type": "code",
   "execution_count": 13,
   "id": "6525853b",
   "metadata": {
    "scrolled": true
   },
   "outputs": [
    {
     "data": {
      "text/plain": [
       "0\n",
       "date           object\n",
       "open          float64\n",
       "high          float64\n",
       "low           float64\n",
       "close         float64\n",
       "Volume_BTC    float64\n",
       "dtype: object"
      ]
     },
     "execution_count": 13,
     "metadata": {},
     "output_type": "execute_result"
    }
   ],
   "source": [
    "df_2.dtypes"
   ]
  },
  {
   "cell_type": "code",
   "execution_count": 14,
   "id": "ca61c798",
   "metadata": {},
   "outputs": [],
   "source": [
    "df_2=df_2.iloc[::-1]"
   ]
  },
  {
   "cell_type": "code",
   "execution_count": 15,
   "id": "fdb6e3f0",
   "metadata": {},
   "outputs": [],
   "source": [
    "df_2.set_index(\"date\",inplace=True)"
   ]
  },
  {
   "cell_type": "code",
   "execution_count": 16,
   "id": "595dca19",
   "metadata": {},
   "outputs": [
    {
     "data": {
      "text/html": [
       "<div>\n",
       "<style scoped>\n",
       "    .dataframe tbody tr th:only-of-type {\n",
       "        vertical-align: middle;\n",
       "    }\n",
       "\n",
       "    .dataframe tbody tr th {\n",
       "        vertical-align: top;\n",
       "    }\n",
       "\n",
       "    .dataframe thead th {\n",
       "        text-align: right;\n",
       "    }\n",
       "</style>\n",
       "<table border=\"1\" class=\"dataframe\">\n",
       "  <thead>\n",
       "    <tr style=\"text-align: right;\">\n",
       "      <th></th>\n",
       "      <th>open</th>\n",
       "      <th>high</th>\n",
       "      <th>low</th>\n",
       "      <th>close</th>\n",
       "      <th>Volume_BTC</th>\n",
       "    </tr>\n",
       "    <tr>\n",
       "      <th>date</th>\n",
       "      <th></th>\n",
       "      <th></th>\n",
       "      <th></th>\n",
       "      <th></th>\n",
       "      <th></th>\n",
       "    </tr>\n",
       "  </thead>\n",
       "  <tbody>\n",
       "    <tr>\n",
       "      <th>2021-01-01 00:01:00</th>\n",
       "      <td>29007.31</td>\n",
       "      <td>29086.90</td>\n",
       "      <td>29007.31</td>\n",
       "      <td>29083.47</td>\n",
       "      <td>14.561951</td>\n",
       "    </tr>\n",
       "    <tr>\n",
       "      <th>2021-01-01 00:02:00</th>\n",
       "      <td>29069.80</td>\n",
       "      <td>29073.02</td>\n",
       "      <td>29028.14</td>\n",
       "      <td>29035.89</td>\n",
       "      <td>3.030301</td>\n",
       "    </tr>\n",
       "    <tr>\n",
       "      <th>2021-01-01 00:03:00</th>\n",
       "      <td>29037.68</td>\n",
       "      <td>29069.39</td>\n",
       "      <td>29019.00</td>\n",
       "      <td>29048.13</td>\n",
       "      <td>2.189621</td>\n",
       "    </tr>\n",
       "    <tr>\n",
       "      <th>2021-01-01 00:04:00</th>\n",
       "      <td>29048.13</td>\n",
       "      <td>29057.73</td>\n",
       "      <td>29035.61</td>\n",
       "      <td>29045.19</td>\n",
       "      <td>1.446538</td>\n",
       "    </tr>\n",
       "    <tr>\n",
       "      <th>2021-01-01 00:05:00</th>\n",
       "      <td>29021.86</td>\n",
       "      <td>29023.38</td>\n",
       "      <td>28982.33</td>\n",
       "      <td>28999.50</td>\n",
       "      <td>1.062360</td>\n",
       "    </tr>\n",
       "    <tr>\n",
       "      <th>...</th>\n",
       "      <td>...</td>\n",
       "      <td>...</td>\n",
       "      <td>...</td>\n",
       "      <td>...</td>\n",
       "      <td>...</td>\n",
       "    </tr>\n",
       "    <tr>\n",
       "      <th>2021-08-23 06:40:00</th>\n",
       "      <td>50072.44</td>\n",
       "      <td>50134.08</td>\n",
       "      <td>50072.44</td>\n",
       "      <td>50131.08</td>\n",
       "      <td>0.463100</td>\n",
       "    </tr>\n",
       "    <tr>\n",
       "      <th>2021-08-23 06:41:00</th>\n",
       "      <td>50131.78</td>\n",
       "      <td>50135.63</td>\n",
       "      <td>50131.78</td>\n",
       "      <td>50135.63</td>\n",
       "      <td>0.361068</td>\n",
       "    </tr>\n",
       "    <tr>\n",
       "      <th>2021-08-23 06:42:00</th>\n",
       "      <td>50140.78</td>\n",
       "      <td>50140.78</td>\n",
       "      <td>50120.62</td>\n",
       "      <td>50120.62</td>\n",
       "      <td>0.021770</td>\n",
       "    </tr>\n",
       "    <tr>\n",
       "      <th>2021-08-23 06:43:00</th>\n",
       "      <td>50144.09</td>\n",
       "      <td>50144.09</td>\n",
       "      <td>50133.18</td>\n",
       "      <td>50139.68</td>\n",
       "      <td>1.878750</td>\n",
       "    </tr>\n",
       "    <tr>\n",
       "      <th>2021-08-23 06:44:00</th>\n",
       "      <td>50139.68</td>\n",
       "      <td>50139.68</td>\n",
       "      <td>50139.68</td>\n",
       "      <td>50139.68</td>\n",
       "      <td>0.000000</td>\n",
       "    </tr>\n",
       "  </tbody>\n",
       "</table>\n",
       "<p>337364 rows × 5 columns</p>\n",
       "</div>"
      ],
      "text/plain": [
       "0                        open      high       low     close  Volume_BTC\n",
       "date                                                                   \n",
       "2021-01-01 00:01:00  29007.31  29086.90  29007.31  29083.47   14.561951\n",
       "2021-01-01 00:02:00  29069.80  29073.02  29028.14  29035.89    3.030301\n",
       "2021-01-01 00:03:00  29037.68  29069.39  29019.00  29048.13    2.189621\n",
       "2021-01-01 00:04:00  29048.13  29057.73  29035.61  29045.19    1.446538\n",
       "2021-01-01 00:05:00  29021.86  29023.38  28982.33  28999.50    1.062360\n",
       "...                       ...       ...       ...       ...         ...\n",
       "2021-08-23 06:40:00  50072.44  50134.08  50072.44  50131.08    0.463100\n",
       "2021-08-23 06:41:00  50131.78  50135.63  50131.78  50135.63    0.361068\n",
       "2021-08-23 06:42:00  50140.78  50140.78  50120.62  50120.62    0.021770\n",
       "2021-08-23 06:43:00  50144.09  50144.09  50133.18  50139.68    1.878750\n",
       "2021-08-23 06:44:00  50139.68  50139.68  50139.68  50139.68    0.000000\n",
       "\n",
       "[337364 rows x 5 columns]"
      ]
     },
     "execution_count": 16,
     "metadata": {},
     "output_type": "execute_result"
    }
   ],
   "source": [
    "df_2"
   ]
  },
  {
   "cell_type": "markdown",
   "id": "42e4b33d",
   "metadata": {},
   "source": [
    "## df_1 Data Preparation"
   ]
  },
  {
   "cell_type": "code",
   "execution_count": 17,
   "id": "1da85b88",
   "metadata": {},
   "outputs": [],
   "source": [
    "df_1.drop(columns=[\"Volume_(Currency)\",\"Weighted_Price\"], inplace=True)"
   ]
  },
  {
   "cell_type": "code",
   "execution_count": 18,
   "id": "b28f9208",
   "metadata": {},
   "outputs": [],
   "source": [
    "df_1.rename(columns={\"Timestamp\": \"date\",\n",
    "                     \"Open\": \"open\",\n",
    "                     \"High\":\"high\",\n",
    "                     \"Low\":\"low\",\n",
    "                     \"Close\":\"close\",\n",
    "                     \"Volume_(BTC)\":\"Volume_BTC\"}, \n",
    "            inplace=True\n",
    "                     )"
   ]
  },
  {
   "cell_type": "code",
   "execution_count": 19,
   "id": "820d3671",
   "metadata": {
    "scrolled": false
   },
   "outputs": [
    {
     "name": "stderr",
     "output_type": "stream",
     "text": [
      "/tmp/ipykernel_2896/1887864048.py:2: SettingWithCopyWarning: \n",
      "A value is trying to be set on a copy of a slice from a DataFrame\n",
      "\n",
      "See the caveats in the documentation: https://pandas.pydata.org/pandas-docs/stable/user_guide/indexing.html#returning-a-view-versus-a-copy\n",
      "  df_1[\"date\"][row]=datetime.fromtimestamp(df_1[\"date\"][row])\n"
     ]
    }
   ],
   "source": [
    "for row in range(len(df_1[\"date\"])):\n",
    "    df_1[\"date\"][row]=datetime.fromtimestamp(df_1[\"date\"][row])"
   ]
  },
  {
   "cell_type": "code",
   "execution_count": 20,
   "id": "bff09a11",
   "metadata": {
    "scrolled": true
   },
   "outputs": [
    {
     "data": {
      "text/plain": [
       "date           object\n",
       "open          float64\n",
       "high          float64\n",
       "low           float64\n",
       "close         float64\n",
       "Volume_BTC    float64\n",
       "dtype: object"
      ]
     },
     "execution_count": 20,
     "metadata": {},
     "output_type": "execute_result"
    }
   ],
   "source": [
    "df_1.dtypes"
   ]
  },
  {
   "cell_type": "code",
   "execution_count": 21,
   "id": "6f338d0c",
   "metadata": {},
   "outputs": [
    {
     "data": {
      "text/html": [
       "<div>\n",
       "<style scoped>\n",
       "    .dataframe tbody tr th:only-of-type {\n",
       "        vertical-align: middle;\n",
       "    }\n",
       "\n",
       "    .dataframe tbody tr th {\n",
       "        vertical-align: top;\n",
       "    }\n",
       "\n",
       "    .dataframe thead th {\n",
       "        text-align: right;\n",
       "    }\n",
       "</style>\n",
       "<table border=\"1\" class=\"dataframe\">\n",
       "  <thead>\n",
       "    <tr style=\"text-align: right;\">\n",
       "      <th></th>\n",
       "      <th>date</th>\n",
       "      <th>open</th>\n",
       "      <th>high</th>\n",
       "      <th>low</th>\n",
       "      <th>close</th>\n",
       "      <th>Volume_BTC</th>\n",
       "    </tr>\n",
       "  </thead>\n",
       "  <tbody>\n",
       "    <tr>\n",
       "      <th>0</th>\n",
       "      <td>2011-12-31 08:52:00</td>\n",
       "      <td>4.39</td>\n",
       "      <td>4.39</td>\n",
       "      <td>4.39</td>\n",
       "      <td>4.39</td>\n",
       "      <td>0.455581</td>\n",
       "    </tr>\n",
       "    <tr>\n",
       "      <th>1</th>\n",
       "      <td>2011-12-31 08:53:00</td>\n",
       "      <td>NaN</td>\n",
       "      <td>NaN</td>\n",
       "      <td>NaN</td>\n",
       "      <td>NaN</td>\n",
       "      <td>NaN</td>\n",
       "    </tr>\n",
       "    <tr>\n",
       "      <th>2</th>\n",
       "      <td>2011-12-31 08:54:00</td>\n",
       "      <td>NaN</td>\n",
       "      <td>NaN</td>\n",
       "      <td>NaN</td>\n",
       "      <td>NaN</td>\n",
       "      <td>NaN</td>\n",
       "    </tr>\n",
       "    <tr>\n",
       "      <th>3</th>\n",
       "      <td>2011-12-31 08:55:00</td>\n",
       "      <td>NaN</td>\n",
       "      <td>NaN</td>\n",
       "      <td>NaN</td>\n",
       "      <td>NaN</td>\n",
       "      <td>NaN</td>\n",
       "    </tr>\n",
       "    <tr>\n",
       "      <th>4</th>\n",
       "      <td>2011-12-31 08:56:00</td>\n",
       "      <td>NaN</td>\n",
       "      <td>NaN</td>\n",
       "      <td>NaN</td>\n",
       "      <td>NaN</td>\n",
       "      <td>NaN</td>\n",
       "    </tr>\n",
       "    <tr>\n",
       "      <th>...</th>\n",
       "      <td>...</td>\n",
       "      <td>...</td>\n",
       "      <td>...</td>\n",
       "      <td>...</td>\n",
       "      <td>...</td>\n",
       "      <td>...</td>\n",
       "    </tr>\n",
       "    <tr>\n",
       "      <th>4857372</th>\n",
       "      <td>2021-03-31 01:56:00</td>\n",
       "      <td>58714.31</td>\n",
       "      <td>58714.31</td>\n",
       "      <td>58686.00</td>\n",
       "      <td>58686.00</td>\n",
       "      <td>1.384487</td>\n",
       "    </tr>\n",
       "    <tr>\n",
       "      <th>4857373</th>\n",
       "      <td>2021-03-31 01:57:00</td>\n",
       "      <td>58683.97</td>\n",
       "      <td>58693.43</td>\n",
       "      <td>58683.97</td>\n",
       "      <td>58685.81</td>\n",
       "      <td>7.294848</td>\n",
       "    </tr>\n",
       "    <tr>\n",
       "      <th>4857374</th>\n",
       "      <td>2021-03-31 01:58:00</td>\n",
       "      <td>58693.43</td>\n",
       "      <td>58723.84</td>\n",
       "      <td>58693.43</td>\n",
       "      <td>58723.84</td>\n",
       "      <td>1.705682</td>\n",
       "    </tr>\n",
       "    <tr>\n",
       "      <th>4857375</th>\n",
       "      <td>2021-03-31 01:59:00</td>\n",
       "      <td>58742.18</td>\n",
       "      <td>58770.38</td>\n",
       "      <td>58742.18</td>\n",
       "      <td>58760.59</td>\n",
       "      <td>0.720415</td>\n",
       "    </tr>\n",
       "    <tr>\n",
       "      <th>4857376</th>\n",
       "      <td>2021-03-31 02:00:00</td>\n",
       "      <td>58767.75</td>\n",
       "      <td>58778.18</td>\n",
       "      <td>58755.97</td>\n",
       "      <td>58778.18</td>\n",
       "      <td>2.712831</td>\n",
       "    </tr>\n",
       "  </tbody>\n",
       "</table>\n",
       "<p>4857377 rows × 6 columns</p>\n",
       "</div>"
      ],
      "text/plain": [
       "                        date      open      high       low     close  \\\n",
       "0        2011-12-31 08:52:00      4.39      4.39      4.39      4.39   \n",
       "1        2011-12-31 08:53:00       NaN       NaN       NaN       NaN   \n",
       "2        2011-12-31 08:54:00       NaN       NaN       NaN       NaN   \n",
       "3        2011-12-31 08:55:00       NaN       NaN       NaN       NaN   \n",
       "4        2011-12-31 08:56:00       NaN       NaN       NaN       NaN   \n",
       "...                      ...       ...       ...       ...       ...   \n",
       "4857372  2021-03-31 01:56:00  58714.31  58714.31  58686.00  58686.00   \n",
       "4857373  2021-03-31 01:57:00  58683.97  58693.43  58683.97  58685.81   \n",
       "4857374  2021-03-31 01:58:00  58693.43  58723.84  58693.43  58723.84   \n",
       "4857375  2021-03-31 01:59:00  58742.18  58770.38  58742.18  58760.59   \n",
       "4857376  2021-03-31 02:00:00  58767.75  58778.18  58755.97  58778.18   \n",
       "\n",
       "         Volume_BTC  \n",
       "0          0.455581  \n",
       "1               NaN  \n",
       "2               NaN  \n",
       "3               NaN  \n",
       "4               NaN  \n",
       "...             ...  \n",
       "4857372    1.384487  \n",
       "4857373    7.294848  \n",
       "4857374    1.705682  \n",
       "4857375    0.720415  \n",
       "4857376    2.712831  \n",
       "\n",
       "[4857377 rows x 6 columns]"
      ]
     },
     "execution_count": 21,
     "metadata": {},
     "output_type": "execute_result"
    }
   ],
   "source": [
    "df_1"
   ]
  },
  {
   "cell_type": "markdown",
   "id": "55dbe016",
   "metadata": {},
   "source": [
    "# Joining Tables"
   ]
  },
  {
   "cell_type": "markdown",
   "id": "c3795b30",
   "metadata": {},
   "source": [
    "## Comparing Data"
   ]
  },
  {
   "cell_type": "code",
   "execution_count": 22,
   "id": "be8a3f29",
   "metadata": {},
   "outputs": [
    {
     "data": {
      "text/html": [
       "<div>\n",
       "<style scoped>\n",
       "    .dataframe tbody tr th:only-of-type {\n",
       "        vertical-align: middle;\n",
       "    }\n",
       "\n",
       "    .dataframe tbody tr th {\n",
       "        vertical-align: top;\n",
       "    }\n",
       "\n",
       "    .dataframe thead th {\n",
       "        text-align: right;\n",
       "    }\n",
       "</style>\n",
       "<table border=\"1\" class=\"dataframe\">\n",
       "  <thead>\n",
       "    <tr style=\"text-align: right;\">\n",
       "      <th></th>\n",
       "      <th>date</th>\n",
       "      <th>open</th>\n",
       "      <th>high</th>\n",
       "      <th>low</th>\n",
       "      <th>close</th>\n",
       "      <th>Volume_BTC</th>\n",
       "    </tr>\n",
       "  </thead>\n",
       "  <tbody>\n",
       "    <tr>\n",
       "      <th>4857376</th>\n",
       "      <td>2021-03-31 02:00:00</td>\n",
       "      <td>58767.75</td>\n",
       "      <td>58778.18</td>\n",
       "      <td>58755.97</td>\n",
       "      <td>58778.18</td>\n",
       "      <td>2.712831</td>\n",
       "    </tr>\n",
       "  </tbody>\n",
       "</table>\n",
       "</div>"
      ],
      "text/plain": [
       "                        date      open      high       low     close  \\\n",
       "4857376  2021-03-31 02:00:00  58767.75  58778.18  58755.97  58778.18   \n",
       "\n",
       "         Volume_BTC  \n",
       "4857376    2.712831  "
      ]
     },
     "execution_count": 22,
     "metadata": {},
     "output_type": "execute_result"
    }
   ],
   "source": [
    "df_1.loc[[4857376]]"
   ]
  },
  {
   "cell_type": "code",
   "execution_count": 23,
   "id": "ffe68420",
   "metadata": {},
   "outputs": [
    {
     "data": {
      "text/html": [
       "<div>\n",
       "<style scoped>\n",
       "    .dataframe tbody tr th:only-of-type {\n",
       "        vertical-align: middle;\n",
       "    }\n",
       "\n",
       "    .dataframe tbody tr th {\n",
       "        vertical-align: top;\n",
       "    }\n",
       "\n",
       "    .dataframe thead th {\n",
       "        text-align: right;\n",
       "    }\n",
       "</style>\n",
       "<table border=\"1\" class=\"dataframe\">\n",
       "  <thead>\n",
       "    <tr style=\"text-align: right;\">\n",
       "      <th></th>\n",
       "      <th>open</th>\n",
       "      <th>high</th>\n",
       "      <th>low</th>\n",
       "      <th>close</th>\n",
       "      <th>Volume_BTC</th>\n",
       "    </tr>\n",
       "    <tr>\n",
       "      <th>date</th>\n",
       "      <th></th>\n",
       "      <th></th>\n",
       "      <th></th>\n",
       "      <th></th>\n",
       "      <th></th>\n",
       "    </tr>\n",
       "  </thead>\n",
       "  <tbody>\n",
       "    <tr>\n",
       "      <th>2021-03-31 02:00:00</th>\n",
       "      <td>58915.87</td>\n",
       "      <td>58921.36</td>\n",
       "      <td>58900.64</td>\n",
       "      <td>58911.25</td>\n",
       "      <td>0.041504</td>\n",
       "    </tr>\n",
       "  </tbody>\n",
       "</table>\n",
       "</div>"
      ],
      "text/plain": [
       "0                        open      high       low     close  Volume_BTC\n",
       "date                                                                   \n",
       "2021-03-31 02:00:00  58915.87  58921.36  58900.64  58911.25    0.041504"
      ]
     },
     "execution_count": 23,
     "metadata": {},
     "output_type": "execute_result"
    }
   ],
   "source": [
    "df_2.loc[[\"2021-03-31 02:00:00\"]]"
   ]
  },
  {
   "cell_type": "markdown",
   "id": "17abbef7",
   "metadata": {},
   "source": [
    "There are differences between the data, so for that reason is possible that the result can be affected.\n",
    "In this case we will preserve the data with more information and complement (adding) the data with the table which has less  information."
   ]
  },
  {
   "cell_type": "markdown",
   "id": "60e98f90",
   "metadata": {},
   "source": [
    "## Modifing df_2 with the data needed"
   ]
  },
  {
   "cell_type": "code",
   "execution_count": 24,
   "id": "c9d930e1",
   "metadata": {
    "scrolled": true
   },
   "outputs": [],
   "source": [
    "df_2_modififed = df_2.reset_index()\n",
    "index = df_2_modififed[df_2_modififed[\"date\"]== \"2021-03-31 02:00:00\"].index\n",
    "list_index_for_deleting = [number_row for number_row in range(index[0]+1)]\n",
    "list_index_for_deleting\n",
    "df_2_modififed.drop(index=list_index_for_deleting, axis=0,inplace=True)"
   ]
  },
  {
   "cell_type": "markdown",
   "id": "1fb02052",
   "metadata": {},
   "source": [
    "## Joining table with concatenate"
   ]
  },
  {
   "cell_type": "code",
   "execution_count": 25,
   "id": "384a7429",
   "metadata": {},
   "outputs": [],
   "source": [
    "final_df =df_1.append(df_2_modififed)"
   ]
  },
  {
   "cell_type": "code",
   "execution_count": 26,
   "id": "5595e7bb",
   "metadata": {},
   "outputs": [
    {
     "data": {
      "text/html": [
       "<div>\n",
       "<style scoped>\n",
       "    .dataframe tbody tr th:only-of-type {\n",
       "        vertical-align: middle;\n",
       "    }\n",
       "\n",
       "    .dataframe tbody tr th {\n",
       "        vertical-align: top;\n",
       "    }\n",
       "\n",
       "    .dataframe thead th {\n",
       "        text-align: right;\n",
       "    }\n",
       "</style>\n",
       "<table border=\"1\" class=\"dataframe\">\n",
       "  <thead>\n",
       "    <tr style=\"text-align: right;\">\n",
       "      <th></th>\n",
       "      <th>date</th>\n",
       "      <th>open</th>\n",
       "      <th>high</th>\n",
       "      <th>low</th>\n",
       "      <th>close</th>\n",
       "      <th>Volume_BTC</th>\n",
       "    </tr>\n",
       "  </thead>\n",
       "  <tbody>\n",
       "    <tr>\n",
       "      <th>0</th>\n",
       "      <td>2011-12-31 08:52:00</td>\n",
       "      <td>4.39</td>\n",
       "      <td>4.39</td>\n",
       "      <td>4.39</td>\n",
       "      <td>4.39</td>\n",
       "      <td>0.455581</td>\n",
       "    </tr>\n",
       "    <tr>\n",
       "      <th>1</th>\n",
       "      <td>2011-12-31 08:53:00</td>\n",
       "      <td>NaN</td>\n",
       "      <td>NaN</td>\n",
       "      <td>NaN</td>\n",
       "      <td>NaN</td>\n",
       "      <td>NaN</td>\n",
       "    </tr>\n",
       "    <tr>\n",
       "      <th>2</th>\n",
       "      <td>2011-12-31 08:54:00</td>\n",
       "      <td>NaN</td>\n",
       "      <td>NaN</td>\n",
       "      <td>NaN</td>\n",
       "      <td>NaN</td>\n",
       "      <td>NaN</td>\n",
       "    </tr>\n",
       "    <tr>\n",
       "      <th>3</th>\n",
       "      <td>2011-12-31 08:55:00</td>\n",
       "      <td>NaN</td>\n",
       "      <td>NaN</td>\n",
       "      <td>NaN</td>\n",
       "      <td>NaN</td>\n",
       "      <td>NaN</td>\n",
       "    </tr>\n",
       "    <tr>\n",
       "      <th>4</th>\n",
       "      <td>2011-12-31 08:56:00</td>\n",
       "      <td>NaN</td>\n",
       "      <td>NaN</td>\n",
       "      <td>NaN</td>\n",
       "      <td>NaN</td>\n",
       "      <td>NaN</td>\n",
       "    </tr>\n",
       "    <tr>\n",
       "      <th>...</th>\n",
       "      <td>...</td>\n",
       "      <td>...</td>\n",
       "      <td>...</td>\n",
       "      <td>...</td>\n",
       "      <td>...</td>\n",
       "      <td>...</td>\n",
       "    </tr>\n",
       "    <tr>\n",
       "      <th>337359</th>\n",
       "      <td>2021-08-23 06:40:00</td>\n",
       "      <td>50072.44</td>\n",
       "      <td>50134.08</td>\n",
       "      <td>50072.44</td>\n",
       "      <td>50131.08</td>\n",
       "      <td>0.463100</td>\n",
       "    </tr>\n",
       "    <tr>\n",
       "      <th>337360</th>\n",
       "      <td>2021-08-23 06:41:00</td>\n",
       "      <td>50131.78</td>\n",
       "      <td>50135.63</td>\n",
       "      <td>50131.78</td>\n",
       "      <td>50135.63</td>\n",
       "      <td>0.361068</td>\n",
       "    </tr>\n",
       "    <tr>\n",
       "      <th>337361</th>\n",
       "      <td>2021-08-23 06:42:00</td>\n",
       "      <td>50140.78</td>\n",
       "      <td>50140.78</td>\n",
       "      <td>50120.62</td>\n",
       "      <td>50120.62</td>\n",
       "      <td>0.021770</td>\n",
       "    </tr>\n",
       "    <tr>\n",
       "      <th>337362</th>\n",
       "      <td>2021-08-23 06:43:00</td>\n",
       "      <td>50144.09</td>\n",
       "      <td>50144.09</td>\n",
       "      <td>50133.18</td>\n",
       "      <td>50139.68</td>\n",
       "      <td>1.878750</td>\n",
       "    </tr>\n",
       "    <tr>\n",
       "      <th>337363</th>\n",
       "      <td>2021-08-23 06:44:00</td>\n",
       "      <td>50139.68</td>\n",
       "      <td>50139.68</td>\n",
       "      <td>50139.68</td>\n",
       "      <td>50139.68</td>\n",
       "      <td>0.000000</td>\n",
       "    </tr>\n",
       "  </tbody>\n",
       "</table>\n",
       "<p>5066461 rows × 6 columns</p>\n",
       "</div>"
      ],
      "text/plain": [
       "                       date      open      high       low     close  \\\n",
       "0       2011-12-31 08:52:00      4.39      4.39      4.39      4.39   \n",
       "1       2011-12-31 08:53:00       NaN       NaN       NaN       NaN   \n",
       "2       2011-12-31 08:54:00       NaN       NaN       NaN       NaN   \n",
       "3       2011-12-31 08:55:00       NaN       NaN       NaN       NaN   \n",
       "4       2011-12-31 08:56:00       NaN       NaN       NaN       NaN   \n",
       "...                     ...       ...       ...       ...       ...   \n",
       "337359  2021-08-23 06:40:00  50072.44  50134.08  50072.44  50131.08   \n",
       "337360  2021-08-23 06:41:00  50131.78  50135.63  50131.78  50135.63   \n",
       "337361  2021-08-23 06:42:00  50140.78  50140.78  50120.62  50120.62   \n",
       "337362  2021-08-23 06:43:00  50144.09  50144.09  50133.18  50139.68   \n",
       "337363  2021-08-23 06:44:00  50139.68  50139.68  50139.68  50139.68   \n",
       "\n",
       "        Volume_BTC  \n",
       "0         0.455581  \n",
       "1              NaN  \n",
       "2              NaN  \n",
       "3              NaN  \n",
       "4              NaN  \n",
       "...            ...  \n",
       "337359    0.463100  \n",
       "337360    0.361068  \n",
       "337361    0.021770  \n",
       "337362    1.878750  \n",
       "337363    0.000000  \n",
       "\n",
       "[5066461 rows x 6 columns]"
      ]
     },
     "execution_count": 26,
     "metadata": {},
     "output_type": "execute_result"
    }
   ],
   "source": [
    "final_df"
   ]
  },
  {
   "cell_type": "markdown",
   "id": "2216e824",
   "metadata": {},
   "source": [
    "# Data Cleaning"
   ]
  },
  {
   "cell_type": "code",
   "execution_count": 27,
   "id": "bcaea583",
   "metadata": {},
   "outputs": [
    {
     "data": {
      "text/plain": [
       "date                0\n",
       "open          1243608\n",
       "high          1243608\n",
       "low           1243608\n",
       "close         1243608\n",
       "Volume_BTC    1243608\n",
       "dtype: int64"
      ]
     },
     "execution_count": 27,
     "metadata": {},
     "output_type": "execute_result"
    }
   ],
   "source": [
    "final_df.isnull().sum()"
   ]
  },
  {
   "cell_type": "code",
   "execution_count": 28,
   "id": "ac6dcac0",
   "metadata": {
    "scrolled": true
   },
   "outputs": [
    {
     "data": {
      "text/plain": [
       "date                0\n",
       "open          1243608\n",
       "high          1243608\n",
       "low           1243608\n",
       "close         1243608\n",
       "Volume_BTC    1243608\n",
       "dtype: int64"
      ]
     },
     "execution_count": 28,
     "metadata": {},
     "output_type": "execute_result"
    }
   ],
   "source": [
    "final_df.isna().sum()"
   ]
  },
  {
   "cell_type": "code",
   "execution_count": 31,
   "id": "ed43f7b9",
   "metadata": {
    "scrolled": false
   },
   "outputs": [],
   "source": [
    "final_df.dropna(inplace=True)"
   ]
  },
  {
   "cell_type": "code",
   "execution_count": 32,
   "id": "73d6f953",
   "metadata": {},
   "outputs": [
    {
     "data": {
      "text/plain": [
       "date          0\n",
       "open          0\n",
       "high          0\n",
       "low           0\n",
       "close         0\n",
       "Volume_BTC    0\n",
       "dtype: int64"
      ]
     },
     "execution_count": 32,
     "metadata": {},
     "output_type": "execute_result"
    }
   ],
   "source": [
    "final_df.isnull().sum()"
   ]
  },
  {
   "cell_type": "code",
   "execution_count": 33,
   "id": "9a8f414b",
   "metadata": {},
   "outputs": [
    {
     "data": {
      "text/plain": [
       "date          0\n",
       "open          0\n",
       "high          0\n",
       "low           0\n",
       "close         0\n",
       "Volume_BTC    0\n",
       "dtype: int64"
      ]
     },
     "execution_count": 33,
     "metadata": {},
     "output_type": "execute_result"
    }
   ],
   "source": [
    "final_df.isna().sum()"
   ]
  },
  {
   "cell_type": "markdown",
   "id": "3a1a2dfe",
   "metadata": {},
   "source": [
    "# Function for time interval selection"
   ]
  },
  {
   "cell_type": "code",
   "execution_count": null,
   "id": "720f447a",
   "metadata": {},
   "outputs": [],
   "source": []
  }
 ],
 "metadata": {
  "kernelspec": {
   "display_name": "Python 3 (ipykernel)",
   "language": "python",
   "name": "python3"
  },
  "language_info": {
   "codemirror_mode": {
    "name": "ipython",
    "version": 3
   },
   "file_extension": ".py",
   "mimetype": "text/x-python",
   "name": "python",
   "nbconvert_exporter": "python",
   "pygments_lexer": "ipython3",
   "version": "3.8.6"
  },
  "toc": {
   "base_numbering": 1,
   "nav_menu": {},
   "number_sections": true,
   "sideBar": true,
   "skip_h1_title": false,
   "title_cell": "Table of Contents",
   "title_sidebar": "Contents",
   "toc_cell": false,
   "toc_position": {},
   "toc_section_display": true,
   "toc_window_display": false
  }
 },
 "nbformat": 4,
 "nbformat_minor": 5
}
