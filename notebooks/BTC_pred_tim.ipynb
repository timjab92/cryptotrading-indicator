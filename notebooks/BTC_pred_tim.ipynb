{
 "cells": [
  {
   "cell_type": "markdown",
   "metadata": {
    "id": "7Ah1snjrTOaO"
   },
   "source": [
    "# Recurrent Neural Networks\n",
    "---\n",
    "# Predicting Stock Prices through an LSTM model"
   ]
  },
  {
   "cell_type": "code",
   "execution_count": 1,
   "metadata": {
    "executionInfo": {
     "elapsed": 450,
     "status": "ok",
     "timestamp": 1629966198358,
     "user": {
      "displayName": "Ivan Fernandes",
      "photoUrl": "https://lh3.googleusercontent.com/a-/AOh14GgHdj66drQjCguTVvVzCd5yy8cdMluPJPZlz_BQLg=s64",
      "userId": "12100132160237129013"
     },
     "user_tz": -120
    },
    "id": "qnAL4n0hTOaX"
   },
   "outputs": [],
   "source": [
    "''' Linear Algebra '''\n",
    "import pandas as pd\n",
    "import numpy as np\n",
    "\n",
    "'''Data visualization'''\n",
    "import matplotlib.pyplot as plt\n",
    "import seaborn as sns\n",
    "sns.set_style('whitegrid')\n",
    "plt.style.use(\"fivethirtyeight\")"
   ]
  },
  {
   "cell_type": "code",
   "execution_count": 2,
   "metadata": {
    "executionInfo": {
     "elapsed": 2,
     "status": "ok",
     "timestamp": 1629966199072,
     "user": {
      "displayName": "Ivan Fernandes",
      "photoUrl": "https://lh3.googleusercontent.com/a-/AOh14GgHdj66drQjCguTVvVzCd5yy8cdMluPJPZlz_BQLg=s64",
      "userId": "12100132160237129013"
     },
     "user_tz": -120
    },
    "id": "5xjbJ62hTOaa"
   },
   "outputs": [],
   "source": [
    "''' Handling timestamps'''\n",
    "import datetime\n",
    "from datetime import datetime"
   ]
  },
  {
   "cell_type": "code",
   "execution_count": 3,
   "metadata": {
    "colab": {
     "base_uri": "https://localhost:8080/"
    },
    "executionInfo": {
     "elapsed": 351,
     "status": "ok",
     "timestamp": 1629966293996,
     "user": {
      "displayName": "Ivan Fernandes",
      "photoUrl": "https://lh3.googleusercontent.com/a-/AOh14GgHdj66drQjCguTVvVzCd5yy8cdMluPJPZlz_BQLg=s64",
      "userId": "12100132160237129013"
     },
     "user_tz": -120
    },
    "id": "yycPaAz_a6Sy",
    "outputId": "bc68dbc7-c65e-453c-f4a0-991e24e1ee68",
    "scrolled": true
   },
   "outputs": [],
   "source": [
    "# url = 'https://raw.githubusercontent.com/timjab92/cryptotradingindicator/master/data/BTCUSD_4hours.csv'\n",
    "\n",
    "# data = pd.read_csv(url)\n",
    "# # Dataset is now stored in a Pandas Dataframe\n",
    "# data = data.drop(columns=\"Unnamed: 0\").set_index(\"date\")"
   ]
  },
  {
   "cell_type": "code",
   "execution_count": 4,
   "metadata": {},
   "outputs": [
    {
     "name": "stdout",
     "output_type": "stream",
     "text": [
      "/home/timjab92/code/timjab92/cryptotrading-indicator/notebooks\r\n"
     ]
    }
   ],
   "source": [
    "!pwd"
   ]
  },
  {
   "cell_type": "code",
   "execution_count": 5,
   "metadata": {},
   "outputs": [],
   "source": [
    "data = pd.read_csv(\"../data/BTC4h.csv\")"
   ]
  },
  {
   "cell_type": "code",
   "execution_count": 6,
   "metadata": {},
   "outputs": [],
   "source": [
    "def get_new_data():\n",
    "    data = pd.read_csv(\"../data/BTC4h.csv\")\n",
    "    data['date'] = pd.to_datetime(data.date)\n",
    "    data = data.set_index('date')\n",
    "    return data\n",
    "\n",
    "data = get_new_data()"
   ]
  },
  {
   "cell_type": "code",
   "execution_count": 8,
   "metadata": {},
   "outputs": [],
   "source": [
    "CLOSE = 'log_close'"
   ]
  },
  {
   "cell_type": "code",
   "execution_count": 9,
   "metadata": {
    "colab": {
     "base_uri": "https://localhost:8080/",
     "height": 293
    },
    "executionInfo": {
     "elapsed": 535,
     "status": "ok",
     "timestamp": 1629966974930,
     "user": {
      "displayName": "Ivan Fernandes",
      "photoUrl": "https://lh3.googleusercontent.com/a-/AOh14GgHdj66drQjCguTVvVzCd5yy8cdMluPJPZlz_BQLg=s64",
      "userId": "12100132160237129013"
     },
     "user_tz": -120
    },
    "id": "RIJL_ZcKTOaj",
    "outputId": "b6065065-d451-4581-df07-0531602adf36"
   },
   "outputs": [],
   "source": [
    "import requests\n",
    "def get_coingecko():\n",
    "    #ohlc\n",
    "    url = \"https://api.coingecko.com/api/v3/coins/bitcoin/ohlc?vs_currency=usd&days=30\"\n",
    "    response = requests.get(url).json()\n",
    "    #cleaning\n",
    "    data_api = pd.DataFrame(response, columns = ['unix_time','open', 'high', 'low', 'close'])\n",
    "    data_api[\"Date\"] = pd.to_datetime(data_api[\"unix_time\"], unit='ms')\n",
    "    data_api = data_api.drop(columns='unix_time').set_index('Date')\n",
    "\n",
    "    #volume\n",
    "    url = \"https://api.coingecko.com/api/v3/coins/bitcoin/market_chart?vs_currency=usd&days=30\"\n",
    "    response = requests.get(url).json()\n",
    "\n",
    "    volume = pd.DataFrame(response['total_volumes'], columns=[\"unix_time\",\"volume\"])\n",
    "    volume['date'] = pd.to_datetime(pd.to_datetime(volume['unix_time'],unit='ms').dt.strftime(\"%Y/%m/%d, %H:00:00\"))\n",
    "    volume = volume.drop(columns='unix_time').set_index('date')\n",
    "\n",
    "    #resample hourly into 4h\n",
    "    volume = volume.resample(\"4H\").mean()\n",
    "\n",
    "    #concatinate\n",
    "    volume = volume[-180:]\n",
    "    data_api = data_api[-181:-1]\n",
    "    full = pd.concat([data_api, volume], axis=1)\n",
    "    full.columns=['open', 'high', 'low', 'close', 'volume']\n",
    "\n",
    "    for x in ['open', 'high', 'low', 'close']:\n",
    "        full[f'log_{x}'] = full[x].apply(lambda x: np.log(x))\n",
    "\n",
    "    data_api = full.copy()\n",
    "\n",
    "    return data_api\n",
    "\n",
    "\n",
    "def feature_engineer(data):\n",
    "    \"\"\"\n",
    "    Adds the EMAs, StochRSI, BollingerBands and Volume Rate of Change to the dataframe\n",
    "    \"\"\"\n",
    "    add_ema(data)\n",
    "    add_stoch_rsi(data)\n",
    "    add_bollinger(data,data[CLOSE])\n",
    "    add_vol_roc(data)\n",
    "    data['4h Return'] = data[CLOSE].pct_change()\n",
    "    data['4h Gradient'] = data[CLOSE].diff()\n",
    "    data['boll_width'] = data['bollinger_up'] - data['bollinger_down']\n",
    "    data['stoch_rsi'] = (data['K'] + data['D']) / 2\n",
    "    data['perc_bb'] = (data[CLOSE] - data['bollinger_down']) / (data['bollinger_up'] - data['bollinger_down'])\n",
    "\n",
    "    return data\n",
    "\n",
    "## add other features\n",
    "\n",
    "def add_ema(data, tspan=[12,26,21,50,34,55,99,200]):\n",
    "    \"\"\"\n",
    "    Adds Exponential Moving Averages (EMA) to the dataframe. The default timeframes are 12,26,20,50,34 and 55.\n",
    "    \"\"\"\n",
    "    for t in tspan:\n",
    "        data[f'ema{t}'] = data[CLOSE].ewm(span=t).mean()\n",
    "        data[f'dist_ema{t}'] = data[CLOSE] - data[f'ema{t}']\n",
    "    return data\n",
    "\n",
    "\n",
    "def computeRSI(data, window=14):\n",
    "    \"\"\"\n",
    "    Computes the Relative Stregth Index for a given dataset and the window can be defined. Its default value is 14.\n",
    "    \"\"\"\n",
    "    diff = data.diff(1).dropna()        # diff in one field(one day)\n",
    "\n",
    "    #this preservers dimensions off diff values\n",
    "    up_chg = 0 * diff\n",
    "    down_chg = 0 * diff\n",
    "    \n",
    "    # up change is equal to the positive difference, otherwise equal to zero\n",
    "    up_chg[diff > 0] = diff[ diff>0 ]\n",
    "    # down change is equal to negative deifference, otherwise equal to zero\n",
    "    down_chg[diff < 0] = diff[ diff < 0 ]\n",
    "    \n",
    "    # check pandas documentation for ewm\n",
    "    # https://pandas.pydata.org/pandas-docs/stable/reference/api/pandas.DataFrame.ewm.html\n",
    "    # values are related to exponential decay\n",
    "    # we set com=window-1 so we get decay alpha=1/window\n",
    "    up_chg_avg   = up_chg.ewm(com=window-1 , min_periods=window).mean()\n",
    "    down_chg_avg = down_chg.ewm(com=window-1 , min_periods=window).mean()\n",
    "    \n",
    "    rs = abs(up_chg_avg/down_chg_avg)\n",
    "    rsi = 100 - 100/(1+rs)\n",
    "    return rsi\n",
    "\n",
    "\n",
    "def stoch_rsi(rsi, d_window=3, k_window=3, window=14):\n",
    "    \"\"\"\n",
    "    Computes the stochastic RSI. Default values are d=3, k=3, window=14.\n",
    "    \"\"\"\n",
    "    minrsi = rsi.rolling(window=window, center=False).min()\n",
    "    maxrsi = rsi.rolling(window=window, center=False).max()\n",
    "    stoch = ((rsi - minrsi) / (maxrsi - minrsi)) * 100\n",
    "    K = stoch.rolling(window=k_window, center=False).mean()\n",
    "    D = K.rolling(window=d_window, center=False).mean() \n",
    "    return K, D  \n",
    "\n",
    "\n",
    "def add_stoch_rsi(data, d_window=3, k_window=3, window=14):\n",
    "    data['rsi'] = computeRSI(data[CLOSE], window)\n",
    "    data['K'], data['D'] = stoch_rsi(data['rsi'], d_window, k_window, window)\n",
    "    return data\n",
    "\n",
    "\n",
    "def get_bollinger_bands(prices, rate=20):\n",
    "    sma = prices.rolling(rate).mean() # <-- Get SMA for 20 days\n",
    "    std = prices.rolling(rate).std() # <-- Get rolling standard deviation for 20 days\n",
    "    bollinger_up = sma + std * 2 # Calculate top band\n",
    "    bollinger_down = sma - std * 2 # Calculate bottom band\n",
    "    return sma, bollinger_up, bollinger_down\n",
    "\n",
    "\n",
    "def add_bollinger(data, prices, rate=20):\n",
    "    data['sma'], data['bollinger_up'], data['bollinger_down'] = get_bollinger_bands(prices)\n",
    "    for i in ['bollinger_up', 'bollinger_down']:\n",
    "        data[f'dist_{i}'] = data[CLOSE] - data[i]\n",
    "    return data\n",
    "\n",
    "\n",
    "def add_vol_roc(data):\n",
    "    data['vol_roc'] = data.volume.pct_change()\n",
    "    return data\n"
   ]
  },
  {
   "cell_type": "code",
   "execution_count": 10,
   "metadata": {},
   "outputs": [],
   "source": [
    "def get_train_data():\n",
    "    \"\"\"\n",
    "    Returns the raw training dataset for the price of bitcoin since 31.12.2011.\n",
    "    The index is set to the date.\n",
    "    \"\"\"\n",
    "    data = pd.read_csv(\"../data/BTCUSD_4hours.csv\")\n",
    "    data['date'] = pd.to_datetime(data.date)\n",
    "    data_train = data.drop(columns=\"Unnamed: 0\").set_index(\"date\")\n",
    "    return data_train\n",
    "\n",
    "\n",
    "def minmaxscaling(data_train):\n",
    "    \"\"\"\n",
    "    applies the minmaxscaler to the training set. Attention! Output needs to be\n",
    "    defined for data_train_scaled, min1 and range1!!\n",
    "    \"\"\"\n",
    "    minmax_scaler = MinMaxScaler(feature_range=(0, 1))\n",
    "    minmax_scaler.fit(data_train)\n",
    "    data_train_scaled = minmax_scaler.transform(data_train)\n",
    "    #    min1 = minmax_scaler.data_min_  # [5:9] for log_prices\n",
    "    #    range1 = minmax_scaler.data_range_  #[5:9]\n",
    "    return data_train_scaled, minmax_scaler\n",
    "\n",
    "\n",
    "def get_xgecko(length=60, horizon=1):\n",
    "    \"\"\"\n",
    "    Calls the coingecko API and returns the data used for prediction.\n",
    "    x_gecko.shape == (no_sequ , length, no_features)\n",
    "    \"\"\"\n",
    "    x_gecko = feature_engineer(get_coingecko())[[CLOSE]][-length:]\n",
    "    #get scaler the long way\n",
    "    data_train = feature_engineer(get_train_data())[[CLOSE]]\n",
    "    data_train_scaled, scaler = minmaxscaling(data_train)\n",
    "\n",
    "    x_gecko_scaled = scaler.transform(x_gecko)\n",
    "    x_gecko = np.array(x_gecko_scaled)\n",
    "    x_gecko = np.reshape(x_gecko, (horizon, length, 1))\n",
    "    return x_gecko"
   ]
  },
  {
   "cell_type": "markdown",
   "metadata": {
    "id": "hnO1Kw4mTOam"
   },
   "source": [
    "### Daily return\n",
    "\n",
    "$ return = \\frac{new - old}{old} $"
   ]
  },
  {
   "cell_type": "code",
   "execution_count": 11,
   "metadata": {},
   "outputs": [],
   "source": [
    "data = feature_engineer(data)"
   ]
  },
  {
   "cell_type": "code",
   "execution_count": null,
   "metadata": {
    "executionInfo": {
     "elapsed": 3,
     "status": "ok",
     "timestamp": 1629966976844,
     "user": {
      "displayName": "Ivan Fernandes",
      "photoUrl": "https://lh3.googleusercontent.com/a-/AOh14GgHdj66drQjCguTVvVzCd5yy8cdMluPJPZlz_BQLg=s64",
      "userId": "12100132160237129013"
     },
     "user_tz": -120
    },
    "id": "OkM8CpqykqFz"
   },
   "outputs": [],
   "source": []
  },
  {
   "cell_type": "code",
   "execution_count": 12,
   "metadata": {
    "executionInfo": {
     "elapsed": 3,
     "status": "ok",
     "timestamp": 1629966978166,
     "user": {
      "displayName": "Ivan Fernandes",
      "photoUrl": "https://lh3.googleusercontent.com/a-/AOh14GgHdj66drQjCguTVvVzCd5yy8cdMluPJPZlz_BQLg=s64",
      "userId": "12100132160237129013"
     },
     "user_tz": -120
    },
    "id": "pjzEF_95arJY"
   },
   "outputs": [],
   "source": [
    "data = data.dropna()"
   ]
  },
  {
   "cell_type": "code",
   "execution_count": 13,
   "metadata": {},
   "outputs": [
    {
     "data": {
      "text/html": [
       "<div>\n",
       "<style scoped>\n",
       "    .dataframe tbody tr th:only-of-type {\n",
       "        vertical-align: middle;\n",
       "    }\n",
       "\n",
       "    .dataframe tbody tr th {\n",
       "        vertical-align: top;\n",
       "    }\n",
       "\n",
       "    .dataframe thead th {\n",
       "        text-align: right;\n",
       "    }\n",
       "</style>\n",
       "<table border=\"1\" class=\"dataframe\">\n",
       "  <thead>\n",
       "    <tr style=\"text-align: right;\">\n",
       "      <th></th>\n",
       "      <th>open</th>\n",
       "      <th>high</th>\n",
       "      <th>low</th>\n",
       "      <th>close</th>\n",
       "      <th>volume</th>\n",
       "      <th>log_open</th>\n",
       "      <th>log_high</th>\n",
       "      <th>log_low</th>\n",
       "      <th>log_close</th>\n",
       "      <th>ema12</th>\n",
       "      <th>...</th>\n",
       "      <th>bollinger_up</th>\n",
       "      <th>bollinger_down</th>\n",
       "      <th>dist_bollinger_up</th>\n",
       "      <th>dist_bollinger_down</th>\n",
       "      <th>vol_roc</th>\n",
       "      <th>4h Return</th>\n",
       "      <th>4h Gradient</th>\n",
       "      <th>boll_width</th>\n",
       "      <th>stoch_rsi</th>\n",
       "      <th>perc_bb</th>\n",
       "    </tr>\n",
       "    <tr>\n",
       "      <th>date</th>\n",
       "      <th></th>\n",
       "      <th></th>\n",
       "      <th></th>\n",
       "      <th></th>\n",
       "      <th></th>\n",
       "      <th></th>\n",
       "      <th></th>\n",
       "      <th></th>\n",
       "      <th></th>\n",
       "      <th></th>\n",
       "      <th></th>\n",
       "      <th></th>\n",
       "      <th></th>\n",
       "      <th></th>\n",
       "      <th></th>\n",
       "      <th></th>\n",
       "      <th></th>\n",
       "      <th></th>\n",
       "      <th></th>\n",
       "      <th></th>\n",
       "      <th></th>\n",
       "    </tr>\n",
       "  </thead>\n",
       "  <tbody>\n",
       "    <tr>\n",
       "      <th>2015-10-13 20:00:00</th>\n",
       "      <td>250.35</td>\n",
       "      <td>250.42</td>\n",
       "      <td>250.00</td>\n",
       "      <td>250.42</td>\n",
       "      <td>4.212360</td>\n",
       "      <td>5.522860</td>\n",
       "      <td>5.523140</td>\n",
       "      <td>5.521461</td>\n",
       "      <td>5.523140</td>\n",
       "      <td>5.517817</td>\n",
       "      <td>...</td>\n",
       "      <td>5.529435</td>\n",
       "      <td>5.497779</td>\n",
       "      <td>-0.006295</td>\n",
       "      <td>0.025361</td>\n",
       "      <td>1.008111</td>\n",
       "      <td>0.000051</td>\n",
       "      <td>0.000280</td>\n",
       "      <td>0.031656</td>\n",
       "      <td>43.358767</td>\n",
       "      <td>0.801141</td>\n",
       "    </tr>\n",
       "    <tr>\n",
       "      <th>2015-10-14 00:00:00</th>\n",
       "      <td>250.42</td>\n",
       "      <td>251.08</td>\n",
       "      <td>250.42</td>\n",
       "      <td>251.00</td>\n",
       "      <td>13.965352</td>\n",
       "      <td>5.523140</td>\n",
       "      <td>5.525772</td>\n",
       "      <td>5.523140</td>\n",
       "      <td>5.525453</td>\n",
       "      <td>5.518997</td>\n",
       "      <td>...</td>\n",
       "      <td>5.530550</td>\n",
       "      <td>5.498932</td>\n",
       "      <td>-0.005097</td>\n",
       "      <td>0.026521</td>\n",
       "      <td>2.315327</td>\n",
       "      <td>0.000419</td>\n",
       "      <td>0.002313</td>\n",
       "      <td>0.031618</td>\n",
       "      <td>41.877594</td>\n",
       "      <td>0.838801</td>\n",
       "    </tr>\n",
       "    <tr>\n",
       "      <th>2015-10-14 04:00:00</th>\n",
       "      <td>251.00</td>\n",
       "      <td>251.00</td>\n",
       "      <td>250.70</td>\n",
       "      <td>251.00</td>\n",
       "      <td>12.449493</td>\n",
       "      <td>5.525453</td>\n",
       "      <td>5.525453</td>\n",
       "      <td>5.524257</td>\n",
       "      <td>5.525453</td>\n",
       "      <td>5.519993</td>\n",
       "      <td>...</td>\n",
       "      <td>5.531692</td>\n",
       "      <td>5.499680</td>\n",
       "      <td>-0.006239</td>\n",
       "      <td>0.025773</td>\n",
       "      <td>-0.108544</td>\n",
       "      <td>0.000000</td>\n",
       "      <td>0.000000</td>\n",
       "      <td>0.032012</td>\n",
       "      <td>43.412828</td>\n",
       "      <td>0.805103</td>\n",
       "    </tr>\n",
       "    <tr>\n",
       "      <th>2015-10-14 08:00:00</th>\n",
       "      <td>251.00</td>\n",
       "      <td>251.86</td>\n",
       "      <td>251.00</td>\n",
       "      <td>251.15</td>\n",
       "      <td>8.686492</td>\n",
       "      <td>5.525453</td>\n",
       "      <td>5.528873</td>\n",
       "      <td>5.525453</td>\n",
       "      <td>5.526050</td>\n",
       "      <td>5.520928</td>\n",
       "      <td>...</td>\n",
       "      <td>5.532699</td>\n",
       "      <td>5.500623</td>\n",
       "      <td>-0.006649</td>\n",
       "      <td>0.025428</td>\n",
       "      <td>-0.302261</td>\n",
       "      <td>0.000108</td>\n",
       "      <td>0.000597</td>\n",
       "      <td>0.032077</td>\n",
       "      <td>49.118346</td>\n",
       "      <td>0.792714</td>\n",
       "    </tr>\n",
       "    <tr>\n",
       "      <th>2015-10-14 12:00:00</th>\n",
       "      <td>251.15</td>\n",
       "      <td>253.00</td>\n",
       "      <td>251.15</td>\n",
       "      <td>253.00</td>\n",
       "      <td>2.049007</td>\n",
       "      <td>5.526050</td>\n",
       "      <td>5.533389</td>\n",
       "      <td>5.526050</td>\n",
       "      <td>5.533389</td>\n",
       "      <td>5.522850</td>\n",
       "      <td>...</td>\n",
       "      <td>5.534945</td>\n",
       "      <td>5.501061</td>\n",
       "      <td>-0.001556</td>\n",
       "      <td>0.032329</td>\n",
       "      <td>-0.764116</td>\n",
       "      <td>0.001328</td>\n",
       "      <td>0.007339</td>\n",
       "      <td>0.033885</td>\n",
       "      <td>59.940756</td>\n",
       "      <td>0.954085</td>\n",
       "    </tr>\n",
       "  </tbody>\n",
       "</table>\n",
       "<p>5 rows × 39 columns</p>\n",
       "</div>"
      ],
      "text/plain": [
       "                       open    high     low   close     volume  log_open  \\\n",
       "date                                                                       \n",
       "2015-10-13 20:00:00  250.35  250.42  250.00  250.42   4.212360  5.522860   \n",
       "2015-10-14 00:00:00  250.42  251.08  250.42  251.00  13.965352  5.523140   \n",
       "2015-10-14 04:00:00  251.00  251.00  250.70  251.00  12.449493  5.525453   \n",
       "2015-10-14 08:00:00  251.00  251.86  251.00  251.15   8.686492  5.525453   \n",
       "2015-10-14 12:00:00  251.15  253.00  251.15  253.00   2.049007  5.526050   \n",
       "\n",
       "                     log_high   log_low  log_close     ema12  ...  \\\n",
       "date                                                          ...   \n",
       "2015-10-13 20:00:00  5.523140  5.521461   5.523140  5.517817  ...   \n",
       "2015-10-14 00:00:00  5.525772  5.523140   5.525453  5.518997  ...   \n",
       "2015-10-14 04:00:00  5.525453  5.524257   5.525453  5.519993  ...   \n",
       "2015-10-14 08:00:00  5.528873  5.525453   5.526050  5.520928  ...   \n",
       "2015-10-14 12:00:00  5.533389  5.526050   5.533389  5.522850  ...   \n",
       "\n",
       "                     bollinger_up  bollinger_down  dist_bollinger_up  \\\n",
       "date                                                                   \n",
       "2015-10-13 20:00:00      5.529435        5.497779          -0.006295   \n",
       "2015-10-14 00:00:00      5.530550        5.498932          -0.005097   \n",
       "2015-10-14 04:00:00      5.531692        5.499680          -0.006239   \n",
       "2015-10-14 08:00:00      5.532699        5.500623          -0.006649   \n",
       "2015-10-14 12:00:00      5.534945        5.501061          -0.001556   \n",
       "\n",
       "                     dist_bollinger_down   vol_roc  4h Return  4h Gradient  \\\n",
       "date                                                                         \n",
       "2015-10-13 20:00:00             0.025361  1.008111   0.000051     0.000280   \n",
       "2015-10-14 00:00:00             0.026521  2.315327   0.000419     0.002313   \n",
       "2015-10-14 04:00:00             0.025773 -0.108544   0.000000     0.000000   \n",
       "2015-10-14 08:00:00             0.025428 -0.302261   0.000108     0.000597   \n",
       "2015-10-14 12:00:00             0.032329 -0.764116   0.001328     0.007339   \n",
       "\n",
       "                     boll_width  stoch_rsi   perc_bb  \n",
       "date                                                  \n",
       "2015-10-13 20:00:00    0.031656  43.358767  0.801141  \n",
       "2015-10-14 00:00:00    0.031618  41.877594  0.838801  \n",
       "2015-10-14 04:00:00    0.032012  43.412828  0.805103  \n",
       "2015-10-14 08:00:00    0.032077  49.118346  0.792714  \n",
       "2015-10-14 12:00:00    0.033885  59.940756  0.954085  \n",
       "\n",
       "[5 rows x 39 columns]"
      ]
     },
     "execution_count": 13,
     "metadata": {},
     "output_type": "execute_result"
    }
   ],
   "source": [
    "data.head()"
   ]
  },
  {
   "cell_type": "markdown",
   "metadata": {
    "id": "yB-e6gSuarJp"
   },
   "source": [
    "## BITCOIN Price"
   ]
  },
  {
   "cell_type": "code",
   "execution_count": 14,
   "metadata": {},
   "outputs": [],
   "source": [
    "import seaborn as sns"
   ]
  },
  {
   "cell_type": "code",
   "execution_count": 15,
   "metadata": {},
   "outputs": [
    {
     "data": {
      "text/plain": [
       "Index(['open', 'high', 'low', 'close', 'volume', 'log_open', 'log_high',\n",
       "       'log_low', 'log_close', 'ema12', 'dist_ema12', 'ema26', 'dist_ema26',\n",
       "       'ema21', 'dist_ema21', 'ema50', 'dist_ema50', 'ema34', 'dist_ema34',\n",
       "       'ema55', 'dist_ema55', 'ema99', 'dist_ema99', 'ema200', 'dist_ema200',\n",
       "       'rsi', 'K', 'D', 'sma', 'bollinger_up', 'bollinger_down',\n",
       "       'dist_bollinger_up', 'dist_bollinger_down', 'vol_roc', '4h Return',\n",
       "       '4h Gradient', 'boll_width', 'stoch_rsi', 'perc_bb'],\n",
       "      dtype='object')"
      ]
     },
     "execution_count": 15,
     "metadata": {},
     "output_type": "execute_result"
    }
   ],
   "source": [
    "data.keys()"
   ]
  },
  {
   "cell_type": "code",
   "execution_count": 16,
   "metadata": {},
   "outputs": [
    {
     "data": {
      "text/html": [
       "<div>\n",
       "<style scoped>\n",
       "    .dataframe tbody tr th:only-of-type {\n",
       "        vertical-align: middle;\n",
       "    }\n",
       "\n",
       "    .dataframe tbody tr th {\n",
       "        vertical-align: top;\n",
       "    }\n",
       "\n",
       "    .dataframe thead th {\n",
       "        text-align: right;\n",
       "    }\n",
       "</style>\n",
       "<table border=\"1\" class=\"dataframe\">\n",
       "  <thead>\n",
       "    <tr style=\"text-align: right;\">\n",
       "      <th></th>\n",
       "      <th>open</th>\n",
       "      <th>high</th>\n",
       "      <th>low</th>\n",
       "      <th>close</th>\n",
       "      <th>volume</th>\n",
       "      <th>log_open</th>\n",
       "      <th>log_high</th>\n",
       "      <th>log_low</th>\n",
       "      <th>log_close</th>\n",
       "      <th>ema12</th>\n",
       "      <th>...</th>\n",
       "      <th>bollinger_up</th>\n",
       "      <th>bollinger_down</th>\n",
       "      <th>dist_bollinger_up</th>\n",
       "      <th>dist_bollinger_down</th>\n",
       "      <th>vol_roc</th>\n",
       "      <th>4h Return</th>\n",
       "      <th>4h Gradient</th>\n",
       "      <th>boll_width</th>\n",
       "      <th>stoch_rsi</th>\n",
       "      <th>perc_bb</th>\n",
       "    </tr>\n",
       "  </thead>\n",
       "  <tbody>\n",
       "    <tr>\n",
       "      <th>open</th>\n",
       "      <td>1.000000</td>\n",
       "      <td>0.999861</td>\n",
       "      <td>0.999735</td>\n",
       "      <td>0.999701</td>\n",
       "      <td>-0.044233</td>\n",
       "      <td>0.770054</td>\n",
       "      <td>0.770039</td>\n",
       "      <td>0.769864</td>\n",
       "      <td>0.769972</td>\n",
       "      <td>0.769700</td>\n",
       "      <td>...</td>\n",
       "      <td>0.769038</td>\n",
       "      <td>0.769054</td>\n",
       "      <td>-0.106494</td>\n",
       "      <td>0.129352</td>\n",
       "      <td>-0.012639</td>\n",
       "      <td>-0.012805</td>\n",
       "      <td>-0.010607</td>\n",
       "      <td>0.172846</td>\n",
       "      <td>0.000564</td>\n",
       "      <td>-0.021310</td>\n",
       "    </tr>\n",
       "    <tr>\n",
       "      <th>high</th>\n",
       "      <td>0.999861</td>\n",
       "      <td>1.000000</td>\n",
       "      <td>0.999672</td>\n",
       "      <td>0.999855</td>\n",
       "      <td>-0.040998</td>\n",
       "      <td>0.769857</td>\n",
       "      <td>0.769960</td>\n",
       "      <td>0.769686</td>\n",
       "      <td>0.769874</td>\n",
       "      <td>0.769540</td>\n",
       "      <td>...</td>\n",
       "      <td>0.768976</td>\n",
       "      <td>0.768802</td>\n",
       "      <td>-0.107382</td>\n",
       "      <td>0.133206</td>\n",
       "      <td>-0.012612</td>\n",
       "      <td>-0.005775</td>\n",
       "      <td>-0.002402</td>\n",
       "      <td>0.176303</td>\n",
       "      <td>0.001219</td>\n",
       "      <td>-0.019001</td>\n",
       "    </tr>\n",
       "    <tr>\n",
       "      <th>low</th>\n",
       "      <td>0.999735</td>\n",
       "      <td>0.999672</td>\n",
       "      <td>1.000000</td>\n",
       "      <td>0.999797</td>\n",
       "      <td>-0.050336</td>\n",
       "      <td>0.770245</td>\n",
       "      <td>0.770249</td>\n",
       "      <td>0.770236</td>\n",
       "      <td>0.770283</td>\n",
       "      <td>0.769873</td>\n",
       "      <td>...</td>\n",
       "      <td>0.769057</td>\n",
       "      <td>0.769316</td>\n",
       "      <td>-0.099270</td>\n",
       "      <td>0.130620</td>\n",
       "      <td>-0.012702</td>\n",
       "      <td>-0.004367</td>\n",
       "      <td>-0.000700</td>\n",
       "      <td>0.168414</td>\n",
       "      <td>0.002553</td>\n",
       "      <td>-0.016086</td>\n",
       "    </tr>\n",
       "    <tr>\n",
       "      <th>close</th>\n",
       "      <td>0.999701</td>\n",
       "      <td>0.999855</td>\n",
       "      <td>0.999797</td>\n",
       "      <td>1.000000</td>\n",
       "      <td>-0.045093</td>\n",
       "      <td>0.770011</td>\n",
       "      <td>0.770095</td>\n",
       "      <td>0.769942</td>\n",
       "      <td>0.770125</td>\n",
       "      <td>0.769694</td>\n",
       "      <td>...</td>\n",
       "      <td>0.769019</td>\n",
       "      <td>0.769027</td>\n",
       "      <td>-0.102232</td>\n",
       "      <td>0.133902</td>\n",
       "      <td>-0.012656</td>\n",
       "      <td>0.000999</td>\n",
       "      <td>0.005607</td>\n",
       "      <td>0.172993</td>\n",
       "      <td>0.002142</td>\n",
       "      <td>-0.015462</td>\n",
       "    </tr>\n",
       "    <tr>\n",
       "      <th>volume</th>\n",
       "      <td>-0.044233</td>\n",
       "      <td>-0.040998</td>\n",
       "      <td>-0.050336</td>\n",
       "      <td>-0.045093</td>\n",
       "      <td>1.000000</td>\n",
       "      <td>0.072514</td>\n",
       "      <td>0.076088</td>\n",
       "      <td>0.066920</td>\n",
       "      <td>0.071933</td>\n",
       "      <td>0.073536</td>\n",
       "      <td>...</td>\n",
       "      <td>0.084780</td>\n",
       "      <td>0.063453</td>\n",
       "      <td>-0.333019</td>\n",
       "      <td>0.223420</td>\n",
       "      <td>-0.004715</td>\n",
       "      <td>-0.044240</td>\n",
       "      <td>-0.048514</td>\n",
       "      <td>0.409000</td>\n",
       "      <td>-0.025150</td>\n",
       "      <td>-0.056741</td>\n",
       "    </tr>\n",
       "    <tr>\n",
       "      <th>log_open</th>\n",
       "      <td>0.770054</td>\n",
       "      <td>0.769857</td>\n",
       "      <td>0.770245</td>\n",
       "      <td>0.770011</td>\n",
       "      <td>0.072514</td>\n",
       "      <td>1.000000</td>\n",
       "      <td>0.999886</td>\n",
       "      <td>0.999922</td>\n",
       "      <td>0.999927</td>\n",
       "      <td>0.999872</td>\n",
       "      <td>...</td>\n",
       "      <td>0.999275</td>\n",
       "      <td>0.999295</td>\n",
       "      <td>-0.152312</td>\n",
       "      <td>0.153892</td>\n",
       "      <td>-0.027953</td>\n",
       "      <td>-0.016566</td>\n",
       "      <td>-0.011000</td>\n",
       "      <td>0.224616</td>\n",
       "      <td>-0.015683</td>\n",
       "      <td>-0.057229</td>\n",
       "    </tr>\n",
       "    <tr>\n",
       "      <th>log_high</th>\n",
       "      <td>0.770039</td>\n",
       "      <td>0.769960</td>\n",
       "      <td>0.770249</td>\n",
       "      <td>0.770095</td>\n",
       "      <td>0.076088</td>\n",
       "      <td>0.999886</td>\n",
       "      <td>1.000000</td>\n",
       "      <td>0.999816</td>\n",
       "      <td>0.999889</td>\n",
       "      <td>0.999785</td>\n",
       "      <td>...</td>\n",
       "      <td>0.999292</td>\n",
       "      <td>0.999104</td>\n",
       "      <td>-0.153690</td>\n",
       "      <td>0.157725</td>\n",
       "      <td>-0.027966</td>\n",
       "      <td>-0.010376</td>\n",
       "      <td>-0.004747</td>\n",
       "      <td>0.228421</td>\n",
       "      <td>-0.015002</td>\n",
       "      <td>-0.055214</td>\n",
       "    </tr>\n",
       "    <tr>\n",
       "      <th>log_low</th>\n",
       "      <td>0.769864</td>\n",
       "      <td>0.769686</td>\n",
       "      <td>0.770236</td>\n",
       "      <td>0.769942</td>\n",
       "      <td>0.066920</td>\n",
       "      <td>0.999922</td>\n",
       "      <td>0.999816</td>\n",
       "      <td>1.000000</td>\n",
       "      <td>0.999944</td>\n",
       "      <td>0.999784</td>\n",
       "      <td>...</td>\n",
       "      <td>0.999041</td>\n",
       "      <td>0.999308</td>\n",
       "      <td>-0.146078</td>\n",
       "      <td>0.153972</td>\n",
       "      <td>-0.028061</td>\n",
       "      <td>-0.008756</td>\n",
       "      <td>-0.003161</td>\n",
       "      <td>0.220055</td>\n",
       "      <td>-0.014143</td>\n",
       "      <td>-0.053174</td>\n",
       "    </tr>\n",
       "    <tr>\n",
       "      <th>log_close</th>\n",
       "      <td>0.769972</td>\n",
       "      <td>0.769874</td>\n",
       "      <td>0.770283</td>\n",
       "      <td>0.770125</td>\n",
       "      <td>0.071933</td>\n",
       "      <td>0.999927</td>\n",
       "      <td>0.999889</td>\n",
       "      <td>0.999944</td>\n",
       "      <td>1.000000</td>\n",
       "      <td>0.999824</td>\n",
       "      <td>...</td>\n",
       "      <td>0.999216</td>\n",
       "      <td>0.999230</td>\n",
       "      <td>-0.149042</td>\n",
       "      <td>0.157354</td>\n",
       "      <td>-0.028013</td>\n",
       "      <td>-0.004687</td>\n",
       "      <td>0.001059</td>\n",
       "      <td>0.224707</td>\n",
       "      <td>-0.014267</td>\n",
       "      <td>-0.052536</td>\n",
       "    </tr>\n",
       "    <tr>\n",
       "      <th>ema12</th>\n",
       "      <td>0.769700</td>\n",
       "      <td>0.769540</td>\n",
       "      <td>0.769873</td>\n",
       "      <td>0.769694</td>\n",
       "      <td>0.073536</td>\n",
       "      <td>0.999872</td>\n",
       "      <td>0.999785</td>\n",
       "      <td>0.999784</td>\n",
       "      <td>0.999824</td>\n",
       "      <td>1.000000</td>\n",
       "      <td>...</td>\n",
       "      <td>0.999568</td>\n",
       "      <td>0.999573</td>\n",
       "      <td>-0.162194</td>\n",
       "      <td>0.144261</td>\n",
       "      <td>-0.027932</td>\n",
       "      <td>-0.014531</td>\n",
       "      <td>-0.008943</td>\n",
       "      <td>0.224943</td>\n",
       "      <td>-0.024460</td>\n",
       "      <td>-0.067538</td>\n",
       "    </tr>\n",
       "    <tr>\n",
       "      <th>dist_ema12</th>\n",
       "      <td>0.009780</td>\n",
       "      <td>0.013097</td>\n",
       "      <td>0.017099</td>\n",
       "      <td>0.018232</td>\n",
       "      <td>-0.085842</td>\n",
       "      <td>-0.003173</td>\n",
       "      <td>-0.000556</td>\n",
       "      <td>0.002381</td>\n",
       "      <td>0.003256</td>\n",
       "      <td>-0.015506</td>\n",
       "      <td>...</td>\n",
       "      <td>-0.024864</td>\n",
       "      <td>-0.024409</td>\n",
       "      <td>0.701881</td>\n",
       "      <td>0.696885</td>\n",
       "      <td>-0.004153</td>\n",
       "      <td>0.524732</td>\n",
       "      <td>0.533080</td>\n",
       "      <td>-0.013919</td>\n",
       "      <td>0.543347</td>\n",
       "      <td>0.799920</td>\n",
       "    </tr>\n",
       "    <tr>\n",
       "      <th>ema26</th>\n",
       "      <td>0.769157</td>\n",
       "      <td>0.769005</td>\n",
       "      <td>0.769301</td>\n",
       "      <td>0.769137</td>\n",
       "      <td>0.074037</td>\n",
       "      <td>0.999639</td>\n",
       "      <td>0.999558</td>\n",
       "      <td>0.999532</td>\n",
       "      <td>0.999580</td>\n",
       "      <td>0.999910</td>\n",
       "      <td>...</td>\n",
       "      <td>0.999636</td>\n",
       "      <td>0.999601</td>\n",
       "      <td>-0.169960</td>\n",
       "      <td>0.137381</td>\n",
       "      <td>-0.027924</td>\n",
       "      <td>-0.015449</td>\n",
       "      <td>-0.009890</td>\n",
       "      <td>0.225700</td>\n",
       "      <td>-0.025796</td>\n",
       "      <td>-0.074794</td>\n",
       "    </tr>\n",
       "    <tr>\n",
       "      <th>dist_ema26</th>\n",
       "      <td>0.020666</td>\n",
       "      <td>0.022538</td>\n",
       "      <td>0.026430</td>\n",
       "      <td>0.026643</td>\n",
       "      <td>-0.073299</td>\n",
       "      <td>0.000250</td>\n",
       "      <td>0.001729</td>\n",
       "      <td>0.004520</td>\n",
       "      <td>0.004807</td>\n",
       "      <td>-0.012636</td>\n",
       "      <td>...</td>\n",
       "      <td>-0.024181</td>\n",
       "      <td>-0.022486</td>\n",
       "      <td>0.723292</td>\n",
       "      <td>0.687725</td>\n",
       "      <td>-0.002797</td>\n",
       "      <td>0.371449</td>\n",
       "      <td>0.377822</td>\n",
       "      <td>-0.036435</td>\n",
       "      <td>0.398014</td>\n",
       "      <td>0.768616</td>\n",
       "    </tr>\n",
       "    <tr>\n",
       "      <th>ema21</th>\n",
       "      <td>0.769354</td>\n",
       "      <td>0.769198</td>\n",
       "      <td>0.769505</td>\n",
       "      <td>0.769337</td>\n",
       "      <td>0.073930</td>\n",
       "      <td>0.999725</td>\n",
       "      <td>0.999641</td>\n",
       "      <td>0.999622</td>\n",
       "      <td>0.999668</td>\n",
       "      <td>0.999957</td>\n",
       "      <td>...</td>\n",
       "      <td>0.999639</td>\n",
       "      <td>0.999618</td>\n",
       "      <td>-0.167836</td>\n",
       "      <td>0.139186</td>\n",
       "      <td>-0.027922</td>\n",
       "      <td>-0.015245</td>\n",
       "      <td>-0.009676</td>\n",
       "      <td>0.225437</td>\n",
       "      <td>-0.025934</td>\n",
       "      <td>-0.072870</td>\n",
       "    </tr>\n",
       "    <tr>\n",
       "      <th>dist_ema21</th>\n",
       "      <td>0.017392</td>\n",
       "      <td>0.019611</td>\n",
       "      <td>0.023585</td>\n",
       "      <td>0.023983</td>\n",
       "      <td>-0.078110</td>\n",
       "      <td>-0.000732</td>\n",
       "      <td>0.001027</td>\n",
       "      <td>0.003889</td>\n",
       "      <td>0.004294</td>\n",
       "      <td>-0.013757</td>\n",
       "      <td>...</td>\n",
       "      <td>-0.024993</td>\n",
       "      <td>-0.023646</td>\n",
       "      <td>0.730844</td>\n",
       "      <td>0.703946</td>\n",
       "      <td>-0.003294</td>\n",
       "      <td>0.409902</td>\n",
       "      <td>0.416735</td>\n",
       "      <td>-0.030251</td>\n",
       "      <td>0.453049</td>\n",
       "      <td>0.789839</td>\n",
       "    </tr>\n",
       "    <tr>\n",
       "      <th>ema50</th>\n",
       "      <td>0.768200</td>\n",
       "      <td>0.768056</td>\n",
       "      <td>0.768327</td>\n",
       "      <td>0.768171</td>\n",
       "      <td>0.073991</td>\n",
       "      <td>0.999208</td>\n",
       "      <td>0.999134</td>\n",
       "      <td>0.999091</td>\n",
       "      <td>0.999142</td>\n",
       "      <td>0.999580</td>\n",
       "      <td>...</td>\n",
       "      <td>0.999429</td>\n",
       "      <td>0.999353</td>\n",
       "      <td>-0.175665</td>\n",
       "      <td>0.132534</td>\n",
       "      <td>-0.027981</td>\n",
       "      <td>-0.015957</td>\n",
       "      <td>-0.010432</td>\n",
       "      <td>0.226407</td>\n",
       "      <td>-0.023490</td>\n",
       "      <td>-0.079979</td>\n",
       "    </tr>\n",
       "    <tr>\n",
       "      <th>dist_ema50</th>\n",
       "      <td>0.032375</td>\n",
       "      <td>0.033485</td>\n",
       "      <td>0.036800</td>\n",
       "      <td>0.036779</td>\n",
       "      <td>-0.050645</td>\n",
       "      <td>0.003872</td>\n",
       "      <td>0.004727</td>\n",
       "      <td>0.007080</td>\n",
       "      <td>0.007217</td>\n",
       "      <td>-0.007612</td>\n",
       "      <td>...</td>\n",
       "      <td>-0.018639</td>\n",
       "      <td>-0.016459</td>\n",
       "      <td>0.644667</td>\n",
       "      <td>0.597014</td>\n",
       "      <td>-0.000393</td>\n",
       "      <td>0.272114</td>\n",
       "      <td>0.277366</td>\n",
       "      <td>-0.044061</td>\n",
       "      <td>0.222817</td>\n",
       "      <td>0.663160</td>\n",
       "    </tr>\n",
       "    <tr>\n",
       "      <th>ema34</th>\n",
       "      <td>0.768840</td>\n",
       "      <td>0.768691</td>\n",
       "      <td>0.768975</td>\n",
       "      <td>0.768815</td>\n",
       "      <td>0.074107</td>\n",
       "      <td>0.999499</td>\n",
       "      <td>0.999421</td>\n",
       "      <td>0.999387</td>\n",
       "      <td>0.999437</td>\n",
       "      <td>0.999814</td>\n",
       "      <td>...</td>\n",
       "      <td>0.999595</td>\n",
       "      <td>0.999541</td>\n",
       "      <td>-0.172485</td>\n",
       "      <td>0.135279</td>\n",
       "      <td>-0.027936</td>\n",
       "      <td>-0.015674</td>\n",
       "      <td>-0.010127</td>\n",
       "      <td>0.226044</td>\n",
       "      <td>-0.025129</td>\n",
       "      <td>-0.077055</td>\n",
       "    </tr>\n",
       "    <tr>\n",
       "      <th>dist_ema34</th>\n",
       "      <td>0.025136</td>\n",
       "      <td>0.026638</td>\n",
       "      <td>0.030360</td>\n",
       "      <td>0.030414</td>\n",
       "      <td>-0.065568</td>\n",
       "      <td>0.001583</td>\n",
       "      <td>0.002759</td>\n",
       "      <td>0.005416</td>\n",
       "      <td>0.005602</td>\n",
       "      <td>-0.010876</td>\n",
       "      <td>...</td>\n",
       "      <td>-0.022466</td>\n",
       "      <td>-0.020426</td>\n",
       "      <td>0.700183</td>\n",
       "      <td>0.656005</td>\n",
       "      <td>-0.001982</td>\n",
       "      <td>0.327416</td>\n",
       "      <td>0.333284</td>\n",
       "      <td>-0.042351</td>\n",
       "      <td>0.323813</td>\n",
       "      <td>0.731184</td>\n",
       "    </tr>\n",
       "    <tr>\n",
       "      <th>ema55</th>\n",
       "      <td>0.768001</td>\n",
       "      <td>0.767857</td>\n",
       "      <td>0.768127</td>\n",
       "      <td>0.767970</td>\n",
       "      <td>0.073906</td>\n",
       "      <td>0.999114</td>\n",
       "      <td>0.999041</td>\n",
       "      <td>0.998997</td>\n",
       "      <td>0.999047</td>\n",
       "      <td>0.999500</td>\n",
       "      <td>...</td>\n",
       "      <td>0.999363</td>\n",
       "      <td>0.999284</td>\n",
       "      <td>-0.176345</td>\n",
       "      <td>0.131887</td>\n",
       "      <td>-0.027998</td>\n",
       "      <td>-0.016023</td>\n",
       "      <td>-0.010504</td>\n",
       "      <td>0.226441</td>\n",
       "      <td>-0.023013</td>\n",
       "      <td>-0.080644</td>\n",
       "    </tr>\n",
       "    <tr>\n",
       "      <th>dist_ema55</th>\n",
       "      <td>0.034325</td>\n",
       "      <td>0.035363</td>\n",
       "      <td>0.038546</td>\n",
       "      <td>0.038534</td>\n",
       "      <td>-0.046221</td>\n",
       "      <td>0.004543</td>\n",
       "      <td>0.005340</td>\n",
       "      <td>0.007596</td>\n",
       "      <td>0.007738</td>\n",
       "      <td>-0.006655</td>\n",
       "      <td>...</td>\n",
       "      <td>-0.017444</td>\n",
       "      <td>-0.015312</td>\n",
       "      <td>0.627733</td>\n",
       "      <td>0.581338</td>\n",
       "      <td>0.000066</td>\n",
       "      <td>0.259824</td>\n",
       "      <td>0.264940</td>\n",
       "      <td>-0.042899</td>\n",
       "      <td>0.200615</td>\n",
       "      <td>0.644822</td>\n",
       "    </tr>\n",
       "    <tr>\n",
       "      <th>ema99</th>\n",
       "      <td>0.766262</td>\n",
       "      <td>0.766115</td>\n",
       "      <td>0.766395</td>\n",
       "      <td>0.766223</td>\n",
       "      <td>0.072611</td>\n",
       "      <td>0.998260</td>\n",
       "      <td>0.998185</td>\n",
       "      <td>0.998149</td>\n",
       "      <td>0.998187</td>\n",
       "      <td>0.998714</td>\n",
       "      <td>...</td>\n",
       "      <td>0.998630</td>\n",
       "      <td>0.998579</td>\n",
       "      <td>-0.179371</td>\n",
       "      <td>0.127861</td>\n",
       "      <td>-0.028165</td>\n",
       "      <td>-0.016410</td>\n",
       "      <td>-0.010935</td>\n",
       "      <td>0.225759</td>\n",
       "      <td>-0.020062</td>\n",
       "      <td>-0.084312</td>\n",
       "    </tr>\n",
       "    <tr>\n",
       "      <th>dist_ema99</th>\n",
       "      <td>0.048219</td>\n",
       "      <td>0.049030</td>\n",
       "      <td>0.051155</td>\n",
       "      <td>0.051397</td>\n",
       "      <td>-0.012517</td>\n",
       "      <td>0.010270</td>\n",
       "      <td>0.010881</td>\n",
       "      <td>0.012374</td>\n",
       "      <td>0.012674</td>\n",
       "      <td>0.001001</td>\n",
       "      <td>...</td>\n",
       "      <td>-0.007689</td>\n",
       "      <td>-0.006613</td>\n",
       "      <td>0.506505</td>\n",
       "      <td>0.487278</td>\n",
       "      <td>0.003022</td>\n",
       "      <td>0.194868</td>\n",
       "      <td>0.199262</td>\n",
       "      <td>-0.021390</td>\n",
       "      <td>0.096540</td>\n",
       "      <td>0.528890</td>\n",
       "    </tr>\n",
       "    <tr>\n",
       "      <th>ema200</th>\n",
       "      <td>0.762020</td>\n",
       "      <td>0.761840</td>\n",
       "      <td>0.762201</td>\n",
       "      <td>0.761969</td>\n",
       "      <td>0.067914</td>\n",
       "      <td>0.996158</td>\n",
       "      <td>0.996061</td>\n",
       "      <td>0.996086</td>\n",
       "      <td>0.996080</td>\n",
       "      <td>0.996676</td>\n",
       "      <td>...</td>\n",
       "      <td>0.996543</td>\n",
       "      <td>0.996709</td>\n",
       "      <td>-0.179538</td>\n",
       "      <td>0.121611</td>\n",
       "      <td>-0.028426</td>\n",
       "      <td>-0.016855</td>\n",
       "      <td>-0.011454</td>\n",
       "      <td>0.221343</td>\n",
       "      <td>-0.017751</td>\n",
       "      <td>-0.088032</td>\n",
       "    </tr>\n",
       "    <tr>\n",
       "      <th>dist_ema200</th>\n",
       "      <td>0.076513</td>\n",
       "      <td>0.077435</td>\n",
       "      <td>0.077963</td>\n",
       "      <td>0.078804</td>\n",
       "      <td>0.044175</td>\n",
       "      <td>0.025244</td>\n",
       "      <td>0.025920</td>\n",
       "      <td>0.026244</td>\n",
       "      <td>0.026951</td>\n",
       "      <td>0.018230</td>\n",
       "      <td>...</td>\n",
       "      <td>0.012869</td>\n",
       "      <td>0.011161</td>\n",
       "      <td>0.347216</td>\n",
       "      <td>0.401199</td>\n",
       "      <td>0.005166</td>\n",
       "      <td>0.137586</td>\n",
       "      <td>0.141382</td>\n",
       "      <td>0.034115</td>\n",
       "      <td>0.039620</td>\n",
       "      <td>0.402049</td>\n",
       "    </tr>\n",
       "    <tr>\n",
       "      <th>rsi</th>\n",
       "      <td>-0.012669</td>\n",
       "      <td>-0.011053</td>\n",
       "      <td>-0.008581</td>\n",
       "      <td>-0.008185</td>\n",
       "      <td>-0.038247</td>\n",
       "      <td>-0.063403</td>\n",
       "      <td>-0.061936</td>\n",
       "      <td>-0.060095</td>\n",
       "      <td>-0.059586</td>\n",
       "      <td>-0.074429</td>\n",
       "      <td>...</td>\n",
       "      <td>-0.083863</td>\n",
       "      <td>-0.083266</td>\n",
       "      <td>0.616470</td>\n",
       "      <td>0.587895</td>\n",
       "      <td>-0.003040</td>\n",
       "      <td>0.318365</td>\n",
       "      <td>0.316784</td>\n",
       "      <td>-0.029792</td>\n",
       "      <td>0.460853</td>\n",
       "      <td>0.884026</td>\n",
       "    </tr>\n",
       "    <tr>\n",
       "      <th>K</th>\n",
       "      <td>-0.000382</td>\n",
       "      <td>0.000653</td>\n",
       "      <td>0.002079</td>\n",
       "      <td>0.001917</td>\n",
       "      <td>-0.026642</td>\n",
       "      <td>-0.015947</td>\n",
       "      <td>-0.014972</td>\n",
       "      <td>-0.014031</td>\n",
       "      <td>-0.013995</td>\n",
       "      <td>-0.024538</td>\n",
       "      <td>...</td>\n",
       "      <td>-0.028328</td>\n",
       "      <td>-0.030272</td>\n",
       "      <td>0.360390</td>\n",
       "      <td>0.407817</td>\n",
       "      <td>-0.010613</td>\n",
       "      <td>0.162255</td>\n",
       "      <td>0.161919</td>\n",
       "      <td>0.029161</td>\n",
       "      <td>0.986759</td>\n",
       "      <td>0.663463</td>\n",
       "    </tr>\n",
       "    <tr>\n",
       "      <th>D</th>\n",
       "      <td>0.001532</td>\n",
       "      <td>0.001773</td>\n",
       "      <td>0.002975</td>\n",
       "      <td>0.002317</td>\n",
       "      <td>-0.022891</td>\n",
       "      <td>-0.014969</td>\n",
       "      <td>-0.014612</td>\n",
       "      <td>-0.013862</td>\n",
       "      <td>-0.014149</td>\n",
       "      <td>-0.023691</td>\n",
       "      <td>...</td>\n",
       "      <td>-0.028471</td>\n",
       "      <td>-0.030759</td>\n",
       "      <td>0.360135</td>\n",
       "      <td>0.416184</td>\n",
       "      <td>-0.011173</td>\n",
       "      <td>0.069239</td>\n",
       "      <td>0.068045</td>\n",
       "      <td>0.035425</td>\n",
       "      <td>0.985670</td>\n",
       "      <td>0.617843</td>\n",
       "    </tr>\n",
       "    <tr>\n",
       "      <th>sma</th>\n",
       "      <td>0.769316</td>\n",
       "      <td>0.769159</td>\n",
       "      <td>0.769456</td>\n",
       "      <td>0.769293</td>\n",
       "      <td>0.074207</td>\n",
       "      <td>0.999635</td>\n",
       "      <td>0.999549</td>\n",
       "      <td>0.999524</td>\n",
       "      <td>0.999574</td>\n",
       "      <td>0.999921</td>\n",
       "      <td>...</td>\n",
       "      <td>0.999654</td>\n",
       "      <td>0.999645</td>\n",
       "      <td>-0.170542</td>\n",
       "      <td>0.136126</td>\n",
       "      <td>-0.027909</td>\n",
       "      <td>-0.015636</td>\n",
       "      <td>-0.010072</td>\n",
       "      <td>0.225220</td>\n",
       "      <td>-0.029870</td>\n",
       "      <td>-0.075733</td>\n",
       "    </tr>\n",
       "    <tr>\n",
       "      <th>bollinger_up</th>\n",
       "      <td>0.769038</td>\n",
       "      <td>0.768976</td>\n",
       "      <td>0.769057</td>\n",
       "      <td>0.769019</td>\n",
       "      <td>0.084780</td>\n",
       "      <td>0.999275</td>\n",
       "      <td>0.999292</td>\n",
       "      <td>0.999041</td>\n",
       "      <td>0.999216</td>\n",
       "      <td>0.999568</td>\n",
       "      <td>...</td>\n",
       "      <td>1.000000</td>\n",
       "      <td>0.998597</td>\n",
       "      <td>-0.188069</td>\n",
       "      <td>0.153450</td>\n",
       "      <td>-0.028072</td>\n",
       "      <td>-0.015387</td>\n",
       "      <td>-0.009832</td>\n",
       "      <td>0.250787</td>\n",
       "      <td>-0.028795</td>\n",
       "      <td>-0.076293</td>\n",
       "    </tr>\n",
       "    <tr>\n",
       "      <th>bollinger_down</th>\n",
       "      <td>0.769054</td>\n",
       "      <td>0.768802</td>\n",
       "      <td>0.769316</td>\n",
       "      <td>0.769027</td>\n",
       "      <td>0.063453</td>\n",
       "      <td>0.999295</td>\n",
       "      <td>0.999104</td>\n",
       "      <td>0.999308</td>\n",
       "      <td>0.999230</td>\n",
       "      <td>0.999573</td>\n",
       "      <td>...</td>\n",
       "      <td>0.998597</td>\n",
       "      <td>1.000000</td>\n",
       "      <td>-0.152680</td>\n",
       "      <td>0.118493</td>\n",
       "      <td>-0.027724</td>\n",
       "      <td>-0.015878</td>\n",
       "      <td>-0.010308</td>\n",
       "      <td>0.199179</td>\n",
       "      <td>-0.030937</td>\n",
       "      <td>-0.075113</td>\n",
       "    </tr>\n",
       "    <tr>\n",
       "      <th>dist_bollinger_up</th>\n",
       "      <td>-0.106494</td>\n",
       "      <td>-0.107382</td>\n",
       "      <td>-0.099270</td>\n",
       "      <td>-0.102232</td>\n",
       "      <td>-0.333019</td>\n",
       "      <td>-0.152312</td>\n",
       "      <td>-0.153690</td>\n",
       "      <td>-0.146078</td>\n",
       "      <td>-0.149042</td>\n",
       "      <td>-0.162194</td>\n",
       "      <td>...</td>\n",
       "      <td>-0.188069</td>\n",
       "      <td>-0.152680</td>\n",
       "      <td>1.000000</td>\n",
       "      <td>0.070995</td>\n",
       "      <td>0.006188</td>\n",
       "      <td>0.268080</td>\n",
       "      <td>0.271879</td>\n",
       "      <td>-0.689356</td>\n",
       "      <td>0.365297</td>\n",
       "      <td>0.602291</td>\n",
       "    </tr>\n",
       "    <tr>\n",
       "      <th>dist_bollinger_down</th>\n",
       "      <td>0.129352</td>\n",
       "      <td>0.133206</td>\n",
       "      <td>0.130620</td>\n",
       "      <td>0.133902</td>\n",
       "      <td>0.223420</td>\n",
       "      <td>0.153892</td>\n",
       "      <td>0.157725</td>\n",
       "      <td>0.153972</td>\n",
       "      <td>0.157354</td>\n",
       "      <td>0.144261</td>\n",
       "      <td>...</td>\n",
       "      <td>0.153450</td>\n",
       "      <td>0.118493</td>\n",
       "      <td>0.070995</td>\n",
       "      <td>1.000000</td>\n",
       "      <td>-0.011124</td>\n",
       "      <td>0.281064</td>\n",
       "      <td>0.286289</td>\n",
       "      <td>0.673653</td>\n",
       "      <td>0.417672</td>\n",
       "      <td>0.561095</td>\n",
       "    </tr>\n",
       "    <tr>\n",
       "      <th>vol_roc</th>\n",
       "      <td>-0.012639</td>\n",
       "      <td>-0.012612</td>\n",
       "      <td>-0.012702</td>\n",
       "      <td>-0.012656</td>\n",
       "      <td>-0.004715</td>\n",
       "      <td>-0.027953</td>\n",
       "      <td>-0.027966</td>\n",
       "      <td>-0.028061</td>\n",
       "      <td>-0.028013</td>\n",
       "      <td>-0.027932</td>\n",
       "      <td>...</td>\n",
       "      <td>-0.028072</td>\n",
       "      <td>-0.027724</td>\n",
       "      <td>0.006188</td>\n",
       "      <td>-0.011124</td>\n",
       "      <td>1.000000</td>\n",
       "      <td>-0.006244</td>\n",
       "      <td>-0.004838</td>\n",
       "      <td>-0.012669</td>\n",
       "      <td>-0.011040</td>\n",
       "      <td>-0.011221</td>\n",
       "    </tr>\n",
       "    <tr>\n",
       "      <th>4h Return</th>\n",
       "      <td>-0.012805</td>\n",
       "      <td>-0.005775</td>\n",
       "      <td>-0.004367</td>\n",
       "      <td>0.000999</td>\n",
       "      <td>-0.044240</td>\n",
       "      <td>-0.016566</td>\n",
       "      <td>-0.010376</td>\n",
       "      <td>-0.008756</td>\n",
       "      <td>-0.004687</td>\n",
       "      <td>-0.014531</td>\n",
       "      <td>...</td>\n",
       "      <td>-0.015387</td>\n",
       "      <td>-0.015878</td>\n",
       "      <td>0.268080</td>\n",
       "      <td>0.281064</td>\n",
       "      <td>-0.006244</td>\n",
       "      <td>1.000000</td>\n",
       "      <td>0.985074</td>\n",
       "      <td>0.005499</td>\n",
       "      <td>0.118289</td>\n",
       "      <td>0.389461</td>\n",
       "    </tr>\n",
       "    <tr>\n",
       "      <th>4h Gradient</th>\n",
       "      <td>-0.010607</td>\n",
       "      <td>-0.002402</td>\n",
       "      <td>-0.000700</td>\n",
       "      <td>0.005607</td>\n",
       "      <td>-0.048514</td>\n",
       "      <td>-0.011000</td>\n",
       "      <td>-0.004747</td>\n",
       "      <td>-0.003161</td>\n",
       "      <td>0.001059</td>\n",
       "      <td>-0.008943</td>\n",
       "      <td>...</td>\n",
       "      <td>-0.009832</td>\n",
       "      <td>-0.010308</td>\n",
       "      <td>0.271879</td>\n",
       "      <td>0.286289</td>\n",
       "      <td>-0.004838</td>\n",
       "      <td>0.985074</td>\n",
       "      <td>1.000000</td>\n",
       "      <td>0.006479</td>\n",
       "      <td>0.117522</td>\n",
       "      <td>0.389437</td>\n",
       "    </tr>\n",
       "    <tr>\n",
       "      <th>boll_width</th>\n",
       "      <td>0.172846</td>\n",
       "      <td>0.176303</td>\n",
       "      <td>0.168414</td>\n",
       "      <td>0.172993</td>\n",
       "      <td>0.409000</td>\n",
       "      <td>0.224616</td>\n",
       "      <td>0.228421</td>\n",
       "      <td>0.220055</td>\n",
       "      <td>0.224707</td>\n",
       "      <td>0.224943</td>\n",
       "      <td>...</td>\n",
       "      <td>0.250787</td>\n",
       "      <td>0.199179</td>\n",
       "      <td>-0.689356</td>\n",
       "      <td>0.673653</td>\n",
       "      <td>-0.012669</td>\n",
       "      <td>0.005499</td>\n",
       "      <td>0.006479</td>\n",
       "      <td>1.000000</td>\n",
       "      <td>0.032682</td>\n",
       "      <td>-0.038750</td>\n",
       "    </tr>\n",
       "    <tr>\n",
       "      <th>stoch_rsi</th>\n",
       "      <td>0.000564</td>\n",
       "      <td>0.001219</td>\n",
       "      <td>0.002553</td>\n",
       "      <td>0.002142</td>\n",
       "      <td>-0.025150</td>\n",
       "      <td>-0.015683</td>\n",
       "      <td>-0.015002</td>\n",
       "      <td>-0.014143</td>\n",
       "      <td>-0.014267</td>\n",
       "      <td>-0.024460</td>\n",
       "      <td>...</td>\n",
       "      <td>-0.028795</td>\n",
       "      <td>-0.030937</td>\n",
       "      <td>0.365297</td>\n",
       "      <td>0.417672</td>\n",
       "      <td>-0.011040</td>\n",
       "      <td>0.118289</td>\n",
       "      <td>0.117522</td>\n",
       "      <td>0.032682</td>\n",
       "      <td>1.000000</td>\n",
       "      <td>0.650055</td>\n",
       "    </tr>\n",
       "    <tr>\n",
       "      <th>perc_bb</th>\n",
       "      <td>-0.021310</td>\n",
       "      <td>-0.019001</td>\n",
       "      <td>-0.016086</td>\n",
       "      <td>-0.015462</td>\n",
       "      <td>-0.056741</td>\n",
       "      <td>-0.057229</td>\n",
       "      <td>-0.055214</td>\n",
       "      <td>-0.053174</td>\n",
       "      <td>-0.052536</td>\n",
       "      <td>-0.067538</td>\n",
       "      <td>...</td>\n",
       "      <td>-0.076293</td>\n",
       "      <td>-0.075113</td>\n",
       "      <td>0.602291</td>\n",
       "      <td>0.561095</td>\n",
       "      <td>-0.011221</td>\n",
       "      <td>0.389461</td>\n",
       "      <td>0.389437</td>\n",
       "      <td>-0.038750</td>\n",
       "      <td>0.650055</td>\n",
       "      <td>1.000000</td>\n",
       "    </tr>\n",
       "  </tbody>\n",
       "</table>\n",
       "<p>39 rows × 39 columns</p>\n",
       "</div>"
      ],
      "text/plain": [
       "                         open      high       low     close    volume  \\\n",
       "open                 1.000000  0.999861  0.999735  0.999701 -0.044233   \n",
       "high                 0.999861  1.000000  0.999672  0.999855 -0.040998   \n",
       "low                  0.999735  0.999672  1.000000  0.999797 -0.050336   \n",
       "close                0.999701  0.999855  0.999797  1.000000 -0.045093   \n",
       "volume              -0.044233 -0.040998 -0.050336 -0.045093  1.000000   \n",
       "log_open             0.770054  0.769857  0.770245  0.770011  0.072514   \n",
       "log_high             0.770039  0.769960  0.770249  0.770095  0.076088   \n",
       "log_low              0.769864  0.769686  0.770236  0.769942  0.066920   \n",
       "log_close            0.769972  0.769874  0.770283  0.770125  0.071933   \n",
       "ema12                0.769700  0.769540  0.769873  0.769694  0.073536   \n",
       "dist_ema12           0.009780  0.013097  0.017099  0.018232 -0.085842   \n",
       "ema26                0.769157  0.769005  0.769301  0.769137  0.074037   \n",
       "dist_ema26           0.020666  0.022538  0.026430  0.026643 -0.073299   \n",
       "ema21                0.769354  0.769198  0.769505  0.769337  0.073930   \n",
       "dist_ema21           0.017392  0.019611  0.023585  0.023983 -0.078110   \n",
       "ema50                0.768200  0.768056  0.768327  0.768171  0.073991   \n",
       "dist_ema50           0.032375  0.033485  0.036800  0.036779 -0.050645   \n",
       "ema34                0.768840  0.768691  0.768975  0.768815  0.074107   \n",
       "dist_ema34           0.025136  0.026638  0.030360  0.030414 -0.065568   \n",
       "ema55                0.768001  0.767857  0.768127  0.767970  0.073906   \n",
       "dist_ema55           0.034325  0.035363  0.038546  0.038534 -0.046221   \n",
       "ema99                0.766262  0.766115  0.766395  0.766223  0.072611   \n",
       "dist_ema99           0.048219  0.049030  0.051155  0.051397 -0.012517   \n",
       "ema200               0.762020  0.761840  0.762201  0.761969  0.067914   \n",
       "dist_ema200          0.076513  0.077435  0.077963  0.078804  0.044175   \n",
       "rsi                 -0.012669 -0.011053 -0.008581 -0.008185 -0.038247   \n",
       "K                   -0.000382  0.000653  0.002079  0.001917 -0.026642   \n",
       "D                    0.001532  0.001773  0.002975  0.002317 -0.022891   \n",
       "sma                  0.769316  0.769159  0.769456  0.769293  0.074207   \n",
       "bollinger_up         0.769038  0.768976  0.769057  0.769019  0.084780   \n",
       "bollinger_down       0.769054  0.768802  0.769316  0.769027  0.063453   \n",
       "dist_bollinger_up   -0.106494 -0.107382 -0.099270 -0.102232 -0.333019   \n",
       "dist_bollinger_down  0.129352  0.133206  0.130620  0.133902  0.223420   \n",
       "vol_roc             -0.012639 -0.012612 -0.012702 -0.012656 -0.004715   \n",
       "4h Return           -0.012805 -0.005775 -0.004367  0.000999 -0.044240   \n",
       "4h Gradient         -0.010607 -0.002402 -0.000700  0.005607 -0.048514   \n",
       "boll_width           0.172846  0.176303  0.168414  0.172993  0.409000   \n",
       "stoch_rsi            0.000564  0.001219  0.002553  0.002142 -0.025150   \n",
       "perc_bb             -0.021310 -0.019001 -0.016086 -0.015462 -0.056741   \n",
       "\n",
       "                     log_open  log_high   log_low  log_close     ema12  ...  \\\n",
       "open                 0.770054  0.770039  0.769864   0.769972  0.769700  ...   \n",
       "high                 0.769857  0.769960  0.769686   0.769874  0.769540  ...   \n",
       "low                  0.770245  0.770249  0.770236   0.770283  0.769873  ...   \n",
       "close                0.770011  0.770095  0.769942   0.770125  0.769694  ...   \n",
       "volume               0.072514  0.076088  0.066920   0.071933  0.073536  ...   \n",
       "log_open             1.000000  0.999886  0.999922   0.999927  0.999872  ...   \n",
       "log_high             0.999886  1.000000  0.999816   0.999889  0.999785  ...   \n",
       "log_low              0.999922  0.999816  1.000000   0.999944  0.999784  ...   \n",
       "log_close            0.999927  0.999889  0.999944   1.000000  0.999824  ...   \n",
       "ema12                0.999872  0.999785  0.999784   0.999824  1.000000  ...   \n",
       "dist_ema12          -0.003173 -0.000556  0.002381   0.003256 -0.015506  ...   \n",
       "ema26                0.999639  0.999558  0.999532   0.999580  0.999910  ...   \n",
       "dist_ema26           0.000250  0.001729  0.004520   0.004807 -0.012636  ...   \n",
       "ema21                0.999725  0.999641  0.999622   0.999668  0.999957  ...   \n",
       "dist_ema21          -0.000732  0.001027  0.003889   0.004294 -0.013757  ...   \n",
       "ema50                0.999208  0.999134  0.999091   0.999142  0.999580  ...   \n",
       "dist_ema50           0.003872  0.004727  0.007080   0.007217 -0.007612  ...   \n",
       "ema34                0.999499  0.999421  0.999387   0.999437  0.999814  ...   \n",
       "dist_ema34           0.001583  0.002759  0.005416   0.005602 -0.010876  ...   \n",
       "ema55                0.999114  0.999041  0.998997   0.999047  0.999500  ...   \n",
       "dist_ema55           0.004543  0.005340  0.007596   0.007738 -0.006655  ...   \n",
       "ema99                0.998260  0.998185  0.998149   0.998187  0.998714  ...   \n",
       "dist_ema99           0.010270  0.010881  0.012374   0.012674  0.001001  ...   \n",
       "ema200               0.996158  0.996061  0.996086   0.996080  0.996676  ...   \n",
       "dist_ema200          0.025244  0.025920  0.026244   0.026951  0.018230  ...   \n",
       "rsi                 -0.063403 -0.061936 -0.060095  -0.059586 -0.074429  ...   \n",
       "K                   -0.015947 -0.014972 -0.014031  -0.013995 -0.024538  ...   \n",
       "D                   -0.014969 -0.014612 -0.013862  -0.014149 -0.023691  ...   \n",
       "sma                  0.999635  0.999549  0.999524   0.999574  0.999921  ...   \n",
       "bollinger_up         0.999275  0.999292  0.999041   0.999216  0.999568  ...   \n",
       "bollinger_down       0.999295  0.999104  0.999308   0.999230  0.999573  ...   \n",
       "dist_bollinger_up   -0.152312 -0.153690 -0.146078  -0.149042 -0.162194  ...   \n",
       "dist_bollinger_down  0.153892  0.157725  0.153972   0.157354  0.144261  ...   \n",
       "vol_roc             -0.027953 -0.027966 -0.028061  -0.028013 -0.027932  ...   \n",
       "4h Return           -0.016566 -0.010376 -0.008756  -0.004687 -0.014531  ...   \n",
       "4h Gradient         -0.011000 -0.004747 -0.003161   0.001059 -0.008943  ...   \n",
       "boll_width           0.224616  0.228421  0.220055   0.224707  0.224943  ...   \n",
       "stoch_rsi           -0.015683 -0.015002 -0.014143  -0.014267 -0.024460  ...   \n",
       "perc_bb             -0.057229 -0.055214 -0.053174  -0.052536 -0.067538  ...   \n",
       "\n",
       "                     bollinger_up  bollinger_down  dist_bollinger_up  \\\n",
       "open                     0.769038        0.769054          -0.106494   \n",
       "high                     0.768976        0.768802          -0.107382   \n",
       "low                      0.769057        0.769316          -0.099270   \n",
       "close                    0.769019        0.769027          -0.102232   \n",
       "volume                   0.084780        0.063453          -0.333019   \n",
       "log_open                 0.999275        0.999295          -0.152312   \n",
       "log_high                 0.999292        0.999104          -0.153690   \n",
       "log_low                  0.999041        0.999308          -0.146078   \n",
       "log_close                0.999216        0.999230          -0.149042   \n",
       "ema12                    0.999568        0.999573          -0.162194   \n",
       "dist_ema12              -0.024864       -0.024409           0.701881   \n",
       "ema26                    0.999636        0.999601          -0.169960   \n",
       "dist_ema26              -0.024181       -0.022486           0.723292   \n",
       "ema21                    0.999639        0.999618          -0.167836   \n",
       "dist_ema21              -0.024993       -0.023646           0.730844   \n",
       "ema50                    0.999429        0.999353          -0.175665   \n",
       "dist_ema50              -0.018639       -0.016459           0.644667   \n",
       "ema34                    0.999595        0.999541          -0.172485   \n",
       "dist_ema34              -0.022466       -0.020426           0.700183   \n",
       "ema55                    0.999363        0.999284          -0.176345   \n",
       "dist_ema55              -0.017444       -0.015312           0.627733   \n",
       "ema99                    0.998630        0.998579          -0.179371   \n",
       "dist_ema99              -0.007689       -0.006613           0.506505   \n",
       "ema200                   0.996543        0.996709          -0.179538   \n",
       "dist_ema200              0.012869        0.011161           0.347216   \n",
       "rsi                     -0.083863       -0.083266           0.616470   \n",
       "K                       -0.028328       -0.030272           0.360390   \n",
       "D                       -0.028471       -0.030759           0.360135   \n",
       "sma                      0.999654        0.999645          -0.170542   \n",
       "bollinger_up             1.000000        0.998597          -0.188069   \n",
       "bollinger_down           0.998597        1.000000          -0.152680   \n",
       "dist_bollinger_up       -0.188069       -0.152680           1.000000   \n",
       "dist_bollinger_down      0.153450        0.118493           0.070995   \n",
       "vol_roc                 -0.028072       -0.027724           0.006188   \n",
       "4h Return               -0.015387       -0.015878           0.268080   \n",
       "4h Gradient             -0.009832       -0.010308           0.271879   \n",
       "boll_width               0.250787        0.199179          -0.689356   \n",
       "stoch_rsi               -0.028795       -0.030937           0.365297   \n",
       "perc_bb                 -0.076293       -0.075113           0.602291   \n",
       "\n",
       "                     dist_bollinger_down   vol_roc  4h Return  4h Gradient  \\\n",
       "open                            0.129352 -0.012639  -0.012805    -0.010607   \n",
       "high                            0.133206 -0.012612  -0.005775    -0.002402   \n",
       "low                             0.130620 -0.012702  -0.004367    -0.000700   \n",
       "close                           0.133902 -0.012656   0.000999     0.005607   \n",
       "volume                          0.223420 -0.004715  -0.044240    -0.048514   \n",
       "log_open                        0.153892 -0.027953  -0.016566    -0.011000   \n",
       "log_high                        0.157725 -0.027966  -0.010376    -0.004747   \n",
       "log_low                         0.153972 -0.028061  -0.008756    -0.003161   \n",
       "log_close                       0.157354 -0.028013  -0.004687     0.001059   \n",
       "ema12                           0.144261 -0.027932  -0.014531    -0.008943   \n",
       "dist_ema12                      0.696885 -0.004153   0.524732     0.533080   \n",
       "ema26                           0.137381 -0.027924  -0.015449    -0.009890   \n",
       "dist_ema26                      0.687725 -0.002797   0.371449     0.377822   \n",
       "ema21                           0.139186 -0.027922  -0.015245    -0.009676   \n",
       "dist_ema21                      0.703946 -0.003294   0.409902     0.416735   \n",
       "ema50                           0.132534 -0.027981  -0.015957    -0.010432   \n",
       "dist_ema50                      0.597014 -0.000393   0.272114     0.277366   \n",
       "ema34                           0.135279 -0.027936  -0.015674    -0.010127   \n",
       "dist_ema34                      0.656005 -0.001982   0.327416     0.333284   \n",
       "ema55                           0.131887 -0.027998  -0.016023    -0.010504   \n",
       "dist_ema55                      0.581338  0.000066   0.259824     0.264940   \n",
       "ema99                           0.127861 -0.028165  -0.016410    -0.010935   \n",
       "dist_ema99                      0.487278  0.003022   0.194868     0.199262   \n",
       "ema200                          0.121611 -0.028426  -0.016855    -0.011454   \n",
       "dist_ema200                     0.401199  0.005166   0.137586     0.141382   \n",
       "rsi                             0.587895 -0.003040   0.318365     0.316784   \n",
       "K                               0.407817 -0.010613   0.162255     0.161919   \n",
       "D                               0.416184 -0.011173   0.069239     0.068045   \n",
       "sma                             0.136126 -0.027909  -0.015636    -0.010072   \n",
       "bollinger_up                    0.153450 -0.028072  -0.015387    -0.009832   \n",
       "bollinger_down                  0.118493 -0.027724  -0.015878    -0.010308   \n",
       "dist_bollinger_up               0.070995  0.006188   0.268080     0.271879   \n",
       "dist_bollinger_down             1.000000 -0.011124   0.281064     0.286289   \n",
       "vol_roc                        -0.011124  1.000000  -0.006244    -0.004838   \n",
       "4h Return                       0.281064 -0.006244   1.000000     0.985074   \n",
       "4h Gradient                     0.286289 -0.004838   0.985074     1.000000   \n",
       "boll_width                      0.673653 -0.012669   0.005499     0.006479   \n",
       "stoch_rsi                       0.417672 -0.011040   0.118289     0.117522   \n",
       "perc_bb                         0.561095 -0.011221   0.389461     0.389437   \n",
       "\n",
       "                     boll_width  stoch_rsi   perc_bb  \n",
       "open                   0.172846   0.000564 -0.021310  \n",
       "high                   0.176303   0.001219 -0.019001  \n",
       "low                    0.168414   0.002553 -0.016086  \n",
       "close                  0.172993   0.002142 -0.015462  \n",
       "volume                 0.409000  -0.025150 -0.056741  \n",
       "log_open               0.224616  -0.015683 -0.057229  \n",
       "log_high               0.228421  -0.015002 -0.055214  \n",
       "log_low                0.220055  -0.014143 -0.053174  \n",
       "log_close              0.224707  -0.014267 -0.052536  \n",
       "ema12                  0.224943  -0.024460 -0.067538  \n",
       "dist_ema12            -0.013919   0.543347  0.799920  \n",
       "ema26                  0.225700  -0.025796 -0.074794  \n",
       "dist_ema26            -0.036435   0.398014  0.768616  \n",
       "ema21                  0.225437  -0.025934 -0.072870  \n",
       "dist_ema21            -0.030251   0.453049  0.789839  \n",
       "ema50                  0.226407  -0.023490 -0.079979  \n",
       "dist_ema50            -0.044061   0.222817  0.663160  \n",
       "ema34                  0.226044  -0.025129 -0.077055  \n",
       "dist_ema34            -0.042351   0.323813  0.731184  \n",
       "ema55                  0.226441  -0.023013 -0.080644  \n",
       "dist_ema55            -0.042899   0.200615  0.644822  \n",
       "ema99                  0.225759  -0.020062 -0.084312  \n",
       "dist_ema99            -0.021390   0.096540  0.528890  \n",
       "ema200                 0.221343  -0.017751 -0.088032  \n",
       "dist_ema200            0.034115   0.039620  0.402049  \n",
       "rsi                   -0.029792   0.460853  0.884026  \n",
       "K                      0.029161   0.986759  0.663463  \n",
       "D                      0.035425   0.985670  0.617843  \n",
       "sma                    0.225220  -0.029870 -0.075733  \n",
       "bollinger_up           0.250787  -0.028795 -0.076293  \n",
       "bollinger_down         0.199179  -0.030937 -0.075113  \n",
       "dist_bollinger_up     -0.689356   0.365297  0.602291  \n",
       "dist_bollinger_down    0.673653   0.417672  0.561095  \n",
       "vol_roc               -0.012669  -0.011040 -0.011221  \n",
       "4h Return              0.005499   0.118289  0.389461  \n",
       "4h Gradient            0.006479   0.117522  0.389437  \n",
       "boll_width             1.000000   0.032682 -0.038750  \n",
       "stoch_rsi              0.032682   1.000000  0.650055  \n",
       "perc_bb               -0.038750   0.650055  1.000000  \n",
       "\n",
       "[39 rows x 39 columns]"
      ]
     },
     "execution_count": 16,
     "metadata": {},
     "output_type": "execute_result"
    }
   ],
   "source": [
    "data.corr()"
   ]
  },
  {
   "cell_type": "code",
   "execution_count": 17,
   "metadata": {},
   "outputs": [],
   "source": [
    "# TIME = 10000\n",
    "# data = data[TIME:]"
   ]
  },
  {
   "cell_type": "code",
   "execution_count": 281,
   "metadata": {},
   "outputs": [],
   "source": [
    "#selected_features=[CLOSE,'log_high', 'bollinger_up', 'rsi']\n",
    "#21,99 emas\n",
    "#selected_features=[CLOSE,'log_high','rsi','ema34', '4h Return','bollinger_up']\n",
    "selected_features = [CLOSE, 'dist_bollinger_up','dist_ema200', 'rsi']"
   ]
  },
  {
   "cell_type": "code",
   "execution_count": 282,
   "metadata": {},
   "outputs": [
    {
     "data": {
      "text/html": [
       "<div>\n",
       "<style scoped>\n",
       "    .dataframe tbody tr th:only-of-type {\n",
       "        vertical-align: middle;\n",
       "    }\n",
       "\n",
       "    .dataframe tbody tr th {\n",
       "        vertical-align: top;\n",
       "    }\n",
       "\n",
       "    .dataframe thead th {\n",
       "        text-align: right;\n",
       "    }\n",
       "</style>\n",
       "<table border=\"1\" class=\"dataframe\">\n",
       "  <thead>\n",
       "    <tr style=\"text-align: right;\">\n",
       "      <th></th>\n",
       "      <th>log_close</th>\n",
       "      <th>dist_bollinger_up</th>\n",
       "      <th>dist_ema200</th>\n",
       "      <th>rsi</th>\n",
       "    </tr>\n",
       "    <tr>\n",
       "      <th>date</th>\n",
       "      <th></th>\n",
       "      <th></th>\n",
       "      <th></th>\n",
       "      <th></th>\n",
       "    </tr>\n",
       "  </thead>\n",
       "  <tbody>\n",
       "    <tr>\n",
       "      <th>2015-10-13 20:00:00</th>\n",
       "      <td>5.523140</td>\n",
       "      <td>-0.006295</td>\n",
       "      <td>0.014260</td>\n",
       "      <td>62.190482</td>\n",
       "    </tr>\n",
       "    <tr>\n",
       "      <th>2015-10-14 00:00:00</th>\n",
       "      <td>5.525453</td>\n",
       "      <td>-0.005097</td>\n",
       "      <td>0.015987</td>\n",
       "      <td>64.007385</td>\n",
       "    </tr>\n",
       "    <tr>\n",
       "      <th>2015-10-14 04:00:00</th>\n",
       "      <td>5.525453</td>\n",
       "      <td>-0.006239</td>\n",
       "      <td>0.015435</td>\n",
       "      <td>64.007385</td>\n",
       "    </tr>\n",
       "    <tr>\n",
       "      <th>2015-10-14 08:00:00</th>\n",
       "      <td>5.526050</td>\n",
       "      <td>-0.006649</td>\n",
       "      <td>0.015492</td>\n",
       "      <td>64.518054</td>\n",
       "    </tr>\n",
       "    <tr>\n",
       "      <th>2015-10-14 12:00:00</th>\n",
       "      <td>5.533389</td>\n",
       "      <td>-0.001556</td>\n",
       "      <td>0.022080</td>\n",
       "      <td>70.125517</td>\n",
       "    </tr>\n",
       "    <tr>\n",
       "      <th>...</th>\n",
       "      <td>...</td>\n",
       "      <td>...</td>\n",
       "      <td>...</td>\n",
       "      <td>...</td>\n",
       "    </tr>\n",
       "    <tr>\n",
       "      <th>2021-08-12 04:00:00</th>\n",
       "      <td>10.720834</td>\n",
       "      <td>-0.041177</td>\n",
       "      <td>0.155998</td>\n",
       "      <td>52.791983</td>\n",
       "    </tr>\n",
       "    <tr>\n",
       "      <th>2021-08-12 08:00:00</th>\n",
       "      <td>10.709046</td>\n",
       "      <td>-0.047886</td>\n",
       "      <td>0.142775</td>\n",
       "      <td>48.447379</td>\n",
       "    </tr>\n",
       "    <tr>\n",
       "      <th>2021-08-12 12:00:00</th>\n",
       "      <td>10.696573</td>\n",
       "      <td>-0.058397</td>\n",
       "      <td>0.129006</td>\n",
       "      <td>44.293433</td>\n",
       "    </tr>\n",
       "    <tr>\n",
       "      <th>2021-08-12 16:00:00</th>\n",
       "      <td>10.701154</td>\n",
       "      <td>-0.054967</td>\n",
       "      <td>0.132258</td>\n",
       "      <td>46.120750</td>\n",
       "    </tr>\n",
       "    <tr>\n",
       "      <th>2021-08-12 20:00:00</th>\n",
       "      <td>10.701692</td>\n",
       "      <td>-0.055007</td>\n",
       "      <td>0.131474</td>\n",
       "      <td>46.343363</td>\n",
       "    </tr>\n",
       "  </tbody>\n",
       "</table>\n",
       "<p>12775 rows × 4 columns</p>\n",
       "</div>"
      ],
      "text/plain": [
       "                     log_close  dist_bollinger_up  dist_ema200        rsi\n",
       "date                                                                     \n",
       "2015-10-13 20:00:00   5.523140          -0.006295     0.014260  62.190482\n",
       "2015-10-14 00:00:00   5.525453          -0.005097     0.015987  64.007385\n",
       "2015-10-14 04:00:00   5.525453          -0.006239     0.015435  64.007385\n",
       "2015-10-14 08:00:00   5.526050          -0.006649     0.015492  64.518054\n",
       "2015-10-14 12:00:00   5.533389          -0.001556     0.022080  70.125517\n",
       "...                        ...                ...          ...        ...\n",
       "2021-08-12 04:00:00  10.720834          -0.041177     0.155998  52.791983\n",
       "2021-08-12 08:00:00  10.709046          -0.047886     0.142775  48.447379\n",
       "2021-08-12 12:00:00  10.696573          -0.058397     0.129006  44.293433\n",
       "2021-08-12 16:00:00  10.701154          -0.054967     0.132258  46.120750\n",
       "2021-08-12 20:00:00  10.701692          -0.055007     0.131474  46.343363\n",
       "\n",
       "[12775 rows x 4 columns]"
      ]
     },
     "execution_count": 282,
     "metadata": {},
     "output_type": "execute_result"
    }
   ],
   "source": [
    "selected_data = data[selected_features]\n",
    "selected_data"
   ]
  },
  {
   "cell_type": "code",
   "execution_count": 283,
   "metadata": {},
   "outputs": [
    {
     "data": {
      "text/plain": [
       "<AxesSubplot:>"
      ]
     },
     "execution_count": 283,
     "metadata": {},
     "output_type": "execute_result"
    },
    {
     "data": {
      "image/png": "[encoded data removed]",
      "text/plain": [
       "<Figure size 432x288 with 2 Axes>"
      ]
     },
     "metadata": {},
     "output_type": "display_data"
    }
   ],
   "source": [
    "sns.heatmap(selected_data.corr(),cmap=\"PiYG\")"
   ]
  },
  {
   "cell_type": "code",
   "execution_count": 284,
   "metadata": {},
   "outputs": [
    {
     "data": {
      "text/plain": [
       "12775"
      ]
     },
     "execution_count": 284,
     "metadata": {},
     "output_type": "execute_result"
    }
   ],
   "source": [
    "len(selected_data)"
   ]
  },
  {
   "cell_type": "code",
   "execution_count": 285,
   "metadata": {},
   "outputs": [
    {
     "data": {
      "text/plain": [
       "5.525452939131784"
      ]
     },
     "execution_count": 285,
     "metadata": {},
     "output_type": "execute_result"
    }
   ],
   "source": [
    "np.array(selected_data)[1][0]"
   ]
  },
  {
   "cell_type": "code",
   "execution_count": 286,
   "metadata": {},
   "outputs": [
    {
     "data": {
      "text/html": [
       "<div>\n",
       "<style scoped>\n",
       "    .dataframe tbody tr th:only-of-type {\n",
       "        vertical-align: middle;\n",
       "    }\n",
       "\n",
       "    .dataframe tbody tr th {\n",
       "        vertical-align: top;\n",
       "    }\n",
       "\n",
       "    .dataframe thead th {\n",
       "        text-align: right;\n",
       "    }\n",
       "</style>\n",
       "<table border=\"1\" class=\"dataframe\">\n",
       "  <thead>\n",
       "    <tr style=\"text-align: right;\">\n",
       "      <th></th>\n",
       "      <th>log_close</th>\n",
       "      <th>dist_bollinger_up</th>\n",
       "      <th>dist_ema200</th>\n",
       "      <th>rsi</th>\n",
       "    </tr>\n",
       "    <tr>\n",
       "      <th>date</th>\n",
       "      <th></th>\n",
       "      <th></th>\n",
       "      <th></th>\n",
       "      <th></th>\n",
       "    </tr>\n",
       "  </thead>\n",
       "  <tbody>\n",
       "    <tr>\n",
       "      <th>2015-10-13 20:00:00</th>\n",
       "      <td>5.523140</td>\n",
       "      <td>-0.006295</td>\n",
       "      <td>0.014260</td>\n",
       "      <td>62.190482</td>\n",
       "    </tr>\n",
       "    <tr>\n",
       "      <th>2015-10-14 00:00:00</th>\n",
       "      <td>5.525453</td>\n",
       "      <td>-0.005097</td>\n",
       "      <td>0.015987</td>\n",
       "      <td>64.007385</td>\n",
       "    </tr>\n",
       "    <tr>\n",
       "      <th>2015-10-14 04:00:00</th>\n",
       "      <td>5.525453</td>\n",
       "      <td>-0.006239</td>\n",
       "      <td>0.015435</td>\n",
       "      <td>64.007385</td>\n",
       "    </tr>\n",
       "    <tr>\n",
       "      <th>2015-10-14 08:00:00</th>\n",
       "      <td>5.526050</td>\n",
       "      <td>-0.006649</td>\n",
       "      <td>0.015492</td>\n",
       "      <td>64.518054</td>\n",
       "    </tr>\n",
       "    <tr>\n",
       "      <th>2015-10-14 12:00:00</th>\n",
       "      <td>5.533389</td>\n",
       "      <td>-0.001556</td>\n",
       "      <td>0.022080</td>\n",
       "      <td>70.125517</td>\n",
       "    </tr>\n",
       "    <tr>\n",
       "      <th>...</th>\n",
       "      <td>...</td>\n",
       "      <td>...</td>\n",
       "      <td>...</td>\n",
       "      <td>...</td>\n",
       "    </tr>\n",
       "    <tr>\n",
       "      <th>2021-08-12 04:00:00</th>\n",
       "      <td>10.720834</td>\n",
       "      <td>-0.041177</td>\n",
       "      <td>0.155998</td>\n",
       "      <td>52.791983</td>\n",
       "    </tr>\n",
       "    <tr>\n",
       "      <th>2021-08-12 08:00:00</th>\n",
       "      <td>10.709046</td>\n",
       "      <td>-0.047886</td>\n",
       "      <td>0.142775</td>\n",
       "      <td>48.447379</td>\n",
       "    </tr>\n",
       "    <tr>\n",
       "      <th>2021-08-12 12:00:00</th>\n",
       "      <td>10.696573</td>\n",
       "      <td>-0.058397</td>\n",
       "      <td>0.129006</td>\n",
       "      <td>44.293433</td>\n",
       "    </tr>\n",
       "    <tr>\n",
       "      <th>2021-08-12 16:00:00</th>\n",
       "      <td>10.701154</td>\n",
       "      <td>-0.054967</td>\n",
       "      <td>0.132258</td>\n",
       "      <td>46.120750</td>\n",
       "    </tr>\n",
       "    <tr>\n",
       "      <th>2021-08-12 20:00:00</th>\n",
       "      <td>10.701692</td>\n",
       "      <td>-0.055007</td>\n",
       "      <td>0.131474</td>\n",
       "      <td>46.343363</td>\n",
       "    </tr>\n",
       "  </tbody>\n",
       "</table>\n",
       "<p>12775 rows × 4 columns</p>\n",
       "</div>"
      ],
      "text/plain": [
       "                     log_close  dist_bollinger_up  dist_ema200        rsi\n",
       "date                                                                     \n",
       "2015-10-13 20:00:00   5.523140          -0.006295     0.014260  62.190482\n",
       "2015-10-14 00:00:00   5.525453          -0.005097     0.015987  64.007385\n",
       "2015-10-14 04:00:00   5.525453          -0.006239     0.015435  64.007385\n",
       "2015-10-14 08:00:00   5.526050          -0.006649     0.015492  64.518054\n",
       "2015-10-14 12:00:00   5.533389          -0.001556     0.022080  70.125517\n",
       "...                        ...                ...          ...        ...\n",
       "2021-08-12 04:00:00  10.720834          -0.041177     0.155998  52.791983\n",
       "2021-08-12 08:00:00  10.709046          -0.047886     0.142775  48.447379\n",
       "2021-08-12 12:00:00  10.696573          -0.058397     0.129006  44.293433\n",
       "2021-08-12 16:00:00  10.701154          -0.054967     0.132258  46.120750\n",
       "2021-08-12 20:00:00  10.701692          -0.055007     0.131474  46.343363\n",
       "\n",
       "[12775 rows x 4 columns]"
      ]
     },
     "execution_count": 286,
     "metadata": {},
     "output_type": "execute_result"
    }
   ],
   "source": [
    "selected_data"
   ]
  },
  {
   "cell_type": "markdown",
   "metadata": {
    "id": "-xCE9uVbTOat"
   },
   "source": [
    "### Temporal Train-Test Split"
   ]
  },
  {
   "cell_type": "code",
   "execution_count": 287,
   "metadata": {
    "executionInfo": {
     "elapsed": 338,
     "status": "ok",
     "timestamp": 1629967515425,
     "user": {
      "displayName": "Ivan Fernandes",
      "photoUrl": "https://lh3.googleusercontent.com/a-/AOh14GgHdj66drQjCguTVvVzCd5yy8cdMluPJPZlz_BQLg=s64",
      "userId": "12100132160237129013"
     },
     "user_tz": -120
    },
    "id": "ywO60BptTOat"
   },
   "outputs": [],
   "source": [
    "train_percentage = 95"
   ]
  },
  {
   "cell_type": "code",
   "execution_count": 288,
   "metadata": {
    "colab": {
     "base_uri": "https://localhost:8080/"
    },
    "executionInfo": {
     "elapsed": 6,
     "status": "ok",
     "timestamp": 1629967587167,
     "user": {
      "displayName": "Ivan Fernandes",
      "photoUrl": "https://lh3.googleusercontent.com/a-/AOh14GgHdj66drQjCguTVvVzCd5yy8cdMluPJPZlz_BQLg=s64",
      "userId": "12100132160237129013"
     },
     "user_tz": -120
    },
    "id": "7WYQ6ez0TOat",
    "outputId": "37e64416-2715-4b67-fb97-87579856daf4"
   },
   "outputs": [
    {
     "data": {
      "text/plain": [
       "12136"
      ]
     },
     "execution_count": 288,
     "metadata": {},
     "output_type": "execute_result"
    }
   ],
   "source": [
    "train_len = int(len(selected_data) * train_percentage/100)\n",
    "train_len"
   ]
  },
  {
   "cell_type": "code",
   "execution_count": 289,
   "metadata": {
    "executionInfo": {
     "elapsed": 381,
     "status": "ok",
     "timestamp": 1629967641312,
     "user": {
      "displayName": "Ivan Fernandes",
      "photoUrl": "https://lh3.googleusercontent.com/a-/AOh14GgHdj66drQjCguTVvVzCd5yy8cdMluPJPZlz_BQLg=s64",
      "userId": "12100132160237129013"
     },
     "user_tz": -120
    },
    "id": "du_UX6DFTOau"
   },
   "outputs": [],
   "source": [
    "data_train = selected_data[:train_len]\n",
    "data_test = selected_data[train_len:]\n"
   ]
  },
  {
   "cell_type": "markdown",
   "metadata": {
    "id": "PO0NJSeTTOau"
   },
   "source": [
    "## LSTM"
   ]
  },
  {
   "cell_type": "code",
   "execution_count": 290,
   "metadata": {
    "executionInfo": {
     "elapsed": 391,
     "status": "ok",
     "timestamp": 1629967656804,
     "user": {
      "displayName": "Ivan Fernandes",
      "photoUrl": "https://lh3.googleusercontent.com/a-/AOh14GgHdj66drQjCguTVvVzCd5yy8cdMluPJPZlz_BQLg=s64",
      "userId": "12100132160237129013"
     },
     "user_tz": -120
    },
    "id": "LsSFTVehTOau"
   },
   "outputs": [],
   "source": [
    "from sklearn.preprocessing import MinMaxScaler\n",
    "\n",
    "minmax_scaler = MinMaxScaler(feature_range = (0,1))\n",
    "\n",
    "minmax_scaler.fit(data_train)\n",
    "\n",
    "data_train_scaled = minmax_scaler.transform(data_train)\n",
    "data_test_scaled = minmax_scaler.transform(data_test)"
   ]
  },
  {
   "cell_type": "code",
   "execution_count": 291,
   "metadata": {
    "colab": {
     "base_uri": "https://localhost:8080/"
    },
    "executionInfo": {
     "elapsed": 3,
     "status": "ok",
     "timestamp": 1629967657307,
     "user": {
      "displayName": "Ivan Fernandes",
      "photoUrl": "https://lh3.googleusercontent.com/a-/AOh14GgHdj66drQjCguTVvVzCd5yy8cdMluPJPZlz_BQLg=s64",
      "userId": "12100132160237129013"
     },
     "user_tz": -120
    },
    "id": "vCCSU71kTOau",
    "outputId": "55400905-ef27-434f-fcf3-cebc738f1d51"
   },
   "outputs": [
    {
     "data": {
      "text/plain": [
       "array([1.10754626e+01, 6.58308338e-02, 6.49934662e-01, 9.35903356e+01])"
      ]
     },
     "execution_count": 291,
     "metadata": {},
     "output_type": "execute_result"
    }
   ],
   "source": [
    "minmax_scaler.data_max_"
   ]
  },
  {
   "cell_type": "code",
   "execution_count": 292,
   "metadata": {
    "colab": {
     "base_uri": "https://localhost:8080/"
    },
    "executionInfo": {
     "elapsed": 4,
     "status": "ok",
     "timestamp": 1629967659501,
     "user": {
      "displayName": "Ivan Fernandes",
      "photoUrl": "https://lh3.googleusercontent.com/a-/AOh14GgHdj66drQjCguTVvVzCd5yy8cdMluPJPZlz_BQLg=s64",
      "userId": "12100132160237129013"
     },
     "user_tz": -120
    },
    "id": "7u5vQbfPTOav",
    "outputId": "4eea426d-b00e-4953-e15f-c41f79618ee7"
   },
   "outputs": [
    {
     "data": {
      "text/plain": [
       "array([ 5.52313951, -0.69775418, -0.60782465,  5.6490747 ])"
      ]
     },
     "execution_count": 292,
     "metadata": {},
     "output_type": "execute_result"
    }
   ],
   "source": [
    "minmax_scaler.data_min_"
   ]
  },
  {
   "cell_type": "code",
   "execution_count": 293,
   "metadata": {},
   "outputs": [
    {
     "data": {
      "text/plain": [
       "5.523139508240802"
      ]
     },
     "execution_count": 293,
     "metadata": {},
     "output_type": "execute_result"
    }
   ],
   "source": [
    "min1 = minmax_scaler.data_min_[0]\n",
    "min1"
   ]
  },
  {
   "cell_type": "code",
   "execution_count": 294,
   "metadata": {},
   "outputs": [
    {
     "data": {
      "text/plain": [
       "5.552323087034936"
      ]
     },
     "execution_count": 294,
     "metadata": {},
     "output_type": "execute_result"
    }
   ],
   "source": [
    "range1 = minmax_scaler.data_range_[0]\n",
    "range1"
   ]
  },
  {
   "cell_type": "code",
   "execution_count": 295,
   "metadata": {},
   "outputs": [
    {
     "data": {
      "text/plain": [
       "array([[0.00000000e+00, 9.05543040e-01, 4.94597662e-01, 6.42945155e-01],\n",
       "       [4.16659992e-04, 9.07112420e-01, 4.95970516e-01, 6.63605572e-01],\n",
       "       [4.16659992e-04, 9.05616435e-01, 4.95531725e-01, 6.63605572e-01],\n",
       "       ...,\n",
       "       [9.70733131e-01, 8.54939922e-01, 4.73019175e-01, 6.26336810e-01],\n",
       "       [9.68898097e-01, 8.38649264e-01, 4.65101000e-01, 5.81984826e-01],\n",
       "       [9.70825681e-01, 8.50142132e-01, 4.73706252e-01, 6.15234798e-01]])"
      ]
     },
     "execution_count": 295,
     "metadata": {},
     "output_type": "execute_result"
    }
   ],
   "source": [
    "data_train_scaled[:]"
   ]
  },
  {
   "cell_type": "markdown",
   "metadata": {
    "id": "gMim3w6qTOaw"
   },
   "source": [
    "### Creating subsequences..."
   ]
  },
  {
   "cell_type": "code",
   "execution_count": 296,
   "metadata": {
    "executionInfo": {
     "elapsed": 4,
     "status": "ok",
     "timestamp": 1629967702188,
     "user": {
      "displayName": "Ivan Fernandes",
      "photoUrl": "https://lh3.googleusercontent.com/a-/AOh14GgHdj66drQjCguTVvVzCd5yy8cdMluPJPZlz_BQLg=s64",
      "userId": "12100132160237129013"
     },
     "user_tz": -120
    },
    "id": "uLSYeXScTOaz"
   },
   "outputs": [],
   "source": [
    "window_size = 36  # test with small window size         #60\n",
    "horizon = 3 #number of predictions into the future :) \n",
    "data_train_subsequences = []\n",
    "fake_y_train = []\n",
    "for k in range(len(data_train_scaled)-(window_size-1)-horizon):\n",
    "    data_train_subsequences.append(data_train_scaled[k:k+window_size])\n",
    "    fake_y_train.append(data_train_scaled[k+window_size:k+window_size+horizon]) #add [0] for log_price to be predicted"
   ]
  },
  {
   "cell_type": "code",
   "execution_count": 297,
   "metadata": {},
   "outputs": [
    {
     "data": {
      "text/plain": [
       "(12098, 3, 4)"
      ]
     },
     "execution_count": 297,
     "metadata": {},
     "output_type": "execute_result"
    }
   ],
   "source": [
    "np.array(fake_y_train).shape"
   ]
  },
  {
   "cell_type": "code",
   "execution_count": 298,
   "metadata": {},
   "outputs": [
    {
     "data": {
      "text/plain": [
       "(12098, 36, 4)"
      ]
     },
     "execution_count": 298,
     "metadata": {},
     "output_type": "execute_result"
    }
   ],
   "source": [
    "np.array(data_train_subsequences).shape"
   ]
  },
  {
   "cell_type": "code",
   "execution_count": 299,
   "metadata": {},
   "outputs": [],
   "source": [
    "X_train = np.array(data_train_subsequences) #[:,:,1:]\n",
    "y_train = np.array(fake_y_train)[:,:,0] #.reshape(-1,1)"
   ]
  },
  {
   "cell_type": "code",
   "execution_count": 300,
   "metadata": {},
   "outputs": [
    {
     "data": {
      "text/plain": [
       "(12098, 36, 4)"
      ]
     },
     "execution_count": 300,
     "metadata": {},
     "output_type": "execute_result"
    }
   ],
   "source": [
    "X_train.shape"
   ]
  },
  {
   "cell_type": "code",
   "execution_count": 301,
   "metadata": {},
   "outputs": [
    {
     "data": {
      "text/plain": [
       "(12098, 3)"
      ]
     },
     "execution_count": 301,
     "metadata": {},
     "output_type": "execute_result"
    }
   ],
   "source": [
    "y_train.shape"
   ]
  },
  {
   "cell_type": "code",
   "execution_count": 302,
   "metadata": {},
   "outputs": [],
   "source": [
    "#with the same window_size & horizon as the train data\n",
    "data_test_subsequences = []\n",
    "fake_y_test = []\n",
    "for k in range(len(data_test_scaled)-(window_size-1)-horizon):\n",
    "    data_test_subsequences.append(data_test_scaled[k:k+window_size])\n",
    "    fake_y_test.append(data_test_scaled[k+window_size:k+window_size+horizon])"
   ]
  },
  {
   "cell_type": "code",
   "execution_count": 303,
   "metadata": {},
   "outputs": [],
   "source": [
    "X_test = np.array(data_test_subsequences) #[:,:,1:]\n",
    "y_test = np.array(fake_y_test)[:,:,0] #.reshape(-1,1)"
   ]
  },
  {
   "cell_type": "code",
   "execution_count": 304,
   "metadata": {},
   "outputs": [
    {
     "data": {
      "text/plain": [
       "(601, 36, 4)"
      ]
     },
     "execution_count": 304,
     "metadata": {},
     "output_type": "execute_result"
    }
   ],
   "source": [
    "X_test.shape"
   ]
  },
  {
   "cell_type": "code",
   "execution_count": 305,
   "metadata": {},
   "outputs": [
    {
     "data": {
      "text/plain": [
       "(601, 3)"
      ]
     },
     "execution_count": 305,
     "metadata": {},
     "output_type": "execute_result"
    }
   ],
   "source": [
    "y_test.shape"
   ]
  },
  {
   "cell_type": "markdown",
   "metadata": {
    "id": "KU7fCgwYTOa2"
   },
   "source": [
    "### LSTM"
   ]
  },
  {
   "cell_type": "markdown",
   "metadata": {
    "id": "4VXmMApdTOa3"
   },
   "source": [
    "#### RNN Architecture"
   ]
  },
  {
   "cell_type": "code",
   "execution_count": 306,
   "metadata": {
    "colab": {
     "base_uri": "https://localhost:8080/"
    },
    "executionInfo": {
     "elapsed": 2,
     "status": "ok",
     "timestamp": 1629968945439,
     "user": {
      "displayName": "Ivan Fernandes",
      "photoUrl": "https://lh3.googleusercontent.com/a-/AOh14GgHdj66drQjCguTVvVzCd5yy8cdMluPJPZlz_BQLg=s64",
      "userId": "12100132160237129013"
     },
     "user_tz": -120
    },
    "id": "cPGw4CxharJx",
    "outputId": "eff5edb9-92ef-4a1c-d0f7-34e50a8596ce"
   },
   "outputs": [
    {
     "data": {
      "text/plain": [
       "(601, 3)"
      ]
     },
     "execution_count": 306,
     "metadata": {},
     "output_type": "execute_result"
    }
   ],
   "source": [
    "pd.DataFrame(y_test).shape"
   ]
  },
  {
   "cell_type": "code",
   "execution_count": 307,
   "metadata": {
    "executionInfo": {
     "elapsed": 1,
     "status": "ok",
     "timestamp": 1629968945884,
     "user": {
      "displayName": "Ivan Fernandes",
      "photoUrl": "https://lh3.googleusercontent.com/a-/AOh14GgHdj66drQjCguTVvVzCd5yy8cdMluPJPZlz_BQLg=s64",
      "userId": "12100132160237129013"
     },
     "user_tz": -120
    },
    "id": "ZPwe_lkATOa3"
   },
   "outputs": [],
   "source": [
    "from tensorflow.keras import metrics\n",
    "\n",
    "my_mae = metrics.MeanAbsoluteError(\n",
    "    name='mean_absolute_error', dtype=None\n",
    ")\n"
   ]
  },
  {
   "cell_type": "code",
   "execution_count": 308,
   "metadata": {},
   "outputs": [],
   "source": [
    "from tensorflow.keras import Sequential, layers\n",
    "\n",
    "# Build the LSTM model\n",
    "model = Sequential()\n",
    "\n",
    "model.add(layers.LSTM(units=128,\n",
    "                     return_sequences = True,\n",
    "                     activation = \"tanh\"\n",
    "                    #activation = \"relu\"\n",
    "                     #input_shape = X_train[0].shape)\n",
    "                     ))\n",
    "model.add(layers.Dropout(rate=0.05))\n",
    "\n",
    "model.add(layers.LSTM(units=64,\n",
    "                      return_sequences = False,\n",
    "                      activation = \"relu\"  \n",
    "                    #activation = \"relu\"\n",
    "                     ))\n",
    "#model.add(layers.Dropout(rate=0.05))\n",
    "# model.add(layers.Dense(25,\n",
    "#                          activation=\"relu\"))\n",
    "model.add(layers.Dense(32,\n",
    "                        activation = \"tanh\" \n",
    "                       #activation=\"relu\"\n",
    "                      ))\n",
    "\n",
    "#model.add(layers.Dense(32,activation=\"relu\"))\n",
    "model.add(layers.Dense(16,\n",
    "                       activation = \"relu\"\n",
    "                       #activation=\"relu\"\n",
    "                      ))\n",
    "model.add(layers.Dense(8,activation=\"relu\"))\n",
    "\n",
    "model.add(layers.Dense(3,\n",
    "                      activation = \"relu\" \n",
    "                      #activation=\"relu\"\n",
    "                      ))\n",
    "\n",
    "#model.summary()\n",
    "\n"
   ]
  },
  {
   "cell_type": "code",
   "execution_count": 309,
   "metadata": {
    "colab": {
     "base_uri": "https://localhost:8080/"
    },
    "executionInfo": {
     "elapsed": 1953,
     "status": "ok",
     "timestamp": 1629968948177,
     "user": {
      "displayName": "Ivan Fernandes",
      "photoUrl": "https://lh3.googleusercontent.com/a-/AOh14GgHdj66drQjCguTVvVzCd5yy8cdMluPJPZlz_BQLg=s64",
      "userId": "12100132160237129013"
     },
     "user_tz": -120
    },
    "id": "GkEjh2ngTOa4",
    "outputId": "934eff05-c3ac-4046-984c-0401bd0b2484"
   },
   "outputs": [],
   "source": [
    "# from tensorflow.keras import Sequential, layers\n",
    "\n",
    "# # Build the LSTM model\n",
    "# model = Sequential()\n",
    "\n",
    "# model.add(layers.LSTM(units=128,\n",
    "#                      return_sequences = True,\n",
    "#                      activation = \"tanh\"\n",
    "#                     #activation = \"relu\"\n",
    "#                      #input_shape = X_train[0].shape)\n",
    "#                      ))\n",
    "\n",
    "# model.add(layers.LSTM(units=64,\n",
    "#                       return_sequences = False,\n",
    "#                       activation = \"relu\"  \n",
    "#                     #activation = \"relu\"\n",
    "#                      ))\n",
    "\n",
    "# # model.add(layers.Dense(25,\n",
    "# #                          activation=\"relu\"))\n",
    "# model.add(layers.Dense(32,\n",
    "#                         activation = \"tanh\" \n",
    "#                        #activation=\"relu\"\n",
    "#                       ))\n",
    "# #model.add(layers.Dense(16,activation=\"relu\"))\n",
    "# model.add(layers.Dense(8,\n",
    "#                        activation = \"relu\"\n",
    "#                        #activation=\"relu\"\n",
    "#                       ))\n",
    "# model.add(layers.Dense(4,\n",
    "#                       activation = \"relu\" \n",
    "#                       #activation=\"relu\"\n",
    "#                       ))\n",
    "\n",
    "# #model.summary()\n",
    "\n"
   ]
  },
  {
   "cell_type": "code",
   "execution_count": 310,
   "metadata": {
    "executionInfo": {
     "elapsed": 340,
     "status": "ok",
     "timestamp": 1629968954711,
     "user": {
      "displayName": "Ivan Fernandes",
      "photoUrl": "https://lh3.googleusercontent.com/a-/AOh14GgHdj66drQjCguTVvVzCd5yy8cdMluPJPZlz_BQLg=s64",
      "userId": "12100132160237129013"
     },
     "user_tz": -120
    },
    "id": "igW2CAISTOa5"
   },
   "outputs": [],
   "source": [
    "model.compile(loss=\"mse\",\n",
    "             optimizer = \"adam\",#rmsprop\n",
    "             metrics = \"mae\"#[my_mae]\n",
    "             )"
   ]
  },
  {
   "cell_type": "markdown",
   "metadata": {
    "id": "0JoMEFYdTOa5"
   },
   "source": [
    "#### Training"
   ]
  },
  {
   "cell_type": "code",
   "execution_count": 311,
   "metadata": {
    "executionInfo": {
     "elapsed": 357,
     "status": "ok",
     "timestamp": 1629968962645,
     "user": {
      "displayName": "Ivan Fernandes",
      "photoUrl": "https://lh3.googleusercontent.com/a-/AOh14GgHdj66drQjCguTVvVzCd5yy8cdMluPJPZlz_BQLg=s64",
      "userId": "12100132160237129013"
     },
     "user_tz": -120
    },
    "id": "u8mqJaUWarJy"
   },
   "outputs": [],
   "source": [
    "#### perhaps create a validation and train sets by hand"
   ]
  },
  {
   "cell_type": "code",
   "execution_count": null,
   "metadata": {
    "colab": {
     "base_uri": "https://localhost:8080/"
    },
    "executionInfo": {
     "elapsed": 89008,
     "status": "ok",
     "timestamp": 1629969056811,
     "user": {
      "displayName": "Ivan Fernandes",
      "photoUrl": "https://lh3.googleusercontent.com/a-/AOh14GgHdj66drQjCguTVvVzCd5yy8cdMluPJPZlz_BQLg=s64",
      "userId": "12100132160237129013"
     },
     "user_tz": -120
    },
    "id": "x8WmFMDoTOa6",
    "outputId": "c4129e5e-d680-4199-e200-ed02360e4cc6"
   },
   "outputs": [
    {
     "name": "stdout",
     "output_type": "stream",
     "text": [
      "Epoch 1/30\n",
      "605/605 [==============================] - 18s 26ms/step - loss: 0.0035 - mae: 0.0219 - val_loss: 0.0018 - val_mae: 0.0281\n",
      "Epoch 2/30\n",
      "605/605 [==============================] - 17s 28ms/step - loss: 1.4726e-04 - mae: 0.0093 - val_loss: 0.0014 - val_mae: 0.0256\n",
      "Epoch 3/30\n",
      "605/605 [==============================] - 17s 29ms/step - loss: 1.1004e-04 - mae: 0.0080 - val_loss: 0.0011 - val_mae: 0.0238\n",
      "Epoch 4/30\n",
      "605/605 [==============================] - 19s 31ms/step - loss: 9.0813e-05 - mae: 0.0073 - val_loss: 5.1598e-04 - val_mae: 0.0150\n",
      "Epoch 5/30\n",
      "605/605 [==============================] - 19s 32ms/step - loss: 9.1964e-05 - mae: 0.0073 - val_loss: 4.1006e-04 - val_mae: 0.0140\n",
      "Epoch 6/30\n",
      "605/605 [==============================] - 18s 30ms/step - loss: 7.5190e-05 - mae: 0.0066 - val_loss: 4.7845e-04 - val_mae: 0.0141\n",
      "Epoch 7/30\n",
      "605/605 [==============================] - 21s 34ms/step - loss: 1.0334e-04 - mae: 0.0078 - val_loss: 7.2907e-04 - val_mae: 0.0194\n",
      "Epoch 8/30\n",
      "605/605 [==============================] - 19s 32ms/step - loss: 7.7921e-05 - mae: 0.0066 - val_loss: 0.0020 - val_mae: 0.0407\n",
      "Epoch 9/30\n",
      "605/605 [==============================] - 20s 32ms/step - loss: 7.9422e-05 - mae: 0.0067 - val_loss: 2.6011e-04 - val_mae: 0.0103\n",
      "Epoch 10/30\n",
      "605/605 [==============================] - 19s 32ms/step - loss: 6.1512e-05 - mae: 0.0060 - val_loss: 1.3644e-04 - val_mae: 0.0094\n",
      "Epoch 11/30\n",
      "605/605 [==============================] - 20s 33ms/step - loss: 5.8417e-05 - mae: 0.0058 - val_loss: 3.5445e-04 - val_mae: 0.0127\n",
      "Epoch 12/30\n",
      "605/605 [==============================] - 19s 32ms/step - loss: 5.8477e-05 - mae: 0.0058 - val_loss: 3.3097e-04 - val_mae: 0.0117\n",
      "Epoch 13/30\n",
      "605/605 [==============================] - 19s 32ms/step - loss: 5.7658e-05 - mae: 0.0058 - val_loss: 1.5425e-04 - val_mae: 0.0094\n",
      "Epoch 14/30\n",
      "605/605 [==============================] - 19s 32ms/step - loss: 5.6257e-05 - mae: 0.0056 - val_loss: 1.2040e-04 - val_mae: 0.0074\n",
      "Epoch 15/30\n",
      "605/605 [==============================] - 19s 32ms/step - loss: 5.2496e-05 - mae: 0.0055 - val_loss: 1.2726e-04 - val_mae: 0.0075\n",
      "Epoch 16/30\n",
      "605/605 [==============================] - 19s 32ms/step - loss: 5.6430e-05 - mae: 0.0057 - val_loss: 1.2941e-04 - val_mae: 0.0095\n",
      "Epoch 17/30\n",
      "605/605 [==============================] - 19s 32ms/step - loss: 5.1190e-05 - mae: 0.0054 - val_loss: 4.8285e-04 - val_mae: 0.0180\n",
      "Epoch 18/30\n",
      "605/605 [==============================] - 19s 32ms/step - loss: 4.5242e-05 - mae: 0.0051 - val_loss: 1.6929e-04 - val_mae: 0.0085\n",
      "Epoch 19/30\n",
      "227/605 [==========>...................] - ETA: 11s - loss: 4.7589e-05 - mae: 0.0052"
     ]
    }
   ],
   "source": [
    "from tensorflow.keras.callbacks import EarlyStopping \n",
    "\n",
    "es = EarlyStopping(patience = 5, \n",
    "                   restore_best_weights= True,\n",
    "                   monitor = \"mae\"\n",
    "                  )\n",
    "\n",
    "history = model.fit(X_train, y_train,\n",
    "          validation_split = 0.2,\n",
    "         batch_size=16,\n",
    "         epochs=30,\n",
    "         verbose = 1,\n",
    "         callbacks = [es]\n",
    "                   )"
   ]
  },
  {
   "cell_type": "code",
   "execution_count": 205,
   "metadata": {
    "executionInfo": {
     "elapsed": 618,
     "status": "ok",
     "timestamp": 1629971280020,
     "user": {
      "displayName": "Ivan Fernandes",
      "photoUrl": "https://lh3.googleusercontent.com/a-/AOh14GgHdj66drQjCguTVvVzCd5yy8cdMluPJPZlz_BQLg=s64",
      "userId": "12100132160237129013"
     },
     "user_tz": -120
    },
    "id": "6BnpySGUL453"
   },
   "outputs": [],
   "source": [
    "def plot_loss_mae(history):\n",
    "    \n",
    "    fig, ax =plt.subplots(1,2,figsize=(20,5))\n",
    "    \n",
    "    # --- LOSS\n",
    "    \n",
    "    ax[0].plot(history.history['loss'])\n",
    "    ax[0].plot(history.history['val_loss'])\n",
    "    ax[0].set_title('Model loss')\n",
    "    ax[0].set_xlabel('Epoch')\n",
    "    ax[0].set_ylabel('Loss')\n",
    "    ax[0].legend(['Train', 'Val'], loc='upper right')\n",
    "    ax[0].grid(axis=\"x\",linewidth=0.5)\n",
    "    ax[0].grid(axis=\"y\",linewidth=0.5)\n",
    "    \n",
    "#     # --- MAE\n",
    "\n",
    "    ax[1].plot(history.history['mae'])\n",
    "    ax[1].plot(history.history['val_mae'])\n",
    "    ax[1].set_title('Model MAE', fontsize = 18)\n",
    "    ax[1].set_xlabel('Epoch', fontsize = 14)\n",
    "    ax[1].set_ylabel('Recall', fontsize = 14)\n",
    "    ax[1].legend(['Train', 'Val'], loc='lower right') \n",
    "    ax[1].grid(axis=\"x\",linewidth=0.5)\n",
    "    ax[1].grid(axis=\"y\",linewidth=0.5)   \n",
    "    \n",
    "    plt.show()\n",
    "    "
   ]
  },
  {
   "cell_type": "code",
   "execution_count": 206,
   "metadata": {
    "colab": {
     "base_uri": "https://localhost:8080/",
     "height": 330
    },
    "executionInfo": {
     "elapsed": 775,
     "status": "ok",
     "timestamp": 1629971280790,
     "user": {
      "displayName": "Ivan Fernandes",
      "photoUrl": "https://lh3.googleusercontent.com/a-/AOh14GgHdj66drQjCguTVvVzCd5yy8cdMluPJPZlz_BQLg=s64",
      "userId": "12100132160237129013"
     },
     "user_tz": -120
    },
    "id": "CYBdZyrzL454",
    "outputId": "be857210-3dbb-4216-8037-6adedfac0875"
   },
   "outputs": [
    {
     "data": {
      "image/png": "[encoded data removed]",
      "text/plain": [
       "<Figure size 1440x360 with 2 Axes>"
      ]
     },
     "metadata": {},
     "output_type": "display_data"
    }
   ],
   "source": [
    "plot_loss_mae(history)"
   ]
  },
  {
   "cell_type": "markdown",
   "metadata": {
    "id": "dPlbdR24TOa7"
   },
   "source": [
    "#### Evaluating"
   ]
  },
  {
   "cell_type": "code",
   "execution_count": 207,
   "metadata": {
    "colab": {
     "base_uri": "https://localhost:8080/",
     "height": 370
    },
    "executionInfo": {
     "elapsed": 346,
     "status": "error",
     "timestamp": 1629971289974,
     "user": {
      "displayName": "Ivan Fernandes",
      "photoUrl": "https://lh3.googleusercontent.com/a-/AOh14GgHdj66drQjCguTVvVzCd5yy8cdMluPJPZlz_BQLg=s64",
      "userId": "12100132160237129013"
     },
     "user_tz": -120
    },
    "id": "fGR98XHrTOa7",
    "outputId": "eae3ab01-8077-4116-c16d-93c6c971a35d"
   },
   "outputs": [
    {
     "name": "stdout",
     "output_type": "stream",
     "text": [
      "19/19 [==============================] - 0s 11ms/step - loss: 1.6403e-04 - mae: 0.0113\n"
     ]
    },
    {
     "data": {
      "text/plain": [
       "[0.0001640254631638527, 0.011347808875143528]"
      ]
     },
     "execution_count": 207,
     "metadata": {},
     "output_type": "execute_result"
    }
   ],
   "source": [
    "res = model.evaluate(X_test, np.array(y_test), verbose = 1)\n",
    "res\n"
   ]
  },
  {
   "cell_type": "markdown",
   "metadata": {
    "id": "o3S6CvgCTOa8"
   },
   "source": [
    "#### Predictions"
   ]
  },
  {
   "cell_type": "code",
   "execution_count": 208,
   "metadata": {
    "executionInfo": {
     "elapsed": 3825,
     "status": "ok",
     "timestamp": 1629969068317,
     "user": {
      "displayName": "Ivan Fernandes",
      "photoUrl": "https://lh3.googleusercontent.com/a-/AOh14GgHdj66drQjCguTVvVzCd5yy8cdMluPJPZlz_BQLg=s64",
      "userId": "12100132160237129013"
     },
     "user_tz": -120
    },
    "id": "_a1LDha2TOa9"
   },
   "outputs": [],
   "source": [
    "predictions = model.predict(X_test)\n"
   ]
  },
  {
   "cell_type": "code",
   "execution_count": 209,
   "metadata": {
    "colab": {
     "base_uri": "https://localhost:8080/"
    },
    "executionInfo": {
     "elapsed": 14,
     "status": "ok",
     "timestamp": 1629969068318,
     "user": {
      "displayName": "Ivan Fernandes",
      "photoUrl": "https://lh3.googleusercontent.com/a-/AOh14GgHdj66drQjCguTVvVzCd5yy8cdMluPJPZlz_BQLg=s64",
      "userId": "12100132160237129013"
     },
     "user_tz": -120
    },
    "id": "abi96XmrTOa-",
    "outputId": "d96a92dc-04ec-4680-b3a2-ed4c39f13817"
   },
   "outputs": [
    {
     "data": {
      "text/plain": [
       "(601, 601)"
      ]
     },
     "execution_count": 209,
     "metadata": {},
     "output_type": "execute_result"
    }
   ],
   "source": [
    "len(predictions), len(y_test)"
   ]
  },
  {
   "cell_type": "code",
   "execution_count": 210,
   "metadata": {
    "colab": {
     "base_uri": "https://localhost:8080/"
    },
    "executionInfo": {
     "elapsed": 11,
     "status": "ok",
     "timestamp": 1629969068318,
     "user": {
      "displayName": "Ivan Fernandes",
      "photoUrl": "https://lh3.googleusercontent.com/a-/AOh14GgHdj66drQjCguTVvVzCd5yy8cdMluPJPZlz_BQLg=s64",
      "userId": "12100132160237129013"
     },
     "user_tz": -120
    },
    "id": "WbG_o9xrTOa-",
    "outputId": "586ea1e0-d0c1-400e-88fd-b45f46966093"
   },
   "outputs": [
    {
     "data": {
      "text/plain": [
       "array([[0.95946556, 0.952289  , 0.95229465],\n",
       "       [0.9534805 , 0.94617754, 0.9462431 ],\n",
       "       [0.95575064, 0.9486739 , 0.9486632 ]], dtype=float32)"
      ]
     },
     "execution_count": 210,
     "metadata": {},
     "output_type": "execute_result"
    }
   ],
   "source": [
    "predictions[0:3]"
   ]
  },
  {
   "cell_type": "code",
   "execution_count": 211,
   "metadata": {},
   "outputs": [],
   "source": [
    "y_test_unscaled = y_test * range1 + min1"
   ]
  },
  {
   "cell_type": "code",
   "execution_count": 212,
   "metadata": {},
   "outputs": [],
   "source": [
    "predictions_unscaled = predictions * range1 + min1"
   ]
  },
  {
   "cell_type": "code",
   "execution_count": 213,
   "metadata": {},
   "outputs": [
    {
     "data": {
      "text/plain": [
       "array([[10.850402, 10.810555, 10.810587],\n",
       "       [10.817171, 10.776623, 10.776987],\n",
       "       [10.829776, 10.790483, 10.790424]], dtype=float32)"
      ]
     },
     "execution_count": 213,
     "metadata": {},
     "output_type": "execute_result"
    }
   ],
   "source": [
    "predictions_unscaled[0:3]"
   ]
  },
  {
   "cell_type": "markdown",
   "metadata": {
    "id": "bN_vtDyWTOa-"
   },
   "source": [
    "The operation computed during a `MinMaxScaler` Operation is:\n",
    "\n",
    "$$x_{scaled} = \\frac{x - x_{min}}{x_{max}- x_{min}}$$\n",
    "\n",
    "To descale it:\n",
    "\n",
    "$$x = x_{scaled} * (x_{max}- x_{min}) + x_{min}$$\n",
    "\n",
    "Or use the `inverse_transform` directly provided..."
   ]
  },
  {
   "cell_type": "code",
   "execution_count": 214,
   "metadata": {},
   "outputs": [
    {
     "data": {
      "text/plain": [
       "(601, 36, 3)"
      ]
     },
     "execution_count": 214,
     "metadata": {},
     "output_type": "execute_result"
    }
   ],
   "source": [
    "X_test.shape"
   ]
  },
  {
   "cell_type": "code",
   "execution_count": 215,
   "metadata": {},
   "outputs": [
    {
     "data": {
      "text/plain": [
       "(601, 3)"
      ]
     },
     "execution_count": 215,
     "metadata": {},
     "output_type": "execute_result"
    }
   ],
   "source": [
    "predictions.shape"
   ]
  },
  {
   "cell_type": "code",
   "execution_count": 216,
   "metadata": {},
   "outputs": [],
   "source": [
    "pred = pd.DataFrame(predictions_unscaled, columns = ['pred_1','pred_2','pred_3']) #'pred_4','pred_5','pred_6'\n",
    "test = pd.DataFrame(y_test_unscaled, columns = ['test_1','test_2','test_3']) #, 'test_4','test_5','test_6'\n",
    "result = pd.concat([pred, test], axis=1)"
   ]
  },
  {
   "cell_type": "code",
   "execution_count": 217,
   "metadata": {},
   "outputs": [
    {
     "data": {
      "text/html": [
       "<div>\n",
       "<style scoped>\n",
       "    .dataframe tbody tr th:only-of-type {\n",
       "        vertical-align: middle;\n",
       "    }\n",
       "\n",
       "    .dataframe tbody tr th {\n",
       "        vertical-align: top;\n",
       "    }\n",
       "\n",
       "    .dataframe thead th {\n",
       "        text-align: right;\n",
       "    }\n",
       "</style>\n",
       "<table border=\"1\" class=\"dataframe\">\n",
       "  <thead>\n",
       "    <tr style=\"text-align: right;\">\n",
       "      <th></th>\n",
       "      <th>pred_1</th>\n",
       "      <th>pred_2</th>\n",
       "      <th>pred_3</th>\n",
       "      <th>test_1</th>\n",
       "      <th>test_2</th>\n",
       "      <th>test_3</th>\n",
       "    </tr>\n",
       "  </thead>\n",
       "  <tbody>\n",
       "    <tr>\n",
       "      <th>0</th>\n",
       "      <td>10.850402</td>\n",
       "      <td>10.810555</td>\n",
       "      <td>10.810587</td>\n",
       "      <td>10.894236</td>\n",
       "      <td>10.908013</td>\n",
       "      <td>10.882556</td>\n",
       "    </tr>\n",
       "    <tr>\n",
       "      <th>1</th>\n",
       "      <td>10.817171</td>\n",
       "      <td>10.776623</td>\n",
       "      <td>10.776987</td>\n",
       "      <td>10.908013</td>\n",
       "      <td>10.882556</td>\n",
       "      <td>10.912033</td>\n",
       "    </tr>\n",
       "    <tr>\n",
       "      <th>2</th>\n",
       "      <td>10.829776</td>\n",
       "      <td>10.790483</td>\n",
       "      <td>10.790424</td>\n",
       "      <td>10.882556</td>\n",
       "      <td>10.912033</td>\n",
       "      <td>10.912889</td>\n",
       "    </tr>\n",
       "    <tr>\n",
       "      <th>3</th>\n",
       "      <td>10.800315</td>\n",
       "      <td>10.760424</td>\n",
       "      <td>10.760653</td>\n",
       "      <td>10.912033</td>\n",
       "      <td>10.912889</td>\n",
       "      <td>10.917659</td>\n",
       "    </tr>\n",
       "    <tr>\n",
       "      <th>4</th>\n",
       "      <td>10.830543</td>\n",
       "      <td>10.792512</td>\n",
       "      <td>10.792070</td>\n",
       "      <td>10.912889</td>\n",
       "      <td>10.917659</td>\n",
       "      <td>10.962394</td>\n",
       "    </tr>\n",
       "    <tr>\n",
       "      <th>...</th>\n",
       "      <td>...</td>\n",
       "      <td>...</td>\n",
       "      <td>...</td>\n",
       "      <td>...</td>\n",
       "      <td>...</td>\n",
       "      <td>...</td>\n",
       "    </tr>\n",
       "    <tr>\n",
       "      <th>596</th>\n",
       "      <td>10.695477</td>\n",
       "      <td>10.663405</td>\n",
       "      <td>10.661669</td>\n",
       "      <td>10.726566</td>\n",
       "      <td>10.735267</td>\n",
       "      <td>10.720834</td>\n",
       "    </tr>\n",
       "    <tr>\n",
       "      <th>597</th>\n",
       "      <td>10.680655</td>\n",
       "      <td>10.647997</td>\n",
       "      <td>10.646490</td>\n",
       "      <td>10.735267</td>\n",
       "      <td>10.720834</td>\n",
       "      <td>10.709046</td>\n",
       "    </tr>\n",
       "    <tr>\n",
       "      <th>598</th>\n",
       "      <td>10.687410</td>\n",
       "      <td>10.655041</td>\n",
       "      <td>10.653422</td>\n",
       "      <td>10.720834</td>\n",
       "      <td>10.709046</td>\n",
       "      <td>10.696573</td>\n",
       "    </tr>\n",
       "    <tr>\n",
       "      <th>599</th>\n",
       "      <td>10.672697</td>\n",
       "      <td>10.639726</td>\n",
       "      <td>10.638342</td>\n",
       "      <td>10.709046</td>\n",
       "      <td>10.696573</td>\n",
       "      <td>10.701154</td>\n",
       "    </tr>\n",
       "    <tr>\n",
       "      <th>600</th>\n",
       "      <td>10.665855</td>\n",
       "      <td>10.632810</td>\n",
       "      <td>10.631474</td>\n",
       "      <td>10.696573</td>\n",
       "      <td>10.701154</td>\n",
       "      <td>10.701692</td>\n",
       "    </tr>\n",
       "  </tbody>\n",
       "</table>\n",
       "<p>601 rows × 6 columns</p>\n",
       "</div>"
      ],
      "text/plain": [
       "        pred_1     pred_2     pred_3     test_1     test_2     test_3\n",
       "0    10.850402  10.810555  10.810587  10.894236  10.908013  10.882556\n",
       "1    10.817171  10.776623  10.776987  10.908013  10.882556  10.912033\n",
       "2    10.829776  10.790483  10.790424  10.882556  10.912033  10.912889\n",
       "3    10.800315  10.760424  10.760653  10.912033  10.912889  10.917659\n",
       "4    10.830543  10.792512  10.792070  10.912889  10.917659  10.962394\n",
       "..         ...        ...        ...        ...        ...        ...\n",
       "596  10.695477  10.663405  10.661669  10.726566  10.735267  10.720834\n",
       "597  10.680655  10.647997  10.646490  10.735267  10.720834  10.709046\n",
       "598  10.687410  10.655041  10.653422  10.720834  10.709046  10.696573\n",
       "599  10.672697  10.639726  10.638342  10.709046  10.696573  10.701154\n",
       "600  10.665855  10.632810  10.631474  10.696573  10.701154  10.701692\n",
       "\n",
       "[601 rows x 6 columns]"
      ]
     },
     "execution_count": 217,
     "metadata": {},
     "output_type": "execute_result"
    }
   ],
   "source": [
    "result"
   ]
  },
  {
   "cell_type": "code",
   "execution_count": 218,
   "metadata": {},
   "outputs": [],
   "source": [
    "for i in range(1,4):\n",
    "    result[f'weight_{i}'] = np.mean(result[f'test_{i}'] - result[f'pred_{i}'])"
   ]
  },
  {
   "cell_type": "code",
   "execution_count": 219,
   "metadata": {},
   "outputs": [
    {
     "data": {
      "text/html": [
       "<div>\n",
       "<style scoped>\n",
       "    .dataframe tbody tr th:only-of-type {\n",
       "        vertical-align: middle;\n",
       "    }\n",
       "\n",
       "    .dataframe tbody tr th {\n",
       "        vertical-align: top;\n",
       "    }\n",
       "\n",
       "    .dataframe thead th {\n",
       "        text-align: right;\n",
       "    }\n",
       "</style>\n",
       "<table border=\"1\" class=\"dataframe\">\n",
       "  <thead>\n",
       "    <tr style=\"text-align: right;\">\n",
       "      <th></th>\n",
       "      <th>pred_1</th>\n",
       "      <th>pred_2</th>\n",
       "      <th>pred_3</th>\n",
       "      <th>test_1</th>\n",
       "      <th>test_2</th>\n",
       "      <th>test_3</th>\n",
       "      <th>weight_1</th>\n",
       "      <th>weight_2</th>\n",
       "      <th>weight_3</th>\n",
       "    </tr>\n",
       "  </thead>\n",
       "  <tbody>\n",
       "    <tr>\n",
       "      <th>0</th>\n",
       "      <td>10.850402</td>\n",
       "      <td>10.810555</td>\n",
       "      <td>10.810587</td>\n",
       "      <td>10.894236</td>\n",
       "      <td>10.908013</td>\n",
       "      <td>10.882556</td>\n",
       "      <td>0.043817</td>\n",
       "      <td>0.070695</td>\n",
       "      <td>0.072864</td>\n",
       "    </tr>\n",
       "    <tr>\n",
       "      <th>1</th>\n",
       "      <td>10.817171</td>\n",
       "      <td>10.776623</td>\n",
       "      <td>10.776987</td>\n",
       "      <td>10.908013</td>\n",
       "      <td>10.882556</td>\n",
       "      <td>10.912033</td>\n",
       "      <td>0.043817</td>\n",
       "      <td>0.070695</td>\n",
       "      <td>0.072864</td>\n",
       "    </tr>\n",
       "    <tr>\n",
       "      <th>2</th>\n",
       "      <td>10.829776</td>\n",
       "      <td>10.790483</td>\n",
       "      <td>10.790424</td>\n",
       "      <td>10.882556</td>\n",
       "      <td>10.912033</td>\n",
       "      <td>10.912889</td>\n",
       "      <td>0.043817</td>\n",
       "      <td>0.070695</td>\n",
       "      <td>0.072864</td>\n",
       "    </tr>\n",
       "    <tr>\n",
       "      <th>3</th>\n",
       "      <td>10.800315</td>\n",
       "      <td>10.760424</td>\n",
       "      <td>10.760653</td>\n",
       "      <td>10.912033</td>\n",
       "      <td>10.912889</td>\n",
       "      <td>10.917659</td>\n",
       "      <td>0.043817</td>\n",
       "      <td>0.070695</td>\n",
       "      <td>0.072864</td>\n",
       "    </tr>\n",
       "    <tr>\n",
       "      <th>4</th>\n",
       "      <td>10.830543</td>\n",
       "      <td>10.792512</td>\n",
       "      <td>10.792070</td>\n",
       "      <td>10.912889</td>\n",
       "      <td>10.917659</td>\n",
       "      <td>10.962394</td>\n",
       "      <td>0.043817</td>\n",
       "      <td>0.070695</td>\n",
       "      <td>0.072864</td>\n",
       "    </tr>\n",
       "    <tr>\n",
       "      <th>...</th>\n",
       "      <td>...</td>\n",
       "      <td>...</td>\n",
       "      <td>...</td>\n",
       "      <td>...</td>\n",
       "      <td>...</td>\n",
       "      <td>...</td>\n",
       "      <td>...</td>\n",
       "      <td>...</td>\n",
       "      <td>...</td>\n",
       "    </tr>\n",
       "    <tr>\n",
       "      <th>596</th>\n",
       "      <td>10.695477</td>\n",
       "      <td>10.663405</td>\n",
       "      <td>10.661669</td>\n",
       "      <td>10.726566</td>\n",
       "      <td>10.735267</td>\n",
       "      <td>10.720834</td>\n",
       "      <td>0.043817</td>\n",
       "      <td>0.070695</td>\n",
       "      <td>0.072864</td>\n",
       "    </tr>\n",
       "    <tr>\n",
       "      <th>597</th>\n",
       "      <td>10.680655</td>\n",
       "      <td>10.647997</td>\n",
       "      <td>10.646490</td>\n",
       "      <td>10.735267</td>\n",
       "      <td>10.720834</td>\n",
       "      <td>10.709046</td>\n",
       "      <td>0.043817</td>\n",
       "      <td>0.070695</td>\n",
       "      <td>0.072864</td>\n",
       "    </tr>\n",
       "    <tr>\n",
       "      <th>598</th>\n",
       "      <td>10.687410</td>\n",
       "      <td>10.655041</td>\n",
       "      <td>10.653422</td>\n",
       "      <td>10.720834</td>\n",
       "      <td>10.709046</td>\n",
       "      <td>10.696573</td>\n",
       "      <td>0.043817</td>\n",
       "      <td>0.070695</td>\n",
       "      <td>0.072864</td>\n",
       "    </tr>\n",
       "    <tr>\n",
       "      <th>599</th>\n",
       "      <td>10.672697</td>\n",
       "      <td>10.639726</td>\n",
       "      <td>10.638342</td>\n",
       "      <td>10.709046</td>\n",
       "      <td>10.696573</td>\n",
       "      <td>10.701154</td>\n",
       "      <td>0.043817</td>\n",
       "      <td>0.070695</td>\n",
       "      <td>0.072864</td>\n",
       "    </tr>\n",
       "    <tr>\n",
       "      <th>600</th>\n",
       "      <td>10.665855</td>\n",
       "      <td>10.632810</td>\n",
       "      <td>10.631474</td>\n",
       "      <td>10.696573</td>\n",
       "      <td>10.701154</td>\n",
       "      <td>10.701692</td>\n",
       "      <td>0.043817</td>\n",
       "      <td>0.070695</td>\n",
       "      <td>0.072864</td>\n",
       "    </tr>\n",
       "  </tbody>\n",
       "</table>\n",
       "<p>601 rows × 9 columns</p>\n",
       "</div>"
      ],
      "text/plain": [
       "        pred_1     pred_2     pred_3     test_1     test_2     test_3  \\\n",
       "0    10.850402  10.810555  10.810587  10.894236  10.908013  10.882556   \n",
       "1    10.817171  10.776623  10.776987  10.908013  10.882556  10.912033   \n",
       "2    10.829776  10.790483  10.790424  10.882556  10.912033  10.912889   \n",
       "3    10.800315  10.760424  10.760653  10.912033  10.912889  10.917659   \n",
       "4    10.830543  10.792512  10.792070  10.912889  10.917659  10.962394   \n",
       "..         ...        ...        ...        ...        ...        ...   \n",
       "596  10.695477  10.663405  10.661669  10.726566  10.735267  10.720834   \n",
       "597  10.680655  10.647997  10.646490  10.735267  10.720834  10.709046   \n",
       "598  10.687410  10.655041  10.653422  10.720834  10.709046  10.696573   \n",
       "599  10.672697  10.639726  10.638342  10.709046  10.696573  10.701154   \n",
       "600  10.665855  10.632810  10.631474  10.696573  10.701154  10.701692   \n",
       "\n",
       "     weight_1  weight_2  weight_3  \n",
       "0    0.043817  0.070695  0.072864  \n",
       "1    0.043817  0.070695  0.072864  \n",
       "2    0.043817  0.070695  0.072864  \n",
       "3    0.043817  0.070695  0.072864  \n",
       "4    0.043817  0.070695  0.072864  \n",
       "..        ...       ...       ...  \n",
       "596  0.043817  0.070695  0.072864  \n",
       "597  0.043817  0.070695  0.072864  \n",
       "598  0.043817  0.070695  0.072864  \n",
       "599  0.043817  0.070695  0.072864  \n",
       "600  0.043817  0.070695  0.072864  \n",
       "\n",
       "[601 rows x 9 columns]"
      ]
     },
     "execution_count": 219,
     "metadata": {},
     "output_type": "execute_result"
    }
   ],
   "source": [
    "result"
   ]
  },
  {
   "cell_type": "code",
   "execution_count": 220,
   "metadata": {},
   "outputs": [],
   "source": [
    "for i in range(1,4):\n",
    "    result[f'pred_weight_{i}'] = result[f'pred_{i}'] + result[f'weight_{i}']"
   ]
  },
  {
   "cell_type": "code",
   "execution_count": 221,
   "metadata": {},
   "outputs": [
    {
     "data": {
      "text/html": [
       "<div>\n",
       "<style scoped>\n",
       "    .dataframe tbody tr th:only-of-type {\n",
       "        vertical-align: middle;\n",
       "    }\n",
       "\n",
       "    .dataframe tbody tr th {\n",
       "        vertical-align: top;\n",
       "    }\n",
       "\n",
       "    .dataframe thead th {\n",
       "        text-align: right;\n",
       "    }\n",
       "</style>\n",
       "<table border=\"1\" class=\"dataframe\">\n",
       "  <thead>\n",
       "    <tr style=\"text-align: right;\">\n",
       "      <th></th>\n",
       "      <th>pred_1</th>\n",
       "      <th>pred_2</th>\n",
       "      <th>pred_3</th>\n",
       "      <th>test_1</th>\n",
       "      <th>test_2</th>\n",
       "      <th>test_3</th>\n",
       "      <th>weight_1</th>\n",
       "      <th>weight_2</th>\n",
       "      <th>weight_3</th>\n",
       "      <th>pred_weight_1</th>\n",
       "      <th>pred_weight_2</th>\n",
       "      <th>pred_weight_3</th>\n",
       "    </tr>\n",
       "  </thead>\n",
       "  <tbody>\n",
       "    <tr>\n",
       "      <th>0</th>\n",
       "      <td>10.850402</td>\n",
       "      <td>10.810555</td>\n",
       "      <td>10.810587</td>\n",
       "      <td>10.894236</td>\n",
       "      <td>10.908013</td>\n",
       "      <td>10.882556</td>\n",
       "      <td>0.043817</td>\n",
       "      <td>0.070695</td>\n",
       "      <td>0.072864</td>\n",
       "      <td>10.894219</td>\n",
       "      <td>10.881250</td>\n",
       "      <td>10.883451</td>\n",
       "    </tr>\n",
       "    <tr>\n",
       "      <th>1</th>\n",
       "      <td>10.817171</td>\n",
       "      <td>10.776623</td>\n",
       "      <td>10.776987</td>\n",
       "      <td>10.908013</td>\n",
       "      <td>10.882556</td>\n",
       "      <td>10.912033</td>\n",
       "      <td>0.043817</td>\n",
       "      <td>0.070695</td>\n",
       "      <td>0.072864</td>\n",
       "      <td>10.860988</td>\n",
       "      <td>10.847318</td>\n",
       "      <td>10.849851</td>\n",
       "    </tr>\n",
       "    <tr>\n",
       "      <th>2</th>\n",
       "      <td>10.829776</td>\n",
       "      <td>10.790483</td>\n",
       "      <td>10.790424</td>\n",
       "      <td>10.882556</td>\n",
       "      <td>10.912033</td>\n",
       "      <td>10.912889</td>\n",
       "      <td>0.043817</td>\n",
       "      <td>0.070695</td>\n",
       "      <td>0.072864</td>\n",
       "      <td>10.873592</td>\n",
       "      <td>10.861178</td>\n",
       "      <td>10.863288</td>\n",
       "    </tr>\n",
       "    <tr>\n",
       "      <th>3</th>\n",
       "      <td>10.800315</td>\n",
       "      <td>10.760424</td>\n",
       "      <td>10.760653</td>\n",
       "      <td>10.912033</td>\n",
       "      <td>10.912889</td>\n",
       "      <td>10.917659</td>\n",
       "      <td>0.043817</td>\n",
       "      <td>0.070695</td>\n",
       "      <td>0.072864</td>\n",
       "      <td>10.844132</td>\n",
       "      <td>10.831119</td>\n",
       "      <td>10.833516</td>\n",
       "    </tr>\n",
       "    <tr>\n",
       "      <th>4</th>\n",
       "      <td>10.830543</td>\n",
       "      <td>10.792512</td>\n",
       "      <td>10.792070</td>\n",
       "      <td>10.912889</td>\n",
       "      <td>10.917659</td>\n",
       "      <td>10.962394</td>\n",
       "      <td>0.043817</td>\n",
       "      <td>0.070695</td>\n",
       "      <td>0.072864</td>\n",
       "      <td>10.874359</td>\n",
       "      <td>10.863207</td>\n",
       "      <td>10.864934</td>\n",
       "    </tr>\n",
       "    <tr>\n",
       "      <th>...</th>\n",
       "      <td>...</td>\n",
       "      <td>...</td>\n",
       "      <td>...</td>\n",
       "      <td>...</td>\n",
       "      <td>...</td>\n",
       "      <td>...</td>\n",
       "      <td>...</td>\n",
       "      <td>...</td>\n",
       "      <td>...</td>\n",
       "      <td>...</td>\n",
       "      <td>...</td>\n",
       "      <td>...</td>\n",
       "    </tr>\n",
       "    <tr>\n",
       "      <th>596</th>\n",
       "      <td>10.695477</td>\n",
       "      <td>10.663405</td>\n",
       "      <td>10.661669</td>\n",
       "      <td>10.726566</td>\n",
       "      <td>10.735267</td>\n",
       "      <td>10.720834</td>\n",
       "      <td>0.043817</td>\n",
       "      <td>0.070695</td>\n",
       "      <td>0.072864</td>\n",
       "      <td>10.739293</td>\n",
       "      <td>10.734100</td>\n",
       "      <td>10.734533</td>\n",
       "    </tr>\n",
       "    <tr>\n",
       "      <th>597</th>\n",
       "      <td>10.680655</td>\n",
       "      <td>10.647997</td>\n",
       "      <td>10.646490</td>\n",
       "      <td>10.735267</td>\n",
       "      <td>10.720834</td>\n",
       "      <td>10.709046</td>\n",
       "      <td>0.043817</td>\n",
       "      <td>0.070695</td>\n",
       "      <td>0.072864</td>\n",
       "      <td>10.724472</td>\n",
       "      <td>10.718692</td>\n",
       "      <td>10.719354</td>\n",
       "    </tr>\n",
       "    <tr>\n",
       "      <th>598</th>\n",
       "      <td>10.687410</td>\n",
       "      <td>10.655041</td>\n",
       "      <td>10.653422</td>\n",
       "      <td>10.720834</td>\n",
       "      <td>10.709046</td>\n",
       "      <td>10.696573</td>\n",
       "      <td>0.043817</td>\n",
       "      <td>0.070695</td>\n",
       "      <td>0.072864</td>\n",
       "      <td>10.731227</td>\n",
       "      <td>10.725736</td>\n",
       "      <td>10.726286</td>\n",
       "    </tr>\n",
       "    <tr>\n",
       "      <th>599</th>\n",
       "      <td>10.672697</td>\n",
       "      <td>10.639726</td>\n",
       "      <td>10.638342</td>\n",
       "      <td>10.709046</td>\n",
       "      <td>10.696573</td>\n",
       "      <td>10.701154</td>\n",
       "      <td>0.043817</td>\n",
       "      <td>0.070695</td>\n",
       "      <td>0.072864</td>\n",
       "      <td>10.716514</td>\n",
       "      <td>10.710421</td>\n",
       "      <td>10.711206</td>\n",
       "    </tr>\n",
       "    <tr>\n",
       "      <th>600</th>\n",
       "      <td>10.665855</td>\n",
       "      <td>10.632810</td>\n",
       "      <td>10.631474</td>\n",
       "      <td>10.696573</td>\n",
       "      <td>10.701154</td>\n",
       "      <td>10.701692</td>\n",
       "      <td>0.043817</td>\n",
       "      <td>0.070695</td>\n",
       "      <td>0.072864</td>\n",
       "      <td>10.709672</td>\n",
       "      <td>10.703505</td>\n",
       "      <td>10.704337</td>\n",
       "    </tr>\n",
       "  </tbody>\n",
       "</table>\n",
       "<p>601 rows × 12 columns</p>\n",
       "</div>"
      ],
      "text/plain": [
       "        pred_1     pred_2     pred_3     test_1     test_2     test_3  \\\n",
       "0    10.850402  10.810555  10.810587  10.894236  10.908013  10.882556   \n",
       "1    10.817171  10.776623  10.776987  10.908013  10.882556  10.912033   \n",
       "2    10.829776  10.790483  10.790424  10.882556  10.912033  10.912889   \n",
       "3    10.800315  10.760424  10.760653  10.912033  10.912889  10.917659   \n",
       "4    10.830543  10.792512  10.792070  10.912889  10.917659  10.962394   \n",
       "..         ...        ...        ...        ...        ...        ...   \n",
       "596  10.695477  10.663405  10.661669  10.726566  10.735267  10.720834   \n",
       "597  10.680655  10.647997  10.646490  10.735267  10.720834  10.709046   \n",
       "598  10.687410  10.655041  10.653422  10.720834  10.709046  10.696573   \n",
       "599  10.672697  10.639726  10.638342  10.709046  10.696573  10.701154   \n",
       "600  10.665855  10.632810  10.631474  10.696573  10.701154  10.701692   \n",
       "\n",
       "     weight_1  weight_2  weight_3  pred_weight_1  pred_weight_2  pred_weight_3  \n",
       "0    0.043817  0.070695  0.072864      10.894219      10.881250      10.883451  \n",
       "1    0.043817  0.070695  0.072864      10.860988      10.847318      10.849851  \n",
       "2    0.043817  0.070695  0.072864      10.873592      10.861178      10.863288  \n",
       "3    0.043817  0.070695  0.072864      10.844132      10.831119      10.833516  \n",
       "4    0.043817  0.070695  0.072864      10.874359      10.863207      10.864934  \n",
       "..        ...       ...       ...            ...            ...            ...  \n",
       "596  0.043817  0.070695  0.072864      10.739293      10.734100      10.734533  \n",
       "597  0.043817  0.070695  0.072864      10.724472      10.718692      10.719354  \n",
       "598  0.043817  0.070695  0.072864      10.731227      10.725736      10.726286  \n",
       "599  0.043817  0.070695  0.072864      10.716514      10.710421      10.711206  \n",
       "600  0.043817  0.070695  0.072864      10.709672      10.703505      10.704337  \n",
       "\n",
       "[601 rows x 12 columns]"
      ]
     },
     "execution_count": 221,
     "metadata": {},
     "output_type": "execute_result"
    }
   ],
   "source": [
    "result"
   ]
  },
  {
   "cell_type": "code",
   "execution_count": 222,
   "metadata": {},
   "outputs": [],
   "source": [
    "# for col in ['pred_1','pred_2','pred_3','test_1','test_2','test_3']"
   ]
  },
  {
   "cell_type": "code",
   "execution_count": 223,
   "metadata": {},
   "outputs": [],
   "source": [
    "# mae_1 = np.mean(np.abs(result['test_1'] - result['pred_1']))\n",
    "# mae_2 = np.mean(np.abs(result['test_2'] - result['pred_2']))\n",
    "# mae_3 = np.mean(np.abs(result['test_3'] - result['pred_3']))\n",
    "# #mae_4 = np.mean(np.abs(result['test_4'] - result['pred_4']))"
   ]
  },
  {
   "cell_type": "code",
   "execution_count": 224,
   "metadata": {},
   "outputs": [],
   "source": [
    "# #log_data\n",
    "mae_1 = np.mean(np.abs(np.exp(result['test_1']) - np.exp(result['pred_1'])))\n",
    "mae_2 = np.mean(np.abs(np.exp(result['test_2']) - np.exp(result['pred_2'])))\n",
    "mae_3 = np.mean(np.abs(np.exp(result['test_3']) - np.exp(result['pred_3'])))\n",
    "#mae_4 = np.mean(np.abs(np.exp(result['test_4']) - np.exp(result['pred_4'])))\n",
    "# # #mae_5 = np.mean(np.abs(np.exp(result['test_5']) - np.exp(result['pred_5'])))\n",
    "# # #mae_6 = np.mean(np.abs(np.exp(result['test_6']) - np.exp(result['pred_6'])))"
   ]
  },
  {
   "cell_type": "code",
   "execution_count": 225,
   "metadata": {},
   "outputs": [],
   "source": [
    "# np.exp(result['weight_1'].mean())"
   ]
  },
  {
   "cell_type": "code",
   "execution_count": 226,
   "metadata": {},
   "outputs": [
    {
     "name": "stdout",
     "output_type": "stream",
     "text": [
      "1771.92411358672\n",
      "2761.771658173866\n",
      "2841.283106671162\n"
     ]
    }
   ],
   "source": [
    "print(mae_1)\n",
    "print(mae_2)\n",
    "print(mae_3)\n",
    "#print(mae_4)"
   ]
  },
  {
   "cell_type": "code",
   "execution_count": 229,
   "metadata": {},
   "outputs": [
    {
     "data": {
      "text/plain": [
       "2458.326292810583"
      ]
     },
     "execution_count": 229,
     "metadata": {},
     "output_type": "execute_result"
    }
   ],
   "source": [
    "np.mean([mae_1,mae_2,mae_3])"
   ]
  },
  {
   "cell_type": "code",
   "execution_count": 230,
   "metadata": {},
   "outputs": [
    {
     "data": {
      "text/plain": [
       "0.04451182355607836"
      ]
     },
     "execution_count": 230,
     "metadata": {},
     "output_type": "execute_result"
    }
   ],
   "source": [
    "mae = np.mean(np.abs(y_test_unscaled[:,0] - predictions_unscaled[:,0]))\n",
    "mae"
   ]
  },
  {
   "cell_type": "code",
   "execution_count": 231,
   "metadata": {},
   "outputs": [
    {
     "data": {
      "text/plain": [
       "0.5948548253817955"
      ]
     },
     "execution_count": 231,
     "metadata": {},
     "output_type": "execute_result"
    }
   ],
   "source": [
    "np.mean(np.abs((y_test_unscaled - predictions_unscaled) / y_test_unscaled)) *100"
   ]
  },
  {
   "cell_type": "code",
   "execution_count": 232,
   "metadata": {},
   "outputs": [],
   "source": [
    "# df =pd.DataFrame()\n",
    "# df['y_test'] = pd.DataFrame(y_test_unscaled).apply(lambda x: np.exp(x))\n",
    "# df['pred'] = pd.DataFrame(predictions_unscaled).apply(lambda x: np.exp(x))\n",
    "# df['diff'] = df['y_test'] - df['pred']"
   ]
  },
  {
   "cell_type": "code",
   "execution_count": 233,
   "metadata": {},
   "outputs": [],
   "source": [
    "# np.mean(np.abs(df['diff']))"
   ]
  },
  {
   "cell_type": "code",
   "execution_count": 234,
   "metadata": {},
   "outputs": [
    {
     "data": {
      "image/png": "[encoded data removed]",
      "text/plain": [
       "<Figure size 1080x648 with 1 Axes>"
      ]
     },
     "metadata": {},
     "output_type": "display_data"
    }
   ],
   "source": [
    "plt.figure(figsize=(15,9))\n",
    "plt.plot(result[['test_1', 'pred_1', 'pred_weight_1']][:], label=[\"test\", \"pred\", \"pred_weight\"])\n",
    "plt.legend()                                      #timehorizon here\n",
    "plt.show()\n"
   ]
  },
  {
   "cell_type": "code",
   "execution_count": 235,
   "metadata": {},
   "outputs": [
    {
     "name": "stderr",
     "output_type": "stream",
     "text": [
      "No handles with labels found to put in legend.\n"
     ]
    },
    {
     "data": {
      "image/png": "[encoded data removed]",
      "text/plain": [
       "<Figure size 1080x1080 with 4 Axes>"
      ]
     },
     "metadata": {},
     "output_type": "display_data"
    }
   ],
   "source": [
    "fig, axs = plt.subplots(2,2,figsize=(15,15))\n",
    "axs[0,0].plot(result[['test_1', 'pred_1', 'pred_weight_1']][-100:], label=[\"test\", \"pred\", \"pred_weight\"])\n",
    "axs[0,1].plot(result[['test_2', 'pred_2', 'pred_weight_2']][-100:], label=[\"test\", \"pred\", \"pred_weight\"])\n",
    "axs[1,0].plot(result[['test_3', 'pred_3', 'pred_weight_3']][-100:], label=[\"test\", \"pred\", \"pred_weight\"])\n",
    "#axs[1,1].plot(result[['test_4', 'pred_4', 'pred_weight_4']][-100:], label=[\"test\", \"pred\", \"pred_weight\"])\n",
    "\n",
    "plt.legend()\n",
    "plt.show()\n"
   ]
  },
  {
   "cell_type": "markdown",
   "metadata": {},
   "source": [
    "# PREDICTION WITH COINGECKO!!!"
   ]
  },
  {
   "cell_type": "code",
   "execution_count": 236,
   "metadata": {},
   "outputs": [],
   "source": [
    "gecko_api = get_coingecko()"
   ]
  },
  {
   "cell_type": "code",
   "execution_count": 237,
   "metadata": {},
   "outputs": [],
   "source": [
    "coingecko = feature_engineer(gecko_api)\n",
    "coingecko['perc_bb'] = (coingecko.log_close - coingecko.bollinger_down) / (coingecko.bollinger_up - coingecko.bollinger_down)\n",
    "coingecko = coingecko[selected_features][-160:]"
   ]
  },
  {
   "cell_type": "code",
   "execution_count": 238,
   "metadata": {},
   "outputs": [],
   "source": [
    "x_gecko_scaled = minmax_scaler.transform(coingecko)"
   ]
  },
  {
   "cell_type": "code",
   "execution_count": 239,
   "metadata": {},
   "outputs": [],
   "source": [
    "# x_gecko_subsequences = []\n",
    "# for k in range(len(x_gecko_scaled)-(window_size-1)-horizon):\n",
    "#     x_gecko_subsequences.append(x_gecko_scaled[k:k+window_size])"
   ]
  },
  {
   "cell_type": "code",
   "execution_count": 240,
   "metadata": {},
   "outputs": [],
   "source": [
    "# x_gecko = np.array(x_gecko_subsequences)"
   ]
  },
  {
   "cell_type": "code",
   "execution_count": 241,
   "metadata": {},
   "outputs": [
    {
     "data": {
      "text/plain": [
       "(160, 3)"
      ]
     },
     "execution_count": 241,
     "metadata": {},
     "output_type": "execute_result"
    }
   ],
   "source": [
    "x_gecko_scaled.shape"
   ]
  },
  {
   "cell_type": "code",
   "execution_count": 242,
   "metadata": {},
   "outputs": [],
   "source": [
    "x_gecko = x_gecko_scaled[-window_size:]"
   ]
  },
  {
   "cell_type": "code",
   "execution_count": 243,
   "metadata": {},
   "outputs": [
    {
     "data": {
      "text/plain": [
       "(36, 3)"
      ]
     },
     "execution_count": 243,
     "metadata": {},
     "output_type": "execute_result"
    }
   ],
   "source": [
    "x_gecko.shape"
   ]
  },
  {
   "cell_type": "code",
   "execution_count": 244,
   "metadata": {},
   "outputs": [],
   "source": [
    "x_gecko = np.array(x_gecko).reshape(-1,window_size,len(selected_features))"
   ]
  },
  {
   "cell_type": "code",
   "execution_count": 245,
   "metadata": {},
   "outputs": [
    {
     "data": {
      "text/plain": [
       "(1, 36, 3)"
      ]
     },
     "execution_count": 245,
     "metadata": {},
     "output_type": "execute_result"
    }
   ],
   "source": [
    "x_gecko.shape"
   ]
  },
  {
   "cell_type": "code",
   "execution_count": 246,
   "metadata": {},
   "outputs": [],
   "source": [
    "pred_gecko = model.predict(x_gecko)"
   ]
  },
  {
   "cell_type": "code",
   "execution_count": 247,
   "metadata": {},
   "outputs": [],
   "source": [
    "pred_gecko_unscaled = pred_gecko * range1 + min1"
   ]
  },
  {
   "cell_type": "code",
   "execution_count": 248,
   "metadata": {},
   "outputs": [
    {
     "data": {
      "text/plain": [
       "array([[10.700921, 10.667088, 10.665859]], dtype=float32)"
      ]
     },
     "execution_count": 248,
     "metadata": {},
     "output_type": "execute_result"
    }
   ],
   "source": [
    "pred_gecko_unscaled"
   ]
  },
  {
   "cell_type": "code",
   "execution_count": 249,
   "metadata": {},
   "outputs": [],
   "source": [
    "#weighted prediction"
   ]
  },
  {
   "cell_type": "code",
   "execution_count": 250,
   "metadata": {},
   "outputs": [],
   "source": [
    "weighted_pred = []\n",
    "for i in range(0,3):\n",
    "    weighted_pred.append(pred_gecko_unscaled[0][i] + result[f'weight_{i+1}'].mean())"
   ]
  },
  {
   "cell_type": "code",
   "execution_count": 251,
   "metadata": {},
   "outputs": [],
   "source": [
    "#log\n",
    "# weighted_pred = []\n",
    "# for i in range(0,4):\n",
    "#     weighted_pred.append(np.exp(pred_gecko_unscaled[0][i] + result[f'weight_{i+1}'].mean()))"
   ]
  },
  {
   "cell_type": "code",
   "execution_count": 252,
   "metadata": {},
   "outputs": [
    {
     "data": {
      "text/plain": [
       "[10.744737725203432, 10.73778243383949, 10.738723032028458]"
      ]
     },
     "execution_count": 252,
     "metadata": {},
     "output_type": "execute_result"
    }
   ],
   "source": [
    "weighted_pred"
   ]
  },
  {
   "cell_type": "code",
   "execution_count": 253,
   "metadata": {},
   "outputs": [
    {
     "data": {
      "text/plain": [
       "2841.283106671162"
      ]
     },
     "execution_count": 253,
     "metadata": {},
     "output_type": "execute_result"
    }
   ],
   "source": [
    "#add mae\n",
    "mae_1\n",
    "mae_2\n",
    "mae_3\n",
    "#mae_4"
   ]
  },
  {
   "cell_type": "code",
   "execution_count": 254,
   "metadata": {},
   "outputs": [],
   "source": [
    "mae_list = [mae_1, mae_2, mae_3]\n",
    "preds = list(pred_gecko_unscaled[0])"
   ]
  },
  {
   "cell_type": "code",
   "execution_count": 255,
   "metadata": {},
   "outputs": [],
   "source": [
    "#log\n",
    "# mae_list = [mae_1, mae_2, mae_3, mae_4]\n",
    "# preds = list(np.exp(pred_gecko_unscaled[0]))"
   ]
  },
  {
   "cell_type": "code",
   "execution_count": 256,
   "metadata": {},
   "outputs": [],
   "source": [
    "preds_with_mae = [a+b for a,b in zip(mae_list, preds)]"
   ]
  },
  {
   "cell_type": "code",
   "execution_count": 257,
   "metadata": {},
   "outputs": [
    {
     "data": {
      "text/plain": [
       "[1782.6250346453749, 2772.4387457287976, 2851.948965893574]"
      ]
     },
     "execution_count": 257,
     "metadata": {},
     "output_type": "execute_result"
    }
   ],
   "source": [
    "preds_with_mae"
   ]
  },
  {
   "cell_type": "code",
   "execution_count": 258,
   "metadata": {},
   "outputs": [],
   "source": [
    "#pred_weighted = pred_gecko_unscaled[0][0] + weight"
   ]
  },
  {
   "cell_type": "code",
   "execution_count": 259,
   "metadata": {},
   "outputs": [],
   "source": [
    "#np.exp(pred_weighted)"
   ]
  },
  {
   "cell_type": "code",
   "execution_count": 260,
   "metadata": {},
   "outputs": [
    {
     "data": {
      "text/plain": [
       "array([[44396.73 , 42919.758, 42867.07 ]], dtype=float32)"
      ]
     },
     "execution_count": 260,
     "metadata": {},
     "output_type": "execute_result"
    }
   ],
   "source": [
    "np.exp(pred_gecko_unscaled)"
   ]
  },
  {
   "cell_type": "code",
   "execution_count": 261,
   "metadata": {},
   "outputs": [],
   "source": [
    "##########"
   ]
  },
  {
   "cell_type": "code",
   "execution_count": 262,
   "metadata": {},
   "outputs": [
    {
     "ename": "NameError",
     "evalue": "name 'weight' is not defined",
     "output_type": "error",
     "traceback": [
      "\u001b[0;31m---------------------------------------------------------------------------\u001b[0m",
      "\u001b[0;31mNameError\u001b[0m                                 Traceback (most recent call last)",
      "\u001b[0;32m/tmp/ipykernel_1938/2860875306.py\u001b[0m in \u001b[0;36m<module>\u001b[0;34m\u001b[0m\n\u001b[0;32m----> 1\u001b[0;31m \u001b[0mpred_weighted\u001b[0m \u001b[0;34m=\u001b[0m \u001b[0mpred_gecko_unscaled\u001b[0m \u001b[0;34m+\u001b[0m \u001b[0mweight\u001b[0m\u001b[0;34m\u001b[0m\u001b[0;34m\u001b[0m\u001b[0m\n\u001b[0m",
      "\u001b[0;31mNameError\u001b[0m: name 'weight' is not defined"
     ]
    }
   ],
   "source": [
    "pred_weighted = pred_gecko_unscaled + weight"
   ]
  },
  {
   "cell_type": "code",
   "execution_count": null,
   "metadata": {},
   "outputs": [],
   "source": []
  },
  {
   "cell_type": "code",
   "execution_count": 263,
   "metadata": {},
   "outputs": [],
   "source": [
    "df = coingecko[[CLOSE]].reset_index(drop=True) #.apply(lambda x: np.exp(x))"
   ]
  },
  {
   "cell_type": "code",
   "execution_count": 264,
   "metadata": {},
   "outputs": [],
   "source": [
    "#df1 = pd.DataFrame(pred_gecko_unscaled.reshape(4,1),columns=[CLOSE]).apply(lambda x: np.exp(x))"
   ]
  },
  {
   "cell_type": "code",
   "execution_count": 265,
   "metadata": {},
   "outputs": [],
   "source": [
    "#df1 = pd.DataFrame(weighted_pred.reshape(4,1),columns=[CLOSE]).apply(lambda x: np.exp(x))"
   ]
  },
  {
   "cell_type": "code",
   "execution_count": 266,
   "metadata": {},
   "outputs": [],
   "source": [
    "df1 = pd.DataFrame(np.array(weighted_pred).reshape(3,1),columns=[CLOSE])"
   ]
  },
  {
   "cell_type": "code",
   "execution_count": 267,
   "metadata": {},
   "outputs": [],
   "source": [
    "#df1 = pd.DataFrame(np.array(preds_with_mae).reshape(4,1),columns=[CLOSE])"
   ]
  },
  {
   "cell_type": "code",
   "execution_count": 275,
   "metadata": {},
   "outputs": [
    {
     "data": {
      "text/html": [
       "<div>\n",
       "<style scoped>\n",
       "    .dataframe tbody tr th:only-of-type {\n",
       "        vertical-align: middle;\n",
       "    }\n",
       "\n",
       "    .dataframe tbody tr th {\n",
       "        vertical-align: top;\n",
       "    }\n",
       "\n",
       "    .dataframe thead th {\n",
       "        text-align: right;\n",
       "    }\n",
       "</style>\n",
       "<table border=\"1\" class=\"dataframe\">\n",
       "  <thead>\n",
       "    <tr style=\"text-align: right;\">\n",
       "      <th></th>\n",
       "      <th>log_close</th>\n",
       "    </tr>\n",
       "  </thead>\n",
       "  <tbody>\n",
       "    <tr>\n",
       "      <th>0</th>\n",
       "      <td>40927.230000</td>\n",
       "    </tr>\n",
       "    <tr>\n",
       "      <th>1</th>\n",
       "      <td>40339.040000</td>\n",
       "    </tr>\n",
       "    <tr>\n",
       "      <th>2</th>\n",
       "      <td>40959.430000</td>\n",
       "    </tr>\n",
       "    <tr>\n",
       "      <th>3</th>\n",
       "      <td>40763.040000</td>\n",
       "    </tr>\n",
       "    <tr>\n",
       "      <th>4</th>\n",
       "      <td>40846.920000</td>\n",
       "    </tr>\n",
       "    <tr>\n",
       "      <th>...</th>\n",
       "      <td>...</td>\n",
       "    </tr>\n",
       "    <tr>\n",
       "      <th>158</th>\n",
       "      <td>47410.510000</td>\n",
       "    </tr>\n",
       "    <tr>\n",
       "      <th>159</th>\n",
       "      <td>47588.380000</td>\n",
       "    </tr>\n",
       "    <tr>\n",
       "      <th>160</th>\n",
       "      <td>46385.292928</td>\n",
       "    </tr>\n",
       "    <tr>\n",
       "      <th>161</th>\n",
       "      <td>46063.789073</td>\n",
       "    </tr>\n",
       "    <tr>\n",
       "      <th>162</th>\n",
       "      <td>46107.136973</td>\n",
       "    </tr>\n",
       "  </tbody>\n",
       "</table>\n",
       "<p>163 rows × 1 columns</p>\n",
       "</div>"
      ],
      "text/plain": [
       "        log_close\n",
       "0    40927.230000\n",
       "1    40339.040000\n",
       "2    40959.430000\n",
       "3    40763.040000\n",
       "4    40846.920000\n",
       "..            ...\n",
       "158  47410.510000\n",
       "159  47588.380000\n",
       "160  46385.292928\n",
       "161  46063.789073\n",
       "162  46107.136973\n",
       "\n",
       "[163 rows x 1 columns]"
      ]
     },
     "execution_count": 275,
     "metadata": {},
     "output_type": "execute_result"
    }
   ],
   "source": [
    "df2 = pd.concat([df,df1],axis=0).reset_index(drop=True).apply(lambda x: np.exp(x))\n",
    "df2"
   ]
  },
  {
   "cell_type": "code",
   "execution_count": 277,
   "metadata": {},
   "outputs": [
    {
     "data": {
      "text/plain": [
       "[<matplotlib.lines.Line2D at 0x7f0dfe2c19a0>]"
      ]
     },
     "execution_count": 277,
     "metadata": {},
     "output_type": "execute_result"
    },
    {
     "data": {
      "image/png": "[encoded data removed]",
      "text/plain": [
       "<Figure size 432x288 with 1 Axes>"
      ]
     },
     "metadata": {},
     "output_type": "display_data"
    }
   ],
   "source": [
    "plt.plot(df2[120:160])\n",
    "plt.plot(df2[159:])\n"
   ]
  },
  {
   "cell_type": "code",
   "execution_count": null,
   "metadata": {},
   "outputs": [],
   "source": [
    "from tensorflow.keras.models import save_model\n",
    "save_model(model, 'tensorflowmodel')"
   ]
  },
  {
   "cell_type": "code",
   "execution_count": null,
   "metadata": {},
   "outputs": [],
   "source": []
  },
  {
   "cell_type": "code",
   "execution_count": null,
   "metadata": {},
   "outputs": [],
   "source": []
  },
  {
   "cell_type": "code",
   "execution_count": null,
   "metadata": {},
   "outputs": [],
   "source": []
  },
  {
   "cell_type": "code",
   "execution_count": null,
   "metadata": {},
   "outputs": [],
   "source": []
  },
  {
   "cell_type": "code",
   "execution_count": null,
   "metadata": {},
   "outputs": [],
   "source": [
    "x_gecko_scaled\n",
    "x_gecko_subsequences = []\n",
    "for k in range(len(x_gecko_scaled)-(window_size-1)-horizon):\n",
    "    x_gecko_subsequences.append(x_gecko_scaled[k:k+window_size])"
   ]
  },
  {
   "cell_type": "code",
   "execution_count": null,
   "metadata": {},
   "outputs": [],
   "source": []
  },
  {
   "cell_type": "code",
   "execution_count": null,
   "metadata": {},
   "outputs": [],
   "source": []
  },
  {
   "cell_type": "code",
   "execution_count": null,
   "metadata": {},
   "outputs": [],
   "source": []
  },
  {
   "cell_type": "code",
   "execution_count": null,
   "metadata": {},
   "outputs": [],
   "source": []
  },
  {
   "cell_type": "code",
   "execution_count": null,
   "metadata": {},
   "outputs": [],
   "source": [
    "#x_gecko = np.array(x_gecko)\n",
    "x_gecko = np.reshape(x_gecko, (-1,window_size,len(selected_features))) #[-horizon:,:,:]\n",
    "\n",
    "x_gecko.shape"
   ]
  },
  {
   "cell_type": "code",
   "execution_count": null,
   "metadata": {},
   "outputs": [],
   "source": [
    "predictions = model.predict(x_gecko)\n",
    "\n",
    "predictions"
   ]
  },
  {
   "cell_type": "code",
   "execution_count": null,
   "metadata": {},
   "outputs": [],
   "source": [
    "predictions_unscaled = predictions * range1 + min1"
   ]
  },
  {
   "cell_type": "code",
   "execution_count": null,
   "metadata": {},
   "outputs": [],
   "source": [
    "#np.exp(predictions_unscaled)"
   ]
  },
  {
   "cell_type": "code",
   "execution_count": null,
   "metadata": {},
   "outputs": [],
   "source": [
    "from datetime import datetime\n",
    "dateTimeObj = datetime.now()\n",
    "print(dateTimeObj)"
   ]
  },
  {
   "cell_type": "code",
   "execution_count": null,
   "metadata": {},
   "outputs": [],
   "source": [
    "close = pd.DataFrame(coingecko.close[-10:].reset_index().drop(columns='index'))"
   ]
  },
  {
   "cell_type": "code",
   "execution_count": null,
   "metadata": {},
   "outputs": [],
   "source": [
    "close"
   ]
  },
  {
   "cell_type": "code",
   "execution_count": null,
   "metadata": {},
   "outputs": [],
   "source": [
    "for i in range(len(close),len(close) + horizon):\n",
    "    print(i)"
   ]
  },
  {
   "cell_type": "code",
   "execution_count": null,
   "metadata": {},
   "outputs": [],
   "source": [
    "pred = pd.DataFrame(np.exp(predictions_unscaled), columns = ['close']).set_index(pd.Index(range(len(close),len(close) + horizon)))"
   ]
  },
  {
   "cell_type": "code",
   "execution_count": null,
   "metadata": {},
   "outputs": [],
   "source": [
    "df = pd.DataFrame(np.exp(predictions_unscaled), columns = ['pred'])\n",
    "df['gecko'] = coingecko['log_close']\n",
    "df"
   ]
  },
  {
   "cell_type": "code",
   "execution_count": null,
   "metadata": {},
   "outputs": [],
   "source": [
    "plt.plot(close)\n",
    "plt.plot(pred)"
   ]
  },
  {
   "cell_type": "code",
   "execution_count": null,
   "metadata": {},
   "outputs": [],
   "source": [
    "plt.plot(coingecko['close'][-20:])\n",
    "plt.plot(predictions_unscaled)"
   ]
  },
  {
   "cell_type": "code",
   "execution_count": null,
   "metadata": {},
   "outputs": [],
   "source": []
  },
  {
   "cell_type": "code",
   "execution_count": null,
   "metadata": {},
   "outputs": [],
   "source": [
    "#from tensorflow.keras.models import save_model\n",
    "#save_model(model, 'tensorflowmodel')"
   ]
  }
 ],
 "metadata": {
  "colab": {
   "collapsed_sections": [],
   "name": "BTC pred.ipynb",
   "provenance": [],
   "toc_visible": true
  },
  "kernelspec": {
   "display_name": "Python 3 (ipykernel)",
   "language": "python",
   "name": "python3"
  },
  "language_info": {
   "codemirror_mode": {
    "name": "ipython",
    "version": 3
   },
   "file_extension": ".py",
   "mimetype": "text/x-python",
   "name": "python",
   "nbconvert_exporter": "python",
   "pygments_lexer": "ipython3",
   "version": "3.8.6"
  },
  "toc": {
   "base_numbering": 1,
   "nav_menu": {},
   "number_sections": true,
   "sideBar": true,
   "skip_h1_title": true,
   "title_cell": "Table of Contents",
   "title_sidebar": "Contents",
   "toc_cell": false,
   "toc_position": {
    "height": "calc(100% - 180px)",
    "left": "10px",
    "top": "150px",
    "width": "316.8px"
   },
   "toc_section_display": true,
   "toc_window_display": false
  },
  "varInspector": {
   "cols": {
    "lenName": 16,
    "lenType": 16,
    "lenVar": 40
   },
   "kernels_config": {
    "python": {
     "delete_cmd_postfix": "",
     "delete_cmd_prefix": "del ",
     "library": "var_list.py",
     "varRefreshCmd": "print(var_dic_list())"
    },
    "r": {
     "delete_cmd_postfix": ") ",
     "delete_cmd_prefix": "rm(",
     "library": "var_list.r",
     "varRefreshCmd": "cat(var_dic_list()) "
    }
   },
   "types_to_exclude": [
    "module",
    "function",
    "builtin_function_or_method",
    "instance",
    "_Feature"
   ],
   "window_display": false
  }
 },
 "nbformat": 4,
 "nbformat_minor": 1
}
