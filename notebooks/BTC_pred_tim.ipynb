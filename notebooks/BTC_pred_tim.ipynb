{
 "cells": [
  {
   "cell_type": "markdown",
   "metadata": {
    "id": "7Ah1snjrTOaO"
   },
   "source": [
    "# Recurrent Neural Networks\n",
    "---\n",
    "# Predicting Stock Prices through an LSTM model"
   ]
  },
  {
   "cell_type": "code",
   "execution_count": 1,
   "metadata": {
    "executionInfo": {
     "elapsed": 450,
     "status": "ok",
     "timestamp": 1629966198358,
     "user": {
      "displayName": "Ivan Fernandes",
      "photoUrl": "https://lh3.googleusercontent.com/a-/AOh14GgHdj66drQjCguTVvVzCd5yy8cdMluPJPZlz_BQLg=s64",
      "userId": "12100132160237129013"
     },
     "user_tz": -120
    },
    "id": "qnAL4n0hTOaX"
   },
   "outputs": [],
   "source": [
    "''' Linear Algebra '''\n",
    "import pandas as pd\n",
    "import numpy as np\n",
    "\n",
    "'''Data visualization'''\n",
    "import matplotlib.pyplot as plt\n",
    "import seaborn as sns\n",
    "sns.set_style('whitegrid')\n",
    "plt.style.use(\"fivethirtyeight\")"
   ]
  },
  {
   "cell_type": "code",
   "execution_count": 2,
   "metadata": {
    "executionInfo": {
     "elapsed": 2,
     "status": "ok",
     "timestamp": 1629966199072,
     "user": {
      "displayName": "Ivan Fernandes",
      "photoUrl": "https://lh3.googleusercontent.com/a-/AOh14GgHdj66drQjCguTVvVzCd5yy8cdMluPJPZlz_BQLg=s64",
      "userId": "12100132160237129013"
     },
     "user_tz": -120
    },
    "id": "5xjbJ62hTOaa"
   },
   "outputs": [],
   "source": [
    "''' Handling timestamps'''\n",
    "import datetime\n",
    "from datetime import datetime"
   ]
  },
  {
   "cell_type": "code",
   "execution_count": 3,
   "metadata": {
    "colab": {
     "base_uri": "https://localhost:8080/"
    },
    "executionInfo": {
     "elapsed": 351,
     "status": "ok",
     "timestamp": 1629966293996,
     "user": {
      "displayName": "Ivan Fernandes",
      "photoUrl": "https://lh3.googleusercontent.com/a-/AOh14GgHdj66drQjCguTVvVzCd5yy8cdMluPJPZlz_BQLg=s64",
      "userId": "12100132160237129013"
     },
     "user_tz": -120
    },
    "id": "yycPaAz_a6Sy",
    "outputId": "bc68dbc7-c65e-453c-f4a0-991e24e1ee68",
    "scrolled": true
   },
   "outputs": [],
   "source": [
    "url = 'https://raw.githubusercontent.com/timjab92/cryptotradingindicator/master/data/BTCUSD_4hours.csv'\n",
    "\n",
    "data = pd.read_csv(url)\n",
    "# Dataset is now stored in a Pandas Dataframe"
   ]
  },
  {
   "cell_type": "code",
   "execution_count": 4,
   "metadata": {
    "colab": {
     "base_uri": "https://localhost:8080/",
     "height": 447
    },
    "executionInfo": {
     "elapsed": 350,
     "status": "ok",
     "timestamp": 1629966972802,
     "user": {
      "displayName": "Ivan Fernandes",
      "photoUrl": "https://lh3.googleusercontent.com/a-/AOh14GgHdj66drQjCguTVvVzCd5yy8cdMluPJPZlz_BQLg=s64",
      "userId": "12100132160237129013"
     },
     "user_tz": -120
    },
    "id": "TmBE1gv3TOaj",
    "outputId": "6b81eb77-bc56-4173-bdd2-e48dfc399de6"
   },
   "outputs": [
    {
     "data": {
      "text/html": [
       "<div>\n",
       "<style scoped>\n",
       "    .dataframe tbody tr th:only-of-type {\n",
       "        vertical-align: middle;\n",
       "    }\n",
       "\n",
       "    .dataframe tbody tr th {\n",
       "        vertical-align: top;\n",
       "    }\n",
       "\n",
       "    .dataframe thead th {\n",
       "        text-align: right;\n",
       "    }\n",
       "</style>\n",
       "<table border=\"1\" class=\"dataframe\">\n",
       "  <thead>\n",
       "    <tr style=\"text-align: right;\">\n",
       "      <th></th>\n",
       "      <th>open</th>\n",
       "      <th>high</th>\n",
       "      <th>low</th>\n",
       "      <th>close</th>\n",
       "      <th>volume</th>\n",
       "      <th>log_open</th>\n",
       "      <th>log_high</th>\n",
       "      <th>log_low</th>\n",
       "      <th>log_close</th>\n",
       "    </tr>\n",
       "    <tr>\n",
       "      <th>date</th>\n",
       "      <th></th>\n",
       "      <th></th>\n",
       "      <th></th>\n",
       "      <th></th>\n",
       "      <th></th>\n",
       "      <th></th>\n",
       "      <th></th>\n",
       "      <th></th>\n",
       "      <th></th>\n",
       "    </tr>\n",
       "  </thead>\n",
       "  <tbody>\n",
       "    <tr>\n",
       "      <th>2011-12-31 08:00:00</th>\n",
       "      <td>4.390000</td>\n",
       "      <td>4.390000</td>\n",
       "      <td>4.390000</td>\n",
       "      <td>4.390000</td>\n",
       "      <td>0.455581</td>\n",
       "      <td>1.479329</td>\n",
       "      <td>1.479329</td>\n",
       "      <td>1.479329</td>\n",
       "      <td>1.479329</td>\n",
       "    </tr>\n",
       "    <tr>\n",
       "      <th>2011-12-31 16:00:00</th>\n",
       "      <td>4.490000</td>\n",
       "      <td>4.513333</td>\n",
       "      <td>4.490000</td>\n",
       "      <td>4.513333</td>\n",
       "      <td>31.620766</td>\n",
       "      <td>1.501702</td>\n",
       "      <td>1.506847</td>\n",
       "      <td>1.501702</td>\n",
       "      <td>1.506847</td>\n",
       "    </tr>\n",
       "    <tr>\n",
       "      <th>2012-01-01 04:00:00</th>\n",
       "      <td>4.580000</td>\n",
       "      <td>4.580000</td>\n",
       "      <td>4.580000</td>\n",
       "      <td>4.580000</td>\n",
       "      <td>1.502000</td>\n",
       "      <td>1.521699</td>\n",
       "      <td>1.521699</td>\n",
       "      <td>1.521699</td>\n",
       "      <td>1.521699</td>\n",
       "    </tr>\n",
       "    <tr>\n",
       "      <th>2012-01-01 16:00:00</th>\n",
       "      <td>4.840000</td>\n",
       "      <td>4.840000</td>\n",
       "      <td>4.840000</td>\n",
       "      <td>4.840000</td>\n",
       "      <td>10.000000</td>\n",
       "      <td>1.576915</td>\n",
       "      <td>1.576915</td>\n",
       "      <td>1.576915</td>\n",
       "      <td>1.576915</td>\n",
       "    </tr>\n",
       "    <tr>\n",
       "      <th>2012-01-01 20:00:00</th>\n",
       "      <td>5.000000</td>\n",
       "      <td>5.000000</td>\n",
       "      <td>5.000000</td>\n",
       "      <td>5.000000</td>\n",
       "      <td>10.100000</td>\n",
       "      <td>1.609438</td>\n",
       "      <td>1.609438</td>\n",
       "      <td>1.609438</td>\n",
       "      <td>1.609438</td>\n",
       "    </tr>\n",
       "    <tr>\n",
       "      <th>...</th>\n",
       "      <td>...</td>\n",
       "      <td>...</td>\n",
       "      <td>...</td>\n",
       "      <td>...</td>\n",
       "      <td>...</td>\n",
       "      <td>...</td>\n",
       "      <td>...</td>\n",
       "      <td>...</td>\n",
       "      <td>...</td>\n",
       "    </tr>\n",
       "    <tr>\n",
       "      <th>2021-08-22 12:00:00</th>\n",
       "      <td>48769.308417</td>\n",
       "      <td>48787.711375</td>\n",
       "      <td>48749.417500</td>\n",
       "      <td>48769.737750</td>\n",
       "      <td>1.697971</td>\n",
       "      <td>10.794844</td>\n",
       "      <td>10.795222</td>\n",
       "      <td>10.794435</td>\n",
       "      <td>10.794853</td>\n",
       "    </tr>\n",
       "    <tr>\n",
       "      <th>2021-08-22 16:00:00</th>\n",
       "      <td>48591.665708</td>\n",
       "      <td>48605.941333</td>\n",
       "      <td>48574.903375</td>\n",
       "      <td>48591.580833</td>\n",
       "      <td>0.463362</td>\n",
       "      <td>10.791204</td>\n",
       "      <td>10.791498</td>\n",
       "      <td>10.790859</td>\n",
       "      <td>10.791202</td>\n",
       "    </tr>\n",
       "    <tr>\n",
       "      <th>2021-08-22 20:00:00</th>\n",
       "      <td>48807.713542</td>\n",
       "      <td>48825.874417</td>\n",
       "      <td>48791.558000</td>\n",
       "      <td>48810.168750</td>\n",
       "      <td>0.605696</td>\n",
       "      <td>10.795610</td>\n",
       "      <td>10.795982</td>\n",
       "      <td>10.795279</td>\n",
       "      <td>10.795660</td>\n",
       "    </tr>\n",
       "    <tr>\n",
       "      <th>2021-08-23 00:00:00</th>\n",
       "      <td>49779.332208</td>\n",
       "      <td>49803.461792</td>\n",
       "      <td>49759.784208</td>\n",
       "      <td>49783.003708</td>\n",
       "      <td>1.941360</td>\n",
       "      <td>10.815334</td>\n",
       "      <td>10.815818</td>\n",
       "      <td>10.814942</td>\n",
       "      <td>10.815408</td>\n",
       "    </tr>\n",
       "    <tr>\n",
       "      <th>2021-08-23 04:00:00</th>\n",
       "      <td>50278.596788</td>\n",
       "      <td>50292.908182</td>\n",
       "      <td>50261.680727</td>\n",
       "      <td>50277.475152</td>\n",
       "      <td>1.908007</td>\n",
       "      <td>10.825333</td>\n",
       "      <td>10.825618</td>\n",
       "      <td>10.824997</td>\n",
       "      <td>10.825311</td>\n",
       "    </tr>\n",
       "  </tbody>\n",
       "</table>\n",
       "<p>20840 rows × 9 columns</p>\n",
       "</div>"
      ],
      "text/plain": [
       "                             open          high           low         close  \\\n",
       "date                                                                          \n",
       "2011-12-31 08:00:00      4.390000      4.390000      4.390000      4.390000   \n",
       "2011-12-31 16:00:00      4.490000      4.513333      4.490000      4.513333   \n",
       "2012-01-01 04:00:00      4.580000      4.580000      4.580000      4.580000   \n",
       "2012-01-01 16:00:00      4.840000      4.840000      4.840000      4.840000   \n",
       "2012-01-01 20:00:00      5.000000      5.000000      5.000000      5.000000   \n",
       "...                           ...           ...           ...           ...   \n",
       "2021-08-22 12:00:00  48769.308417  48787.711375  48749.417500  48769.737750   \n",
       "2021-08-22 16:00:00  48591.665708  48605.941333  48574.903375  48591.580833   \n",
       "2021-08-22 20:00:00  48807.713542  48825.874417  48791.558000  48810.168750   \n",
       "2021-08-23 00:00:00  49779.332208  49803.461792  49759.784208  49783.003708   \n",
       "2021-08-23 04:00:00  50278.596788  50292.908182  50261.680727  50277.475152   \n",
       "\n",
       "                        volume   log_open   log_high    log_low  log_close  \n",
       "date                                                                        \n",
       "2011-12-31 08:00:00   0.455581   1.479329   1.479329   1.479329   1.479329  \n",
       "2011-12-31 16:00:00  31.620766   1.501702   1.506847   1.501702   1.506847  \n",
       "2012-01-01 04:00:00   1.502000   1.521699   1.521699   1.521699   1.521699  \n",
       "2012-01-01 16:00:00  10.000000   1.576915   1.576915   1.576915   1.576915  \n",
       "2012-01-01 20:00:00  10.100000   1.609438   1.609438   1.609438   1.609438  \n",
       "...                        ...        ...        ...        ...        ...  \n",
       "2021-08-22 12:00:00   1.697971  10.794844  10.795222  10.794435  10.794853  \n",
       "2021-08-22 16:00:00   0.463362  10.791204  10.791498  10.790859  10.791202  \n",
       "2021-08-22 20:00:00   0.605696  10.795610  10.795982  10.795279  10.795660  \n",
       "2021-08-23 00:00:00   1.941360  10.815334  10.815818  10.814942  10.815408  \n",
       "2021-08-23 04:00:00   1.908007  10.825333  10.825618  10.824997  10.825311  \n",
       "\n",
       "[20840 rows x 9 columns]"
      ]
     },
     "execution_count": 4,
     "metadata": {},
     "output_type": "execute_result"
    }
   ],
   "source": [
    "data = data.drop(columns=\"Unnamed: 0\").set_index(\"date\")\n",
    "data = data #[10000:]\n",
    "data"
   ]
  },
  {
   "cell_type": "code",
   "execution_count": null,
   "metadata": {},
   "outputs": [],
   "source": [
    "CLOSE = ['close']"
   ]
  },
  {
   "cell_type": "code",
   "execution_count": 5,
   "metadata": {
    "colab": {
     "base_uri": "https://localhost:8080/",
     "height": 293
    },
    "executionInfo": {
     "elapsed": 535,
     "status": "ok",
     "timestamp": 1629966974930,
     "user": {
      "displayName": "Ivan Fernandes",
      "photoUrl": "https://lh3.googleusercontent.com/a-/AOh14GgHdj66drQjCguTVvVzCd5yy8cdMluPJPZlz_BQLg=s64",
      "userId": "12100132160237129013"
     },
     "user_tz": -120
    },
    "id": "RIJL_ZcKTOaj",
    "outputId": "b6065065-d451-4581-df07-0531602adf36"
   },
   "outputs": [],
   "source": [
    "import requests\n",
    "def get_coingecko():\n",
    "    #ohlc\n",
    "    url = \"https://api.coingecko.com/api/v3/coins/bitcoin/ohlc?vs_currency=usd&days=30\"\n",
    "    response = requests.get(url).json()\n",
    "    #cleaning\n",
    "    data_api = pd.DataFrame(response, columns = ['unix_time','open', 'high', 'low', 'CLOSE'])\n",
    "    data_api[\"Date\"] = pd.to_datetime(data_api[\"unix_time\"], unit='ms')\n",
    "    data_api = data_api.drop(columns='unix_time').set_index('Date')\n",
    "\n",
    "    #volume\n",
    "    url = \"https://api.coingecko.com/api/v3/coins/bitcoin/market_chart?vs_currency=usd&days=30\"\n",
    "    response = requests.get(url).json()\n",
    "\n",
    "    volume = pd.DataFrame(response['total_volumes'], columns=[\"unix_time\",\"volume\"])\n",
    "    volume['date'] = pd.to_datetime(pd.to_datetime(volume['unix_time'],unit='ms').dt.strftime(\"%Y/%m/%d, %H:00:00\"))\n",
    "    volume = volume.drop(columns='unix_time').set_index('date')\n",
    "\n",
    "    #resample hourly into 4h\n",
    "    volume = volume.resample(\"4H\").mean()\n",
    "\n",
    "    #concatinate\n",
    "    volume = volume[-180:]\n",
    "    data_api = data_api[-181:-1]\n",
    "    full = pd.concat([data_api, volume], axis=1)\n",
    "    full.columns=['open', 'high', 'low', 'CLOSE', 'volume']\n",
    "\n",
    "    for x in ['open', 'high', 'low', 'CLOSE']:\n",
    "        full[f'log_{x}'] = full[x].apply(lambda x: np.log(x))\n",
    "\n",
    "    data_api = full.copy()\n",
    "\n",
    "    return data_api\n",
    "\n",
    "\n",
    "def feature_engineer(data):\n",
    "    \"\"\"\n",
    "    Adds the EMAs, StochRSI, BollingerBands and Volume Rate of Change to the dataframe\n",
    "    \"\"\"\n",
    "    add_ema(data)\n",
    "    add_stoch_rsi(data)\n",
    "    add_bollinger(data,data.CLOSE)\n",
    "    add_vol_roc(data)\n",
    "    return data\n",
    "\n",
    "## add other features\n",
    "\n",
    "def add_ema(data, tspan=[12,26,20,50,34,55]):\n",
    "    \"\"\"\n",
    "    Adds Exponential Moving Averages (EMA) to the dataframe. The default timeframes are 12,26,20,50,34 and 55.\n",
    "    \"\"\"\n",
    "    for t in tspan:\n",
    "        data[f'ema{t}'] = data.CLOSE.ewm(span=t).mean()\n",
    "        data[f'dist_ema{t}'] = data['CLOSE'] - data[f'ema{t}']\n",
    "    return data\n",
    "\n",
    "\n",
    "def computeRSI(data, window=14):\n",
    "    \"\"\"\n",
    "    Computes the Relative Stregth Index for a given dataset and the window can be defined. Its default value is 14.\n",
    "    \"\"\"\n",
    "    diff = data.diff(1).dropna()        # diff in one field(one day)\n",
    "\n",
    "    #this preservers dimensions off diff values\n",
    "    up_chg = 0 * diff\n",
    "    down_chg = 0 * diff\n",
    "    \n",
    "    # up change is equal to the positive difference, otherwise equal to zero\n",
    "    up_chg[diff > 0] = diff[ diff>0 ]\n",
    "    # down change is equal to negative deifference, otherwise equal to zero\n",
    "    down_chg[diff < 0] = diff[ diff < 0 ]\n",
    "    \n",
    "    # check pandas documentation for ewm\n",
    "    # https://pandas.pydata.org/pandas-docs/stable/reference/api/pandas.DataFrame.ewm.html\n",
    "    # values are related to exponential decay\n",
    "    # we set com=window-1 so we get decay alpha=1/window\n",
    "    up_chg_avg   = up_chg.ewm(com=window-1 , min_periods=window).mean()\n",
    "    down_chg_avg = down_chg.ewm(com=window-1 , min_periods=window).mean()\n",
    "    \n",
    "    rs = abs(up_chg_avg/down_chg_avg)\n",
    "    rsi = 100 - 100/(1+rs)\n",
    "    return rsi\n",
    "\n",
    "\n",
    "def stoch_rsi(rsi, d_window=3, k_window=3, window=14):\n",
    "    \"\"\"\n",
    "    Computes the stochastic RSI. Default values are d=3, k=3, window=14.\n",
    "    \"\"\"\n",
    "    minrsi = rsi.rolling(window=window, center=False).min()\n",
    "    maxrsi = rsi.rolling(window=window, center=False).max()\n",
    "    stoch = ((rsi - minrsi) / (maxrsi - minrsi)) * 100\n",
    "    K = stoch.rolling(window=k_window, center=False).mean()\n",
    "    D = K.rolling(window=d_window, center=False).mean() \n",
    "    return K, D  \n",
    "\n",
    "\n",
    "def add_stoch_rsi(data, d_window=3, k_window=3, window=14):\n",
    "    data['rsi'] = computeRSI(data['CLOSE'], window)\n",
    "    data['K'], data['D'] = stoch_rsi(data['rsi'], d_window, k_window, window)\n",
    "    return data\n",
    "\n",
    "\n",
    "def get_bollinger_bands(prices, rate=20):\n",
    "    sma = prices.rolling(rate).mean() # <-- Get SMA for 20 days\n",
    "    std = prices.rolling(rate).std() # <-- Get rolling standard deviation for 20 days\n",
    "    bollinger_up = sma + std * 2 # Calculate top band\n",
    "    bollinger_down = sma - std * 2 # Calculate bottom band\n",
    "    return sma, bollinger_up, bollinger_down\n",
    "\n",
    "\n",
    "def add_bollinger(data, prices, rate=20):\n",
    "    data['sma'], data['bollinger_up'], data['bollinger_down'] = get_bollinger_bands(prices)\n",
    "    for i in ['bollinger_up', 'bollinger_down']:\n",
    "        data[f'dist_{i}'] = data['CLOSE'] - data[i]\n",
    "    return data\n",
    "\n",
    "\n",
    "def add_vol_roc(data):\n",
    "    data['vol_roc'] = data.volume.pct_change()\n",
    "    return data\n"
   ]
  },
  {
   "cell_type": "code",
   "execution_count": 6,
   "metadata": {},
   "outputs": [],
   "source": [
    "def get_train_data():\n",
    "    \"\"\"\n",
    "    Returns the raw training dataset for the price of bitcoin since 31.12.2011.\n",
    "    The index is set to the date.\n",
    "    \"\"\"\n",
    "    data = pd.read_csv(\"../data/BTCUSD_4hours.csv\")\n",
    "    data['date'] = pd.to_datetime(data.date)\n",
    "    data_train = data.drop(columns=\"Unnamed: 0\").set_index(\"date\")\n",
    "    return data_train\n",
    "\n",
    "\n",
    "def minmaxscaling(data_train):\n",
    "    \"\"\"\n",
    "    applies the minmaxscaler to the training set. Attention! Output needs to be\n",
    "    defined for data_train_scaled, min1 and range1!!\n",
    "    \"\"\"\n",
    "    minmax_scaler = MinMaxScaler(feature_range=(0, 1))\n",
    "    minmax_scaler.fit(data_train)\n",
    "    data_train_scaled = minmax_scaler.transform(data_train)\n",
    "    #    min1 = minmax_scaler.data_min_  # [5:9] for log_prices\n",
    "    #    range1 = minmax_scaler.data_range_  #[5:9]\n",
    "    return data_train_scaled, minmax_scaler\n",
    "\n",
    "\n",
    "def get_xgecko(length=60, horizon=1):\n",
    "    \"\"\"\n",
    "    Calls the coingecko API and returns the data used for prediction.\n",
    "    x_gecko.shape == (no_sequ , length, no_features)\n",
    "    \"\"\"\n",
    "    x_gecko = feature_engineer(get_coingecko())[['log_close']][-length:]\n",
    "    #get scaler the long way\n",
    "    data_train = feature_engineer(get_train_data())[['log_close']]\n",
    "    data_train_scaled, scaler = minmaxscaling(data_train)\n",
    "\n",
    "    x_gecko_scaled = scaler.transform(x_gecko)\n",
    "    x_gecko = np.array(x_gecko_scaled)\n",
    "    x_gecko = np.reshape(x_gecko, (horizon, length, 1))\n",
    "    return x_gecko"
   ]
  },
  {
   "cell_type": "markdown",
   "metadata": {
    "id": "hnO1Kw4mTOam"
   },
   "source": [
    "### Daily return\n",
    "\n",
    "$ return = \\frac{new - old}{old} $"
   ]
  },
  {
   "cell_type": "code",
   "execution_count": 7,
   "metadata": {},
   "outputs": [],
   "source": [
    "data = feature_engineer(data)"
   ]
  },
  {
   "cell_type": "code",
   "execution_count": 8,
   "metadata": {
    "executionInfo": {
     "elapsed": 3,
     "status": "ok",
     "timestamp": 1629966976844,
     "user": {
      "displayName": "Ivan Fernandes",
      "photoUrl": "https://lh3.googleusercontent.com/a-/AOh14GgHdj66drQjCguTVvVzCd5yy8cdMluPJPZlz_BQLg=s64",
      "userId": "12100132160237129013"
     },
     "user_tz": -120
    },
    "id": "OkM8CpqykqFz"
   },
   "outputs": [],
   "source": [
    "data['4h Return'] = data['close'].pct_change()\n",
    "data['4h Gradient'] = data['close'].diff()"
   ]
  },
  {
   "cell_type": "code",
   "execution_count": 9,
   "metadata": {
    "executionInfo": {
     "elapsed": 3,
     "status": "ok",
     "timestamp": 1629966978166,
     "user": {
      "displayName": "Ivan Fernandes",
      "photoUrl": "https://lh3.googleusercontent.com/a-/AOh14GgHdj66drQjCguTVvVzCd5yy8cdMluPJPZlz_BQLg=s64",
      "userId": "12100132160237129013"
     },
     "user_tz": -120
    },
    "id": "pjzEF_95arJY"
   },
   "outputs": [],
   "source": [
    "data = data.dropna()"
   ]
  },
  {
   "cell_type": "code",
   "execution_count": 10,
   "metadata": {},
   "outputs": [
    {
     "data": {
      "text/html": [
       "<div>\n",
       "<style scoped>\n",
       "    .dataframe tbody tr th:only-of-type {\n",
       "        vertical-align: middle;\n",
       "    }\n",
       "\n",
       "    .dataframe tbody tr th {\n",
       "        vertical-align: top;\n",
       "    }\n",
       "\n",
       "    .dataframe thead th {\n",
       "        text-align: right;\n",
       "    }\n",
       "</style>\n",
       "<table border=\"1\" class=\"dataframe\">\n",
       "  <thead>\n",
       "    <tr style=\"text-align: right;\">\n",
       "      <th></th>\n",
       "      <th>open</th>\n",
       "      <th>high</th>\n",
       "      <th>low</th>\n",
       "      <th>close</th>\n",
       "      <th>volume</th>\n",
       "      <th>log_open</th>\n",
       "      <th>log_high</th>\n",
       "      <th>log_low</th>\n",
       "      <th>log_close</th>\n",
       "      <th>ema12</th>\n",
       "      <th>...</th>\n",
       "      <th>K</th>\n",
       "      <th>D</th>\n",
       "      <th>sma</th>\n",
       "      <th>bollinger_up</th>\n",
       "      <th>bollinger_down</th>\n",
       "      <th>dist_bollinger_up</th>\n",
       "      <th>dist_bollinger_down</th>\n",
       "      <th>vol_roc</th>\n",
       "      <th>4h Return</th>\n",
       "      <th>4h Gradient</th>\n",
       "    </tr>\n",
       "    <tr>\n",
       "      <th>date</th>\n",
       "      <th></th>\n",
       "      <th></th>\n",
       "      <th></th>\n",
       "      <th></th>\n",
       "      <th></th>\n",
       "      <th></th>\n",
       "      <th></th>\n",
       "      <th></th>\n",
       "      <th></th>\n",
       "      <th></th>\n",
       "      <th></th>\n",
       "      <th></th>\n",
       "      <th></th>\n",
       "      <th></th>\n",
       "      <th></th>\n",
       "      <th></th>\n",
       "      <th></th>\n",
       "      <th></th>\n",
       "      <th></th>\n",
       "      <th></th>\n",
       "      <th></th>\n",
       "    </tr>\n",
       "  </thead>\n",
       "  <tbody>\n",
       "    <tr>\n",
       "      <th>2012-01-10 20:00:00</th>\n",
       "      <td>7.140000</td>\n",
       "      <td>7.140000</td>\n",
       "      <td>7.140000</td>\n",
       "      <td>7.140000</td>\n",
       "      <td>4.598039</td>\n",
       "      <td>1.965713</td>\n",
       "      <td>1.965713</td>\n",
       "      <td>1.965713</td>\n",
       "      <td>1.965713</td>\n",
       "      <td>1.889085</td>\n",
       "      <td>...</td>\n",
       "      <td>24.403826</td>\n",
       "      <td>13.769771</td>\n",
       "      <td>1.880396</td>\n",
       "      <td>1.986887</td>\n",
       "      <td>1.773904</td>\n",
       "      <td>-0.021174</td>\n",
       "      <td>0.191808</td>\n",
       "      <td>0.656744</td>\n",
       "      <td>0.052580</td>\n",
       "      <td>0.356667</td>\n",
       "    </tr>\n",
       "    <tr>\n",
       "      <th>2012-01-11 08:00:00</th>\n",
       "      <td>7.033333</td>\n",
       "      <td>7.033333</td>\n",
       "      <td>7.033333</td>\n",
       "      <td>7.033333</td>\n",
       "      <td>1.858932</td>\n",
       "      <td>1.949820</td>\n",
       "      <td>1.949820</td>\n",
       "      <td>1.949820</td>\n",
       "      <td>1.949820</td>\n",
       "      <td>1.898467</td>\n",
       "      <td>...</td>\n",
       "      <td>37.306777</td>\n",
       "      <td>24.696599</td>\n",
       "      <td>1.890427</td>\n",
       "      <td>1.981574</td>\n",
       "      <td>1.799280</td>\n",
       "      <td>-0.031753</td>\n",
       "      <td>0.150541</td>\n",
       "      <td>-0.595712</td>\n",
       "      <td>-0.014939</td>\n",
       "      <td>-0.106667</td>\n",
       "    </tr>\n",
       "    <tr>\n",
       "      <th>2012-01-11 12:00:00</th>\n",
       "      <td>7.201538</td>\n",
       "      <td>7.205769</td>\n",
       "      <td>7.201538</td>\n",
       "      <td>7.205769</td>\n",
       "      <td>1.895918</td>\n",
       "      <td>1.974294</td>\n",
       "      <td>1.974876</td>\n",
       "      <td>1.974294</td>\n",
       "      <td>1.974876</td>\n",
       "      <td>1.910262</td>\n",
       "      <td>...</td>\n",
       "      <td>51.197785</td>\n",
       "      <td>37.636130</td>\n",
       "      <td>1.898878</td>\n",
       "      <td>1.988336</td>\n",
       "      <td>1.809419</td>\n",
       "      <td>-0.013460</td>\n",
       "      <td>0.165457</td>\n",
       "      <td>0.019896</td>\n",
       "      <td>0.024517</td>\n",
       "      <td>0.172436</td>\n",
       "    </tr>\n",
       "    <tr>\n",
       "      <th>2012-01-11 16:00:00</th>\n",
       "      <td>6.950000</td>\n",
       "      <td>6.950000</td>\n",
       "      <td>6.950000</td>\n",
       "      <td>6.950000</td>\n",
       "      <td>2.987143</td>\n",
       "      <td>1.938716</td>\n",
       "      <td>1.938716</td>\n",
       "      <td>1.938716</td>\n",
       "      <td>1.938716</td>\n",
       "      <td>1.914652</td>\n",
       "      <td>...</td>\n",
       "      <td>50.078456</td>\n",
       "      <td>46.194339</td>\n",
       "      <td>1.902687</td>\n",
       "      <td>1.992116</td>\n",
       "      <td>1.813258</td>\n",
       "      <td>-0.053400</td>\n",
       "      <td>0.125458</td>\n",
       "      <td>0.575566</td>\n",
       "      <td>-0.035495</td>\n",
       "      <td>-0.255769</td>\n",
       "    </tr>\n",
       "    <tr>\n",
       "      <th>2012-01-11 20:00:00</th>\n",
       "      <td>7.000000</td>\n",
       "      <td>7.000000</td>\n",
       "      <td>7.000000</td>\n",
       "      <td>7.000000</td>\n",
       "      <td>8.315000</td>\n",
       "      <td>1.945910</td>\n",
       "      <td>1.945910</td>\n",
       "      <td>1.945910</td>\n",
       "      <td>1.945910</td>\n",
       "      <td>1.919473</td>\n",
       "      <td>...</td>\n",
       "      <td>44.821949</td>\n",
       "      <td>48.699397</td>\n",
       "      <td>1.906934</td>\n",
       "      <td>1.996089</td>\n",
       "      <td>1.817779</td>\n",
       "      <td>-0.050179</td>\n",
       "      <td>0.128131</td>\n",
       "      <td>1.783596</td>\n",
       "      <td>0.007194</td>\n",
       "      <td>0.050000</td>\n",
       "    </tr>\n",
       "    <tr>\n",
       "      <th>...</th>\n",
       "      <td>...</td>\n",
       "      <td>...</td>\n",
       "      <td>...</td>\n",
       "      <td>...</td>\n",
       "      <td>...</td>\n",
       "      <td>...</td>\n",
       "      <td>...</td>\n",
       "      <td>...</td>\n",
       "      <td>...</td>\n",
       "      <td>...</td>\n",
       "      <td>...</td>\n",
       "      <td>...</td>\n",
       "      <td>...</td>\n",
       "      <td>...</td>\n",
       "      <td>...</td>\n",
       "      <td>...</td>\n",
       "      <td>...</td>\n",
       "      <td>...</td>\n",
       "      <td>...</td>\n",
       "      <td>...</td>\n",
       "      <td>...</td>\n",
       "    </tr>\n",
       "    <tr>\n",
       "      <th>2021-08-22 12:00:00</th>\n",
       "      <td>48769.308417</td>\n",
       "      <td>48787.711375</td>\n",
       "      <td>48749.417500</td>\n",
       "      <td>48769.737750</td>\n",
       "      <td>1.697971</td>\n",
       "      <td>10.794844</td>\n",
       "      <td>10.795222</td>\n",
       "      <td>10.794435</td>\n",
       "      <td>10.794853</td>\n",
       "      <td>10.792529</td>\n",
       "      <td>...</td>\n",
       "      <td>36.210154</td>\n",
       "      <td>50.235845</td>\n",
       "      <td>10.777789</td>\n",
       "      <td>10.840219</td>\n",
       "      <td>10.715358</td>\n",
       "      <td>-0.045367</td>\n",
       "      <td>0.079495</td>\n",
       "      <td>2.306553</td>\n",
       "      <td>-0.008789</td>\n",
       "      <td>-432.428292</td>\n",
       "    </tr>\n",
       "    <tr>\n",
       "      <th>2021-08-22 16:00:00</th>\n",
       "      <td>48591.665708</td>\n",
       "      <td>48605.941333</td>\n",
       "      <td>48574.903375</td>\n",
       "      <td>48591.580833</td>\n",
       "      <td>0.463362</td>\n",
       "      <td>10.791204</td>\n",
       "      <td>10.791498</td>\n",
       "      <td>10.790859</td>\n",
       "      <td>10.791202</td>\n",
       "      <td>10.792325</td>\n",
       "      <td>...</td>\n",
       "      <td>19.004941</td>\n",
       "      <td>36.146357</td>\n",
       "      <td>10.782060</td>\n",
       "      <td>10.834660</td>\n",
       "      <td>10.729461</td>\n",
       "      <td>-0.043457</td>\n",
       "      <td>0.061742</td>\n",
       "      <td>-0.727108</td>\n",
       "      <td>-0.003653</td>\n",
       "      <td>-178.156917</td>\n",
       "    </tr>\n",
       "    <tr>\n",
       "      <th>2021-08-22 20:00:00</th>\n",
       "      <td>48807.713542</td>\n",
       "      <td>48825.874417</td>\n",
       "      <td>48791.558000</td>\n",
       "      <td>48810.168750</td>\n",
       "      <td>0.605696</td>\n",
       "      <td>10.795610</td>\n",
       "      <td>10.795982</td>\n",
       "      <td>10.795279</td>\n",
       "      <td>10.795660</td>\n",
       "      <td>10.792838</td>\n",
       "      <td>...</td>\n",
       "      <td>5.196078</td>\n",
       "      <td>20.137058</td>\n",
       "      <td>10.786118</td>\n",
       "      <td>10.828258</td>\n",
       "      <td>10.743977</td>\n",
       "      <td>-0.032598</td>\n",
       "      <td>0.051684</td>\n",
       "      <td>0.307177</td>\n",
       "      <td>0.004498</td>\n",
       "      <td>218.587917</td>\n",
       "    </tr>\n",
       "    <tr>\n",
       "      <th>2021-08-23 00:00:00</th>\n",
       "      <td>49779.332208</td>\n",
       "      <td>49803.461792</td>\n",
       "      <td>49759.784208</td>\n",
       "      <td>49783.003708</td>\n",
       "      <td>1.941360</td>\n",
       "      <td>10.815334</td>\n",
       "      <td>10.815818</td>\n",
       "      <td>10.814942</td>\n",
       "      <td>10.815408</td>\n",
       "      <td>10.796311</td>\n",
       "      <td>...</td>\n",
       "      <td>26.741234</td>\n",
       "      <td>16.980751</td>\n",
       "      <td>10.789987</td>\n",
       "      <td>10.827486</td>\n",
       "      <td>10.752488</td>\n",
       "      <td>-0.012078</td>\n",
       "      <td>0.062919</td>\n",
       "      <td>2.205170</td>\n",
       "      <td>0.019931</td>\n",
       "      <td>972.834958</td>\n",
       "    </tr>\n",
       "    <tr>\n",
       "      <th>2021-08-23 04:00:00</th>\n",
       "      <td>50278.596788</td>\n",
       "      <td>50292.908182</td>\n",
       "      <td>50261.680727</td>\n",
       "      <td>50277.475152</td>\n",
       "      <td>1.908007</td>\n",
       "      <td>10.825333</td>\n",
       "      <td>10.825618</td>\n",
       "      <td>10.824997</td>\n",
       "      <td>10.825311</td>\n",
       "      <td>10.800772</td>\n",
       "      <td>...</td>\n",
       "      <td>55.500990</td>\n",
       "      <td>29.146101</td>\n",
       "      <td>10.793803</td>\n",
       "      <td>10.829215</td>\n",
       "      <td>10.758390</td>\n",
       "      <td>-0.003904</td>\n",
       "      <td>0.066921</td>\n",
       "      <td>-0.017180</td>\n",
       "      <td>0.009933</td>\n",
       "      <td>494.471443</td>\n",
       "    </tr>\n",
       "  </tbody>\n",
       "</table>\n",
       "<p>20809 rows × 32 columns</p>\n",
       "</div>"
      ],
      "text/plain": [
       "                             open          high           low         close  \\\n",
       "date                                                                          \n",
       "2012-01-10 20:00:00      7.140000      7.140000      7.140000      7.140000   \n",
       "2012-01-11 08:00:00      7.033333      7.033333      7.033333      7.033333   \n",
       "2012-01-11 12:00:00      7.201538      7.205769      7.201538      7.205769   \n",
       "2012-01-11 16:00:00      6.950000      6.950000      6.950000      6.950000   \n",
       "2012-01-11 20:00:00      7.000000      7.000000      7.000000      7.000000   \n",
       "...                           ...           ...           ...           ...   \n",
       "2021-08-22 12:00:00  48769.308417  48787.711375  48749.417500  48769.737750   \n",
       "2021-08-22 16:00:00  48591.665708  48605.941333  48574.903375  48591.580833   \n",
       "2021-08-22 20:00:00  48807.713542  48825.874417  48791.558000  48810.168750   \n",
       "2021-08-23 00:00:00  49779.332208  49803.461792  49759.784208  49783.003708   \n",
       "2021-08-23 04:00:00  50278.596788  50292.908182  50261.680727  50277.475152   \n",
       "\n",
       "                       volume   log_open   log_high    log_low  log_close  \\\n",
       "date                                                                        \n",
       "2012-01-10 20:00:00  4.598039   1.965713   1.965713   1.965713   1.965713   \n",
       "2012-01-11 08:00:00  1.858932   1.949820   1.949820   1.949820   1.949820   \n",
       "2012-01-11 12:00:00  1.895918   1.974294   1.974876   1.974294   1.974876   \n",
       "2012-01-11 16:00:00  2.987143   1.938716   1.938716   1.938716   1.938716   \n",
       "2012-01-11 20:00:00  8.315000   1.945910   1.945910   1.945910   1.945910   \n",
       "...                       ...        ...        ...        ...        ...   \n",
       "2021-08-22 12:00:00  1.697971  10.794844  10.795222  10.794435  10.794853   \n",
       "2021-08-22 16:00:00  0.463362  10.791204  10.791498  10.790859  10.791202   \n",
       "2021-08-22 20:00:00  0.605696  10.795610  10.795982  10.795279  10.795660   \n",
       "2021-08-23 00:00:00  1.941360  10.815334  10.815818  10.814942  10.815408   \n",
       "2021-08-23 04:00:00  1.908007  10.825333  10.825618  10.824997  10.825311   \n",
       "\n",
       "                         ema12  ...          K          D        sma  \\\n",
       "date                            ...                                    \n",
       "2012-01-10 20:00:00   1.889085  ...  24.403826  13.769771   1.880396   \n",
       "2012-01-11 08:00:00   1.898467  ...  37.306777  24.696599   1.890427   \n",
       "2012-01-11 12:00:00   1.910262  ...  51.197785  37.636130   1.898878   \n",
       "2012-01-11 16:00:00   1.914652  ...  50.078456  46.194339   1.902687   \n",
       "2012-01-11 20:00:00   1.919473  ...  44.821949  48.699397   1.906934   \n",
       "...                        ...  ...        ...        ...        ...   \n",
       "2021-08-22 12:00:00  10.792529  ...  36.210154  50.235845  10.777789   \n",
       "2021-08-22 16:00:00  10.792325  ...  19.004941  36.146357  10.782060   \n",
       "2021-08-22 20:00:00  10.792838  ...   5.196078  20.137058  10.786118   \n",
       "2021-08-23 00:00:00  10.796311  ...  26.741234  16.980751  10.789987   \n",
       "2021-08-23 04:00:00  10.800772  ...  55.500990  29.146101  10.793803   \n",
       "\n",
       "                     bollinger_up  bollinger_down  dist_bollinger_up  \\\n",
       "date                                                                   \n",
       "2012-01-10 20:00:00      1.986887        1.773904          -0.021174   \n",
       "2012-01-11 08:00:00      1.981574        1.799280          -0.031753   \n",
       "2012-01-11 12:00:00      1.988336        1.809419          -0.013460   \n",
       "2012-01-11 16:00:00      1.992116        1.813258          -0.053400   \n",
       "2012-01-11 20:00:00      1.996089        1.817779          -0.050179   \n",
       "...                           ...             ...                ...   \n",
       "2021-08-22 12:00:00     10.840219       10.715358          -0.045367   \n",
       "2021-08-22 16:00:00     10.834660       10.729461          -0.043457   \n",
       "2021-08-22 20:00:00     10.828258       10.743977          -0.032598   \n",
       "2021-08-23 00:00:00     10.827486       10.752488          -0.012078   \n",
       "2021-08-23 04:00:00     10.829215       10.758390          -0.003904   \n",
       "\n",
       "                     dist_bollinger_down   vol_roc  4h Return  4h Gradient  \n",
       "date                                                                        \n",
       "2012-01-10 20:00:00             0.191808  0.656744   0.052580     0.356667  \n",
       "2012-01-11 08:00:00             0.150541 -0.595712  -0.014939    -0.106667  \n",
       "2012-01-11 12:00:00             0.165457  0.019896   0.024517     0.172436  \n",
       "2012-01-11 16:00:00             0.125458  0.575566  -0.035495    -0.255769  \n",
       "2012-01-11 20:00:00             0.128131  1.783596   0.007194     0.050000  \n",
       "...                                  ...       ...        ...          ...  \n",
       "2021-08-22 12:00:00             0.079495  2.306553  -0.008789  -432.428292  \n",
       "2021-08-22 16:00:00             0.061742 -0.727108  -0.003653  -178.156917  \n",
       "2021-08-22 20:00:00             0.051684  0.307177   0.004498   218.587917  \n",
       "2021-08-23 00:00:00             0.062919  2.205170   0.019931   972.834958  \n",
       "2021-08-23 04:00:00             0.066921 -0.017180   0.009933   494.471443  \n",
       "\n",
       "[20809 rows x 32 columns]"
      ]
     },
     "execution_count": 10,
     "metadata": {},
     "output_type": "execute_result"
    }
   ],
   "source": [
    "data"
   ]
  },
  {
   "cell_type": "markdown",
   "metadata": {
    "id": "yB-e6gSuarJp"
   },
   "source": [
    "## BITCOIN Price"
   ]
  },
  {
   "cell_type": "code",
   "execution_count": 11,
   "metadata": {},
   "outputs": [],
   "source": [
    "import seaborn as sns"
   ]
  },
  {
   "cell_type": "code",
   "execution_count": 12,
   "metadata": {},
   "outputs": [
    {
     "data": {
      "text/plain": [
       "<AxesSubplot:>"
      ]
     },
     "execution_count": 12,
     "metadata": {},
     "output_type": "execute_result"
    },
    {
     "data": {
      "image/png": "[encoded data removed]",
      "text/plain": [
       "<Figure size 432x288 with 2 Axes>"
      ]
     },
     "metadata": {},
     "output_type": "display_data"
    }
   ],
   "source": [
    "pd.set_option('display.max_columns', None)\n",
    "sns.heatmap(data.corr())"
   ]
  },
  {
   "cell_type": "code",
   "execution_count": 13,
   "metadata": {},
   "outputs": [
    {
     "data": {
      "text/plain": [
       "Index(['open', 'high', 'low', 'close', 'volume', 'log_open', 'log_high',\n",
       "       'log_low', 'log_close', 'ema12', 'dist_ema12', 'ema26', 'dist_ema26',\n",
       "       'ema20', 'dist_ema20', 'ema50', 'dist_ema50', 'ema34', 'dist_ema34',\n",
       "       'ema55', 'dist_ema55', 'rsi', 'K', 'D', 'sma', 'bollinger_up',\n",
       "       'bollinger_down', 'dist_bollinger_up', 'dist_bollinger_down', 'vol_roc',\n",
       "       '4h Return', '4h Gradient'],\n",
       "      dtype='object')"
      ]
     },
     "execution_count": 13,
     "metadata": {},
     "output_type": "execute_result"
    }
   ],
   "source": [
    "data.keys()"
   ]
  },
  {
   "cell_type": "code",
   "execution_count": 14,
   "metadata": {},
   "outputs": [],
   "source": [
    "selected_features=['log_close','4h Return', 'dist_ema20', 'dist_ema55', 'rsi', 'dist_bollinger_down', 'vol_roc']\n",
    "#21,99 emas"
   ]
  },
  {
   "cell_type": "code",
   "execution_count": 15,
   "metadata": {},
   "outputs": [
    {
     "data": {
      "text/html": [
       "<div>\n",
       "<style scoped>\n",
       "    .dataframe tbody tr th:only-of-type {\n",
       "        vertical-align: middle;\n",
       "    }\n",
       "\n",
       "    .dataframe tbody tr th {\n",
       "        vertical-align: top;\n",
       "    }\n",
       "\n",
       "    .dataframe thead th {\n",
       "        text-align: right;\n",
       "    }\n",
       "</style>\n",
       "<table border=\"1\" class=\"dataframe\">\n",
       "  <thead>\n",
       "    <tr style=\"text-align: right;\">\n",
       "      <th></th>\n",
       "      <th>log_close</th>\n",
       "      <th>4h Return</th>\n",
       "      <th>dist_ema20</th>\n",
       "      <th>dist_ema55</th>\n",
       "      <th>rsi</th>\n",
       "      <th>dist_bollinger_down</th>\n",
       "      <th>vol_roc</th>\n",
       "    </tr>\n",
       "    <tr>\n",
       "      <th>date</th>\n",
       "      <th></th>\n",
       "      <th></th>\n",
       "      <th></th>\n",
       "      <th></th>\n",
       "      <th></th>\n",
       "      <th></th>\n",
       "      <th></th>\n",
       "    </tr>\n",
       "  </thead>\n",
       "  <tbody>\n",
       "    <tr>\n",
       "      <th>2012-01-10 20:00:00</th>\n",
       "      <td>1.965713</td>\n",
       "      <td>0.052580</td>\n",
       "      <td>0.099781</td>\n",
       "      <td>0.147594</td>\n",
       "      <td>68.562494</td>\n",
       "      <td>0.191808</td>\n",
       "      <td>0.656744</td>\n",
       "    </tr>\n",
       "    <tr>\n",
       "      <th>2012-01-11 08:00:00</th>\n",
       "      <td>1.949820</td>\n",
       "      <td>-0.014939</td>\n",
       "      <td>0.075594</td>\n",
       "      <td>0.124971</td>\n",
       "      <td>65.970885</td>\n",
       "      <td>0.150541</td>\n",
       "      <td>-0.595712</td>\n",
       "    </tr>\n",
       "    <tr>\n",
       "      <th>2012-01-11 12:00:00</th>\n",
       "      <td>1.974876</td>\n",
       "      <td>0.024517</td>\n",
       "      <td>0.090734</td>\n",
       "      <td>0.142476</td>\n",
       "      <td>68.023084</td>\n",
       "      <td>0.165457</td>\n",
       "      <td>0.019896</td>\n",
       "    </tr>\n",
       "    <tr>\n",
       "      <th>2012-01-11 16:00:00</th>\n",
       "      <td>1.938716</td>\n",
       "      <td>-0.035495</td>\n",
       "      <td>0.049215</td>\n",
       "      <td>0.101042</td>\n",
       "      <td>62.193690</td>\n",
       "      <td>0.125458</td>\n",
       "      <td>0.575566</td>\n",
       "    </tr>\n",
       "    <tr>\n",
       "      <th>2012-01-11 20:00:00</th>\n",
       "      <td>1.945910</td>\n",
       "      <td>0.007194</td>\n",
       "      <td>0.050887</td>\n",
       "      <td>0.102941</td>\n",
       "      <td>62.875361</td>\n",
       "      <td>0.128131</td>\n",
       "      <td>1.783596</td>\n",
       "    </tr>\n",
       "    <tr>\n",
       "      <th>...</th>\n",
       "      <td>...</td>\n",
       "      <td>...</td>\n",
       "      <td>...</td>\n",
       "      <td>...</td>\n",
       "      <td>...</td>\n",
       "      <td>...</td>\n",
       "      <td>...</td>\n",
       "    </tr>\n",
       "    <tr>\n",
       "      <th>2021-08-22 12:00:00</th>\n",
       "      <td>10.794853</td>\n",
       "      <td>-0.008789</td>\n",
       "      <td>0.013176</td>\n",
       "      <td>0.041530</td>\n",
       "      <td>62.080327</td>\n",
       "      <td>0.079495</td>\n",
       "      <td>2.306553</td>\n",
       "    </tr>\n",
       "    <tr>\n",
       "      <th>2021-08-22 16:00:00</th>\n",
       "      <td>10.791202</td>\n",
       "      <td>-0.003653</td>\n",
       "      <td>0.008618</td>\n",
       "      <td>0.036527</td>\n",
       "      <td>59.525060</td>\n",
       "      <td>0.061742</td>\n",
       "      <td>-0.727108</td>\n",
       "    </tr>\n",
       "    <tr>\n",
       "      <th>2021-08-22 20:00:00</th>\n",
       "      <td>10.795660</td>\n",
       "      <td>0.004498</td>\n",
       "      <td>0.011831</td>\n",
       "      <td>0.039521</td>\n",
       "      <td>61.603611</td>\n",
       "      <td>0.051684</td>\n",
       "      <td>0.307177</td>\n",
       "    </tr>\n",
       "    <tr>\n",
       "      <th>2021-08-23 00:00:00</th>\n",
       "      <td>10.815408</td>\n",
       "      <td>0.019931</td>\n",
       "      <td>0.028571</td>\n",
       "      <td>0.057152</td>\n",
       "      <td>69.159095</td>\n",
       "      <td>0.062919</td>\n",
       "      <td>2.205170</td>\n",
       "    </tr>\n",
       "    <tr>\n",
       "      <th>2021-08-23 04:00:00</th>\n",
       "      <td>10.825311</td>\n",
       "      <td>0.009933</td>\n",
       "      <td>0.034810</td>\n",
       "      <td>0.064660</td>\n",
       "      <td>72.121754</td>\n",
       "      <td>0.066921</td>\n",
       "      <td>-0.017180</td>\n",
       "    </tr>\n",
       "  </tbody>\n",
       "</table>\n",
       "<p>20809 rows × 7 columns</p>\n",
       "</div>"
      ],
      "text/plain": [
       "                     log_close  4h Return  dist_ema20  dist_ema55        rsi  \\\n",
       "date                                                                           \n",
       "2012-01-10 20:00:00   1.965713   0.052580    0.099781    0.147594  68.562494   \n",
       "2012-01-11 08:00:00   1.949820  -0.014939    0.075594    0.124971  65.970885   \n",
       "2012-01-11 12:00:00   1.974876   0.024517    0.090734    0.142476  68.023084   \n",
       "2012-01-11 16:00:00   1.938716  -0.035495    0.049215    0.101042  62.193690   \n",
       "2012-01-11 20:00:00   1.945910   0.007194    0.050887    0.102941  62.875361   \n",
       "...                        ...        ...         ...         ...        ...   \n",
       "2021-08-22 12:00:00  10.794853  -0.008789    0.013176    0.041530  62.080327   \n",
       "2021-08-22 16:00:00  10.791202  -0.003653    0.008618    0.036527  59.525060   \n",
       "2021-08-22 20:00:00  10.795660   0.004498    0.011831    0.039521  61.603611   \n",
       "2021-08-23 00:00:00  10.815408   0.019931    0.028571    0.057152  69.159095   \n",
       "2021-08-23 04:00:00  10.825311   0.009933    0.034810    0.064660  72.121754   \n",
       "\n",
       "                     dist_bollinger_down   vol_roc  \n",
       "date                                                \n",
       "2012-01-10 20:00:00             0.191808  0.656744  \n",
       "2012-01-11 08:00:00             0.150541 -0.595712  \n",
       "2012-01-11 12:00:00             0.165457  0.019896  \n",
       "2012-01-11 16:00:00             0.125458  0.575566  \n",
       "2012-01-11 20:00:00             0.128131  1.783596  \n",
       "...                                  ...       ...  \n",
       "2021-08-22 12:00:00             0.079495  2.306553  \n",
       "2021-08-22 16:00:00             0.061742 -0.727108  \n",
       "2021-08-22 20:00:00             0.051684  0.307177  \n",
       "2021-08-23 00:00:00             0.062919  2.205170  \n",
       "2021-08-23 04:00:00             0.066921 -0.017180  \n",
       "\n",
       "[20809 rows x 7 columns]"
      ]
     },
     "execution_count": 15,
     "metadata": {},
     "output_type": "execute_result"
    }
   ],
   "source": [
    "selected_data = data[selected_features]\n",
    "selected_data"
   ]
  },
  {
   "cell_type": "code",
   "execution_count": 16,
   "metadata": {},
   "outputs": [
    {
     "data": {
      "text/plain": [
       "<AxesSubplot:>"
      ]
     },
     "execution_count": 16,
     "metadata": {},
     "output_type": "execute_result"
    },
    {
     "data": {
      "image/png": "[encoded data removed]",
      "text/plain": [
       "<Figure size 432x288 with 2 Axes>"
      ]
     },
     "metadata": {},
     "output_type": "display_data"
    }
   ],
   "source": [
    "sns.heatmap(selected_data.corr())"
   ]
  },
  {
   "cell_type": "code",
   "execution_count": 17,
   "metadata": {},
   "outputs": [
    {
     "data": {
      "text/plain": [
       "20809"
      ]
     },
     "execution_count": 17,
     "metadata": {},
     "output_type": "execute_result"
    }
   ],
   "source": [
    "len(selected_data)"
   ]
  },
  {
   "cell_type": "code",
   "execution_count": 18,
   "metadata": {},
   "outputs": [
    {
     "data": {
      "text/plain": [
       "1.9498202623235736"
      ]
     },
     "execution_count": 18,
     "metadata": {},
     "output_type": "execute_result"
    }
   ],
   "source": [
    "np.array(selected_data)[1][0]"
   ]
  },
  {
   "cell_type": "code",
   "execution_count": 19,
   "metadata": {},
   "outputs": [],
   "source": [
    "def difference(dataset, interval=1):\n",
    "    dataset = np.array(dataset)\n",
    "    diff = list()\n",
    "    for i in range(interval, len(dataset)):\n",
    "        value = dataset[i] - dataset[i - interval]\n",
    "        diff.append(value[0])\n",
    "    return pd.DataFrame(diff)"
   ]
  },
  {
   "cell_type": "code",
   "execution_count": 20,
   "metadata": {},
   "outputs": [],
   "source": [
    "#selected_data = difference(selected_data, 1)"
   ]
  },
  {
   "cell_type": "code",
   "execution_count": 21,
   "metadata": {},
   "outputs": [
    {
     "data": {
      "text/html": [
       "<div>\n",
       "<style scoped>\n",
       "    .dataframe tbody tr th:only-of-type {\n",
       "        vertical-align: middle;\n",
       "    }\n",
       "\n",
       "    .dataframe tbody tr th {\n",
       "        vertical-align: top;\n",
       "    }\n",
       "\n",
       "    .dataframe thead th {\n",
       "        text-align: right;\n",
       "    }\n",
       "</style>\n",
       "<table border=\"1\" class=\"dataframe\">\n",
       "  <thead>\n",
       "    <tr style=\"text-align: right;\">\n",
       "      <th></th>\n",
       "      <th>log_close</th>\n",
       "      <th>4h Return</th>\n",
       "      <th>dist_ema20</th>\n",
       "      <th>dist_ema55</th>\n",
       "      <th>rsi</th>\n",
       "      <th>dist_bollinger_down</th>\n",
       "      <th>vol_roc</th>\n",
       "    </tr>\n",
       "    <tr>\n",
       "      <th>date</th>\n",
       "      <th></th>\n",
       "      <th></th>\n",
       "      <th></th>\n",
       "      <th></th>\n",
       "      <th></th>\n",
       "      <th></th>\n",
       "      <th></th>\n",
       "    </tr>\n",
       "  </thead>\n",
       "  <tbody>\n",
       "    <tr>\n",
       "      <th>2012-01-10 20:00:00</th>\n",
       "      <td>1.965713</td>\n",
       "      <td>0.052580</td>\n",
       "      <td>0.099781</td>\n",
       "      <td>0.147594</td>\n",
       "      <td>68.562494</td>\n",
       "      <td>0.191808</td>\n",
       "      <td>0.656744</td>\n",
       "    </tr>\n",
       "    <tr>\n",
       "      <th>2012-01-11 08:00:00</th>\n",
       "      <td>1.949820</td>\n",
       "      <td>-0.014939</td>\n",
       "      <td>0.075594</td>\n",
       "      <td>0.124971</td>\n",
       "      <td>65.970885</td>\n",
       "      <td>0.150541</td>\n",
       "      <td>-0.595712</td>\n",
       "    </tr>\n",
       "    <tr>\n",
       "      <th>2012-01-11 12:00:00</th>\n",
       "      <td>1.974876</td>\n",
       "      <td>0.024517</td>\n",
       "      <td>0.090734</td>\n",
       "      <td>0.142476</td>\n",
       "      <td>68.023084</td>\n",
       "      <td>0.165457</td>\n",
       "      <td>0.019896</td>\n",
       "    </tr>\n",
       "    <tr>\n",
       "      <th>2012-01-11 16:00:00</th>\n",
       "      <td>1.938716</td>\n",
       "      <td>-0.035495</td>\n",
       "      <td>0.049215</td>\n",
       "      <td>0.101042</td>\n",
       "      <td>62.193690</td>\n",
       "      <td>0.125458</td>\n",
       "      <td>0.575566</td>\n",
       "    </tr>\n",
       "    <tr>\n",
       "      <th>2012-01-11 20:00:00</th>\n",
       "      <td>1.945910</td>\n",
       "      <td>0.007194</td>\n",
       "      <td>0.050887</td>\n",
       "      <td>0.102941</td>\n",
       "      <td>62.875361</td>\n",
       "      <td>0.128131</td>\n",
       "      <td>1.783596</td>\n",
       "    </tr>\n",
       "    <tr>\n",
       "      <th>...</th>\n",
       "      <td>...</td>\n",
       "      <td>...</td>\n",
       "      <td>...</td>\n",
       "      <td>...</td>\n",
       "      <td>...</td>\n",
       "      <td>...</td>\n",
       "      <td>...</td>\n",
       "    </tr>\n",
       "    <tr>\n",
       "      <th>2021-08-22 12:00:00</th>\n",
       "      <td>10.794853</td>\n",
       "      <td>-0.008789</td>\n",
       "      <td>0.013176</td>\n",
       "      <td>0.041530</td>\n",
       "      <td>62.080327</td>\n",
       "      <td>0.079495</td>\n",
       "      <td>2.306553</td>\n",
       "    </tr>\n",
       "    <tr>\n",
       "      <th>2021-08-22 16:00:00</th>\n",
       "      <td>10.791202</td>\n",
       "      <td>-0.003653</td>\n",
       "      <td>0.008618</td>\n",
       "      <td>0.036527</td>\n",
       "      <td>59.525060</td>\n",
       "      <td>0.061742</td>\n",
       "      <td>-0.727108</td>\n",
       "    </tr>\n",
       "    <tr>\n",
       "      <th>2021-08-22 20:00:00</th>\n",
       "      <td>10.795660</td>\n",
       "      <td>0.004498</td>\n",
       "      <td>0.011831</td>\n",
       "      <td>0.039521</td>\n",
       "      <td>61.603611</td>\n",
       "      <td>0.051684</td>\n",
       "      <td>0.307177</td>\n",
       "    </tr>\n",
       "    <tr>\n",
       "      <th>2021-08-23 00:00:00</th>\n",
       "      <td>10.815408</td>\n",
       "      <td>0.019931</td>\n",
       "      <td>0.028571</td>\n",
       "      <td>0.057152</td>\n",
       "      <td>69.159095</td>\n",
       "      <td>0.062919</td>\n",
       "      <td>2.205170</td>\n",
       "    </tr>\n",
       "    <tr>\n",
       "      <th>2021-08-23 04:00:00</th>\n",
       "      <td>10.825311</td>\n",
       "      <td>0.009933</td>\n",
       "      <td>0.034810</td>\n",
       "      <td>0.064660</td>\n",
       "      <td>72.121754</td>\n",
       "      <td>0.066921</td>\n",
       "      <td>-0.017180</td>\n",
       "    </tr>\n",
       "  </tbody>\n",
       "</table>\n",
       "<p>20809 rows × 7 columns</p>\n",
       "</div>"
      ],
      "text/plain": [
       "                     log_close  4h Return  dist_ema20  dist_ema55        rsi  \\\n",
       "date                                                                           \n",
       "2012-01-10 20:00:00   1.965713   0.052580    0.099781    0.147594  68.562494   \n",
       "2012-01-11 08:00:00   1.949820  -0.014939    0.075594    0.124971  65.970885   \n",
       "2012-01-11 12:00:00   1.974876   0.024517    0.090734    0.142476  68.023084   \n",
       "2012-01-11 16:00:00   1.938716  -0.035495    0.049215    0.101042  62.193690   \n",
       "2012-01-11 20:00:00   1.945910   0.007194    0.050887    0.102941  62.875361   \n",
       "...                        ...        ...         ...         ...        ...   \n",
       "2021-08-22 12:00:00  10.794853  -0.008789    0.013176    0.041530  62.080327   \n",
       "2021-08-22 16:00:00  10.791202  -0.003653    0.008618    0.036527  59.525060   \n",
       "2021-08-22 20:00:00  10.795660   0.004498    0.011831    0.039521  61.603611   \n",
       "2021-08-23 00:00:00  10.815408   0.019931    0.028571    0.057152  69.159095   \n",
       "2021-08-23 04:00:00  10.825311   0.009933    0.034810    0.064660  72.121754   \n",
       "\n",
       "                     dist_bollinger_down   vol_roc  \n",
       "date                                                \n",
       "2012-01-10 20:00:00             0.191808  0.656744  \n",
       "2012-01-11 08:00:00             0.150541 -0.595712  \n",
       "2012-01-11 12:00:00             0.165457  0.019896  \n",
       "2012-01-11 16:00:00             0.125458  0.575566  \n",
       "2012-01-11 20:00:00             0.128131  1.783596  \n",
       "...                                  ...       ...  \n",
       "2021-08-22 12:00:00             0.079495  2.306553  \n",
       "2021-08-22 16:00:00             0.061742 -0.727108  \n",
       "2021-08-22 20:00:00             0.051684  0.307177  \n",
       "2021-08-23 00:00:00             0.062919  2.205170  \n",
       "2021-08-23 04:00:00             0.066921 -0.017180  \n",
       "\n",
       "[20809 rows x 7 columns]"
      ]
     },
     "execution_count": 21,
     "metadata": {},
     "output_type": "execute_result"
    }
   ],
   "source": [
    "selected_data"
   ]
  },
  {
   "cell_type": "markdown",
   "metadata": {
    "id": "-xCE9uVbTOat"
   },
   "source": [
    "### Temporal Train-Test Split"
   ]
  },
  {
   "cell_type": "code",
   "execution_count": 22,
   "metadata": {
    "executionInfo": {
     "elapsed": 338,
     "status": "ok",
     "timestamp": 1629967515425,
     "user": {
      "displayName": "Ivan Fernandes",
      "photoUrl": "https://lh3.googleusercontent.com/a-/AOh14GgHdj66drQjCguTVvVzCd5yy8cdMluPJPZlz_BQLg=s64",
      "userId": "12100132160237129013"
     },
     "user_tz": -120
    },
    "id": "ywO60BptTOat"
   },
   "outputs": [],
   "source": [
    "train_percentage = 95"
   ]
  },
  {
   "cell_type": "code",
   "execution_count": 23,
   "metadata": {
    "colab": {
     "base_uri": "https://localhost:8080/"
    },
    "executionInfo": {
     "elapsed": 6,
     "status": "ok",
     "timestamp": 1629967587167,
     "user": {
      "displayName": "Ivan Fernandes",
      "photoUrl": "https://lh3.googleusercontent.com/a-/AOh14GgHdj66drQjCguTVvVzCd5yy8cdMluPJPZlz_BQLg=s64",
      "userId": "12100132160237129013"
     },
     "user_tz": -120
    },
    "id": "7WYQ6ez0TOat",
    "outputId": "37e64416-2715-4b67-fb97-87579856daf4"
   },
   "outputs": [
    {
     "data": {
      "text/plain": [
       "19768"
      ]
     },
     "execution_count": 23,
     "metadata": {},
     "output_type": "execute_result"
    }
   ],
   "source": [
    "train_len = int(len(selected_data) * train_percentage/100)\n",
    "train_len"
   ]
  },
  {
   "cell_type": "code",
   "execution_count": 24,
   "metadata": {
    "executionInfo": {
     "elapsed": 381,
     "status": "ok",
     "timestamp": 1629967641312,
     "user": {
      "displayName": "Ivan Fernandes",
      "photoUrl": "https://lh3.googleusercontent.com/a-/AOh14GgHdj66drQjCguTVvVzCd5yy8cdMluPJPZlz_BQLg=s64",
      "userId": "12100132160237129013"
     },
     "user_tz": -120
    },
    "id": "du_UX6DFTOau"
   },
   "outputs": [],
   "source": [
    "data_train = selected_data[:train_len]\n",
    "data_test = selected_data[train_len:]\n"
   ]
  },
  {
   "cell_type": "markdown",
   "metadata": {
    "id": "PO0NJSeTTOau"
   },
   "source": [
    "## LSTM"
   ]
  },
  {
   "cell_type": "code",
   "execution_count": 25,
   "metadata": {
    "executionInfo": {
     "elapsed": 391,
     "status": "ok",
     "timestamp": 1629967656804,
     "user": {
      "displayName": "Ivan Fernandes",
      "photoUrl": "https://lh3.googleusercontent.com/a-/AOh14GgHdj66drQjCguTVvVzCd5yy8cdMluPJPZlz_BQLg=s64",
      "userId": "12100132160237129013"
     },
     "user_tz": -120
    },
    "id": "LsSFTVehTOau"
   },
   "outputs": [],
   "source": [
    "from sklearn.preprocessing import MinMaxScaler\n",
    "\n",
    "minmax_scaler = MinMaxScaler(feature_range = (0,1))\n",
    "\n",
    "minmax_scaler.fit(data_train)\n",
    "\n",
    "data_train_scaled = minmax_scaler.transform(data_train)\n",
    "data_test_scaled = minmax_scaler.transform(data_test)"
   ]
  },
  {
   "cell_type": "code",
   "execution_count": 26,
   "metadata": {
    "colab": {
     "base_uri": "https://localhost:8080/"
    },
    "executionInfo": {
     "elapsed": 3,
     "status": "ok",
     "timestamp": 1629967657307,
     "user": {
      "displayName": "Ivan Fernandes",
      "photoUrl": "https://lh3.googleusercontent.com/a-/AOh14GgHdj66drQjCguTVvVzCd5yy8cdMluPJPZlz_BQLg=s64",
      "userId": "12100132160237129013"
     },
     "user_tz": -120
    },
    "id": "vCCSU71kTOau",
    "outputId": "55400905-ef27-434f-fcf3-cebc738f1d51"
   },
   "outputs": [
    {
     "data": {
      "text/plain": [
       "array([1.09649734e+01, 2.80370456e-01, 3.02535841e-01, 4.96422226e-01,\n",
       "       9.71120572e+01, 8.61549292e-01, 7.55817958e+02])"
      ]
     },
     "execution_count": 26,
     "metadata": {},
     "output_type": "execute_result"
    }
   ],
   "source": [
    "minmax_scaler.data_max_"
   ]
  },
  {
   "cell_type": "code",
   "execution_count": 27,
   "metadata": {
    "colab": {
     "base_uri": "https://localhost:8080/"
    },
    "executionInfo": {
     "elapsed": 4,
     "status": "ok",
     "timestamp": 1629967659501,
     "user": {
      "displayName": "Ivan Fernandes",
      "photoUrl": "https://lh3.googleusercontent.com/a-/AOh14GgHdj66drQjCguTVvVzCd5yy8cdMluPJPZlz_BQLg=s64",
      "userId": "12100132160237129013"
     },
     "user_tz": -120
    },
    "id": "7u5vQbfPTOav",
    "outputId": "4eea426d-b00e-4953-e15f-c41f79618ee7"
   },
   "outputs": [
    {
     "data": {
      "text/plain": [
       "array([ 1.44133982, -0.36052731, -0.88516939, -0.84059691,  4.35903634,\n",
       "       -0.3635051 , -0.99990566])"
      ]
     },
     "execution_count": 27,
     "metadata": {},
     "output_type": "execute_result"
    }
   ],
   "source": [
    "minmax_scaler.data_min_"
   ]
  },
  {
   "cell_type": "code",
   "execution_count": 28,
   "metadata": {},
   "outputs": [
    {
     "data": {
      "text/plain": [
       "1.4413398207497814"
      ]
     },
     "execution_count": 28,
     "metadata": {},
     "output_type": "execute_result"
    }
   ],
   "source": [
    "min1 = minmax_scaler.data_min_[0]\n",
    "min1"
   ]
  },
  {
   "cell_type": "code",
   "execution_count": 29,
   "metadata": {},
   "outputs": [
    {
     "data": {
      "text/plain": [
       "9.523633584330872"
      ]
     },
     "execution_count": 29,
     "metadata": {},
     "output_type": "execute_result"
    }
   ],
   "source": [
    "range1 = minmax_scaler.data_range_[0]\n",
    "range1"
   ]
  },
  {
   "cell_type": "code",
   "execution_count": 30,
   "metadata": {},
   "outputs": [
    {
     "data": {
      "text/plain": [
       "array([[5.50601775e-02, 6.44575757e-01, 8.29288971e-01, ...,\n",
       "        6.92198023e-01, 4.53297019e-01, 2.18896790e-03],\n",
       "       [5.33914327e-02, 5.39224849e-01, 8.08924471e-01, ...,\n",
       "        6.64257058e-01, 4.19610456e-01, 5.34070036e-04],\n",
       "       [5.60223379e-02, 6.00788897e-01, 8.21671792e-01, ...,\n",
       "        6.86382468e-01, 4.31786252e-01, 1.34748629e-03],\n",
       "       ...,\n",
       "       [9.82403464e-01, 5.61086005e-01, 7.68737658e-01, ...,\n",
       "        5.65669278e-01, 3.90835488e-01, 1.15337745e-03],\n",
       "       [9.82609651e-01, 5.65602047e-01, 7.67999166e-01, ...,\n",
       "        5.70521820e-01, 3.93306582e-01, 1.50196765e-03],\n",
       "       [9.80733974e-01, 5.34964226e-01, 7.52227402e-01, ...,\n",
       "        5.13297898e-01, 3.78372384e-01, 2.26491271e-03]])"
      ]
     },
     "execution_count": 30,
     "metadata": {},
     "output_type": "execute_result"
    }
   ],
   "source": [
    "data_train_scaled[:]"
   ]
  },
  {
   "cell_type": "markdown",
   "metadata": {
    "id": "gMim3w6qTOaw"
   },
   "source": [
    "### Creating subsequences..."
   ]
  },
  {
   "cell_type": "code",
   "execution_count": 31,
   "metadata": {
    "executionInfo": {
     "elapsed": 4,
     "status": "ok",
     "timestamp": 1629967702188,
     "user": {
      "displayName": "Ivan Fernandes",
      "photoUrl": "https://lh3.googleusercontent.com/a-/AOh14GgHdj66drQjCguTVvVzCd5yy8cdMluPJPZlz_BQLg=s64",
      "userId": "12100132160237129013"
     },
     "user_tz": -120
    },
    "id": "uLSYeXScTOaz"
   },
   "outputs": [],
   "source": [
    "window_size = 18 # test with small window size\n",
    "horizon = 3 #number of predictions into the future :) \n",
    "data_train_subsequences = []\n",
    "fake_y_train = []\n",
    "for k in range(len(data_train_scaled)-(window_size-1)-horizon):\n",
    "    data_train_subsequences.append(data_train_scaled[k:k+window_size])\n",
    "    fake_y_train.append(data_train_scaled[k+window_size:k+window_size+horizon]) #add [0] for log_price to be predicted"
   ]
  },
  {
   "cell_type": "code",
   "execution_count": 32,
   "metadata": {},
   "outputs": [
    {
     "data": {
      "text/plain": [
       "(19748, 3, 7)"
      ]
     },
     "execution_count": 32,
     "metadata": {},
     "output_type": "execute_result"
    }
   ],
   "source": [
    "np.array(fake_y_train).shape"
   ]
  },
  {
   "cell_type": "code",
   "execution_count": 33,
   "metadata": {},
   "outputs": [],
   "source": [
    "X_train = np.array(data_train_subsequences)\n",
    "y_train = np.array(fake_y_train)[:,:,0] #.reshape(-1,1)"
   ]
  },
  {
   "cell_type": "code",
   "execution_count": 34,
   "metadata": {},
   "outputs": [
    {
     "data": {
      "text/plain": [
       "(19748, 18, 7)"
      ]
     },
     "execution_count": 34,
     "metadata": {},
     "output_type": "execute_result"
    }
   ],
   "source": [
    "X_train.shape"
   ]
  },
  {
   "cell_type": "code",
   "execution_count": 35,
   "metadata": {},
   "outputs": [
    {
     "data": {
      "text/plain": [
       "(19748, 3)"
      ]
     },
     "execution_count": 35,
     "metadata": {},
     "output_type": "execute_result"
    }
   ],
   "source": [
    "y_train.shape"
   ]
  },
  {
   "cell_type": "code",
   "execution_count": 36,
   "metadata": {},
   "outputs": [],
   "source": [
    "#with the same window_size & horizon as the train data\n",
    "data_test_subsequences = []\n",
    "fake_y_test = []\n",
    "for k in range(len(data_test_scaled)-(window_size-1)-horizon):\n",
    "    data_test_subsequences.append(data_test_scaled[k:k+window_size])\n",
    "    fake_y_test.append(data_test_scaled[k+window_size:k+window_size+horizon])"
   ]
  },
  {
   "cell_type": "code",
   "execution_count": 37,
   "metadata": {},
   "outputs": [],
   "source": [
    "X_test = np.array(data_test_subsequences)\n",
    "y_test = np.array(fake_y_test)[:,:,0] #.reshape(-1,1)"
   ]
  },
  {
   "cell_type": "code",
   "execution_count": 38,
   "metadata": {},
   "outputs": [
    {
     "data": {
      "text/plain": [
       "(1021, 18, 7)"
      ]
     },
     "execution_count": 38,
     "metadata": {},
     "output_type": "execute_result"
    }
   ],
   "source": [
    "X_test.shape"
   ]
  },
  {
   "cell_type": "code",
   "execution_count": 39,
   "metadata": {},
   "outputs": [
    {
     "data": {
      "text/plain": [
       "(1021, 3)"
      ]
     },
     "execution_count": 39,
     "metadata": {},
     "output_type": "execute_result"
    }
   ],
   "source": [
    "y_test.shape"
   ]
  },
  {
   "cell_type": "markdown",
   "metadata": {
    "id": "KU7fCgwYTOa2"
   },
   "source": [
    "### LSTM"
   ]
  },
  {
   "cell_type": "markdown",
   "metadata": {
    "id": "4VXmMApdTOa3"
   },
   "source": [
    "#### RNN Architecture"
   ]
  },
  {
   "cell_type": "code",
   "execution_count": 40,
   "metadata": {
    "colab": {
     "base_uri": "https://localhost:8080/"
    },
    "executionInfo": {
     "elapsed": 2,
     "status": "ok",
     "timestamp": 1629968945439,
     "user": {
      "displayName": "Ivan Fernandes",
      "photoUrl": "https://lh3.googleusercontent.com/a-/AOh14GgHdj66drQjCguTVvVzCd5yy8cdMluPJPZlz_BQLg=s64",
      "userId": "12100132160237129013"
     },
     "user_tz": -120
    },
    "id": "cPGw4CxharJx",
    "outputId": "eff5edb9-92ef-4a1c-d0f7-34e50a8596ce"
   },
   "outputs": [
    {
     "data": {
      "text/plain": [
       "(1021, 3)"
      ]
     },
     "execution_count": 40,
     "metadata": {},
     "output_type": "execute_result"
    }
   ],
   "source": [
    "pd.DataFrame(y_test).shape"
   ]
  },
  {
   "cell_type": "code",
   "execution_count": 41,
   "metadata": {
    "executionInfo": {
     "elapsed": 1,
     "status": "ok",
     "timestamp": 1629968945884,
     "user": {
      "displayName": "Ivan Fernandes",
      "photoUrl": "https://lh3.googleusercontent.com/a-/AOh14GgHdj66drQjCguTVvVzCd5yy8cdMluPJPZlz_BQLg=s64",
      "userId": "12100132160237129013"
     },
     "user_tz": -120
    },
    "id": "ZPwe_lkATOa3"
   },
   "outputs": [
    {
     "name": "stderr",
     "output_type": "stream",
     "text": [
      "2021-08-30 09:56:48.509397: W tensorflow/stream_executor/platform/default/dso_loader.cc:64] Could not load dynamic library 'libcudart.so.11.0'; dlerror: libcudart.so.11.0: cannot open shared object file: No such file or directory\n",
      "2021-08-30 09:56:48.509456: I tensorflow/stream_executor/cuda/cudart_stub.cc:29] Ignore above cudart dlerror if you do not have a GPU set up on your machine.\n",
      "2021-08-30 09:56:49.860525: W tensorflow/stream_executor/platform/default/dso_loader.cc:64] Could not load dynamic library 'libcuda.so.1'; dlerror: libcuda.so.1: cannot open shared object file: No such file or directory\n",
      "2021-08-30 09:56:49.860582: W tensorflow/stream_executor/cuda/cuda_driver.cc:269] failed call to cuInit: UNKNOWN ERROR (303)\n",
      "2021-08-30 09:56:49.860596: I tensorflow/stream_executor/cuda/cuda_diagnostics.cc:156] kernel driver does not appear to be running on this host (LAPTOP-33CGF2OU): /proc/driver/nvidia/version does not exist\n",
      "2021-08-30 09:56:49.860824: I tensorflow/core/platform/cpu_feature_guard.cc:142] This TensorFlow binary is optimized with oneAPI Deep Neural Network Library (oneDNN) to use the following CPU instructions in performance-critical operations:  AVX2 AVX512F FMA\n",
      "To enable them in other operations, rebuild TensorFlow with the appropriate compiler flags.\n"
     ]
    }
   ],
   "source": [
    "from tensorflow.keras import metrics\n",
    "\n",
    "my_mae = metrics.MeanAbsoluteError(\n",
    "    name='mean_absolute_error', dtype=None\n",
    ")\n"
   ]
  },
  {
   "cell_type": "code",
   "execution_count": 42,
   "metadata": {
    "colab": {
     "base_uri": "https://localhost:8080/"
    },
    "executionInfo": {
     "elapsed": 1953,
     "status": "ok",
     "timestamp": 1629968948177,
     "user": {
      "displayName": "Ivan Fernandes",
      "photoUrl": "https://lh3.googleusercontent.com/a-/AOh14GgHdj66drQjCguTVvVzCd5yy8cdMluPJPZlz_BQLg=s64",
      "userId": "12100132160237129013"
     },
     "user_tz": -120
    },
    "id": "GkEjh2ngTOa4",
    "outputId": "934eff05-c3ac-4046-984c-0401bd0b2484"
   },
   "outputs": [],
   "source": [
    "from tensorflow.keras import Sequential, layers\n",
    "\n",
    "# Build the LSTM model\n",
    "model = Sequential()\n",
    "\n",
    "model.add(layers.LSTM(units=128,\n",
    "                     return_sequences = True,\n",
    "                     activation = \"tanh\"\n",
    "                    #activation = \"relu\"\n",
    "                     #input_shape = X_train[0].shape)\n",
    "                     ))\n",
    "\n",
    "model.add(layers.LSTM(units=64,\n",
    "                      return_sequences = False,\n",
    "                      activation = \"relu\"  \n",
    "                    #activation = \"relu\"\n",
    "                     ))\n",
    "\n",
    "# model.add(layers.Dense(25,\n",
    "#                          activation=\"relu\"))\n",
    "model.add(layers.Dense(32,\n",
    "                        activation = \"tanh\" \n",
    "                       #activation=\"relu\"\n",
    "                      ))\n",
    "#model.add(layers.Dense(16,activation=\"relu\"))\n",
    "model.add(layers.Dense(8,\n",
    "                       activation = \"relu\"\n",
    "                       #activation=\"relu\"\n",
    "                      ))\n",
    "model.add(layers.Dense(3,\n",
    "                      activation = \"relu\" \n",
    "                      #activation=\"relu\"\n",
    "                      ))\n",
    "\n",
    "#model.summary()\n",
    "\n"
   ]
  },
  {
   "cell_type": "code",
   "execution_count": 43,
   "metadata": {
    "executionInfo": {
     "elapsed": 340,
     "status": "ok",
     "timestamp": 1629968954711,
     "user": {
      "displayName": "Ivan Fernandes",
      "photoUrl": "https://lh3.googleusercontent.com/a-/AOh14GgHdj66drQjCguTVvVzCd5yy8cdMluPJPZlz_BQLg=s64",
      "userId": "12100132160237129013"
     },
     "user_tz": -120
    },
    "id": "igW2CAISTOa5"
   },
   "outputs": [],
   "source": [
    "model.compile(loss=\"mse\",\n",
    "             optimizer = \"adam\",#rmsprop\n",
    "             metrics = \"mae\"#[my_mae]\n",
    "             )"
   ]
  },
  {
   "cell_type": "markdown",
   "metadata": {
    "id": "0JoMEFYdTOa5"
   },
   "source": [
    "#### Training"
   ]
  },
  {
   "cell_type": "code",
   "execution_count": 44,
   "metadata": {
    "executionInfo": {
     "elapsed": 357,
     "status": "ok",
     "timestamp": 1629968962645,
     "user": {
      "displayName": "Ivan Fernandes",
      "photoUrl": "https://lh3.googleusercontent.com/a-/AOh14GgHdj66drQjCguTVvVzCd5yy8cdMluPJPZlz_BQLg=s64",
      "userId": "12100132160237129013"
     },
     "user_tz": -120
    },
    "id": "u8mqJaUWarJy"
   },
   "outputs": [],
   "source": [
    "#### perhaps create a validation and train sets by hand"
   ]
  },
  {
   "cell_type": "code",
   "execution_count": 45,
   "metadata": {
    "colab": {
     "base_uri": "https://localhost:8080/"
    },
    "executionInfo": {
     "elapsed": 89008,
     "status": "ok",
     "timestamp": 1629969056811,
     "user": {
      "displayName": "Ivan Fernandes",
      "photoUrl": "https://lh3.googleusercontent.com/a-/AOh14GgHdj66drQjCguTVvVzCd5yy8cdMluPJPZlz_BQLg=s64",
      "userId": "12100132160237129013"
     },
     "user_tz": -120
    },
    "id": "x8WmFMDoTOa6",
    "outputId": "c4129e5e-d680-4199-e200-ed02360e4cc6"
   },
   "outputs": [
    {
     "name": "stderr",
     "output_type": "stream",
     "text": [
      "2021-08-30 09:56:50.006585: I tensorflow/compiler/mlir/mlir_graph_optimization_pass.cc:185] None of the MLIR Optimization Passes are enabled (registered 2)\n"
     ]
    },
    {
     "name": "stdout",
     "output_type": "stream",
     "text": [
      "Epoch 1/15\n",
      "864/864 [==============================] - 19s 20ms/step - loss: 0.0383 - mae: 0.0771 - val_loss: 5.1742e-05 - val_mae: 0.0043\n",
      "Epoch 2/15\n",
      "864/864 [==============================] - 17s 20ms/step - loss: 3.9154e-05 - mae: 0.0045 - val_loss: 1.3323e-04 - val_mae: 0.0099\n",
      "Epoch 3/15\n",
      "864/864 [==============================] - 19s 22ms/step - loss: 3.9851e-05 - mae: 0.0048 - val_loss: 2.9684e-05 - val_mae: 0.0043\n",
      "Epoch 4/15\n",
      "864/864 [==============================] - 17s 20ms/step - loss: 5.0248e-05 - mae: 0.0053 - val_loss: 9.6696e-05 - val_mae: 0.0081\n",
      "Epoch 5/15\n",
      "864/864 [==============================] - 19s 22ms/step - loss: 5.4237e-05 - mae: 0.0054 - val_loss: 1.8443e-05 - val_mae: 0.0031\n",
      "Epoch 6/15\n",
      "864/864 [==============================] - 19s 22ms/step - loss: 3.8665e-05 - mae: 0.0045 - val_loss: 2.4671e-05 - val_mae: 0.0038\n",
      "Epoch 7/15\n",
      "864/864 [==============================] - 20s 23ms/step - loss: 4.3013e-05 - mae: 0.0049 - val_loss: 2.1690e-05 - val_mae: 0.0033\n",
      "Epoch 8/15\n",
      "864/864 [==============================] - 19s 22ms/step - loss: 3.6385e-05 - mae: 0.0044 - val_loss: 1.1982e-05 - val_mae: 0.0025\n",
      "Epoch 9/15\n",
      "864/864 [==============================] - 19s 22ms/step - loss: 3.0296e-05 - mae: 0.0040 - val_loss: 2.1755e-05 - val_mae: 0.0035\n",
      "Epoch 10/15\n",
      "864/864 [==============================] - 19s 22ms/step - loss: 3.7697e-05 - mae: 0.0045 - val_loss: 9.5934e-05 - val_mae: 0.0093\n",
      "Epoch 11/15\n",
      "864/864 [==============================] - 18s 21ms/step - loss: 2.9097e-05 - mae: 0.0039 - val_loss: 2.0873e-04 - val_mae: 0.0140\n",
      "Epoch 12/15\n",
      "864/864 [==============================] - 18s 20ms/step - loss: 3.3530e-05 - mae: 0.0043 - val_loss: 9.0883e-06 - val_mae: 0.0020\n",
      "Epoch 13/15\n",
      "864/864 [==============================] - 18s 21ms/step - loss: 2.0282e-05 - mae: 0.0032 - val_loss: 8.4577e-06 - val_mae: 0.0019\n",
      "Epoch 14/15\n",
      "864/864 [==============================] - 19s 22ms/step - loss: 3.0490e-05 - mae: 0.0041 - val_loss: 1.0183e-05 - val_mae: 0.0023\n",
      "Epoch 15/15\n",
      "864/864 [==============================] - 20s 23ms/step - loss: 2.5741e-05 - mae: 0.0037 - val_loss: 2.4063e-05 - val_mae: 0.0043\n"
     ]
    }
   ],
   "source": [
    "from tensorflow.keras.callbacks import EarlyStopping \n",
    "\n",
    "es = EarlyStopping(patience = 5, \n",
    "                   restore_best_weights= True\n",
    "                   #monitor = \"val_mean_absolute_error\"\n",
    "                  )\n",
    "\n",
    "history = model.fit(X_train, y_train,\n",
    "          validation_split = 0.3,\n",
    "         batch_size=16,\n",
    "         epochs=15,\n",
    "         verbose = 1,\n",
    "         callbacks = [es]\n",
    "                   )"
   ]
  },
  {
   "cell_type": "code",
   "execution_count": 46,
   "metadata": {
    "executionInfo": {
     "elapsed": 618,
     "status": "ok",
     "timestamp": 1629971280020,
     "user": {
      "displayName": "Ivan Fernandes",
      "photoUrl": "https://lh3.googleusercontent.com/a-/AOh14GgHdj66drQjCguTVvVzCd5yy8cdMluPJPZlz_BQLg=s64",
      "userId": "12100132160237129013"
     },
     "user_tz": -120
    },
    "id": "6BnpySGUL453"
   },
   "outputs": [],
   "source": [
    "def plot_loss_mae(history):\n",
    "    \n",
    "    fig, ax =plt.subplots(1,2,figsize=(20,5))\n",
    "    \n",
    "    # --- LOSS\n",
    "    \n",
    "    ax[0].plot(history.history['loss'])\n",
    "    ax[0].plot(history.history['val_loss'])\n",
    "    ax[0].set_title('Model loss')\n",
    "    ax[0].set_xlabel('Epoch')\n",
    "    ax[0].set_ylabel('Loss')\n",
    "    ax[0].legend(['Train', 'Val'], loc='upper right')\n",
    "    ax[0].grid(axis=\"x\",linewidth=0.5)\n",
    "    ax[0].grid(axis=\"y\",linewidth=0.5)\n",
    "    \n",
    "#     # --- MAE\n",
    "\n",
    "#     ax[1].plot(history.history['mean_absolute_error'])\n",
    "#     ax[1].plot(history.history['val_mean_absolute_error'])\n",
    "#     ax[1].set_title('Model MAE', fontsize = 18)\n",
    "#     ax[1].set_xlabel('Epoch', fontsize = 14)\n",
    "#     ax[1].set_ylabel('Recall', fontsize = 14)\n",
    "#     ax[1].legend(['Train', 'Val'], loc='lower right') \n",
    "#     ax[1].grid(axis=\"x\",linewidth=0.5)\n",
    "#     ax[1].grid(axis=\"y\",linewidth=0.5)   \n",
    "    \n",
    "    plt.show()\n",
    "    "
   ]
  },
  {
   "cell_type": "code",
   "execution_count": 47,
   "metadata": {
    "colab": {
     "base_uri": "https://localhost:8080/",
     "height": 330
    },
    "executionInfo": {
     "elapsed": 775,
     "status": "ok",
     "timestamp": 1629971280790,
     "user": {
      "displayName": "Ivan Fernandes",
      "photoUrl": "https://lh3.googleusercontent.com/a-/AOh14GgHdj66drQjCguTVvVzCd5yy8cdMluPJPZlz_BQLg=s64",
      "userId": "12100132160237129013"
     },
     "user_tz": -120
    },
    "id": "CYBdZyrzL454",
    "outputId": "be857210-3dbb-4216-8037-6adedfac0875"
   },
   "outputs": [
    {
     "data": {
      "image/png": "[encoded data removed]",
      "text/plain": [
       "<Figure size 1440x360 with 2 Axes>"
      ]
     },
     "metadata": {},
     "output_type": "display_data"
    }
   ],
   "source": [
    "plot_loss_mae(history)"
   ]
  },
  {
   "cell_type": "markdown",
   "metadata": {
    "id": "dPlbdR24TOa7"
   },
   "source": [
    "#### Evaluating"
   ]
  },
  {
   "cell_type": "code",
   "execution_count": 48,
   "metadata": {
    "colab": {
     "base_uri": "https://localhost:8080/",
     "height": 370
    },
    "executionInfo": {
     "elapsed": 346,
     "status": "error",
     "timestamp": 1629971289974,
     "user": {
      "displayName": "Ivan Fernandes",
      "photoUrl": "https://lh3.googleusercontent.com/a-/AOh14GgHdj66drQjCguTVvVzCd5yy8cdMluPJPZlz_BQLg=s64",
      "userId": "12100132160237129013"
     },
     "user_tz": -120
    },
    "id": "fGR98XHrTOa7",
    "outputId": "eae3ab01-8077-4116-c16d-93c6c971a35d"
   },
   "outputs": [
    {
     "name": "stdout",
     "output_type": "stream",
     "text": [
      "32/32 [==============================] - 0s 8ms/step - loss: 1.0954e-04 - mae: 0.0100\n"
     ]
    },
    {
     "data": {
      "text/plain": [
       "[0.00010953597666230053, 0.010040167719125748]"
      ]
     },
     "execution_count": 48,
     "metadata": {},
     "output_type": "execute_result"
    }
   ],
   "source": [
    "res = model.evaluate(X_test, np.array(y_test), verbose = 1)\n",
    "res\n"
   ]
  },
  {
   "cell_type": "markdown",
   "metadata": {
    "id": "o3S6CvgCTOa8"
   },
   "source": [
    "#### Predictions"
   ]
  },
  {
   "cell_type": "code",
   "execution_count": 49,
   "metadata": {
    "executionInfo": {
     "elapsed": 3825,
     "status": "ok",
     "timestamp": 1629969068317,
     "user": {
      "displayName": "Ivan Fernandes",
      "photoUrl": "https://lh3.googleusercontent.com/a-/AOh14GgHdj66drQjCguTVvVzCd5yy8cdMluPJPZlz_BQLg=s64",
      "userId": "12100132160237129013"
     },
     "user_tz": -120
    },
    "id": "_a1LDha2TOa9"
   },
   "outputs": [],
   "source": [
    "predictions = model.predict(X_test)\n"
   ]
  },
  {
   "cell_type": "code",
   "execution_count": 50,
   "metadata": {
    "colab": {
     "base_uri": "https://localhost:8080/"
    },
    "executionInfo": {
     "elapsed": 14,
     "status": "ok",
     "timestamp": 1629969068318,
     "user": {
      "displayName": "Ivan Fernandes",
      "photoUrl": "https://lh3.googleusercontent.com/a-/AOh14GgHdj66drQjCguTVvVzCd5yy8cdMluPJPZlz_BQLg=s64",
      "userId": "12100132160237129013"
     },
     "user_tz": -120
    },
    "id": "abi96XmrTOa-",
    "outputId": "d96a92dc-04ec-4680-b3a2-ed4c39f13817"
   },
   "outputs": [
    {
     "data": {
      "text/plain": [
       "(1021, 1021)"
      ]
     },
     "execution_count": 50,
     "metadata": {},
     "output_type": "execute_result"
    }
   ],
   "source": [
    "len(predictions), len(y_test)"
   ]
  },
  {
   "cell_type": "code",
   "execution_count": 51,
   "metadata": {
    "colab": {
     "base_uri": "https://localhost:8080/"
    },
    "executionInfo": {
     "elapsed": 11,
     "status": "ok",
     "timestamp": 1629969068318,
     "user": {
      "displayName": "Ivan Fernandes",
      "photoUrl": "https://lh3.googleusercontent.com/a-/AOh14GgHdj66drQjCguTVvVzCd5yy8cdMluPJPZlz_BQLg=s64",
      "userId": "12100132160237129013"
     },
     "user_tz": -120
    },
    "id": "WbG_o9xrTOa-",
    "outputId": "586ea1e0-d0c1-400e-88fd-b45f46966093"
   },
   "outputs": [
    {
     "data": {
      "text/plain": [
       "array([[0.9697131 , 0.97125375, 0.97035676],\n",
       "       [0.97290266, 0.9745711 , 0.9735179 ],\n",
       "       [0.9708434 , 0.9725297 , 0.9716491 ]], dtype=float32)"
      ]
     },
     "execution_count": 51,
     "metadata": {},
     "output_type": "execute_result"
    }
   ],
   "source": [
    "predictions[0:3]"
   ]
  },
  {
   "cell_type": "code",
   "execution_count": 52,
   "metadata": {},
   "outputs": [],
   "source": [
    "y_test_unscaled = y_test * range1 + min1"
   ]
  },
  {
   "cell_type": "code",
   "execution_count": 53,
   "metadata": {},
   "outputs": [],
   "source": [
    "predictions_unscaled = predictions * range1 + min1"
   ]
  },
  {
   "cell_type": "code",
   "execution_count": 54,
   "metadata": {},
   "outputs": [
    {
     "data": {
      "text/plain": [
       "array([[10.676532, 10.691205, 10.682662],\n",
       "       [10.706908, 10.722798, 10.712768],\n",
       "       [10.687297, 10.703357, 10.69497 ]], dtype=float32)"
      ]
     },
     "execution_count": 54,
     "metadata": {},
     "output_type": "execute_result"
    }
   ],
   "source": [
    "predictions_unscaled[0:3]"
   ]
  },
  {
   "cell_type": "markdown",
   "metadata": {
    "id": "bN_vtDyWTOa-"
   },
   "source": [
    "The operation computed during a `MinMaxScaler` Operation is:\n",
    "\n",
    "$$x_{scaled} = \\frac{x - x_{min}}{x_{max}- x_{min}}$$\n",
    "\n",
    "To descale it:\n",
    "\n",
    "$$x = x_{scaled} * (x_{max}- x_{min}) + x_{min}$$\n",
    "\n",
    "Or use the `inverse_transform` directly provided..."
   ]
  },
  {
   "cell_type": "code",
   "execution_count": 55,
   "metadata": {},
   "outputs": [
    {
     "data": {
      "text/plain": [
       "(1021, 18, 7)"
      ]
     },
     "execution_count": 55,
     "metadata": {},
     "output_type": "execute_result"
    }
   ],
   "source": [
    "X_test.shape"
   ]
  },
  {
   "cell_type": "code",
   "execution_count": 56,
   "metadata": {},
   "outputs": [
    {
     "data": {
      "text/plain": [
       "(1021, 3)"
      ]
     },
     "execution_count": 56,
     "metadata": {},
     "output_type": "execute_result"
    }
   ],
   "source": [
    "predictions.shape"
   ]
  },
  {
   "cell_type": "code",
   "execution_count": 57,
   "metadata": {},
   "outputs": [
    {
     "data": {
      "text/plain": [
       "0.09561885975319105"
      ]
     },
     "execution_count": 57,
     "metadata": {},
     "output_type": "execute_result"
    }
   ],
   "source": [
    "mae = np.mean(np.abs(y_test_unscaled - predictions_unscaled))\n",
    "mae"
   ]
  },
  {
   "cell_type": "code",
   "execution_count": 58,
   "metadata": {},
   "outputs": [
    {
     "data": {
      "text/plain": [
       "1.1003396003549664"
      ]
     },
     "execution_count": 58,
     "metadata": {},
     "output_type": "execute_result"
    }
   ],
   "source": [
    "np.exp(mae)"
   ]
  },
  {
   "cell_type": "code",
   "execution_count": 59,
   "metadata": {},
   "outputs": [
    {
     "data": {
      "text/plain": [
       "(1021, 3)"
      ]
     },
     "execution_count": 59,
     "metadata": {},
     "output_type": "execute_result"
    }
   ],
   "source": [
    "y_test.shape"
   ]
  },
  {
   "cell_type": "code",
   "execution_count": 60,
   "metadata": {},
   "outputs": [
    {
     "ename": "ValueError",
     "evalue": "Wrong number of items passed 3, placement implies 1",
     "output_type": "error",
     "traceback": [
      "\u001b[0;31m---------------------------------------------------------------------------\u001b[0m",
      "\u001b[0;31mKeyError\u001b[0m                                  Traceback (most recent call last)",
      "\u001b[0;32m~/.pyenv/versions/3.8.6/envs/crypto/lib/python3.8/site-packages/pandas/core/indexes/base.py\u001b[0m in \u001b[0;36mget_loc\u001b[0;34m(self, key, method, tolerance)\u001b[0m\n\u001b[1;32m   3360\u001b[0m             \u001b[0;32mtry\u001b[0m\u001b[0;34m:\u001b[0m\u001b[0;34m\u001b[0m\u001b[0;34m\u001b[0m\u001b[0m\n\u001b[0;32m-> 3361\u001b[0;31m                 \u001b[0;32mreturn\u001b[0m \u001b[0mself\u001b[0m\u001b[0;34m.\u001b[0m\u001b[0m_engine\u001b[0m\u001b[0;34m.\u001b[0m\u001b[0mget_loc\u001b[0m\u001b[0;34m(\u001b[0m\u001b[0mcasted_key\u001b[0m\u001b[0;34m)\u001b[0m\u001b[0;34m\u001b[0m\u001b[0;34m\u001b[0m\u001b[0m\n\u001b[0m\u001b[1;32m   3362\u001b[0m             \u001b[0;32mexcept\u001b[0m \u001b[0mKeyError\u001b[0m \u001b[0;32mas\u001b[0m \u001b[0merr\u001b[0m\u001b[0;34m:\u001b[0m\u001b[0;34m\u001b[0m\u001b[0;34m\u001b[0m\u001b[0m\n",
      "\u001b[0;32m~/.pyenv/versions/3.8.6/envs/crypto/lib/python3.8/site-packages/pandas/_libs/index.pyx\u001b[0m in \u001b[0;36mpandas._libs.index.IndexEngine.get_loc\u001b[0;34m()\u001b[0m\n",
      "\u001b[0;32m~/.pyenv/versions/3.8.6/envs/crypto/lib/python3.8/site-packages/pandas/_libs/index.pyx\u001b[0m in \u001b[0;36mpandas._libs.index.IndexEngine.get_loc\u001b[0;34m()\u001b[0m\n",
      "\u001b[0;32mpandas/_libs/hashtable_class_helper.pxi\u001b[0m in \u001b[0;36mpandas._libs.hashtable.PyObjectHashTable.get_item\u001b[0;34m()\u001b[0m\n",
      "\u001b[0;32mpandas/_libs/hashtable_class_helper.pxi\u001b[0m in \u001b[0;36mpandas._libs.hashtable.PyObjectHashTable.get_item\u001b[0;34m()\u001b[0m\n",
      "\u001b[0;31mKeyError\u001b[0m: 'y_test'",
      "\nThe above exception was the direct cause of the following exception:\n",
      "\u001b[0;31mKeyError\u001b[0m                                  Traceback (most recent call last)",
      "\u001b[0;32m~/.pyenv/versions/3.8.6/envs/crypto/lib/python3.8/site-packages/pandas/core/frame.py\u001b[0m in \u001b[0;36m_set_item_mgr\u001b[0;34m(self, key, value)\u001b[0m\n\u001b[1;32m   3745\u001b[0m         \u001b[0;32mtry\u001b[0m\u001b[0;34m:\u001b[0m\u001b[0;34m\u001b[0m\u001b[0;34m\u001b[0m\u001b[0m\n\u001b[0;32m-> 3746\u001b[0;31m             \u001b[0mloc\u001b[0m \u001b[0;34m=\u001b[0m \u001b[0mself\u001b[0m\u001b[0;34m.\u001b[0m\u001b[0m_info_axis\u001b[0m\u001b[0;34m.\u001b[0m\u001b[0mget_loc\u001b[0m\u001b[0;34m(\u001b[0m\u001b[0mkey\u001b[0m\u001b[0;34m)\u001b[0m\u001b[0;34m\u001b[0m\u001b[0;34m\u001b[0m\u001b[0m\n\u001b[0m\u001b[1;32m   3747\u001b[0m         \u001b[0;32mexcept\u001b[0m \u001b[0mKeyError\u001b[0m\u001b[0;34m:\u001b[0m\u001b[0;34m\u001b[0m\u001b[0;34m\u001b[0m\u001b[0m\n",
      "\u001b[0;32m~/.pyenv/versions/3.8.6/envs/crypto/lib/python3.8/site-packages/pandas/core/indexes/base.py\u001b[0m in \u001b[0;36mget_loc\u001b[0;34m(self, key, method, tolerance)\u001b[0m\n\u001b[1;32m   3362\u001b[0m             \u001b[0;32mexcept\u001b[0m \u001b[0mKeyError\u001b[0m \u001b[0;32mas\u001b[0m \u001b[0merr\u001b[0m\u001b[0;34m:\u001b[0m\u001b[0;34m\u001b[0m\u001b[0;34m\u001b[0m\u001b[0m\n\u001b[0;32m-> 3363\u001b[0;31m                 \u001b[0;32mraise\u001b[0m \u001b[0mKeyError\u001b[0m\u001b[0;34m(\u001b[0m\u001b[0mkey\u001b[0m\u001b[0;34m)\u001b[0m \u001b[0;32mfrom\u001b[0m \u001b[0merr\u001b[0m\u001b[0;34m\u001b[0m\u001b[0;34m\u001b[0m\u001b[0m\n\u001b[0m\u001b[1;32m   3364\u001b[0m \u001b[0;34m\u001b[0m\u001b[0m\n",
      "\u001b[0;31mKeyError\u001b[0m: 'y_test'",
      "\nDuring handling of the above exception, another exception occurred:\n",
      "\u001b[0;31mValueError\u001b[0m                                Traceback (most recent call last)",
      "\u001b[0;32m/tmp/ipykernel_5861/2014827575.py\u001b[0m in \u001b[0;36m<module>\u001b[0;34m\u001b[0m\n\u001b[1;32m      1\u001b[0m \u001b[0mdf\u001b[0m \u001b[0;34m=\u001b[0m\u001b[0mpd\u001b[0m\u001b[0;34m.\u001b[0m\u001b[0mDataFrame\u001b[0m\u001b[0;34m(\u001b[0m\u001b[0;34m)\u001b[0m\u001b[0;34m\u001b[0m\u001b[0;34m\u001b[0m\u001b[0m\n\u001b[0;32m----> 2\u001b[0;31m \u001b[0mdf\u001b[0m\u001b[0;34m[\u001b[0m\u001b[0;34m'y_test'\u001b[0m\u001b[0;34m]\u001b[0m \u001b[0;34m=\u001b[0m \u001b[0mpd\u001b[0m\u001b[0;34m.\u001b[0m\u001b[0mDataFrame\u001b[0m\u001b[0;34m(\u001b[0m\u001b[0my_test_unscaled\u001b[0m\u001b[0;34m)\u001b[0m\u001b[0;34m.\u001b[0m\u001b[0mapply\u001b[0m\u001b[0;34m(\u001b[0m\u001b[0;32mlambda\u001b[0m \u001b[0mx\u001b[0m\u001b[0;34m:\u001b[0m \u001b[0mnp\u001b[0m\u001b[0;34m.\u001b[0m\u001b[0mexp\u001b[0m\u001b[0;34m(\u001b[0m\u001b[0mx\u001b[0m\u001b[0;34m)\u001b[0m\u001b[0;34m)\u001b[0m\u001b[0;34m\u001b[0m\u001b[0;34m\u001b[0m\u001b[0m\n\u001b[0m\u001b[1;32m      3\u001b[0m \u001b[0mdf\u001b[0m\u001b[0;34m[\u001b[0m\u001b[0;34m'pred'\u001b[0m\u001b[0;34m]\u001b[0m \u001b[0;34m=\u001b[0m \u001b[0mpd\u001b[0m\u001b[0;34m.\u001b[0m\u001b[0mDataFrame\u001b[0m\u001b[0;34m(\u001b[0m\u001b[0mpredictions_unscaled\u001b[0m\u001b[0;34m)\u001b[0m\u001b[0;34m.\u001b[0m\u001b[0mapply\u001b[0m\u001b[0;34m(\u001b[0m\u001b[0;32mlambda\u001b[0m \u001b[0mx\u001b[0m\u001b[0;34m:\u001b[0m \u001b[0mnp\u001b[0m\u001b[0;34m.\u001b[0m\u001b[0mexp\u001b[0m\u001b[0;34m(\u001b[0m\u001b[0mx\u001b[0m\u001b[0;34m)\u001b[0m\u001b[0;34m)\u001b[0m\u001b[0;34m\u001b[0m\u001b[0;34m\u001b[0m\u001b[0m\n\u001b[1;32m      4\u001b[0m \u001b[0mdf\u001b[0m\u001b[0;34m[\u001b[0m\u001b[0;34m'diff'\u001b[0m\u001b[0;34m]\u001b[0m \u001b[0;34m=\u001b[0m \u001b[0mdf\u001b[0m\u001b[0;34m[\u001b[0m\u001b[0;34m'y_test'\u001b[0m\u001b[0;34m]\u001b[0m \u001b[0;34m-\u001b[0m \u001b[0mdf\u001b[0m\u001b[0;34m[\u001b[0m\u001b[0;34m'pred'\u001b[0m\u001b[0;34m]\u001b[0m\u001b[0;34m\u001b[0m\u001b[0;34m\u001b[0m\u001b[0m\n",
      "\u001b[0;32m~/.pyenv/versions/3.8.6/envs/crypto/lib/python3.8/site-packages/pandas/core/frame.py\u001b[0m in \u001b[0;36m__setitem__\u001b[0;34m(self, key, value)\u001b[0m\n\u001b[1;32m   3597\u001b[0m             \u001b[0mself\u001b[0m\u001b[0;34m.\u001b[0m\u001b[0m_setitem_array\u001b[0m\u001b[0;34m(\u001b[0m\u001b[0mkey\u001b[0m\u001b[0;34m,\u001b[0m \u001b[0mvalue\u001b[0m\u001b[0;34m)\u001b[0m\u001b[0;34m\u001b[0m\u001b[0;34m\u001b[0m\u001b[0m\n\u001b[1;32m   3598\u001b[0m         \u001b[0;32melif\u001b[0m \u001b[0misinstance\u001b[0m\u001b[0;34m(\u001b[0m\u001b[0mvalue\u001b[0m\u001b[0;34m,\u001b[0m \u001b[0mDataFrame\u001b[0m\u001b[0;34m)\u001b[0m\u001b[0;34m:\u001b[0m\u001b[0;34m\u001b[0m\u001b[0;34m\u001b[0m\u001b[0m\n\u001b[0;32m-> 3599\u001b[0;31m             \u001b[0mself\u001b[0m\u001b[0;34m.\u001b[0m\u001b[0m_set_item_frame_value\u001b[0m\u001b[0;34m(\u001b[0m\u001b[0mkey\u001b[0m\u001b[0;34m,\u001b[0m \u001b[0mvalue\u001b[0m\u001b[0;34m)\u001b[0m\u001b[0;34m\u001b[0m\u001b[0;34m\u001b[0m\u001b[0m\n\u001b[0m\u001b[1;32m   3600\u001b[0m         elif is_list_like(value) and 1 < len(\n\u001b[1;32m   3601\u001b[0m             \u001b[0mself\u001b[0m\u001b[0;34m.\u001b[0m\u001b[0mcolumns\u001b[0m\u001b[0;34m.\u001b[0m\u001b[0mget_indexer_for\u001b[0m\u001b[0;34m(\u001b[0m\u001b[0;34m[\u001b[0m\u001b[0mkey\u001b[0m\u001b[0;34m]\u001b[0m\u001b[0;34m)\u001b[0m\u001b[0;34m\u001b[0m\u001b[0;34m\u001b[0m\u001b[0m\n",
      "\u001b[0;32m~/.pyenv/versions/3.8.6/envs/crypto/lib/python3.8/site-packages/pandas/core/frame.py\u001b[0m in \u001b[0;36m_set_item_frame_value\u001b[0;34m(self, key, value)\u001b[0m\n\u001b[1;32m   3735\u001b[0m         \u001b[0;31m# now align rows\u001b[0m\u001b[0;34m\u001b[0m\u001b[0;34m\u001b[0m\u001b[0;34m\u001b[0m\u001b[0m\n\u001b[1;32m   3736\u001b[0m         \u001b[0marraylike\u001b[0m \u001b[0;34m=\u001b[0m \u001b[0m_reindex_for_setitem\u001b[0m\u001b[0;34m(\u001b[0m\u001b[0mvalue\u001b[0m\u001b[0;34m,\u001b[0m \u001b[0mself\u001b[0m\u001b[0;34m.\u001b[0m\u001b[0mindex\u001b[0m\u001b[0;34m)\u001b[0m\u001b[0;34m\u001b[0m\u001b[0;34m\u001b[0m\u001b[0m\n\u001b[0;32m-> 3737\u001b[0;31m         \u001b[0mself\u001b[0m\u001b[0;34m.\u001b[0m\u001b[0m_set_item_mgr\u001b[0m\u001b[0;34m(\u001b[0m\u001b[0mkey\u001b[0m\u001b[0;34m,\u001b[0m \u001b[0marraylike\u001b[0m\u001b[0;34m)\u001b[0m\u001b[0;34m\u001b[0m\u001b[0;34m\u001b[0m\u001b[0m\n\u001b[0m\u001b[1;32m   3738\u001b[0m \u001b[0;34m\u001b[0m\u001b[0m\n\u001b[1;32m   3739\u001b[0m     \u001b[0;32mdef\u001b[0m \u001b[0m_iset_item_mgr\u001b[0m\u001b[0;34m(\u001b[0m\u001b[0mself\u001b[0m\u001b[0;34m,\u001b[0m \u001b[0mloc\u001b[0m\u001b[0;34m:\u001b[0m \u001b[0mint\u001b[0m \u001b[0;34m|\u001b[0m \u001b[0mslice\u001b[0m \u001b[0;34m|\u001b[0m \u001b[0mnp\u001b[0m\u001b[0;34m.\u001b[0m\u001b[0mndarray\u001b[0m\u001b[0;34m,\u001b[0m \u001b[0mvalue\u001b[0m\u001b[0;34m)\u001b[0m \u001b[0;34m->\u001b[0m \u001b[0;32mNone\u001b[0m\u001b[0;34m:\u001b[0m\u001b[0;34m\u001b[0m\u001b[0;34m\u001b[0m\u001b[0m\n",
      "\u001b[0;32m~/.pyenv/versions/3.8.6/envs/crypto/lib/python3.8/site-packages/pandas/core/frame.py\u001b[0m in \u001b[0;36m_set_item_mgr\u001b[0;34m(self, key, value)\u001b[0m\n\u001b[1;32m   3747\u001b[0m         \u001b[0;32mexcept\u001b[0m \u001b[0mKeyError\u001b[0m\u001b[0;34m:\u001b[0m\u001b[0;34m\u001b[0m\u001b[0;34m\u001b[0m\u001b[0m\n\u001b[1;32m   3748\u001b[0m             \u001b[0;31m# This item wasn't present, just insert at end\u001b[0m\u001b[0;34m\u001b[0m\u001b[0;34m\u001b[0m\u001b[0;34m\u001b[0m\u001b[0m\n\u001b[0;32m-> 3749\u001b[0;31m             \u001b[0mself\u001b[0m\u001b[0;34m.\u001b[0m\u001b[0m_mgr\u001b[0m\u001b[0;34m.\u001b[0m\u001b[0minsert\u001b[0m\u001b[0;34m(\u001b[0m\u001b[0mlen\u001b[0m\u001b[0;34m(\u001b[0m\u001b[0mself\u001b[0m\u001b[0;34m.\u001b[0m\u001b[0m_info_axis\u001b[0m\u001b[0;34m)\u001b[0m\u001b[0;34m,\u001b[0m \u001b[0mkey\u001b[0m\u001b[0;34m,\u001b[0m \u001b[0mvalue\u001b[0m\u001b[0;34m)\u001b[0m\u001b[0;34m\u001b[0m\u001b[0;34m\u001b[0m\u001b[0m\n\u001b[0m\u001b[1;32m   3750\u001b[0m         \u001b[0;32melse\u001b[0m\u001b[0;34m:\u001b[0m\u001b[0;34m\u001b[0m\u001b[0;34m\u001b[0m\u001b[0m\n\u001b[1;32m   3751\u001b[0m             \u001b[0mself\u001b[0m\u001b[0;34m.\u001b[0m\u001b[0m_iset_item_mgr\u001b[0m\u001b[0;34m(\u001b[0m\u001b[0mloc\u001b[0m\u001b[0;34m,\u001b[0m \u001b[0mvalue\u001b[0m\u001b[0;34m)\u001b[0m\u001b[0;34m\u001b[0m\u001b[0;34m\u001b[0m\u001b[0m\n",
      "\u001b[0;32m~/.pyenv/versions/3.8.6/envs/crypto/lib/python3.8/site-packages/pandas/core/internals/managers.py\u001b[0m in \u001b[0;36minsert\u001b[0;34m(self, loc, item, value)\u001b[0m\n\u001b[1;32m   1160\u001b[0m             \u001b[0mvalue\u001b[0m \u001b[0;34m=\u001b[0m \u001b[0mensure_block_shape\u001b[0m\u001b[0;34m(\u001b[0m\u001b[0mvalue\u001b[0m\u001b[0;34m,\u001b[0m \u001b[0mndim\u001b[0m\u001b[0;34m=\u001b[0m\u001b[0mself\u001b[0m\u001b[0;34m.\u001b[0m\u001b[0mndim\u001b[0m\u001b[0;34m)\u001b[0m\u001b[0;34m\u001b[0m\u001b[0;34m\u001b[0m\u001b[0m\n\u001b[1;32m   1161\u001b[0m \u001b[0;34m\u001b[0m\u001b[0m\n\u001b[0;32m-> 1162\u001b[0;31m         \u001b[0mblock\u001b[0m \u001b[0;34m=\u001b[0m \u001b[0mnew_block\u001b[0m\u001b[0;34m(\u001b[0m\u001b[0mvalues\u001b[0m\u001b[0;34m=\u001b[0m\u001b[0mvalue\u001b[0m\u001b[0;34m,\u001b[0m \u001b[0mndim\u001b[0m\u001b[0;34m=\u001b[0m\u001b[0mself\u001b[0m\u001b[0;34m.\u001b[0m\u001b[0mndim\u001b[0m\u001b[0;34m,\u001b[0m \u001b[0mplacement\u001b[0m\u001b[0;34m=\u001b[0m\u001b[0mslice\u001b[0m\u001b[0;34m(\u001b[0m\u001b[0mloc\u001b[0m\u001b[0;34m,\u001b[0m \u001b[0mloc\u001b[0m \u001b[0;34m+\u001b[0m \u001b[0;36m1\u001b[0m\u001b[0;34m)\u001b[0m\u001b[0;34m)\u001b[0m\u001b[0;34m\u001b[0m\u001b[0;34m\u001b[0m\u001b[0m\n\u001b[0m\u001b[1;32m   1163\u001b[0m \u001b[0;34m\u001b[0m\u001b[0m\n\u001b[1;32m   1164\u001b[0m         \u001b[0;32mfor\u001b[0m \u001b[0mblkno\u001b[0m\u001b[0;34m,\u001b[0m \u001b[0mcount\u001b[0m \u001b[0;32min\u001b[0m \u001b[0m_fast_count_smallints\u001b[0m\u001b[0;34m(\u001b[0m\u001b[0mself\u001b[0m\u001b[0;34m.\u001b[0m\u001b[0mblknos\u001b[0m\u001b[0;34m[\u001b[0m\u001b[0mloc\u001b[0m\u001b[0;34m:\u001b[0m\u001b[0;34m]\u001b[0m\u001b[0;34m)\u001b[0m\u001b[0;34m:\u001b[0m\u001b[0;34m\u001b[0m\u001b[0;34m\u001b[0m\u001b[0m\n",
      "\u001b[0;32m~/.pyenv/versions/3.8.6/envs/crypto/lib/python3.8/site-packages/pandas/core/internals/blocks.py\u001b[0m in \u001b[0;36mnew_block\u001b[0;34m(values, placement, ndim, klass)\u001b[0m\n\u001b[1;32m   1930\u001b[0m \u001b[0;34m\u001b[0m\u001b[0m\n\u001b[1;32m   1931\u001b[0m     \u001b[0mvalues\u001b[0m\u001b[0;34m,\u001b[0m \u001b[0m_\u001b[0m \u001b[0;34m=\u001b[0m \u001b[0mextract_pandas_array\u001b[0m\u001b[0;34m(\u001b[0m\u001b[0mvalues\u001b[0m\u001b[0;34m,\u001b[0m \u001b[0;32mNone\u001b[0m\u001b[0;34m,\u001b[0m \u001b[0mndim\u001b[0m\u001b[0;34m)\u001b[0m\u001b[0;34m\u001b[0m\u001b[0;34m\u001b[0m\u001b[0m\n\u001b[0;32m-> 1932\u001b[0;31m     \u001b[0mcheck_ndim\u001b[0m\u001b[0;34m(\u001b[0m\u001b[0mvalues\u001b[0m\u001b[0;34m,\u001b[0m \u001b[0mplacement\u001b[0m\u001b[0;34m,\u001b[0m \u001b[0mndim\u001b[0m\u001b[0;34m)\u001b[0m\u001b[0;34m\u001b[0m\u001b[0;34m\u001b[0m\u001b[0m\n\u001b[0m\u001b[1;32m   1933\u001b[0m \u001b[0;34m\u001b[0m\u001b[0m\n\u001b[1;32m   1934\u001b[0m     \u001b[0;32mif\u001b[0m \u001b[0mklass\u001b[0m \u001b[0;32mis\u001b[0m \u001b[0;32mNone\u001b[0m\u001b[0;34m:\u001b[0m\u001b[0;34m\u001b[0m\u001b[0;34m\u001b[0m\u001b[0m\n",
      "\u001b[0;32m~/.pyenv/versions/3.8.6/envs/crypto/lib/python3.8/site-packages/pandas/core/internals/blocks.py\u001b[0m in \u001b[0;36mcheck_ndim\u001b[0;34m(values, placement, ndim)\u001b[0m\n\u001b[1;32m   1972\u001b[0m             )\n\u001b[1;32m   1973\u001b[0m         \u001b[0;32mif\u001b[0m \u001b[0mlen\u001b[0m\u001b[0;34m(\u001b[0m\u001b[0mplacement\u001b[0m\u001b[0;34m)\u001b[0m \u001b[0;34m!=\u001b[0m \u001b[0mlen\u001b[0m\u001b[0;34m(\u001b[0m\u001b[0mvalues\u001b[0m\u001b[0;34m)\u001b[0m\u001b[0;34m:\u001b[0m\u001b[0;34m\u001b[0m\u001b[0;34m\u001b[0m\u001b[0m\n\u001b[0;32m-> 1974\u001b[0;31m             raise ValueError(\n\u001b[0m\u001b[1;32m   1975\u001b[0m                 \u001b[0;34mf\"Wrong number of items passed {len(values)}, \"\u001b[0m\u001b[0;34m\u001b[0m\u001b[0;34m\u001b[0m\u001b[0m\n\u001b[1;32m   1976\u001b[0m                 \u001b[0;34mf\"placement implies {len(placement)}\"\u001b[0m\u001b[0;34m\u001b[0m\u001b[0;34m\u001b[0m\u001b[0m\n",
      "\u001b[0;31mValueError\u001b[0m: Wrong number of items passed 3, placement implies 1"
     ]
    }
   ],
   "source": [
    "df =pd.DataFrame()\n",
    "df['y_test'] = pd.DataFrame(y_test_unscaled).apply(lambda x: np.exp(x))\n",
    "df['pred'] = pd.DataFrame(predictions_unscaled).apply(lambda x: np.exp(x))\n",
    "df['diff'] = df['y_test'] - df['pred']"
   ]
  },
  {
   "cell_type": "code",
   "execution_count": null,
   "metadata": {},
   "outputs": [],
   "source": [
    "df"
   ]
  },
  {
   "cell_type": "code",
   "execution_count": null,
   "metadata": {},
   "outputs": [],
   "source": [
    "np.mean(np.abs(df['diff']))"
   ]
  },
  {
   "cell_type": "code",
   "execution_count": null,
   "metadata": {},
   "outputs": [],
   "source": [
    "plt.plot(df[['y_test', 'pred']])"
   ]
  },
  {
   "cell_type": "markdown",
   "metadata": {},
   "source": [
    "# PREDICTION WITH COINGECKO!!!"
   ]
  },
  {
   "cell_type": "code",
   "execution_count": null,
   "metadata": {},
   "outputs": [],
   "source": [
    "import requests\n",
    "\n",
    "def get_coingecko():\n",
    "    #ohlc\n",
    "    url = \"https://api.coingecko.com/api/v3/coins/bitcoin/ohlc?vs_currency=usd&days=30\"\n",
    "    response = requests.get(url).json()\n",
    "    #cleaning\n",
    "    data_api = pd.DataFrame(response, columns = ['unix_time','open', 'high', 'low', 'close'])\n",
    "    data_api[\"Date\"] = pd.to_datetime(data_api[\"unix_time\"], unit='ms')\n",
    "    data_api = data_api.drop(columns='unix_time').set_index('Date')\n",
    "\n",
    "    #volume\n",
    "    url = \"https://api.coingecko.com/api/v3/coins/bitcoin/market_chart?vs_currency=usd&days=30\"\n",
    "    response = requests.get(url).json()\n",
    "\n",
    "    volume = pd.DataFrame(response['total_volumes'], columns=[\"unix_time\",\"volume\"])\n",
    "    volume['date'] = pd.to_datetime(pd.to_datetime(volume['unix_time'],unit='ms').dt.strftime(\"%Y/%m/%d, %H:00:00\"))\n",
    "    volume = volume.drop(columns='unix_time').set_index('date')\n",
    "\n",
    "    #resample hourly into 4h\n",
    "    volume = volume.resample(\"4H\").mean()\n",
    "\n",
    "    #concatinate\n",
    "    volume = volume[-180:]\n",
    "    data_api = data_api[-181:-1]\n",
    "    full = pd.concat([data_api, volume], axis=1)\n",
    "    full.columns=['open', 'high', 'low', 'close', 'volume']\n",
    "\n",
    "    for x in ['open', 'high', 'low', 'close']:\n",
    "        full[f'log_{x}'] = full[x].apply(lambda x: np.log(x))\n",
    "\n",
    "    data_api = full.copy()\n",
    "\n",
    "    return data_api\n",
    "\n",
    "def feature_engineer(data):\n",
    "    \"\"\"\n",
    "    Adds the EMAs, StochRSI, BollingerBands and Volume Rate of Change to the dataframe\n",
    "    \"\"\"\n",
    "    add_ema(data)\n",
    "    add_stoch_rsi(data)\n",
    "    add_bollinger(data,data.log_close)\n",
    "    add_vol_roc(data)\n",
    "    return data"
   ]
  },
  {
   "cell_type": "code",
   "execution_count": null,
   "metadata": {},
   "outputs": [],
   "source": [
    "coingecko = feature_engineer(get_coingecko())\n",
    "coingecko['4h Return'] = coingecko['close'].pct_change()\n",
    "x_gecko = coingecko[selected_features][-160:]\n",
    "x_gecko_scaled = minmax_scaler.transform(x_gecko)"
   ]
  },
  {
   "cell_type": "code",
   "execution_count": null,
   "metadata": {},
   "outputs": [],
   "source": [
    "x_gecko"
   ]
  },
  {
   "cell_type": "code",
   "execution_count": null,
   "metadata": {},
   "outputs": [],
   "source": [
    "coingecko[-3:]"
   ]
  },
  {
   "cell_type": "code",
   "execution_count": null,
   "metadata": {},
   "outputs": [],
   "source": [
    "window_size=155"
   ]
  },
  {
   "cell_type": "code",
   "execution_count": null,
   "metadata": {},
   "outputs": [],
   "source": [
    "x_gecko_subsequences = []\n",
    "for k in range(len(x_gecko_scaled)-(window_size-1)-horizon):\n",
    "    x_gecko_subsequences.append(x_gecko_scaled[k:k+window_size])"
   ]
  },
  {
   "cell_type": "code",
   "execution_count": null,
   "metadata": {},
   "outputs": [],
   "source": [
    "x_gecko = np.array(x_gecko_subsequences)"
   ]
  },
  {
   "cell_type": "code",
   "execution_count": null,
   "metadata": {},
   "outputs": [],
   "source": [
    "x_gecko.shape"
   ]
  },
  {
   "cell_type": "code",
   "execution_count": null,
   "metadata": {},
   "outputs": [],
   "source": [
    "#x_gecko = np.array(x_gecko)\n",
    "x_gecko = np.reshape(x_gecko, (-1,window_size,len(selected_features))) #[-horizon:,:,:]\n",
    "\n",
    "x_gecko.shape"
   ]
  },
  {
   "cell_type": "code",
   "execution_count": null,
   "metadata": {},
   "outputs": [],
   "source": [
    "predictions = model.predict(x_gecko)\n",
    "\n",
    "predictions"
   ]
  },
  {
   "cell_type": "code",
   "execution_count": null,
   "metadata": {},
   "outputs": [],
   "source": [
    "predictions_unscaled = predictions * range1 + min1"
   ]
  },
  {
   "cell_type": "code",
   "execution_count": null,
   "metadata": {},
   "outputs": [],
   "source": [
    "np.exp(predictions_unscaled)"
   ]
  },
  {
   "cell_type": "code",
   "execution_count": null,
   "metadata": {},
   "outputs": [],
   "source": [
    "from datetime import datetime\n",
    "dateTimeObj = datetime.now()\n",
    "print(dateTimeObj)"
   ]
  },
  {
   "cell_type": "code",
   "execution_count": null,
   "metadata": {},
   "outputs": [],
   "source": [
    "close = pd.DataFrame(coingecko.close[-10:].reset_index().drop(columns='index'))"
   ]
  },
  {
   "cell_type": "code",
   "execution_count": null,
   "metadata": {},
   "outputs": [],
   "source": [
    "close"
   ]
  },
  {
   "cell_type": "code",
   "execution_count": null,
   "metadata": {},
   "outputs": [],
   "source": [
    "for i in range(len(close),len(close) + horizon):\n",
    "    print(i)"
   ]
  },
  {
   "cell_type": "code",
   "execution_count": null,
   "metadata": {},
   "outputs": [],
   "source": [
    "pred = pd.DataFrame(np.exp(predictions_unscaled), columns = ['close']).set_index(pd.Index(range(len(close),len(close) + horizon)))"
   ]
  },
  {
   "cell_type": "code",
   "execution_count": null,
   "metadata": {},
   "outputs": [],
   "source": [
    "df = pd.DataFrame(np.exp(predictions_unscaled), columns = ['pred'])\n",
    "df['gecko'] = coingecko['log_close']\n",
    "df"
   ]
  },
  {
   "cell_type": "code",
   "execution_count": null,
   "metadata": {},
   "outputs": [],
   "source": [
    "plt.plot(close)\n",
    "plt.plot(pred)"
   ]
  },
  {
   "cell_type": "code",
   "execution_count": null,
   "metadata": {},
   "outputs": [],
   "source": [
    "plt.plot(coingecko['close'][-20:])\n",
    "plt.plot(predictions_unscaled)"
   ]
  },
  {
   "cell_type": "code",
   "execution_count": null,
   "metadata": {},
   "outputs": [],
   "source": []
  },
  {
   "cell_type": "code",
   "execution_count": null,
   "metadata": {},
   "outputs": [],
   "source": []
  }
 ],
 "metadata": {
  "colab": {
   "collapsed_sections": [],
   "name": "BTC pred.ipynb",
   "provenance": [],
   "toc_visible": true
  },
  "kernelspec": {
   "display_name": "Python 3 (ipykernel)",
   "language": "python",
   "name": "python3"
  },
  "language_info": {
   "codemirror_mode": {
    "name": "ipython",
    "version": 3
   },
   "file_extension": ".py",
   "mimetype": "text/x-python",
   "name": "python",
   "nbconvert_exporter": "python",
   "pygments_lexer": "ipython3",
   "version": "3.8.6"
  },
  "toc": {
   "base_numbering": 1,
   "nav_menu": {},
   "number_sections": true,
   "sideBar": true,
   "skip_h1_title": true,
   "title_cell": "Table of Contents",
   "title_sidebar": "Contents",
   "toc_cell": false,
   "toc_position": {
    "height": "calc(100% - 180px)",
    "left": "10px",
    "top": "150px",
    "width": "316.8px"
   },
   "toc_section_display": true,
   "toc_window_display": false
  },
  "varInspector": {
   "cols": {
    "lenName": 16,
    "lenType": 16,
    "lenVar": 40
   },
   "kernels_config": {
    "python": {
     "delete_cmd_postfix": "",
     "delete_cmd_prefix": "del ",
     "library": "var_list.py",
     "varRefreshCmd": "print(var_dic_list())"
    },
    "r": {
     "delete_cmd_postfix": ") ",
     "delete_cmd_prefix": "rm(",
     "library": "var_list.r",
     "varRefreshCmd": "cat(var_dic_list()) "
    }
   },
   "types_to_exclude": [
    "module",
    "function",
    "builtin_function_or_method",
    "instance",
    "_Feature"
   ],
   "window_display": false
  }
 },
 "nbformat": 4,
 "nbformat_minor": 1
}
