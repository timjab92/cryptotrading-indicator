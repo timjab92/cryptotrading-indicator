{
 "cells": [
  {
   "cell_type": "markdown",
   "metadata": {
    "id": "7Ah1snjrTOaO"
   },
   "source": [
    "# Recurrent Neural Networks\n",
    "---\n",
    "# Predicting Stock Prices through an LSTM model"
   ]
  },
  {
   "cell_type": "code",
   "execution_count": 1,
   "metadata": {
    "executionInfo": {
     "elapsed": 450,
     "status": "ok",
     "timestamp": 1629966198358,
     "user": {
      "displayName": "Ivan Fernandes",
      "photoUrl": "https://lh3.googleusercontent.com/a-/AOh14GgHdj66drQjCguTVvVzCd5yy8cdMluPJPZlz_BQLg=s64",
      "userId": "12100132160237129013"
     },
     "user_tz": -120
    },
    "id": "qnAL4n0hTOaX"
   },
   "outputs": [],
   "source": [
    "''' Linear Algebra '''\n",
    "import pandas as pd\n",
    "import numpy as np\n",
    "\n",
    "'''Data visualization'''\n",
    "import matplotlib.pyplot as plt\n",
    "import seaborn as sns\n",
    "sns.set_style('whitegrid')\n",
    "plt.style.use(\"fivethirtyeight\")"
   ]
  },
  {
   "cell_type": "code",
   "execution_count": 2,
   "metadata": {
    "executionInfo": {
     "elapsed": 2,
     "status": "ok",
     "timestamp": 1629966199072,
     "user": {
      "displayName": "Ivan Fernandes",
      "photoUrl": "https://lh3.googleusercontent.com/a-/AOh14GgHdj66drQjCguTVvVzCd5yy8cdMluPJPZlz_BQLg=s64",
      "userId": "12100132160237129013"
     },
     "user_tz": -120
    },
    "id": "5xjbJ62hTOaa"
   },
   "outputs": [],
   "source": [
    "''' Handling timestamps'''\n",
    "import datetime\n",
    "from datetime import datetime"
   ]
  },
  {
   "cell_type": "code",
   "execution_count": 3,
   "metadata": {
    "colab": {
     "base_uri": "https://localhost:8080/"
    },
    "executionInfo": {
     "elapsed": 351,
     "status": "ok",
     "timestamp": 1629966293996,
     "user": {
      "displayName": "Ivan Fernandes",
      "photoUrl": "https://lh3.googleusercontent.com/a-/AOh14GgHdj66drQjCguTVvVzCd5yy8cdMluPJPZlz_BQLg=s64",
      "userId": "12100132160237129013"
     },
     "user_tz": -120
    },
    "id": "yycPaAz_a6Sy",
    "outputId": "bc68dbc7-c65e-453c-f4a0-991e24e1ee68",
    "scrolled": true
   },
   "outputs": [],
   "source": [
    "url = 'https://raw.githubusercontent.com/timjab92/cryptotradingindicator/master/data/BTCUSD_4hours.csv'\n",
    "\n",
    "data = pd.read_csv(url)\n",
    "# Dataset is now stored in a Pandas Dataframe\n",
    "data = data.drop(columns=\"Unnamed: 0\").set_index(\"date\")"
   ]
  },
  {
   "cell_type": "code",
   "execution_count": 4,
   "metadata": {},
   "outputs": [],
   "source": [
    "CLOSE = 'log_close'"
   ]
  },
  {
   "cell_type": "code",
   "execution_count": 5,
   "metadata": {
    "colab": {
     "base_uri": "https://localhost:8080/",
     "height": 293
    },
    "executionInfo": {
     "elapsed": 535,
     "status": "ok",
     "timestamp": 1629966974930,
     "user": {
      "displayName": "Ivan Fernandes",
      "photoUrl": "https://lh3.googleusercontent.com/a-/AOh14GgHdj66drQjCguTVvVzCd5yy8cdMluPJPZlz_BQLg=s64",
      "userId": "12100132160237129013"
     },
     "user_tz": -120
    },
    "id": "RIJL_ZcKTOaj",
    "outputId": "b6065065-d451-4581-df07-0531602adf36"
   },
   "outputs": [],
   "source": [
    "import requests\n",
    "def get_coingecko():\n",
    "    #ohlc\n",
    "    url = \"https://api.coingecko.com/api/v3/coins/bitcoin/ohlc?vs_currency=usd&days=30\"\n",
    "    response = requests.get(url).json()\n",
    "    #cleaning\n",
    "    data_api = pd.DataFrame(response, columns = ['unix_time','open', 'high', 'low', 'close'])\n",
    "    data_api[\"Date\"] = pd.to_datetime(data_api[\"unix_time\"], unit='ms')\n",
    "    data_api = data_api.drop(columns='unix_time').set_index('Date')\n",
    "\n",
    "    #volume\n",
    "    url = \"https://api.coingecko.com/api/v3/coins/bitcoin/market_chart?vs_currency=usd&days=30\"\n",
    "    response = requests.get(url).json()\n",
    "\n",
    "    volume = pd.DataFrame(response['total_volumes'], columns=[\"unix_time\",\"volume\"])\n",
    "    volume['date'] = pd.to_datetime(pd.to_datetime(volume['unix_time'],unit='ms').dt.strftime(\"%Y/%m/%d, %H:00:00\"))\n",
    "    volume = volume.drop(columns='unix_time').set_index('date')\n",
    "\n",
    "    #resample hourly into 4h\n",
    "    volume = volume.resample(\"4H\").mean()\n",
    "\n",
    "    #concatinate\n",
    "    volume = volume[-180:]\n",
    "    data_api = data_api[-181:-1]\n",
    "    full = pd.concat([data_api, volume], axis=1)\n",
    "    full.columns=['open', 'high', 'low', 'close', 'volume']\n",
    "\n",
    "    for x in ['open', 'high', 'low', 'close']:\n",
    "        full[f'log_{x}'] = full[x].apply(lambda x: np.log(x))\n",
    "\n",
    "    data_api = full.copy()\n",
    "\n",
    "    return data_api\n",
    "\n",
    "\n",
    "def feature_engineer(data):\n",
    "    \"\"\"\n",
    "    Adds the EMAs, StochRSI, BollingerBands and Volume Rate of Change to the dataframe\n",
    "    \"\"\"\n",
    "    add_ema(data)\n",
    "    add_stoch_rsi(data)\n",
    "    add_bollinger(data,data[CLOSE])\n",
    "    add_vol_roc(data)\n",
    "    data['4h Return'] = data[CLOSE].pct_change()\n",
    "    data['4h Gradient'] = data[CLOSE].diff()\n",
    "    data['boll_width'] = data['bollinger_up'] - data['bollinger_down']\n",
    "    data['stoch_rsi'] = (data['K'] + data['D']) / 2\n",
    "    data['perc_bb'] = (data[CLOSE] - data['bollinger_down']) / (data['bollinger_up'] - data['bollinger_down'])\n",
    "\n",
    "    return data\n",
    "\n",
    "## add other features\n",
    "\n",
    "def add_ema(data, tspan=[12,26,21,50,34,55,99,200]):\n",
    "    \"\"\"\n",
    "    Adds Exponential Moving Averages (EMA) to the dataframe. The default timeframes are 12,26,20,50,34 and 55.\n",
    "    \"\"\"\n",
    "    for t in tspan:\n",
    "        data[f'ema{t}'] = data[CLOSE].ewm(span=t).mean()\n",
    "        data[f'dist_ema{t}'] = data[CLOSE] - data[f'ema{t}']\n",
    "    return data\n",
    "\n",
    "\n",
    "def computeRSI(data, window=14):\n",
    "    \"\"\"\n",
    "    Computes the Relative Stregth Index for a given dataset and the window can be defined. Its default value is 14.\n",
    "    \"\"\"\n",
    "    diff = data.diff(1).dropna()        # diff in one field(one day)\n",
    "\n",
    "    #this preservers dimensions off diff values\n",
    "    up_chg = 0 * diff\n",
    "    down_chg = 0 * diff\n",
    "    \n",
    "    # up change is equal to the positive difference, otherwise equal to zero\n",
    "    up_chg[diff > 0] = diff[ diff>0 ]\n",
    "    # down change is equal to negative deifference, otherwise equal to zero\n",
    "    down_chg[diff < 0] = diff[ diff < 0 ]\n",
    "    \n",
    "    # check pandas documentation for ewm\n",
    "    # https://pandas.pydata.org/pandas-docs/stable/reference/api/pandas.DataFrame.ewm.html\n",
    "    # values are related to exponential decay\n",
    "    # we set com=window-1 so we get decay alpha=1/window\n",
    "    up_chg_avg   = up_chg.ewm(com=window-1 , min_periods=window).mean()\n",
    "    down_chg_avg = down_chg.ewm(com=window-1 , min_periods=window).mean()\n",
    "    \n",
    "    rs = abs(up_chg_avg/down_chg_avg)\n",
    "    rsi = 100 - 100/(1+rs)\n",
    "    return rsi\n",
    "\n",
    "\n",
    "def stoch_rsi(rsi, d_window=3, k_window=3, window=14):\n",
    "    \"\"\"\n",
    "    Computes the stochastic RSI. Default values are d=3, k=3, window=14.\n",
    "    \"\"\"\n",
    "    minrsi = rsi.rolling(window=window, center=False).min()\n",
    "    maxrsi = rsi.rolling(window=window, center=False).max()\n",
    "    stoch = ((rsi - minrsi) / (maxrsi - minrsi)) * 100\n",
    "    K = stoch.rolling(window=k_window, center=False).mean()\n",
    "    D = K.rolling(window=d_window, center=False).mean() \n",
    "    return K, D  \n",
    "\n",
    "\n",
    "def add_stoch_rsi(data, d_window=3, k_window=3, window=14):\n",
    "    data['rsi'] = computeRSI(data[CLOSE], window)\n",
    "    data['K'], data['D'] = stoch_rsi(data['rsi'], d_window, k_window, window)\n",
    "    return data\n",
    "\n",
    "\n",
    "def get_bollinger_bands(prices, rate=20):\n",
    "    sma = prices.rolling(rate).mean() # <-- Get SMA for 20 days\n",
    "    std = prices.rolling(rate).std() # <-- Get rolling standard deviation for 20 days\n",
    "    bollinger_up = sma + std * 2 # Calculate top band\n",
    "    bollinger_down = sma - std * 2 # Calculate bottom band\n",
    "    return sma, bollinger_up, bollinger_down\n",
    "\n",
    "\n",
    "def add_bollinger(data, prices, rate=20):\n",
    "    data['sma'], data['bollinger_up'], data['bollinger_down'] = get_bollinger_bands(prices)\n",
    "    for i in ['bollinger_up', 'bollinger_down']:\n",
    "        data[f'dist_{i}'] = data[CLOSE] - data[i]\n",
    "    return data\n",
    "\n",
    "\n",
    "def add_vol_roc(data):\n",
    "    data['vol_roc'] = data.volume.pct_change()\n",
    "    return data\n"
   ]
  },
  {
   "cell_type": "code",
   "execution_count": 6,
   "metadata": {},
   "outputs": [],
   "source": [
    "def get_train_data():\n",
    "    \"\"\"\n",
    "    Returns the raw training dataset for the price of bitcoin since 31.12.2011.\n",
    "    The index is set to the date.\n",
    "    \"\"\"\n",
    "    data = pd.read_csv(\"../data/BTCUSD_4hours.csv\")\n",
    "    data['date'] = pd.to_datetime(data.date)\n",
    "    data_train = data.drop(columns=\"Unnamed: 0\").set_index(\"date\")\n",
    "    return data_train\n",
    "\n",
    "\n",
    "def minmaxscaling(data_train):\n",
    "    \"\"\"\n",
    "    applies the minmaxscaler to the training set. Attention! Output needs to be\n",
    "    defined for data_train_scaled, min1 and range1!!\n",
    "    \"\"\"\n",
    "    minmax_scaler = MinMaxScaler(feature_range=(0, 1))\n",
    "    minmax_scaler.fit(data_train)\n",
    "    data_train_scaled = minmax_scaler.transform(data_train)\n",
    "    #    min1 = minmax_scaler.data_min_  # [5:9] for log_prices\n",
    "    #    range1 = minmax_scaler.data_range_  #[5:9]\n",
    "    return data_train_scaled, minmax_scaler\n",
    "\n",
    "\n",
    "def get_xgecko(length=60, horizon=1):\n",
    "    \"\"\"\n",
    "    Calls the coingecko API and returns the data used for prediction.\n",
    "    x_gecko.shape == (no_sequ , length, no_features)\n",
    "    \"\"\"\n",
    "    x_gecko = feature_engineer(get_coingecko())[[CLOSE]][-length:]\n",
    "    #get scaler the long way\n",
    "    data_train = feature_engineer(get_train_data())[[CLOSE]]\n",
    "    data_train_scaled, scaler = minmaxscaling(data_train)\n",
    "\n",
    "    x_gecko_scaled = scaler.transform(x_gecko)\n",
    "    x_gecko = np.array(x_gecko_scaled)\n",
    "    x_gecko = np.reshape(x_gecko, (horizon, length, 1))\n",
    "    return x_gecko"
   ]
  },
  {
   "cell_type": "markdown",
   "metadata": {
    "id": "hnO1Kw4mTOam"
   },
   "source": [
    "### Daily return\n",
    "\n",
    "$ return = \\frac{new - old}{old} $"
   ]
  },
  {
   "cell_type": "code",
   "execution_count": 7,
   "metadata": {},
   "outputs": [],
   "source": [
    "data = feature_engineer(data)"
   ]
  },
  {
   "cell_type": "code",
   "execution_count": null,
   "metadata": {
    "executionInfo": {
     "elapsed": 3,
     "status": "ok",
     "timestamp": 1629966976844,
     "user": {
      "displayName": "Ivan Fernandes",
      "photoUrl": "https://lh3.googleusercontent.com/a-/AOh14GgHdj66drQjCguTVvVzCd5yy8cdMluPJPZlz_BQLg=s64",
      "userId": "12100132160237129013"
     },
     "user_tz": -120
    },
    "id": "OkM8CpqykqFz"
   },
   "outputs": [],
   "source": []
  },
  {
   "cell_type": "code",
   "execution_count": 8,
   "metadata": {
    "executionInfo": {
     "elapsed": 3,
     "status": "ok",
     "timestamp": 1629966978166,
     "user": {
      "displayName": "Ivan Fernandes",
      "photoUrl": "https://lh3.googleusercontent.com/a-/AOh14GgHdj66drQjCguTVvVzCd5yy8cdMluPJPZlz_BQLg=s64",
      "userId": "12100132160237129013"
     },
     "user_tz": -120
    },
    "id": "pjzEF_95arJY"
   },
   "outputs": [],
   "source": [
    "data = data.dropna()"
   ]
  },
  {
   "cell_type": "code",
   "execution_count": 9,
   "metadata": {},
   "outputs": [
    {
     "data": {
      "text/html": [
       "<div>\n",
       "<style scoped>\n",
       "    .dataframe tbody tr th:only-of-type {\n",
       "        vertical-align: middle;\n",
       "    }\n",
       "\n",
       "    .dataframe tbody tr th {\n",
       "        vertical-align: top;\n",
       "    }\n",
       "\n",
       "    .dataframe thead th {\n",
       "        text-align: right;\n",
       "    }\n",
       "</style>\n",
       "<table border=\"1\" class=\"dataframe\">\n",
       "  <thead>\n",
       "    <tr style=\"text-align: right;\">\n",
       "      <th></th>\n",
       "      <th>open</th>\n",
       "      <th>high</th>\n",
       "      <th>low</th>\n",
       "      <th>close</th>\n",
       "      <th>volume</th>\n",
       "      <th>log_open</th>\n",
       "      <th>log_high</th>\n",
       "      <th>log_low</th>\n",
       "      <th>log_close</th>\n",
       "      <th>ema12</th>\n",
       "      <th>...</th>\n",
       "      <th>bollinger_up</th>\n",
       "      <th>bollinger_down</th>\n",
       "      <th>dist_bollinger_up</th>\n",
       "      <th>dist_bollinger_down</th>\n",
       "      <th>vol_roc</th>\n",
       "      <th>4h Return</th>\n",
       "      <th>4h Gradient</th>\n",
       "      <th>boll_width</th>\n",
       "      <th>stoch_rsi</th>\n",
       "      <th>perc_bb</th>\n",
       "    </tr>\n",
       "    <tr>\n",
       "      <th>date</th>\n",
       "      <th></th>\n",
       "      <th></th>\n",
       "      <th></th>\n",
       "      <th></th>\n",
       "      <th></th>\n",
       "      <th></th>\n",
       "      <th></th>\n",
       "      <th></th>\n",
       "      <th></th>\n",
       "      <th></th>\n",
       "      <th></th>\n",
       "      <th></th>\n",
       "      <th></th>\n",
       "      <th></th>\n",
       "      <th></th>\n",
       "      <th></th>\n",
       "      <th></th>\n",
       "      <th></th>\n",
       "      <th></th>\n",
       "      <th></th>\n",
       "      <th></th>\n",
       "    </tr>\n",
       "  </thead>\n",
       "  <tbody>\n",
       "    <tr>\n",
       "      <th>2012-01-10 20:00:00</th>\n",
       "      <td>7.140000</td>\n",
       "      <td>7.140000</td>\n",
       "      <td>7.140000</td>\n",
       "      <td>7.140000</td>\n",
       "      <td>4.598039</td>\n",
       "      <td>1.965713</td>\n",
       "      <td>1.965713</td>\n",
       "      <td>1.965713</td>\n",
       "      <td>1.965713</td>\n",
       "      <td>1.889085</td>\n",
       "      <td>...</td>\n",
       "      <td>1.986887</td>\n",
       "      <td>1.773904</td>\n",
       "      <td>-0.021174</td>\n",
       "      <td>0.191808</td>\n",
       "      <td>0.656744</td>\n",
       "      <td>0.027078</td>\n",
       "      <td>0.051824</td>\n",
       "      <td>0.212983</td>\n",
       "      <td>19.086799</td>\n",
       "      <td>0.900583</td>\n",
       "    </tr>\n",
       "    <tr>\n",
       "      <th>2012-01-11 08:00:00</th>\n",
       "      <td>7.033333</td>\n",
       "      <td>7.033333</td>\n",
       "      <td>7.033333</td>\n",
       "      <td>7.033333</td>\n",
       "      <td>1.858932</td>\n",
       "      <td>1.949820</td>\n",
       "      <td>1.949820</td>\n",
       "      <td>1.949820</td>\n",
       "      <td>1.949820</td>\n",
       "      <td>1.898467</td>\n",
       "      <td>...</td>\n",
       "      <td>1.981574</td>\n",
       "      <td>1.799280</td>\n",
       "      <td>-0.031753</td>\n",
       "      <td>0.150541</td>\n",
       "      <td>-0.595712</td>\n",
       "      <td>-0.008085</td>\n",
       "      <td>-0.015893</td>\n",
       "      <td>0.182294</td>\n",
       "      <td>31.001688</td>\n",
       "      <td>0.825813</td>\n",
       "    </tr>\n",
       "    <tr>\n",
       "      <th>2012-01-11 12:00:00</th>\n",
       "      <td>7.201538</td>\n",
       "      <td>7.205769</td>\n",
       "      <td>7.201538</td>\n",
       "      <td>7.205769</td>\n",
       "      <td>1.895918</td>\n",
       "      <td>1.974294</td>\n",
       "      <td>1.974876</td>\n",
       "      <td>1.974294</td>\n",
       "      <td>1.974876</td>\n",
       "      <td>1.910262</td>\n",
       "      <td>...</td>\n",
       "      <td>1.988336</td>\n",
       "      <td>1.809419</td>\n",
       "      <td>-0.013460</td>\n",
       "      <td>0.165457</td>\n",
       "      <td>0.019896</td>\n",
       "      <td>0.012850</td>\n",
       "      <td>0.025056</td>\n",
       "      <td>0.178916</td>\n",
       "      <td>44.416957</td>\n",
       "      <td>0.924771</td>\n",
       "    </tr>\n",
       "    <tr>\n",
       "      <th>2012-01-11 16:00:00</th>\n",
       "      <td>6.950000</td>\n",
       "      <td>6.950000</td>\n",
       "      <td>6.950000</td>\n",
       "      <td>6.950000</td>\n",
       "      <td>2.987143</td>\n",
       "      <td>1.938716</td>\n",
       "      <td>1.938716</td>\n",
       "      <td>1.938716</td>\n",
       "      <td>1.938716</td>\n",
       "      <td>1.914652</td>\n",
       "      <td>...</td>\n",
       "      <td>1.992116</td>\n",
       "      <td>1.813258</td>\n",
       "      <td>-0.053400</td>\n",
       "      <td>0.125458</td>\n",
       "      <td>0.575566</td>\n",
       "      <td>-0.018310</td>\n",
       "      <td>-0.036160</td>\n",
       "      <td>0.178858</td>\n",
       "      <td>48.136398</td>\n",
       "      <td>0.701437</td>\n",
       "    </tr>\n",
       "    <tr>\n",
       "      <th>2012-01-11 20:00:00</th>\n",
       "      <td>7.000000</td>\n",
       "      <td>7.000000</td>\n",
       "      <td>7.000000</td>\n",
       "      <td>7.000000</td>\n",
       "      <td>8.315000</td>\n",
       "      <td>1.945910</td>\n",
       "      <td>1.945910</td>\n",
       "      <td>1.945910</td>\n",
       "      <td>1.945910</td>\n",
       "      <td>1.919473</td>\n",
       "      <td>...</td>\n",
       "      <td>1.996089</td>\n",
       "      <td>1.817779</td>\n",
       "      <td>-0.050179</td>\n",
       "      <td>0.128131</td>\n",
       "      <td>1.783596</td>\n",
       "      <td>0.003711</td>\n",
       "      <td>0.007194</td>\n",
       "      <td>0.178310</td>\n",
       "      <td>46.760673</td>\n",
       "      <td>0.718587</td>\n",
       "    </tr>\n",
       "  </tbody>\n",
       "</table>\n",
       "<p>5 rows × 39 columns</p>\n",
       "</div>"
      ],
      "text/plain": [
       "                         open      high       low     close    volume  \\\n",
       "date                                                                    \n",
       "2012-01-10 20:00:00  7.140000  7.140000  7.140000  7.140000  4.598039   \n",
       "2012-01-11 08:00:00  7.033333  7.033333  7.033333  7.033333  1.858932   \n",
       "2012-01-11 12:00:00  7.201538  7.205769  7.201538  7.205769  1.895918   \n",
       "2012-01-11 16:00:00  6.950000  6.950000  6.950000  6.950000  2.987143   \n",
       "2012-01-11 20:00:00  7.000000  7.000000  7.000000  7.000000  8.315000   \n",
       "\n",
       "                     log_open  log_high   log_low  log_close     ema12  ...  \\\n",
       "date                                                                    ...   \n",
       "2012-01-10 20:00:00  1.965713  1.965713  1.965713   1.965713  1.889085  ...   \n",
       "2012-01-11 08:00:00  1.949820  1.949820  1.949820   1.949820  1.898467  ...   \n",
       "2012-01-11 12:00:00  1.974294  1.974876  1.974294   1.974876  1.910262  ...   \n",
       "2012-01-11 16:00:00  1.938716  1.938716  1.938716   1.938716  1.914652  ...   \n",
       "2012-01-11 20:00:00  1.945910  1.945910  1.945910   1.945910  1.919473  ...   \n",
       "\n",
       "                     bollinger_up  bollinger_down  dist_bollinger_up  \\\n",
       "date                                                                   \n",
       "2012-01-10 20:00:00      1.986887        1.773904          -0.021174   \n",
       "2012-01-11 08:00:00      1.981574        1.799280          -0.031753   \n",
       "2012-01-11 12:00:00      1.988336        1.809419          -0.013460   \n",
       "2012-01-11 16:00:00      1.992116        1.813258          -0.053400   \n",
       "2012-01-11 20:00:00      1.996089        1.817779          -0.050179   \n",
       "\n",
       "                     dist_bollinger_down   vol_roc  4h Return  4h Gradient  \\\n",
       "date                                                                         \n",
       "2012-01-10 20:00:00             0.191808  0.656744   0.027078     0.051824   \n",
       "2012-01-11 08:00:00             0.150541 -0.595712  -0.008085    -0.015893   \n",
       "2012-01-11 12:00:00             0.165457  0.019896   0.012850     0.025056   \n",
       "2012-01-11 16:00:00             0.125458  0.575566  -0.018310    -0.036160   \n",
       "2012-01-11 20:00:00             0.128131  1.783596   0.003711     0.007194   \n",
       "\n",
       "                     boll_width  stoch_rsi   perc_bb  \n",
       "date                                                  \n",
       "2012-01-10 20:00:00    0.212983  19.086799  0.900583  \n",
       "2012-01-11 08:00:00    0.182294  31.001688  0.825813  \n",
       "2012-01-11 12:00:00    0.178916  44.416957  0.924771  \n",
       "2012-01-11 16:00:00    0.178858  48.136398  0.701437  \n",
       "2012-01-11 20:00:00    0.178310  46.760673  0.718587  \n",
       "\n",
       "[5 rows x 39 columns]"
      ]
     },
     "execution_count": 9,
     "metadata": {},
     "output_type": "execute_result"
    }
   ],
   "source": [
    "data.head()"
   ]
  },
  {
   "cell_type": "markdown",
   "metadata": {
    "id": "yB-e6gSuarJp"
   },
   "source": [
    "## BITCOIN Price"
   ]
  },
  {
   "cell_type": "code",
   "execution_count": 10,
   "metadata": {},
   "outputs": [],
   "source": [
    "import seaborn as sns"
   ]
  },
  {
   "cell_type": "code",
   "execution_count": 11,
   "metadata": {},
   "outputs": [
    {
     "data": {
      "text/plain": [
       "Index(['open', 'high', 'low', 'close', 'volume', 'log_open', 'log_high',\n",
       "       'log_low', 'log_close', 'ema12', 'dist_ema12', 'ema26', 'dist_ema26',\n",
       "       'ema21', 'dist_ema21', 'ema50', 'dist_ema50', 'ema34', 'dist_ema34',\n",
       "       'ema55', 'dist_ema55', 'ema99', 'dist_ema99', 'ema200', 'dist_ema200',\n",
       "       'rsi', 'K', 'D', 'sma', 'bollinger_up', 'bollinger_down',\n",
       "       'dist_bollinger_up', 'dist_bollinger_down', 'vol_roc', '4h Return',\n",
       "       '4h Gradient', 'boll_width', 'stoch_rsi', 'perc_bb'],\n",
       "      dtype='object')"
      ]
     },
     "execution_count": 11,
     "metadata": {},
     "output_type": "execute_result"
    }
   ],
   "source": [
    "data.keys()"
   ]
  },
  {
   "cell_type": "code",
   "execution_count": 12,
   "metadata": {},
   "outputs": [
    {
     "data": {
      "text/html": [
       "<div>\n",
       "<style scoped>\n",
       "    .dataframe tbody tr th:only-of-type {\n",
       "        vertical-align: middle;\n",
       "    }\n",
       "\n",
       "    .dataframe tbody tr th {\n",
       "        vertical-align: top;\n",
       "    }\n",
       "\n",
       "    .dataframe thead th {\n",
       "        text-align: right;\n",
       "    }\n",
       "</style>\n",
       "<table border=\"1\" class=\"dataframe\">\n",
       "  <thead>\n",
       "    <tr style=\"text-align: right;\">\n",
       "      <th></th>\n",
       "      <th>open</th>\n",
       "      <th>high</th>\n",
       "      <th>low</th>\n",
       "      <th>close</th>\n",
       "      <th>volume</th>\n",
       "      <th>log_open</th>\n",
       "      <th>log_high</th>\n",
       "      <th>log_low</th>\n",
       "      <th>log_close</th>\n",
       "      <th>ema12</th>\n",
       "      <th>...</th>\n",
       "      <th>bollinger_up</th>\n",
       "      <th>bollinger_down</th>\n",
       "      <th>dist_bollinger_up</th>\n",
       "      <th>dist_bollinger_down</th>\n",
       "      <th>vol_roc</th>\n",
       "      <th>4h Return</th>\n",
       "      <th>4h Gradient</th>\n",
       "      <th>boll_width</th>\n",
       "      <th>stoch_rsi</th>\n",
       "      <th>perc_bb</th>\n",
       "    </tr>\n",
       "  </thead>\n",
       "  <tbody>\n",
       "    <tr>\n",
       "      <th>open</th>\n",
       "      <td>1.000000</td>\n",
       "      <td>1.000000</td>\n",
       "      <td>1.000000</td>\n",
       "      <td>1.000000</td>\n",
       "      <td>-0.178667</td>\n",
       "      <td>0.654466</td>\n",
       "      <td>0.654463</td>\n",
       "      <td>0.654469</td>\n",
       "      <td>0.654464</td>\n",
       "      <td>0.654221</td>\n",
       "      <td>...</td>\n",
       "      <td>0.654670</td>\n",
       "      <td>0.653057</td>\n",
       "      <td>-0.037776</td>\n",
       "      <td>0.056878</td>\n",
       "      <td>-0.017658</td>\n",
       "      <td>-0.005224</td>\n",
       "      <td>0.002259</td>\n",
       "      <td>0.064538</td>\n",
       "      <td>-0.005177</td>\n",
       "      <td>-0.004261</td>\n",
       "    </tr>\n",
       "    <tr>\n",
       "      <th>high</th>\n",
       "      <td>1.000000</td>\n",
       "      <td>1.000000</td>\n",
       "      <td>0.999999</td>\n",
       "      <td>1.000000</td>\n",
       "      <td>-0.178574</td>\n",
       "      <td>0.654465</td>\n",
       "      <td>0.654461</td>\n",
       "      <td>0.654467</td>\n",
       "      <td>0.654462</td>\n",
       "      <td>0.654220</td>\n",
       "      <td>...</td>\n",
       "      <td>0.654672</td>\n",
       "      <td>0.653054</td>\n",
       "      <td>-0.037897</td>\n",
       "      <td>0.056920</td>\n",
       "      <td>-0.017653</td>\n",
       "      <td>-0.005236</td>\n",
       "      <td>0.002227</td>\n",
       "      <td>0.064652</td>\n",
       "      <td>-0.005201</td>\n",
       "      <td>-0.004311</td>\n",
       "    </tr>\n",
       "    <tr>\n",
       "      <th>low</th>\n",
       "      <td>1.000000</td>\n",
       "      <td>0.999999</td>\n",
       "      <td>1.000000</td>\n",
       "      <td>1.000000</td>\n",
       "      <td>-0.178768</td>\n",
       "      <td>0.654462</td>\n",
       "      <td>0.654458</td>\n",
       "      <td>0.654465</td>\n",
       "      <td>0.654459</td>\n",
       "      <td>0.654215</td>\n",
       "      <td>...</td>\n",
       "      <td>0.654662</td>\n",
       "      <td>0.653054</td>\n",
       "      <td>-0.037646</td>\n",
       "      <td>0.056831</td>\n",
       "      <td>-0.017664</td>\n",
       "      <td>-0.005200</td>\n",
       "      <td>0.002318</td>\n",
       "      <td>0.064415</td>\n",
       "      <td>-0.005150</td>\n",
       "      <td>-0.004202</td>\n",
       "    </tr>\n",
       "    <tr>\n",
       "      <th>close</th>\n",
       "      <td>1.000000</td>\n",
       "      <td>1.000000</td>\n",
       "      <td>1.000000</td>\n",
       "      <td>1.000000</td>\n",
       "      <td>-0.178668</td>\n",
       "      <td>0.654462</td>\n",
       "      <td>0.654459</td>\n",
       "      <td>0.654465</td>\n",
       "      <td>0.654460</td>\n",
       "      <td>0.654217</td>\n",
       "      <td>...</td>\n",
       "      <td>0.654666</td>\n",
       "      <td>0.653053</td>\n",
       "      <td>-0.037770</td>\n",
       "      <td>0.056883</td>\n",
       "      <td>-0.017659</td>\n",
       "      <td>-0.005215</td>\n",
       "      <td>0.002281</td>\n",
       "      <td>0.064538</td>\n",
       "      <td>-0.005173</td>\n",
       "      <td>-0.004251</td>\n",
       "    </tr>\n",
       "    <tr>\n",
       "      <th>volume</th>\n",
       "      <td>-0.178667</td>\n",
       "      <td>-0.178574</td>\n",
       "      <td>-0.178768</td>\n",
       "      <td>-0.178668</td>\n",
       "      <td>1.000000</td>\n",
       "      <td>-0.305623</td>\n",
       "      <td>-0.305503</td>\n",
       "      <td>-0.305760</td>\n",
       "      <td>-0.305632</td>\n",
       "      <td>-0.304560</td>\n",
       "      <td>...</td>\n",
       "      <td>-0.299138</td>\n",
       "      <td>-0.309125</td>\n",
       "      <td>-0.204966</td>\n",
       "      <td>0.123268</td>\n",
       "      <td>0.311506</td>\n",
       "      <td>-0.043110</td>\n",
       "      <td>-0.082692</td>\n",
       "      <td>0.227273</td>\n",
       "      <td>-0.002652</td>\n",
       "      <td>-0.021805</td>\n",
       "    </tr>\n",
       "    <tr>\n",
       "      <th>log_open</th>\n",
       "      <td>0.654466</td>\n",
       "      <td>0.654465</td>\n",
       "      <td>0.654462</td>\n",
       "      <td>0.654462</td>\n",
       "      <td>-0.305623</td>\n",
       "      <td>1.000000</td>\n",
       "      <td>1.000000</td>\n",
       "      <td>1.000000</td>\n",
       "      <td>1.000000</td>\n",
       "      <td>0.999923</td>\n",
       "      <td>...</td>\n",
       "      <td>0.999562</td>\n",
       "      <td>0.999617</td>\n",
       "      <td>-0.032285</td>\n",
       "      <td>0.023159</td>\n",
       "      <td>-0.053429</td>\n",
       "      <td>-0.015769</td>\n",
       "      <td>-0.003169</td>\n",
       "      <td>0.038280</td>\n",
       "      <td>-0.028449</td>\n",
       "      <td>-0.038040</td>\n",
       "    </tr>\n",
       "    <tr>\n",
       "      <th>log_high</th>\n",
       "      <td>0.654463</td>\n",
       "      <td>0.654461</td>\n",
       "      <td>0.654458</td>\n",
       "      <td>0.654459</td>\n",
       "      <td>-0.305503</td>\n",
       "      <td>1.000000</td>\n",
       "      <td>1.000000</td>\n",
       "      <td>1.000000</td>\n",
       "      <td>1.000000</td>\n",
       "      <td>0.999923</td>\n",
       "      <td>...</td>\n",
       "      <td>0.999567</td>\n",
       "      <td>0.999615</td>\n",
       "      <td>-0.032431</td>\n",
       "      <td>0.023224</td>\n",
       "      <td>-0.053425</td>\n",
       "      <td>-0.015790</td>\n",
       "      <td>-0.003208</td>\n",
       "      <td>0.038427</td>\n",
       "      <td>-0.028465</td>\n",
       "      <td>-0.038074</td>\n",
       "    </tr>\n",
       "    <tr>\n",
       "      <th>log_low</th>\n",
       "      <td>0.654469</td>\n",
       "      <td>0.654467</td>\n",
       "      <td>0.654465</td>\n",
       "      <td>0.654465</td>\n",
       "      <td>-0.305760</td>\n",
       "      <td>1.000000</td>\n",
       "      <td>1.000000</td>\n",
       "      <td>1.000000</td>\n",
       "      <td>1.000000</td>\n",
       "      <td>0.999922</td>\n",
       "      <td>...</td>\n",
       "      <td>0.999557</td>\n",
       "      <td>0.999619</td>\n",
       "      <td>-0.032113</td>\n",
       "      <td>0.023085</td>\n",
       "      <td>-0.053435</td>\n",
       "      <td>-0.015707</td>\n",
       "      <td>-0.003093</td>\n",
       "      <td>0.038110</td>\n",
       "      <td>-0.028428</td>\n",
       "      <td>-0.037992</td>\n",
       "    </tr>\n",
       "    <tr>\n",
       "      <th>log_close</th>\n",
       "      <td>0.654464</td>\n",
       "      <td>0.654462</td>\n",
       "      <td>0.654459</td>\n",
       "      <td>0.654460</td>\n",
       "      <td>-0.305632</td>\n",
       "      <td>1.000000</td>\n",
       "      <td>1.000000</td>\n",
       "      <td>1.000000</td>\n",
       "      <td>1.000000</td>\n",
       "      <td>0.999922</td>\n",
       "      <td>...</td>\n",
       "      <td>0.999562</td>\n",
       "      <td>0.999617</td>\n",
       "      <td>-0.032270</td>\n",
       "      <td>0.023161</td>\n",
       "      <td>-0.053432</td>\n",
       "      <td>-0.015731</td>\n",
       "      <td>-0.003137</td>\n",
       "      <td>0.038271</td>\n",
       "      <td>-0.028444</td>\n",
       "      <td>-0.038027</td>\n",
       "    </tr>\n",
       "    <tr>\n",
       "      <th>ema12</th>\n",
       "      <td>0.654221</td>\n",
       "      <td>0.654220</td>\n",
       "      <td>0.654215</td>\n",
       "      <td>0.654217</td>\n",
       "      <td>-0.304560</td>\n",
       "      <td>0.999923</td>\n",
       "      <td>0.999923</td>\n",
       "      <td>0.999922</td>\n",
       "      <td>0.999922</td>\n",
       "      <td>1.000000</td>\n",
       "      <td>...</td>\n",
       "      <td>0.999729</td>\n",
       "      <td>0.999762</td>\n",
       "      <td>-0.040528</td>\n",
       "      <td>0.015100</td>\n",
       "      <td>-0.053337</td>\n",
       "      <td>-0.020741</td>\n",
       "      <td>-0.009820</td>\n",
       "      <td>0.038789</td>\n",
       "      <td>-0.034892</td>\n",
       "      <td>-0.046988</td>\n",
       "    </tr>\n",
       "    <tr>\n",
       "      <th>dist_ema12</th>\n",
       "      <td>0.010343</td>\n",
       "      <td>0.010279</td>\n",
       "      <td>0.010413</td>\n",
       "      <td>0.010353</td>\n",
       "      <td>-0.081833</td>\n",
       "      <td>-0.007812</td>\n",
       "      <td>-0.007877</td>\n",
       "      <td>-0.007726</td>\n",
       "      <td>-0.007794</td>\n",
       "      <td>-0.020247</td>\n",
       "      <td>...</td>\n",
       "      <td>-0.027430</td>\n",
       "      <td>-0.025716</td>\n",
       "      <td>0.663548</td>\n",
       "      <td>0.646971</td>\n",
       "      <td>-0.006813</td>\n",
       "      <td>0.402493</td>\n",
       "      <td>0.536668</td>\n",
       "      <td>-0.042133</td>\n",
       "      <td>0.518084</td>\n",
       "      <td>0.720076</td>\n",
       "    </tr>\n",
       "    <tr>\n",
       "      <th>ema26</th>\n",
       "      <td>0.653898</td>\n",
       "      <td>0.653897</td>\n",
       "      <td>0.653892</td>\n",
       "      <td>0.653894</td>\n",
       "      <td>-0.304363</td>\n",
       "      <td>0.999814</td>\n",
       "      <td>0.999815</td>\n",
       "      <td>0.999813</td>\n",
       "      <td>0.999814</td>\n",
       "      <td>0.999960</td>\n",
       "      <td>...</td>\n",
       "      <td>0.999768</td>\n",
       "      <td>0.999769</td>\n",
       "      <td>-0.045509</td>\n",
       "      <td>0.010939</td>\n",
       "      <td>-0.053297</td>\n",
       "      <td>-0.021147</td>\n",
       "      <td>-0.010475</td>\n",
       "      <td>0.039567</td>\n",
       "      <td>-0.035917</td>\n",
       "      <td>-0.051502</td>\n",
       "    </tr>\n",
       "    <tr>\n",
       "      <th>dist_ema26</th>\n",
       "      <td>0.014953</td>\n",
       "      <td>0.014889</td>\n",
       "      <td>0.015017</td>\n",
       "      <td>0.014961</td>\n",
       "      <td>-0.059083</td>\n",
       "      <td>-0.012353</td>\n",
       "      <td>-0.012414</td>\n",
       "      <td>-0.012280</td>\n",
       "      <td>-0.012342</td>\n",
       "      <td>-0.023917</td>\n",
       "      <td>...</td>\n",
       "      <td>-0.032667</td>\n",
       "      <td>-0.029880</td>\n",
       "      <td>0.687031</td>\n",
       "      <td>0.633091</td>\n",
       "      <td>-0.005778</td>\n",
       "      <td>0.281108</td>\n",
       "      <td>0.380457</td>\n",
       "      <td>-0.068011</td>\n",
       "      <td>0.388012</td>\n",
       "      <td>0.699395</td>\n",
       "    </tr>\n",
       "    <tr>\n",
       "      <th>ema21</th>\n",
       "      <td>0.654014</td>\n",
       "      <td>0.654014</td>\n",
       "      <td>0.654009</td>\n",
       "      <td>0.654010</td>\n",
       "      <td>-0.304390</td>\n",
       "      <td>0.999853</td>\n",
       "      <td>0.999854</td>\n",
       "      <td>0.999852</td>\n",
       "      <td>0.999853</td>\n",
       "      <td>0.999981</td>\n",
       "      <td>...</td>\n",
       "      <td>0.999768</td>\n",
       "      <td>0.999777</td>\n",
       "      <td>-0.044190</td>\n",
       "      <td>0.012056</td>\n",
       "      <td>-0.053311</td>\n",
       "      <td>-0.021064</td>\n",
       "      <td>-0.010331</td>\n",
       "      <td>0.039371</td>\n",
       "      <td>-0.035922</td>\n",
       "      <td>-0.050294</td>\n",
       "    </tr>\n",
       "    <tr>\n",
       "      <th>dist_ema21</th>\n",
       "      <td>0.013485</td>\n",
       "      <td>0.013420</td>\n",
       "      <td>0.013552</td>\n",
       "      <td>0.013494</td>\n",
       "      <td>-0.066492</td>\n",
       "      <td>-0.010891</td>\n",
       "      <td>-0.010955</td>\n",
       "      <td>-0.010813</td>\n",
       "      <td>-0.010878</td>\n",
       "      <td>-0.022858</td>\n",
       "      <td>...</td>\n",
       "      <td>-0.031463</td>\n",
       "      <td>-0.028805</td>\n",
       "      <td>0.695734</td>\n",
       "      <td>0.647134</td>\n",
       "      <td>-0.005994</td>\n",
       "      <td>0.311299</td>\n",
       "      <td>0.419577</td>\n",
       "      <td>-0.064879</td>\n",
       "      <td>0.436633</td>\n",
       "      <td>0.716083</td>\n",
       "    </tr>\n",
       "    <tr>\n",
       "      <th>ema50</th>\n",
       "      <td>0.653326</td>\n",
       "      <td>0.653326</td>\n",
       "      <td>0.653320</td>\n",
       "      <td>0.653322</td>\n",
       "      <td>-0.304541</td>\n",
       "      <td>0.999619</td>\n",
       "      <td>0.999620</td>\n",
       "      <td>0.999617</td>\n",
       "      <td>0.999619</td>\n",
       "      <td>0.999813</td>\n",
       "      <td>...</td>\n",
       "      <td>0.999666</td>\n",
       "      <td>0.999670</td>\n",
       "      <td>-0.048633</td>\n",
       "      <td>0.007455</td>\n",
       "      <td>-0.053248</td>\n",
       "      <td>-0.021361</td>\n",
       "      <td>-0.010862</td>\n",
       "      <td>0.039475</td>\n",
       "      <td>-0.034885</td>\n",
       "      <td>-0.054883</td>\n",
       "    </tr>\n",
       "    <tr>\n",
       "      <th>dist_ema50</th>\n",
       "      <td>0.020919</td>\n",
       "      <td>0.020863</td>\n",
       "      <td>0.020969</td>\n",
       "      <td>0.020925</td>\n",
       "      <td>-0.030060</td>\n",
       "      <td>-0.017177</td>\n",
       "      <td>-0.017225</td>\n",
       "      <td>-0.017122</td>\n",
       "      <td>-0.017169</td>\n",
       "      <td>-0.027008</td>\n",
       "      <td>...</td>\n",
       "      <td>-0.034718</td>\n",
       "      <td>-0.032906</td>\n",
       "      <td>0.593491</td>\n",
       "      <td>0.567994</td>\n",
       "      <td>-0.004993</td>\n",
       "      <td>0.204350</td>\n",
       "      <td>0.279807</td>\n",
       "      <td>-0.044760</td>\n",
       "      <td>0.234085</td>\n",
       "      <td>0.611537</td>\n",
       "    </tr>\n",
       "    <tr>\n",
       "      <th>ema34</th>\n",
       "      <td>0.653709</td>\n",
       "      <td>0.653709</td>\n",
       "      <td>0.653703</td>\n",
       "      <td>0.653705</td>\n",
       "      <td>-0.304377</td>\n",
       "      <td>0.999751</td>\n",
       "      <td>0.999752</td>\n",
       "      <td>0.999749</td>\n",
       "      <td>0.999750</td>\n",
       "      <td>0.999917</td>\n",
       "      <td>...</td>\n",
       "      <td>0.999749</td>\n",
       "      <td>0.999744</td>\n",
       "      <td>-0.046995</td>\n",
       "      <td>0.009554</td>\n",
       "      <td>-0.053278</td>\n",
       "      <td>-0.021236</td>\n",
       "      <td>-0.010636</td>\n",
       "      <td>0.039704</td>\n",
       "      <td>-0.035638</td>\n",
       "      <td>-0.052946</td>\n",
       "    </tr>\n",
       "    <tr>\n",
       "      <th>dist_ema34</th>\n",
       "      <td>0.017112</td>\n",
       "      <td>0.017049</td>\n",
       "      <td>0.017171</td>\n",
       "      <td>0.017119</td>\n",
       "      <td>-0.048382</td>\n",
       "      <td>-0.014310</td>\n",
       "      <td>-0.014368</td>\n",
       "      <td>-0.014244</td>\n",
       "      <td>-0.014301</td>\n",
       "      <td>-0.025235</td>\n",
       "      <td>...</td>\n",
       "      <td>-0.033821</td>\n",
       "      <td>-0.031158</td>\n",
       "      <td>0.659955</td>\n",
       "      <td>0.608482</td>\n",
       "      <td>-0.005498</td>\n",
       "      <td>0.246820</td>\n",
       "      <td>0.335762</td>\n",
       "      <td>-0.065104</td>\n",
       "      <td>0.322731</td>\n",
       "      <td>0.668784</td>\n",
       "    </tr>\n",
       "    <tr>\n",
       "      <th>ema55</th>\n",
       "      <td>0.653206</td>\n",
       "      <td>0.653206</td>\n",
       "      <td>0.653200</td>\n",
       "      <td>0.653202</td>\n",
       "      <td>-0.304615</td>\n",
       "      <td>0.999576</td>\n",
       "      <td>0.999578</td>\n",
       "      <td>0.999575</td>\n",
       "      <td>0.999576</td>\n",
       "      <td>0.999777</td>\n",
       "      <td>...</td>\n",
       "      <td>0.999632</td>\n",
       "      <td>0.999643</td>\n",
       "      <td>-0.048922</td>\n",
       "      <td>0.006884</td>\n",
       "      <td>-0.053240</td>\n",
       "      <td>-0.021395</td>\n",
       "      <td>-0.010920</td>\n",
       "      <td>0.039301</td>\n",
       "      <td>-0.034666</td>\n",
       "      <td>-0.055341</td>\n",
       "    </tr>\n",
       "    <tr>\n",
       "      <th>dist_ema55</th>\n",
       "      <td>0.021981</td>\n",
       "      <td>0.021927</td>\n",
       "      <td>0.022029</td>\n",
       "      <td>0.021987</td>\n",
       "      <td>-0.025016</td>\n",
       "      <td>-0.017869</td>\n",
       "      <td>-0.017915</td>\n",
       "      <td>-0.017818</td>\n",
       "      <td>-0.017863</td>\n",
       "      <td>-0.027412</td>\n",
       "      <td>...</td>\n",
       "      <td>-0.034801</td>\n",
       "      <td>-0.033330</td>\n",
       "      <td>0.572911</td>\n",
       "      <td>0.558264</td>\n",
       "      <td>-0.004847</td>\n",
       "      <td>0.195030</td>\n",
       "      <td>0.267401</td>\n",
       "      <td>-0.036600</td>\n",
       "      <td>0.214606</td>\n",
       "      <td>0.595851</td>\n",
       "    </tr>\n",
       "    <tr>\n",
       "      <th>ema99</th>\n",
       "      <td>0.652151</td>\n",
       "      <td>0.652150</td>\n",
       "      <td>0.652145</td>\n",
       "      <td>0.652147</td>\n",
       "      <td>-0.305482</td>\n",
       "      <td>0.999174</td>\n",
       "      <td>0.999175</td>\n",
       "      <td>0.999173</td>\n",
       "      <td>0.999173</td>\n",
       "      <td>0.999411</td>\n",
       "      <td>...</td>\n",
       "      <td>0.999243</td>\n",
       "      <td>0.999365</td>\n",
       "      <td>-0.049390</td>\n",
       "      <td>0.002383</td>\n",
       "      <td>-0.053183</td>\n",
       "      <td>-0.021671</td>\n",
       "      <td>-0.011347</td>\n",
       "      <td>0.036649</td>\n",
       "      <td>-0.033403</td>\n",
       "      <td>-0.058075</td>\n",
       "    </tr>\n",
       "    <tr>\n",
       "      <th>dist_ema99</th>\n",
       "      <td>0.029308</td>\n",
       "      <td>0.029271</td>\n",
       "      <td>0.029333</td>\n",
       "      <td>0.029312</td>\n",
       "      <td>0.009198</td>\n",
       "      <td>-0.021816</td>\n",
       "      <td>-0.021842</td>\n",
       "      <td>-0.021792</td>\n",
       "      <td>-0.021813</td>\n",
       "      <td>-0.029557</td>\n",
       "      <td>...</td>\n",
       "      <td>-0.034289</td>\n",
       "      <td>-0.035945</td>\n",
       "      <td>0.422390</td>\n",
       "      <td>0.510031</td>\n",
       "      <td>-0.003865</td>\n",
       "      <td>0.146745</td>\n",
       "      <td>0.202037</td>\n",
       "      <td>0.038292</td>\n",
       "      <td>0.123139</td>\n",
       "      <td>0.494668</td>\n",
       "    </tr>\n",
       "    <tr>\n",
       "      <th>ema200</th>\n",
       "      <td>0.649677</td>\n",
       "      <td>0.649676</td>\n",
       "      <td>0.649673</td>\n",
       "      <td>0.649673</td>\n",
       "      <td>-0.307610</td>\n",
       "      <td>0.998103</td>\n",
       "      <td>0.998103</td>\n",
       "      <td>0.998104</td>\n",
       "      <td>0.998103</td>\n",
       "      <td>0.998383</td>\n",
       "      <td>...</td>\n",
       "      <td>0.998077</td>\n",
       "      <td>0.998546</td>\n",
       "      <td>-0.046085</td>\n",
       "      <td>-0.006666</td>\n",
       "      <td>-0.053043</td>\n",
       "      <td>-0.022192</td>\n",
       "      <td>-0.012045</td>\n",
       "      <td>0.028302</td>\n",
       "      <td>-0.032769</td>\n",
       "      <td>-0.061396</td>\n",
       "    </tr>\n",
       "    <tr>\n",
       "      <th>dist_ema200</th>\n",
       "      <td>0.041195</td>\n",
       "      <td>0.041189</td>\n",
       "      <td>0.041186</td>\n",
       "      <td>0.041199</td>\n",
       "      <td>0.049186</td>\n",
       "      <td>-0.025021</td>\n",
       "      <td>-0.025017</td>\n",
       "      <td>-0.025033</td>\n",
       "      <td>-0.025020</td>\n",
       "      <td>-0.030818</td>\n",
       "      <td>...</td>\n",
       "      <td>-0.031681</td>\n",
       "      <td>-0.038407</td>\n",
       "      <td>0.226147</td>\n",
       "      <td>0.483082</td>\n",
       "      <td>-0.003328</td>\n",
       "      <td>0.105800</td>\n",
       "      <td>0.144826</td>\n",
       "      <td>0.159762</td>\n",
       "      <td>0.071824</td>\n",
       "      <td>0.381611</td>\n",
       "    </tr>\n",
       "    <tr>\n",
       "      <th>rsi</th>\n",
       "      <td>0.003247</td>\n",
       "      <td>0.003199</td>\n",
       "      <td>0.003298</td>\n",
       "      <td>0.003256</td>\n",
       "      <td>-0.009103</td>\n",
       "      <td>-0.041969</td>\n",
       "      <td>-0.042003</td>\n",
       "      <td>-0.041928</td>\n",
       "      <td>-0.041960</td>\n",
       "      <td>-0.051043</td>\n",
       "      <td>...</td>\n",
       "      <td>-0.056584</td>\n",
       "      <td>-0.057086</td>\n",
       "      <td>0.495885</td>\n",
       "      <td>0.545706</td>\n",
       "      <td>-0.008894</td>\n",
       "      <td>0.200297</td>\n",
       "      <td>0.296291</td>\n",
       "      <td>0.009764</td>\n",
       "      <td>0.482655</td>\n",
       "      <td>0.876143</td>\n",
       "    </tr>\n",
       "    <tr>\n",
       "      <th>K</th>\n",
       "      <td>-0.005155</td>\n",
       "      <td>-0.005180</td>\n",
       "      <td>-0.005126</td>\n",
       "      <td>-0.005151</td>\n",
       "      <td>-0.006646</td>\n",
       "      <td>-0.027839</td>\n",
       "      <td>-0.027856</td>\n",
       "      <td>-0.027816</td>\n",
       "      <td>-0.027833</td>\n",
       "      <td>-0.034420</td>\n",
       "      <td>...</td>\n",
       "      <td>-0.036636</td>\n",
       "      <td>-0.038280</td>\n",
       "      <td>0.298602</td>\n",
       "      <td>0.376930</td>\n",
       "      <td>-0.000249</td>\n",
       "      <td>0.123354</td>\n",
       "      <td>0.185771</td>\n",
       "      <td>0.037925</td>\n",
       "      <td>0.987581</td>\n",
       "      <td>0.691339</td>\n",
       "    </tr>\n",
       "    <tr>\n",
       "      <th>D</th>\n",
       "      <td>-0.005063</td>\n",
       "      <td>-0.005086</td>\n",
       "      <td>-0.005040</td>\n",
       "      <td>-0.005061</td>\n",
       "      <td>0.001558</td>\n",
       "      <td>-0.028335</td>\n",
       "      <td>-0.028350</td>\n",
       "      <td>-0.028317</td>\n",
       "      <td>-0.028332</td>\n",
       "      <td>-0.034465</td>\n",
       "      <td>...</td>\n",
       "      <td>-0.037343</td>\n",
       "      <td>-0.039136</td>\n",
       "      <td>0.305674</td>\n",
       "      <td>0.389793</td>\n",
       "      <td>0.001967</td>\n",
       "      <td>0.064738</td>\n",
       "      <td>0.097312</td>\n",
       "      <td>0.041434</td>\n",
       "      <td>0.986643</td>\n",
       "      <td>0.655995</td>\n",
       "    </tr>\n",
       "    <tr>\n",
       "      <th>sma</th>\n",
       "      <td>0.654006</td>\n",
       "      <td>0.654006</td>\n",
       "      <td>0.654001</td>\n",
       "      <td>0.654003</td>\n",
       "      <td>-0.304193</td>\n",
       "      <td>0.999807</td>\n",
       "      <td>0.999808</td>\n",
       "      <td>0.999805</td>\n",
       "      <td>0.999807</td>\n",
       "      <td>0.999963</td>\n",
       "      <td>...</td>\n",
       "      <td>0.999783</td>\n",
       "      <td>0.999782</td>\n",
       "      <td>-0.046254</td>\n",
       "      <td>0.010196</td>\n",
       "      <td>-0.053318</td>\n",
       "      <td>-0.021285</td>\n",
       "      <td>-0.010641</td>\n",
       "      <td>0.039603</td>\n",
       "      <td>-0.038343</td>\n",
       "      <td>-0.052091</td>\n",
       "    </tr>\n",
       "    <tr>\n",
       "      <th>bollinger_up</th>\n",
       "      <td>0.654670</td>\n",
       "      <td>0.654672</td>\n",
       "      <td>0.654662</td>\n",
       "      <td>0.654666</td>\n",
       "      <td>-0.299138</td>\n",
       "      <td>0.999562</td>\n",
       "      <td>0.999567</td>\n",
       "      <td>0.999557</td>\n",
       "      <td>0.999562</td>\n",
       "      <td>0.999729</td>\n",
       "      <td>...</td>\n",
       "      <td>1.000000</td>\n",
       "      <td>0.999130</td>\n",
       "      <td>-0.061834</td>\n",
       "      <td>0.024894</td>\n",
       "      <td>-0.053553</td>\n",
       "      <td>-0.020974</td>\n",
       "      <td>-0.010275</td>\n",
       "      <td>0.060412</td>\n",
       "      <td>-0.037465</td>\n",
       "      <td>-0.052350</td>\n",
       "    </tr>\n",
       "    <tr>\n",
       "      <th>bollinger_down</th>\n",
       "      <td>0.653057</td>\n",
       "      <td>0.653054</td>\n",
       "      <td>0.653054</td>\n",
       "      <td>0.653053</td>\n",
       "      <td>-0.309125</td>\n",
       "      <td>0.999617</td>\n",
       "      <td>0.999615</td>\n",
       "      <td>0.999619</td>\n",
       "      <td>0.999617</td>\n",
       "      <td>0.999762</td>\n",
       "      <td>...</td>\n",
       "      <td>0.999130</td>\n",
       "      <td>1.000000</td>\n",
       "      <td>-0.030627</td>\n",
       "      <td>-0.004530</td>\n",
       "      <td>-0.053060</td>\n",
       "      <td>-0.021588</td>\n",
       "      <td>-0.011003</td>\n",
       "      <td>0.018742</td>\n",
       "      <td>-0.039205</td>\n",
       "      <td>-0.051810</td>\n",
       "    </tr>\n",
       "    <tr>\n",
       "      <th>dist_bollinger_up</th>\n",
       "      <td>-0.037776</td>\n",
       "      <td>-0.037897</td>\n",
       "      <td>-0.037646</td>\n",
       "      <td>-0.037770</td>\n",
       "      <td>-0.204966</td>\n",
       "      <td>-0.032285</td>\n",
       "      <td>-0.032431</td>\n",
       "      <td>-0.032113</td>\n",
       "      <td>-0.032270</td>\n",
       "      <td>-0.040528</td>\n",
       "      <td>...</td>\n",
       "      <td>-0.061834</td>\n",
       "      <td>-0.030627</td>\n",
       "      <td>1.000000</td>\n",
       "      <td>-0.059619</td>\n",
       "      <td>0.006612</td>\n",
       "      <td>0.177802</td>\n",
       "      <td>0.241212</td>\n",
       "      <td>-0.749570</td>\n",
       "      <td>0.306015</td>\n",
       "      <td>0.485521</td>\n",
       "    </tr>\n",
       "    <tr>\n",
       "      <th>dist_bollinger_down</th>\n",
       "      <td>0.056878</td>\n",
       "      <td>0.056920</td>\n",
       "      <td>0.056831</td>\n",
       "      <td>0.056883</td>\n",
       "      <td>0.123268</td>\n",
       "      <td>0.023159</td>\n",
       "      <td>0.023224</td>\n",
       "      <td>0.023085</td>\n",
       "      <td>0.023161</td>\n",
       "      <td>0.015100</td>\n",
       "      <td>...</td>\n",
       "      <td>0.024894</td>\n",
       "      <td>-0.004530</td>\n",
       "      <td>-0.059619</td>\n",
       "      <td>1.000000</td>\n",
       "      <td>-0.013911</td>\n",
       "      <td>0.211295</td>\n",
       "      <td>0.283957</td>\n",
       "      <td>0.705437</td>\n",
       "      <td>0.388245</td>\n",
       "      <td>0.497285</td>\n",
       "    </tr>\n",
       "    <tr>\n",
       "      <th>vol_roc</th>\n",
       "      <td>-0.017658</td>\n",
       "      <td>-0.017653</td>\n",
       "      <td>-0.017664</td>\n",
       "      <td>-0.017659</td>\n",
       "      <td>0.311506</td>\n",
       "      <td>-0.053429</td>\n",
       "      <td>-0.053425</td>\n",
       "      <td>-0.053435</td>\n",
       "      <td>-0.053432</td>\n",
       "      <td>-0.053337</td>\n",
       "      <td>...</td>\n",
       "      <td>-0.053553</td>\n",
       "      <td>-0.053060</td>\n",
       "      <td>0.006612</td>\n",
       "      <td>-0.013911</td>\n",
       "      <td>1.000000</td>\n",
       "      <td>-0.006199</td>\n",
       "      <td>-0.011220</td>\n",
       "      <td>-0.013919</td>\n",
       "      <td>0.000850</td>\n",
       "      <td>-0.008097</td>\n",
       "    </tr>\n",
       "    <tr>\n",
       "      <th>4h Return</th>\n",
       "      <td>-0.005224</td>\n",
       "      <td>-0.005236</td>\n",
       "      <td>-0.005200</td>\n",
       "      <td>-0.005215</td>\n",
       "      <td>-0.043110</td>\n",
       "      <td>-0.015769</td>\n",
       "      <td>-0.015790</td>\n",
       "      <td>-0.015707</td>\n",
       "      <td>-0.015731</td>\n",
       "      <td>-0.020741</td>\n",
       "      <td>...</td>\n",
       "      <td>-0.020974</td>\n",
       "      <td>-0.021588</td>\n",
       "      <td>0.177802</td>\n",
       "      <td>0.211295</td>\n",
       "      <td>-0.006199</td>\n",
       "      <td>1.000000</td>\n",
       "      <td>0.829190</td>\n",
       "      <td>0.013865</td>\n",
       "      <td>0.095810</td>\n",
       "      <td>0.254316</td>\n",
       "    </tr>\n",
       "    <tr>\n",
       "      <th>4h Gradient</th>\n",
       "      <td>0.002259</td>\n",
       "      <td>0.002227</td>\n",
       "      <td>0.002318</td>\n",
       "      <td>0.002281</td>\n",
       "      <td>-0.082692</td>\n",
       "      <td>-0.003169</td>\n",
       "      <td>-0.003208</td>\n",
       "      <td>-0.003093</td>\n",
       "      <td>-0.003137</td>\n",
       "      <td>-0.009820</td>\n",
       "      <td>...</td>\n",
       "      <td>-0.010275</td>\n",
       "      <td>-0.011003</td>\n",
       "      <td>0.241212</td>\n",
       "      <td>0.283957</td>\n",
       "      <td>-0.011220</td>\n",
       "      <td>0.829190</td>\n",
       "      <td>1.000000</td>\n",
       "      <td>0.017024</td>\n",
       "      <td>0.144198</td>\n",
       "      <td>0.358099</td>\n",
       "    </tr>\n",
       "    <tr>\n",
       "      <th>boll_width</th>\n",
       "      <td>0.064538</td>\n",
       "      <td>0.064652</td>\n",
       "      <td>0.064415</td>\n",
       "      <td>0.064538</td>\n",
       "      <td>0.227273</td>\n",
       "      <td>0.038280</td>\n",
       "      <td>0.038427</td>\n",
       "      <td>0.038110</td>\n",
       "      <td>0.038271</td>\n",
       "      <td>0.038789</td>\n",
       "      <td>...</td>\n",
       "      <td>0.060412</td>\n",
       "      <td>0.018742</td>\n",
       "      <td>-0.749570</td>\n",
       "      <td>0.705437</td>\n",
       "      <td>-0.013919</td>\n",
       "      <td>0.013865</td>\n",
       "      <td>0.017024</td>\n",
       "      <td>1.000000</td>\n",
       "      <td>0.040165</td>\n",
       "      <td>-0.014986</td>\n",
       "    </tr>\n",
       "    <tr>\n",
       "      <th>stoch_rsi</th>\n",
       "      <td>-0.005177</td>\n",
       "      <td>-0.005201</td>\n",
       "      <td>-0.005150</td>\n",
       "      <td>-0.005173</td>\n",
       "      <td>-0.002652</td>\n",
       "      <td>-0.028449</td>\n",
       "      <td>-0.028465</td>\n",
       "      <td>-0.028428</td>\n",
       "      <td>-0.028444</td>\n",
       "      <td>-0.034892</td>\n",
       "      <td>...</td>\n",
       "      <td>-0.037465</td>\n",
       "      <td>-0.039205</td>\n",
       "      <td>0.306015</td>\n",
       "      <td>0.388245</td>\n",
       "      <td>0.000850</td>\n",
       "      <td>0.095810</td>\n",
       "      <td>0.144198</td>\n",
       "      <td>0.040165</td>\n",
       "      <td>1.000000</td>\n",
       "      <td>0.682781</td>\n",
       "    </tr>\n",
       "    <tr>\n",
       "      <th>perc_bb</th>\n",
       "      <td>-0.004261</td>\n",
       "      <td>-0.004311</td>\n",
       "      <td>-0.004202</td>\n",
       "      <td>-0.004251</td>\n",
       "      <td>-0.021805</td>\n",
       "      <td>-0.038040</td>\n",
       "      <td>-0.038074</td>\n",
       "      <td>-0.037992</td>\n",
       "      <td>-0.038027</td>\n",
       "      <td>-0.046988</td>\n",
       "      <td>...</td>\n",
       "      <td>-0.052350</td>\n",
       "      <td>-0.051810</td>\n",
       "      <td>0.485521</td>\n",
       "      <td>0.497285</td>\n",
       "      <td>-0.008097</td>\n",
       "      <td>0.254316</td>\n",
       "      <td>0.358099</td>\n",
       "      <td>-0.014986</td>\n",
       "      <td>0.682781</td>\n",
       "      <td>1.000000</td>\n",
       "    </tr>\n",
       "  </tbody>\n",
       "</table>\n",
       "<p>39 rows × 39 columns</p>\n",
       "</div>"
      ],
      "text/plain": [
       "                         open      high       low     close    volume  \\\n",
       "open                 1.000000  1.000000  1.000000  1.000000 -0.178667   \n",
       "high                 1.000000  1.000000  0.999999  1.000000 -0.178574   \n",
       "low                  1.000000  0.999999  1.000000  1.000000 -0.178768   \n",
       "close                1.000000  1.000000  1.000000  1.000000 -0.178668   \n",
       "volume              -0.178667 -0.178574 -0.178768 -0.178668  1.000000   \n",
       "log_open             0.654466  0.654465  0.654462  0.654462 -0.305623   \n",
       "log_high             0.654463  0.654461  0.654458  0.654459 -0.305503   \n",
       "log_low              0.654469  0.654467  0.654465  0.654465 -0.305760   \n",
       "log_close            0.654464  0.654462  0.654459  0.654460 -0.305632   \n",
       "ema12                0.654221  0.654220  0.654215  0.654217 -0.304560   \n",
       "dist_ema12           0.010343  0.010279  0.010413  0.010353 -0.081833   \n",
       "ema26                0.653898  0.653897  0.653892  0.653894 -0.304363   \n",
       "dist_ema26           0.014953  0.014889  0.015017  0.014961 -0.059083   \n",
       "ema21                0.654014  0.654014  0.654009  0.654010 -0.304390   \n",
       "dist_ema21           0.013485  0.013420  0.013552  0.013494 -0.066492   \n",
       "ema50                0.653326  0.653326  0.653320  0.653322 -0.304541   \n",
       "dist_ema50           0.020919  0.020863  0.020969  0.020925 -0.030060   \n",
       "ema34                0.653709  0.653709  0.653703  0.653705 -0.304377   \n",
       "dist_ema34           0.017112  0.017049  0.017171  0.017119 -0.048382   \n",
       "ema55                0.653206  0.653206  0.653200  0.653202 -0.304615   \n",
       "dist_ema55           0.021981  0.021927  0.022029  0.021987 -0.025016   \n",
       "ema99                0.652151  0.652150  0.652145  0.652147 -0.305482   \n",
       "dist_ema99           0.029308  0.029271  0.029333  0.029312  0.009198   \n",
       "ema200               0.649677  0.649676  0.649673  0.649673 -0.307610   \n",
       "dist_ema200          0.041195  0.041189  0.041186  0.041199  0.049186   \n",
       "rsi                  0.003247  0.003199  0.003298  0.003256 -0.009103   \n",
       "K                   -0.005155 -0.005180 -0.005126 -0.005151 -0.006646   \n",
       "D                   -0.005063 -0.005086 -0.005040 -0.005061  0.001558   \n",
       "sma                  0.654006  0.654006  0.654001  0.654003 -0.304193   \n",
       "bollinger_up         0.654670  0.654672  0.654662  0.654666 -0.299138   \n",
       "bollinger_down       0.653057  0.653054  0.653054  0.653053 -0.309125   \n",
       "dist_bollinger_up   -0.037776 -0.037897 -0.037646 -0.037770 -0.204966   \n",
       "dist_bollinger_down  0.056878  0.056920  0.056831  0.056883  0.123268   \n",
       "vol_roc             -0.017658 -0.017653 -0.017664 -0.017659  0.311506   \n",
       "4h Return           -0.005224 -0.005236 -0.005200 -0.005215 -0.043110   \n",
       "4h Gradient          0.002259  0.002227  0.002318  0.002281 -0.082692   \n",
       "boll_width           0.064538  0.064652  0.064415  0.064538  0.227273   \n",
       "stoch_rsi           -0.005177 -0.005201 -0.005150 -0.005173 -0.002652   \n",
       "perc_bb             -0.004261 -0.004311 -0.004202 -0.004251 -0.021805   \n",
       "\n",
       "                     log_open  log_high   log_low  log_close     ema12  ...  \\\n",
       "open                 0.654466  0.654463  0.654469   0.654464  0.654221  ...   \n",
       "high                 0.654465  0.654461  0.654467   0.654462  0.654220  ...   \n",
       "low                  0.654462  0.654458  0.654465   0.654459  0.654215  ...   \n",
       "close                0.654462  0.654459  0.654465   0.654460  0.654217  ...   \n",
       "volume              -0.305623 -0.305503 -0.305760  -0.305632 -0.304560  ...   \n",
       "log_open             1.000000  1.000000  1.000000   1.000000  0.999923  ...   \n",
       "log_high             1.000000  1.000000  1.000000   1.000000  0.999923  ...   \n",
       "log_low              1.000000  1.000000  1.000000   1.000000  0.999922  ...   \n",
       "log_close            1.000000  1.000000  1.000000   1.000000  0.999922  ...   \n",
       "ema12                0.999923  0.999923  0.999922   0.999922  1.000000  ...   \n",
       "dist_ema12          -0.007812 -0.007877 -0.007726  -0.007794 -0.020247  ...   \n",
       "ema26                0.999814  0.999815  0.999813   0.999814  0.999960  ...   \n",
       "dist_ema26          -0.012353 -0.012414 -0.012280  -0.012342 -0.023917  ...   \n",
       "ema21                0.999853  0.999854  0.999852   0.999853  0.999981  ...   \n",
       "dist_ema21          -0.010891 -0.010955 -0.010813  -0.010878 -0.022858  ...   \n",
       "ema50                0.999619  0.999620  0.999617   0.999619  0.999813  ...   \n",
       "dist_ema50          -0.017177 -0.017225 -0.017122  -0.017169 -0.027008  ...   \n",
       "ema34                0.999751  0.999752  0.999749   0.999750  0.999917  ...   \n",
       "dist_ema34          -0.014310 -0.014368 -0.014244  -0.014301 -0.025235  ...   \n",
       "ema55                0.999576  0.999578  0.999575   0.999576  0.999777  ...   \n",
       "dist_ema55          -0.017869 -0.017915 -0.017818  -0.017863 -0.027412  ...   \n",
       "ema99                0.999174  0.999175  0.999173   0.999173  0.999411  ...   \n",
       "dist_ema99          -0.021816 -0.021842 -0.021792  -0.021813 -0.029557  ...   \n",
       "ema200               0.998103  0.998103  0.998104   0.998103  0.998383  ...   \n",
       "dist_ema200         -0.025021 -0.025017 -0.025033  -0.025020 -0.030818  ...   \n",
       "rsi                 -0.041969 -0.042003 -0.041928  -0.041960 -0.051043  ...   \n",
       "K                   -0.027839 -0.027856 -0.027816  -0.027833 -0.034420  ...   \n",
       "D                   -0.028335 -0.028350 -0.028317  -0.028332 -0.034465  ...   \n",
       "sma                  0.999807  0.999808  0.999805   0.999807  0.999963  ...   \n",
       "bollinger_up         0.999562  0.999567  0.999557   0.999562  0.999729  ...   \n",
       "bollinger_down       0.999617  0.999615  0.999619   0.999617  0.999762  ...   \n",
       "dist_bollinger_up   -0.032285 -0.032431 -0.032113  -0.032270 -0.040528  ...   \n",
       "dist_bollinger_down  0.023159  0.023224  0.023085   0.023161  0.015100  ...   \n",
       "vol_roc             -0.053429 -0.053425 -0.053435  -0.053432 -0.053337  ...   \n",
       "4h Return           -0.015769 -0.015790 -0.015707  -0.015731 -0.020741  ...   \n",
       "4h Gradient         -0.003169 -0.003208 -0.003093  -0.003137 -0.009820  ...   \n",
       "boll_width           0.038280  0.038427  0.038110   0.038271  0.038789  ...   \n",
       "stoch_rsi           -0.028449 -0.028465 -0.028428  -0.028444 -0.034892  ...   \n",
       "perc_bb             -0.038040 -0.038074 -0.037992  -0.038027 -0.046988  ...   \n",
       "\n",
       "                     bollinger_up  bollinger_down  dist_bollinger_up  \\\n",
       "open                     0.654670        0.653057          -0.037776   \n",
       "high                     0.654672        0.653054          -0.037897   \n",
       "low                      0.654662        0.653054          -0.037646   \n",
       "close                    0.654666        0.653053          -0.037770   \n",
       "volume                  -0.299138       -0.309125          -0.204966   \n",
       "log_open                 0.999562        0.999617          -0.032285   \n",
       "log_high                 0.999567        0.999615          -0.032431   \n",
       "log_low                  0.999557        0.999619          -0.032113   \n",
       "log_close                0.999562        0.999617          -0.032270   \n",
       "ema12                    0.999729        0.999762          -0.040528   \n",
       "dist_ema12              -0.027430       -0.025716           0.663548   \n",
       "ema26                    0.999768        0.999769          -0.045509   \n",
       "dist_ema26              -0.032667       -0.029880           0.687031   \n",
       "ema21                    0.999768        0.999777          -0.044190   \n",
       "dist_ema21              -0.031463       -0.028805           0.695734   \n",
       "ema50                    0.999666        0.999670          -0.048633   \n",
       "dist_ema50              -0.034718       -0.032906           0.593491   \n",
       "ema34                    0.999749        0.999744          -0.046995   \n",
       "dist_ema34              -0.033821       -0.031158           0.659955   \n",
       "ema55                    0.999632        0.999643          -0.048922   \n",
       "dist_ema55              -0.034801       -0.033330           0.572911   \n",
       "ema99                    0.999243        0.999365          -0.049390   \n",
       "dist_ema99              -0.034289       -0.035945           0.422390   \n",
       "ema200                   0.998077        0.998546          -0.046085   \n",
       "dist_ema200             -0.031681       -0.038407           0.226147   \n",
       "rsi                     -0.056584       -0.057086           0.495885   \n",
       "K                       -0.036636       -0.038280           0.298602   \n",
       "D                       -0.037343       -0.039136           0.305674   \n",
       "sma                      0.999783        0.999782          -0.046254   \n",
       "bollinger_up             1.000000        0.999130          -0.061834   \n",
       "bollinger_down           0.999130        1.000000          -0.030627   \n",
       "dist_bollinger_up       -0.061834       -0.030627           1.000000   \n",
       "dist_bollinger_down      0.024894       -0.004530          -0.059619   \n",
       "vol_roc                 -0.053553       -0.053060           0.006612   \n",
       "4h Return               -0.020974       -0.021588           0.177802   \n",
       "4h Gradient             -0.010275       -0.011003           0.241212   \n",
       "boll_width               0.060412        0.018742          -0.749570   \n",
       "stoch_rsi               -0.037465       -0.039205           0.306015   \n",
       "perc_bb                 -0.052350       -0.051810           0.485521   \n",
       "\n",
       "                     dist_bollinger_down   vol_roc  4h Return  4h Gradient  \\\n",
       "open                            0.056878 -0.017658  -0.005224     0.002259   \n",
       "high                            0.056920 -0.017653  -0.005236     0.002227   \n",
       "low                             0.056831 -0.017664  -0.005200     0.002318   \n",
       "close                           0.056883 -0.017659  -0.005215     0.002281   \n",
       "volume                          0.123268  0.311506  -0.043110    -0.082692   \n",
       "log_open                        0.023159 -0.053429  -0.015769    -0.003169   \n",
       "log_high                        0.023224 -0.053425  -0.015790    -0.003208   \n",
       "log_low                         0.023085 -0.053435  -0.015707    -0.003093   \n",
       "log_close                       0.023161 -0.053432  -0.015731    -0.003137   \n",
       "ema12                           0.015100 -0.053337  -0.020741    -0.009820   \n",
       "dist_ema12                      0.646971 -0.006813   0.402493     0.536668   \n",
       "ema26                           0.010939 -0.053297  -0.021147    -0.010475   \n",
       "dist_ema26                      0.633091 -0.005778   0.281108     0.380457   \n",
       "ema21                           0.012056 -0.053311  -0.021064    -0.010331   \n",
       "dist_ema21                      0.647134 -0.005994   0.311299     0.419577   \n",
       "ema50                           0.007455 -0.053248  -0.021361    -0.010862   \n",
       "dist_ema50                      0.567994 -0.004993   0.204350     0.279807   \n",
       "ema34                           0.009554 -0.053278  -0.021236    -0.010636   \n",
       "dist_ema34                      0.608482 -0.005498   0.246820     0.335762   \n",
       "ema55                           0.006884 -0.053240  -0.021395    -0.010920   \n",
       "dist_ema55                      0.558264 -0.004847   0.195030     0.267401   \n",
       "ema99                           0.002383 -0.053183  -0.021671    -0.011347   \n",
       "dist_ema99                      0.510031 -0.003865   0.146745     0.202037   \n",
       "ema200                         -0.006666 -0.053043  -0.022192    -0.012045   \n",
       "dist_ema200                     0.483082 -0.003328   0.105800     0.144826   \n",
       "rsi                             0.545706 -0.008894   0.200297     0.296291   \n",
       "K                               0.376930 -0.000249   0.123354     0.185771   \n",
       "D                               0.389793  0.001967   0.064738     0.097312   \n",
       "sma                             0.010196 -0.053318  -0.021285    -0.010641   \n",
       "bollinger_up                    0.024894 -0.053553  -0.020974    -0.010275   \n",
       "bollinger_down                 -0.004530 -0.053060  -0.021588    -0.011003   \n",
       "dist_bollinger_up              -0.059619  0.006612   0.177802     0.241212   \n",
       "dist_bollinger_down             1.000000 -0.013911   0.211295     0.283957   \n",
       "vol_roc                        -0.013911  1.000000  -0.006199    -0.011220   \n",
       "4h Return                       0.211295 -0.006199   1.000000     0.829190   \n",
       "4h Gradient                     0.283957 -0.011220   0.829190     1.000000   \n",
       "boll_width                      0.705437 -0.013919   0.013865     0.017024   \n",
       "stoch_rsi                       0.388245  0.000850   0.095810     0.144198   \n",
       "perc_bb                         0.497285 -0.008097   0.254316     0.358099   \n",
       "\n",
       "                     boll_width  stoch_rsi   perc_bb  \n",
       "open                   0.064538  -0.005177 -0.004261  \n",
       "high                   0.064652  -0.005201 -0.004311  \n",
       "low                    0.064415  -0.005150 -0.004202  \n",
       "close                  0.064538  -0.005173 -0.004251  \n",
       "volume                 0.227273  -0.002652 -0.021805  \n",
       "log_open               0.038280  -0.028449 -0.038040  \n",
       "log_high               0.038427  -0.028465 -0.038074  \n",
       "log_low                0.038110  -0.028428 -0.037992  \n",
       "log_close              0.038271  -0.028444 -0.038027  \n",
       "ema12                  0.038789  -0.034892 -0.046988  \n",
       "dist_ema12            -0.042133   0.518084  0.720076  \n",
       "ema26                  0.039567  -0.035917 -0.051502  \n",
       "dist_ema26            -0.068011   0.388012  0.699395  \n",
       "ema21                  0.039371  -0.035922 -0.050294  \n",
       "dist_ema21            -0.064879   0.436633  0.716083  \n",
       "ema50                  0.039475  -0.034885 -0.054883  \n",
       "dist_ema50            -0.044760   0.234085  0.611537  \n",
       "ema34                  0.039704  -0.035638 -0.052946  \n",
       "dist_ema34            -0.065104   0.322731  0.668784  \n",
       "ema55                  0.039301  -0.034666 -0.055341  \n",
       "dist_ema55            -0.036600   0.214606  0.595851  \n",
       "ema99                  0.036649  -0.033403 -0.058075  \n",
       "dist_ema99             0.038292   0.123139  0.494668  \n",
       "ema200                 0.028302  -0.032769 -0.061396  \n",
       "dist_ema200            0.159762   0.071824  0.381611  \n",
       "rsi                    0.009764   0.482655  0.876143  \n",
       "K                      0.037925   0.987581  0.691339  \n",
       "D                      0.041434   0.986643  0.655995  \n",
       "sma                    0.039603  -0.038343 -0.052091  \n",
       "bollinger_up           0.060412  -0.037465 -0.052350  \n",
       "bollinger_down         0.018742  -0.039205 -0.051810  \n",
       "dist_bollinger_up     -0.749570   0.306015  0.485521  \n",
       "dist_bollinger_down    0.705437   0.388245  0.497285  \n",
       "vol_roc               -0.013919   0.000850 -0.008097  \n",
       "4h Return              0.013865   0.095810  0.254316  \n",
       "4h Gradient            0.017024   0.144198  0.358099  \n",
       "boll_width             1.000000   0.040165 -0.014986  \n",
       "stoch_rsi              0.040165   1.000000  0.682781  \n",
       "perc_bb               -0.014986   0.682781  1.000000  \n",
       "\n",
       "[39 rows x 39 columns]"
      ]
     },
     "execution_count": 12,
     "metadata": {},
     "output_type": "execute_result"
    }
   ],
   "source": [
    "data.corr()"
   ]
  },
  {
   "cell_type": "code",
   "execution_count": 13,
   "metadata": {},
   "outputs": [],
   "source": [
    "TIME = 10000\n",
    "data = data[TIME:]"
   ]
  },
  {
   "cell_type": "code",
   "execution_count": 14,
   "metadata": {},
   "outputs": [],
   "source": [
    "#selected_features=[CLOSE,'log_high', 'bollinger_up', 'rsi']\n",
    "#21,99 emas\n",
    "#selected_features=[CLOSE,'rsi', '4h Return','bollinger_up', 'bollinger_down']\n",
    "selected_features = [CLOSE,'open','high', 'dist_ema99', 'stoch_rsi', 'boll_width']"
   ]
  },
  {
   "cell_type": "code",
   "execution_count": 15,
   "metadata": {},
   "outputs": [
    {
     "data": {
      "text/html": [
       "<div>\n",
       "<style scoped>\n",
       "    .dataframe tbody tr th:only-of-type {\n",
       "        vertical-align: middle;\n",
       "    }\n",
       "\n",
       "    .dataframe tbody tr th {\n",
       "        vertical-align: top;\n",
       "    }\n",
       "\n",
       "    .dataframe thead th {\n",
       "        text-align: right;\n",
       "    }\n",
       "</style>\n",
       "<table border=\"1\" class=\"dataframe\">\n",
       "  <thead>\n",
       "    <tr style=\"text-align: right;\">\n",
       "      <th></th>\n",
       "      <th>log_close</th>\n",
       "      <th>open</th>\n",
       "      <th>high</th>\n",
       "      <th>dist_ema99</th>\n",
       "      <th>stoch_rsi</th>\n",
       "      <th>boll_width</th>\n",
       "    </tr>\n",
       "    <tr>\n",
       "      <th>date</th>\n",
       "      <th></th>\n",
       "      <th></th>\n",
       "      <th></th>\n",
       "      <th></th>\n",
       "      <th></th>\n",
       "      <th></th>\n",
       "    </tr>\n",
       "  </thead>\n",
       "  <tbody>\n",
       "    <tr>\n",
       "      <th>2016-09-16 20:00:00</th>\n",
       "      <td>6.407560</td>\n",
       "      <td>606.420076</td>\n",
       "      <td>606.511450</td>\n",
       "      <td>0.005809</td>\n",
       "      <td>58.968929</td>\n",
       "      <td>0.006985</td>\n",
       "    </tr>\n",
       "    <tr>\n",
       "      <th>2016-09-17 00:00:00</th>\n",
       "      <td>6.407496</td>\n",
       "      <td>606.393333</td>\n",
       "      <td>606.546449</td>\n",
       "      <td>0.005630</td>\n",
       "      <td>47.901153</td>\n",
       "      <td>0.006953</td>\n",
       "    </tr>\n",
       "    <tr>\n",
       "      <th>2016-09-17 04:00:00</th>\n",
       "      <td>6.405707</td>\n",
       "      <td>605.275088</td>\n",
       "      <td>605.384737</td>\n",
       "      <td>0.003765</td>\n",
       "      <td>42.021377</td>\n",
       "      <td>0.007436</td>\n",
       "    </tr>\n",
       "    <tr>\n",
       "      <th>2016-09-17 08:00:00</th>\n",
       "      <td>6.406239</td>\n",
       "      <td>605.660526</td>\n",
       "      <td>605.763263</td>\n",
       "      <td>0.004211</td>\n",
       "      <td>33.465590</td>\n",
       "      <td>0.007781</td>\n",
       "    </tr>\n",
       "    <tr>\n",
       "      <th>2016-09-17 12:00:00</th>\n",
       "      <td>6.406278</td>\n",
       "      <td>605.679435</td>\n",
       "      <td>605.831129</td>\n",
       "      <td>0.004164</td>\n",
       "      <td>26.973073</td>\n",
       "      <td>0.008023</td>\n",
       "    </tr>\n",
       "    <tr>\n",
       "      <th>...</th>\n",
       "      <td>...</td>\n",
       "      <td>...</td>\n",
       "      <td>...</td>\n",
       "      <td>...</td>\n",
       "      <td>...</td>\n",
       "      <td>...</td>\n",
       "    </tr>\n",
       "    <tr>\n",
       "      <th>2021-08-22 12:00:00</th>\n",
       "      <td>10.794853</td>\n",
       "      <td>48769.308417</td>\n",
       "      <td>48787.711375</td>\n",
       "      <td>0.075134</td>\n",
       "      <td>43.223000</td>\n",
       "      <td>0.124861</td>\n",
       "    </tr>\n",
       "    <tr>\n",
       "      <th>2021-08-22 16:00:00</th>\n",
       "      <td>10.791202</td>\n",
       "      <td>48591.665708</td>\n",
       "      <td>48605.941333</td>\n",
       "      <td>0.070054</td>\n",
       "      <td>27.575649</td>\n",
       "      <td>0.105199</td>\n",
       "    </tr>\n",
       "    <tr>\n",
       "      <th>2021-08-22 20:00:00</th>\n",
       "      <td>10.795660</td>\n",
       "      <td>48807.713542</td>\n",
       "      <td>48825.874417</td>\n",
       "      <td>0.073022</td>\n",
       "      <td>12.666568</td>\n",
       "      <td>0.084281</td>\n",
       "    </tr>\n",
       "    <tr>\n",
       "      <th>2021-08-23 00:00:00</th>\n",
       "      <td>10.815408</td>\n",
       "      <td>49779.332208</td>\n",
       "      <td>49803.461792</td>\n",
       "      <td>0.090914</td>\n",
       "      <td>21.860992</td>\n",
       "      <td>0.074998</td>\n",
       "    </tr>\n",
       "    <tr>\n",
       "      <th>2021-08-23 04:00:00</th>\n",
       "      <td>10.825311</td>\n",
       "      <td>50278.596788</td>\n",
       "      <td>50292.908182</td>\n",
       "      <td>0.098801</td>\n",
       "      <td>42.323545</td>\n",
       "      <td>0.070825</td>\n",
       "    </tr>\n",
       "  </tbody>\n",
       "</table>\n",
       "<p>10809 rows × 6 columns</p>\n",
       "</div>"
      ],
      "text/plain": [
       "                     log_close          open          high  dist_ema99  \\\n",
       "date                                                                     \n",
       "2016-09-16 20:00:00   6.407560    606.420076    606.511450    0.005809   \n",
       "2016-09-17 00:00:00   6.407496    606.393333    606.546449    0.005630   \n",
       "2016-09-17 04:00:00   6.405707    605.275088    605.384737    0.003765   \n",
       "2016-09-17 08:00:00   6.406239    605.660526    605.763263    0.004211   \n",
       "2016-09-17 12:00:00   6.406278    605.679435    605.831129    0.004164   \n",
       "...                        ...           ...           ...         ...   \n",
       "2021-08-22 12:00:00  10.794853  48769.308417  48787.711375    0.075134   \n",
       "2021-08-22 16:00:00  10.791202  48591.665708  48605.941333    0.070054   \n",
       "2021-08-22 20:00:00  10.795660  48807.713542  48825.874417    0.073022   \n",
       "2021-08-23 00:00:00  10.815408  49779.332208  49803.461792    0.090914   \n",
       "2021-08-23 04:00:00  10.825311  50278.596788  50292.908182    0.098801   \n",
       "\n",
       "                     stoch_rsi  boll_width  \n",
       "date                                        \n",
       "2016-09-16 20:00:00  58.968929    0.006985  \n",
       "2016-09-17 00:00:00  47.901153    0.006953  \n",
       "2016-09-17 04:00:00  42.021377    0.007436  \n",
       "2016-09-17 08:00:00  33.465590    0.007781  \n",
       "2016-09-17 12:00:00  26.973073    0.008023  \n",
       "...                        ...         ...  \n",
       "2021-08-22 12:00:00  43.223000    0.124861  \n",
       "2021-08-22 16:00:00  27.575649    0.105199  \n",
       "2021-08-22 20:00:00  12.666568    0.084281  \n",
       "2021-08-23 00:00:00  21.860992    0.074998  \n",
       "2021-08-23 04:00:00  42.323545    0.070825  \n",
       "\n",
       "[10809 rows x 6 columns]"
      ]
     },
     "execution_count": 15,
     "metadata": {},
     "output_type": "execute_result"
    }
   ],
   "source": [
    "selected_data = data[selected_features]\n",
    "selected_data"
   ]
  },
  {
   "cell_type": "code",
   "execution_count": 16,
   "metadata": {},
   "outputs": [
    {
     "data": {
      "text/plain": [
       "<AxesSubplot:>"
      ]
     },
     "execution_count": 16,
     "metadata": {},
     "output_type": "execute_result"
    },
    {
     "data": {
      "image/png": "[encoded data removed]",
      "text/plain": [
       "<Figure size 432x288 with 2 Axes>"
      ]
     },
     "metadata": {},
     "output_type": "display_data"
    }
   ],
   "source": [
    "sns.heatmap(selected_data.corr(),cmap=\"PiYG\")"
   ]
  },
  {
   "cell_type": "code",
   "execution_count": 17,
   "metadata": {},
   "outputs": [
    {
     "data": {
      "text/plain": [
       "10809"
      ]
     },
     "execution_count": 17,
     "metadata": {},
     "output_type": "execute_result"
    }
   ],
   "source": [
    "len(selected_data)"
   ]
  },
  {
   "cell_type": "code",
   "execution_count": 18,
   "metadata": {},
   "outputs": [
    {
     "data": {
      "text/plain": [
       "6.407495532823104"
      ]
     },
     "execution_count": 18,
     "metadata": {},
     "output_type": "execute_result"
    }
   ],
   "source": [
    "np.array(selected_data)[1][0]"
   ]
  },
  {
   "cell_type": "code",
   "execution_count": 19,
   "metadata": {},
   "outputs": [
    {
     "data": {
      "text/html": [
       "<div>\n",
       "<style scoped>\n",
       "    .dataframe tbody tr th:only-of-type {\n",
       "        vertical-align: middle;\n",
       "    }\n",
       "\n",
       "    .dataframe tbody tr th {\n",
       "        vertical-align: top;\n",
       "    }\n",
       "\n",
       "    .dataframe thead th {\n",
       "        text-align: right;\n",
       "    }\n",
       "</style>\n",
       "<table border=\"1\" class=\"dataframe\">\n",
       "  <thead>\n",
       "    <tr style=\"text-align: right;\">\n",
       "      <th></th>\n",
       "      <th>log_close</th>\n",
       "      <th>open</th>\n",
       "      <th>high</th>\n",
       "      <th>dist_ema99</th>\n",
       "      <th>stoch_rsi</th>\n",
       "      <th>boll_width</th>\n",
       "    </tr>\n",
       "    <tr>\n",
       "      <th>date</th>\n",
       "      <th></th>\n",
       "      <th></th>\n",
       "      <th></th>\n",
       "      <th></th>\n",
       "      <th></th>\n",
       "      <th></th>\n",
       "    </tr>\n",
       "  </thead>\n",
       "  <tbody>\n",
       "    <tr>\n",
       "      <th>2016-09-16 20:00:00</th>\n",
       "      <td>6.407560</td>\n",
       "      <td>606.420076</td>\n",
       "      <td>606.511450</td>\n",
       "      <td>0.005809</td>\n",
       "      <td>58.968929</td>\n",
       "      <td>0.006985</td>\n",
       "    </tr>\n",
       "    <tr>\n",
       "      <th>2016-09-17 00:00:00</th>\n",
       "      <td>6.407496</td>\n",
       "      <td>606.393333</td>\n",
       "      <td>606.546449</td>\n",
       "      <td>0.005630</td>\n",
       "      <td>47.901153</td>\n",
       "      <td>0.006953</td>\n",
       "    </tr>\n",
       "    <tr>\n",
       "      <th>2016-09-17 04:00:00</th>\n",
       "      <td>6.405707</td>\n",
       "      <td>605.275088</td>\n",
       "      <td>605.384737</td>\n",
       "      <td>0.003765</td>\n",
       "      <td>42.021377</td>\n",
       "      <td>0.007436</td>\n",
       "    </tr>\n",
       "    <tr>\n",
       "      <th>2016-09-17 08:00:00</th>\n",
       "      <td>6.406239</td>\n",
       "      <td>605.660526</td>\n",
       "      <td>605.763263</td>\n",
       "      <td>0.004211</td>\n",
       "      <td>33.465590</td>\n",
       "      <td>0.007781</td>\n",
       "    </tr>\n",
       "    <tr>\n",
       "      <th>2016-09-17 12:00:00</th>\n",
       "      <td>6.406278</td>\n",
       "      <td>605.679435</td>\n",
       "      <td>605.831129</td>\n",
       "      <td>0.004164</td>\n",
       "      <td>26.973073</td>\n",
       "      <td>0.008023</td>\n",
       "    </tr>\n",
       "    <tr>\n",
       "      <th>...</th>\n",
       "      <td>...</td>\n",
       "      <td>...</td>\n",
       "      <td>...</td>\n",
       "      <td>...</td>\n",
       "      <td>...</td>\n",
       "      <td>...</td>\n",
       "    </tr>\n",
       "    <tr>\n",
       "      <th>2021-08-22 12:00:00</th>\n",
       "      <td>10.794853</td>\n",
       "      <td>48769.308417</td>\n",
       "      <td>48787.711375</td>\n",
       "      <td>0.075134</td>\n",
       "      <td>43.223000</td>\n",
       "      <td>0.124861</td>\n",
       "    </tr>\n",
       "    <tr>\n",
       "      <th>2021-08-22 16:00:00</th>\n",
       "      <td>10.791202</td>\n",
       "      <td>48591.665708</td>\n",
       "      <td>48605.941333</td>\n",
       "      <td>0.070054</td>\n",
       "      <td>27.575649</td>\n",
       "      <td>0.105199</td>\n",
       "    </tr>\n",
       "    <tr>\n",
       "      <th>2021-08-22 20:00:00</th>\n",
       "      <td>10.795660</td>\n",
       "      <td>48807.713542</td>\n",
       "      <td>48825.874417</td>\n",
       "      <td>0.073022</td>\n",
       "      <td>12.666568</td>\n",
       "      <td>0.084281</td>\n",
       "    </tr>\n",
       "    <tr>\n",
       "      <th>2021-08-23 00:00:00</th>\n",
       "      <td>10.815408</td>\n",
       "      <td>49779.332208</td>\n",
       "      <td>49803.461792</td>\n",
       "      <td>0.090914</td>\n",
       "      <td>21.860992</td>\n",
       "      <td>0.074998</td>\n",
       "    </tr>\n",
       "    <tr>\n",
       "      <th>2021-08-23 04:00:00</th>\n",
       "      <td>10.825311</td>\n",
       "      <td>50278.596788</td>\n",
       "      <td>50292.908182</td>\n",
       "      <td>0.098801</td>\n",
       "      <td>42.323545</td>\n",
       "      <td>0.070825</td>\n",
       "    </tr>\n",
       "  </tbody>\n",
       "</table>\n",
       "<p>10809 rows × 6 columns</p>\n",
       "</div>"
      ],
      "text/plain": [
       "                     log_close          open          high  dist_ema99  \\\n",
       "date                                                                     \n",
       "2016-09-16 20:00:00   6.407560    606.420076    606.511450    0.005809   \n",
       "2016-09-17 00:00:00   6.407496    606.393333    606.546449    0.005630   \n",
       "2016-09-17 04:00:00   6.405707    605.275088    605.384737    0.003765   \n",
       "2016-09-17 08:00:00   6.406239    605.660526    605.763263    0.004211   \n",
       "2016-09-17 12:00:00   6.406278    605.679435    605.831129    0.004164   \n",
       "...                        ...           ...           ...         ...   \n",
       "2021-08-22 12:00:00  10.794853  48769.308417  48787.711375    0.075134   \n",
       "2021-08-22 16:00:00  10.791202  48591.665708  48605.941333    0.070054   \n",
       "2021-08-22 20:00:00  10.795660  48807.713542  48825.874417    0.073022   \n",
       "2021-08-23 00:00:00  10.815408  49779.332208  49803.461792    0.090914   \n",
       "2021-08-23 04:00:00  10.825311  50278.596788  50292.908182    0.098801   \n",
       "\n",
       "                     stoch_rsi  boll_width  \n",
       "date                                        \n",
       "2016-09-16 20:00:00  58.968929    0.006985  \n",
       "2016-09-17 00:00:00  47.901153    0.006953  \n",
       "2016-09-17 04:00:00  42.021377    0.007436  \n",
       "2016-09-17 08:00:00  33.465590    0.007781  \n",
       "2016-09-17 12:00:00  26.973073    0.008023  \n",
       "...                        ...         ...  \n",
       "2021-08-22 12:00:00  43.223000    0.124861  \n",
       "2021-08-22 16:00:00  27.575649    0.105199  \n",
       "2021-08-22 20:00:00  12.666568    0.084281  \n",
       "2021-08-23 00:00:00  21.860992    0.074998  \n",
       "2021-08-23 04:00:00  42.323545    0.070825  \n",
       "\n",
       "[10809 rows x 6 columns]"
      ]
     },
     "execution_count": 19,
     "metadata": {},
     "output_type": "execute_result"
    }
   ],
   "source": [
    "selected_data"
   ]
  },
  {
   "cell_type": "markdown",
   "metadata": {
    "id": "-xCE9uVbTOat"
   },
   "source": [
    "### Temporal Train-Test Split"
   ]
  },
  {
   "cell_type": "code",
   "execution_count": 20,
   "metadata": {
    "executionInfo": {
     "elapsed": 338,
     "status": "ok",
     "timestamp": 1629967515425,
     "user": {
      "displayName": "Ivan Fernandes",
      "photoUrl": "https://lh3.googleusercontent.com/a-/AOh14GgHdj66drQjCguTVvVzCd5yy8cdMluPJPZlz_BQLg=s64",
      "userId": "12100132160237129013"
     },
     "user_tz": -120
    },
    "id": "ywO60BptTOat"
   },
   "outputs": [],
   "source": [
    "train_percentage = 95"
   ]
  },
  {
   "cell_type": "code",
   "execution_count": 21,
   "metadata": {
    "colab": {
     "base_uri": "https://localhost:8080/"
    },
    "executionInfo": {
     "elapsed": 6,
     "status": "ok",
     "timestamp": 1629967587167,
     "user": {
      "displayName": "Ivan Fernandes",
      "photoUrl": "https://lh3.googleusercontent.com/a-/AOh14GgHdj66drQjCguTVvVzCd5yy8cdMluPJPZlz_BQLg=s64",
      "userId": "12100132160237129013"
     },
     "user_tz": -120
    },
    "id": "7WYQ6ez0TOat",
    "outputId": "37e64416-2715-4b67-fb97-87579856daf4"
   },
   "outputs": [
    {
     "data": {
      "text/plain": [
       "10268"
      ]
     },
     "execution_count": 21,
     "metadata": {},
     "output_type": "execute_result"
    }
   ],
   "source": [
    "train_len = int(len(selected_data) * train_percentage/100)\n",
    "train_len"
   ]
  },
  {
   "cell_type": "code",
   "execution_count": 22,
   "metadata": {
    "executionInfo": {
     "elapsed": 381,
     "status": "ok",
     "timestamp": 1629967641312,
     "user": {
      "displayName": "Ivan Fernandes",
      "photoUrl": "https://lh3.googleusercontent.com/a-/AOh14GgHdj66drQjCguTVvVzCd5yy8cdMluPJPZlz_BQLg=s64",
      "userId": "12100132160237129013"
     },
     "user_tz": -120
    },
    "id": "du_UX6DFTOau"
   },
   "outputs": [],
   "source": [
    "data_train = selected_data[:train_len]\n",
    "data_test = selected_data[train_len:]\n"
   ]
  },
  {
   "cell_type": "markdown",
   "metadata": {
    "id": "PO0NJSeTTOau"
   },
   "source": [
    "## LSTM"
   ]
  },
  {
   "cell_type": "code",
   "execution_count": 23,
   "metadata": {
    "executionInfo": {
     "elapsed": 391,
     "status": "ok",
     "timestamp": 1629967656804,
     "user": {
      "displayName": "Ivan Fernandes",
      "photoUrl": "https://lh3.googleusercontent.com/a-/AOh14GgHdj66drQjCguTVvVzCd5yy8cdMluPJPZlz_BQLg=s64",
      "userId": "12100132160237129013"
     },
     "user_tz": -120
    },
    "id": "LsSFTVehTOau"
   },
   "outputs": [],
   "source": [
    "from sklearn.preprocessing import MinMaxScaler\n",
    "\n",
    "minmax_scaler = MinMaxScaler(feature_range = (0,1))\n",
    "\n",
    "minmax_scaler.fit(data_train)\n",
    "\n",
    "data_train_scaled = minmax_scaler.transform(data_train)\n",
    "data_test_scaled = minmax_scaler.transform(data_test)"
   ]
  },
  {
   "cell_type": "code",
   "execution_count": 24,
   "metadata": {
    "colab": {
     "base_uri": "https://localhost:8080/"
    },
    "executionInfo": {
     "elapsed": 3,
     "status": "ok",
     "timestamp": 1629967657307,
     "user": {
      "displayName": "Ivan Fernandes",
      "photoUrl": "https://lh3.googleusercontent.com/a-/AOh14GgHdj66drQjCguTVvVzCd5yy8cdMluPJPZlz_BQLg=s64",
      "userId": "12100132160237129013"
     },
     "user_tz": -120
    },
    "id": "vCCSU71kTOau",
    "outputId": "55400905-ef27-434f-fcf3-cebc738f1d51"
   },
   "outputs": [
    {
     "data": {
      "text/plain": [
       "array([1.10719075e+01, 6.43385810e+04, 6.43611598e+04, 4.53847240e-01,\n",
       "       1.00000000e+02, 7.45914927e-01])"
      ]
     },
     "execution_count": 24,
     "metadata": {},
     "output_type": "execute_result"
    }
   ],
   "source": [
    "minmax_scaler.data_max_"
   ]
  },
  {
   "cell_type": "code",
   "execution_count": 25,
   "metadata": {
    "colab": {
     "base_uri": "https://localhost:8080/"
    },
    "executionInfo": {
     "elapsed": 4,
     "status": "ok",
     "timestamp": 1629967659501,
     "user": {
      "displayName": "Ivan Fernandes",
      "photoUrl": "https://lh3.googleusercontent.com/a-/AOh14GgHdj66drQjCguTVvVzCd5yy8cdMluPJPZlz_BQLg=s64",
      "userId": "12100132160237129013"
     },
     "user_tz": -120
    },
    "id": "7u5vQbfPTOav",
    "outputId": "4eea426d-b00e-4953-e15f-c41f79618ee7"
   },
   "outputs": [
    {
     "data": {
      "text/plain": [
       "array([ 6.38719526e+00,  5.94164821e+02,  5.94250536e+02, -5.60633025e-01,\n",
       "        4.26325641e-14,  3.41925632e-03])"
      ]
     },
     "execution_count": 25,
     "metadata": {},
     "output_type": "execute_result"
    }
   ],
   "source": [
    "minmax_scaler.data_min_"
   ]
  },
  {
   "cell_type": "code",
   "execution_count": 26,
   "metadata": {},
   "outputs": [
    {
     "data": {
      "text/plain": [
       "6.387195256273513"
      ]
     },
     "execution_count": 26,
     "metadata": {},
     "output_type": "execute_result"
    }
   ],
   "source": [
    "min1 = minmax_scaler.data_min_[0]\n",
    "min1"
   ]
  },
  {
   "cell_type": "code",
   "execution_count": 27,
   "metadata": {},
   "outputs": [
    {
     "data": {
      "text/plain": [
       "4.684712203487527"
      ]
     },
     "execution_count": 27,
     "metadata": {},
     "output_type": "execute_result"
    }
   ],
   "source": [
    "range1 = minmax_scaler.data_range_[0]\n",
    "range1"
   ]
  },
  {
   "cell_type": "code",
   "execution_count": 28,
   "metadata": {},
   "outputs": [
    {
     "data": {
      "text/plain": [
       "array([[4.34709192e-03, 1.92256132e-04, 1.92277073e-04, 5.58357247e-01,\n",
       "        5.89689294e-01, 4.80229495e-03],\n",
       "       [4.33330281e-03, 1.91836597e-04, 1.92825930e-04, 5.58180316e-01,\n",
       "        4.79011530e-01, 4.75877310e-03],\n",
       "       [3.95160665e-03, 1.74293953e-04, 1.74607822e-04, 5.56341964e-01,\n",
       "        4.20213773e-01, 5.41014285e-03],\n",
       "       ...,\n",
       "       [8.86618978e-01, 5.83972621e-01, 5.84801600e-01, 4.08201710e-01,\n",
       "        9.80620632e-01, 2.50238208e-01],\n",
       "       [8.92268516e-01, 6.00043023e-01, 6.00730781e-01, 4.36657202e-01,\n",
       "        9.93672540e-01, 2.41532422e-01],\n",
       "       [8.92014355e-01, 5.99367318e-01, 5.99909270e-01, 4.37826472e-01,\n",
       "        9.96707441e-01, 2.52163594e-01]])"
      ]
     },
     "execution_count": 28,
     "metadata": {},
     "output_type": "execute_result"
    }
   ],
   "source": [
    "data_train_scaled[:]"
   ]
  },
  {
   "cell_type": "markdown",
   "metadata": {
    "id": "gMim3w6qTOaw"
   },
   "source": [
    "### Creating subsequences..."
   ]
  },
  {
   "cell_type": "code",
   "execution_count": 29,
   "metadata": {},
   "outputs": [
    {
     "data": {
      "text/plain": [
       "72"
      ]
     },
     "execution_count": 29,
     "metadata": {},
     "output_type": "execute_result"
    }
   ],
   "source": [
    "18*4"
   ]
  },
  {
   "cell_type": "code",
   "execution_count": 30,
   "metadata": {
    "executionInfo": {
     "elapsed": 4,
     "status": "ok",
     "timestamp": 1629967702188,
     "user": {
      "displayName": "Ivan Fernandes",
      "photoUrl": "https://lh3.googleusercontent.com/a-/AOh14GgHdj66drQjCguTVvVzCd5yy8cdMluPJPZlz_BQLg=s64",
      "userId": "12100132160237129013"
     },
     "user_tz": -120
    },
    "id": "uLSYeXScTOaz"
   },
   "outputs": [],
   "source": [
    "window_size = 48  # test with small window size         #60\n",
    "horizon = 4 #number of predictions into the future :) \n",
    "data_train_subsequences = []\n",
    "fake_y_train = []\n",
    "for k in range(len(data_train_scaled)-(window_size-1)-horizon):\n",
    "    data_train_subsequences.append(data_train_scaled[k:k+window_size])\n",
    "    fake_y_train.append(data_train_scaled[k+window_size:k+window_size+horizon]) #add [0] for log_price to be predicted"
   ]
  },
  {
   "cell_type": "code",
   "execution_count": 31,
   "metadata": {},
   "outputs": [
    {
     "data": {
      "text/plain": [
       "(10217, 4, 6)"
      ]
     },
     "execution_count": 31,
     "metadata": {},
     "output_type": "execute_result"
    }
   ],
   "source": [
    "np.array(fake_y_train).shape"
   ]
  },
  {
   "cell_type": "code",
   "execution_count": 32,
   "metadata": {},
   "outputs": [],
   "source": [
    "X_train = np.array(data_train_subsequences)\n",
    "y_train = np.array(fake_y_train)[:,:,0] #.reshape(-1,1)"
   ]
  },
  {
   "cell_type": "code",
   "execution_count": 33,
   "metadata": {},
   "outputs": [
    {
     "data": {
      "text/plain": [
       "(10217, 48, 6)"
      ]
     },
     "execution_count": 33,
     "metadata": {},
     "output_type": "execute_result"
    }
   ],
   "source": [
    "X_train.shape"
   ]
  },
  {
   "cell_type": "code",
   "execution_count": 34,
   "metadata": {},
   "outputs": [
    {
     "data": {
      "text/plain": [
       "(10217, 4)"
      ]
     },
     "execution_count": 34,
     "metadata": {},
     "output_type": "execute_result"
    }
   ],
   "source": [
    "y_train.shape"
   ]
  },
  {
   "cell_type": "code",
   "execution_count": 35,
   "metadata": {},
   "outputs": [],
   "source": [
    "#with the same window_size & horizon as the train data\n",
    "data_test_subsequences = []\n",
    "fake_y_test = []\n",
    "for k in range(len(data_test_scaled)-(window_size-1)-horizon):\n",
    "    data_test_subsequences.append(data_test_scaled[k:k+window_size])\n",
    "    fake_y_test.append(data_test_scaled[k+window_size:k+window_size+horizon])"
   ]
  },
  {
   "cell_type": "code",
   "execution_count": 36,
   "metadata": {},
   "outputs": [],
   "source": [
    "X_test = np.array(data_test_subsequences)\n",
    "y_test = np.array(fake_y_test)[:,:,0] #.reshape(-1,1)"
   ]
  },
  {
   "cell_type": "code",
   "execution_count": 37,
   "metadata": {},
   "outputs": [
    {
     "data": {
      "text/plain": [
       "(490, 48, 6)"
      ]
     },
     "execution_count": 37,
     "metadata": {},
     "output_type": "execute_result"
    }
   ],
   "source": [
    "X_test.shape"
   ]
  },
  {
   "cell_type": "code",
   "execution_count": 38,
   "metadata": {},
   "outputs": [
    {
     "data": {
      "text/plain": [
       "(490, 4)"
      ]
     },
     "execution_count": 38,
     "metadata": {},
     "output_type": "execute_result"
    }
   ],
   "source": [
    "y_test.shape"
   ]
  },
  {
   "cell_type": "markdown",
   "metadata": {
    "id": "KU7fCgwYTOa2"
   },
   "source": [
    "### LSTM"
   ]
  },
  {
   "cell_type": "markdown",
   "metadata": {
    "id": "4VXmMApdTOa3"
   },
   "source": [
    "#### RNN Architecture"
   ]
  },
  {
   "cell_type": "code",
   "execution_count": 39,
   "metadata": {
    "colab": {
     "base_uri": "https://localhost:8080/"
    },
    "executionInfo": {
     "elapsed": 2,
     "status": "ok",
     "timestamp": 1629968945439,
     "user": {
      "displayName": "Ivan Fernandes",
      "photoUrl": "https://lh3.googleusercontent.com/a-/AOh14GgHdj66drQjCguTVvVzCd5yy8cdMluPJPZlz_BQLg=s64",
      "userId": "12100132160237129013"
     },
     "user_tz": -120
    },
    "id": "cPGw4CxharJx",
    "outputId": "eff5edb9-92ef-4a1c-d0f7-34e50a8596ce"
   },
   "outputs": [
    {
     "data": {
      "text/plain": [
       "(490, 4)"
      ]
     },
     "execution_count": 39,
     "metadata": {},
     "output_type": "execute_result"
    }
   ],
   "source": [
    "pd.DataFrame(y_test).shape"
   ]
  },
  {
   "cell_type": "code",
   "execution_count": 40,
   "metadata": {
    "executionInfo": {
     "elapsed": 1,
     "status": "ok",
     "timestamp": 1629968945884,
     "user": {
      "displayName": "Ivan Fernandes",
      "photoUrl": "https://lh3.googleusercontent.com/a-/AOh14GgHdj66drQjCguTVvVzCd5yy8cdMluPJPZlz_BQLg=s64",
      "userId": "12100132160237129013"
     },
     "user_tz": -120
    },
    "id": "ZPwe_lkATOa3"
   },
   "outputs": [
    {
     "name": "stderr",
     "output_type": "stream",
     "text": [
      "2021-09-01 09:10:41.933348: W tensorflow/stream_executor/platform/default/dso_loader.cc:64] Could not load dynamic library 'libcudart.so.11.0'; dlerror: libcudart.so.11.0: cannot open shared object file: No such file or directory\n",
      "2021-09-01 09:10:41.933382: I tensorflow/stream_executor/cuda/cudart_stub.cc:29] Ignore above cudart dlerror if you do not have a GPU set up on your machine.\n",
      "2021-09-01 09:10:43.549089: W tensorflow/stream_executor/platform/default/dso_loader.cc:64] Could not load dynamic library 'libcuda.so.1'; dlerror: libcuda.so.1: cannot open shared object file: No such file or directory\n",
      "2021-09-01 09:10:43.549122: W tensorflow/stream_executor/cuda/cuda_driver.cc:269] failed call to cuInit: UNKNOWN ERROR (303)\n",
      "2021-09-01 09:10:43.549150: I tensorflow/stream_executor/cuda/cuda_diagnostics.cc:156] kernel driver does not appear to be running on this host (LAPTOP-33CGF2OU): /proc/driver/nvidia/version does not exist\n",
      "2021-09-01 09:10:43.549322: I tensorflow/core/platform/cpu_feature_guard.cc:142] This TensorFlow binary is optimized with oneAPI Deep Neural Network Library (oneDNN) to use the following CPU instructions in performance-critical operations:  AVX2 AVX512F FMA\n",
      "To enable them in other operations, rebuild TensorFlow with the appropriate compiler flags.\n"
     ]
    }
   ],
   "source": [
    "from tensorflow.keras import metrics\n",
    "\n",
    "my_mae = metrics.MeanAbsoluteError(\n",
    "    name='mean_absolute_error', dtype=None\n",
    ")\n"
   ]
  },
  {
   "cell_type": "code",
   "execution_count": 41,
   "metadata": {},
   "outputs": [
    {
     "data": {
      "text/plain": [
       "256"
      ]
     },
     "execution_count": 41,
     "metadata": {},
     "output_type": "execute_result"
    }
   ],
   "source": [
    "128*2"
   ]
  },
  {
   "cell_type": "code",
   "execution_count": 42,
   "metadata": {},
   "outputs": [],
   "source": [
    "from tensorflow.keras import Sequential, layers\n",
    "\n",
    "# Build the LSTM model\n",
    "model = Sequential()\n",
    "\n",
    "model.add(layers.LSTM(units=128,\n",
    "                     return_sequences = True,\n",
    "                     activation = \"tanh\"\n",
    "                    #activation = \"relu\"\n",
    "                     #input_shape = X_train[0].shape)\n",
    "                     ))\n",
    "model.add(layers.Dropout(rate=0.2))\n",
    "\n",
    "model.add(layers.LSTM(units=64,\n",
    "                      return_sequences = False,\n",
    "                      activation = \"relu\"  \n",
    "                    #activation = \"relu\"\n",
    "                     ))\n",
    "model.add(layers.Dropout(rate=0.05))\n",
    "# model.add(layers.Dense(25,\n",
    "#                          activation=\"relu\"))\n",
    "model.add(layers.Dense(32,\n",
    "                        activation = \"tanh\" \n",
    "                       #activation=\"relu\"\n",
    "                      ))\n",
    "\n",
    "#model.add(layers.Dense(32,activation=\"relu\"))\n",
    "model.add(layers.Dense(16,\n",
    "                       activation = \"relu\"\n",
    "                       #activation=\"relu\"\n",
    "                      ))\n",
    "model.add(layers.Dense(8,activation=\"relu\"))\n",
    "\n",
    "model.add(layers.Dense(4,\n",
    "                      activation = \"relu\" \n",
    "                      #activation=\"relu\"\n",
    "                      ))\n",
    "\n",
    "#model.summary()\n",
    "\n"
   ]
  },
  {
   "cell_type": "code",
   "execution_count": 43,
   "metadata": {
    "colab": {
     "base_uri": "https://localhost:8080/"
    },
    "executionInfo": {
     "elapsed": 1953,
     "status": "ok",
     "timestamp": 1629968948177,
     "user": {
      "displayName": "Ivan Fernandes",
      "photoUrl": "https://lh3.googleusercontent.com/a-/AOh14GgHdj66drQjCguTVvVzCd5yy8cdMluPJPZlz_BQLg=s64",
      "userId": "12100132160237129013"
     },
     "user_tz": -120
    },
    "id": "GkEjh2ngTOa4",
    "outputId": "934eff05-c3ac-4046-984c-0401bd0b2484"
   },
   "outputs": [],
   "source": [
    "# from tensorflow.keras import Sequential, layers\n",
    "\n",
    "# # Build the LSTM model\n",
    "# model = Sequential()\n",
    "\n",
    "# model.add(layers.LSTM(units=128,\n",
    "#                      return_sequences = True,\n",
    "#                      activation = \"tanh\"\n",
    "#                     #activation = \"relu\"\n",
    "#                      #input_shape = X_train[0].shape)\n",
    "#                      ))\n",
    "\n",
    "# model.add(layers.LSTM(units=64,\n",
    "#                       return_sequences = False,\n",
    "#                       activation = \"relu\"  \n",
    "#                     #activation = \"relu\"\n",
    "#                      ))\n",
    "\n",
    "# # model.add(layers.Dense(25,\n",
    "# #                          activation=\"relu\"))\n",
    "# model.add(layers.Dense(32,\n",
    "#                         activation = \"tanh\" \n",
    "#                        #activation=\"relu\"\n",
    "#                       ))\n",
    "# #model.add(layers.Dense(16,activation=\"relu\"))\n",
    "# model.add(layers.Dense(8,\n",
    "#                        activation = \"relu\"\n",
    "#                        #activation=\"relu\"\n",
    "#                       ))\n",
    "# model.add(layers.Dense(4,\n",
    "#                       activation = \"relu\" \n",
    "#                       #activation=\"relu\"\n",
    "#                       ))\n",
    "\n",
    "# #model.summary()\n",
    "\n"
   ]
  },
  {
   "cell_type": "code",
   "execution_count": 44,
   "metadata": {
    "executionInfo": {
     "elapsed": 340,
     "status": "ok",
     "timestamp": 1629968954711,
     "user": {
      "displayName": "Ivan Fernandes",
      "photoUrl": "https://lh3.googleusercontent.com/a-/AOh14GgHdj66drQjCguTVvVzCd5yy8cdMluPJPZlz_BQLg=s64",
      "userId": "12100132160237129013"
     },
     "user_tz": -120
    },
    "id": "igW2CAISTOa5"
   },
   "outputs": [],
   "source": [
    "model.compile(loss=\"mse\",\n",
    "             optimizer = \"adam\",#rmsprop\n",
    "             metrics = \"mae\"#[my_mae]\n",
    "             )"
   ]
  },
  {
   "cell_type": "markdown",
   "metadata": {
    "id": "0JoMEFYdTOa5"
   },
   "source": [
    "#### Training"
   ]
  },
  {
   "cell_type": "code",
   "execution_count": 45,
   "metadata": {
    "executionInfo": {
     "elapsed": 357,
     "status": "ok",
     "timestamp": 1629968962645,
     "user": {
      "displayName": "Ivan Fernandes",
      "photoUrl": "https://lh3.googleusercontent.com/a-/AOh14GgHdj66drQjCguTVvVzCd5yy8cdMluPJPZlz_BQLg=s64",
      "userId": "12100132160237129013"
     },
     "user_tz": -120
    },
    "id": "u8mqJaUWarJy"
   },
   "outputs": [],
   "source": [
    "#### perhaps create a validation and train sets by hand"
   ]
  },
  {
   "cell_type": "code",
   "execution_count": null,
   "metadata": {
    "colab": {
     "base_uri": "https://localhost:8080/"
    },
    "executionInfo": {
     "elapsed": 89008,
     "status": "ok",
     "timestamp": 1629969056811,
     "user": {
      "displayName": "Ivan Fernandes",
      "photoUrl": "https://lh3.googleusercontent.com/a-/AOh14GgHdj66drQjCguTVvVzCd5yy8cdMluPJPZlz_BQLg=s64",
      "userId": "12100132160237129013"
     },
     "user_tz": -120
    },
    "id": "x8WmFMDoTOa6",
    "outputId": "c4129e5e-d680-4199-e200-ed02360e4cc6"
   },
   "outputs": [
    {
     "name": "stderr",
     "output_type": "stream",
     "text": [
      "2021-09-01 09:10:43.661219: I tensorflow/compiler/mlir/mlir_graph_optimization_pass.cc:185] None of the MLIR Optimization Passes are enabled (registered 2)\n"
     ]
    },
    {
     "name": "stdout",
     "output_type": "stream",
     "text": [
      "Epoch 1/30\n",
      "511/511 [==============================] - 23s 42ms/step - loss: 0.0589 - mae: 0.1311 - val_loss: 0.1579 - val_mae: 0.2302\n",
      "Epoch 2/30\n",
      "511/511 [==============================] - 21s 42ms/step - loss: 0.0572 - mae: 0.1210 - val_loss: 0.1718 - val_mae: 0.2711\n",
      "Epoch 3/30\n",
      "511/511 [==============================] - 24s 47ms/step - loss: 0.0571 - mae: 0.1195 - val_loss: 0.1606 - val_mae: 0.2359\n",
      "Epoch 4/30\n",
      "511/511 [==============================] - 28s 55ms/step - loss: 0.0571 - mae: 0.1189 - val_loss: 0.1629 - val_mae: 0.2378\n",
      "Epoch 5/30\n",
      "511/511 [==============================] - 29s 57ms/step - loss: 0.0571 - mae: 0.1180 - val_loss: 0.1623 - val_mae: 0.2447\n",
      "Epoch 6/30\n",
      "511/511 [==============================] - 28s 55ms/step - loss: 0.0571 - mae: 0.1175 - val_loss: 0.1605 - val_mae: 0.2352\n",
      "Epoch 7/30\n",
      "511/511 [==============================] - 29s 57ms/step - loss: 0.0571 - mae: 0.1177 - val_loss: 0.1594 - val_mae: 0.2273\n",
      "Epoch 8/30\n",
      "511/511 [==============================] - 29s 56ms/step - loss: 0.0571 - mae: 0.1172 - val_loss: 0.1585 - val_mae: 0.2207\n",
      "Epoch 9/30\n",
      "315/511 [=================>............] - ETA: 10s - loss: 0.0572 - mae: 0.1176"
     ]
    }
   ],
   "source": [
    "from tensorflow.keras.callbacks import EarlyStopping \n",
    "\n",
    "es = EarlyStopping(patience = 3, \n",
    "                   restore_best_weights= True,\n",
    "                   monitor = \"mae\"\n",
    "                  )\n",
    "\n",
    "history = model.fit(X_train, y_train,\n",
    "          validation_split = 0.2,\n",
    "         batch_size=16,\n",
    "         epochs=30,\n",
    "         verbose = 1,\n",
    "         callbacks = [es]\n",
    "                   )"
   ]
  },
  {
   "cell_type": "code",
   "execution_count": null,
   "metadata": {
    "executionInfo": {
     "elapsed": 618,
     "status": "ok",
     "timestamp": 1629971280020,
     "user": {
      "displayName": "Ivan Fernandes",
      "photoUrl": "https://lh3.googleusercontent.com/a-/AOh14GgHdj66drQjCguTVvVzCd5yy8cdMluPJPZlz_BQLg=s64",
      "userId": "12100132160237129013"
     },
     "user_tz": -120
    },
    "id": "6BnpySGUL453"
   },
   "outputs": [],
   "source": [
    "def plot_loss_mae(history):\n",
    "    \n",
    "    fig, ax =plt.subplots(1,2,figsize=(20,5))\n",
    "    \n",
    "    # --- LOSS\n",
    "    \n",
    "    ax[0].plot(history.history['loss'])\n",
    "    ax[0].plot(history.history['val_loss'])\n",
    "    ax[0].set_title('Model loss')\n",
    "    ax[0].set_xlabel('Epoch')\n",
    "    ax[0].set_ylabel('Loss')\n",
    "    ax[0].legend(['Train', 'Val'], loc='upper right')\n",
    "    ax[0].grid(axis=\"x\",linewidth=0.5)\n",
    "    ax[0].grid(axis=\"y\",linewidth=0.5)\n",
    "    \n",
    "#     # --- MAE\n",
    "\n",
    "    ax[1].plot(history.history['mae'])\n",
    "    ax[1].plot(history.history['val_mae'])\n",
    "    ax[1].set_title('Model MAE', fontsize = 18)\n",
    "    ax[1].set_xlabel('Epoch', fontsize = 14)\n",
    "    ax[1].set_ylabel('Recall', fontsize = 14)\n",
    "    ax[1].legend(['Train', 'Val'], loc='lower right') \n",
    "    ax[1].grid(axis=\"x\",linewidth=0.5)\n",
    "    ax[1].grid(axis=\"y\",linewidth=0.5)   \n",
    "    \n",
    "    plt.show()\n",
    "    "
   ]
  },
  {
   "cell_type": "code",
   "execution_count": null,
   "metadata": {
    "colab": {
     "base_uri": "https://localhost:8080/",
     "height": 330
    },
    "executionInfo": {
     "elapsed": 775,
     "status": "ok",
     "timestamp": 1629971280790,
     "user": {
      "displayName": "Ivan Fernandes",
      "photoUrl": "https://lh3.googleusercontent.com/a-/AOh14GgHdj66drQjCguTVvVzCd5yy8cdMluPJPZlz_BQLg=s64",
      "userId": "12100132160237129013"
     },
     "user_tz": -120
    },
    "id": "CYBdZyrzL454",
    "outputId": "be857210-3dbb-4216-8037-6adedfac0875"
   },
   "outputs": [],
   "source": [
    "plot_loss_mae(history)"
   ]
  },
  {
   "cell_type": "markdown",
   "metadata": {
    "id": "dPlbdR24TOa7"
   },
   "source": [
    "#### Evaluating"
   ]
  },
  {
   "cell_type": "code",
   "execution_count": null,
   "metadata": {
    "colab": {
     "base_uri": "https://localhost:8080/",
     "height": 370
    },
    "executionInfo": {
     "elapsed": 346,
     "status": "error",
     "timestamp": 1629971289974,
     "user": {
      "displayName": "Ivan Fernandes",
      "photoUrl": "https://lh3.googleusercontent.com/a-/AOh14GgHdj66drQjCguTVvVzCd5yy8cdMluPJPZlz_BQLg=s64",
      "userId": "12100132160237129013"
     },
     "user_tz": -120
    },
    "id": "fGR98XHrTOa7",
    "outputId": "eae3ab01-8077-4116-c16d-93c6c971a35d"
   },
   "outputs": [],
   "source": [
    "res = model.evaluate(X_test, np.array(y_test), verbose = 1)\n",
    "res\n"
   ]
  },
  {
   "cell_type": "markdown",
   "metadata": {
    "id": "o3S6CvgCTOa8"
   },
   "source": [
    "#### Predictions"
   ]
  },
  {
   "cell_type": "code",
   "execution_count": null,
   "metadata": {
    "executionInfo": {
     "elapsed": 3825,
     "status": "ok",
     "timestamp": 1629969068317,
     "user": {
      "displayName": "Ivan Fernandes",
      "photoUrl": "https://lh3.googleusercontent.com/a-/AOh14GgHdj66drQjCguTVvVzCd5yy8cdMluPJPZlz_BQLg=s64",
      "userId": "12100132160237129013"
     },
     "user_tz": -120
    },
    "id": "_a1LDha2TOa9"
   },
   "outputs": [],
   "source": [
    "predictions = model.predict(X_test)\n"
   ]
  },
  {
   "cell_type": "code",
   "execution_count": null,
   "metadata": {
    "colab": {
     "base_uri": "https://localhost:8080/"
    },
    "executionInfo": {
     "elapsed": 14,
     "status": "ok",
     "timestamp": 1629969068318,
     "user": {
      "displayName": "Ivan Fernandes",
      "photoUrl": "https://lh3.googleusercontent.com/a-/AOh14GgHdj66drQjCguTVvVzCd5yy8cdMluPJPZlz_BQLg=s64",
      "userId": "12100132160237129013"
     },
     "user_tz": -120
    },
    "id": "abi96XmrTOa-",
    "outputId": "d96a92dc-04ec-4680-b3a2-ed4c39f13817"
   },
   "outputs": [],
   "source": [
    "len(predictions), len(y_test)"
   ]
  },
  {
   "cell_type": "code",
   "execution_count": null,
   "metadata": {
    "colab": {
     "base_uri": "https://localhost:8080/"
    },
    "executionInfo": {
     "elapsed": 11,
     "status": "ok",
     "timestamp": 1629969068318,
     "user": {
      "displayName": "Ivan Fernandes",
      "photoUrl": "https://lh3.googleusercontent.com/a-/AOh14GgHdj66drQjCguTVvVzCd5yy8cdMluPJPZlz_BQLg=s64",
      "userId": "12100132160237129013"
     },
     "user_tz": -120
    },
    "id": "WbG_o9xrTOa-",
    "outputId": "586ea1e0-d0c1-400e-88fd-b45f46966093"
   },
   "outputs": [],
   "source": [
    "predictions[0:3]"
   ]
  },
  {
   "cell_type": "code",
   "execution_count": null,
   "metadata": {},
   "outputs": [],
   "source": [
    "y_test_unscaled = y_test * range1 + min1"
   ]
  },
  {
   "cell_type": "code",
   "execution_count": null,
   "metadata": {},
   "outputs": [],
   "source": [
    "predictions_unscaled = predictions * range1 + min1"
   ]
  },
  {
   "cell_type": "code",
   "execution_count": null,
   "metadata": {},
   "outputs": [],
   "source": [
    "predictions_unscaled[0:3]"
   ]
  },
  {
   "cell_type": "markdown",
   "metadata": {
    "id": "bN_vtDyWTOa-"
   },
   "source": [
    "The operation computed during a `MinMaxScaler` Operation is:\n",
    "\n",
    "$$x_{scaled} = \\frac{x - x_{min}}{x_{max}- x_{min}}$$\n",
    "\n",
    "To descale it:\n",
    "\n",
    "$$x = x_{scaled} * (x_{max}- x_{min}) + x_{min}$$\n",
    "\n",
    "Or use the `inverse_transform` directly provided..."
   ]
  },
  {
   "cell_type": "code",
   "execution_count": null,
   "metadata": {},
   "outputs": [],
   "source": [
    "X_test.shape"
   ]
  },
  {
   "cell_type": "code",
   "execution_count": null,
   "metadata": {},
   "outputs": [],
   "source": [
    "predictions.shape"
   ]
  },
  {
   "cell_type": "code",
   "execution_count": null,
   "metadata": {},
   "outputs": [],
   "source": [
    "pred = pd.DataFrame(predictions_unscaled, columns = ['pred_1','pred_2','pred_3','pred_4']) #,'pred_5','pred_6'\n",
    "test = pd.DataFrame(y_test_unscaled, columns = ['test_1','test_2','test_3', 'test_4']) #,'test_5','test_6'\n",
    "result = pd.concat([pred, test], axis=1)"
   ]
  },
  {
   "cell_type": "code",
   "execution_count": null,
   "metadata": {},
   "outputs": [],
   "source": [
    "result"
   ]
  },
  {
   "cell_type": "code",
   "execution_count": null,
   "metadata": {},
   "outputs": [],
   "source": [
    "for i in range(1,5):\n",
    "    result[f'weight_{i}'] = np.mean(result[f'test_{i}'] - result[f'pred_{i}'])"
   ]
  },
  {
   "cell_type": "code",
   "execution_count": null,
   "metadata": {},
   "outputs": [],
   "source": [
    "result"
   ]
  },
  {
   "cell_type": "code",
   "execution_count": null,
   "metadata": {},
   "outputs": [],
   "source": [
    "for i in range(1,5):\n",
    "    result[f'pred_weight_{i}'] = result[f'pred_{i}'] + result[f'weight_{i}']"
   ]
  },
  {
   "cell_type": "code",
   "execution_count": null,
   "metadata": {},
   "outputs": [],
   "source": [
    "# for col in ['pred_1','pred_2','pred_3','test_1','test_2','test_3']"
   ]
  },
  {
   "cell_type": "code",
   "execution_count": null,
   "metadata": {},
   "outputs": [],
   "source": [
    "# mae_1 = np.mean(np.abs(result['test_1'] - result['pred_1']))\n",
    "# mae_2 = np.mean(np.abs(result['test_2'] - result['pred_2']))\n",
    "# mae_3 = np.mean(np.abs(result['test_3'] - result['pred_3']))\n",
    "# mae_4 = np.mean(np.abs(result['test_4'] - result['pred_4']))"
   ]
  },
  {
   "cell_type": "code",
   "execution_count": null,
   "metadata": {},
   "outputs": [],
   "source": [
    "# #log_data\n",
    "mae_1 = np.mean(np.abs(np.exp(result['test_1']) - np.exp(result['pred_1'])))\n",
    "mae_2 = np.mean(np.abs(np.exp(result['test_2']) - np.exp(result['pred_2'])))\n",
    "mae_3 = np.mean(np.abs(np.exp(result['test_3']) - np.exp(result['pred_3'])))\n",
    "mae_4 = np.mean(np.abs(np.exp(result['test_4']) - np.exp(result['pred_4'])))\n",
    "# #mae_5 = np.mean(np.abs(np.exp(result['test_5']) - np.exp(result['pred_5'])))\n",
    "# #mae_6 = np.mean(np.abs(np.exp(result['test_6']) - np.exp(result['pred_6'])))"
   ]
  },
  {
   "cell_type": "code",
   "execution_count": null,
   "metadata": {},
   "outputs": [],
   "source": [
    "# np.exp(result['weight_1'].mean())"
   ]
  },
  {
   "cell_type": "code",
   "execution_count": null,
   "metadata": {},
   "outputs": [],
   "source": [
    "print(mae_1)\n",
    "print(mae_2)\n",
    "print(mae_3)\n",
    "print(mae_4)"
   ]
  },
  {
   "cell_type": "code",
   "execution_count": null,
   "metadata": {},
   "outputs": [],
   "source": [
    "np.mean([mae_1,mae_2,mae_3,mae_4])"
   ]
  },
  {
   "cell_type": "code",
   "execution_count": null,
   "metadata": {},
   "outputs": [],
   "source": [
    "mae = np.mean(np.abs(y_test_unscaled[:,0] - predictions_unscaled[:,0]))\n",
    "mae"
   ]
  },
  {
   "cell_type": "code",
   "execution_count": null,
   "metadata": {},
   "outputs": [],
   "source": [
    "np.mean(np.abs((y_test_unscaled - predictions_unscaled) / y_test_unscaled)) *100"
   ]
  },
  {
   "cell_type": "code",
   "execution_count": null,
   "metadata": {},
   "outputs": [],
   "source": [
    "# df =pd.DataFrame()\n",
    "# df['y_test'] = pd.DataFrame(y_test_unscaled).apply(lambda x: np.exp(x))\n",
    "# df['pred'] = pd.DataFrame(predictions_unscaled).apply(lambda x: np.exp(x))\n",
    "# df['diff'] = df['y_test'] - df['pred']"
   ]
  },
  {
   "cell_type": "code",
   "execution_count": null,
   "metadata": {},
   "outputs": [],
   "source": [
    "# np.mean(np.abs(df['diff']))"
   ]
  },
  {
   "cell_type": "code",
   "execution_count": null,
   "metadata": {},
   "outputs": [],
   "source": [
    "plt.figure(figsize=(15,9))\n",
    "plt.plot(result[['test_1', 'pred_1', 'pred_weight_1']][-100:], label=[\"test\", \"pred\", \"pred_weight\"])\n",
    "plt.legend()\n",
    "plt.show()\n"
   ]
  },
  {
   "cell_type": "code",
   "execution_count": null,
   "metadata": {},
   "outputs": [],
   "source": [
    "fig, axs = plt.subplots(2,2,figsize=(15,15))\n",
    "axs[0,0].plot(result[['test_1', 'pred_1', 'pred_weight_1']][-100:], label=[\"test\", \"pred\", \"pred_weight\"])\n",
    "axs[0,1].plot(result[['test_2', 'pred_2', 'pred_weight_2']][-100:], label=[\"test\", \"pred\", \"pred_weight\"])\n",
    "axs[1,0].plot(result[['test_3', 'pred_3', 'pred_weight_3']][-100:], label=[\"test\", \"pred\", \"pred_weight\"])\n",
    "axs[1,1].plot(result[['test_4', 'pred_4', 'pred_weight_4']][-100:], label=[\"test\", \"pred\", \"pred_weight\"])\n",
    "\n",
    "plt.legend()\n",
    "plt.show()\n"
   ]
  },
  {
   "cell_type": "markdown",
   "metadata": {},
   "source": [
    "# PREDICTION WITH COINGECKO!!!"
   ]
  },
  {
   "cell_type": "code",
   "execution_count": null,
   "metadata": {},
   "outputs": [],
   "source": [
    "gecko_api = get_coingecko()"
   ]
  },
  {
   "cell_type": "code",
   "execution_count": null,
   "metadata": {},
   "outputs": [],
   "source": [
    "coingecko = feature_engineer(gecko_api)\n",
    "coingecko['perc_bb'] = (coingecko.log_close - coingecko.bollinger_down) / (coingecko.bollinger_up - coingecko.bollinger_down)\n",
    "coingecko = coingecko[selected_features][-160:]"
   ]
  },
  {
   "cell_type": "code",
   "execution_count": null,
   "metadata": {},
   "outputs": [],
   "source": [
    "x_gecko_scaled = minmax_scaler.transform(coingecko)"
   ]
  },
  {
   "cell_type": "code",
   "execution_count": null,
   "metadata": {},
   "outputs": [],
   "source": [
    "# x_gecko_subsequences = []\n",
    "# for k in range(len(x_gecko_scaled)-(window_size-1)-horizon):\n",
    "#     x_gecko_subsequences.append(x_gecko_scaled[k:k+window_size])"
   ]
  },
  {
   "cell_type": "code",
   "execution_count": null,
   "metadata": {},
   "outputs": [],
   "source": [
    "# x_gecko = np.array(x_gecko_subsequences)"
   ]
  },
  {
   "cell_type": "code",
   "execution_count": null,
   "metadata": {},
   "outputs": [],
   "source": [
    "x_gecko_scaled.shape"
   ]
  },
  {
   "cell_type": "code",
   "execution_count": null,
   "metadata": {},
   "outputs": [],
   "source": [
    "x_gecko = x_gecko_scaled[-window_size:]"
   ]
  },
  {
   "cell_type": "code",
   "execution_count": null,
   "metadata": {},
   "outputs": [],
   "source": [
    "x_gecko.shape"
   ]
  },
  {
   "cell_type": "code",
   "execution_count": null,
   "metadata": {},
   "outputs": [],
   "source": [
    "x_gecko = np.array(x_gecko).reshape(-1,window_size,len(selected_features))"
   ]
  },
  {
   "cell_type": "code",
   "execution_count": null,
   "metadata": {},
   "outputs": [],
   "source": [
    "x_gecko.shape"
   ]
  },
  {
   "cell_type": "code",
   "execution_count": null,
   "metadata": {},
   "outputs": [],
   "source": [
    "pred_gecko = model.predict(x_gecko)"
   ]
  },
  {
   "cell_type": "code",
   "execution_count": null,
   "metadata": {},
   "outputs": [],
   "source": [
    "pred_gecko_unscaled = pred_gecko * range1 + min1"
   ]
  },
  {
   "cell_type": "code",
   "execution_count": null,
   "metadata": {},
   "outputs": [],
   "source": [
    "pred_gecko_unscaled"
   ]
  },
  {
   "cell_type": "code",
   "execution_count": null,
   "metadata": {},
   "outputs": [],
   "source": [
    "#weighted prediction"
   ]
  },
  {
   "cell_type": "code",
   "execution_count": null,
   "metadata": {},
   "outputs": [],
   "source": [
    "weighted_pred = []\n",
    "for i in range(0,4):\n",
    "    weighted_pred.append(np.exp(pred_gecko_unscaled[0][i] + result[f'weight_{i+1}'].mean()))"
   ]
  },
  {
   "cell_type": "code",
   "execution_count": null,
   "metadata": {},
   "outputs": [],
   "source": [
    "weighted_pred"
   ]
  },
  {
   "cell_type": "code",
   "execution_count": null,
   "metadata": {},
   "outputs": [],
   "source": [
    "#add mae\n",
    "mae_1\n",
    "mae_2\n",
    "mae_3\n",
    "mae_4"
   ]
  },
  {
   "cell_type": "code",
   "execution_count": null,
   "metadata": {},
   "outputs": [],
   "source": [
    "mae_list = [mae_1, mae_2, mae_3, mae_4]\n",
    "preds = list(np.exp(pred_gecko_unscaled[0]))"
   ]
  },
  {
   "cell_type": "code",
   "execution_count": null,
   "metadata": {},
   "outputs": [],
   "source": [
    "preds_with_mae = [a+b for a,b in zip(mae_list, preds)]"
   ]
  },
  {
   "cell_type": "code",
   "execution_count": null,
   "metadata": {},
   "outputs": [],
   "source": [
    "preds_with_mae"
   ]
  },
  {
   "cell_type": "code",
   "execution_count": null,
   "metadata": {},
   "outputs": [],
   "source": [
    "#pred_weighted = pred_gecko_unscaled[0][0] + weight"
   ]
  },
  {
   "cell_type": "code",
   "execution_count": null,
   "metadata": {},
   "outputs": [],
   "source": [
    "#np.exp(pred_weighted)"
   ]
  },
  {
   "cell_type": "code",
   "execution_count": null,
   "metadata": {},
   "outputs": [],
   "source": [
    "np.exp(pred_gecko_unscaled)"
   ]
  },
  {
   "cell_type": "code",
   "execution_count": null,
   "metadata": {},
   "outputs": [],
   "source": [
    "##########"
   ]
  },
  {
   "cell_type": "code",
   "execution_count": null,
   "metadata": {},
   "outputs": [],
   "source": [
    "pred_weighted = pred_gecko_unscaled + weight"
   ]
  },
  {
   "cell_type": "code",
   "execution_count": null,
   "metadata": {},
   "outputs": [],
   "source": []
  },
  {
   "cell_type": "code",
   "execution_count": null,
   "metadata": {},
   "outputs": [],
   "source": [
    "df = coingecko[[CLOSE]].reset_index(drop=True).apply(lambda x: np.exp(x))"
   ]
  },
  {
   "cell_type": "code",
   "execution_count": null,
   "metadata": {},
   "outputs": [],
   "source": [
    "#df1 = pd.DataFrame(pred_gecko_unscaled.reshape(4,1),columns=[CLOSE]).apply(lambda x: np.exp(x))"
   ]
  },
  {
   "cell_type": "code",
   "execution_count": null,
   "metadata": {},
   "outputs": [],
   "source": [
    "#df1 = pd.DataFrame(weighted_pred.reshape(4,1),columns=[CLOSE]).apply(lambda x: np.exp(x))"
   ]
  },
  {
   "cell_type": "code",
   "execution_count": null,
   "metadata": {},
   "outputs": [],
   "source": [
    "df1 = pd.DataFrame(np.array(weighted_pred).reshape(4,1),columns=[CLOSE])"
   ]
  },
  {
   "cell_type": "code",
   "execution_count": null,
   "metadata": {},
   "outputs": [],
   "source": [
    "#df1 = pd.DataFrame(np.array(preds_with_mae).reshape(4,1),columns=[CLOSE])"
   ]
  },
  {
   "cell_type": "code",
   "execution_count": null,
   "metadata": {},
   "outputs": [],
   "source": [
    "df2 = pd.concat([df,df1],axis=0).reset_index(drop=True)\n",
    "df2"
   ]
  },
  {
   "cell_type": "code",
   "execution_count": null,
   "metadata": {},
   "outputs": [],
   "source": [
    "plt.plot(df2[120:160])\n",
    "plt.plot(df2[159:])\n"
   ]
  },
  {
   "cell_type": "code",
   "execution_count": null,
   "metadata": {},
   "outputs": [],
   "source": [
    "from tensorflow.keras.models import save_model\n",
    "save_model(model, 'tensorflowmodel')"
   ]
  },
  {
   "cell_type": "code",
   "execution_count": null,
   "metadata": {},
   "outputs": [],
   "source": []
  },
  {
   "cell_type": "code",
   "execution_count": null,
   "metadata": {},
   "outputs": [],
   "source": []
  },
  {
   "cell_type": "code",
   "execution_count": null,
   "metadata": {},
   "outputs": [],
   "source": []
  },
  {
   "cell_type": "code",
   "execution_count": null,
   "metadata": {},
   "outputs": [],
   "source": []
  },
  {
   "cell_type": "code",
   "execution_count": null,
   "metadata": {},
   "outputs": [],
   "source": [
    "x_gecko_scaled\n",
    "x_gecko_subsequences = []\n",
    "for k in range(len(x_gecko_scaled)-(window_size-1)-horizon):\n",
    "    x_gecko_subsequences.append(x_gecko_scaled[k:k+window_size])"
   ]
  },
  {
   "cell_type": "code",
   "execution_count": null,
   "metadata": {},
   "outputs": [],
   "source": []
  },
  {
   "cell_type": "code",
   "execution_count": null,
   "metadata": {},
   "outputs": [],
   "source": []
  },
  {
   "cell_type": "code",
   "execution_count": null,
   "metadata": {},
   "outputs": [],
   "source": []
  },
  {
   "cell_type": "code",
   "execution_count": null,
   "metadata": {},
   "outputs": [],
   "source": []
  },
  {
   "cell_type": "code",
   "execution_count": null,
   "metadata": {},
   "outputs": [],
   "source": [
    "#x_gecko = np.array(x_gecko)\n",
    "x_gecko = np.reshape(x_gecko, (-1,window_size,len(selected_features))) #[-horizon:,:,:]\n",
    "\n",
    "x_gecko.shape"
   ]
  },
  {
   "cell_type": "code",
   "execution_count": null,
   "metadata": {},
   "outputs": [],
   "source": [
    "predictions = model.predict(x_gecko)\n",
    "\n",
    "predictions"
   ]
  },
  {
   "cell_type": "code",
   "execution_count": null,
   "metadata": {},
   "outputs": [],
   "source": [
    "predictions_unscaled = predictions * range1 + min1"
   ]
  },
  {
   "cell_type": "code",
   "execution_count": null,
   "metadata": {},
   "outputs": [],
   "source": [
    "#np.exp(predictions_unscaled)"
   ]
  },
  {
   "cell_type": "code",
   "execution_count": null,
   "metadata": {},
   "outputs": [],
   "source": [
    "from datetime import datetime\n",
    "dateTimeObj = datetime.now()\n",
    "print(dateTimeObj)"
   ]
  },
  {
   "cell_type": "code",
   "execution_count": null,
   "metadata": {},
   "outputs": [],
   "source": [
    "close = pd.DataFrame(coingecko.close[-10:].reset_index().drop(columns='index'))"
   ]
  },
  {
   "cell_type": "code",
   "execution_count": null,
   "metadata": {},
   "outputs": [],
   "source": [
    "close"
   ]
  },
  {
   "cell_type": "code",
   "execution_count": null,
   "metadata": {},
   "outputs": [],
   "source": [
    "for i in range(len(close),len(close) + horizon):\n",
    "    print(i)"
   ]
  },
  {
   "cell_type": "code",
   "execution_count": null,
   "metadata": {},
   "outputs": [],
   "source": [
    "pred = pd.DataFrame(np.exp(predictions_unscaled), columns = ['close']).set_index(pd.Index(range(len(close),len(close) + horizon)))"
   ]
  },
  {
   "cell_type": "code",
   "execution_count": null,
   "metadata": {},
   "outputs": [],
   "source": [
    "df = pd.DataFrame(np.exp(predictions_unscaled), columns = ['pred'])\n",
    "df['gecko'] = coingecko['log_close']\n",
    "df"
   ]
  },
  {
   "cell_type": "code",
   "execution_count": null,
   "metadata": {},
   "outputs": [],
   "source": [
    "plt.plot(close)\n",
    "plt.plot(pred)"
   ]
  },
  {
   "cell_type": "code",
   "execution_count": null,
   "metadata": {},
   "outputs": [],
   "source": [
    "plt.plot(coingecko['close'][-20:])\n",
    "plt.plot(predictions_unscaled)"
   ]
  },
  {
   "cell_type": "code",
   "execution_count": null,
   "metadata": {},
   "outputs": [],
   "source": []
  },
  {
   "cell_type": "code",
   "execution_count": null,
   "metadata": {},
   "outputs": [],
   "source": [
    "#from tensorflow.keras.models import save_model\n",
    "#save_model(model, 'tensorflowmodel')"
   ]
  }
 ],
 "metadata": {
  "colab": {
   "collapsed_sections": [],
   "name": "BTC pred.ipynb",
   "provenance": [],
   "toc_visible": true
  },
  "kernelspec": {
   "display_name": "Python 3 (ipykernel)",
   "language": "python",
   "name": "python3"
  },
  "language_info": {
   "codemirror_mode": {
    "name": "ipython",
    "version": 3
   },
   "file_extension": ".py",
   "mimetype": "text/x-python",
   "name": "python",
   "nbconvert_exporter": "python",
   "pygments_lexer": "ipython3",
   "version": "3.8.6"
  },
  "toc": {
   "base_numbering": 1,
   "nav_menu": {},
   "number_sections": true,
   "sideBar": true,
   "skip_h1_title": true,
   "title_cell": "Table of Contents",
   "title_sidebar": "Contents",
   "toc_cell": false,
   "toc_position": {
    "height": "calc(100% - 180px)",
    "left": "10px",
    "top": "150px",
    "width": "316.8px"
   },
   "toc_section_display": true,
   "toc_window_display": false
  },
  "varInspector": {
   "cols": {
    "lenName": 16,
    "lenType": 16,
    "lenVar": 40
   },
   "kernels_config": {
    "python": {
     "delete_cmd_postfix": "",
     "delete_cmd_prefix": "del ",
     "library": "var_list.py",
     "varRefreshCmd": "print(var_dic_list())"
    },
    "r": {
     "delete_cmd_postfix": ") ",
     "delete_cmd_prefix": "rm(",
     "library": "var_list.r",
     "varRefreshCmd": "cat(var_dic_list()) "
    }
   },
   "types_to_exclude": [
    "module",
    "function",
    "builtin_function_or_method",
    "instance",
    "_Feature"
   ],
   "window_display": false
  }
 },
 "nbformat": 4,
 "nbformat_minor": 1
}
